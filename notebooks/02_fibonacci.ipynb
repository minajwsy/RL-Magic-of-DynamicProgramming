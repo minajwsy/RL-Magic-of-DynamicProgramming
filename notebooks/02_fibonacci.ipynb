{
 "cells": [
  {
   "cell_type": "markdown",
   "metadata": {},
   "source": [
    "# Lesson 1: Fibonacci Numbers <a class=\"tocSkip\">"
   ]
  },
  {
   "cell_type": "markdown",
   "metadata": {},
   "source": [
    "It's common to begin the study of dynamic programming using [Fibonacci numbers](https://en.wikipedia.org/wiki/Fibonacci_number) as an example. This is because they are literally a textbook example of transforming a recursive, top-down algorithm into an iterative, bottom-up one.\n",
    "\n",
    "However, unlike the the 'sum of n numbers' and 'palindrome' problems we explored previously, there is real motivation to make this transformation."
   ]
  },
  {
   "cell_type": "markdown",
   "metadata": {},
   "source": [
    "## Find the n'th Fibonacci number\n",
    "\n",
    "Fibonacci numbers form a series defined by a recurrence formula. In _our_ implementation, we'll start the Fibonacci series at n = 1:\n",
    "\n",
    "$$fib(1) = 1$$\n",
    "$$fib(2) = 1$$\n",
    "$$and~then~for~every~n > 2:F_{n} = F_{n-1} + F_{n-2}$$\n",
    "\n",
    "This gives us a series starting at n=1 that looks like this: $$1, 1, 2, 3, 5,8 ,13, 21, 34, 55, ...$$\n",
    "\n",
    "In the quizzes and analysis below, you'll see why it's convenient that we start at 1 (and not the usual mathematical definition that begins with 0)."
   ]
  },
  {
   "cell_type": "code",
   "execution_count": 1,
   "metadata": {
    "hide_input": true,
    "jupyter": {
     "source_hidden": true
    }
   },
   "outputs": [
    {
     "data": {
      "image/jpeg": "[encoded data removed]",
      "text/html": [
       "\n",
       "        <iframe\n",
       "            width=\"400\"\n",
       "            height=\"300\"\n",
       "            src=\"https://www.youtube.com/embed/0jMoTRxQ52k\"\n",
       "            frameborder=\"0\"\n",
       "            allowfullscreen\n",
       "        ></iframe>\n",
       "        "
      ],
      "text/plain": [
       "<IPython.lib.display.YouTubeVideo at 0x2825bb87cc8>"
      ]
     },
     "execution_count": 1,
     "metadata": {},
     "output_type": "execute_result"
    }
   ],
   "source": [
    "from IPython.display import YouTubeVideo\n",
    "YouTubeVideo('0jMoTRxQ52k')"
   ]
  },
  {
   "cell_type": "markdown",
   "metadata": {},
   "source": [
    "Let's first code up the naive recursive implementation of finding the n'th Fibonacci number."
   ]
  },
  {
   "cell_type": "code",
   "execution_count": 2,
   "metadata": {},
   "outputs": [],
   "source": [
    "def fib(n):\n",
    "    \n",
    "    ##############\n",
    "    # YOUR CODE ##\n",
    "    ##############\n",
    "    \n",
    "    return 0"
   ]
  },
  {
   "cell_type": "code",
   "execution_count": 3,
   "metadata": {},
   "outputs": [],
   "source": [
    "#### unit tests #####\n",
    "\n",
    "# assert(fib(0) == 1)\n",
    "# assert(fib(1) == 1)\n",
    "# assert(fib(2) == 1)\n",
    "# assert(fib(10) == 55)"
   ]
  },
  {
   "cell_type": "markdown",
   "metadata": {},
   "source": [
    "In the following exercise use the magic %timeit command to see how long a call to fib takes."
   ]
  },
  {
   "cell_type": "code",
   "execution_count": 4,
   "metadata": {},
   "outputs": [
    {
     "name": "stdout",
     "output_type": "stream",
     "text": [
      "56.1 ns ± 1.61 ns per loop (mean ± std. dev. of 7 runs, 10000000 loops each)\n"
     ]
    }
   ],
   "source": [
    "%timeit fib(10)"
   ]
  },
  {
   "cell_type": "markdown",
   "metadata": {},
   "source": [
    "<div class=\"alert alert-warning\">\n",
    "The next cell may take some time to run. ☕ You can interrupt the notebook kernel if you run out of patience ...\n",
    "</div>"
   ]
  },
  {
   "cell_type": "code",
   "execution_count": 5,
   "metadata": {},
   "outputs": [
    {
     "name": "stdout",
     "output_type": "stream",
     "text": [
      "55.4 ns ± 2.08 ns per loop (mean ± std. dev. of 7 runs, 10000000 loops each)\n"
     ]
    }
   ],
   "source": [
    "%timeit fib(40)"
   ]
  },
  {
   "cell_type": "markdown",
   "metadata": {},
   "source": [
    "### Time complexity of the naive Fibonacci algorithm\n",
    "Let's explore how many inner nodes and leaves the call stack tree of fib(n) has. The point of this excercise is to get a feel for the running time complexity and also to get very comfortable with the call stacks of recursive functions. I suggest you work out the following quizzes on a piece of paper."
   ]
  },
  {
   "cell_type": "markdown",
   "metadata": {},
   "source": [
    "The inner nodes are all themselves call trees of fib(n-k) where k runs from 0 to n-3. For example, if we're counting up the inner nodes of fib(8), we want to know how many calls there were to fib(8), fib(7), fib(6), fib(5), fib(4) and fib(3)."
   ]
  },
  {
   "cell_type": "code",
   "execution_count": 6,
   "metadata": {
    "hide_input": false,
    "jupyter": {
     "source_hidden": true
    }
   },
   "outputs": [
    {
     "data": {
      "application/vnd.jupyter.widget-view+json": {
       "model_id": "eee721ffce46442c91fa44a12916f2a9",
       "version_major": 2,
       "version_minor": 0
      },
      "text/plain": [
       "VBox(box_style='info', children=(HBox(children=(Label(value='Given k between 0 and n - 3, how many nodes of ty…"
      ]
     },
     "metadata": {},
     "output_type": "display_data"
    }
   ],
   "source": [
    "%run quizzes/quiz.py quizzes/02/fibonacci_n_minus_k.json"
   ]
  },
  {
   "cell_type": "markdown",
   "metadata": {
    "hide_input": false
   },
   "source": [
    "Now add up all those sub-trees to get the general formula for the number of **inner nodes** in the fib(n) call tree"
   ]
  },
  {
   "cell_type": "code",
   "execution_count": 7,
   "metadata": {
    "hide_input": true,
    "jupyter": {
     "source_hidden": true
    }
   },
   "outputs": [
    {
     "data": {
      "application/vnd.jupyter.widget-view+json": {
       "model_id": "1e80d11682b94ab7b393188b418eb32b",
       "version_major": 2,
       "version_minor": 0
      },
      "text/plain": [
       "VBox(box_style='info', children=(HBox(children=(Label(value='How many inner nodes does the call tree of fib(n)…"
      ]
     },
     "metadata": {},
     "output_type": "display_data"
    }
   ],
   "source": [
    "%run quizzes/quiz.py quizzes/02/fibonacci_inner_nodes.json"
   ]
  },
  {
   "cell_type": "markdown",
   "metadata": {},
   "source": [
    "Now we'll get a general formula for the number of leaves, starting with a small example where n = 8. Remember that our base cases are when n = 1 and n = 2, so we'll count up the calls to fib(1) and fib(2)."
   ]
  },
  {
   "cell_type": "code",
   "execution_count": 8,
   "metadata": {
    "hide_input": false,
    "jupyter": {
     "source_hidden": true
    }
   },
   "outputs": [
    {
     "data": {
      "application/vnd.jupyter.widget-view+json": {
       "model_id": "839033e3c664436a8b38341549903692",
       "version_major": 2,
       "version_minor": 0
      },
      "text/plain": [
       "VBox(box_style='info', children=(HBox(children=(Label(value='Fill in the blanks with a whole number.', layout=…"
      ]
     },
     "metadata": {},
     "output_type": "display_data"
    }
   ],
   "source": [
    "%run quizzes/quiz.py quizzes/02/fibonacci_1_and_2.json"
   ]
  },
  {
   "cell_type": "markdown",
   "metadata": {
    "hide_input": false
   },
   "source": [
    "As you can see from the exercises above, the recursive algorithm for finding the n'th Fibonacci number mostly spends its time calculating and recalculating the Fibonacci numbers of the numbers preceding n. Every leaf in the call stack tree adds 1 to the time complexity of this algorithm - how many leaves does this tree have exactly?"
   ]
  },
  {
   "cell_type": "code",
   "execution_count": 9,
   "metadata": {
    "jupyter": {
     "source_hidden": true
    }
   },
   "outputs": [
    {
     "data": {
      "application/vnd.jupyter.widget-view+json": {
       "model_id": "cb804202ba7c4518b406fc3300476f7a",
       "version_major": 2,
       "version_minor": 0
      },
      "text/plain": [
       "VBox(box_style='info', children=(HBox(children=(Label(value='Fill in the blank with regard to our implementati…"
      ]
     },
     "metadata": {},
     "output_type": "display_data"
    }
   ],
   "source": [
    "%run quizzes/quiz.py quizzes/02/fibonacci_leaves.json"
   ]
  },
  {
   "cell_type": "markdown",
   "metadata": {},
   "source": [
    "Well it's no wonder that the complexity of this algorithm grows exponentially - it grows just like the Fibonacci numbers themselves!"
   ]
  },
  {
   "cell_type": "markdown",
   "metadata": {},
   "source": [
    "\n",
    "## Fibonacci Revisited\n",
    "Now's the time to pull out your memoization skills and make our naive algorithm efficient by storing any calculations you already made."
   ]
  },
  {
   "cell_type": "markdown",
   "metadata": {},
   "source": [
    "### Memoize Fibonacci - without using a function decorator\n",
    "\n",
    "<div class=\"exercise exercise-info\">\n",
    "If you like, as an exercise, write a memoized version of fib(n) without using Python's decorator, i.e go ahead and make changes inside fib(n) itself. As a hint, I defined the function signature and unit tests for you."
   ]
  },
  {
   "cell_type": "code",
   "execution_count": 10,
   "metadata": {
    "pycharm": {
     "name": "#%%\n"
    }
   },
   "outputs": [],
   "source": [
    "def fib(n, memo):\n",
    "    \n",
    "    ##############\n",
    "    # YOUR CODE ##\n",
    "    ##############\n",
    "    \n",
    "    return 0\n",
    "    \n",
    "### unit tests ###\n",
    "#assert(fib(1, {}) == 1)\n",
    "#assert(fib(2, {}) == 1)\n",
    "#assert(fib(3, {}) == 2)\n",
    "#assert(fib(4, {}) == 3)\n",
    "#assert(fib(5, {}) == 5)\n",
    "#assert(fib(6, {}) == 8)"
   ]
  },
  {
   "cell_type": "markdown",
   "metadata": {},
   "source": [
    "### Memoize Fibonacci - a more elegant way\n",
    "\n",
    "<div class=\"exercise exercise-info\">\n",
    "Use the same function we used to decorate 'factorial' in the previous lesson. \n",
    "<hr>\n",
    "This time, since we didn't change our original function, we also don't need to change our tests! (that was the whole point of using Python's function decorators)"
   ]
  },
  {
   "cell_type": "code",
   "execution_count": 11,
   "metadata": {
    "pycharm": {
     "name": "#%%\n"
    }
   },
   "outputs": [],
   "source": [
    "def memoize(f):\n",
    "    ##############\n",
    "    # YOUR CODE ##\n",
    "    ##############\n",
    "    return 0\n",
    "    \n",
    "@memoize\n",
    "def fib(n):\n",
    "    ##############\n",
    "    # YOUR CODE ##\n",
    "    ##############\n",
    "    return 0\n",
    "    \n",
    "#unit tests\n",
    "#assert(fib(1) == 1)\n",
    "#assert(fib(2) == 1)\n",
    "#assert(fib(6) == 8)"
   ]
  },
  {
   "cell_type": "markdown",
   "metadata": {},
   "source": [
    "<div class=\"exercise exercise-info\">\n",
    "After testing, use the magic command %time to profile this implementation. If you use %%timeit you'll get a more accurate time, but it will take longer since %%timeit runs your function a few times.\n",
    "</div>    "
   ]
  },
  {
   "cell_type": "code",
   "execution_count": 12,
   "metadata": {
    "pycharm": {
     "name": "#%%\n"
    }
   },
   "outputs": [],
   "source": [
    "# %time fib(36)"
   ]
  },
  {
   "cell_type": "code",
   "execution_count": null,
   "metadata": {
    "pycharm": {
     "name": "#%%\n"
    }
   },
   "outputs": [],
   "source": [
    "### Memoize Fibonacci - using _constant_ space instead of linear space\n",
    "One problem with our memoized version is that the storage is also linear, so as n gets large, you'll be using O(n) space to store all the previous solutions. Since each Fibonacci number is the sum of the previous two, you actually only need _two_ places of storage as you iterate.\n",
    "\n",
    "Write an implementation to find the n'th Fibonacci number, **without** using a memo dictionary. Use only two storage variables."
   ]
  },
  {
   "cell_type": "code",
   "execution_count": 13,
   "metadata": {
    "pycharm": {
     "name": "#%%\n"
    }
   },
   "outputs": [],
   "source": [
    "# Only use two storage variables\n",
    "\n",
    "def fib(n):\n",
    "    ##############\n",
    "    # YOUR CODE ##\n",
    "    ##############\n",
    "    return 0"
   ]
  },
  {
   "cell_type": "markdown",
   "metadata": {},
   "source": [
    "### Memoize Fibonacci - and convert the algorithm to iterative and bottom up\n",
    "Using a Python decorator function, memoize AND convert fib(n) to an efficient AND iterative solution.\n",
    "\n",
    "**Hint 1:** The decorator function is almost identical to the memoize function we used for factorial and fib(n) above. The only difference is that you want to prevent recursion from happening and instead iterate starting from 1.\n",
    "\n",
    "**Hint 2:** Pay attention to the case where n = 0. The function should return 1 and you'll need to initialize the memo dictionary for this case to be handled correctly."
   ]
  },
  {
   "cell_type": "code",
   "execution_count": 14,
   "metadata": {},
   "outputs": [],
   "source": [
    "def iterate(f):\n",
    "    ##############\n",
    "    # YOUR CODE ##\n",
    "    ##############\n",
    "    return 0\n",
    "    \n",
    "@iterate\n",
    "def fib(n):\n",
    "    ##############\n",
    "    # YOUR CODE ##\n",
    "    ##############\n",
    "    return 0\n",
    "    \n",
    "#### unit tests ###\n",
    "#assert(fib(0) == 1)\n",
    "#assert(fib(1) == 1)\n",
    "#assert(fib(2) == 1)\n",
    "#assert(fib(6) == 8)"
   ]
  },
  {
   "cell_type": "markdown",
   "metadata": {},
   "source": [
    "<div class=\"exercise exercise-info\">\n",
    "If you haven't done so already, add some logging (prints) to your solution to see how the algorithm grows the memo dictionary.\n",
    "</div>    "
   ]
  },
  {
   "cell_type": "markdown",
   "metadata": {},
   "source": [
    "## Solutions\n",
    "Given a whole number n, all these implementations calculate the n'th Fibonacci number."
   ]
  },
  {
   "cell_type": "markdown",
   "metadata": {},
   "source": [
    "### Recursive solutions\n",
    "These solutions show the top-down approach."
   ]
  },
  {
   "cell_type": "markdown",
   "metadata": {
    "solution2": "hidden"
   },
   "source": [
    "<div class=\"exercise exercise-warning\"><details><summary>Naive fibonacci, runs in exponential time ...</summary>\n",
    "\n",
    "    \n",
    "```python    \n",
    "    # %load solutions/02/fibonacci_n.py\n",
    "    def fib(n):\n",
    "\n",
    "        if (n <= 2):\n",
    "            return 1\n",
    "\n",
    "        return (fib(n - 1) + fib(n - 2))\n",
    "```\n",
    "\n",
    "</details>"
   ]
  },
  {
   "cell_type": "markdown",
   "metadata": {
    "solution2": "hidden"
   },
   "source": [
    "<div class=\"exercise exercise-warning\"><details><summary>Recursive fibonacci memoized by changing function (no decorator)</summary>\n",
    "\n",
    "    \n",
    "```python    \n",
    "    # %load solutions/02/fibonacci_memo.py\n",
    "    def fib(n, memo):\n",
    "        if n in memo:\n",
    "            return memo[n]\n",
    "        if n <= 2:\n",
    "            f = 1\n",
    "        else:\n",
    "            f = fib(n-1, memo) + fib(n-2, memo)\n",
    "        memo[n] = f\n",
    "        return memo[n]\n",
    "\n",
    "    ### unit tests ###\n",
    "    #assert(fib(1, {}) == 1)\n",
    "    #assert(fib(2, {}) == 1)\n",
    "    #assert(fib(3, {}) == 2)\n",
    "    #assert(fib(4, {}) == 3)\n",
    "    #assert(fib(5, {}) == 5)\n",
    "    #assert(fib(6, {}) == 8)\n",
    "```\n",
    "\n",
    "</details>"
   ]
  },
  {
   "cell_type": "markdown",
   "metadata": {
    "solution2": "hidden"
   },
   "source": [
    "<div class=\"exercise exercise-warning\"><details><summary>Recursive fibonacci, memoized</summary>\n",
    "\n",
    "    \n",
    "```python    \n",
    "    # %load solutions/02/fibonacci_memo_decorated.py\n",
    "    def memoize(f):\n",
    "        memo = {}\n",
    "\n",
    "        def helper(n):\n",
    "            if n not in memo:\n",
    "                memo[n] = f(n)\n",
    "            return memo[n]\n",
    "\n",
    "        return helper\n",
    "\n",
    "    @memoize\n",
    "    def fib(n):\n",
    "        if n <= 2:\n",
    "            return 1\n",
    "        return fib(n - 1) + fib(n - 2)\n",
    "\n",
    "    #assert(fib(1) == 1)\n",
    "    #assert(fib(2) == 1)\n",
    "    #assert(fib(6) == 8)\n",
    "```\n",
    "\n",
    "</details>"
   ]
  },
  {
   "cell_type": "markdown",
   "metadata": {},
   "source": [
    "### Iterative solutions\n",
    "These solutions exemplify the bottom-up approach."
   ]
  },
  {
   "cell_type": "markdown",
   "metadata": {
    "solution2": "hidden"
   },
   "source": [
    "<div class=\"exercise exercise-warning\"><details><summary>Iterative fibonacci that uses <em>linear</em> storage (with decorator)</summary>\n",
    "\n",
    "    \n",
    "```python    \n",
    "    # %load solutions/02/fibonacci_iterative_decorated.py\n",
    "    def iterate(f):\n",
    "        memo = {0:0}\n",
    "\n",
    "        def helper(n):\n",
    "            # print ('helper called for ', n)\n",
    "            if n not in memo:\n",
    "                for k in range(1, n + 1):\n",
    "                    memo[k] = f(k)\n",
    "            # print(memo)\n",
    "            return memo[n]\n",
    "        return helper\n",
    "\n",
    "    @iterate\n",
    "    def fib(n):\n",
    "        if n <= 2:\n",
    "            return 1\n",
    "        return fib(n - 1) + fib(n - 2)\n",
    "\n",
    "    #unit tests\n",
    "    #assert(fib(0) == 1)\n",
    "    #assert(fib(1) == 1)\n",
    "    #assert(fib(2) == 1)\n",
    "    #assert(fib(6) == 8)\n",
    "```\n",
    "\n",
    "</details>"
   ]
  },
  {
   "cell_type": "markdown",
   "metadata": {
    "pycharm": {
     "name": "#%%\n"
    },
    "solution2": "hidden"
   },
   "source": [
    "<div class=\"exercise exercise-warning\"><details><summary>Iterative fibonacci that uses <em>constant</em> space (no decorator)</summary>\n",
    "\n",
    "    \n",
    "```python    \n",
    "    # %load solutions/02/fibonacci_tiny_memo.py\n",
    "    def fib(n):\n",
    "        f, next_total = 1, 1\n",
    "        for i in range(n-1):\n",
    "            f, next_total = next_total, next_total + f\n",
    "        return f\n",
    "\n",
    "    #assert(fib(1) == 1)\n",
    "    #assert(fib(2) == 1)\n",
    "    #assert(fib(6) == 8)\n",
    "```\n",
    "\n",
    "</details>"
   ]
  },
  {
   "cell_type": "markdown",
   "metadata": {
    "solution2": "hidden"
   },
   "source": [
    "<div class=\"exercise exercise-warning\"><details><summary>Iterative fibonacci  <em>constant</em> space (with decorator)</summary>\n",
    "\n",
    "    \n",
    "```python    \n",
    "    # %load solutions/02/fibonacci_tiny_memo_decorated.py\n",
    "    # TODO\n",
    "\n",
    "    #assert(fib(1) == 1)\n",
    "    #assert(fib(2) == 1)\n",
    "    #assert(fib(6) == 8)\n",
    "```\n",
    "</details>\n"
   ]
  },
  {
   "cell_type": "markdown",
   "metadata": {},
   "source": [
    "## References\n",
    "\n",
    "1. Andres, F. (n.d.). functional programming—What do you call a function where the same input will always return the same output, but also has side effects? Software Engineering Stack Exchange. Retrieved July 9, 2020, from https://softwareengineering.stackexchange.com/a/317249\n",
    "\n",
    "2. Forišek, M. (2015). Towards a better way to teach dynamic programming. Olympiads in Informatics, 9, 45–55.\n",
    "\n",
    "3. Klein, B. (n.d.). Python Tutorial: Memoization and Decorators. Python Course. Retrieved June 17, 2020, from https://www.python-course.eu/python3_memoization.php"
   ]
  },
  {
   "cell_type": "code",
   "execution_count": 15,
   "metadata": {
    "deletable": false,
    "editable": false
   },
   "outputs": [
    {
     "data": {
      "text/html": [
       "<style>\n",
       "    .alert {\n",
       "      padding: 15px;\n",
       "      margin-bottom: 20px;\n",
       "      border: 1px solid transparent;\n",
       "      border-radius: 4px;\n",
       "    }\n",
       "\n",
       "    .alert h4 {\n",
       "      margin-top: 0;\n",
       "      color: inherit;\n",
       "    }\n",
       "\n",
       "    .alert .alert-link {\n",
       "      font-weight: bold;\n",
       "    }\n",
       "\n",
       "    .alert > p,\n",
       "    .alert > ul {\n",
       "      margin-bottom: 0;\n",
       "    }\n",
       "\n",
       "    .alert > p + p {\n",
       "      margin-top: 5px;\n",
       "    }\n",
       "\n",
       "    .alert-dismissable,\n",
       "    .alert-dismissible {\n",
       "      padding-right: 35px;\n",
       "    }\n",
       "\n",
       "    .alert-dismissable .close,\n",
       "    .alert-dismissible .close {\n",
       "      position: relative;\n",
       "      top: -2px;\n",
       "      right: -21px;\n",
       "      color: inherit;\n",
       "    }\n",
       "\n",
       "    .alert-success {\n",
       "      background-color: #C8E6C9;\n",
       "      border-color: #81C784;\n",
       "      color: #388E3C;\n",
       "    }\n",
       "\n",
       "    .alert-success hr {\n",
       "      border-top-color: #AED581;\n",
       "    }\n",
       "\n",
       "    .alert-success .alert-link {\n",
       "      color: #2E7D32;\n",
       "    }\n",
       "\n",
       "    .alert-info {\n",
       "      background-color: #B2EBF2;\n",
       "      border-color: #4DD0E1;\n",
       "      color: #0097A7;\n",
       "    }\n",
       "\n",
       "    .alert-info hr {\n",
       "      border-top-color: #00838F;\n",
       "    }\n",
       "\n",
       "    .alert-info .alert-link {\n",
       "      color: #245269;\n",
       "    }\n",
       "\n",
       "    .alert-warning {\n",
       "      background-color: #FFE0B2;\n",
       "      border-color: #FFB74D;\n",
       "      color: #F57C00;\n",
       "    }\n",
       "\n",
       "    .alert-warning hr {\n",
       "      border-top-color: #FFB74D;\n",
       "    }\n",
       "\n",
       "    .alert-warning .alert-link {\n",
       "      color: #EF6C00;\n",
       "    }\n",
       "\n",
       "    .alert-danger {\n",
       "      background-color: #ffcdd2;\n",
       "      border-color: #e57373;\n",
       "      color: #d32f2f;\n",
       "    }\n",
       "\n",
       "    .alert-danger hr {\n",
       "      border-top-color: #d32f2f;\n",
       "    }\n",
       "\n",
       "    .alert-danger .alert-link {\n",
       "      color: #c62828;\n",
       "    }\n",
       "    \n",
       "\n",
       "    .exercise {\n",
       "      padding: 15px;\n",
       "      margin-bottom: 20px;\n",
       "      border: 1px solid transparent;\n",
       "      border-radius: 4px;\n",
       "    }\n",
       "\n",
       "    .exercise h4 {\n",
       "      margin-top: 0;\n",
       "      color: inherit;\n",
       "    }\n",
       "\n",
       "    .exercise .alert-link {\n",
       "      font-weight: bold;\n",
       "    }\n",
       "\n",
       "    .exercise > p,\n",
       "    .exercise > ul {\n",
       "      margin-bottom: 0;\n",
       "    }\n",
       "\n",
       "    .exercise > p + p {\n",
       "      margin-top: 5px;\n",
       "    }\n",
       "\n",
       "    .exercise-info {\n",
       "      background-color: #B2EBF2;\n",
       "      border-color: #4DD0E1;\n",
       "      color: #000000;\n",
       "    }\n",
       "\n",
       "    .exercise-info hr {\n",
       "      border-top-color: #00838F;\n",
       "    }\n",
       "\n",
       "    .exercise-info .alert-link {\n",
       "      color: #245269;\n",
       "    }\n",
       "\n",
       "   .exercise-warning {\n",
       "      background-color: #FFE0B2;\n",
       "      border-color: #FFB74D;\n",
       "      color: #000000;\n",
       "    }\n",
       "\n",
       "    .exercise-warning hr {\n",
       "      border-top-color: #FFB74D;\n",
       "    }\n",
       "\n",
       "    .excercise-warning .alert-link {\n",
       "      color: #EF6C00;\n",
       "    }\n",
       "\n",
       "\n",
       "</style>\n"
      ],
      "text/plain": [
       "<IPython.core.display.HTML object>"
      ]
     },
     "execution_count": 15,
     "metadata": {},
     "output_type": "execute_result"
    }
   ],
   "source": [
    "# workaround for known ipywidget issue not rendering alert style colours on Jupyter lab\n",
    "from IPython.core.display import HTML\n",
    "HTML(open(\"../styles/custom.css\", \"r\").read())"
   ]
  }
 ],
 "metadata": {
  "kernelspec": {
   "display_name": "Python 3",
   "language": "python",
   "name": "python3"
  },
  "language_info": {
   "codemirror_mode": {
    "name": "ipython",
    "version": 3
   },
   "file_extension": ".py",
   "mimetype": "text/x-python",
   "name": "python",
   "nbconvert_exporter": "python",
   "pygments_lexer": "ipython3",
   "version": "3.7.6"
  },
  "latex_envs": {
   "LaTeX_envs_menu_present": true,
   "autoclose": false,
   "autocomplete": true,
   "bibliofile": "biblio.bib",
   "cite_by": "apalike",
   "current_citInitial": 1,
   "eqLabelWithNumbers": true,
   "eqNumInitial": 1,
   "hotkeys": {
    "equation": "Ctrl-E",
    "itemize": "Ctrl-I"
   },
   "labels_anchors": false,
   "latex_user_defs": false,
   "report_style_numbering": false,
   "user_envs_cfg": false
  },
  "toc": {
   "base_numbering": "",
   "nav_menu": {},
   "number_sections": false,
   "sideBar": true,
   "skip_h1_title": false,
   "title_cell": "Table of Contents",
   "title_sidebar": "Contents",
   "toc_cell": false,
   "toc_position": {
    "height": "calc(100% - 180px)",
    "left": "10px",
    "top": "150px",
    "width": "222.042px"
   },
   "toc_section_display": true,
   "toc_window_display": true
  },
  "widgets": {
   "application/vnd.jupyter.widget-state+json": {
    "state": {
     "02ee81840e9440c29838c3bd817151e9": {
      "model_module": "@jupyter-widgets/controls",
      "model_module_version": "1.5.0",
      "model_name": "DescriptionStyleModel",
      "state": {
       "description_width": ""
      }
     },
     "057d6f6aac084a0ebb6a0c51209256c0": {
      "model_module": "@jupyter-widgets/controls",
      "model_module_version": "1.5.0",
      "model_name": "DescriptionStyleModel",
      "state": {
       "description_width": ""
      }
     },
     "05e07a672858435aa83877993e6525b7": {
      "model_module": "@jupyter-widgets/controls",
      "model_module_version": "1.5.0",
      "model_name": "HBoxModel",
      "state": {
       "children": [
        "IPY_MODEL_2708f154c3de49959345d20076d39eb4",
        "IPY_MODEL_54979057437742fb92c60ee49f3eaf5f",
        "IPY_MODEL_b190e15843c84e5fbb3c1b0055122dba"
       ],
       "layout": "IPY_MODEL_aadf4dc90cea4504ba88f8d22de28595"
      }
     },
     "061cc787751348bb80952bbcd8b6e69a": {
      "model_module": "@jupyter-widgets/base",
      "model_module_version": "1.2.0",
      "model_name": "LayoutModel",
      "state": {
       "display": "flex",
       "flex_flow": "row",
       "justify_content": "space-between"
      }
     },
     "063e842568b248ef86c091a8db90c3ce": {
      "model_module": "@jupyter-widgets/controls",
      "model_module_version": "1.5.0",
      "model_name": "ButtonModel",
      "state": {
       "description": "Submit",
       "layout": "IPY_MODEL_eba00164c65c4869a81ad8250ac1ff69",
       "style": "IPY_MODEL_63d9593589e14b60a545d0e662ad2330"
      }
     },
     "06a777bccad54507976d6c95648fb825": {
      "model_module": "@jupyter-widgets/base",
      "model_module_version": "1.2.0",
      "model_name": "LayoutModel",
      "state": {
       "height": "50%",
       "margin": "0 0 0 30px",
       "width": "50%"
      }
     },
     "0846f26475ea47a684b4d390177b248c": {
      "model_module": "@jupyter-widgets/base",
      "model_module_version": "1.2.0",
      "model_name": "LayoutModel",
      "state": {
       "align_items": "stretch",
       "display": "flex",
       "flex_flow": "column",
       "width": "100%"
      }
     },
     "08775682d2594f6d9562f9715a243561": {
      "model_module": "@jupyter-widgets/base",
      "model_module_version": "1.2.0",
      "model_name": "LayoutModel",
      "state": {
       "width": "30px"
      }
     },
     "092111833a4d45a293296169f7332fb5": {
      "model_module": "@jupyter-widgets/controls",
      "model_module_version": "1.5.0",
      "model_name": "DescriptionStyleModel",
      "state": {
       "description_width": ""
      }
     },
     "09daeafb1df549cf8be2a33e15b1514e": {
      "model_module": "@jupyter-widgets/controls",
      "model_module_version": "1.5.0",
      "model_name": "HBoxModel",
      "state": {
       "children": [
        "IPY_MODEL_063e842568b248ef86c091a8db90c3ce",
        "IPY_MODEL_61a636dd6c424c0b88db9c0cd57d109d",
        "IPY_MODEL_594eac8db0d143beb419bcd102fa7167"
       ],
       "layout": "IPY_MODEL_e43bc66a37404e1b9610a79ec34aedec"
      }
     },
     "0b3dc2f1187d4e6b990885fe30809c54": {
      "model_module": "@jupyter-widgets/controls",
      "model_module_version": "1.5.0",
      "model_name": "DescriptionStyleModel",
      "state": {
       "description_width": ""
      }
     },
     "0cd7abd9d0af490e973c32f5d7c99508": {
      "model_module": "@jupyter-widgets/base",
      "model_module_version": "1.2.0",
      "model_name": "LayoutModel",
      "state": {
       "align_items": "stretch",
       "display": "flex",
       "flex_flow": "column",
       "width": "100%"
      }
     },
     "0f9ca56149584b6cb2450339dfab7b2b": {
      "model_module": "@jupyter-widgets/controls",
      "model_module_version": "1.5.0",
      "model_name": "LabelModel",
      "state": {
       "layout": "IPY_MODEL_06a777bccad54507976d6c95648fb825",
       "style": "IPY_MODEL_947b2f4144f1450d95ae88d0f0b3772f"
      }
     },
     "0ff9755ba61745c88bb7044746a3d2b7": {
      "model_module": "@jupyter-widgets/controls",
      "model_module_version": "1.5.0",
      "model_name": "HBoxModel",
      "state": {
       "children": [
        "IPY_MODEL_3b4777f6c8994991a7f4a0d2b64cc606",
        "IPY_MODEL_dbb7270c0b6c47f5ac454a9aac42da70"
       ],
       "layout": "IPY_MODEL_dafa0666ec044452856b7b7ca5c7ac11"
      }
     },
     "106a185ed659463eaebc10af2d0bbfbc": {
      "model_module": "@jupyter-widgets/base",
      "model_module_version": "1.2.0",
      "model_name": "LayoutModel",
      "state": {
       "align_items": "stretch",
       "display": "flex",
       "flex_flow": "row wrap",
       "margin": "30px 0 0 0"
      }
     },
     "14078b835eb746c6baecb43a1c1ba6a8": {
      "model_module": "@jupyter-widgets/base",
      "model_module_version": "1.2.0",
      "model_name": "LayoutModel",
      "state": {
       "align_items": "stretch",
       "display": "flex",
       "flex_flow": "row wrap",
       "width": "auto"
      }
     },
     "1495045f130c44f1ac2ea937c545ff9e": {
      "model_module": "@jupyter-widgets/base",
      "model_module_version": "1.2.0",
      "model_name": "LayoutModel",
      "state": {
       "width": "auto"
      }
     },
     "1560cffe7bc749c594fe2e6e25b39c6a": {
      "model_module": "@jupyter-widgets/base",
      "model_module_version": "1.2.0",
      "model_name": "LayoutModel",
      "state": {
       "align_items": "stretch",
       "display": "flex",
       "flex_flow": "row wrap",
       "width": "auto"
      }
     },
     "197da04f22c540e7afa0a696100602ab": {
      "model_module": "@jupyter-widgets/base",
      "model_module_version": "1.2.0",
      "model_name": "LayoutModel",
      "state": {}
     },
     "19be82574cbb4ce2ae551ae289038339": {
      "model_module": "@jupyter-widgets/controls",
      "model_module_version": "1.5.0",
      "model_name": "LabelModel",
      "state": {
       "layout": "IPY_MODEL_6b13e47dd5464293a4bce51ab2a6ebfa",
       "style": "IPY_MODEL_a8a10b6e40604889a667458bce6ede04",
       "value": "fib(k)"
      }
     },
     "19c7daafb3fc462d90dbfd43e14f03e0": {
      "model_module": "@jupyter-widgets/base",
      "model_module_version": "1.2.0",
      "model_name": "LayoutModel",
      "state": {
       "width": "auto"
      }
     },
     "1c80ae5cadad474daab862cef434c420": {
      "model_module": "@jupyter-widgets/base",
      "model_module_version": "1.2.0",
      "model_name": "LayoutModel",
      "state": {
       "align_items": "stretch",
       "display": "flex",
       "flex_flow": "row wrap",
       "width": "auto"
      }
     },
     "1e20bc810d3841b292f58e36adb0de17": {
      "model_module": "@jupyter-widgets/controls",
      "model_module_version": "1.5.0",
      "model_name": "HBoxModel",
      "state": {
       "children": [
        "IPY_MODEL_e10baa29848049d58d2fc7e256f8f2e7",
        "IPY_MODEL_ede4e522719046d8824305ff6310617b",
        "IPY_MODEL_868d5078efe44eb6904528497577a910"
       ],
       "layout": "IPY_MODEL_6dad64c624b445cc90a996d11aaabd11"
      }
     },
     "1e80d11682b94ab7b393188b418eb32b": {
      "model_module": "@jupyter-widgets/controls",
      "model_module_version": "1.5.0",
      "model_name": "VBoxModel",
      "state": {
       "box_style": "info",
       "children": [
        "IPY_MODEL_a05a3ff441ff4097b7b27117d81557d1",
        "IPY_MODEL_e6a0043b8a1a411a8b59bf40d58ef393",
        "IPY_MODEL_5c3aef20cd9348c9b48859b1651fc137"
       ],
       "layout": "IPY_MODEL_9436c450d88c4537b0661810783e0662"
      }
     },
     "1e8643b80f90484fb66da4e225579f21": {
      "model_module": "@jupyter-widgets/base",
      "model_module_version": "1.2.0",
      "model_name": "LayoutModel",
      "state": {
       "width": "auto"
      }
     },
     "1ff06843655749a7b105215eb52fb9a0": {
      "model_module": "@jupyter-widgets/base",
      "model_module_version": "1.2.0",
      "model_name": "LayoutModel",
      "state": {
       "align_items": "stretch",
       "display": "flex",
       "flex_flow": "row wrap",
       "width": "auto"
      }
     },
     "22249fcedb7048a194ba7521889a09c5": {
      "model_module": "@jupyter-widgets/controls",
      "model_module_version": "1.5.0",
      "model_name": "LabelModel",
      "state": {
       "layout": "IPY_MODEL_563676fe1db842a695e449f595be2258",
       "style": "IPY_MODEL_057d6f6aac084a0ebb6a0c51209256c0",
       "value": "Fill in the blank with regard to our implementation of fib(n)"
      }
     },
     "22865063d71046f481828e8dd55d5b02": {
      "model_module": "@jupyter-widgets/controls",
      "model_module_version": "1.5.0",
      "model_name": "CheckboxModel",
      "state": {
       "disabled": false,
       "layout": "IPY_MODEL_411b59dd791a417d9b8366e6d2874220",
       "style": "IPY_MODEL_841d8017b3f64fbcba32944f27a5a138",
       "value": false
      }
     },
     "233e33c891c14d7aba727bfc2b24b550": {
      "model_module": "@jupyter-widgets/controls",
      "model_module_version": "1.5.0",
      "model_name": "DescriptionStyleModel",
      "state": {
       "description_width": ""
      }
     },
     "24cbaed8cf754644846896d31ff31a87": {
      "model_module": "@jupyter-widgets/base",
      "model_module_version": "1.2.0",
      "model_name": "LayoutModel",
      "state": {
       "width": "auto"
      }
     },
     "25df5df872754e849dc9aa3e14a9d75e": {
      "model_module": "@jupyter-widgets/base",
      "model_module_version": "1.2.0",
      "model_name": "LayoutModel",
      "state": {
       "align_items": "stretch",
       "display": "flex",
       "flex_flow": "row wrap",
       "width": "auto"
      }
     },
     "2708f154c3de49959345d20076d39eb4": {
      "model_module": "@jupyter-widgets/controls",
      "model_module_version": "1.5.0",
      "model_name": "LabelModel",
      "state": {
       "layout": "IPY_MODEL_9f9d9aa269a94ba9acfd2d1c8c722ddb",
       "style": "IPY_MODEL_0b3dc2f1187d4e6b990885fe30809c54",
       "value": "When calculating the 8th Fibonacci number, fib(2) is called"
      }
     },
     "28ce6624f1ab4974a3bd78ea2b765168": {
      "model_module": "@jupyter-widgets/controls",
      "model_module_version": "1.5.0",
      "model_name": "DescriptionStyleModel",
      "state": {
       "description_width": ""
      }
     },
     "2bef18b4e77b497fa90437d00511c2fa": {
      "model_module": "@jupyter-widgets/controls",
      "model_module_version": "1.5.0",
      "model_name": "DescriptionStyleModel",
      "state": {
       "description_width": ""
      }
     },
     "2d8109da1d5244df847677cdd03a3b99": {
      "model_module": "@jupyter-widgets/controls",
      "model_module_version": "1.5.0",
      "model_name": "DescriptionStyleModel",
      "state": {
       "description_width": ""
      }
     },
     "33e4999e5b554bd2b9b46bb60bb5e3d1": {
      "model_module": "@jupyter-widgets/controls",
      "model_module_version": "1.5.0",
      "model_name": "ButtonStyleModel",
      "state": {
       "button_color": "#4DD0E1"
      }
     },
     "343286a6c0134971955b4d79cdf9c3a6": {
      "model_module": "@jupyter-widgets/controls",
      "model_module_version": "1.5.0",
      "model_name": "LabelModel",
      "state": {
       "layout": "IPY_MODEL_8594e3c9927b4e69b4da9ab0f4a13a8f",
       "style": "IPY_MODEL_5eadb55d4d72425581553f3dc04006cf"
      }
     },
     "38ff20dde96a4e4fa1ff425adcb4b6e1": {
      "model_module": "@jupyter-widgets/controls",
      "model_module_version": "1.5.0",
      "model_name": "HBoxModel",
      "state": {
       "children": [
        "IPY_MODEL_858c52b63ee54177867cf512c7303e02",
        "IPY_MODEL_423334d54d7842bf9942f385e2a3f8df"
       ],
       "layout": "IPY_MODEL_65c0458afeac4362af17a321e49ed331"
      }
     },
     "39a60338d8f941c29cd331ceada81850": {
      "model_module": "@jupyter-widgets/controls",
      "model_module_version": "1.5.0",
      "model_name": "HBoxModel",
      "state": {
       "children": [
        "IPY_MODEL_9f250922c85146ad9c22354d4313d15d",
        "IPY_MODEL_fd158a22be07463887d693d71b4fb714"
       ],
       "layout": "IPY_MODEL_94791553abc04f629b378253fe1a737a"
      }
     },
     "3b4777f6c8994991a7f4a0d2b64cc606": {
      "model_module": "@jupyter-widgets/controls",
      "model_module_version": "1.5.0",
      "model_name": "LabelModel",
      "state": {
       "layout": "IPY_MODEL_7e18740077864f0ea1734ad962458856",
       "style": "IPY_MODEL_cb8376fb132b42bf990fa611567e1919"
      }
     },
     "3f06b2ee9d974dfc892a3958956bd0e7": {
      "model_module": "@jupyter-widgets/controls",
      "model_module_version": "1.5.0",
      "model_name": "LabelModel",
      "state": {
       "layout": "IPY_MODEL_59b1fb9d79294c9e881a859482b12ff8",
       "style": "IPY_MODEL_4b8c054f136a48d98c0fb4a5fea05269",
       "value": "leaves."
      }
     },
     "3fab53b3fcba4168b271142addf0f428": {
      "model_module": "@jupyter-widgets/base",
      "model_module_version": "1.2.0",
      "model_name": "LayoutModel",
      "state": {}
     },
     "411b59dd791a417d9b8366e6d2874220": {
      "model_module": "@jupyter-widgets/base",
      "model_module_version": "1.2.0",
      "model_name": "LayoutModel",
      "state": {
       "width": "30px"
      }
     },
     "423334d54d7842bf9942f385e2a3f8df": {
      "model_module": "@jupyter-widgets/controls",
      "model_module_version": "1.5.0",
      "model_name": "LabelModel",
      "state": {
       "layout": "IPY_MODEL_a30012d92f294240a6eeb721cd7bf5c3",
       "style": "IPY_MODEL_f8a7da3706464811921d05636d255900",
       "value": "fib(n - k)"
      }
     },
     "42f304186d03431ab822b3678111a3d4": {
      "model_module": "@jupyter-widgets/base",
      "model_module_version": "1.2.0",
      "model_name": "LayoutModel",
      "state": {
       "align_items": "stretch",
       "display": "flex",
       "flex_flow": "row wrap",
       "width": "auto"
      }
     },
     "470a225dd397475288f1c95c663630ce": {
      "model_module": "@jupyter-widgets/controls",
      "model_module_version": "1.5.0",
      "model_name": "LabelModel",
      "state": {
       "layout": "IPY_MODEL_d6df64db7bc9407f98d7b37a3473e3be",
       "style": "IPY_MODEL_73b67754587d44afb19ecbd52798c240"
      }
     },
     "47b8f96b09334f70bb16fdd7ca7a7f37": {
      "model_module": "@jupyter-widgets/controls",
      "model_module_version": "1.5.0",
      "model_name": "DescriptionStyleModel",
      "state": {
       "description_width": "initial"
      }
     },
     "47e797aed44b4e07a7d214444b65cd7c": {
      "model_module": "@jupyter-widgets/controls",
      "model_module_version": "1.5.0",
      "model_name": "DescriptionStyleModel",
      "state": {
       "description_width": ""
      }
     },
     "4a5a4413f7aa4793889689070340c9c8": {
      "model_module": "@jupyter-widgets/controls",
      "model_module_version": "1.5.0",
      "model_name": "DescriptionStyleModel",
      "state": {
       "description_width": ""
      }
     },
     "4b58ad9d7748493794a8dc1c381a70e0": {
      "model_module": "@jupyter-widgets/base",
      "model_module_version": "1.2.0",
      "model_name": "LayoutModel",
      "state": {
       "display": "none"
      }
     },
     "4b8c054f136a48d98c0fb4a5fea05269": {
      "model_module": "@jupyter-widgets/controls",
      "model_module_version": "1.5.0",
      "model_name": "DescriptionStyleModel",
      "state": {
       "description_width": ""
      }
     },
     "4be54633182247cfb7e02a0b95528a3d": {
      "model_module": "@jupyter-widgets/base",
      "model_module_version": "1.2.0",
      "model_name": "LayoutModel",
      "state": {}
     },
     "4d754bf9319e4004a75081fd057a920c": {
      "model_module": "@jupyter-widgets/base",
      "model_module_version": "1.2.0",
      "model_name": "LayoutModel",
      "state": {
       "width": "auto"
      }
     },
     "4ddec7263323455cb9131454b82cd189": {
      "model_module": "@jupyter-widgets/base",
      "model_module_version": "1.2.0",
      "model_name": "LayoutModel",
      "state": {
       "align_items": "stretch",
       "display": "flex",
       "flex_flow": "row wrap",
       "width": "auto"
      }
     },
     "4e0fb0b956b740b8920444538e2f10e7": {
      "model_module": "@jupyter-widgets/controls",
      "model_module_version": "1.5.0",
      "model_name": "ButtonModel",
      "state": {
       "description": "Show answer",
       "disabled": true,
       "layout": "IPY_MODEL_4b58ad9d7748493794a8dc1c381a70e0",
       "style": "IPY_MODEL_64d69e6e6aa141ce98079f6cd99ec875"
      }
     },
     "5320664119014f6c84a7ff9a312e726c": {
      "model_module": "@jupyter-widgets/base",
      "model_module_version": "1.2.0",
      "model_name": "LayoutModel",
      "state": {
       "align_items": "stretch",
       "display": "flex",
       "flex_flow": "row wrap",
       "width": "auto"
      }
     },
     "54979057437742fb92c60ee49f3eaf5f": {
      "model_module": "@jupyter-widgets/controls",
      "model_module_version": "1.5.0",
      "model_name": "TextModel",
      "state": {
       "layout": "IPY_MODEL_4d754bf9319e4004a75081fd057a920c",
       "placeholder": "",
       "style": "IPY_MODEL_7583ad0b3087470a862d628c7300e9a9"
      }
     },
     "54a98bf9907042cda5e36b489e52d0a6": {
      "model_module": "@jupyter-widgets/base",
      "model_module_version": "1.2.0",
      "model_name": "LayoutModel",
      "state": {
       "display": "none"
      }
     },
     "563676fe1db842a695e449f595be2258": {
      "model_module": "@jupyter-widgets/base",
      "model_module_version": "1.2.0",
      "model_name": "LayoutModel",
      "state": {
       "width": "auto"
      }
     },
     "56d3a681e035475a968dd9b4a25471ae": {
      "model_module": "@jupyter-widgets/controls",
      "model_module_version": "1.5.0",
      "model_name": "CheckboxModel",
      "state": {
       "disabled": false,
       "layout": "IPY_MODEL_eacb47f23d04460790f8d459eec25166",
       "style": "IPY_MODEL_740d794c41214b2c8a20c893fbbfe201",
       "value": false
      }
     },
     "56da72262624490dab1954ae3e627e63": {
      "model_module": "@jupyter-widgets/controls",
      "model_module_version": "1.5.0",
      "model_name": "HBoxModel",
      "state": {
       "children": [
        "IPY_MODEL_5b0b4e189c614aa3b33689f0ae1c0b22",
        "IPY_MODEL_e82c9b9140dd42eb95b2aff51af9cc4c"
       ],
       "layout": "IPY_MODEL_af2b333c71664c579fee0ad7aed2a247"
      }
     },
     "57d57b32f06646fda30407eb9e7eede2": {
      "model_module": "@jupyter-widgets/controls",
      "model_module_version": "1.5.0",
      "model_name": "HBoxModel",
      "state": {
       "children": [
        "IPY_MODEL_ce787ee07c6c431692da0073248a36d8"
       ],
       "layout": "IPY_MODEL_930962bea9d147c9aea23d7da1214074"
      }
     },
     "5949e4255a1c4e98acec345f03e70bbe": {
      "model_module": "@jupyter-widgets/base",
      "model_module_version": "1.2.0",
      "model_name": "LayoutModel",
      "state": {
       "width": "auto"
      }
     },
     "594eac8db0d143beb419bcd102fa7167": {
      "model_module": "@jupyter-widgets/controls",
      "model_module_version": "1.5.0",
      "model_name": "ButtonModel",
      "state": {
       "description": "Show answer",
       "disabled": true,
       "layout": "IPY_MODEL_7226b661411d4ec1b9e41bed0ad9a479",
       "style": "IPY_MODEL_d468c4c3ca5249d186b3bdb63dfc19a9"
      }
     },
     "5975634cb02645458870d664bca87f04": {
      "model_module": "@jupyter-widgets/controls",
      "model_module_version": "1.5.0",
      "model_name": "DescriptionStyleModel",
      "state": {
       "description_width": ""
      }
     },
     "59b1fb9d79294c9e881a859482b12ff8": {
      "model_module": "@jupyter-widgets/base",
      "model_module_version": "1.2.0",
      "model_name": "LayoutModel",
      "state": {
       "width": "auto"
      }
     },
     "5a51e7f1f20b48edbaeeb0b23b71690e": {
      "model_module": "@jupyter-widgets/controls",
      "model_module_version": "1.5.0",
      "model_name": "HBoxModel",
      "state": {
       "children": [
        "IPY_MODEL_56d3a681e035475a968dd9b4a25471ae",
        "IPY_MODEL_bb05cd5d5c9041df8004edce8a2c4939"
       ],
       "layout": "IPY_MODEL_1ff06843655749a7b105215eb52fb9a0"
      }
     },
     "5b0b4e189c614aa3b33689f0ae1c0b22": {
      "model_module": "@jupyter-widgets/controls",
      "model_module_version": "1.5.0",
      "model_name": "CheckboxModel",
      "state": {
       "disabled": false,
       "layout": "IPY_MODEL_d1caaa18e4b546389ef77d9f08f10c5c",
       "style": "IPY_MODEL_f497e17b53a64355ad7ecf738bab83c8",
       "value": false
      }
     },
     "5b198cbb3f4e4802a31413cb192eb657": {
      "model_module": "@jupyter-widgets/controls",
      "model_module_version": "1.5.0",
      "model_name": "DescriptionStyleModel",
      "state": {
       "description_width": ""
      }
     },
     "5c3aef20cd9348c9b48859b1651fc137": {
      "model_module": "@jupyter-widgets/controls",
      "model_module_version": "1.5.0",
      "model_name": "HBoxModel",
      "state": {
       "children": [
        "IPY_MODEL_f0ac95531de74cae8c5c9cbb2eb30654",
        "IPY_MODEL_0f9ca56149584b6cb2450339dfab7b2b",
        "IPY_MODEL_4e0fb0b956b740b8920444538e2f10e7"
       ],
       "layout": "IPY_MODEL_e418989df3284cb0b02b6eb308429377"
      }
     },
     "5eadb55d4d72425581553f3dc04006cf": {
      "model_module": "@jupyter-widgets/controls",
      "model_module_version": "1.5.0",
      "model_name": "DescriptionStyleModel",
      "state": {
       "description_width": ""
      }
     },
     "6100c38c838a477aaef7cabe1ff6f3eb": {
      "model_module": "@jupyter-widgets/base",
      "model_module_version": "1.2.0",
      "model_name": "LayoutModel",
      "state": {
       "width": "auto"
      }
     },
     "61a07dcc1ea749719c33ef417357fac1": {
      "model_module": "@jupyter-widgets/controls",
      "model_module_version": "1.5.0",
      "model_name": "DescriptionStyleModel",
      "state": {
       "description_width": ""
      }
     },
     "61a636dd6c424c0b88db9c0cd57d109d": {
      "model_module": "@jupyter-widgets/controls",
      "model_module_version": "1.5.0",
      "model_name": "LabelModel",
      "state": {
       "layout": "IPY_MODEL_d55c973bda7e4d038ce0c840c17ecf38",
       "style": "IPY_MODEL_5975634cb02645458870d664bca87f04"
      }
     },
     "62bb18e3c49c48ecb8d95d356952aac8": {
      "model_module": "@jupyter-widgets/base",
      "model_module_version": "1.2.0",
      "model_name": "LayoutModel",
      "state": {}
     },
     "635383e9e25e477a935463f401f6161e": {
      "model_module": "@jupyter-widgets/controls",
      "model_module_version": "1.5.0",
      "model_name": "DescriptionStyleModel",
      "state": {
       "description_width": "initial"
      }
     },
     "63d9593589e14b60a545d0e662ad2330": {
      "model_module": "@jupyter-widgets/controls",
      "model_module_version": "1.5.0",
      "model_name": "ButtonStyleModel",
      "state": {
       "button_color": "#4DD0E1"
      }
     },
     "64d69e6e6aa141ce98079f6cd99ec875": {
      "model_module": "@jupyter-widgets/controls",
      "model_module_version": "1.5.0",
      "model_name": "ButtonStyleModel",
      "state": {
       "button_color": "#4DD0E1"
      }
     },
     "65c0458afeac4362af17a321e49ed331": {
      "model_module": "@jupyter-widgets/base",
      "model_module_version": "1.2.0",
      "model_name": "LayoutModel",
      "state": {
       "align_items": "stretch",
       "display": "flex",
       "flex_flow": "row wrap",
       "width": "auto"
      }
     },
     "65d5ccd45387428ba63eec9562934ad1": {
      "model_module": "@jupyter-widgets/controls",
      "model_module_version": "1.5.0",
      "model_name": "LabelModel",
      "state": {
       "layout": "IPY_MODEL_a97f5d93bd5740698fa7897b47d6a3c1",
       "style": "IPY_MODEL_28ce6624f1ab4974a3bd78ea2b765168",
       "value": "fib(k) - 1"
      }
     },
     "65ddc7df82ac45c7b0ab8b00644acb48": {
      "model_module": "@jupyter-widgets/controls",
      "model_module_version": "1.5.0",
      "model_name": "LabelModel",
      "state": {
       "layout": "IPY_MODEL_a874d4bca31245e4b148f14b53a057b5",
       "style": "IPY_MODEL_e3037925a12c4a80a32ab36b07a356dd"
      }
     },
     "673455b3ebab4697b23cbcd1020967a1": {
      "model_module": "@jupyter-widgets/controls",
      "model_module_version": "1.5.0",
      "model_name": "CheckboxModel",
      "state": {
       "disabled": false,
       "layout": "IPY_MODEL_84e4cc90398d492ab655b1c0a5cd928a",
       "style": "IPY_MODEL_47b8f96b09334f70bb16fdd7ca7a7f37",
       "value": false
      }
     },
     "687aab421616466da2b96959284529b0": {
      "model_module": "@jupyter-widgets/controls",
      "model_module_version": "1.5.0",
      "model_name": "HBoxModel",
      "state": {
       "children": [
        "IPY_MODEL_9f669b02dfd44870b9d6c656d1990f3e",
        "IPY_MODEL_e92d27b0dfb54c1cb86aae2b07b2fe19"
       ],
       "layout": "IPY_MODEL_827ad5ae622548819e366de94613ba37"
      }
     },
     "6b13e47dd5464293a4bce51ab2a6ebfa": {
      "model_module": "@jupyter-widgets/base",
      "model_module_version": "1.2.0",
      "model_name": "LayoutModel",
      "state": {
       "width": "auto"
      }
     },
     "6bd1946f31094594a583b3919b4c2d85": {
      "model_module": "@jupyter-widgets/base",
      "model_module_version": "1.2.0",
      "model_name": "LayoutModel",
      "state": {
       "width": "30px"
      }
     },
     "6c106ebaf9db4d97972d6b901575a7c7": {
      "model_module": "@jupyter-widgets/controls",
      "model_module_version": "1.5.0",
      "model_name": "LabelModel",
      "state": {
       "layout": "IPY_MODEL_62bb18e3c49c48ecb8d95d356952aac8",
       "style": "IPY_MODEL_fa92c7da2434493cb9aa272ddcc99643"
      }
     },
     "6c226b4f90524abfbcd4ef6b473b9904": {
      "model_module": "@jupyter-widgets/base",
      "model_module_version": "1.2.0",
      "model_name": "LayoutModel",
      "state": {
       "width": "30px"
      }
     },
     "6cf533902e404a3c839e2cb8283c395a": {
      "model_module": "@jupyter-widgets/controls",
      "model_module_version": "1.5.0",
      "model_name": "LabelModel",
      "state": {
       "layout": "IPY_MODEL_a75643922ac845539bfa9375d509c0aa",
       "style": "IPY_MODEL_8717e732b9594b4a9d7f7938c8a2821e",
       "value": "times."
      }
     },
     "6dad64c624b445cc90a996d11aaabd11": {
      "model_module": "@jupyter-widgets/base",
      "model_module_version": "1.2.0",
      "model_name": "LayoutModel",
      "state": {
       "align_items": "stretch",
       "display": "flex",
       "flex_flow": "row wrap",
       "margin": "30px 0 0 0"
      }
     },
     "6e00ec0d461748db9e082303e2639ecc": {
      "model_module": "@jupyter-widgets/base",
      "model_module_version": "1.2.0",
      "model_name": "LayoutModel",
      "state": {
       "width": "auto"
      }
     },
     "7226b661411d4ec1b9e41bed0ad9a479": {
      "model_module": "@jupyter-widgets/base",
      "model_module_version": "1.2.0",
      "model_name": "LayoutModel",
      "state": {
       "display": "none"
      }
     },
     "728e0db237934a939843c54853edd5e4": {
      "model_module": "@jupyter-widgets/controls",
      "model_module_version": "1.5.0",
      "model_name": "DescriptionStyleModel",
      "state": {
       "description_width": "initial"
      }
     },
     "72cd46e02b844255b6d0b7518ded98da": {
      "model_module": "@jupyter-widgets/base",
      "model_module_version": "1.2.0",
      "model_name": "LayoutModel",
      "state": {
       "width": "auto"
      }
     },
     "72eb03dffe0d43cab94d341ad158afe8": {
      "model_module": "@jupyter-widgets/controls",
      "model_module_version": "1.5.0",
      "model_name": "HBoxModel",
      "state": {
       "children": [
        "IPY_MODEL_6c106ebaf9db4d97972d6b901575a7c7",
        "IPY_MODEL_5a51e7f1f20b48edbaeeb0b23b71690e"
       ],
       "layout": "IPY_MODEL_c63f74d822234879ab5d21cbb62d0fc4"
      }
     },
     "73b67754587d44afb19ecbd52798c240": {
      "model_module": "@jupyter-widgets/controls",
      "model_module_version": "1.5.0",
      "model_name": "DescriptionStyleModel",
      "state": {
       "description_width": ""
      }
     },
     "740d794c41214b2c8a20c893fbbfe201": {
      "model_module": "@jupyter-widgets/controls",
      "model_module_version": "1.5.0",
      "model_name": "DescriptionStyleModel",
      "state": {
       "description_width": "initial"
      }
     },
     "743a6ad397574ab48c1f9e7da528a833": {
      "model_module": "@jupyter-widgets/controls",
      "model_module_version": "1.5.0",
      "model_name": "HBoxModel",
      "state": {
       "children": [
        "IPY_MODEL_f474e7e98d5c4e3ba2ac3bc7efc54470",
        "IPY_MODEL_9012b2e2ffa64eb4880499198f89808a"
       ],
       "layout": "IPY_MODEL_d3ebf84f891c49c4b581fec3b7041feb"
      }
     },
     "7583ad0b3087470a862d628c7300e9a9": {
      "model_module": "@jupyter-widgets/controls",
      "model_module_version": "1.5.0",
      "model_name": "DescriptionStyleModel",
      "state": {
       "description_width": ""
      }
     },
     "79e338eb4c20474fae7de2409df11317": {
      "model_module": "@jupyter-widgets/base",
      "model_module_version": "1.2.0",
      "model_name": "LayoutModel",
      "state": {
       "align_items": "stretch",
       "display": "flex",
       "flex_flow": "column",
       "width": "100%"
      }
     },
     "7d4f52a981ac47d98bb9aac7c5ef89fb": {
      "model_module": "@jupyter-widgets/controls",
      "model_module_version": "1.5.0",
      "model_name": "HBoxModel",
      "state": {
       "children": [
        "IPY_MODEL_22865063d71046f481828e8dd55d5b02",
        "IPY_MODEL_f0422f2245754973a85e075b0cae5f9d"
       ],
       "layout": "IPY_MODEL_daa2bf78b2b24b39aa9b99fcc25e9d19"
      }
     },
     "7e18740077864f0ea1734ad962458856": {
      "model_module": "@jupyter-widgets/base",
      "model_module_version": "1.2.0",
      "model_name": "LayoutModel",
      "state": {}
     },
     "80cf3823537145ae8f34f7de45ac1e32": {
      "model_module": "@jupyter-widgets/controls",
      "model_module_version": "1.5.0",
      "model_name": "HBoxModel",
      "state": {
       "children": [
        "IPY_MODEL_ea73a3063b0044ee858148c41b8ca857",
        "IPY_MODEL_f56fb14a8280429ea8e94bbd4a8be993"
       ],
       "layout": "IPY_MODEL_5320664119014f6c84a7ff9a312e726c"
      }
     },
     "827ad5ae622548819e366de94613ba37": {
      "model_module": "@jupyter-widgets/base",
      "model_module_version": "1.2.0",
      "model_name": "LayoutModel",
      "state": {
       "align_items": "stretch",
       "display": "flex",
       "flex_flow": "row wrap",
       "width": "auto"
      }
     },
     "8356668d7bb04f058354457d5347b136": {
      "model_module": "@jupyter-widgets/base",
      "model_module_version": "1.2.0",
      "model_name": "LayoutModel",
      "state": {
       "align_items": "stretch",
       "display": "flex",
       "flex_flow": "column",
       "width": "100%"
      }
     },
     "839033e3c664436a8b38341549903692": {
      "model_module": "@jupyter-widgets/controls",
      "model_module_version": "1.5.0",
      "model_name": "VBoxModel",
      "state": {
       "box_style": "info",
       "children": [
        "IPY_MODEL_8adb7d32e07b482b97bbba80c62b58df",
        "IPY_MODEL_e81f8b745bd6492ca1c2dfd3968f2345",
        "IPY_MODEL_fd2cbfba3b32499f88456a1b2d6799ce"
       ],
       "layout": "IPY_MODEL_bc56c6d9fdd8481fa451a4fb0df3673b"
      }
     },
     "841d8017b3f64fbcba32944f27a5a138": {
      "model_module": "@jupyter-widgets/controls",
      "model_module_version": "1.5.0",
      "model_name": "DescriptionStyleModel",
      "state": {
       "description_width": "initial"
      }
     },
     "84e4cc90398d492ab655b1c0a5cd928a": {
      "model_module": "@jupyter-widgets/base",
      "model_module_version": "1.2.0",
      "model_name": "LayoutModel",
      "state": {
       "width": "30px"
      }
     },
     "858c52b63ee54177867cf512c7303e02": {
      "model_module": "@jupyter-widgets/controls",
      "model_module_version": "1.5.0",
      "model_name": "CheckboxModel",
      "state": {
       "disabled": false,
       "layout": "IPY_MODEL_6c226b4f90524abfbcd4ef6b473b9904",
       "style": "IPY_MODEL_f077cda753af42a3ad332f5a9185951b",
       "value": false
      }
     },
     "8594e3c9927b4e69b4da9ab0f4a13a8f": {
      "model_module": "@jupyter-widgets/base",
      "model_module_version": "1.2.0",
      "model_name": "LayoutModel",
      "state": {}
     },
     "868d5078efe44eb6904528497577a910": {
      "model_module": "@jupyter-widgets/controls",
      "model_module_version": "1.5.0",
      "model_name": "ButtonModel",
      "state": {
       "description": "Show answer",
       "disabled": true,
       "layout": "IPY_MODEL_54a98bf9907042cda5e36b489e52d0a6",
       "style": "IPY_MODEL_f7403a4cbf1340f089d64eff4962e15a"
      }
     },
     "8717e732b9594b4a9d7f7938c8a2821e": {
      "model_module": "@jupyter-widgets/controls",
      "model_module_version": "1.5.0",
      "model_name": "DescriptionStyleModel",
      "state": {
       "description_width": ""
      }
     },
     "8924f6d99b0d42c0a2f75850005ebc6e": {
      "model_module": "@jupyter-widgets/base",
      "model_module_version": "1.2.0",
      "model_name": "LayoutModel",
      "state": {
       "width": "auto"
      }
     },
     "89f78e87cf4b47c8b298533754baffd0": {
      "model_module": "@jupyter-widgets/base",
      "model_module_version": "1.2.0",
      "model_name": "LayoutModel",
      "state": {
       "display": "flex",
       "flex_flow": "row",
       "justify_content": "space-between"
      }
     },
     "8adb7d32e07b482b97bbba80c62b58df": {
      "model_module": "@jupyter-widgets/controls",
      "model_module_version": "1.5.0",
      "model_name": "HBoxModel",
      "state": {
       "children": [
        "IPY_MODEL_af523bef20b24187b847019a2b5fcf4f"
       ],
       "layout": "IPY_MODEL_aed40e15e3654ded8bca7c72dcd5d651"
      }
     },
     "8ccb1314f4a44b20b826360da5cad7d6": {
      "model_module": "@jupyter-widgets/controls",
      "model_module_version": "1.5.0",
      "model_name": "HBoxModel",
      "state": {
       "children": [
        "IPY_MODEL_ffdb59ff4df34260b816c43e0081d162",
        "IPY_MODEL_56da72262624490dab1954ae3e627e63"
       ],
       "layout": "IPY_MODEL_1560cffe7bc749c594fe2e6e25b39c6a"
      }
     },
     "9012b2e2ffa64eb4880499198f89808a": {
      "model_module": "@jupyter-widgets/controls",
      "model_module_version": "1.5.0",
      "model_name": "LabelModel",
      "state": {
       "layout": "IPY_MODEL_bcb98b92f82842b9a38d9f630f7fb85c",
       "style": "IPY_MODEL_47e797aed44b4e07a7d214444b65cd7c",
       "value": "fib(n - 1)"
      }
     },
     "90a9384136ff4b70839b1ff7e3ee856a": {
      "model_module": "@jupyter-widgets/controls",
      "model_module_version": "1.5.0",
      "model_name": "DescriptionStyleModel",
      "state": {
       "description_width": ""
      }
     },
     "92ce78abedb94c6faea13fb1a092060e": {
      "model_module": "@jupyter-widgets/controls",
      "model_module_version": "1.5.0",
      "model_name": "LabelModel",
      "state": {
       "layout": "IPY_MODEL_b8a0b42abf78403493aa492e2800f215",
       "style": "IPY_MODEL_b1cee2bfa3b9430c836e4efc0e395779",
       "value": "How many inner nodes does the call tree of fib(n) have?"
      }
     },
     "930962bea9d147c9aea23d7da1214074": {
      "model_module": "@jupyter-widgets/base",
      "model_module_version": "1.2.0",
      "model_name": "LayoutModel",
      "state": {
       "align_items": "stretch",
       "display": "flex",
       "flex_flow": "row wrap",
       "width": "auto"
      }
     },
     "935a95307fe24e528b62c99ec3279e06": {
      "model_module": "@jupyter-widgets/controls",
      "model_module_version": "1.5.0",
      "model_name": "LabelModel",
      "state": {
       "layout": "IPY_MODEL_a6ecaaf3c0394552aed06a94fca2ba7d",
       "style": "IPY_MODEL_fed2c103b4244bc58d45bcb5057c2761"
      }
     },
     "9436c450d88c4537b0661810783e0662": {
      "model_module": "@jupyter-widgets/base",
      "model_module_version": "1.2.0",
      "model_name": "LayoutModel",
      "state": {
       "align_items": "stretch",
       "display": "flex",
       "flex_flow": "column",
       "width": "100%"
      }
     },
     "94596ebb029145f69c127dbe0b87906a": {
      "model_module": "@jupyter-widgets/controls",
      "model_module_version": "1.5.0",
      "model_name": "HBoxModel",
      "state": {
       "children": [
        "IPY_MODEL_343286a6c0134971955b4d79cdf9c3a6",
        "IPY_MODEL_38ff20dde96a4e4fa1ff425adcb4b6e1"
       ],
       "layout": "IPY_MODEL_4ddec7263323455cb9131454b82cd189"
      }
     },
     "94791553abc04f629b378253fe1a737a": {
      "model_module": "@jupyter-widgets/base",
      "model_module_version": "1.2.0",
      "model_name": "LayoutModel",
      "state": {
       "align_items": "stretch",
       "display": "flex",
       "flex_flow": "row wrap",
       "width": "auto"
      }
     },
     "947b2f4144f1450d95ae88d0f0b3772f": {
      "model_module": "@jupyter-widgets/controls",
      "model_module_version": "1.5.0",
      "model_name": "DescriptionStyleModel",
      "state": {
       "description_width": ""
      }
     },
     "9579083091dc4887b270ebd03e4bb18a": {
      "model_module": "@jupyter-widgets/base",
      "model_module_version": "1.2.0",
      "model_name": "LayoutModel",
      "state": {
       "width": "auto"
      }
     },
     "972e33649aae4310a0aa4be501b08ae9": {
      "model_module": "@jupyter-widgets/controls",
      "model_module_version": "1.5.0",
      "model_name": "TextModel",
      "state": {
       "layout": "IPY_MODEL_1495045f130c44f1ac2ea937c545ff9e",
       "placeholder": "",
       "style": "IPY_MODEL_2d8109da1d5244df847677cdd03a3b99"
      }
     },
     "998ce90ab0b0429e9b8faacd93a52085": {
      "model_module": "@jupyter-widgets/controls",
      "model_module_version": "1.5.0",
      "model_name": "HBoxModel",
      "state": {
       "children": [
        "IPY_MODEL_c3420e0a44d9408ca639c45c93b974b1",
        "IPY_MODEL_972e33649aae4310a0aa4be501b08ae9",
        "IPY_MODEL_6cf533902e404a3c839e2cb8283c395a"
       ],
       "layout": "IPY_MODEL_e69ecc1652f14e61b79c3e98b7761ab7"
      }
     },
     "99c14d03d9ee4f178079f9aee01e1cbf": {
      "model_module": "@jupyter-widgets/controls",
      "model_module_version": "1.5.0",
      "model_name": "DescriptionStyleModel",
      "state": {
       "description_width": ""
      }
     },
     "9f09b9aac9504f09bb45ba17c91932aa": {
      "model_module": "@jupyter-widgets/base",
      "model_module_version": "1.2.0",
      "model_name": "LayoutModel",
      "state": {
       "align_items": "stretch",
       "display": "flex",
       "flex_flow": "row wrap",
       "width": "auto"
      }
     },
     "9f250922c85146ad9c22354d4313d15d": {
      "model_module": "@jupyter-widgets/controls",
      "model_module_version": "1.5.0",
      "model_name": "LabelModel",
      "state": {
       "layout": "IPY_MODEL_3fab53b3fcba4168b271142addf0f428",
       "style": "IPY_MODEL_90a9384136ff4b70839b1ff7e3ee856a"
      }
     },
     "9f669b02dfd44870b9d6c656d1990f3e": {
      "model_module": "@jupyter-widgets/controls",
      "model_module_version": "1.5.0",
      "model_name": "CheckboxModel",
      "state": {
       "disabled": false,
       "layout": "IPY_MODEL_6bd1946f31094594a583b3919b4c2d85",
       "style": "IPY_MODEL_d844d0dcf2fd4242ac9415176c4d09f5",
       "value": false
      }
     },
     "9f9d9aa269a94ba9acfd2d1c8c722ddb": {
      "model_module": "@jupyter-widgets/base",
      "model_module_version": "1.2.0",
      "model_name": "LayoutModel",
      "state": {
       "width": "auto"
      }
     },
     "a05a3ff441ff4097b7b27117d81557d1": {
      "model_module": "@jupyter-widgets/controls",
      "model_module_version": "1.5.0",
      "model_name": "HBoxModel",
      "state": {
       "children": [
        "IPY_MODEL_92ce78abedb94c6faea13fb1a092060e"
       ],
       "layout": "IPY_MODEL_cca38091cacb49c191c4b9a91568d68a"
      }
     },
     "a30012d92f294240a6eeb721cd7bf5c3": {
      "model_module": "@jupyter-widgets/base",
      "model_module_version": "1.2.0",
      "model_name": "LayoutModel",
      "state": {
       "width": "auto"
      }
     },
     "a331260d069146c790051287bbf53e54": {
      "model_module": "@jupyter-widgets/base",
      "model_module_version": "1.2.0",
      "model_name": "LayoutModel",
      "state": {
       "align_items": "stretch",
       "display": "flex",
       "flex_flow": "row wrap",
       "width": "auto"
      }
     },
     "a373472f43c74486a7cc83a9d999c583": {
      "model_module": "@jupyter-widgets/base",
      "model_module_version": "1.2.0",
      "model_name": "LayoutModel",
      "state": {}
     },
     "a58dab4d3e974ee7a7233c3d3c6b5bdd": {
      "model_module": "@jupyter-widgets/controls",
      "model_module_version": "1.5.0",
      "model_name": "ButtonStyleModel",
      "state": {
       "button_color": "#4DD0E1"
      }
     },
     "a6ecaaf3c0394552aed06a94fca2ba7d": {
      "model_module": "@jupyter-widgets/base",
      "model_module_version": "1.2.0",
      "model_name": "LayoutModel",
      "state": {
       "height": "50%",
       "margin": "0 0 0 30px",
       "width": "50%"
      }
     },
     "a75643922ac845539bfa9375d509c0aa": {
      "model_module": "@jupyter-widgets/base",
      "model_module_version": "1.2.0",
      "model_name": "LayoutModel",
      "state": {
       "width": "auto"
      }
     },
     "a874d4bca31245e4b148f14b53a057b5": {
      "model_module": "@jupyter-widgets/base",
      "model_module_version": "1.2.0",
      "model_name": "LayoutModel",
      "state": {}
     },
     "a8a10b6e40604889a667458bce6ede04": {
      "model_module": "@jupyter-widgets/controls",
      "model_module_version": "1.5.0",
      "model_name": "DescriptionStyleModel",
      "state": {
       "description_width": ""
      }
     },
     "a97f5d93bd5740698fa7897b47d6a3c1": {
      "model_module": "@jupyter-widgets/base",
      "model_module_version": "1.2.0",
      "model_name": "LayoutModel",
      "state": {
       "width": "auto"
      }
     },
     "aadf4dc90cea4504ba88f8d22de28595": {
      "model_module": "@jupyter-widgets/base",
      "model_module_version": "1.2.0",
      "model_name": "LayoutModel",
      "state": {
       "align_items": "stretch",
       "display": "flex",
       "flex_flow": "row wrap",
       "width": "auto"
      }
     },
     "ac8917e53589492487f656aacac2e6fa": {
      "model_module": "@jupyter-widgets/controls",
      "model_module_version": "1.5.0",
      "model_name": "ButtonModel",
      "state": {
       "description": "Submit",
       "layout": "IPY_MODEL_c4ad06e125c84aada2e89d1b948e28bc",
       "style": "IPY_MODEL_cb3fb5d9eb7c42fabe7eeb5cccc8ef02"
      }
     },
     "aed40e15e3654ded8bca7c72dcd5d651": {
      "model_module": "@jupyter-widgets/base",
      "model_module_version": "1.2.0",
      "model_name": "LayoutModel",
      "state": {
       "display": "flex",
       "flex_flow": "row",
       "justify_content": "space-between"
      }
     },
     "af2b333c71664c579fee0ad7aed2a247": {
      "model_module": "@jupyter-widgets/base",
      "model_module_version": "1.2.0",
      "model_name": "LayoutModel",
      "state": {
       "align_items": "stretch",
       "display": "flex",
       "flex_flow": "row wrap",
       "width": "auto"
      }
     },
     "af523bef20b24187b847019a2b5fcf4f": {
      "model_module": "@jupyter-widgets/controls",
      "model_module_version": "1.5.0",
      "model_name": "LabelModel",
      "state": {
       "layout": "IPY_MODEL_d5a81db5c4034419921e9697b4a6a18b",
       "style": "IPY_MODEL_4a5a4413f7aa4793889689070340c9c8",
       "value": "Fill in the blanks with a whole number."
      }
     },
     "b10bc4d19e614d1cbdee5c5bd57165c2": {
      "model_module": "@jupyter-widgets/controls",
      "model_module_version": "1.5.0",
      "model_name": "DescriptionStyleModel",
      "state": {
       "description_width": ""
      }
     },
     "b190e15843c84e5fbb3c1b0055122dba": {
      "model_module": "@jupyter-widgets/controls",
      "model_module_version": "1.5.0",
      "model_name": "LabelModel",
      "state": {
       "layout": "IPY_MODEL_8924f6d99b0d42c0a2f75850005ebc6e",
       "style": "IPY_MODEL_61a07dcc1ea749719c33ef417357fac1",
       "value": "times, "
      }
     },
     "b1cee2bfa3b9430c836e4efc0e395779": {
      "model_module": "@jupyter-widgets/controls",
      "model_module_version": "1.5.0",
      "model_name": "DescriptionStyleModel",
      "state": {
       "description_width": ""
      }
     },
     "b403bdec5f17493f83fef8c8a4c0f7c5": {
      "model_module": "@jupyter-widgets/base",
      "model_module_version": "1.2.0",
      "model_name": "LayoutModel",
      "state": {
       "width": "30px"
      }
     },
     "b8a0b42abf78403493aa492e2800f215": {
      "model_module": "@jupyter-widgets/base",
      "model_module_version": "1.2.0",
      "model_name": "LayoutModel",
      "state": {
       "width": "auto"
      }
     },
     "b9840c547c3241b4bca95066b70aca73": {
      "model_module": "@jupyter-widgets/base",
      "model_module_version": "1.2.0",
      "model_name": "LayoutModel",
      "state": {
       "align_items": "stretch",
       "display": "flex",
       "flex_flow": "row wrap",
       "width": "auto"
      }
     },
     "b998e4f099b94156b2d8f8e7410fc2a9": {
      "model_module": "@jupyter-widgets/controls",
      "model_module_version": "1.5.0",
      "model_name": "ButtonStyleModel",
      "state": {
       "button_color": "#4DD0E1"
      }
     },
     "bb05cd5d5c9041df8004edce8a2c4939": {
      "model_module": "@jupyter-widgets/controls",
      "model_module_version": "1.5.0",
      "model_name": "LabelModel",
      "state": {
       "layout": "IPY_MODEL_6100c38c838a477aaef7cabe1ff6f3eb",
       "style": "IPY_MODEL_b10bc4d19e614d1cbdee5c5bd57165c2",
       "value": "fib(k - 1)"
      }
     },
     "bc56c6d9fdd8481fa451a4fb0df3673b": {
      "model_module": "@jupyter-widgets/base",
      "model_module_version": "1.2.0",
      "model_name": "LayoutModel",
      "state": {
       "align_items": "stretch",
       "display": "flex",
       "flex_flow": "column",
       "width": "100%"
      }
     },
     "bcb98b92f82842b9a38d9f630f7fb85c": {
      "model_module": "@jupyter-widgets/base",
      "model_module_version": "1.2.0",
      "model_name": "LayoutModel",
      "state": {
       "width": "auto"
      }
     },
     "bd1c7f6cdc9c4d6785b318b63cc0e019": {
      "model_module": "@jupyter-widgets/controls",
      "model_module_version": "1.5.0",
      "model_name": "DescriptionStyleModel",
      "state": {
       "description_width": ""
      }
     },
     "bde09b2b5c6246159cbea2cb3987a58c": {
      "model_module": "@jupyter-widgets/controls",
      "model_module_version": "1.5.0",
      "model_name": "TextModel",
      "state": {
       "layout": "IPY_MODEL_6e00ec0d461748db9e082303e2639ecc",
       "placeholder": "",
       "style": "IPY_MODEL_dce1e463c646483aab06ac6d40a49848"
      }
     },
     "c3420e0a44d9408ca639c45c93b974b1": {
      "model_module": "@jupyter-widgets/controls",
      "model_module_version": "1.5.0",
      "model_name": "LabelModel",
      "state": {
       "layout": "IPY_MODEL_19c7daafb3fc462d90dbfd43e14f03e0",
       "style": "IPY_MODEL_f1a672bddd094bff90aae39c7ae5cd06",
       "value": "and fib(1) is called"
      }
     },
     "c3ff16df6fa84e469604eeafb06c1375": {
      "model_module": "@jupyter-widgets/controls",
      "model_module_version": "1.5.0",
      "model_name": "HBoxModel",
      "state": {
       "children": [
        "IPY_MODEL_eac954084fe24475a62a3ce738e25a47",
        "IPY_MODEL_687aab421616466da2b96959284529b0"
       ],
       "layout": "IPY_MODEL_25df5df872754e849dc9aa3e14a9d75e"
      }
     },
     "c4ad06e125c84aada2e89d1b948e28bc": {
      "model_module": "@jupyter-widgets/base",
      "model_module_version": "1.2.0",
      "model_name": "LayoutModel",
      "state": {}
     },
     "c63f74d822234879ab5d21cbb62d0fc4": {
      "model_module": "@jupyter-widgets/base",
      "model_module_version": "1.2.0",
      "model_name": "LayoutModel",
      "state": {
       "align_items": "stretch",
       "display": "flex",
       "flex_flow": "row wrap",
       "width": "auto"
      }
     },
     "ca54ea8c1556414f8882ab157b1eb25c": {
      "model_module": "@jupyter-widgets/controls",
      "model_module_version": "1.5.0",
      "model_name": "DescriptionStyleModel",
      "state": {
       "description_width": ""
      }
     },
     "cac065faa897447b89d731c964569be7": {
      "model_module": "@jupyter-widgets/controls",
      "model_module_version": "1.5.0",
      "model_name": "ButtonModel",
      "state": {
       "description": "Show answer",
       "disabled": true,
       "layout": "IPY_MODEL_f9aec47b14fe49f695383df7397d486b",
       "style": "IPY_MODEL_b998e4f099b94156b2d8f8e7410fc2a9"
      }
     },
     "cb3fb5d9eb7c42fabe7eeb5cccc8ef02": {
      "model_module": "@jupyter-widgets/controls",
      "model_module_version": "1.5.0",
      "model_name": "ButtonStyleModel",
      "state": {
       "button_color": "#4DD0E1"
      }
     },
     "cb6ae0fafc0640da932719ac68bf0cec": {
      "model_module": "@jupyter-widgets/controls",
      "model_module_version": "1.5.0",
      "model_name": "LabelModel",
      "state": {
       "layout": "IPY_MODEL_5949e4255a1c4e98acec345f03e70bbe",
       "style": "IPY_MODEL_092111833a4d45a293296169f7332fb5",
       "value": "Given k between 0 and n - 3, how many nodes of type fib(n - k) does the call stack tree of fib(n) have?"
      }
     },
     "cb804202ba7c4518b406fc3300476f7a": {
      "model_module": "@jupyter-widgets/controls",
      "model_module_version": "1.5.0",
      "model_name": "VBoxModel",
      "state": {
       "box_style": "info",
       "children": [
        "IPY_MODEL_f41d38aa3dc848f2894454bdae1925b1",
        "IPY_MODEL_57d57b32f06646fda30407eb9e7eede2",
        "IPY_MODEL_09daeafb1df549cf8be2a33e15b1514e"
       ],
       "layout": "IPY_MODEL_79e338eb4c20474fae7de2409df11317"
      }
     },
     "cb8376fb132b42bf990fa611567e1919": {
      "model_module": "@jupyter-widgets/controls",
      "model_module_version": "1.5.0",
      "model_name": "DescriptionStyleModel",
      "state": {
       "description_width": ""
      }
     },
     "cca38091cacb49c191c4b9a91568d68a": {
      "model_module": "@jupyter-widgets/base",
      "model_module_version": "1.2.0",
      "model_name": "LayoutModel",
      "state": {
       "display": "flex",
       "flex_flow": "row",
       "justify_content": "space-between"
      }
     },
     "ce787ee07c6c431692da0073248a36d8": {
      "model_module": "@jupyter-widgets/controls",
      "model_module_version": "1.5.0",
      "model_name": "HBoxModel",
      "state": {
       "children": [
        "IPY_MODEL_d5bfc45ca2b34186a9a1eaa054fe9054",
        "IPY_MODEL_bde09b2b5c6246159cbea2cb3987a58c",
        "IPY_MODEL_3f06b2ee9d974dfc892a3958956bd0e7"
       ],
       "layout": "IPY_MODEL_9f09b9aac9504f09bb45ba17c91932aa"
      }
     },
     "ce83d49b5ae34ce2ac933928cacd9bf1": {
      "model_module": "@jupyter-widgets/controls",
      "model_module_version": "1.5.0",
      "model_name": "DescriptionStyleModel",
      "state": {
       "description_width": ""
      }
     },
     "d166bd6196c4457fb67ab75b0f90c220": {
      "model_module": "@jupyter-widgets/controls",
      "model_module_version": "1.5.0",
      "model_name": "LabelModel",
      "state": {
       "layout": "IPY_MODEL_9579083091dc4887b270ebd03e4bb18a",
       "style": "IPY_MODEL_ce83d49b5ae34ce2ac933928cacd9bf1",
       "value": "fib(n) - 1 + fib(n - 2)"
      }
     },
     "d1caaa18e4b546389ef77d9f08f10c5c": {
      "model_module": "@jupyter-widgets/base",
      "model_module_version": "1.2.0",
      "model_name": "LayoutModel",
      "state": {
       "width": "30px"
      }
     },
     "d2957abf0bc04b2d851e42f5691f2251": {
      "model_module": "@jupyter-widgets/base",
      "model_module_version": "1.2.0",
      "model_name": "LayoutModel",
      "state": {}
     },
     "d3ebf84f891c49c4b581fec3b7041feb": {
      "model_module": "@jupyter-widgets/base",
      "model_module_version": "1.2.0",
      "model_name": "LayoutModel",
      "state": {
       "align_items": "stretch",
       "display": "flex",
       "flex_flow": "row wrap",
       "width": "auto"
      }
     },
     "d468c4c3ca5249d186b3bdb63dfc19a9": {
      "model_module": "@jupyter-widgets/controls",
      "model_module_version": "1.5.0",
      "model_name": "ButtonStyleModel",
      "state": {
       "button_color": "#4DD0E1"
      }
     },
     "d55c973bda7e4d038ce0c840c17ecf38": {
      "model_module": "@jupyter-widgets/base",
      "model_module_version": "1.2.0",
      "model_name": "LayoutModel",
      "state": {
       "height": "50%",
       "margin": "0 0 0 30px",
       "width": "50%"
      }
     },
     "d5a81db5c4034419921e9697b4a6a18b": {
      "model_module": "@jupyter-widgets/base",
      "model_module_version": "1.2.0",
      "model_name": "LayoutModel",
      "state": {
       "width": "auto"
      }
     },
     "d5bfc45ca2b34186a9a1eaa054fe9054": {
      "model_module": "@jupyter-widgets/controls",
      "model_module_version": "1.5.0",
      "model_name": "LabelModel",
      "state": {
       "layout": "IPY_MODEL_ec6a79a8bf21458fa310026d767bda10",
       "style": "IPY_MODEL_02ee81840e9440c29838c3bd817151e9",
       "value": "The call tree for fib(n) has exactly"
      }
     },
     "d6df64db7bc9407f98d7b37a3473e3be": {
      "model_module": "@jupyter-widgets/base",
      "model_module_version": "1.2.0",
      "model_name": "LayoutModel",
      "state": {}
     },
     "d7f15f4ff92b42b38bd1b70864201f0e": {
      "model_module": "@jupyter-widgets/controls",
      "model_module_version": "1.5.0",
      "model_name": "CheckboxModel",
      "state": {
       "disabled": false,
       "layout": "IPY_MODEL_f9cea13076d1464ba76c18857d572054",
       "style": "IPY_MODEL_ea7f6e1fa7704030a8ebbc198e1c6d11",
       "value": false
      }
     },
     "d844d0dcf2fd4242ac9415176c4d09f5": {
      "model_module": "@jupyter-widgets/controls",
      "model_module_version": "1.5.0",
      "model_name": "DescriptionStyleModel",
      "state": {
       "description_width": "initial"
      }
     },
     "daa2bf78b2b24b39aa9b99fcc25e9d19": {
      "model_module": "@jupyter-widgets/base",
      "model_module_version": "1.2.0",
      "model_name": "LayoutModel",
      "state": {
       "align_items": "stretch",
       "display": "flex",
       "flex_flow": "row wrap",
       "width": "auto"
      }
     },
     "dafa0666ec044452856b7b7ca5c7ac11": {
      "model_module": "@jupyter-widgets/base",
      "model_module_version": "1.2.0",
      "model_name": "LayoutModel",
      "state": {
       "align_items": "stretch",
       "display": "flex",
       "flex_flow": "row wrap",
       "width": "auto"
      }
     },
     "dbb7270c0b6c47f5ac454a9aac42da70": {
      "model_module": "@jupyter-widgets/controls",
      "model_module_version": "1.5.0",
      "model_name": "HBoxModel",
      "state": {
       "children": [
        "IPY_MODEL_f119618c0b2247c190f08ae464aa6a4f",
        "IPY_MODEL_19be82574cbb4ce2ae551ae289038339"
       ],
       "layout": "IPY_MODEL_b9840c547c3241b4bca95066b70aca73"
      }
     },
     "dce1e463c646483aab06ac6d40a49848": {
      "model_module": "@jupyter-widgets/controls",
      "model_module_version": "1.5.0",
      "model_name": "DescriptionStyleModel",
      "state": {
       "description_width": ""
      }
     },
     "dd3e50f93a6f429ea188690164d04471": {
      "model_module": "@jupyter-widgets/controls",
      "model_module_version": "1.5.0",
      "model_name": "HBoxModel",
      "state": {
       "children": [
        "IPY_MODEL_65ddc7df82ac45c7b0ab8b00644acb48",
        "IPY_MODEL_743a6ad397574ab48c1f9e7da528a833"
       ],
       "layout": "IPY_MODEL_a331260d069146c790051287bbf53e54"
      }
     },
     "decca20cfd034b849c569c5735b3a4ea": {
      "model_module": "@jupyter-widgets/base",
      "model_module_version": "1.2.0",
      "model_name": "LayoutModel",
      "state": {}
     },
     "e10baa29848049d58d2fc7e256f8f2e7": {
      "model_module": "@jupyter-widgets/controls",
      "model_module_version": "1.5.0",
      "model_name": "ButtonModel",
      "state": {
       "description": "Submit",
       "layout": "IPY_MODEL_4be54633182247cfb7e02a0b95528a3d",
       "style": "IPY_MODEL_33e4999e5b554bd2b9b46bb60bb5e3d1"
      }
     },
     "e3037925a12c4a80a32ab36b07a356dd": {
      "model_module": "@jupyter-widgets/controls",
      "model_module_version": "1.5.0",
      "model_name": "DescriptionStyleModel",
      "state": {
       "description_width": ""
      }
     },
     "e418989df3284cb0b02b6eb308429377": {
      "model_module": "@jupyter-widgets/base",
      "model_module_version": "1.2.0",
      "model_name": "LayoutModel",
      "state": {
       "align_items": "stretch",
       "display": "flex",
       "flex_flow": "row wrap",
       "margin": "30px 0 0 0"
      }
     },
     "e43bc66a37404e1b9610a79ec34aedec": {
      "model_module": "@jupyter-widgets/base",
      "model_module_version": "1.2.0",
      "model_name": "LayoutModel",
      "state": {
       "align_items": "stretch",
       "display": "flex",
       "flex_flow": "row wrap",
       "margin": "30px 0 0 0"
      }
     },
     "e69ecc1652f14e61b79c3e98b7761ab7": {
      "model_module": "@jupyter-widgets/base",
      "model_module_version": "1.2.0",
      "model_name": "LayoutModel",
      "state": {
       "align_items": "stretch",
       "display": "flex",
       "flex_flow": "row wrap",
       "width": "auto"
      }
     },
     "e6a0043b8a1a411a8b59bf40d58ef393": {
      "model_module": "@jupyter-widgets/controls",
      "model_module_version": "1.5.0",
      "model_name": "VBoxModel",
      "state": {
       "children": [
        "IPY_MODEL_c3ff16df6fa84e469604eeafb06c1375",
        "IPY_MODEL_dd3e50f93a6f429ea188690164d04471",
        "IPY_MODEL_8ccb1314f4a44b20b826360da5cad7d6",
        "IPY_MODEL_ff739c147f5b46c8a7dfe52ab8214cb8",
        "IPY_MODEL_80cf3823537145ae8f34f7de45ac1e32"
       ],
       "layout": "IPY_MODEL_0846f26475ea47a684b4d390177b248c"
      }
     },
     "e81f8b745bd6492ca1c2dfd3968f2345": {
      "model_module": "@jupyter-widgets/controls",
      "model_module_version": "1.5.0",
      "model_name": "HBoxModel",
      "state": {
       "children": [
        "IPY_MODEL_05e07a672858435aa83877993e6525b7",
        "IPY_MODEL_998ce90ab0b0429e9b8faacd93a52085"
       ],
       "layout": "IPY_MODEL_1c80ae5cadad474daab862cef434c420"
      }
     },
     "e82c9b9140dd42eb95b2aff51af9cc4c": {
      "model_module": "@jupyter-widgets/controls",
      "model_module_version": "1.5.0",
      "model_name": "LabelModel",
      "state": {
       "layout": "IPY_MODEL_72cd46e02b844255b6d0b7518ded98da",
       "style": "IPY_MODEL_5b198cbb3f4e4802a31413cb192eb657",
       "value": "fib(n) - 1"
      }
     },
     "e92d27b0dfb54c1cb86aae2b07b2fe19": {
      "model_module": "@jupyter-widgets/controls",
      "model_module_version": "1.5.0",
      "model_name": "LabelModel",
      "state": {
       "layout": "IPY_MODEL_1e8643b80f90484fb66da4e225579f21",
       "style": "IPY_MODEL_bd1c7f6cdc9c4d6785b318b63cc0e019",
       "value": "fib(n)"
      }
     },
     "e9804cefd01d49da8d58c9d22905970f": {
      "model_module": "@jupyter-widgets/controls",
      "model_module_version": "1.5.0",
      "model_name": "HBoxModel",
      "state": {
       "children": [
        "IPY_MODEL_cb6ae0fafc0640da932719ac68bf0cec"
       ],
       "layout": "IPY_MODEL_89f78e87cf4b47c8b298533754baffd0"
      }
     },
     "ea73a3063b0044ee858148c41b8ca857": {
      "model_module": "@jupyter-widgets/controls",
      "model_module_version": "1.5.0",
      "model_name": "LabelModel",
      "state": {
       "layout": "IPY_MODEL_197da04f22c540e7afa0a696100602ab",
       "style": "IPY_MODEL_99c14d03d9ee4f178079f9aee01e1cbf"
      }
     },
     "ea7f6e1fa7704030a8ebbc198e1c6d11": {
      "model_module": "@jupyter-widgets/controls",
      "model_module_version": "1.5.0",
      "model_name": "DescriptionStyleModel",
      "state": {
       "description_width": "initial"
      }
     },
     "eac954084fe24475a62a3ce738e25a47": {
      "model_module": "@jupyter-widgets/controls",
      "model_module_version": "1.5.0",
      "model_name": "LabelModel",
      "state": {
       "layout": "IPY_MODEL_d2957abf0bc04b2d851e42f5691f2251",
       "style": "IPY_MODEL_2bef18b4e77b497fa90437d00511c2fa"
      }
     },
     "eacb47f23d04460790f8d459eec25166": {
      "model_module": "@jupyter-widgets/base",
      "model_module_version": "1.2.0",
      "model_name": "LayoutModel",
      "state": {
       "width": "30px"
      }
     },
     "eba00164c65c4869a81ad8250ac1ff69": {
      "model_module": "@jupyter-widgets/base",
      "model_module_version": "1.2.0",
      "model_name": "LayoutModel",
      "state": {}
     },
     "ec6a79a8bf21458fa310026d767bda10": {
      "model_module": "@jupyter-widgets/base",
      "model_module_version": "1.2.0",
      "model_name": "LayoutModel",
      "state": {
       "width": "auto"
      }
     },
     "ede4e522719046d8824305ff6310617b": {
      "model_module": "@jupyter-widgets/controls",
      "model_module_version": "1.5.0",
      "model_name": "LabelModel",
      "state": {
       "layout": "IPY_MODEL_f16015a8db844bca8e4255a07bac8317",
       "style": "IPY_MODEL_ca54ea8c1556414f8882ab157b1eb25c"
      }
     },
     "eee721ffce46442c91fa44a12916f2a9": {
      "model_module": "@jupyter-widgets/controls",
      "model_module_version": "1.5.0",
      "model_name": "VBoxModel",
      "state": {
       "box_style": "info",
       "children": [
        "IPY_MODEL_e9804cefd01d49da8d58c9d22905970f",
        "IPY_MODEL_f8633cf1cb654abc9d4c89ef696f8ee1",
        "IPY_MODEL_1e20bc810d3841b292f58e36adb0de17"
       ],
       "layout": "IPY_MODEL_8356668d7bb04f058354457d5347b136"
      }
     },
     "f0422f2245754973a85e075b0cae5f9d": {
      "model_module": "@jupyter-widgets/controls",
      "model_module_version": "1.5.0",
      "model_name": "LabelModel",
      "state": {
       "layout": "IPY_MODEL_24cbaed8cf754644846896d31ff31a87",
       "style": "IPY_MODEL_f0b253b62c894ecca796ee469eebfc25",
       "value": "fib(n - 1) + fib(n - 2)"
      }
     },
     "f077cda753af42a3ad332f5a9185951b": {
      "model_module": "@jupyter-widgets/controls",
      "model_module_version": "1.5.0",
      "model_name": "DescriptionStyleModel",
      "state": {
       "description_width": "initial"
      }
     },
     "f0ac95531de74cae8c5c9cbb2eb30654": {
      "model_module": "@jupyter-widgets/controls",
      "model_module_version": "1.5.0",
      "model_name": "ButtonModel",
      "state": {
       "description": "Submit",
       "layout": "IPY_MODEL_a373472f43c74486a7cc83a9d999c583",
       "style": "IPY_MODEL_a58dab4d3e974ee7a7233c3d3c6b5bdd"
      }
     },
     "f0b253b62c894ecca796ee469eebfc25": {
      "model_module": "@jupyter-widgets/controls",
      "model_module_version": "1.5.0",
      "model_name": "DescriptionStyleModel",
      "state": {
       "description_width": ""
      }
     },
     "f119618c0b2247c190f08ae464aa6a4f": {
      "model_module": "@jupyter-widgets/controls",
      "model_module_version": "1.5.0",
      "model_name": "CheckboxModel",
      "state": {
       "disabled": false,
       "layout": "IPY_MODEL_08775682d2594f6d9562f9715a243561",
       "style": "IPY_MODEL_635383e9e25e477a935463f401f6161e",
       "value": false
      }
     },
     "f16015a8db844bca8e4255a07bac8317": {
      "model_module": "@jupyter-widgets/base",
      "model_module_version": "1.2.0",
      "model_name": "LayoutModel",
      "state": {
       "height": "50%",
       "margin": "0 0 0 30px",
       "width": "50%"
      }
     },
     "f1a672bddd094bff90aae39c7ae5cd06": {
      "model_module": "@jupyter-widgets/controls",
      "model_module_version": "1.5.0",
      "model_name": "DescriptionStyleModel",
      "state": {
       "description_width": ""
      }
     },
     "f41d38aa3dc848f2894454bdae1925b1": {
      "model_module": "@jupyter-widgets/controls",
      "model_module_version": "1.5.0",
      "model_name": "HBoxModel",
      "state": {
       "children": [
        "IPY_MODEL_22249fcedb7048a194ba7521889a09c5"
       ],
       "layout": "IPY_MODEL_061cc787751348bb80952bbcd8b6e69a"
      }
     },
     "f474e7e98d5c4e3ba2ac3bc7efc54470": {
      "model_module": "@jupyter-widgets/controls",
      "model_module_version": "1.5.0",
      "model_name": "CheckboxModel",
      "state": {
       "disabled": false,
       "layout": "IPY_MODEL_b403bdec5f17493f83fef8c8a4c0f7c5",
       "style": "IPY_MODEL_728e0db237934a939843c54853edd5e4",
       "value": false
      }
     },
     "f497e17b53a64355ad7ecf738bab83c8": {
      "model_module": "@jupyter-widgets/controls",
      "model_module_version": "1.5.0",
      "model_name": "DescriptionStyleModel",
      "state": {
       "description_width": "initial"
      }
     },
     "f56fb14a8280429ea8e94bbd4a8be993": {
      "model_module": "@jupyter-widgets/controls",
      "model_module_version": "1.5.0",
      "model_name": "HBoxModel",
      "state": {
       "children": [
        "IPY_MODEL_673455b3ebab4697b23cbcd1020967a1",
        "IPY_MODEL_d166bd6196c4457fb67ab75b0f90c220"
       ],
       "layout": "IPY_MODEL_fb4da38d81d64469957d180b5f712560"
      }
     },
     "f7403a4cbf1340f089d64eff4962e15a": {
      "model_module": "@jupyter-widgets/controls",
      "model_module_version": "1.5.0",
      "model_name": "ButtonStyleModel",
      "state": {
       "button_color": "#4DD0E1"
      }
     },
     "f8633cf1cb654abc9d4c89ef696f8ee1": {
      "model_module": "@jupyter-widgets/controls",
      "model_module_version": "1.5.0",
      "model_name": "VBoxModel",
      "state": {
       "children": [
        "IPY_MODEL_0ff9755ba61745c88bb7044746a3d2b7",
        "IPY_MODEL_94596ebb029145f69c127dbe0b87906a",
        "IPY_MODEL_72eb03dffe0d43cab94d341ad158afe8",
        "IPY_MODEL_39a60338d8f941c29cd331ceada81850"
       ],
       "layout": "IPY_MODEL_0cd7abd9d0af490e973c32f5d7c99508"
      }
     },
     "f8a7da3706464811921d05636d255900": {
      "model_module": "@jupyter-widgets/controls",
      "model_module_version": "1.5.0",
      "model_name": "DescriptionStyleModel",
      "state": {
       "description_width": ""
      }
     },
     "f9aec47b14fe49f695383df7397d486b": {
      "model_module": "@jupyter-widgets/base",
      "model_module_version": "1.2.0",
      "model_name": "LayoutModel",
      "state": {
       "display": "none"
      }
     },
     "f9cea13076d1464ba76c18857d572054": {
      "model_module": "@jupyter-widgets/base",
      "model_module_version": "1.2.0",
      "model_name": "LayoutModel",
      "state": {
       "width": "30px"
      }
     },
     "fa92c7da2434493cb9aa272ddcc99643": {
      "model_module": "@jupyter-widgets/controls",
      "model_module_version": "1.5.0",
      "model_name": "DescriptionStyleModel",
      "state": {
       "description_width": ""
      }
     },
     "fb4da38d81d64469957d180b5f712560": {
      "model_module": "@jupyter-widgets/base",
      "model_module_version": "1.2.0",
      "model_name": "LayoutModel",
      "state": {
       "align_items": "stretch",
       "display": "flex",
       "flex_flow": "row wrap",
       "width": "auto"
      }
     },
     "fd158a22be07463887d693d71b4fb714": {
      "model_module": "@jupyter-widgets/controls",
      "model_module_version": "1.5.0",
      "model_name": "HBoxModel",
      "state": {
       "children": [
        "IPY_MODEL_d7f15f4ff92b42b38bd1b70864201f0e",
        "IPY_MODEL_65d5ccd45387428ba63eec9562934ad1"
       ],
       "layout": "IPY_MODEL_42f304186d03431ab822b3678111a3d4"
      }
     },
     "fd2cbfba3b32499f88456a1b2d6799ce": {
      "model_module": "@jupyter-widgets/controls",
      "model_module_version": "1.5.0",
      "model_name": "HBoxModel",
      "state": {
       "children": [
        "IPY_MODEL_ac8917e53589492487f656aacac2e6fa",
        "IPY_MODEL_935a95307fe24e528b62c99ec3279e06",
        "IPY_MODEL_cac065faa897447b89d731c964569be7"
       ],
       "layout": "IPY_MODEL_106a185ed659463eaebc10af2d0bbfbc"
      }
     },
     "fed2c103b4244bc58d45bcb5057c2761": {
      "model_module": "@jupyter-widgets/controls",
      "model_module_version": "1.5.0",
      "model_name": "DescriptionStyleModel",
      "state": {
       "description_width": ""
      }
     },
     "ff739c147f5b46c8a7dfe52ab8214cb8": {
      "model_module": "@jupyter-widgets/controls",
      "model_module_version": "1.5.0",
      "model_name": "HBoxModel",
      "state": {
       "children": [
        "IPY_MODEL_470a225dd397475288f1c95c663630ce",
        "IPY_MODEL_7d4f52a981ac47d98bb9aac7c5ef89fb"
       ],
       "layout": "IPY_MODEL_14078b835eb746c6baecb43a1c1ba6a8"
      }
     },
     "ffdb59ff4df34260b816c43e0081d162": {
      "model_module": "@jupyter-widgets/controls",
      "model_module_version": "1.5.0",
      "model_name": "LabelModel",
      "state": {
       "layout": "IPY_MODEL_decca20cfd034b849c569c5735b3a4ea",
       "style": "IPY_MODEL_233e33c891c14d7aba727bfc2b24b550"
      }
     }
    },
    "version_major": 2,
    "version_minor": 0
   }
  }
 },
 "nbformat": 4,
 "nbformat_minor": 4
}
