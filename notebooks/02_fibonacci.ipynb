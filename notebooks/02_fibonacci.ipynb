{
 "cells": [
  {
   "cell_type": "markdown",
   "metadata": {},
   "source": [
    "# Lesson 1: Fibonacci Numbers <a class=\"tocSkip\">"
   ]
  },
  {
   "cell_type": "markdown",
   "metadata": {},
   "source": [
    "It's common to begin the study of dynamic programming using [Fibonacci numbers](https://en.wikipedia.org/wiki/Fibonacci_number) as an example. This is because they are literally a textbook example of transforming a recursive, top-down algorithm into an iterative, bottom-up one.\n",
    "\n",
    "However, unlike the the 'sum of n numbers' and 'palindrome' problems we explored previously, there is real motivation to make this transformation."
   ]
  },
  {
   "cell_type": "markdown",
   "metadata": {},
   "source": [
    "## Find the n'th Fibonacci number\n",
    "\n",
    "Fibonacci numbers form a series defined by a recurrence formula. In _our_ implementation, we'll start the Fibonacci series at n = 1:\n",
    "\n",
    "$$fib(1) = 1$$\n",
    "$$fib(2) = 1$$\n",
    "$$and~then~for~every~n > 2:F_{n} = F_{n-1} + F_{n-2}$$\n",
    "\n",
    "This gives us a series starting at n=1 that looks like this: $$1, 1, 2, 3, 5,8 ,13, 21, 34, 55, ...$$\n",
    "\n",
    "In the quizzes and analysis below, you'll see why it's convenient that we start at 1 (and not the usual mathematical definition that begins with 0)."
   ]
  },
  {
   "cell_type": "code",
   "execution_count": 1,
   "metadata": {
    "hide_input": true,
    "jupyter": {
     "source_hidden": true
    }
   },
   "outputs": [
    {
     "data": {
      "image/jpeg": "[encoded data removed]",
      "text/html": [
       "\n",
       "        <iframe\n",
       "            width=\"400\"\n",
       "            height=\"300\"\n",
       "            src=\"https://www.youtube.com/embed/0jMoTRxQ52k\"\n",
       "            frameborder=\"0\"\n",
       "            allowfullscreen\n",
       "        ></iframe>\n",
       "        "
      ],
      "text/plain": [
       "<IPython.lib.display.YouTubeVideo at 0x1b4844c2c48>"
      ]
     },
     "execution_count": 1,
     "metadata": {},
     "output_type": "execute_result"
    }
   ],
   "source": [
    "from IPython.display import YouTubeVideo\n",
    "YouTubeVideo('0jMoTRxQ52k')"
   ]
  },
  {
   "cell_type": "markdown",
   "metadata": {},
   "source": [
    "Let's first code up the naive recursive implementation of finding the n'th Fibonacci number."
   ]
  },
  {
   "cell_type": "code",
   "execution_count": 2,
   "metadata": {},
   "outputs": [],
   "source": [
    "def fib(n):\n",
    "    \n",
    "    ##############\n",
    "    # YOUR CODE ##\n",
    "    ##############\n",
    "    \n",
    "    return 0"
   ]
  },
  {
   "cell_type": "code",
   "execution_count": 3,
   "metadata": {},
   "outputs": [],
   "source": [
    "#### unit tests #####\n",
    "\n",
    "# assert(fib(0) == 1)\n",
    "# assert(fib(1) == 1)\n",
    "# assert(fib(2) == 1)\n",
    "# assert(fib(10) == 55)"
   ]
  },
  {
   "cell_type": "markdown",
   "metadata": {},
   "source": [
    "In the following exercise use the magic %timeit command to see how long a call to fib takes."
   ]
  },
  {
   "cell_type": "code",
   "execution_count": 4,
   "metadata": {},
   "outputs": [
    {
     "name": "stdout",
     "output_type": "stream",
     "text": [
      "56.2 ns ± 1.11 ns per loop (mean ± std. dev. of 7 runs, 10000000 loops each)\n"
     ]
    }
   ],
   "source": [
    "%timeit fib(10)"
   ]
  },
  {
   "cell_type": "markdown",
   "metadata": {},
   "source": [
    "<div class=\"alert alert-warning\">\n",
    "The next cell may take some time to run. ☕ You can interrupt the notebook kernel if you run out of patience ...\n",
    "</div>"
   ]
  },
  {
   "cell_type": "code",
   "execution_count": 5,
   "metadata": {},
   "outputs": [
    {
     "name": "stdout",
     "output_type": "stream",
     "text": [
      "56.6 ns ± 0.535 ns per loop (mean ± std. dev. of 7 runs, 10000000 loops each)\n"
     ]
    }
   ],
   "source": [
    "%timeit fib(40)"
   ]
  },
  {
   "cell_type": "markdown",
   "metadata": {},
   "source": [
    "### Time complexity of the naive Fibonacci algorithm\n",
    "Let's explore how many inner nodes and leaves the call stack tree of fib(n) has. The point of this excercise is to get a feel for the running time complexity and also to get very comfortable with the call stacks of recursive functions. I suggest you work out the following quizzes on a piece of paper."
   ]
  },
  {
   "cell_type": "markdown",
   "metadata": {},
   "source": [
    "The inner nodes are all themselves call trees of fib(n-k) where k runs from 0 to n-3. For example, if we're counting up the inner nodes of fib(8), we want to know how many calls there were to fib(8), fib(7), fib(6), fib(5), fib(4) and fib(3)."
   ]
  },
  {
   "cell_type": "code",
   "execution_count": 6,
   "metadata": {
    "hide_input": false,
    "jupyter": {
     "source_hidden": true
    }
   },
   "outputs": [
    {
     "data": {
      "application/vnd.jupyter.widget-view+json": {
       "model_id": "aa44bee26e5246a59ae935733a1c066a",
       "version_major": 2,
       "version_minor": 0
      },
      "text/plain": [
       "VBox(box_style='info', children=(HBox(children=(HTML(value='<style>p{word-wrap: break-word}</style> <p>Given k…"
      ]
     },
     "metadata": {},
     "output_type": "display_data"
    }
   ],
   "source": [
    "%run quizzes/quiz.py quizzes/02/fibonacci_n_minus_k.json"
   ]
  },
  {
   "cell_type": "markdown",
   "metadata": {
    "hide_input": false
   },
   "source": [
    "Now add up all those sub-trees to get the general formula for the number of **inner nodes** in the fib(n) call tree"
   ]
  },
  {
   "cell_type": "code",
   "execution_count": 7,
   "metadata": {
    "hide_input": true,
    "jupyter": {
     "source_hidden": true
    }
   },
   "outputs": [
    {
     "data": {
      "application/vnd.jupyter.widget-view+json": {
       "model_id": "4cdc417dc263423885079b93c1f86938",
       "version_major": 2,
       "version_minor": 0
      },
      "text/plain": [
       "VBox(box_style='info', children=(HBox(children=(HTML(value='<style>p{word-wrap: break-word}</style> <p>How man…"
      ]
     },
     "metadata": {},
     "output_type": "display_data"
    }
   ],
   "source": [
    "%run quizzes/quiz.py quizzes/02/fibonacci_inner_nodes.json"
   ]
  },
  {
   "cell_type": "markdown",
   "metadata": {},
   "source": [
    "Now we'll get a general formula for the number of leaves, starting with a small example where n = 8. Remember that our base cases are when n = 1 and n = 2, so we'll count up the calls to fib(1) and fib(2)."
   ]
  },
  {
   "cell_type": "code",
   "execution_count": 8,
   "metadata": {
    "hide_input": false,
    "jupyter": {
     "source_hidden": true
    }
   },
   "outputs": [
    {
     "data": {
      "application/vnd.jupyter.widget-view+json": {
       "model_id": "601b1c9ed52240549d747d32b8cd7d38",
       "version_major": 2,
       "version_minor": 0
      },
      "text/plain": [
       "VBox(box_style='info', children=(HBox(children=(HTML(value='<style>p{word-wrap: break-word}</style> <p>Fill in…"
      ]
     },
     "metadata": {},
     "output_type": "display_data"
    }
   ],
   "source": [
    "%run quizzes/quiz.py quizzes/02/fibonacci_1_and_2.json"
   ]
  },
  {
   "cell_type": "markdown",
   "metadata": {
    "hide_input": false
   },
   "source": [
    "As you can see from the exercises above, the recursive algorithm for finding the n'th Fibonacci number mostly spends its time calculating and recalculating the Fibonacci numbers of the numbers preceding n. Every leaf in the call stack tree adds 1 to the time complexity of this algorithm - how many leaves does this tree have exactly?"
   ]
  },
  {
   "cell_type": "code",
   "execution_count": 9,
   "metadata": {
    "jupyter": {
     "source_hidden": true
    }
   },
   "outputs": [
    {
     "data": {
      "application/vnd.jupyter.widget-view+json": {
       "model_id": "e6a4726d329a4b3d95cfb8f3963f77db",
       "version_major": 2,
       "version_minor": 0
      },
      "text/plain": [
       "VBox(box_style='info', children=(HBox(children=(HTML(value='<style>p{word-wrap: break-word}</style> <p>Fill in…"
      ]
     },
     "metadata": {},
     "output_type": "display_data"
    }
   ],
   "source": [
    "%run quizzes/quiz.py quizzes/02/fibonacci_leaves.json"
   ]
  },
  {
   "cell_type": "markdown",
   "metadata": {},
   "source": [
    "Well it's no wonder that the complexity of this algorithm grows exponentially - it grows just like the Fibonacci numbers themselves!"
   ]
  },
  {
   "cell_type": "markdown",
   "metadata": {},
   "source": [
    "\n",
    "## Fibonacci Revisited\n",
    "Now's the time to pull out your memoization skills and make our naive algorithm efficient by storing any calculations you already made."
   ]
  },
  {
   "cell_type": "markdown",
   "metadata": {},
   "source": [
    "### Memoize Fibonacci - without using a function decorator\n",
    "\n",
    "<div class=\"exercise exercise-info\">\n",
    "If you like, as an exercise, write a memoized version of fib(n) without using Python's decorator, i.e go ahead and make changes inside fib(n) itself. As a hint, I defined the function signature and unit tests for you."
   ]
  },
  {
   "cell_type": "code",
   "execution_count": 10,
   "metadata": {
    "pycharm": {
     "name": "#%%\n"
    }
   },
   "outputs": [],
   "source": [
    "def fib(n, memo):\n",
    "    \n",
    "    ##############\n",
    "    # YOUR CODE ##\n",
    "    ##############\n",
    "    \n",
    "    return 0\n",
    "    \n",
    "### unit tests ###\n",
    "#assert(fib(1, {}) == 1)\n",
    "#assert(fib(2, {}) == 1)\n",
    "#assert(fib(3, {}) == 2)\n",
    "#assert(fib(4, {}) == 3)\n",
    "#assert(fib(5, {}) == 5)\n",
    "#assert(fib(6, {}) == 8)"
   ]
  },
  {
   "cell_type": "markdown",
   "metadata": {},
   "source": [
    "### Memoize Fibonacci - a more elegant way\n",
    "\n",
    "<div class=\"exercise exercise-info\">\n",
    "Use the same function we used to decorate 'factorial' in the previous lesson. \n",
    "<hr>\n",
    "This time, since we didn't change our original function, we also don't need to change our tests! (that was the whole point of using Python's function decorators)"
   ]
  },
  {
   "cell_type": "code",
   "execution_count": 11,
   "metadata": {
    "pycharm": {
     "name": "#%%\n"
    }
   },
   "outputs": [],
   "source": [
    "def memoize(f):\n",
    "    ##############\n",
    "    # YOUR CODE ##\n",
    "    ##############\n",
    "    return 0\n",
    "    \n",
    "@memoize\n",
    "def fib(n):\n",
    "    ##############\n",
    "    # YOUR CODE ##\n",
    "    ##############\n",
    "    return 0\n",
    "    \n",
    "#unit tests\n",
    "#assert(fib(1) == 1)\n",
    "#assert(fib(2) == 1)\n",
    "#assert(fib(6) == 8)"
   ]
  },
  {
   "cell_type": "markdown",
   "metadata": {},
   "source": [
    "<div class=\"exercise exercise-info\">\n",
    "After testing, use the magic command %time to profile this implementation. If you use %%timeit you'll get a more accurate time, but it will take longer since %%timeit runs your function a few times.\n",
    "</div>    "
   ]
  },
  {
   "cell_type": "code",
   "execution_count": 12,
   "metadata": {
    "pycharm": {
     "name": "#%%\n"
    }
   },
   "outputs": [],
   "source": [
    "# %time fib(36)"
   ]
  },
  {
   "cell_type": "markdown",
   "metadata": {
    "pycharm": {
     "name": "#%%\n"
    }
   },
   "source": [
    "### Memoize Fibonacci - using _constant_ space instead of linear space\n",
    "One problem with our memoized version is that the storage is also linear, so as n gets large, you'll be using O(n) space to store all the previous solutions. Since each Fibonacci number is the sum of the previous two, you actually only need _two_ places of storage as you iterate.\n",
    "\n",
    "Write an implementation to find the n'th Fibonacci number, **without** using a memo dictionary. Use only two storage variables."
   ]
  },
  {
   "cell_type": "code",
   "execution_count": null,
   "metadata": {
    "pycharm": {
     "name": "#%%\n"
    }
   },
   "outputs": [],
   "source": [
    "# Only use two storage variables\n",
    "\n",
    "def fib(n):\n",
    "    ##############\n",
    "    # YOUR CODE ##\n",
    "    ##############\n",
    "    return 0"
   ]
  },
  {
   "cell_type": "markdown",
   "metadata": {},
   "source": [
    "### Memoize Fibonacci - and convert the algorithm to iterative and bottom up\n",
    "Using a Python decorator function, memoize AND convert fib(n) to an efficient AND iterative solution.\n",
    "\n",
    "**Hint 1:** The decorator function is almost identical to the memoize function we used for factorial and fib(n) above. The only difference is that you want to prevent recursion from happening and instead iterate starting from 1.\n",
    "\n",
    "**Hint 2:** Pay attention to the case where n = 0. The function should return 1 and you'll need to initialize the memo dictionary for this case to be handled correctly."
   ]
  },
  {
   "cell_type": "code",
   "execution_count": null,
   "metadata": {},
   "outputs": [],
   "source": [
    "def iterate(f):\n",
    "    ##############\n",
    "    # YOUR CODE ##\n",
    "    ##############\n",
    "    return 0\n",
    "    \n",
    "@iterate\n",
    "def fib(n):\n",
    "    ##############\n",
    "    # YOUR CODE ##\n",
    "    ##############\n",
    "    return 0\n",
    "    \n",
    "#### unit tests ###\n",
    "#assert(fib(0) == 1)\n",
    "#assert(fib(1) == 1)\n",
    "#assert(fib(2) == 1)\n",
    "#assert(fib(6) == 8)"
   ]
  },
  {
   "cell_type": "markdown",
   "metadata": {},
   "source": [
    "<div class=\"exercise exercise-info\">\n",
    "If you haven't done so already, add some logging (prints) to your solution to see how the algorithm grows the memo dictionary.\n",
    "</div>    "
   ]
  },
  {
   "cell_type": "markdown",
   "metadata": {},
   "source": [
    "## Solutions\n",
    "Given a whole number n, all these implementations calculate the n'th Fibonacci number."
   ]
  },
  {
   "cell_type": "markdown",
   "metadata": {},
   "source": [
    "### Recursive solutions\n",
    "These solutions show the top-down approach."
   ]
  },
  {
   "cell_type": "markdown",
   "metadata": {
    "solution2": "hidden"
   },
   "source": [
    "<div class=\"exercise exercise-warning\"><details><summary>Naive fibonacci, runs in exponential time ...</summary>\n",
    "\n",
    "    \n",
    "```python    \n",
    "    # %load solutions/02/fibonacci_n.py\n",
    "    def fib(n):\n",
    "\n",
    "        if (n <= 2):\n",
    "            return 1\n",
    "\n",
    "        return (fib(n - 1) + fib(n - 2))\n",
    "```\n",
    "\n",
    "</details>"
   ]
  },
  {
   "cell_type": "markdown",
   "metadata": {
    "solution2": "hidden"
   },
   "source": [
    "<div class=\"exercise exercise-warning\"><details><summary>Recursive fibonacci memoized by changing function (no decorator)</summary>\n",
    "\n",
    "    \n",
    "```python    \n",
    "    # %load solutions/02/fibonacci_memo.py\n",
    "    def fib(n, memo):\n",
    "        if n in memo:\n",
    "            return memo[n]\n",
    "        if n <= 2:\n",
    "            f = 1\n",
    "        else:\n",
    "            f = fib(n-1, memo) + fib(n-2, memo)\n",
    "        memo[n] = f\n",
    "        return memo[n]\n",
    "\n",
    "    ### unit tests ###\n",
    "    #assert(fib(1, {}) == 1)\n",
    "    #assert(fib(2, {}) == 1)\n",
    "    #assert(fib(3, {}) == 2)\n",
    "    #assert(fib(4, {}) == 3)\n",
    "    #assert(fib(5, {}) == 5)\n",
    "    #assert(fib(6, {}) == 8)\n",
    "```\n",
    "\n",
    "</details>"
   ]
  },
  {
   "cell_type": "markdown",
   "metadata": {
    "solution2": "hidden"
   },
   "source": [
    "<div class=\"exercise exercise-warning\"><details><summary>Recursive fibonacci, memoized</summary>\n",
    "\n",
    "    \n",
    "```python    \n",
    "    # %load solutions/02/fibonacci_memo_decorated.py\n",
    "    def memoize(f):\n",
    "        memo = {}\n",
    "\n",
    "        def helper(n):\n",
    "            if n not in memo:\n",
    "                memo[n] = f(n)\n",
    "            return memo[n]\n",
    "\n",
    "        return helper\n",
    "\n",
    "    @memoize\n",
    "    def fib(n):\n",
    "        if n <= 2:\n",
    "            return 1\n",
    "        return fib(n - 1) + fib(n - 2)\n",
    "\n",
    "    #assert(fib(1) == 1)\n",
    "    #assert(fib(2) == 1)\n",
    "    #assert(fib(6) == 8)\n",
    "```\n",
    "\n",
    "</details>"
   ]
  },
  {
   "cell_type": "markdown",
   "metadata": {},
   "source": [
    "### Iterative solutions\n",
    "These solutions exemplify the bottom-up approach."
   ]
  },
  {
   "cell_type": "markdown",
   "metadata": {
    "solution2": "hidden"
   },
   "source": [
    "<div class=\"exercise exercise-warning\"><details><summary>Iterative fibonacci that uses <em>linear</em> storage (with decorator)</summary>\n",
    "\n",
    "    \n",
    "```python    \n",
    "    # %load solutions/02/fibonacci_iterative_decorated.py\n",
    "    def iterate(f):\n",
    "        memo = {0:0}\n",
    "\n",
    "        def helper(n):\n",
    "            # print ('helper called for ', n)\n",
    "            if n not in memo:\n",
    "                for k in range(1, n + 1):\n",
    "                    memo[k] = f(k)\n",
    "            # print(memo)\n",
    "            return memo[n]\n",
    "        return helper\n",
    "\n",
    "    @iterate\n",
    "    def fib(n):\n",
    "        if n <= 2:\n",
    "            return 1\n",
    "        return fib(n - 1) + fib(n - 2)\n",
    "\n",
    "    #unit tests\n",
    "    #assert(fib(0) == 1)\n",
    "    #assert(fib(1) == 1)\n",
    "    #assert(fib(2) == 1)\n",
    "    #assert(fib(6) == 8)\n",
    "```\n",
    "\n",
    "</details>"
   ]
  },
  {
   "cell_type": "markdown",
   "metadata": {
    "pycharm": {
     "name": "#%%\n"
    },
    "solution2": "hidden"
   },
   "source": [
    "<div class=\"exercise exercise-warning\"><details><summary>Iterative fibonacci that uses <em>constant</em> space (no decorator)</summary>\n",
    "\n",
    "    \n",
    "```python    \n",
    "    # %load solutions/02/fibonacci_tiny_memo.py\n",
    "    def fib(n):\n",
    "        f, next_total = 1, 1\n",
    "        for i in range(n-1):\n",
    "            f, next_total = next_total, next_total + f\n",
    "        return f\n",
    "\n",
    "    #assert(fib(1) == 1)\n",
    "    #assert(fib(2) == 1)\n",
    "    #assert(fib(6) == 8)\n",
    "```\n",
    "\n",
    "</details>"
   ]
  },
  {
   "cell_type": "markdown",
   "metadata": {
    "solution2": "hidden"
   },
   "source": [
    "<div class=\"exercise exercise-warning\"><details><summary>Iterative fibonacci  <em>constant</em> space (with decorator)</summary>\n",
    "\n",
    "    \n",
    "```python    \n",
    "    # %load solutions/02/fibonacci_tiny_memo_decorated.py\n",
    "    # TODO\n",
    "\n",
    "    #assert(fib(1) == 1)\n",
    "    #assert(fib(2) == 1)\n",
    "    #assert(fib(6) == 8)\n",
    "```\n",
    "</details>\n"
   ]
  },
  {
   "cell_type": "markdown",
   "metadata": {},
   "source": [
    "## References\n",
    "\n",
    "1. Andres, F. (n.d.). functional programming—What do you call a function where the same input will always return the same output, but also has side effects? Software Engineering Stack Exchange. Retrieved July 9, 2020, from https://softwareengineering.stackexchange.com/a/317249\n",
    "\n",
    "2. Forišek, M. (2015). Towards a better way to teach dynamic programming. Olympiads in Informatics, 9, 45–55.\n",
    "\n",
    "3. Klein, B. (n.d.). Python Tutorial: Memoization and Decorators. Python Course. Retrieved June 17, 2020, from https://www.python-course.eu/python3_memoization.php"
   ]
  },
  {
   "cell_type": "code",
   "execution_count": null,
   "metadata": {
    "deletable": false,
    "editable": false
   },
   "outputs": [],
   "source": [
    "# workaround for known ipywidget issue not rendering alert style colours on Jupyter lab\n",
    "from IPython.core.display import HTML\n",
    "HTML(open(\"../styles/custom.css\", \"r\").read())"
   ]
  }
 ],
 "metadata": {
  "kernelspec": {
   "display_name": "Python 3",
   "language": "python",
   "name": "python3"
  },
  "language_info": {
   "codemirror_mode": {
    "name": "ipython",
    "version": 3
   },
   "file_extension": ".py",
   "mimetype": "text/x-python",
   "name": "python",
   "nbconvert_exporter": "python",
   "pygments_lexer": "ipython3",
   "version": "3.7.6"
  },
  "latex_envs": {
   "LaTeX_envs_menu_present": true,
   "autoclose": false,
   "autocomplete": true,
   "bibliofile": "biblio.bib",
   "cite_by": "apalike",
   "current_citInitial": 1,
   "eqLabelWithNumbers": true,
   "eqNumInitial": 1,
   "hotkeys": {
    "equation": "Ctrl-E",
    "itemize": "Ctrl-I"
   },
   "labels_anchors": false,
   "latex_user_defs": false,
   "report_style_numbering": false,
   "user_envs_cfg": false
  },
  "toc": {
   "base_numbering": "",
   "nav_menu": {},
   "number_sections": false,
   "sideBar": true,
   "skip_h1_title": false,
   "title_cell": "Table of Contents",
   "title_sidebar": "Contents",
   "toc_cell": false,
   "toc_position": {
    "height": "calc(100% - 180px)",
    "left": "10px",
    "top": "150px",
    "width": "222.042px"
   },
   "toc_section_display": true,
   "toc_window_display": true
  },
  "widgets": {
   "application/vnd.jupyter.widget-state+json": {
    "state": {
     "02af23f316a84316b3b1e2a3aee8398b": {
      "model_module": "@jupyter-widgets/base",
      "model_module_version": "1.2.0",
      "model_name": "LayoutModel",
      "state": {}
     },
     "03064289ff7d415ab6f7a2f8fda2bb93": {
      "model_module": "@jupyter-widgets/controls",
      "model_module_version": "1.5.0",
      "model_name": "DescriptionStyleModel",
      "state": {
       "description_width": ""
      }
     },
     "061f5746b9644f48acd23ef05f60b230": {
      "model_module": "@jupyter-widgets/base",
      "model_module_version": "1.2.0",
      "model_name": "LayoutModel",
      "state": {
       "align_items": "stretch",
       "display": "flex",
       "flex_flow": "column",
       "width": "100%"
      }
     },
     "062e9eb6268849e3813f6bad81518a76": {
      "model_module": "@jupyter-widgets/controls",
      "model_module_version": "1.5.0",
      "model_name": "DescriptionStyleModel",
      "state": {
       "description_width": "initial"
      }
     },
     "0633fc6ca56843a89a8abcdf3a5f4bd7": {
      "model_module": "@jupyter-widgets/controls",
      "model_module_version": "1.5.0",
      "model_name": "ButtonStyleModel",
      "state": {
       "button_color": "#4DD0E1"
      }
     },
     "073320ef33ee40b5999f7ba496569c80": {
      "model_module": "@jupyter-widgets/controls",
      "model_module_version": "1.5.0",
      "model_name": "CheckboxModel",
      "state": {
       "disabled": false,
       "layout": "IPY_MODEL_a38034f674a649828c7151e259ad2467",
       "style": "IPY_MODEL_cf5096c74f2141ec9b3e064d021099de",
       "value": false
      }
     },
     "080cd33f8cf143e0b6cbb8934d8bbca5": {
      "model_module": "@jupyter-widgets/controls",
      "model_module_version": "1.5.0",
      "model_name": "DescriptionStyleModel",
      "state": {
       "description_width": ""
      }
     },
     "086c20f2fdd54889a381377b7a780ddb": {
      "model_module": "@jupyter-widgets/controls",
      "model_module_version": "1.5.0",
      "model_name": "LabelModel",
      "state": {
       "layout": "IPY_MODEL_bdd61c544973485abd1d3413ca10be65",
       "style": "IPY_MODEL_acb262a876004b3b8385d855f417fe95"
      }
     },
     "08b0ebaf8a5242d3ace2dec52b860f2a": {
      "model_module": "@jupyter-widgets/controls",
      "model_module_version": "1.5.0",
      "model_name": "LabelModel",
      "state": {
       "layout": "IPY_MODEL_c13bfcf1291a41559593686628ddba81",
       "style": "IPY_MODEL_25b2d9d024794403b51e6860fe5017df"
      }
     },
     "0a6a09d7063e42748666c04f651ea52c": {
      "model_module": "@jupyter-widgets/base",
      "model_module_version": "1.2.0",
      "model_name": "LayoutModel",
      "state": {
       "align_items": "stretch",
       "display": "flex",
       "flex_flow": "row wrap",
       "width": "auto"
      }
     },
     "0a84e8cd177b41e4a67e97352d14c4fd": {
      "model_module": "@jupyter-widgets/base",
      "model_module_version": "1.2.0",
      "model_name": "LayoutModel",
      "state": {}
     },
     "0b5b10579c8e41c5a90078a0b153ead8": {
      "model_module": "@jupyter-widgets/controls",
      "model_module_version": "1.5.0",
      "model_name": "DescriptionStyleModel",
      "state": {
       "description_width": ""
      }
     },
     "0bcb9c1898c64c5290a559b87cfdba4b": {
      "model_module": "@jupyter-widgets/controls",
      "model_module_version": "1.5.0",
      "model_name": "CheckboxModel",
      "state": {
       "disabled": false,
       "layout": "IPY_MODEL_1e3827d518be46edb81d40b6d9013b17",
       "style": "IPY_MODEL_45d5192e65e444149d515636c5acaf31",
       "value": false
      }
     },
     "0c168bc695ba4c019c5a8f53b56ed919": {
      "model_module": "@jupyter-widgets/controls",
      "model_module_version": "1.5.0",
      "model_name": "DescriptionStyleModel",
      "state": {
       "description_width": "initial"
      }
     },
     "0cc3735ce1e74bfe88b7a2b3ab315403": {
      "model_module": "@jupyter-widgets/controls",
      "model_module_version": "1.5.0",
      "model_name": "CheckboxModel",
      "state": {
       "disabled": false,
       "layout": "IPY_MODEL_f7de700398424274877f7ee43a5a6efb",
       "style": "IPY_MODEL_5df08a1bd85943179a8afbf2236eb149",
       "value": false
      }
     },
     "0cee335240b14d96b1ff2bcc95e72829": {
      "model_module": "@jupyter-widgets/controls",
      "model_module_version": "1.5.0",
      "model_name": "DescriptionStyleModel",
      "state": {
       "description_width": ""
      }
     },
     "0d436a8cf1e84f188212b245c64640e8": {
      "model_module": "@jupyter-widgets/base",
      "model_module_version": "1.2.0",
      "model_name": "LayoutModel",
      "state": {
       "align_items": "stretch",
       "display": "flex",
       "flex_flow": "row wrap",
       "width": "auto"
      }
     },
     "0e459f4cfa424f0bbc191d1cfe613fc7": {
      "model_module": "@jupyter-widgets/base",
      "model_module_version": "1.2.0",
      "model_name": "LayoutModel",
      "state": {
       "align_items": "stretch",
       "display": "flex",
       "flex_flow": "row wrap",
       "width": "auto"
      }
     },
     "0fa24750b49b4eb78d00e4310b266340": {
      "model_module": "@jupyter-widgets/controls",
      "model_module_version": "1.5.0",
      "model_name": "HBoxModel",
      "state": {
       "children": [
        "IPY_MODEL_a34df3cb70d240118aa8f306da5ea25e",
        "IPY_MODEL_086c20f2fdd54889a381377b7a780ddb",
        "IPY_MODEL_993bf6fe656c4e29adc4ef69dd18c073"
       ],
       "layout": "IPY_MODEL_740afc9b98024ff0bbf8c38a857c569d"
      }
     },
     "0fc0331426574dd0a20be79295529388": {
      "model_module": "@jupyter-widgets/base",
      "model_module_version": "1.2.0",
      "model_name": "LayoutModel",
      "state": {}
     },
     "0fca8da80db246c18935f37a8117ce9d": {
      "model_module": "@jupyter-widgets/controls",
      "model_module_version": "1.5.0",
      "model_name": "ButtonModel",
      "state": {
       "description": "Submit",
       "layout": "IPY_MODEL_4c9a1a68895245679fb1dc2e92605b58",
       "style": "IPY_MODEL_53ad2eb74a994e399e39424e6a567cf0"
      }
     },
     "1347d875cecf473092d84e0db70144e2": {
      "model_module": "@jupyter-widgets/controls",
      "model_module_version": "1.5.0",
      "model_name": "DescriptionStyleModel",
      "state": {
       "description_width": ""
      }
     },
     "1451cc7284a3493192bc14015ce25ed7": {
      "model_module": "@jupyter-widgets/controls",
      "model_module_version": "1.5.0",
      "model_name": "HTMLModel",
      "state": {
       "layout": "IPY_MODEL_f2c7d3f16fb84687bdf3343996dd0088",
       "style": "IPY_MODEL_39e84eaff1e744578f8deb1e0a79e7a4",
       "value": "<style>p{word-wrap: break-word}</style> <p>Fill in the blanks with a whole number. </p>"
      }
     },
     "14bace2424c546e8a86814ff5474196b": {
      "model_module": "@jupyter-widgets/base",
      "model_module_version": "1.2.0",
      "model_name": "LayoutModel",
      "state": {
       "align_items": "stretch",
       "display": "flex",
       "flex_flow": "row wrap",
       "margin": "30px 0 0 0"
      }
     },
     "1653a2cbf53d429393fb294eb01a4cc8": {
      "model_module": "@jupyter-widgets/base",
      "model_module_version": "1.2.0",
      "model_name": "LayoutModel",
      "state": {}
     },
     "16a22f6e45794b75bdff135896a55d9a": {
      "model_module": "@jupyter-widgets/controls",
      "model_module_version": "1.5.0",
      "model_name": "HBoxModel",
      "state": {
       "children": [
        "IPY_MODEL_74c18caf36cf4257889a7035038e6709",
        "IPY_MODEL_24f56de37782490988217bf3a931cfdc"
       ],
       "layout": "IPY_MODEL_f6be6adf8d50404bbb2b7e15457ca9cb"
      }
     },
     "1850abcddc4b4ed5ae2cbba2e21b27de": {
      "model_module": "@jupyter-widgets/controls",
      "model_module_version": "1.5.0",
      "model_name": "LabelModel",
      "state": {
       "layout": "IPY_MODEL_338cd651cf5f4582b4d62f3ecee23efa",
       "style": "IPY_MODEL_ac1b49f5b94b4c37b2865557a262dfbc"
      }
     },
     "1a2223cd21b44856aac9395fc4f4a39a": {
      "model_module": "@jupyter-widgets/controls",
      "model_module_version": "1.5.0",
      "model_name": "HTMLModel",
      "state": {
       "layout": "IPY_MODEL_c74ab6a0351242b5be9e612ad59a2abb",
       "style": "IPY_MODEL_1347d875cecf473092d84e0db70144e2",
       "value": "<style>p{word-wrap: break-word}</style> <p>fib(n) - 1 + fib(n - 2) </p>"
      }
     },
     "1ae1b7b35fd0495f91b529f56dffd7c9": {
      "model_module": "@jupyter-widgets/base",
      "model_module_version": "1.2.0",
      "model_name": "LayoutModel",
      "state": {
       "align_items": "stretch",
       "display": "flex",
       "flex_flow": "row wrap",
       "width": "auto"
      }
     },
     "1b28f94c875246cca7df962309fbdb36": {
      "model_module": "@jupyter-widgets/controls",
      "model_module_version": "1.5.0",
      "model_name": "DescriptionStyleModel",
      "state": {
       "description_width": ""
      }
     },
     "1c6ce50bcda94ed8af9ba93f22566fe9": {
      "model_module": "@jupyter-widgets/controls",
      "model_module_version": "1.5.0",
      "model_name": "LabelModel",
      "state": {
       "layout": "IPY_MODEL_6b905488cfcf49fb9233a0f839b241df",
       "style": "IPY_MODEL_a74190221b444bb4b852d0066336b9b3"
      }
     },
     "1e3827d518be46edb81d40b6d9013b17": {
      "model_module": "@jupyter-widgets/base",
      "model_module_version": "1.2.0",
      "model_name": "LayoutModel",
      "state": {
       "width": "30px"
      }
     },
     "1f1134c08c0b43728f50cf64f8894184": {
      "model_module": "@jupyter-widgets/base",
      "model_module_version": "1.2.0",
      "model_name": "LayoutModel",
      "state": {
       "align_items": "stretch",
       "display": "flex",
       "flex_flow": "row wrap",
       "width": "auto"
      }
     },
     "1f8e8da0be0b4c068cf6830429cbf57b": {
      "model_module": "@jupyter-widgets/base",
      "model_module_version": "1.2.0",
      "model_name": "LayoutModel",
      "state": {
       "align_items": "stretch",
       "display": "flex",
       "flex_flow": "row wrap",
       "width": "auto"
      }
     },
     "1fc161d3041d42b485d6d1f824eb7108": {
      "model_module": "@jupyter-widgets/controls",
      "model_module_version": "1.5.0",
      "model_name": "HBoxModel",
      "state": {
       "children": [
        "IPY_MODEL_4447f75c6b4944dd9790927463e2218d",
        "IPY_MODEL_862620b0155d41c4abfeb4f52026339c",
        "IPY_MODEL_3bf5515d739046e8916e069cec7d4ded"
       ],
       "layout": "IPY_MODEL_87a60ab80f63489883e7a2d98d48ce83"
      }
     },
     "1fe00ff0b9c44916a5c59f8fe444aba1": {
      "model_module": "@jupyter-widgets/base",
      "model_module_version": "1.2.0",
      "model_name": "LayoutModel",
      "state": {
       "align_items": "stretch",
       "display": "flex",
       "flex_flow": "row wrap",
       "width": "auto"
      }
     },
     "228b1761f59e462da77d641fc78510ee": {
      "model_module": "@jupyter-widgets/controls",
      "model_module_version": "1.5.0",
      "model_name": "DescriptionStyleModel",
      "state": {
       "description_width": ""
      }
     },
     "22ae74b6daae4a81b7ddaf473cabd651": {
      "model_module": "@jupyter-widgets/controls",
      "model_module_version": "1.5.0",
      "model_name": "DescriptionStyleModel",
      "state": {
       "description_width": ""
      }
     },
     "2330fcaadf5d40bd94d8300122411d83": {
      "model_module": "@jupyter-widgets/controls",
      "model_module_version": "1.5.0",
      "model_name": "HBoxModel",
      "state": {
       "children": [
        "IPY_MODEL_91053ae2ba5d4385adae1e5f8144c423",
        "IPY_MODEL_f75af882523a4d1e9c02bbd3da5d710b"
       ],
       "layout": "IPY_MODEL_3ff2ea35bbdc4e0992c6f8761c55c1fb"
      }
     },
     "24f56de37782490988217bf3a931cfdc": {
      "model_module": "@jupyter-widgets/controls",
      "model_module_version": "1.5.0",
      "model_name": "HTMLModel",
      "state": {
       "layout": "IPY_MODEL_bb8d5234ae044fa29fe09b83ea590de5",
       "style": "IPY_MODEL_e6d42c7e12274a29bf6c64d03320275b",
       "value": "<style>p{word-wrap: break-word}</style> <p>fib(k) - 1 </p>"
      }
     },
     "2511c8b0cab740f18a45d7b5e4a98a53": {
      "model_module": "@jupyter-widgets/base",
      "model_module_version": "1.2.0",
      "model_name": "LayoutModel",
      "state": {
       "display": "flex",
       "flex_flow": "row",
       "justify_content": "space-between",
       "margin": "0 0 20px 0"
      }
     },
     "25b2d9d024794403b51e6860fe5017df": {
      "model_module": "@jupyter-widgets/controls",
      "model_module_version": "1.5.0",
      "model_name": "DescriptionStyleModel",
      "state": {
       "description_width": ""
      }
     },
     "260d9d7195eb41ff8126a351ba7d6e96": {
      "model_module": "@jupyter-widgets/controls",
      "model_module_version": "1.5.0",
      "model_name": "DescriptionStyleModel",
      "state": {
       "description_width": ""
      }
     },
     "2660eea5c3904438a26d8e3703448e51": {
      "model_module": "@jupyter-widgets/base",
      "model_module_version": "1.2.0",
      "model_name": "LayoutModel",
      "state": {
       "align_items": "stretch",
       "display": "flex",
       "flex_flow": "row wrap",
       "margin": "30px 0 0 0"
      }
     },
     "29cb1d178a9541c98c6d748918e928f7": {
      "model_module": "@jupyter-widgets/controls",
      "model_module_version": "1.5.0",
      "model_name": "HBoxModel",
      "state": {
       "children": [
        "IPY_MODEL_0cc3735ce1e74bfe88b7a2b3ab315403",
        "IPY_MODEL_35cedad1079e4c64bb2f976e61cbbb8d"
       ],
       "layout": "IPY_MODEL_6a8ce0643913449b893767a9a1753993"
      }
     },
     "2d5e2635c1854e1690b264a7dd39a177": {
      "model_module": "@jupyter-widgets/base",
      "model_module_version": "1.2.0",
      "model_name": "LayoutModel",
      "state": {
       "align_items": "stretch",
       "display": "flex",
       "flex_flow": "column",
       "width": "100%"
      }
     },
     "2d88462add9748448916c16b843f72aa": {
      "model_module": "@jupyter-widgets/base",
      "model_module_version": "1.2.0",
      "model_name": "LayoutModel",
      "state": {
       "display": "flex",
       "flex_flow": "row",
       "justify_content": "space-between",
       "margin": "0 0 20px 0"
      }
     },
     "2eea491ccbe04bd989306ef42046c571": {
      "model_module": "@jupyter-widgets/controls",
      "model_module_version": "1.5.0",
      "model_name": "HBoxModel",
      "state": {
       "children": [
        "IPY_MODEL_7686c4b35aa847209a585dccad6c114c"
       ],
       "layout": "IPY_MODEL_954cfca07e254467989dcd4d0db93ea1"
      }
     },
     "2f53fbe7facd443fbe9b6e0be2dd1df0": {
      "model_module": "@jupyter-widgets/controls",
      "model_module_version": "1.5.0",
      "model_name": "ButtonStyleModel",
      "state": {
       "button_color": "#4DD0E1"
      }
     },
     "2fc52351198241b09f37e0db240af08e": {
      "model_module": "@jupyter-widgets/base",
      "model_module_version": "1.2.0",
      "model_name": "LayoutModel",
      "state": {}
     },
     "306c76156d6e40e284decead3cfbb448": {
      "model_module": "@jupyter-widgets/controls",
      "model_module_version": "1.5.0",
      "model_name": "HBoxModel",
      "state": {
       "children": [
        "IPY_MODEL_0fca8da80db246c18935f37a8117ce9d",
        "IPY_MODEL_f5d2f26cecb34bae8de7943e35859ab6",
        "IPY_MODEL_3a5b2262f73c4605bf4d745b86a05895"
       ],
       "layout": "IPY_MODEL_14bace2424c546e8a86814ff5474196b"
      }
     },
     "31ff5b62e43a4b6dae5d6dc38664401b": {
      "model_module": "@jupyter-widgets/base",
      "model_module_version": "1.2.0",
      "model_name": "LayoutModel",
      "state": {
       "align_items": "stretch",
       "display": "flex",
       "flex_flow": "column",
       "width": "100%"
      }
     },
     "32515b6e537b45bc84c78a47986a5b28": {
      "model_module": "@jupyter-widgets/controls",
      "model_module_version": "1.5.0",
      "model_name": "DescriptionStyleModel",
      "state": {
       "description_width": ""
      }
     },
     "327a80f8322643688b85f0d5877b2105": {
      "model_module": "@jupyter-widgets/controls",
      "model_module_version": "1.5.0",
      "model_name": "HTMLModel",
      "state": {
       "layout": "IPY_MODEL_0fc0331426574dd0a20be79295529388",
       "style": "IPY_MODEL_ad86967a16a6432c8ea6136085608fb6",
       "value": "<style>p{word-wrap: break-word}</style> <p>fib(n) - 1 </p>"
      }
     },
     "338cd651cf5f4582b4d62f3ecee23efa": {
      "model_module": "@jupyter-widgets/base",
      "model_module_version": "1.2.0",
      "model_name": "LayoutModel",
      "state": {
       "height": "50%",
       "margin": "0 0 0 30px",
       "width": "50%"
      }
     },
     "35cedad1079e4c64bb2f976e61cbbb8d": {
      "model_module": "@jupyter-widgets/controls",
      "model_module_version": "1.5.0",
      "model_name": "HTMLModel",
      "state": {
       "layout": "IPY_MODEL_a88fb999a8274ff6a1d130a43a191a58",
       "style": "IPY_MODEL_bf6502197259418ca2a3f924c691d412",
       "value": "<style>p{word-wrap: break-word}</style> <p>fib(k - 1) </p>"
      }
     },
     "372a2e7916ec444e9315343b47b21aa2": {
      "model_module": "@jupyter-widgets/base",
      "model_module_version": "1.2.0",
      "model_name": "LayoutModel",
      "state": {}
     },
     "376041715d44410d9a6c8da5f42c2ee3": {
      "model_module": "@jupyter-widgets/controls",
      "model_module_version": "1.5.0",
      "model_name": "DescriptionStyleModel",
      "state": {
       "description_width": ""
      }
     },
     "38230be9f530496c8bbc2733b05b3605": {
      "model_module": "@jupyter-widgets/controls",
      "model_module_version": "1.5.0",
      "model_name": "HTMLModel",
      "state": {
       "layout": "IPY_MODEL_2fc52351198241b09f37e0db240af08e",
       "style": "IPY_MODEL_c7f0284ad62d428d85be773862162101",
       "value": "<style>p{word-wrap: break-word}</style> <p>times,  </p>"
      }
     },
     "39e84eaff1e744578f8deb1e0a79e7a4": {
      "model_module": "@jupyter-widgets/controls",
      "model_module_version": "1.5.0",
      "model_name": "DescriptionStyleModel",
      "state": {
       "description_width": ""
      }
     },
     "3a5b2262f73c4605bf4d745b86a05895": {
      "model_module": "@jupyter-widgets/controls",
      "model_module_version": "1.5.0",
      "model_name": "ButtonModel",
      "state": {
       "description": "Show answer",
       "disabled": true,
       "layout": "IPY_MODEL_6b8df12cdec140448e4c830b0c4a1c1a",
       "style": "IPY_MODEL_0633fc6ca56843a89a8abcdf3a5f4bd7"
      }
     },
     "3bf5515d739046e8916e069cec7d4ded": {
      "model_module": "@jupyter-widgets/controls",
      "model_module_version": "1.5.0",
      "model_name": "HTMLModel",
      "state": {
       "layout": "IPY_MODEL_a2cd7a73219b404ebade1543d4f40b9d",
       "style": "IPY_MODEL_4199316238bd4d5c99ca18b31f30b15f",
       "value": "<style>p{word-wrap: break-word}</style> <p>times. </p>"
      }
     },
     "3ff2ea35bbdc4e0992c6f8761c55c1fb": {
      "model_module": "@jupyter-widgets/base",
      "model_module_version": "1.2.0",
      "model_name": "LayoutModel",
      "state": {
       "align_items": "stretch",
       "display": "flex",
       "flex_flow": "row wrap",
       "width": "auto"
      }
     },
     "3ffbff65494f4343abee752e42a8f4f7": {
      "model_module": "@jupyter-widgets/controls",
      "model_module_version": "1.5.0",
      "model_name": "DescriptionStyleModel",
      "state": {
       "description_width": ""
      }
     },
     "411ea1ccad944b3f814dcaf04227ac90": {
      "model_module": "@jupyter-widgets/controls",
      "model_module_version": "1.5.0",
      "model_name": "CheckboxModel",
      "state": {
       "disabled": false,
       "layout": "IPY_MODEL_48d879cc92864838a97d69c3591dfd71",
       "style": "IPY_MODEL_d294029f823144e3b798116f546fb7c6",
       "value": false
      }
     },
     "4199316238bd4d5c99ca18b31f30b15f": {
      "model_module": "@jupyter-widgets/controls",
      "model_module_version": "1.5.0",
      "model_name": "DescriptionStyleModel",
      "state": {
       "description_width": ""
      }
     },
     "41cd9362fde64afdb1ca77903399f91d": {
      "model_module": "@jupyter-widgets/controls",
      "model_module_version": "1.5.0",
      "model_name": "HBoxModel",
      "state": {
       "children": [
        "IPY_MODEL_7dd7101c007f46cc86738cbb7df56a8f",
        "IPY_MODEL_f459e0ea8db14a29bf7878c0588094cc"
       ],
       "layout": "IPY_MODEL_0d436a8cf1e84f188212b245c64640e8"
      }
     },
     "41ea7eadec9c4447bf719321d14d1b95": {
      "model_module": "@jupyter-widgets/base",
      "model_module_version": "1.2.0",
      "model_name": "LayoutModel",
      "state": {}
     },
     "4447f75c6b4944dd9790927463e2218d": {
      "model_module": "@jupyter-widgets/controls",
      "model_module_version": "1.5.0",
      "model_name": "HTMLModel",
      "state": {
       "layout": "IPY_MODEL_02af23f316a84316b3b1e2a3aee8398b",
       "style": "IPY_MODEL_8cb4749d99bb4fd8a692fd8141039b99",
       "value": "<style>p{word-wrap: break-word}</style> <p>and fib(1) is called </p>"
      }
     },
     "44900dd4e6ab4dd39aa86efbd3b6faa5": {
      "model_module": "@jupyter-widgets/base",
      "model_module_version": "1.2.0",
      "model_name": "LayoutModel",
      "state": {
       "align_items": "stretch",
       "display": "flex",
       "flex_flow": "row wrap",
       "width": "auto"
      }
     },
     "45d5192e65e444149d515636c5acaf31": {
      "model_module": "@jupyter-widgets/controls",
      "model_module_version": "1.5.0",
      "model_name": "DescriptionStyleModel",
      "state": {
       "description_width": "initial"
      }
     },
     "461d280f278b490aa9d57d1283b2eeb6": {
      "model_module": "@jupyter-widgets/controls",
      "model_module_version": "1.5.0",
      "model_name": "HBoxModel",
      "state": {
       "children": [
        "IPY_MODEL_af2898c2d7e0437facb30a37f14a81c6",
        "IPY_MODEL_29cb1d178a9541c98c6d748918e928f7"
       ],
       "layout": "IPY_MODEL_0e459f4cfa424f0bbc191d1cfe613fc7"
      }
     },
     "48d879cc92864838a97d69c3591dfd71": {
      "model_module": "@jupyter-widgets/base",
      "model_module_version": "1.2.0",
      "model_name": "LayoutModel",
      "state": {
       "width": "30px"
      }
     },
     "499da927e2e94f51878df93d6c946b99": {
      "model_module": "@jupyter-widgets/base",
      "model_module_version": "1.2.0",
      "model_name": "LayoutModel",
      "state": {
       "align_items": "stretch",
       "display": "flex",
       "flex_flow": "row wrap",
       "width": "auto"
      }
     },
     "49eb8955a61d438395fffa5ccba08d0a": {
      "model_module": "@jupyter-widgets/base",
      "model_module_version": "1.2.0",
      "model_name": "LayoutModel",
      "state": {}
     },
     "4c9a1a68895245679fb1dc2e92605b58": {
      "model_module": "@jupyter-widgets/base",
      "model_module_version": "1.2.0",
      "model_name": "LayoutModel",
      "state": {}
     },
     "4cdc417dc263423885079b93c1f86938": {
      "model_module": "@jupyter-widgets/controls",
      "model_module_version": "1.5.0",
      "model_name": "VBoxModel",
      "state": {
       "box_style": "info",
       "children": [
        "IPY_MODEL_2eea491ccbe04bd989306ef42046c571",
        "IPY_MODEL_7df6f065fc114b728cd504afb94fc630",
        "IPY_MODEL_0fa24750b49b4eb78d00e4310b266340"
       ],
       "layout": "IPY_MODEL_c22b51ea7deb4b09846d81076dd484a4"
      }
     },
     "5097ccac989c47a0a5a9e1f68c8db210": {
      "model_module": "@jupyter-widgets/controls",
      "model_module_version": "1.5.0",
      "model_name": "DescriptionStyleModel",
      "state": {
       "description_width": ""
      }
     },
     "511737a65c1c47658e42cbdf75791ae8": {
      "model_module": "@jupyter-widgets/controls",
      "model_module_version": "1.5.0",
      "model_name": "ButtonStyleModel",
      "state": {
       "button_color": "#4DD0E1"
      }
     },
     "512f9667b0ca498494b4005d2e3c8b33": {
      "model_module": "@jupyter-widgets/controls",
      "model_module_version": "1.5.0",
      "model_name": "HTMLModel",
      "state": {
       "layout": "IPY_MODEL_5a3bd4a1b86043ee879dcab6b3cf1579",
       "style": "IPY_MODEL_7aeb62c8627f453991326c6ba83db2e9",
       "value": "<style>p{word-wrap: break-word}</style> <p>fib(n - k) </p>"
      }
     },
     "5250e2d51f224ea1b1e5a8f54d07606e": {
      "model_module": "@jupyter-widgets/controls",
      "model_module_version": "1.5.0",
      "model_name": "CheckboxModel",
      "state": {
       "disabled": false,
       "layout": "IPY_MODEL_5848eaa511754468b3b4f63caaaa2855",
       "style": "IPY_MODEL_0c168bc695ba4c019c5a8f53b56ed919",
       "value": false
      }
     },
     "52dababcc3a5486f9e35470bdcdfb930": {
      "model_module": "@jupyter-widgets/base",
      "model_module_version": "1.2.0",
      "model_name": "LayoutModel",
      "state": {
       "width": "30px"
      }
     },
     "532a45cbc62b4e019831ceb5dd7390c5": {
      "model_module": "@jupyter-widgets/base",
      "model_module_version": "1.2.0",
      "model_name": "LayoutModel",
      "state": {}
     },
     "53ad2eb74a994e399e39424e6a567cf0": {
      "model_module": "@jupyter-widgets/controls",
      "model_module_version": "1.5.0",
      "model_name": "ButtonStyleModel",
      "state": {
       "button_color": "#4DD0E1"
      }
     },
     "552c55e491f746c5b6805bb315b7133a": {
      "model_module": "@jupyter-widgets/base",
      "model_module_version": "1.2.0",
      "model_name": "LayoutModel",
      "state": {
       "width": "auto"
      }
     },
     "572c51ba3ffb43be873edd05ac69b361": {
      "model_module": "@jupyter-widgets/controls",
      "model_module_version": "1.5.0",
      "model_name": "HBoxModel",
      "state": {
       "children": [
        "IPY_MODEL_f853794f1ac84ca08ebe5b113a753629",
        "IPY_MODEL_977ae836be8d495b9969e8b60a56f63d"
       ],
       "layout": "IPY_MODEL_b0c633c00a4d4c87bb690d06508ee7fd"
      }
     },
     "57e2a9f66bd1445a98ee8633f680d766": {
      "model_module": "@jupyter-widgets/controls",
      "model_module_version": "1.5.0",
      "model_name": "ButtonModel",
      "state": {
       "description": "Submit",
       "layout": "IPY_MODEL_8751cb3503bd4b058d5135552a694640",
       "style": "IPY_MODEL_586a030efdf3446b9c8e5cda4887500d"
      }
     },
     "5848eaa511754468b3b4f63caaaa2855": {
      "model_module": "@jupyter-widgets/base",
      "model_module_version": "1.2.0",
      "model_name": "LayoutModel",
      "state": {
       "width": "30px"
      }
     },
     "586a030efdf3446b9c8e5cda4887500d": {
      "model_module": "@jupyter-widgets/controls",
      "model_module_version": "1.5.0",
      "model_name": "ButtonStyleModel",
      "state": {
       "button_color": "#4DD0E1"
      }
     },
     "58ccda2ec95f4b6c939606f34cba6d6a": {
      "model_module": "@jupyter-widgets/controls",
      "model_module_version": "1.5.0",
      "model_name": "DescriptionStyleModel",
      "state": {
       "description_width": ""
      }
     },
     "5a110ab6805b4d969fd963c457ff7637": {
      "model_module": "@jupyter-widgets/base",
      "model_module_version": "1.2.0",
      "model_name": "LayoutModel",
      "state": {}
     },
     "5a190dbc4f314708a89d5ef25f95360e": {
      "model_module": "@jupyter-widgets/controls",
      "model_module_version": "1.5.0",
      "model_name": "HBoxModel",
      "state": {
       "children": [
        "IPY_MODEL_08b0ebaf8a5242d3ace2dec52b860f2a",
        "IPY_MODEL_16a22f6e45794b75bdff135896a55d9a"
       ],
       "layout": "IPY_MODEL_1fe00ff0b9c44916a5c59f8fe444aba1"
      }
     },
     "5a3bd4a1b86043ee879dcab6b3cf1579": {
      "model_module": "@jupyter-widgets/base",
      "model_module_version": "1.2.0",
      "model_name": "LayoutModel",
      "state": {}
     },
     "5c9a12b26c9b45048408df1dc6404c59": {
      "model_module": "@jupyter-widgets/controls",
      "model_module_version": "1.5.0",
      "model_name": "CheckboxModel",
      "state": {
       "disabled": false,
       "layout": "IPY_MODEL_52dababcc3a5486f9e35470bdcdfb930",
       "style": "IPY_MODEL_062e9eb6268849e3813f6bad81518a76",
       "value": false
      }
     },
     "5df08a1bd85943179a8afbf2236eb149": {
      "model_module": "@jupyter-widgets/controls",
      "model_module_version": "1.5.0",
      "model_name": "DescriptionStyleModel",
      "state": {
       "description_width": "initial"
      }
     },
     "5e1ef0ef58404f2ca63e5fc6d16e65e0": {
      "model_module": "@jupyter-widgets/base",
      "model_module_version": "1.2.0",
      "model_name": "LayoutModel",
      "state": {}
     },
     "5f5330e2cfca4285a9cf315a5e2a7526": {
      "model_module": "@jupyter-widgets/base",
      "model_module_version": "1.2.0",
      "model_name": "LayoutModel",
      "state": {
       "height": "50%",
       "margin": "0 0 0 30px",
       "width": "50%"
      }
     },
     "6002ce8a247645a19e164ac500cb2d19": {
      "model_module": "@jupyter-widgets/controls",
      "model_module_version": "1.5.0",
      "model_name": "HBoxModel",
      "state": {
       "children": [
        "IPY_MODEL_8283e4fb1f164696ba737b7fa4c385d6",
        "IPY_MODEL_c12d22a674c74c67b675674c14191a28",
        "IPY_MODEL_609148c8049843df8e01f0052a3193e6"
       ],
       "layout": "IPY_MODEL_841c57e7a82f48f182ab5c4f49892b10"
      }
     },
     "601b1c9ed52240549d747d32b8cd7d38": {
      "model_module": "@jupyter-widgets/controls",
      "model_module_version": "1.5.0",
      "model_name": "VBoxModel",
      "state": {
       "box_style": "info",
       "children": [
        "IPY_MODEL_c86946823ed84500a80d047b625123c3",
        "IPY_MODEL_f0ce4e9dbb6f4f03a27a5edaef162823",
        "IPY_MODEL_6002ce8a247645a19e164ac500cb2d19"
       ],
       "layout": "IPY_MODEL_de9fcbc674004d909e081dcb638b1702"
      }
     },
     "60204d1ef38248c886abe499b227843c": {
      "model_module": "@jupyter-widgets/controls",
      "model_module_version": "1.5.0",
      "model_name": "HTMLModel",
      "state": {
       "layout": "IPY_MODEL_532a45cbc62b4e019831ceb5dd7390c5",
       "style": "IPY_MODEL_7e75afab651348cf9d8ef2965b247a6e",
       "value": "<style>p{word-wrap: break-word}</style> <p>fib(k) </p>"
      }
     },
     "609148c8049843df8e01f0052a3193e6": {
      "model_module": "@jupyter-widgets/controls",
      "model_module_version": "1.5.0",
      "model_name": "ButtonModel",
      "state": {
       "description": "Show answer",
       "disabled": true,
       "layout": "IPY_MODEL_91ce56f13ac64c04afc5b9c7dece34c4",
       "style": "IPY_MODEL_63e6a8814e504294b3b1f2c1b35a1642"
      }
     },
     "62ee4a4742254aed87c759f67eecef3d": {
      "model_module": "@jupyter-widgets/controls",
      "model_module_version": "1.5.0",
      "model_name": "ButtonStyleModel",
      "state": {
       "button_color": "#4DD0E1"
      }
     },
     "63522dddd6b445f68442b2b9b4dc517c": {
      "model_module": "@jupyter-widgets/base",
      "model_module_version": "1.2.0",
      "model_name": "LayoutModel",
      "state": {
       "align_items": "stretch",
       "display": "flex",
       "flex_flow": "row wrap",
       "width": "auto"
      }
     },
     "63e6a8814e504294b3b1f2c1b35a1642": {
      "model_module": "@jupyter-widgets/controls",
      "model_module_version": "1.5.0",
      "model_name": "ButtonStyleModel",
      "state": {
       "button_color": "#4DD0E1"
      }
     },
     "644fbaef76bf41ebb768b65fc11cd7b6": {
      "model_module": "@jupyter-widgets/base",
      "model_module_version": "1.2.0",
      "model_name": "LayoutModel",
      "state": {
       "align_items": "stretch",
       "display": "flex",
       "flex_flow": "row wrap",
       "width": "auto"
      }
     },
     "652f00cac0b7401181c90abf55636085": {
      "model_module": "@jupyter-widgets/base",
      "model_module_version": "1.2.0",
      "model_name": "LayoutModel",
      "state": {}
     },
     "663db0c7f7a340c882752b53d8b9f4c1": {
      "model_module": "@jupyter-widgets/base",
      "model_module_version": "1.2.0",
      "model_name": "LayoutModel",
      "state": {
       "align_items": "stretch",
       "display": "flex",
       "flex_flow": "row wrap",
       "width": "auto"
      }
     },
     "6a8ce0643913449b893767a9a1753993": {
      "model_module": "@jupyter-widgets/base",
      "model_module_version": "1.2.0",
      "model_name": "LayoutModel",
      "state": {
       "align_items": "stretch",
       "display": "flex",
       "flex_flow": "row wrap",
       "width": "auto"
      }
     },
     "6b406c7ab93647bb91e066fa16cb2070": {
      "model_module": "@jupyter-widgets/controls",
      "model_module_version": "1.5.0",
      "model_name": "HBoxModel",
      "state": {
       "children": [
        "IPY_MODEL_073320ef33ee40b5999f7ba496569c80",
        "IPY_MODEL_60204d1ef38248c886abe499b227843c"
       ],
       "layout": "IPY_MODEL_1f8e8da0be0b4c068cf6830429cbf57b"
      }
     },
     "6b8d7d13282b42198fb445a8c62b2886": {
      "model_module": "@jupyter-widgets/controls",
      "model_module_version": "1.5.0",
      "model_name": "ButtonStyleModel",
      "state": {
       "button_color": "#4DD0E1"
      }
     },
     "6b8df12cdec140448e4c830b0c4a1c1a": {
      "model_module": "@jupyter-widgets/base",
      "model_module_version": "1.2.0",
      "model_name": "LayoutModel",
      "state": {
       "display": "none"
      }
     },
     "6b905488cfcf49fb9233a0f839b241df": {
      "model_module": "@jupyter-widgets/base",
      "model_module_version": "1.2.0",
      "model_name": "LayoutModel",
      "state": {}
     },
     "6c2e3dc941c94032ad66dc4c2eb4c32c": {
      "model_module": "@jupyter-widgets/controls",
      "model_module_version": "1.5.0",
      "model_name": "LabelModel",
      "state": {
       "layout": "IPY_MODEL_f244980c19b9402889c464eb21b8cba1",
       "style": "IPY_MODEL_1b28f94c875246cca7df962309fbdb36"
      }
     },
     "6c596eae99084d6dbc6d7b0e60e4f93c": {
      "model_module": "@jupyter-widgets/controls",
      "model_module_version": "1.5.0",
      "model_name": "HBoxModel",
      "state": {
       "children": [
        "IPY_MODEL_948f74a5edb54f7c884bdc148296e6f1"
       ],
       "layout": "IPY_MODEL_2d88462add9748448916c16b843f72aa"
      }
     },
     "6eb05a2a8eb749b58fbb42d2bad69fd0": {
      "model_module": "@jupyter-widgets/controls",
      "model_module_version": "1.5.0",
      "model_name": "LabelModel",
      "state": {
       "layout": "IPY_MODEL_652f00cac0b7401181c90abf55636085",
       "style": "IPY_MODEL_080cd33f8cf143e0b6cbb8934d8bbca5"
      }
     },
     "740afc9b98024ff0bbf8c38a857c569d": {
      "model_module": "@jupyter-widgets/base",
      "model_module_version": "1.2.0",
      "model_name": "LayoutModel",
      "state": {
       "align_items": "stretch",
       "display": "flex",
       "flex_flow": "row wrap",
       "margin": "30px 0 0 0"
      }
     },
     "74c18caf36cf4257889a7035038e6709": {
      "model_module": "@jupyter-widgets/controls",
      "model_module_version": "1.5.0",
      "model_name": "CheckboxModel",
      "state": {
       "disabled": false,
       "layout": "IPY_MODEL_d88d95dcfac747a8a7839f9924e5314c",
       "style": "IPY_MODEL_8af3af2035e544c0af6cdba2130e14be",
       "value": false
      }
     },
     "766a8fd7e6da40b7b99c0858d154b633": {
      "model_module": "@jupyter-widgets/base",
      "model_module_version": "1.2.0",
      "model_name": "LayoutModel",
      "state": {
       "height": "50%",
       "margin": "0 0 0 30px",
       "width": "50%"
      }
     },
     "7686c4b35aa847209a585dccad6c114c": {
      "model_module": "@jupyter-widgets/controls",
      "model_module_version": "1.5.0",
      "model_name": "HTMLModel",
      "state": {
       "layout": "IPY_MODEL_d42535fef0254fed8db9b0fb4dc21270",
       "style": "IPY_MODEL_5097ccac989c47a0a5a9e1f68c8db210",
       "value": "<style>p{word-wrap: break-word}</style> <p>How many inner nodes does the call tree of fib(n) have? </p>"
      }
     },
     "785b4977f39748d88a2d4282d5c1cbad": {
      "model_module": "@jupyter-widgets/controls",
      "model_module_version": "1.5.0",
      "model_name": "HTMLModel",
      "state": {
       "layout": "IPY_MODEL_372a2e7916ec444e9315343b47b21aa2",
       "style": "IPY_MODEL_83292a09332140999afa07bea6ba0a35",
       "value": "<style>p{word-wrap: break-word}</style> <p>fib(n) </p>"
      }
     },
     "794d34fdecca42dc88b36a296ff9fc4d": {
      "model_module": "@jupyter-widgets/controls",
      "model_module_version": "1.5.0",
      "model_name": "CheckboxModel",
      "state": {
       "disabled": false,
       "layout": "IPY_MODEL_bc8d1e1bcd0d495f818dbedf55a4530f",
       "style": "IPY_MODEL_feee7568f15b4e1c8fc06424f60d01d2",
       "value": false
      }
     },
     "7aeb62c8627f453991326c6ba83db2e9": {
      "model_module": "@jupyter-widgets/controls",
      "model_module_version": "1.5.0",
      "model_name": "DescriptionStyleModel",
      "state": {
       "description_width": ""
      }
     },
     "7b0f4670b0a14d339114d5e8e61449b5": {
      "model_module": "@jupyter-widgets/controls",
      "model_module_version": "1.5.0",
      "model_name": "HTMLModel",
      "state": {
       "layout": "IPY_MODEL_1653a2cbf53d429393fb294eb01a4cc8",
       "style": "IPY_MODEL_a8b214cbfa90417ab432cf5a9147865f",
       "value": "<style>p{word-wrap: break-word}</style> <p>Fill in the blank with regard to our implementation of fib(n) </p>"
      }
     },
     "7dd7101c007f46cc86738cbb7df56a8f": {
      "model_module": "@jupyter-widgets/controls",
      "model_module_version": "1.5.0",
      "model_name": "CheckboxModel",
      "state": {
       "disabled": false,
       "layout": "IPY_MODEL_9f5c5afe45744381a6b7b7e44fdf8ff7",
       "style": "IPY_MODEL_fa61e03c79bb46049cd3775b9a0c780d",
       "value": false
      }
     },
     "7df6f065fc114b728cd504afb94fc630": {
      "model_module": "@jupyter-widgets/controls",
      "model_module_version": "1.5.0",
      "model_name": "VBoxModel",
      "state": {
       "children": [
        "IPY_MODEL_befc5de2f6c0402c8dacd47ced105cbc",
        "IPY_MODEL_572c51ba3ffb43be873edd05ac69b361",
        "IPY_MODEL_2330fcaadf5d40bd94d8300122411d83",
        "IPY_MODEL_b20ca73699f74d039f005391c9fd6e1f",
        "IPY_MODEL_c3f61af16a444256a67a312fbba1a19e"
       ],
       "layout": "IPY_MODEL_31ff5b62e43a4b6dae5d6dc38664401b"
      }
     },
     "7e75afab651348cf9d8ef2965b247a6e": {
      "model_module": "@jupyter-widgets/controls",
      "model_module_version": "1.5.0",
      "model_name": "DescriptionStyleModel",
      "state": {
       "description_width": ""
      }
     },
     "7fc1e754c6944ba1889d8c43db0c947a": {
      "model_module": "@jupyter-widgets/controls",
      "model_module_version": "1.5.0",
      "model_name": "ButtonModel",
      "state": {
       "description": "Show answer",
       "disabled": true,
       "layout": "IPY_MODEL_f68e95c373274a48acba4f15a49586ad",
       "style": "IPY_MODEL_511737a65c1c47658e42cbdf75791ae8"
      }
     },
     "8283e4fb1f164696ba737b7fa4c385d6": {
      "model_module": "@jupyter-widgets/controls",
      "model_module_version": "1.5.0",
      "model_name": "ButtonModel",
      "state": {
       "description": "Submit",
       "layout": "IPY_MODEL_9eba2b8148394ef7b11c5e41a4adfb61",
       "style": "IPY_MODEL_62ee4a4742254aed87c759f67eecef3d"
      }
     },
     "83292a09332140999afa07bea6ba0a35": {
      "model_module": "@jupyter-widgets/controls",
      "model_module_version": "1.5.0",
      "model_name": "DescriptionStyleModel",
      "state": {
       "description_width": ""
      }
     },
     "83b6433ad7684957b2631401fe1ec3b1": {
      "model_module": "@jupyter-widgets/controls",
      "model_module_version": "1.5.0",
      "model_name": "HBoxModel",
      "state": {
       "children": [
        "IPY_MODEL_9a55053d45bc4c4c9bbf97f1e95723d4"
       ],
       "layout": "IPY_MODEL_663db0c7f7a340c882752b53d8b9f4c1"
      }
     },
     "841c57e7a82f48f182ab5c4f49892b10": {
      "model_module": "@jupyter-widgets/base",
      "model_module_version": "1.2.0",
      "model_name": "LayoutModel",
      "state": {
       "align_items": "stretch",
       "display": "flex",
       "flex_flow": "row wrap",
       "margin": "30px 0 0 0"
      }
     },
     "8510b8232ed74b559274ccf92ef7ea1a": {
      "model_module": "@jupyter-widgets/controls",
      "model_module_version": "1.5.0",
      "model_name": "LabelModel",
      "state": {
       "layout": "IPY_MODEL_5a110ab6805b4d969fd963c457ff7637",
       "style": "IPY_MODEL_876a526ad9184ed3b373d096df95868a"
      }
     },
     "862620b0155d41c4abfeb4f52026339c": {
      "model_module": "@jupyter-widgets/controls",
      "model_module_version": "1.5.0",
      "model_name": "TextModel",
      "state": {
       "layout": "IPY_MODEL_552c55e491f746c5b6805bb315b7133a",
       "placeholder": "",
       "style": "IPY_MODEL_03064289ff7d415ab6f7a2f8fda2bb93"
      }
     },
     "8751cb3503bd4b058d5135552a694640": {
      "model_module": "@jupyter-widgets/base",
      "model_module_version": "1.2.0",
      "model_name": "LayoutModel",
      "state": {}
     },
     "876a526ad9184ed3b373d096df95868a": {
      "model_module": "@jupyter-widgets/controls",
      "model_module_version": "1.5.0",
      "model_name": "DescriptionStyleModel",
      "state": {
       "description_width": ""
      }
     },
     "87a60ab80f63489883e7a2d98d48ce83": {
      "model_module": "@jupyter-widgets/base",
      "model_module_version": "1.2.0",
      "model_name": "LayoutModel",
      "state": {
       "align_items": "stretch",
       "display": "flex",
       "flex_flow": "row wrap",
       "width": "auto"
      }
     },
     "88e560bc9fd9468c98eef953b143c8c0": {
      "model_module": "@jupyter-widgets/controls",
      "model_module_version": "1.5.0",
      "model_name": "HTMLModel",
      "state": {
       "layout": "IPY_MODEL_dae18b4a18eb4fcb8025ace1d3a62ebe",
       "style": "IPY_MODEL_0cee335240b14d96b1ff2bcc95e72829",
       "value": "<style>p{word-wrap: break-word}</style> <p>fib(n - 1) </p>"
      }
     },
     "89cf583d8ce34aa1b51336c93b46aa18": {
      "model_module": "@jupyter-widgets/base",
      "model_module_version": "1.2.0",
      "model_name": "LayoutModel",
      "state": {
       "align_items": "stretch",
       "display": "flex",
       "flex_flow": "row wrap",
       "width": "auto"
      }
     },
     "8ae5b8c6d6eb4607953ae354caf441b1": {
      "model_module": "@jupyter-widgets/controls",
      "model_module_version": "1.5.0",
      "model_name": "DescriptionStyleModel",
      "state": {
       "description_width": ""
      }
     },
     "8af3af2035e544c0af6cdba2130e14be": {
      "model_module": "@jupyter-widgets/controls",
      "model_module_version": "1.5.0",
      "model_name": "DescriptionStyleModel",
      "state": {
       "description_width": "initial"
      }
     },
     "8c5e14159a0a48f29b00d45fe175671a": {
      "model_module": "@jupyter-widgets/controls",
      "model_module_version": "1.5.0",
      "model_name": "HTMLModel",
      "state": {
       "layout": "IPY_MODEL_d4effc37f8c54afe81f95bcd5b64249f",
       "style": "IPY_MODEL_8ae5b8c6d6eb4607953ae354caf441b1",
       "value": "<style>p{word-wrap: break-word}</style> <p>The call tree for fib(n) has exactly </p>"
      }
     },
     "8cb4749d99bb4fd8a692fd8141039b99": {
      "model_module": "@jupyter-widgets/controls",
      "model_module_version": "1.5.0",
      "model_name": "DescriptionStyleModel",
      "state": {
       "description_width": ""
      }
     },
     "91053ae2ba5d4385adae1e5f8144c423": {
      "model_module": "@jupyter-widgets/controls",
      "model_module_version": "1.5.0",
      "model_name": "LabelModel",
      "state": {
       "layout": "IPY_MODEL_d8f92119ee594454b6a7711105e26925",
       "style": "IPY_MODEL_58ccda2ec95f4b6c939606f34cba6d6a"
      }
     },
     "91ce56f13ac64c04afc5b9c7dece34c4": {
      "model_module": "@jupyter-widgets/base",
      "model_module_version": "1.2.0",
      "model_name": "LayoutModel",
      "state": {
       "display": "none"
      }
     },
     "948f74a5edb54f7c884bdc148296e6f1": {
      "model_module": "@jupyter-widgets/controls",
      "model_module_version": "1.5.0",
      "model_name": "HTMLModel",
      "state": {
       "layout": "IPY_MODEL_0a84e8cd177b41e4a67e97352d14c4fd",
       "style": "IPY_MODEL_d7f3e4e43ea14595aa12d655e80430bd",
       "value": "<style>p{word-wrap: break-word}</style> <p>Given k between 0 and n - 3, how many nodes of type fib(n - k) does the call stack tree of fib(n) have? </p>"
      }
     },
     "954cfca07e254467989dcd4d0db93ea1": {
      "model_module": "@jupyter-widgets/base",
      "model_module_version": "1.2.0",
      "model_name": "LayoutModel",
      "state": {
       "display": "flex",
       "flex_flow": "row",
       "justify_content": "space-between",
       "margin": "0 0 20px 0"
      }
     },
     "95fff5e6e021404e907d7d9f776e597a": {
      "model_module": "@jupyter-widgets/controls",
      "model_module_version": "1.5.0",
      "model_name": "DescriptionStyleModel",
      "state": {
       "description_width": ""
      }
     },
     "969d43a51f5e4bd8b85e94deb4776acd": {
      "model_module": "@jupyter-widgets/controls",
      "model_module_version": "1.5.0",
      "model_name": "TextModel",
      "state": {
       "layout": "IPY_MODEL_ecf9e64e51e0417faf0cb5dc18750875",
       "placeholder": "",
       "style": "IPY_MODEL_3ffbff65494f4343abee752e42a8f4f7"
      }
     },
     "977ae836be8d495b9969e8b60a56f63d": {
      "model_module": "@jupyter-widgets/controls",
      "model_module_version": "1.5.0",
      "model_name": "HBoxModel",
      "state": {
       "children": [
        "IPY_MODEL_411ea1ccad944b3f814dcaf04227ac90",
        "IPY_MODEL_88e560bc9fd9468c98eef953b143c8c0"
       ],
       "layout": "IPY_MODEL_1ae1b7b35fd0495f91b529f56dffd7c9"
      }
     },
     "993bf6fe656c4e29adc4ef69dd18c073": {
      "model_module": "@jupyter-widgets/controls",
      "model_module_version": "1.5.0",
      "model_name": "ButtonModel",
      "state": {
       "description": "Show answer",
       "disabled": true,
       "layout": "IPY_MODEL_e0e9ee8a1b344864ade17ee49ffc666a",
       "style": "IPY_MODEL_6b8d7d13282b42198fb445a8c62b2886"
      }
     },
     "9a509d5d1ef94336bb607771a56ab3a1": {
      "model_module": "@jupyter-widgets/base",
      "model_module_version": "1.2.0",
      "model_name": "LayoutModel",
      "state": {
       "align_items": "stretch",
       "display": "flex",
       "flex_flow": "row wrap",
       "width": "auto"
      }
     },
     "9a55053d45bc4c4c9bbf97f1e95723d4": {
      "model_module": "@jupyter-widgets/controls",
      "model_module_version": "1.5.0",
      "model_name": "HBoxModel",
      "state": {
       "children": [
        "IPY_MODEL_8c5e14159a0a48f29b00d45fe175671a",
        "IPY_MODEL_e2fb9d44b796408f851826d117d17af1",
        "IPY_MODEL_fb290274eff44358b93c73ae40409cfe"
       ],
       "layout": "IPY_MODEL_1f1134c08c0b43728f50cf64f8894184"
      }
     },
     "9deee5d60a54431c9e104ba9b62a3868": {
      "model_module": "@jupyter-widgets/controls",
      "model_module_version": "1.5.0",
      "model_name": "HBoxModel",
      "state": {
       "children": [
        "IPY_MODEL_57e2a9f66bd1445a98ee8633f680d766",
        "IPY_MODEL_1850abcddc4b4ed5ae2cbba2e21b27de",
        "IPY_MODEL_7fc1e754c6944ba1889d8c43db0c947a"
       ],
       "layout": "IPY_MODEL_2660eea5c3904438a26d8e3703448e51"
      }
     },
     "9eba2b8148394ef7b11c5e41a4adfb61": {
      "model_module": "@jupyter-widgets/base",
      "model_module_version": "1.2.0",
      "model_name": "LayoutModel",
      "state": {}
     },
     "9f11ad52795f49a8904f9f8bf95a0743": {
      "model_module": "@jupyter-widgets/base",
      "model_module_version": "1.2.0",
      "model_name": "LayoutModel",
      "state": {
       "align_items": "stretch",
       "display": "flex",
       "flex_flow": "row wrap",
       "width": "auto"
      }
     },
     "9f5c5afe45744381a6b7b7e44fdf8ff7": {
      "model_module": "@jupyter-widgets/base",
      "model_module_version": "1.2.0",
      "model_name": "LayoutModel",
      "state": {
       "width": "30px"
      }
     },
     "a2cd7a73219b404ebade1543d4f40b9d": {
      "model_module": "@jupyter-widgets/base",
      "model_module_version": "1.2.0",
      "model_name": "LayoutModel",
      "state": {}
     },
     "a34df3cb70d240118aa8f306da5ea25e": {
      "model_module": "@jupyter-widgets/controls",
      "model_module_version": "1.5.0",
      "model_name": "ButtonModel",
      "state": {
       "description": "Submit",
       "layout": "IPY_MODEL_41ea7eadec9c4447bf719321d14d1b95",
       "style": "IPY_MODEL_2f53fbe7facd443fbe9b6e0be2dd1df0"
      }
     },
     "a38034f674a649828c7151e259ad2467": {
      "model_module": "@jupyter-widgets/base",
      "model_module_version": "1.2.0",
      "model_name": "LayoutModel",
      "state": {
       "width": "30px"
      }
     },
     "a490b3170a29430dafb138db954a37a8": {
      "model_module": "@jupyter-widgets/base",
      "model_module_version": "1.2.0",
      "model_name": "LayoutModel",
      "state": {}
     },
     "a74190221b444bb4b852d0066336b9b3": {
      "model_module": "@jupyter-widgets/controls",
      "model_module_version": "1.5.0",
      "model_name": "DescriptionStyleModel",
      "state": {
       "description_width": ""
      }
     },
     "a7716746bd9e45adaf098de0f92e914d": {
      "model_module": "@jupyter-widgets/controls",
      "model_module_version": "1.5.0",
      "model_name": "LabelModel",
      "state": {
       "layout": "IPY_MODEL_d8e0461aeab54370b5f92ea3de4d5248",
       "style": "IPY_MODEL_b577f85141e64137aea3b0545bdc5dbf"
      }
     },
     "a88fb999a8274ff6a1d130a43a191a58": {
      "model_module": "@jupyter-widgets/base",
      "model_module_version": "1.2.0",
      "model_name": "LayoutModel",
      "state": {}
     },
     "a8b214cbfa90417ab432cf5a9147865f": {
      "model_module": "@jupyter-widgets/controls",
      "model_module_version": "1.5.0",
      "model_name": "DescriptionStyleModel",
      "state": {
       "description_width": ""
      }
     },
     "aa44bee26e5246a59ae935733a1c066a": {
      "model_module": "@jupyter-widgets/controls",
      "model_module_version": "1.5.0",
      "model_name": "VBoxModel",
      "state": {
       "box_style": "info",
       "children": [
        "IPY_MODEL_6c596eae99084d6dbc6d7b0e60e4f93c",
        "IPY_MODEL_f13fafd377bf430ab76109cd256b3f69",
        "IPY_MODEL_9deee5d60a54431c9e104ba9b62a3868"
       ],
       "layout": "IPY_MODEL_e8c10e8829fa457485a94da395db353b"
      }
     },
     "abb1baaddb924b16b3250420cd448738": {
      "model_module": "@jupyter-widgets/controls",
      "model_module_version": "1.5.0",
      "model_name": "HBoxModel",
      "state": {
       "children": [
        "IPY_MODEL_bc79defe2514461b8be9280a7552ce46",
        "IPY_MODEL_969d43a51f5e4bd8b85e94deb4776acd",
        "IPY_MODEL_38230be9f530496c8bbc2733b05b3605"
       ],
       "layout": "IPY_MODEL_644fbaef76bf41ebb768b65fc11cd7b6"
      }
     },
     "ac1b49f5b94b4c37b2865557a262dfbc": {
      "model_module": "@jupyter-widgets/controls",
      "model_module_version": "1.5.0",
      "model_name": "DescriptionStyleModel",
      "state": {
       "description_width": ""
      }
     },
     "acb262a876004b3b8385d855f417fe95": {
      "model_module": "@jupyter-widgets/controls",
      "model_module_version": "1.5.0",
      "model_name": "DescriptionStyleModel",
      "state": {
       "description_width": ""
      }
     },
     "ad86967a16a6432c8ea6136085608fb6": {
      "model_module": "@jupyter-widgets/controls",
      "model_module_version": "1.5.0",
      "model_name": "DescriptionStyleModel",
      "state": {
       "description_width": ""
      }
     },
     "af2898c2d7e0437facb30a37f14a81c6": {
      "model_module": "@jupyter-widgets/controls",
      "model_module_version": "1.5.0",
      "model_name": "LabelModel",
      "state": {
       "layout": "IPY_MODEL_49eb8955a61d438395fffa5ccba08d0a",
       "style": "IPY_MODEL_32515b6e537b45bc84c78a47986a5b28"
      }
     },
     "b0c633c00a4d4c87bb690d06508ee7fd": {
      "model_module": "@jupyter-widgets/base",
      "model_module_version": "1.2.0",
      "model_name": "LayoutModel",
      "state": {
       "align_items": "stretch",
       "display": "flex",
       "flex_flow": "row wrap",
       "width": "auto"
      }
     },
     "b20ca73699f74d039f005391c9fd6e1f": {
      "model_module": "@jupyter-widgets/controls",
      "model_module_version": "1.5.0",
      "model_name": "HBoxModel",
      "state": {
       "children": [
        "IPY_MODEL_a7716746bd9e45adaf098de0f92e914d",
        "IPY_MODEL_41cd9362fde64afdb1ca77903399f91d"
       ],
       "layout": "IPY_MODEL_d5b156dfcfcc4cf3b6abd1864964f5fb"
      }
     },
     "b2a9729dba9f4253983cf1f822f3e1d0": {
      "model_module": "@jupyter-widgets/controls",
      "model_module_version": "1.5.0",
      "model_name": "HBoxModel",
      "state": {
       "children": [
        "IPY_MODEL_6c2e3dc941c94032ad66dc4c2eb4c32c",
        "IPY_MODEL_6b406c7ab93647bb91e066fa16cb2070"
       ],
       "layout": "IPY_MODEL_9a509d5d1ef94336bb607771a56ab3a1"
      }
     },
     "b577f85141e64137aea3b0545bdc5dbf": {
      "model_module": "@jupyter-widgets/controls",
      "model_module_version": "1.5.0",
      "model_name": "DescriptionStyleModel",
      "state": {
       "description_width": ""
      }
     },
     "bb7d321d8d6e404e8dbab8266258e5dc": {
      "model_module": "@jupyter-widgets/controls",
      "model_module_version": "1.5.0",
      "model_name": "DescriptionStyleModel",
      "state": {
       "description_width": ""
      }
     },
     "bb8d5234ae044fa29fe09b83ea590de5": {
      "model_module": "@jupyter-widgets/base",
      "model_module_version": "1.2.0",
      "model_name": "LayoutModel",
      "state": {}
     },
     "bc79defe2514461b8be9280a7552ce46": {
      "model_module": "@jupyter-widgets/controls",
      "model_module_version": "1.5.0",
      "model_name": "HTMLModel",
      "state": {
       "layout": "IPY_MODEL_a490b3170a29430dafb138db954a37a8",
       "style": "IPY_MODEL_bb7d321d8d6e404e8dbab8266258e5dc",
       "value": "<style>p{word-wrap: break-word}</style> <p>When calculating the 8th Fibonacci number, fib(2) is called </p>"
      }
     },
     "bc8c3547021e40ed90fbbeaafb8039de": {
      "model_module": "@jupyter-widgets/base",
      "model_module_version": "1.2.0",
      "model_name": "LayoutModel",
      "state": {}
     },
     "bc8d1e1bcd0d495f818dbedf55a4530f": {
      "model_module": "@jupyter-widgets/base",
      "model_module_version": "1.2.0",
      "model_name": "LayoutModel",
      "state": {
       "width": "30px"
      }
     },
     "bdd61c544973485abd1d3413ca10be65": {
      "model_module": "@jupyter-widgets/base",
      "model_module_version": "1.2.0",
      "model_name": "LayoutModel",
      "state": {
       "height": "50%",
       "margin": "0 0 0 30px",
       "width": "50%"
      }
     },
     "befc5de2f6c0402c8dacd47ced105cbc": {
      "model_module": "@jupyter-widgets/controls",
      "model_module_version": "1.5.0",
      "model_name": "HBoxModel",
      "state": {
       "children": [
        "IPY_MODEL_1c6ce50bcda94ed8af9ba93f22566fe9",
        "IPY_MODEL_d56ed01dbc7146109c46bbf8172af92d"
       ],
       "layout": "IPY_MODEL_44900dd4e6ab4dd39aa86efbd3b6faa5"
      }
     },
     "bf6502197259418ca2a3f924c691d412": {
      "model_module": "@jupyter-widgets/controls",
      "model_module_version": "1.5.0",
      "model_name": "DescriptionStyleModel",
      "state": {
       "description_width": ""
      }
     },
     "c12d22a674c74c67b675674c14191a28": {
      "model_module": "@jupyter-widgets/controls",
      "model_module_version": "1.5.0",
      "model_name": "LabelModel",
      "state": {
       "layout": "IPY_MODEL_5f5330e2cfca4285a9cf315a5e2a7526",
       "style": "IPY_MODEL_260d9d7195eb41ff8126a351ba7d6e96"
      }
     },
     "c13bfcf1291a41559593686628ddba81": {
      "model_module": "@jupyter-widgets/base",
      "model_module_version": "1.2.0",
      "model_name": "LayoutModel",
      "state": {}
     },
     "c22b51ea7deb4b09846d81076dd484a4": {
      "model_module": "@jupyter-widgets/base",
      "model_module_version": "1.2.0",
      "model_name": "LayoutModel",
      "state": {
       "align_items": "stretch",
       "display": "flex",
       "flex_flow": "column",
       "width": "100%"
      }
     },
     "c3f61af16a444256a67a312fbba1a19e": {
      "model_module": "@jupyter-widgets/controls",
      "model_module_version": "1.5.0",
      "model_name": "HBoxModel",
      "state": {
       "children": [
        "IPY_MODEL_8510b8232ed74b559274ccf92ef7ea1a",
        "IPY_MODEL_ec14cf6e52e744fb89f06fef85052cad"
       ],
       "layout": "IPY_MODEL_0a6a09d7063e42748666c04f651ea52c"
      }
     },
     "c456139ebfb342c2880f035cd62d561e": {
      "model_module": "@jupyter-widgets/controls",
      "model_module_version": "1.5.0",
      "model_name": "HBoxModel",
      "state": {
       "children": [
        "IPY_MODEL_794d34fdecca42dc88b36a296ff9fc4d",
        "IPY_MODEL_512f9667b0ca498494b4005d2e3c8b33"
       ],
       "layout": "IPY_MODEL_fddc83f3597f4babb81fb9511076d69c"
      }
     },
     "c74ab6a0351242b5be9e612ad59a2abb": {
      "model_module": "@jupyter-widgets/base",
      "model_module_version": "1.2.0",
      "model_name": "LayoutModel",
      "state": {}
     },
     "c7f0284ad62d428d85be773862162101": {
      "model_module": "@jupyter-widgets/controls",
      "model_module_version": "1.5.0",
      "model_name": "DescriptionStyleModel",
      "state": {
       "description_width": ""
      }
     },
     "c86946823ed84500a80d047b625123c3": {
      "model_module": "@jupyter-widgets/controls",
      "model_module_version": "1.5.0",
      "model_name": "HBoxModel",
      "state": {
       "children": [
        "IPY_MODEL_1451cc7284a3493192bc14015ce25ed7"
       ],
       "layout": "IPY_MODEL_d642874c336a41a79ea6cfbe3c503aa7"
      }
     },
     "cafbb8410aa845858518d70bdbf9c9a6": {
      "model_module": "@jupyter-widgets/controls",
      "model_module_version": "1.5.0",
      "model_name": "HBoxModel",
      "state": {
       "children": [
        "IPY_MODEL_7b0f4670b0a14d339114d5e8e61449b5"
       ],
       "layout": "IPY_MODEL_2511c8b0cab740f18a45d7b5e4a98a53"
      }
     },
     "cf5096c74f2141ec9b3e064d021099de": {
      "model_module": "@jupyter-widgets/controls",
      "model_module_version": "1.5.0",
      "model_name": "DescriptionStyleModel",
      "state": {
       "description_width": "initial"
      }
     },
     "d294029f823144e3b798116f546fb7c6": {
      "model_module": "@jupyter-widgets/controls",
      "model_module_version": "1.5.0",
      "model_name": "DescriptionStyleModel",
      "state": {
       "description_width": "initial"
      }
     },
     "d42535fef0254fed8db9b0fb4dc21270": {
      "model_module": "@jupyter-widgets/base",
      "model_module_version": "1.2.0",
      "model_name": "LayoutModel",
      "state": {}
     },
     "d4effc37f8c54afe81f95bcd5b64249f": {
      "model_module": "@jupyter-widgets/base",
      "model_module_version": "1.2.0",
      "model_name": "LayoutModel",
      "state": {}
     },
     "d56ed01dbc7146109c46bbf8172af92d": {
      "model_module": "@jupyter-widgets/controls",
      "model_module_version": "1.5.0",
      "model_name": "HBoxModel",
      "state": {
       "children": [
        "IPY_MODEL_5c9a12b26c9b45048408df1dc6404c59",
        "IPY_MODEL_785b4977f39748d88a2d4282d5c1cbad"
       ],
       "layout": "IPY_MODEL_499da927e2e94f51878df93d6c946b99"
      }
     },
     "d5b156dfcfcc4cf3b6abd1864964f5fb": {
      "model_module": "@jupyter-widgets/base",
      "model_module_version": "1.2.0",
      "model_name": "LayoutModel",
      "state": {
       "align_items": "stretch",
       "display": "flex",
       "flex_flow": "row wrap",
       "width": "auto"
      }
     },
     "d642874c336a41a79ea6cfbe3c503aa7": {
      "model_module": "@jupyter-widgets/base",
      "model_module_version": "1.2.0",
      "model_name": "LayoutModel",
      "state": {
       "display": "flex",
       "flex_flow": "row",
       "justify_content": "space-between",
       "margin": "0 0 20px 0"
      }
     },
     "d77a2636a1e04b8e83be1b45b3c28fcf": {
      "model_module": "@jupyter-widgets/base",
      "model_module_version": "1.2.0",
      "model_name": "LayoutModel",
      "state": {}
     },
     "d7f3e4e43ea14595aa12d655e80430bd": {
      "model_module": "@jupyter-widgets/controls",
      "model_module_version": "1.5.0",
      "model_name": "DescriptionStyleModel",
      "state": {
       "description_width": ""
      }
     },
     "d88d95dcfac747a8a7839f9924e5314c": {
      "model_module": "@jupyter-widgets/base",
      "model_module_version": "1.2.0",
      "model_name": "LayoutModel",
      "state": {
       "width": "30px"
      }
     },
     "d8e0461aeab54370b5f92ea3de4d5248": {
      "model_module": "@jupyter-widgets/base",
      "model_module_version": "1.2.0",
      "model_name": "LayoutModel",
      "state": {}
     },
     "d8f92119ee594454b6a7711105e26925": {
      "model_module": "@jupyter-widgets/base",
      "model_module_version": "1.2.0",
      "model_name": "LayoutModel",
      "state": {}
     },
     "dae18b4a18eb4fcb8025ace1d3a62ebe": {
      "model_module": "@jupyter-widgets/base",
      "model_module_version": "1.2.0",
      "model_name": "LayoutModel",
      "state": {}
     },
     "de9fcbc674004d909e081dcb638b1702": {
      "model_module": "@jupyter-widgets/base",
      "model_module_version": "1.2.0",
      "model_name": "LayoutModel",
      "state": {
       "align_items": "stretch",
       "display": "flex",
       "flex_flow": "column",
       "width": "100%"
      }
     },
     "e0e9ee8a1b344864ade17ee49ffc666a": {
      "model_module": "@jupyter-widgets/base",
      "model_module_version": "1.2.0",
      "model_name": "LayoutModel",
      "state": {
       "display": "none"
      }
     },
     "e2fb9d44b796408f851826d117d17af1": {
      "model_module": "@jupyter-widgets/controls",
      "model_module_version": "1.5.0",
      "model_name": "TextModel",
      "state": {
       "layout": "IPY_MODEL_e8e15189dae2468e98dde33b6d28d9a7",
       "placeholder": "",
       "style": "IPY_MODEL_376041715d44410d9a6c8da5f42c2ee3"
      }
     },
     "e6a4726d329a4b3d95cfb8f3963f77db": {
      "model_module": "@jupyter-widgets/controls",
      "model_module_version": "1.5.0",
      "model_name": "VBoxModel",
      "state": {
       "box_style": "info",
       "children": [
        "IPY_MODEL_cafbb8410aa845858518d70bdbf9c9a6",
        "IPY_MODEL_83b6433ad7684957b2631401fe1ec3b1",
        "IPY_MODEL_306c76156d6e40e284decead3cfbb448"
       ],
       "layout": "IPY_MODEL_2d5e2635c1854e1690b264a7dd39a177"
      }
     },
     "e6d42c7e12274a29bf6c64d03320275b": {
      "model_module": "@jupyter-widgets/controls",
      "model_module_version": "1.5.0",
      "model_name": "DescriptionStyleModel",
      "state": {
       "description_width": ""
      }
     },
     "e8c10e8829fa457485a94da395db353b": {
      "model_module": "@jupyter-widgets/base",
      "model_module_version": "1.2.0",
      "model_name": "LayoutModel",
      "state": {
       "align_items": "stretch",
       "display": "flex",
       "flex_flow": "column",
       "width": "100%"
      }
     },
     "e8e15189dae2468e98dde33b6d28d9a7": {
      "model_module": "@jupyter-widgets/base",
      "model_module_version": "1.2.0",
      "model_name": "LayoutModel",
      "state": {
       "width": "auto"
      }
     },
     "ec14cf6e52e744fb89f06fef85052cad": {
      "model_module": "@jupyter-widgets/controls",
      "model_module_version": "1.5.0",
      "model_name": "HBoxModel",
      "state": {
       "children": [
        "IPY_MODEL_5250e2d51f224ea1b1e5a8f54d07606e",
        "IPY_MODEL_1a2223cd21b44856aac9395fc4f4a39a"
       ],
       "layout": "IPY_MODEL_63522dddd6b445f68442b2b9b4dc517c"
      }
     },
     "ecf9e64e51e0417faf0cb5dc18750875": {
      "model_module": "@jupyter-widgets/base",
      "model_module_version": "1.2.0",
      "model_name": "LayoutModel",
      "state": {
       "width": "auto"
      }
     },
     "ed686936cde2499e98769d70eaa369ea": {
      "model_module": "@jupyter-widgets/controls",
      "model_module_version": "1.5.0",
      "model_name": "HBoxModel",
      "state": {
       "children": [
        "IPY_MODEL_6eb05a2a8eb749b58fbb42d2bad69fd0",
        "IPY_MODEL_c456139ebfb342c2880f035cd62d561e"
       ],
       "layout": "IPY_MODEL_f710f0785b3f439abc27effcd1cc0080"
      }
     },
     "f0ce4e9dbb6f4f03a27a5edaef162823": {
      "model_module": "@jupyter-widgets/controls",
      "model_module_version": "1.5.0",
      "model_name": "HBoxModel",
      "state": {
       "children": [
        "IPY_MODEL_abb1baaddb924b16b3250420cd448738",
        "IPY_MODEL_1fc161d3041d42b485d6d1f824eb7108"
       ],
       "layout": "IPY_MODEL_89cf583d8ce34aa1b51336c93b46aa18"
      }
     },
     "f13fafd377bf430ab76109cd256b3f69": {
      "model_module": "@jupyter-widgets/controls",
      "model_module_version": "1.5.0",
      "model_name": "VBoxModel",
      "state": {
       "children": [
        "IPY_MODEL_b2a9729dba9f4253983cf1f822f3e1d0",
        "IPY_MODEL_ed686936cde2499e98769d70eaa369ea",
        "IPY_MODEL_461d280f278b490aa9d57d1283b2eeb6",
        "IPY_MODEL_5a190dbc4f314708a89d5ef25f95360e"
       ],
       "layout": "IPY_MODEL_061f5746b9644f48acd23ef05f60b230"
      }
     },
     "f244980c19b9402889c464eb21b8cba1": {
      "model_module": "@jupyter-widgets/base",
      "model_module_version": "1.2.0",
      "model_name": "LayoutModel",
      "state": {}
     },
     "f2c7d3f16fb84687bdf3343996dd0088": {
      "model_module": "@jupyter-widgets/base",
      "model_module_version": "1.2.0",
      "model_name": "LayoutModel",
      "state": {}
     },
     "f459e0ea8db14a29bf7878c0588094cc": {
      "model_module": "@jupyter-widgets/controls",
      "model_module_version": "1.5.0",
      "model_name": "HTMLModel",
      "state": {
       "layout": "IPY_MODEL_d77a2636a1e04b8e83be1b45b3c28fcf",
       "style": "IPY_MODEL_95fff5e6e021404e907d7d9f776e597a",
       "value": "<style>p{word-wrap: break-word}</style> <p>fib(n - 1) + fib(n - 2) </p>"
      }
     },
     "f5d2f26cecb34bae8de7943e35859ab6": {
      "model_module": "@jupyter-widgets/controls",
      "model_module_version": "1.5.0",
      "model_name": "LabelModel",
      "state": {
       "layout": "IPY_MODEL_766a8fd7e6da40b7b99c0858d154b633",
       "style": "IPY_MODEL_0b5b10579c8e41c5a90078a0b153ead8"
      }
     },
     "f68e95c373274a48acba4f15a49586ad": {
      "model_module": "@jupyter-widgets/base",
      "model_module_version": "1.2.0",
      "model_name": "LayoutModel",
      "state": {
       "display": "none"
      }
     },
     "f6be6adf8d50404bbb2b7e15457ca9cb": {
      "model_module": "@jupyter-widgets/base",
      "model_module_version": "1.2.0",
      "model_name": "LayoutModel",
      "state": {
       "align_items": "stretch",
       "display": "flex",
       "flex_flow": "row wrap",
       "width": "auto"
      }
     },
     "f710f0785b3f439abc27effcd1cc0080": {
      "model_module": "@jupyter-widgets/base",
      "model_module_version": "1.2.0",
      "model_name": "LayoutModel",
      "state": {
       "align_items": "stretch",
       "display": "flex",
       "flex_flow": "row wrap",
       "width": "auto"
      }
     },
     "f75af882523a4d1e9c02bbd3da5d710b": {
      "model_module": "@jupyter-widgets/controls",
      "model_module_version": "1.5.0",
      "model_name": "HBoxModel",
      "state": {
       "children": [
        "IPY_MODEL_0bcb9c1898c64c5290a559b87cfdba4b",
        "IPY_MODEL_327a80f8322643688b85f0d5877b2105"
       ],
       "layout": "IPY_MODEL_9f11ad52795f49a8904f9f8bf95a0743"
      }
     },
     "f7de700398424274877f7ee43a5a6efb": {
      "model_module": "@jupyter-widgets/base",
      "model_module_version": "1.2.0",
      "model_name": "LayoutModel",
      "state": {
       "width": "30px"
      }
     },
     "f853794f1ac84ca08ebe5b113a753629": {
      "model_module": "@jupyter-widgets/controls",
      "model_module_version": "1.5.0",
      "model_name": "LabelModel",
      "state": {
       "layout": "IPY_MODEL_5e1ef0ef58404f2ca63e5fc6d16e65e0",
       "style": "IPY_MODEL_228b1761f59e462da77d641fc78510ee"
      }
     },
     "fa61e03c79bb46049cd3775b9a0c780d": {
      "model_module": "@jupyter-widgets/controls",
      "model_module_version": "1.5.0",
      "model_name": "DescriptionStyleModel",
      "state": {
       "description_width": "initial"
      }
     },
     "fb290274eff44358b93c73ae40409cfe": {
      "model_module": "@jupyter-widgets/controls",
      "model_module_version": "1.5.0",
      "model_name": "HTMLModel",
      "state": {
       "layout": "IPY_MODEL_bc8c3547021e40ed90fbbeaafb8039de",
       "style": "IPY_MODEL_22ae74b6daae4a81b7ddaf473cabd651",
       "value": "<style>p{word-wrap: break-word}</style> <p>leaves. </p>"
      }
     },
     "fddc83f3597f4babb81fb9511076d69c": {
      "model_module": "@jupyter-widgets/base",
      "model_module_version": "1.2.0",
      "model_name": "LayoutModel",
      "state": {
       "align_items": "stretch",
       "display": "flex",
       "flex_flow": "row wrap",
       "width": "auto"
      }
     },
     "feee7568f15b4e1c8fc06424f60d01d2": {
      "model_module": "@jupyter-widgets/controls",
      "model_module_version": "1.5.0",
      "model_name": "DescriptionStyleModel",
      "state": {
       "description_width": "initial"
      }
     }
    },
    "version_major": 2,
    "version_minor": 0
   }
  }
 },
 "nbformat": 4,
 "nbformat_minor": 4
}
