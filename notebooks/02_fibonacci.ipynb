{
 "cells": [
  {
   "cell_type": "markdown",
   "metadata": {},
   "source": [
    "# Lesson 1: Fibonacci Numbers <a class=\"tocSkip\">"
   ]
  },
  {
   "cell_type": "markdown",
   "metadata": {},
   "source": [
    "It's common to begin the study of dynamic programming using [Fibonacci numbers](https://en.wikipedia.org/wiki/Fibonacci_number) as an example. This is because they are literally a textbook example of transforming a recursive, top-down algorithm into an iterative, bottom-up one.\n",
    "\n",
    "However, unlike the the 'sum of n numbers' and 'palindrome' problems we explored previously, there is real motivation to make this transformation."
   ]
  },
  {
   "cell_type": "markdown",
   "metadata": {},
   "source": [
    "## Find the n'th Fibonacci number\n",
    "\n",
    "Fibonacci numbers form a series defined by a recurrence formula. In _our_ implementation, we'll start the Fibonacci series at n = 1:\n",
    "\n",
    "$$fib(1) = 1$$\n",
    "$$fib(2) = 1$$\n",
    "$$and~then~for~every~n > 2:F_{n} = F_{n-1} + F_{n-2}$$\n",
    "\n",
    "This gives us a series starting at n=1 that looks like this: $$1, 1, 2, 3, 5,8 ,13, 21, 34, 55, ...$$\n",
    "\n",
    "In the quizzes and analysis below, you'll see why it's convenient that we start at 1 (and not the usual mathematical definition that begins with 0)."
   ]
  },
  {
   "cell_type": "code",
   "execution_count": 1,
   "metadata": {
    "hide_input": true
   },
   "outputs": [
    {
     "data": {
      "image/jpeg": "[encoded data removed]",
      "text/html": [
       "\n",
       "        <iframe\n",
       "            width=\"400\"\n",
       "            height=\"300\"\n",
       "            src=\"https://www.youtube.com/embed/0jMoTRxQ52k\"\n",
       "            frameborder=\"0\"\n",
       "            allowfullscreen\n",
       "        ></iframe>\n",
       "        "
      ],
      "text/plain": [
       "<IPython.lib.display.YouTubeVideo at 0x1a928a9e288>"
      ]
     },
     "execution_count": 1,
     "metadata": {},
     "output_type": "execute_result"
    }
   ],
   "source": [
    "from IPython.display import YouTubeVideo\n",
    "YouTubeVideo('0jMoTRxQ52k')"
   ]
  },
  {
   "cell_type": "markdown",
   "metadata": {},
   "source": [
    "Let's first code up the naive recursive implementation of finding the n'th Fibonacci number."
   ]
  },
  {
   "cell_type": "code",
   "execution_count": 2,
   "metadata": {},
   "outputs": [],
   "source": [
    "def fib(n):\n",
    "    \n",
    "    ##############\n",
    "    # YOUR CODE ##\n",
    "    ##############\n",
    "    \n",
    "    return 0"
   ]
  },
  {
   "cell_type": "code",
   "execution_count": 3,
   "metadata": {},
   "outputs": [],
   "source": [
    "#### unit tests #####\n",
    "\n",
    "# assert(fib(0) == 1)\n",
    "# assert(fib(1) == 1)\n",
    "# assert(fib(2) == 1)\n",
    "# assert(fib(10) == 55)"
   ]
  },
  {
   "cell_type": "markdown",
   "metadata": {},
   "source": [
    "In the following exercise use the magic %timeit command to see how long a call to fib takes."
   ]
  },
  {
   "cell_type": "code",
   "execution_count": 4,
   "metadata": {},
   "outputs": [
    {
     "name": "stdout",
     "output_type": "stream",
     "text": [
      "56.2 ns ± 1.13 ns per loop (mean ± std. dev. of 7 runs, 10000000 loops each)\n"
     ]
    }
   ],
   "source": [
    "%timeit fib(10)"
   ]
  },
  {
   "cell_type": "markdown",
   "metadata": {},
   "source": [
    "Go get a cup of ☕ while you run the next cell! (or interrupt the notebook kernel if you run out of patience)"
   ]
  },
  {
   "cell_type": "code",
   "execution_count": 5,
   "metadata": {},
   "outputs": [
    {
     "name": "stdout",
     "output_type": "stream",
     "text": [
      "54.5 ns ± 0.38 ns per loop (mean ± std. dev. of 7 runs, 10000000 loops each)\n"
     ]
    }
   ],
   "source": [
    "%timeit fib(40)"
   ]
  },
  {
   "cell_type": "markdown",
   "metadata": {},
   "source": [
    "### Time complexity of the naive Fibonacci algorithm\n",
    "Let's explore how many inner nodes and leaves the call stack tree of fib(n) has. The point of this excercise is to get a feel for the running time complexity and also to get very comfortable with the call stacks of recursive functions. I suggest you work out the following quizzes on a piece of paper."
   ]
  },
  {
   "cell_type": "markdown",
   "metadata": {},
   "source": [
    "The inner nodes are all themselves call trees of fib(n-k) where k runs from 0 to n-3. For example, if we're counting up the inner nodes of fib(8), we want to know how many calls there were to fib(8), fib(7), fib(6), fib(5), fib(4) and fib(3)."
   ]
  },
  {
   "cell_type": "code",
   "execution_count": 6,
   "metadata": {
    "hide_input": false
   },
   "outputs": [
    {
     "data": {
      "application/vnd.jupyter.widget-view+json": {
       "model_id": "db90e02b279c499a9c6a06d0d9f6f139",
       "version_major": 2,
       "version_minor": 0
      },
      "text/plain": [
       "AppLayout(box_style='info', children=(HBox(children=(Label(value='Given k between 0 and n - 3, how many nodes …"
      ]
     },
     "metadata": {},
     "output_type": "display_data"
    }
   ],
   "source": [
    "%run quizzes/quiz.py quizzes/02/fibonacci_n_minus_k.json"
   ]
  },
  {
   "cell_type": "markdown",
   "metadata": {
    "hide_input": false
   },
   "source": [
    "Now add up all those sub-trees to get the general formula for the number of **inner nodes** in the fib(n) call tree"
   ]
  },
  {
   "cell_type": "code",
   "execution_count": 7,
   "metadata": {
    "hide_input": true
   },
   "outputs": [
    {
     "data": {
      "application/vnd.jupyter.widget-view+json": {
       "model_id": "1d875f9a6b764ac5b3717817601aed36",
       "version_major": 2,
       "version_minor": 0
      },
      "text/plain": [
       "AppLayout(box_style='info', children=(HBox(children=(Label(value='How many inner nodes does the call tree of f…"
      ]
     },
     "metadata": {},
     "output_type": "display_data"
    }
   ],
   "source": [
    "%run quizzes/quiz.py quizzes/02/fibonacci_inner_nodes.json"
   ]
  },
  {
   "cell_type": "markdown",
   "metadata": {},
   "source": [
    "Now we'll get a general formula for the number of leaves, starting with a small example where n = 8. Remember that our base cases are when n = 1 and n = 2, so we'll count up the calls to fib(1) and fib(2)."
   ]
  },
  {
   "cell_type": "code",
   "execution_count": 8,
   "metadata": {
    "hide_input": false,
    "scrolled": true
   },
   "outputs": [
    {
     "data": {
      "application/vnd.jupyter.widget-view+json": {
       "model_id": "afc59388ad6545e5ae749b6b7ab1130b",
       "version_major": 2,
       "version_minor": 0
      },
      "text/plain": [
       "VBox(box_style='info', children=(HBox(children=(Label(value='Fill in the blanks with a whole number.'),), layo…"
      ]
     },
     "metadata": {},
     "output_type": "display_data"
    }
   ],
   "source": [
    "%run quizzes/quiz.py quizzes/02/fibonacci_1_and_2.json"
   ]
  },
  {
   "cell_type": "markdown",
   "metadata": {
    "hide_input": false
   },
   "source": [
    "As you can see from the exercises above, the recursive algorithm for finding the n'th Fibonacci number mostly spends its time calculating and recalculating the Fibonacci numbers of the numbers preceding n. Every leaf in the call stack tree adds 1 to the time complexity of this algorithm - how many leaves does this tree have exactly?"
   ]
  },
  {
   "cell_type": "code",
   "execution_count": 9,
   "metadata": {
    "hide_input": false
   },
   "outputs": [
    {
     "data": {
      "application/vnd.jupyter.widget-view+json": {
       "model_id": "1e46e77dc19d4644a805e48a32338c50",
       "version_major": 2,
       "version_minor": 0
      },
      "text/plain": [
       "VBox(box_style='info', children=(HBox(children=(Label(value='Fill in the blank with regard to our implementati…"
      ]
     },
     "metadata": {},
     "output_type": "display_data"
    }
   ],
   "source": [
    "%run quizzes/quiz.py quizzes/02/fibonacci_leaves.json"
   ]
  },
  {
   "cell_type": "markdown",
   "metadata": {},
   "source": [
    "Well it's no wonder that the complexity of this algorithm grows exponentially - it grows just like the Fibonacci numbers themselves!"
   ]
  },
  {
   "cell_type": "markdown",
   "metadata": {},
   "source": [
    "\n",
    "## Fibonacci Revisited\n",
    "Now's the time to pull out your memoization skills and make our naive algorithm efficient by storing any calculations you already made."
   ]
  },
  {
   "cell_type": "markdown",
   "metadata": {},
   "source": [
    "### Memoize Fibonacci - without using a function decorator\n",
    "If you like, as an exercise, write a memoized version of fib(n) without using Python's decorator, i.e go ahead and make changes inside fib(n) itself. As a hint, I defined the function signature and unit tests for you."
   ]
  },
  {
   "cell_type": "code",
   "execution_count": 10,
   "metadata": {
    "pycharm": {
     "name": "#%%\n"
    }
   },
   "outputs": [],
   "source": [
    "def fib(n, memo):\n",
    "    \n",
    "    ##############\n",
    "    # YOUR CODE ##\n",
    "    ##############\n",
    "    \n",
    "    return 0\n",
    "    \n",
    "### unit tests ###\n",
    "#assert(fib(1, {}) == 1)\n",
    "#assert(fib(2, {}) == 1)\n",
    "#assert(fib(3, {}) == 2)\n",
    "#assert(fib(4, {}) == 3)\n",
    "#assert(fib(5, {}) == 5)\n",
    "#assert(fib(6, {}) == 8)"
   ]
  },
  {
   "cell_type": "markdown",
   "metadata": {},
   "source": [
    "### Memoize Fibonacci - a more elegant way\n",
    "\n",
    "Use the same function we used to decorate 'factorial' in the previous lesson. This time, since we didn't change our original function, we also don't need to change our tests! (that was the whole point of using Python's function decorators)"
   ]
  },
  {
   "cell_type": "code",
   "execution_count": 11,
   "metadata": {
    "pycharm": {
     "name": "#%%\n"
    }
   },
   "outputs": [],
   "source": [
    "def memoize(f):\n",
    "    ##############\n",
    "    # YOUR CODE ##\n",
    "    ##############\n",
    "    return 0\n",
    "    \n",
    "@memoize\n",
    "def fib(n):\n",
    "    ##############\n",
    "    # YOUR CODE ##\n",
    "    ##############\n",
    "    return 0\n",
    "    \n",
    "#unit tests\n",
    "#assert(fib(1) == 1)\n",
    "#assert(fib(2) == 1)\n",
    "#assert(fib(6) == 8)"
   ]
  },
  {
   "cell_type": "markdown",
   "metadata": {},
   "source": [
    "After testing, use the magic command %time to profile this implementation. If you use %%timeit you'll get a more accurate time, but it will take longer since %%timeit runs your function a few times."
   ]
  },
  {
   "cell_type": "code",
   "execution_count": 12,
   "metadata": {
    "pycharm": {
     "name": "#%%\n"
    }
   },
   "outputs": [],
   "source": [
    "# %time fib(36)"
   ]
  },
  {
   "cell_type": "markdown",
   "metadata": {
    "pycharm": {
     "name": "#%%\n"
    }
   },
   "source": [
    "### Memoize Fibonacci - an even more elegant and more minimal way\n",
    "One problem with our memoized version is that the storage is also linear, so as n gets large, you'll be using a lot of space to store all the previous solutions. Since each Fibonacci number is the sum of the previous two, you only need two places of storage as you iterate.\n",
    "\n",
    "Write an implementation to find the n'th Fibonacci number, **without** using a memo dictionary. Use only two storage variables."
   ]
  },
  {
   "cell_type": "code",
   "execution_count": 13,
   "metadata": {
    "pycharm": {
     "name": "#%%\n"
    }
   },
   "outputs": [],
   "source": [
    "# Only use two storage variables\n",
    "\n",
    "def fib(n):\n",
    "    ##############\n",
    "    # YOUR CODE ##\n",
    "    ##############\n",
    "    return 0"
   ]
  },
  {
   "cell_type": "markdown",
   "metadata": {},
   "source": [
    "### Memoize Fibonacci - and convert the algorithm to iterative and bottom up\n",
    "Using a Python decorator function, memoize AND convert fib(n) to an efficient AND iterative solution.\n",
    "\n",
    "**Hint 1:** The decorator function is almost identical to the memoize function we used for factorial and fib(n) above. The only difference is that you want to prevent recursion from happening and instead iterate starting from 1.\n",
    "\n",
    "**Hint 2:** Pay attention to the case where n = 0. The function should return 1 and you'll need to initialize the memo dictionary for this case to be handled correctly."
   ]
  },
  {
   "cell_type": "code",
   "execution_count": 14,
   "metadata": {},
   "outputs": [],
   "source": [
    "def iterate(f):\n",
    "    ##############\n",
    "    # YOUR CODE ##\n",
    "    ##############\n",
    "    return 0\n",
    "    \n",
    "@iterate\n",
    "def fib(n):\n",
    "    ##############\n",
    "    # YOUR CODE ##\n",
    "    ##############\n",
    "    return 0\n",
    "    \n",
    "#### unit tests ###\n",
    "#assert(fib(0) == 1)\n",
    "#assert(fib(1) == 1)\n",
    "#assert(fib(2) == 1)\n",
    "#assert(fib(6) == 8)"
   ]
  },
  {
   "cell_type": "markdown",
   "metadata": {},
   "source": [
    "## Solutions\n",
    "Given a whole number n, all these implementations calculate the n'th Fibonacci number."
   ]
  },
  {
   "cell_type": "markdown",
   "metadata": {},
   "source": [
    "### Recursive solutions\n",
    "These solutions show the top-down approach."
   ]
  },
  {
   "cell_type": "markdown",
   "metadata": {
    "solution2": "hidden",
    "solution2_first": true
   },
   "source": [
    "#### Naive recursive Fibonacci\n",
    "This solution is the least efficient implementation for finding the n'th Fibonacci number. It runs in exponential time "
   ]
  },
  {
   "cell_type": "code",
   "execution_count": 15,
   "metadata": {
    "solution2": "hidden"
   },
   "outputs": [],
   "source": [
    "# %load solutions/02/fibonacci_n.py\n",
    "def fib(n):\n",
    "\n",
    "    if (n <= 2):\n",
    "        return 1\n",
    "\n",
    "    return (fib(n - 1) + fib(n - 2))"
   ]
  },
  {
   "cell_type": "markdown",
   "metadata": {
    "solution2": "hidden",
    "solution2_first": true
   },
   "source": [
    "#### Memoized, without Python function decorator\n",
    "This solution removes the inefficiency of all the overlapping and repeated calculation of subproblems. It runs in linear time"
   ]
  },
  {
   "cell_type": "code",
   "execution_count": 16,
   "metadata": {
    "solution2": "hidden"
   },
   "outputs": [],
   "source": [
    "# %load solutions/02/fibonacci_memo.py\n",
    "def fib(n, memo):\n",
    "    if n in memo:\n",
    "        return memo[n]\n",
    "    if n <= 2:\n",
    "        f = 1\n",
    "    else:\n",
    "        f = fib(n-1, memo) + fib(n-2, memo)\n",
    "    memo[n] = f\n",
    "    return memo[n]\n",
    "\n",
    "### unit tests ###\n",
    "#assert(fib(1, {}) == 1)\n",
    "#assert(fib(2, {}) == 1)\n",
    "#assert(fib(3, {}) == 2)\n",
    "#assert(fib(4, {}) == 3)\n",
    "#assert(fib(5, {}) == 5)\n",
    "#assert(fib(6, {}) == 8)"
   ]
  },
  {
   "cell_type": "markdown",
   "metadata": {
    "solution2": "hidden",
    "solution2_first": true
   },
   "source": [
    "#### Memoized, using Python function decorator\n",
    "This solution removes the inefficiency of all the overlapping and repeated calculation of subproblems. It runs in linear time"
   ]
  },
  {
   "cell_type": "code",
   "execution_count": 17,
   "metadata": {
    "solution2": "hidden"
   },
   "outputs": [],
   "source": [
    "# %load solutions/02/fibonacci_memo_decorated.py\n",
    "def memoize(f):\n",
    "    memo = {}\n",
    "\n",
    "    def helper(n):\n",
    "        if n not in memo:\n",
    "            memo[n] = f(n)\n",
    "        return memo[n]\n",
    "\n",
    "    return helper\n",
    "\n",
    "@memoize\n",
    "def fib(n):\n",
    "    if n <= 2:\n",
    "        return 1\n",
    "    return fib(n - 1) + fib(n - 2)\n",
    "\n",
    "#assert(fib(1) == 1)\n",
    "#assert(fib(2) == 1)\n",
    "#assert(fib(6) == 8)"
   ]
  },
  {
   "cell_type": "markdown",
   "metadata": {},
   "source": [
    "### Iterative solutions\n",
    "These solutions exemplify the bottom-up approach."
   ]
  },
  {
   "cell_type": "markdown",
   "metadata": {
    "solution2": "hidden",
    "solution2_first": true
   },
   "source": [
    "#### Using Python function decorator\n",
    "It's interesting to debug or add some logging to this solution to see how the algorithm grows the memo dictionary."
   ]
  },
  {
   "cell_type": "code",
   "execution_count": 18,
   "metadata": {
    "solution2": "hidden"
   },
   "outputs": [],
   "source": [
    "# %load solutions/02/fibonacci_iterative_decorated.py\n",
    "def iterate(f):\n",
    "    memo = {0:0}\n",
    "\n",
    "    def helper(n):\n",
    "        # print ('helper called for ', n)\n",
    "        if n not in memo:\n",
    "            for k in range(1, n + 1):\n",
    "                memo[k] = f(k)\n",
    "        # print(memo)\n",
    "        return memo[n]\n",
    "    return helper\n",
    "\n",
    "@iterate\n",
    "def fib(n):\n",
    "    if n <= 2:\n",
    "        return 1\n",
    "    return fib(n - 1) + fib(n - 2)\n",
    "\n",
    "#unit tests\n",
    "#assert(fib(0) == 1)\n",
    "#assert(fib(1) == 1)\n",
    "#assert(fib(2) == 1)\n",
    "#assert(fib(6) == 8)"
   ]
  },
  {
   "cell_type": "markdown",
   "metadata": {
    "solution2": "hidden",
    "solution2_first": true
   },
   "source": [
    "#### Solution to iterative Fibonacci - using only two storage places, without Python function decorator\n",
    "This solution is very clever. It only uses two variables as storage. It also runs in linear time"
   ]
  },
  {
   "cell_type": "code",
   "execution_count": 19,
   "metadata": {
    "pycharm": {
     "name": "#%%\n"
    },
    "solution2": "hidden"
   },
   "outputs": [],
   "source": [
    "# %load solutions/02/fibonacci_tiny_memo.py\n",
    "def fib(n):\n",
    "    f, next_total = 1, 1\n",
    "    for i in range(n-1):\n",
    "        f, next_total = next_total, next_total + f\n",
    "    return f\n",
    "\n",
    "#assert(fib(1) == 1)\n",
    "#assert(fib(2) == 1)\n",
    "#assert(fib(6) == 8)"
   ]
  },
  {
   "cell_type": "markdown",
   "metadata": {
    "solution2": "hidden",
    "solution2_first": true
   },
   "source": [
    "#### Solution to iterative Fibonacci - using only two storage places, using @decorator"
   ]
  },
  {
   "cell_type": "code",
   "execution_count": 20,
   "metadata": {
    "solution2": "hidden"
   },
   "outputs": [],
   "source": [
    "# %load solutions/02/fibonacci_tiny_memo_decorated.py\n",
    "# TODO\n",
    "\n",
    "#assert(fib(1) == 1)\n",
    "#assert(fib(2) == 1)\n",
    "#assert(fib(6) == 8)"
   ]
  },
  {
   "cell_type": "markdown",
   "metadata": {},
   "source": [
    "## References\n",
    "\n",
    "1. Andres, F. (n.d.). functional programming—What do you call a function where the same input will always return the same output, but also has side effects? Software Engineering Stack Exchange. Retrieved July 9, 2020, from https://softwareengineering.stackexchange.com/a/317249\n",
    "\n",
    "2. Forišek, M. (2015). Towards a better way to teach dynamic programming. Olympiads in Informatics, 9, 45–55.\n",
    "\n",
    "3. Klein, B. (n.d.). Python Tutorial: Memoization and Decorators. Python Course. Retrieved June 17, 2020, from https://www.python-course.eu/python3_memoization.php"
   ]
  }
 ],
 "metadata": {
  "kernelspec": {
   "display_name": "Python 3",
   "language": "python",
   "name": "python3"
  },
  "language_info": {
   "codemirror_mode": {
    "name": "ipython",
    "version": 3
   },
   "file_extension": ".py",
   "mimetype": "text/x-python",
   "name": "python",
   "nbconvert_exporter": "python",
   "pygments_lexer": "ipython3",
   "version": "3.7.6"
  },
  "latex_envs": {
   "LaTeX_envs_menu_present": true,
   "autoclose": false,
   "autocomplete": true,
   "bibliofile": "biblio.bib",
   "cite_by": "apalike",
   "current_citInitial": 1,
   "eqLabelWithNumbers": true,
   "eqNumInitial": 1,
   "hotkeys": {
    "equation": "Ctrl-E",
    "itemize": "Ctrl-I"
   },
   "labels_anchors": false,
   "latex_user_defs": false,
   "report_style_numbering": false,
   "user_envs_cfg": false
  },
  "toc": {
   "base_numbering": "",
   "nav_menu": {},
   "number_sections": false,
   "sideBar": true,
   "skip_h1_title": false,
   "title_cell": "Table of Contents",
   "title_sidebar": "Contents",
   "toc_cell": false,
   "toc_position": {
    "height": "calc(100% - 180px)",
    "left": "10px",
    "top": "150px",
    "width": "222.042px"
   },
   "toc_section_display": true,
   "toc_window_display": true
  },
  "widgets": {
   "application/vnd.jupyter.widget-state+json": {
    "state": {
     "000768dc09cf46fd92157ab6beddc9cb": {
      "model_module": "@jupyter-widgets/controls",
      "model_module_version": "1.5.0",
      "model_name": "ButtonStyleModel",
      "state": {
       "button_color": "lightblue"
      }
     },
     "00121eb520814798849c5b32bbcf4512": {
      "model_module": "@jupyter-widgets/controls",
      "model_module_version": "1.5.0",
      "model_name": "DescriptionStyleModel",
      "state": {
       "description_width": ""
      }
     },
     "0024733832e04fa99d1949e25d59dccd": {
      "model_module": "@jupyter-widgets/base",
      "model_module_version": "1.2.0",
      "model_name": "LayoutModel",
      "state": {}
     },
     "002859f3465249be8be04b7294ac10df": {
      "model_module": "@jupyter-widgets/controls",
      "model_module_version": "1.5.0",
      "model_name": "DescriptionStyleModel",
      "state": {
       "description_width": ""
      }
     },
     "0032389f5145424da2f181a0b7ff99c5": {
      "model_module": "@jupyter-widgets/base",
      "model_module_version": "1.2.0",
      "model_name": "LayoutModel",
      "state": {
       "grid_area": "footer"
      }
     },
     "003b4d8e7b0248a9a05e10742957d361": {
      "model_module": "@jupyter-widgets/controls",
      "model_module_version": "1.5.0",
      "model_name": "LabelModel",
      "state": {
       "layout": "IPY_MODEL_077971ec69554718bd1df3de9de73864",
       "style": "IPY_MODEL_a8195af58f3541a381d4354a651e64e0",
       "value": "fib(n)"
      }
     },
     "0048a6aadb3b421aafb5a0bd2a641102": {
      "model_module": "@jupyter-widgets/controls",
      "model_module_version": "1.5.0",
      "model_name": "DescriptionStyleModel",
      "state": {
       "description_width": "initial"
      }
     },
     "0055b225bb6b4c03b9f3f85deabf0323": {
      "model_module": "@jupyter-widgets/base",
      "model_module_version": "1.2.0",
      "model_name": "LayoutModel",
      "state": {}
     },
     "009773d3dfee47f58ac035864ebc386c": {
      "model_module": "@jupyter-widgets/base",
      "model_module_version": "1.2.0",
      "model_name": "LayoutModel",
      "state": {
       "width": "1000px"
      }
     },
     "00a0e96b875442eeba58b487a9be2747": {
      "model_module": "@jupyter-widgets/base",
      "model_module_version": "1.2.0",
      "model_name": "LayoutModel",
      "state": {}
     },
     "00a4416980404d109a082e2f12a04c6f": {
      "model_module": "@jupyter-widgets/base",
      "model_module_version": "1.2.0",
      "model_name": "LayoutModel",
      "state": {
       "width": "1000px"
      }
     },
     "00d0958b71a246bfae0acbdfc751a02f": {
      "model_module": "@jupyter-widgets/base",
      "model_module_version": "1.2.0",
      "model_name": "LayoutModel",
      "state": {}
     },
     "0121871f927440b99b8c0050bd72acf3": {
      "model_module": "@jupyter-widgets/base",
      "model_module_version": "1.2.0",
      "model_name": "LayoutModel",
      "state": {}
     },
     "01618f32f5a94dd7a256e6704b6cb6d1": {
      "model_module": "@jupyter-widgets/controls",
      "model_module_version": "1.5.0",
      "model_name": "DescriptionStyleModel",
      "state": {
       "description_width": ""
      }
     },
     "017be705677f4fc6b4347f829f384aa9": {
      "model_module": "@jupyter-widgets/controls",
      "model_module_version": "1.5.0",
      "model_name": "LabelModel",
      "state": {
       "layout": "IPY_MODEL_8df7db46990e480eb9c60c8ae40ab9bf",
       "style": "IPY_MODEL_bee2ef0471af41c887e11c87588590a9"
      }
     },
     "0192e65d9e734914a5d82160b0c8b30f": {
      "model_module": "@jupyter-widgets/base",
      "model_module_version": "1.2.0",
      "model_name": "LayoutModel",
      "state": {}
     },
     "019b33ad53cb4fdd908b7b163858eb19": {
      "model_module": "@jupyter-widgets/controls",
      "model_module_version": "1.5.0",
      "model_name": "LabelModel",
      "state": {
       "layout": "IPY_MODEL_8f7bea301a7f4ce2bcdcfbccdbd91b4b",
       "style": "IPY_MODEL_2b08b27b8cfc4f28a867e9851afb947d"
      }
     },
     "01bb3b65c9fe4caeb0e1c408192e4466": {
      "model_module": "@jupyter-widgets/controls",
      "model_module_version": "1.5.0",
      "model_name": "DescriptionStyleModel",
      "state": {
       "description_width": ""
      }
     },
     "01dee016efa24901b498251e8385587f": {
      "model_module": "@jupyter-widgets/controls",
      "model_module_version": "1.5.0",
      "model_name": "DescriptionStyleModel",
      "state": {
       "description_width": ""
      }
     },
     "020258ecdb1c490d87fc5c977bbc969d": {
      "model_module": "@jupyter-widgets/controls",
      "model_module_version": "1.5.0",
      "model_name": "DescriptionStyleModel",
      "state": {
       "description_width": ""
      }
     },
     "022e0e9c830c43bfb301332ccd7f7e0b": {
      "model_module": "@jupyter-widgets/controls",
      "model_module_version": "1.5.0",
      "model_name": "DescriptionStyleModel",
      "state": {
       "description_width": ""
      }
     },
     "02486a344e4b4096be7c15319254f841": {
      "model_module": "@jupyter-widgets/base",
      "model_module_version": "1.2.0",
      "model_name": "LayoutModel",
      "state": {}
     },
     "02564dd197024181a29d0852ddd47342": {
      "model_module": "@jupyter-widgets/controls",
      "model_module_version": "1.5.0",
      "model_name": "CheckboxModel",
      "state": {
       "disabled": true,
       "layout": "IPY_MODEL_b6fe6b27328d43e0945e6d1762aaa34e",
       "style": "IPY_MODEL_5c3ea57dd241415b9b4ca1333eb95315",
       "value": false
      }
     },
     "025a95ea769d451cb47a2027a3c20cc7": {
      "model_module": "@jupyter-widgets/controls",
      "model_module_version": "1.5.0",
      "model_name": "HBoxModel",
      "state": {
       "children": [
        "IPY_MODEL_78ab22b4b3034b9781fdfb9ca621c1d8",
        "IPY_MODEL_f1a5509b9c9b42d4b8ed2edd72a840d0"
       ],
       "layout": "IPY_MODEL_633c3d0ac21b409e9a9872a1d843ebf2"
      }
     },
     "025cd191c655484b88396409a73aee14": {
      "model_module": "@jupyter-widgets/controls",
      "model_module_version": "1.5.0",
      "model_name": "HBoxModel",
      "state": {
       "children": [
        "IPY_MODEL_289a2084eb0b42b58a1291196fbb265c",
        "IPY_MODEL_fd7e01943b234cd3a2b649d9b1da1e1f"
       ],
       "layout": "IPY_MODEL_5ea111f646c0493e86b8afd86aac969a"
      }
     },
     "025f255d4fb3429d9e3b896581ba7e4e": {
      "model_module": "@jupyter-widgets/controls",
      "model_module_version": "1.5.0",
      "model_name": "LabelModel",
      "state": {
       "layout": "IPY_MODEL_11b94cf546404676b27be1a04a5a8c75",
       "style": "IPY_MODEL_131856549bf644558818d42a393c8fc6",
       "value": ". . . . . . . Now you got it!"
      }
     },
     "02ba98a2ccaf489d96cc40d04afcb8a0": {
      "model_module": "@jupyter-widgets/controls",
      "model_module_version": "1.5.0",
      "model_name": "HBoxModel",
      "state": {
       "children": [
        "IPY_MODEL_28e3cfdc763f48fab6214661982a9387",
        "IPY_MODEL_64f961126c11436081e6ef83d41c1095"
       ],
       "layout": "IPY_MODEL_6656e5b3dcfd4eb1ad24a89a5b9d8476"
      }
     },
     "02e6b4075ba54f7ca9ae4b4888853adc": {
      "model_module": "@jupyter-widgets/base",
      "model_module_version": "1.2.0",
      "model_name": "LayoutModel",
      "state": {
       "width": "1000px"
      }
     },
     "02fe8cd08cc843d4bbf996b29d370a5a": {
      "model_module": "@jupyter-widgets/controls",
      "model_module_version": "1.5.0",
      "model_name": "HBoxModel",
      "state": {
       "children": [
        "IPY_MODEL_77cbfc3bd1bf4cf08931c53459f1b411",
        "IPY_MODEL_5e55bce2d5664f4eb1944e1625135106"
       ],
       "layout": "IPY_MODEL_f92ce207c7b644bdafa09b13b2a41e7c"
      }
     },
     "031f7bb1ad8a448d890701bcc2b87cf8": {
      "model_module": "@jupyter-widgets/controls",
      "model_module_version": "1.5.0",
      "model_name": "LabelModel",
      "state": {
       "layout": "IPY_MODEL_20e3b1a2686a4350bede2c3c4e5b559a",
       "style": "IPY_MODEL_98a2eb71e05349258aaf5385e0e9085f"
      }
     },
     "032086cdf3dd4d55a457ca1f70cf3f75": {
      "model_module": "@jupyter-widgets/controls",
      "model_module_version": "1.5.0",
      "model_name": "HBoxModel",
      "state": {
       "box_style": "info",
       "children": [
        "IPY_MODEL_08b245e9e4c5480993be35b1a57e0b37",
        "IPY_MODEL_57581fe56ccb4abc9cd8eb309cbd8ac9"
       ],
       "layout": "IPY_MODEL_f832d0e6de384da1ba1fdb38e7b8c6f0"
      }
     },
     "032b5654c7cc45d8a32478f6583f03ae": {
      "model_module": "@jupyter-widgets/base",
      "model_module_version": "1.2.0",
      "model_name": "LayoutModel",
      "state": {
       "width": "500px"
      }
     },
     "03575882f67746cb9a579d2c8ef1b62f": {
      "model_module": "@jupyter-widgets/controls",
      "model_module_version": "1.5.0",
      "model_name": "DescriptionStyleModel",
      "state": {
       "description_width": "initial"
      }
     },
     "037cef3238c2412998bf183211827bf3": {
      "model_module": "@jupyter-widgets/controls",
      "model_module_version": "1.5.0",
      "model_name": "DescriptionStyleModel",
      "state": {
       "description_width": ""
      }
     },
     "03a4996f4b8f4cd4a6571e8286986dc0": {
      "model_module": "@jupyter-widgets/base",
      "model_module_version": "1.2.0",
      "model_name": "LayoutModel",
      "state": {}
     },
     "03fd74ca30fa432392022258f9450d99": {
      "model_module": "@jupyter-widgets/base",
      "model_module_version": "1.2.0",
      "model_name": "LayoutModel",
      "state": {
       "display": "none"
      }
     },
     "041d6c807867485f9237e427d11937e6": {
      "model_module": "@jupyter-widgets/base",
      "model_module_version": "1.2.0",
      "model_name": "LayoutModel",
      "state": {
       "width": "30px"
      }
     },
     "043dd37d23714052afddd5fcc55e0a7d": {
      "model_module": "@jupyter-widgets/base",
      "model_module_version": "1.2.0",
      "model_name": "LayoutModel",
      "state": {}
     },
     "04886955aa204da99dda1d5319f0d7f6": {
      "model_module": "@jupyter-widgets/base",
      "model_module_version": "1.2.0",
      "model_name": "LayoutModel",
      "state": {
       "width": "1000px"
      }
     },
     "048dee367436457cb641418fe3feae93": {
      "model_module": "@jupyter-widgets/controls",
      "model_module_version": "1.5.0",
      "model_name": "CheckboxModel",
      "state": {
       "disabled": false,
       "layout": "IPY_MODEL_695c7261382746ce952a0b18bfbf8645",
       "style": "IPY_MODEL_a391c991d530439484803ebc8c7561b9",
       "value": false
      }
     },
     "04b1fe78e43d4331aa00383921c15442": {
      "model_module": "@jupyter-widgets/controls",
      "model_module_version": "1.5.0",
      "model_name": "HBoxModel",
      "state": {
       "children": [
        "IPY_MODEL_dbf75aecfa294509a52c90db7ba61113",
        "IPY_MODEL_567cd6b65c5744e1b2e4edc1acd71e50",
        "IPY_MODEL_9688d1e6acda4aa69d8a448da057e687"
       ],
       "layout": "IPY_MODEL_d2de8a8989964dd0a3e1ce3e1c411487"
      }
     },
     "04c4b0dbc5c74999885da6d39f1f976f": {
      "model_module": "@jupyter-widgets/controls",
      "model_module_version": "1.5.0",
      "model_name": "CheckboxModel",
      "state": {
       "disabled": false,
       "layout": "IPY_MODEL_fed5912e31b04c81a57b37955a4b48ce",
       "style": "IPY_MODEL_39f9cce00ccb462aa643c10e7388e916",
       "value": false
      }
     },
     "04d170b4e15e48608048512c6a9dd8f0": {
      "model_module": "@jupyter-widgets/controls",
      "model_module_version": "1.5.0",
      "model_name": "VBoxModel",
      "state": {
       "children": [
        "IPY_MODEL_16eae281b032402fac3d866d87ff889d",
        "IPY_MODEL_ecd90b81b901435693858faf97aac1b7",
        "IPY_MODEL_eefebf521a504b5488cfac921f9f3f44"
       ],
       "layout": "IPY_MODEL_6cceb52f454c4c45b514e68d2dea94eb"
      }
     },
     "04d3350878284b309e71d7fd419492cd": {
      "model_module": "@jupyter-widgets/controls",
      "model_module_version": "1.5.0",
      "model_name": "DescriptionStyleModel",
      "state": {
       "description_width": ""
      }
     },
     "04eea920f2b240658bc76132076a9b7f": {
      "model_module": "@jupyter-widgets/base",
      "model_module_version": "1.2.0",
      "model_name": "LayoutModel",
      "state": {
       "grid_area": "header"
      }
     },
     "05253636ae204e19887fedf17896fea1": {
      "model_module": "@jupyter-widgets/controls",
      "model_module_version": "1.5.0",
      "model_name": "VBoxModel",
      "state": {
       "children": [
        "IPY_MODEL_898461eb9ce547868f9c79f3bba3869e",
        "IPY_MODEL_129b5656f8bd4be385539451384a8da8",
        "IPY_MODEL_97649b60cb4743cca595cb24322d67a3",
        "IPY_MODEL_1fc0a1230b874f2a929f97c7e1ec2ffb",
        "IPY_MODEL_025a95ea769d451cb47a2027a3c20cc7"
       ],
       "layout": "IPY_MODEL_e262239e31344289b2bcffde9c7c7f4c"
      }
     },
     "054ef3af29684386aa4c2aae2c4e0de8": {
      "model_module": "@jupyter-widgets/base",
      "model_module_version": "1.2.0",
      "model_name": "LayoutModel",
      "state": {}
     },
     "054fd7d824064e25961f752d105ee8cd": {
      "model_module": "@jupyter-widgets/base",
      "model_module_version": "1.2.0",
      "model_name": "LayoutModel",
      "state": {
       "align_items": "stretch",
       "display": "flex",
       "flex_flow": "column",
       "width": "100%"
      }
     },
     "0552324cb6db4523932a264ace7f9456": {
      "model_module": "@jupyter-widgets/controls",
      "model_module_version": "1.5.0",
      "model_name": "DescriptionStyleModel",
      "state": {
       "description_width": ""
      }
     },
     "056283836aed4d3a8cdcd8de09364d55": {
      "model_module": "@jupyter-widgets/controls",
      "model_module_version": "1.5.0",
      "model_name": "DescriptionStyleModel",
      "state": {
       "description_width": ""
      }
     },
     "0577b62c923e406d886f01bd473ac5fd": {
      "model_module": "@jupyter-widgets/controls",
      "model_module_version": "1.5.0",
      "model_name": "DescriptionStyleModel",
      "state": {
       "description_width": ""
      }
     },
     "05bb879f4966431ca8f6a6c631e69e49": {
      "model_module": "@jupyter-widgets/base",
      "model_module_version": "1.2.0",
      "model_name": "LayoutModel",
      "state": {}
     },
     "05bc0e2e75164464ac544683ee26eec3": {
      "model_module": "@jupyter-widgets/controls",
      "model_module_version": "1.5.0",
      "model_name": "DescriptionStyleModel",
      "state": {
       "description_width": ""
      }
     },
     "05c6f48659574cdba6fee7aa2f1e28f8": {
      "model_module": "@jupyter-widgets/base",
      "model_module_version": "1.2.0",
      "model_name": "LayoutModel",
      "state": {}
     },
     "05e05412b8204a67acb6f28ee2969cb5": {
      "model_module": "@jupyter-widgets/controls",
      "model_module_version": "1.5.0",
      "model_name": "VBoxModel",
      "state": {
       "children": [
        "IPY_MODEL_8c1b080329144cfc966126bdd2d33d9e",
        "IPY_MODEL_1f9f7b05a9254afa98e4aaa6ff77c920",
        "IPY_MODEL_d291ea8ed11245f3b2a8c676d4d75ebb",
        "IPY_MODEL_ae4ab8fcf7704902a6074753fedb4967"
       ],
       "layout": "IPY_MODEL_31a8cee8bfa2408fa68b0498ef697512"
      }
     },
     "0634d0ed1bd243649c2e0cdda3f7e045": {
      "model_module": "@jupyter-widgets/controls",
      "model_module_version": "1.5.0",
      "model_name": "DescriptionStyleModel",
      "state": {
       "description_width": ""
      }
     },
     "063e2961b93142b88db136ba2543de52": {
      "model_module": "@jupyter-widgets/controls",
      "model_module_version": "1.5.0",
      "model_name": "HBoxModel",
      "state": {
       "children": [
        "IPY_MODEL_39ba6dcf5f9e4eed8bc8cef774fe34d0",
        "IPY_MODEL_4c9b05a4402940d2ae13a0ba907976f5"
       ],
       "layout": "IPY_MODEL_22c055ce34544509a7d5536237427ea9"
      }
     },
     "0642cf28f8724b4f8697372f96a429f2": {
      "model_module": "@jupyter-widgets/base",
      "model_module_version": "1.2.0",
      "model_name": "LayoutModel",
      "state": {}
     },
     "0655365949894566a561239dd6757c9a": {
      "model_module": "@jupyter-widgets/controls",
      "model_module_version": "1.5.0",
      "model_name": "HBoxModel",
      "state": {
       "box_style": "info",
       "children": [
        "IPY_MODEL_daf47cb9161842e9a87ca3640e1d1414",
        "IPY_MODEL_2eea2a8ea87143e7af08f4c222f9be35"
       ],
       "layout": "IPY_MODEL_fef431b5bbc54f54b98f9610c127e35e"
      }
     },
     "065ed3d37f714181a08cc73e6ad20e41": {
      "model_module": "@jupyter-widgets/controls",
      "model_module_version": "1.5.0",
      "model_name": "HBoxModel",
      "state": {
       "children": [
        "IPY_MODEL_14041e6112c64b209f2cf577df4684b2",
        "IPY_MODEL_de7f92856d5d4e688ad53fc743858f79"
       ],
       "layout": "IPY_MODEL_cd9ca84b219d492b8223f21acbf1915c"
      }
     },
     "06a2f61501d94460a56e057a9edb5150": {
      "model_module": "@jupyter-widgets/controls",
      "model_module_version": "1.5.0",
      "model_name": "CheckboxModel",
      "state": {
       "disabled": false,
       "layout": "IPY_MODEL_e3c1af38463144419bed956e53adb0fc",
       "style": "IPY_MODEL_c0f25636bd5b4378b7869819af6cbb72",
       "value": false
      }
     },
     "06a78efa6b724055ab943d1bbee879a4": {
      "model_module": "@jupyter-widgets/controls",
      "model_module_version": "1.5.0",
      "model_name": "LabelModel",
      "state": {
       "layout": "IPY_MODEL_a29823059e444e62969b18035fd64d32",
       "style": "IPY_MODEL_1f9f25b4d0694c2eb4a448fe0aa3c452",
       "value": "fib(2) is called 13 times and fib(1) is called 5 times"
      }
     },
     "06bcfe8cbade4add893526958f6d3238": {
      "model_module": "@jupyter-widgets/controls",
      "model_module_version": "1.5.0",
      "model_name": "GridBoxModel",
      "state": {
       "box_style": "info",
       "children": [
        "IPY_MODEL_c4cd02cd21f443979083ef6a2ee9520b",
        "IPY_MODEL_4c91b01bdb4c4dafa7f4a27343f73f52",
        "IPY_MODEL_9bdae9f67cc34fab80a39c1bb1600629"
       ],
       "layout": "IPY_MODEL_959744706ba84cdcb58ec097cc2ad983"
      }
     },
     "06cf9c4507f7401da8fc6284f02778de": {
      "model_module": "@jupyter-widgets/controls",
      "model_module_version": "1.5.0",
      "model_name": "LabelModel",
      "state": {
       "layout": "IPY_MODEL_413e5118d8af413191d3561817303df3",
       "style": "IPY_MODEL_020258ecdb1c490d87fc5c977bbc969d"
      }
     },
     "06f553b386324793a78f5acb188e54d5": {
      "model_module": "@jupyter-widgets/base",
      "model_module_version": "1.2.0",
      "model_name": "LayoutModel",
      "state": {}
     },
     "073125e16ea94edc8ec6c5ee23ab331b": {
      "model_module": "@jupyter-widgets/controls",
      "model_module_version": "1.5.0",
      "model_name": "LabelModel",
      "state": {
       "layout": "IPY_MODEL_04eea920f2b240658bc76132076a9b7f",
       "style": "IPY_MODEL_baae0b970f3c4f47886db227962ec2d8",
       "value": "How many leaves does the call stack tree for fib(n) have? "
      }
     },
     "074ae5bcafe14a699659472c69db58bf": {
      "model_module": "@jupyter-widgets/controls",
      "model_module_version": "1.5.0",
      "model_name": "HBoxModel",
      "state": {
       "children": [
        "IPY_MODEL_f4879852ed56439ea103555369b5d507",
        "IPY_MODEL_140e15b84d2a4c2aabf6571b484d23ea"
       ],
       "layout": "IPY_MODEL_2ee9a3c19cd3421aa3d9acd675d9cfbd"
      }
     },
     "074d64a1196e4c1d9743496f16e66003": {
      "model_module": "@jupyter-widgets/controls",
      "model_module_version": "1.5.0",
      "model_name": "CheckboxModel",
      "state": {
       "disabled": false,
       "layout": "IPY_MODEL_ded6ec115d504f9a974ce654a4bde4c5",
       "style": "IPY_MODEL_d9750f71f5024301b45893c3d2c51e9d",
       "value": false
      }
     },
     "0764ee0fc467497db39d97bcaff42338": {
      "model_module": "@jupyter-widgets/controls",
      "model_module_version": "1.5.0",
      "model_name": "LabelModel",
      "state": {
       "layout": "IPY_MODEL_475c4c6b6c60485289ca4c995907fbab",
       "style": "IPY_MODEL_387197d396e8490197fb5895b4feedc2",
       "value": "fib(n - k)"
      }
     },
     "0769ed84e63b45d79694561785e88301": {
      "model_module": "@jupyter-widgets/controls",
      "model_module_version": "1.5.0",
      "model_name": "LabelModel",
      "state": {
       "layout": "IPY_MODEL_993fb652f4a74cc0801e6cc1b40b6990",
       "style": "IPY_MODEL_f92a1373113049d7abdb76bc6549d0be"
      }
     },
     "077971ec69554718bd1df3de9de73864": {
      "model_module": "@jupyter-widgets/base",
      "model_module_version": "1.2.0",
      "model_name": "LayoutModel",
      "state": {
       "width": "1000px"
      }
     },
     "077e12e98a494348aa4764a717ec375d": {
      "model_module": "@jupyter-widgets/controls",
      "model_module_version": "1.5.0",
      "model_name": "DescriptionStyleModel",
      "state": {
       "description_width": ""
      }
     },
     "0793059ddeb4447f8471a605c1f4d6e6": {
      "model_module": "@jupyter-widgets/controls",
      "model_module_version": "1.5.0",
      "model_name": "DescriptionStyleModel",
      "state": {
       "description_width": ""
      }
     },
     "07ae01383ed54c9fbfa67a1177bd3bd5": {
      "model_module": "@jupyter-widgets/controls",
      "model_module_version": "1.5.0",
      "model_name": "DescriptionStyleModel",
      "state": {
       "description_width": ""
      }
     },
     "07cca0532ea0418388f3d7373282bc8a": {
      "model_module": "@jupyter-widgets/controls",
      "model_module_version": "1.5.0",
      "model_name": "CheckboxModel",
      "state": {
       "disabled": true,
       "layout": "IPY_MODEL_d0f8fcc420b34fa78ada2af623aab465",
       "style": "IPY_MODEL_889db3f4b64f4df49b61b7b5c96f95c4",
       "value": true
      }
     },
     "07ef4a57cba04699baa65f0bd7bab0fb": {
      "model_module": "@jupyter-widgets/base",
      "model_module_version": "1.2.0",
      "model_name": "LayoutModel",
      "state": {}
     },
     "085a6bc1673944139a6dc6aacbf834a6": {
      "model_module": "@jupyter-widgets/controls",
      "model_module_version": "1.5.0",
      "model_name": "LabelModel",
      "state": {
       "layout": "IPY_MODEL_09ba9a55cb084f6eb35d3368cb4c20af",
       "style": "IPY_MODEL_cbe334702b1f40ce94a6d4d821ab0644"
      }
     },
     "08a2afc97a4643efb3186b57066536fe": {
      "model_module": "@jupyter-widgets/controls",
      "model_module_version": "1.5.0",
      "model_name": "VBoxModel",
      "state": {
       "children": [
        "IPY_MODEL_1d26ad6eab30429f9b6ae9c5a5eb024d"
       ],
       "layout": "IPY_MODEL_45ed48e3579245dd8a3339d37db46e9b"
      }
     },
     "08b245e9e4c5480993be35b1a57e0b37": {
      "model_module": "@jupyter-widgets/controls",
      "model_module_version": "1.5.0",
      "model_name": "ButtonModel",
      "state": {
       "description": "Submit",
       "layout": "IPY_MODEL_e6c5fa5f42dd4e1c82dbe71d615ec026",
       "style": "IPY_MODEL_f3d81a3b5b694c7d8c66fcef817c18df"
      }
     },
     "08be53391f6f4aa1acacb29886a8d846": {
      "model_module": "@jupyter-widgets/controls",
      "model_module_version": "1.5.0",
      "model_name": "LabelModel",
      "state": {
       "layout": "IPY_MODEL_dd56061099d14d02ab6781bdd601d9e2",
       "style": "IPY_MODEL_bd557ceb91a74f498fe0b5aeb2a4a165"
      }
     },
     "08d222fc9c6c42eda3a010bf968db21b": {
      "model_module": "@jupyter-widgets/base",
      "model_module_version": "1.2.0",
      "model_name": "LayoutModel",
      "state": {
       "height": "50%",
       "margin": "0 0 0 30px",
       "width": "50%"
      }
     },
     "08f9f1de0684446ab6727fc2d5359afa": {
      "model_module": "@jupyter-widgets/base",
      "model_module_version": "1.2.0",
      "model_name": "LayoutModel",
      "state": {
       "width": "30px"
      }
     },
     "0917ddc40ca2414d91cb70e42e233780": {
      "model_module": "@jupyter-widgets/controls",
      "model_module_version": "1.5.0",
      "model_name": "DescriptionStyleModel",
      "state": {
       "description_width": ""
      }
     },
     "0973581ac69543d0b4ac235c01584e3f": {
      "model_module": "@jupyter-widgets/controls",
      "model_module_version": "1.5.0",
      "model_name": "CheckboxModel",
      "state": {
       "disabled": true,
       "layout": "IPY_MODEL_f017656b51c544aebbffef57d3e0337f",
       "style": "IPY_MODEL_0048a6aadb3b421aafb5a0bd2a641102",
       "value": false
      }
     },
     "0991fdb4092141998748752c37f3cdab": {
      "model_module": "@jupyter-widgets/controls",
      "model_module_version": "1.5.0",
      "model_name": "GridBoxModel",
      "state": {
       "box_style": "info",
       "children": [
        "IPY_MODEL_84ee20e9d6564768b50ad69074706d93",
        "IPY_MODEL_5cdec92b73d849849c6f2c0b428f4232",
        "IPY_MODEL_99f4018cbfe943fe9f8c59bfb86e56fa"
       ],
       "layout": "IPY_MODEL_e7284c8f035b4fa39c7903e738ee5d93"
      }
     },
     "0993fcb331d04b60a964eb4a46a63a6e": {
      "model_module": "@jupyter-widgets/controls",
      "model_module_version": "1.5.0",
      "model_name": "LabelModel",
      "state": {
       "layout": "IPY_MODEL_eccff738a0c14da19919478be04dbe09",
       "style": "IPY_MODEL_efd23594330340bc87c3004eeee7c821",
       "value": "fib(n - 1)"
      }
     },
     "09a02419187a4b74bf158737771f3b5e": {
      "model_module": "@jupyter-widgets/controls",
      "model_module_version": "1.5.0",
      "model_name": "DescriptionStyleModel",
      "state": {
       "description_width": ""
      }
     },
     "09b1c38d07d34973b6cd1bdbedaf39b8": {
      "model_module": "@jupyter-widgets/controls",
      "model_module_version": "1.5.0",
      "model_name": "CheckboxModel",
      "state": {
       "disabled": false,
       "layout": "IPY_MODEL_0b6c0e0da7b245cf832a5c3366fc7985",
       "style": "IPY_MODEL_70a79c37a86b444eba7c6daee2b72068",
       "value": false
      }
     },
     "09ba9a55cb084f6eb35d3368cb4c20af": {
      "model_module": "@jupyter-widgets/base",
      "model_module_version": "1.2.0",
      "model_name": "LayoutModel",
      "state": {}
     },
     "09c21e263c354f60a90fe4416335e950": {
      "model_module": "@jupyter-widgets/controls",
      "model_module_version": "1.5.0",
      "model_name": "LabelModel",
      "state": {
       "layout": "IPY_MODEL_46ca557e427c454c816a7fd31c422899",
       "style": "IPY_MODEL_7726cb47d7bc4a2880c01f8330b72819",
       "value": "The call tree for fib(n) has exactly"
      }
     },
     "09cc65d4514b4ec08730d949a24cf02b": {
      "model_module": "@jupyter-widgets/base",
      "model_module_version": "1.2.0",
      "model_name": "LayoutModel",
      "state": {}
     },
     "09f78297bd4842a7bdc8fc25c4bff41a": {
      "model_module": "@jupyter-widgets/controls",
      "model_module_version": "1.5.0",
      "model_name": "DescriptionStyleModel",
      "state": {
       "description_width": ""
      }
     },
     "0a04a5c7378844feb9a22c6bc4b01c90": {
      "model_module": "@jupyter-widgets/base",
      "model_module_version": "1.2.0",
      "model_name": "LayoutModel",
      "state": {
       "grid_area": "left-sidebar"
      }
     },
     "0a3548c7bb0e48d1bb8f3c3565a9aea2": {
      "model_module": "@jupyter-widgets/base",
      "model_module_version": "1.2.0",
      "model_name": "LayoutModel",
      "state": {
       "width": "30px"
      }
     },
     "0aa23a4809d84810bd890ac70034f4cf": {
      "model_module": "@jupyter-widgets/base",
      "model_module_version": "1.2.0",
      "model_name": "LayoutModel",
      "state": {
       "align_items": "stretch",
       "display": "flex",
       "flex_flow": "column",
       "grid_template_areas": "\"header header\"\n\"left-sidebar left-sidebar\"\n\"footer footer\"",
       "grid_template_columns": "1fr 1fr",
       "grid_template_rows": "1fr 3fr 1fr",
       "width": "100%"
      }
     },
     "0ac4a593323c447db5e63267637c0701": {
      "model_module": "@jupyter-widgets/base",
      "model_module_version": "1.2.0",
      "model_name": "LayoutModel",
      "state": {}
     },
     "0b0cc008e39d49369a1d3757c5b210bd": {
      "model_module": "@jupyter-widgets/base",
      "model_module_version": "1.2.0",
      "model_name": "LayoutModel",
      "state": {
       "grid_area": "footer"
      }
     },
     "0b1447774b074ac49c8a8e848237055f": {
      "model_module": "@jupyter-widgets/base",
      "model_module_version": "1.2.0",
      "model_name": "LayoutModel",
      "state": {}
     },
     "0b6c0e0da7b245cf832a5c3366fc7985": {
      "model_module": "@jupyter-widgets/base",
      "model_module_version": "1.2.0",
      "model_name": "LayoutModel",
      "state": {
       "width": "30px"
      }
     },
     "0b6ce4e490974ed0ba5e6964437fa7d1": {
      "model_module": "@jupyter-widgets/controls",
      "model_module_version": "1.5.0",
      "model_name": "DescriptionStyleModel",
      "state": {
       "description_width": ""
      }
     },
     "0b73f497e1ad4eeba1267310a165fa70": {
      "model_module": "@jupyter-widgets/controls",
      "model_module_version": "1.5.0",
      "model_name": "DescriptionStyleModel",
      "state": {
       "description_width": ""
      }
     },
     "0bafff2357234161992d599d446da7f3": {
      "model_module": "@jupyter-widgets/controls",
      "model_module_version": "1.5.0",
      "model_name": "HBoxModel",
      "state": {
       "children": [
        "IPY_MODEL_cc0690ddbba84ec5b3e8734f0d131315",
        "IPY_MODEL_6b67602a8e5c4aff9d892b0d40842c71"
       ],
       "layout": "IPY_MODEL_150b1df4cb8b4c24bbf96623c8294e5c"
      }
     },
     "0bc08551535e48139d086d66f5199a18": {
      "model_module": "@jupyter-widgets/base",
      "model_module_version": "1.2.0",
      "model_name": "LayoutModel",
      "state": {}
     },
     "0bc9be4c41f049a38d9a955b49bed3a8": {
      "model_module": "@jupyter-widgets/base",
      "model_module_version": "1.2.0",
      "model_name": "LayoutModel",
      "state": {
       "display": "none"
      }
     },
     "0bd1a99465ee43e3841c768ab61f056a": {
      "model_module": "@jupyter-widgets/controls",
      "model_module_version": "1.5.0",
      "model_name": "DescriptionStyleModel",
      "state": {
       "description_width": "initial"
      }
     },
     "0be548e9b6f1425bbac75653225c6800": {
      "model_module": "@jupyter-widgets/controls",
      "model_module_version": "1.5.0",
      "model_name": "ButtonModel",
      "state": {
       "description": "Submit",
       "layout": "IPY_MODEL_1856a7e3dd104430be768ca2e4c2afce",
       "style": "IPY_MODEL_d08062adf948444183c5042005368573"
      }
     },
     "0bf3ae3420224c5f9e10079caf0fa6c1": {
      "model_module": "@jupyter-widgets/controls",
      "model_module_version": "1.5.0",
      "model_name": "DescriptionStyleModel",
      "state": {
       "description_width": ""
      }
     },
     "0bf8aa94eb6a431f96a00e2a6c03469e": {
      "model_module": "@jupyter-widgets/controls",
      "model_module_version": "1.5.0",
      "model_name": "DescriptionStyleModel",
      "state": {
       "description_width": ""
      }
     },
     "0c0a8522640d4e3b9fa38f1283c126cb": {
      "model_module": "@jupyter-widgets/base",
      "model_module_version": "1.2.0",
      "model_name": "LayoutModel",
      "state": {}
     },
     "0c8ba7a7f6e346978053df5c07d9dc10": {
      "model_module": "@jupyter-widgets/base",
      "model_module_version": "1.2.0",
      "model_name": "LayoutModel",
      "state": {
       "width": "100px"
      }
     },
     "0c96a7b578ff4111b3da04654f86f20c": {
      "model_module": "@jupyter-widgets/base",
      "model_module_version": "1.2.0",
      "model_name": "LayoutModel",
      "state": {
       "width": "30px"
      }
     },
     "0cf804a1ca084f939b5c3655aa77fa0f": {
      "model_module": "@jupyter-widgets/controls",
      "model_module_version": "1.5.0",
      "model_name": "CheckboxModel",
      "state": {
       "disabled": false,
       "layout": "IPY_MODEL_9909085190f145f7bd817b2d390d4b87",
       "style": "IPY_MODEL_a2450aa4a4b44e97ab6514e0d48d9eac",
       "value": false
      }
     },
     "0d2c18d0d29b48adbd8a4af60a1f5350": {
      "model_module": "@jupyter-widgets/controls",
      "model_module_version": "1.5.0",
      "model_name": "HBoxModel",
      "state": {
       "children": [
        "IPY_MODEL_f4845a097a7c4ebc975db1498bc44023",
        "IPY_MODEL_1073082643de4623a89696a63f4cd5f4"
       ],
       "layout": "IPY_MODEL_ef7baee3e3aa4ed287a094a660910c03"
      }
     },
     "0d53d85d3a0843aa8eb9fded7b8354b3": {
      "model_module": "@jupyter-widgets/base",
      "model_module_version": "1.2.0",
      "model_name": "LayoutModel",
      "state": {
       "grid_template_areas": "\"header header\"\n\"left-sidebar left-sidebar\"\n\"footer footer\"",
       "grid_template_columns": "1fr 1fr",
       "grid_template_rows": "1fr 3fr 1fr"
      }
     },
     "0d73a65c9ac44ac5aa3bf9e577276fba": {
      "model_module": "@jupyter-widgets/base",
      "model_module_version": "1.2.0",
      "model_name": "LayoutModel",
      "state": {}
     },
     "0dae5f4a4355447ab7d0c086b4556d38": {
      "model_module": "@jupyter-widgets/base",
      "model_module_version": "1.2.0",
      "model_name": "LayoutModel",
      "state": {}
     },
     "0dbcf07c15ae4a6284d2710f1123c1b5": {
      "model_module": "@jupyter-widgets/controls",
      "model_module_version": "1.5.0",
      "model_name": "HBoxModel",
      "state": {
       "children": [
        "IPY_MODEL_e6ecb94a5b4a4b019604c90165ab446d",
        "IPY_MODEL_b8cc2028e65b4370b3e65c9aa8800cb6"
       ],
       "layout": "IPY_MODEL_39681c8afd4c4b23b94f042e07ae0dda"
      }
     },
     "0dd8b04c3d4440d6813ccdfab2c0cca5": {
      "model_module": "@jupyter-widgets/base",
      "model_module_version": "1.2.0",
      "model_name": "LayoutModel",
      "state": {
       "width": "100px"
      }
     },
     "0df45492b95346abaa5ffede059561de": {
      "model_module": "@jupyter-widgets/controls",
      "model_module_version": "1.5.0",
      "model_name": "HBoxModel",
      "state": {
       "box_style": "info",
       "children": [
        "IPY_MODEL_eed9d7f6e31b4122a75826e0e04beda0",
        "IPY_MODEL_29f87d7a8b234e3cada40791f1916a01"
       ],
       "layout": "IPY_MODEL_d95499f3a7ba484082cdc5398d75337c"
      }
     },
     "0df95bb938664c8f9aeba2edfffce604": {
      "model_module": "@jupyter-widgets/controls",
      "model_module_version": "1.5.0",
      "model_name": "DescriptionStyleModel",
      "state": {
       "description_width": ""
      }
     },
     "0e39d4e4fa4f4a158f1d3e1f9153d772": {
      "model_module": "@jupyter-widgets/controls",
      "model_module_version": "1.5.0",
      "model_name": "LabelModel",
      "state": {
       "layout": "IPY_MODEL_d1b3e0eb8088417896ebc31030c9e41a",
       "style": "IPY_MODEL_d877b4bb13eb47929d1703c3e9d0baff",
       "value": "fib(n) - 1"
      }
     },
     "0e5269cc1b3745f0bce7806b363867e0": {
      "model_module": "@jupyter-widgets/base",
      "model_module_version": "1.2.0",
      "model_name": "LayoutModel",
      "state": {}
     },
     "0e809d4cdab74dc484a66e8f89a27f39": {
      "model_module": "@jupyter-widgets/controls",
      "model_module_version": "1.5.0",
      "model_name": "HBoxModel",
      "state": {
       "children": [
        "IPY_MODEL_94445b602d474611afe8670f159ec5c9",
        "IPY_MODEL_7228a25f0bff497eb002a38d42a1b56a"
       ],
       "layout": "IPY_MODEL_602323ce49944d44b2f689ee82a366e8"
      }
     },
     "0eb00da0f37f466cad5a327832642dcd": {
      "model_module": "@jupyter-widgets/base",
      "model_module_version": "1.2.0",
      "model_name": "LayoutModel",
      "state": {
       "width": "auto"
      }
     },
     "0f69ca0ecde64f5d9287c41f109af700": {
      "model_module": "@jupyter-widgets/base",
      "model_module_version": "1.2.0",
      "model_name": "LayoutModel",
      "state": {
       "height": "50%",
       "margin": "0 0 0 30px",
       "width": "50%"
      }
     },
     "0faf59ad9fd34cfa9a552f9f3c99357b": {
      "model_module": "@jupyter-widgets/controls",
      "model_module_version": "1.5.0",
      "model_name": "HBoxModel",
      "state": {
       "box_style": "info",
       "children": [
        "IPY_MODEL_489324190cdc43b99993337c78364b15",
        "IPY_MODEL_34526167924f49d8bf97d4caafc011e9"
       ],
       "layout": "IPY_MODEL_5a862553abc9438c8887ec8a3a124b0b"
      }
     },
     "0fcdc0bd1a50478e949f5bb13fac589c": {
      "model_module": "@jupyter-widgets/controls",
      "model_module_version": "1.5.0",
      "model_name": "DescriptionStyleModel",
      "state": {
       "description_width": ""
      }
     },
     "0ff26951928e41a883826b3e3b6ad4c1": {
      "model_module": "@jupyter-widgets/controls",
      "model_module_version": "1.5.0",
      "model_name": "GridBoxModel",
      "state": {
       "box_style": "success",
       "children": [
        "IPY_MODEL_073125e16ea94edc8ec6c5ee23ab331b",
        "IPY_MODEL_cd2dac7dae5946b19ebc5d8a8b61f365",
        "IPY_MODEL_adbb36277ef848ff82a2c43e1fc4c964"
       ],
       "layout": "IPY_MODEL_4f0b83ae7e4842b78a1577e16523dca9"
      }
     },
     "1009d0d050254df7b3061a829c220671": {
      "model_module": "@jupyter-widgets/base",
      "model_module_version": "1.2.0",
      "model_name": "LayoutModel",
      "state": {
       "width": "auto"
      }
     },
     "100efedb07b444b9bf35844bfe021646": {
      "model_module": "@jupyter-widgets/controls",
      "model_module_version": "1.5.0",
      "model_name": "HBoxModel",
      "state": {
       "children": [
        "IPY_MODEL_57b8573212f24ccc8621d97f5d98d1bc",
        "IPY_MODEL_ae56e9ad2a4c4e8a9a94edb5f664bb79"
       ],
       "layout": "IPY_MODEL_c1b5e885e9044e24bdd62b07bd7ba343"
      }
     },
     "101df11b1d224b9ab6bed56b33c2dfe8": {
      "model_module": "@jupyter-widgets/base",
      "model_module_version": "1.2.0",
      "model_name": "LayoutModel",
      "state": {}
     },
     "102303a6bd264f89a3404e4df9bf8a7c": {
      "model_module": "@jupyter-widgets/base",
      "model_module_version": "1.2.0",
      "model_name": "LayoutModel",
      "state": {
       "width": "auto"
      }
     },
     "102bff1e74cd4a81b5715fb2c4a965fa": {
      "model_module": "@jupyter-widgets/base",
      "model_module_version": "1.2.0",
      "model_name": "LayoutModel",
      "state": {}
     },
     "1038d492f2374716bf256f26c9efc414": {
      "model_module": "@jupyter-widgets/base",
      "model_module_version": "1.2.0",
      "model_name": "LayoutModel",
      "state": {}
     },
     "103f84c01aec462880e6687408002752": {
      "model_module": "@jupyter-widgets/controls",
      "model_module_version": "1.5.0",
      "model_name": "HBoxModel",
      "state": {
       "children": [
        "IPY_MODEL_5df1081a47cf45d9b6170cb3e9257053",
        "IPY_MODEL_8ac6597f10154c1e87c619ee780d250c"
       ],
       "layout": "IPY_MODEL_e0403c65e34b45528d2a45abd9f0255a"
      }
     },
     "105f4d06029c4085b1847ebc9233ea21": {
      "model_module": "@jupyter-widgets/base",
      "model_module_version": "1.2.0",
      "model_name": "LayoutModel",
      "state": {}
     },
     "1073082643de4623a89696a63f4cd5f4": {
      "model_module": "@jupyter-widgets/controls",
      "model_module_version": "1.5.0",
      "model_name": "LabelModel",
      "state": {
       "layout": "IPY_MODEL_95c91215cba14b4c9d60ffbd549de74e",
       "style": "IPY_MODEL_75302ff5f5954f1981e268f255df8d78",
       "value": "fib(n) - 1"
      }
     },
     "10989af5a1fd4d4c9eaf7fd24dbd30aa": {
      "model_module": "@jupyter-widgets/base",
      "model_module_version": "1.2.0",
      "model_name": "LayoutModel",
      "state": {
       "width": "30px"
      }
     },
     "109f6ba24e084427b5e319f0353879e6": {
      "model_module": "@jupyter-widgets/base",
      "model_module_version": "1.2.0",
      "model_name": "LayoutModel",
      "state": {}
     },
     "10c9b629b4b84bcea6cad19082192e6e": {
      "model_module": "@jupyter-widgets/controls",
      "model_module_version": "1.5.0",
      "model_name": "DescriptionStyleModel",
      "state": {
       "description_width": ""
      }
     },
     "11159f0867bb473e80660cc308904c22": {
      "model_module": "@jupyter-widgets/controls",
      "model_module_version": "1.5.0",
      "model_name": "DescriptionStyleModel",
      "state": {
       "description_width": "initial"
      }
     },
     "111d30f4870e42a2a61e180000f42675": {
      "model_module": "@jupyter-widgets/base",
      "model_module_version": "1.2.0",
      "model_name": "LayoutModel",
      "state": {
       "width": "100px"
      }
     },
     "114eb0a73ccd4fb4851ec1a0a1244d5b": {
      "model_module": "@jupyter-widgets/controls",
      "model_module_version": "1.5.0",
      "model_name": "DescriptionStyleModel",
      "state": {
       "description_width": ""
      }
     },
     "116676d050264d06b9ba2a48fe610dc9": {
      "model_module": "@jupyter-widgets/controls",
      "model_module_version": "1.5.0",
      "model_name": "ButtonModel",
      "state": {
       "description": "Submit",
       "layout": "IPY_MODEL_73143adffbe949a58ae64f04a92125f7",
       "style": "IPY_MODEL_6b334bfdec4549998d139846a551c065"
      }
     },
     "1178d79c073a4f7a9bda260829571cd0": {
      "model_module": "@jupyter-widgets/controls",
      "model_module_version": "1.5.0",
      "model_name": "LabelModel",
      "state": {
       "layout": "IPY_MODEL_937552667e2843a18cfada9e73612e9f",
       "style": "IPY_MODEL_a0750af8d37144068dbd7c3de8fdd938"
      }
     },
     "11b94cf546404676b27be1a04a5a8c75": {
      "model_module": "@jupyter-widgets/base",
      "model_module_version": "1.2.0",
      "model_name": "LayoutModel",
      "state": {
       "width": "500px"
      }
     },
     "11ca09a87f664a9788417232b25689f9": {
      "model_module": "@jupyter-widgets/base",
      "model_module_version": "1.2.0",
      "model_name": "LayoutModel",
      "state": {
       "width": "100px"
      }
     },
     "11d3930b7f684b29bb0c7d2d3c71ca04": {
      "model_module": "@jupyter-widgets/base",
      "model_module_version": "1.2.0",
      "model_name": "LayoutModel",
      "state": {
       "width": "500px"
      }
     },
     "11e0871442ae42df8d26ee156752b36a": {
      "model_module": "@jupyter-widgets/controls",
      "model_module_version": "1.5.0",
      "model_name": "LabelModel",
      "state": {
       "layout": "IPY_MODEL_9ffc98e73ed7464fa30391b2257b71d8",
       "style": "IPY_MODEL_fd2a9f7a83e24290b7aa8ac695709b13"
      }
     },
     "122ce43a3d924c9c9ea348908f91e4eb": {
      "model_module": "@jupyter-widgets/base",
      "model_module_version": "1.2.0",
      "model_name": "LayoutModel",
      "state": {
       "align_items": "stretch",
       "display": "flex",
       "flex_flow": "row wrap",
       "grid_area": "header",
       "margin": "0 0 30px 0",
       "width": "100%"
      }
     },
     "1245dc2205664e629c99d1c4214a2934": {
      "model_module": "@jupyter-widgets/base",
      "model_module_version": "1.2.0",
      "model_name": "LayoutModel",
      "state": {}
     },
     "12974aab8ca244a0951cf05f0fc6409f": {
      "model_module": "@jupyter-widgets/base",
      "model_module_version": "1.2.0",
      "model_name": "LayoutModel",
      "state": {}
     },
     "129b5656f8bd4be385539451384a8da8": {
      "model_module": "@jupyter-widgets/controls",
      "model_module_version": "1.5.0",
      "model_name": "HBoxModel",
      "state": {
       "children": [
        "IPY_MODEL_e1f62564489e4864a18139559260035b",
        "IPY_MODEL_2f8d52919bbf4a658af7d990ecf48354"
       ],
       "layout": "IPY_MODEL_19e23141b6f24873bf71960e2d4b5471"
      }
     },
     "12aa13cb26d34d4fa97b519fe6513313": {
      "model_module": "@jupyter-widgets/controls",
      "model_module_version": "1.5.0",
      "model_name": "DescriptionStyleModel",
      "state": {
       "description_width": "initial"
      }
     },
     "12b867fd61394d75b32f219d56077404": {
      "model_module": "@jupyter-widgets/controls",
      "model_module_version": "1.5.0",
      "model_name": "GridBoxModel",
      "state": {
       "box_style": "info",
       "children": [
        "IPY_MODEL_2b85919c07d24ec2a8ed51d14ab85e67",
        "IPY_MODEL_22417936d88847909fa609e96731f0a3",
        "IPY_MODEL_eca67df2dd8a4581957f6dba66b5e51b"
       ],
       "layout": "IPY_MODEL_ec8a6809248b47debb63b299cd06b73b"
      }
     },
     "12fe77311f014c568dadb213a1def63f": {
      "model_module": "@jupyter-widgets/controls",
      "model_module_version": "1.5.0",
      "model_name": "DescriptionStyleModel",
      "state": {
       "description_width": ""
      }
     },
     "131856549bf644558818d42a393c8fc6": {
      "model_module": "@jupyter-widgets/controls",
      "model_module_version": "1.5.0",
      "model_name": "DescriptionStyleModel",
      "state": {
       "description_width": ""
      }
     },
     "13230ddda40e40dc9c8771cfd083dacf": {
      "model_module": "@jupyter-widgets/controls",
      "model_module_version": "1.5.0",
      "model_name": "HBoxModel",
      "state": {
       "children": [
        "IPY_MODEL_ae128f9a7999477f9d62e295e8b2f1ae",
        "IPY_MODEL_65bf0b6d0ab5451b86a8db7d9e102dac"
       ],
       "layout": "IPY_MODEL_7c9276d4d5fb45b08759d53b82daab3b"
      }
     },
     "1327f6db1eda44879bcb1c6f7d494897": {
      "model_module": "@jupyter-widgets/base",
      "model_module_version": "1.2.0",
      "model_name": "LayoutModel",
      "state": {
       "grid_area": "footer"
      }
     },
     "1328c9dc95254ad7ba57e089cc56516d": {
      "model_module": "@jupyter-widgets/controls",
      "model_module_version": "1.5.0",
      "model_name": "VBoxModel",
      "state": {
       "children": [
        "IPY_MODEL_b000b08cd22b472a8c951ca90e1f3054",
        "IPY_MODEL_45a14fd50c684fd9b58eeaeb31f9ef1d",
        "IPY_MODEL_100efedb07b444b9bf35844bfe021646",
        "IPY_MODEL_ab2f9c25b97844cbbefa101eb9d33f69",
        "IPY_MODEL_4cb88cf7361d480b88d6c98d17f2e7e7"
       ],
       "layout": "IPY_MODEL_bdc409763297442ebaef0f441a3caa56"
      }
     },
     "13317dc1f2904653a60bd67f997f8bac": {
      "model_module": "@jupyter-widgets/base",
      "model_module_version": "1.2.0",
      "model_name": "LayoutModel",
      "state": {
       "width": "30px"
      }
     },
     "135466555c76488c8d326d6a2b55b2e7": {
      "model_module": "@jupyter-widgets/controls",
      "model_module_version": "1.5.0",
      "model_name": "DescriptionStyleModel",
      "state": {
       "description_width": ""
      }
     },
     "1360bc66124a48cb9b9a2d97a268dc79": {
      "model_module": "@jupyter-widgets/controls",
      "model_module_version": "1.5.0",
      "model_name": "DescriptionStyleModel",
      "state": {
       "description_width": ""
      }
     },
     "137bd755898248adba757f3726754d28": {
      "model_module": "@jupyter-widgets/base",
      "model_module_version": "1.2.0",
      "model_name": "LayoutModel",
      "state": {}
     },
     "13acf49a392c496495f79c1d65c7f2e7": {
      "model_module": "@jupyter-widgets/controls",
      "model_module_version": "1.5.0",
      "model_name": "LabelModel",
      "state": {
       "layout": "IPY_MODEL_e81f346a861f4fe7a452e3d13b30b680",
       "style": "IPY_MODEL_760eaa21465d475cb2123b8986126a2d",
       "value": "fib(2) is called 5 times and fib(1) is called 8 times"
      }
     },
     "13ca302486d846db9bad615d72aa5de4": {
      "model_module": "@jupyter-widgets/controls",
      "model_module_version": "1.5.0",
      "model_name": "DescriptionStyleModel",
      "state": {
       "description_width": ""
      }
     },
     "13cd05f4d49b4b7caafbb552c6c3bd4b": {
      "model_module": "@jupyter-widgets/controls",
      "model_module_version": "1.5.0",
      "model_name": "DescriptionStyleModel",
      "state": {
       "description_width": "initial"
      }
     },
     "13f0670fc1ac4922804e955206613ca4": {
      "model_module": "@jupyter-widgets/controls",
      "model_module_version": "1.5.0",
      "model_name": "DescriptionStyleModel",
      "state": {
       "description_width": ""
      }
     },
     "14041e6112c64b209f2cf577df4684b2": {
      "model_module": "@jupyter-widgets/controls",
      "model_module_version": "1.5.0",
      "model_name": "CheckboxModel",
      "state": {
       "disabled": false,
       "layout": "IPY_MODEL_08f9f1de0684446ab6727fc2d5359afa",
       "style": "IPY_MODEL_f0f26f6dc34a40f2beb872e42b4237b5",
       "value": false
      }
     },
     "140e15b84d2a4c2aabf6571b484d23ea": {
      "model_module": "@jupyter-widgets/controls",
      "model_module_version": "1.5.0",
      "model_name": "HBoxModel",
      "state": {
       "children": [
        "IPY_MODEL_70c92a89fbae42dba2eb99830d96aba0",
        "IPY_MODEL_fa685750cfb04b8d81a200cdede22433"
       ],
       "layout": "IPY_MODEL_3b80f8ff94a043ceadb154a7fa047b2a"
      }
     },
     "141dc0b40bff40118363d4886cfbc5b9": {
      "model_module": "@jupyter-widgets/base",
      "model_module_version": "1.2.0",
      "model_name": "LayoutModel",
      "state": {}
     },
     "1421397e7d2043949b69833191ea6b35": {
      "model_module": "@jupyter-widgets/base",
      "model_module_version": "1.2.0",
      "model_name": "LayoutModel",
      "state": {
       "width": "30px"
      }
     },
     "14296969da6046fa97d88029c4df6c3e": {
      "model_module": "@jupyter-widgets/base",
      "model_module_version": "1.2.0",
      "model_name": "LayoutModel",
      "state": {
       "grid_area": "left-sidebar"
      }
     },
     "143cc2d295484f6caac49fa9aeac832a": {
      "model_module": "@jupyter-widgets/base",
      "model_module_version": "1.2.0",
      "model_name": "LayoutModel",
      "state": {
       "grid_area": "header"
      }
     },
     "1484cc01d37c4e9482d5f8953c871037": {
      "model_module": "@jupyter-widgets/base",
      "model_module_version": "1.2.0",
      "model_name": "LayoutModel",
      "state": {
       "width": "1000px"
      }
     },
     "14bcde07f0d448f98d78524e0f4d0560": {
      "model_module": "@jupyter-widgets/controls",
      "model_module_version": "1.5.0",
      "model_name": "LabelModel",
      "state": {
       "layout": "IPY_MODEL_b945181051614a0b855eb388648c0e03",
       "style": "IPY_MODEL_b1e62a6a92814a9fa917c2eefa8b2a4c",
       "value": "fib(n) - 1 + fib(n - 2)"
      }
     },
     "14d766cc22e940c59281dcdda42719b2": {
      "model_module": "@jupyter-widgets/controls",
      "model_module_version": "1.5.0",
      "model_name": "HBoxModel",
      "state": {
       "children": [
        "IPY_MODEL_a3a068c3cb5a495c8679a323d57bc0f2",
        "IPY_MODEL_9d7b6f991e434a7db0fa58880657f68f"
       ],
       "layout": "IPY_MODEL_6def87837e3c412d9d84bf17a16be278"
      }
     },
     "1503e6d3ed8a4be0a5b4da00eefe3599": {
      "model_module": "@jupyter-widgets/base",
      "model_module_version": "1.2.0",
      "model_name": "LayoutModel",
      "state": {
       "width": "1000px"
      }
     },
     "150b1df4cb8b4c24bbf96623c8294e5c": {
      "model_module": "@jupyter-widgets/base",
      "model_module_version": "1.2.0",
      "model_name": "LayoutModel",
      "state": {}
     },
     "155107f127cb476e9f527634625e122f": {
      "model_module": "@jupyter-widgets/controls",
      "model_module_version": "1.5.0",
      "model_name": "GridBoxModel",
      "state": {
       "box_style": "info",
       "children": [
        "IPY_MODEL_567a13c8e4a84c2ca4d2dad9e68f67e8",
        "IPY_MODEL_2299dbe7bad24916bf309e25defd4ab1",
        "IPY_MODEL_f95618f7ff8646bb9893e644218752c6"
       ],
       "layout": "IPY_MODEL_3bb9074e9560492d8e93f399f14acca8"
      }
     },
     "15a47658be8548eca23ed29bfd09eaba": {
      "model_module": "@jupyter-widgets/base",
      "model_module_version": "1.2.0",
      "model_name": "LayoutModel",
      "state": {
       "grid_area": "left-sidebar"
      }
     },
     "15bffb31e6a046ab8891a34485894d45": {
      "model_module": "@jupyter-widgets/base",
      "model_module_version": "1.2.0",
      "model_name": "LayoutModel",
      "state": {
       "width": "30px"
      }
     },
     "15c2224beb214b179de47c648ae89baf": {
      "model_module": "@jupyter-widgets/base",
      "model_module_version": "1.2.0",
      "model_name": "LayoutModel",
      "state": {}
     },
     "15d6ee2b841d475d93b1773402614691": {
      "model_module": "@jupyter-widgets/controls",
      "model_module_version": "1.5.0",
      "model_name": "LabelModel",
      "state": {
       "layout": "IPY_MODEL_cdd3cd0026694b889fedf208cb5e7dda",
       "style": "IPY_MODEL_b7b3ff676a704ced8cfd2a081095cdaf",
       "value": "fib(k)"
      }
     },
     "15e77664334343c5971b5c9aa89ea034": {
      "model_module": "@jupyter-widgets/controls",
      "model_module_version": "1.5.0",
      "model_name": "DescriptionStyleModel",
      "state": {
       "description_width": ""
      }
     },
     "1610a46c71bf4425bba20fa1006578d6": {
      "model_module": "@jupyter-widgets/base",
      "model_module_version": "1.2.0",
      "model_name": "LayoutModel",
      "state": {
       "width": "1000px"
      }
     },
     "163ca1afbf744895886b08eda4a8573a": {
      "model_module": "@jupyter-widgets/controls",
      "model_module_version": "1.5.0",
      "model_name": "DescriptionStyleModel",
      "state": {
       "description_width": ""
      }
     },
     "168c8850b6044e2bae0dafa87e2dc9bf": {
      "model_module": "@jupyter-widgets/base",
      "model_module_version": "1.2.0",
      "model_name": "LayoutModel",
      "state": {}
     },
     "16dd13fdfa6749559cb73f12a4e14638": {
      "model_module": "@jupyter-widgets/base",
      "model_module_version": "1.2.0",
      "model_name": "LayoutModel",
      "state": {}
     },
     "16eae281b032402fac3d866d87ff889d": {
      "model_module": "@jupyter-widgets/controls",
      "model_module_version": "1.5.0",
      "model_name": "HBoxModel",
      "state": {
       "children": [
        "IPY_MODEL_59d94204975a42138be5d8d35a2518cf",
        "IPY_MODEL_c2f4a7ffb66342719242b4cd43a19e7f"
       ],
       "layout": "IPY_MODEL_3f31d37f59be466f90973552262b40da"
      }
     },
     "170dd75a42d84547ab51cc63d79f1fc5": {
      "model_module": "@jupyter-widgets/base",
      "model_module_version": "1.2.0",
      "model_name": "LayoutModel",
      "state": {}
     },
     "17ad98d25d6546bba0afe46ae5662f25": {
      "model_module": "@jupyter-widgets/controls",
      "model_module_version": "1.5.0",
      "model_name": "DescriptionStyleModel",
      "state": {
       "description_width": "initial"
      }
     },
     "17bed34d45b44b8f8dde4742c0990746": {
      "model_module": "@jupyter-widgets/base",
      "model_module_version": "1.2.0",
      "model_name": "LayoutModel",
      "state": {
       "width": "1000px"
      }
     },
     "17f66bda281f464ca283448a2346f43a": {
      "model_module": "@jupyter-widgets/controls",
      "model_module_version": "1.5.0",
      "model_name": "HBoxModel",
      "state": {
       "box_style": "info",
       "children": [
        "IPY_MODEL_961534f3fedc408eb4b77162e09c0389",
        "IPY_MODEL_2f8159a215354511be9edb7e58c6cd63"
       ],
       "layout": "IPY_MODEL_0b0cc008e39d49369a1d3757c5b210bd"
      }
     },
     "1800d3717b4a4b3facea37aa557b8c63": {
      "model_module": "@jupyter-widgets/base",
      "model_module_version": "1.2.0",
      "model_name": "LayoutModel",
      "state": {
       "grid_area": "header"
      }
     },
     "1828512fdfca4b06a17c3462435a1176": {
      "model_module": "@jupyter-widgets/base",
      "model_module_version": "1.2.0",
      "model_name": "LayoutModel",
      "state": {}
     },
     "18362fe8edc54b05b9c97ea0c1c44e67": {
      "model_module": "@jupyter-widgets/controls",
      "model_module_version": "1.5.0",
      "model_name": "HBoxModel",
      "state": {
       "children": [
        "IPY_MODEL_b49f6160db0a4c4d88880624d633963d",
        "IPY_MODEL_0764ee0fc467497db39d97bcaff42338"
       ],
       "layout": "IPY_MODEL_978ceedb34804dce8cb088e085d27e93"
      }
     },
     "18449e39643c4d8ea8f5b6e5a6daf66e": {
      "model_module": "@jupyter-widgets/controls",
      "model_module_version": "1.5.0",
      "model_name": "DescriptionStyleModel",
      "state": {
       "description_width": "initial"
      }
     },
     "1856a7e3dd104430be768ca2e4c2afce": {
      "model_module": "@jupyter-widgets/base",
      "model_module_version": "1.2.0",
      "model_name": "LayoutModel",
      "state": {}
     },
     "186a625f75bf4879b32939874181450b": {
      "model_module": "@jupyter-widgets/controls",
      "model_module_version": "1.5.0",
      "model_name": "LabelModel",
      "state": {
       "layout": "IPY_MODEL_d0ea893b5eca43159e229d675468d980",
       "style": "IPY_MODEL_c9c3be66c6594575a3b1555cde30c0fb",
       "value": "Given k between 0 and n - 3, how many nodes of type fib(n - k) does the call stack tree of fib(n) have?"
      }
     },
     "186d294975b64b318b0920324869e9aa": {
      "model_module": "@jupyter-widgets/base",
      "model_module_version": "1.2.0",
      "model_name": "LayoutModel",
      "state": {
       "width": "30px"
      }
     },
     "186e3a73336346ceb2cedbc0abb8a642": {
      "model_module": "@jupyter-widgets/controls",
      "model_module_version": "1.5.0",
      "model_name": "CheckboxModel",
      "state": {
       "disabled": true,
       "layout": "IPY_MODEL_a4cb4b79e6cb40209f00415af6e2a095",
       "style": "IPY_MODEL_1fefb2e344e040118fc35f702fa5642f",
       "value": false
      }
     },
     "18808188d12145dabf592ef30819add2": {
      "model_module": "@jupyter-widgets/controls",
      "model_module_version": "1.5.0",
      "model_name": "HBoxModel",
      "state": {
       "children": [
        "IPY_MODEL_a8180d4d27894599836f604affa1b6fd",
        "IPY_MODEL_1d55a586d9894bd68d1386061ffbb40a"
       ],
       "layout": "IPY_MODEL_9bd5e211aa274d2397ddacc9abb5fb4b"
      }
     },
     "189bdcff6a4e416ca479ecf63e85158e": {
      "model_module": "@jupyter-widgets/controls",
      "model_module_version": "1.5.0",
      "model_name": "HBoxModel",
      "state": {
       "children": [
        "IPY_MODEL_25fcbcb4933d40dfb1ffc8cee5aa4308",
        "IPY_MODEL_63e55680f2fb4d918426ac6568f2c5b5"
       ],
       "layout": "IPY_MODEL_141dc0b40bff40118363d4886cfbc5b9"
      }
     },
     "18a012244fe0493494504f2a82077105": {
      "model_module": "@jupyter-widgets/base",
      "model_module_version": "1.2.0",
      "model_name": "LayoutModel",
      "state": {
       "grid_area": "header"
      }
     },
     "18c0d17f8ae443dcb47efae9d7d7821c": {
      "model_module": "@jupyter-widgets/base",
      "model_module_version": "1.2.0",
      "model_name": "LayoutModel",
      "state": {
       "width": "30px"
      }
     },
     "18c7d4df629742c79737908fc7f32d63": {
      "model_module": "@jupyter-widgets/base",
      "model_module_version": "1.2.0",
      "model_name": "LayoutModel",
      "state": {}
     },
     "18e5db40e7b541c9a288fc9348d82fd1": {
      "model_module": "@jupyter-widgets/base",
      "model_module_version": "1.2.0",
      "model_name": "LayoutModel",
      "state": {
       "align_items": "stretch",
       "display": "flex",
       "flex_flow": "row wrap",
       "grid_area": "header",
       "margin": "0 0 30px 0",
       "width": "100%"
      }
     },
     "18e6d9dde5fd460dbb38c1aed732bdf4": {
      "model_module": "@jupyter-widgets/controls",
      "model_module_version": "1.5.0",
      "model_name": "DescriptionStyleModel",
      "state": {
       "description_width": ""
      }
     },
     "18f35f433689443e872be81815830c6c": {
      "model_module": "@jupyter-widgets/controls",
      "model_module_version": "1.5.0",
      "model_name": "HBoxModel",
      "state": {
       "children": [
        "IPY_MODEL_6903326542204913a33dd231f246fce2",
        "IPY_MODEL_e89f9cae8d70436a8ed0090b96e31d2a"
       ],
       "layout": "IPY_MODEL_7b0db4763e8043a48ba4dc43b80b2597"
      }
     },
     "1934cedd36c74185a8168bed0e0852ef": {
      "model_module": "@jupyter-widgets/controls",
      "model_module_version": "1.5.0",
      "model_name": "DescriptionStyleModel",
      "state": {
       "description_width": ""
      }
     },
     "197f3c2e35d542fdb025cf36cdbdeaec": {
      "model_module": "@jupyter-widgets/controls",
      "model_module_version": "1.5.0",
      "model_name": "LabelModel",
      "state": {
       "layout": "IPY_MODEL_1800d3717b4a4b3facea37aa557b8c63",
       "style": "IPY_MODEL_b6f0d804975e4234bc10cb4669b69da2",
       "value": "How many nodes of type fib(n - k) does the call stack tree of fib(n) have (when n > 2 and 0 <= k < n - 3)?"
      }
     },
     "19b62463ed9243d28afc3abeb816366c": {
      "model_module": "@jupyter-widgets/base",
      "model_module_version": "1.2.0",
      "model_name": "LayoutModel",
      "state": {}
     },
     "19b8d10165f246afbbeb8686bc5007aa": {
      "model_module": "@jupyter-widgets/controls",
      "model_module_version": "1.5.0",
      "model_name": "DescriptionStyleModel",
      "state": {
       "description_width": ""
      }
     },
     "19c91b8acf9c4328a23fc62d9cf45949": {
      "model_module": "@jupyter-widgets/controls",
      "model_module_version": "1.5.0",
      "model_name": "LabelModel",
      "state": {
       "layout": "IPY_MODEL_9f5a043478ee44ebb19a2e10800dffcd",
       "style": "IPY_MODEL_10c9b629b4b84bcea6cad19082192e6e",
       "value": "$fib(2)$ is called $13$ times and $fib(1)$ is called $8$ times"
      }
     },
     "19daff78f37f4d89bd62e53a61ffa084": {
      "model_module": "@jupyter-widgets/controls",
      "model_module_version": "1.5.0",
      "model_name": "ButtonStyleModel",
      "state": {
       "button_color": "lightblue"
      }
     },
     "19e23141b6f24873bf71960e2d4b5471": {
      "model_module": "@jupyter-widgets/base",
      "model_module_version": "1.2.0",
      "model_name": "LayoutModel",
      "state": {}
     },
     "1a1de77d0d204d2ebf75720f775d627d": {
      "model_module": "@jupyter-widgets/controls",
      "model_module_version": "1.5.0",
      "model_name": "CheckboxModel",
      "state": {
       "disabled": false,
       "layout": "IPY_MODEL_29e194768f2a481a9cbe8996cae95f2f",
       "style": "IPY_MODEL_2b72165999b64626a3119665444d17af",
       "value": false
      }
     },
     "1a2117f6090d41edb446ab665fb54a29": {
      "model_module": "@jupyter-widgets/base",
      "model_module_version": "1.2.0",
      "model_name": "LayoutModel",
      "state": {
       "width": "1000px"
      }
     },
     "1a97696d5b9b4e379866024e8eeb8dff": {
      "model_module": "@jupyter-widgets/base",
      "model_module_version": "1.2.0",
      "model_name": "LayoutModel",
      "state": {}
     },
     "1ac03fbd68d948078d9c11a431d61f73": {
      "model_module": "@jupyter-widgets/controls",
      "model_module_version": "1.5.0",
      "model_name": "HBoxModel",
      "state": {
       "children": [
        "IPY_MODEL_a151246594684c7d98fb257286fdc167"
       ],
       "layout": "IPY_MODEL_e8e12763ead542d28d08425149f74b80"
      }
     },
     "1acf03f4b43f4edea62bc1b0e178a301": {
      "model_module": "@jupyter-widgets/base",
      "model_module_version": "1.2.0",
      "model_name": "LayoutModel",
      "state": {}
     },
     "1b5d55a4fc4442629746e03b42d6e22c": {
      "model_module": "@jupyter-widgets/base",
      "model_module_version": "1.2.0",
      "model_name": "LayoutModel",
      "state": {
       "grid_area": "header"
      }
     },
     "1b7472d121704d64a0ed558e75d91867": {
      "model_module": "@jupyter-widgets/controls",
      "model_module_version": "1.5.0",
      "model_name": "DescriptionStyleModel",
      "state": {
       "description_width": ""
      }
     },
     "1bbfc1aaad2e4eb58cf59994bea20793": {
      "model_module": "@jupyter-widgets/base",
      "model_module_version": "1.2.0",
      "model_name": "LayoutModel",
      "state": {
       "width": "1000px"
      }
     },
     "1bc242139df14ace8149bc75de805644": {
      "model_module": "@jupyter-widgets/base",
      "model_module_version": "1.2.0",
      "model_name": "LayoutModel",
      "state": {}
     },
     "1bcea9831af04512844e31657c3cf291": {
      "model_module": "@jupyter-widgets/controls",
      "model_module_version": "1.5.0",
      "model_name": "ButtonStyleModel",
      "state": {
       "button_color": "lightblue"
      }
     },
     "1bd213a6d35347dc8b1dcb7a5d9ca989": {
      "model_module": "@jupyter-widgets/base",
      "model_module_version": "1.2.0",
      "model_name": "LayoutModel",
      "state": {}
     },
     "1c2f2ee95aba40a79302ce944509d253": {
      "model_module": "@jupyter-widgets/controls",
      "model_module_version": "1.5.0",
      "model_name": "CheckboxModel",
      "state": {
       "disabled": false,
       "layout": "IPY_MODEL_d8d5f4b48818474b988ec3e280e6760f",
       "style": "IPY_MODEL_13cd05f4d49b4b7caafbb552c6c3bd4b",
       "value": false
      }
     },
     "1c40b159d11040f6a2f7ddf26895fa73": {
      "model_module": "@jupyter-widgets/controls",
      "model_module_version": "1.5.0",
      "model_name": "DescriptionStyleModel",
      "state": {
       "description_width": ""
      }
     },
     "1c4391226f7e424ba93d5bdd3baa4da3": {
      "model_module": "@jupyter-widgets/base",
      "model_module_version": "1.2.0",
      "model_name": "LayoutModel",
      "state": {
       "grid_area": "header"
      }
     },
     "1c457fa4ce454fc9b09c42a488e44c86": {
      "model_module": "@jupyter-widgets/base",
      "model_module_version": "1.2.0",
      "model_name": "LayoutModel",
      "state": {
       "width": "30px"
      }
     },
     "1c51326c5e8d4d80bd73d7e6a46691f7": {
      "model_module": "@jupyter-widgets/controls",
      "model_module_version": "1.5.0",
      "model_name": "HBoxModel",
      "state": {
       "children": [
        "IPY_MODEL_a37ea97eb4bb460683402f5ec72b24f7",
        "IPY_MODEL_85b9e8cd4bf5431881d42e3af7fd1a9f"
       ],
       "layout": "IPY_MODEL_9d80a8c5a9f04b03b8a940ff0aae69f4"
      }
     },
     "1c5772bd86d3467087e395c50eb47a1b": {
      "model_module": "@jupyter-widgets/base",
      "model_module_version": "1.2.0",
      "model_name": "LayoutModel",
      "state": {}
     },
     "1c6728f78b1c4313a22cb631fac2794d": {
      "model_module": "@jupyter-widgets/base",
      "model_module_version": "1.2.0",
      "model_name": "LayoutModel",
      "state": {}
     },
     "1cdc9298dabb46c0bf0d9dc3356091c3": {
      "model_module": "@jupyter-widgets/base",
      "model_module_version": "1.2.0",
      "model_name": "LayoutModel",
      "state": {}
     },
     "1d01d646981c434baa30051d408a921f": {
      "model_module": "@jupyter-widgets/controls",
      "model_module_version": "1.5.0",
      "model_name": "CheckboxModel",
      "state": {
       "disabled": false,
       "layout": "IPY_MODEL_380b8dd4108e4542815126516621c888",
       "style": "IPY_MODEL_c7038483a29e45aab0ed4472ccaf5c62",
       "value": false
      }
     },
     "1d0a396882314e7195d8a4bafcaa68ff": {
      "model_module": "@jupyter-widgets/controls",
      "model_module_version": "1.5.0",
      "model_name": "DescriptionStyleModel",
      "state": {
       "description_width": ""
      }
     },
     "1d1749f9091642cda3e778ee54a2e27e": {
      "model_module": "@jupyter-widgets/base",
      "model_module_version": "1.2.0",
      "model_name": "LayoutModel",
      "state": {
       "width": "30px"
      }
     },
     "1d26ad6eab30429f9b6ae9c5a5eb024d": {
      "model_module": "@jupyter-widgets/controls",
      "model_module_version": "1.5.0",
      "model_name": "HBoxModel",
      "state": {
       "children": [
        "IPY_MODEL_ded6e4f927bd46b392725d830978edad",
        "IPY_MODEL_bff2f92f747f44689cdb0746b18ee70e"
       ],
       "layout": "IPY_MODEL_3bce0d9828af4088a2d51c03fb8eaedf"
      }
     },
     "1d3fc95f210c4127a02c4d9e3758e50f": {
      "model_module": "@jupyter-widgets/base",
      "model_module_version": "1.2.0",
      "model_name": "LayoutModel",
      "state": {
       "width": "1000px"
      }
     },
     "1d55a586d9894bd68d1386061ffbb40a": {
      "model_module": "@jupyter-widgets/controls",
      "model_module_version": "1.5.0",
      "model_name": "HBoxModel",
      "state": {
       "children": [
        "IPY_MODEL_1d914c43d10d43f7b547153a9353c278",
        "IPY_MODEL_de05b2fd93114cb1b573d97c0a5897fa"
       ],
       "layout": "IPY_MODEL_502d401118f642adb902e3dada64c6fa"
      }
     },
     "1d6ddbdd9c5344398c6c2a6ec5a1baa4": {
      "model_module": "@jupyter-widgets/controls",
      "model_module_version": "1.5.0",
      "model_name": "DescriptionStyleModel",
      "state": {
       "description_width": "initial"
      }
     },
     "1d875f9a6b764ac5b3717817601aed36": {
      "model_module": "@jupyter-widgets/controls",
      "model_module_version": "1.5.0",
      "model_name": "GridBoxModel",
      "state": {
       "box_style": "info",
       "children": [
        "IPY_MODEL_22f17e5ff21243ecb18924362d474007",
        "IPY_MODEL_5f3fa2570c2a4ec1991255aed4b40b9e",
        "IPY_MODEL_3de5b10082ec4acc901b64795f25894c"
       ],
       "layout": "IPY_MODEL_f34b8e6dca33421d894c0c2b9b006e83"
      }
     },
     "1d914c43d10d43f7b547153a9353c278": {
      "model_module": "@jupyter-widgets/controls",
      "model_module_version": "1.5.0",
      "model_name": "CheckboxModel",
      "state": {
       "disabled": false,
       "layout": "IPY_MODEL_e4476127be724b71a6832c15d35c6677",
       "style": "IPY_MODEL_b090d21a85c54bfdb1aca6acd8301d57",
       "value": false
      }
     },
     "1d92235e40354faf8ef839d7e547cdfd": {
      "model_module": "@jupyter-widgets/controls",
      "model_module_version": "1.5.0",
      "model_name": "HBoxModel",
      "state": {
       "children": [
        "IPY_MODEL_2beab81dc1264e91b6c32aa91413f2af",
        "IPY_MODEL_02ba98a2ccaf489d96cc40d04afcb8a0"
       ],
       "layout": "IPY_MODEL_0055b225bb6b4c03b9f3f85deabf0323"
      }
     },
     "1d9e4a95eb8045168debfbeda66b2ba0": {
      "model_module": "@jupyter-widgets/controls",
      "model_module_version": "1.5.0",
      "model_name": "ButtonModel",
      "state": {
       "description": "Submit",
       "layout": "IPY_MODEL_0d73a65c9ac44ac5aa3bf9e577276fba",
       "style": "IPY_MODEL_daede64210004565a1749bed54444201"
      }
     },
     "1df3bf576d51466eb76391606cb91e28": {
      "model_module": "@jupyter-widgets/controls",
      "model_module_version": "1.5.0",
      "model_name": "HBoxModel",
      "state": {
       "children": [
        "IPY_MODEL_59f530b4b3174b38973cab2b813bcaf3",
        "IPY_MODEL_cc091cd8bdf84b8ca73be90ceb345f1d"
       ],
       "layout": "IPY_MODEL_50f1a597a4984510bd3465d69dd99958"
      }
     },
     "1e1d10c4fe1047268121bcee1082d40c": {
      "model_module": "@jupyter-widgets/base",
      "model_module_version": "1.2.0",
      "model_name": "LayoutModel",
      "state": {}
     },
     "1e46e77dc19d4644a805e48a32338c50": {
      "model_module": "@jupyter-widgets/controls",
      "model_module_version": "1.5.0",
      "model_name": "VBoxModel",
      "state": {
       "box_style": "info",
       "children": [
        "IPY_MODEL_4c56c9207a714f9cb77ee3a7589b915c",
        "IPY_MODEL_1ac03fbd68d948078d9c11a431d61f73",
        "IPY_MODEL_04b1fe78e43d4331aa00383921c15442"
       ],
       "layout": "IPY_MODEL_054fd7d824064e25961f752d105ee8cd"
      }
     },
     "1e6268e4a7d24e15934e342248c9772b": {
      "model_module": "@jupyter-widgets/controls",
      "model_module_version": "1.5.0",
      "model_name": "HBoxModel",
      "state": {
       "children": [
        "IPY_MODEL_fd80e5c829044c18a2dc77f582076c63",
        "IPY_MODEL_554a53f379b942cdae85a90a44956ba1"
       ],
       "layout": "IPY_MODEL_daeeb1b72cf04e9680d0e4feb4edeac4"
      }
     },
     "1ebbd070c9054a2e8dc838fb8734e716": {
      "model_module": "@jupyter-widgets/base",
      "model_module_version": "1.2.0",
      "model_name": "LayoutModel",
      "state": {
       "grid_template_areas": "\"header header\"\n\"left-sidebar left-sidebar\"\n\"footer footer\"",
       "grid_template_columns": "1fr 1fr",
       "grid_template_rows": "1fr 3fr 1fr"
      }
     },
     "1eeda8c6806f43ac84621441e3ced620": {
      "model_module": "@jupyter-widgets/base",
      "model_module_version": "1.2.0",
      "model_name": "LayoutModel",
      "state": {
       "width": "100px"
      }
     },
     "1f143492a70340d9a3d11ee8cb5326bc": {
      "model_module": "@jupyter-widgets/base",
      "model_module_version": "1.2.0",
      "model_name": "LayoutModel",
      "state": {}
     },
     "1f23e42c853c49a19d08866b78668f59": {
      "model_module": "@jupyter-widgets/base",
      "model_module_version": "1.2.0",
      "model_name": "LayoutModel",
      "state": {
       "width": "30px"
      }
     },
     "1f4f830d7f724e22a6234b62bf18e1e7": {
      "model_module": "@jupyter-widgets/controls",
      "model_module_version": "1.5.0",
      "model_name": "HBoxModel",
      "state": {
       "children": [
        "IPY_MODEL_eb3c075177374ff282b465108395d983",
        "IPY_MODEL_63477ee0af6f4045bc77f8ebc0d844bd"
       ],
       "layout": "IPY_MODEL_b42b66d8916f4cb8b63815d914052d1a"
      }
     },
     "1f6b29cb7a5f4b278d348a9f686671ab": {
      "model_module": "@jupyter-widgets/controls",
      "model_module_version": "1.5.0",
      "model_name": "LabelModel",
      "state": {
       "layout": "IPY_MODEL_27c5edcbd6164fb4ba9fc6dc655d2cec",
       "style": "IPY_MODEL_26c37e5fd6304464977c09a3a12faeb3"
      }
     },
     "1f9f25b4d0694c2eb4a448fe0aa3c452": {
      "model_module": "@jupyter-widgets/controls",
      "model_module_version": "1.5.0",
      "model_name": "DescriptionStyleModel",
      "state": {
       "description_width": ""
      }
     },
     "1f9f7b05a9254afa98e4aaa6ff77c920": {
      "model_module": "@jupyter-widgets/controls",
      "model_module_version": "1.5.0",
      "model_name": "HBoxModel",
      "state": {
       "children": [
        "IPY_MODEL_eecaf72c85d24df59a970badfdc1cb80",
        "IPY_MODEL_b3ffdbf9ace24f028c275cafe9a4dee1"
       ],
       "layout": "IPY_MODEL_2bd94650bf9e43af91fd171b644e76c6"
      }
     },
     "1fb28366448e4ef78a74d1ec66c7d0a1": {
      "model_module": "@jupyter-widgets/base",
      "model_module_version": "1.2.0",
      "model_name": "LayoutModel",
      "state": {
       "width": "30px"
      }
     },
     "1fc0a1230b874f2a929f97c7e1ec2ffb": {
      "model_module": "@jupyter-widgets/controls",
      "model_module_version": "1.5.0",
      "model_name": "HBoxModel",
      "state": {
       "children": [
        "IPY_MODEL_68838afd567d4d4789b429aedf131d9f",
        "IPY_MODEL_b2082a5f54754746a82c15fa4b989fd8"
       ],
       "layout": "IPY_MODEL_591f9e409e204dbba1da55bbfc9e83c1"
      }
     },
     "1fefb2e344e040118fc35f702fa5642f": {
      "model_module": "@jupyter-widgets/controls",
      "model_module_version": "1.5.0",
      "model_name": "DescriptionStyleModel",
      "state": {
       "description_width": "initial"
      }
     },
     "2028a088db7a45e8aead5fe716e57ca8": {
      "model_module": "@jupyter-widgets/base",
      "model_module_version": "1.2.0",
      "model_name": "LayoutModel",
      "state": {
       "grid_area": "footer"
      }
     },
     "20590cea0b894f18bce3f12cd162fffa": {
      "model_module": "@jupyter-widgets/controls",
      "model_module_version": "1.5.0",
      "model_name": "GridBoxModel",
      "state": {
       "box_style": "info",
       "children": [
        "IPY_MODEL_63ad8877a9ea42a5bcf01b5a1f8e0c73",
        "IPY_MODEL_959e9648ab264a8fbe5c40302d7a11ba",
        "IPY_MODEL_db670b2b0c0f4d599187a6a7edae3672"
       ],
       "layout": "IPY_MODEL_9f9e047a1a6c447e84c701944e5f2e50"
      }
     },
     "20650f2b3f94487783112ced425172a0": {
      "model_module": "@jupyter-widgets/controls",
      "model_module_version": "1.5.0",
      "model_name": "DescriptionStyleModel",
      "state": {
       "description_width": ""
      }
     },
     "209b6e2286664a4c9849b78bdb735347": {
      "model_module": "@jupyter-widgets/controls",
      "model_module_version": "1.5.0",
      "model_name": "LabelModel",
      "state": {
       "layout": "IPY_MODEL_99128bd3b40340ce9c69aaaab0801f98",
       "style": "IPY_MODEL_545a59e7dcd04dada07d1a9d48ff2061"
      }
     },
     "20a2dc861f074e6abfe0bcec0ba54d82": {
      "model_module": "@jupyter-widgets/controls",
      "model_module_version": "1.5.0",
      "model_name": "HBoxModel",
      "state": {
       "box_style": "info",
       "children": [
        "IPY_MODEL_96319e1928db4348a023f1ae2a4edc6d",
        "IPY_MODEL_78439ff4bfcf42cb896f2519b078945c"
       ],
       "layout": "IPY_MODEL_1327f6db1eda44879bcb1c6f7d494897"
      }
     },
     "20be4711e27947c29b8d2f06fc425559": {
      "model_module": "@jupyter-widgets/controls",
      "model_module_version": "1.5.0",
      "model_name": "LabelModel",
      "state": {
       "layout": "IPY_MODEL_1484cc01d37c4e9482d5f8953c871037",
       "style": "IPY_MODEL_e00a782521044826a034b17585edcafb",
       "value": "$n {fib(n)}$"
      }
     },
     "20cb1f2de78f4797968157226edb102d": {
      "model_module": "@jupyter-widgets/controls",
      "model_module_version": "1.5.0",
      "model_name": "DescriptionStyleModel",
      "state": {
       "description_width": ""
      }
     },
     "20e3b1a2686a4350bede2c3c4e5b559a": {
      "model_module": "@jupyter-widgets/base",
      "model_module_version": "1.2.0",
      "model_name": "LayoutModel",
      "state": {
       "width": "500px"
      }
     },
     "20e6518b5ee148eda57f78c522c5a394": {
      "model_module": "@jupyter-widgets/base",
      "model_module_version": "1.2.0",
      "model_name": "LayoutModel",
      "state": {
       "width": "1000px"
      }
     },
     "21010ba9970d48d5a432a9440a9affe4": {
      "model_module": "@jupyter-widgets/controls",
      "model_module_version": "1.5.0",
      "model_name": "DescriptionStyleModel",
      "state": {
       "description_width": ""
      }
     },
     "210e97076fa4485b9c2705325deb0b42": {
      "model_module": "@jupyter-widgets/base",
      "model_module_version": "1.2.0",
      "model_name": "LayoutModel",
      "state": {
       "width": "1000px"
      }
     },
     "211272ad8cea4bff95482b3f51672aad": {
      "model_module": "@jupyter-widgets/base",
      "model_module_version": "1.2.0",
      "model_name": "LayoutModel",
      "state": {}
     },
     "216faf191a9f4e9db251af5554e338ea": {
      "model_module": "@jupyter-widgets/controls",
      "model_module_version": "1.5.0",
      "model_name": "CheckboxModel",
      "state": {
       "disabled": false,
       "layout": "IPY_MODEL_cdc1edd313b946c3a2ab7d29f06b6512",
       "style": "IPY_MODEL_89adb0368c4d4cc392aedbb71ede352e",
       "value": false
      }
     },
     "21747823c01d4ddb800cce02ab99566f": {
      "model_module": "@jupyter-widgets/base",
      "model_module_version": "1.2.0",
      "model_name": "LayoutModel",
      "state": {
       "width": "1000px"
      }
     },
     "21b3295a450b4baf93dd6c136e47e9a0": {
      "model_module": "@jupyter-widgets/base",
      "model_module_version": "1.2.0",
      "model_name": "LayoutModel",
      "state": {}
     },
     "21cb7834900b4ed58bfb16c47450cab0": {
      "model_module": "@jupyter-widgets/controls",
      "model_module_version": "1.5.0",
      "model_name": "HBoxModel",
      "state": {
       "children": [
        "IPY_MODEL_216faf191a9f4e9db251af5554e338ea",
        "IPY_MODEL_13acf49a392c496495f79c1d65c7f2e7"
       ],
       "layout": "IPY_MODEL_9d6b5228a2154803b8691a413bad3827"
      }
     },
     "2204be8744c14ab3918580df486b0015": {
      "model_module": "@jupyter-widgets/base",
      "model_module_version": "1.2.0",
      "model_name": "LayoutModel",
      "state": {
       "width": "30px"
      }
     },
     "221aed95c341419badaf9b4c90748c0f": {
      "model_module": "@jupyter-widgets/controls",
      "model_module_version": "1.5.0",
      "model_name": "HBoxModel",
      "state": {
       "children": [
        "IPY_MODEL_f6f5ff21746a45deb1746b7baf828f70",
        "IPY_MODEL_d6d3b26ea32e4a01a645b7e04fc9cf60"
       ],
       "layout": "IPY_MODEL_75f6fa609cc74f75b052804095420415"
      }
     },
     "2238799e36e44825aec51a51c0335bcd": {
      "model_module": "@jupyter-widgets/controls",
      "model_module_version": "1.5.0",
      "model_name": "HBoxModel",
      "state": {
       "children": [
        "IPY_MODEL_6aa4bc9ae1114772ad3a48e075fdd6f6",
        "IPY_MODEL_99b18ffa2662479789dec5a01316516e"
       ],
       "layout": "IPY_MODEL_15c2224beb214b179de47c648ae89baf"
      }
     },
     "22417936d88847909fa609e96731f0a3": {
      "model_module": "@jupyter-widgets/controls",
      "model_module_version": "1.5.0",
      "model_name": "HBoxModel",
      "state": {
       "box_style": "info",
       "children": [
        "IPY_MODEL_aabab4726c8f49eca76e8938780e77c0",
        "IPY_MODEL_7f9159da5c87467d8f861741086f24c2"
       ],
       "layout": "IPY_MODEL_a592b47eb27c42058b9a31805f930f01"
      }
     },
     "2299dbe7bad24916bf309e25defd4ab1": {
      "model_module": "@jupyter-widgets/controls",
      "model_module_version": "1.5.0",
      "model_name": "HBoxModel",
      "state": {
       "box_style": "info",
       "children": [
        "IPY_MODEL_dd27d442e9694061b3998f13317c450c",
        "IPY_MODEL_bec016353b754158b5f1512257ea040a"
       ],
       "layout": "IPY_MODEL_9e6072a73bd949f098d5f3c14733cd51"
      }
     },
     "22a8e9844eaf48a5a32d2e7a7a1b8459": {
      "model_module": "@jupyter-widgets/controls",
      "model_module_version": "1.5.0",
      "model_name": "DescriptionStyleModel",
      "state": {
       "description_width": ""
      }
     },
     "22b70be7d3c943f68ac4ec8df7ab46bd": {
      "model_module": "@jupyter-widgets/controls",
      "model_module_version": "1.5.0",
      "model_name": "LabelModel",
      "state": {
       "layout": "IPY_MODEL_e0dc190d241f4a5ca4d307da9180543f",
       "style": "IPY_MODEL_e4bfa563a6564c6a82e2e3fd7bd0ef07",
       "value": "$fib(n - k)$"
      }
     },
     "22c055ce34544509a7d5536237427ea9": {
      "model_module": "@jupyter-widgets/base",
      "model_module_version": "1.2.0",
      "model_name": "LayoutModel",
      "state": {}
     },
     "22e3ba13446340b0890ef115c458b522": {
      "model_module": "@jupyter-widgets/controls",
      "model_module_version": "1.5.0",
      "model_name": "LabelModel",
      "state": {
       "layout": "IPY_MODEL_fb5bf9df108c4582a507c802f30a041b",
       "style": "IPY_MODEL_b537e590dac542ed94b58c2de71afad2",
       "value": "fib(n) - 1 + fib(n - 2)"
      }
     },
     "22f17e5ff21243ecb18924362d474007": {
      "model_module": "@jupyter-widgets/controls",
      "model_module_version": "1.5.0",
      "model_name": "HBoxModel",
      "state": {
       "children": [
        "IPY_MODEL_66b485004b0646c6837f33164ec0da6a"
       ],
       "layout": "IPY_MODEL_8b80806bc0094910bced4db1b98e1aac"
      }
     },
     "233005219c0942eb97996987b185be53": {
      "model_module": "@jupyter-widgets/base",
      "model_module_version": "1.2.0",
      "model_name": "LayoutModel",
      "state": {
       "align_items": "stretch",
       "display": "flex",
       "flex_flow": "row wrap",
       "grid_area": "footer",
       "margin": "30px 0 0 0"
      }
     },
     "236da9f32c704364b827ccdcb0c55b1f": {
      "model_module": "@jupyter-widgets/controls",
      "model_module_version": "1.5.0",
      "model_name": "DescriptionStyleModel",
      "state": {
       "description_width": ""
      }
     },
     "237214692bd241dca4c20fc728e6d0ad": {
      "model_module": "@jupyter-widgets/controls",
      "model_module_version": "1.5.0",
      "model_name": "DescriptionStyleModel",
      "state": {
       "description_width": ""
      }
     },
     "239fc7402f3842c8be9acd2c8b2415cb": {
      "model_module": "@jupyter-widgets/controls",
      "model_module_version": "1.5.0",
      "model_name": "DescriptionStyleModel",
      "state": {
       "description_width": "initial"
      }
     },
     "2428725da2dd4d96be135308c424e071": {
      "model_module": "@jupyter-widgets/base",
      "model_module_version": "1.2.0",
      "model_name": "LayoutModel",
      "state": {}
     },
     "242e6ca09bf846128f9599f2818ee232": {
      "model_module": "@jupyter-widgets/controls",
      "model_module_version": "1.5.0",
      "model_name": "DescriptionStyleModel",
      "state": {
       "description_width": ""
      }
     },
     "247b909ebb224a2196df7af9b9a13385": {
      "model_module": "@jupyter-widgets/controls",
      "model_module_version": "1.5.0",
      "model_name": "HBoxModel",
      "state": {
       "children": [
        "IPY_MODEL_4ee03a1326bc406cbeced58ea9c74a96",
        "IPY_MODEL_6aae439f903f4d29a378543e5066d650"
       ],
       "layout": "IPY_MODEL_fa71f6a8bd5c4eb7bb55715e584857e7"
      }
     },
     "24835260ec7048fd961fe346256d0287": {
      "model_module": "@jupyter-widgets/base",
      "model_module_version": "1.2.0",
      "model_name": "LayoutModel",
      "state": {}
     },
     "24a084416672491a92a6abf05e4c06fb": {
      "model_module": "@jupyter-widgets/base",
      "model_module_version": "1.2.0",
      "model_name": "LayoutModel",
      "state": {}
     },
     "24a928ec3f954e9c95559f52c66e4c84": {
      "model_module": "@jupyter-widgets/controls",
      "model_module_version": "1.5.0",
      "model_name": "DescriptionStyleModel",
      "state": {
       "description_width": ""
      }
     },
     "24b0d1a3c5ab4e60b79754469b9d3992": {
      "model_module": "@jupyter-widgets/controls",
      "model_module_version": "1.5.0",
      "model_name": "GridBoxModel",
      "state": {
       "box_style": "info",
       "children": [
        "IPY_MODEL_e43b830e75544ccfa482cf95df29d042",
        "IPY_MODEL_0df45492b95346abaa5ffede059561de",
        "IPY_MODEL_05253636ae204e19887fedf17896fea1"
       ],
       "layout": "IPY_MODEL_6a68f31a6b394105bd8ce12823100b14"
      }
     },
     "2508e8d487bc4c9b9c2c1ef7f2cdbbbc": {
      "model_module": "@jupyter-widgets/controls",
      "model_module_version": "1.5.0",
      "model_name": "HBoxModel",
      "state": {
       "children": [
        "IPY_MODEL_a7992f849f3c49229c692ab4cc9ea23d",
        "IPY_MODEL_19c91b8acf9c4328a23fc62d9cf45949"
       ],
       "layout": "IPY_MODEL_d943b0734e984a198834831b51abb536"
      }
     },
     "25d9767f10ce4ffca332be2e608d0154": {
      "model_module": "@jupyter-widgets/base",
      "model_module_version": "1.2.0",
      "model_name": "LayoutModel",
      "state": {}
     },
     "25fcbcb4933d40dfb1ffc8cee5aa4308": {
      "model_module": "@jupyter-widgets/controls",
      "model_module_version": "1.5.0",
      "model_name": "CheckboxModel",
      "state": {
       "disabled": false,
       "layout": "IPY_MODEL_d94bac7ac41a473abca702a8c52a0b0d",
       "style": "IPY_MODEL_8d519e5cacea4270a3383c5e8bcc6aa9",
       "value": false
      }
     },
     "2625158251eb4036847256a7952a35a3": {
      "model_module": "@jupyter-widgets/controls",
      "model_module_version": "1.5.0",
      "model_name": "CheckboxModel",
      "state": {
       "disabled": false,
       "layout": "IPY_MODEL_50b4832847c945ae9a62788cdb609cc6",
       "style": "IPY_MODEL_d0886b33facf47c09ca99bab353604ed",
       "value": false
      }
     },
     "26630843899745028be039f06b42efe7": {
      "model_module": "@jupyter-widgets/base",
      "model_module_version": "1.2.0",
      "model_name": "LayoutModel",
      "state": {
       "width": "1000px"
      }
     },
     "2694c8f1800d4e208a2a6f106137bd0b": {
      "model_module": "@jupyter-widgets/base",
      "model_module_version": "1.2.0",
      "model_name": "LayoutModel",
      "state": {}
     },
     "26c37e5fd6304464977c09a3a12faeb3": {
      "model_module": "@jupyter-widgets/controls",
      "model_module_version": "1.5.0",
      "model_name": "DescriptionStyleModel",
      "state": {
       "description_width": ""
      }
     },
     "26d354d7e4e04209877306169f6713df": {
      "model_module": "@jupyter-widgets/base",
      "model_module_version": "1.2.0",
      "model_name": "LayoutModel",
      "state": {
       "width": "500px"
      }
     },
     "26f5c394a54342edba7eb5a85c856dd9": {
      "model_module": "@jupyter-widgets/controls",
      "model_module_version": "1.5.0",
      "model_name": "HBoxModel",
      "state": {
       "children": [
        "IPY_MODEL_341e0a7ab0184adab862e9fce404bfb7",
        "IPY_MODEL_3e09a88fc0964c53867a2e693fa505ad"
       ],
       "layout": "IPY_MODEL_de86ddd7ffcf481bbe25a7722e9f43d1"
      }
     },
     "2718b5a0dee742b6ac11f759523f9980": {
      "model_module": "@jupyter-widgets/base",
      "model_module_version": "1.2.0",
      "model_name": "LayoutModel",
      "state": {
       "width": "30px"
      }
     },
     "27241d26b3874c6983fe2734d1e9f95d": {
      "model_module": "@jupyter-widgets/base",
      "model_module_version": "1.2.0",
      "model_name": "LayoutModel",
      "state": {
       "grid_area": "header"
      }
     },
     "277f43d3f3924e2a854890d1c8850130": {
      "model_module": "@jupyter-widgets/controls",
      "model_module_version": "1.5.0",
      "model_name": "LabelModel",
      "state": {
       "layout": "IPY_MODEL_69ad0d730f0342d090b1464a56695e94",
       "style": "IPY_MODEL_af649078c97a4431a70554048f0e93c6"
      }
     },
     "278964af7c714060b64a801e8a21c986": {
      "model_module": "@jupyter-widgets/controls",
      "model_module_version": "1.5.0",
      "model_name": "DescriptionStyleModel",
      "state": {
       "description_width": ""
      }
     },
     "27c5710098d9424c832f15a80ed8508f": {
      "model_module": "@jupyter-widgets/base",
      "model_module_version": "1.2.0",
      "model_name": "LayoutModel",
      "state": {
       "width": "1000px"
      }
     },
     "27c5edcbd6164fb4ba9fc6dc655d2cec": {
      "model_module": "@jupyter-widgets/base",
      "model_module_version": "1.2.0",
      "model_name": "LayoutModel",
      "state": {}
     },
     "280a4a3cc2164d838502d66bad07436c": {
      "model_module": "@jupyter-widgets/base",
      "model_module_version": "1.2.0",
      "model_name": "LayoutModel",
      "state": {
       "width": "30px"
      }
     },
     "284bf0c011dd480fa855dd2d94db76c9": {
      "model_module": "@jupyter-widgets/controls",
      "model_module_version": "1.5.0",
      "model_name": "GridBoxModel",
      "state": {
       "box_style": "info",
       "children": [
        "IPY_MODEL_c5b4adc04e8348baa014fe824098ac3e",
        "IPY_MODEL_3f496848ff1640f79afaac1d29ff3183",
        "IPY_MODEL_7c0b067cebd94c1d98edbd568cf1a975"
       ],
       "layout": "IPY_MODEL_4501efc6c88241ae8d6311263eb79084"
      }
     },
     "286e8595f2284a37b61589d37b6d7e24": {
      "model_module": "@jupyter-widgets/controls",
      "model_module_version": "1.5.0",
      "model_name": "DescriptionStyleModel",
      "state": {
       "description_width": ""
      }
     },
     "289a2084eb0b42b58a1291196fbb265c": {
      "model_module": "@jupyter-widgets/controls",
      "model_module_version": "1.5.0",
      "model_name": "CheckboxModel",
      "state": {
       "disabled": false,
       "layout": "IPY_MODEL_7269680a7a034b6f8c7c03b570078fc2",
       "style": "IPY_MODEL_5b6ed66efc3f483084230bc8a0d102fa",
       "value": false
      }
     },
     "28dd00b069eb48768e63008f2d26c33b": {
      "model_module": "@jupyter-widgets/controls",
      "model_module_version": "1.5.0",
      "model_name": "DescriptionStyleModel",
      "state": {
       "description_width": "initial"
      }
     },
     "28e3cfdc763f48fab6214661982a9387": {
      "model_module": "@jupyter-widgets/controls",
      "model_module_version": "1.5.0",
      "model_name": "CheckboxModel",
      "state": {
       "disabled": false,
       "layout": "IPY_MODEL_18c0d17f8ae443dcb47efae9d7d7821c",
       "style": "IPY_MODEL_0bd1a99465ee43e3841c768ab61f056a",
       "value": false
      }
     },
     "2939bc862fae4f3eba39ef65876bbcae": {
      "model_module": "@jupyter-widgets/base",
      "model_module_version": "1.2.0",
      "model_name": "LayoutModel",
      "state": {}
     },
     "296402268262431ab081fc96216594c4": {
      "model_module": "@jupyter-widgets/controls",
      "model_module_version": "1.5.0",
      "model_name": "LabelModel",
      "state": {
       "layout": "IPY_MODEL_f1e6da3490f64c94abbe2262af0ac397",
       "style": "IPY_MODEL_135466555c76488c8d326d6a2b55b2e7"
      }
     },
     "296c1bc233fb42268430dcb8b81aef1f": {
      "model_module": "@jupyter-widgets/base",
      "model_module_version": "1.2.0",
      "model_name": "LayoutModel",
      "state": {}
     },
     "29af9bd6590549afb382001d37fca87d": {
      "model_module": "@jupyter-widgets/controls",
      "model_module_version": "1.5.0",
      "model_name": "LabelModel",
      "state": {
       "layout": "IPY_MODEL_26630843899745028be039f06b42efe7",
       "style": "IPY_MODEL_44e3250685a74b7b8144327287cac051",
       "value": "fib(k - 1)"
      }
     },
     "29d8dd914a6b4780a4203cac867a5361": {
      "model_module": "@jupyter-widgets/base",
      "model_module_version": "1.2.0",
      "model_name": "LayoutModel",
      "state": {
       "grid_area": "left-sidebar"
      }
     },
     "29e194768f2a481a9cbe8996cae95f2f": {
      "model_module": "@jupyter-widgets/base",
      "model_module_version": "1.2.0",
      "model_name": "LayoutModel",
      "state": {
       "width": "30px"
      }
     },
     "29f87d7a8b234e3cada40791f1916a01": {
      "model_module": "@jupyter-widgets/controls",
      "model_module_version": "1.5.0",
      "model_name": "LabelModel",
      "state": {
       "layout": "IPY_MODEL_11d3930b7f684b29bb0c7d2d3c71ca04",
       "style": "IPY_MODEL_f8a2ac18e0f94d68b41995448125749a"
      }
     },
     "29fe0a706a2340138dda439e7852b3cc": {
      "model_module": "@jupyter-widgets/controls",
      "model_module_version": "1.5.0",
      "model_name": "DescriptionStyleModel",
      "state": {
       "description_width": "initial"
      }
     },
     "2a14e34237594ac8b28b43dc0e106c2c": {
      "model_module": "@jupyter-widgets/controls",
      "model_module_version": "1.5.0",
      "model_name": "LabelModel",
      "state": {
       "layout": "IPY_MODEL_a2caafd08f35420c88c471c534cb7424",
       "style": "IPY_MODEL_7590874501784fd4920842ed3df9983d"
      }
     },
     "2a5a8d5079894559a3c9506d9f4758a9": {
      "model_module": "@jupyter-widgets/base",
      "model_module_version": "1.2.0",
      "model_name": "LayoutModel",
      "state": {}
     },
     "2a6a6d3250654445a01d5b5b1c7e5030": {
      "model_module": "@jupyter-widgets/controls",
      "model_module_version": "1.5.0",
      "model_name": "CheckboxModel",
      "state": {
       "disabled": false,
       "layout": "IPY_MODEL_8a218b58fb42461a94c3b0a81e3b43ca",
       "style": "IPY_MODEL_add41cbee97f44288598121cf2ee683e",
       "value": false
      }
     },
     "2a74ecbcba4c4ec9b92e9ece25b86dc3": {
      "model_module": "@jupyter-widgets/controls",
      "model_module_version": "1.5.0",
      "model_name": "LabelModel",
      "state": {
       "layout": "IPY_MODEL_acfa5b14fd4042a6b24f42c3d3315980",
       "style": "IPY_MODEL_e6a9e79de5164d378fede13005b76ea2"
      }
     },
     "2a91b36be542491ba5fc40345276e746": {
      "model_module": "@jupyter-widgets/controls",
      "model_module_version": "1.5.0",
      "model_name": "HBoxModel",
      "state": {
       "children": [
        "IPY_MODEL_ab0c73c532fb444bbbacc20e33c738b5",
        "IPY_MODEL_449bf277cf7648dc8f1286436734a1f1"
       ],
       "layout": "IPY_MODEL_f5bb25c296834dd39f908c1fdc80010a"
      }
     },
     "2a9780f1ed404529af9ce9a4dc84d2af": {
      "model_module": "@jupyter-widgets/base",
      "model_module_version": "1.2.0",
      "model_name": "LayoutModel",
      "state": {
       "grid_area": "header"
      }
     },
     "2ac17e47c89a47b18b3b04a73f3d67a0": {
      "model_module": "@jupyter-widgets/controls",
      "model_module_version": "1.5.0",
      "model_name": "DescriptionStyleModel",
      "state": {
       "description_width": "initial"
      }
     },
     "2af0ac2d2baa45c3b79533de9df3e66a": {
      "model_module": "@jupyter-widgets/controls",
      "model_module_version": "1.5.0",
      "model_name": "HBoxModel",
      "state": {
       "children": [
        "IPY_MODEL_f91d2e962c1a49eebc1944bad8ce50a5",
        "IPY_MODEL_fa2f0ba2040a4c608842baeda183d6a5"
       ],
       "layout": "IPY_MODEL_f39ad88c9a354ebe99270655ed69d232"
      }
     },
     "2b08b27b8cfc4f28a867e9851afb947d": {
      "model_module": "@jupyter-widgets/controls",
      "model_module_version": "1.5.0",
      "model_name": "DescriptionStyleModel",
      "state": {
       "description_width": ""
      }
     },
     "2b5045a6152c4780aae0923cea3d5342": {
      "model_module": "@jupyter-widgets/controls",
      "model_module_version": "1.5.0",
      "model_name": "CheckboxModel",
      "state": {
       "disabled": false,
       "layout": "IPY_MODEL_15bffb31e6a046ab8891a34485894d45",
       "style": "IPY_MODEL_97d91777f1b44f38bd3d3aa20def1666",
       "value": false
      }
     },
     "2b5e8b9b7a174bebb02aee3002bb6a33": {
      "model_module": "@jupyter-widgets/controls",
      "model_module_version": "1.5.0",
      "model_name": "DescriptionStyleModel",
      "state": {
       "description_width": ""
      }
     },
     "2b708fbda9a34cd882cc107ad9440e8f": {
      "model_module": "@jupyter-widgets/controls",
      "model_module_version": "1.5.0",
      "model_name": "DescriptionStyleModel",
      "state": {
       "description_width": ""
      }
     },
     "2b72165999b64626a3119665444d17af": {
      "model_module": "@jupyter-widgets/controls",
      "model_module_version": "1.5.0",
      "model_name": "DescriptionStyleModel",
      "state": {
       "description_width": "initial"
      }
     },
     "2b7a84e5c4e844dd962dcf596b309196": {
      "model_module": "@jupyter-widgets/controls",
      "model_module_version": "1.5.0",
      "model_name": "HBoxModel",
      "state": {
       "children": [
        "IPY_MODEL_f37f159a5a6544b8b1389a71477ce7ab",
        "IPY_MODEL_025cd191c655484b88396409a73aee14"
       ],
       "layout": "IPY_MODEL_3888024d321044489db84bf1b122bc62"
      }
     },
     "2b85919c07d24ec2a8ed51d14ab85e67": {
      "model_module": "@jupyter-widgets/controls",
      "model_module_version": "1.5.0",
      "model_name": "LabelModel",
      "state": {
       "layout": "IPY_MODEL_bca202482bdf452c80164b77843d7bc1",
       "style": "IPY_MODEL_592d7e514abf4862be210609b4f444ca",
       "value": "How many leaves does the call stack tree for fib(n) have? "
      }
     },
     "2bd94650bf9e43af91fd171b644e76c6": {
      "model_module": "@jupyter-widgets/base",
      "model_module_version": "1.2.0",
      "model_name": "LayoutModel",
      "state": {}
     },
     "2beab81dc1264e91b6c32aa91413f2af": {
      "model_module": "@jupyter-widgets/controls",
      "model_module_version": "1.5.0",
      "model_name": "LabelModel",
      "state": {
       "layout": "IPY_MODEL_00a0e96b875442eeba58b487a9be2747",
       "style": "IPY_MODEL_58fabaa8422a4d92910defda7420df2d"
      }
     },
     "2c21c144f8aa4695b529a26909706662": {
      "model_module": "@jupyter-widgets/base",
      "model_module_version": "1.2.0",
      "model_name": "LayoutModel",
      "state": {
       "grid_area": "header"
      }
     },
     "2c9ae642d1d141c39d4b7092c2a45b2a": {
      "model_module": "@jupyter-widgets/base",
      "model_module_version": "1.2.0",
      "model_name": "LayoutModel",
      "state": {}
     },
     "2cce1ff82ee2420fbec96a4a2b468b99": {
      "model_module": "@jupyter-widgets/controls",
      "model_module_version": "1.5.0",
      "model_name": "HBoxModel",
      "state": {
       "children": [
        "IPY_MODEL_9661be047363437aad39c01180df3ffe",
        "IPY_MODEL_2508e8d487bc4c9b9c2c1ef7f2cdbbbc"
       ],
       "layout": "IPY_MODEL_fb06ad5238264df59af7dcf152d47761"
      }
     },
     "2cdb6268a0d14baabaf5c1ad8a30b239": {
      "model_module": "@jupyter-widgets/controls",
      "model_module_version": "1.5.0",
      "model_name": "DescriptionStyleModel",
      "state": {
       "description_width": "initial"
      }
     },
     "2ce21ba4c480457eb66ba056e4b0bfa6": {
      "model_module": "@jupyter-widgets/controls",
      "model_module_version": "1.5.0",
      "model_name": "HBoxModel",
      "state": {
       "children": [
        "IPY_MODEL_b8ceee00945e4152a51a99e5da672086",
        "IPY_MODEL_8f60fa9bcbdc410686dc98ae560fed21"
       ],
       "layout": "IPY_MODEL_0b1447774b074ac49c8a8e848237055f"
      }
     },
     "2cea4e6e2f554259960c110a6ba79fc5": {
      "model_module": "@jupyter-widgets/base",
      "model_module_version": "1.2.0",
      "model_name": "LayoutModel",
      "state": {}
     },
     "2cf746608960472da5060b1f67f80f0f": {
      "model_module": "@jupyter-widgets/controls",
      "model_module_version": "1.5.0",
      "model_name": "DescriptionStyleModel",
      "state": {
       "description_width": "initial"
      }
     },
     "2d3aa81698684899b44fb249cbdad911": {
      "model_module": "@jupyter-widgets/base",
      "model_module_version": "1.2.0",
      "model_name": "LayoutModel",
      "state": {}
     },
     "2db101efc1d64a1b8a98079971f77f75": {
      "model_module": "@jupyter-widgets/base",
      "model_module_version": "1.2.0",
      "model_name": "LayoutModel",
      "state": {
       "width": "30px"
      }
     },
     "2e42ff9ab5d74e0fb234c91c159df728": {
      "model_module": "@jupyter-widgets/controls",
      "model_module_version": "1.5.0",
      "model_name": "CheckboxModel",
      "state": {
       "disabled": false,
       "layout": "IPY_MODEL_c4c191b79a354185ba60e8411513aeab",
       "style": "IPY_MODEL_4b58b694c3c14263bc66e5dd9396e06b",
       "value": false
      }
     },
     "2e481113c6bf42a48d0f51a620cccc0d": {
      "model_module": "@jupyter-widgets/base",
      "model_module_version": "1.2.0",
      "model_name": "LayoutModel",
      "state": {
       "width": "100px"
      }
     },
     "2e7e70e74579429cb7de60835aa86c2a": {
      "model_module": "@jupyter-widgets/base",
      "model_module_version": "1.2.0",
      "model_name": "LayoutModel",
      "state": {
       "grid_area": "footer"
      }
     },
     "2ed336b4a433425ba5713a13cdd65db8": {
      "model_module": "@jupyter-widgets/controls",
      "model_module_version": "1.5.0",
      "model_name": "HBoxModel",
      "state": {
       "children": [
        "IPY_MODEL_663d93073b744e8bbf0ac99af018a433",
        "IPY_MODEL_45d477708d984c498c80dffe0215e750"
       ],
       "layout": "IPY_MODEL_d625e22082294b33ab62699c8e095857"
      }
     },
     "2ee58d4a2f01447a9c6cee32fda87a1a": {
      "model_module": "@jupyter-widgets/base",
      "model_module_version": "1.2.0",
      "model_name": "LayoutModel",
      "state": {}
     },
     "2ee9a3c19cd3421aa3d9acd675d9cfbd": {
      "model_module": "@jupyter-widgets/base",
      "model_module_version": "1.2.0",
      "model_name": "LayoutModel",
      "state": {}
     },
     "2eea2a8ea87143e7af08f4c222f9be35": {
      "model_module": "@jupyter-widgets/controls",
      "model_module_version": "1.5.0",
      "model_name": "LabelModel",
      "state": {
       "layout": "IPY_MODEL_7641faa7899841e39880e51183cc80dd",
       "style": "IPY_MODEL_bb5345b59f4547459260485c862d55ea"
      }
     },
     "2efc3049b98d42afbb03fdb32b4e1c65": {
      "model_module": "@jupyter-widgets/controls",
      "model_module_version": "1.5.0",
      "model_name": "LabelModel",
      "state": {
       "layout": "IPY_MODEL_08d222fc9c6c42eda3a010bf968db21b",
       "style": "IPY_MODEL_acc0c7c677c848da9b726b71ecd61277"
      }
     },
     "2f0f1650a6c840eeabed5d00a0fc22d2": {
      "model_module": "@jupyter-widgets/controls",
      "model_module_version": "1.5.0",
      "model_name": "DescriptionStyleModel",
      "state": {
       "description_width": ""
      }
     },
     "2f3b2889f361400b87a42deaaa7d5a92": {
      "model_module": "@jupyter-widgets/controls",
      "model_module_version": "1.5.0",
      "model_name": "LabelModel",
      "state": {
       "layout": "IPY_MODEL_71ed7b7b6e7241478b31393ff952ff04",
       "style": "IPY_MODEL_94d59e230d3641d2ade4eac922fdbe2b"
      }
     },
     "2f7f0b8b3b4f476c94abd3d19df4e350": {
      "model_module": "@jupyter-widgets/base",
      "model_module_version": "1.2.0",
      "model_name": "LayoutModel",
      "state": {}
     },
     "2f8159a215354511be9edb7e58c6cd63": {
      "model_module": "@jupyter-widgets/controls",
      "model_module_version": "1.5.0",
      "model_name": "LabelModel",
      "state": {
       "layout": "IPY_MODEL_958c91620c4a4267997b5b1a3dff1e43",
       "style": "IPY_MODEL_569749cc52b34ac2b67284778fb962b4"
      }
     },
     "2f8afe37996f46c4ae4ba6e810e1c977": {
      "model_module": "@jupyter-widgets/controls",
      "model_module_version": "1.5.0",
      "model_name": "CheckboxModel",
      "state": {
       "disabled": true,
       "layout": "IPY_MODEL_709198d7b84040998e791715598d3fdd",
       "style": "IPY_MODEL_bca1011113084dabb3b0fbda158ecbf0",
       "value": false
      }
     },
     "2f8d52919bbf4a658af7d990ecf48354": {
      "model_module": "@jupyter-widgets/controls",
      "model_module_version": "1.5.0",
      "model_name": "HBoxModel",
      "state": {
       "children": [
        "IPY_MODEL_addf5d24f7e54fc1aff05ba2464d6cb6",
        "IPY_MODEL_fb229e64936345be80fd0fe358956f08"
       ],
       "layout": "IPY_MODEL_c52aa417afc942aba2be8afbacd2c990"
      }
     },
     "2f9c3ff6b2294f8185aa3eaf1011c503": {
      "model_module": "@jupyter-widgets/controls",
      "model_module_version": "1.5.0",
      "model_name": "DescriptionStyleModel",
      "state": {
       "description_width": "initial"
      }
     },
     "2fb0857880444f87a04970d1f86f04a3": {
      "model_module": "@jupyter-widgets/base",
      "model_module_version": "1.2.0",
      "model_name": "LayoutModel",
      "state": {
       "width": "auto"
      }
     },
     "2fbce13574544572b34843ebb1ece78f": {
      "model_module": "@jupyter-widgets/controls",
      "model_module_version": "1.5.0",
      "model_name": "TextModel",
      "state": {
       "layout": "IPY_MODEL_2fb0857880444f87a04970d1f86f04a3",
       "placeholder": "",
       "style": "IPY_MODEL_d66598dcea1e4aeda79c7ee068e56da9"
      }
     },
     "2fd6a7b6b2414794b57365613b81c0c0": {
      "model_module": "@jupyter-widgets/controls",
      "model_module_version": "1.5.0",
      "model_name": "LabelModel",
      "state": {
       "layout": "IPY_MODEL_ec86911a0cff4d7487ca61e356ea6ab6",
       "style": "IPY_MODEL_3efb96c371fa4c4fa8683b380de3cdfd"
      }
     },
     "30001fcf8174430797a0762040a2a53d": {
      "model_module": "@jupyter-widgets/base",
      "model_module_version": "1.2.0",
      "model_name": "LayoutModel",
      "state": {}
     },
     "30589882077143bc91bf2a741fbc4edd": {
      "model_module": "@jupyter-widgets/controls",
      "model_module_version": "1.5.0",
      "model_name": "DescriptionStyleModel",
      "state": {
       "description_width": ""
      }
     },
     "308823469c1040d481d9713620a01c0f": {
      "model_module": "@jupyter-widgets/base",
      "model_module_version": "1.2.0",
      "model_name": "LayoutModel",
      "state": {
       "width": "30px"
      }
     },
     "30896e777c804748af4f990ad6a4cc98": {
      "model_module": "@jupyter-widgets/controls",
      "model_module_version": "1.5.0",
      "model_name": "DescriptionStyleModel",
      "state": {
       "description_width": "initial"
      }
     },
     "30cbb780688444e2974430799595c1c6": {
      "model_module": "@jupyter-widgets/controls",
      "model_module_version": "1.5.0",
      "model_name": "CheckboxModel",
      "state": {
       "disabled": true,
       "layout": "IPY_MODEL_1f23e42c853c49a19d08866b78668f59",
       "style": "IPY_MODEL_7947ed9b26ef467f8f54062af605f4cd",
       "value": false
      }
     },
     "30dda23950c44602a9c1ecefb7f6f122": {
      "model_module": "@jupyter-widgets/controls",
      "model_module_version": "1.5.0",
      "model_name": "LabelModel",
      "state": {
       "layout": "IPY_MODEL_7e93ae2585694a22ba631400872a2269",
       "style": "IPY_MODEL_2b5e8b9b7a174bebb02aee3002bb6a33"
      }
     },
     "30deb00962ee4bb0bf20e4df8b5d05b5": {
      "model_module": "@jupyter-widgets/base",
      "model_module_version": "1.2.0",
      "model_name": "LayoutModel",
      "state": {}
     },
     "310501b376744bf49f14e471d272e61f": {
      "model_module": "@jupyter-widgets/controls",
      "model_module_version": "1.5.0",
      "model_name": "CheckboxModel",
      "state": {
       "disabled": false,
       "layout": "IPY_MODEL_99ca87ffbdd84ccba292e220461df9cd",
       "style": "IPY_MODEL_4f46c9349a4840d79fe1b7da225eefe8",
       "value": false
      }
     },
     "31189bc3c49b473b85463ced7e563293": {
      "model_module": "@jupyter-widgets/controls",
      "model_module_version": "1.5.0",
      "model_name": "DescriptionStyleModel",
      "state": {
       "description_width": ""
      }
     },
     "312e85f42cf0436d9eac20eecc004a12": {
      "model_module": "@jupyter-widgets/base",
      "model_module_version": "1.2.0",
      "model_name": "LayoutModel",
      "state": {
       "grid_area": "footer"
      }
     },
     "31482a37f79643d1a37095369d4d012d": {
      "model_module": "@jupyter-widgets/controls",
      "model_module_version": "1.5.0",
      "model_name": "LabelModel",
      "state": {
       "layout": "IPY_MODEL_c2ce32fd2c0347a3ac05a5a8aef6e3e1",
       "style": "IPY_MODEL_30589882077143bc91bf2a741fbc4edd",
       "value": "fib(n - 1)"
      }
     },
     "317674e214e742469bf7754e3d4aecf2": {
      "model_module": "@jupyter-widgets/base",
      "model_module_version": "1.2.0",
      "model_name": "LayoutModel",
      "state": {
       "width": "30px"
      }
     },
     "31927cb873d7415c9423bcadad9a50b0": {
      "model_module": "@jupyter-widgets/controls",
      "model_module_version": "1.5.0",
      "model_name": "DescriptionStyleModel",
      "state": {
       "description_width": "initial"
      }
     },
     "31a8cee8bfa2408fa68b0498ef697512": {
      "model_module": "@jupyter-widgets/base",
      "model_module_version": "1.2.0",
      "model_name": "LayoutModel",
      "state": {
       "grid_area": "left-sidebar"
      }
     },
     "31fe2edf92914362b76ad345590064e2": {
      "model_module": "@jupyter-widgets/controls",
      "model_module_version": "1.5.0",
      "model_name": "DescriptionStyleModel",
      "state": {
       "description_width": ""
      }
     },
     "322df0eb8dc84e15834c4ba955adaa91": {
      "model_module": "@jupyter-widgets/controls",
      "model_module_version": "1.5.0",
      "model_name": "DescriptionStyleModel",
      "state": {
       "description_width": "initial"
      }
     },
     "325f46ffea8041e89c1a49d095070ca4": {
      "model_module": "@jupyter-widgets/base",
      "model_module_version": "1.2.0",
      "model_name": "LayoutModel",
      "state": {}
     },
     "32914d62e69348179c2d4cff8ad7c230": {
      "model_module": "@jupyter-widgets/controls",
      "model_module_version": "1.5.0",
      "model_name": "HBoxModel",
      "state": {
       "children": [
        "IPY_MODEL_81963fea89454e33ad44b1d8b7dd1cfc",
        "IPY_MODEL_2efc3049b98d42afbb03fdb32b4e1c65",
        "IPY_MODEL_d7749460247c448c8ae6a979ad54f64d"
       ],
       "layout": "IPY_MODEL_233005219c0942eb97996987b185be53"
      }
     },
     "32999b44b9384702a1c7d7da954fb966": {
      "model_module": "@jupyter-widgets/controls",
      "model_module_version": "1.5.0",
      "model_name": "LabelModel",
      "state": {
       "layout": "IPY_MODEL_de99919424e24ddda69f6a403981caa0",
       "style": "IPY_MODEL_8a7ae3227d23440a9085d020eb7c694e",
       "value": "fib(n)"
      }
     },
     "32b11fb7535e4895baa748f944c59aa3": {
      "model_module": "@jupyter-widgets/base",
      "model_module_version": "1.2.0",
      "model_name": "LayoutModel",
      "state": {}
     },
     "32ef65d89ad2423ca850e24b565de03e": {
      "model_module": "@jupyter-widgets/base",
      "model_module_version": "1.2.0",
      "model_name": "LayoutModel",
      "state": {}
     },
     "32f8c32d49b74432a01cc8d8ca96b6ac": {
      "model_module": "@jupyter-widgets/controls",
      "model_module_version": "1.5.0",
      "model_name": "LabelModel",
      "state": {
       "layout": "IPY_MODEL_9b569e98ca2348e3ac13bcbb059891d9",
       "style": "IPY_MODEL_a227c7e28da240e98de4a820bdc9b76a",
       "value": "fib(n) - 2"
      }
     },
     "3365cbc926c24506a9218c46dbf51f27": {
      "model_module": "@jupyter-widgets/base",
      "model_module_version": "1.2.0",
      "model_name": "LayoutModel",
      "state": {}
     },
     "337762a78cd34e8f91de15d723d0c140": {
      "model_module": "@jupyter-widgets/controls",
      "model_module_version": "1.5.0",
      "model_name": "LabelModel",
      "state": {
       "layout": "IPY_MODEL_558a8d6e5ba3487fbe82069ce5009d8d",
       "style": "IPY_MODEL_c07fd358f18c4da5b978ca37f665f055",
       "value": "fib(n) - 1"
      }
     },
     "3381ee12f4954e29adf66584c9faf080": {
      "model_module": "@jupyter-widgets/controls",
      "model_module_version": "1.5.0",
      "model_name": "CheckboxModel",
      "state": {
       "disabled": false,
       "layout": "IPY_MODEL_308823469c1040d481d9713620a01c0f",
       "style": "IPY_MODEL_f1cd8a3e805a4cdf841442bbc56b8195",
       "value": false
      }
     },
     "33df111c9c474fe5b5a7238c68f27385": {
      "model_module": "@jupyter-widgets/base",
      "model_module_version": "1.2.0",
      "model_name": "LayoutModel",
      "state": {
       "align_items": "stretch",
       "display": "flex",
       "flex_flow": "row wrap",
       "grid_area": "header",
       "margin": "0 0 30px 0",
       "width": "100%"
      }
     },
     "340d5fa894f1413792dcca393e654d80": {
      "model_module": "@jupyter-widgets/base",
      "model_module_version": "1.2.0",
      "model_name": "LayoutModel",
      "state": {}
     },
     "341a01837ce84943adf9b8f52b6aa4ab": {
      "model_module": "@jupyter-widgets/base",
      "model_module_version": "1.2.0",
      "model_name": "LayoutModel",
      "state": {
       "width": "1000px"
      }
     },
     "341e0a7ab0184adab862e9fce404bfb7": {
      "model_module": "@jupyter-widgets/controls",
      "model_module_version": "1.5.0",
      "model_name": "CheckboxModel",
      "state": {
       "disabled": false,
       "layout": "IPY_MODEL_70bc192a2b1641278678b6dff7fedd93",
       "style": "IPY_MODEL_6aa0efff58704f20a152c34742fb616f",
       "value": false
      }
     },
     "34526167924f49d8bf97d4caafc011e9": {
      "model_module": "@jupyter-widgets/controls",
      "model_module_version": "1.5.0",
      "model_name": "LabelModel",
      "state": {
       "layout": "IPY_MODEL_ba6e0582c6a346a2a88291dda9e63f93",
       "style": "IPY_MODEL_0b6ce4e490974ed0ba5e6964437fa7d1"
      }
     },
     "346b22c226ef431dbb00d8ed021b6698": {
      "model_module": "@jupyter-widgets/base",
      "model_module_version": "1.2.0",
      "model_name": "LayoutModel",
      "state": {}
     },
     "347d68ce4cfe4327b73c2846a664c412": {
      "model_module": "@jupyter-widgets/controls",
      "model_module_version": "1.5.0",
      "model_name": "CheckboxModel",
      "state": {
       "disabled": false,
       "layout": "IPY_MODEL_57bc662d982147b39ab054dc9186a875",
       "style": "IPY_MODEL_d69688a3b9404dde886fe8db70aed5a6",
       "value": false
      }
     },
     "34ab81df7ed7421aa6823a3575a4d962": {
      "model_module": "@jupyter-widgets/base",
      "model_module_version": "1.2.0",
      "model_name": "LayoutModel",
      "state": {
       "grid_template_areas": "\"header header\"\n\"left-sidebar left-sidebar\"\n\"footer footer\"",
       "grid_template_columns": "1fr 1fr",
       "grid_template_rows": "1fr 3fr 1fr"
      }
     },
     "34c79d176c8a43ea8651a602e3d1d265": {
      "model_module": "@jupyter-widgets/base",
      "model_module_version": "1.2.0",
      "model_name": "LayoutModel",
      "state": {
       "width": "30px"
      }
     },
     "34e50db332684a06b8491e41822a0336": {
      "model_module": "@jupyter-widgets/controls",
      "model_module_version": "1.5.0",
      "model_name": "CheckboxModel",
      "state": {
       "disabled": false,
       "layout": "IPY_MODEL_a5eecbb1202945f2a518000ccf1e4c9e",
       "style": "IPY_MODEL_78526f07189545e8bac58bb4933e9973",
       "value": false
      }
     },
     "34f0312266a9496f922a0fd9e7ce5dcd": {
      "model_module": "@jupyter-widgets/controls",
      "model_module_version": "1.5.0",
      "model_name": "HBoxModel",
      "state": {
       "children": [
        "IPY_MODEL_ca661c43bfc54f5b914ee77edf783bdd",
        "IPY_MODEL_88e026869a6948af9f9d60d85796fac2"
       ],
       "layout": "IPY_MODEL_6e477bfb333b4759b746dc22699d8abf"
      }
     },
     "34f3c512fc1f4a6caa3fc3948cb9116a": {
      "model_module": "@jupyter-widgets/base",
      "model_module_version": "1.2.0",
      "model_name": "LayoutModel",
      "state": {
       "width": "100px"
      }
     },
     "354d3c9a7c834e4f90a236c1b3343c9c": {
      "model_module": "@jupyter-widgets/base",
      "model_module_version": "1.2.0",
      "model_name": "LayoutModel",
      "state": {
       "width": "100px"
      }
     },
     "359856353285470a8fddf447a114a824": {
      "model_module": "@jupyter-widgets/controls",
      "model_module_version": "1.5.0",
      "model_name": "DescriptionStyleModel",
      "state": {
       "description_width": ""
      }
     },
     "35998ef06b3f4e0986879dfa42fdbaec": {
      "model_module": "@jupyter-widgets/base",
      "model_module_version": "1.2.0",
      "model_name": "LayoutModel",
      "state": {
       "width": "30px"
      }
     },
     "35e514584248465ea1452cc8c8dce718": {
      "model_module": "@jupyter-widgets/base",
      "model_module_version": "1.2.0",
      "model_name": "LayoutModel",
      "state": {
       "grid_area": "header"
      }
     },
     "362c177bcacd4d25a3f1fdfe14236fe7": {
      "model_module": "@jupyter-widgets/controls",
      "model_module_version": "1.5.0",
      "model_name": "DescriptionStyleModel",
      "state": {
       "description_width": ""
      }
     },
     "363220da6e3143b7885ef253dc7b0617": {
      "model_module": "@jupyter-widgets/base",
      "model_module_version": "1.2.0",
      "model_name": "LayoutModel",
      "state": {}
     },
     "3635c65535ca41f7b5044293c704256b": {
      "model_module": "@jupyter-widgets/base",
      "model_module_version": "1.2.0",
      "model_name": "LayoutModel",
      "state": {}
     },
     "36a97e89ca504a6fb66317d821acfef5": {
      "model_module": "@jupyter-widgets/base",
      "model_module_version": "1.2.0",
      "model_name": "LayoutModel",
      "state": {
       "width": "30px"
      }
     },
     "36bc76bf677b4bbd9e7becd797b8e96a": {
      "model_module": "@jupyter-widgets/controls",
      "model_module_version": "1.5.0",
      "model_name": "DescriptionStyleModel",
      "state": {
       "description_width": ""
      }
     },
     "36fef048bfcf4b8c88878a912803a170": {
      "model_module": "@jupyter-widgets/controls",
      "model_module_version": "1.5.0",
      "model_name": "LabelModel",
      "state": {
       "layout": "IPY_MODEL_6f2f42051aca45e1b657c5a7570284f6",
       "style": "IPY_MODEL_abf3692d61534ebbac977c9cd723b022",
       "value": "fib(n)"
      }
     },
     "370f81aefca2477397f503e1845b72ba": {
      "model_module": "@jupyter-widgets/controls",
      "model_module_version": "1.5.0",
      "model_name": "HBoxModel",
      "state": {
       "children": [
        "IPY_MODEL_df3446095dc5460d80b40e423e885ca8",
        "IPY_MODEL_1f4f830d7f724e22a6234b62bf18e1e7"
       ],
       "layout": "IPY_MODEL_b876a961f1a74a6893e551429849ec22"
      }
     },
     "375a8958a6684706bb9c6299f5c617ff": {
      "model_module": "@jupyter-widgets/base",
      "model_module_version": "1.2.0",
      "model_name": "LayoutModel",
      "state": {}
     },
     "379b7ea7f72c45f08dcdb3b2d4b11e65": {
      "model_module": "@jupyter-widgets/controls",
      "model_module_version": "1.5.0",
      "model_name": "LabelModel",
      "state": {
       "layout": "IPY_MODEL_f4cdd8d221e8456e9ac8e3d222c05cb2",
       "style": "IPY_MODEL_68804a18f3ff41f18b0493d47baf01eb"
      }
     },
     "379e6b8be52343179b96d0eebb4076ca": {
      "model_module": "@jupyter-widgets/controls",
      "model_module_version": "1.5.0",
      "model_name": "DescriptionStyleModel",
      "state": {
       "description_width": ""
      }
     },
     "380b8dd4108e4542815126516621c888": {
      "model_module": "@jupyter-widgets/base",
      "model_module_version": "1.2.0",
      "model_name": "LayoutModel",
      "state": {
       "width": "30px"
      }
     },
     "381c57a2abff4f048a62611350c5fd16": {
      "model_module": "@jupyter-widgets/controls",
      "model_module_version": "1.5.0",
      "model_name": "LabelModel",
      "state": {
       "layout": "IPY_MODEL_564510ea92ce4e35acb69a1a3814fe06",
       "style": "IPY_MODEL_2f0f1650a6c840eeabed5d00a0fc22d2"
      }
     },
     "38551973965c418c9b74f98fad9f8d1d": {
      "model_module": "@jupyter-widgets/controls",
      "model_module_version": "1.5.0",
      "model_name": "DescriptionStyleModel",
      "state": {
       "description_width": "initial"
      }
     },
     "3869436c8ed743c7a33713db9dd24a10": {
      "model_module": "@jupyter-widgets/base",
      "model_module_version": "1.2.0",
      "model_name": "LayoutModel",
      "state": {}
     },
     "387197d396e8490197fb5895b4feedc2": {
      "model_module": "@jupyter-widgets/controls",
      "model_module_version": "1.5.0",
      "model_name": "DescriptionStyleModel",
      "state": {
       "description_width": ""
      }
     },
     "38802ab917d647f886e6f8abc65694ad": {
      "model_module": "@jupyter-widgets/base",
      "model_module_version": "1.2.0",
      "model_name": "LayoutModel",
      "state": {
       "width": "500px"
      }
     },
     "3888024d321044489db84bf1b122bc62": {
      "model_module": "@jupyter-widgets/base",
      "model_module_version": "1.2.0",
      "model_name": "LayoutModel",
      "state": {}
     },
     "388b7c36b0514ccdabb2a3cf641a0d87": {
      "model_module": "@jupyter-widgets/controls",
      "model_module_version": "1.5.0",
      "model_name": "DescriptionStyleModel",
      "state": {
       "description_width": ""
      }
     },
     "38f23839fd904660b1930a0c07831769": {
      "model_module": "@jupyter-widgets/controls",
      "model_module_version": "1.5.0",
      "model_name": "DescriptionStyleModel",
      "state": {
       "description_width": "initial"
      }
     },
     "392f39357a2e4312a6ab94d1629292b6": {
      "model_module": "@jupyter-widgets/controls",
      "model_module_version": "1.5.0",
      "model_name": "DescriptionStyleModel",
      "state": {
       "description_width": ""
      }
     },
     "393e1e5c8f484043908e4486fd580565": {
      "model_module": "@jupyter-widgets/controls",
      "model_module_version": "1.5.0",
      "model_name": "DescriptionStyleModel",
      "state": {
       "description_width": "initial"
      }
     },
     "39479e415363413e90b0ae47144df762": {
      "model_module": "@jupyter-widgets/base",
      "model_module_version": "1.2.0",
      "model_name": "LayoutModel",
      "state": {
       "width": "30px"
      }
     },
     "39681c8afd4c4b23b94f042e07ae0dda": {
      "model_module": "@jupyter-widgets/base",
      "model_module_version": "1.2.0",
      "model_name": "LayoutModel",
      "state": {}
     },
     "397cef38f6424222849afca3b63d824d": {
      "model_module": "@jupyter-widgets/base",
      "model_module_version": "1.2.0",
      "model_name": "LayoutModel",
      "state": {}
     },
     "398c5e4af2b94b7a8677567ff0861d1e": {
      "model_module": "@jupyter-widgets/controls",
      "model_module_version": "1.5.0",
      "model_name": "DescriptionStyleModel",
      "state": {
       "description_width": ""
      }
     },
     "39ba6dcf5f9e4eed8bc8cef774fe34d0": {
      "model_module": "@jupyter-widgets/controls",
      "model_module_version": "1.5.0",
      "model_name": "LabelModel",
      "state": {
       "layout": "IPY_MODEL_e4cafc4f2b384933ad5dbbf51b020cf7",
       "style": "IPY_MODEL_afc55742637f4a02bd3e4e73c37ad3f5"
      }
     },
     "39c826fd657349869a7a0b07de8989d1": {
      "model_module": "@jupyter-widgets/controls",
      "model_module_version": "1.5.0",
      "model_name": "CheckboxModel",
      "state": {
       "disabled": false,
       "layout": "IPY_MODEL_981e1b77d90a4450bbcbe339b68f8b24",
       "style": "IPY_MODEL_3c28108635324460a4c3a7e2709185fa",
       "value": false
      }
     },
     "39f9cce00ccb462aa643c10e7388e916": {
      "model_module": "@jupyter-widgets/controls",
      "model_module_version": "1.5.0",
      "model_name": "DescriptionStyleModel",
      "state": {
       "description_width": "initial"
      }
     },
     "39fd559cef644014aba23c9860f36764": {
      "model_module": "@jupyter-widgets/controls",
      "model_module_version": "1.5.0",
      "model_name": "LabelModel",
      "state": {
       "layout": "IPY_MODEL_0eb00da0f37f466cad5a327832642dcd",
       "style": "IPY_MODEL_bd23bc3a42db4bde8dd918c6325204c6",
       "value": "leaves."
      }
     },
     "3a1732fcce044a7abdf5203386152e3c": {
      "model_module": "@jupyter-widgets/base",
      "model_module_version": "1.2.0",
      "model_name": "LayoutModel",
      "state": {
       "grid_area": "footer"
      }
     },
     "3a2807b93d2b4f87b70b6d5aaf6df4e9": {
      "model_module": "@jupyter-widgets/controls",
      "model_module_version": "1.5.0",
      "model_name": "LabelModel",
      "state": {
       "layout": "IPY_MODEL_7d938a1ef60d4b498b15093e459d9187",
       "style": "IPY_MODEL_7f76e288cf1b4ca588961a7b9ed5ba47",
       "value": "fib(2) is called 8 times and fib(1) is called 13 times"
      }
     },
     "3a3894a268a345d3bdc83f8d2e348405": {
      "model_module": "@jupyter-widgets/controls",
      "model_module_version": "1.5.0",
      "model_name": "CheckboxModel",
      "state": {
       "disabled": false,
       "layout": "IPY_MODEL_1d1749f9091642cda3e778ee54a2e27e",
       "style": "IPY_MODEL_f2f102061e4741afb8dff4052d99878d",
       "value": false
      }
     },
     "3a49e7bbf237406cac4c02c0cf0f4db5": {
      "model_module": "@jupyter-widgets/controls",
      "model_module_version": "1.5.0",
      "model_name": "HBoxModel",
      "state": {
       "children": [
        "IPY_MODEL_a892c62a428d4945aade40c2706f1914",
        "IPY_MODEL_6b7cf480446d4836bd204ad417717cf9"
       ],
       "layout": "IPY_MODEL_8dfc4f84eab240788e120541fb55678c"
      }
     },
     "3aa6edfb60f24b3f804461216ccb7408": {
      "model_module": "@jupyter-widgets/base",
      "model_module_version": "1.2.0",
      "model_name": "LayoutModel",
      "state": {
       "width": "100px"
      }
     },
     "3ae46b9e3d4444c8a8ecd6a815d3e49e": {
      "model_module": "@jupyter-widgets/base",
      "model_module_version": "1.2.0",
      "model_name": "LayoutModel",
      "state": {
       "grid_area": "left-sidebar"
      }
     },
     "3b10eb03d2d04ca997f5d4cb89620395": {
      "model_module": "@jupyter-widgets/controls",
      "model_module_version": "1.5.0",
      "model_name": "DescriptionStyleModel",
      "state": {
       "description_width": ""
      }
     },
     "3b14e2e2b8674ba3a327749824b8c96b": {
      "model_module": "@jupyter-widgets/controls",
      "model_module_version": "1.5.0",
      "model_name": "HBoxModel",
      "state": {
       "children": [
        "IPY_MODEL_a9e48fc75cdd44a2b5bf564e2777b32c",
        "IPY_MODEL_512d89b6986b45ae882caba9b6e01064"
       ],
       "layout": "IPY_MODEL_8b5dcfb1bca94f4b95d72475ef73ffd5"
      }
     },
     "3b7981f296f94aebb9700bdec1492b1e": {
      "model_module": "@jupyter-widgets/controls",
      "model_module_version": "1.5.0",
      "model_name": "CheckboxModel",
      "state": {
       "disabled": false,
       "layout": "IPY_MODEL_432b624a9a9b47bcaee5bf6bba71bc17",
       "style": "IPY_MODEL_700225b3766c48acac2cacef280a77bb",
       "value": false
      }
     },
     "3b80f8ff94a043ceadb154a7fa047b2a": {
      "model_module": "@jupyter-widgets/base",
      "model_module_version": "1.2.0",
      "model_name": "LayoutModel",
      "state": {}
     },
     "3b8dfa759e254ab589df9d9e25df0777": {
      "model_module": "@jupyter-widgets/base",
      "model_module_version": "1.2.0",
      "model_name": "LayoutModel",
      "state": {
       "display": "none"
      }
     },
     "3b938c4eab664f1a801be88b7ae182e1": {
      "model_module": "@jupyter-widgets/controls",
      "model_module_version": "1.5.0",
      "model_name": "DescriptionStyleModel",
      "state": {
       "description_width": ""
      }
     },
     "3b9a3e2f268b46c7bcf5fb6e2408de03": {
      "model_module": "@jupyter-widgets/controls",
      "model_module_version": "1.5.0",
      "model_name": "HBoxModel",
      "state": {
       "children": [
        "IPY_MODEL_c1f27d3695944510b4d2afe22ab3f892",
        "IPY_MODEL_528b997860cf4338a834a6ef643e4335"
       ],
       "layout": "IPY_MODEL_e63b992721d04eaeac552e8b9f62b4d1"
      }
     },
     "3bb9074e9560492d8e93f399f14acca8": {
      "model_module": "@jupyter-widgets/base",
      "model_module_version": "1.2.0",
      "model_name": "LayoutModel",
      "state": {
       "grid_template_areas": "\"header header\"\n\"left-sidebar left-sidebar\"\n\"footer footer\"",
       "grid_template_columns": "1fr 1fr",
       "grid_template_rows": "1fr 3fr 1fr"
      }
     },
     "3bce0d9828af4088a2d51c03fb8eaedf": {
      "model_module": "@jupyter-widgets/base",
      "model_module_version": "1.2.0",
      "model_name": "LayoutModel",
      "state": {}
     },
     "3bce0ec22398486d8335c313c48a2e8e": {
      "model_module": "@jupyter-widgets/base",
      "model_module_version": "1.2.0",
      "model_name": "LayoutModel",
      "state": {}
     },
     "3bf0734bdca340249f59a7ecacc779df": {
      "model_module": "@jupyter-widgets/base",
      "model_module_version": "1.2.0",
      "model_name": "LayoutModel",
      "state": {
       "width": "30px"
      }
     },
     "3c1556ffd2da40c89d8086d0bd15c893": {
      "model_module": "@jupyter-widgets/controls",
      "model_module_version": "1.5.0",
      "model_name": "LabelModel",
      "state": {
       "layout": "IPY_MODEL_ebd248296aeb4786a777eb46f3055c24",
       "style": "IPY_MODEL_13ca302486d846db9bad615d72aa5de4",
       "value": "$fib(2)$ is called $8$ times and $fib(1)$ is called $5$ times"
      }
     },
     "3c28108635324460a4c3a7e2709185fa": {
      "model_module": "@jupyter-widgets/controls",
      "model_module_version": "1.5.0",
      "model_name": "DescriptionStyleModel",
      "state": {
       "description_width": "initial"
      }
     },
     "3c4439d7812b42f188e89a6f26a7b575": {
      "model_module": "@jupyter-widgets/controls",
      "model_module_version": "1.5.0",
      "model_name": "ButtonStyleModel",
      "state": {
       "button_color": "lightblue"
      }
     },
     "3c4a7d795c3146a698b46661caef3b77": {
      "model_module": "@jupyter-widgets/controls",
      "model_module_version": "1.5.0",
      "model_name": "HBoxModel",
      "state": {
       "children": [
        "IPY_MODEL_2f3b2889f361400b87a42deaaa7d5a92",
        "IPY_MODEL_441f8105cbf541729c190de0509398f5"
       ],
       "layout": "IPY_MODEL_707e737654d54d8a98429d5814cb1452"
      }
     },
     "3c67010e90944542aa79c8708be7a5cb": {
      "model_module": "@jupyter-widgets/controls",
      "model_module_version": "1.5.0",
      "model_name": "ButtonStyleModel",
      "state": {
       "button_color": "lightblue"
      }
     },
     "3c6ebb5db60b4868b01db3882cbfa62c": {
      "model_module": "@jupyter-widgets/controls",
      "model_module_version": "1.5.0",
      "model_name": "HBoxModel",
      "state": {
       "children": [
        "IPY_MODEL_30cbb780688444e2974430799595c1c6",
        "IPY_MODEL_bd3b70fd12404a64adcea4044fd358de"
       ],
       "layout": "IPY_MODEL_02486a344e4b4096be7c15319254f841"
      }
     },
     "3c72008d537d4a509c6c14a843e84860": {
      "model_module": "@jupyter-widgets/base",
      "model_module_version": "1.2.0",
      "model_name": "LayoutModel",
      "state": {
       "width": "30px"
      }
     },
     "3c82008181cb4dbe8bc9a7c2a34889cc": {
      "model_module": "@jupyter-widgets/controls",
      "model_module_version": "1.5.0",
      "model_name": "CheckboxModel",
      "state": {
       "disabled": false,
       "layout": "IPY_MODEL_ff06c0f8089e4889b4113ca9b58e842a",
       "style": "IPY_MODEL_d745a367ee4d4c2d9ec97c1b2b9fd223",
       "value": false
      }
     },
     "3c8b261ab7074c98be58809916b6a665": {
      "model_module": "@jupyter-widgets/base",
      "model_module_version": "1.2.0",
      "model_name": "LayoutModel",
      "state": {
       "width": "1000px"
      }
     },
     "3c8df842389f4fb48ab26fd0b4fecb4d": {
      "model_module": "@jupyter-widgets/controls",
      "model_module_version": "1.5.0",
      "model_name": "ButtonStyleModel",
      "state": {
       "button_color": "lightblue"
      }
     },
     "3cbb453036ae4ed98b721c4aa8121ebd": {
      "model_module": "@jupyter-widgets/base",
      "model_module_version": "1.2.0",
      "model_name": "LayoutModel",
      "state": {
       "width": "1000px"
      }
     },
     "3cf52f52f50649dabe6ca2b705dcfa40": {
      "model_module": "@jupyter-widgets/controls",
      "model_module_version": "1.5.0",
      "model_name": "ButtonStyleModel",
      "state": {
       "button_color": "lightblue"
      }
     },
     "3cf8018b1a3c47128682e41f65bea349": {
      "model_module": "@jupyter-widgets/base",
      "model_module_version": "1.2.0",
      "model_name": "LayoutModel",
      "state": {
       "width": "100px"
      }
     },
     "3d131f4700a340afa7b727767fddb15d": {
      "model_module": "@jupyter-widgets/controls",
      "model_module_version": "1.5.0",
      "model_name": "DescriptionStyleModel",
      "state": {
       "description_width": "initial"
      }
     },
     "3d4f774d6e114b5ab647520f179c6984": {
      "model_module": "@jupyter-widgets/controls",
      "model_module_version": "1.5.0",
      "model_name": "HBoxModel",
      "state": {
       "box_style": "info",
       "children": [
        "IPY_MODEL_6aa5d38d08fa468ea133c260aa12778e",
        "IPY_MODEL_66a9bf7d9c604c26aa1c65d82727279e"
       ],
       "layout": "IPY_MODEL_8f5069d2a4d745ce87fdb208330f94e8"
      }
     },
     "3d5e3244e5e34a56b124b7d780f801cd": {
      "model_module": "@jupyter-widgets/controls",
      "model_module_version": "1.5.0",
      "model_name": "HBoxModel",
      "state": {
       "children": [
        "IPY_MODEL_8befea95cbb7454c851a520a9585edf6",
        "IPY_MODEL_2ce21ba4c480457eb66ba056e4b0bfa6"
       ],
       "layout": "IPY_MODEL_b942aa2618944e888b11829990b96bb2"
      }
     },
     "3da3a568538a4968b478507410fb1534": {
      "model_module": "@jupyter-widgets/base",
      "model_module_version": "1.2.0",
      "model_name": "LayoutModel",
      "state": {
       "grid_area": "left-sidebar"
      }
     },
     "3daa58d5d40b4b5aa304514c6d604724": {
      "model_module": "@jupyter-widgets/base",
      "model_module_version": "1.2.0",
      "model_name": "LayoutModel",
      "state": {
       "grid_area": "left-sidebar"
      }
     },
     "3daa619c66f946e78ff9a4739b3cb106": {
      "model_module": "@jupyter-widgets/base",
      "model_module_version": "1.2.0",
      "model_name": "LayoutModel",
      "state": {}
     },
     "3dbf0c3601954bd7be8737d36f11d446": {
      "model_module": "@jupyter-widgets/controls",
      "model_module_version": "1.5.0",
      "model_name": "HBoxModel",
      "state": {
       "children": [
        "IPY_MODEL_5f0bbbbc97e24ffba5d8cf075c038322",
        "IPY_MODEL_82ea8f05e00b4e0f92539eefe4514bf8"
       ],
       "layout": "IPY_MODEL_ec502035a43740fc82fa5f090b93a65b"
      }
     },
     "3de5b10082ec4acc901b64795f25894c": {
      "model_module": "@jupyter-widgets/controls",
      "model_module_version": "1.5.0",
      "model_name": "VBoxModel",
      "state": {
       "children": [
        "IPY_MODEL_5cfb34c70f884736b4edeb7b8fe9d929",
        "IPY_MODEL_ef62b9d1fe1946d885c3e7d920db069f",
        "IPY_MODEL_7cf274c3558a40d6b6d17afa7e22539d",
        "IPY_MODEL_3c4a7d795c3146a698b46661caef3b77",
        "IPY_MODEL_f5ef80f69e45431abd154121ab699cda"
       ],
       "layout": "IPY_MODEL_4990389931cf4eb2a1850f140c750e21"
      }
     },
     "3de6cbf533904d7c8aafc7b2dbc54715": {
      "model_module": "@jupyter-widgets/controls",
      "model_module_version": "1.5.0",
      "model_name": "CheckboxModel",
      "state": {
       "disabled": false,
       "layout": "IPY_MODEL_dcd30803d64e4d55afe748bc27e11aa3",
       "style": "IPY_MODEL_31927cb873d7415c9423bcadad9a50b0",
       "value": false
      }
     },
     "3e09a88fc0964c53867a2e693fa505ad": {
      "model_module": "@jupyter-widgets/controls",
      "model_module_version": "1.5.0",
      "model_name": "LabelModel",
      "state": {
       "layout": "IPY_MODEL_6455a673b58f4c20b3b7c53f024104db",
       "style": "IPY_MODEL_cab126f06adf48f88c09f35d32342874",
       "value": "fib(k - 1)"
      }
     },
     "3e20ad1745534059ba1fa904bbfcc347": {
      "model_module": "@jupyter-widgets/controls",
      "model_module_version": "1.5.0",
      "model_name": "VBoxModel",
      "state": {
       "box_style": "success",
       "children": [
        "IPY_MODEL_4c4b4ea310014c91a156aa7bc891cf37",
        "IPY_MODEL_83f864ebfccf4a0a80540d1b0282c1f0",
        "IPY_MODEL_58633b6635a247768bb45581fe9e6cfd",
        "IPY_MODEL_7797c1ab721b455fbd03ca98a1c7eed4",
        "IPY_MODEL_489f67a9b7f14cb59888f7b8ab0fd572"
       ],
       "layout": "IPY_MODEL_3da3a568538a4968b478507410fb1534"
      }
     },
     "3e55b3ded63347668c079bebce917131": {
      "model_module": "@jupyter-widgets/controls",
      "model_module_version": "1.5.0",
      "model_name": "DescriptionStyleModel",
      "state": {
       "description_width": "initial"
      }
     },
     "3e83c920db0f479a82877dd1033cc028": {
      "model_module": "@jupyter-widgets/controls",
      "model_module_version": "1.5.0",
      "model_name": "HBoxModel",
      "state": {
       "children": [
        "IPY_MODEL_074d64a1196e4c1d9743496f16e66003",
        "IPY_MODEL_ffb873b003de4c75aa6c29f06e85f2e6"
       ],
       "layout": "IPY_MODEL_102bff1e74cd4a81b5715fb2c4a965fa"
      }
     },
     "3efb96c371fa4c4fa8683b380de3cdfd": {
      "model_module": "@jupyter-widgets/controls",
      "model_module_version": "1.5.0",
      "model_name": "DescriptionStyleModel",
      "state": {
       "description_width": ""
      }
     },
     "3f016e8fd9e44e08b1f5f67c887142cf": {
      "model_module": "@jupyter-widgets/controls",
      "model_module_version": "1.5.0",
      "model_name": "LabelModel",
      "state": {
       "layout": "IPY_MODEL_b33350c6166b4362b468529788d0d54b",
       "style": "IPY_MODEL_67e0d56a2c404e3ca7deff9e7cfe8d47"
      }
     },
     "3f1579f192664be698c79fd939f25ae6": {
      "model_module": "@jupyter-widgets/controls",
      "model_module_version": "1.5.0",
      "model_name": "CheckboxModel",
      "state": {
       "disabled": false,
       "layout": "IPY_MODEL_e22ad3e7fdd64d2385f554a5e35bd251",
       "style": "IPY_MODEL_239fc7402f3842c8be9acd2c8b2415cb",
       "value": false
      }
     },
     "3f29cafa733644e69e3bc9d53155b29e": {
      "model_module": "@jupyter-widgets/controls",
      "model_module_version": "1.5.0",
      "model_name": "LabelModel",
      "state": {
       "layout": "IPY_MODEL_b9ae4887871b4659881a507ec39c7cb7",
       "style": "IPY_MODEL_7a14d60e64d9438d9f391151724a1de0",
       "value": "fib(k)"
      }
     },
     "3f31d37f59be466f90973552262b40da": {
      "model_module": "@jupyter-widgets/base",
      "model_module_version": "1.2.0",
      "model_name": "LayoutModel",
      "state": {}
     },
     "3f496848ff1640f79afaac1d29ff3183": {
      "model_module": "@jupyter-widgets/controls",
      "model_module_version": "1.5.0",
      "model_name": "HBoxModel",
      "state": {
       "box_style": "info",
       "children": [
        "IPY_MODEL_9578cd9ba4ef4107bd45ec17b82c8b2f",
        "IPY_MODEL_7ebeb9418fd54c8fafeecad1fa53bd47"
       ],
       "layout": "IPY_MODEL_e3378826f1244408be31fedc34e708c7"
      }
     },
     "3f4df646473344d99e4d1b10919e45aa": {
      "model_module": "@jupyter-widgets/controls",
      "model_module_version": "1.5.0",
      "model_name": "DescriptionStyleModel",
      "state": {
       "description_width": ""
      }
     },
     "3f4f3dd6052c4302939a8ff127e491db": {
      "model_module": "@jupyter-widgets/base",
      "model_module_version": "1.2.0",
      "model_name": "LayoutModel",
      "state": {}
     },
     "3f66f31437d04b0f8e542bf5307f64f5": {
      "model_module": "@jupyter-widgets/controls",
      "model_module_version": "1.5.0",
      "model_name": "HBoxModel",
      "state": {
       "children": [
        "IPY_MODEL_1d01d646981c434baa30051d408a921f",
        "IPY_MODEL_f918ce4e5eac4627a84a1bef8194c424"
       ],
       "layout": "IPY_MODEL_c79bdbc24a4e4d22bde71da5f346465d"
      }
     },
     "3f7e10d01a4f4774a2e2c864582e8f18": {
      "model_module": "@jupyter-widgets/base",
      "model_module_version": "1.2.0",
      "model_name": "LayoutModel",
      "state": {}
     },
     "3f956fdcb9e446bea1494a1bdf3886b0": {
      "model_module": "@jupyter-widgets/controls",
      "model_module_version": "1.5.0",
      "model_name": "LabelModel",
      "state": {
       "layout": "IPY_MODEL_1009d0d050254df7b3061a829c220671",
       "style": "IPY_MODEL_e2829a1283f74246a4da07593be6bee0",
       "value": "times."
      }
     },
     "3f96d54fe8ec4355a618773a2de65eb6": {
      "model_module": "@jupyter-widgets/controls",
      "model_module_version": "1.5.0",
      "model_name": "HBoxModel",
      "state": {
       "children": [
        "IPY_MODEL_d93ea2e192354b54b59be827ddaf95bf",
        "IPY_MODEL_da825ac046024b8fb333d34e24d3bb5f"
       ],
       "layout": "IPY_MODEL_1c6728f78b1c4313a22cb631fac2794d"
      }
     },
     "4003c88b6d6e4d058741d0277219f696": {
      "model_module": "@jupyter-widgets/controls",
      "model_module_version": "1.5.0",
      "model_name": "ButtonStyleModel",
      "state": {
       "button_color": "lightgreen"
      }
     },
     "402220284de642bc96e771d8550bb754": {
      "model_module": "@jupyter-widgets/base",
      "model_module_version": "1.2.0",
      "model_name": "LayoutModel",
      "state": {
       "width": "1000px"
      }
     },
     "4103401586214d26beac320df54ce512": {
      "model_module": "@jupyter-widgets/controls",
      "model_module_version": "1.5.0",
      "model_name": "DescriptionStyleModel",
      "state": {
       "description_width": "initial"
      }
     },
     "413e5118d8af413191d3561817303df3": {
      "model_module": "@jupyter-widgets/base",
      "model_module_version": "1.2.0",
      "model_name": "LayoutModel",
      "state": {
       "width": "100px"
      }
     },
     "4146d1c0288642b7bd8770887bc99d31": {
      "model_module": "@jupyter-widgets/controls",
      "model_module_version": "1.5.0",
      "model_name": "GridBoxModel",
      "state": {
       "box_style": "info",
       "children": [
        "IPY_MODEL_197f3c2e35d542fdb025cf36cdbdeaec",
        "IPY_MODEL_861bb97b2be6476787a371c143dabcb3",
        "IPY_MODEL_e34c9add57384b31a87a1d66fb1dc39d"
       ],
       "layout": "IPY_MODEL_aadb47fe02e14235a49704e67fa64490"
      }
     },
     "414d1a66b2614ec38e54511face24167": {
      "model_module": "@jupyter-widgets/controls",
      "model_module_version": "1.5.0",
      "model_name": "HBoxModel",
      "state": {
       "children": [
        "IPY_MODEL_a7f4bfd6f68f464696541382b7496546",
        "IPY_MODEL_4457212926834174b056e1474856541d"
       ],
       "layout": "IPY_MODEL_f084855e3ee24e2cb9b6d1480705b28d"
      }
     },
     "4163c940af6e4d53b2202ff4a716d980": {
      "model_module": "@jupyter-widgets/base",
      "model_module_version": "1.2.0",
      "model_name": "LayoutModel",
      "state": {}
     },
     "41731c0c9cac4364b46e2f3a6f88f063": {
      "model_module": "@jupyter-widgets/base",
      "model_module_version": "1.2.0",
      "model_name": "LayoutModel",
      "state": {
       "width": "100px"
      }
     },
     "41a6df79fa4342e4990bec01f6a26198": {
      "model_module": "@jupyter-widgets/controls",
      "model_module_version": "1.5.0",
      "model_name": "LabelModel",
      "state": {
       "layout": "IPY_MODEL_54e2e89ac34c49648a243e858e517168",
       "style": "IPY_MODEL_1360bc66124a48cb9b9a2d97a268dc79"
      }
     },
     "42be31e4948e4d01a94d94adcf544cc0": {
      "model_module": "@jupyter-widgets/base",
      "model_module_version": "1.2.0",
      "model_name": "LayoutModel",
      "state": {
       "width": "1000px"
      }
     },
     "42e3bcb28d1d40269a67ba44d65ab251": {
      "model_module": "@jupyter-widgets/base",
      "model_module_version": "1.2.0",
      "model_name": "LayoutModel",
      "state": {
       "width": "30px"
      }
     },
     "42eded3152c249f18f65904e3d9e9e8c": {
      "model_module": "@jupyter-widgets/base",
      "model_module_version": "1.2.0",
      "model_name": "LayoutModel",
      "state": {}
     },
     "432b624a9a9b47bcaee5bf6bba71bc17": {
      "model_module": "@jupyter-widgets/base",
      "model_module_version": "1.2.0",
      "model_name": "LayoutModel",
      "state": {
       "width": "30px"
      }
     },
     "4343f904580b4bc79264154290639622": {
      "model_module": "@jupyter-widgets/controls",
      "model_module_version": "1.5.0",
      "model_name": "LabelModel",
      "state": {
       "layout": "IPY_MODEL_ef21a8b7e4a64653af7296f62bb7c8b1",
       "style": "IPY_MODEL_fa4071fcac164f2c899080fd759374e2"
      }
     },
     "441f8105cbf541729c190de0509398f5": {
      "model_module": "@jupyter-widgets/controls",
      "model_module_version": "1.5.0",
      "model_name": "HBoxModel",
      "state": {
       "children": [
        "IPY_MODEL_ae022a716dbd4c228e1c708cc6544b70",
        "IPY_MODEL_d08ccecc79684308aa6773f5f52666b4"
       ],
       "layout": "IPY_MODEL_c9fddf39f79642beb8dd2ee89694f4ed"
      }
     },
     "4457212926834174b056e1474856541d": {
      "model_module": "@jupyter-widgets/controls",
      "model_module_version": "1.5.0",
      "model_name": "LabelModel",
      "state": {
       "layout": "IPY_MODEL_96bddc53b5c6454086dccd386949a55d",
       "style": "IPY_MODEL_6b6ae441af904952ae3af63435b744d0",
       "value": "fib(n - k)"
      }
     },
     "447e186ae1184d878d3233a68c06db13": {
      "model_module": "@jupyter-widgets/controls",
      "model_module_version": "1.5.0",
      "model_name": "HBoxModel",
      "state": {
       "children": [
        "IPY_MODEL_11e0871442ae42df8d26ee156752b36a",
        "IPY_MODEL_ddd0c399d6954a38a293ecb6d1a214a2"
       ],
       "layout": "IPY_MODEL_5f84728c40384d3aa493e0ab0f1af73f"
      }
     },
     "4489058411824470bd29fdada64e7694": {
      "model_module": "@jupyter-widgets/base",
      "model_module_version": "1.2.0",
      "model_name": "LayoutModel",
      "state": {
       "grid_template_areas": "\"header header\"\n\"left-sidebar left-sidebar\"\n\"footer footer\"",
       "grid_template_columns": "1fr 1fr",
       "grid_template_rows": "1fr 3fr 1fr"
      }
     },
     "44959ea2227f4acb82545f77f8c505c6": {
      "model_module": "@jupyter-widgets/base",
      "model_module_version": "1.2.0",
      "model_name": "LayoutModel",
      "state": {
       "border": "2px solid green"
      }
     },
     "449bf277cf7648dc8f1286436734a1f1": {
      "model_module": "@jupyter-widgets/controls",
      "model_module_version": "1.5.0",
      "model_name": "HBoxModel",
      "state": {
       "children": [
        "IPY_MODEL_310501b376744bf49f14e471d272e61f",
        "IPY_MODEL_bffad5a7714e49e981febc4a55192e58"
       ],
       "layout": "IPY_MODEL_1bd213a6d35347dc8b1dcb7a5d9ca989"
      }
     },
     "44aa04e1ec4e4211a23c0574923cb1fc": {
      "model_module": "@jupyter-widgets/base",
      "model_module_version": "1.2.0",
      "model_name": "LayoutModel",
      "state": {}
     },
     "44b7ffc84435490d9b980cbd73784b4f": {
      "model_module": "@jupyter-widgets/controls",
      "model_module_version": "1.5.0",
      "model_name": "DescriptionStyleModel",
      "state": {
       "description_width": ""
      }
     },
     "44c3a16368904c14abfe1b95d562ed86": {
      "model_module": "@jupyter-widgets/base",
      "model_module_version": "1.2.0",
      "model_name": "LayoutModel",
      "state": {}
     },
     "44e3250685a74b7b8144327287cac051": {
      "model_module": "@jupyter-widgets/controls",
      "model_module_version": "1.5.0",
      "model_name": "DescriptionStyleModel",
      "state": {
       "description_width": ""
      }
     },
     "44f6f9e6efdb440ca5cb912c5669e231": {
      "model_module": "@jupyter-widgets/base",
      "model_module_version": "1.2.0",
      "model_name": "LayoutModel",
      "state": {}
     },
     "4501efc6c88241ae8d6311263eb79084": {
      "model_module": "@jupyter-widgets/base",
      "model_module_version": "1.2.0",
      "model_name": "LayoutModel",
      "state": {
       "grid_template_areas": "\"header header\"\n\"left-sidebar left-sidebar\"\n\"footer footer\"",
       "grid_template_columns": "1fr 1fr",
       "grid_template_rows": "1fr 3fr 1fr"
      }
     },
     "454e0abafd0542bdb101466cdcd9c8c6": {
      "model_module": "@jupyter-widgets/base",
      "model_module_version": "1.2.0",
      "model_name": "LayoutModel",
      "state": {
       "width": "30px"
      }
     },
     "456a220105b34d609f74f8dc89aa887a": {
      "model_module": "@jupyter-widgets/base",
      "model_module_version": "1.2.0",
      "model_name": "LayoutModel",
      "state": {
       "grid_area": "left-sidebar"
      }
     },
     "4596e2f8f4a84f75b72a92b6717d48d6": {
      "model_module": "@jupyter-widgets/base",
      "model_module_version": "1.2.0",
      "model_name": "LayoutModel",
      "state": {
       "grid_area": "left-sidebar"
      }
     },
     "45a14fd50c684fd9b58eeaeb31f9ef1d": {
      "model_module": "@jupyter-widgets/controls",
      "model_module_version": "1.5.0",
      "model_name": "HBoxModel",
      "state": {
       "children": [
        "IPY_MODEL_993a115f9d234f0997d357170f304ae7",
        "IPY_MODEL_6c246ef65e2547caa967640dad54f820"
       ],
       "layout": "IPY_MODEL_75b29366e3b54866923c6d498f60c89f"
      }
     },
     "45c9bba24b5e4a19b1573bfa41683cda": {
      "model_module": "@jupyter-widgets/base",
      "model_module_version": "1.2.0",
      "model_name": "LayoutModel",
      "state": {}
     },
     "45d477708d984c498c80dffe0215e750": {
      "model_module": "@jupyter-widgets/controls",
      "model_module_version": "1.5.0",
      "model_name": "LabelModel",
      "state": {
       "layout": "IPY_MODEL_f53fc5dec41f4816b911842bb457a769",
       "style": "IPY_MODEL_dd9a9c8bb2cb4c0f8b8745f4427c1626",
       "value": "fib(n - 1) + fib(n - 2)"
      }
     },
     "45ed48e3579245dd8a3339d37db46e9b": {
      "model_module": "@jupyter-widgets/base",
      "model_module_version": "1.2.0",
      "model_name": "LayoutModel",
      "state": {
       "grid_area": "left-sidebar"
      }
     },
     "45eeafe12b6f4cf38f3107078f482d8f": {
      "model_module": "@jupyter-widgets/base",
      "model_module_version": "1.2.0",
      "model_name": "LayoutModel",
      "state": {}
     },
     "4616a17e9bc844f198dc89464c003eb4": {
      "model_module": "@jupyter-widgets/controls",
      "model_module_version": "1.5.0",
      "model_name": "GridBoxModel",
      "state": {
       "box_style": "info",
       "children": [
        "IPY_MODEL_58c23fbf8bd14521a8060e203d9d9682",
        "IPY_MODEL_c067311a44f04c9991ed421b843f460a",
        "IPY_MODEL_05e05412b8204a67acb6f28ee2969cb5"
       ],
       "layout": "IPY_MODEL_636c75cdd50542daaaf2700e99619950"
      }
     },
     "4637447f97a94f8dbc82f27b8f5de333": {
      "model_module": "@jupyter-widgets/controls",
      "model_module_version": "1.5.0",
      "model_name": "DescriptionStyleModel",
      "state": {
       "description_width": ""
      }
     },
     "465faebf723345c889e865bddf72d9ce": {
      "model_module": "@jupyter-widgets/controls",
      "model_module_version": "1.5.0",
      "model_name": "DescriptionStyleModel",
      "state": {
       "description_width": ""
      }
     },
     "468519b8bf3442a2ad0f54a71ac3787a": {
      "model_module": "@jupyter-widgets/base",
      "model_module_version": "1.2.0",
      "model_name": "LayoutModel",
      "state": {}
     },
     "46886e5a35da48e594c960bd643110c5": {
      "model_module": "@jupyter-widgets/base",
      "model_module_version": "1.2.0",
      "model_name": "LayoutModel",
      "state": {}
     },
     "46c028cbd71b4fe1b608369967d9f494": {
      "model_module": "@jupyter-widgets/controls",
      "model_module_version": "1.5.0",
      "model_name": "DescriptionStyleModel",
      "state": {
       "description_width": ""
      }
     },
     "46ca557e427c454c816a7fd31c422899": {
      "model_module": "@jupyter-widgets/base",
      "model_module_version": "1.2.0",
      "model_name": "LayoutModel",
      "state": {
       "width": "auto"
      }
     },
     "472497b3d36f4e0098e0ca282b9b67b9": {
      "model_module": "@jupyter-widgets/base",
      "model_module_version": "1.2.0",
      "model_name": "LayoutModel",
      "state": {
       "width": "30px"
      }
     },
     "472b9bbc2677424ebaf5255ae27f3ea1": {
      "model_module": "@jupyter-widgets/base",
      "model_module_version": "1.2.0",
      "model_name": "LayoutModel",
      "state": {
       "width": "1000px"
      }
     },
     "472d97149cc94da0873e6c6d2f1fa40e": {
      "model_module": "@jupyter-widgets/controls",
      "model_module_version": "1.5.0",
      "model_name": "DescriptionStyleModel",
      "state": {
       "description_width": "initial"
      }
     },
     "4749c74e919a40d1bfb9f4935a7e8bf5": {
      "model_module": "@jupyter-widgets/base",
      "model_module_version": "1.2.0",
      "model_name": "LayoutModel",
      "state": {}
     },
     "474d0b38d74d4be9b12fbe9a4bda58d4": {
      "model_module": "@jupyter-widgets/base",
      "model_module_version": "1.2.0",
      "model_name": "LayoutModel",
      "state": {
       "width": "1000px"
      }
     },
     "475c4c6b6c60485289ca4c995907fbab": {
      "model_module": "@jupyter-widgets/base",
      "model_module_version": "1.2.0",
      "model_name": "LayoutModel",
      "state": {
       "width": "1000px"
      }
     },
     "476e3f985df24ec2ab5c3db87a77d232": {
      "model_module": "@jupyter-widgets/base",
      "model_module_version": "1.2.0",
      "model_name": "LayoutModel",
      "state": {}
     },
     "47b69ab56fc1464aa2b2784a281ec217": {
      "model_module": "@jupyter-widgets/controls",
      "model_module_version": "1.5.0",
      "model_name": "VBoxModel",
      "state": {
       "children": [
        "IPY_MODEL_103f84c01aec462880e6687408002752",
        "IPY_MODEL_872484edcda743c0b7b58eb967f377bf",
        "IPY_MODEL_7a5c4f5c7c5d404a92bde97b0f2dfdaf",
        "IPY_MODEL_68d3fdaf62b540a6bee27baf7d68e0f3",
        "IPY_MODEL_ae7dc5fcd4dc44eb884fb2234b66d787"
       ],
       "layout": "IPY_MODEL_14296969da6046fa97d88029c4df6c3e"
      }
     },
     "47e6d99c75dc45b8a4a8a8e736ff8b0b": {
      "model_module": "@jupyter-widgets/controls",
      "model_module_version": "1.5.0",
      "model_name": "ButtonStyleModel",
      "state": {
       "button_color": "lightblue"
      }
     },
     "4840d1184d5a47059b831d7b27384a6e": {
      "model_module": "@jupyter-widgets/base",
      "model_module_version": "1.2.0",
      "model_name": "LayoutModel",
      "state": {
       "width": "500px"
      }
     },
     "48882b1af9324323b758015c0712c17e": {
      "model_module": "@jupyter-widgets/base",
      "model_module_version": "1.2.0",
      "model_name": "LayoutModel",
      "state": {
       "width": "500px"
      }
     },
     "489324190cdc43b99993337c78364b15": {
      "model_module": "@jupyter-widgets/controls",
      "model_module_version": "1.5.0",
      "model_name": "ButtonModel",
      "state": {
       "description": "Submit",
       "layout": "IPY_MODEL_3daa619c66f946e78ff9a4739b3cb106",
       "style": "IPY_MODEL_7cae245ba7844bdbb25edda8263ab82c"
      }
     },
     "489f67a9b7f14cb59888f7b8ab0fd572": {
      "model_module": "@jupyter-widgets/controls",
      "model_module_version": "1.5.0",
      "model_name": "HBoxModel",
      "state": {
       "children": [
        "IPY_MODEL_d86eee9fd2804ba28bb1f00935e17e2d",
        "IPY_MODEL_3c6ebb5db60b4868b01db3882cbfa62c"
       ],
       "layout": "IPY_MODEL_f4eefb6bde094e289e76761117db8133"
      }
     },
     "48c4909c93d94497be295a17ec733b1d": {
      "model_module": "@jupyter-widgets/controls",
      "model_module_version": "1.5.0",
      "model_name": "DescriptionStyleModel",
      "state": {
       "description_width": ""
      }
     },
     "48d5836c383e44dab6dce1d0d40a7029": {
      "model_module": "@jupyter-widgets/base",
      "model_module_version": "1.2.0",
      "model_name": "LayoutModel",
      "state": {
       "width": "100px"
      }
     },
     "493ce5cb77b24c77aeb94d8d573a9806": {
      "model_module": "@jupyter-widgets/controls",
      "model_module_version": "1.5.0",
      "model_name": "LabelModel",
      "state": {
       "layout": "IPY_MODEL_d3bd98d74607419cb9dcb8388d718d43",
       "style": "IPY_MODEL_d271e88731394ce199b518b7fdde4ef4"
      }
     },
     "4958b5fe019b4593aae2e1d85813df37": {
      "model_module": "@jupyter-widgets/controls",
      "model_module_version": "1.5.0",
      "model_name": "DescriptionStyleModel",
      "state": {
       "description_width": ""
      }
     },
     "496b3ddea6524508af03d123709d8158": {
      "model_module": "@jupyter-widgets/base",
      "model_module_version": "1.2.0",
      "model_name": "LayoutModel",
      "state": {}
     },
     "496eefbb39e1493eb642fbfc1965bfc3": {
      "model_module": "@jupyter-widgets/base",
      "model_module_version": "1.2.0",
      "model_name": "LayoutModel",
      "state": {}
     },
     "497f75a17b12433d92a8277f6f7de48c": {
      "model_module": "@jupyter-widgets/base",
      "model_module_version": "1.2.0",
      "model_name": "LayoutModel",
      "state": {
       "width": "30px"
      }
     },
     "49816aab82284571ab009acbb673a237": {
      "model_module": "@jupyter-widgets/base",
      "model_module_version": "1.2.0",
      "model_name": "LayoutModel",
      "state": {}
     },
     "4990389931cf4eb2a1850f140c750e21": {
      "model_module": "@jupyter-widgets/base",
      "model_module_version": "1.2.0",
      "model_name": "LayoutModel",
      "state": {
       "grid_area": "left-sidebar"
      }
     },
     "49dda9e3e1fe4adf8945516563f49350": {
      "model_module": "@jupyter-widgets/base",
      "model_module_version": "1.2.0",
      "model_name": "LayoutModel",
      "state": {}
     },
     "4a0200c854b642b48e7cf89f039ec773": {
      "model_module": "@jupyter-widgets/controls",
      "model_module_version": "1.5.0",
      "model_name": "LabelModel",
      "state": {
       "layout": "IPY_MODEL_faa5cd2e19554b0c9c58871965251808",
       "style": "IPY_MODEL_866165b142294bfd84233a178ab0c0a6",
       "value": "How many nodes of type $fib(n - k)$ does the call stack tree of $fib(n)$ have, where k is between 0 and n-1?"
      }
     },
     "4a2484d649cc47268a4916d815ec8dfc": {
      "model_module": "@jupyter-widgets/controls",
      "model_module_version": "1.5.0",
      "model_name": "HBoxModel",
      "state": {
       "children": [
        "IPY_MODEL_017be705677f4fc6b4347f829f384aa9",
        "IPY_MODEL_f0d0503862d849528a31bbec869f4218"
       ],
       "layout": "IPY_MODEL_fd57c90a50a14c179b4e337a997bef9d"
      }
     },
     "4a3780856dce48078e781d98d782313b": {
      "model_module": "@jupyter-widgets/base",
      "model_module_version": "1.2.0",
      "model_name": "LayoutModel",
      "state": {
       "grid_area": "left-sidebar"
      }
     },
     "4a37eb2e2b7144e4838635f7bbb374bc": {
      "model_module": "@jupyter-widgets/controls",
      "model_module_version": "1.5.0",
      "model_name": "DescriptionStyleModel",
      "state": {
       "description_width": "initial"
      }
     },
     "4a475bd17cb34f388a2b64237a832159": {
      "model_module": "@jupyter-widgets/controls",
      "model_module_version": "1.5.0",
      "model_name": "LabelModel",
      "state": {
       "layout": "IPY_MODEL_547e7db0c66f46d3b5fb95c9b33386db",
       "style": "IPY_MODEL_b4c419e9bbf4452cb0d6c6942fdb8d18"
      }
     },
     "4a670b36aae54863bfa1a6c0d628cc97": {
      "model_module": "@jupyter-widgets/base",
      "model_module_version": "1.2.0",
      "model_name": "LayoutModel",
      "state": {}
     },
     "4a9ac8f08d24449498ece87ec2daba5e": {
      "model_module": "@jupyter-widgets/base",
      "model_module_version": "1.2.0",
      "model_name": "LayoutModel",
      "state": {}
     },
     "4a9e3b63d97a45898ba402471953722a": {
      "model_module": "@jupyter-widgets/base",
      "model_module_version": "1.2.0",
      "model_name": "LayoutModel",
      "state": {}
     },
     "4ac6e4b5649e4f6f8bb350fce2af9efc": {
      "model_module": "@jupyter-widgets/base",
      "model_module_version": "1.2.0",
      "model_name": "LayoutModel",
      "state": {}
     },
     "4ace2542bbda44b59296cad54322ca54": {
      "model_module": "@jupyter-widgets/base",
      "model_module_version": "1.2.0",
      "model_name": "LayoutModel",
      "state": {
       "width": "30px"
      }
     },
     "4ace943dc22243f6909beaca15ea9d81": {
      "model_module": "@jupyter-widgets/controls",
      "model_module_version": "1.5.0",
      "model_name": "LabelModel",
      "state": {
       "layout": "IPY_MODEL_70fb43ee4fba4edfa0f5325312d86246",
       "style": "IPY_MODEL_779f7b7d216444a7b51552ebc139dacc",
       "value": "fib(n - 1) + fib(n - 2)"
      }
     },
     "4ae86119ca0142faa9efc7140e7b59bc": {
      "model_module": "@jupyter-widgets/controls",
      "model_module_version": "1.5.0",
      "model_name": "LabelModel",
      "state": {
       "layout": "IPY_MODEL_340d5fa894f1413792dcca393e654d80",
       "style": "IPY_MODEL_f57ed9c12ac44b47954a958a93b89fa4"
      }
     },
     "4b02b34d8a404c61822367313577476b": {
      "model_module": "@jupyter-widgets/controls",
      "model_module_version": "1.5.0",
      "model_name": "DescriptionStyleModel",
      "state": {
       "description_width": ""
      }
     },
     "4b0e45cc21814eecbf969d49129c05bb": {
      "model_module": "@jupyter-widgets/controls",
      "model_module_version": "1.5.0",
      "model_name": "DescriptionStyleModel",
      "state": {
       "description_width": ""
      }
     },
     "4b2fb0ff0f634e9396b0c79af056886d": {
      "model_module": "@jupyter-widgets/controls",
      "model_module_version": "1.5.0",
      "model_name": "LabelModel",
      "state": {
       "layout": "IPY_MODEL_496eefbb39e1493eb642fbfc1965bfc3",
       "style": "IPY_MODEL_fa94b5c53f7b4103a7a09e758ae6179b"
      }
     },
     "4b58b694c3c14263bc66e5dd9396e06b": {
      "model_module": "@jupyter-widgets/controls",
      "model_module_version": "1.5.0",
      "model_name": "DescriptionStyleModel",
      "state": {
       "description_width": "initial"
      }
     },
     "4b7b5f7010d0457fb66771e8ae03be2a": {
      "model_module": "@jupyter-widgets/controls",
      "model_module_version": "1.5.0",
      "model_name": "CheckboxModel",
      "state": {
       "disabled": true,
       "layout": "IPY_MODEL_1c457fa4ce454fc9b09c42a488e44c86",
       "style": "IPY_MODEL_2cdb6268a0d14baabaf5c1ad8a30b239",
       "value": true
      }
     },
     "4bdd527298e849d6a1f765c2ebb89a6f": {
      "model_module": "@jupyter-widgets/base",
      "model_module_version": "1.2.0",
      "model_name": "LayoutModel",
      "state": {
       "grid_area": "left-sidebar"
      }
     },
     "4c01b698d1df466ea6e401eb8a60019a": {
      "model_module": "@jupyter-widgets/base",
      "model_module_version": "1.2.0",
      "model_name": "LayoutModel",
      "state": {}
     },
     "4c4b4ea310014c91a156aa7bc891cf37": {
      "model_module": "@jupyter-widgets/controls",
      "model_module_version": "1.5.0",
      "model_name": "HBoxModel",
      "state": {
       "children": [
        "IPY_MODEL_277f43d3f3924e2a854890d1c8850130",
        "IPY_MODEL_0dbcf07c15ae4a6284d2710f1123c1b5"
       ],
       "layout": "IPY_MODEL_5108e17546db4da7b5de8135bae5ef01"
      }
     },
     "4c56c9207a714f9cb77ee3a7589b915c": {
      "model_module": "@jupyter-widgets/controls",
      "model_module_version": "1.5.0",
      "model_name": "HBoxModel",
      "state": {
       "children": [
        "IPY_MODEL_a696283276164b788831e104a5686fa1"
       ],
       "layout": "IPY_MODEL_33df111c9c474fe5b5a7238c68f27385"
      }
     },
     "4c7a6cd3c201441db7024184693a13e9": {
      "model_module": "@jupyter-widgets/controls",
      "model_module_version": "1.5.0",
      "model_name": "VBoxModel",
      "state": {
       "children": [
        "IPY_MODEL_ca4f6ec73fb145f1a15817d2ab00471b",
        "IPY_MODEL_14d766cc22e940c59281dcdda42719b2",
        "IPY_MODEL_530e51ad9e6f4a54b898cd602a952097"
       ],
       "layout": "IPY_MODEL_ddd35697037445e9ab09f9c4232c8323"
      }
     },
     "4c91b01bdb4c4dafa7f4a27343f73f52": {
      "model_module": "@jupyter-widgets/controls",
      "model_module_version": "1.5.0",
      "model_name": "HBoxModel",
      "state": {
       "box_style": "info",
       "children": [
        "IPY_MODEL_116676d050264d06b9ba2a48fe610dc9",
        "IPY_MODEL_c26e6a72b0854504aa8c3fdc8fc2d53f"
       ],
       "layout": "IPY_MODEL_2e7e70e74579429cb7de60835aa86c2a"
      }
     },
     "4c9b05a4402940d2ae13a0ba907976f5": {
      "model_module": "@jupyter-widgets/controls",
      "model_module_version": "1.5.0",
      "model_name": "HBoxModel",
      "state": {
       "children": [
        "IPY_MODEL_2625158251eb4036847256a7952a35a3",
        "IPY_MODEL_a267a9796c2a440ba1d5ae5545140f46"
       ],
       "layout": "IPY_MODEL_a50795d1bfa74e0593d77aa129541c99"
      }
     },
     "4cb88cf7361d480b88d6c98d17f2e7e7": {
      "model_module": "@jupyter-widgets/controls",
      "model_module_version": "1.5.0",
      "model_name": "HBoxModel",
      "state": {
       "children": [
        "IPY_MODEL_493ce5cb77b24c77aeb94d8d573a9806",
        "IPY_MODEL_9c7babb3391e4c6e980254031f259728"
       ],
       "layout": "IPY_MODEL_518cb53f14b3457db17ca690e5bb17ee"
      }
     },
     "4cc500e4f3184a938b0963b747a37294": {
      "model_module": "@jupyter-widgets/base",
      "model_module_version": "1.2.0",
      "model_name": "LayoutModel",
      "state": {
       "width": "1000px"
      }
     },
     "4ce2c39dc33d40729f8e5471318d6de9": {
      "model_module": "@jupyter-widgets/controls",
      "model_module_version": "1.5.0",
      "model_name": "LabelModel",
      "state": {
       "layout": "IPY_MODEL_c18247f0200041cbbc6a80eb776be3a1",
       "style": "IPY_MODEL_5b41c025c1b44743b37104861f40ecd2"
      }
     },
     "4cfb1ad334a947e881aaf2b551dc2508": {
      "model_module": "@jupyter-widgets/base",
      "model_module_version": "1.2.0",
      "model_name": "LayoutModel",
      "state": {
       "width": "1000px"
      }
     },
     "4cfbf730b7de450591df2a44d412bfc6": {
      "model_module": "@jupyter-widgets/controls",
      "model_module_version": "1.5.0",
      "model_name": "DescriptionStyleModel",
      "state": {
       "description_width": ""
      }
     },
     "4d245a8f29c14093bb562ef9cd7c4944": {
      "model_module": "@jupyter-widgets/base",
      "model_module_version": "1.2.0",
      "model_name": "LayoutModel",
      "state": {
       "width": "30px"
      }
     },
     "4d524959d0b7443fb54f3d8a6ac602db": {
      "model_module": "@jupyter-widgets/base",
      "model_module_version": "1.2.0",
      "model_name": "LayoutModel",
      "state": {
       "grid_area": "header"
      }
     },
     "4d6d56d0e543420c90e89e93bd677f12": {
      "model_module": "@jupyter-widgets/base",
      "model_module_version": "1.2.0",
      "model_name": "LayoutModel",
      "state": {
       "border": "2px solid red"
      }
     },
     "4d88a595dcff410e81cd8eac51d8bd25": {
      "model_module": "@jupyter-widgets/controls",
      "model_module_version": "1.5.0",
      "model_name": "DescriptionStyleModel",
      "state": {
       "description_width": "initial"
      }
     },
     "4dfb861221294a41900a44f00f2ccb3e": {
      "model_module": "@jupyter-widgets/controls",
      "model_module_version": "1.5.0",
      "model_name": "TextModel",
      "state": {
       "layout": "IPY_MODEL_9214fd6b10a840318efdb3b8c725541c",
       "placeholder": "",
       "style": "IPY_MODEL_5b341f6bc46e4e0fb32672efab54d15b"
      }
     },
     "4e014ece5b0247c4a19434f7b842517d": {
      "model_module": "@jupyter-widgets/base",
      "model_module_version": "1.2.0",
      "model_name": "LayoutModel",
      "state": {
       "width": "1000px"
      }
     },
     "4e3ce4b14cd446abb6d0af912fe7410c": {
      "model_module": "@jupyter-widgets/controls",
      "model_module_version": "1.5.0",
      "model_name": "LabelModel",
      "state": {
       "layout": "IPY_MODEL_fbc612dc5b9d47be93fde0c496a1e840",
       "style": "IPY_MODEL_4b0e45cc21814eecbf969d49129c05bb"
      }
     },
     "4e437e8563764afa87f314bff911fb99": {
      "model_module": "@jupyter-widgets/base",
      "model_module_version": "1.2.0",
      "model_name": "LayoutModel",
      "state": {}
     },
     "4e4909f29e9f44dda08eef756e4b1375": {
      "model_module": "@jupyter-widgets/controls",
      "model_module_version": "1.5.0",
      "model_name": "LabelModel",
      "state": {
       "layout": "IPY_MODEL_3cbb453036ae4ed98b721c4aa8121ebd",
       "style": "IPY_MODEL_dd4dbdf3533a4a5498a9fc4e322bdb1b",
       "value": "$fib(2)$ is called $5$ times and $fib(1)$ is called $8$ times"
      }
     },
     "4e56fedb457c483a8d3fd76c703d3753": {
      "model_module": "@jupyter-widgets/base",
      "model_module_version": "1.2.0",
      "model_name": "LayoutModel",
      "state": {}
     },
     "4e5e1a92272a4fd8b03d1bcf37360a7e": {
      "model_module": "@jupyter-widgets/controls",
      "model_module_version": "1.5.0",
      "model_name": "LabelModel",
      "state": {
       "layout": "IPY_MODEL_009773d3dfee47f58ac035864ebc386c",
       "style": "IPY_MODEL_7fab52b0564148bc8d180e8216c9afa3",
       "value": "fib(n)"
      }
     },
     "4e87874388fd4731a84326a35dc85264": {
      "model_module": "@jupyter-widgets/controls",
      "model_module_version": "1.5.0",
      "model_name": "DescriptionStyleModel",
      "state": {
       "description_width": "initial"
      }
     },
     "4ea01bcf29594ab382424c28903d0458": {
      "model_module": "@jupyter-widgets/base",
      "model_module_version": "1.2.0",
      "model_name": "LayoutModel",
      "state": {
       "width": "30px"
      }
     },
     "4ebaf5867185487b96c1ff32d8086d7c": {
      "model_module": "@jupyter-widgets/controls",
      "model_module_version": "1.5.0",
      "model_name": "LabelModel",
      "state": {
       "layout": "IPY_MODEL_25d9767f10ce4ffca332be2e608d0154",
       "style": "IPY_MODEL_278964af7c714060b64a801e8a21c986"
      }
     },
     "4ed0157f34a54dab870143240a13ba11": {
      "model_module": "@jupyter-widgets/base",
      "model_module_version": "1.2.0",
      "model_name": "LayoutModel",
      "state": {
       "width": "1000px"
      }
     },
     "4ed207d6d50e4b529d60d75568223776": {
      "model_module": "@jupyter-widgets/controls",
      "model_module_version": "1.5.0",
      "model_name": "HBoxModel",
      "state": {
       "children": [
        "IPY_MODEL_d3a42bc93e4143af8c3c4836e06ad8d8",
        "IPY_MODEL_e70178839f244cbfa0a5ffad06f9ba83"
       ],
       "layout": "IPY_MODEL_363220da6e3143b7885ef253dc7b0617"
      }
     },
     "4ee03a1326bc406cbeced58ea9c74a96": {
      "model_module": "@jupyter-widgets/controls",
      "model_module_version": "1.5.0",
      "model_name": "LabelModel",
      "state": {
       "layout": "IPY_MODEL_137bd755898248adba757f3726754d28",
       "style": "IPY_MODEL_0793059ddeb4447f8471a605c1f4d6e6"
      }
     },
     "4f06a19d5fe04c86a92afda6d07f10c5": {
      "model_module": "@jupyter-widgets/controls",
      "model_module_version": "1.5.0",
      "model_name": "DescriptionStyleModel",
      "state": {
       "description_width": ""
      }
     },
     "4f0b83ae7e4842b78a1577e16523dca9": {
      "model_module": "@jupyter-widgets/base",
      "model_module_version": "1.2.0",
      "model_name": "LayoutModel",
      "state": {
       "grid_template_areas": "\"header header\"\n\"left-sidebar left-sidebar\"\n\"footer footer\"",
       "grid_template_columns": "1fr 1fr",
       "grid_template_rows": "1fr 3fr 1fr"
      }
     },
     "4f0bd1c163e747c8875d0e5aa567474d": {
      "model_module": "@jupyter-widgets/controls",
      "model_module_version": "1.5.0",
      "model_name": "DescriptionStyleModel",
      "state": {
       "description_width": ""
      }
     },
     "4f3abeb1b9964314bec1889e9b20bf4b": {
      "model_module": "@jupyter-widgets/base",
      "model_module_version": "1.2.0",
      "model_name": "LayoutModel",
      "state": {
       "width": "500px"
      }
     },
     "4f46c9349a4840d79fe1b7da225eefe8": {
      "model_module": "@jupyter-widgets/controls",
      "model_module_version": "1.5.0",
      "model_name": "DescriptionStyleModel",
      "state": {
       "description_width": "initial"
      }
     },
     "4f6a648735614b5dbabed4679507adad": {
      "model_module": "@jupyter-widgets/controls",
      "model_module_version": "1.5.0",
      "model_name": "CheckboxModel",
      "state": {
       "disabled": false,
       "layout": "IPY_MODEL_ac5779a9fa814593a371790c3a97f5ea",
       "style": "IPY_MODEL_bd997b493e65432199d72c547c970780",
       "value": false
      }
     },
     "4fb6822726a84e7ca97e74a832bd5d4e": {
      "model_module": "@jupyter-widgets/base",
      "model_module_version": "1.2.0",
      "model_name": "LayoutModel",
      "state": {
       "width": "30px"
      }
     },
     "4fbfe117b99c45ac826ed322dd0f7dc3": {
      "model_module": "@jupyter-widgets/controls",
      "model_module_version": "1.5.0",
      "model_name": "HBoxModel",
      "state": {
       "children": [
        "IPY_MODEL_06cf9c4507f7401da8fc6284f02778de",
        "IPY_MODEL_91137ba62b4d4cd58200af969eb93486"
       ],
       "layout": "IPY_MODEL_84d70bfe63d54bdf9b1fc52116d56deb"
      }
     },
     "502d401118f642adb902e3dada64c6fa": {
      "model_module": "@jupyter-widgets/base",
      "model_module_version": "1.2.0",
      "model_name": "LayoutModel",
      "state": {}
     },
     "5038faab7e0044fc9f1347fc1bacec64": {
      "model_module": "@jupyter-widgets/controls",
      "model_module_version": "1.5.0",
      "model_name": "CheckboxModel",
      "state": {
       "disabled": false,
       "layout": "IPY_MODEL_8cf8b7e7d1b34459b18235984f9df041",
       "style": "IPY_MODEL_03575882f67746cb9a579d2c8ef1b62f",
       "value": false
      }
     },
     "506cf3c5240143a2913cb3ca32425276": {
      "model_module": "@jupyter-widgets/controls",
      "model_module_version": "1.5.0",
      "model_name": "DescriptionStyleModel",
      "state": {
       "description_width": ""
      }
     },
     "508271c6ff2749fd9256131dc47c01b1": {
      "model_module": "@jupyter-widgets/controls",
      "model_module_version": "1.5.0",
      "model_name": "LabelModel",
      "state": {
       "layout": "IPY_MODEL_26d354d7e4e04209877306169f6713df",
       "style": "IPY_MODEL_62104f55a56f4bf2b7b7a25d845f1bc5",
       "value": ". . . . . . . Now you got it!"
      }
     },
     "5094b30ed848409fb920fd39396c168b": {
      "model_module": "@jupyter-widgets/base",
      "model_module_version": "1.2.0",
      "model_name": "LayoutModel",
      "state": {
       "width": "500px"
      }
     },
     "50b4832847c945ae9a62788cdb609cc6": {
      "model_module": "@jupyter-widgets/base",
      "model_module_version": "1.2.0",
      "model_name": "LayoutModel",
      "state": {
       "width": "30px"
      }
     },
     "50f1a597a4984510bd3465d69dd99958": {
      "model_module": "@jupyter-widgets/base",
      "model_module_version": "1.2.0",
      "model_name": "LayoutModel",
      "state": {}
     },
     "50fbc7233706472aa8376fff1569f6f5": {
      "model_module": "@jupyter-widgets/controls",
      "model_module_version": "1.5.0",
      "model_name": "ButtonStyleModel",
      "state": {
       "button_color": "lightgreen"
      }
     },
     "5108e17546db4da7b5de8135bae5ef01": {
      "model_module": "@jupyter-widgets/base",
      "model_module_version": "1.2.0",
      "model_name": "LayoutModel",
      "state": {}
     },
     "5109f27d419c4ae8929a4780a40381ec": {
      "model_module": "@jupyter-widgets/base",
      "model_module_version": "1.2.0",
      "model_name": "LayoutModel",
      "state": {}
     },
     "512d89b6986b45ae882caba9b6e01064": {
      "model_module": "@jupyter-widgets/controls",
      "model_module_version": "1.5.0",
      "model_name": "HBoxModel",
      "state": {
       "children": [
        "IPY_MODEL_e6f1370ffb8147f2af2dc7c0cc92466f",
        "IPY_MODEL_32f8c32d49b74432a01cc8d8ca96b6ac"
       ],
       "layout": "IPY_MODEL_2f7f0b8b3b4f476c94abd3d19df4e350"
      }
     },
     "513c3f2e7326481e9f1cd2cde65cea5b": {
      "model_module": "@jupyter-widgets/base",
      "model_module_version": "1.2.0",
      "model_name": "LayoutModel",
      "state": {}
     },
     "5149724caae14cf2a2cbe2124e505c58": {
      "model_module": "@jupyter-widgets/controls",
      "model_module_version": "1.5.0",
      "model_name": "DescriptionStyleModel",
      "state": {
       "description_width": "initial"
      }
     },
     "514c090d2e724294aae80463fec48ea8": {
      "model_module": "@jupyter-widgets/controls",
      "model_module_version": "1.5.0",
      "model_name": "DescriptionStyleModel",
      "state": {
       "description_width": "initial"
      }
     },
     "514f99aebe464ffdab54d5650bfa2359": {
      "model_module": "@jupyter-widgets/base",
      "model_module_version": "1.2.0",
      "model_name": "LayoutModel",
      "state": {}
     },
     "518cb53f14b3457db17ca690e5bb17ee": {
      "model_module": "@jupyter-widgets/base",
      "model_module_version": "1.2.0",
      "model_name": "LayoutModel",
      "state": {}
     },
     "51d7d796e92c4ba4a15724ce43d6f208": {
      "model_module": "@jupyter-widgets/controls",
      "model_module_version": "1.5.0",
      "model_name": "GridBoxModel",
      "state": {
       "box_style": "info",
       "children": [
        "IPY_MODEL_b7ad551e517e4029832712fd7f226bb3",
        "IPY_MODEL_a3464ce1a1b340b5bfe5624930672bf8",
        "IPY_MODEL_707d1a89d8d14e51abfaa79ae28fe929"
       ],
       "layout": "IPY_MODEL_5224cd28b1a0420393e901c20ed3bd46"
      }
     },
     "520a9ae26ee2475798cc534b4db75af4": {
      "model_module": "@jupyter-widgets/controls",
      "model_module_version": "1.5.0",
      "model_name": "LabelModel",
      "state": {
       "layout": "IPY_MODEL_654fe72bf62e425cb1c22a1fb0a7f0c5",
       "style": "IPY_MODEL_c38cfe5edac048f3b7aac34fbd9be28d"
      }
     },
     "5224cd28b1a0420393e901c20ed3bd46": {
      "model_module": "@jupyter-widgets/base",
      "model_module_version": "1.2.0",
      "model_name": "LayoutModel",
      "state": {
       "grid_template_areas": "\"header header\"\n\"left-sidebar left-sidebar\"\n\"footer footer\"",
       "grid_template_columns": "1fr 1fr",
       "grid_template_rows": "1fr 3fr 1fr"
      }
     },
     "523855c6fc1a498392d753ac688a8772": {
      "model_module": "@jupyter-widgets/controls",
      "model_module_version": "1.5.0",
      "model_name": "HBoxModel",
      "state": {
       "children": [
        "IPY_MODEL_7e0e2a3d1e1549cab01c85dea550f3dc",
        "IPY_MODEL_f3c30c9870234337b58f4b67ba4beba4"
       ],
       "layout": "IPY_MODEL_44aa04e1ec4e4211a23c0574923cb1fc"
      }
     },
     "52520efe3b8644eea0c9ad261b467133": {
      "model_module": "@jupyter-widgets/controls",
      "model_module_version": "1.5.0",
      "model_name": "CheckboxModel",
      "state": {
       "disabled": false,
       "layout": "IPY_MODEL_4ace2542bbda44b59296cad54322ca54",
       "style": "IPY_MODEL_2f9c3ff6b2294f8185aa3eaf1011c503",
       "value": false
      }
     },
     "5277079ce5ba40b59d7f403d2088549f": {
      "model_module": "@jupyter-widgets/controls",
      "model_module_version": "1.5.0",
      "model_name": "DescriptionStyleModel",
      "state": {
       "description_width": ""
      }
     },
     "5277f661a3ef47f194ebc7714538096b": {
      "model_module": "@jupyter-widgets/controls",
      "model_module_version": "1.5.0",
      "model_name": "DescriptionStyleModel",
      "state": {
       "description_width": ""
      }
     },
     "528b997860cf4338a834a6ef643e4335": {
      "model_module": "@jupyter-widgets/controls",
      "model_module_version": "1.5.0",
      "model_name": "LabelModel",
      "state": {
       "layout": "IPY_MODEL_be476ef795f2481fa94d145a932aa133",
       "style": "IPY_MODEL_8aa3bddee27d4f12a38d3b018c3af335",
       "value": "$fib(2)$ is called $8$ times and $fib(1)$ is called $13$ times"
      }
     },
     "528f59d9f75c497b8069076ea17c1b16": {
      "model_module": "@jupyter-widgets/controls",
      "model_module_version": "1.5.0",
      "model_name": "LabelModel",
      "state": {
       "layout": "IPY_MODEL_4a9e3b63d97a45898ba402471953722a",
       "style": "IPY_MODEL_31fe2edf92914362b76ad345590064e2"
      }
     },
     "52eb89d264604e4685cbec6bed1cf052": {
      "model_module": "@jupyter-widgets/base",
      "model_module_version": "1.2.0",
      "model_name": "LayoutModel",
      "state": {}
     },
     "530e51ad9e6f4a54b898cd602a952097": {
      "model_module": "@jupyter-widgets/controls",
      "model_module_version": "1.5.0",
      "model_name": "HBoxModel",
      "state": {
       "children": [
        "IPY_MODEL_1f6b29cb7a5f4b278d348a9f686671ab",
        "IPY_MODEL_b4b3fabb96a244e3a9e3b009c0d2888b"
       ],
       "layout": "IPY_MODEL_0121871f927440b99b8c0050bd72acf3"
      }
     },
     "531711fe012040d097a215dfad2689cf": {
      "model_module": "@jupyter-widgets/base",
      "model_module_version": "1.2.0",
      "model_name": "LayoutModel",
      "state": {}
     },
     "538f2c1fecbd4cce8eb7704f62aae341": {
      "model_module": "@jupyter-widgets/base",
      "model_module_version": "1.2.0",
      "model_name": "LayoutModel",
      "state": {
       "width": "30px"
      }
     },
     "53c4e83f1e4f436ebb12dae3d4d6595c": {
      "model_module": "@jupyter-widgets/controls",
      "model_module_version": "1.5.0",
      "model_name": "HBoxModel",
      "state": {
       "children": [
        "IPY_MODEL_703ff00025684b4995e58bfc3d63bcc4"
       ],
       "layout": "IPY_MODEL_18e5db40e7b541c9a288fc9348d82fd1"
      }
     },
     "53c713f700bc4432929bdd11f3e3f341": {
      "model_module": "@jupyter-widgets/base",
      "model_module_version": "1.2.0",
      "model_name": "LayoutModel",
      "state": {}
     },
     "53f474e3866448969f6ea20059ae8e5a": {
      "model_module": "@jupyter-widgets/controls",
      "model_module_version": "1.5.0",
      "model_name": "LabelModel",
      "state": {
       "layout": "IPY_MODEL_30deb00962ee4bb0bf20e4df8b5d05b5",
       "style": "IPY_MODEL_5d290689a4e24b52b90132590bb7ca12"
      }
     },
     "53fea0ba64f64a2dbff98bc289e31dbd": {
      "model_module": "@jupyter-widgets/base",
      "model_module_version": "1.2.0",
      "model_name": "LayoutModel",
      "state": {
       "grid_template_areas": "\"header header\"\n\"left-sidebar left-sidebar\"\n\"footer footer\"",
       "grid_template_columns": "1fr 1fr",
       "grid_template_rows": "1fr 3fr 1fr"
      }
     },
     "540a2bca206446d68e52a4f0b457475c": {
      "model_module": "@jupyter-widgets/base",
      "model_module_version": "1.2.0",
      "model_name": "LayoutModel",
      "state": {
       "border": "2px solid red"
      }
     },
     "545a59e7dcd04dada07d1a9d48ff2061": {
      "model_module": "@jupyter-widgets/controls",
      "model_module_version": "1.5.0",
      "model_name": "DescriptionStyleModel",
      "state": {
       "description_width": ""
      }
     },
     "547e7db0c66f46d3b5fb95c9b33386db": {
      "model_module": "@jupyter-widgets/base",
      "model_module_version": "1.2.0",
      "model_name": "LayoutModel",
      "state": {}
     },
     "54ba5cd0fffb4c7c92086c3623fd6b1c": {
      "model_module": "@jupyter-widgets/controls",
      "model_module_version": "1.5.0",
      "model_name": "LabelModel",
      "state": {
       "layout": "IPY_MODEL_9afeefc8f1e94112b288004ca8dc51c2",
       "style": "IPY_MODEL_362c177bcacd4d25a3f1fdfe14236fe7",
       "value": "Given k between 0 and n - 3, how many nodes of type fib(n - k) does the call stack tree of fib(n) have?"
      }
     },
     "54ca46113ad84bd080f34ece055ed544": {
      "model_module": "@jupyter-widgets/controls",
      "model_module_version": "1.5.0",
      "model_name": "HBoxModel",
      "state": {
       "box_style": "info",
       "children": [
        "IPY_MODEL_8aa9465fbffb44d68fdc0fe8521ab05f",
        "IPY_MODEL_f7fd4d432e214779af4b1113b4474fde"
       ],
       "layout": "IPY_MODEL_2028a088db7a45e8aead5fe716e57ca8"
      }
     },
     "54e2e89ac34c49648a243e858e517168": {
      "model_module": "@jupyter-widgets/base",
      "model_module_version": "1.2.0",
      "model_name": "LayoutModel",
      "state": {}
     },
     "550c3161e27e409e94fa6130e02859ae": {
      "model_module": "@jupyter-widgets/controls",
      "model_module_version": "1.5.0",
      "model_name": "HBoxModel",
      "state": {
       "children": [
        "IPY_MODEL_8ff71528a99c493fbb984db3a3845ecf",
        "IPY_MODEL_8a9340ff7cc8406d9a03f45d48dcea5a"
       ],
       "layout": "IPY_MODEL_05bb879f4966431ca8f6a6c631e69e49"
      }
     },
     "5535268f4f034390b22d5b084bc2a2e6": {
      "model_module": "@jupyter-widgets/base",
      "model_module_version": "1.2.0",
      "model_name": "LayoutModel",
      "state": {
       "width": "100px"
      }
     },
     "554a53f379b942cdae85a90a44956ba1": {
      "model_module": "@jupyter-widgets/controls",
      "model_module_version": "1.5.0",
      "model_name": "HBoxModel",
      "state": {
       "children": [
        "IPY_MODEL_dadd613e7d9a430aa81e08a1f5d66700",
        "IPY_MODEL_8de798b5af994593939a900fc523e421"
       ],
       "layout": "IPY_MODEL_903b9b533482421184aceb1becae6dae"
      }
     },
     "554c2d0537f84659a48fd128f4c37320": {
      "model_module": "@jupyter-widgets/base",
      "model_module_version": "1.2.0",
      "model_name": "LayoutModel",
      "state": {}
     },
     "55731aa0700e4e8993c81e6ffd1d5e0c": {
      "model_module": "@jupyter-widgets/controls",
      "model_module_version": "1.5.0",
      "model_name": "ButtonStyleModel",
      "state": {
       "button_color": "lightgreen"
      }
     },
     "558822ccd6d14f378b5ad5710e8f6a3b": {
      "model_module": "@jupyter-widgets/base",
      "model_module_version": "1.2.0",
      "model_name": "LayoutModel",
      "state": {
       "grid_area": "left-sidebar"
      }
     },
     "558a36744d5d402086c1d1cf98fd1dfb": {
      "model_module": "@jupyter-widgets/controls",
      "model_module_version": "1.5.0",
      "model_name": "ButtonStyleModel",
      "state": {
       "button_color": "lightblue"
      }
     },
     "558a8d6e5ba3487fbe82069ce5009d8d": {
      "model_module": "@jupyter-widgets/base",
      "model_module_version": "1.2.0",
      "model_name": "LayoutModel",
      "state": {
       "width": "1000px"
      }
     },
     "5594140c15ab4dd0a47264bc4b889689": {
      "model_module": "@jupyter-widgets/controls",
      "model_module_version": "1.5.0",
      "model_name": "HBoxModel",
      "state": {
       "children": [
        "IPY_MODEL_3de6cbf533904d7c8aafc7b2dbc54715",
        "IPY_MODEL_7316710c83da4850b419e6f5f4839f1d"
       ],
       "layout": "IPY_MODEL_76bf7571c52f45d9a8adfc7fd227dd49"
      }
     },
     "562849fb55134789bfdd1d6051fba64c": {
      "model_module": "@jupyter-widgets/controls",
      "model_module_version": "1.5.0",
      "model_name": "HBoxModel",
      "state": {
       "children": [
        "IPY_MODEL_f65bb735a5754cafa74f07457c6e9531",
        "IPY_MODEL_a84ba730b2fa4ce7bb395c84b9fe2d88"
       ],
       "layout": "IPY_MODEL_4e437e8563764afa87f314bff911fb99"
      }
     },
     "564510ea92ce4e35acb69a1a3814fe06": {
      "model_module": "@jupyter-widgets/base",
      "model_module_version": "1.2.0",
      "model_name": "LayoutModel",
      "state": {}
     },
     "567269af7d8d4dcf96a161919eaa5888": {
      "model_module": "@jupyter-widgets/base",
      "model_module_version": "1.2.0",
      "model_name": "LayoutModel",
      "state": {
       "width": "1000px"
      }
     },
     "567a13c8e4a84c2ca4d2dad9e68f67e8": {
      "model_module": "@jupyter-widgets/controls",
      "model_module_version": "1.5.0",
      "model_name": "LabelModel",
      "state": {
       "layout": "IPY_MODEL_143cc2d295484f6caac49fa9aeac832a",
       "style": "IPY_MODEL_1d0a396882314e7195d8a4bafcaa68ff",
       "value": "Given k between 0 and n - 3, how many nodes of type fib(n - k) does the call stack tree of fib(n) have?"
      }
     },
     "567cd6b65c5744e1b2e4edc1acd71e50": {
      "model_module": "@jupyter-widgets/controls",
      "model_module_version": "1.5.0",
      "model_name": "LabelModel",
      "state": {
       "layout": "IPY_MODEL_fac4d438d78946c0ba235efee1ef5756",
       "style": "IPY_MODEL_15e77664334343c5971b5c9aa89ea034"
      }
     },
     "567f63efc0fa44ea9424febe263fef03": {
      "model_module": "@jupyter-widgets/controls",
      "model_module_version": "1.5.0",
      "model_name": "LabelModel",
      "state": {
       "layout": "IPY_MODEL_5d8300dbad5647b19127eb2b482f6428",
       "style": "IPY_MODEL_b65b34870319422e98c936fc3f6bbd7f",
       "value": "times, "
      }
     },
     "568b1c8920c447059956c9aa551362dd": {
      "model_module": "@jupyter-widgets/base",
      "model_module_version": "1.2.0",
      "model_name": "LayoutModel",
      "state": {
       "grid_area": "header"
      }
     },
     "568f52b52f43485195a772e8f143b760": {
      "model_module": "@jupyter-widgets/controls",
      "model_module_version": "1.5.0",
      "model_name": "HBoxModel",
      "state": {
       "children": [
        "IPY_MODEL_b7c746352ede4092bc0505d70d8b9f30",
        "IPY_MODEL_d13840284d6b4b3a9ce0f40ff221c43d"
       ],
       "layout": "IPY_MODEL_554c2d0537f84659a48fd128f4c37320"
      }
     },
     "5692de38ca8a40dbbc8f0bb3edd4a093": {
      "model_module": "@jupyter-widgets/base",
      "model_module_version": "1.2.0",
      "model_name": "LayoutModel",
      "state": {
       "width": "30px"
      }
     },
     "569749cc52b34ac2b67284778fb962b4": {
      "model_module": "@jupyter-widgets/controls",
      "model_module_version": "1.5.0",
      "model_name": "DescriptionStyleModel",
      "state": {
       "description_width": ""
      }
     },
     "57581fe56ccb4abc9cd8eb309cbd8ac9": {
      "model_module": "@jupyter-widgets/controls",
      "model_module_version": "1.5.0",
      "model_name": "LabelModel",
      "state": {
       "layout": "IPY_MODEL_d46cd6969ea04074b15bc54ca7031373",
       "style": "IPY_MODEL_e436089eef7d42a8928cff251dd16c3f"
      }
     },
     "57a486f4279941abbbb211b4db4cf268": {
      "model_module": "@jupyter-widgets/controls",
      "model_module_version": "1.5.0",
      "model_name": "DescriptionStyleModel",
      "state": {
       "description_width": ""
      }
     },
     "57b8573212f24ccc8621d97f5d98d1bc": {
      "model_module": "@jupyter-widgets/controls",
      "model_module_version": "1.5.0",
      "model_name": "LabelModel",
      "state": {
       "layout": "IPY_MODEL_49dda9e3e1fe4adf8945516563f49350",
       "style": "IPY_MODEL_6c132133f89c4c0aba0a58ed2ba31a02"
      }
     },
     "57bc662d982147b39ab054dc9186a875": {
      "model_module": "@jupyter-widgets/base",
      "model_module_version": "1.2.0",
      "model_name": "LayoutModel",
      "state": {
       "width": "30px"
      }
     },
     "57c0d2dceb8f4c8bb7abaf37f5d9e767": {
      "model_module": "@jupyter-widgets/controls",
      "model_module_version": "1.5.0",
      "model_name": "GridBoxModel",
      "state": {
       "children": [
        "IPY_MODEL_4c56c9207a714f9cb77ee3a7589b915c",
        "IPY_MODEL_04b1fe78e43d4331aa00383921c15442",
        "IPY_MODEL_1ac03fbd68d948078d9c11a431d61f73"
       ],
       "layout": "IPY_MODEL_ecfd49d765f24b0ca57a0da6b6cbd89d"
      }
     },
     "57e66eb39f52408db7d79b484cf53f35": {
      "model_module": "@jupyter-widgets/controls",
      "model_module_version": "1.5.0",
      "model_name": "LabelModel",
      "state": {
       "layout": "IPY_MODEL_2c21c144f8aa4695b529a26909706662",
       "style": "IPY_MODEL_66cb5ee16e2b437da4b69c0eba608433",
       "value": "How many inner nodes does the call tree of fib(n) have?"
      }
     },
     "5825170c454a44b7a60868505c242388": {
      "model_module": "@jupyter-widgets/controls",
      "model_module_version": "1.5.0",
      "model_name": "ButtonModel",
      "state": {
       "description": "Submit",
       "layout": "IPY_MODEL_f4063f23bbc94eb6bf29be56fe0b2785",
       "style": "IPY_MODEL_8bc23421616c4de1b75c4dc3923c1907"
      }
     },
     "5850f2d502a84138b2807ec9addb1c78": {
      "model_module": "@jupyter-widgets/controls",
      "model_module_version": "1.5.0",
      "model_name": "HBoxModel",
      "state": {
       "children": [
        "IPY_MODEL_776ce56b73d644c1a3381470e3cf82a7",
        "IPY_MODEL_337762a78cd34e8f91de15d723d0c140"
       ],
       "layout": "IPY_MODEL_0dae5f4a4355447ab7d0c086b4556d38"
      }
     },
     "585ca937b6944cbb9100ae619a7f19d0": {
      "model_module": "@jupyter-widgets/controls",
      "model_module_version": "1.5.0",
      "model_name": "DescriptionStyleModel",
      "state": {
       "description_width": ""
      }
     },
     "58633b6635a247768bb45581fe9e6cfd": {
      "model_module": "@jupyter-widgets/controls",
      "model_module_version": "1.5.0",
      "model_name": "HBoxModel",
      "state": {
       "children": [
        "IPY_MODEL_b260bf8fd3274c7eb8f9ff1ba1da8a14",
        "IPY_MODEL_d03427503cb6482db64ecde26cbe5665"
       ],
       "layout": "IPY_MODEL_d53ad6be74f344afa59b60ab483df7e3"
      }
     },
     "5868838d2fd241f1b3b566576f2d3b64": {
      "model_module": "@jupyter-widgets/controls",
      "model_module_version": "1.5.0",
      "model_name": "DescriptionStyleModel",
      "state": {
       "description_width": "initial"
      }
     },
     "58a4ee4b61764ec88d167df9c85a7280": {
      "model_module": "@jupyter-widgets/controls",
      "model_module_version": "1.5.0",
      "model_name": "ButtonModel",
      "state": {
       "description": "Submit",
       "layout": "IPY_MODEL_7baf60a375e44c089b309370f63f0091",
       "style": "IPY_MODEL_aee4cfefc0c9486e93657474c7b911fc"
      }
     },
     "58c23fbf8bd14521a8060e203d9d9682": {
      "model_module": "@jupyter-widgets/controls",
      "model_module_version": "1.5.0",
      "model_name": "LabelModel",
      "state": {
       "layout": "IPY_MODEL_972e89fe62b941f7aa80e9338e1ac664",
       "style": "IPY_MODEL_f7949a0d6bd94786874b43f3f1dd4fb2",
       "value": "How many inner nodes does the call tree of fib(n) have?"
      }
     },
     "58ecbb59c58c4d46b61e06f578d3e017": {
      "model_module": "@jupyter-widgets/base",
      "model_module_version": "1.2.0",
      "model_name": "LayoutModel",
      "state": {
       "width": "1000px"
      }
     },
     "58f2f9ccd831420dab1e6ba45440544c": {
      "model_module": "@jupyter-widgets/base",
      "model_module_version": "1.2.0",
      "model_name": "LayoutModel",
      "state": {}
     },
     "58fabaa8422a4d92910defda7420df2d": {
      "model_module": "@jupyter-widgets/controls",
      "model_module_version": "1.5.0",
      "model_name": "DescriptionStyleModel",
      "state": {
       "description_width": ""
      }
     },
     "591f9e409e204dbba1da55bbfc9e83c1": {
      "model_module": "@jupyter-widgets/base",
      "model_module_version": "1.2.0",
      "model_name": "LayoutModel",
      "state": {}
     },
     "592d7e514abf4862be210609b4f444ca": {
      "model_module": "@jupyter-widgets/controls",
      "model_module_version": "1.5.0",
      "model_name": "DescriptionStyleModel",
      "state": {
       "description_width": ""
      }
     },
     "5932526987ba40908750e6907e45c407": {
      "model_module": "@jupyter-widgets/base",
      "model_module_version": "1.2.0",
      "model_name": "LayoutModel",
      "state": {
       "width": "1000px"
      }
     },
     "59d94204975a42138be5d8d35a2518cf": {
      "model_module": "@jupyter-widgets/controls",
      "model_module_version": "1.5.0",
      "model_name": "LabelModel",
      "state": {
       "layout": "IPY_MODEL_45c9bba24b5e4a19b1573bfa41683cda",
       "style": "IPY_MODEL_d55073843b404654be301999655fdad7"
      }
     },
     "59eb8ec1912e4d998b4d95a2490b0308": {
      "model_module": "@jupyter-widgets/controls",
      "model_module_version": "1.5.0",
      "model_name": "CheckboxModel",
      "state": {
       "disabled": false,
       "layout": "IPY_MODEL_819dc75580c74225abecc70eba5c420c",
       "style": "IPY_MODEL_4103401586214d26beac320df54ce512",
       "value": false
      }
     },
     "59ef3ed5e2524804a36a418b87797ffd": {
      "model_module": "@jupyter-widgets/base",
      "model_module_version": "1.2.0",
      "model_name": "LayoutModel",
      "state": {
       "width": "1000px"
      }
     },
     "59f530b4b3174b38973cab2b813bcaf3": {
      "model_module": "@jupyter-widgets/controls",
      "model_module_version": "1.5.0",
      "model_name": "LabelModel",
      "state": {
       "layout": "IPY_MODEL_d442c70fd7d246efbf33be0ce0dc70e7",
       "style": "IPY_MODEL_00121eb520814798849c5b32bbcf4512"
      }
     },
     "5a3b734ca7a24e78bf1cae003e8229c3": {
      "model_module": "@jupyter-widgets/base",
      "model_module_version": "1.2.0",
      "model_name": "LayoutModel",
      "state": {}
     },
     "5a862553abc9438c8887ec8a3a124b0b": {
      "model_module": "@jupyter-widgets/base",
      "model_module_version": "1.2.0",
      "model_name": "LayoutModel",
      "state": {
       "grid_area": "footer"
      }
     },
     "5aabafbf9a514c72a64c931efe887cf9": {
      "model_module": "@jupyter-widgets/controls",
      "model_module_version": "1.5.0",
      "model_name": "LabelModel",
      "state": {
       "layout": "IPY_MODEL_b6bf4b004852498eb64162d47df057ff",
       "style": "IPY_MODEL_ce6afed091d940309e20276f5d3dde43",
       "value": "$fib (n - 1) + fib (n - 2)$"
      }
     },
     "5b0b8632956f4671b0acfb1e01e4113b": {
      "model_module": "@jupyter-widgets/controls",
      "model_module_version": "1.5.0",
      "model_name": "ButtonModel",
      "state": {
       "description": "Submit",
       "disabled": true,
       "layout": "IPY_MODEL_3f4f3dd6052c4302939a8ff127e491db",
       "style": "IPY_MODEL_4003c88b6d6e4d058741d0277219f696"
      }
     },
     "5b0e610766f247da9dcd5ef96e333cc0": {
      "model_module": "@jupyter-widgets/controls",
      "model_module_version": "1.5.0",
      "model_name": "LabelModel",
      "state": {
       "layout": "IPY_MODEL_68663342683044d4af1acf2fac753fa4",
       "style": "IPY_MODEL_57a486f4279941abbbb211b4db4cf268"
      }
     },
     "5b2c55866a094c5e87b50ddc5fb537fc": {
      "model_module": "@jupyter-widgets/base",
      "model_module_version": "1.2.0",
      "model_name": "LayoutModel",
      "state": {}
     },
     "5b341f6bc46e4e0fb32672efab54d15b": {
      "model_module": "@jupyter-widgets/controls",
      "model_module_version": "1.5.0",
      "model_name": "DescriptionStyleModel",
      "state": {
       "description_width": ""
      }
     },
     "5b3c8052393944ccb874c9c8870358e1": {
      "model_module": "@jupyter-widgets/base",
      "model_module_version": "1.2.0",
      "model_name": "LayoutModel",
      "state": {
       "width": "1000px"
      }
     },
     "5b41c025c1b44743b37104861f40ecd2": {
      "model_module": "@jupyter-widgets/controls",
      "model_module_version": "1.5.0",
      "model_name": "DescriptionStyleModel",
      "state": {
       "description_width": ""
      }
     },
     "5b6ed66efc3f483084230bc8a0d102fa": {
      "model_module": "@jupyter-widgets/controls",
      "model_module_version": "1.5.0",
      "model_name": "DescriptionStyleModel",
      "state": {
       "description_width": "initial"
      }
     },
     "5b713bb2defd467cac57c17d2f452efc": {
      "model_module": "@jupyter-widgets/controls",
      "model_module_version": "1.5.0",
      "model_name": "HBoxModel",
      "state": {
       "children": [
        "IPY_MODEL_aa98792b6fe34d39a07697a61ff7b390",
        "IPY_MODEL_644b5642610442cfbac06fd3d333bc1c"
       ],
       "layout": "IPY_MODEL_2c9ae642d1d141c39d4b7092c2a45b2a"
      }
     },
     "5b801c3bd7f94ca3812386a741ed7aef": {
      "model_module": "@jupyter-widgets/base",
      "model_module_version": "1.2.0",
      "model_name": "LayoutModel",
      "state": {}
     },
     "5b9260e7be38460eaf51fe8851798e49": {
      "model_module": "@jupyter-widgets/controls",
      "model_module_version": "1.5.0",
      "model_name": "DescriptionStyleModel",
      "state": {
       "description_width": ""
      }
     },
     "5c3ea57dd241415b9b4ca1333eb95315": {
      "model_module": "@jupyter-widgets/controls",
      "model_module_version": "1.5.0",
      "model_name": "DescriptionStyleModel",
      "state": {
       "description_width": "initial"
      }
     },
     "5cdec92b73d849849c6f2c0b428f4232": {
      "model_module": "@jupyter-widgets/controls",
      "model_module_version": "1.5.0",
      "model_name": "HBoxModel",
      "state": {
       "box_style": "info",
       "children": [
        "IPY_MODEL_bcebd3da106d40c9998711e967d4c413",
        "IPY_MODEL_88cc7566dab34f47aba58d6461863151"
       ],
       "layout": "IPY_MODEL_3a1732fcce044a7abdf5203386152e3c"
      }
     },
     "5cdefb43aec64da5aa52d74e29595e6d": {
      "model_module": "@jupyter-widgets/base",
      "model_module_version": "1.2.0",
      "model_name": "LayoutModel",
      "state": {}
     },
     "5cfb34c70f884736b4edeb7b8fe9d929": {
      "model_module": "@jupyter-widgets/controls",
      "model_module_version": "1.5.0",
      "model_name": "HBoxModel",
      "state": {
       "children": [
        "IPY_MODEL_1178d79c073a4f7a9bda260829571cd0",
        "IPY_MODEL_e34a6d645c6c470d919f090f6ced2806"
       ],
       "layout": "IPY_MODEL_f535f808006b45a382aea2e0fa46b2d1"
      }
     },
     "5d0a6cb9f24e4e13a338bdfb721b4abb": {
      "model_module": "@jupyter-widgets/controls",
      "model_module_version": "1.5.0",
      "model_name": "CheckboxModel",
      "state": {
       "disabled": true,
       "layout": "IPY_MODEL_796d21ed56694453af9cdd3ec6f9af0d",
       "style": "IPY_MODEL_6ad3386431d64a8e8b9f110ed49feb7a",
       "value": true
      }
     },
     "5d290689a4e24b52b90132590bb7ca12": {
      "model_module": "@jupyter-widgets/controls",
      "model_module_version": "1.5.0",
      "model_name": "DescriptionStyleModel",
      "state": {
       "description_width": ""
      }
     },
     "5d2e59329a2f4bc985320e20bf24e049": {
      "model_module": "@jupyter-widgets/controls",
      "model_module_version": "1.5.0",
      "model_name": "DescriptionStyleModel",
      "state": {
       "description_width": ""
      }
     },
     "5d2ee236b40441b589aba23701b7df6e": {
      "model_module": "@jupyter-widgets/controls",
      "model_module_version": "1.5.0",
      "model_name": "DescriptionStyleModel",
      "state": {
       "description_width": ""
      }
     },
     "5d32bf21587c44f887403c326afec28d": {
      "model_module": "@jupyter-widgets/controls",
      "model_module_version": "1.5.0",
      "model_name": "LabelModel",
      "state": {
       "layout": "IPY_MODEL_2ee58d4a2f01447a9c6cee32fda87a1a",
       "style": "IPY_MODEL_aad0959a7995478f920edf213e083bd4"
      }
     },
     "5d8300dbad5647b19127eb2b482f6428": {
      "model_module": "@jupyter-widgets/base",
      "model_module_version": "1.2.0",
      "model_name": "LayoutModel",
      "state": {
       "width": "auto"
      }
     },
     "5d89b732e3564b309d75b7741e6f4ab2": {
      "model_module": "@jupyter-widgets/controls",
      "model_module_version": "1.5.0",
      "model_name": "DescriptionStyleModel",
      "state": {
       "description_width": ""
      }
     },
     "5d8c396948b54a85b2e90f31d698bf10": {
      "model_module": "@jupyter-widgets/base",
      "model_module_version": "1.2.0",
      "model_name": "LayoutModel",
      "state": {
       "width": "30px"
      }
     },
     "5d9cb3693fc64f478d1fa0d2bfa9186a": {
      "model_module": "@jupyter-widgets/controls",
      "model_module_version": "1.5.0",
      "model_name": "CheckboxModel",
      "state": {
       "disabled": false,
       "layout": "IPY_MODEL_2718b5a0dee742b6ac11f759523f9980",
       "style": "IPY_MODEL_4a37eb2e2b7144e4838635f7bbb374bc",
       "value": false
      }
     },
     "5dc2dab6f21845c69c057bf591f3851a": {
      "model_module": "@jupyter-widgets/controls",
      "model_module_version": "1.5.0",
      "model_name": "LabelModel",
      "state": {
       "layout": "IPY_MODEL_e5009e60b0c54589875140106b28f0b8",
       "style": "IPY_MODEL_943e1999734d473c8825af8cfac70a59"
      }
     },
     "5df1081a47cf45d9b6170cb3e9257053": {
      "model_module": "@jupyter-widgets/controls",
      "model_module_version": "1.5.0",
      "model_name": "LabelModel",
      "state": {
       "layout": "IPY_MODEL_f01f422dd1064a15b87a7466631a4014",
       "style": "IPY_MODEL_79f13fef119349029f99bdc070e5ed41"
      }
     },
     "5e2790df1cda4e28a56f1dfedd853cfb": {
      "model_module": "@jupyter-widgets/base",
      "model_module_version": "1.2.0",
      "model_name": "LayoutModel",
      "state": {}
     },
     "5e3ff8648a5945548b7abfccfe0e7241": {
      "model_module": "@jupyter-widgets/controls",
      "model_module_version": "1.5.0",
      "model_name": "DescriptionStyleModel",
      "state": {
       "description_width": ""
      }
     },
     "5e55bce2d5664f4eb1944e1625135106": {
      "model_module": "@jupyter-widgets/controls",
      "model_module_version": "1.5.0",
      "model_name": "HBoxModel",
      "state": {
       "children": [
        "IPY_MODEL_84e9a826cf5d42e1ac76a20ab8afe966",
        "IPY_MODEL_9760db9e26454fc28bf4013850f012b9"
       ],
       "layout": "IPY_MODEL_1e1d10c4fe1047268121bcee1082d40c"
      }
     },
     "5e64bdc910694fdcbbe71b94852ef3e8": {
      "model_module": "@jupyter-widgets/controls",
      "model_module_version": "1.5.0",
      "model_name": "DescriptionStyleModel",
      "state": {
       "description_width": "initial"
      }
     },
     "5e783bc0f97148b79ee708ff65d2e6f7": {
      "model_module": "@jupyter-widgets/base",
      "model_module_version": "1.2.0",
      "model_name": "LayoutModel",
      "state": {}
     },
     "5ea111f646c0493e86b8afd86aac969a": {
      "model_module": "@jupyter-widgets/base",
      "model_module_version": "1.2.0",
      "model_name": "LayoutModel",
      "state": {}
     },
     "5ebdd77372834a87abcb841569bf16a6": {
      "model_module": "@jupyter-widgets/base",
      "model_module_version": "1.2.0",
      "model_name": "LayoutModel",
      "state": {}
     },
     "5edbb28d550a4ffcb358fe32b97c8ab0": {
      "model_module": "@jupyter-widgets/base",
      "model_module_version": "1.2.0",
      "model_name": "LayoutModel",
      "state": {}
     },
     "5eec0b8095ca4f709fd8688bce4bb5ff": {
      "model_module": "@jupyter-widgets/controls",
      "model_module_version": "1.5.0",
      "model_name": "LabelModel",
      "state": {
       "layout": "IPY_MODEL_00a4416980404d109a082e2f12a04c6f",
       "style": "IPY_MODEL_8c8e7d86a2724d628c11b0fe80080b76",
       "value": "fib(n) - 1"
      }
     },
     "5f0bbbbc97e24ffba5d8cf075c038322": {
      "model_module": "@jupyter-widgets/controls",
      "model_module_version": "1.5.0",
      "model_name": "CheckboxModel",
      "state": {
       "disabled": false,
       "layout": "IPY_MODEL_d750ab07744b4c38aed602516494f90f",
       "style": "IPY_MODEL_322df0eb8dc84e15834c4ba955adaa91",
       "value": false
      }
     },
     "5f0f76fd29ed48e8aa4028f3de2d3564": {
      "model_module": "@jupyter-widgets/base",
      "model_module_version": "1.2.0",
      "model_name": "LayoutModel",
      "state": {
       "width": "1000px"
      }
     },
     "5f2c10d6d7694e9db9766ac6d9268957": {
      "model_module": "@jupyter-widgets/controls",
      "model_module_version": "1.5.0",
      "model_name": "ButtonStyleModel",
      "state": {
       "button_color": "lightblue"
      }
     },
     "5f3fa2570c2a4ec1991255aed4b40b9e": {
      "model_module": "@jupyter-widgets/controls",
      "model_module_version": "1.5.0",
      "model_name": "HBoxModel",
      "state": {
       "children": [
        "IPY_MODEL_c726fb10b6c244dd98c0a67ad632bda3",
        "IPY_MODEL_8afc7c5eef634179ba2ff7717b08cb60",
        "IPY_MODEL_b9761c61269f4809bbff6d20b53933bf"
       ],
       "layout": "IPY_MODEL_b486ecf2da3b4d79bb82a77abd19b708"
      }
     },
     "5f5c05a5d4144a37a9cc634f32a0de47": {
      "model_module": "@jupyter-widgets/controls",
      "model_module_version": "1.5.0",
      "model_name": "DescriptionStyleModel",
      "state": {
       "description_width": ""
      }
     },
     "5f84728c40384d3aa493e0ab0f1af73f": {
      "model_module": "@jupyter-widgets/base",
      "model_module_version": "1.2.0",
      "model_name": "LayoutModel",
      "state": {}
     },
     "5fc8380a9bc74128b6bcf095c4658295": {
      "model_module": "@jupyter-widgets/controls",
      "model_module_version": "1.5.0",
      "model_name": "DescriptionStyleModel",
      "state": {
       "description_width": ""
      }
     },
     "6006f7473980429b91178185278681be": {
      "model_module": "@jupyter-widgets/controls",
      "model_module_version": "1.5.0",
      "model_name": "DescriptionStyleModel",
      "state": {
       "description_width": "initial"
      }
     },
     "602323ce49944d44b2f689ee82a366e8": {
      "model_module": "@jupyter-widgets/base",
      "model_module_version": "1.2.0",
      "model_name": "LayoutModel",
      "state": {}
     },
     "60476148c7d34cdfa1b380beea7794b1": {
      "model_module": "@jupyter-widgets/base",
      "model_module_version": "1.2.0",
      "model_name": "LayoutModel",
      "state": {
       "width": "100px"
      }
     },
     "60546444824b417b9d3de1f78d1aeeb0": {
      "model_module": "@jupyter-widgets/controls",
      "model_module_version": "1.5.0",
      "model_name": "LabelModel",
      "state": {
       "layout": "IPY_MODEL_4cfb1ad334a947e881aaf2b551dc2508",
       "style": "IPY_MODEL_7b9e0e54d0d341218a9d330d97151136",
       "value": "fib(2) is called 8 times and fib(1) is called 5 times"
      }
     },
     "609bcab866974322b4d4792badac5d13": {
      "model_module": "@jupyter-widgets/base",
      "model_module_version": "1.2.0",
      "model_name": "LayoutModel",
      "state": {
       "width": "1000px"
      }
     },
     "609ec5ae418c4d8a9fbe691013e21f50": {
      "model_module": "@jupyter-widgets/controls",
      "model_module_version": "1.5.0",
      "model_name": "DescriptionStyleModel",
      "state": {
       "description_width": ""
      }
     },
     "60accf626a2f4043a35961071415c149": {
      "model_module": "@jupyter-widgets/controls",
      "model_module_version": "1.5.0",
      "model_name": "CheckboxModel",
      "state": {
       "disabled": false,
       "layout": "IPY_MODEL_4ea01bcf29594ab382424c28903d0458",
       "style": "IPY_MODEL_5e64bdc910694fdcbbe71b94852ef3e8",
       "value": false
      }
     },
     "60aefd8fc8cb456bba8ceab2a35040e7": {
      "model_module": "@jupyter-widgets/controls",
      "model_module_version": "1.5.0",
      "model_name": "CheckboxModel",
      "state": {
       "disabled": false,
       "layout": "IPY_MODEL_472497b3d36f4e0098e0ca282b9b67b9",
       "style": "IPY_MODEL_e830afafba76420bb6d5e26d4712964c",
       "value": false
      }
     },
     "60b2b557f3e74be687a6bffa628c3e32": {
      "model_module": "@jupyter-widgets/controls",
      "model_module_version": "1.5.0",
      "model_name": "VBoxModel",
      "state": {
       "box_style": "success",
       "children": [
        "IPY_MODEL_f4e77ca8910c43bf81ff4ce8a7ef3128",
        "IPY_MODEL_4fbfe117b99c45ac826ed322dd0f7dc3",
        "IPY_MODEL_d1c654fdd1514399a4ba7cc75e77ace6",
        "IPY_MODEL_a0c528a2b2af4264944c6380e8dc830c"
       ],
       "layout": "IPY_MODEL_29d8dd914a6b4780a4203cac867a5361"
      }
     },
     "60bfd9687d624287bb1c693422ec3ffd": {
      "model_module": "@jupyter-widgets/controls",
      "model_module_version": "1.5.0",
      "model_name": "DescriptionStyleModel",
      "state": {
       "description_width": ""
      }
     },
     "60c05ca2db3d4362b0a3cbc6491f6466": {
      "model_module": "@jupyter-widgets/controls",
      "model_module_version": "1.5.0",
      "model_name": "DescriptionStyleModel",
      "state": {
       "description_width": ""
      }
     },
     "60e6dd01a245447eab850ab445f3dcbd": {
      "model_module": "@jupyter-widgets/controls",
      "model_module_version": "1.5.0",
      "model_name": "DescriptionStyleModel",
      "state": {
       "description_width": "initial"
      }
     },
     "60e770cb04334b95a48181c540151b80": {
      "model_module": "@jupyter-widgets/controls",
      "model_module_version": "1.5.0",
      "model_name": "DescriptionStyleModel",
      "state": {
       "description_width": ""
      }
     },
     "60f8eb300ee541aa8e28611935e36e97": {
      "model_module": "@jupyter-widgets/base",
      "model_module_version": "1.2.0",
      "model_name": "LayoutModel",
      "state": {}
     },
     "61983db4c2dd48a8bbbfe1bcecf149c7": {
      "model_module": "@jupyter-widgets/controls",
      "model_module_version": "1.5.0",
      "model_name": "HBoxModel",
      "state": {
       "box_style": "success",
       "children": [
        "IPY_MODEL_a3f39f1216164c258db4f93dd4a8d819",
        "IPY_MODEL_508271c6ff2749fd9256131dc47c01b1"
       ],
       "layout": "IPY_MODEL_c0595f7ec7334bc6beb0f0cc8bf9d269"
      }
     },
     "62104f55a56f4bf2b7b7a25d845f1bc5": {
      "model_module": "@jupyter-widgets/controls",
      "model_module_version": "1.5.0",
      "model_name": "DescriptionStyleModel",
      "state": {
       "description_width": ""
      }
     },
     "62c2ad4b40c74c4084ddef941b0d13c5": {
      "model_module": "@jupyter-widgets/controls",
      "model_module_version": "1.5.0",
      "model_name": "CheckboxModel",
      "state": {
       "disabled": false,
       "layout": "IPY_MODEL_7d875278405b4cc28bf5879dc70459a5",
       "style": "IPY_MODEL_8250544300f74d7984299de799605889",
       "value": false
      }
     },
     "62d600ee5c6146708d52b68b0578f5c6": {
      "model_module": "@jupyter-widgets/controls",
      "model_module_version": "1.5.0",
      "model_name": "HBoxModel",
      "state": {
       "children": [
        "IPY_MODEL_ebccb026dc36483cb0d88a7eed62e92f",
        "IPY_MODEL_656946e36dd047b29b4f6af229bb9992"
       ],
       "layout": "IPY_MODEL_5b2c55866a094c5e87b50ddc5fb537fc"
      }
     },
     "62e5602207964271936e9df810d74fde": {
      "model_module": "@jupyter-widgets/base",
      "model_module_version": "1.2.0",
      "model_name": "LayoutModel",
      "state": {
       "width": "1000px"
      }
     },
     "62ee8523ada143f3bd7f35564e753877": {
      "model_module": "@jupyter-widgets/controls",
      "model_module_version": "1.5.0",
      "model_name": "LabelModel",
      "state": {
       "layout": "IPY_MODEL_325f46ffea8041e89c1a49d095070ca4",
       "style": "IPY_MODEL_3b938c4eab664f1a801be88b7ae182e1"
      }
     },
     "62f7958b10d3429aa514c6e6deeba27e": {
      "model_module": "@jupyter-widgets/controls",
      "model_module_version": "1.5.0",
      "model_name": "GridBoxModel",
      "state": {
       "box_style": "info",
       "children": [
        "IPY_MODEL_7570664a317c40b6a1916b4238f93185",
        "IPY_MODEL_e5cc635b7a704e3db9d39aa4e8714148",
        "IPY_MODEL_db482d26af804e98b5d362f444c42812"
       ],
       "layout": "IPY_MODEL_a3308ed46d6a448ea34c7ccf736b5231"
      }
     },
     "630a2b826ddd4884a7afd74e4050f6be": {
      "model_module": "@jupyter-widgets/controls",
      "model_module_version": "1.5.0",
      "model_name": "DescriptionStyleModel",
      "state": {
       "description_width": ""
      }
     },
     "633c3d0ac21b409e9a9872a1d843ebf2": {
      "model_module": "@jupyter-widgets/base",
      "model_module_version": "1.2.0",
      "model_name": "LayoutModel",
      "state": {}
     },
     "63477ee0af6f4045bc77f8ebc0d844bd": {
      "model_module": "@jupyter-widgets/controls",
      "model_module_version": "1.5.0",
      "model_name": "LabelModel",
      "state": {
       "layout": "IPY_MODEL_1d3fc95f210c4127a02c4d9e3758e50f",
       "style": "IPY_MODEL_efbab440a6aa4e0d84f8dcaa4412c795",
       "value": "fib(n) - 1 + fib(n - 2)"
      }
     },
     "636c75cdd50542daaaf2700e99619950": {
      "model_module": "@jupyter-widgets/base",
      "model_module_version": "1.2.0",
      "model_name": "LayoutModel",
      "state": {
       "grid_template_areas": "\"header header\"\n\"left-sidebar left-sidebar\"\n\"footer footer\"",
       "grid_template_columns": "1fr 1fr",
       "grid_template_rows": "1fr 3fr 1fr"
      }
     },
     "63ad8877a9ea42a5bcf01b5a1f8e0c73": {
      "model_module": "@jupyter-widgets/controls",
      "model_module_version": "1.5.0",
      "model_name": "LabelModel",
      "state": {
       "layout": "IPY_MODEL_ef3edee4f2c94e63971253b515777720",
       "style": "IPY_MODEL_90405aff98e44eb2a856ea131612bd5d",
       "value": "How many nodes of type fib(n - k) does the call stack tree of fib(n) have (when n > 2 and 0 <= k < n - 3)?"
      }
     },
     "63e55680f2fb4d918426ac6568f2c5b5": {
      "model_module": "@jupyter-widgets/controls",
      "model_module_version": "1.5.0",
      "model_name": "LabelModel",
      "state": {
       "layout": "IPY_MODEL_a8dffb4ca24547fa9c6a23f263f3cf97",
       "style": "IPY_MODEL_4637447f97a94f8dbc82f27b8f5de333",
       "value": "fib(k)"
      }
     },
     "63ea1735dd3349a0ae0c66127333329b": {
      "model_module": "@jupyter-widgets/controls",
      "model_module_version": "1.5.0",
      "model_name": "DescriptionStyleModel",
      "state": {
       "description_width": "initial"
      }
     },
     "640217180594434383cc42f09b07ff64": {
      "model_module": "@jupyter-widgets/base",
      "model_module_version": "1.2.0",
      "model_name": "LayoutModel",
      "state": {
       "width": "1000px"
      }
     },
     "64083926a17441fa8d89e4528a4e518c": {
      "model_module": "@jupyter-widgets/controls",
      "model_module_version": "1.5.0",
      "model_name": "DescriptionStyleModel",
      "state": {
       "description_width": ""
      }
     },
     "644b5642610442cfbac06fd3d333bc1c": {
      "model_module": "@jupyter-widgets/controls",
      "model_module_version": "1.5.0",
      "model_name": "HBoxModel",
      "state": {
       "children": [
        "IPY_MODEL_59eb8ec1912e4d998b4d95a2490b0308",
        "IPY_MODEL_4e5e1a92272a4fd8b03d1bcf37360a7e"
       ],
       "layout": "IPY_MODEL_b12c16397f154b808a94fab32bcab4ac"
      }
     },
     "6455a673b58f4c20b3b7c53f024104db": {
      "model_module": "@jupyter-widgets/base",
      "model_module_version": "1.2.0",
      "model_name": "LayoutModel",
      "state": {
       "width": "1000px"
      }
     },
     "6468b8cef3104a498200d01b2274f362": {
      "model_module": "@jupyter-widgets/base",
      "model_module_version": "1.2.0",
      "model_name": "LayoutModel",
      "state": {}
     },
     "64daa73ee818451aa24b5c89391c1714": {
      "model_module": "@jupyter-widgets/controls",
      "model_module_version": "1.5.0",
      "model_name": "DescriptionStyleModel",
      "state": {
       "description_width": ""
      }
     },
     "64f961126c11436081e6ef83d41c1095": {
      "model_module": "@jupyter-widgets/controls",
      "model_module_version": "1.5.0",
      "model_name": "LabelModel",
      "state": {
       "layout": "IPY_MODEL_210e97076fa4485b9c2705325deb0b42",
       "style": "IPY_MODEL_9c5588e3dc094e0c98f94d131f22dcf5",
       "value": "fib(n - k)"
      }
     },
     "6506d691093a4730a14497ce8b204983": {
      "model_module": "@jupyter-widgets/base",
      "model_module_version": "1.2.0",
      "model_name": "LayoutModel",
      "state": {}
     },
     "6508e1d0675b4492b2d87c9e8b947928": {
      "model_module": "@jupyter-widgets/controls",
      "model_module_version": "1.5.0",
      "model_name": "LabelModel",
      "state": {
       "layout": "IPY_MODEL_e9e3dc99f8304e08aef33ab1925215da",
       "style": "IPY_MODEL_fdc39e7f345e4e6285a6b7ac57185112",
       "value": "How many inner nodes does the call tree of fib(n) have?"
      }
     },
     "654fe72bf62e425cb1c22a1fb0a7f0c5": {
      "model_module": "@jupyter-widgets/base",
      "model_module_version": "1.2.0",
      "model_name": "LayoutModel",
      "state": {}
     },
     "656946e36dd047b29b4f6af229bb9992": {
      "model_module": "@jupyter-widgets/controls",
      "model_module_version": "1.5.0",
      "model_name": "HBoxModel",
      "state": {
       "children": [
        "IPY_MODEL_8afa74f5ae284b68a1791d29100058f1",
        "IPY_MODEL_a2854038e57f4cfe94837ad0bd84c67c"
       ],
       "layout": "IPY_MODEL_b91e0591f7c84c2db376927275fe2b82"
      }
     },
     "65828b7ad6fc43728f574146aa5bc692": {
      "model_module": "@jupyter-widgets/base",
      "model_module_version": "1.2.0",
      "model_name": "LayoutModel",
      "state": {}
     },
     "659f3a0d98cf4dc48b4e4253480c27ad": {
      "model_module": "@jupyter-widgets/controls",
      "model_module_version": "1.5.0",
      "model_name": "VBoxModel",
      "state": {
       "children": [
        "IPY_MODEL_f28ea5ba97e549c297ea121eb2dbca8f",
        "IPY_MODEL_18808188d12145dabf592ef30819add2",
        "IPY_MODEL_af3a8f23047f4e71bdc9359bed1ca711",
        "IPY_MODEL_8f54cc045e2945e7b9c33e378fdbd812"
       ],
       "layout": "IPY_MODEL_3daa58d5d40b4b5aa304514c6d604724"
      }
     },
     "65bf0b6d0ab5451b86a8db7d9e102dac": {
      "model_module": "@jupyter-widgets/controls",
      "model_module_version": "1.5.0",
      "model_name": "LabelModel",
      "state": {
       "layout": "IPY_MODEL_c40a8defa40046c798d8d43dcd03cefa",
       "style": "IPY_MODEL_a7be46df40ee4fbb85e3d9faa3023094",
       "value": "fib(n - k)"
      }
     },
     "65d6881279fd4a5a8d63b84ea578517c": {
      "model_module": "@jupyter-widgets/base",
      "model_module_version": "1.2.0",
      "model_name": "LayoutModel",
      "state": {
       "width": "500px"
      }
     },
     "663d93073b744e8bbf0ac99af018a433": {
      "model_module": "@jupyter-widgets/controls",
      "model_module_version": "1.5.0",
      "model_name": "CheckboxModel",
      "state": {
       "disabled": false,
       "layout": "IPY_MODEL_fa8df8219a8b4430b2b6522359b5bd3f",
       "style": "IPY_MODEL_be52d6d19dcf48ee8aeaeba5637de122",
       "value": false
      }
     },
     "664a8b6b4e304338b99a76bd3bd03f90": {
      "model_module": "@jupyter-widgets/base",
      "model_module_version": "1.2.0",
      "model_name": "LayoutModel",
      "state": {
       "width": "1000px"
      }
     },
     "6656e5b3dcfd4eb1ad24a89a5b9d8476": {
      "model_module": "@jupyter-widgets/base",
      "model_module_version": "1.2.0",
      "model_name": "LayoutModel",
      "state": {}
     },
     "66a9bf7d9c604c26aa1c65d82727279e": {
      "model_module": "@jupyter-widgets/controls",
      "model_module_version": "1.5.0",
      "model_name": "LabelModel",
      "state": {
       "layout": "IPY_MODEL_97e75f5969f848f790bd5d3c169e73ee",
       "style": "IPY_MODEL_114eb0a73ccd4fb4851ec1a0a1244d5b"
      }
     },
     "66b485004b0646c6837f33164ec0da6a": {
      "model_module": "@jupyter-widgets/controls",
      "model_module_version": "1.5.0",
      "model_name": "LabelModel",
      "state": {
       "layout": "IPY_MODEL_cb5cb9ec048a472abaff5f2f5f61a29e",
       "style": "IPY_MODEL_6709a803e1864268bcccada2ea19db81",
       "value": "How many inner nodes does the call tree of fib(n) have?"
      }
     },
     "66cb5ee16e2b437da4b69c0eba608433": {
      "model_module": "@jupyter-widgets/controls",
      "model_module_version": "1.5.0",
      "model_name": "DescriptionStyleModel",
      "state": {
       "description_width": ""
      }
     },
     "6709a803e1864268bcccada2ea19db81": {
      "model_module": "@jupyter-widgets/controls",
      "model_module_version": "1.5.0",
      "model_name": "DescriptionStyleModel",
      "state": {
       "description_width": ""
      }
     },
     "6792a5b887ff4e62aec67be551a3117d": {
      "model_module": "@jupyter-widgets/base",
      "model_module_version": "1.2.0",
      "model_name": "LayoutModel",
      "state": {}
     },
     "67e0d56a2c404e3ca7deff9e7cfe8d47": {
      "model_module": "@jupyter-widgets/controls",
      "model_module_version": "1.5.0",
      "model_name": "DescriptionStyleModel",
      "state": {
       "description_width": ""
      }
     },
     "67fe99a4ded74051b678d0b506c0bf0c": {
      "model_module": "@jupyter-widgets/base",
      "model_module_version": "1.2.0",
      "model_name": "LayoutModel",
      "state": {}
     },
     "6826d54188264febaaffb482707c3ab9": {
      "model_module": "@jupyter-widgets/controls",
      "model_module_version": "1.5.0",
      "model_name": "DescriptionStyleModel",
      "state": {
       "description_width": ""
      }
     },
     "68663342683044d4af1acf2fac753fa4": {
      "model_module": "@jupyter-widgets/base",
      "model_module_version": "1.2.0",
      "model_name": "LayoutModel",
      "state": {}
     },
     "687ed4eae84640a08b9df67f5d19e23b": {
      "model_module": "@jupyter-widgets/controls",
      "model_module_version": "1.5.0",
      "model_name": "CheckboxModel",
      "state": {
       "disabled": false,
       "layout": "IPY_MODEL_5692de38ca8a40dbbc8f0bb3edd4a093",
       "style": "IPY_MODEL_5149724caae14cf2a2cbe2124e505c58",
       "value": false
      }
     },
     "68804a18f3ff41f18b0493d47baf01eb": {
      "model_module": "@jupyter-widgets/controls",
      "model_module_version": "1.5.0",
      "model_name": "DescriptionStyleModel",
      "state": {
       "description_width": ""
      }
     },
     "68838afd567d4d4789b429aedf131d9f": {
      "model_module": "@jupyter-widgets/controls",
      "model_module_version": "1.5.0",
      "model_name": "LabelModel",
      "state": {
       "layout": "IPY_MODEL_cab1f287a87c4e84ab27baaec65e3aea",
       "style": "IPY_MODEL_21010ba9970d48d5a432a9440a9affe4"
      }
     },
     "68d3fdaf62b540a6bee27baf7d68e0f3": {
      "model_module": "@jupyter-widgets/controls",
      "model_module_version": "1.5.0",
      "model_name": "HBoxModel",
      "state": {
       "children": [
        "IPY_MODEL_4ce2c39dc33d40729f8e5471318d6de9",
        "IPY_MODEL_86192a3086854be5b8abd6204152734c"
       ],
       "layout": "IPY_MODEL_9ab3fe8151f343b28f0d0ff6a7a01265"
      }
     },
     "6903326542204913a33dd231f246fce2": {
      "model_module": "@jupyter-widgets/controls",
      "model_module_version": "1.5.0",
      "model_name": "LabelModel",
      "state": {
       "layout": "IPY_MODEL_a566730eaf65470b8b8a5292cb93e2be",
       "style": "IPY_MODEL_dd4092b9fc80418aae52f587033b5d0a"
      }
     },
     "695c7261382746ce952a0b18bfbf8645": {
      "model_module": "@jupyter-widgets/base",
      "model_module_version": "1.2.0",
      "model_name": "LayoutModel",
      "state": {
       "width": "30px"
      }
     },
     "69a6ce12f52e40d7aa70feb3ff7220df": {
      "model_module": "@jupyter-widgets/controls",
      "model_module_version": "1.5.0",
      "model_name": "DescriptionStyleModel",
      "state": {
       "description_width": ""
      }
     },
     "69ad0d730f0342d090b1464a56695e94": {
      "model_module": "@jupyter-widgets/base",
      "model_module_version": "1.2.0",
      "model_name": "LayoutModel",
      "state": {
       "width": "100px"
      }
     },
     "69d165c638a3415d890c2db6fdd796b9": {
      "model_module": "@jupyter-widgets/controls",
      "model_module_version": "1.5.0",
      "model_name": "DescriptionStyleModel",
      "state": {
       "description_width": "initial"
      }
     },
     "69dcc3ffcc664099beaa24823ba87c16": {
      "model_module": "@jupyter-widgets/controls",
      "model_module_version": "1.5.0",
      "model_name": "LabelModel",
      "state": {
       "layout": "IPY_MODEL_c075326da5a446b788fbb2e423e7fe4e",
       "style": "IPY_MODEL_a36e8d0973a74da9b7126e49b3775f27"
      }
     },
     "6a1600692fcf445f89cb2503f86cc4b9": {
      "model_module": "@jupyter-widgets/base",
      "model_module_version": "1.2.0",
      "model_name": "LayoutModel",
      "state": {
       "width": "1000px"
      }
     },
     "6a1fab5af6604a989431a4d109cc97e8": {
      "model_module": "@jupyter-widgets/controls",
      "model_module_version": "1.5.0",
      "model_name": "HBoxModel",
      "state": {
       "children": [
        "IPY_MODEL_ca5747433e294ddbbf3477ff3d5ae474",
        "IPY_MODEL_faf89434886242abb27ca629cea37ffb"
       ],
       "layout": "IPY_MODEL_dbcb91eda38b4953996de5f5281648b6"
      }
     },
     "6a565e032bde4fa6931c6d4702cc5401": {
      "model_module": "@jupyter-widgets/controls",
      "model_module_version": "1.5.0",
      "model_name": "DescriptionStyleModel",
      "state": {
       "description_width": ""
      }
     },
     "6a56cc8f9f38401f938847595ca90b86": {
      "model_module": "@jupyter-widgets/controls",
      "model_module_version": "1.5.0",
      "model_name": "ButtonStyleModel",
      "state": {
       "button_color": "lightblue"
      }
     },
     "6a68f31a6b394105bd8ce12823100b14": {
      "model_module": "@jupyter-widgets/base",
      "model_module_version": "1.2.0",
      "model_name": "LayoutModel",
      "state": {
       "grid_template_areas": "\"header header\"\n\"left-sidebar left-sidebar\"\n\"footer footer\"",
       "grid_template_columns": "1fr 1fr",
       "grid_template_rows": "1fr 3fr 1fr"
      }
     },
     "6a6c7dad07ff4fedb78ea9fdbdec0214": {
      "model_module": "@jupyter-widgets/controls",
      "model_module_version": "1.5.0",
      "model_name": "LabelModel",
      "state": {
       "layout": "IPY_MODEL_168c8850b6044e2bae0dafa87e2dc9bf",
       "style": "IPY_MODEL_05bc0e2e75164464ac544683ee26eec3"
      }
     },
     "6a843d87061a48b2afb9ecba659a55fa": {
      "model_module": "@jupyter-widgets/base",
      "model_module_version": "1.2.0",
      "model_name": "LayoutModel",
      "state": {}
     },
     "6a8bef96b330455eae9808643539e6e8": {
      "model_module": "@jupyter-widgets/controls",
      "model_module_version": "1.5.0",
      "model_name": "HBoxModel",
      "state": {
       "children": [
        "IPY_MODEL_87a47cec273045118907171acdecd48c",
        "IPY_MODEL_734410e104d24c238fc81dc83491e3df"
       ],
       "layout": "IPY_MODEL_fcf53c5c558b46b4ba7dee824c890650"
      }
     },
     "6a994718f24242578821f037820ab2a0": {
      "model_module": "@jupyter-widgets/base",
      "model_module_version": "1.2.0",
      "model_name": "LayoutModel",
      "state": {}
     },
     "6aa0efff58704f20a152c34742fb616f": {
      "model_module": "@jupyter-widgets/controls",
      "model_module_version": "1.5.0",
      "model_name": "DescriptionStyleModel",
      "state": {
       "description_width": "initial"
      }
     },
     "6aa4bc9ae1114772ad3a48e075fdd6f6": {
      "model_module": "@jupyter-widgets/controls",
      "model_module_version": "1.5.0",
      "model_name": "LabelModel",
      "state": {
       "layout": "IPY_MODEL_3bce0ec22398486d8335c313c48a2e8e",
       "style": "IPY_MODEL_c28b8930f1914b68afb0a6539a6fc188"
      }
     },
     "6aa5d38d08fa468ea133c260aa12778e": {
      "model_module": "@jupyter-widgets/controls",
      "model_module_version": "1.5.0",
      "model_name": "ButtonModel",
      "state": {
       "description": "Submit",
       "layout": "IPY_MODEL_733575eb11ee452799583d536b616d30",
       "style": "IPY_MODEL_3cf52f52f50649dabe6ca2b705dcfa40"
      }
     },
     "6aae439f903f4d29a378543e5066d650": {
      "model_module": "@jupyter-widgets/controls",
      "model_module_version": "1.5.0",
      "model_name": "HBoxModel",
      "state": {
       "children": [
        "IPY_MODEL_d183fcbd7aee4efbbc5cf258feed85dd",
        "IPY_MODEL_701f17521a554ed0896f80654a4a16f4"
       ],
       "layout": "IPY_MODEL_19b62463ed9243d28afc3abeb816366c"
      }
     },
     "6ac5acb579ef431b8141ffa222b0c854": {
      "model_module": "@jupyter-widgets/controls",
      "model_module_version": "1.5.0",
      "model_name": "HBoxModel",
      "state": {
       "children": [
        "IPY_MODEL_06a2f61501d94460a56e057a9edb5150",
        "IPY_MODEL_7991831efeda496ca178a3bd4d54bfb1"
       ],
       "layout": "IPY_MODEL_7e323960e46c42f4947d5a3f5cfb4c4e"
      }
     },
     "6ad3386431d64a8e8b9f110ed49feb7a": {
      "model_module": "@jupyter-widgets/controls",
      "model_module_version": "1.5.0",
      "model_name": "DescriptionStyleModel",
      "state": {
       "description_width": "initial"
      }
     },
     "6afa799c1c30473ca600e5072a6f3f21": {
      "model_module": "@jupyter-widgets/base",
      "model_module_version": "1.2.0",
      "model_name": "LayoutModel",
      "state": {
       "width": "1000px"
      }
     },
     "6b334bfdec4549998d139846a551c065": {
      "model_module": "@jupyter-widgets/controls",
      "model_module_version": "1.5.0",
      "model_name": "ButtonStyleModel",
      "state": {
       "button_color": "lightblue"
      }
     },
     "6b60d861dbf94a028ebaff84b153f21b": {
      "model_module": "@jupyter-widgets/controls",
      "model_module_version": "1.5.0",
      "model_name": "HBoxModel",
      "state": {
       "children": [
        "IPY_MODEL_186a625f75bf4879b32939874181450b"
       ],
       "layout": "IPY_MODEL_122ce43a3d924c9c9ea348908f91e4eb"
      }
     },
     "6b67602a8e5c4aff9d892b0d40842c71": {
      "model_module": "@jupyter-widgets/controls",
      "model_module_version": "1.5.0",
      "model_name": "LabelModel",
      "state": {
       "layout": "IPY_MODEL_567269af7d8d4dcf96a161919eaa5888",
       "style": "IPY_MODEL_9b6dfcf2c93c45dc87d0c25f1010f431",
       "value": "fib(k) - 1"
      }
     },
     "6b6ae441af904952ae3af63435b744d0": {
      "model_module": "@jupyter-widgets/controls",
      "model_module_version": "1.5.0",
      "model_name": "DescriptionStyleModel",
      "state": {
       "description_width": ""
      }
     },
     "6b7cf480446d4836bd204ad417717cf9": {
      "model_module": "@jupyter-widgets/controls",
      "model_module_version": "1.5.0",
      "model_name": "LabelModel",
      "state": {
       "layout": "IPY_MODEL_9b5a764bdb514d7d9aeec356442bbab7",
       "style": "IPY_MODEL_237214692bd241dca4c20fc728e6d0ad",
       "value": "fib(k)"
      }
     },
     "6be27e436d5348a9a8e8681e4b8d522e": {
      "model_module": "@jupyter-widgets/controls",
      "model_module_version": "1.5.0",
      "model_name": "CheckboxModel",
      "state": {
       "disabled": false,
       "layout": "IPY_MODEL_c20aed6c9cbf49a5a6c9b3afde2dbf9c",
       "style": "IPY_MODEL_bdf2230815e94daf8e10aeb6c02a56fe",
       "value": false
      }
     },
     "6c0204f4ee434f75aec194fbb098ac82": {
      "model_module": "@jupyter-widgets/base",
      "model_module_version": "1.2.0",
      "model_name": "LayoutModel",
      "state": {}
     },
     "6c132133f89c4c0aba0a58ed2ba31a02": {
      "model_module": "@jupyter-widgets/controls",
      "model_module_version": "1.5.0",
      "model_name": "DescriptionStyleModel",
      "state": {
       "description_width": ""
      }
     },
     "6c246ef65e2547caa967640dad54f820": {
      "model_module": "@jupyter-widgets/controls",
      "model_module_version": "1.5.0",
      "model_name": "HBoxModel",
      "state": {
       "children": [
        "IPY_MODEL_1a1de77d0d204d2ebf75720f775d627d",
        "IPY_MODEL_a27792567d064db896f6409feabc8cd6"
       ],
       "layout": "IPY_MODEL_397cef38f6424222849afca3b63d824d"
      }
     },
     "6c3315b6428b4374ae0e3144c4433128": {
      "model_module": "@jupyter-widgets/controls",
      "model_module_version": "1.5.0",
      "model_name": "LabelModel",
      "state": {
       "layout": "IPY_MODEL_826ee83e4a9a4989b1f2a89b4872df8a",
       "style": "IPY_MODEL_d95579e8f0d940bdb20a9f1f6965dfbd"
      }
     },
     "6c42ea2c40c74ac0b6b2d14916cc1531": {
      "model_module": "@jupyter-widgets/base",
      "model_module_version": "1.2.0",
      "model_name": "LayoutModel",
      "state": {
       "width": "1000px"
      }
     },
     "6c45060c455c48d4a75fe80985c22a53": {
      "model_module": "@jupyter-widgets/base",
      "model_module_version": "1.2.0",
      "model_name": "LayoutModel",
      "state": {
       "border": "2px solid green"
      }
     },
     "6c9bae4c6170411c94aff2734e843a23": {
      "model_module": "@jupyter-widgets/controls",
      "model_module_version": "1.5.0",
      "model_name": "LabelModel",
      "state": {
       "layout": "IPY_MODEL_b14e7868624c4a308cb698cc3c05826d",
       "style": "IPY_MODEL_1c40b159d11040f6a2f7ddf26895fa73"
      }
     },
     "6cbe228bba124cd1aea4908c59dae12a": {
      "model_module": "@jupyter-widgets/base",
      "model_module_version": "1.2.0",
      "model_name": "LayoutModel",
      "state": {}
     },
     "6cceb52f454c4c45b514e68d2dea94eb": {
      "model_module": "@jupyter-widgets/base",
      "model_module_version": "1.2.0",
      "model_name": "LayoutModel",
      "state": {
       "grid_area": "left-sidebar"
      }
     },
     "6cfce77461fb42f49a4819a4a878f355": {
      "model_module": "@jupyter-widgets/controls",
      "model_module_version": "1.5.0",
      "model_name": "HBoxModel",
      "state": {
       "children": [
        "IPY_MODEL_b2fd80a25c014d4281f961ef1bf86567",
        "IPY_MODEL_3a49e7bbf237406cac4c02c0cf0f4db5"
       ],
       "layout": "IPY_MODEL_7ddef2a6933e485ba72f8e96035427d4"
      }
     },
     "6d49056aed554f5b8069be11eec7562b": {
      "model_module": "@jupyter-widgets/controls",
      "model_module_version": "1.5.0",
      "model_name": "DescriptionStyleModel",
      "state": {
       "description_width": ""
      }
     },
     "6d75cff67d44480c80075fe7b7d95224": {
      "model_module": "@jupyter-widgets/controls",
      "model_module_version": "1.5.0",
      "model_name": "DescriptionStyleModel",
      "state": {
       "description_width": ""
      }
     },
     "6def87837e3c412d9d84bf17a16be278": {
      "model_module": "@jupyter-widgets/base",
      "model_module_version": "1.2.0",
      "model_name": "LayoutModel",
      "state": {}
     },
     "6e06bbdd25cb4a57b8e6531dd1a57cb2": {
      "model_module": "@jupyter-widgets/base",
      "model_module_version": "1.2.0",
      "model_name": "LayoutModel",
      "state": {}
     },
     "6e40702acc0942d989d1632573292f2b": {
      "model_module": "@jupyter-widgets/base",
      "model_module_version": "1.2.0",
      "model_name": "LayoutModel",
      "state": {
       "width": "30px"
      }
     },
     "6e477bfb333b4759b746dc22699d8abf": {
      "model_module": "@jupyter-widgets/base",
      "model_module_version": "1.2.0",
      "model_name": "LayoutModel",
      "state": {}
     },
     "6e71662f46cb4a8a91b96afec9897c90": {
      "model_module": "@jupyter-widgets/base",
      "model_module_version": "1.2.0",
      "model_name": "LayoutModel",
      "state": {}
     },
     "6f01eadde9e742ed986376c149453637": {
      "model_module": "@jupyter-widgets/controls",
      "model_module_version": "1.5.0",
      "model_name": "HBoxModel",
      "state": {
       "children": [
        "IPY_MODEL_fa93d47a9c9448bbb02b4ac655e715c6",
        "IPY_MODEL_13230ddda40e40dc9c8771cfd083dacf"
       ],
       "layout": "IPY_MODEL_2939bc862fae4f3eba39ef65876bbcae"
      }
     },
     "6f2f42051aca45e1b657c5a7570284f6": {
      "model_module": "@jupyter-widgets/base",
      "model_module_version": "1.2.0",
      "model_name": "LayoutModel",
      "state": {
       "width": "1000px"
      }
     },
     "6f413ede104b491eb9584e4e6a2c28bc": {
      "model_module": "@jupyter-widgets/controls",
      "model_module_version": "1.5.0",
      "model_name": "HBoxModel",
      "state": {
       "children": [
        "IPY_MODEL_f1346a96d8a34811b070b211d57e9851",
        "IPY_MODEL_88bd1bd5a8ce4301a31b7e09d011aeff"
       ],
       "layout": "IPY_MODEL_12974aab8ca244a0951cf05f0fc6409f"
      }
     },
     "700225b3766c48acac2cacef280a77bb": {
      "model_module": "@jupyter-widgets/controls",
      "model_module_version": "1.5.0",
      "model_name": "DescriptionStyleModel",
      "state": {
       "description_width": "initial"
      }
     },
     "701f17521a554ed0896f80654a4a16f4": {
      "model_module": "@jupyter-widgets/controls",
      "model_module_version": "1.5.0",
      "model_name": "LabelModel",
      "state": {
       "layout": "IPY_MODEL_1610a46c71bf4425bba20fa1006578d6",
       "style": "IPY_MODEL_18e6d9dde5fd460dbb38c1aed732bdf4",
       "value": "fib(k) - 1"
      }
     },
     "703ff00025684b4995e58bfc3d63bcc4": {
      "model_module": "@jupyter-widgets/controls",
      "model_module_version": "1.5.0",
      "model_name": "LabelModel",
      "state": {
       "layout": "IPY_MODEL_c65837dadb434c3387e674a9f83f64b9",
       "style": "IPY_MODEL_73ceb6de874f4f0a95db651fb8bd56cd",
       "value": "Fill in the blanks with a whole number."
      }
     },
     "707d1a89d8d14e51abfaa79ae28fe929": {
      "model_module": "@jupyter-widgets/controls",
      "model_module_version": "1.5.0",
      "model_name": "VBoxModel",
      "state": {
       "children": [
        "IPY_MODEL_731393b5d99543f89fc106fd20a33b22",
        "IPY_MODEL_6f01eadde9e742ed986376c149453637",
        "IPY_MODEL_2238799e36e44825aec51a51c0335bcd",
        "IPY_MODEL_82b61e3a0a1e448f85f830405325906e"
       ],
       "layout": "IPY_MODEL_9e5f9f78b3fe4cce8ffde5cd4f4cb051"
      }
     },
     "707e737654d54d8a98429d5814cb1452": {
      "model_module": "@jupyter-widgets/base",
      "model_module_version": "1.2.0",
      "model_name": "LayoutModel",
      "state": {}
     },
     "708380445adb4f5e833098d8d81da7e7": {
      "model_module": "@jupyter-widgets/controls",
      "model_module_version": "1.5.0",
      "model_name": "ButtonModel",
      "state": {
       "description": "Submit",
       "layout": "IPY_MODEL_c85ddebd22d340138a67c01c807ff34c",
       "style": "IPY_MODEL_f6016b1357074c898d5f66f4ccdf428e"
      }
     },
     "709198d7b84040998e791715598d3fdd": {
      "model_module": "@jupyter-widgets/base",
      "model_module_version": "1.2.0",
      "model_name": "LayoutModel",
      "state": {
       "width": "30px"
      }
     },
     "70a79c37a86b444eba7c6daee2b72068": {
      "model_module": "@jupyter-widgets/controls",
      "model_module_version": "1.5.0",
      "model_name": "DescriptionStyleModel",
      "state": {
       "description_width": "initial"
      }
     },
     "70bc192a2b1641278678b6dff7fedd93": {
      "model_module": "@jupyter-widgets/base",
      "model_module_version": "1.2.0",
      "model_name": "LayoutModel",
      "state": {
       "width": "30px"
      }
     },
     "70c38ee468f449d3987750f8908416c5": {
      "model_module": "@jupyter-widgets/controls",
      "model_module_version": "1.5.0",
      "model_name": "LabelModel",
      "state": {
       "layout": "IPY_MODEL_bcd61ae9fc564f5ea532c1883ec7d5b7",
       "style": "IPY_MODEL_870a8ed18b684c08a808c9753c7f2cc3",
       "value": "fib(n)"
      }
     },
     "70c92a89fbae42dba2eb99830d96aba0": {
      "model_module": "@jupyter-widgets/controls",
      "model_module_version": "1.5.0",
      "model_name": "CheckboxModel",
      "state": {
       "disabled": false,
       "layout": "IPY_MODEL_497f75a17b12433d92a8277f6f7de48c",
       "style": "IPY_MODEL_63ea1735dd3349a0ae0c66127333329b",
       "value": false
      }
     },
     "70cddee319854a20aacd11b46aeb4588": {
      "model_module": "@jupyter-widgets/controls",
      "model_module_version": "1.5.0",
      "model_name": "LabelModel",
      "state": {
       "layout": "IPY_MODEL_58ecbb59c58c4d46b61e06f578d3e017",
       "style": "IPY_MODEL_7722975d6428459ba7f7551b94df3dea",
       "value": "fib(n) - 1"
      }
     },
     "70df2fbb753f4dc38485c60267c7a01d": {
      "model_module": "@jupyter-widgets/base",
      "model_module_version": "1.2.0",
      "model_name": "LayoutModel",
      "state": {}
     },
     "70fb43ee4fba4edfa0f5325312d86246": {
      "model_module": "@jupyter-widgets/base",
      "model_module_version": "1.2.0",
      "model_name": "LayoutModel",
      "state": {
       "width": "1000px"
      }
     },
     "710bd371376645c087e6c389bc3a9491": {
      "model_module": "@jupyter-widgets/controls",
      "model_module_version": "1.5.0",
      "model_name": "HBoxModel",
      "state": {
       "children": [
        "IPY_MODEL_b4e0c4e8d5c24f698de9cd15b1fb8a56",
        "IPY_MODEL_7bc4dd48723347d4ac414f10d3eb805b"
       ],
       "layout": "IPY_MODEL_e2b3e2a596c048b9a879347f6f9b9524"
      }
     },
     "71473f2d50a644d2864b9861d5ae8a32": {
      "model_module": "@jupyter-widgets/controls",
      "model_module_version": "1.5.0",
      "model_name": "DescriptionStyleModel",
      "state": {
       "description_width": "initial"
      }
     },
     "71503d9c96c742d58758bd1f01728e51": {
      "model_module": "@jupyter-widgets/controls",
      "model_module_version": "1.5.0",
      "model_name": "HBoxModel",
      "state": {
       "children": [
        "IPY_MODEL_0cf804a1ca084f939b5c3655aa77fa0f",
        "IPY_MODEL_4ace943dc22243f6909beaca15ea9d81"
       ],
       "layout": "IPY_MODEL_7ca103b35d7740de9168c5bc7ba95864"
      }
     },
     "71ebd574c32e4ee2bf6792fa82d5bbba": {
      "model_module": "@jupyter-widgets/base",
      "model_module_version": "1.2.0",
      "model_name": "LayoutModel",
      "state": {}
     },
     "71ed7b7b6e7241478b31393ff952ff04": {
      "model_module": "@jupyter-widgets/base",
      "model_module_version": "1.2.0",
      "model_name": "LayoutModel",
      "state": {}
     },
     "71f6263c0ed84c32a61ab978ac9a77ab": {
      "model_module": "@jupyter-widgets/base",
      "model_module_version": "1.2.0",
      "model_name": "LayoutModel",
      "state": {}
     },
     "7221166cfa354e32872e2d831be8e9ec": {
      "model_module": "@jupyter-widgets/controls",
      "model_module_version": "1.5.0",
      "model_name": "CheckboxModel",
      "state": {
       "disabled": false,
       "layout": "IPY_MODEL_39479e415363413e90b0ae47144df762",
       "style": "IPY_MODEL_29fe0a706a2340138dda439e7852b3cc",
       "value": false
      }
     },
     "7228a25f0bff497eb002a38d42a1b56a": {
      "model_module": "@jupyter-widgets/controls",
      "model_module_version": "1.5.0",
      "model_name": "HBoxModel",
      "state": {
       "children": [
        "IPY_MODEL_347d68ce4cfe4327b73c2846a664c412",
        "IPY_MODEL_e25a4b6023c0466d9c7abc84918120c0"
       ],
       "layout": "IPY_MODEL_53c713f700bc4432929bdd11f3e3f341"
      }
     },
     "7232ce2e52ab45559955862702137222": {
      "model_module": "@jupyter-widgets/base",
      "model_module_version": "1.2.0",
      "model_name": "LayoutModel",
      "state": {}
     },
     "7269680a7a034b6f8c7c03b570078fc2": {
      "model_module": "@jupyter-widgets/base",
      "model_module_version": "1.2.0",
      "model_name": "LayoutModel",
      "state": {
       "width": "30px"
      }
     },
     "728bcfa649334fed8672f828e640d29b": {
      "model_module": "@jupyter-widgets/base",
      "model_module_version": "1.2.0",
      "model_name": "LayoutModel",
      "state": {
       "grid_area": "footer"
      }
     },
     "72a81fa8a44040c896a2b82a584762c0": {
      "model_module": "@jupyter-widgets/base",
      "model_module_version": "1.2.0",
      "model_name": "LayoutModel",
      "state": {
       "width": "1000px"
      }
     },
     "72f407f4ebf44711bb22431d22519ea0": {
      "model_module": "@jupyter-widgets/base",
      "model_module_version": "1.2.0",
      "model_name": "LayoutModel",
      "state": {
       "grid_area": "footer"
      }
     },
     "731393b5d99543f89fc106fd20a33b22": {
      "model_module": "@jupyter-widgets/controls",
      "model_module_version": "1.5.0",
      "model_name": "HBoxModel",
      "state": {
       "children": [
        "IPY_MODEL_41a6df79fa4342e4990bec01f6a26198",
        "IPY_MODEL_b5606f22fb804459b5a9abc44f696e70"
       ],
       "layout": "IPY_MODEL_bf1d9d47643a499596a77261ec7f2b9d"
      }
     },
     "73143adffbe949a58ae64f04a92125f7": {
      "model_module": "@jupyter-widgets/base",
      "model_module_version": "1.2.0",
      "model_name": "LayoutModel",
      "state": {}
     },
     "7316710c83da4850b419e6f5f4839f1d": {
      "model_module": "@jupyter-widgets/controls",
      "model_module_version": "1.5.0",
      "model_name": "LabelModel",
      "state": {
       "layout": "IPY_MODEL_472b9bbc2677424ebaf5255ae27f3ea1",
       "style": "IPY_MODEL_86e7f2d8805245c7b5a459bc85e3645c",
       "value": "$fib(2)$ is called $5$ times and $fib(1)$ is called $8$ times"
      }
     },
     "733575eb11ee452799583d536b616d30": {
      "model_module": "@jupyter-widgets/base",
      "model_module_version": "1.2.0",
      "model_name": "LayoutModel",
      "state": {}
     },
     "734410e104d24c238fc81dc83491e3df": {
      "model_module": "@jupyter-widgets/controls",
      "model_module_version": "1.5.0",
      "model_name": "HBoxModel",
      "state": {
       "children": [
        "IPY_MODEL_d2619a3886d0400dbef687699e64f978",
        "IPY_MODEL_e9edb2a3e01a48839b442cbd99b073b3"
       ],
       "layout": "IPY_MODEL_e6e979b4825b48649c3d394064d6b352"
      }
     },
     "734bc6f8b82741cd80b7af0081422335": {
      "model_module": "@jupyter-widgets/base",
      "model_module_version": "1.2.0",
      "model_name": "LayoutModel",
      "state": {
       "grid_area": "footer"
      }
     },
     "73ceb6de874f4f0a95db651fb8bd56cd": {
      "model_module": "@jupyter-widgets/controls",
      "model_module_version": "1.5.0",
      "model_name": "DescriptionStyleModel",
      "state": {
       "description_width": ""
      }
     },
     "73f082aebea94e1684915b029c976901": {
      "model_module": "@jupyter-widgets/controls",
      "model_module_version": "1.5.0",
      "model_name": "HBoxModel",
      "state": {
       "children": [
        "IPY_MODEL_3c82008181cb4dbe8bc9a7c2a34889cc",
        "IPY_MODEL_933d6891ebc94106a2411230c75d9699"
       ],
       "layout": "IPY_MODEL_f8ec64fa708647519bf7de472c8fbfc2"
      }
     },
     "7457b0bd2130414c984d1771692fdb74": {
      "model_module": "@jupyter-widgets/base",
      "model_module_version": "1.2.0",
      "model_name": "LayoutModel",
      "state": {
       "width": "1000px"
      }
     },
     "74ae7bc3f7ee48da94e2db920caf8609": {
      "model_module": "@jupyter-widgets/controls",
      "model_module_version": "1.5.0",
      "model_name": "LabelModel",
      "state": {
       "layout": "IPY_MODEL_eb9867dec837499ba84f15b89c16f46f",
       "style": "IPY_MODEL_d3d569013c4a4e749efaa29454ba53b0",
       "value": "How many inner nodes does the call tree of fib(n) have?"
      }
     },
     "74c8b388ce854c4a95311bcf29a12b4a": {
      "model_module": "@jupyter-widgets/base",
      "model_module_version": "1.2.0",
      "model_name": "LayoutModel",
      "state": {
       "width": "30px"
      }
     },
     "75302ff5f5954f1981e268f255df8d78": {
      "model_module": "@jupyter-widgets/controls",
      "model_module_version": "1.5.0",
      "model_name": "DescriptionStyleModel",
      "state": {
       "description_width": ""
      }
     },
     "7570664a317c40b6a1916b4238f93185": {
      "model_module": "@jupyter-widgets/controls",
      "model_module_version": "1.5.0",
      "model_name": "LabelModel",
      "state": {
       "layout": "IPY_MODEL_e184fc549a764ebb860277c14af00962",
       "style": "IPY_MODEL_0577b62c923e406d886f01bd473ac5fd",
       "value": "How many inner nodes does the call tree of fib(n) have?"
      }
     },
     "7574c9336a2c4b1ea4855a913648e0d0": {
      "model_module": "@jupyter-widgets/controls",
      "model_module_version": "1.5.0",
      "model_name": "DescriptionStyleModel",
      "state": {
       "description_width": ""
      }
     },
     "7576b7f46d8f4ea7a47dc7b97da208f0": {
      "model_module": "@jupyter-widgets/base",
      "model_module_version": "1.2.0",
      "model_name": "LayoutModel",
      "state": {}
     },
     "7590874501784fd4920842ed3df9983d": {
      "model_module": "@jupyter-widgets/controls",
      "model_module_version": "1.5.0",
      "model_name": "DescriptionStyleModel",
      "state": {
       "description_width": ""
      }
     },
     "7591fcf67d814db48e12665165cf052e": {
      "model_module": "@jupyter-widgets/controls",
      "model_module_version": "1.5.0",
      "model_name": "LabelModel",
      "state": {
       "layout": "IPY_MODEL_bf30cecf5a4247a6917f6f6c96f04ee7",
       "style": "IPY_MODEL_5277079ce5ba40b59d7f403d2088549f",
       "value": "fib(n) - 1 + fib(n -2)"
      }
     },
     "75b29366e3b54866923c6d498f60c89f": {
      "model_module": "@jupyter-widgets/base",
      "model_module_version": "1.2.0",
      "model_name": "LayoutModel",
      "state": {}
     },
     "75f6fa609cc74f75b052804095420415": {
      "model_module": "@jupyter-widgets/base",
      "model_module_version": "1.2.0",
      "model_name": "LayoutModel",
      "state": {}
     },
     "760eaa21465d475cb2123b8986126a2d": {
      "model_module": "@jupyter-widgets/controls",
      "model_module_version": "1.5.0",
      "model_name": "DescriptionStyleModel",
      "state": {
       "description_width": ""
      }
     },
     "7641faa7899841e39880e51183cc80dd": {
      "model_module": "@jupyter-widgets/base",
      "model_module_version": "1.2.0",
      "model_name": "LayoutModel",
      "state": {
       "width": "500px"
      }
     },
     "766c966586a54eb2916d0207474e4683": {
      "model_module": "@jupyter-widgets/controls",
      "model_module_version": "1.5.0",
      "model_name": "ButtonModel",
      "state": {
       "description": "Submit",
       "layout": "IPY_MODEL_101df11b1d224b9ab6bed56b33c2dfe8",
       "style": "IPY_MODEL_5f2c10d6d7694e9db9766ac6d9268957"
      }
     },
     "7689f44922bd49e0b85f8f8635aaf231": {
      "model_module": "@jupyter-widgets/controls",
      "model_module_version": "1.5.0",
      "model_name": "HBoxModel",
      "state": {
       "children": [
        "IPY_MODEL_520a9ae26ee2475798cc534b4db75af4",
        "IPY_MODEL_1c51326c5e8d4d80bd73d7e6a46691f7"
       ],
       "layout": "IPY_MODEL_ab8bcc62a54a4d1782ab8bd39562aa23"
      }
     },
     "769aad5dc0484964bc21ed43e0e74a43": {
      "model_module": "@jupyter-widgets/base",
      "model_module_version": "1.2.0",
      "model_name": "LayoutModel",
      "state": {}
     },
     "76bf7571c52f45d9a8adfc7fd227dd49": {
      "model_module": "@jupyter-widgets/base",
      "model_module_version": "1.2.0",
      "model_name": "LayoutModel",
      "state": {}
     },
     "7722975d6428459ba7f7551b94df3dea": {
      "model_module": "@jupyter-widgets/controls",
      "model_module_version": "1.5.0",
      "model_name": "DescriptionStyleModel",
      "state": {
       "description_width": ""
      }
     },
     "772647b4183148279ca1a445b81d0e97": {
      "model_module": "@jupyter-widgets/base",
      "model_module_version": "1.2.0",
      "model_name": "LayoutModel",
      "state": {}
     },
     "7726cb47d7bc4a2880c01f8330b72819": {
      "model_module": "@jupyter-widgets/controls",
      "model_module_version": "1.5.0",
      "model_name": "DescriptionStyleModel",
      "state": {
       "description_width": ""
      }
     },
     "7740992516954cfd9526b90dfcc75dec": {
      "model_module": "@jupyter-widgets/controls",
      "model_module_version": "1.5.0",
      "model_name": "VBoxModel",
      "state": {
       "children": [
        "IPY_MODEL_5b713bb2defd467cac57c17d2f452efc",
        "IPY_MODEL_1e6268e4a7d24e15934e342248c9772b",
        "IPY_MODEL_9db042d6738c46f690f77ca3474b2685",
        "IPY_MODEL_ff48d29762e34e75a7b01ac14c351851",
        "IPY_MODEL_d7647bf517c7427c8966a06f5dfd69a3"
       ],
       "layout": "IPY_MODEL_d760a6e6df0342a7b85bdec8d91fa5ac"
      }
     },
     "77502ed86f3e43c7a71cad1440538571": {
      "model_module": "@jupyter-widgets/controls",
      "model_module_version": "1.5.0",
      "model_name": "LabelModel",
      "state": {
       "layout": "IPY_MODEL_1bbfc1aaad2e4eb58cf59994bea20793",
       "style": "IPY_MODEL_46c028cbd71b4fe1b608369967d9f494",
       "value": "$fib(2)$ is called $8$ times and $fib(1)$ is called $13$ times"
      }
     },
     "7759f57e42054620874dd07c136d059c": {
      "model_module": "@jupyter-widgets/controls",
      "model_module_version": "1.5.0",
      "model_name": "HBoxModel",
      "state": {
       "children": [
        "IPY_MODEL_7b12cde7e0dc46e1936face222c35c8f",
        "IPY_MODEL_92df0865f16c4d4382d6312513872215"
       ],
       "layout": "IPY_MODEL_c6d6bbf3e21a4f1b94382543ee25cafb"
      }
     },
     "776ce56b73d644c1a3381470e3cf82a7": {
      "model_module": "@jupyter-widgets/controls",
      "model_module_version": "1.5.0",
      "model_name": "CheckboxModel",
      "state": {
       "disabled": false,
       "layout": "IPY_MODEL_f0b6a06fd741426daf8197817a3b4d3d",
       "style": "IPY_MODEL_514c090d2e724294aae80463fec48ea8",
       "value": false
      }
     },
     "777b6ae75aaf42cdabe5a64e92474ffa": {
      "model_module": "@jupyter-widgets/base",
      "model_module_version": "1.2.0",
      "model_name": "LayoutModel",
      "state": {
       "grid_area": "header"
      }
     },
     "7797c1ab721b455fbd03ca98a1c7eed4": {
      "model_module": "@jupyter-widgets/controls",
      "model_module_version": "1.5.0",
      "model_name": "HBoxModel",
      "state": {
       "children": [
        "IPY_MODEL_e4c42ad348b74035922cea578374e8ff",
        "IPY_MODEL_cd4abcbf56304fb6b32f35a3ec3644ae"
       ],
       "layout": "IPY_MODEL_0bc08551535e48139d086d66f5199a18"
      }
     },
     "779f7b7d216444a7b51552ebc139dacc": {
      "model_module": "@jupyter-widgets/controls",
      "model_module_version": "1.5.0",
      "model_name": "DescriptionStyleModel",
      "state": {
       "description_width": ""
      }
     },
     "77aba7369ba244899f08ed94678758d5": {
      "model_module": "@jupyter-widgets/base",
      "model_module_version": "1.2.0",
      "model_name": "LayoutModel",
      "state": {}
     },
     "77c4337465e0474494388b3c6762d811": {
      "model_module": "@jupyter-widgets/controls",
      "model_module_version": "1.5.0",
      "model_name": "DescriptionStyleModel",
      "state": {
       "description_width": "initial"
      }
     },
     "77cbfc3bd1bf4cf08931c53459f1b411": {
      "model_module": "@jupyter-widgets/controls",
      "model_module_version": "1.5.0",
      "model_name": "LabelModel",
      "state": {
       "layout": "IPY_MODEL_46886e5a35da48e594c960bd643110c5",
       "style": "IPY_MODEL_69a6ce12f52e40d7aa70feb3ff7220df"
      }
     },
     "77e8f68c99d94a4dbcbc5d37172af0f0": {
      "model_module": "@jupyter-widgets/controls",
      "model_module_version": "1.5.0",
      "model_name": "HBoxModel",
      "state": {
       "children": [
        "IPY_MODEL_4ae86119ca0142faa9efc7140e7b59bc",
        "IPY_MODEL_f7e9789188fd43f6bd6caa0f2bd60a12"
       ],
       "layout": "IPY_MODEL_82d6019927024cc6ae3fd3386bddef85"
      }
     },
     "782457b53a5b4f4995d4b765b0d1b116": {
      "model_module": "@jupyter-widgets/base",
      "model_module_version": "1.2.0",
      "model_name": "LayoutModel",
      "state": {}
     },
     "782d8c5b47f14d239a052157b9e934da": {
      "model_module": "@jupyter-widgets/controls",
      "model_module_version": "1.5.0",
      "model_name": "LabelModel",
      "state": {
       "layout": "IPY_MODEL_0e5269cc1b3745f0bce7806b363867e0",
       "style": "IPY_MODEL_286e8595f2284a37b61589d37b6d7e24"
      }
     },
     "783896e57c614c00832b2ad5d5e444d6": {
      "model_module": "@jupyter-widgets/controls",
      "model_module_version": "1.5.0",
      "model_name": "LabelModel",
      "state": {
       "layout": "IPY_MODEL_38802ab917d647f886e6f8abc65694ad",
       "style": "IPY_MODEL_e5ea7b090cbe4459a9a8624e0ec4830d"
      }
     },
     "783f98cdefcf4ffca7aa2acc6fea514f": {
      "model_module": "@jupyter-widgets/controls",
      "model_module_version": "1.5.0",
      "model_name": "ButtonModel",
      "state": {
       "description": "Submit",
       "layout": "IPY_MODEL_109f6ba24e084427b5e319f0353879e6",
       "style": "IPY_MODEL_f40e692a364d46409f0b472dba210e21"
      }
     },
     "78439ff4bfcf42cb896f2519b078945c": {
      "model_module": "@jupyter-widgets/controls",
      "model_module_version": "1.5.0",
      "model_name": "LabelModel",
      "state": {
       "layout": "IPY_MODEL_b424cd4242ef44ea932723df3956dfb1",
       "style": "IPY_MODEL_7ac1d44e8118468a988644d03c8d2c6b"
      }
     },
     "78526f07189545e8bac58bb4933e9973": {
      "model_module": "@jupyter-widgets/controls",
      "model_module_version": "1.5.0",
      "model_name": "DescriptionStyleModel",
      "state": {
       "description_width": "initial"
      }
     },
     "7853666488a643d2872765ea617edd45": {
      "model_module": "@jupyter-widgets/controls",
      "model_module_version": "1.5.0",
      "model_name": "DescriptionStyleModel",
      "state": {
       "description_width": "initial"
      }
     },
     "78ab22b4b3034b9781fdfb9ca621c1d8": {
      "model_module": "@jupyter-widgets/controls",
      "model_module_version": "1.5.0",
      "model_name": "LabelModel",
      "state": {
       "layout": "IPY_MODEL_dce95b66cab545538b5c28ed3c99ca66",
       "style": "IPY_MODEL_c7f5ec9046914190a427b04969e1ada2"
      }
     },
     "7924ec56a3914e49baf25006d2ce1daa": {
      "model_module": "@jupyter-widgets/base",
      "model_module_version": "1.2.0",
      "model_name": "LayoutModel",
      "state": {}
     },
     "7933be0704a74185bd06b03df68cce7c": {
      "model_module": "@jupyter-widgets/base",
      "model_module_version": "1.2.0",
      "model_name": "LayoutModel",
      "state": {
       "width": "30px"
      }
     },
     "7947ed9b26ef467f8f54062af605f4cd": {
      "model_module": "@jupyter-widgets/controls",
      "model_module_version": "1.5.0",
      "model_name": "DescriptionStyleModel",
      "state": {
       "description_width": "initial"
      }
     },
     "7962dc04d5484af09e9812f57f415702": {
      "model_module": "@jupyter-widgets/controls",
      "model_module_version": "1.5.0",
      "model_name": "DescriptionStyleModel",
      "state": {
       "description_width": ""
      }
     },
     "796ca186d64a46dc80b92b9bf229f974": {
      "model_module": "@jupyter-widgets/controls",
      "model_module_version": "1.5.0",
      "model_name": "LabelModel",
      "state": {
       "layout": "IPY_MODEL_d1753353e5fc492095f16a7f0c2576ca",
       "style": "IPY_MODEL_22a8e9844eaf48a5a32d2e7a7a1b8459"
      }
     },
     "796d21ed56694453af9cdd3ec6f9af0d": {
      "model_module": "@jupyter-widgets/base",
      "model_module_version": "1.2.0",
      "model_name": "LayoutModel",
      "state": {
       "width": "30px"
      }
     },
     "796dd85f87824eecbf2eadd1b24c5fbf": {
      "model_module": "@jupyter-widgets/base",
      "model_module_version": "1.2.0",
      "model_name": "LayoutModel",
      "state": {}
     },
     "79719fa1847042bcac66a10519fe18f0": {
      "model_module": "@jupyter-widgets/controls",
      "model_module_version": "1.5.0",
      "model_name": "HBoxModel",
      "state": {
       "children": [
        "IPY_MODEL_c1514f142a5c47a5b58fc4807504ca48",
        "IPY_MODEL_d3f4e76314194723adb70925a44a27b6"
       ],
       "layout": "IPY_MODEL_45eeafe12b6f4cf38f3107078f482d8f"
      }
     },
     "7977c6304e9345809277eaa932c0da65": {
      "model_module": "@jupyter-widgets/base",
      "model_module_version": "1.2.0",
      "model_name": "LayoutModel",
      "state": {}
     },
     "7991831efeda496ca178a3bd4d54bfb1": {
      "model_module": "@jupyter-widgets/controls",
      "model_module_version": "1.5.0",
      "model_name": "LabelModel",
      "state": {
       "layout": "IPY_MODEL_ccc9ee4919df40f3b88c364ce8f4a398",
       "style": "IPY_MODEL_d3d8498416c24048bdac3c43af3115b0",
       "value": "fib(n) - 1"
      }
     },
     "79ae36e0b37b490c94358f32f15302b5": {
      "model_module": "@jupyter-widgets/base",
      "model_module_version": "1.2.0",
      "model_name": "LayoutModel",
      "state": {}
     },
     "79ba0a7b353b460a9d9a259b5b2acb86": {
      "model_module": "@jupyter-widgets/controls",
      "model_module_version": "1.5.0",
      "model_name": "DescriptionStyleModel",
      "state": {
       "description_width": ""
      }
     },
     "79bdba06da5e425da21eeb67cc59d73e": {
      "model_module": "@jupyter-widgets/controls",
      "model_module_version": "1.5.0",
      "model_name": "LabelModel",
      "state": {
       "layout": "IPY_MODEL_d5474220dfe044a4addcc7daae3c711f",
       "style": "IPY_MODEL_8901079447214e5f85704fbb07f90eb9",
       "value": "fib(n)"
      }
     },
     "79f13fef119349029f99bdc070e5ed41": {
      "model_module": "@jupyter-widgets/controls",
      "model_module_version": "1.5.0",
      "model_name": "DescriptionStyleModel",
      "state": {
       "description_width": ""
      }
     },
     "79f1b3899b4444dfb487183806f0d5b4": {
      "model_module": "@jupyter-widgets/controls",
      "model_module_version": "1.5.0",
      "model_name": "HBoxModel",
      "state": {
       "children": [
        "IPY_MODEL_ab8a5a9334784625b41c0852be3ddd2b",
        "IPY_MODEL_189bdcff6a4e416ca479ecf63e85158e"
       ],
       "layout": "IPY_MODEL_1828512fdfca4b06a17c3462435a1176"
      }
     },
     "79f3f15b57c34ae7ae781a0c37b7b177": {
      "model_module": "@jupyter-widgets/base",
      "model_module_version": "1.2.0",
      "model_name": "LayoutModel",
      "state": {
       "width": "100px"
      }
     },
     "79f71c8d887a469fb23259c85afba141": {
      "model_module": "@jupyter-widgets/controls",
      "model_module_version": "1.5.0",
      "model_name": "HBoxModel",
      "state": {
       "children": [
        "IPY_MODEL_62ee8523ada143f3bd7f35564e753877",
        "IPY_MODEL_710bd371376645c087e6c389bc3a9491"
       ],
       "layout": "IPY_MODEL_c5d25b6b9aa84aa6a5c9b4e1b74dd47f"
      }
     },
     "7a0c2e90de244e22ad0e3d70b35f51da": {
      "model_module": "@jupyter-widgets/base",
      "model_module_version": "1.2.0",
      "model_name": "LayoutModel",
      "state": {
       "width": "100px"
      }
     },
     "7a14d60e64d9438d9f391151724a1de0": {
      "model_module": "@jupyter-widgets/controls",
      "model_module_version": "1.5.0",
      "model_name": "DescriptionStyleModel",
      "state": {
       "description_width": ""
      }
     },
     "7a2d175427294c14af43dbbab0409da7": {
      "model_module": "@jupyter-widgets/controls",
      "model_module_version": "1.5.0",
      "model_name": "HBoxModel",
      "state": {
       "box_style": "info",
       "children": [
        "IPY_MODEL_783f98cdefcf4ffca7aa2acc6fea514f",
        "IPY_MODEL_b8c7d34a50454d87a1e15480df74e7f1"
       ],
       "layout": "IPY_MODEL_c2d9545f38164fb39e5d95bc2d46469b"
      }
     },
     "7a3e210e50704d958950260db230e915": {
      "model_module": "@jupyter-widgets/controls",
      "model_module_version": "1.5.0",
      "model_name": "DescriptionStyleModel",
      "state": {
       "description_width": ""
      }
     },
     "7a557f15cf80430f8d23213aca154856": {
      "model_module": "@jupyter-widgets/controls",
      "model_module_version": "1.5.0",
      "model_name": "DescriptionStyleModel",
      "state": {
       "description_width": ""
      }
     },
     "7a5c4f5c7c5d404a92bde97b0f2dfdaf": {
      "model_module": "@jupyter-widgets/controls",
      "model_module_version": "1.5.0",
      "model_name": "HBoxModel",
      "state": {
       "children": [
        "IPY_MODEL_cb281118dbbb49adb8d75948669c528a",
        "IPY_MODEL_34f0312266a9496f922a0fd9e7ce5dcd"
       ],
       "layout": "IPY_MODEL_b60f6a79bdf44a5dbddc530bb1eb5992"
      }
     },
     "7ac1d44e8118468a988644d03c8d2c6b": {
      "model_module": "@jupyter-widgets/controls",
      "model_module_version": "1.5.0",
      "model_name": "DescriptionStyleModel",
      "state": {
       "description_width": ""
      }
     },
     "7b0b5e8ddcc24e98ac8644bc150b8a73": {
      "model_module": "@jupyter-widgets/base",
      "model_module_version": "1.2.0",
      "model_name": "LayoutModel",
      "state": {}
     },
     "7b0db4763e8043a48ba4dc43b80b2597": {
      "model_module": "@jupyter-widgets/base",
      "model_module_version": "1.2.0",
      "model_name": "LayoutModel",
      "state": {}
     },
     "7b12cde7e0dc46e1936face222c35c8f": {
      "model_module": "@jupyter-widgets/controls",
      "model_module_version": "1.5.0",
      "model_name": "LabelModel",
      "state": {
       "layout": "IPY_MODEL_a14a4a1abf3d4957b5fbfa7f4582910d",
       "style": "IPY_MODEL_c1330f7f8c9849b79f45149161784b37"
      }
     },
     "7b9e0e54d0d341218a9d330d97151136": {
      "model_module": "@jupyter-widgets/controls",
      "model_module_version": "1.5.0",
      "model_name": "DescriptionStyleModel",
      "state": {
       "description_width": ""
      }
     },
     "7ba0ff1589604fa5b896de703a56151c": {
      "model_module": "@jupyter-widgets/controls",
      "model_module_version": "1.5.0",
      "model_name": "LabelModel",
      "state": {
       "layout": "IPY_MODEL_da59f168799d44768305c5891387f2ea",
       "style": "IPY_MODEL_09a02419187a4b74bf158737771f3b5e"
      }
     },
     "7baf60a375e44c089b309370f63f0091": {
      "model_module": "@jupyter-widgets/base",
      "model_module_version": "1.2.0",
      "model_name": "LayoutModel",
      "state": {}
     },
     "7bc4dd48723347d4ac414f10d3eb805b": {
      "model_module": "@jupyter-widgets/controls",
      "model_module_version": "1.5.0",
      "model_name": "LabelModel",
      "state": {
       "layout": "IPY_MODEL_d0c79afd5d734559b4e4763c12e7beb0",
       "style": "IPY_MODEL_60e770cb04334b95a48181c540151b80",
       "value": "fib(k)"
      }
     },
     "7bd28e3aeaaf44c9a7fec3ae1d5f7ec0": {
      "model_module": "@jupyter-widgets/base",
      "model_module_version": "1.2.0",
      "model_name": "LayoutModel",
      "state": {}
     },
     "7c0225ed6c22495b82e0379ce370838c": {
      "model_module": "@jupyter-widgets/base",
      "model_module_version": "1.2.0",
      "model_name": "LayoutModel",
      "state": {}
     },
     "7c0b067cebd94c1d98edbd568cf1a975": {
      "model_module": "@jupyter-widgets/controls",
      "model_module_version": "1.5.0",
      "model_name": "VBoxModel",
      "state": {
       "children": [
        "IPY_MODEL_6a8bef96b330455eae9808643539e6e8",
        "IPY_MODEL_62d600ee5c6146708d52b68b0578f5c6",
        "IPY_MODEL_82fcc1cc15ca42d1af776cab6df7de3c",
        "IPY_MODEL_02fe8cd08cc843d4bbf996b29d370a5a",
        "IPY_MODEL_370f81aefca2477397f503e1845b72ba"
       ],
       "layout": "IPY_MODEL_0a04a5c7378844feb9a22c6bc4b01c90"
      }
     },
     "7c6ccff234f04abdb57e21651f57cff9": {
      "model_module": "@jupyter-widgets/controls",
      "model_module_version": "1.5.0",
      "model_name": "LabelModel",
      "state": {
       "layout": "IPY_MODEL_a4758f150a63428ba155c2dc1c8184be",
       "style": "IPY_MODEL_f4d42f1b556f4845a7145d5630a51895",
       "value": "fib(n - 1) + fib(n - 2)"
      }
     },
     "7c7eac72625e4598bff0bd1fd56ca244": {
      "model_module": "@jupyter-widgets/controls",
      "model_module_version": "1.5.0",
      "model_name": "DescriptionStyleModel",
      "state": {
       "description_width": ""
      }
     },
     "7c9276d4d5fb45b08759d53b82daab3b": {
      "model_module": "@jupyter-widgets/base",
      "model_module_version": "1.2.0",
      "model_name": "LayoutModel",
      "state": {}
     },
     "7ca103b35d7740de9168c5bc7ba95864": {
      "model_module": "@jupyter-widgets/base",
      "model_module_version": "1.2.0",
      "model_name": "LayoutModel",
      "state": {}
     },
     "7cae245ba7844bdbb25edda8263ab82c": {
      "model_module": "@jupyter-widgets/controls",
      "model_module_version": "1.5.0",
      "model_name": "ButtonStyleModel",
      "state": {
       "button_color": "lightblue"
      }
     },
     "7cb069382d594956bb584cf4cbd6e200": {
      "model_module": "@jupyter-widgets/base",
      "model_module_version": "1.2.0",
      "model_name": "LayoutModel",
      "state": {
       "align_items": "stretch",
       "display": "flex",
       "flex_flow": "row wrap",
       "width": "auto"
      }
     },
     "7cb9839dc0794bba9091c1e18efb5ee1": {
      "model_module": "@jupyter-widgets/base",
      "model_module_version": "1.2.0",
      "model_name": "LayoutModel",
      "state": {}
     },
     "7cf274c3558a40d6b6d17afa7e22539d": {
      "model_module": "@jupyter-widgets/controls",
      "model_module_version": "1.5.0",
      "model_name": "HBoxModel",
      "state": {
       "children": [
        "IPY_MODEL_4343f904580b4bc79264154290639622",
        "IPY_MODEL_0d2c18d0d29b48adbd8a4af60a1f5350"
       ],
       "layout": "IPY_MODEL_a766c1cd7c8b4cd2a0a6c33a56b3cff4"
      }
     },
     "7d46be126388490891312e8d8bdec897": {
      "model_module": "@jupyter-widgets/base",
      "model_module_version": "1.2.0",
      "model_name": "LayoutModel",
      "state": {
       "border": "2px solid green"
      }
     },
     "7d875278405b4cc28bf5879dc70459a5": {
      "model_module": "@jupyter-widgets/base",
      "model_module_version": "1.2.0",
      "model_name": "LayoutModel",
      "state": {
       "width": "30px"
      }
     },
     "7d938a1ef60d4b498b15093e459d9187": {
      "model_module": "@jupyter-widgets/base",
      "model_module_version": "1.2.0",
      "model_name": "LayoutModel",
      "state": {
       "width": "1000px"
      }
     },
     "7ddef2a6933e485ba72f8e96035427d4": {
      "model_module": "@jupyter-widgets/base",
      "model_module_version": "1.2.0",
      "model_name": "LayoutModel",
      "state": {}
     },
     "7e0e2a3d1e1549cab01c85dea550f3dc": {
      "model_module": "@jupyter-widgets/controls",
      "model_module_version": "1.5.0",
      "model_name": "LabelModel",
      "state": {
       "layout": "IPY_MODEL_772647b4183148279ca1a445b81d0e97",
       "style": "IPY_MODEL_f2d8a3b6987c4f3490a22816428bd181"
      }
     },
     "7e2e42e12e414cb09742b9b08e542b5a": {
      "model_module": "@jupyter-widgets/controls",
      "model_module_version": "1.5.0",
      "model_name": "HBoxModel",
      "state": {
       "box_style": "info",
       "children": [
        "IPY_MODEL_766c966586a54eb2916d0207474e4683",
        "IPY_MODEL_be507e72072240bbb9ed15175cc2578a"
       ],
       "layout": "IPY_MODEL_72f407f4ebf44711bb22431d22519ea0"
      }
     },
     "7e323960e46c42f4947d5a3f5cfb4c4e": {
      "model_module": "@jupyter-widgets/base",
      "model_module_version": "1.2.0",
      "model_name": "LayoutModel",
      "state": {}
     },
     "7e93ae2585694a22ba631400872a2269": {
      "model_module": "@jupyter-widgets/base",
      "model_module_version": "1.2.0",
      "model_name": "LayoutModel",
      "state": {}
     },
     "7eaa36db686f49c1b64effea4eb784ba": {
      "model_module": "@jupyter-widgets/base",
      "model_module_version": "1.2.0",
      "model_name": "LayoutModel",
      "state": {}
     },
     "7ebeb9418fd54c8fafeecad1fa53bd47": {
      "model_module": "@jupyter-widgets/controls",
      "model_module_version": "1.5.0",
      "model_name": "LabelModel",
      "state": {
       "layout": "IPY_MODEL_9f1ebcf913a34229a79831f53867fdfd",
       "style": "IPY_MODEL_e400d66964364ceb8e82ea5adb621c8b"
      }
     },
     "7ed6977067cc4672a5cb061905e84746": {
      "model_module": "@jupyter-widgets/controls",
      "model_module_version": "1.5.0",
      "model_name": "DescriptionStyleModel",
      "state": {
       "description_width": "initial"
      }
     },
     "7edc4ba988174ef485d34ab7f1be85cc": {
      "model_module": "@jupyter-widgets/base",
      "model_module_version": "1.2.0",
      "model_name": "LayoutModel",
      "state": {
       "width": "30px"
      }
     },
     "7f546ef04a904ef0a50aefc7d4bbcd71": {
      "model_module": "@jupyter-widgets/base",
      "model_module_version": "1.2.0",
      "model_name": "LayoutModel",
      "state": {}
     },
     "7f62e62d60224ba48c7168928ac1c971": {
      "model_module": "@jupyter-widgets/controls",
      "model_module_version": "1.5.0",
      "model_name": "GridBoxModel",
      "state": {
       "box_style": "info",
       "children": [
        "IPY_MODEL_dcc3d5c0d90948f68931dd66345e98bb",
        "IPY_MODEL_8bc071ab2d6741129d114b92904969e2",
        "IPY_MODEL_acb2028689c34a8ab5c4962fc6a189b0"
       ],
       "layout": "IPY_MODEL_34ab81df7ed7421aa6823a3575a4d962"
      }
     },
     "7f6cff97c5bf4c738eb79987bc455a9f": {
      "model_module": "@jupyter-widgets/base",
      "model_module_version": "1.2.0",
      "model_name": "LayoutModel",
      "state": {
       "grid_area": "left-sidebar"
      }
     },
     "7f76e288cf1b4ca588961a7b9ed5ba47": {
      "model_module": "@jupyter-widgets/controls",
      "model_module_version": "1.5.0",
      "model_name": "DescriptionStyleModel",
      "state": {
       "description_width": ""
      }
     },
     "7f9159da5c87467d8f861741086f24c2": {
      "model_module": "@jupyter-widgets/controls",
      "model_module_version": "1.5.0",
      "model_name": "LabelModel",
      "state": {
       "layout": "IPY_MODEL_5094b30ed848409fb920fd39396c168b",
       "style": "IPY_MODEL_972aa696fdca44eb8eda266853d28ca1"
      }
     },
     "7fab52b0564148bc8d180e8216c9afa3": {
      "model_module": "@jupyter-widgets/controls",
      "model_module_version": "1.5.0",
      "model_name": "DescriptionStyleModel",
      "state": {
       "description_width": ""
      }
     },
     "7fb4d852e2654b5791f7548375529b7e": {
      "model_module": "@jupyter-widgets/base",
      "model_module_version": "1.2.0",
      "model_name": "LayoutModel",
      "state": {
       "width": "1000px"
      }
     },
     "7fcef5a6711f4357be2a9f2c99343bc4": {
      "model_module": "@jupyter-widgets/base",
      "model_module_version": "1.2.0",
      "model_name": "LayoutModel",
      "state": {
       "width": "30px"
      }
     },
     "7fea9178567243879ff3aaf906c7dd16": {
      "model_module": "@jupyter-widgets/controls",
      "model_module_version": "1.5.0",
      "model_name": "HBoxModel",
      "state": {
       "children": [
        "IPY_MODEL_d9f4413d0e724390ae17f1f53932e82c",
        "IPY_MODEL_d9b5af7c58674e62838e5f1adae9b99e"
       ],
       "layout": "IPY_MODEL_2a5a8d5079894559a3c9506d9f4758a9"
      }
     },
     "802865573ee44b07bc3601fb555ad6d3": {
      "model_module": "@jupyter-widgets/base",
      "model_module_version": "1.2.0",
      "model_name": "LayoutModel",
      "state": {}
     },
     "803af3afcb804864b2c74502c66e9393": {
      "model_module": "@jupyter-widgets/controls",
      "model_module_version": "1.5.0",
      "model_name": "CheckboxModel",
      "state": {
       "disabled": false,
       "layout": "IPY_MODEL_b89ae53cbb8d419a9393ff0812f4c78d",
       "style": "IPY_MODEL_a3da6eba9e924d0d93002519f31823fb",
       "value": false
      }
     },
     "8090f9e95bcb468b9fb731b974d7671e": {
      "model_module": "@jupyter-widgets/controls",
      "model_module_version": "1.5.0",
      "model_name": "DescriptionStyleModel",
      "state": {
       "description_width": ""
      }
     },
     "80982d8617574c8a8128cee12faa4603": {
      "model_module": "@jupyter-widgets/base",
      "model_module_version": "1.2.0",
      "model_name": "LayoutModel",
      "state": {}
     },
     "80d3080feef44bd1b7e6720b668c9d11": {
      "model_module": "@jupyter-widgets/controls",
      "model_module_version": "1.5.0",
      "model_name": "LabelModel",
      "state": {
       "layout": "IPY_MODEL_6a1600692fcf445f89cb2503f86cc4b9",
       "style": "IPY_MODEL_97584f1ed7c44dc1bd068e0796ba6e93",
       "value": "fib(n - 1) + fib(n - 2)"
      }
     },
     "8100cc6e012643f68b4eeeae2b5afadf": {
      "model_module": "@jupyter-widgets/base",
      "model_module_version": "1.2.0",
      "model_name": "LayoutModel",
      "state": {
       "grid_area": "header"
      }
     },
     "81383f47de15461eb75003090a2b7ccb": {
      "model_module": "@jupyter-widgets/controls",
      "model_module_version": "1.5.0",
      "model_name": "LabelModel",
      "state": {
       "layout": "IPY_MODEL_926b0c2f5bbb4fe0b90911b17601404f",
       "style": "IPY_MODEL_a3581f85fd784f47815c9dff5763b49e"
      }
     },
     "8183528c840a4c609310261a822861e7": {
      "model_module": "@jupyter-widgets/base",
      "model_module_version": "1.2.0",
      "model_name": "LayoutModel",
      "state": {
       "width": "1000px"
      }
     },
     "81963fea89454e33ad44b1d8b7dd1cfc": {
      "model_module": "@jupyter-widgets/controls",
      "model_module_version": "1.5.0",
      "model_name": "ButtonModel",
      "state": {
       "description": "Submit",
       "layout": "IPY_MODEL_b100e0e996c242459d6e7792b4299891",
       "style": "IPY_MODEL_ee8de883452a4b2aae9e511fdcfea709"
      }
     },
     "819dc75580c74225abecc70eba5c420c": {
      "model_module": "@jupyter-widgets/base",
      "model_module_version": "1.2.0",
      "model_name": "LayoutModel",
      "state": {
       "width": "30px"
      }
     },
     "8206df88c1b74a7b8f817e584f30af7f": {
      "model_module": "@jupyter-widgets/controls",
      "model_module_version": "1.5.0",
      "model_name": "ButtonModel",
      "state": {
       "description": "Submit",
       "layout": "IPY_MODEL_fb95f0bcce6f4ffa9884350ac122eda6",
       "style": "IPY_MODEL_a99487d45599402292dc8443ccf1a745"
      }
     },
     "820ed6ce3f154fefac07a91cd2becd9e": {
      "model_module": "@jupyter-widgets/base",
      "model_module_version": "1.2.0",
      "model_name": "LayoutModel",
      "state": {
       "width": "1000px"
      }
     },
     "8250544300f74d7984299de799605889": {
      "model_module": "@jupyter-widgets/controls",
      "model_module_version": "1.5.0",
      "model_name": "DescriptionStyleModel",
      "state": {
       "description_width": "initial"
      }
     },
     "826ee83e4a9a4989b1f2a89b4872df8a": {
      "model_module": "@jupyter-widgets/base",
      "model_module_version": "1.2.0",
      "model_name": "LayoutModel",
      "state": {}
     },
     "82b61e3a0a1e448f85f830405325906e": {
      "model_module": "@jupyter-widgets/controls",
      "model_module_version": "1.5.0",
      "model_name": "HBoxModel",
      "state": {
       "children": [
        "IPY_MODEL_296402268262431ab081fc96216594c4",
        "IPY_MODEL_3f96d54fe8ec4355a618773a2de65eb6"
       ],
       "layout": "IPY_MODEL_6a843d87061a48b2afb9ecba659a55fa"
      }
     },
     "82d6019927024cc6ae3fd3386bddef85": {
      "model_module": "@jupyter-widgets/base",
      "model_module_version": "1.2.0",
      "model_name": "LayoutModel",
      "state": {}
     },
     "82ea8f05e00b4e0f92539eefe4514bf8": {
      "model_module": "@jupyter-widgets/controls",
      "model_module_version": "1.5.0",
      "model_name": "LabelModel",
      "state": {
       "layout": "IPY_MODEL_20e6518b5ee148eda57f78c522c5a394",
       "style": "IPY_MODEL_e9649239dd5d4da3a24208e3ccf43ac8",
       "value": "fib(n) - 1"
      }
     },
     "82fcc1cc15ca42d1af776cab6df7de3c": {
      "model_module": "@jupyter-widgets/controls",
      "model_module_version": "1.5.0",
      "model_name": "HBoxModel",
      "state": {
       "children": [
        "IPY_MODEL_ff6be304c8164d52b781ded67daeffb9",
        "IPY_MODEL_5850f2d502a84138b2807ec9addb1c78"
       ],
       "layout": "IPY_MODEL_796dd85f87824eecbf2eadd1b24c5fbf"
      }
     },
     "831535a9a12e4937aa89d1c602b05dc3": {
      "model_module": "@jupyter-widgets/controls",
      "model_module_version": "1.5.0",
      "model_name": "DescriptionStyleModel",
      "state": {
       "description_width": ""
      }
     },
     "83244ee4143242258d61c7a83ed2e0de": {
      "model_module": "@jupyter-widgets/controls",
      "model_module_version": "1.5.0",
      "model_name": "LabelModel",
      "state": {
       "layout": "IPY_MODEL_102303a6bd264f89a3404e4df9bf8a7c",
       "style": "IPY_MODEL_163ca1afbf744895886b08eda4a8573a",
       "value": "When calculating the 8th Fibonacci number, fib(2) is called"
      }
     },
     "83604c03232f4e6ba0a1e042d1fdb5de": {
      "model_module": "@jupyter-widgets/controls",
      "model_module_version": "1.5.0",
      "model_name": "LabelModel",
      "state": {
       "layout": "IPY_MODEL_d2987fb9000a4aada1fc1bb5d6874075",
       "style": "IPY_MODEL_ad7f371331744539aa282ad360bd7d54",
       "value": ". . . . . . . Nice one!"
      }
     },
     "837ae746ae674f228e3dc54fc5f918c3": {
      "model_module": "@jupyter-widgets/controls",
      "model_module_version": "1.5.0",
      "model_name": "DescriptionStyleModel",
      "state": {
       "description_width": ""
      }
     },
     "83f864ebfccf4a0a80540d1b0282c1f0": {
      "model_module": "@jupyter-widgets/controls",
      "model_module_version": "1.5.0",
      "model_name": "HBoxModel",
      "state": {
       "children": [
        "IPY_MODEL_019b33ad53cb4fdd908b7b163858eb19",
        "IPY_MODEL_c6faabd68a914916b1f4ff7f21853454"
       ],
       "layout": "IPY_MODEL_f4eb8f83483a49bb80a6cf7b00cb956b"
      }
     },
     "83fb4d2278b9461ab4fcd340ebe24aa6": {
      "model_module": "@jupyter-widgets/controls",
      "model_module_version": "1.5.0",
      "model_name": "HBoxModel",
      "state": {
       "children": [
        "IPY_MODEL_8fd812501cf14084b2996aa9e3ce7d6a",
        "IPY_MODEL_6c9bae4c6170411c94aff2734e843a23",
        "IPY_MODEL_fbe89e0c5aa54e4698c2b6de16e37a66"
       ],
       "layout": "IPY_MODEL_f3536c06b8914da297264606da469939"
      }
     },
     "83fc5bc68ac64809ba9614679ad92c99": {
      "model_module": "@jupyter-widgets/base",
      "model_module_version": "1.2.0",
      "model_name": "LayoutModel",
      "state": {
       "width": "1000px"
      }
     },
     "8451bc8e3e9842e3a2c2d29ec571270a": {
      "model_module": "@jupyter-widgets/controls",
      "model_module_version": "1.5.0",
      "model_name": "DescriptionStyleModel",
      "state": {
       "description_width": "initial"
      }
     },
     "84d70bfe63d54bdf9b1fc52116d56deb": {
      "model_module": "@jupyter-widgets/base",
      "model_module_version": "1.2.0",
      "model_name": "LayoutModel",
      "state": {}
     },
     "84e9a826cf5d42e1ac76a20ab8afe966": {
      "model_module": "@jupyter-widgets/controls",
      "model_module_version": "1.5.0",
      "model_name": "CheckboxModel",
      "state": {
       "disabled": false,
       "layout": "IPY_MODEL_1421397e7d2043949b69833191ea6b35",
       "style": "IPY_MODEL_4e87874388fd4731a84326a35dc85264",
       "value": false
      }
     },
     "84ee20e9d6564768b50ad69074706d93": {
      "model_module": "@jupyter-widgets/controls",
      "model_module_version": "1.5.0",
      "model_name": "LabelModel",
      "state": {
       "layout": "IPY_MODEL_27241d26b3874c6983fe2734d1e9f95d",
       "style": "IPY_MODEL_a765634a08774a7b9840b514a70e5f05",
       "value": "How many nodes of type fib(n - k) does the call stack tree of fib(n) have (when n > 2 and 0 <= k < n - 3)?"
      }
     },
     "8505b0e618394d05a898f3ee14d4dcc0": {
      "model_module": "@jupyter-widgets/base",
      "model_module_version": "1.2.0",
      "model_name": "LayoutModel",
      "state": {
       "width": "30px"
      }
     },
     "851c9500ae3d4fa98711a95c8258554a": {
      "model_module": "@jupyter-widgets/base",
      "model_module_version": "1.2.0",
      "model_name": "LayoutModel",
      "state": {
       "width": "100px"
      }
     },
     "85b16ac5e8324bc0ae31fe93de48a881": {
      "model_module": "@jupyter-widgets/base",
      "model_module_version": "1.2.0",
      "model_name": "LayoutModel",
      "state": {}
     },
     "85b9e8cd4bf5431881d42e3af7fd1a9f": {
      "model_module": "@jupyter-widgets/controls",
      "model_module_version": "1.5.0",
      "model_name": "LabelModel",
      "state": {
       "layout": "IPY_MODEL_b49daacb0da64a16ac5dfed77497a69b",
       "style": "IPY_MODEL_20cb1f2de78f4797968157226edb102d",
       "value": "fib(n)"
      }
     },
     "86192a3086854be5b8abd6204152734c": {
      "model_module": "@jupyter-widgets/controls",
      "model_module_version": "1.5.0",
      "model_name": "HBoxModel",
      "state": {
       "children": [
        "IPY_MODEL_e44d72a49d2c40ac975703e5ad7dcdb6",
        "IPY_MODEL_e59d8601081e4c5eb7a31241ef5f12fb"
       ],
       "layout": "IPY_MODEL_d62fdcc4cb6540cc933f96095be7e616"
      }
     },
     "861bb97b2be6476787a371c143dabcb3": {
      "model_module": "@jupyter-widgets/controls",
      "model_module_version": "1.5.0",
      "model_name": "HBoxModel",
      "state": {
       "box_style": "info",
       "children": [
        "IPY_MODEL_0be548e9b6f1425bbac75653225c6800",
        "IPY_MODEL_e1451ec768884ef5beff6d86f71b0a5c"
       ],
       "layout": "IPY_MODEL_734bc6f8b82741cd80b7af0081422335"
      }
     },
     "866165b142294bfd84233a178ab0c0a6": {
      "model_module": "@jupyter-widgets/controls",
      "model_module_version": "1.5.0",
      "model_name": "DescriptionStyleModel",
      "state": {
       "description_width": ""
      }
     },
     "86a4cbdbba5a4192ab08645e3a608020": {
      "model_module": "@jupyter-widgets/controls",
      "model_module_version": "1.5.0",
      "model_name": "VBoxModel",
      "state": {
       "children": [
        "IPY_MODEL_7759f57e42054620874dd07c136d059c",
        "IPY_MODEL_562849fb55134789bfdd1d6051fba64c",
        "IPY_MODEL_af0c628451264666b0a4baf6293dfd30",
        "IPY_MODEL_bdea887b7346413f9cdbfddf02d8e898",
        "IPY_MODEL_8edfd9e823bd46bd8c93b649eec0b163"
       ],
       "layout": "IPY_MODEL_8da5793eeecb4075823938b9ea33ae52"
      }
     },
     "86e7f2d8805245c7b5a459bc85e3645c": {
      "model_module": "@jupyter-widgets/controls",
      "model_module_version": "1.5.0",
      "model_name": "DescriptionStyleModel",
      "state": {
       "description_width": ""
      }
     },
     "870a8ed18b684c08a808c9753c7f2cc3": {
      "model_module": "@jupyter-widgets/controls",
      "model_module_version": "1.5.0",
      "model_name": "DescriptionStyleModel",
      "state": {
       "description_width": ""
      }
     },
     "871dedec9d66410c9ce378f0aa5878cc": {
      "model_module": "@jupyter-widgets/controls",
      "model_module_version": "1.5.0",
      "model_name": "LabelModel",
      "state": {
       "layout": "IPY_MODEL_4c01b698d1df466ea6e401eb8a60019a",
       "style": "IPY_MODEL_ddad2114e0d4451eafd4e2dd504a8c3d"
      }
     },
     "872484edcda743c0b7b58eb967f377bf": {
      "model_module": "@jupyter-widgets/controls",
      "model_module_version": "1.5.0",
      "model_name": "HBoxModel",
      "state": {
       "children": [
        "IPY_MODEL_2fd6a7b6b2414794b57365613b81c0c0",
        "IPY_MODEL_eda0102ac5434adf98a7f4a71e8ef7e7"
       ],
       "layout": "IPY_MODEL_346b22c226ef431dbb00d8ed021b6698"
      }
     },
     "875d9202343246d6b0788a20d27c92db": {
      "model_module": "@jupyter-widgets/base",
      "model_module_version": "1.2.0",
      "model_name": "LayoutModel",
      "state": {}
     },
     "87861d23f5cc42e783c3f3332b5d28a6": {
      "model_module": "@jupyter-widgets/base",
      "model_module_version": "1.2.0",
      "model_name": "LayoutModel",
      "state": {}
     },
     "87a47cec273045118907171acdecd48c": {
      "model_module": "@jupyter-widgets/controls",
      "model_module_version": "1.5.0",
      "model_name": "LabelModel",
      "state": {
       "layout": "IPY_MODEL_7b0b5e8ddcc24e98ac8644bc150b8a73",
       "style": "IPY_MODEL_eef3d3f1103f49c08553f682f78494ce"
      }
     },
     "88481a1b0e664633903ef8ca1f137baf": {
      "model_module": "@jupyter-widgets/base",
      "model_module_version": "1.2.0",
      "model_name": "LayoutModel",
      "state": {
       "align_items": "stretch",
       "display": "flex",
       "flex_flow": "column",
       "width": "100%"
      }
     },
     "889db3f4b64f4df49b61b7b5c96f95c4": {
      "model_module": "@jupyter-widgets/controls",
      "model_module_version": "1.5.0",
      "model_name": "DescriptionStyleModel",
      "state": {
       "description_width": "initial"
      }
     },
     "88b268807e894db9a2dd64cd08c138ce": {
      "model_module": "@jupyter-widgets/controls",
      "model_module_version": "1.5.0",
      "model_name": "HBoxModel",
      "state": {
       "children": [
        "IPY_MODEL_f959c100406d422999b95740b623c009",
        "IPY_MODEL_18362fe8edc54b05b9c97ea0c1c44e67"
       ],
       "layout": "IPY_MODEL_ad92a31adaca446e9a367425b955e1fa"
      }
     },
     "88bd1bd5a8ce4301a31b7e09d011aeff": {
      "model_module": "@jupyter-widgets/controls",
      "model_module_version": "1.5.0",
      "model_name": "LabelModel",
      "state": {
       "layout": "IPY_MODEL_1503e6d3ed8a4be0a5b4da00eefe3599",
       "style": "IPY_MODEL_f3b706abfee94a198728bb5bad236999",
       "value": "$2^n$"
      }
     },
     "88cc7566dab34f47aba58d6461863151": {
      "model_module": "@jupyter-widgets/controls",
      "model_module_version": "1.5.0",
      "model_name": "LabelModel",
      "state": {
       "layout": "IPY_MODEL_c7edce6fa04c4bb195d38d8cbfd43efc",
       "style": "IPY_MODEL_c3ffff5e66494776ab738d231cecbe94"
      }
     },
     "88e026869a6948af9f9d60d85796fac2": {
      "model_module": "@jupyter-widgets/controls",
      "model_module_version": "1.5.0",
      "model_name": "LabelModel",
      "state": {
       "layout": "IPY_MODEL_3c8b261ab7074c98be58809916b6a665",
       "style": "IPY_MODEL_1b7472d121704d64a0ed558e75d91867",
       "value": "fib(n) - 1"
      }
     },
     "8901079447214e5f85704fbb07f90eb9": {
      "model_module": "@jupyter-widgets/controls",
      "model_module_version": "1.5.0",
      "model_name": "DescriptionStyleModel",
      "state": {
       "description_width": ""
      }
     },
     "893530580d0f4c759b42df88384ca11d": {
      "model_module": "@jupyter-widgets/base",
      "model_module_version": "1.2.0",
      "model_name": "LayoutModel",
      "state": {
       "width": "1000px"
      }
     },
     "89502a799a9d4dbfa7180ef9d913e794": {
      "model_module": "@jupyter-widgets/base",
      "model_module_version": "1.2.0",
      "model_name": "LayoutModel",
      "state": {
       "grid_template_areas": "\"header header\"\n\"left-sidebar left-sidebar\"\n\"footer footer\"",
       "grid_template_columns": "1fr 1fr",
       "grid_template_rows": "1fr 3fr 1fr"
      }
     },
     "896b1540ebec44f7b1db239390fe281b": {
      "model_module": "@jupyter-widgets/controls",
      "model_module_version": "1.5.0",
      "model_name": "HBoxModel",
      "state": {
       "children": [
        "IPY_MODEL_9138c5ce787f4f0e87b5b957e28fe70c",
        "IPY_MODEL_8bdc3fb740274dbea58a4b337fbf7067"
       ],
       "layout": "IPY_MODEL_105f4d06029c4085b1847ebc9233ea21"
      }
     },
     "8976686ae7de4bc99c39f07bbe610c6f": {
      "model_module": "@jupyter-widgets/controls",
      "model_module_version": "1.5.0",
      "model_name": "HBoxModel",
      "state": {
       "children": [
        "IPY_MODEL_02564dd197024181a29d0852ddd47342",
        "IPY_MODEL_d59f8be984ae4aebb239567d9c9564ca"
       ],
       "layout": "IPY_MODEL_1c5772bd86d3467087e395c50eb47a1b"
      }
     },
     "897d17a8ad054d768b6804ded4614d99": {
      "model_module": "@jupyter-widgets/controls",
      "model_module_version": "1.5.0",
      "model_name": "DescriptionStyleModel",
      "state": {
       "description_width": ""
      }
     },
     "898461eb9ce547868f9c79f3bba3869e": {
      "model_module": "@jupyter-widgets/controls",
      "model_module_version": "1.5.0",
      "model_name": "HBoxModel",
      "state": {
       "children": [
        "IPY_MODEL_379b7ea7f72c45f08dcdb3b2d4b11e65",
        "IPY_MODEL_21cb7834900b4ed58bfb16c47450cab0"
       ],
       "layout": "IPY_MODEL_1038d492f2374716bf256f26c9efc414"
      }
     },
     "89adb0368c4d4cc392aedbb71ede352e": {
      "model_module": "@jupyter-widgets/controls",
      "model_module_version": "1.5.0",
      "model_name": "DescriptionStyleModel",
      "state": {
       "description_width": "initial"
      }
     },
     "89d82a6b74c94670aa753006cb75d999": {
      "model_module": "@jupyter-widgets/base",
      "model_module_version": "1.2.0",
      "model_name": "LayoutModel",
      "state": {}
     },
     "89eb799fc2a34bf1bf72d036a69d9d9b": {
      "model_module": "@jupyter-widgets/controls",
      "model_module_version": "1.5.0",
      "model_name": "LabelModel",
      "state": {
       "layout": "IPY_MODEL_41731c0c9cac4364b46e2f3a6f88f063",
       "style": "IPY_MODEL_ef361607235744ab80e8ede385e9131c"
      }
     },
     "89fc40b5e61e4d5dbe1dfdaf64e0b371": {
      "model_module": "@jupyter-widgets/controls",
      "model_module_version": "1.5.0",
      "model_name": "LabelModel",
      "state": {
       "layout": "IPY_MODEL_7576b7f46d8f4ea7a47dc7b97da208f0",
       "style": "IPY_MODEL_4f0bd1c163e747c8875d0e5aa567474d"
      }
     },
     "8a04ad45298d4ce0b9aee9ea24059234": {
      "model_module": "@jupyter-widgets/controls",
      "model_module_version": "1.5.0",
      "model_name": "LabelModel",
      "state": {
       "layout": "IPY_MODEL_5f0f76fd29ed48e8aa4028f3de2d3564",
       "style": "IPY_MODEL_3f4df646473344d99e4d1b10919e45aa",
       "value": "$fib(k)$"
      }
     },
     "8a218b58fb42461a94c3b0a81e3b43ca": {
      "model_module": "@jupyter-widgets/base",
      "model_module_version": "1.2.0",
      "model_name": "LayoutModel",
      "state": {
       "width": "30px"
      }
     },
     "8a53b9b86f974f76868c8497c1314c7f": {
      "model_module": "@jupyter-widgets/controls",
      "model_module_version": "1.5.0",
      "model_name": "DescriptionStyleModel",
      "state": {
       "description_width": ""
      }
     },
     "8a7ae3227d23440a9085d020eb7c694e": {
      "model_module": "@jupyter-widgets/controls",
      "model_module_version": "1.5.0",
      "model_name": "DescriptionStyleModel",
      "state": {
       "description_width": ""
      }
     },
     "8a9340ff7cc8406d9a03f45d48dcea5a": {
      "model_module": "@jupyter-widgets/controls",
      "model_module_version": "1.5.0",
      "model_name": "HBoxModel",
      "state": {
       "children": [
        "IPY_MODEL_6be27e436d5348a9a8e8681e4b8d522e",
        "IPY_MODEL_3c1556ffd2da40c89d8086d0bd15c893"
       ],
       "layout": "IPY_MODEL_6506d691093a4730a14497ce8b204983"
      }
     },
     "8aa3bddee27d4f12a38d3b018c3af335": {
      "model_module": "@jupyter-widgets/controls",
      "model_module_version": "1.5.0",
      "model_name": "DescriptionStyleModel",
      "state": {
       "description_width": ""
      }
     },
     "8aa9465fbffb44d68fdc0fe8521ab05f": {
      "model_module": "@jupyter-widgets/controls",
      "model_module_version": "1.5.0",
      "model_name": "ButtonModel",
      "state": {
       "description": "Submit",
       "layout": "IPY_MODEL_c0ab805b5bcc47e49e25390d1d6ba88f",
       "style": "IPY_MODEL_de8c4dcab5f845a49d4eb453c7b34a65"
      }
     },
     "8ac6597f10154c1e87c619ee780d250c": {
      "model_module": "@jupyter-widgets/controls",
      "model_module_version": "1.5.0",
      "model_name": "HBoxModel",
      "state": {
       "children": [
        "IPY_MODEL_99f6ab19ec7849bda217df5fecbeb82b",
        "IPY_MODEL_003b4d8e7b0248a9a05e10742957d361"
       ],
       "layout": "IPY_MODEL_ac631d9ab0604c148eda7eb6975b66b8"
      }
     },
     "8af4a17e3f36498193773c82acc42ae4": {
      "model_module": "@jupyter-widgets/controls",
      "model_module_version": "1.5.0",
      "model_name": "GridBoxModel",
      "state": {
       "box_style": "info",
       "children": [
        "IPY_MODEL_74ae7bc3f7ee48da94e2db920caf8609",
        "IPY_MODEL_7a2d175427294c14af43dbbab0409da7",
        "IPY_MODEL_86a4cbdbba5a4192ab08645e3a608020"
       ],
       "layout": "IPY_MODEL_cf9f8f59f0d44aeb909beba96ab66df7"
      }
     },
     "8afa74f5ae284b68a1791d29100058f1": {
      "model_module": "@jupyter-widgets/controls",
      "model_module_version": "1.5.0",
      "model_name": "CheckboxModel",
      "state": {
       "disabled": false,
       "layout": "IPY_MODEL_317674e214e742469bf7754e3d4aecf2",
       "style": "IPY_MODEL_fea154e9b34546e4bd95e91a9e34516d",
       "value": false
      }
     },
     "8afc7c5eef634179ba2ff7717b08cb60": {
      "model_module": "@jupyter-widgets/controls",
      "model_module_version": "1.5.0",
      "model_name": "LabelModel",
      "state": {
       "layout": "IPY_MODEL_0f69ca0ecde64f5d9287c41f109af700",
       "style": "IPY_MODEL_64083926a17441fa8d89e4528a4e518c"
      }
     },
     "8b5dcfb1bca94f4b95d72475ef73ffd5": {
      "model_module": "@jupyter-widgets/base",
      "model_module_version": "1.2.0",
      "model_name": "LayoutModel",
      "state": {}
     },
     "8b80806bc0094910bced4db1b98e1aac": {
      "model_module": "@jupyter-widgets/base",
      "model_module_version": "1.2.0",
      "model_name": "LayoutModel",
      "state": {
       "align_items": "stretch",
       "display": "flex",
       "flex_flow": "row wrap",
       "grid_area": "header",
       "margin": "0 0 30px 0",
       "width": "100%"
      }
     },
     "8b9a93a8864846d89c9de4b326ec1137": {
      "model_module": "@jupyter-widgets/controls",
      "model_module_version": "1.5.0",
      "model_name": "DescriptionStyleModel",
      "state": {
       "description_width": ""
      }
     },
     "8bc071ab2d6741129d114b92904969e2": {
      "model_module": "@jupyter-widgets/controls",
      "model_module_version": "1.5.0",
      "model_name": "HBoxModel",
      "state": {
       "box_style": "info",
       "children": [
        "IPY_MODEL_1d9e4a95eb8045168debfbeda66b2ba0",
        "IPY_MODEL_031f7bb1ad8a448d890701bcc2b87cf8"
       ],
       "layout": "IPY_MODEL_0032389f5145424da2f181a0b7ff99c5"
      }
     },
     "8bc23421616c4de1b75c4dc3923c1907": {
      "model_module": "@jupyter-widgets/controls",
      "model_module_version": "1.5.0",
      "model_name": "ButtonStyleModel",
      "state": {
       "button_color": "lightblue"
      }
     },
     "8bdc3fb740274dbea58a4b337fbf7067": {
      "model_module": "@jupyter-widgets/controls",
      "model_module_version": "1.5.0",
      "model_name": "LabelModel",
      "state": {
       "layout": "IPY_MODEL_609bcab866974322b4d4792badac5d13",
       "style": "IPY_MODEL_7962dc04d5484af09e9812f57f415702",
       "value": "fib(n) - 1"
      }
     },
     "8befea95cbb7454c851a520a9585edf6": {
      "model_module": "@jupyter-widgets/controls",
      "model_module_version": "1.5.0",
      "model_name": "LabelModel",
      "state": {
       "layout": "IPY_MODEL_80982d8617574c8a8128cee12faa4603",
       "style": "IPY_MODEL_e50331325784427e9cb2138e0da3cdb3"
      }
     },
     "8c1b080329144cfc966126bdd2d33d9e": {
      "model_module": "@jupyter-widgets/controls",
      "model_module_version": "1.5.0",
      "model_name": "HBoxModel",
      "state": {
       "children": [
        "IPY_MODEL_5d32bf21587c44f887403c326afec28d",
        "IPY_MODEL_deaa046d1af2466092e3af73ab1c17bc"
       ],
       "layout": "IPY_MODEL_9cc5140a686240ec950356701749c772"
      }
     },
     "8c8e7d86a2724d628c11b0fe80080b76": {
      "model_module": "@jupyter-widgets/controls",
      "model_module_version": "1.5.0",
      "model_name": "DescriptionStyleModel",
      "state": {
       "description_width": ""
      }
     },
     "8cb9015c800941b7a565e108306d6752": {
      "model_module": "@jupyter-widgets/base",
      "model_module_version": "1.2.0",
      "model_name": "LayoutModel",
      "state": {
       "width": "30px"
      }
     },
     "8cf8b7e7d1b34459b18235984f9df041": {
      "model_module": "@jupyter-widgets/base",
      "model_module_version": "1.2.0",
      "model_name": "LayoutModel",
      "state": {
       "width": "30px"
      }
     },
     "8d519e5cacea4270a3383c5e8bcc6aa9": {
      "model_module": "@jupyter-widgets/controls",
      "model_module_version": "1.5.0",
      "model_name": "DescriptionStyleModel",
      "state": {
       "description_width": "initial"
      }
     },
     "8d6989c4cef345cb814ac0451687b379": {
      "model_module": "@jupyter-widgets/controls",
      "model_module_version": "1.5.0",
      "model_name": "LabelModel",
      "state": {
       "layout": "IPY_MODEL_77aba7369ba244899f08ed94678758d5",
       "style": "IPY_MODEL_0917ddc40ca2414d91cb70e42e233780"
      }
     },
     "8da5793eeecb4075823938b9ea33ae52": {
      "model_module": "@jupyter-widgets/base",
      "model_module_version": "1.2.0",
      "model_name": "LayoutModel",
      "state": {
       "grid_area": "left-sidebar"
      }
     },
     "8dad442136a24415a78b0bf1b3cd437f": {
      "model_module": "@jupyter-widgets/base",
      "model_module_version": "1.2.0",
      "model_name": "LayoutModel",
      "state": {
       "border": "2px solid red"
      }
     },
     "8dc37ca31aaa41e1abb154ac35eee1ab": {
      "model_module": "@jupyter-widgets/base",
      "model_module_version": "1.2.0",
      "model_name": "LayoutModel",
      "state": {
       "width": "30px"
      }
     },
     "8dd941769a6b4e409571234f5d10403b": {
      "model_module": "@jupyter-widgets/base",
      "model_module_version": "1.2.0",
      "model_name": "LayoutModel",
      "state": {
       "width": "30px"
      }
     },
     "8de798b5af994593939a900fc523e421": {
      "model_module": "@jupyter-widgets/controls",
      "model_module_version": "1.5.0",
      "model_name": "LabelModel",
      "state": {
       "layout": "IPY_MODEL_a496602f39da4b4494402d4319ac83d4",
       "style": "IPY_MODEL_9cf3efcd7fa041dd9a4aa0261a9dec2b",
       "value": "fib(n - 1)"
      }
     },
     "8df7db46990e480eb9c60c8ae40ab9bf": {
      "model_module": "@jupyter-widgets/base",
      "model_module_version": "1.2.0",
      "model_name": "LayoutModel",
      "state": {}
     },
     "8dfc4f84eab240788e120541fb55678c": {
      "model_module": "@jupyter-widgets/base",
      "model_module_version": "1.2.0",
      "model_name": "LayoutModel",
      "state": {}
     },
     "8e3c2dd38c734c9d977766218654b6c5": {
      "model_module": "@jupyter-widgets/base",
      "model_module_version": "1.2.0",
      "model_name": "LayoutModel",
      "state": {
       "width": "1000px"
      }
     },
     "8e571b36a12c46c8b24057de44c89954": {
      "model_module": "@jupyter-widgets/controls",
      "model_module_version": "1.5.0",
      "model_name": "HBoxModel",
      "state": {
       "children": [
        "IPY_MODEL_b8295628f5b74dc6b0797855874af90c",
        "IPY_MODEL_5eec0b8095ca4f709fd8688bce4bb5ff"
       ],
       "layout": "IPY_MODEL_06f553b386324793a78f5acb188e54d5"
      }
     },
     "8eca777bc4bc4a379b28924eae2186fa": {
      "model_module": "@jupyter-widgets/base",
      "model_module_version": "1.2.0",
      "model_name": "LayoutModel",
      "state": {
       "width": "1000px"
      }
     },
     "8edfd9e823bd46bd8c93b649eec0b163": {
      "model_module": "@jupyter-widgets/controls",
      "model_module_version": "1.5.0",
      "model_name": "HBoxModel",
      "state": {
       "children": [
        "IPY_MODEL_209b6e2286664a4c9849b78bdb735347",
        "IPY_MODEL_79719fa1847042bcac66a10519fe18f0"
       ],
       "layout": "IPY_MODEL_bd88c22b17aa4202b028b930cf999ec2"
      }
     },
     "8f48a694747e48f79c9934283d36b602": {
      "model_module": "@jupyter-widgets/controls",
      "model_module_version": "1.5.0",
      "model_name": "LabelModel",
      "state": {
       "layout": "IPY_MODEL_27c5710098d9424c832f15a80ed8508f",
       "style": "IPY_MODEL_388b7c36b0514ccdabb2a3cf641a0d87",
       "value": "fib(k)"
      }
     },
     "8f5069d2a4d745ce87fdb208330f94e8": {
      "model_module": "@jupyter-widgets/base",
      "model_module_version": "1.2.0",
      "model_name": "LayoutModel",
      "state": {
       "grid_area": "footer"
      }
     },
     "8f54cc045e2945e7b9c33e378fdbd812": {
      "model_module": "@jupyter-widgets/controls",
      "model_module_version": "1.5.0",
      "model_name": "HBoxModel",
      "state": {
       "children": [
        "IPY_MODEL_bab00d1641ed46cbb332dad498302e11",
        "IPY_MODEL_0bafff2357234161992d599d446da7f3"
       ],
       "layout": "IPY_MODEL_a732d0e96bd34ecc9e4c3e62f3bc4629"
      }
     },
     "8f60fa9bcbdc410686dc98ae560fed21": {
      "model_module": "@jupyter-widgets/controls",
      "model_module_version": "1.5.0",
      "model_name": "LabelModel",
      "state": {
       "layout": "IPY_MODEL_9ad445eb0ef14a309b19aafb8323e7a9",
       "style": "IPY_MODEL_44b7ffc84435490d9b980cbd73784b4f",
       "value": "fib(n - k)"
      }
     },
     "8f7bea301a7f4ce2bcdcfbccdbd91b4b": {
      "model_module": "@jupyter-widgets/base",
      "model_module_version": "1.2.0",
      "model_name": "LayoutModel",
      "state": {
       "width": "100px"
      }
     },
     "8f81c9bdaf7e45ea821b3ca53e000ede": {
      "model_module": "@jupyter-widgets/base",
      "model_module_version": "1.2.0",
      "model_name": "LayoutModel",
      "state": {}
     },
     "8fd812501cf14084b2996aa9e3ce7d6a": {
      "model_module": "@jupyter-widgets/controls",
      "model_module_version": "1.5.0",
      "model_name": "ButtonModel",
      "state": {
       "description": "Submit",
       "layout": "IPY_MODEL_acb90cab94de4df0b0b3de7952316015",
       "style": "IPY_MODEL_f4d87e186f4542f5a858e4c2810acffe"
      }
     },
     "8fdbeb3c84474bc7a5f1f0c330768075": {
      "model_module": "@jupyter-widgets/controls",
      "model_module_version": "1.5.0",
      "model_name": "HBoxModel",
      "state": {
       "children": [
        "IPY_MODEL_5038faab7e0044fc9f1347fc1bacec64",
        "IPY_MODEL_996a5fe91b1e43e8be213d775afae5e1"
       ],
       "layout": "IPY_MODEL_f3303d339e414831a7feedd2488203d7"
      }
     },
     "8ff71528a99c493fbb984db3a3845ecf": {
      "model_module": "@jupyter-widgets/controls",
      "model_module_version": "1.5.0",
      "model_name": "LabelModel",
      "state": {
       "layout": "IPY_MODEL_24835260ec7048fd961fe346256d0287",
       "style": "IPY_MODEL_ac31ac4452054a1ea836774709bb0f11"
      }
     },
     "90062a74cbde418c835ac04c91fe30c3": {
      "model_module": "@jupyter-widgets/controls",
      "model_module_version": "1.5.0",
      "model_name": "LabelModel",
      "state": {
       "layout": "IPY_MODEL_6468b8cef3104a498200d01b2274f362",
       "style": "IPY_MODEL_07ae01383ed54c9fbfa67a1177bd3bd5"
      }
     },
     "903b9b533482421184aceb1becae6dae": {
      "model_module": "@jupyter-widgets/base",
      "model_module_version": "1.2.0",
      "model_name": "LayoutModel",
      "state": {}
     },
     "90405aff98e44eb2a856ea131612bd5d": {
      "model_module": "@jupyter-widgets/controls",
      "model_module_version": "1.5.0",
      "model_name": "DescriptionStyleModel",
      "state": {
       "description_width": ""
      }
     },
     "904f550744db4f02b0615f5e9590bef0": {
      "model_module": "@jupyter-widgets/controls",
      "model_module_version": "1.5.0",
      "model_name": "DescriptionStyleModel",
      "state": {
       "description_width": ""
      }
     },
     "90982baef6f6450993101adaa28e6c14": {
      "model_module": "@jupyter-widgets/base",
      "model_module_version": "1.2.0",
      "model_name": "LayoutModel",
      "state": {
       "grid_area": "footer"
      }
     },
     "9103a3b658184266b6ab04f4e58c1f0f": {
      "model_module": "@jupyter-widgets/base",
      "model_module_version": "1.2.0",
      "model_name": "LayoutModel",
      "state": {}
     },
     "91137ba62b4d4cd58200af969eb93486": {
      "model_module": "@jupyter-widgets/controls",
      "model_module_version": "1.5.0",
      "model_name": "HBoxModel",
      "state": {
       "children": [
        "IPY_MODEL_f75627cb8f8f4696bd8830c7312b44f5",
        "IPY_MODEL_ac1fb18901bc4bda9d9ce67e101d905d"
       ],
       "layout": "IPY_MODEL_4e56fedb457c483a8d3fd76c703d3753"
      }
     },
     "9138c5ce787f4f0e87b5b957e28fe70c": {
      "model_module": "@jupyter-widgets/controls",
      "model_module_version": "1.5.0",
      "model_name": "CheckboxModel",
      "state": {
       "disabled": false,
       "layout": "IPY_MODEL_7fcef5a6711f4357be2a9f2c99343bc4",
       "style": "IPY_MODEL_cc6c97060afe42968bcfd706871c305e",
       "value": false
      }
     },
     "915041661d0b4d2db7ab82d37d61f4a4": {
      "model_module": "@jupyter-widgets/base",
      "model_module_version": "1.2.0",
      "model_name": "LayoutModel",
      "state": {}
     },
     "916c37b05df24671a76c5cba332d01c3": {
      "model_module": "@jupyter-widgets/controls",
      "model_module_version": "1.5.0",
      "model_name": "LabelModel",
      "state": {
       "layout": "IPY_MODEL_62e5602207964271936e9df810d74fde",
       "style": "IPY_MODEL_4958b5fe019b4593aae2e1d85813df37",
       "value": "fib(n)"
      }
     },
     "91b8f79495774701b0ac2621ae7882cd": {
      "model_module": "@jupyter-widgets/controls",
      "model_module_version": "1.5.0",
      "model_name": "DescriptionStyleModel",
      "state": {
       "description_width": "initial"
      }
     },
     "91e58f8f354e4f6189e57556709007ec": {
      "model_module": "@jupyter-widgets/controls",
      "model_module_version": "1.5.0",
      "model_name": "GridBoxModel",
      "state": {
       "box_style": "info",
       "children": [
        "IPY_MODEL_a3a1b0b1fcbc4325b263b34f6c0a4a2e",
        "IPY_MODEL_54ca46113ad84bd080f34ece055ed544",
        "IPY_MODEL_c7180e2a9bec4d2587a366bd680c2bc6"
       ],
       "layout": "IPY_MODEL_f4a0357934564ef2a86c7045048a2220"
      }
     },
     "9214fd6b10a840318efdb3b8c725541c": {
      "model_module": "@jupyter-widgets/base",
      "model_module_version": "1.2.0",
      "model_name": "LayoutModel",
      "state": {
       "width": "auto"
      }
     },
     "922f34747d4a4f1499ef3fbd1efc23d3": {
      "model_module": "@jupyter-widgets/base",
      "model_module_version": "1.2.0",
      "model_name": "LayoutModel",
      "state": {
       "width": "30px"
      }
     },
     "926b0c2f5bbb4fe0b90911b17601404f": {
      "model_module": "@jupyter-widgets/base",
      "model_module_version": "1.2.0",
      "model_name": "LayoutModel",
      "state": {}
     },
     "92a55e92abc44b509c768a163da69ab6": {
      "model_module": "@jupyter-widgets/base",
      "model_module_version": "1.2.0",
      "model_name": "LayoutModel",
      "state": {}
     },
     "92df0865f16c4d4382d6312513872215": {
      "model_module": "@jupyter-widgets/controls",
      "model_module_version": "1.5.0",
      "model_name": "HBoxModel",
      "state": {
       "children": [
        "IPY_MODEL_e48e79f6306142e89ee8cfbb07808104",
        "IPY_MODEL_c93ee2f589284adaab340c523a9250da"
       ],
       "layout": "IPY_MODEL_915041661d0b4d2db7ab82d37d61f4a4"
      }
     },
     "933d6891ebc94106a2411230c75d9699": {
      "model_module": "@jupyter-widgets/controls",
      "model_module_version": "1.5.0",
      "model_name": "LabelModel",
      "state": {
       "layout": "IPY_MODEL_9fac2442f9ab41578f41084fe7399ec3",
       "style": "IPY_MODEL_64daa73ee818451aa24b5c89391c1714",
       "value": "fib(n)"
      }
     },
     "937552667e2843a18cfada9e73612e9f": {
      "model_module": "@jupyter-widgets/base",
      "model_module_version": "1.2.0",
      "model_name": "LayoutModel",
      "state": {}
     },
     "93e84c45449742c08286b6c5bceeb645": {
      "model_module": "@jupyter-widgets/base",
      "model_module_version": "1.2.0",
      "model_name": "LayoutModel",
      "state": {}
     },
     "93f800cd57b2467ca9b0d2b5be11212b": {
      "model_module": "@jupyter-widgets/controls",
      "model_module_version": "1.5.0",
      "model_name": "HBoxModel",
      "state": {
       "children": [
        "IPY_MODEL_09b1c38d07d34973b6cd1bdbedaf39b8",
        "IPY_MODEL_a1e1940125c2432795af85f3ef718835"
       ],
       "layout": "IPY_MODEL_f6636ffbd22a4496a55177c93af46d7d"
      }
     },
     "9408842a54ad4f0e9eff50b9b622e5db": {
      "model_module": "@jupyter-widgets/base",
      "model_module_version": "1.2.0",
      "model_name": "LayoutModel",
      "state": {}
     },
     "94240d745d4e4e49b2ff1e96b4b81ce2": {
      "model_module": "@jupyter-widgets/controls",
      "model_module_version": "1.5.0",
      "model_name": "DescriptionStyleModel",
      "state": {
       "description_width": "initial"
      }
     },
     "94252158764c45fd8b6c108b841a9a70": {
      "model_module": "@jupyter-widgets/base",
      "model_module_version": "1.2.0",
      "model_name": "LayoutModel",
      "state": {
       "width": "1000px"
      }
     },
     "943e1999734d473c8825af8cfac70a59": {
      "model_module": "@jupyter-widgets/controls",
      "model_module_version": "1.5.0",
      "model_name": "DescriptionStyleModel",
      "state": {
       "description_width": ""
      }
     },
     "943f02bed6a940fa89be9d09fdb149ac": {
      "model_module": "@jupyter-widgets/base",
      "model_module_version": "1.2.0",
      "model_name": "LayoutModel",
      "state": {}
     },
     "94445b602d474611afe8670f159ec5c9": {
      "model_module": "@jupyter-widgets/controls",
      "model_module_version": "1.5.0",
      "model_name": "LabelModel",
      "state": {
       "layout": "IPY_MODEL_b98463a025ad4932839c5b4f690ac62f",
       "style": "IPY_MODEL_5e3ff8648a5945548b7abfccfe0e7241"
      }
     },
     "94d59e230d3641d2ade4eac922fdbe2b": {
      "model_module": "@jupyter-widgets/controls",
      "model_module_version": "1.5.0",
      "model_name": "DescriptionStyleModel",
      "state": {
       "description_width": ""
      }
     },
     "94fcfaefc63345dd9113127a776dc77e": {
      "model_module": "@jupyter-widgets/base",
      "model_module_version": "1.2.0",
      "model_name": "LayoutModel",
      "state": {
       "border": "2px solid red"
      }
     },
     "951b83653a9a4bc7b7d412f598f8410a": {
      "model_module": "@jupyter-widgets/controls",
      "model_module_version": "1.5.0",
      "model_name": "DescriptionStyleModel",
      "state": {
       "description_width": ""
      }
     },
     "9578cd9ba4ef4107bd45ec17b82c8b2f": {
      "model_module": "@jupyter-widgets/controls",
      "model_module_version": "1.5.0",
      "model_name": "ButtonModel",
      "state": {
       "description": "Submit",
       "layout": "IPY_MODEL_09cc65d4514b4ec08730d949a24cf02b",
       "style": "IPY_MODEL_3c8df842389f4fb48ab26fd0b4fecb4d"
      }
     },
     "958c91620c4a4267997b5b1a3dff1e43": {
      "model_module": "@jupyter-widgets/base",
      "model_module_version": "1.2.0",
      "model_name": "LayoutModel",
      "state": {
       "width": "500px"
      }
     },
     "959744706ba84cdcb58ec097cc2ad983": {
      "model_module": "@jupyter-widgets/base",
      "model_module_version": "1.2.0",
      "model_name": "LayoutModel",
      "state": {
       "grid_template_areas": "\"header header\"\n\"left-sidebar left-sidebar\"\n\"footer footer\"",
       "grid_template_columns": "1fr 1fr",
       "grid_template_rows": "1fr 3fr 1fr"
      }
     },
     "959e9648ab264a8fbe5c40302d7a11ba": {
      "model_module": "@jupyter-widgets/controls",
      "model_module_version": "1.5.0",
      "model_name": "HBoxModel",
      "state": {
       "box_style": "info",
       "children": [
        "IPY_MODEL_58a4ee4b61764ec88d167df9c85a7280",
        "IPY_MODEL_e0541465bb6b48da944b875d8021519b"
       ],
       "layout": "IPY_MODEL_ca47596063af4ba8a33c897e370f4f9e"
      }
     },
     "95c91215cba14b4c9d60ffbd549de74e": {
      "model_module": "@jupyter-widgets/base",
      "model_module_version": "1.2.0",
      "model_name": "LayoutModel",
      "state": {
       "width": "1000px"
      }
     },
     "9603e10316fc40eb99997cebd2709565": {
      "model_module": "@jupyter-widgets/base",
      "model_module_version": "1.2.0",
      "model_name": "LayoutModel",
      "state": {}
     },
     "961534f3fedc408eb4b77162e09c0389": {
      "model_module": "@jupyter-widgets/controls",
      "model_module_version": "1.5.0",
      "model_name": "ButtonModel",
      "state": {
       "description": "Submit",
       "layout": "IPY_MODEL_d2a57af89c0a46368a4a34ca9a16806c",
       "style": "IPY_MODEL_558a36744d5d402086c1d1cf98fd1dfb"
      }
     },
     "96319e1928db4348a023f1ae2a4edc6d": {
      "model_module": "@jupyter-widgets/controls",
      "model_module_version": "1.5.0",
      "model_name": "ButtonModel",
      "state": {
       "description": "Submit",
       "layout": "IPY_MODEL_2428725da2dd4d96be135308c424e071",
       "style": "IPY_MODEL_c99ac928dfc447e8b5e10dca80414744"
      }
     },
     "9661be047363437aad39c01180df3ffe": {
      "model_module": "@jupyter-widgets/controls",
      "model_module_version": "1.5.0",
      "model_name": "LabelModel",
      "state": {
       "layout": "IPY_MODEL_9c23cca21b3c4e9e9cbe9919f70ad333",
       "style": "IPY_MODEL_0bf3ae3420224c5f9e10079caf0fa6c1"
      }
     },
     "9688d1e6acda4aa69d8a448da057e687": {
      "model_module": "@jupyter-widgets/controls",
      "model_module_version": "1.5.0",
      "model_name": "ButtonModel",
      "state": {
       "description": "Show answer",
       "disabled": true,
       "layout": "IPY_MODEL_e4482d03a36c452eaf4d56ba924b03b4",
       "style": "IPY_MODEL_ac1a3d89707448528bbdd22fb48590ac"
      }
     },
     "96a4ecd4ff5e4a49a7b15519fc84dec9": {
      "model_module": "@jupyter-widgets/base",
      "model_module_version": "1.2.0",
      "model_name": "LayoutModel",
      "state": {
       "align_items": "stretch",
       "display": "flex",
       "flex_flow": "row wrap",
       "grid_area": "left-sidebar",
       "width": "auto"
      }
     },
     "96bddc53b5c6454086dccd386949a55d": {
      "model_module": "@jupyter-widgets/base",
      "model_module_version": "1.2.0",
      "model_name": "LayoutModel",
      "state": {
       "width": "1000px"
      }
     },
     "96ed0ad1612d4fc187fe8c7f8d05010c": {
      "model_module": "@jupyter-widgets/controls",
      "model_module_version": "1.5.0",
      "model_name": "HBoxModel",
      "state": {
       "children": [
        "IPY_MODEL_90062a74cbde418c835ac04c91fe30c3",
        "IPY_MODEL_be4adf69e4644158b06efd6f97bf1d51"
       ],
       "layout": "IPY_MODEL_67fe99a4ded74051b678d0b506c0bf0c"
      }
     },
     "972aa696fdca44eb8eda266853d28ca1": {
      "model_module": "@jupyter-widgets/controls",
      "model_module_version": "1.5.0",
      "model_name": "DescriptionStyleModel",
      "state": {
       "description_width": ""
      }
     },
     "972e89fe62b941f7aa80e9338e1ac664": {
      "model_module": "@jupyter-widgets/base",
      "model_module_version": "1.2.0",
      "model_name": "LayoutModel",
      "state": {
       "grid_area": "header"
      }
     },
     "97584f1ed7c44dc1bd068e0796ba6e93": {
      "model_module": "@jupyter-widgets/controls",
      "model_module_version": "1.5.0",
      "model_name": "DescriptionStyleModel",
      "state": {
       "description_width": ""
      }
     },
     "9760db9e26454fc28bf4013850f012b9": {
      "model_module": "@jupyter-widgets/controls",
      "model_module_version": "1.5.0",
      "model_name": "LabelModel",
      "state": {
       "layout": "IPY_MODEL_7457b0bd2130414c984d1771692fdb74",
       "style": "IPY_MODEL_bdeeb1a6f7cf42d686cddaceff45eb68",
       "value": "fib(n - 1) + fib(n - 2)"
      }
     },
     "97649b60cb4743cca595cb24322d67a3": {
      "model_module": "@jupyter-widgets/controls",
      "model_module_version": "1.5.0",
      "model_name": "HBoxModel",
      "state": {
       "children": [
        "IPY_MODEL_ea8fabd8d81f4457a01b16e5034fa23a",
        "IPY_MODEL_3e83c920db0f479a82877dd1033cc028"
       ],
       "layout": "IPY_MODEL_d4bb61a319914f3288fb28df6b55ac2d"
      }
     },
     "977d1cec8b494d9195481bc42512ec69": {
      "model_module": "@jupyter-widgets/controls",
      "model_module_version": "1.5.0",
      "model_name": "LabelModel",
      "state": {
       "layout": "IPY_MODEL_fe4f7513bce1442895e8f2ad5e188231",
       "style": "IPY_MODEL_d1a33348e4f64862b95927db21a05945",
       "value": "and fib(1) is called"
      }
     },
     "978ceedb34804dce8cb088e085d27e93": {
      "model_module": "@jupyter-widgets/base",
      "model_module_version": "1.2.0",
      "model_name": "LayoutModel",
      "state": {}
     },
     "978d0a46b4be465baf7711a7d9581cbc": {
      "model_module": "@jupyter-widgets/base",
      "model_module_version": "1.2.0",
      "model_name": "LayoutModel",
      "state": {
       "width": "1000px"
      }
     },
     "97b9ff45646f43df9caf53f6afc5a679": {
      "model_module": "@jupyter-widgets/controls",
      "model_module_version": "1.5.0",
      "model_name": "HBoxModel",
      "state": {
       "children": [
        "IPY_MODEL_34e50db332684a06b8491e41822a0336",
        "IPY_MODEL_f1b6555831b645fa89d8b4719fc73aaf"
       ],
       "layout": "IPY_MODEL_5b801c3bd7f94ca3812386a741ed7aef"
      }
     },
     "97c42fda2f2b4dd9a1364770828b5154": {
      "model_module": "@jupyter-widgets/base",
      "model_module_version": "1.2.0",
      "model_name": "LayoutModel",
      "state": {}
     },
     "97d91777f1b44f38bd3d3aa20def1666": {
      "model_module": "@jupyter-widgets/controls",
      "model_module_version": "1.5.0",
      "model_name": "DescriptionStyleModel",
      "state": {
       "description_width": "initial"
      }
     },
     "97e75f5969f848f790bd5d3c169e73ee": {
      "model_module": "@jupyter-widgets/base",
      "model_module_version": "1.2.0",
      "model_name": "LayoutModel",
      "state": {
       "width": "500px"
      }
     },
     "97f3dcc4fc6844aaac52e09cb2f8e8aa": {
      "model_module": "@jupyter-widgets/base",
      "model_module_version": "1.2.0",
      "model_name": "LayoutModel",
      "state": {
       "width": "30px"
      }
     },
     "98084d48dc1a46b5af2e89854acdb04c": {
      "model_module": "@jupyter-widgets/controls",
      "model_module_version": "1.5.0",
      "model_name": "HBoxModel",
      "state": {
       "children": [
        "IPY_MODEL_c5a151088a004166832dc8ec5bfa48ae",
        "IPY_MODEL_065ed3d37f714181a08cc73e6ad20e41"
       ],
       "layout": "IPY_MODEL_de13ed15001746568ebaf544ef3e6d7b"
      }
     },
     "981e1b77d90a4450bbcbe339b68f8b24": {
      "model_module": "@jupyter-widgets/base",
      "model_module_version": "1.2.0",
      "model_name": "LayoutModel",
      "state": {
       "width": "30px"
      }
     },
     "9889d481989c4c2193deeb095f6dae39": {
      "model_module": "@jupyter-widgets/base",
      "model_module_version": "1.2.0",
      "model_name": "LayoutModel",
      "state": {
       "width": "100px"
      }
     },
     "989f9611e0de4a2886757c76b34c7dc4": {
      "model_module": "@jupyter-widgets/base",
      "model_module_version": "1.2.0",
      "model_name": "LayoutModel",
      "state": {}
     },
     "98a2eb71e05349258aaf5385e0e9085f": {
      "model_module": "@jupyter-widgets/controls",
      "model_module_version": "1.5.0",
      "model_name": "DescriptionStyleModel",
      "state": {
       "description_width": ""
      }
     },
     "98ad2f345b8e447993b263592575b578": {
      "model_module": "@jupyter-widgets/controls",
      "model_module_version": "1.5.0",
      "model_name": "DescriptionStyleModel",
      "state": {
       "description_width": "initial"
      }
     },
     "9909085190f145f7bd817b2d390d4b87": {
      "model_module": "@jupyter-widgets/base",
      "model_module_version": "1.2.0",
      "model_name": "LayoutModel",
      "state": {
       "width": "30px"
      }
     },
     "99128bd3b40340ce9c69aaaab0801f98": {
      "model_module": "@jupyter-widgets/base",
      "model_module_version": "1.2.0",
      "model_name": "LayoutModel",
      "state": {}
     },
     "993a115f9d234f0997d357170f304ae7": {
      "model_module": "@jupyter-widgets/controls",
      "model_module_version": "1.5.0",
      "model_name": "LabelModel",
      "state": {
       "layout": "IPY_MODEL_513c3f2e7326481e9f1cd2cde65cea5b",
       "style": "IPY_MODEL_adabe0bf659641be9473e2a9166bcca1"
      }
     },
     "993fb652f4a74cc0801e6cc1b40b6990": {
      "model_module": "@jupyter-widgets/base",
      "model_module_version": "1.2.0",
      "model_name": "LayoutModel",
      "state": {}
     },
     "996a5fe91b1e43e8be213d775afae5e1": {
      "model_module": "@jupyter-widgets/controls",
      "model_module_version": "1.5.0",
      "model_name": "LabelModel",
      "state": {
       "layout": "IPY_MODEL_04886955aa204da99dda1d5319f0d7f6",
       "style": "IPY_MODEL_a7458f0b87ef47b3ae5156d1cdcf463e",
       "value": "$fib(2)$ is called $13$ times and $fib(1)$ is called $5$ times"
      }
     },
     "99a32ab7a71d4c36b770bb4801604def": {
      "model_module": "@jupyter-widgets/base",
      "model_module_version": "1.2.0",
      "model_name": "LayoutModel",
      "state": {
       "width": "500px"
      }
     },
     "99b18ffa2662479789dec5a01316516e": {
      "model_module": "@jupyter-widgets/controls",
      "model_module_version": "1.5.0",
      "model_name": "HBoxModel",
      "state": {
       "children": [
        "IPY_MODEL_1c2f2ee95aba40a79302ce944509d253",
        "IPY_MODEL_d04a663508534f6ba1483fa122440248"
       ],
       "layout": "IPY_MODEL_49816aab82284571ab009acbb673a237"
      }
     },
     "99b26020c4ac4a1f9eac3e1b8e698f02": {
      "model_module": "@jupyter-widgets/controls",
      "model_module_version": "1.5.0",
      "model_name": "DescriptionStyleModel",
      "state": {
       "description_width": ""
      }
     },
     "99ca87ffbdd84ccba292e220461df9cd": {
      "model_module": "@jupyter-widgets/base",
      "model_module_version": "1.2.0",
      "model_name": "LayoutModel",
      "state": {
       "width": "30px"
      }
     },
     "99f4018cbfe943fe9f8c59bfb86e56fa": {
      "model_module": "@jupyter-widgets/controls",
      "model_module_version": "1.5.0",
      "model_name": "VBoxModel",
      "state": {
       "children": [
        "IPY_MODEL_79f71c8d887a469fb23259c85afba141",
        "IPY_MODEL_4a2484d649cc47268a4916d815ec8dfc",
        "IPY_MODEL_88b268807e894db9a2dd64cd08c138ce"
       ],
       "layout": "IPY_MODEL_d81610d82988467198b0d0769a3c59dd"
      }
     },
     "99f65784c22141029dcf8bfa54b8418d": {
      "model_module": "@jupyter-widgets/base",
      "model_module_version": "1.2.0",
      "model_name": "LayoutModel",
      "state": {
       "grid_template_areas": "\"header header\"\n\"left-sidebar left-sidebar\"\n\"footer footer\"",
       "grid_template_columns": "1fr 1fr",
       "grid_template_rows": "1fr 3fr 1fr"
      }
     },
     "99f6ab19ec7849bda217df5fecbeb82b": {
      "model_module": "@jupyter-widgets/controls",
      "model_module_version": "1.5.0",
      "model_name": "CheckboxModel",
      "state": {
       "disabled": false,
       "layout": "IPY_MODEL_a1a847c2731d4719ac3c14db8446a9c6",
       "style": "IPY_MODEL_3e55b3ded63347668c079bebce917131",
       "value": false
      }
     },
     "9a2d3c08ba724e50990403a5d9d9c7cc": {
      "model_module": "@jupyter-widgets/controls",
      "model_module_version": "1.5.0",
      "model_name": "HBoxModel",
      "state": {
       "children": [
        "IPY_MODEL_30dda23950c44602a9c1ecefb7f6f122",
        "IPY_MODEL_97b9ff45646f43df9caf53f6afc5a679"
       ],
       "layout": "IPY_MODEL_1acf03f4b43f4edea62bc1b0e178a301"
      }
     },
     "9a7f0f88cdd64a8b99360256d8131b83": {
      "model_module": "@jupyter-widgets/controls",
      "model_module_version": "1.5.0",
      "model_name": "DescriptionStyleModel",
      "state": {
       "description_width": "initial"
      }
     },
     "9a7f3bcaa7684dc3aa9d7f42430ee51b": {
      "model_module": "@jupyter-widgets/controls",
      "model_module_version": "1.5.0",
      "model_name": "LabelModel",
      "state": {
       "layout": "IPY_MODEL_1c4391226f7e424ba93d5bdd3baa4da3",
       "style": "IPY_MODEL_6a565e032bde4fa6931c6d4702cc5401",
       "value": "How many leaves does the call stack tree for $fib(n)$ have? "
      }
     },
     "9ab3fe8151f343b28f0d0ff6a7a01265": {
      "model_module": "@jupyter-widgets/base",
      "model_module_version": "1.2.0",
      "model_name": "LayoutModel",
      "state": {}
     },
     "9ad445eb0ef14a309b19aafb8323e7a9": {
      "model_module": "@jupyter-widgets/base",
      "model_module_version": "1.2.0",
      "model_name": "LayoutModel",
      "state": {
       "width": "1000px"
      }
     },
     "9af6f16cb4b641c7b240ba9d3b69196c": {
      "model_module": "@jupyter-widgets/base",
      "model_module_version": "1.2.0",
      "model_name": "LayoutModel",
      "state": {}
     },
     "9afeefc8f1e94112b288004ca8dc51c2": {
      "model_module": "@jupyter-widgets/base",
      "model_module_version": "1.2.0",
      "model_name": "LayoutModel",
      "state": {
       "grid_area": "header"
      }
     },
     "9b569e98ca2348e3ac13bcbb059891d9": {
      "model_module": "@jupyter-widgets/base",
      "model_module_version": "1.2.0",
      "model_name": "LayoutModel",
      "state": {
       "width": "1000px"
      }
     },
     "9b5a764bdb514d7d9aeec356442bbab7": {
      "model_module": "@jupyter-widgets/base",
      "model_module_version": "1.2.0",
      "model_name": "LayoutModel",
      "state": {
       "width": "1000px"
      }
     },
     "9b6dfcf2c93c45dc87d0c25f1010f431": {
      "model_module": "@jupyter-widgets/controls",
      "model_module_version": "1.5.0",
      "model_name": "DescriptionStyleModel",
      "state": {
       "description_width": ""
      }
     },
     "9b9448be3eb94ece9966f161bbd85b29": {
      "model_module": "@jupyter-widgets/controls",
      "model_module_version": "1.5.0",
      "model_name": "LabelModel",
      "state": {
       "layout": "IPY_MODEL_32b11fb7535e4895baa748f944c59aa3",
       "style": "IPY_MODEL_002859f3465249be8be04b7294ac10df"
      }
     },
     "9bd5e211aa274d2397ddacc9abb5fb4b": {
      "model_module": "@jupyter-widgets/base",
      "model_module_version": "1.2.0",
      "model_name": "LayoutModel",
      "state": {}
     },
     "9bdae9f67cc34fab80a39c1bb1600629": {
      "model_module": "@jupyter-widgets/controls",
      "model_module_version": "1.5.0",
      "model_name": "VBoxModel",
      "state": {
       "children": [
        "IPY_MODEL_0e809d4cdab74dc484a66e8f89a27f39"
       ],
       "layout": "IPY_MODEL_dfc6c64987674b0984dbaf8bc657c689"
      }
     },
     "9bf9b8ff106c4b209fdb4d9cc6b262fb": {
      "model_module": "@jupyter-widgets/controls",
      "model_module_version": "1.5.0",
      "model_name": "DescriptionStyleModel",
      "state": {
       "description_width": ""
      }
     },
     "9c23cca21b3c4e9e9cbe9919f70ad333": {
      "model_module": "@jupyter-widgets/base",
      "model_module_version": "1.2.0",
      "model_name": "LayoutModel",
      "state": {}
     },
     "9c46c599b94c438685d75928252eb34c": {
      "model_module": "@jupyter-widgets/controls",
      "model_module_version": "1.5.0",
      "model_name": "LabelModel",
      "state": {
       "layout": "IPY_MODEL_e92095d5ae464608a220f9c7d419d60d",
       "style": "IPY_MODEL_056283836aed4d3a8cdcd8de09364d55"
      }
     },
     "9c5588e3dc094e0c98f94d131f22dcf5": {
      "model_module": "@jupyter-widgets/controls",
      "model_module_version": "1.5.0",
      "model_name": "DescriptionStyleModel",
      "state": {
       "description_width": ""
      }
     },
     "9c58e8726b884728afcc33f4098826a9": {
      "model_module": "@jupyter-widgets/controls",
      "model_module_version": "1.5.0",
      "model_name": "DescriptionStyleModel",
      "state": {
       "description_width": ""
      }
     },
     "9c6867f933c94d5ea80c60dfcceb0645": {
      "model_module": "@jupyter-widgets/base",
      "model_module_version": "1.2.0",
      "model_name": "LayoutModel",
      "state": {
       "width": "30px"
      }
     },
     "9c7babb3391e4c6e980254031f259728": {
      "model_module": "@jupyter-widgets/controls",
      "model_module_version": "1.5.0",
      "model_name": "HBoxModel",
      "state": {
       "children": [
        "IPY_MODEL_afe3ae63d4214aa6b8a006f170c5aa1a",
        "IPY_MODEL_5aabafbf9a514c72a64c931efe887cf9"
       ],
       "layout": "IPY_MODEL_9103a3b658184266b6ab04f4e58c1f0f"
      }
     },
     "9cc5140a686240ec950356701749c772": {
      "model_module": "@jupyter-widgets/base",
      "model_module_version": "1.2.0",
      "model_name": "LayoutModel",
      "state": {}
     },
     "9cd440bed80a4bd39a3d2258102caecb": {
      "model_module": "@jupyter-widgets/controls",
      "model_module_version": "1.5.0",
      "model_name": "HBoxModel",
      "state": {
       "children": [
        "IPY_MODEL_b15155fe16d74396a1ca29076f5a05e3",
        "IPY_MODEL_22e3ba13446340b0890ef115c458b522"
       ],
       "layout": "IPY_MODEL_6e06bbdd25cb4a57b8e6531dd1a57cb2"
      }
     },
     "9cda905e5b0641fda6d383c1c09b0bd3": {
      "model_module": "@jupyter-widgets/base",
      "model_module_version": "1.2.0",
      "model_name": "LayoutModel",
      "state": {
       "width": "1000px"
      }
     },
     "9ce7832ab2094a18beeb493ae9486b95": {
      "model_module": "@jupyter-widgets/controls",
      "model_module_version": "1.5.0",
      "model_name": "HBoxModel",
      "state": {
       "children": [
        "IPY_MODEL_a1d6f9c74f8d437793b223f154698428",
        "IPY_MODEL_60546444824b417b9d3de1f78d1aeeb0"
       ],
       "layout": "IPY_MODEL_7232ce2e52ab45559955862702137222"
      }
     },
     "9cf3efcd7fa041dd9a4aa0261a9dec2b": {
      "model_module": "@jupyter-widgets/controls",
      "model_module_version": "1.5.0",
      "model_name": "DescriptionStyleModel",
      "state": {
       "description_width": ""
      }
     },
     "9d06408e55194373b7ba4ed183c94689": {
      "model_module": "@jupyter-widgets/base",
      "model_module_version": "1.2.0",
      "model_name": "LayoutModel",
      "state": {
       "width": "1000px"
      }
     },
     "9d0a7c88b4734f0d93fbdbbbea7f47ca": {
      "model_module": "@jupyter-widgets/controls",
      "model_module_version": "1.5.0",
      "model_name": "ButtonModel",
      "state": {
       "description": "Submit",
       "layout": "IPY_MODEL_3365cbc926c24506a9218c46dbf51f27",
       "style": "IPY_MODEL_47e6d99c75dc45b8a4a8a8e736ff8b0b"
      }
     },
     "9d0f88cfdb574cee89657102f46d8346": {
      "model_module": "@jupyter-widgets/base",
      "model_module_version": "1.2.0",
      "model_name": "LayoutModel",
      "state": {}
     },
     "9d60bf9521854601b21df0dc8e4e868d": {
      "model_module": "@jupyter-widgets/controls",
      "model_module_version": "1.5.0",
      "model_name": "LabelModel",
      "state": {
       "layout": "IPY_MODEL_9d06408e55194373b7ba4ed183c94689",
       "style": "IPY_MODEL_9f62e369b0ba460bb22a48c7247df205",
       "value": "fib(n)"
      }
     },
     "9d620d86fca140659d9b024dae236ce6": {
      "model_module": "@jupyter-widgets/base",
      "model_module_version": "1.2.0",
      "model_name": "LayoutModel",
      "state": {}
     },
     "9d6b362cac2b4192bc89a32ee3d10e8c": {
      "model_module": "@jupyter-widgets/base",
      "model_module_version": "1.2.0",
      "model_name": "LayoutModel",
      "state": {
       "width": "500px"
      }
     },
     "9d6b5228a2154803b8691a413bad3827": {
      "model_module": "@jupyter-widgets/base",
      "model_module_version": "1.2.0",
      "model_name": "LayoutModel",
      "state": {}
     },
     "9d7b6f991e434a7db0fa58880657f68f": {
      "model_module": "@jupyter-widgets/controls",
      "model_module_version": "1.5.0",
      "model_name": "HBoxModel",
      "state": {
       "children": [
        "IPY_MODEL_3b7981f296f94aebb9700bdec1492b1e",
        "IPY_MODEL_badaeb451c2641e4a0303fa235a44c5f"
       ],
       "layout": "IPY_MODEL_fa1b54d3ba9a421bb9760cd6f44f4a7b"
      }
     },
     "9d80a8c5a9f04b03b8a940ff0aae69f4": {
      "model_module": "@jupyter-widgets/base",
      "model_module_version": "1.2.0",
      "model_name": "LayoutModel",
      "state": {}
     },
     "9d88ec8e693442c19c811e3752035253": {
      "model_module": "@jupyter-widgets/base",
      "model_module_version": "1.2.0",
      "model_name": "LayoutModel",
      "state": {}
     },
     "9da583c0327e4be290e0f5e900ea886f": {
      "model_module": "@jupyter-widgets/controls",
      "model_module_version": "1.5.0",
      "model_name": "CheckboxModel",
      "state": {
       "disabled": false,
       "layout": "IPY_MODEL_b4bff6e817ae4f2986e03af5f55d4383",
       "style": "IPY_MODEL_8451bc8e3e9842e3a2c2d29ec571270a",
       "value": false
      }
     },
     "9db042d6738c46f690f77ca3474b2685": {
      "model_module": "@jupyter-widgets/controls",
      "model_module_version": "1.5.0",
      "model_name": "HBoxModel",
      "state": {
       "children": [
        "IPY_MODEL_9b9448be3eb94ece9966f161bbd85b29",
        "IPY_MODEL_896b1540ebec44f7b1db239390fe281b"
       ],
       "layout": "IPY_MODEL_bd2831b3bf9045998e058b88e4b7f1ca"
      }
     },
     "9dce473a92be47438bf9280e9aa40498": {
      "model_module": "@jupyter-widgets/controls",
      "model_module_version": "1.5.0",
      "model_name": "LabelModel",
      "state": {
       "layout": "IPY_MODEL_2a9780f1ed404529af9ce9a4dc84d2af",
       "style": "IPY_MODEL_60bfd9687d624287bb1c693422ec3ffd",
       "value": "Given k between 0 and n - 3, how many nodes of type fib(n - k) does the call stack tree of fib(n) have?"
      }
     },
     "9e2bf998fbe442c7a1b85b5e3e5e891c": {
      "model_module": "@jupyter-widgets/base",
      "model_module_version": "1.2.0",
      "model_name": "LayoutModel",
      "state": {
       "border": "2px solid red"
      }
     },
     "9e5f9f78b3fe4cce8ffde5cd4f4cb051": {
      "model_module": "@jupyter-widgets/base",
      "model_module_version": "1.2.0",
      "model_name": "LayoutModel",
      "state": {
       "grid_area": "left-sidebar"
      }
     },
     "9e6072a73bd949f098d5f3c14733cd51": {
      "model_module": "@jupyter-widgets/base",
      "model_module_version": "1.2.0",
      "model_name": "LayoutModel",
      "state": {
       "grid_area": "footer"
      }
     },
     "9e699a8273bf42a7a524e5d727316739": {
      "model_module": "@jupyter-widgets/base",
      "model_module_version": "1.2.0",
      "model_name": "LayoutModel",
      "state": {
       "width": "1000px"
      }
     },
     "9e84b452a74a4483b90ddefab3562448": {
      "model_module": "@jupyter-widgets/base",
      "model_module_version": "1.2.0",
      "model_name": "LayoutModel",
      "state": {}
     },
     "9eb5bcfb825c44a0ab59df9c07bff13a": {
      "model_module": "@jupyter-widgets/base",
      "model_module_version": "1.2.0",
      "model_name": "LayoutModel",
      "state": {
       "border": "2px solid red"
      }
     },
     "9f02065640fe4836b2a54b8c32ea3cf4": {
      "model_module": "@jupyter-widgets/base",
      "model_module_version": "1.2.0",
      "model_name": "LayoutModel",
      "state": {}
     },
     "9f134a2c7ef8435db0657c73857bc009": {
      "model_module": "@jupyter-widgets/controls",
      "model_module_version": "1.5.0",
      "model_name": "HBoxModel",
      "state": {
       "children": [
        "IPY_MODEL_08be53391f6f4aa1acacb29886a8d846",
        "IPY_MODEL_eddc97d256f1445c8b06ecc0565ea19d"
       ],
       "layout": "IPY_MODEL_4749c74e919a40d1bfb9f4935a7e8bf5"
      }
     },
     "9f1ebcf913a34229a79831f53867fdfd": {
      "model_module": "@jupyter-widgets/base",
      "model_module_version": "1.2.0",
      "model_name": "LayoutModel",
      "state": {
       "width": "500px"
      }
     },
     "9f5a043478ee44ebb19a2e10800dffcd": {
      "model_module": "@jupyter-widgets/base",
      "model_module_version": "1.2.0",
      "model_name": "LayoutModel",
      "state": {
       "width": "1000px"
      }
     },
     "9f62e369b0ba460bb22a48c7247df205": {
      "model_module": "@jupyter-widgets/controls",
      "model_module_version": "1.5.0",
      "model_name": "DescriptionStyleModel",
      "state": {
       "description_width": ""
      }
     },
     "9f9e047a1a6c447e84c701944e5f2e50": {
      "model_module": "@jupyter-widgets/base",
      "model_module_version": "1.2.0",
      "model_name": "LayoutModel",
      "state": {
       "grid_template_areas": "\"header header\"\n\"left-sidebar left-sidebar\"\n\"footer footer\"",
       "grid_template_columns": "1fr 1fr",
       "grid_template_rows": "1fr 3fr 1fr"
      }
     },
     "9fa19c8d673a46dba1e7f75c07bfcf6f": {
      "model_module": "@jupyter-widgets/controls",
      "model_module_version": "1.5.0",
      "model_name": "VBoxModel",
      "state": {
       "children": [
        "IPY_MODEL_9f134a2c7ef8435db0657c73857bc009",
        "IPY_MODEL_063e2961b93142b88db136ba2543de52",
        "IPY_MODEL_b701186461d5403788bc725fca44b178",
        "IPY_MODEL_77e8f68c99d94a4dbcbc5d37172af0f0",
        "IPY_MODEL_18f35f433689443e872be81815830c6c"
       ],
       "layout": "IPY_MODEL_7f6cff97c5bf4c738eb79987bc455a9f"
      }
     },
     "9fac2442f9ab41578f41084fe7399ec3": {
      "model_module": "@jupyter-widgets/base",
      "model_module_version": "1.2.0",
      "model_name": "LayoutModel",
      "state": {
       "width": "1000px"
      }
     },
     "9ffc98e73ed7464fa30391b2257b71d8": {
      "model_module": "@jupyter-widgets/base",
      "model_module_version": "1.2.0",
      "model_name": "LayoutModel",
      "state": {}
     },
     "a06c8f9875734aada33ca3fb5641f16c": {
      "model_module": "@jupyter-widgets/base",
      "model_module_version": "1.2.0",
      "model_name": "LayoutModel",
      "state": {}
     },
     "a0750af8d37144068dbd7c3de8fdd938": {
      "model_module": "@jupyter-widgets/controls",
      "model_module_version": "1.5.0",
      "model_name": "DescriptionStyleModel",
      "state": {
       "description_width": ""
      }
     },
     "a0c528a2b2af4264944c6380e8dc830c": {
      "model_module": "@jupyter-widgets/controls",
      "model_module_version": "1.5.0",
      "model_name": "HBoxModel",
      "state": {
       "children": [
        "IPY_MODEL_89eb799fc2a34bf1bf72d036a69d9d9b",
        "IPY_MODEL_8976686ae7de4bc99c39f07bbe610c6f"
       ],
       "layout": "IPY_MODEL_58f2f9ccd831420dab1e6ba45440544c"
      }
     },
     "a1073e42e6db4c72a6ca3dece9ec3cff": {
      "model_module": "@jupyter-widgets/base",
      "model_module_version": "1.2.0",
      "model_name": "LayoutModel",
      "state": {
       "grid_area": "footer"
      }
     },
     "a121f6c779d244a4bce18193e04469e3": {
      "model_module": "@jupyter-widgets/base",
      "model_module_version": "1.2.0",
      "model_name": "LayoutModel",
      "state": {}
     },
     "a14a4a1abf3d4957b5fbfa7f4582910d": {
      "model_module": "@jupyter-widgets/base",
      "model_module_version": "1.2.0",
      "model_name": "LayoutModel",
      "state": {}
     },
     "a151246594684c7d98fb257286fdc167": {
      "model_module": "@jupyter-widgets/controls",
      "model_module_version": "1.5.0",
      "model_name": "HBoxModel",
      "state": {
       "children": [
        "IPY_MODEL_09c21e263c354f60a90fe4416335e950",
        "IPY_MODEL_4dfb861221294a41900a44f00f2ccb3e",
        "IPY_MODEL_39fd559cef644014aba23c9860f36764"
       ],
       "layout": "IPY_MODEL_a9a1054ac90b4371945b33f6a564865f"
      }
     },
     "a1a847c2731d4719ac3c14db8446a9c6": {
      "model_module": "@jupyter-widgets/base",
      "model_module_version": "1.2.0",
      "model_name": "LayoutModel",
      "state": {
       "width": "30px"
      }
     },
     "a1d6f9c74f8d437793b223f154698428": {
      "model_module": "@jupyter-widgets/controls",
      "model_module_version": "1.5.0",
      "model_name": "CheckboxModel",
      "state": {
       "disabled": false,
       "layout": "IPY_MODEL_d0dc43a0a9074178a1b31e878665ca64",
       "style": "IPY_MODEL_fbd2c8810d1f49ac82590afc67d02106",
       "value": false
      }
     },
     "a1e1940125c2432795af85f3ef718835": {
      "model_module": "@jupyter-widgets/controls",
      "model_module_version": "1.5.0",
      "model_name": "LabelModel",
      "state": {
       "layout": "IPY_MODEL_341a01837ce84943adf9b8f52b6aa4ab",
       "style": "IPY_MODEL_ab06c29145d74028a2e75150f5e7af2d",
       "value": "fib(n) - 1 + fib(n - 2)"
      }
     },
     "a2270eb3ddeb4bcd8b7aab2597ccd2fb": {
      "model_module": "@jupyter-widgets/controls",
      "model_module_version": "1.5.0",
      "model_name": "DescriptionStyleModel",
      "state": {
       "description_width": "initial"
      }
     },
     "a227c7e28da240e98de4a820bdc9b76a": {
      "model_module": "@jupyter-widgets/controls",
      "model_module_version": "1.5.0",
      "model_name": "DescriptionStyleModel",
      "state": {
       "description_width": ""
      }
     },
     "a2450aa4a4b44e97ab6514e0d48d9eac": {
      "model_module": "@jupyter-widgets/controls",
      "model_module_version": "1.5.0",
      "model_name": "DescriptionStyleModel",
      "state": {
       "description_width": "initial"
      }
     },
     "a267a9796c2a440ba1d5ae5545140f46": {
      "model_module": "@jupyter-widgets/controls",
      "model_module_version": "1.5.0",
      "model_name": "LabelModel",
      "state": {
       "layout": "IPY_MODEL_9e699a8273bf42a7a524e5d727316739",
       "style": "IPY_MODEL_b197680f81684627897c2e8353869cac",
       "value": "fib(n - 1)"
      }
     },
     "a27792567d064db896f6409feabc8cd6": {
      "model_module": "@jupyter-widgets/controls",
      "model_module_version": "1.5.0",
      "model_name": "LabelModel",
      "state": {
       "layout": "IPY_MODEL_8eca777bc4bc4a379b28924eae2186fa",
       "style": "IPY_MODEL_0df95bb938664c8f9aeba2edfffce604",
       "value": "$2^{fib(n)}$"
      }
     },
     "a2854038e57f4cfe94837ad0bd84c67c": {
      "model_module": "@jupyter-widgets/controls",
      "model_module_version": "1.5.0",
      "model_name": "LabelModel",
      "state": {
       "layout": "IPY_MODEL_7fb4d852e2654b5791f7548375529b7e",
       "style": "IPY_MODEL_6d75cff67d44480c80075fe7b7d95224",
       "value": "fib(n - 1)"
      }
     },
     "a29823059e444e62969b18035fd64d32": {
      "model_module": "@jupyter-widgets/base",
      "model_module_version": "1.2.0",
      "model_name": "LayoutModel",
      "state": {
       "width": "1000px"
      }
     },
     "a2caafd08f35420c88c471c534cb7424": {
      "model_module": "@jupyter-widgets/base",
      "model_module_version": "1.2.0",
      "model_name": "LayoutModel",
      "state": {
       "width": "100px"
      }
     },
     "a321608df4c4495fb056459a7a5f89ce": {
      "model_module": "@jupyter-widgets/base",
      "model_module_version": "1.2.0",
      "model_name": "LayoutModel",
      "state": {}
     },
     "a3308ed46d6a448ea34c7ccf736b5231": {
      "model_module": "@jupyter-widgets/base",
      "model_module_version": "1.2.0",
      "model_name": "LayoutModel",
      "state": {
       "grid_template_areas": "\"header header\"\n\"left-sidebar left-sidebar\"\n\"footer footer\"",
       "grid_template_columns": "1fr 1fr",
       "grid_template_rows": "1fr 3fr 1fr"
      }
     },
     "a3464ce1a1b340b5bfe5624930672bf8": {
      "model_module": "@jupyter-widgets/controls",
      "model_module_version": "1.5.0",
      "model_name": "HBoxModel",
      "state": {
       "box_style": "info",
       "children": [
        "IPY_MODEL_8206df88c1b74a7b8f817e584f30af7f",
        "IPY_MODEL_d7b2d9db07ae4913aa2b23dd88dce19f"
       ],
       "layout": "IPY_MODEL_a1073e42e6db4c72a6ca3dece9ec3cff"
      }
     },
     "a3581f85fd784f47815c9dff5763b49e": {
      "model_module": "@jupyter-widgets/controls",
      "model_module_version": "1.5.0",
      "model_name": "DescriptionStyleModel",
      "state": {
       "description_width": ""
      }
     },
     "a36e8d0973a74da9b7126e49b3775f27": {
      "model_module": "@jupyter-widgets/controls",
      "model_module_version": "1.5.0",
      "model_name": "DescriptionStyleModel",
      "state": {
       "description_width": ""
      }
     },
     "a37ea97eb4bb460683402f5ec72b24f7": {
      "model_module": "@jupyter-widgets/controls",
      "model_module_version": "1.5.0",
      "model_name": "CheckboxModel",
      "state": {
       "disabled": false,
       "layout": "IPY_MODEL_9c6867f933c94d5ea80c60dfcceb0645",
       "style": "IPY_MODEL_1d6ddbdd9c5344398c6c2a6ec5a1baa4",
       "value": false
      }
     },
     "a382a88afe37433287e9140783471f35": {
      "model_module": "@jupyter-widgets/base",
      "model_module_version": "1.2.0",
      "model_name": "LayoutModel",
      "state": {
       "grid_template_areas": "\"header header\"\n\"left-sidebar left-sidebar\"\n\"footer footer\"",
       "grid_template_columns": "1fr 1fr",
       "grid_template_rows": "1fr 3fr 1fr"
      }
     },
     "a391c991d530439484803ebc8c7561b9": {
      "model_module": "@jupyter-widgets/controls",
      "model_module_version": "1.5.0",
      "model_name": "DescriptionStyleModel",
      "state": {
       "description_width": "initial"
      }
     },
     "a3a068c3cb5a495c8679a323d57bc0f2": {
      "model_module": "@jupyter-widgets/controls",
      "model_module_version": "1.5.0",
      "model_name": "LabelModel",
      "state": {
       "layout": "IPY_MODEL_e19be877ed5f499cb07f1200a1744f30",
       "style": "IPY_MODEL_36bc76bf677b4bbd9e7becd797b8e96a"
      }
     },
     "a3a1b0b1fcbc4325b263b34f6c0a4a2e": {
      "model_module": "@jupyter-widgets/controls",
      "model_module_version": "1.5.0",
      "model_name": "LabelModel",
      "state": {
       "layout": "IPY_MODEL_1b5d55a4fc4442629746e03b42d6e22c",
       "style": "IPY_MODEL_20650f2b3f94487783112ced425172a0",
       "value": "How many calls to $fib(2)$ and to $fib(1)$ does $fib(8)$ make?"
      }
     },
     "a3c5e4c36c2143f5912e43febdde63e2": {
      "model_module": "@jupyter-widgets/controls",
      "model_module_version": "1.5.0",
      "model_name": "HBoxModel",
      "state": {
       "children": [
        "IPY_MODEL_60accf626a2f4043a35961071415c149",
        "IPY_MODEL_79bdba06da5e425da21eeb67cc59d73e"
       ],
       "layout": "IPY_MODEL_1a97696d5b9b4e379866024e8eeb8dff"
      }
     },
     "a3da3029b7404931bdbf04f72216f089": {
      "model_module": "@jupyter-widgets/controls",
      "model_module_version": "1.5.0",
      "model_name": "DescriptionStyleModel",
      "state": {
       "description_width": "initial"
      }
     },
     "a3da6eba9e924d0d93002519f31823fb": {
      "model_module": "@jupyter-widgets/controls",
      "model_module_version": "1.5.0",
      "model_name": "DescriptionStyleModel",
      "state": {
       "description_width": "initial"
      }
     },
     "a3f39f1216164c258db4f93dd4a8d819": {
      "model_module": "@jupyter-widgets/controls",
      "model_module_version": "1.5.0",
      "model_name": "ButtonModel",
      "state": {
       "description": "Submit again",
       "disabled": true,
       "layout": "IPY_MODEL_db0e8c6434e24936a32a1ac30e3b3d06",
       "style": "IPY_MODEL_50fbc7233706472aa8376fff1569f6f5"
      }
     },
     "a3fcbe098b9b425cbf457ca167584b06": {
      "model_module": "@jupyter-widgets/controls",
      "model_module_version": "1.5.0",
      "model_name": "LabelModel",
      "state": {
       "layout": "IPY_MODEL_875d9202343246d6b0788a20d27c92db",
       "style": "IPY_MODEL_e7c1676971ce4c64acfe291827615ec9"
      }
     },
     "a4758f150a63428ba155c2dc1c8184be": {
      "model_module": "@jupyter-widgets/base",
      "model_module_version": "1.2.0",
      "model_name": "LayoutModel",
      "state": {
       "width": "1000px"
      }
     },
     "a489f41d36ef4bbdac7808a102e2d5e6": {
      "model_module": "@jupyter-widgets/base",
      "model_module_version": "1.2.0",
      "model_name": "LayoutModel",
      "state": {
       "width": "1000px"
      }
     },
     "a493bf40abdc4421902634f540c909eb": {
      "model_module": "@jupyter-widgets/controls",
      "model_module_version": "1.5.0",
      "model_name": "LabelModel",
      "state": {
       "layout": "IPY_MODEL_4e014ece5b0247c4a19434f7b842517d",
       "style": "IPY_MODEL_7a3e210e50704d958950260db230e915",
       "value": "fib(n)"
      }
     },
     "a496602f39da4b4494402d4319ac83d4": {
      "model_module": "@jupyter-widgets/base",
      "model_module_version": "1.2.0",
      "model_name": "LayoutModel",
      "state": {
       "width": "1000px"
      }
     },
     "a49c21659fe3489e976ea30b0afc2f6a": {
      "model_module": "@jupyter-widgets/base",
      "model_module_version": "1.2.0",
      "model_name": "LayoutModel",
      "state": {}
     },
     "a4b1eaa3665449779e24248391405041": {
      "model_module": "@jupyter-widgets/base",
      "model_module_version": "1.2.0",
      "model_name": "LayoutModel",
      "state": {}
     },
     "a4cb4b79e6cb40209f00415af6e2a095": {
      "model_module": "@jupyter-widgets/base",
      "model_module_version": "1.2.0",
      "model_name": "LayoutModel",
      "state": {
       "width": "30px"
      }
     },
     "a4ea9fd24e224f8588e67d511d88f95b": {
      "model_module": "@jupyter-widgets/base",
      "model_module_version": "1.2.0",
      "model_name": "LayoutModel",
      "state": {
       "grid_template_areas": "\"header header\"\n\"left-sidebar left-sidebar\"\n\"footer footer\"",
       "grid_template_columns": "1fr 1fr",
       "grid_template_rows": "1fr 3fr 1fr"
      }
     },
     "a50795d1bfa74e0593d77aa129541c99": {
      "model_module": "@jupyter-widgets/base",
      "model_module_version": "1.2.0",
      "model_name": "LayoutModel",
      "state": {}
     },
     "a52d998ceb7c4971844d1190f41e9d92": {
      "model_module": "@jupyter-widgets/controls",
      "model_module_version": "1.5.0",
      "model_name": "DescriptionStyleModel",
      "state": {
       "description_width": ""
      }
     },
     "a566730eaf65470b8b8a5292cb93e2be": {
      "model_module": "@jupyter-widgets/base",
      "model_module_version": "1.2.0",
      "model_name": "LayoutModel",
      "state": {}
     },
     "a592b47eb27c42058b9a31805f930f01": {
      "model_module": "@jupyter-widgets/base",
      "model_module_version": "1.2.0",
      "model_name": "LayoutModel",
      "state": {
       "grid_area": "footer"
      }
     },
     "a5eecbb1202945f2a518000ccf1e4c9e": {
      "model_module": "@jupyter-widgets/base",
      "model_module_version": "1.2.0",
      "model_name": "LayoutModel",
      "state": {
       "width": "30px"
      }
     },
     "a6839f068bb84a539b87faca19bd4f14": {
      "model_module": "@jupyter-widgets/base",
      "model_module_version": "1.2.0",
      "model_name": "LayoutModel",
      "state": {
       "width": "100px"
      }
     },
     "a696283276164b788831e104a5686fa1": {
      "model_module": "@jupyter-widgets/controls",
      "model_module_version": "1.5.0",
      "model_name": "LabelModel",
      "state": {
       "layout": "IPY_MODEL_65828b7ad6fc43728f574146aa5bc692",
       "style": "IPY_MODEL_506cf3c5240143a2913cb3ca32425276",
       "value": "Fill in the blank with regard to our implementation of fib(n)"
      }
     },
     "a6ae2903cc3349fc80354a7e42935d6d": {
      "model_module": "@jupyter-widgets/controls",
      "model_module_version": "1.5.0",
      "model_name": "HBoxModel",
      "state": {
       "box_style": "success",
       "children": [
        "IPY_MODEL_dbf1745bfde4458b916a61668532a341",
        "IPY_MODEL_025f255d4fb3429d9e3b896581ba7e4e"
       ],
       "layout": "IPY_MODEL_c22b6e4b90b74d188fd58c0479f634e0"
      }
     },
     "a7216b7c69ee4860b58844a3c30849d0": {
      "model_module": "@jupyter-widgets/controls",
      "model_module_version": "1.5.0",
      "model_name": "DescriptionStyleModel",
      "state": {
       "description_width": ""
      }
     },
     "a732d0e96bd34ecc9e4c3e62f3bc4629": {
      "model_module": "@jupyter-widgets/base",
      "model_module_version": "1.2.0",
      "model_name": "LayoutModel",
      "state": {}
     },
     "a7458f0b87ef47b3ae5156d1cdcf463e": {
      "model_module": "@jupyter-widgets/controls",
      "model_module_version": "1.5.0",
      "model_name": "DescriptionStyleModel",
      "state": {
       "description_width": ""
      }
     },
     "a765634a08774a7b9840b514a70e5f05": {
      "model_module": "@jupyter-widgets/controls",
      "model_module_version": "1.5.0",
      "model_name": "DescriptionStyleModel",
      "state": {
       "description_width": ""
      }
     },
     "a766c1cd7c8b4cd2a0a6c33a56b3cff4": {
      "model_module": "@jupyter-widgets/base",
      "model_module_version": "1.2.0",
      "model_name": "LayoutModel",
      "state": {}
     },
     "a7992f849f3c49229c692ab4cc9ea23d": {
      "model_module": "@jupyter-widgets/controls",
      "model_module_version": "1.5.0",
      "model_name": "CheckboxModel",
      "state": {
       "disabled": false,
       "layout": "IPY_MODEL_1fb28366448e4ef78a74d1ec66c7d0a1",
       "style": "IPY_MODEL_dfe87bb06acb46c286bd1638a335d0c6",
       "value": false
      }
     },
     "a7be46df40ee4fbb85e3d9faa3023094": {
      "model_module": "@jupyter-widgets/controls",
      "model_module_version": "1.5.0",
      "model_name": "DescriptionStyleModel",
      "state": {
       "description_width": ""
      }
     },
     "a7e84acd5dd94c85bd2cd83204e8055d": {
      "model_module": "@jupyter-widgets/controls",
      "model_module_version": "1.5.0",
      "model_name": "LabelModel",
      "state": {
       "layout": "IPY_MODEL_94252158764c45fd8b6c108b841a9a70",
       "style": "IPY_MODEL_9c58e8726b884728afcc33f4098826a9",
       "value": "fib(2) is called 13 times and fib(1) is called 8 times"
      }
     },
     "a7f4bfd6f68f464696541382b7496546": {
      "model_module": "@jupyter-widgets/controls",
      "model_module_version": "1.5.0",
      "model_name": "CheckboxModel",
      "state": {
       "disabled": false,
       "layout": "IPY_MODEL_922f34747d4a4f1499ef3fbd1efc23d3",
       "style": "IPY_MODEL_11159f0867bb473e80660cc308904c22",
       "value": false
      }
     },
     "a8180d4d27894599836f604affa1b6fd": {
      "model_module": "@jupyter-widgets/controls",
      "model_module_version": "1.5.0",
      "model_name": "LabelModel",
      "state": {
       "layout": "IPY_MODEL_f69bdbaeafc64ea7b7cecb835ed25405",
       "style": "IPY_MODEL_4b02b34d8a404c61822367313577476b"
      }
     },
     "a8195af58f3541a381d4354a651e64e0": {
      "model_module": "@jupyter-widgets/controls",
      "model_module_version": "1.5.0",
      "model_name": "DescriptionStyleModel",
      "state": {
       "description_width": ""
      }
     },
     "a82691d5bb544f8896a188bea38b1366": {
      "model_module": "@jupyter-widgets/controls",
      "model_module_version": "1.5.0",
      "model_name": "GridBoxModel",
      "state": {
       "box_style": "info",
       "children": [
        "IPY_MODEL_57e66eb39f52408db7d79b484cf53f35",
        "IPY_MODEL_17f66bda281f464ca283448a2346f43a",
        "IPY_MODEL_9fa19c8d673a46dba1e7f75c07bfcf6f"
       ],
       "layout": "IPY_MODEL_d743f83011fb4a6a8367da6d79ec3c46"
      }
     },
     "a82d6263f8f74e23b9bee87eac713b76": {
      "model_module": "@jupyter-widgets/base",
      "model_module_version": "1.2.0",
      "model_name": "LayoutModel",
      "state": {}
     },
     "a84ba730b2fa4ce7bb395c84b9fe2d88": {
      "model_module": "@jupyter-widgets/controls",
      "model_module_version": "1.5.0",
      "model_name": "HBoxModel",
      "state": {
       "children": [
        "IPY_MODEL_62c2ad4b40c74c4084ddef941b0d13c5",
        "IPY_MODEL_e1fe351d51594ea7905be31952b3c489"
       ],
       "layout": "IPY_MODEL_e8193f77109444febd12451c45b1b80e"
      }
     },
     "a86eafbb8ab245b283fae0ab25be62e4": {
      "model_module": "@jupyter-widgets/base",
      "model_module_version": "1.2.0",
      "model_name": "LayoutModel",
      "state": {
       "width": "30px"
      }
     },
     "a892c62a428d4945aade40c2706f1914": {
      "model_module": "@jupyter-widgets/controls",
      "model_module_version": "1.5.0",
      "model_name": "CheckboxModel",
      "state": {
       "disabled": false,
       "layout": "IPY_MODEL_4fb6822726a84e7ca97e74a832bd5d4e",
       "style": "IPY_MODEL_6006f7473980429b91178185278681be",
       "value": false
      }
     },
     "a8d6f34fe9b14d7695e4cff82e8c85e9": {
      "model_module": "@jupyter-widgets/controls",
      "model_module_version": "1.5.0",
      "model_name": "HBoxModel",
      "state": {
       "children": [
        "IPY_MODEL_977d1cec8b494d9195481bc42512ec69",
        "IPY_MODEL_2fbce13574544572b34843ebb1ece78f",
        "IPY_MODEL_3f956fdcb9e446bea1494a1bdf3886b0"
       ],
       "layout": "IPY_MODEL_7cb069382d594956bb584cf4cbd6e200"
      }
     },
     "a8dffb4ca24547fa9c6a23f263f3cf97": {
      "model_module": "@jupyter-widgets/base",
      "model_module_version": "1.2.0",
      "model_name": "LayoutModel",
      "state": {
       "width": "1000px"
      }
     },
     "a91bdefd9a344688936984bf0b65f9d3": {
      "model_module": "@jupyter-widgets/base",
      "model_module_version": "1.2.0",
      "model_name": "LayoutModel",
      "state": {}
     },
     "a93c6c4c7d6446a5bee7fb8987bd6c77": {
      "model_module": "@jupyter-widgets/base",
      "model_module_version": "1.2.0",
      "model_name": "LayoutModel",
      "state": {
       "align_items": "stretch",
       "display": "flex",
       "flex_flow": "row wrap",
       "width": "auto"
      }
     },
     "a95d6374b5764c8b9b1f51801c311d89": {
      "model_module": "@jupyter-widgets/base",
      "model_module_version": "1.2.0",
      "model_name": "LayoutModel",
      "state": {}
     },
     "a99487d45599402292dc8443ccf1a745": {
      "model_module": "@jupyter-widgets/controls",
      "model_module_version": "1.5.0",
      "model_name": "ButtonStyleModel",
      "state": {
       "button_color": "lightblue"
      }
     },
     "a9a1054ac90b4371945b33f6a564865f": {
      "model_module": "@jupyter-widgets/base",
      "model_module_version": "1.2.0",
      "model_name": "LayoutModel",
      "state": {
       "align_items": "stretch",
       "display": "flex",
       "flex_flow": "row wrap",
       "width": "auto"
      }
     },
     "a9d1c340946b4708a220375974ba4aed": {
      "model_module": "@jupyter-widgets/controls",
      "model_module_version": "1.5.0",
      "model_name": "HBoxModel",
      "state": {
       "children": [
        "IPY_MODEL_fdf54c41c7694691a5aa39d2283aac30",
        "IPY_MODEL_4e4909f29e9f44dda08eef756e4b1375"
       ],
       "layout": "IPY_MODEL_476e3f985df24ec2ab5c3db87a77d232"
      }
     },
     "a9e48fc75cdd44a2b5bf564e2777b32c": {
      "model_module": "@jupyter-widgets/controls",
      "model_module_version": "1.5.0",
      "model_name": "LabelModel",
      "state": {
       "layout": "IPY_MODEL_3869436c8ed743c7a33713db9dd24a10",
       "style": "IPY_MODEL_0bf8aa94eb6a431f96a00e2a6c03469e"
      }
     },
     "aa1a697d686c47fb8b151f53fcdc6ea4": {
      "model_module": "@jupyter-widgets/base",
      "model_module_version": "1.2.0",
      "model_name": "LayoutModel",
      "state": {}
     },
     "aa2ee7ae24b64728a0ddda7dee8dea4d": {
      "model_module": "@jupyter-widgets/controls",
      "model_module_version": "1.5.0",
      "model_name": "TextModel",
      "state": {
       "layout": "IPY_MODEL_ccc7650671b44e34ba93518eca77fd97",
       "placeholder": "",
       "style": "IPY_MODEL_09f78297bd4842a7bdc8fc25c4bff41a"
      }
     },
     "aa2f5e91f22944b4892f179de6b2d586": {
      "model_module": "@jupyter-widgets/base",
      "model_module_version": "1.2.0",
      "model_name": "LayoutModel",
      "state": {
       "width": "100px"
      }
     },
     "aa3b6ed10f31406ea4d7d65dd25852a8": {
      "model_module": "@jupyter-widgets/base",
      "model_module_version": "1.2.0",
      "model_name": "LayoutModel",
      "state": {
       "width": "100px"
      }
     },
     "aa7d97ded2a64d0ba2010fc8e07db1ba": {
      "model_module": "@jupyter-widgets/controls",
      "model_module_version": "1.5.0",
      "model_name": "LabelModel",
      "state": {
       "layout": "IPY_MODEL_dfc6df30158543538c437f70845247aa",
       "style": "IPY_MODEL_a7216b7c69ee4860b58844a3c30849d0",
       "value": "fib(n - k)"
      }
     },
     "aa98792b6fe34d39a07697a61ff7b390": {
      "model_module": "@jupyter-widgets/controls",
      "model_module_version": "1.5.0",
      "model_name": "LabelModel",
      "state": {
       "layout": "IPY_MODEL_32ef65d89ad2423ca850e24b565de03e",
       "style": "IPY_MODEL_359856353285470a8fddf447a114a824"
      }
     },
     "aaaa8631048447ddb7b46c0e8ac06029": {
      "model_module": "@jupyter-widgets/base",
      "model_module_version": "1.2.0",
      "model_name": "LayoutModel",
      "state": {}
     },
     "aabab4726c8f49eca76e8938780e77c0": {
      "model_module": "@jupyter-widgets/controls",
      "model_module_version": "1.5.0",
      "model_name": "ButtonModel",
      "state": {
       "description": "Submit",
       "layout": "IPY_MODEL_f29cb5b463c746a7b4f2d67a09879e53",
       "style": "IPY_MODEL_000768dc09cf46fd92157ab6beddc9cb"
      }
     },
     "aad0959a7995478f920edf213e083bd4": {
      "model_module": "@jupyter-widgets/controls",
      "model_module_version": "1.5.0",
      "model_name": "DescriptionStyleModel",
      "state": {
       "description_width": ""
      }
     },
     "aadb47fe02e14235a49704e67fa64490": {
      "model_module": "@jupyter-widgets/base",
      "model_module_version": "1.2.0",
      "model_name": "LayoutModel",
      "state": {
       "grid_template_areas": "\"header header\"\n\"left-sidebar left-sidebar\"\n\"footer footer\"",
       "grid_template_columns": "1fr 1fr",
       "grid_template_rows": "1fr 3fr 1fr"
      }
     },
     "ab06c29145d74028a2e75150f5e7af2d": {
      "model_module": "@jupyter-widgets/controls",
      "model_module_version": "1.5.0",
      "model_name": "DescriptionStyleModel",
      "state": {
       "description_width": ""
      }
     },
     "ab0c1bbaf0eb47568ceeb9d0fdbf6fce": {
      "model_module": "@jupyter-widgets/controls",
      "model_module_version": "1.5.0",
      "model_name": "GridBoxModel",
      "state": {
       "box_style": "info",
       "children": [
        "IPY_MODEL_f86c8960e99f433fa52b0deeb58bbc98",
        "IPY_MODEL_20a2dc861f074e6abfe0bcec0ba54d82",
        "IPY_MODEL_e6e99a79dc05416ab6960f61da0aa9f6"
       ],
       "layout": "IPY_MODEL_99f65784c22141029dcf8bfa54b8418d"
      }
     },
     "ab0c73c532fb444bbbacc20e33c738b5": {
      "model_module": "@jupyter-widgets/controls",
      "model_module_version": "1.5.0",
      "model_name": "LabelModel",
      "state": {
       "layout": "IPY_MODEL_1cdc9298dabb46c0bf0d9dc3356091c3",
       "style": "IPY_MODEL_8090f9e95bcb468b9fb731b974d7671e"
      }
     },
     "ab293e46d72242c79f34282b6b17298a": {
      "model_module": "@jupyter-widgets/controls",
      "model_module_version": "1.5.0",
      "model_name": "GridBoxModel",
      "state": {
       "box_style": "info",
       "children": [
        "IPY_MODEL_d371b60b30e24cd49e9aee8573ded3f1",
        "IPY_MODEL_0faf59ad9fd34cfa9a552f9f3c99357b",
        "IPY_MODEL_47b69ab56fc1464aa2b2784a281ec217"
       ],
       "layout": "IPY_MODEL_bfca5b1e310f499cb032737abbe80d06"
      }
     },
     "ab2f9c25b97844cbbefa101eb9d33f69": {
      "model_module": "@jupyter-widgets/controls",
      "model_module_version": "1.5.0",
      "model_name": "HBoxModel",
      "state": {
       "children": [
        "IPY_MODEL_4b2fb0ff0f634e9396b0c79af056886d",
        "IPY_MODEL_c5c9edeaf4e641bcaea8cb1e0db6c07a"
       ],
       "layout": "IPY_MODEL_0c0a8522640d4e3b9fa38f1283c126cb"
      }
     },
     "ab4e8983f36742188b3023f064ecf4fc": {
      "model_module": "@jupyter-widgets/base",
      "model_module_version": "1.2.0",
      "model_name": "LayoutModel",
      "state": {}
     },
     "ab584a5a26fc484b8c13a7be8e966022": {
      "model_module": "@jupyter-widgets/base",
      "model_module_version": "1.2.0",
      "model_name": "LayoutModel",
      "state": {}
     },
     "ab8a5a9334784625b41c0852be3ddd2b": {
      "model_module": "@jupyter-widgets/controls",
      "model_module_version": "1.5.0",
      "model_name": "LabelModel",
      "state": {
       "layout": "IPY_MODEL_0192e65d9e734914a5d82160b0c8b30f",
       "style": "IPY_MODEL_831535a9a12e4937aa89d1c602b05dc3"
      }
     },
     "ab8bcc62a54a4d1782ab8bd39562aa23": {
      "model_module": "@jupyter-widgets/base",
      "model_module_version": "1.2.0",
      "model_name": "LayoutModel",
      "state": {}
     },
     "abf3692d61534ebbac977c9cd723b022": {
      "model_module": "@jupyter-widgets/controls",
      "model_module_version": "1.5.0",
      "model_name": "DescriptionStyleModel",
      "state": {
       "description_width": ""
      }
     },
     "abf6ef3dbf1e459ea09385c01b807bae": {
      "model_module": "@jupyter-widgets/controls",
      "model_module_version": "1.5.0",
      "model_name": "CheckboxModel",
      "state": {
       "disabled": false,
       "layout": "IPY_MODEL_3c72008d537d4a509c6c14a843e84860",
       "style": "IPY_MODEL_2ac17e47c89a47b18b3b04a73f3d67a0",
       "value": false
      }
     },
     "ac1a3d89707448528bbdd22fb48590ac": {
      "model_module": "@jupyter-widgets/controls",
      "model_module_version": "1.5.0",
      "model_name": "ButtonStyleModel",
      "state": {
       "button_color": "lightblue"
      }
     },
     "ac1fb18901bc4bda9d9ce67e101d905d": {
      "model_module": "@jupyter-widgets/controls",
      "model_module_version": "1.5.0",
      "model_name": "LabelModel",
      "state": {
       "layout": "IPY_MODEL_e7f6cdb8cc234601b0e855be7b21b3e5",
       "style": "IPY_MODEL_bca9070e373e4a59a77e0b639adc75ff",
       "value": "fib(n - k)"
      }
     },
     "ac31ac4452054a1ea836774709bb0f11": {
      "model_module": "@jupyter-widgets/controls",
      "model_module_version": "1.5.0",
      "model_name": "DescriptionStyleModel",
      "state": {
       "description_width": ""
      }
     },
     "ac5779a9fa814593a371790c3a97f5ea": {
      "model_module": "@jupyter-widgets/base",
      "model_module_version": "1.2.0",
      "model_name": "LayoutModel",
      "state": {
       "width": "30px"
      }
     },
     "ac631d9ab0604c148eda7eb6975b66b8": {
      "model_module": "@jupyter-widgets/base",
      "model_module_version": "1.2.0",
      "model_name": "LayoutModel",
      "state": {}
     },
     "ac8328bbfcdf46c09e62211ff845c0ae": {
      "model_module": "@jupyter-widgets/controls",
      "model_module_version": "1.5.0",
      "model_name": "DescriptionStyleModel",
      "state": {
       "description_width": "initial"
      }
     },
     "ac890523143e4c959875e33e3f68e81a": {
      "model_module": "@jupyter-widgets/base",
      "model_module_version": "1.2.0",
      "model_name": "LayoutModel",
      "state": {
       "grid_area": "footer"
      }
     },
     "acb2028689c34a8ab5c4962fc6a189b0": {
      "model_module": "@jupyter-widgets/controls",
      "model_module_version": "1.5.0",
      "model_name": "VBoxModel",
      "state": {
       "children": [
        "IPY_MODEL_074ae5bcafe14a699659472c69db58bf",
        "IPY_MODEL_dcdbeb4a6c2045b6a2b5a8842bae4a79",
        "IPY_MODEL_dd6fcd3b44954c76ab051933791f3bfb",
        "IPY_MODEL_221aed95c341419badaf9b4c90748c0f",
        "IPY_MODEL_da5f17b5dff840f1880478f89806ddfe"
       ],
       "layout": "IPY_MODEL_456a220105b34d609f74f8dc89aa887a"
      }
     },
     "acb90cab94de4df0b0b3de7952316015": {
      "model_module": "@jupyter-widgets/base",
      "model_module_version": "1.2.0",
      "model_name": "LayoutModel",
      "state": {}
     },
     "acc0c7c677c848da9b726b71ecd61277": {
      "model_module": "@jupyter-widgets/controls",
      "model_module_version": "1.5.0",
      "model_name": "DescriptionStyleModel",
      "state": {
       "description_width": ""
      }
     },
     "acf3c98ab73d429db619d1c775cd5e2c": {
      "model_module": "@jupyter-widgets/controls",
      "model_module_version": "1.5.0",
      "model_name": "HBoxModel",
      "state": {
       "box_style": "info",
       "children": [
        "IPY_MODEL_708380445adb4f5e833098d8d81da7e7",
        "IPY_MODEL_d20b43515ec048b8bdb1491244a98ec0"
       ],
       "layout": "IPY_MODEL_ac890523143e4c959875e33e3f68e81a"
      }
     },
     "acfa5b14fd4042a6b24f42c3d3315980": {
      "model_module": "@jupyter-widgets/base",
      "model_module_version": "1.2.0",
      "model_name": "LayoutModel",
      "state": {}
     },
     "ad06f4e4fb20422cb2fd91f51bf273b8": {
      "model_module": "@jupyter-widgets/controls",
      "model_module_version": "1.5.0",
      "model_name": "DescriptionStyleModel",
      "state": {
       "description_width": ""
      }
     },
     "ad7f371331744539aa282ad360bd7d54": {
      "model_module": "@jupyter-widgets/controls",
      "model_module_version": "1.5.0",
      "model_name": "DescriptionStyleModel",
      "state": {
       "description_width": ""
      }
     },
     "ad92a31adaca446e9a367425b955e1fa": {
      "model_module": "@jupyter-widgets/base",
      "model_module_version": "1.2.0",
      "model_name": "LayoutModel",
      "state": {}
     },
     "adabe0bf659641be9473e2a9166bcca1": {
      "model_module": "@jupyter-widgets/controls",
      "model_module_version": "1.5.0",
      "model_name": "DescriptionStyleModel",
      "state": {
       "description_width": ""
      }
     },
     "adbb36277ef848ff82a2c43e1fc4c964": {
      "model_module": "@jupyter-widgets/controls",
      "model_module_version": "1.5.0",
      "model_name": "VBoxModel",
      "state": {
       "box_style": "success",
       "children": [
        "IPY_MODEL_2af0ac2d2baa45c3b79533de9df3e66a"
       ],
       "layout": "IPY_MODEL_3ae46b9e3d4444c8a8ecd6a815d3e49e"
      }
     },
     "adbe1fe40d7342c4920b9d4d4fd96eb7": {
      "model_module": "@jupyter-widgets/base",
      "model_module_version": "1.2.0",
      "model_name": "LayoutModel",
      "state": {
       "width": "100px"
      }
     },
     "add38d82b058420682db6ba5f6acee4d": {
      "model_module": "@jupyter-widgets/controls",
      "model_module_version": "1.5.0",
      "model_name": "HBoxModel",
      "state": {
       "children": [
        "IPY_MODEL_f2cf81a188df4329b4577faed1ff9052",
        "IPY_MODEL_fe61c5b74f7a473fbcc987a063008a4c"
       ],
       "layout": "IPY_MODEL_d95bdc13b3e44154a8ff5b2976895b32"
      }
     },
     "add41cbee97f44288598121cf2ee683e": {
      "model_module": "@jupyter-widgets/controls",
      "model_module_version": "1.5.0",
      "model_name": "DescriptionStyleModel",
      "state": {
       "description_width": "initial"
      }
     },
     "addf5d24f7e54fc1aff05ba2464d6cb6": {
      "model_module": "@jupyter-widgets/controls",
      "model_module_version": "1.5.0",
      "model_name": "CheckboxModel",
      "state": {
       "disabled": false,
       "layout": "IPY_MODEL_538f2c1fecbd4cce8eb7704f62aae341",
       "style": "IPY_MODEL_71473f2d50a644d2864b9861d5ae8a32",
       "value": false
      }
     },
     "ae022a716dbd4c228e1c708cc6544b70": {
      "model_module": "@jupyter-widgets/controls",
      "model_module_version": "1.5.0",
      "model_name": "CheckboxModel",
      "state": {
       "disabled": false,
       "layout": "IPY_MODEL_13317dc1f2904653a60bd67f997f8bac",
       "style": "IPY_MODEL_b1266a3f21d247caae8b4b9e8d85e3e4",
       "value": false
      }
     },
     "ae128f9a7999477f9d62e295e8b2f1ae": {
      "model_module": "@jupyter-widgets/controls",
      "model_module_version": "1.5.0",
      "model_name": "CheckboxModel",
      "state": {
       "disabled": false,
       "layout": "IPY_MODEL_a86eafbb8ab245b283fae0ab25be62e4",
       "style": "IPY_MODEL_efd21d518dde4e20afe5d2edee7a02c5",
       "value": false
      }
     },
     "ae4ab8fcf7704902a6074753fedb4967": {
      "model_module": "@jupyter-widgets/controls",
      "model_module_version": "1.5.0",
      "model_name": "HBoxModel",
      "state": {
       "children": [
        "IPY_MODEL_0769ed84e63b45d79694561785e88301",
        "IPY_MODEL_2ed336b4a433425ba5713a13cdd65db8"
       ],
       "layout": "IPY_MODEL_a91bdefd9a344688936984bf0b65f9d3"
      }
     },
     "ae56e9ad2a4c4e8a9a94edb5f664bb79": {
      "model_module": "@jupyter-widgets/controls",
      "model_module_version": "1.5.0",
      "model_name": "HBoxModel",
      "state": {
       "children": [
        "IPY_MODEL_687ed4eae84640a08b9df67f5d19e23b",
        "IPY_MODEL_cfc841f9632c411181c701c0d13ae955"
       ],
       "layout": "IPY_MODEL_d47e4f13322b4925a3048069820fcf93"
      }
     },
     "ae7dc5fcd4dc44eb884fb2234b66d787": {
      "model_module": "@jupyter-widgets/controls",
      "model_module_version": "1.5.0",
      "model_name": "HBoxModel",
      "state": {
       "children": [
        "IPY_MODEL_dffa2faa38374221abcd485512454fe6",
        "IPY_MODEL_d7699503c20f44478acd606cfce21a51"
       ],
       "layout": "IPY_MODEL_71ebd574c32e4ee2bf6792fa82d5bbba"
      }
     },
     "aee4cfefc0c9486e93657474c7b911fc": {
      "model_module": "@jupyter-widgets/controls",
      "model_module_version": "1.5.0",
      "model_name": "ButtonStyleModel",
      "state": {
       "button_color": "lightblue"
      }
     },
     "af0c628451264666b0a4baf6293dfd30": {
      "model_module": "@jupyter-widgets/controls",
      "model_module_version": "1.5.0",
      "model_name": "HBoxModel",
      "state": {
       "children": [
        "IPY_MODEL_5dc2dab6f21845c69c057bf591f3851a",
        "IPY_MODEL_3dbf0c3601954bd7be8737d36f11d446"
       ],
       "layout": "IPY_MODEL_ee97f49e0af84b1194be4328301c58a1"
      }
     },
     "af3a8f23047f4e71bdc9359bed1ca711": {
      "model_module": "@jupyter-widgets/controls",
      "model_module_version": "1.5.0",
      "model_name": "HBoxModel",
      "state": {
       "children": [
        "IPY_MODEL_9c46c599b94c438685d75928252eb34c",
        "IPY_MODEL_26f5c394a54342edba7eb5a85c856dd9"
       ],
       "layout": "IPY_MODEL_6a994718f24242578821f037820ab2a0"
      }
     },
     "af649078c97a4431a70554048f0e93c6": {
      "model_module": "@jupyter-widgets/controls",
      "model_module_version": "1.5.0",
      "model_name": "DescriptionStyleModel",
      "state": {
       "description_width": ""
      }
     },
     "afc55742637f4a02bd3e4e73c37ad3f5": {
      "model_module": "@jupyter-widgets/controls",
      "model_module_version": "1.5.0",
      "model_name": "DescriptionStyleModel",
      "state": {
       "description_width": ""
      }
     },
     "afc59388ad6545e5ae749b6b7ab1130b": {
      "model_module": "@jupyter-widgets/controls",
      "model_module_version": "1.5.0",
      "model_name": "VBoxModel",
      "state": {
       "box_style": "info",
       "children": [
        "IPY_MODEL_53c4e83f1e4f436ebb12dae3d4d6595c",
        "IPY_MODEL_e4b1cff9a97f425d8cc55129d8eee309",
        "IPY_MODEL_83fb4d2278b9461ab4fcd340ebe24aa6"
       ],
       "layout": "IPY_MODEL_88481a1b0e664633903ef8ca1f137baf"
      }
     },
     "afd7e6048c1b4ff3a46940123f38f82b": {
      "model_module": "@jupyter-widgets/controls",
      "model_module_version": "1.5.0",
      "model_name": "DescriptionStyleModel",
      "state": {
       "description_width": ""
      }
     },
     "afe3ae63d4214aa6b8a006f170c5aa1a": {
      "model_module": "@jupyter-widgets/controls",
      "model_module_version": "1.5.0",
      "model_name": "CheckboxModel",
      "state": {
       "disabled": false,
       "layout": "IPY_MODEL_8505b0e618394d05a898f3ee14d4dcc0",
       "style": "IPY_MODEL_e18e1f6cd93b4324b320ce01be4e026e",
       "value": false
      }
     },
     "b000b08cd22b472a8c951ca90e1f3054": {
      "model_module": "@jupyter-widgets/controls",
      "model_module_version": "1.5.0",
      "model_name": "HBoxModel",
      "state": {
       "children": [
        "IPY_MODEL_782d8c5b47f14d239a052157b9e934da",
        "IPY_MODEL_6f413ede104b491eb9584e4e6a2c28bc"
       ],
       "layout": "IPY_MODEL_5109f27d419c4ae8929a4780a40381ec"
      }
     },
     "b002932e07cb469193567b25c647a30c": {
      "model_module": "@jupyter-widgets/base",
      "model_module_version": "1.2.0",
      "model_name": "LayoutModel",
      "state": {
       "width": "100px"
      }
     },
     "b012b6acfeae4e0fb7916611361d05c2": {
      "model_module": "@jupyter-widgets/base",
      "model_module_version": "1.2.0",
      "model_name": "LayoutModel",
      "state": {
       "width": "30px"
      }
     },
     "b085bcf096324134b11832b650d5d3f7": {
      "model_module": "@jupyter-widgets/base",
      "model_module_version": "1.2.0",
      "model_name": "LayoutModel",
      "state": {
       "border": "2px solid red"
      }
     },
     "b090d21a85c54bfdb1aca6acd8301d57": {
      "model_module": "@jupyter-widgets/controls",
      "model_module_version": "1.5.0",
      "model_name": "DescriptionStyleModel",
      "state": {
       "description_width": "initial"
      }
     },
     "b100e0e996c242459d6e7792b4299891": {
      "model_module": "@jupyter-widgets/base",
      "model_module_version": "1.2.0",
      "model_name": "LayoutModel",
      "state": {}
     },
     "b1266a3f21d247caae8b4b9e8d85e3e4": {
      "model_module": "@jupyter-widgets/controls",
      "model_module_version": "1.5.0",
      "model_name": "DescriptionStyleModel",
      "state": {
       "description_width": "initial"
      }
     },
     "b12c16397f154b808a94fab32bcab4ac": {
      "model_module": "@jupyter-widgets/base",
      "model_module_version": "1.2.0",
      "model_name": "LayoutModel",
      "state": {}
     },
     "b14e7868624c4a308cb698cc3c05826d": {
      "model_module": "@jupyter-widgets/base",
      "model_module_version": "1.2.0",
      "model_name": "LayoutModel",
      "state": {
       "height": "50%",
       "margin": "0 0 0 30px",
       "width": "50%"
      }
     },
     "b15155fe16d74396a1ca29076f5a05e3": {
      "model_module": "@jupyter-widgets/controls",
      "model_module_version": "1.5.0",
      "model_name": "CheckboxModel",
      "state": {
       "disabled": false,
       "layout": "IPY_MODEL_2db101efc1d64a1b8a98079971f77f75",
       "style": "IPY_MODEL_c1e57d949278410a80f4d31e850c0585",
       "value": false
      }
     },
     "b173d63a89cd46f6baa84fa759ebbbc5": {
      "model_module": "@jupyter-widgets/base",
      "model_module_version": "1.2.0",
      "model_name": "LayoutModel",
      "state": {
       "width": "30px"
      }
     },
     "b197680f81684627897c2e8353869cac": {
      "model_module": "@jupyter-widgets/controls",
      "model_module_version": "1.5.0",
      "model_name": "DescriptionStyleModel",
      "state": {
       "description_width": ""
      }
     },
     "b1a88b0b4f814756b8d691d18a259572": {
      "model_module": "@jupyter-widgets/base",
      "model_module_version": "1.2.0",
      "model_name": "LayoutModel",
      "state": {}
     },
     "b1e62a6a92814a9fa917c2eefa8b2a4c": {
      "model_module": "@jupyter-widgets/controls",
      "model_module_version": "1.5.0",
      "model_name": "DescriptionStyleModel",
      "state": {
       "description_width": ""
      }
     },
     "b2082a5f54754746a82c15fa4b989fd8": {
      "model_module": "@jupyter-widgets/controls",
      "model_module_version": "1.5.0",
      "model_name": "HBoxModel",
      "state": {
       "children": [
        "IPY_MODEL_d6d6199ab91c4fbca59cce34149f49a6",
        "IPY_MODEL_c4ec68723bd24c6796d622d3c84ad00f"
       ],
       "layout": "IPY_MODEL_18c7d4df629742c79737908fc7f32d63"
      }
     },
     "b25da1f3fd46439dabded374741bc4d5": {
      "model_module": "@jupyter-widgets/controls",
      "model_module_version": "1.5.0",
      "model_name": "DescriptionStyleModel",
      "state": {
       "description_width": ""
      }
     },
     "b260bf8fd3274c7eb8f9ff1ba1da8a14": {
      "model_module": "@jupyter-widgets/controls",
      "model_module_version": "1.5.0",
      "model_name": "LabelModel",
      "state": {
       "layout": "IPY_MODEL_fdff1f99d9d64a61b5e4b348de22bde9",
       "style": "IPY_MODEL_6826d54188264febaaffb482707c3ab9",
       "value": "Correct!"
      }
     },
     "b2a230aa71c04fd3ad2d0d6a29c45751": {
      "model_module": "@jupyter-widgets/controls",
      "model_module_version": "1.5.0",
      "model_name": "GridBoxModel",
      "state": {
       "box_style": "info",
       "children": [
        "IPY_MODEL_c14af1ba7cc94c7593cbbb6fecadc481",
        "IPY_MODEL_acf3c98ab73d429db619d1c775cd5e2c",
        "IPY_MODEL_04d170b4e15e48608048512c6a9dd8f0"
       ],
       "layout": "IPY_MODEL_89502a799a9d4dbfa7180ef9d913e794"
      }
     },
     "b2e4846d9bf64378b3eaf8c1981c0178": {
      "model_module": "@jupyter-widgets/controls",
      "model_module_version": "1.5.0",
      "model_name": "LabelModel",
      "state": {
       "layout": "IPY_MODEL_4f3abeb1b9964314bec1889e9b20bf4b",
       "style": "IPY_MODEL_8a53b9b86f974f76868c8497c1314c7f"
      }
     },
     "b2fd80a25c014d4281f961ef1bf86567": {
      "model_module": "@jupyter-widgets/controls",
      "model_module_version": "1.5.0",
      "model_name": "LabelModel",
      "state": {
       "layout": "IPY_MODEL_24a084416672491a92a6abf05e4c06fb",
       "style": "IPY_MODEL_da3eb8d554d8419c9f9527ab0588727a"
      }
     },
     "b32c905da249469eaba15b415dd3dead": {
      "model_module": "@jupyter-widgets/controls",
      "model_module_version": "1.5.0",
      "model_name": "HBoxModel",
      "state": {
       "children": [
        "IPY_MODEL_6a6c7dad07ff4fedb78ea9fdbdec0214",
        "IPY_MODEL_73f082aebea94e1684915b029c976901"
       ],
       "layout": "IPY_MODEL_9d620d86fca140659d9b024dae236ce6"
      }
     },
     "b33350c6166b4362b468529788d0d54b": {
      "model_module": "@jupyter-widgets/base",
      "model_module_version": "1.2.0",
      "model_name": "LayoutModel",
      "state": {}
     },
     "b3a2bdf935e940f9bb9873875ab02985": {
      "model_module": "@jupyter-widgets/base",
      "model_module_version": "1.2.0",
      "model_name": "LayoutModel",
      "state": {
       "width": "1000px"
      }
     },
     "b3ffdbf9ace24f028c275cafe9a4dee1": {
      "model_module": "@jupyter-widgets/controls",
      "model_module_version": "1.5.0",
      "model_name": "HBoxModel",
      "state": {
       "children": [
        "IPY_MODEL_7221166cfa354e32872e2d831be8e9ec",
        "IPY_MODEL_31482a37f79643d1a37095369d4d012d"
       ],
       "layout": "IPY_MODEL_f4b10eb23699419e8e80f7ddc8160d4a"
      }
     },
     "b41f85e86cca4690afcedf285b37620f": {
      "model_module": "@jupyter-widgets/controls",
      "model_module_version": "1.5.0",
      "model_name": "DescriptionStyleModel",
      "state": {
       "description_width": ""
      }
     },
     "b424cd4242ef44ea932723df3956dfb1": {
      "model_module": "@jupyter-widgets/base",
      "model_module_version": "1.2.0",
      "model_name": "LayoutModel",
      "state": {
       "width": "500px"
      }
     },
     "b42b66d8916f4cb8b63815d914052d1a": {
      "model_module": "@jupyter-widgets/base",
      "model_module_version": "1.2.0",
      "model_name": "LayoutModel",
      "state": {}
     },
     "b43ca28db9234dc0b61f3b00c7aa0309": {
      "model_module": "@jupyter-widgets/base",
      "model_module_version": "1.2.0",
      "model_name": "LayoutModel",
      "state": {}
     },
     "b459405980c8417c9eb642cd4dd40806": {
      "model_module": "@jupyter-widgets/base",
      "model_module_version": "1.2.0",
      "model_name": "LayoutModel",
      "state": {}
     },
     "b486ecf2da3b4d79bb82a77abd19b708": {
      "model_module": "@jupyter-widgets/base",
      "model_module_version": "1.2.0",
      "model_name": "LayoutModel",
      "state": {
       "align_items": "stretch",
       "display": "flex",
       "flex_flow": "row wrap",
       "grid_area": "footer",
       "margin": "30px 0 0 0"
      }
     },
     "b48f1340e56d40ffa48446f350568625": {
      "model_module": "@jupyter-widgets/base",
      "model_module_version": "1.2.0",
      "model_name": "LayoutModel",
      "state": {
       "width": "1000px"
      }
     },
     "b49daacb0da64a16ac5dfed77497a69b": {
      "model_module": "@jupyter-widgets/base",
      "model_module_version": "1.2.0",
      "model_name": "LayoutModel",
      "state": {
       "width": "1000px"
      }
     },
     "b49f6160db0a4c4d88880624d633963d": {
      "model_module": "@jupyter-widgets/controls",
      "model_module_version": "1.5.0",
      "model_name": "CheckboxModel",
      "state": {
       "disabled": false,
       "layout": "IPY_MODEL_fe18d33136fa4f92a5d2636bb117f877",
       "style": "IPY_MODEL_bb62204f42594fa5842bdc7fe952e35d",
       "value": false
      }
     },
     "b4a42e2190eb45bb881d6a314e3b3c38": {
      "model_module": "@jupyter-widgets/base",
      "model_module_version": "1.2.0",
      "model_name": "LayoutModel",
      "state": {
       "grid_area": "header"
      }
     },
     "b4b06c8610e14a1a8dd5360cd61956d1": {
      "model_module": "@jupyter-widgets/controls",
      "model_module_version": "1.5.0",
      "model_name": "HBoxModel",
      "state": {
       "children": [
        "IPY_MODEL_7ba0ff1589604fa5b896de703a56151c",
        "IPY_MODEL_a9d1c340946b4708a220375974ba4aed"
       ],
       "layout": "IPY_MODEL_4a9ac8f08d24449498ece87ec2daba5e"
      }
     },
     "b4b3fabb96a244e3a9e3b009c0d2888b": {
      "model_module": "@jupyter-widgets/controls",
      "model_module_version": "1.5.0",
      "model_name": "HBoxModel",
      "state": {
       "children": [
        "IPY_MODEL_abf6ef3dbf1e459ea09385c01b807bae",
        "IPY_MODEL_22b70be7d3c943f68ac4ec8df7ab46bd"
       ],
       "layout": "IPY_MODEL_9af6f16cb4b641c7b240ba9d3b69196c"
      }
     },
     "b4bff6e817ae4f2986e03af5f55d4383": {
      "model_module": "@jupyter-widgets/base",
      "model_module_version": "1.2.0",
      "model_name": "LayoutModel",
      "state": {
       "width": "30px"
      }
     },
     "b4c419e9bbf4452cb0d6c6942fdb8d18": {
      "model_module": "@jupyter-widgets/controls",
      "model_module_version": "1.5.0",
      "model_name": "DescriptionStyleModel",
      "state": {
       "description_width": ""
      }
     },
     "b4d711b5d2584f38b0433ead7e209c73": {
      "model_module": "@jupyter-widgets/base",
      "model_module_version": "1.2.0",
      "model_name": "LayoutModel",
      "state": {}
     },
     "b4e0c4e8d5c24f698de9cd15b1fb8a56": {
      "model_module": "@jupyter-widgets/controls",
      "model_module_version": "1.5.0",
      "model_name": "CheckboxModel",
      "state": {
       "disabled": false,
       "layout": "IPY_MODEL_35998ef06b3f4e0986879dfa42fdbaec",
       "style": "IPY_MODEL_4d88a595dcff410e81cd8eac51d8bd25",
       "value": false
      }
     },
     "b4e2eb1968574195bddc0e0184527d2f": {
      "model_module": "@jupyter-widgets/base",
      "model_module_version": "1.2.0",
      "model_name": "LayoutModel",
      "state": {
       "width": "100px"
      }
     },
     "b4f54213a0494ab4807623ebb7ecc802": {
      "model_module": "@jupyter-widgets/base",
      "model_module_version": "1.2.0",
      "model_name": "LayoutModel",
      "state": {
       "width": "100px"
      }
     },
     "b52172bf3de74bca84da5c242ec1451d": {
      "model_module": "@jupyter-widgets/base",
      "model_module_version": "1.2.0",
      "model_name": "LayoutModel",
      "state": {
       "border": "2px solid red"
      }
     },
     "b532feeeb0fc4cd69d2a9ca590f0ee82": {
      "model_module": "@jupyter-widgets/base",
      "model_module_version": "1.2.0",
      "model_name": "LayoutModel",
      "state": {
       "grid_area": "header"
      }
     },
     "b537e590dac542ed94b58c2de71afad2": {
      "model_module": "@jupyter-widgets/controls",
      "model_module_version": "1.5.0",
      "model_name": "DescriptionStyleModel",
      "state": {
       "description_width": ""
      }
     },
     "b5606f22fb804459b5a9abc44f696e70": {
      "model_module": "@jupyter-widgets/controls",
      "model_module_version": "1.5.0",
      "model_name": "HBoxModel",
      "state": {
       "children": [
        "IPY_MODEL_52520efe3b8644eea0c9ad261b467133",
        "IPY_MODEL_3f29cafa733644e69e3bc9d53155b29e"
       ],
       "layout": "IPY_MODEL_468519b8bf3442a2ad0f54a71ac3787a"
      }
     },
     "b586c7003df5442fb88ff247e894d303": {
      "model_module": "@jupyter-widgets/base",
      "model_module_version": "1.2.0",
      "model_name": "LayoutModel",
      "state": {}
     },
     "b5c98961712348bf9aa44c8142bbe8ff": {
      "model_module": "@jupyter-widgets/controls",
      "model_module_version": "1.5.0",
      "model_name": "ButtonModel",
      "state": {
       "description": "Submit",
       "layout": "IPY_MODEL_cb26e06c23f840d283856ee8a7362f89",
       "style": "IPY_MODEL_c4109c0ec1ea4e75a3c4b31fc4525aa4"
      }
     },
     "b60f6a79bdf44a5dbddc530bb1eb5992": {
      "model_module": "@jupyter-widgets/base",
      "model_module_version": "1.2.0",
      "model_name": "LayoutModel",
      "state": {}
     },
     "b65b34870319422e98c936fc3f6bbd7f": {
      "model_module": "@jupyter-widgets/controls",
      "model_module_version": "1.5.0",
      "model_name": "DescriptionStyleModel",
      "state": {
       "description_width": ""
      }
     },
     "b6b4b71058b34cff90d61c08047fef22": {
      "model_module": "@jupyter-widgets/base",
      "model_module_version": "1.2.0",
      "model_name": "LayoutModel",
      "state": {
       "border": "2px solid green"
      }
     },
     "b6bf4b004852498eb64162d47df057ff": {
      "model_module": "@jupyter-widgets/base",
      "model_module_version": "1.2.0",
      "model_name": "LayoutModel",
      "state": {
       "width": "1000px"
      }
     },
     "b6f0d804975e4234bc10cb4669b69da2": {
      "model_module": "@jupyter-widgets/controls",
      "model_module_version": "1.5.0",
      "model_name": "DescriptionStyleModel",
      "state": {
       "description_width": ""
      }
     },
     "b6f98eddc40e4b0dae1b75f79ac0b360": {
      "model_module": "@jupyter-widgets/controls",
      "model_module_version": "1.5.0",
      "model_name": "LabelModel",
      "state": {
       "layout": "IPY_MODEL_e0eed506d2f3407383f99e1ececf9691",
       "style": "IPY_MODEL_e7a532823b55406d83f38c96470ad708",
       "value": "fib(n - 1)"
      }
     },
     "b6fe6b27328d43e0945e6d1762aaa34e": {
      "model_module": "@jupyter-widgets/base",
      "model_module_version": "1.2.0",
      "model_name": "LayoutModel",
      "state": {
       "width": "30px"
      }
     },
     "b701186461d5403788bc725fca44b178": {
      "model_module": "@jupyter-widgets/controls",
      "model_module_version": "1.5.0",
      "model_name": "HBoxModel",
      "state": {
       "children": [
        "IPY_MODEL_528f59d9f75c497b8069076ea17c1b16",
        "IPY_MODEL_8e571b36a12c46c8b24057de44c89954"
       ],
       "layout": "IPY_MODEL_42eded3152c249f18f65904e3d9e9e8c"
      }
     },
     "b741b8d26782464fa80c930610179db4": {
      "model_module": "@jupyter-widgets/base",
      "model_module_version": "1.2.0",
      "model_name": "LayoutModel",
      "state": {}
     },
     "b78472299d4f43f3b4bc50e1af3769ca": {
      "model_module": "@jupyter-widgets/base",
      "model_module_version": "1.2.0",
      "model_name": "LayoutModel",
      "state": {}
     },
     "b786333c84684e23861822c43f7605e9": {
      "model_module": "@jupyter-widgets/base",
      "model_module_version": "1.2.0",
      "model_name": "LayoutModel",
      "state": {
       "width": "30px"
      }
     },
     "b7ad551e517e4029832712fd7f226bb3": {
      "model_module": "@jupyter-widgets/controls",
      "model_module_version": "1.5.0",
      "model_name": "LabelModel",
      "state": {
       "layout": "IPY_MODEL_bfbaf371b8b9454081af9472a584152f",
       "style": "IPY_MODEL_7c7eac72625e4598bff0bd1fd56ca244",
       "value": "Given k between 0 and n - 3, how many nodes of type fib(n - k) does the call stack tree of fib(n) have?"
      }
     },
     "b7b3ff676a704ced8cfd2a081095cdaf": {
      "model_module": "@jupyter-widgets/controls",
      "model_module_version": "1.5.0",
      "model_name": "DescriptionStyleModel",
      "state": {
       "description_width": ""
      }
     },
     "b7c746352ede4092bc0505d70d8b9f30": {
      "model_module": "@jupyter-widgets/controls",
      "model_module_version": "1.5.0",
      "model_name": "CheckboxModel",
      "state": {
       "disabled": false,
       "layout": "IPY_MODEL_b786333c84684e23861822c43f7605e9",
       "style": "IPY_MODEL_a3da3029b7404931bdbf04f72216f089",
       "value": false
      }
     },
     "b7d0e157f5f5467f9285dd2b53e48eb8": {
      "model_module": "@jupyter-widgets/base",
      "model_module_version": "1.2.0",
      "model_name": "LayoutModel",
      "state": {}
     },
     "b8295628f5b74dc6b0797855874af90c": {
      "model_module": "@jupyter-widgets/controls",
      "model_module_version": "1.5.0",
      "model_name": "CheckboxModel",
      "state": {
       "disabled": false,
       "layout": "IPY_MODEL_e73326c0045a43fc99a97193486c16de",
       "style": "IPY_MODEL_ca03e4148a0645d1bdee798ac120d1e7",
       "value": false
      }
     },
     "b876a961f1a74a6893e551429849ec22": {
      "model_module": "@jupyter-widgets/base",
      "model_module_version": "1.2.0",
      "model_name": "LayoutModel",
      "state": {}
     },
     "b89ae53cbb8d419a9393ff0812f4c78d": {
      "model_module": "@jupyter-widgets/base",
      "model_module_version": "1.2.0",
      "model_name": "LayoutModel",
      "state": {
       "width": "30px"
      }
     },
     "b8ab7b08b30649119cc65527a8931a03": {
      "model_module": "@jupyter-widgets/base",
      "model_module_version": "1.2.0",
      "model_name": "LayoutModel",
      "state": {}
     },
     "b8b03244fcbc4f4aa112f48e4141ab1a": {
      "model_module": "@jupyter-widgets/controls",
      "model_module_version": "1.5.0",
      "model_name": "DescriptionStyleModel",
      "state": {
       "description_width": ""
      }
     },
     "b8c7d34a50454d87a1e15480df74e7f1": {
      "model_module": "@jupyter-widgets/controls",
      "model_module_version": "1.5.0",
      "model_name": "LabelModel",
      "state": {
       "layout": "IPY_MODEL_d73a4836cd28476f980bed015516122a",
       "style": "IPY_MODEL_5277f661a3ef47f194ebc7714538096b"
      }
     },
     "b8cc2028e65b4370b3e65c9aa8800cb6": {
      "model_module": "@jupyter-widgets/controls",
      "model_module_version": "1.5.0",
      "model_name": "LabelModel",
      "state": {
       "layout": "IPY_MODEL_9cda905e5b0641fda6d383c1c09b0bd3",
       "style": "IPY_MODEL_cddbf42521f0464c8c9555d574fa748a",
       "value": "fib(n)"
      }
     },
     "b8ceee00945e4152a51a99e5da672086": {
      "model_module": "@jupyter-widgets/controls",
      "model_module_version": "1.5.0",
      "model_name": "CheckboxModel",
      "state": {
       "disabled": false,
       "layout": "IPY_MODEL_5d8c396948b54a85b2e90f31d698bf10",
       "style": "IPY_MODEL_7853666488a643d2872765ea617edd45",
       "value": false
      }
     },
     "b8ee14937d1b4d9e8768ed8aa540ed14": {
      "model_module": "@jupyter-widgets/base",
      "model_module_version": "1.2.0",
      "model_name": "LayoutModel",
      "state": {
       "grid_template_areas": "\"header header\"\n\"left-sidebar left-sidebar\"\n\"footer footer\"",
       "grid_template_columns": "1fr 1fr",
       "grid_template_rows": "1fr 3fr 1fr"
      }
     },
     "b8f91e0d66e94dd1af4ebb3028f0196d": {
      "model_module": "@jupyter-widgets/controls",
      "model_module_version": "1.5.0",
      "model_name": "DescriptionStyleModel",
      "state": {
       "description_width": "initial"
      }
     },
     "b91e0591f7c84c2db376927275fe2b82": {
      "model_module": "@jupyter-widgets/base",
      "model_module_version": "1.2.0",
      "model_name": "LayoutModel",
      "state": {}
     },
     "b92adf23951841debab1241351094825": {
      "model_module": "@jupyter-widgets/controls",
      "model_module_version": "1.5.0",
      "model_name": "DescriptionStyleModel",
      "state": {
       "description_width": "initial"
      }
     },
     "b92d97055558445eafc55b07ce025e19": {
      "model_module": "@jupyter-widgets/controls",
      "model_module_version": "1.5.0",
      "model_name": "VBoxModel",
      "state": {
       "children": [
        "IPY_MODEL_2b7a84e5c4e844dd962dcf596b309196",
        "IPY_MODEL_96ed0ad1612d4fc187fe8c7f8d05010c",
        "IPY_MODEL_6a1fab5af6604a989431a4d109cc97e8"
       ],
       "layout": "IPY_MODEL_15a47658be8548eca23ed29bfd09eaba"
      }
     },
     "b942aa2618944e888b11829990b96bb2": {
      "model_module": "@jupyter-widgets/base",
      "model_module_version": "1.2.0",
      "model_name": "LayoutModel",
      "state": {}
     },
     "b945181051614a0b855eb388648c0e03": {
      "model_module": "@jupyter-widgets/base",
      "model_module_version": "1.2.0",
      "model_name": "LayoutModel",
      "state": {
       "width": "1000px"
      }
     },
     "b951b14e8de443538ce7f0ecc543a4cc": {
      "model_module": "@jupyter-widgets/controls",
      "model_module_version": "1.5.0",
      "model_name": "GridBoxModel",
      "state": {
       "box_style": "info",
       "children": [
        "IPY_MODEL_54ba5cd0fffb4c7c92086c3623fd6b1c",
        "IPY_MODEL_c3ecae66383646ee8cd70526ac10b185",
        "IPY_MODEL_b92d97055558445eafc55b07ce025e19"
       ],
       "layout": "IPY_MODEL_b8ee14937d1b4d9e8768ed8aa540ed14"
      }
     },
     "b952e55dfaa646eaaecf6a44c9098452": {
      "model_module": "@jupyter-widgets/controls",
      "model_module_version": "1.5.0",
      "model_name": "LabelModel",
      "state": {
       "layout": "IPY_MODEL_d485edba33d1479a8e146a72a4122222",
       "style": "IPY_MODEL_8b9a93a8864846d89c9de4b326ec1137"
      }
     },
     "b9761c61269f4809bbff6d20b53933bf": {
      "model_module": "@jupyter-widgets/controls",
      "model_module_version": "1.5.0",
      "model_name": "ButtonModel",
      "state": {
       "description": "Show answer",
       "disabled": true,
       "layout": "IPY_MODEL_03fd74ca30fa432392022258f9450d99",
       "style": "IPY_MODEL_3c4439d7812b42f188e89a6f26a7b575"
      }
     },
     "b98463a025ad4932839c5b4f690ac62f": {
      "model_module": "@jupyter-widgets/base",
      "model_module_version": "1.2.0",
      "model_name": "LayoutModel",
      "state": {}
     },
     "b9ae4887871b4659881a507ec39c7cb7": {
      "model_module": "@jupyter-widgets/base",
      "model_module_version": "1.2.0",
      "model_name": "LayoutModel",
      "state": {
       "width": "1000px"
      }
     },
     "ba6e0582c6a346a2a88291dda9e63f93": {
      "model_module": "@jupyter-widgets/base",
      "model_module_version": "1.2.0",
      "model_name": "LayoutModel",
      "state": {
       "width": "500px"
      }
     },
     "baa40589bddf4c6dbe3c6de02222d6cc": {
      "model_module": "@jupyter-widgets/base",
      "model_module_version": "1.2.0",
      "model_name": "LayoutModel",
      "state": {}
     },
     "baae0b970f3c4f47886db227962ec2d8": {
      "model_module": "@jupyter-widgets/controls",
      "model_module_version": "1.5.0",
      "model_name": "DescriptionStyleModel",
      "state": {
       "description_width": ""
      }
     },
     "bab00d1641ed46cbb332dad498302e11": {
      "model_module": "@jupyter-widgets/controls",
      "model_module_version": "1.5.0",
      "model_name": "LabelModel",
      "state": {
       "layout": "IPY_MODEL_5a3b734ca7a24e78bf1cae003e8229c3",
       "style": "IPY_MODEL_24a928ec3f954e9c95559f52c66e4c84"
      }
     },
     "badaeb451c2641e4a0303fa235a44c5f": {
      "model_module": "@jupyter-widgets/controls",
      "model_module_version": "1.5.0",
      "model_name": "LabelModel",
      "state": {
       "layout": "IPY_MODEL_402220284de642bc96e771d8550bb754",
       "style": "IPY_MODEL_01618f32f5a94dd7a256e6704b6cb6d1",
       "value": "$fib(n)$"
      }
     },
     "bb236bdf7fef47a98880ca1ef98fc20d": {
      "model_module": "@jupyter-widgets/controls",
      "model_module_version": "1.5.0",
      "model_name": "DescriptionStyleModel",
      "state": {
       "description_width": ""
      }
     },
     "bb5345b59f4547459260485c862d55ea": {
      "model_module": "@jupyter-widgets/controls",
      "model_module_version": "1.5.0",
      "model_name": "DescriptionStyleModel",
      "state": {
       "description_width": ""
      }
     },
     "bb62204f42594fa5842bdc7fe952e35d": {
      "model_module": "@jupyter-widgets/controls",
      "model_module_version": "1.5.0",
      "model_name": "DescriptionStyleModel",
      "state": {
       "description_width": "initial"
      }
     },
     "bb8379759e73415981bdf21a41b645c0": {
      "model_module": "@jupyter-widgets/controls",
      "model_module_version": "1.5.0",
      "model_name": "DescriptionStyleModel",
      "state": {
       "description_width": ""
      }
     },
     "bbb99287f1be4d84ae0190e54f1bd528": {
      "model_module": "@jupyter-widgets/base",
      "model_module_version": "1.2.0",
      "model_name": "LayoutModel",
      "state": {
       "width": "30px"
      }
     },
     "bbc247b0193e444bb69384125b53dca1": {
      "model_module": "@jupyter-widgets/controls",
      "model_module_version": "1.5.0",
      "model_name": "GridBoxModel",
      "state": {
       "box_style": "info",
       "children": [
        "IPY_MODEL_6508e1d0675b4492b2d87c9e8b947928",
        "IPY_MODEL_032086cdf3dd4d55a457ca1f70cf3f75",
        "IPY_MODEL_7740992516954cfd9526b90dfcc75dec"
       ],
       "layout": "IPY_MODEL_0d53d85d3a0843aa8eb9fded7b8354b3"
      }
     },
     "bbff67a9c1f64412885bcde6517ca713": {
      "model_module": "@jupyter-widgets/base",
      "model_module_version": "1.2.0",
      "model_name": "LayoutModel",
      "state": {
       "border": "2px solid red"
      }
     },
     "bc0a914f4c724c5a8b9dd730476031e9": {
      "model_module": "@jupyter-widgets/controls",
      "model_module_version": "1.5.0",
      "model_name": "DescriptionStyleModel",
      "state": {
       "description_width": ""
      }
     },
     "bca1011113084dabb3b0fbda158ecbf0": {
      "model_module": "@jupyter-widgets/controls",
      "model_module_version": "1.5.0",
      "model_name": "DescriptionStyleModel",
      "state": {
       "description_width": "initial"
      }
     },
     "bca202482bdf452c80164b77843d7bc1": {
      "model_module": "@jupyter-widgets/base",
      "model_module_version": "1.2.0",
      "model_name": "LayoutModel",
      "state": {
       "grid_area": "header"
      }
     },
     "bca63ca57de24f029f9b88544fe466de": {
      "model_module": "@jupyter-widgets/controls",
      "model_module_version": "1.5.0",
      "model_name": "CheckboxModel",
      "state": {
       "disabled": false,
       "layout": "IPY_MODEL_6e40702acc0942d989d1632573292f2b",
       "style": "IPY_MODEL_b8f91e0d66e94dd1af4ebb3028f0196d",
       "value": false
      }
     },
     "bca9070e373e4a59a77e0b639adc75ff": {
      "model_module": "@jupyter-widgets/controls",
      "model_module_version": "1.5.0",
      "model_name": "DescriptionStyleModel",
      "state": {
       "description_width": ""
      }
     },
     "bcd61ae9fc564f5ea532c1883ec7d5b7": {
      "model_module": "@jupyter-widgets/base",
      "model_module_version": "1.2.0",
      "model_name": "LayoutModel",
      "state": {
       "width": "1000px"
      }
     },
     "bcebd3da106d40c9998711e967d4c413": {
      "model_module": "@jupyter-widgets/controls",
      "model_module_version": "1.5.0",
      "model_name": "ButtonModel",
      "state": {
       "description": "Submit",
       "layout": "IPY_MODEL_93e84c45449742c08286b6c5bceeb645",
       "style": "IPY_MODEL_1bcea9831af04512844e31657c3cf291"
      }
     },
     "bd23bc3a42db4bde8dd918c6325204c6": {
      "model_module": "@jupyter-widgets/controls",
      "model_module_version": "1.5.0",
      "model_name": "DescriptionStyleModel",
      "state": {
       "description_width": ""
      }
     },
     "bd2831b3bf9045998e058b88e4b7f1ca": {
      "model_module": "@jupyter-widgets/base",
      "model_module_version": "1.2.0",
      "model_name": "LayoutModel",
      "state": {}
     },
     "bd3b70fd12404a64adcea4044fd358de": {
      "model_module": "@jupyter-widgets/controls",
      "model_module_version": "1.5.0",
      "model_name": "LabelModel",
      "state": {
       "layout": "IPY_MODEL_5b3c8052393944ccb874c9c8870358e1",
       "style": "IPY_MODEL_3b10eb03d2d04ca997f5d4cb89620395",
       "value": "fib(n) - 1 + fib(n - 2)"
      }
     },
     "bd53891fbd8d40f7a331413b513f71b8": {
      "model_module": "@jupyter-widgets/controls",
      "model_module_version": "1.5.0",
      "model_name": "HBoxModel",
      "state": {
       "children": [
        "IPY_MODEL_ebb4c846aad0466190e77abf84b6c0d4",
        "IPY_MODEL_8a04ad45298d4ce0b9aee9ea24059234"
       ],
       "layout": "IPY_MODEL_989f9611e0de4a2886757c76b34c7dc4"
      }
     },
     "bd557ceb91a74f498fe0b5aeb2a4a165": {
      "model_module": "@jupyter-widgets/controls",
      "model_module_version": "1.5.0",
      "model_name": "DescriptionStyleModel",
      "state": {
       "description_width": ""
      }
     },
     "bd88c22b17aa4202b028b930cf999ec2": {
      "model_module": "@jupyter-widgets/base",
      "model_module_version": "1.2.0",
      "model_name": "LayoutModel",
      "state": {}
     },
     "bd997b493e65432199d72c547c970780": {
      "model_module": "@jupyter-widgets/controls",
      "model_module_version": "1.5.0",
      "model_name": "DescriptionStyleModel",
      "state": {
       "description_width": "initial"
      }
     },
     "bdc409763297442ebaef0f441a3caa56": {
      "model_module": "@jupyter-widgets/base",
      "model_module_version": "1.2.0",
      "model_name": "LayoutModel",
      "state": {
       "grid_area": "left-sidebar"
      }
     },
     "bdea887b7346413f9cdbfddf02d8e898": {
      "model_module": "@jupyter-widgets/controls",
      "model_module_version": "1.5.0",
      "model_name": "HBoxModel",
      "state": {
       "children": [
        "IPY_MODEL_2a74ecbcba4c4ec9b92e9ece25b86dc3",
        "IPY_MODEL_568f52b52f43485195a772e8f143b760"
       ],
       "layout": "IPY_MODEL_a121f6c779d244a4bce18193e04469e3"
      }
     },
     "bdeeb1a6f7cf42d686cddaceff45eb68": {
      "model_module": "@jupyter-widgets/controls",
      "model_module_version": "1.5.0",
      "model_name": "DescriptionStyleModel",
      "state": {
       "description_width": ""
      }
     },
     "bdf2230815e94daf8e10aeb6c02a56fe": {
      "model_module": "@jupyter-widgets/controls",
      "model_module_version": "1.5.0",
      "model_name": "DescriptionStyleModel",
      "state": {
       "description_width": "initial"
      }
     },
     "be37197577da45a3b9b9d138cc694145": {
      "model_module": "@jupyter-widgets/controls",
      "model_module_version": "1.5.0",
      "model_name": "HBoxModel",
      "state": {
       "children": [
        "IPY_MODEL_0973581ac69543d0b4ac235c01584e3f",
        "IPY_MODEL_29af9bd6590549afb382001d37fca87d"
       ],
       "layout": "IPY_MODEL_1bc242139df14ace8149bc75de805644"
      }
     },
     "be476ef795f2481fa94d145a932aa133": {
      "model_module": "@jupyter-widgets/base",
      "model_module_version": "1.2.0",
      "model_name": "LayoutModel",
      "state": {
       "width": "1000px"
      }
     },
     "be4adf69e4644158b06efd6f97bf1d51": {
      "model_module": "@jupyter-widgets/controls",
      "model_module_version": "1.5.0",
      "model_name": "HBoxModel",
      "state": {
       "children": [
        "IPY_MODEL_3381ee12f4954e29adf66584c9faf080",
        "IPY_MODEL_a493bf40abdc4421902634f540c909eb"
       ],
       "layout": "IPY_MODEL_c2e4301d330a4363b6d25926a85307eb"
      }
     },
     "be507e72072240bbb9ed15175cc2578a": {
      "model_module": "@jupyter-widgets/controls",
      "model_module_version": "1.5.0",
      "model_name": "LabelModel",
      "state": {
       "layout": "IPY_MODEL_48882b1af9324323b758015c0712c17e",
       "style": "IPY_MODEL_b25da1f3fd46439dabded374741bc4d5"
      }
     },
     "be52d6d19dcf48ee8aeaeba5637de122": {
      "model_module": "@jupyter-widgets/controls",
      "model_module_version": "1.5.0",
      "model_name": "DescriptionStyleModel",
      "state": {
       "description_width": "initial"
      }
     },
     "be776641a17946b7acb1dd17a7d86d12": {
      "model_module": "@jupyter-widgets/controls",
      "model_module_version": "1.5.0",
      "model_name": "DescriptionStyleModel",
      "state": {
       "description_width": "initial"
      }
     },
     "be7ad83c84964e798474628395e22be4": {
      "model_module": "@jupyter-widgets/controls",
      "model_module_version": "1.5.0",
      "model_name": "ButtonStyleModel",
      "state": {
       "button_color": "lightblue"
      }
     },
     "be9585d3d2fa4ebab519f5e98020c9d5": {
      "model_module": "@jupyter-widgets/controls",
      "model_module_version": "1.5.0",
      "model_name": "DescriptionStyleModel",
      "state": {
       "description_width": ""
      }
     },
     "bec016353b754158b5f1512257ea040a": {
      "model_module": "@jupyter-widgets/controls",
      "model_module_version": "1.5.0",
      "model_name": "LabelModel",
      "state": {
       "layout": "IPY_MODEL_65d6881279fd4a5a8d63b84ea578517c",
       "style": "IPY_MODEL_ad06f4e4fb20422cb2fd91f51bf273b8"
      }
     },
     "bee2ef0471af41c887e11c87588590a9": {
      "model_module": "@jupyter-widgets/controls",
      "model_module_version": "1.5.0",
      "model_name": "DescriptionStyleModel",
      "state": {
       "description_width": ""
      }
     },
     "bf0c2e07c30240dcbc76b7d93c020344": {
      "model_module": "@jupyter-widgets/base",
      "model_module_version": "1.2.0",
      "model_name": "LayoutModel",
      "state": {
       "width": "30px"
      }
     },
     "bf1d9d47643a499596a77261ec7f2b9d": {
      "model_module": "@jupyter-widgets/base",
      "model_module_version": "1.2.0",
      "model_name": "LayoutModel",
      "state": {}
     },
     "bf30cecf5a4247a6917f6f6c96f04ee7": {
      "model_module": "@jupyter-widgets/base",
      "model_module_version": "1.2.0",
      "model_name": "LayoutModel",
      "state": {
       "width": "1000px"
      }
     },
     "bfbaf371b8b9454081af9472a584152f": {
      "model_module": "@jupyter-widgets/base",
      "model_module_version": "1.2.0",
      "model_name": "LayoutModel",
      "state": {
       "grid_area": "header"
      }
     },
     "bfca5b1e310f499cb032737abbe80d06": {
      "model_module": "@jupyter-widgets/base",
      "model_module_version": "1.2.0",
      "model_name": "LayoutModel",
      "state": {
       "grid_template_areas": "\"header header\"\n\"left-sidebar left-sidebar\"\n\"footer footer\"",
       "grid_template_columns": "1fr 1fr",
       "grid_template_rows": "1fr 3fr 1fr"
      }
     },
     "bff2f92f747f44689cdb0746b18ee70e": {
      "model_module": "@jupyter-widgets/controls",
      "model_module_version": "1.5.0",
      "model_name": "HBoxModel",
      "state": {
       "children": [
        "IPY_MODEL_fe544b8ca69a4eac95e7d8d9a6c3f2aa",
        "IPY_MODEL_70c38ee468f449d3987750f8908416c5"
       ],
       "layout": "IPY_MODEL_7c0225ed6c22495b82e0379ce370838c"
      }
     },
     "bffad5a7714e49e981febc4a55192e58": {
      "model_module": "@jupyter-widgets/controls",
      "model_module_version": "1.5.0",
      "model_name": "LabelModel",
      "state": {
       "layout": "IPY_MODEL_f0094e52dce7474eaa066047c05bac7f",
       "style": "IPY_MODEL_fe181e94fe04483196454ae513392b58",
       "value": "$fib(2)$ is called $8$ times and $fib(1)$ is called $5$ times"
      }
     },
     "c0396dbee7ad4ebf818c8fde0437cf61": {
      "model_module": "@jupyter-widgets/controls",
      "model_module_version": "1.5.0",
      "model_name": "CheckboxModel",
      "state": {
       "disabled": false,
       "layout": "IPY_MODEL_f5b8cdcbca13420ba7a7f27f527bb25b",
       "style": "IPY_MODEL_7ed6977067cc4672a5cb061905e84746",
       "value": false
      }
     },
     "c0595f7ec7334bc6beb0f0cc8bf9d269": {
      "model_module": "@jupyter-widgets/base",
      "model_module_version": "1.2.0",
      "model_name": "LayoutModel",
      "state": {
       "grid_area": "footer"
      }
     },
     "c067311a44f04c9991ed421b843f460a": {
      "model_module": "@jupyter-widgets/controls",
      "model_module_version": "1.5.0",
      "model_name": "HBoxModel",
      "state": {
       "box_style": "info",
       "children": [
        "IPY_MODEL_9d0a7c88b4734f0d93fbdbbbea7f47ca",
        "IPY_MODEL_783896e57c614c00832b2ad5d5e444d6"
       ],
       "layout": "IPY_MODEL_e21fc594671745f0aedf7e922fec1d80"
      }
     },
     "c075326da5a446b788fbb2e423e7fe4e": {
      "model_module": "@jupyter-widgets/base",
      "model_module_version": "1.2.0",
      "model_name": "LayoutModel",
      "state": {
       "width": "500px"
      }
     },
     "c07fd358f18c4da5b978ca37f665f055": {
      "model_module": "@jupyter-widgets/controls",
      "model_module_version": "1.5.0",
      "model_name": "DescriptionStyleModel",
      "state": {
       "description_width": ""
      }
     },
     "c0ab805b5bcc47e49e25390d1d6ba88f": {
      "model_module": "@jupyter-widgets/base",
      "model_module_version": "1.2.0",
      "model_name": "LayoutModel",
      "state": {}
     },
     "c0f25636bd5b4378b7869819af6cbb72": {
      "model_module": "@jupyter-widgets/controls",
      "model_module_version": "1.5.0",
      "model_name": "DescriptionStyleModel",
      "state": {
       "description_width": "initial"
      }
     },
     "c11f03bd94da4f7f98841f697f401167": {
      "model_module": "@jupyter-widgets/controls",
      "model_module_version": "1.5.0",
      "model_name": "HBoxModel",
      "state": {
       "children": [
        "IPY_MODEL_f218b248be5f4265972a12128f113ad4",
        "IPY_MODEL_a3c5e4c36c2143f5912e43febdde63e2"
       ],
       "layout": "IPY_MODEL_97c42fda2f2b4dd9a1364770828b5154"
      }
     },
     "c1330f7f8c9849b79f45149161784b37": {
      "model_module": "@jupyter-widgets/controls",
      "model_module_version": "1.5.0",
      "model_name": "DescriptionStyleModel",
      "state": {
       "description_width": ""
      }
     },
     "c1497960df7f479d858c57b57b90b29b": {
      "model_module": "@jupyter-widgets/base",
      "model_module_version": "1.2.0",
      "model_name": "LayoutModel",
      "state": {
       "grid_area": "left-sidebar"
      }
     },
     "c14af1ba7cc94c7593cbbb6fecadc481": {
      "model_module": "@jupyter-widgets/controls",
      "model_module_version": "1.5.0",
      "model_name": "LabelModel",
      "state": {
       "layout": "IPY_MODEL_b4a42e2190eb45bb881d6a314e3b3c38",
       "style": "IPY_MODEL_4cfbf730b7de450591df2a44d412bfc6",
       "value": "Given k between 0 and n - 3, how many nodes of type fib(n - k) does the call stack tree of fib(n) have?"
      }
     },
     "c1514f142a5c47a5b58fc4807504ca48": {
      "model_module": "@jupyter-widgets/controls",
      "model_module_version": "1.5.0",
      "model_name": "CheckboxModel",
      "state": {
       "disabled": false,
       "layout": "IPY_MODEL_b173d63a89cd46f6baa84fa759ebbbc5",
       "style": "IPY_MODEL_fd0f570d80404dc3858a23b6d651f247",
       "value": false
      }
     },
     "c18247f0200041cbbc6a80eb776be3a1": {
      "model_module": "@jupyter-widgets/base",
      "model_module_version": "1.2.0",
      "model_name": "LayoutModel",
      "state": {}
     },
     "c1b5e885e9044e24bdd62b07bd7ba343": {
      "model_module": "@jupyter-widgets/base",
      "model_module_version": "1.2.0",
      "model_name": "LayoutModel",
      "state": {}
     },
     "c1e57d949278410a80f4d31e850c0585": {
      "model_module": "@jupyter-widgets/controls",
      "model_module_version": "1.5.0",
      "model_name": "DescriptionStyleModel",
      "state": {
       "description_width": "initial"
      }
     },
     "c1eed24b4dcd473d9552180d3bc960a5": {
      "model_module": "@jupyter-widgets/controls",
      "model_module_version": "1.5.0",
      "model_name": "GridBoxModel",
      "state": {
       "box_style": "info",
       "children": [
        "IPY_MODEL_4a0200c854b642b48e7cf89f039ec773",
        "IPY_MODEL_3d4f774d6e114b5ab647520f179c6984",
        "IPY_MODEL_4c7a6cd3c201441db7024184693a13e9"
       ],
       "layout": "IPY_MODEL_53fea0ba64f64a2dbff98bc289e31dbd"
      }
     },
     "c1f27d3695944510b4d2afe22ab3f892": {
      "model_module": "@jupyter-widgets/controls",
      "model_module_version": "1.5.0",
      "model_name": "CheckboxModel",
      "state": {
       "disabled": false,
       "layout": "IPY_MODEL_b012b6acfeae4e0fb7916611361d05c2",
       "style": "IPY_MODEL_b92adf23951841debab1241351094825",
       "value": false
      }
     },
     "c2001e4ddbfc4d72ae400c6868fd3327": {
      "model_module": "@jupyter-widgets/controls",
      "model_module_version": "1.5.0",
      "model_name": "HBoxModel",
      "state": {
       "children": [
        "IPY_MODEL_89fc40b5e61e4d5dbe1dfdaf64e0b371",
        "IPY_MODEL_3b9a3e2f268b46c7bcf5fb6e2408de03"
       ],
       "layout": "IPY_MODEL_e826300f8c6e405c8f95490a6d97a1a7"
      }
     },
     "c20aed6c9cbf49a5a6c9b3afde2dbf9c": {
      "model_module": "@jupyter-widgets/base",
      "model_module_version": "1.2.0",
      "model_name": "LayoutModel",
      "state": {
       "width": "30px"
      }
     },
     "c22b6e4b90b74d188fd58c0479f634e0": {
      "model_module": "@jupyter-widgets/base",
      "model_module_version": "1.2.0",
      "model_name": "LayoutModel",
      "state": {
       "grid_area": "footer"
      }
     },
     "c26e6a72b0854504aa8c3fdc8fc2d53f": {
      "model_module": "@jupyter-widgets/controls",
      "model_module_version": "1.5.0",
      "model_name": "LabelModel",
      "state": {
       "layout": "IPY_MODEL_4840d1184d5a47059b831d7b27384a6e",
       "style": "IPY_MODEL_392f39357a2e4312a6ab94d1629292b6"
      }
     },
     "c28b8930f1914b68afb0a6539a6fc188": {
      "model_module": "@jupyter-widgets/controls",
      "model_module_version": "1.5.0",
      "model_name": "DescriptionStyleModel",
      "state": {
       "description_width": ""
      }
     },
     "c2ce32fd2c0347a3ac05a5a8aef6e3e1": {
      "model_module": "@jupyter-widgets/base",
      "model_module_version": "1.2.0",
      "model_name": "LayoutModel",
      "state": {
       "width": "1000px"
      }
     },
     "c2d9545f38164fb39e5d95bc2d46469b": {
      "model_module": "@jupyter-widgets/base",
      "model_module_version": "1.2.0",
      "model_name": "LayoutModel",
      "state": {
       "grid_area": "footer"
      }
     },
     "c2e4301d330a4363b6d25926a85307eb": {
      "model_module": "@jupyter-widgets/base",
      "model_module_version": "1.2.0",
      "model_name": "LayoutModel",
      "state": {}
     },
     "c2f4a7ffb66342719242b4cd43a19e7f": {
      "model_module": "@jupyter-widgets/controls",
      "model_module_version": "1.5.0",
      "model_name": "HBoxModel",
      "state": {
       "children": [
        "IPY_MODEL_5d9cb3693fc64f478d1fa0d2bfa9186a",
        "IPY_MODEL_15d6ee2b841d475d93b1773402614691"
       ],
       "layout": "IPY_MODEL_b8ab7b08b30649119cc65527a8931a03"
      }
     },
     "c33d0eb940f54a108049ec680160df62": {
      "model_module": "@jupyter-widgets/base",
      "model_module_version": "1.2.0",
      "model_name": "LayoutModel",
      "state": {
       "width": "100px"
      }
     },
     "c35bedf63e1441878e3eb52ccc94803d": {
      "model_module": "@jupyter-widgets/base",
      "model_module_version": "1.2.0",
      "model_name": "LayoutModel",
      "state": {}
     },
     "c38cfe5edac048f3b7aac34fbd9be28d": {
      "model_module": "@jupyter-widgets/controls",
      "model_module_version": "1.5.0",
      "model_name": "DescriptionStyleModel",
      "state": {
       "description_width": ""
      }
     },
     "c3ecae66383646ee8cd70526ac10b185": {
      "model_module": "@jupyter-widgets/controls",
      "model_module_version": "1.5.0",
      "model_name": "HBoxModel",
      "state": {
       "box_style": "info",
       "children": [
        "IPY_MODEL_5825170c454a44b7a60868505c242388",
        "IPY_MODEL_69dcc3ffcc664099beaa24823ba87c16"
       ],
       "layout": "IPY_MODEL_90982baef6f6450993101adaa28e6c14"
      }
     },
     "c3ffff5e66494776ab738d231cecbe94": {
      "model_module": "@jupyter-widgets/controls",
      "model_module_version": "1.5.0",
      "model_name": "DescriptionStyleModel",
      "state": {
       "description_width": ""
      }
     },
     "c40a8defa40046c798d8d43dcd03cefa": {
      "model_module": "@jupyter-widgets/base",
      "model_module_version": "1.2.0",
      "model_name": "LayoutModel",
      "state": {
       "width": "1000px"
      }
     },
     "c4109c0ec1ea4e75a3c4b31fc4525aa4": {
      "model_module": "@jupyter-widgets/controls",
      "model_module_version": "1.5.0",
      "model_name": "ButtonStyleModel",
      "state": {
       "button_color": "lightblue"
      }
     },
     "c4c191b79a354185ba60e8411513aeab": {
      "model_module": "@jupyter-widgets/base",
      "model_module_version": "1.2.0",
      "model_name": "LayoutModel",
      "state": {
       "width": "30px"
      }
     },
     "c4cd02cd21f443979083ef6a2ee9520b": {
      "model_module": "@jupyter-widgets/controls",
      "model_module_version": "1.5.0",
      "model_name": "LabelModel",
      "state": {
       "layout": "IPY_MODEL_18a012244fe0493494504f2a82077105",
       "style": "IPY_MODEL_c827ffb480ed4dd599309a61b502faba",
       "value": "How many leaves does the call stack tree for fib(n) have? "
      }
     },
     "c4ec68723bd24c6796d622d3c84ad00f": {
      "model_module": "@jupyter-widgets/controls",
      "model_module_version": "1.5.0",
      "model_name": "LabelModel",
      "state": {
       "layout": "IPY_MODEL_8183528c840a4c609310261a822861e7",
       "style": "IPY_MODEL_465faebf723345c889e865bddf72d9ce",
       "value": "fib(2) is called 13 times and fib(1) is called 5 times"
      }
     },
     "c4f2fd602f2d44d1acbfe2b651a9ae42": {
      "model_module": "@jupyter-widgets/base",
      "model_module_version": "1.2.0",
      "model_name": "LayoutModel",
      "state": {
       "border": "2px solid red"
      }
     },
     "c52aa417afc942aba2be8afbacd2c990": {
      "model_module": "@jupyter-widgets/base",
      "model_module_version": "1.2.0",
      "model_name": "LayoutModel",
      "state": {}
     },
     "c536e641c30743dfa6b0472fb32e4dcf": {
      "model_module": "@jupyter-widgets/controls",
      "model_module_version": "1.5.0",
      "model_name": "DescriptionStyleModel",
      "state": {
       "description_width": ""
      }
     },
     "c5a151088a004166832dc8ec5bfa48ae": {
      "model_module": "@jupyter-widgets/controls",
      "model_module_version": "1.5.0",
      "model_name": "LabelModel",
      "state": {
       "layout": "IPY_MODEL_30001fcf8174430797a0762040a2a53d",
       "style": "IPY_MODEL_b41f85e86cca4690afcedf285b37620f"
      }
     },
     "c5b4adc04e8348baa014fe824098ac3e": {
      "model_module": "@jupyter-widgets/controls",
      "model_module_version": "1.5.0",
      "model_name": "LabelModel",
      "state": {
       "layout": "IPY_MODEL_8100cc6e012643f68b4eeeae2b5afadf",
       "style": "IPY_MODEL_de8f77395541498282fe77318db61fad",
       "value": "How many inner nodes does the call tree of fib(n) have?"
      }
     },
     "c5c9edeaf4e641bcaea8cb1e0db6c07a": {
      "model_module": "@jupyter-widgets/controls",
      "model_module_version": "1.5.0",
      "model_name": "HBoxModel",
      "state": {
       "children": [
        "IPY_MODEL_3a3894a268a345d3bdc83f8d2e348405",
        "IPY_MODEL_20be4711e27947c29b8d2f06fc425559"
       ],
       "layout": "IPY_MODEL_782457b53a5b4f4995d4b765b0d1b116"
      }
     },
     "c5d25b6b9aa84aa6a5c9b4e1b74dd47f": {
      "model_module": "@jupyter-widgets/base",
      "model_module_version": "1.2.0",
      "model_name": "LayoutModel",
      "state": {}
     },
     "c5d7b2e7aaf94d2a98233a3da403eb22": {
      "model_module": "@jupyter-widgets/base",
      "model_module_version": "1.2.0",
      "model_name": "LayoutModel",
      "state": {}
     },
     "c6077277ee3247a6b16b7b11787cec24": {
      "model_module": "@jupyter-widgets/base",
      "model_module_version": "1.2.0",
      "model_name": "LayoutModel",
      "state": {
       "grid_template_areas": "\"header header\"\n\"left-sidebar left-sidebar\"\n\"footer footer\"",
       "grid_template_columns": "1fr 1fr",
       "grid_template_rows": "1fr 3fr 1fr"
      }
     },
     "c6485adc680a478d85c1851e00bc671a": {
      "model_module": "@jupyter-widgets/controls",
      "model_module_version": "1.5.0",
      "model_name": "LabelModel",
      "state": {
       "layout": "IPY_MODEL_820ed6ce3f154fefac07a91cd2becd9e",
       "style": "IPY_MODEL_d04735efeddb4a97a446a992ff66d579",
       "value": "fib(k)"
      }
     },
     "c65837dadb434c3387e674a9f83f64b9": {
      "model_module": "@jupyter-widgets/base",
      "model_module_version": "1.2.0",
      "model_name": "LayoutModel",
      "state": {}
     },
     "c6d6bbf3e21a4f1b94382543ee25cafb": {
      "model_module": "@jupyter-widgets/base",
      "model_module_version": "1.2.0",
      "model_name": "LayoutModel",
      "state": {}
     },
     "c6faabd68a914916b1f4ff7f21853454": {
      "model_module": "@jupyter-widgets/controls",
      "model_module_version": "1.5.0",
      "model_name": "HBoxModel",
      "state": {
       "children": [
        "IPY_MODEL_2f8afe37996f46c4ae4ba6e810e1c977",
        "IPY_MODEL_b6f98eddc40e4b0dae1b75f79ac0b360"
       ],
       "layout": "IPY_MODEL_92a55e92abc44b509c768a163da69ab6"
      }
     },
     "c7038483a29e45aab0ed4472ccaf5c62": {
      "model_module": "@jupyter-widgets/controls",
      "model_module_version": "1.5.0",
      "model_name": "DescriptionStyleModel",
      "state": {
       "description_width": "initial"
      }
     },
     "c7180e2a9bec4d2587a366bd680c2bc6": {
      "model_module": "@jupyter-widgets/controls",
      "model_module_version": "1.5.0",
      "model_name": "VBoxModel",
      "state": {
       "children": [
        "IPY_MODEL_e2a2930cbfed4cabbd229b9d62c12143",
        "IPY_MODEL_447e186ae1184d878d3233a68c06db13",
        "IPY_MODEL_2a91b36be542491ba5fc40345276e746",
        "IPY_MODEL_d5ac8462a21d47bd9e3f0c1d16d66150",
        "IPY_MODEL_e3a1f4f7621044d4bcbeb4fa7600f1a1"
       ],
       "layout": "IPY_MODEL_4a3780856dce48078e781d98d782313b"
      }
     },
     "c7227c0e732e4142b2d40480da44335f": {
      "model_module": "@jupyter-widgets/controls",
      "model_module_version": "1.5.0",
      "model_name": "HBoxModel",
      "state": {
       "children": [
        "IPY_MODEL_cd8bc63e42d64856b432375741051695",
        "IPY_MODEL_70cddee319854a20aacd11b46aeb4588"
       ],
       "layout": "IPY_MODEL_b586c7003df5442fb88ff247e894d303"
      }
     },
     "c726fb10b6c244dd98c0a67ad632bda3": {
      "model_module": "@jupyter-widgets/controls",
      "model_module_version": "1.5.0",
      "model_name": "ButtonModel",
      "state": {
       "description": "Submit",
       "layout": "IPY_MODEL_d57d7ecee08e4870b72ccedb4901dc04",
       "style": "IPY_MODEL_cc72b2500bea477ab3255db8280d71fd"
      }
     },
     "c77465ad0df3424cb52de08468bdc3c0": {
      "model_module": "@jupyter-widgets/controls",
      "model_module_version": "1.5.0",
      "model_name": "DescriptionStyleModel",
      "state": {
       "description_width": "initial"
      }
     },
     "c77e90d8e47d474a8cd32f9a470ce0e1": {
      "model_module": "@jupyter-widgets/controls",
      "model_module_version": "1.5.0",
      "model_name": "LabelModel",
      "state": {
       "layout": "IPY_MODEL_3f7e10d01a4f4774a2e2c864582e8f18",
       "style": "IPY_MODEL_d6d907103c864ebeb0b2dfe0336c2170"
      }
     },
     "c79bdbc24a4e4d22bde71da5f346465d": {
      "model_module": "@jupyter-widgets/base",
      "model_module_version": "1.2.0",
      "model_name": "LayoutModel",
      "state": {}
     },
     "c7edce6fa04c4bb195d38d8cbfd43efc": {
      "model_module": "@jupyter-widgets/base",
      "model_module_version": "1.2.0",
      "model_name": "LayoutModel",
      "state": {
       "width": "500px"
      }
     },
     "c7f5ec9046914190a427b04969e1ada2": {
      "model_module": "@jupyter-widgets/controls",
      "model_module_version": "1.5.0",
      "model_name": "DescriptionStyleModel",
      "state": {
       "description_width": ""
      }
     },
     "c827ffb480ed4dd599309a61b502faba": {
      "model_module": "@jupyter-widgets/controls",
      "model_module_version": "1.5.0",
      "model_name": "DescriptionStyleModel",
      "state": {
       "description_width": ""
      }
     },
     "c847ecef7a6e4d76b4b4d61c6e5f0405": {
      "model_module": "@jupyter-widgets/base",
      "model_module_version": "1.2.0",
      "model_name": "LayoutModel",
      "state": {}
     },
     "c85ddebd22d340138a67c01c807ff34c": {
      "model_module": "@jupyter-widgets/base",
      "model_module_version": "1.2.0",
      "model_name": "LayoutModel",
      "state": {}
     },
     "c88488dc256847c98b5ae79fdd3bae1b": {
      "model_module": "@jupyter-widgets/base",
      "model_module_version": "1.2.0",
      "model_name": "LayoutModel",
      "state": {
       "width": "100px"
      }
     },
     "c93ee2f589284adaab340c523a9250da": {
      "model_module": "@jupyter-widgets/controls",
      "model_module_version": "1.5.0",
      "model_name": "LabelModel",
      "state": {
       "layout": "IPY_MODEL_21747823c01d4ddb800cce02ab99566f",
       "style": "IPY_MODEL_5fc8380a9bc74128b6bcf095c4658295",
       "value": "fib(n)"
      }
     },
     "c987a1a2899748989bf05652019bc440": {
      "model_module": "@jupyter-widgets/controls",
      "model_module_version": "1.5.0",
      "model_name": "DescriptionStyleModel",
      "state": {
       "description_width": ""
      }
     },
     "c99ac928dfc447e8b5e10dca80414744": {
      "model_module": "@jupyter-widgets/controls",
      "model_module_version": "1.5.0",
      "model_name": "ButtonStyleModel",
      "state": {
       "button_color": "lightblue"
      }
     },
     "c9c3be66c6594575a3b1555cde30c0fb": {
      "model_module": "@jupyter-widgets/controls",
      "model_module_version": "1.5.0",
      "model_name": "DescriptionStyleModel",
      "state": {
       "description_width": ""
      }
     },
     "c9fddf39f79642beb8dd2ee89694f4ed": {
      "model_module": "@jupyter-widgets/base",
      "model_module_version": "1.2.0",
      "model_name": "LayoutModel",
      "state": {}
     },
     "ca03e4148a0645d1bdee798ac120d1e7": {
      "model_module": "@jupyter-widgets/controls",
      "model_module_version": "1.5.0",
      "model_name": "DescriptionStyleModel",
      "state": {
       "description_width": "initial"
      }
     },
     "ca3f604a17bf4e56b2f907afb3867807": {
      "model_module": "@jupyter-widgets/base",
      "model_module_version": "1.2.0",
      "model_name": "LayoutModel",
      "state": {
       "width": "100px"
      }
     },
     "ca47596063af4ba8a33c897e370f4f9e": {
      "model_module": "@jupyter-widgets/base",
      "model_module_version": "1.2.0",
      "model_name": "LayoutModel",
      "state": {
       "grid_area": "footer"
      }
     },
     "ca4f6ec73fb145f1a15817d2ab00471b": {
      "model_module": "@jupyter-widgets/controls",
      "model_module_version": "1.5.0",
      "model_name": "HBoxModel",
      "state": {
       "children": [
        "IPY_MODEL_6c3315b6428b4374ae0e3144c4433128",
        "IPY_MODEL_bd53891fbd8d40f7a331413b513f71b8"
       ],
       "layout": "IPY_MODEL_ce157f0751bc42ed9fa75c40f61b6972"
      }
     },
     "ca5747433e294ddbbf3477ff3d5ae474": {
      "model_module": "@jupyter-widgets/controls",
      "model_module_version": "1.5.0",
      "model_name": "LabelModel",
      "state": {
       "layout": "IPY_MODEL_aaaa8631048447ddb7b46c0e8ac06029",
       "style": "IPY_MODEL_db520346a03a45c2aaa957e75298ebba"
      }
     },
     "ca661c43bfc54f5b914ee77edf783bdd": {
      "model_module": "@jupyter-widgets/controls",
      "model_module_version": "1.5.0",
      "model_name": "CheckboxModel",
      "state": {
       "disabled": false,
       "layout": "IPY_MODEL_10989af5a1fd4d4c9eaf7fd24dbd30aa",
       "style": "IPY_MODEL_12aa13cb26d34d4fa97b519fe6513313",
       "value": false
      }
     },
     "ca74ca7c4a524475a27a635db800a2ac": {
      "model_module": "@jupyter-widgets/base",
      "model_module_version": "1.2.0",
      "model_name": "LayoutModel",
      "state": {
       "width": "1000px"
      }
     },
     "ca86d1ca65d140f49998a93673ab77f6": {
      "model_module": "@jupyter-widgets/controls",
      "model_module_version": "1.5.0",
      "model_name": "LabelModel",
      "state": {
       "layout": "IPY_MODEL_d0a4ddfe2edc4383a375a78c59ba0dc5",
       "style": "IPY_MODEL_0b73f497e1ad4eeba1267310a165fa70",
       "value": "fib(n)"
      }
     },
     "cab126f06adf48f88c09f35d32342874": {
      "model_module": "@jupyter-widgets/controls",
      "model_module_version": "1.5.0",
      "model_name": "DescriptionStyleModel",
      "state": {
       "description_width": ""
      }
     },
     "cab16ea41f124adc9a3cd16935af5ec5": {
      "model_module": "@jupyter-widgets/base",
      "model_module_version": "1.2.0",
      "model_name": "LayoutModel",
      "state": {
       "border": "2px solid red"
      }
     },
     "cab1f287a87c4e84ab27baaec65e3aea": {
      "model_module": "@jupyter-widgets/base",
      "model_module_version": "1.2.0",
      "model_name": "LayoutModel",
      "state": {}
     },
     "cb26e06c23f840d283856ee8a7362f89": {
      "model_module": "@jupyter-widgets/base",
      "model_module_version": "1.2.0",
      "model_name": "LayoutModel",
      "state": {}
     },
     "cb281118dbbb49adb8d75948669c528a": {
      "model_module": "@jupyter-widgets/controls",
      "model_module_version": "1.5.0",
      "model_name": "LabelModel",
      "state": {
       "layout": "IPY_MODEL_2d3aa81698684899b44fb249cbdad911",
       "style": "IPY_MODEL_be9585d3d2fa4ebab519f5e98020c9d5"
      }
     },
     "cb5614baa2a54a3fb5468952956555cc": {
      "model_module": "@jupyter-widgets/base",
      "model_module_version": "1.2.0",
      "model_name": "LayoutModel",
      "state": {}
     },
     "cb5cb9ec048a472abaff5f2f5f61a29e": {
      "model_module": "@jupyter-widgets/base",
      "model_module_version": "1.2.0",
      "model_name": "LayoutModel",
      "state": {}
     },
     "cbd9768a0f424878a5a46ecfba682c06": {
      "model_module": "@jupyter-widgets/controls",
      "model_module_version": "1.5.0",
      "model_name": "HBoxModel",
      "state": {
       "children": [
        "IPY_MODEL_fe745013292a47438666650d26cd558e",
        "IPY_MODEL_6ac5acb579ef431b8141ffa222b0c854"
       ],
       "layout": "IPY_MODEL_ab584a5a26fc484b8c13a7be8e966022"
      }
     },
     "cbe334702b1f40ce94a6d4d821ab0644": {
      "model_module": "@jupyter-widgets/controls",
      "model_module_version": "1.5.0",
      "model_name": "DescriptionStyleModel",
      "state": {
       "description_width": ""
      }
     },
     "cc0690ddbba84ec5b3e8734f0d131315": {
      "model_module": "@jupyter-widgets/controls",
      "model_module_version": "1.5.0",
      "model_name": "CheckboxModel",
      "state": {
       "disabled": false,
       "layout": "IPY_MODEL_f6cb1d20a55742c4b2a95a269b5f6286",
       "style": "IPY_MODEL_30896e777c804748af4f990ad6a4cc98",
       "value": false
      }
     },
     "cc091cd8bdf84b8ca73be90ceb345f1d": {
      "model_module": "@jupyter-widgets/controls",
      "model_module_version": "1.5.0",
      "model_name": "HBoxModel",
      "state": {
       "children": [
        "IPY_MODEL_e7f72a0f471846e9abba2d53f6cc805f",
        "IPY_MODEL_0993fcb331d04b60a964eb4a46a63a6e"
       ],
       "layout": "IPY_MODEL_9e84b452a74a4483b90ddefab3562448"
      }
     },
     "cc6535c2174f43a0b559b8b501e2e907": {
      "model_module": "@jupyter-widgets/controls",
      "model_module_version": "1.5.0",
      "model_name": "DescriptionStyleModel",
      "state": {
       "description_width": "initial"
      }
     },
     "cc6c97060afe42968bcfd706871c305e": {
      "model_module": "@jupyter-widgets/controls",
      "model_module_version": "1.5.0",
      "model_name": "DescriptionStyleModel",
      "state": {
       "description_width": "initial"
      }
     },
     "cc72b2500bea477ab3255db8280d71fd": {
      "model_module": "@jupyter-widgets/controls",
      "model_module_version": "1.5.0",
      "model_name": "ButtonStyleModel",
      "state": {
       "button_color": "lightblue"
      }
     },
     "ccc7650671b44e34ba93518eca77fd97": {
      "model_module": "@jupyter-widgets/base",
      "model_module_version": "1.2.0",
      "model_name": "LayoutModel",
      "state": {
       "width": "auto"
      }
     },
     "ccc9ee4919df40f3b88c364ce8f4a398": {
      "model_module": "@jupyter-widgets/base",
      "model_module_version": "1.2.0",
      "model_name": "LayoutModel",
      "state": {
       "width": "1000px"
      }
     },
     "cd2dac7dae5946b19ebc5d8a8b61f365": {
      "model_module": "@jupyter-widgets/controls",
      "model_module_version": "1.5.0",
      "model_name": "HBoxModel",
      "state": {
       "box_style": "success",
       "children": [
        "IPY_MODEL_5b0b8632956f4671b0acfb1e01e4113b",
        "IPY_MODEL_83604c03232f4e6ba0a1e042d1fdb5de"
       ],
       "layout": "IPY_MODEL_728bcfa649334fed8672f828e640d29b"
      }
     },
     "cd4abcbf56304fb6b32f35a3ec3644ae": {
      "model_module": "@jupyter-widgets/controls",
      "model_module_version": "1.5.0",
      "model_name": "HBoxModel",
      "state": {
       "children": [
        "IPY_MODEL_186e3a73336346ceb2cedbc0abb8a642",
        "IPY_MODEL_7c6ccff234f04abdb57e21651f57cff9"
       ],
       "layout": "IPY_MODEL_3635c65535ca41f7b5044293c704256b"
      }
     },
     "cd8bc63e42d64856b432375741051695": {
      "model_module": "@jupyter-widgets/controls",
      "model_module_version": "1.5.0",
      "model_name": "CheckboxModel",
      "state": {
       "disabled": false,
       "layout": "IPY_MODEL_454e0abafd0542bdb101466cdcd9c8c6",
       "style": "IPY_MODEL_69d165c638a3415d890c2db6fdd796b9",
       "value": false
      }
     },
     "cd9ca84b219d492b8223f21acbf1915c": {
      "model_module": "@jupyter-widgets/base",
      "model_module_version": "1.2.0",
      "model_name": "LayoutModel",
      "state": {}
     },
     "cdab0810675f4ce69afda59def94eab9": {
      "model_module": "@jupyter-widgets/base",
      "model_module_version": "1.2.0",
      "model_name": "LayoutModel",
      "state": {}
     },
     "cdc1edd313b946c3a2ab7d29f06b6512": {
      "model_module": "@jupyter-widgets/base",
      "model_module_version": "1.2.0",
      "model_name": "LayoutModel",
      "state": {
       "width": "30px"
      }
     },
     "cdd3cd0026694b889fedf208cb5e7dda": {
      "model_module": "@jupyter-widgets/base",
      "model_module_version": "1.2.0",
      "model_name": "LayoutModel",
      "state": {
       "width": "1000px"
      }
     },
     "cddbf42521f0464c8c9555d574fa748a": {
      "model_module": "@jupyter-widgets/controls",
      "model_module_version": "1.5.0",
      "model_name": "DescriptionStyleModel",
      "state": {
       "description_width": ""
      }
     },
     "ce02fa69751248e6a4c6bf6a304442ae": {
      "model_module": "@jupyter-widgets/base",
      "model_module_version": "1.2.0",
      "model_name": "LayoutModel",
      "state": {}
     },
     "ce157f0751bc42ed9fa75c40f61b6972": {
      "model_module": "@jupyter-widgets/base",
      "model_module_version": "1.2.0",
      "model_name": "LayoutModel",
      "state": {}
     },
     "ce1792e8fbf44d7ca053794004c1e06c": {
      "model_module": "@jupyter-widgets/controls",
      "model_module_version": "1.5.0",
      "model_name": "LabelModel",
      "state": {
       "layout": "IPY_MODEL_ca3f604a17bf4e56b2f907afb3867807",
       "style": "IPY_MODEL_d218df0a395a4afba13ae6160f635015",
       "value": "Correct!"
      }
     },
     "ce6afed091d940309e20276f5d3dde43": {
      "model_module": "@jupyter-widgets/controls",
      "model_module_version": "1.5.0",
      "model_name": "DescriptionStyleModel",
      "state": {
       "description_width": ""
      }
     },
     "ceda588faebd4dc1844c3e4a438037cb": {
      "model_module": "@jupyter-widgets/base",
      "model_module_version": "1.2.0",
      "model_name": "LayoutModel",
      "state": {}
     },
     "cf32c847b67541539f67c10961eda743": {
      "model_module": "@jupyter-widgets/base",
      "model_module_version": "1.2.0",
      "model_name": "LayoutModel",
      "state": {
       "grid_area": "header"
      }
     },
     "cf32ccd398454ecaad208af65b144a34": {
      "model_module": "@jupyter-widgets/controls",
      "model_module_version": "1.5.0",
      "model_name": "DescriptionStyleModel",
      "state": {
       "description_width": ""
      }
     },
     "cf9f8f59f0d44aeb909beba96ab66df7": {
      "model_module": "@jupyter-widgets/base",
      "model_module_version": "1.2.0",
      "model_name": "LayoutModel",
      "state": {
       "grid_template_areas": "\"header header\"\n\"left-sidebar left-sidebar\"\n\"footer footer\"",
       "grid_template_columns": "1fr 1fr",
       "grid_template_rows": "1fr 3fr 1fr"
      }
     },
     "cfc841f9632c411181c701c0d13ae955": {
      "model_module": "@jupyter-widgets/controls",
      "model_module_version": "1.5.0",
      "model_name": "LabelModel",
      "state": {
       "layout": "IPY_MODEL_1a2117f6090d41edb446ab665fb54a29",
       "style": "IPY_MODEL_12fe77311f014c568dadb213a1def63f",
       "value": "$fib(n)$"
      }
     },
     "d03427503cb6482db64ecde26cbe5665": {
      "model_module": "@jupyter-widgets/controls",
      "model_module_version": "1.5.0",
      "model_name": "HBoxModel",
      "state": {
       "children": [
        "IPY_MODEL_07cca0532ea0418388f3d7373282bc8a",
        "IPY_MODEL_0e39d4e4fa4f4a158f1d3e1f9153d772"
       ],
       "layout": "IPY_MODEL_2cea4e6e2f554259960c110a6ba79fc5"
      }
     },
     "d04735efeddb4a97a446a992ff66d579": {
      "model_module": "@jupyter-widgets/controls",
      "model_module_version": "1.5.0",
      "model_name": "DescriptionStyleModel",
      "state": {
       "description_width": ""
      }
     },
     "d04a663508534f6ba1483fa122440248": {
      "model_module": "@jupyter-widgets/controls",
      "model_module_version": "1.5.0",
      "model_name": "LabelModel",
      "state": {
       "layout": "IPY_MODEL_b3a2bdf935e940f9bb9873875ab02985",
       "style": "IPY_MODEL_236da9f32c704364b827ccdcb0c55b1f",
       "value": "fib(k - 1)"
      }
     },
     "d08062adf948444183c5042005368573": {
      "model_module": "@jupyter-widgets/controls",
      "model_module_version": "1.5.0",
      "model_name": "ButtonStyleModel",
      "state": {
       "button_color": "lightblue"
      }
     },
     "d0886b33facf47c09ca99bab353604ed": {
      "model_module": "@jupyter-widgets/controls",
      "model_module_version": "1.5.0",
      "model_name": "DescriptionStyleModel",
      "state": {
       "description_width": "initial"
      }
     },
     "d08ccecc79684308aa6773f5f52666b4": {
      "model_module": "@jupyter-widgets/controls",
      "model_module_version": "1.5.0",
      "model_name": "LabelModel",
      "state": {
       "layout": "IPY_MODEL_a489f41d36ef4bbdac7808a102e2d5e6",
       "style": "IPY_MODEL_f98cf75816ed4d2f8234e975dee71671",
       "value": "fib(n - 1) + fib(n - 2)"
      }
     },
     "d097e75630a34010b966d3f432a6960b": {
      "model_module": "@jupyter-widgets/controls",
      "model_module_version": "1.5.0",
      "model_name": "GridBoxModel",
      "state": {
       "box_style": "info",
       "children": [
        "IPY_MODEL_9a7f3bcaa7684dc3aa9d7f42430ee51b",
        "IPY_MODEL_7e2e42e12e414cb09742b9b08e542b5a",
        "IPY_MODEL_1328c9dc95254ad7ba57e089cc56516d"
       ],
       "layout": "IPY_MODEL_1ebbd070c9054a2e8dc838fb8734e716"
      }
     },
     "d0a4ddfe2edc4383a375a78c59ba0dc5": {
      "model_module": "@jupyter-widgets/base",
      "model_module_version": "1.2.0",
      "model_name": "LayoutModel",
      "state": {
       "width": "1000px"
      }
     },
     "d0c79afd5d734559b4e4763c12e7beb0": {
      "model_module": "@jupyter-widgets/base",
      "model_module_version": "1.2.0",
      "model_name": "LayoutModel",
      "state": {
       "width": "1000px"
      }
     },
     "d0d72aef75ff4d268f7f1106b58f7324": {
      "model_module": "@jupyter-widgets/controls",
      "model_module_version": "1.5.0",
      "model_name": "CheckboxModel",
      "state": {
       "disabled": false,
       "layout": "IPY_MODEL_4d245a8f29c14093bb562ef9cd7c4944",
       "style": "IPY_MODEL_c77465ad0df3424cb52de08468bdc3c0",
       "value": false
      }
     },
     "d0dc43a0a9074178a1b31e878665ca64": {
      "model_module": "@jupyter-widgets/base",
      "model_module_version": "1.2.0",
      "model_name": "LayoutModel",
      "state": {
       "width": "30px"
      }
     },
     "d0ea893b5eca43159e229d675468d980": {
      "model_module": "@jupyter-widgets/base",
      "model_module_version": "1.2.0",
      "model_name": "LayoutModel",
      "state": {}
     },
     "d0f8fcc420b34fa78ada2af623aab465": {
      "model_module": "@jupyter-widgets/base",
      "model_module_version": "1.2.0",
      "model_name": "LayoutModel",
      "state": {
       "width": "30px"
      }
     },
     "d104cd6f60d8462fa4175eaa2c9937a0": {
      "model_module": "@jupyter-widgets/base",
      "model_module_version": "1.2.0",
      "model_name": "LayoutModel",
      "state": {}
     },
     "d112c09ec41449218e4e255e19fe59f2": {
      "model_module": "@jupyter-widgets/base",
      "model_module_version": "1.2.0",
      "model_name": "LayoutModel",
      "state": {
       "width": "30px"
      }
     },
     "d12c7b0bffc644d58df37a19939cb3d0": {
      "model_module": "@jupyter-widgets/base",
      "model_module_version": "1.2.0",
      "model_name": "LayoutModel",
      "state": {
       "width": "500px"
      }
     },
     "d12e175f338140828407a37b83cf3f43": {
      "model_module": "@jupyter-widgets/controls",
      "model_module_version": "1.5.0",
      "model_name": "HBoxModel",
      "state": {
       "children": [
        "IPY_MODEL_83244ee4143242258d61c7a83ed2e0de",
        "IPY_MODEL_aa2ee7ae24b64728a0ddda7dee8dea4d",
        "IPY_MODEL_567f63efc0fa44ea9424febe263fef03"
       ],
       "layout": "IPY_MODEL_a93c6c4c7d6446a5bee7fb8987bd6c77"
      }
     },
     "d13840284d6b4b3a9ce0f40ff221c43d": {
      "model_module": "@jupyter-widgets/controls",
      "model_module_version": "1.5.0",
      "model_name": "LabelModel",
      "state": {
       "layout": "IPY_MODEL_8e3c2dd38c734c9d977766218654b6c5",
       "style": "IPY_MODEL_d794d7a0511b429a8a5d765cf8496ec0",
       "value": "fib(n - 1) + fib(n - 2)"
      }
     },
     "d13e6e0f668d4e7db21aed11f50612b7": {
      "model_module": "@jupyter-widgets/controls",
      "model_module_version": "1.5.0",
      "model_name": "DescriptionStyleModel",
      "state": {
       "description_width": ""
      }
     },
     "d1753353e5fc492095f16a7f0c2576ca": {
      "model_module": "@jupyter-widgets/base",
      "model_module_version": "1.2.0",
      "model_name": "LayoutModel",
      "state": {}
     },
     "d183fcbd7aee4efbbc5cf258feed85dd": {
      "model_module": "@jupyter-widgets/controls",
      "model_module_version": "1.5.0",
      "model_name": "CheckboxModel",
      "state": {
       "disabled": false,
       "layout": "IPY_MODEL_8cb9015c800941b7a565e108306d6752",
       "style": "IPY_MODEL_38551973965c418c9b74f98fad9f8d1d",
       "value": false
      }
     },
     "d19dfdd76fea45ddb4107494b08ccb6a": {
      "model_module": "@jupyter-widgets/controls",
      "model_module_version": "1.5.0",
      "model_name": "HBoxModel",
      "state": {
       "children": [
        "IPY_MODEL_bca63ca57de24f029f9b88544fe466de",
        "IPY_MODEL_3a2807b93d2b4f87b70b6d5aaf6df4e9"
       ],
       "layout": "IPY_MODEL_5ebdd77372834a87abcb841569bf16a6"
      }
     },
     "d1a33348e4f64862b95927db21a05945": {
      "model_module": "@jupyter-widgets/controls",
      "model_module_version": "1.5.0",
      "model_name": "DescriptionStyleModel",
      "state": {
       "description_width": ""
      }
     },
     "d1b107d474ab4d1abfda59913a65d5f7": {
      "model_module": "@jupyter-widgets/base",
      "model_module_version": "1.2.0",
      "model_name": "LayoutModel",
      "state": {}
     },
     "d1b3e0eb8088417896ebc31030c9e41a": {
      "model_module": "@jupyter-widgets/base",
      "model_module_version": "1.2.0",
      "model_name": "LayoutModel",
      "state": {
       "width": "1000px"
      }
     },
     "d1c654fdd1514399a4ba7cc75e77ace6": {
      "model_module": "@jupyter-widgets/controls",
      "model_module_version": "1.5.0",
      "model_name": "HBoxModel",
      "state": {
       "children": [
        "IPY_MODEL_2a14e34237594ac8b28b43dc0e106c2c",
        "IPY_MODEL_be37197577da45a3b9b9d138cc694145"
       ],
       "layout": "IPY_MODEL_d845c07451234292b98ff1cbd5c94d53"
      }
     },
     "d1de33d07eb94b6288abea7842da5955": {
      "model_module": "@jupyter-widgets/base",
      "model_module_version": "1.2.0",
      "model_name": "LayoutModel",
      "state": {
       "grid_area": "left-sidebar"
      }
     },
     "d20b43515ec048b8bdb1491244a98ec0": {
      "model_module": "@jupyter-widgets/controls",
      "model_module_version": "1.5.0",
      "model_name": "LabelModel",
      "state": {
       "layout": "IPY_MODEL_d12c7b0bffc644d58df37a19939cb3d0",
       "style": "IPY_MODEL_c987a1a2899748989bf05652019bc440"
      }
     },
     "d218df0a395a4afba13ae6160f635015": {
      "model_module": "@jupyter-widgets/controls",
      "model_module_version": "1.5.0",
      "model_name": "DescriptionStyleModel",
      "state": {
       "description_width": ""
      }
     },
     "d2619a3886d0400dbef687699e64f978": {
      "model_module": "@jupyter-widgets/controls",
      "model_module_version": "1.5.0",
      "model_name": "CheckboxModel",
      "state": {
       "disabled": false,
       "layout": "IPY_MODEL_42e3bcb28d1d40269a67ba44d65ab251",
       "style": "IPY_MODEL_472d97149cc94da0873e6c6d2f1fa40e",
       "value": false
      }
     },
     "d271e88731394ce199b518b7fdde4ef4": {
      "model_module": "@jupyter-widgets/controls",
      "model_module_version": "1.5.0",
      "model_name": "DescriptionStyleModel",
      "state": {
       "description_width": ""
      }
     },
     "d291ea8ed11245f3b2a8c676d4d75ebb": {
      "model_module": "@jupyter-widgets/controls",
      "model_module_version": "1.5.0",
      "model_name": "HBoxModel",
      "state": {
       "children": [
        "IPY_MODEL_5b0e610766f247da9dcd5ef96e333cc0",
        "IPY_MODEL_c7227c0e732e4142b2d40480da44335f"
       ],
       "layout": "IPY_MODEL_fb1a6f4b003a416085191d37c39d4580"
      }
     },
     "d2987fb9000a4aada1fc1bb5d6874075": {
      "model_module": "@jupyter-widgets/base",
      "model_module_version": "1.2.0",
      "model_name": "LayoutModel",
      "state": {
       "width": "500px"
      }
     },
     "d2a57af89c0a46368a4a34ca9a16806c": {
      "model_module": "@jupyter-widgets/base",
      "model_module_version": "1.2.0",
      "model_name": "LayoutModel",
      "state": {}
     },
     "d2de8a8989964dd0a3e1ce3e1c411487": {
      "model_module": "@jupyter-widgets/base",
      "model_module_version": "1.2.0",
      "model_name": "LayoutModel",
      "state": {
       "align_items": "stretch",
       "display": "flex",
       "flex_flow": "row wrap",
       "grid_area": "footer",
       "margin": "30px 0 0 0"
      }
     },
     "d31cc52983174f1e9fa0325191ccfdb9": {
      "model_module": "@jupyter-widgets/controls",
      "model_module_version": "1.5.0",
      "model_name": "CheckboxModel",
      "state": {
       "disabled": false,
       "layout": "IPY_MODEL_bf0c2e07c30240dcbc76b7d93c020344",
       "style": "IPY_MODEL_17ad98d25d6546bba0afe46ae5662f25",
       "value": false
      }
     },
     "d371b60b30e24cd49e9aee8573ded3f1": {
      "model_module": "@jupyter-widgets/controls",
      "model_module_version": "1.5.0",
      "model_name": "LabelModel",
      "state": {
       "layout": "IPY_MODEL_cf32c847b67541539f67c10961eda743",
       "style": "IPY_MODEL_bc0a914f4c724c5a8b9dd730476031e9",
       "value": "How many inner nodes does the call tree of fib(n) have?"
      }
     },
     "d3a42bc93e4143af8c3c4836e06ad8d8": {
      "model_module": "@jupyter-widgets/controls",
      "model_module_version": "1.5.0",
      "model_name": "CheckboxModel",
      "state": {
       "disabled": false,
       "layout": "IPY_MODEL_0c96a7b578ff4111b3da04654f86f20c",
       "style": "IPY_MODEL_3d131f4700a340afa7b727767fddb15d",
       "value": false
      }
     },
     "d3bd98d74607419cb9dcb8388d718d43": {
      "model_module": "@jupyter-widgets/base",
      "model_module_version": "1.2.0",
      "model_name": "LayoutModel",
      "state": {}
     },
     "d3d569013c4a4e749efaa29454ba53b0": {
      "model_module": "@jupyter-widgets/controls",
      "model_module_version": "1.5.0",
      "model_name": "DescriptionStyleModel",
      "state": {
       "description_width": ""
      }
     },
     "d3d8498416c24048bdac3c43af3115b0": {
      "model_module": "@jupyter-widgets/controls",
      "model_module_version": "1.5.0",
      "model_name": "DescriptionStyleModel",
      "state": {
       "description_width": ""
      }
     },
     "d3f4e76314194723adb70925a44a27b6": {
      "model_module": "@jupyter-widgets/controls",
      "model_module_version": "1.5.0",
      "model_name": "LabelModel",
      "state": {
       "layout": "IPY_MODEL_640217180594434383cc42f09b07ff64",
       "style": "IPY_MODEL_f78bc193a8324ea99eb5e0864707363c",
       "value": "fib(n) - 1 + fib(n - 2)"
      }
     },
     "d40f2642f6494adbb85ca901f253a3fc": {
      "model_module": "@jupyter-widgets/base",
      "model_module_version": "1.2.0",
      "model_name": "LayoutModel",
      "state": {
       "border": "2px solid green"
      }
     },
     "d41e9c7d965d4a58aff65dbc406b5a96": {
      "model_module": "@jupyter-widgets/base",
      "model_module_version": "1.2.0",
      "model_name": "LayoutModel",
      "state": {
       "width": "30px"
      }
     },
     "d43c1e11c40a42fa91ee7806081ecff7": {
      "model_module": "@jupyter-widgets/base",
      "model_module_version": "1.2.0",
      "model_name": "LayoutModel",
      "state": {}
     },
     "d442c70fd7d246efbf33be0ce0dc70e7": {
      "model_module": "@jupyter-widgets/base",
      "model_module_version": "1.2.0",
      "model_name": "LayoutModel",
      "state": {}
     },
     "d46cd6969ea04074b15bc54ca7031373": {
      "model_module": "@jupyter-widgets/base",
      "model_module_version": "1.2.0",
      "model_name": "LayoutModel",
      "state": {
       "width": "500px"
      }
     },
     "d47e4f13322b4925a3048069820fcf93": {
      "model_module": "@jupyter-widgets/base",
      "model_module_version": "1.2.0",
      "model_name": "LayoutModel",
      "state": {}
     },
     "d485edba33d1479a8e146a72a4122222": {
      "model_module": "@jupyter-widgets/base",
      "model_module_version": "1.2.0",
      "model_name": "LayoutModel",
      "state": {}
     },
     "d4bb61a319914f3288fb28df6b55ac2d": {
      "model_module": "@jupyter-widgets/base",
      "model_module_version": "1.2.0",
      "model_name": "LayoutModel",
      "state": {}
     },
     "d4ff0fcd6f55444db63dfc3c26b41e50": {
      "model_module": "@jupyter-widgets/base",
      "model_module_version": "1.2.0",
      "model_name": "LayoutModel",
      "state": {
       "border": "2px solid red"
      }
     },
     "d53ad6be74f344afa59b60ab483df7e3": {
      "model_module": "@jupyter-widgets/base",
      "model_module_version": "1.2.0",
      "model_name": "LayoutModel",
      "state": {
       "border": "2px solid green"
      }
     },
     "d5474220dfe044a4addcc7daae3c711f": {
      "model_module": "@jupyter-widgets/base",
      "model_module_version": "1.2.0",
      "model_name": "LayoutModel",
      "state": {
       "width": "1000px"
      }
     },
     "d55073843b404654be301999655fdad7": {
      "model_module": "@jupyter-widgets/controls",
      "model_module_version": "1.5.0",
      "model_name": "DescriptionStyleModel",
      "state": {
       "description_width": ""
      }
     },
     "d57d7ecee08e4870b72ccedb4901dc04": {
      "model_module": "@jupyter-widgets/base",
      "model_module_version": "1.2.0",
      "model_name": "LayoutModel",
      "state": {}
     },
     "d59f8be984ae4aebb239567d9c9564ca": {
      "model_module": "@jupyter-widgets/controls",
      "model_module_version": "1.5.0",
      "model_name": "LabelModel",
      "state": {
       "layout": "IPY_MODEL_b48f1340e56d40ffa48446f350568625",
       "style": "IPY_MODEL_bb8379759e73415981bdf21a41b645c0",
       "value": "fib(k) - 1"
      }
     },
     "d5ac8462a21d47bd9e3f0c1d16d66150": {
      "model_module": "@jupyter-widgets/controls",
      "model_module_version": "1.5.0",
      "model_name": "HBoxModel",
      "state": {
       "children": [
        "IPY_MODEL_53f474e3866448969f6ea20059ae8e5a",
        "IPY_MODEL_8fdbeb3c84474bc7a5f1f0c330768075"
       ],
       "layout": "IPY_MODEL_89d82a6b74c94670aa753006cb75d999"
      }
     },
     "d5b1389c4c87474db8e359e5a3f3d0e1": {
      "model_module": "@jupyter-widgets/controls",
      "model_module_version": "1.5.0",
      "model_name": "DescriptionStyleModel",
      "state": {
       "description_width": ""
      }
     },
     "d625e22082294b33ab62699c8e095857": {
      "model_module": "@jupyter-widgets/base",
      "model_module_version": "1.2.0",
      "model_name": "LayoutModel",
      "state": {}
     },
     "d62fdcc4cb6540cc933f96095be7e616": {
      "model_module": "@jupyter-widgets/base",
      "model_module_version": "1.2.0",
      "model_name": "LayoutModel",
      "state": {}
     },
     "d66598dcea1e4aeda79c7ee068e56da9": {
      "model_module": "@jupyter-widgets/controls",
      "model_module_version": "1.5.0",
      "model_name": "DescriptionStyleModel",
      "state": {
       "description_width": ""
      }
     },
     "d684803de4de430c9b8ef279f20e97e9": {
      "model_module": "@jupyter-widgets/base",
      "model_module_version": "1.2.0",
      "model_name": "LayoutModel",
      "state": {}
     },
     "d69688a3b9404dde886fe8db70aed5a6": {
      "model_module": "@jupyter-widgets/controls",
      "model_module_version": "1.5.0",
      "model_name": "DescriptionStyleModel",
      "state": {
       "description_width": "initial"
      }
     },
     "d6b565009df04918ab3088adf9b3d30a": {
      "model_module": "@jupyter-widgets/base",
      "model_module_version": "1.2.0",
      "model_name": "LayoutModel",
      "state": {}
     },
     "d6d3b26ea32e4a01a645b7e04fc9cf60": {
      "model_module": "@jupyter-widgets/controls",
      "model_module_version": "1.5.0",
      "model_name": "HBoxModel",
      "state": {
       "children": [
        "IPY_MODEL_4f6a648735614b5dbabed4679507adad",
        "IPY_MODEL_06a78efa6b724055ab943d1bbee879a4"
       ],
       "layout": "IPY_MODEL_b4d711b5d2584f38b0433ead7e209c73"
      }
     },
     "d6d6199ab91c4fbca59cce34149f49a6": {
      "model_module": "@jupyter-widgets/controls",
      "model_module_version": "1.5.0",
      "model_name": "CheckboxModel",
      "state": {
       "disabled": false,
       "layout": "IPY_MODEL_eab9068acd4f4c88ae2a9bd7c5319f9b",
       "style": "IPY_MODEL_18449e39643c4d8ea8f5b6e5a6daf66e",
       "value": false
      }
     },
     "d6d907103c864ebeb0b2dfe0336c2170": {
      "model_module": "@jupyter-widgets/controls",
      "model_module_version": "1.5.0",
      "model_name": "DescriptionStyleModel",
      "state": {
       "description_width": ""
      }
     },
     "d73a4836cd28476f980bed015516122a": {
      "model_module": "@jupyter-widgets/base",
      "model_module_version": "1.2.0",
      "model_name": "LayoutModel",
      "state": {
       "width": "500px"
      }
     },
     "d742ea92191048a6bae3ea8424a7c083": {
      "model_module": "@jupyter-widgets/base",
      "model_module_version": "1.2.0",
      "model_name": "LayoutModel",
      "state": {
       "width": "100px"
      }
     },
     "d743f83011fb4a6a8367da6d79ec3c46": {
      "model_module": "@jupyter-widgets/base",
      "model_module_version": "1.2.0",
      "model_name": "LayoutModel",
      "state": {
       "grid_template_areas": "\"header header\"\n\"left-sidebar left-sidebar\"\n\"footer footer\"",
       "grid_template_columns": "1fr 1fr",
       "grid_template_rows": "1fr 3fr 1fr"
      }
     },
     "d745a367ee4d4c2d9ec97c1b2b9fd223": {
      "model_module": "@jupyter-widgets/controls",
      "model_module_version": "1.5.0",
      "model_name": "DescriptionStyleModel",
      "state": {
       "description_width": "initial"
      }
     },
     "d750ab07744b4c38aed602516494f90f": {
      "model_module": "@jupyter-widgets/base",
      "model_module_version": "1.2.0",
      "model_name": "LayoutModel",
      "state": {
       "width": "30px"
      }
     },
     "d760a6e6df0342a7b85bdec8d91fa5ac": {
      "model_module": "@jupyter-widgets/base",
      "model_module_version": "1.2.0",
      "model_name": "LayoutModel",
      "state": {
       "grid_area": "left-sidebar"
      }
     },
     "d7647bf517c7427c8966a06f5dfd69a3": {
      "model_module": "@jupyter-widgets/controls",
      "model_module_version": "1.5.0",
      "model_name": "HBoxModel",
      "state": {
       "children": [
        "IPY_MODEL_4a475bd17cb34f388a2b64237a832159",
        "IPY_MODEL_9cd440bed80a4bd39a3d2258102caecb"
       ],
       "layout": "IPY_MODEL_a321608df4c4495fb056459a7a5f89ce"
      }
     },
     "d7699503c20f44478acd606cfce21a51": {
      "model_module": "@jupyter-widgets/controls",
      "model_module_version": "1.5.0",
      "model_name": "HBoxModel",
      "state": {
       "children": [
        "IPY_MODEL_dd4a7123369f48adb93eb08484f71efa",
        "IPY_MODEL_7591fcf67d814db48e12665165cf052e"
       ],
       "layout": "IPY_MODEL_d9c2677451b64a1fac51d8ec99b87494"
      }
     },
     "d7749460247c448c8ae6a979ad54f64d": {
      "model_module": "@jupyter-widgets/controls",
      "model_module_version": "1.5.0",
      "model_name": "ButtonModel",
      "state": {
       "description": "Show answer",
       "disabled": true,
       "layout": "IPY_MODEL_3b8dfa759e254ab589df9d9e25df0777",
       "style": "IPY_MODEL_be7ad83c84964e798474628395e22be4"
      }
     },
     "d794d7a0511b429a8a5d765cf8496ec0": {
      "model_module": "@jupyter-widgets/controls",
      "model_module_version": "1.5.0",
      "model_name": "DescriptionStyleModel",
      "state": {
       "description_width": ""
      }
     },
     "d7b2d9db07ae4913aa2b23dd88dce19f": {
      "model_module": "@jupyter-widgets/controls",
      "model_module_version": "1.5.0",
      "model_name": "LabelModel",
      "state": {
       "layout": "IPY_MODEL_f70805bcef134fd4b1f7d48f55901edc",
       "style": "IPY_MODEL_d5b1389c4c87474db8e359e5a3f3d0e1"
      }
     },
     "d7ce1813000846179c86bc8295b21b5d": {
      "model_module": "@jupyter-widgets/base",
      "model_module_version": "1.2.0",
      "model_name": "LayoutModel",
      "state": {}
     },
     "d81610d82988467198b0d0769a3c59dd": {
      "model_module": "@jupyter-widgets/base",
      "model_module_version": "1.2.0",
      "model_name": "LayoutModel",
      "state": {
       "grid_area": "left-sidebar"
      }
     },
     "d835485a8fe44e89bfd37b44594fd568": {
      "model_module": "@jupyter-widgets/base",
      "model_module_version": "1.2.0",
      "model_name": "LayoutModel",
      "state": {}
     },
     "d845c07451234292b98ff1cbd5c94d53": {
      "model_module": "@jupyter-widgets/base",
      "model_module_version": "1.2.0",
      "model_name": "LayoutModel",
      "state": {}
     },
     "d86eee9fd2804ba28bb1f00935e17e2d": {
      "model_module": "@jupyter-widgets/controls",
      "model_module_version": "1.5.0",
      "model_name": "LabelModel",
      "state": {
       "layout": "IPY_MODEL_1eeda8c6806f43ac84621441e3ced620",
       "style": "IPY_MODEL_837ae746ae674f228e3dc54fc5f918c3"
      }
     },
     "d877b4bb13eb47929d1703c3e9d0baff": {
      "model_module": "@jupyter-widgets/controls",
      "model_module_version": "1.5.0",
      "model_name": "DescriptionStyleModel",
      "state": {
       "description_width": ""
      }
     },
     "d89c1213d2e745f0b4a397ae9f523251": {
      "model_module": "@jupyter-widgets/base",
      "model_module_version": "1.2.0",
      "model_name": "LayoutModel",
      "state": {
       "width": "1000px"
      }
     },
     "d8d5f4b48818474b988ec3e280e6760f": {
      "model_module": "@jupyter-widgets/base",
      "model_module_version": "1.2.0",
      "model_name": "LayoutModel",
      "state": {
       "width": "30px"
      }
     },
     "d8e0fecce82f4f45a3b66e54f58c2251": {
      "model_module": "@jupyter-widgets/base",
      "model_module_version": "1.2.0",
      "model_name": "LayoutModel",
      "state": {
       "border": "2px solid red"
      }
     },
     "d93ea2e192354b54b59be827ddaf95bf": {
      "model_module": "@jupyter-widgets/controls",
      "model_module_version": "1.5.0",
      "model_name": "CheckboxModel",
      "state": {
       "disabled": false,
       "layout": "IPY_MODEL_8dd941769a6b4e409571234f5d10403b",
       "style": "IPY_MODEL_38f23839fd904660b1930a0c07831769",
       "value": false
      }
     },
     "d943b0734e984a198834831b51abb536": {
      "model_module": "@jupyter-widgets/base",
      "model_module_version": "1.2.0",
      "model_name": "LayoutModel",
      "state": {}
     },
     "d94bac7ac41a473abca702a8c52a0b0d": {
      "model_module": "@jupyter-widgets/base",
      "model_module_version": "1.2.0",
      "model_name": "LayoutModel",
      "state": {
       "width": "30px"
      }
     },
     "d95499f3a7ba484082cdc5398d75337c": {
      "model_module": "@jupyter-widgets/base",
      "model_module_version": "1.2.0",
      "model_name": "LayoutModel",
      "state": {
       "grid_area": "footer"
      }
     },
     "d95579e8f0d940bdb20a9f1f6965dfbd": {
      "model_module": "@jupyter-widgets/controls",
      "model_module_version": "1.5.0",
      "model_name": "DescriptionStyleModel",
      "state": {
       "description_width": ""
      }
     },
     "d95bdc13b3e44154a8ff5b2976895b32": {
      "model_module": "@jupyter-widgets/base",
      "model_module_version": "1.2.0",
      "model_name": "LayoutModel",
      "state": {}
     },
     "d9750f71f5024301b45893c3d2c51e9d": {
      "model_module": "@jupyter-widgets/controls",
      "model_module_version": "1.5.0",
      "model_name": "DescriptionStyleModel",
      "state": {
       "description_width": "initial"
      }
     },
     "d9b3dbeb4a164e6e8c6b3e393975f9b6": {
      "model_module": "@jupyter-widgets/controls",
      "model_module_version": "1.5.0",
      "model_name": "LabelModel",
      "state": {
       "layout": "IPY_MODEL_4cc500e4f3184a938b0963b747a37294",
       "style": "IPY_MODEL_bb236bdf7fef47a98880ca1ef98fc20d",
       "value": "fib(n - 1)"
      }
     },
     "d9b5af7c58674e62838e5f1adae9b99e": {
      "model_module": "@jupyter-widgets/controls",
      "model_module_version": "1.5.0",
      "model_name": "HBoxModel",
      "state": {
       "children": [
        "IPY_MODEL_803af3afcb804864b2c74502c66e9393",
        "IPY_MODEL_dc7a0266425e4261b8729e2d2add2615"
       ],
       "layout": "IPY_MODEL_4163c940af6e4d53b2202ff4a716d980"
      }
     },
     "d9c2677451b64a1fac51d8ec99b87494": {
      "model_module": "@jupyter-widgets/base",
      "model_module_version": "1.2.0",
      "model_name": "LayoutModel",
      "state": {}
     },
     "d9d11b08fe7a496caaa38e673234c79b": {
      "model_module": "@jupyter-widgets/base",
      "model_module_version": "1.2.0",
      "model_name": "LayoutModel",
      "state": {}
     },
     "d9f4413d0e724390ae17f1f53932e82c": {
      "model_module": "@jupyter-widgets/controls",
      "model_module_version": "1.5.0",
      "model_name": "LabelModel",
      "state": {
       "layout": "IPY_MODEL_5edbb28d550a4ffcb358fe32b97c8ab0",
       "style": "IPY_MODEL_db2786871acf46b798abe2938f48dc4d"
      }
     },
     "da3eb8d554d8419c9f9527ab0588727a": {
      "model_module": "@jupyter-widgets/controls",
      "model_module_version": "1.5.0",
      "model_name": "DescriptionStyleModel",
      "state": {
       "description_width": ""
      }
     },
     "da434647714d4088bfcf21f13b585452": {
      "model_module": "@jupyter-widgets/controls",
      "model_module_version": "1.5.0",
      "model_name": "GridBoxModel",
      "state": {
       "box_style": "success",
       "children": [
        "IPY_MODEL_9dce473a92be47438bf9280e9aa40498",
        "IPY_MODEL_61983db4c2dd48a8bbbfe1bcecf149c7",
        "IPY_MODEL_60b2b557f3e74be687a6bffa628c3e32"
       ],
       "layout": "IPY_MODEL_a4ea9fd24e224f8588e67d511d88f95b"
      }
     },
     "da59f168799d44768305c5891387f2ea": {
      "model_module": "@jupyter-widgets/base",
      "model_module_version": "1.2.0",
      "model_name": "LayoutModel",
      "state": {}
     },
     "da5f17b5dff840f1880478f89806ddfe": {
      "model_module": "@jupyter-widgets/controls",
      "model_module_version": "1.5.0",
      "model_name": "HBoxModel",
      "state": {
       "children": [
        "IPY_MODEL_3f016e8fd9e44e08b1f5f67c887142cf",
        "IPY_MODEL_add38d82b058420682db6ba5f6acee4d"
       ],
       "layout": "IPY_MODEL_a06c8f9875734aada33ca3fb5641f16c"
      }
     },
     "da825ac046024b8fb333d34e24d3bb5f": {
      "model_module": "@jupyter-widgets/controls",
      "model_module_version": "1.5.0",
      "model_name": "LabelModel",
      "state": {
       "layout": "IPY_MODEL_17bed34d45b44b8f8dde4742c0990746",
       "style": "IPY_MODEL_ef0c6106dc3e495e97009f9f9b8c85ef",
       "value": "fib(k) - 1"
      }
     },
     "dadd613e7d9a430aa81e08a1f5d66700": {
      "model_module": "@jupyter-widgets/controls",
      "model_module_version": "1.5.0",
      "model_name": "CheckboxModel",
      "state": {
       "disabled": false,
       "layout": "IPY_MODEL_041d6c807867485f9237e427d11937e6",
       "style": "IPY_MODEL_ac8328bbfcdf46c09e62211ff845c0ae",
       "value": false
      }
     },
     "daede64210004565a1749bed54444201": {
      "model_module": "@jupyter-widgets/controls",
      "model_module_version": "1.5.0",
      "model_name": "ButtonStyleModel",
      "state": {
       "button_color": "lightblue"
      }
     },
     "daeeb1b72cf04e9680d0e4feb4edeac4": {
      "model_module": "@jupyter-widgets/base",
      "model_module_version": "1.2.0",
      "model_name": "LayoutModel",
      "state": {}
     },
     "daf47cb9161842e9a87ca3640e1d1414": {
      "model_module": "@jupyter-widgets/controls",
      "model_module_version": "1.5.0",
      "model_name": "ButtonModel",
      "state": {
       "description": "Submit",
       "layout": "IPY_MODEL_d104cd6f60d8462fa4175eaa2c9937a0",
       "style": "IPY_MODEL_ec4e38be78554c818b22ad718c1758c0"
      }
     },
     "db0e8c6434e24936a32a1ac30e3b3d06": {
      "model_module": "@jupyter-widgets/base",
      "model_module_version": "1.2.0",
      "model_name": "LayoutModel",
      "state": {}
     },
     "db2786871acf46b798abe2938f48dc4d": {
      "model_module": "@jupyter-widgets/controls",
      "model_module_version": "1.5.0",
      "model_name": "DescriptionStyleModel",
      "state": {
       "description_width": ""
      }
     },
     "db482d26af804e98b5d362f444c42812": {
      "model_module": "@jupyter-widgets/controls",
      "model_module_version": "1.5.0",
      "model_name": "VBoxModel",
      "state": {
       "children": [
        "IPY_MODEL_c11f03bd94da4f7f98841f697f401167",
        "IPY_MODEL_1df3bf576d51466eb76391606cb91e28",
        "IPY_MODEL_cbd9768a0f424878a5a46ecfba682c06",
        "IPY_MODEL_3b14e2e2b8674ba3a327749824b8c96b"
       ],
       "layout": "IPY_MODEL_d1de33d07eb94b6288abea7842da5955"
      }
     },
     "db520346a03a45c2aaa957e75298ebba": {
      "model_module": "@jupyter-widgets/controls",
      "model_module_version": "1.5.0",
      "model_name": "DescriptionStyleModel",
      "state": {
       "description_width": ""
      }
     },
     "db670b2b0c0f4d599187a6a7edae3672": {
      "model_module": "@jupyter-widgets/controls",
      "model_module_version": "1.5.0",
      "model_name": "VBoxModel",
      "state": {
       "children": [
        "IPY_MODEL_523855c6fc1a498392d753ac688a8772",
        "IPY_MODEL_b32c905da249469eaba15b415dd3dead",
        "IPY_MODEL_3d5e3244e5e34a56b124b7d780f801cd"
       ],
       "layout": "IPY_MODEL_e035fd12689e4075aabb484047fceec5"
      }
     },
     "db7ae4341bbf40d599018df5777e073c": {
      "model_module": "@jupyter-widgets/base",
      "model_module_version": "1.2.0",
      "model_name": "LayoutModel",
      "state": {}
     },
     "db90e02b279c499a9c6a06d0d9f6f139": {
      "model_module": "@jupyter-widgets/controls",
      "model_module_version": "1.5.0",
      "model_name": "GridBoxModel",
      "state": {
       "box_style": "info",
       "children": [
        "IPY_MODEL_6b60d861dbf94a028ebaff84b153f21b",
        "IPY_MODEL_32914d62e69348179c2d4cff8ad7c230",
        "IPY_MODEL_659f3a0d98cf4dc48b4e4253480c27ad"
       ],
       "layout": "IPY_MODEL_a382a88afe37433287e9140783471f35"
      }
     },
     "dbcb91eda38b4953996de5f5281648b6": {
      "model_module": "@jupyter-widgets/base",
      "model_module_version": "1.2.0",
      "model_name": "LayoutModel",
      "state": {}
     },
     "dbf1745bfde4458b916a61668532a341": {
      "model_module": "@jupyter-widgets/controls",
      "model_module_version": "1.5.0",
      "model_name": "ButtonModel",
      "state": {
       "description": "Submit again",
       "disabled": true,
       "layout": "IPY_MODEL_5e783bc0f97148b79ee708ff65d2e6f7",
       "style": "IPY_MODEL_55731aa0700e4e8993c81e6ffd1d5e0c"
      }
     },
     "dbf75aecfa294509a52c90db7ba61113": {
      "model_module": "@jupyter-widgets/controls",
      "model_module_version": "1.5.0",
      "model_name": "ButtonModel",
      "state": {
       "description": "Submit",
       "layout": "IPY_MODEL_170dd75a42d84547ab51cc63d79f1fc5",
       "style": "IPY_MODEL_3c67010e90944542aa79c8708be7a5cb"
      }
     },
     "dc5b3c5b56d14ca38b4a2cf8f9fa47ef": {
      "model_module": "@jupyter-widgets/controls",
      "model_module_version": "1.5.0",
      "model_name": "DescriptionStyleModel",
      "state": {
       "description_width": "initial"
      }
     },
     "dc7a0266425e4261b8729e2d2add2615": {
      "model_module": "@jupyter-widgets/controls",
      "model_module_version": "1.5.0",
      "model_name": "LabelModel",
      "state": {
       "layout": "IPY_MODEL_ca74ca7c4a524475a27a635db800a2ac",
       "style": "IPY_MODEL_5d2e59329a2f4bc985320e20bf24e049",
       "value": "fib(n - k)"
      }
     },
     "dcc3d5c0d90948f68931dd66345e98bb": {
      "model_module": "@jupyter-widgets/controls",
      "model_module_version": "1.5.0",
      "model_name": "LabelModel",
      "state": {
       "layout": "IPY_MODEL_4d524959d0b7443fb54f3d8a6ac602db",
       "style": "IPY_MODEL_04d3350878284b309e71d7fd419492cd",
       "value": "How many calls to fib(2) and to fib(1) does fib(8) make?"
      }
     },
     "dcd30803d64e4d55afe748bc27e11aa3": {
      "model_module": "@jupyter-widgets/base",
      "model_module_version": "1.2.0",
      "model_name": "LayoutModel",
      "state": {
       "width": "30px"
      }
     },
     "dcdbeb4a6c2045b6a2b5a8842bae4a79": {
      "model_module": "@jupyter-widgets/controls",
      "model_module_version": "1.5.0",
      "model_name": "HBoxModel",
      "state": {
       "children": [
        "IPY_MODEL_4e3ce4b14cd446abb6d0af912fe7410c",
        "IPY_MODEL_d19dfdd76fea45ddb4107494b08ccb6a"
       ],
       "layout": "IPY_MODEL_2694c8f1800d4e208a2a6f106137bd0b"
      }
     },
     "dce95b66cab545538b5c28ed3c99ca66": {
      "model_module": "@jupyter-widgets/base",
      "model_module_version": "1.2.0",
      "model_name": "LayoutModel",
      "state": {}
     },
     "dd0340bb5edf43cea2e84c6694a39b0d": {
      "model_module": "@jupyter-widgets/controls",
      "model_module_version": "1.5.0",
      "model_name": "LabelModel",
      "state": {
       "layout": "IPY_MODEL_ded3e1c6d6f74da59d12d662d1115ab9",
       "style": "IPY_MODEL_13f0670fc1ac4922804e955206613ca4",
       "value": "fib(n - k - 1)"
      }
     },
     "dd09c33375204cd69643549c41389beb": {
      "model_module": "@jupyter-widgets/base",
      "model_module_version": "1.2.0",
      "model_name": "LayoutModel",
      "state": {
       "width": "1000px"
      }
     },
     "dd27d442e9694061b3998f13317c450c": {
      "model_module": "@jupyter-widgets/controls",
      "model_module_version": "1.5.0",
      "model_name": "ButtonModel",
      "state": {
       "description": "Submit",
       "layout": "IPY_MODEL_9d0f88cfdb574cee89657102f46d8346",
       "style": "IPY_MODEL_19daff78f37f4d89bd62e53a61ffa084"
      }
     },
     "dd4092b9fc80418aae52f587033b5d0a": {
      "model_module": "@jupyter-widgets/controls",
      "model_module_version": "1.5.0",
      "model_name": "DescriptionStyleModel",
      "state": {
       "description_width": ""
      }
     },
     "dd4a7123369f48adb93eb08484f71efa": {
      "model_module": "@jupyter-widgets/controls",
      "model_module_version": "1.5.0",
      "model_name": "CheckboxModel",
      "state": {
       "disabled": false,
       "layout": "IPY_MODEL_7933be0704a74185bd06b03df68cce7c",
       "style": "IPY_MODEL_393e1e5c8f484043908e4486fd580565",
       "value": false
      }
     },
     "dd4dbdf3533a4a5498a9fc4e322bdb1b": {
      "model_module": "@jupyter-widgets/controls",
      "model_module_version": "1.5.0",
      "model_name": "DescriptionStyleModel",
      "state": {
       "description_width": ""
      }
     },
     "dd56061099d14d02ab6781bdd601d9e2": {
      "model_module": "@jupyter-widgets/base",
      "model_module_version": "1.2.0",
      "model_name": "LayoutModel",
      "state": {}
     },
     "dd6fcd3b44954c76ab051933791f3bfb": {
      "model_module": "@jupyter-widgets/controls",
      "model_module_version": "1.5.0",
      "model_name": "HBoxModel",
      "state": {
       "children": [
        "IPY_MODEL_c77e90d8e47d474a8cd32f9a470ce0e1",
        "IPY_MODEL_9ce7832ab2094a18beeb493ae9486b95"
       ],
       "layout": "IPY_MODEL_802865573ee44b07bc3601fb555ad6d3"
      }
     },
     "dd9a9c8bb2cb4c0f8b8745f4427c1626": {
      "model_module": "@jupyter-widgets/controls",
      "model_module_version": "1.5.0",
      "model_name": "DescriptionStyleModel",
      "state": {
       "description_width": ""
      }
     },
     "ddad2114e0d4451eafd4e2dd504a8c3d": {
      "model_module": "@jupyter-widgets/controls",
      "model_module_version": "1.5.0",
      "model_name": "DescriptionStyleModel",
      "state": {
       "description_width": ""
      }
     },
     "ddc9452474dc45e58214458f9b5da207": {
      "model_module": "@jupyter-widgets/base",
      "model_module_version": "1.2.0",
      "model_name": "LayoutModel",
      "state": {
       "width": "1000px"
      }
     },
     "ddd0c399d6954a38a293ecb6d1a214a2": {
      "model_module": "@jupyter-widgets/controls",
      "model_module_version": "1.5.0",
      "model_name": "HBoxModel",
      "state": {
       "children": [
        "IPY_MODEL_d31cc52983174f1e9fa0325191ccfdb9",
        "IPY_MODEL_77502ed86f3e43c7a71cad1440538571"
       ],
       "layout": "IPY_MODEL_496b3ddea6524508af03d123709d8158"
      }
     },
     "ddd35697037445e9ab09f9c4232c8323": {
      "model_module": "@jupyter-widgets/base",
      "model_module_version": "1.2.0",
      "model_name": "LayoutModel",
      "state": {
       "grid_area": "left-sidebar"
      }
     },
     "de05b2fd93114cb1b573d97c0a5897fa": {
      "model_module": "@jupyter-widgets/controls",
      "model_module_version": "1.5.0",
      "model_name": "LabelModel",
      "state": {
       "layout": "IPY_MODEL_42be31e4948e4d01a94d94adcf544cc0",
       "style": "IPY_MODEL_5d89b732e3564b309d75b7741e6f4ab2",
       "value": "fib(n - k)"
      }
     },
     "de13ed15001746568ebaf544ef3e6d7b": {
      "model_module": "@jupyter-widgets/base",
      "model_module_version": "1.2.0",
      "model_name": "LayoutModel",
      "state": {}
     },
     "de7f92856d5d4e688ad53fc743858f79": {
      "model_module": "@jupyter-widgets/controls",
      "model_module_version": "1.5.0",
      "model_name": "LabelModel",
      "state": {
       "layout": "IPY_MODEL_72a81fa8a44040c896a2b82a584762c0",
       "style": "IPY_MODEL_7a557f15cf80430f8d23213aca154856",
       "value": "$fib(2)$ is called $13$ times and $fib(1)$ is called $5$ times"
      }
     },
     "de86ddd7ffcf481bbe25a7722e9f43d1": {
      "model_module": "@jupyter-widgets/base",
      "model_module_version": "1.2.0",
      "model_name": "LayoutModel",
      "state": {}
     },
     "de8c4dcab5f845a49d4eb453c7b34a65": {
      "model_module": "@jupyter-widgets/controls",
      "model_module_version": "1.5.0",
      "model_name": "ButtonStyleModel",
      "state": {
       "button_color": "lightblue"
      }
     },
     "de8f77395541498282fe77318db61fad": {
      "model_module": "@jupyter-widgets/controls",
      "model_module_version": "1.5.0",
      "model_name": "DescriptionStyleModel",
      "state": {
       "description_width": ""
      }
     },
     "de99919424e24ddda69f6a403981caa0": {
      "model_module": "@jupyter-widgets/base",
      "model_module_version": "1.2.0",
      "model_name": "LayoutModel",
      "state": {
       "width": "1000px"
      }
     },
     "deaa046d1af2466092e3af73ab1c17bc": {
      "model_module": "@jupyter-widgets/controls",
      "model_module_version": "1.5.0",
      "model_name": "HBoxModel",
      "state": {
       "children": [
        "IPY_MODEL_9da583c0327e4be290e0f5e900ea886f",
        "IPY_MODEL_9d60bf9521854601b21df0dc8e4e868d"
       ],
       "layout": "IPY_MODEL_9603e10316fc40eb99997cebd2709565"
      }
     },
     "ded3e1c6d6f74da59d12d662d1115ab9": {
      "model_module": "@jupyter-widgets/base",
      "model_module_version": "1.2.0",
      "model_name": "LayoutModel",
      "state": {
       "width": "1000px"
      }
     },
     "ded6e4f927bd46b392725d830978edad": {
      "model_module": "@jupyter-widgets/controls",
      "model_module_version": "1.5.0",
      "model_name": "LabelModel",
      "state": {
       "layout": "IPY_MODEL_f9da8fe73f1c47578dfabc780b90e513",
       "style": "IPY_MODEL_398c5e4af2b94b7a8677567ff0861d1e"
      }
     },
     "ded6ec115d504f9a974ce654a4bde4c5": {
      "model_module": "@jupyter-widgets/base",
      "model_module_version": "1.2.0",
      "model_name": "LayoutModel",
      "state": {
       "width": "30px"
      }
     },
     "dedfea7fc10549358e2bcec6bf441d11": {
      "model_module": "@jupyter-widgets/base",
      "model_module_version": "1.2.0",
      "model_name": "LayoutModel",
      "state": {}
     },
     "df3446095dc5460d80b40e423e885ca8": {
      "model_module": "@jupyter-widgets/controls",
      "model_module_version": "1.5.0",
      "model_name": "LabelModel",
      "state": {
       "layout": "IPY_MODEL_514f99aebe464ffdab54d5650bfa2359",
       "style": "IPY_MODEL_d13e6e0f668d4e7db21aed11f50612b7"
      }
     },
     "dfc6c64987674b0984dbaf8bc657c689": {
      "model_module": "@jupyter-widgets/base",
      "model_module_version": "1.2.0",
      "model_name": "LayoutModel",
      "state": {
       "grid_area": "left-sidebar"
      }
     },
     "dfc6df30158543538c437f70845247aa": {
      "model_module": "@jupyter-widgets/base",
      "model_module_version": "1.2.0",
      "model_name": "LayoutModel",
      "state": {
       "width": "1000px"
      }
     },
     "dfd81cc1e9fd417db3d8de9b9bd4d6c8": {
      "model_module": "@jupyter-widgets/controls",
      "model_module_version": "1.5.0",
      "model_name": "LabelModel",
      "state": {
       "layout": "IPY_MODEL_6c42ea2c40c74ac0b6b2d14916cc1531",
       "style": "IPY_MODEL_01bb3b65c9fe4caeb0e1c408192e4466",
       "value": "fib(k)"
      }
     },
     "dfe87bb06acb46c286bd1638a335d0c6": {
      "model_module": "@jupyter-widgets/controls",
      "model_module_version": "1.5.0",
      "model_name": "DescriptionStyleModel",
      "state": {
       "description_width": "initial"
      }
     },
     "dffa2faa38374221abcd485512454fe6": {
      "model_module": "@jupyter-widgets/controls",
      "model_module_version": "1.5.0",
      "model_name": "LabelModel",
      "state": {
       "layout": "IPY_MODEL_d43c1e11c40a42fa91ee7806081ecff7",
       "style": "IPY_MODEL_c536e641c30743dfa6b0472fb32e4dcf"
      }
     },
     "e00a782521044826a034b17585edcafb": {
      "model_module": "@jupyter-widgets/controls",
      "model_module_version": "1.5.0",
      "model_name": "DescriptionStyleModel",
      "state": {
       "description_width": ""
      }
     },
     "e024241bf1814b9f903441db3230b586": {
      "model_module": "@jupyter-widgets/base",
      "model_module_version": "1.2.0",
      "model_name": "LayoutModel",
      "state": {}
     },
     "e035fd12689e4075aabb484047fceec5": {
      "model_module": "@jupyter-widgets/base",
      "model_module_version": "1.2.0",
      "model_name": "LayoutModel",
      "state": {
       "grid_area": "left-sidebar"
      }
     },
     "e0403c65e34b45528d2a45abd9f0255a": {
      "model_module": "@jupyter-widgets/base",
      "model_module_version": "1.2.0",
      "model_name": "LayoutModel",
      "state": {}
     },
     "e0541465bb6b48da944b875d8021519b": {
      "model_module": "@jupyter-widgets/controls",
      "model_module_version": "1.5.0",
      "model_name": "LabelModel",
      "state": {
       "layout": "IPY_MODEL_9d6b362cac2b4192bc89a32ee3d10e8c",
       "style": "IPY_MODEL_379e6b8be52343179b96d0eebb4076ca"
      }
     },
     "e0abd80ea88a41f1a53d351372afea70": {
      "model_module": "@jupyter-widgets/controls",
      "model_module_version": "1.5.0",
      "model_name": "GridBoxModel",
      "state": {
       "children": [
        "IPY_MODEL_53c4e83f1e4f436ebb12dae3d4d6595c",
        "IPY_MODEL_83fb4d2278b9461ab4fcd340ebe24aa6",
        "IPY_MODEL_e4b1cff9a97f425d8cc55129d8eee309"
       ],
       "layout": "IPY_MODEL_0aa23a4809d84810bd890ac70034f4cf"
      }
     },
     "e0ca27f0415e40c4b092bdf1062f91c7": {
      "model_module": "@jupyter-widgets/base",
      "model_module_version": "1.2.0",
      "model_name": "LayoutModel",
      "state": {
       "width": "30px"
      }
     },
     "e0dc190d241f4a5ca4d307da9180543f": {
      "model_module": "@jupyter-widgets/base",
      "model_module_version": "1.2.0",
      "model_name": "LayoutModel",
      "state": {
       "width": "1000px"
      }
     },
     "e0eed506d2f3407383f99e1ececf9691": {
      "model_module": "@jupyter-widgets/base",
      "model_module_version": "1.2.0",
      "model_name": "LayoutModel",
      "state": {
       "width": "1000px"
      }
     },
     "e12f6d5da2934b1f94bd4269d9fc994c": {
      "model_module": "@jupyter-widgets/base",
      "model_module_version": "1.2.0",
      "model_name": "LayoutModel",
      "state": {}
     },
     "e1451ec768884ef5beff6d86f71b0a5c": {
      "model_module": "@jupyter-widgets/controls",
      "model_module_version": "1.5.0",
      "model_name": "LabelModel",
      "state": {
       "layout": "IPY_MODEL_99a32ab7a71d4c36b770bb4801604def",
       "style": "IPY_MODEL_19b8d10165f246afbbeb8686bc5007aa"
      }
     },
     "e183290c0a9349838f7657becc2514d7": {
      "model_module": "@jupyter-widgets/base",
      "model_module_version": "1.2.0",
      "model_name": "LayoutModel",
      "state": {
       "width": "100px"
      }
     },
     "e184fc549a764ebb860277c14af00962": {
      "model_module": "@jupyter-widgets/base",
      "model_module_version": "1.2.0",
      "model_name": "LayoutModel",
      "state": {
       "grid_area": "header"
      }
     },
     "e18e1f6cd93b4324b320ce01be4e026e": {
      "model_module": "@jupyter-widgets/controls",
      "model_module_version": "1.5.0",
      "model_name": "DescriptionStyleModel",
      "state": {
       "description_width": "initial"
      }
     },
     "e19be877ed5f499cb07f1200a1744f30": {
      "model_module": "@jupyter-widgets/base",
      "model_module_version": "1.2.0",
      "model_name": "LayoutModel",
      "state": {}
     },
     "e1f62564489e4864a18139559260035b": {
      "model_module": "@jupyter-widgets/controls",
      "model_module_version": "1.5.0",
      "model_name": "LabelModel",
      "state": {
       "layout": "IPY_MODEL_b78472299d4f43f3b4bc50e1af3769ca",
       "style": "IPY_MODEL_1934cedd36c74185a8168bed0e0852ef"
      }
     },
     "e1fe351d51594ea7905be31952b3c489": {
      "model_module": "@jupyter-widgets/controls",
      "model_module_version": "1.5.0",
      "model_name": "LabelModel",
      "state": {
       "layout": "IPY_MODEL_59ef3ed5e2524804a36a418b87797ffd",
       "style": "IPY_MODEL_cf32ccd398454ecaad208af65b144a34",
       "value": "fib(n - 1)"
      }
     },
     "e21fc594671745f0aedf7e922fec1d80": {
      "model_module": "@jupyter-widgets/base",
      "model_module_version": "1.2.0",
      "model_name": "LayoutModel",
      "state": {
       "grid_area": "footer"
      }
     },
     "e22ad3e7fdd64d2385f554a5e35bd251": {
      "model_module": "@jupyter-widgets/base",
      "model_module_version": "1.2.0",
      "model_name": "LayoutModel",
      "state": {
       "width": "30px"
      }
     },
     "e25a4b6023c0466d9c7abc84918120c0": {
      "model_module": "@jupyter-widgets/controls",
      "model_module_version": "1.5.0",
      "model_name": "LabelModel",
      "state": {
       "layout": "IPY_MODEL_dd09c33375204cd69643549c41389beb",
       "style": "IPY_MODEL_242e6ca09bf846128f9599f2818ee232",
       "value": "fib(n)"
      }
     },
     "e25ada5adb924a5e926228f24cb56dc6": {
      "model_module": "@jupyter-widgets/controls",
      "model_module_version": "1.5.0",
      "model_name": "LabelModel",
      "state": {
       "layout": "IPY_MODEL_777b6ae75aaf42cdabe5a64e92474ffa",
       "style": "IPY_MODEL_48c4909c93d94497be295a17ec733b1d",
       "value": "How many leaves does the call stack tree for fib(n) have? "
      }
     },
     "e262239e31344289b2bcffde9c7c7f4c": {
      "model_module": "@jupyter-widgets/base",
      "model_module_version": "1.2.0",
      "model_name": "LayoutModel",
      "state": {
       "grid_area": "left-sidebar"
      }
     },
     "e2829a1283f74246a4da07593be6bee0": {
      "model_module": "@jupyter-widgets/controls",
      "model_module_version": "1.5.0",
      "model_name": "DescriptionStyleModel",
      "state": {
       "description_width": ""
      }
     },
     "e2960c5ec44941088771681da0b068b7": {
      "model_module": "@jupyter-widgets/controls",
      "model_module_version": "1.5.0",
      "model_name": "LabelModel",
      "state": {
       "layout": "IPY_MODEL_568b1c8920c447059956c9aa551362dd",
       "style": "IPY_MODEL_5f5c05a5d4144a37a9cc634f32a0de47",
       "value": "How many inner nodes does the call tree of fib(n) have?"
      }
     },
     "e2a2930cbfed4cabbd229b9d62c12143": {
      "model_module": "@jupyter-widgets/controls",
      "model_module_version": "1.5.0",
      "model_name": "HBoxModel",
      "state": {
       "children": [
        "IPY_MODEL_796ca186d64a46dc80b92b9bf229f974",
        "IPY_MODEL_5594140c15ab4dd0a47264bc4b889689"
       ],
       "layout": "IPY_MODEL_1245dc2205664e629c99d1c4214a2934"
      }
     },
     "e2b3e2a596c048b9a879347f6f9b9524": {
      "model_module": "@jupyter-widgets/base",
      "model_module_version": "1.2.0",
      "model_name": "LayoutModel",
      "state": {}
     },
     "e2df8bfa7d8b44c7abee653fc9ae12f8": {
      "model_module": "@jupyter-widgets/base",
      "model_module_version": "1.2.0",
      "model_name": "LayoutModel",
      "state": {
       "width": "100px"
      }
     },
     "e3378826f1244408be31fedc34e708c7": {
      "model_module": "@jupyter-widgets/base",
      "model_module_version": "1.2.0",
      "model_name": "LayoutModel",
      "state": {
       "grid_area": "footer"
      }
     },
     "e34a6d645c6c470d919f090f6ced2806": {
      "model_module": "@jupyter-widgets/controls",
      "model_module_version": "1.5.0",
      "model_name": "HBoxModel",
      "state": {
       "children": [
        "IPY_MODEL_2a6a6d3250654445a01d5b5b1c7e5030",
        "IPY_MODEL_32999b44b9384702a1c7d7da954fb966"
       ],
       "layout": "IPY_MODEL_21b3295a450b4baf93dd6c136e47e9a0"
      }
     },
     "e34c9add57384b31a87a1d66fb1dc39d": {
      "model_module": "@jupyter-widgets/controls",
      "model_module_version": "1.5.0",
      "model_name": "VBoxModel",
      "state": {
       "children": [
        "IPY_MODEL_79f1b3899b4444dfb487183806f0d5b4",
        "IPY_MODEL_7689f44922bd49e0b85f8f8635aaf231",
        "IPY_MODEL_1d92235e40354faf8ef839d7e547cdfd"
       ],
       "layout": "IPY_MODEL_4bdd527298e849d6a1f765c2ebb89a6f"
      }
     },
     "e391a29af3a24e718ce8ab1e41948883": {
      "model_module": "@jupyter-widgets/base",
      "model_module_version": "1.2.0",
      "model_name": "LayoutModel",
      "state": {}
     },
     "e3a1f4f7621044d4bcbeb4fa7600f1a1": {
      "model_module": "@jupyter-widgets/controls",
      "model_module_version": "1.5.0",
      "model_name": "HBoxModel",
      "state": {
       "children": [
        "IPY_MODEL_4ebaf5867185487b96c1ff32d8086d7c",
        "IPY_MODEL_3f66f31437d04b0f8e542bf5307f64f5"
       ],
       "layout": "IPY_MODEL_1f143492a70340d9a3d11ee8cb5326bc"
      }
     },
     "e3c1af38463144419bed956e53adb0fc": {
      "model_module": "@jupyter-widgets/base",
      "model_module_version": "1.2.0",
      "model_name": "LayoutModel",
      "state": {
       "width": "30px"
      }
     },
     "e400d66964364ceb8e82ea5adb621c8b": {
      "model_module": "@jupyter-widgets/controls",
      "model_module_version": "1.5.0",
      "model_name": "DescriptionStyleModel",
      "state": {
       "description_width": ""
      }
     },
     "e436089eef7d42a8928cff251dd16c3f": {
      "model_module": "@jupyter-widgets/controls",
      "model_module_version": "1.5.0",
      "model_name": "DescriptionStyleModel",
      "state": {
       "description_width": ""
      }
     },
     "e43b830e75544ccfa482cf95df29d042": {
      "model_module": "@jupyter-widgets/controls",
      "model_module_version": "1.5.0",
      "model_name": "LabelModel",
      "state": {
       "layout": "IPY_MODEL_35e514584248465ea1452cc8c8dce718",
       "style": "IPY_MODEL_951b83653a9a4bc7b7d412f598f8410a",
       "value": "How many calls to fib(2) and to fib(1) does fib(8) make?"
      }
     },
     "e4476127be724b71a6832c15d35c6677": {
      "model_module": "@jupyter-widgets/base",
      "model_module_version": "1.2.0",
      "model_name": "LayoutModel",
      "state": {
       "width": "30px"
      }
     },
     "e4482d03a36c452eaf4d56ba924b03b4": {
      "model_module": "@jupyter-widgets/base",
      "model_module_version": "1.2.0",
      "model_name": "LayoutModel",
      "state": {
       "display": "none"
      }
     },
     "e44d72a49d2c40ac975703e5ad7dcdb6": {
      "model_module": "@jupyter-widgets/controls",
      "model_module_version": "1.5.0",
      "model_name": "CheckboxModel",
      "state": {
       "disabled": false,
       "layout": "IPY_MODEL_34c79d176c8a43ea8651a602e3d1d265",
       "style": "IPY_MODEL_dc5b3c5b56d14ca38b4a2cf8f9fa47ef",
       "value": false
      }
     },
     "e48e79f6306142e89ee8cfbb07808104": {
      "model_module": "@jupyter-widgets/controls",
      "model_module_version": "1.5.0",
      "model_name": "CheckboxModel",
      "state": {
       "disabled": false,
       "layout": "IPY_MODEL_97f3dcc4fc6844aaac52e09cb2f8e8aa",
       "style": "IPY_MODEL_2cf746608960472da5060b1f67f80f0f",
       "value": false
      }
     },
     "e4b1cff9a97f425d8cc55129d8eee309": {
      "model_module": "@jupyter-widgets/controls",
      "model_module_version": "1.5.0",
      "model_name": "HBoxModel",
      "state": {
       "children": [
        "IPY_MODEL_d12e175f338140828407a37b83cf3f43",
        "IPY_MODEL_a8d6f34fe9b14d7695e4cff82e8c85e9"
       ],
       "layout": "IPY_MODEL_96a4ecd4ff5e4a49a7b15519fc84dec9"
      }
     },
     "e4bfa563a6564c6a82e2e3fd7bd0ef07": {
      "model_module": "@jupyter-widgets/controls",
      "model_module_version": "1.5.0",
      "model_name": "DescriptionStyleModel",
      "state": {
       "description_width": ""
      }
     },
     "e4c42ad348b74035922cea578374e8ff": {
      "model_module": "@jupyter-widgets/controls",
      "model_module_version": "1.5.0",
      "model_name": "LabelModel",
      "state": {
       "layout": "IPY_MODEL_11ca09a87f664a9788417232b25689f9",
       "style": "IPY_MODEL_5b9260e7be38460eaf51fe8851798e49"
      }
     },
     "e4cafc4f2b384933ad5dbbf51b020cf7": {
      "model_module": "@jupyter-widgets/base",
      "model_module_version": "1.2.0",
      "model_name": "LayoutModel",
      "state": {}
     },
     "e5009e60b0c54589875140106b28f0b8": {
      "model_module": "@jupyter-widgets/base",
      "model_module_version": "1.2.0",
      "model_name": "LayoutModel",
      "state": {}
     },
     "e50331325784427e9cb2138e0da3cdb3": {
      "model_module": "@jupyter-widgets/controls",
      "model_module_version": "1.5.0",
      "model_name": "DescriptionStyleModel",
      "state": {
       "description_width": ""
      }
     },
     "e59d3be9876a443e8aac0a27b28feb99": {
      "model_module": "@jupyter-widgets/base",
      "model_module_version": "1.2.0",
      "model_name": "LayoutModel",
      "state": {}
     },
     "e59d8601081e4c5eb7a31241ef5f12fb": {
      "model_module": "@jupyter-widgets/controls",
      "model_module_version": "1.5.0",
      "model_name": "LabelModel",
      "state": {
       "layout": "IPY_MODEL_474d0b38d74d4be9b12fbe9a4bda58d4",
       "style": "IPY_MODEL_609ec5ae418c4d8a9fbe691013e21f50",
       "value": "fib(n - 1) + fib(n - 2)"
      }
     },
     "e5cc635b7a704e3db9d39aa4e8714148": {
      "model_module": "@jupyter-widgets/controls",
      "model_module_version": "1.5.0",
      "model_name": "HBoxModel",
      "state": {
       "box_style": "info",
       "children": [
        "IPY_MODEL_b5c98961712348bf9aa44c8142bbe8ff",
        "IPY_MODEL_b2e4846d9bf64378b3eaf8c1981c0178"
       ],
       "layout": "IPY_MODEL_312e85f42cf0436d9eac20eecc004a12"
      }
     },
     "e5e9ed513ccd41dc813be5ff72ce60b5": {
      "model_module": "@jupyter-widgets/controls",
      "model_module_version": "1.5.0",
      "model_name": "HBoxModel",
      "state": {
       "children": [
        "IPY_MODEL_4b7b5f7010d0457fb66771e8ae03be2a",
        "IPY_MODEL_dfd81cc1e9fd417db3d8de9b9bd4d6c8"
       ],
       "layout": "IPY_MODEL_9d88ec8e693442c19c811e3752035253"
      }
     },
     "e5ea7b090cbe4459a9a8624e0ec4830d": {
      "model_module": "@jupyter-widgets/controls",
      "model_module_version": "1.5.0",
      "model_name": "DescriptionStyleModel",
      "state": {
       "description_width": ""
      }
     },
     "e63b992721d04eaeac552e8b9f62b4d1": {
      "model_module": "@jupyter-widgets/base",
      "model_module_version": "1.2.0",
      "model_name": "LayoutModel",
      "state": {}
     },
     "e6a9e79de5164d378fede13005b76ea2": {
      "model_module": "@jupyter-widgets/controls",
      "model_module_version": "1.5.0",
      "model_name": "DescriptionStyleModel",
      "state": {
       "description_width": ""
      }
     },
     "e6c5fa5f42dd4e1c82dbe71d615ec026": {
      "model_module": "@jupyter-widgets/base",
      "model_module_version": "1.2.0",
      "model_name": "LayoutModel",
      "state": {}
     },
     "e6e979b4825b48649c3d394064d6b352": {
      "model_module": "@jupyter-widgets/base",
      "model_module_version": "1.2.0",
      "model_name": "LayoutModel",
      "state": {}
     },
     "e6e99a79dc05416ab6960f61da0aa9f6": {
      "model_module": "@jupyter-widgets/controls",
      "model_module_version": "1.5.0",
      "model_name": "VBoxModel",
      "state": {
       "children": [
        "IPY_MODEL_b4b06c8610e14a1a8dd5360cd61956d1",
        "IPY_MODEL_c2001e4ddbfc4d72ae400c6868fd3327",
        "IPY_MODEL_550c3161e27e409e94fa6130e02859ae",
        "IPY_MODEL_98084d48dc1a46b5af2e89854acdb04c",
        "IPY_MODEL_2cce1ff82ee2420fbec96a4a2b468b99"
       ],
       "layout": "IPY_MODEL_c1497960df7f479d858c57b57b90b29b"
      }
     },
     "e6ecb94a5b4a4b019604c90165ab446d": {
      "model_module": "@jupyter-widgets/controls",
      "model_module_version": "1.5.0",
      "model_name": "CheckboxModel",
      "state": {
       "disabled": true,
       "layout": "IPY_MODEL_8dc37ca31aaa41e1abb154ac35eee1ab",
       "style": "IPY_MODEL_94240d745d4e4e49b2ff1e96b4b81ce2",
       "value": false
      }
     },
     "e6f1370ffb8147f2af2dc7c0cc92466f": {
      "model_module": "@jupyter-widgets/controls",
      "model_module_version": "1.5.0",
      "model_name": "CheckboxModel",
      "state": {
       "disabled": false,
       "layout": "IPY_MODEL_3bf0734bdca340249f59a7ecacc779df",
       "style": "IPY_MODEL_91b8f79495774701b0ac2621ae7882cd",
       "value": false
      }
     },
     "e70178839f244cbfa0a5ffad06f9ba83": {
      "model_module": "@jupyter-widgets/controls",
      "model_module_version": "1.5.0",
      "model_name": "LabelModel",
      "state": {
       "layout": "IPY_MODEL_02e6b4075ba54f7ca9ae4b4888853adc",
       "style": "IPY_MODEL_31189bc3c49b473b85463ced7e563293",
       "value": "fib(n - 1)"
      }
     },
     "e7284c8f035b4fa39c7903e738ee5d93": {
      "model_module": "@jupyter-widgets/base",
      "model_module_version": "1.2.0",
      "model_name": "LayoutModel",
      "state": {
       "grid_template_areas": "\"header header\"\n\"left-sidebar left-sidebar\"\n\"footer footer\"",
       "grid_template_columns": "1fr 1fr",
       "grid_template_rows": "1fr 3fr 1fr"
      }
     },
     "e73326c0045a43fc99a97193486c16de": {
      "model_module": "@jupyter-widgets/base",
      "model_module_version": "1.2.0",
      "model_name": "LayoutModel",
      "state": {
       "width": "30px"
      }
     },
     "e7a532823b55406d83f38c96470ad708": {
      "model_module": "@jupyter-widgets/controls",
      "model_module_version": "1.5.0",
      "model_name": "DescriptionStyleModel",
      "state": {
       "description_width": ""
      }
     },
     "e7c1676971ce4c64acfe291827615ec9": {
      "model_module": "@jupyter-widgets/controls",
      "model_module_version": "1.5.0",
      "model_name": "DescriptionStyleModel",
      "state": {
       "description_width": ""
      }
     },
     "e7f6cdb8cc234601b0e855be7b21b3e5": {
      "model_module": "@jupyter-widgets/base",
      "model_module_version": "1.2.0",
      "model_name": "LayoutModel",
      "state": {
       "width": "1000px"
      }
     },
     "e7f72a0f471846e9abba2d53f6cc805f": {
      "model_module": "@jupyter-widgets/controls",
      "model_module_version": "1.5.0",
      "model_name": "CheckboxModel",
      "state": {
       "disabled": false,
       "layout": "IPY_MODEL_bbb99287f1be4d84ae0190e54f1bd528",
       "style": "IPY_MODEL_eac0266012d841c686d438d4261dce81",
       "value": false
      }
     },
     "e8193f77109444febd12451c45b1b80e": {
      "model_module": "@jupyter-widgets/base",
      "model_module_version": "1.2.0",
      "model_name": "LayoutModel",
      "state": {}
     },
     "e81f346a861f4fe7a452e3d13b30b680": {
      "model_module": "@jupyter-widgets/base",
      "model_module_version": "1.2.0",
      "model_name": "LayoutModel",
      "state": {
       "width": "1000px"
      }
     },
     "e826300f8c6e405c8f95490a6d97a1a7": {
      "model_module": "@jupyter-widgets/base",
      "model_module_version": "1.2.0",
      "model_name": "LayoutModel",
      "state": {}
     },
     "e830afafba76420bb6d5e26d4712964c": {
      "model_module": "@jupyter-widgets/controls",
      "model_module_version": "1.5.0",
      "model_name": "DescriptionStyleModel",
      "state": {
       "description_width": "initial"
      }
     },
     "e890d220f8314537a3f7ef078b794796": {
      "model_module": "@jupyter-widgets/controls",
      "model_module_version": "1.5.0",
      "model_name": "DescriptionStyleModel",
      "state": {
       "description_width": ""
      }
     },
     "e89f9cae8d70436a8ed0090b96e31d2a": {
      "model_module": "@jupyter-widgets/controls",
      "model_module_version": "1.5.0",
      "model_name": "HBoxModel",
      "state": {
       "children": [
        "IPY_MODEL_60aefd8fc8cb456bba8ceab2a35040e7",
        "IPY_MODEL_14bcde07f0d448f98d78524e0f4d0560"
       ],
       "layout": "IPY_MODEL_d6b565009df04918ab3088adf9b3d30a"
      }
     },
     "e8e12763ead542d28d08425149f74b80": {
      "model_module": "@jupyter-widgets/base",
      "model_module_version": "1.2.0",
      "model_name": "LayoutModel",
      "state": {
       "align_items": "stretch",
       "display": "flex",
       "flex_flow": "row wrap",
       "grid_area": "left-sidebar",
       "width": "auto"
      }
     },
     "e90fe213e48640b699f5332e94a3caa8": {
      "model_module": "@jupyter-widgets/base",
      "model_module_version": "1.2.0",
      "model_name": "LayoutModel",
      "state": {}
     },
     "e92095d5ae464608a220f9c7d419d60d": {
      "model_module": "@jupyter-widgets/base",
      "model_module_version": "1.2.0",
      "model_name": "LayoutModel",
      "state": {}
     },
     "e932871069e94b7da79f9f090a2f7e25": {
      "model_module": "@jupyter-widgets/base",
      "model_module_version": "1.2.0",
      "model_name": "LayoutModel",
      "state": {}
     },
     "e9649239dd5d4da3a24208e3ccf43ac8": {
      "model_module": "@jupyter-widgets/controls",
      "model_module_version": "1.5.0",
      "model_name": "DescriptionStyleModel",
      "state": {
       "description_width": ""
      }
     },
     "e9e3dc99f8304e08aef33ab1925215da": {
      "model_module": "@jupyter-widgets/base",
      "model_module_version": "1.2.0",
      "model_name": "LayoutModel",
      "state": {
       "grid_area": "header"
      }
     },
     "e9edb2a3e01a48839b442cbd99b073b3": {
      "model_module": "@jupyter-widgets/controls",
      "model_module_version": "1.5.0",
      "model_name": "LabelModel",
      "state": {
       "layout": "IPY_MODEL_978d0a46b4be465baf7711a7d9581cbc",
       "style": "IPY_MODEL_2b708fbda9a34cd882cc107ad9440e8f",
       "value": "fib(n)"
      }
     },
     "ea8fabd8d81f4457a01b16e5034fa23a": {
      "model_module": "@jupyter-widgets/controls",
      "model_module_version": "1.5.0",
      "model_name": "LabelModel",
      "state": {
       "layout": "IPY_MODEL_dedfea7fc10549358e2bcec6bf441d11",
       "style": "IPY_MODEL_897d17a8ad054d768b6804ded4614d99"
      }
     },
     "eab9068acd4f4c88ae2a9bd7c5319f9b": {
      "model_module": "@jupyter-widgets/base",
      "model_module_version": "1.2.0",
      "model_name": "LayoutModel",
      "state": {
       "width": "30px"
      }
     },
     "eac0266012d841c686d438d4261dce81": {
      "model_module": "@jupyter-widgets/controls",
      "model_module_version": "1.5.0",
      "model_name": "DescriptionStyleModel",
      "state": {
       "description_width": "initial"
      }
     },
     "eb1957e85fc14e17a3ba5bf158cef09e": {
      "model_module": "@jupyter-widgets/controls",
      "model_module_version": "1.5.0",
      "model_name": "ButtonStyleModel",
      "state": {
       "button_color": "lightblue"
      }
     },
     "eb3c075177374ff282b465108395d983": {
      "model_module": "@jupyter-widgets/controls",
      "model_module_version": "1.5.0",
      "model_name": "CheckboxModel",
      "state": {
       "disabled": false,
       "layout": "IPY_MODEL_e0ca27f0415e40c4b092bdf1062f91c7",
       "style": "IPY_MODEL_cc6535c2174f43a0b559b8b501e2e907",
       "value": false
      }
     },
     "eb46bbde897d45148431c8b9f597269f": {
      "model_module": "@jupyter-widgets/controls",
      "model_module_version": "1.5.0",
      "model_name": "GridBoxModel",
      "state": {
       "box_style": "info",
       "children": [
        "IPY_MODEL_e25ada5adb924a5e926228f24cb56dc6",
        "IPY_MODEL_0655365949894566a561239dd6757c9a",
        "IPY_MODEL_08a2afc97a4643efb3186b57066536fe"
       ],
       "layout": "IPY_MODEL_4489058411824470bd29fdada64e7694"
      }
     },
     "eb9867dec837499ba84f15b89c16f46f": {
      "model_module": "@jupyter-widgets/base",
      "model_module_version": "1.2.0",
      "model_name": "LayoutModel",
      "state": {
       "grid_area": "header"
      }
     },
     "ebb4c846aad0466190e77abf84b6c0d4": {
      "model_module": "@jupyter-widgets/controls",
      "model_module_version": "1.5.0",
      "model_name": "CheckboxModel",
      "state": {
       "disabled": false,
       "layout": "IPY_MODEL_280a4a3cc2164d838502d66bad07436c",
       "style": "IPY_MODEL_77c4337465e0474494388b3c6762d811",
       "value": false
      }
     },
     "ebccb026dc36483cb0d88a7eed62e92f": {
      "model_module": "@jupyter-widgets/controls",
      "model_module_version": "1.5.0",
      "model_name": "LabelModel",
      "state": {
       "layout": "IPY_MODEL_4a670b36aae54863bfa1a6c0d628cc97",
       "style": "IPY_MODEL_0552324cb6db4523932a264ace7f9456"
      }
     },
     "ebd248296aeb4786a777eb46f3055c24": {
      "model_module": "@jupyter-widgets/base",
      "model_module_version": "1.2.0",
      "model_name": "LayoutModel",
      "state": {
       "width": "1000px"
      }
     },
     "ec4e38be78554c818b22ad718c1758c0": {
      "model_module": "@jupyter-widgets/controls",
      "model_module_version": "1.5.0",
      "model_name": "ButtonStyleModel",
      "state": {
       "button_color": "lightblue"
      }
     },
     "ec502035a43740fc82fa5f090b93a65b": {
      "model_module": "@jupyter-widgets/base",
      "model_module_version": "1.2.0",
      "model_name": "LayoutModel",
      "state": {}
     },
     "ec86911a0cff4d7487ca61e356ea6ab6": {
      "model_module": "@jupyter-widgets/base",
      "model_module_version": "1.2.0",
      "model_name": "LayoutModel",
      "state": {}
     },
     "ec8a6809248b47debb63b299cd06b73b": {
      "model_module": "@jupyter-widgets/base",
      "model_module_version": "1.2.0",
      "model_name": "LayoutModel",
      "state": {
       "grid_template_areas": "\"header header\"\n\"left-sidebar left-sidebar\"\n\"footer footer\"",
       "grid_template_columns": "1fr 1fr",
       "grid_template_rows": "1fr 3fr 1fr"
      }
     },
     "eca67df2dd8a4581957f6dba66b5e51b": {
      "model_module": "@jupyter-widgets/controls",
      "model_module_version": "1.5.0",
      "model_name": "VBoxModel",
      "state": {
       "children": [
        "IPY_MODEL_f6bfb84327404ca9af0bb3aea5e32e81"
       ],
       "layout": "IPY_MODEL_4596e2f8f4a84f75b72a92b6717d48d6"
      }
     },
     "ecbf4503fafc489fb56f11382248b7e6": {
      "model_module": "@jupyter-widgets/base",
      "model_module_version": "1.2.0",
      "model_name": "LayoutModel",
      "state": {}
     },
     "eccff738a0c14da19919478be04dbe09": {
      "model_module": "@jupyter-widgets/base",
      "model_module_version": "1.2.0",
      "model_name": "LayoutModel",
      "state": {
       "width": "1000px"
      }
     },
     "ecd90b81b901435693858faf97aac1b7": {
      "model_module": "@jupyter-widgets/controls",
      "model_module_version": "1.5.0",
      "model_name": "HBoxModel",
      "state": {
       "children": [
        "IPY_MODEL_b952e55dfaa646eaaecf6a44c9098452",
        "IPY_MODEL_414d1a66b2614ec38e54511face24167"
       ],
       "layout": "IPY_MODEL_943f02bed6a940fa89be9d09fdb149ac"
      }
     },
     "ecfd49d765f24b0ca57a0da6b6cbd89d": {
      "model_module": "@jupyter-widgets/base",
      "model_module_version": "1.2.0",
      "model_name": "LayoutModel",
      "state": {
       "align_items": "stretch",
       "display": "flex",
       "flex_flow": "column",
       "grid_template_areas": "\"header header\"\n\"left-sidebar left-sidebar\"\n\"footer footer\"",
       "grid_template_columns": "1fr 1fr",
       "grid_template_rows": "1fr 3fr 1fr",
       "width": "100%"
      }
     },
     "eda0102ac5434adf98a7f4a71e8ef7e7": {
      "model_module": "@jupyter-widgets/controls",
      "model_module_version": "1.5.0",
      "model_name": "HBoxModel",
      "state": {
       "children": [
        "IPY_MODEL_ff269ab4c318465ea58b41292d810853",
        "IPY_MODEL_d9b3dbeb4a164e6e8c6b3e393975f9b6"
       ],
       "layout": "IPY_MODEL_769aad5dc0484964bc21ed43e0e74a43"
      }
     },
     "eddc97d256f1445c8b06ecc0565ea19d": {
      "model_module": "@jupyter-widgets/controls",
      "model_module_version": "1.5.0",
      "model_name": "HBoxModel",
      "state": {
       "children": [
        "IPY_MODEL_d0d72aef75ff4d268f7f1106b58f7324",
        "IPY_MODEL_916c37b05df24671a76c5cba332d01c3"
       ],
       "layout": "IPY_MODEL_71f6263c0ed84c32a61ab978ac9a77ab"
      }
     },
     "ee5fafbd412949f2bed8aa375635231b": {
      "model_module": "@jupyter-widgets/base",
      "model_module_version": "1.2.0",
      "model_name": "LayoutModel",
      "state": {}
     },
     "ee8de883452a4b2aae9e511fdcfea709": {
      "model_module": "@jupyter-widgets/controls",
      "model_module_version": "1.5.0",
      "model_name": "ButtonStyleModel",
      "state": {
       "button_color": "lightblue"
      }
     },
     "ee97f49e0af84b1194be4328301c58a1": {
      "model_module": "@jupyter-widgets/base",
      "model_module_version": "1.2.0",
      "model_name": "LayoutModel",
      "state": {}
     },
     "eecaf72c85d24df59a970badfdc1cb80": {
      "model_module": "@jupyter-widgets/controls",
      "model_module_version": "1.5.0",
      "model_name": "LabelModel",
      "state": {
       "layout": "IPY_MODEL_70df2fbb753f4dc38485c60267c7a01d",
       "style": "IPY_MODEL_01dee016efa24901b498251e8385587f"
      }
     },
     "eed9d7f6e31b4122a75826e0e04beda0": {
      "model_module": "@jupyter-widgets/controls",
      "model_module_version": "1.5.0",
      "model_name": "ButtonModel",
      "state": {
       "description": "Submit",
       "layout": "IPY_MODEL_6cbe228bba124cd1aea4908c59dae12a",
       "style": "IPY_MODEL_6a56cc8f9f38401f938847595ca90b86"
      }
     },
     "eef3d3f1103f49c08553f682f78494ce": {
      "model_module": "@jupyter-widgets/controls",
      "model_module_version": "1.5.0",
      "model_name": "DescriptionStyleModel",
      "state": {
       "description_width": ""
      }
     },
     "eefebf521a504b5488cfac921f9f3f44": {
      "model_module": "@jupyter-widgets/controls",
      "model_module_version": "1.5.0",
      "model_name": "HBoxModel",
      "state": {
       "children": [
        "IPY_MODEL_085a6bc1673944139a6dc6aacbf834a6",
        "IPY_MODEL_f7e5134b3a6b4f3a8348081ae96eefb1"
       ],
       "layout": "IPY_MODEL_6c0204f4ee434f75aec194fbb098ac82"
      }
     },
     "ef0c6106dc3e495e97009f9f9b8c85ef": {
      "model_module": "@jupyter-widgets/controls",
      "model_module_version": "1.5.0",
      "model_name": "DescriptionStyleModel",
      "state": {
       "description_width": ""
      }
     },
     "ef21a8b7e4a64653af7296f62bb7c8b1": {
      "model_module": "@jupyter-widgets/base",
      "model_module_version": "1.2.0",
      "model_name": "LayoutModel",
      "state": {}
     },
     "ef361607235744ab80e8ede385e9131c": {
      "model_module": "@jupyter-widgets/controls",
      "model_module_version": "1.5.0",
      "model_name": "DescriptionStyleModel",
      "state": {
       "description_width": ""
      }
     },
     "ef3edee4f2c94e63971253b515777720": {
      "model_module": "@jupyter-widgets/base",
      "model_module_version": "1.2.0",
      "model_name": "LayoutModel",
      "state": {
       "grid_area": "header"
      }
     },
     "ef62b9d1fe1946d885c3e7d920db069f": {
      "model_module": "@jupyter-widgets/controls",
      "model_module_version": "1.5.0",
      "model_name": "HBoxModel",
      "state": {
       "children": [
        "IPY_MODEL_81383f47de15461eb75003090a2b7ccb",
        "IPY_MODEL_4ed207d6d50e4b529d60d75568223776"
       ],
       "layout": "IPY_MODEL_d684803de4de430c9b8ef279f20e97e9"
      }
     },
     "ef7baee3e3aa4ed287a094a660910c03": {
      "model_module": "@jupyter-widgets/base",
      "model_module_version": "1.2.0",
      "model_name": "LayoutModel",
      "state": {}
     },
     "efbab440a6aa4e0d84f8dcaa4412c795": {
      "model_module": "@jupyter-widgets/controls",
      "model_module_version": "1.5.0",
      "model_name": "DescriptionStyleModel",
      "state": {
       "description_width": ""
      }
     },
     "efd21d518dde4e20afe5d2edee7a02c5": {
      "model_module": "@jupyter-widgets/controls",
      "model_module_version": "1.5.0",
      "model_name": "DescriptionStyleModel",
      "state": {
       "description_width": "initial"
      }
     },
     "efd23594330340bc87c3004eeee7c821": {
      "model_module": "@jupyter-widgets/controls",
      "model_module_version": "1.5.0",
      "model_name": "DescriptionStyleModel",
      "state": {
       "description_width": ""
      }
     },
     "f0094e52dce7474eaa066047c05bac7f": {
      "model_module": "@jupyter-widgets/base",
      "model_module_version": "1.2.0",
      "model_name": "LayoutModel",
      "state": {
       "width": "1000px"
      }
     },
     "f017656b51c544aebbffef57d3e0337f": {
      "model_module": "@jupyter-widgets/base",
      "model_module_version": "1.2.0",
      "model_name": "LayoutModel",
      "state": {
       "width": "30px"
      }
     },
     "f01f422dd1064a15b87a7466631a4014": {
      "model_module": "@jupyter-widgets/base",
      "model_module_version": "1.2.0",
      "model_name": "LayoutModel",
      "state": {}
     },
     "f084855e3ee24e2cb9b6d1480705b28d": {
      "model_module": "@jupyter-widgets/base",
      "model_module_version": "1.2.0",
      "model_name": "LayoutModel",
      "state": {}
     },
     "f0b6a06fd741426daf8197817a3b4d3d": {
      "model_module": "@jupyter-widgets/base",
      "model_module_version": "1.2.0",
      "model_name": "LayoutModel",
      "state": {
       "width": "30px"
      }
     },
     "f0d0503862d849528a31bbec869f4218": {
      "model_module": "@jupyter-widgets/controls",
      "model_module_version": "1.5.0",
      "model_name": "HBoxModel",
      "state": {
       "children": [
        "IPY_MODEL_fab81ec1f6544784a877307a04f1e194",
        "IPY_MODEL_36fef048bfcf4b8c88878a912803a170"
       ],
       "layout": "IPY_MODEL_aa1a697d686c47fb8b151f53fcdc6ea4"
      }
     },
     "f0d3363fc54c441bb07e478727eecdf5": {
      "model_module": "@jupyter-widgets/base",
      "model_module_version": "1.2.0",
      "model_name": "LayoutModel",
      "state": {}
     },
     "f0f26f6dc34a40f2beb872e42b4237b5": {
      "model_module": "@jupyter-widgets/controls",
      "model_module_version": "1.5.0",
      "model_name": "DescriptionStyleModel",
      "state": {
       "description_width": "initial"
      }
     },
     "f1346a96d8a34811b070b211d57e9851": {
      "model_module": "@jupyter-widgets/controls",
      "model_module_version": "1.5.0",
      "model_name": "CheckboxModel",
      "state": {
       "disabled": false,
       "layout": "IPY_MODEL_2204be8744c14ab3918580df486b0015",
       "style": "IPY_MODEL_98ad2f345b8e447993b263592575b578",
       "value": false
      }
     },
     "f1a5509b9c9b42d4b8ed2edd72a840d0": {
      "model_module": "@jupyter-widgets/controls",
      "model_module_version": "1.5.0",
      "model_name": "HBoxModel",
      "state": {
       "children": [
        "IPY_MODEL_2e42ff9ab5d74e0fb234c91c159df728",
        "IPY_MODEL_a7e84acd5dd94c85bd2cd83204e8055d"
       ],
       "layout": "IPY_MODEL_9f02065640fe4836b2a54b8c32ea3cf4"
      }
     },
     "f1b6555831b645fa89d8b4719fc73aaf": {
      "model_module": "@jupyter-widgets/controls",
      "model_module_version": "1.5.0",
      "model_name": "LabelModel",
      "state": {
       "layout": "IPY_MODEL_d89c1213d2e745f0b4a397ae9f523251",
       "style": "IPY_MODEL_99b26020c4ac4a1f9eac3e1b8e698f02",
       "value": "fib(k - 1)"
      }
     },
     "f1cd8a3e805a4cdf841442bbc56b8195": {
      "model_module": "@jupyter-widgets/controls",
      "model_module_version": "1.5.0",
      "model_name": "DescriptionStyleModel",
      "state": {
       "description_width": "initial"
      }
     },
     "f1e6da3490f64c94abbe2262af0ac397": {
      "model_module": "@jupyter-widgets/base",
      "model_module_version": "1.2.0",
      "model_name": "LayoutModel",
      "state": {}
     },
     "f1fc69d8184a4b79bb160be7ec6db833": {
      "model_module": "@jupyter-widgets/base",
      "model_module_version": "1.2.0",
      "model_name": "LayoutModel",
      "state": {}
     },
     "f218b248be5f4265972a12128f113ad4": {
      "model_module": "@jupyter-widgets/controls",
      "model_module_version": "1.5.0",
      "model_name": "LabelModel",
      "state": {
       "layout": "IPY_MODEL_0ac4a593323c447db5e63267637c0701",
       "style": "IPY_MODEL_904f550744db4f02b0615f5e9590bef0"
      }
     },
     "f24b786df98245bf832ef0013daa1729": {
      "model_module": "@jupyter-widgets/base",
      "model_module_version": "1.2.0",
      "model_name": "LayoutModel",
      "state": {}
     },
     "f28ea5ba97e549c297ea121eb2dbca8f": {
      "model_module": "@jupyter-widgets/controls",
      "model_module_version": "1.5.0",
      "model_name": "HBoxModel",
      "state": {
       "children": [
        "IPY_MODEL_a3fcbe098b9b425cbf457ca167584b06",
        "IPY_MODEL_fbca39f45e3a4d79bdb10580f0797443"
       ],
       "layout": "IPY_MODEL_c847ecef7a6e4d76b4b4d61c6e5f0405"
      }
     },
     "f29cb5b463c746a7b4f2d67a09879e53": {
      "model_module": "@jupyter-widgets/base",
      "model_module_version": "1.2.0",
      "model_name": "LayoutModel",
      "state": {}
     },
     "f2cf81a188df4329b4577faed1ff9052": {
      "model_module": "@jupyter-widgets/controls",
      "model_module_version": "1.5.0",
      "model_name": "CheckboxModel",
      "state": {
       "disabled": false,
       "layout": "IPY_MODEL_7edc4ba988174ef485d34ab7f1be85cc",
       "style": "IPY_MODEL_be776641a17946b7acb1dd17a7d86d12",
       "value": false
      }
     },
     "f2d8a3b6987c4f3490a22816428bd181": {
      "model_module": "@jupyter-widgets/controls",
      "model_module_version": "1.5.0",
      "model_name": "DescriptionStyleModel",
      "state": {
       "description_width": ""
      }
     },
     "f2f102061e4741afb8dff4052d99878d": {
      "model_module": "@jupyter-widgets/controls",
      "model_module_version": "1.5.0",
      "model_name": "DescriptionStyleModel",
      "state": {
       "description_width": "initial"
      }
     },
     "f3303d339e414831a7feedd2488203d7": {
      "model_module": "@jupyter-widgets/base",
      "model_module_version": "1.2.0",
      "model_name": "LayoutModel",
      "state": {}
     },
     "f34b8e6dca33421d894c0c2b9b006e83": {
      "model_module": "@jupyter-widgets/base",
      "model_module_version": "1.2.0",
      "model_name": "LayoutModel",
      "state": {
       "grid_template_areas": "\"header header\"\n\"left-sidebar left-sidebar\"\n\"footer footer\"",
       "grid_template_columns": "1fr 1fr",
       "grid_template_rows": "1fr 3fr 1fr"
      }
     },
     "f3536c06b8914da297264606da469939": {
      "model_module": "@jupyter-widgets/base",
      "model_module_version": "1.2.0",
      "model_name": "LayoutModel",
      "state": {
       "align_items": "stretch",
       "display": "flex",
       "flex_flow": "row wrap",
       "grid_area": "footer",
       "margin": "30px 0 0 0"
      }
     },
     "f37f159a5a6544b8b1389a71477ce7ab": {
      "model_module": "@jupyter-widgets/controls",
      "model_module_version": "1.5.0",
      "model_name": "LabelModel",
      "state": {
       "layout": "IPY_MODEL_44f6f9e6efdb440ca5cb912c5669e231",
       "style": "IPY_MODEL_6d49056aed554f5b8069be11eec7562b"
      }
     },
     "f39ad88c9a354ebe99270655ed69d232": {
      "model_module": "@jupyter-widgets/base",
      "model_module_version": "1.2.0",
      "model_name": "LayoutModel",
      "state": {
       "border": "2px solid green"
      }
     },
     "f3b706abfee94a198728bb5bad236999": {
      "model_module": "@jupyter-widgets/controls",
      "model_module_version": "1.5.0",
      "model_name": "DescriptionStyleModel",
      "state": {
       "description_width": ""
      }
     },
     "f3c30c9870234337b58f4b67ba4beba4": {
      "model_module": "@jupyter-widgets/controls",
      "model_module_version": "1.5.0",
      "model_name": "HBoxModel",
      "state": {
       "children": [
        "IPY_MODEL_3f1579f192664be698c79fd939f25ae6",
        "IPY_MODEL_c6485adc680a478d85c1851e00bc671a"
       ],
       "layout": "IPY_MODEL_f44004dcd6e4407584c450cfc46f58e3"
      }
     },
     "f3d81a3b5b694c7d8c66fcef817c18df": {
      "model_module": "@jupyter-widgets/controls",
      "model_module_version": "1.5.0",
      "model_name": "ButtonStyleModel",
      "state": {
       "button_color": "lightblue"
      }
     },
     "f4063f23bbc94eb6bf29be56fe0b2785": {
      "model_module": "@jupyter-widgets/base",
      "model_module_version": "1.2.0",
      "model_name": "LayoutModel",
      "state": {}
     },
     "f40e692a364d46409f0b472dba210e21": {
      "model_module": "@jupyter-widgets/controls",
      "model_module_version": "1.5.0",
      "model_name": "ButtonStyleModel",
      "state": {
       "button_color": "lightblue"
      }
     },
     "f44004dcd6e4407584c450cfc46f58e3": {
      "model_module": "@jupyter-widgets/base",
      "model_module_version": "1.2.0",
      "model_name": "LayoutModel",
      "state": {}
     },
     "f4845a097a7c4ebc975db1498bc44023": {
      "model_module": "@jupyter-widgets/controls",
      "model_module_version": "1.5.0",
      "model_name": "CheckboxModel",
      "state": {
       "disabled": false,
       "layout": "IPY_MODEL_d41e9c7d965d4a58aff65dbc406b5a96",
       "style": "IPY_MODEL_9a7f0f88cdd64a8b99360256d8131b83",
       "value": false
      }
     },
     "f4879852ed56439ea103555369b5d507": {
      "model_module": "@jupyter-widgets/controls",
      "model_module_version": "1.5.0",
      "model_name": "LabelModel",
      "state": {
       "layout": "IPY_MODEL_e391a29af3a24e718ce8ab1e41948883",
       "style": "IPY_MODEL_077e12e98a494348aa4764a717ec375d"
      }
     },
     "f4a0357934564ef2a86c7045048a2220": {
      "model_module": "@jupyter-widgets/base",
      "model_module_version": "1.2.0",
      "model_name": "LayoutModel",
      "state": {
       "grid_template_areas": "\"header header\"\n\"left-sidebar left-sidebar\"\n\"footer footer\"",
       "grid_template_columns": "1fr 1fr",
       "grid_template_rows": "1fr 3fr 1fr"
      }
     },
     "f4b10eb23699419e8e80f7ddc8160d4a": {
      "model_module": "@jupyter-widgets/base",
      "model_module_version": "1.2.0",
      "model_name": "LayoutModel",
      "state": {}
     },
     "f4cdd8d221e8456e9ac8e3d222c05cb2": {
      "model_module": "@jupyter-widgets/base",
      "model_module_version": "1.2.0",
      "model_name": "LayoutModel",
      "state": {}
     },
     "f4d42f1b556f4845a7145d5630a51895": {
      "model_module": "@jupyter-widgets/controls",
      "model_module_version": "1.5.0",
      "model_name": "DescriptionStyleModel",
      "state": {
       "description_width": ""
      }
     },
     "f4d87e186f4542f5a858e4c2810acffe": {
      "model_module": "@jupyter-widgets/controls",
      "model_module_version": "1.5.0",
      "model_name": "ButtonStyleModel",
      "state": {
       "button_color": "lightblue"
      }
     },
     "f4e77ca8910c43bf81ff4ce8a7ef3128": {
      "model_module": "@jupyter-widgets/controls",
      "model_module_version": "1.5.0",
      "model_name": "HBoxModel",
      "state": {
       "children": [
        "IPY_MODEL_ce1792e8fbf44d7ca053794004c1e06c",
        "IPY_MODEL_e5e9ed513ccd41dc813be5ff72ce60b5"
       ],
       "layout": "IPY_MODEL_6c45060c455c48d4a75fe80985c22a53"
      }
     },
     "f4eb8f83483a49bb80a6cf7b00cb956b": {
      "model_module": "@jupyter-widgets/base",
      "model_module_version": "1.2.0",
      "model_name": "LayoutModel",
      "state": {}
     },
     "f4eefb6bde094e289e76761117db8133": {
      "model_module": "@jupyter-widgets/base",
      "model_module_version": "1.2.0",
      "model_name": "LayoutModel",
      "state": {}
     },
     "f535f808006b45a382aea2e0fa46b2d1": {
      "model_module": "@jupyter-widgets/base",
      "model_module_version": "1.2.0",
      "model_name": "LayoutModel",
      "state": {}
     },
     "f53fc5dec41f4816b911842bb457a769": {
      "model_module": "@jupyter-widgets/base",
      "model_module_version": "1.2.0",
      "model_name": "LayoutModel",
      "state": {
       "width": "1000px"
      }
     },
     "f57ed9c12ac44b47954a958a93b89fa4": {
      "model_module": "@jupyter-widgets/controls",
      "model_module_version": "1.5.0",
      "model_name": "DescriptionStyleModel",
      "state": {
       "description_width": ""
      }
     },
     "f59ffb564c9844bc887eee4a89f0695e": {
      "model_module": "@jupyter-widgets/base",
      "model_module_version": "1.2.0",
      "model_name": "LayoutModel",
      "state": {}
     },
     "f5b8cdcbca13420ba7a7f27f527bb25b": {
      "model_module": "@jupyter-widgets/base",
      "model_module_version": "1.2.0",
      "model_name": "LayoutModel",
      "state": {
       "width": "30px"
      }
     },
     "f5bb25c296834dd39f908c1fdc80010a": {
      "model_module": "@jupyter-widgets/base",
      "model_module_version": "1.2.0",
      "model_name": "LayoutModel",
      "state": {}
     },
     "f5ef80f69e45431abd154121ab699cda": {
      "model_module": "@jupyter-widgets/controls",
      "model_module_version": "1.5.0",
      "model_name": "HBoxModel",
      "state": {
       "children": [
        "IPY_MODEL_871dedec9d66410c9ce378f0aa5878cc",
        "IPY_MODEL_93f800cd57b2467ca9b0d2b5be11212b"
       ],
       "layout": "IPY_MODEL_375a8958a6684706bb9c6299f5c617ff"
      }
     },
     "f6016b1357074c898d5f66f4ccdf428e": {
      "model_module": "@jupyter-widgets/controls",
      "model_module_version": "1.5.0",
      "model_name": "ButtonStyleModel",
      "state": {
       "button_color": "lightblue"
      }
     },
     "f65bb735a5754cafa74f07457c6e9531": {
      "model_module": "@jupyter-widgets/controls",
      "model_module_version": "1.5.0",
      "model_name": "LabelModel",
      "state": {
       "layout": "IPY_MODEL_87861d23f5cc42e783c3f3332b5d28a6",
       "style": "IPY_MODEL_037cef3238c2412998bf183211827bf3"
      }
     },
     "f6636ffbd22a4496a55177c93af46d7d": {
      "model_module": "@jupyter-widgets/base",
      "model_module_version": "1.2.0",
      "model_name": "LayoutModel",
      "state": {}
     },
     "f69bdbaeafc64ea7b7cecb835ed25405": {
      "model_module": "@jupyter-widgets/base",
      "model_module_version": "1.2.0",
      "model_name": "LayoutModel",
      "state": {}
     },
     "f6bfb84327404ca9af0bb3aea5e32e81": {
      "model_module": "@jupyter-widgets/controls",
      "model_module_version": "1.5.0",
      "model_name": "HBoxModel",
      "state": {
       "children": [
        "IPY_MODEL_381c57a2abff4f048a62611350c5fd16",
        "IPY_MODEL_fa30c11cb16f4861b17ebafd30e7ed5f"
       ],
       "layout": "IPY_MODEL_c5d7b2e7aaf94d2a98233a3da403eb22"
      }
     },
     "f6cb1d20a55742c4b2a95a269b5f6286": {
      "model_module": "@jupyter-widgets/base",
      "model_module_version": "1.2.0",
      "model_name": "LayoutModel",
      "state": {
       "width": "30px"
      }
     },
     "f6f5ff21746a45deb1746b7baf828f70": {
      "model_module": "@jupyter-widgets/controls",
      "model_module_version": "1.5.0",
      "model_name": "LabelModel",
      "state": {
       "layout": "IPY_MODEL_cb5614baa2a54a3fb5468952956555cc",
       "style": "IPY_MODEL_e890d220f8314537a3f7ef078b794796"
      }
     },
     "f70805bcef134fd4b1f7d48f55901edc": {
      "model_module": "@jupyter-widgets/base",
      "model_module_version": "1.2.0",
      "model_name": "LayoutModel",
      "state": {
       "width": "500px"
      }
     },
     "f70c4c2eed344e9b9acadb15aa797d23": {
      "model_module": "@jupyter-widgets/base",
      "model_module_version": "1.2.0",
      "model_name": "LayoutModel",
      "state": {}
     },
     "f75627cb8f8f4696bd8830c7312b44f5": {
      "model_module": "@jupyter-widgets/controls",
      "model_module_version": "1.5.0",
      "model_name": "CheckboxModel",
      "state": {
       "disabled": true,
       "layout": "IPY_MODEL_74c8b388ce854c4a95311bcf29a12b4a",
       "style": "IPY_MODEL_28dd00b069eb48768e63008f2d26c33b",
       "value": false
      }
     },
     "f78bc193a8324ea99eb5e0864707363c": {
      "model_module": "@jupyter-widgets/controls",
      "model_module_version": "1.5.0",
      "model_name": "DescriptionStyleModel",
      "state": {
       "description_width": ""
      }
     },
     "f7949a0d6bd94786874b43f3f1dd4fb2": {
      "model_module": "@jupyter-widgets/controls",
      "model_module_version": "1.5.0",
      "model_name": "DescriptionStyleModel",
      "state": {
       "description_width": ""
      }
     },
     "f7e5134b3a6b4f3a8348081ae96eefb1": {
      "model_module": "@jupyter-widgets/controls",
      "model_module_version": "1.5.0",
      "model_name": "HBoxModel",
      "state": {
       "children": [
        "IPY_MODEL_c0396dbee7ad4ebf818c8fde0437cf61",
        "IPY_MODEL_dd0340bb5edf43cea2e84c6694a39b0d"
       ],
       "layout": "IPY_MODEL_00d0958b71a246bfae0acbdfc751a02f"
      }
     },
     "f7e9789188fd43f6bd6caa0f2bd60a12": {
      "model_module": "@jupyter-widgets/controls",
      "model_module_version": "1.5.0",
      "model_name": "HBoxModel",
      "state": {
       "children": [
        "IPY_MODEL_2b5045a6152c4780aae0923cea3d5342",
        "IPY_MODEL_80d3080feef44bd1b7e6720b668c9d11"
       ],
       "layout": "IPY_MODEL_211272ad8cea4bff95482b3f51672aad"
      }
     },
     "f7fd4d432e214779af4b1113b4474fde": {
      "model_module": "@jupyter-widgets/controls",
      "model_module_version": "1.5.0",
      "model_name": "LabelModel",
      "state": {
       "layout": "IPY_MODEL_032b5654c7cc45d8a32478f6583f03ae",
       "style": "IPY_MODEL_9bf9b8ff106c4b209fdb4d9cc6b262fb"
      }
     },
     "f832d0e6de384da1ba1fdb38e7b8c6f0": {
      "model_module": "@jupyter-widgets/base",
      "model_module_version": "1.2.0",
      "model_name": "LayoutModel",
      "state": {
       "grid_area": "footer"
      }
     },
     "f86c8960e99f433fa52b0deeb58bbc98": {
      "model_module": "@jupyter-widgets/controls",
      "model_module_version": "1.5.0",
      "model_name": "LabelModel",
      "state": {
       "layout": "IPY_MODEL_b532feeeb0fc4cd69d2a9ca590f0ee82",
       "style": "IPY_MODEL_585ca937b6944cbb9100ae619a7f19d0",
       "value": "How many calls to $fib(2)$ and to $fib(1)$ does $fib(8)$ make?"
      }
     },
     "f8a2ac18e0f94d68b41995448125749a": {
      "model_module": "@jupyter-widgets/controls",
      "model_module_version": "1.5.0",
      "model_name": "DescriptionStyleModel",
      "state": {
       "description_width": ""
      }
     },
     "f8ec64fa708647519bf7de472c8fbfc2": {
      "model_module": "@jupyter-widgets/base",
      "model_module_version": "1.2.0",
      "model_name": "LayoutModel",
      "state": {}
     },
     "f918ce4e5eac4627a84a1bef8194c424": {
      "model_module": "@jupyter-widgets/controls",
      "model_module_version": "1.5.0",
      "model_name": "LabelModel",
      "state": {
       "layout": "IPY_MODEL_83fc5bc68ac64809ba9614679ad92c99",
       "style": "IPY_MODEL_a52d998ceb7c4971844d1190f41e9d92",
       "value": "$fib(2)$ is called $13$ times and $fib(1)$ is called $8$ times"
      }
     },
     "f91d2e962c1a49eebc1944bad8ce50a5": {
      "model_module": "@jupyter-widgets/controls",
      "model_module_version": "1.5.0",
      "model_name": "LabelModel",
      "state": {
       "layout": "IPY_MODEL_e183290c0a9349838f7657becc2514d7",
       "style": "IPY_MODEL_60c05ca2db3d4362b0a3cbc6491f6466",
       "value": "Correct!"
      }
     },
     "f92a1373113049d7abdb76bc6549d0be": {
      "model_module": "@jupyter-widgets/controls",
      "model_module_version": "1.5.0",
      "model_name": "DescriptionStyleModel",
      "state": {
       "description_width": ""
      }
     },
     "f92ce207c7b644bdafa09b13b2a41e7c": {
      "model_module": "@jupyter-widgets/base",
      "model_module_version": "1.2.0",
      "model_name": "LayoutModel",
      "state": {}
     },
     "f95618f7ff8646bb9893e644218752c6": {
      "model_module": "@jupyter-widgets/controls",
      "model_module_version": "1.5.0",
      "model_name": "VBoxModel",
      "state": {
       "children": [
        "IPY_MODEL_6cfce77461fb42f49a4819a4a878f355",
        "IPY_MODEL_7fea9178567243879ff3aaf906c7dd16",
        "IPY_MODEL_9a2d3c08ba724e50990403a5d9d9c7cc",
        "IPY_MODEL_247b909ebb224a2196df7af9b9a13385"
       ],
       "layout": "IPY_MODEL_558822ccd6d14f378b5ad5710e8f6a3b"
      }
     },
     "f959c100406d422999b95740b623c009": {
      "model_module": "@jupyter-widgets/controls",
      "model_module_version": "1.5.0",
      "model_name": "LabelModel",
      "state": {
       "layout": "IPY_MODEL_b1a88b0b4f814756b8d691d18a259572",
       "style": "IPY_MODEL_0fcdc0bd1a50478e949f5bb13fac589c"
      }
     },
     "f9614bcf8a39414cb24f4045e8062e8e": {
      "model_module": "@jupyter-widgets/controls",
      "model_module_version": "1.5.0",
      "model_name": "DescriptionStyleModel",
      "state": {
       "description_width": "initial"
      }
     },
     "f98cf75816ed4d2f8234e975dee71671": {
      "model_module": "@jupyter-widgets/controls",
      "model_module_version": "1.5.0",
      "model_name": "DescriptionStyleModel",
      "state": {
       "description_width": ""
      }
     },
     "f9ad2c56dc2d480193241c28911329a8": {
      "model_module": "@jupyter-widgets/controls",
      "model_module_version": "1.5.0",
      "model_name": "LabelModel",
      "state": {
       "layout": "IPY_MODEL_664a8b6b4e304338b99a76bd3bd03f90",
       "style": "IPY_MODEL_79ba0a7b353b460a9d9a259b5b2acb86",
       "value": "fib(n)"
      }
     },
     "f9da8fe73f1c47578dfabc780b90e513": {
      "model_module": "@jupyter-widgets/base",
      "model_module_version": "1.2.0",
      "model_name": "LayoutModel",
      "state": {}
     },
     "fa1b54d3ba9a421bb9760cd6f44f4a7b": {
      "model_module": "@jupyter-widgets/base",
      "model_module_version": "1.2.0",
      "model_name": "LayoutModel",
      "state": {}
     },
     "fa2f0ba2040a4c608842baeda183d6a5": {
      "model_module": "@jupyter-widgets/controls",
      "model_module_version": "1.5.0",
      "model_name": "HBoxModel",
      "state": {
       "children": [
        "IPY_MODEL_5d0a6cb9f24e4e13a338bdfb721b4abb",
        "IPY_MODEL_ca86d1ca65d140f49998a93673ab77f6"
       ],
       "layout": "IPY_MODEL_cdab0810675f4ce69afda59def94eab9"
      }
     },
     "fa30c11cb16f4861b17ebafd30e7ed5f": {
      "model_module": "@jupyter-widgets/controls",
      "model_module_version": "1.5.0",
      "model_name": "HBoxModel",
      "state": {
       "children": [
        "IPY_MODEL_048dee367436457cb641418fe3feae93",
        "IPY_MODEL_f9ad2c56dc2d480193241c28911329a8"
       ],
       "layout": "IPY_MODEL_d9d11b08fe7a496caaa38e673234c79b"
      }
     },
     "fa4071fcac164f2c899080fd759374e2": {
      "model_module": "@jupyter-widgets/controls",
      "model_module_version": "1.5.0",
      "model_name": "DescriptionStyleModel",
      "state": {
       "description_width": ""
      }
     },
     "fa685750cfb04b8d81a200cdede22433": {
      "model_module": "@jupyter-widgets/controls",
      "model_module_version": "1.5.0",
      "model_name": "LabelModel",
      "state": {
       "layout": "IPY_MODEL_6afa799c1c30473ca600e5072a6f3f21",
       "style": "IPY_MODEL_afd7e6048c1b4ff3a46940123f38f82b",
       "value": "fib(2) is called 5 times and fib(1) is called 8 times"
      }
     },
     "fa71f6a8bd5c4eb7bb55715e584857e7": {
      "model_module": "@jupyter-widgets/base",
      "model_module_version": "1.2.0",
      "model_name": "LayoutModel",
      "state": {}
     },
     "fa8df8219a8b4430b2b6522359b5bd3f": {
      "model_module": "@jupyter-widgets/base",
      "model_module_version": "1.2.0",
      "model_name": "LayoutModel",
      "state": {
       "width": "30px"
      }
     },
     "fa93d47a9c9448bbb02b4ac655e715c6": {
      "model_module": "@jupyter-widgets/controls",
      "model_module_version": "1.5.0",
      "model_name": "LabelModel",
      "state": {
       "layout": "IPY_MODEL_7eaa36db686f49c1b64effea4eb784ba",
       "style": "IPY_MODEL_5d2ee236b40441b589aba23701b7df6e"
      }
     },
     "fa94b5c53f7b4103a7a09e758ae6179b": {
      "model_module": "@jupyter-widgets/controls",
      "model_module_version": "1.5.0",
      "model_name": "DescriptionStyleModel",
      "state": {
       "description_width": ""
      }
     },
     "faa5cd2e19554b0c9c58871965251808": {
      "model_module": "@jupyter-widgets/base",
      "model_module_version": "1.2.0",
      "model_name": "LayoutModel",
      "state": {
       "grid_area": "header"
      }
     },
     "fab4cfb720e94bfb8ee36e10c0541c5c": {
      "model_module": "@jupyter-widgets/controls",
      "model_module_version": "1.5.0",
      "model_name": "DescriptionStyleModel",
      "state": {
       "description_width": ""
      }
     },
     "fab81ec1f6544784a877307a04f1e194": {
      "model_module": "@jupyter-widgets/controls",
      "model_module_version": "1.5.0",
      "model_name": "CheckboxModel",
      "state": {
       "disabled": false,
       "layout": "IPY_MODEL_0a3548c7bb0e48d1bb8f3c3565a9aea2",
       "style": "IPY_MODEL_a2270eb3ddeb4bcd8b7aab2597ccd2fb",
       "value": false
      }
     },
     "fac4d438d78946c0ba235efee1ef5756": {
      "model_module": "@jupyter-widgets/base",
      "model_module_version": "1.2.0",
      "model_name": "LayoutModel",
      "state": {
       "height": "50%",
       "margin": "0 0 0 30px",
       "width": "50%"
      }
     },
     "faf89434886242abb27ca629cea37ffb": {
      "model_module": "@jupyter-widgets/controls",
      "model_module_version": "1.5.0",
      "model_name": "HBoxModel",
      "state": {
       "children": [
        "IPY_MODEL_04c4b0dbc5c74999885da6d39f1f976f",
        "IPY_MODEL_aa7d97ded2a64d0ba2010fc8e07db1ba"
       ],
       "layout": "IPY_MODEL_a95d6374b5764c8b9b1f51801c311d89"
      }
     },
     "fb06ad5238264df59af7dcf152d47761": {
      "model_module": "@jupyter-widgets/base",
      "model_module_version": "1.2.0",
      "model_name": "LayoutModel",
      "state": {}
     },
     "fb1a6f4b003a416085191d37c39d4580": {
      "model_module": "@jupyter-widgets/base",
      "model_module_version": "1.2.0",
      "model_name": "LayoutModel",
      "state": {}
     },
     "fb229e64936345be80fd0fe358956f08": {
      "model_module": "@jupyter-widgets/controls",
      "model_module_version": "1.5.0",
      "model_name": "LabelModel",
      "state": {
       "layout": "IPY_MODEL_5932526987ba40908750e6907e45c407",
       "style": "IPY_MODEL_7574c9336a2c4b1ea4855a913648e0d0",
       "value": "fib(2) is called 8 times and fib(1) is called 13 times"
      }
     },
     "fb5bf9df108c4582a507c802f30a041b": {
      "model_module": "@jupyter-widgets/base",
      "model_module_version": "1.2.0",
      "model_name": "LayoutModel",
      "state": {
       "width": "1000px"
      }
     },
     "fb95f0bcce6f4ffa9884350ac122eda6": {
      "model_module": "@jupyter-widgets/base",
      "model_module_version": "1.2.0",
      "model_name": "LayoutModel",
      "state": {}
     },
     "fbc612dc5b9d47be93fde0c496a1e840": {
      "model_module": "@jupyter-widgets/base",
      "model_module_version": "1.2.0",
      "model_name": "LayoutModel",
      "state": {}
     },
     "fbca39f45e3a4d79bdb10580f0797443": {
      "model_module": "@jupyter-widgets/controls",
      "model_module_version": "1.5.0",
      "model_name": "HBoxModel",
      "state": {
       "children": [
        "IPY_MODEL_39c826fd657349869a7a0b07de8989d1",
        "IPY_MODEL_8f48a694747e48f79c9934283d36b602"
       ],
       "layout": "IPY_MODEL_a82d6263f8f74e23b9bee87eac713b76"
      }
     },
     "fbd2c8810d1f49ac82590afc67d02106": {
      "model_module": "@jupyter-widgets/controls",
      "model_module_version": "1.5.0",
      "model_name": "DescriptionStyleModel",
      "state": {
       "description_width": "initial"
      }
     },
     "fbe89e0c5aa54e4698c2b6de16e37a66": {
      "model_module": "@jupyter-widgets/controls",
      "model_module_version": "1.5.0",
      "model_name": "ButtonModel",
      "state": {
       "description": "Show answer",
       "disabled": true,
       "layout": "IPY_MODEL_0bc9be4c41f049a38d9a955b49bed3a8",
       "style": "IPY_MODEL_eb1957e85fc14e17a3ba5bf158cef09e"
      }
     },
     "fc1a036716a5444a9eb156dcbf486a1e": {
      "model_module": "@jupyter-widgets/base",
      "model_module_version": "1.2.0",
      "model_name": "LayoutModel",
      "state": {
       "width": "100px"
      }
     },
     "fcf53c5c558b46b4ba7dee824c890650": {
      "model_module": "@jupyter-widgets/base",
      "model_module_version": "1.2.0",
      "model_name": "LayoutModel",
      "state": {}
     },
     "fd0f570d80404dc3858a23b6d651f247": {
      "model_module": "@jupyter-widgets/controls",
      "model_module_version": "1.5.0",
      "model_name": "DescriptionStyleModel",
      "state": {
       "description_width": "initial"
      }
     },
     "fd2a9f7a83e24290b7aa8ac695709b13": {
      "model_module": "@jupyter-widgets/controls",
      "model_module_version": "1.5.0",
      "model_name": "DescriptionStyleModel",
      "state": {
       "description_width": ""
      }
     },
     "fd34cafa45614725b3bd8699f1f8e566": {
      "model_module": "@jupyter-widgets/base",
      "model_module_version": "1.2.0",
      "model_name": "LayoutModel",
      "state": {
       "width": "100px"
      }
     },
     "fd57c90a50a14c179b4e337a997bef9d": {
      "model_module": "@jupyter-widgets/base",
      "model_module_version": "1.2.0",
      "model_name": "LayoutModel",
      "state": {}
     },
     "fd7e01943b234cd3a2b649d9b1da1e1f": {
      "model_module": "@jupyter-widgets/controls",
      "model_module_version": "1.5.0",
      "model_name": "LabelModel",
      "state": {
       "layout": "IPY_MODEL_893530580d0f4c759b42df88384ca11d",
       "style": "IPY_MODEL_630a2b826ddd4884a7afd74e4050f6be",
       "value": "fib(k)"
      }
     },
     "fd80e5c829044c18a2dc77f582076c63": {
      "model_module": "@jupyter-widgets/controls",
      "model_module_version": "1.5.0",
      "model_name": "LabelModel",
      "state": {
       "layout": "IPY_MODEL_03a4996f4b8f4cd4a6571e8286986dc0",
       "style": "IPY_MODEL_fab4cfb720e94bfb8ee36e10c0541c5c"
      }
     },
     "fdbec74db414454490c1d8d368ce394a": {
      "model_module": "@jupyter-widgets/controls",
      "model_module_version": "1.5.0",
      "model_name": "GridBoxModel",
      "state": {
       "box_style": "success",
       "children": [
        "IPY_MODEL_e2960c5ec44941088771681da0b068b7",
        "IPY_MODEL_a6ae2903cc3349fc80354a7e42935d6d",
        "IPY_MODEL_3e20ad1745534059ba1fa904bbfcc347"
       ],
       "layout": "IPY_MODEL_c6077277ee3247a6b16b7b11787cec24"
      }
     },
     "fdc39e7f345e4e6285a6b7ac57185112": {
      "model_module": "@jupyter-widgets/controls",
      "model_module_version": "1.5.0",
      "model_name": "DescriptionStyleModel",
      "state": {
       "description_width": ""
      }
     },
     "fdf54c41c7694691a5aa39d2283aac30": {
      "model_module": "@jupyter-widgets/controls",
      "model_module_version": "1.5.0",
      "model_name": "CheckboxModel",
      "state": {
       "disabled": false,
       "layout": "IPY_MODEL_36a97e89ca504a6fb66317d821acfef5",
       "style": "IPY_MODEL_60e6dd01a245447eab850ab445f3dcbd",
       "value": false
      }
     },
     "fdff1f99d9d64a61b5e4b348de22bde9": {
      "model_module": "@jupyter-widgets/base",
      "model_module_version": "1.2.0",
      "model_name": "LayoutModel",
      "state": {
       "width": "100px"
      }
     },
     "fe181e94fe04483196454ae513392b58": {
      "model_module": "@jupyter-widgets/controls",
      "model_module_version": "1.5.0",
      "model_name": "DescriptionStyleModel",
      "state": {
       "description_width": ""
      }
     },
     "fe18d33136fa4f92a5d2636bb117f877": {
      "model_module": "@jupyter-widgets/base",
      "model_module_version": "1.2.0",
      "model_name": "LayoutModel",
      "state": {
       "width": "30px"
      }
     },
     "fe4f7513bce1442895e8f2ad5e188231": {
      "model_module": "@jupyter-widgets/base",
      "model_module_version": "1.2.0",
      "model_name": "LayoutModel",
      "state": {
       "width": "auto"
      }
     },
     "fe544b8ca69a4eac95e7d8d9a6c3f2aa": {
      "model_module": "@jupyter-widgets/controls",
      "model_module_version": "1.5.0",
      "model_name": "CheckboxModel",
      "state": {
       "disabled": false,
       "layout": "IPY_MODEL_d112c09ec41449218e4e255e19fe59f2",
       "style": "IPY_MODEL_f9614bcf8a39414cb24f4045e8062e8e",
       "value": false
      }
     },
     "fe61c5b74f7a473fbcc987a063008a4c": {
      "model_module": "@jupyter-widgets/controls",
      "model_module_version": "1.5.0",
      "model_name": "LabelModel",
      "state": {
       "layout": "IPY_MODEL_ddc9452474dc45e58214458f9b5da207",
       "style": "IPY_MODEL_022e0e9c830c43bfb301332ccd7f7e0b",
       "value": "fib(2) is called 13 times and fib(1) is called 8 times"
      }
     },
     "fe745013292a47438666650d26cd558e": {
      "model_module": "@jupyter-widgets/controls",
      "model_module_version": "1.5.0",
      "model_name": "LabelModel",
      "state": {
       "layout": "IPY_MODEL_16dd13fdfa6749559cb73f12a4e14638",
       "style": "IPY_MODEL_0634d0ed1bd243649c2e0cdda3f7e045"
      }
     },
     "fe8c725dd6f44f978f0c1731d0a3f4d9": {
      "model_module": "@jupyter-widgets/base",
      "model_module_version": "1.2.0",
      "model_name": "LayoutModel",
      "state": {}
     },
     "fea154e9b34546e4bd95e91a9e34516d": {
      "model_module": "@jupyter-widgets/controls",
      "model_module_version": "1.5.0",
      "model_name": "DescriptionStyleModel",
      "state": {
       "description_width": "initial"
      }
     },
     "fed5912e31b04c81a57b37955a4b48ce": {
      "model_module": "@jupyter-widgets/base",
      "model_module_version": "1.2.0",
      "model_name": "LayoutModel",
      "state": {
       "width": "30px"
      }
     },
     "fef431b5bbc54f54b98f9610c127e35e": {
      "model_module": "@jupyter-widgets/base",
      "model_module_version": "1.2.0",
      "model_name": "LayoutModel",
      "state": {
       "grid_area": "footer"
      }
     },
     "ff06c0f8089e4889b4113ca9b58e842a": {
      "model_module": "@jupyter-widgets/base",
      "model_module_version": "1.2.0",
      "model_name": "LayoutModel",
      "state": {
       "width": "30px"
      }
     },
     "ff1e8d95284f4a9eb3910c4a41b35adb": {
      "model_module": "@jupyter-widgets/base",
      "model_module_version": "1.2.0",
      "model_name": "LayoutModel",
      "state": {}
     },
     "ff269ab4c318465ea58b41292d810853": {
      "model_module": "@jupyter-widgets/controls",
      "model_module_version": "1.5.0",
      "model_name": "CheckboxModel",
      "state": {
       "disabled": false,
       "layout": "IPY_MODEL_186d294975b64b318b0920324869e9aa",
       "style": "IPY_MODEL_5868838d2fd241f1b3b566576f2d3b64",
       "value": false
      }
     },
     "ff48d29762e34e75a7b01ac14c351851": {
      "model_module": "@jupyter-widgets/controls",
      "model_module_version": "1.5.0",
      "model_name": "HBoxModel",
      "state": {
       "children": [
        "IPY_MODEL_8d6989c4cef345cb814ac0451687b379",
        "IPY_MODEL_71503d9c96c742d58758bd1f01728e51"
       ],
       "layout": "IPY_MODEL_b43ca28db9234dc0b61f3b00c7aa0309"
      }
     },
     "ff6be304c8164d52b781ded67daeffb9": {
      "model_module": "@jupyter-widgets/controls",
      "model_module_version": "1.5.0",
      "model_name": "LabelModel",
      "state": {
       "layout": "IPY_MODEL_5cdefb43aec64da5aa52d74e29595e6d",
       "style": "IPY_MODEL_4f06a19d5fe04c86a92afda6d07f10c5"
      }
     },
     "ff86bc5480fc47b996afa40656825e72": {
      "model_module": "@jupyter-widgets/base",
      "model_module_version": "1.2.0",
      "model_name": "LayoutModel",
      "state": {
       "width": "100px"
      }
     },
     "ffb873b003de4c75aa6c29f06e85f2e6": {
      "model_module": "@jupyter-widgets/controls",
      "model_module_version": "1.5.0",
      "model_name": "LabelModel",
      "state": {
       "layout": "IPY_MODEL_4ed0157f34a54dab870143240a13ba11",
       "style": "IPY_MODEL_b8b03244fcbc4f4aa112f48e4141ab1a",
       "value": "fib(2) is called 8 times and fib(1) is called 5 times"
      }
     }
    },
    "version_major": 2,
    "version_minor": 0
   }
  }
 },
 "nbformat": 4,
 "nbformat_minor": 4
}
