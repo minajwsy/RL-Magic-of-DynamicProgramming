{
 "cells": [
  {
   "cell_type": "markdown",
   "metadata": {},
   "source": [
    "# Lesson 1: Fibonacci Numbers <a class=\"tocSkip\">"
   ]
  },
  {
   "cell_type": "markdown",
   "metadata": {},
   "source": [
    "It's common to begin the study of dynamic programming using [Fibonacci numbers](https://en.wikipedia.org/wiki/Fibonacci_number) as an example. This is because they are literally a textbook example of transforming a recursive, top-down algorithm into an iterative, bottom-up one.\n",
    "\n",
    "However, unlike the the 'sum of n numbers' and 'palindrome' problems we explored previously, there is real motivation to make this transformation."
   ]
  },
  {
   "cell_type": "markdown",
   "metadata": {},
   "source": [
    "## Find the n'th Fibonacci number\n",
    "\n",
    "Fibonacci numbers form a series defined by a recurrence formula. In _our_ implementation, we'll start the Fibonacci series at n = 1:\n",
    "\n",
    "$$fib(1) = 1$$\n",
    "$$fib(2) = 1$$\n",
    "$$and~then~for~every~n > 2:F_{n} = F_{n-1} + F_{n-2}$$\n",
    "\n",
    "This gives us a series starting at n=1 that looks like this: $$1, 1, 2, 3, 5,8 ,13, 21, 34, 55, ...$$\n",
    "\n",
    "In the quizzes and analysis below, you'll see why it's convenient that we start at 1 (and not the usual mathematical definition that begins with 0)."
   ]
  },
  {
   "cell_type": "code",
   "execution_count": 1,
   "metadata": {
    "hide_input": true
   },
   "outputs": [
    {
     "data": {
      "image/jpeg": "[encoded data removed]",
      "text/html": [
       "\n",
       "        <iframe\n",
       "            width=\"400\"\n",
       "            height=\"300\"\n",
       "            src=\"https://www.youtube.com/embed/0jMoTRxQ52k\"\n",
       "            frameborder=\"0\"\n",
       "            allowfullscreen\n",
       "        ></iframe>\n",
       "        "
      ],
      "text/plain": [
       "<IPython.lib.display.YouTubeVideo at 0x1a928a9e288>"
      ]
     },
     "execution_count": 1,
     "metadata": {},
     "output_type": "execute_result"
    }
   ],
   "source": [
    "from IPython.display import YouTubeVideo\n",
    "YouTubeVideo('0jMoTRxQ52k')"
   ]
  },
  {
   "cell_type": "markdown",
   "metadata": {},
   "source": [
    "Let's first code up the naive recursive implementation of finding the n'th Fibonacci number."
   ]
  },
  {
   "cell_type": "code",
   "execution_count": 2,
   "metadata": {},
   "outputs": [],
   "source": [
    "def fib(n):\n",
    "    \n",
    "    ##############\n",
    "    # YOUR CODE ##\n",
    "    ##############\n",
    "    \n",
    "    return 0"
   ]
  },
  {
   "cell_type": "code",
   "execution_count": 3,
   "metadata": {},
   "outputs": [],
   "source": [
    "#### unit tests #####\n",
    "\n",
    "# assert(fib(0) == 1)\n",
    "# assert(fib(1) == 1)\n",
    "# assert(fib(2) == 1)\n",
    "# assert(fib(10) == 55)"
   ]
  },
  {
   "cell_type": "markdown",
   "metadata": {},
   "source": [
    "In the following exercise use the magic %timeit command to see how long a call to fib takes."
   ]
  },
  {
   "cell_type": "code",
   "execution_count": 4,
   "metadata": {},
   "outputs": [
    {
     "name": "stdout",
     "output_type": "stream",
     "text": [
      "56.2 ns ± 1.13 ns per loop (mean ± std. dev. of 7 runs, 10000000 loops each)\n"
     ]
    }
   ],
   "source": [
    "%timeit fib(10)"
   ]
  },
  {
   "cell_type": "markdown",
   "metadata": {},
   "source": [
    "Go get a cup of ☕ while you run the next cell! (or interrupt the notebook kernel if you run out of patience)"
   ]
  },
  {
   "cell_type": "code",
   "execution_count": 5,
   "metadata": {},
   "outputs": [
    {
     "name": "stdout",
     "output_type": "stream",
     "text": [
      "54.5 ns ± 0.38 ns per loop (mean ± std. dev. of 7 runs, 10000000 loops each)\n"
     ]
    }
   ],
   "source": [
    "%timeit fib(40)"
   ]
  },
  {
   "cell_type": "markdown",
   "metadata": {},
   "source": [
    "### Time complexity of the naive Fibonacci algorithm\n",
    "Let's explore how many inner nodes and leaves the call stack tree of fib(n) has. The point of this excercise is to get a feel for the running time complexity and also to get very comfortable with the call stacks of recursive functions. I suggest you work out the following quizzes on a piece of paper."
   ]
  },
  {
   "cell_type": "markdown",
   "metadata": {},
   "source": [
    "The inner nodes are all themselves call trees of fib(n-k) where k runs from 0 to n-3. For example, if we're counting up the inner nodes of fib(8), we want to know how many calls there were to fib(8), fib(7), fib(6), fib(5), fib(4) and fib(3)."
   ]
  },
  {
   "cell_type": "code",
   "execution_count": 6,
   "metadata": {
    "hide_input": false
   },
   "outputs": [
    {
     "data": {
      "application/vnd.jupyter.widget-view+json": {
       "model_id": "db90e02b279c499a9c6a06d0d9f6f139",
       "version_major": 2,
       "version_minor": 0
      },
      "text/plain": [
       "AppLayout(box_style='info', children=(HBox(children=(Label(value='Given k between 0 and n - 3, how many nodes …"
      ]
     },
     "metadata": {},
     "output_type": "display_data"
    }
   ],
   "source": [
    "%run quizzes/quiz.py quizzes/02/fibonacci_n_minus_k.json"
   ]
  },
  {
   "cell_type": "markdown",
   "metadata": {
    "hide_input": false
   },
   "source": [
    "Now add up all those sub-trees to get the general formula for the number of **inner nodes** in the fib(n) call tree"
   ]
  },
  {
   "cell_type": "code",
   "execution_count": 7,
   "metadata": {
    "hide_input": true
   },
   "outputs": [
    {
     "data": {
      "application/vnd.jupyter.widget-view+json": {
       "model_id": "1d875f9a6b764ac5b3717817601aed36",
       "version_major": 2,
       "version_minor": 0
      },
      "text/plain": [
       "AppLayout(box_style='info', children=(HBox(children=(Label(value='How many inner nodes does the call tree of f…"
      ]
     },
     "metadata": {},
     "output_type": "display_data"
    }
   ],
   "source": [
    "%run quizzes/quiz.py quizzes/02/fibonacci_inner_nodes.json"
   ]
  },
  {
   "cell_type": "markdown",
   "metadata": {},
   "source": [
    "Now we'll get a general formula for the number of leaves, starting with a small example where n = 8. Remember that our base cases are when n = 1 and n = 2, so we'll count up the calls to fib(1) and fib(2)."
   ]
  },
  {
   "cell_type": "code",
   "execution_count": 8,
   "metadata": {
    "hide_input": false,
    "scrolled": true
   },
   "outputs": [
    {
     "data": {
      "application/vnd.jupyter.widget-view+json": {
       "model_id": "afc59388ad6545e5ae749b6b7ab1130b",
       "version_major": 2,
       "version_minor": 0
      },
      "text/plain": [
       "VBox(box_style='info', children=(HBox(children=(Label(value='Fill in the blanks with a whole number.'),), layo…"
      ]
     },
     "metadata": {},
     "output_type": "display_data"
    }
   ],
   "source": [
    "%run quizzes/quiz.py quizzes/02/fibonacci_1_and_2.json"
   ]
  },
  {
   "cell_type": "markdown",
   "metadata": {
    "hide_input": false
   },
   "source": [
    "As you can see from the exercises above, the recursive algorithm for finding the n'th Fibonacci number mostly spends its time calculating and recalculating the Fibonacci numbers of the numbers preceding n. Every leaf in the call stack tree adds 1 to the time complexity of this algorithm - how many leaves does this tree have exactly?"
   ]
  },
  {
   "cell_type": "code",
   "execution_count": 9,
   "metadata": {
    "hide_input": false
   },
   "outputs": [
    {
     "data": {
      "application/vnd.jupyter.widget-view+json": {
       "model_id": "1e46e77dc19d4644a805e48a32338c50",
       "version_major": 2,
       "version_minor": 0
      },
      "text/plain": [
       "VBox(box_style='info', children=(HBox(children=(Label(value='Fill in the blank with regard to our implementati…"
      ]
     },
     "metadata": {},
     "output_type": "display_data"
    }
   ],
   "source": [
    "%run quizzes/quiz.py quizzes/02/fibonacci_leaves.json"
   ]
  },
  {
   "cell_type": "markdown",
   "metadata": {},
   "source": [
    "Well it's no wonder that the complexity of this algorithm grows exponentially - it grows just like the Fibonacci numbers themselves!"
   ]
  },
  {
   "cell_type": "markdown",
   "metadata": {},
   "source": [
    "\n",
    "## Fibonacci Revisited\n",
    "Now's the time to pull out your memoization skills and make our naive algorithm efficient by storing any calculations you already made."
   ]
  },
  {
   "cell_type": "markdown",
   "metadata": {},
   "source": [
    "### Memoize Fibonacci - without using a function decorator\n",
    "If you like, as an exercise, write a memoized version of fib(n) without using Python's decorator, i.e go ahead and make changes inside fib(n) itself. As a hint, I defined the function signature and unit tests for you."
   ]
  },
  {
   "cell_type": "code",
   "execution_count": 10,
   "metadata": {
    "pycharm": {
     "name": "#%%\n"
    }
   },
   "outputs": [],
   "source": [
    "def fib(n, memo):\n",
    "    \n",
    "    ##############\n",
    "    # YOUR CODE ##\n",
    "    ##############\n",
    "    \n",
    "    return 0\n",
    "    \n",
    "### unit tests ###\n",
    "#assert(fib(1, {}) == 1)\n",
    "#assert(fib(2, {}) == 1)\n",
    "#assert(fib(3, {}) == 2)\n",
    "#assert(fib(4, {}) == 3)\n",
    "#assert(fib(5, {}) == 5)\n",
    "#assert(fib(6, {}) == 8)"
   ]
  },
  {
   "cell_type": "markdown",
   "metadata": {},
   "source": [
    "### Memoize Fibonacci - a more elegant way\n",
    "\n",
    "Use the same function we used to decorate 'factorial' in the previous lesson. This time, since we didn't change our original function, we also don't need to change our tests! (that was the whole point of using Python's function decorators)"
   ]
  },
  {
   "cell_type": "code",
   "execution_count": 11,
   "metadata": {
    "pycharm": {
     "name": "#%%\n"
    }
   },
   "outputs": [],
   "source": [
    "def memoize(f):\n",
    "    ##############\n",
    "    # YOUR CODE ##\n",
    "    ##############\n",
    "    return 0\n",
    "    \n",
    "@memoize\n",
    "def fib(n):\n",
    "    ##############\n",
    "    # YOUR CODE ##\n",
    "    ##############\n",
    "    return 0\n",
    "    \n",
    "#unit tests\n",
    "#assert(fib(1) == 1)\n",
    "#assert(fib(2) == 1)\n",
    "#assert(fib(6) == 8)"
   ]
  },
  {
   "cell_type": "markdown",
   "metadata": {},
   "source": [
    "After testing, use the magic command %time to profile this implementation. If you use %%timeit you'll get a more accurate time, but it will take longer since %%timeit runs your function a few times."
   ]
  },
  {
   "cell_type": "code",
   "execution_count": 12,
   "metadata": {
    "pycharm": {
     "name": "#%%\n"
    }
   },
   "outputs": [],
   "source": [
    "# %time fib(36)"
   ]
  },
  {
   "cell_type": "markdown",
   "metadata": {
    "pycharm": {
     "name": "#%%\n"
    }
   },
   "source": [
    "### Memoize Fibonacci - an even more elegant and more minimal way\n",
    "One problem with our memoized version is that the storage is also linear, so as n gets large, you'll be using a lot of space to store all the previous solutions. Since each Fibonacci number is the sum of the previous two, you only need two places of storage as you iterate.\n",
    "\n",
    "Write an implementation to find the n'th Fibonacci number, **without** using a memo dictionary. Use only two storage variables."
   ]
  },
  {
   "cell_type": "code",
   "execution_count": 13,
   "metadata": {
    "pycharm": {
     "name": "#%%\n"
    }
   },
   "outputs": [],
   "source": [
    "# Only use two storage variables\n",
    "\n",
    "def fib(n):\n",
    "    ##############\n",
    "    # YOUR CODE ##\n",
    "    ##############\n",
    "    return 0"
   ]
  },
  {
   "cell_type": "markdown",
   "metadata": {},
   "source": [
    "### Memoize Fibonacci - and convert the algorithm to iterative and bottom up\n",
    "Using a Python decorator function, memoize AND convert fib(n) to an efficient AND iterative solution.\n",
    "\n",
    "**Hint 1:** The decorator function is almost identical to the memoize function we used for factorial and fib(n) above. The only difference is that you want to prevent recursion from happening and instead iterate starting from 1.\n",
    "\n",
    "**Hint 2:** Pay attention to the case where n = 0. The function should return 1 and you'll need to initialize the memo dictionary for this case to be handled correctly."
   ]
  },
  {
   "cell_type": "code",
   "execution_count": 14,
   "metadata": {},
   "outputs": [],
   "source": [
    "def iterate(f):\n",
    "    ##############\n",
    "    # YOUR CODE ##\n",
    "    ##############\n",
    "    return 0\n",
    "    \n",
    "@iterate\n",
    "def fib(n):\n",
    "    ##############\n",
    "    # YOUR CODE ##\n",
    "    ##############\n",
    "    return 0\n",
    "    \n",
    "#### unit tests ###\n",
    "#assert(fib(0) == 1)\n",
    "#assert(fib(1) == 1)\n",
    "#assert(fib(2) == 1)\n",
    "#assert(fib(6) == 8)"
   ]
  },
  {
   "cell_type": "markdown",
   "metadata": {},
   "source": [
    "## Solutions\n",
    "Given a whole number n, all these implementations calculate the n'th Fibonacci number."
   ]
  },
  {
   "cell_type": "markdown",
   "metadata": {},
   "source": [
    "### Recursive solutions\n",
    "These solutions show the top-down approach."
   ]
  },
  {
   "cell_type": "markdown",
   "metadata": {
    "solution2": "hidden",
    "solution2_first": true
   },
   "source": [
    "#### Naive recursive Fibonacci\n",
    "This solution is the least efficient implementation for finding the n'th Fibonacci number. It runs in exponential time "
   ]
  },
  {
   "cell_type": "code",
   "execution_count": 15,
   "metadata": {
    "solution2": "hidden"
   },
   "outputs": [],
   "source": [
    "# %load solutions/02/fibonacci_n.py\n",
    "def fib(n):\n",
    "\n",
    "    if (n <= 2):\n",
    "        return 1\n",
    "\n",
    "    return (fib(n - 1) + fib(n - 2))"
   ]
  },
  {
   "cell_type": "markdown",
   "metadata": {
    "solution2": "hidden",
    "solution2_first": true
   },
   "source": [
    "#### Memoized, without Python function decorator\n",
    "This solution removes the inefficiency of all the overlapping and repeated calculation of subproblems. It runs in linear time"
   ]
  },
  {
   "cell_type": "code",
   "execution_count": 16,
   "metadata": {
    "solution2": "hidden"
   },
   "outputs": [],
   "source": [
    "# %load solutions/02/fibonacci_memo.py\n",
    "def fib(n, memo):\n",
    "    if n in memo:\n",
    "        return memo[n]\n",
    "    if n <= 2:\n",
    "        f = 1\n",
    "    else:\n",
    "        f = fib(n-1, memo) + fib(n-2, memo)\n",
    "    memo[n] = f\n",
    "    return memo[n]\n",
    "\n",
    "### unit tests ###\n",
    "#assert(fib(1, {}) == 1)\n",
    "#assert(fib(2, {}) == 1)\n",
    "#assert(fib(3, {}) == 2)\n",
    "#assert(fib(4, {}) == 3)\n",
    "#assert(fib(5, {}) == 5)\n",
    "#assert(fib(6, {}) == 8)"
   ]
  },
  {
   "cell_type": "markdown",
   "metadata": {
    "solution2": "hidden",
    "solution2_first": true
   },
   "source": [
    "#### Memoized, using Python function decorator\n",
    "This solution removes the inefficiency of all the overlapping and repeated calculation of subproblems. It runs in linear time"
   ]
  },
  {
   "cell_type": "code",
   "execution_count": 17,
   "metadata": {
    "solution2": "hidden"
   },
   "outputs": [],
   "source": [
    "# %load solutions/02/fibonacci_memo_decorated.py\n",
    "def memoize(f):\n",
    "    memo = {}\n",
    "\n",
    "    def helper(n):\n",
    "        if n not in memo:\n",
    "            memo[n] = f(n)\n",
    "        return memo[n]\n",
    "\n",
    "    return helper\n",
    "\n",
    "@memoize\n",
    "def fib(n):\n",
    "    if n <= 2:\n",
    "        return 1\n",
    "    return fib(n - 1) + fib(n - 2)\n",
    "\n",
    "#assert(fib(1) == 1)\n",
    "#assert(fib(2) == 1)\n",
    "#assert(fib(6) == 8)"
   ]
  },
  {
   "cell_type": "markdown",
   "metadata": {},
   "source": [
    "### Iterative solutions\n",
    "These solutions exemplify the bottom-up approach."
   ]
  },
  {
   "cell_type": "markdown",
   "metadata": {
    "solution2": "hidden",
    "solution2_first": true
   },
   "source": [
    "#### Using Python function decorator\n",
    "It's interesting to debug or add some logging to this solution to see how the algorithm grows the memo dictionary."
   ]
  },
  {
   "cell_type": "code",
   "execution_count": 18,
   "metadata": {
    "solution2": "hidden"
   },
   "outputs": [],
   "source": [
    "# %load solutions/02/fibonacci_iterative_decorated.py\n",
    "def iterate(f):\n",
    "    memo = {0:0}\n",
    "\n",
    "    def helper(n):\n",
    "        # print ('helper called for ', n)\n",
    "        if n not in memo:\n",
    "            for k in range(1, n + 1):\n",
    "                memo[k] = f(k)\n",
    "        # print(memo)\n",
    "        return memo[n]\n",
    "    return helper\n",
    "\n",
    "@iterate\n",
    "def fib(n):\n",
    "    if n <= 2:\n",
    "        return 1\n",
    "    return fib(n - 1) + fib(n - 2)\n",
    "\n",
    "#unit tests\n",
    "#assert(fib(0) == 1)\n",
    "#assert(fib(1) == 1)\n",
    "#assert(fib(2) == 1)\n",
    "#assert(fib(6) == 8)"
   ]
  },
  {
   "cell_type": "markdown",
   "metadata": {
    "solution2": "hidden",
    "solution2_first": true
   },
   "source": [
    "#### Solution to iterative Fibonacci - using only two storage places, without Python function decorator\n",
    "This solution is very clever. It only uses two variables as storage. It also runs in linear time"
   ]
  },
  {
   "cell_type": "code",
   "execution_count": 19,
   "metadata": {
    "pycharm": {
     "name": "#%%\n"
    },
    "solution2": "hidden"
   },
   "outputs": [],
   "source": [
    "# %load solutions/02/fibonacci_tiny_memo.py\n",
    "def fib(n):\n",
    "    f, next_total = 1, 1\n",
    "    for i in range(n-1):\n",
    "        f, next_total = next_total, next_total + f\n",
    "    return f\n",
    "\n",
    "#assert(fib(1) == 1)\n",
    "#assert(fib(2) == 1)\n",
    "#assert(fib(6) == 8)"
   ]
  },
  {
   "cell_type": "markdown",
   "metadata": {
    "solution2": "hidden",
    "solution2_first": true
   },
   "source": [
    "#### Solution to iterative Fibonacci - using only two storage places, using @decorator"
   ]
  },
  {
   "cell_type": "code",
   "execution_count": 20,
   "metadata": {
    "solution2": "hidden"
   },
   "outputs": [],
   "source": [
    "# %load solutions/02/fibonacci_tiny_memo_decorated.py\n",
    "# TODO\n",
    "\n",
    "#assert(fib(1) == 1)\n",
    "#assert(fib(2) == 1)\n",
    "#assert(fib(6) == 8)"
   ]
  },
  {
   "cell_type": "markdown",
   "metadata": {},
   "source": [
    "## References\n",
    "\n",
    "1. Andres, F. (n.d.). functional programming—What do you call a function where the same input will always return the same output, but also has side effects? Software Engineering Stack Exchange. Retrieved July 9, 2020, from https://softwareengineering.stackexchange.com/a/317249\n",
    "\n",
    "2. Forišek, M. (2015). Towards a better way to teach dynamic programming. Olympiads in Informatics, 9, 45–55.\n",
    "\n",
    "3. Klein, B. (n.d.). Python Tutorial: Memoization and Decorators. Python Course. Retrieved June 17, 2020, from https://www.python-course.eu/python3_memoization.php"
   ]
  }
 ],
 "metadata": {
  "kernelspec": {
   "display_name": "Python 3",
   "language": "python",
   "name": "python3"
  },
  "language_info": {
   "codemirror_mode": {
    "name": "ipython",
    "version": 3
   },
   "file_extension": ".py",
   "mimetype": "text/x-python",
   "name": "python",
   "nbconvert_exporter": "python",
   "pygments_lexer": "ipython3",
   "version": "3.7.6"
  },
  "latex_envs": {
   "LaTeX_envs_menu_present": true,
   "autoclose": false,
   "autocomplete": true,
   "bibliofile": "biblio.bib",
   "cite_by": "apalike",
   "current_citInitial": 1,
   "eqLabelWithNumbers": true,
   "eqNumInitial": 1,
   "hotkeys": {
    "equation": "Ctrl-E",
    "itemize": "Ctrl-I"
   },
   "labels_anchors": false,
   "latex_user_defs": false,
   "report_style_numbering": false,
   "user_envs_cfg": false
  },
  "toc": {
   "base_numbering": "",
   "nav_menu": {},
   "number_sections": false,
   "sideBar": true,
   "skip_h1_title": false,
   "title_cell": "Table of Contents",
   "title_sidebar": "Contents",
   "toc_cell": false,
   "toc_position": {
    "height": "calc(100% - 180px)",
    "left": "10px",
    "top": "150px",
    "width": "222.042px"
   },
   "toc_section_display": true,
   "toc_window_display": true
  }
 },
 "nbformat": 4,
 "nbformat_minor": 4
}
