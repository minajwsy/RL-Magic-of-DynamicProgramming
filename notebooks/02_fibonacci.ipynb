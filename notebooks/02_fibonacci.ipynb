{
 "cells": [
  {
   "cell_type": "markdown",
   "metadata": {},
   "source": [
    "<font size=\"+4\">Lesson 2: Fibonacci Numbers</font>    "
   ]
  },
  {
   "cell_type": "markdown",
   "metadata": {},
   "source": [
    "It's common to begin the study of dynamic programming using [Fibonacci numbers](https://en.wikipedia.org/wiki/Fibonacci_number) as an example. This is because they are literally a textbook example of transforming a recursive, top-down algorithm into an iterative, bottom-up one.\n",
    "\n",
    "However, unlike the the 'sum of n numbers' and 'palindrome' problems we explored previously, there is real motivation to make this transformation."
   ]
  },
  {
   "cell_type": "markdown",
   "metadata": {},
   "source": [
    "## Find the n'th Fibonacci number\n",
    "\n",
    "Fibonacci numbers form a series defined by a recurrence formula. In _our_ implementation, we'll start the Fibonacci series at n = 1:\n",
    "\n",
    "$$fib(1) = 1$$\n",
    "$$fib(2) = 1$$\n",
    "$$and~then~for~every~n > 2:F_{n} = F_{n-1} + F_{n-2}$$\n",
    "\n",
    "This gives us a series starting at n=1 that looks like this: $$1, 1, 2, 3, 5,8 ,13, 21, 34, 55, ...$$\n",
    "\n",
    "In the quizzes and analysis below, you'll see why it's convenient that we start at 1 (and not the usual mathematical definition that begins with 0)."
   ]
  },
  {
   "cell_type": "code",
   "execution_count": 1,
   "metadata": {
    "hide_input": true,
    "jupyter": {
     "source_hidden": true
    }
   },
   "outputs": [
    {
     "data": {
      "image/jpeg": "[encoded data removed]",
      "text/html": [
       "\n",
       "        <iframe\n",
       "            width=\"400\"\n",
       "            height=\"300\"\n",
       "            src=\"https://www.youtube.com/embed/0jMoTRxQ52k\"\n",
       "            frameborder=\"0\"\n",
       "            allowfullscreen\n",
       "        ></iframe>\n",
       "        "
      ],
      "text/plain": [
       "<IPython.lib.display.YouTubeVideo at 0x29738d825c8>"
      ]
     },
     "execution_count": 1,
     "metadata": {},
     "output_type": "execute_result"
    }
   ],
   "source": [
    "from IPython.display import YouTubeVideo\n",
    "YouTubeVideo('0jMoTRxQ52k')"
   ]
  },
  {
   "cell_type": "markdown",
   "metadata": {},
   "source": [
    "Let's first code up the naive recursive implementation of finding the n'th Fibonacci number."
   ]
  },
  {
   "cell_type": "code",
   "execution_count": 2,
   "metadata": {},
   "outputs": [],
   "source": [
    "def fib(n):\n",
    "    \n",
    "    ##############\n",
    "    # YOUR CODE ##\n",
    "    ##############\n",
    "    \n",
    "    return 0"
   ]
  },
  {
   "cell_type": "code",
   "execution_count": 3,
   "metadata": {},
   "outputs": [],
   "source": [
    "#### unit tests #####\n",
    "\n",
    "# assert(fib(0) == 1)\n",
    "# assert(fib(1) == 1)\n",
    "# assert(fib(2) == 1)\n",
    "# assert(fib(10) == 55)"
   ]
  },
  {
   "cell_type": "markdown",
   "metadata": {},
   "source": [
    "In the following exercise use the magic %timeit command to see how long a call to fib takes."
   ]
  },
  {
   "cell_type": "code",
   "execution_count": 4,
   "metadata": {},
   "outputs": [
    {
     "name": "stdout",
     "output_type": "stream",
     "text": [
      "108 ns ± 16.8 ns per loop (mean ± std. dev. of 7 runs, 10000000 loops each)\n"
     ]
    }
   ],
   "source": [
    "%timeit fib(10)"
   ]
  },
  {
   "cell_type": "markdown",
   "metadata": {},
   "source": [
    "<div class=\"alert alert-warning\">\n",
    "The next cell may take some time to run. ☕ You can interrupt the notebook kernel if you run out of patience ...\n",
    "</div>"
   ]
  },
  {
   "cell_type": "code",
   "execution_count": 5,
   "metadata": {},
   "outputs": [
    {
     "name": "stdout",
     "output_type": "stream",
     "text": [
      "93.6 ns ± 7.43 ns per loop (mean ± std. dev. of 7 runs, 10000000 loops each)\n"
     ]
    }
   ],
   "source": [
    "%timeit fib(40)"
   ]
  },
  {
   "cell_type": "markdown",
   "metadata": {},
   "source": [
    "### Time complexity of the naive Fibonacci algorithm\n",
    "Let's explore how many inner nodes and leaves the call stack tree of fib(n) has. The point of this excercise is to get a feel for the running time complexity and also to get very comfortable with the call stacks of recursive functions. I suggest you work out the following quizzes on a piece of paper."
   ]
  },
  {
   "cell_type": "markdown",
   "metadata": {},
   "source": [
    "The inner nodes are all themselves call trees of fib(n-k) where k runs from 0 to n-3. For example, if we're counting up the inner nodes of fib(8), we want to know how many calls there were to fib(8), fib(7), fib(6), fib(5), fib(4) and fib(3)."
   ]
  },
  {
   "cell_type": "code",
   "execution_count": 6,
   "metadata": {
    "hide_input": false,
    "jupyter": {
     "source_hidden": true
    }
   },
   "outputs": [
    {
     "data": {
      "application/vnd.jupyter.widget-view+json": {
       "model_id": "cfd25646f2fa4adab2dd475ec4b0a691",
       "version_major": 2,
       "version_minor": 0
      },
      "text/plain": [
       "VBox(box_style='info', children=(HBox(children=(HTML(value='<style>p{word-wrap: break-word}</style> <p>Given k…"
      ]
     },
     "metadata": {},
     "output_type": "display_data"
    }
   ],
   "source": [
    "%run quizzes/quiz.py quizzes/02/fibonacci_n_minus_k.json"
   ]
  },
  {
   "cell_type": "markdown",
   "metadata": {
    "hide_input": false
   },
   "source": [
    "Now add up all those sub-trees to get the general formula for the number of **inner nodes** in the fib(n) call tree"
   ]
  },
  {
   "cell_type": "code",
   "execution_count": 7,
   "metadata": {
    "hide_input": true,
    "jupyter": {
     "source_hidden": true
    }
   },
   "outputs": [
    {
     "data": {
      "application/vnd.jupyter.widget-view+json": {
       "model_id": "933a938fe35c4679a4a9e4d479b8aaac",
       "version_major": 2,
       "version_minor": 0
      },
      "text/plain": [
       "VBox(box_style='info', children=(HBox(children=(HTML(value='<style>p{word-wrap: break-word}</style> <p>How man…"
      ]
     },
     "metadata": {},
     "output_type": "display_data"
    }
   ],
   "source": [
    "%run quizzes/quiz.py quizzes/02/fibonacci_inner_nodes.json"
   ]
  },
  {
   "cell_type": "markdown",
   "metadata": {},
   "source": [
    "Now we'll get a general formula for the number of leaves, starting with a small example where n = 8. Remember that our base cases are when n = 1 and n = 2, so we'll count up the calls to fib(1) and fib(2)."
   ]
  },
  {
   "cell_type": "code",
   "execution_count": 8,
   "metadata": {
    "hide_input": false,
    "jupyter": {
     "source_hidden": true
    }
   },
   "outputs": [
    {
     "data": {
      "application/vnd.jupyter.widget-view+json": {
       "model_id": "8ede3f3d95ad44618259f98b042a314e",
       "version_major": 2,
       "version_minor": 0
      },
      "text/plain": [
       "VBox(box_style='info', children=(HBox(children=(HTML(value='<style>p{word-wrap: break-word}</style> <p>Fill in…"
      ]
     },
     "metadata": {},
     "output_type": "display_data"
    }
   ],
   "source": [
    "%run quizzes/quiz.py quizzes/02/fibonacci_1_and_2.json"
   ]
  },
  {
   "cell_type": "markdown",
   "metadata": {
    "hide_input": false
   },
   "source": [
    "As you can see from the exercises above, the recursive algorithm for finding the n'th Fibonacci number mostly spends its time calculating and recalculating the Fibonacci numbers of the numbers preceding n. Every leaf in the call stack tree adds 1 to the time complexity of this algorithm - how many leaves does this tree have exactly?"
   ]
  },
  {
   "cell_type": "code",
   "execution_count": 9,
   "metadata": {
    "jupyter": {
     "source_hidden": true
    }
   },
   "outputs": [
    {
     "data": {
      "application/vnd.jupyter.widget-view+json": {
       "model_id": "778c3997dfa54cd69af2c819411010e6",
       "version_major": 2,
       "version_minor": 0
      },
      "text/plain": [
       "VBox(box_style='info', children=(HBox(children=(HTML(value='<style>p{word-wrap: break-word}</style> <p>Fill in…"
      ]
     },
     "metadata": {},
     "output_type": "display_data"
    }
   ],
   "source": [
    "%run quizzes/quiz.py quizzes/02/fibonacci_leaves.json"
   ]
  },
  {
   "cell_type": "markdown",
   "metadata": {},
   "source": [
    "Well it's no wonder that the complexity of this algorithm grows exponentially - it grows just like the Fibonacci numbers themselves!"
   ]
  },
  {
   "cell_type": "markdown",
   "metadata": {},
   "source": [
    "\n",
    "## Fibonacci Revisited\n",
    "Now's the time to pull out your memoization skills and make our naive algorithm efficient by storing any calculations you already made."
   ]
  },
  {
   "cell_type": "markdown",
   "metadata": {},
   "source": [
    "### Memoize Fibonacci - without using a function decorator\n",
    "\n",
    "<div class=\"exercise exercise-info\">\n",
    "If you like, as an exercise, write a memoized version of fib(n) without using Python's decorator, i.e go ahead and make changes inside fib(n) itself. As a hint, I defined the function signature and unit tests for you."
   ]
  },
  {
   "cell_type": "code",
   "execution_count": 10,
   "metadata": {
    "pycharm": {
     "name": "#%%\n"
    }
   },
   "outputs": [],
   "source": [
    "def fib(n, memo):\n",
    "    \n",
    "    ##############\n",
    "    # YOUR CODE ##\n",
    "    ##############\n",
    "    \n",
    "    return 0\n",
    "    \n",
    "### unit tests ###\n",
    "#assert(fib(1, {}) == 1)\n",
    "#assert(fib(2, {}) == 1)\n",
    "#assert(fib(3, {}) == 2)\n",
    "#assert(fib(4, {}) == 3)\n",
    "#assert(fib(5, {}) == 5)\n",
    "#assert(fib(6, {}) == 8)"
   ]
  },
  {
   "cell_type": "markdown",
   "metadata": {},
   "source": [
    "### Memoize Fibonacci - a more elegant way\n",
    "\n",
    "<div class=\"exercise exercise-info\">\n",
    "Use the same function we used to decorate 'factorial' in the previous lesson. \n",
    "<hr>\n",
    "This time, since we didn't change our original function, we also don't need to change our tests! (that was the whole point of using Python's function decorators)"
   ]
  },
  {
   "cell_type": "code",
   "execution_count": 11,
   "metadata": {
    "pycharm": {
     "name": "#%%\n"
    }
   },
   "outputs": [],
   "source": [
    "def memoize(f):\n",
    "    ##############\n",
    "    # YOUR CODE ##\n",
    "    ##############\n",
    "    return 0\n",
    "    \n",
    "@memoize\n",
    "def fib(n):\n",
    "    ##############\n",
    "    # YOUR CODE ##\n",
    "    ##############\n",
    "    return 0\n",
    "    \n",
    "#unit tests\n",
    "#assert(fib(1) == 1)\n",
    "#assert(fib(2) == 1)\n",
    "#assert(fib(6) == 8)"
   ]
  },
  {
   "cell_type": "markdown",
   "metadata": {},
   "source": [
    "<div class=\"exercise exercise-info\">\n",
    "After testing, use the magic command %time to profile this implementation. If you use %%timeit you'll get a more accurate time, but it will take longer since %%timeit runs your function a few times.\n",
    "</div>    "
   ]
  },
  {
   "cell_type": "code",
   "execution_count": 12,
   "metadata": {
    "pycharm": {
     "name": "#%%\n"
    }
   },
   "outputs": [],
   "source": [
    "# %time fib(36)"
   ]
  },
  {
   "cell_type": "markdown",
   "metadata": {
    "pycharm": {
     "name": "#%%\n"
    }
   },
   "source": [
    "### Memoize Fibonacci - using _constant_ space instead of linear space\n",
    "One problem with our memoized version is that the storage is also linear, so as n gets large, you'll be using O(n) space to store all the previous solutions. Since each Fibonacci number is the sum of the previous two, you actually only need _two_ places of storage as you iterate.\n",
    "\n",
    "Write an implementation to find the n'th Fibonacci number, **without** using a memo dictionary. Use only two storage variables."
   ]
  },
  {
   "cell_type": "code",
   "execution_count": 13,
   "metadata": {
    "pycharm": {
     "name": "#%%\n"
    }
   },
   "outputs": [],
   "source": [
    "# Only use two storage variables\n",
    "\n",
    "def fib(n):\n",
    "    ##############\n",
    "    # YOUR CODE ##\n",
    "    ##############\n",
    "    return 0"
   ]
  },
  {
   "cell_type": "markdown",
   "metadata": {},
   "source": [
    "### Memoize Fibonacci - and convert the algorithm to iterative and bottom up\n",
    "Using a Python decorator function, memoize AND convert fib(n) to an efficient AND iterative solution.\n",
    "\n",
    "**Hint 1:** The decorator function is almost identical to the memoize function we used for factorial and fib(n) above. The only difference is that you want to prevent recursion from happening and instead iterate starting from 1.\n",
    "\n",
    "**Hint 2:** Pay attention to the case where n = 0. The function should return 1 and you'll need to initialize the memo dictionary for this case to be handled correctly."
   ]
  },
  {
   "cell_type": "code",
   "execution_count": 14,
   "metadata": {},
   "outputs": [],
   "source": [
    "def iterate(f):\n",
    "    ##############\n",
    "    # YOUR CODE ##\n",
    "    ##############\n",
    "    return 0\n",
    "    \n",
    "@iterate\n",
    "def fib(n):\n",
    "    ##############\n",
    "    # YOUR CODE ##\n",
    "    ##############\n",
    "    return 0\n",
    "    \n",
    "#### unit tests ###\n",
    "#assert(fib(0) == 1)\n",
    "#assert(fib(1) == 1)\n",
    "#assert(fib(2) == 1)\n",
    "#assert(fib(6) == 8)"
   ]
  },
  {
   "cell_type": "markdown",
   "metadata": {},
   "source": [
    "<div class=\"exercise exercise-info\">\n",
    "If you haven't done so already, add some logging (prints) to your solution to see how the algorithm grows the memo dictionary.\n",
    "</div>    "
   ]
  },
  {
   "cell_type": "markdown",
   "metadata": {},
   "source": [
    "## Solutions\n",
    "Given a whole number n, all these implementations calculate the n'th Fibonacci number."
   ]
  },
  {
   "cell_type": "markdown",
   "metadata": {},
   "source": [
    "### Recursive solutions\n",
    "These solutions show the top-down approach."
   ]
  },
  {
   "cell_type": "markdown",
   "metadata": {
    "solution2": "hidden"
   },
   "source": [
    "<div class=\"exercise exercise-warning\"><details><summary>Naive fibonacci, runs in exponential time ...</summary>\n",
    "\n",
    "    \n",
    "```python    \n",
    "    # %load solutions/02/fibonacci_n.py\n",
    "    def fib(n):\n",
    "\n",
    "        if (n <= 2):\n",
    "            return 1\n",
    "\n",
    "        return (fib(n - 1) + fib(n - 2))\n",
    "```\n",
    "\n",
    "</details>"
   ]
  },
  {
   "cell_type": "markdown",
   "metadata": {
    "solution2": "hidden"
   },
   "source": [
    "<div class=\"exercise exercise-warning\"><details><summary>Recursive fibonacci memoized by changing function (no decorator)</summary>\n",
    "\n",
    "    \n",
    "```python    \n",
    "    # %load solutions/02/fibonacci_memo.py\n",
    "    def fib(n, memo):\n",
    "        if n in memo:\n",
    "            return memo[n]\n",
    "        if n <= 2:\n",
    "            f = 1\n",
    "        else:\n",
    "            f = fib(n-1, memo) + fib(n-2, memo)\n",
    "        memo[n] = f\n",
    "        return memo[n]\n",
    "\n",
    "    ### unit tests ###\n",
    "    #assert(fib(1, {}) == 1)\n",
    "    #assert(fib(2, {}) == 1)\n",
    "    #assert(fib(3, {}) == 2)\n",
    "    #assert(fib(4, {}) == 3)\n",
    "    #assert(fib(5, {}) == 5)\n",
    "    #assert(fib(6, {}) == 8)\n",
    "```\n",
    "\n",
    "</details>"
   ]
  },
  {
   "cell_type": "markdown",
   "metadata": {
    "solution2": "hidden"
   },
   "source": [
    "<div class=\"exercise exercise-warning\"><details><summary>Recursive fibonacci, memoized</summary>\n",
    "\n",
    "    \n",
    "```python    \n",
    "    # %load solutions/02/fibonacci_memo_decorated.py\n",
    "    def memoize(f):\n",
    "        memo = {}\n",
    "\n",
    "        def helper(n):\n",
    "            if n not in memo:\n",
    "                memo[n] = f(n)\n",
    "            return memo[n]\n",
    "\n",
    "        return helper\n",
    "\n",
    "    @memoize\n",
    "    def fib(n):\n",
    "        if n <= 2:\n",
    "            return 1\n",
    "        return fib(n - 1) + fib(n - 2)\n",
    "\n",
    "    #assert(fib(1) == 1)\n",
    "    #assert(fib(2) == 1)\n",
    "    #assert(fib(6) == 8)\n",
    "```\n",
    "\n",
    "</details>"
   ]
  },
  {
   "cell_type": "markdown",
   "metadata": {},
   "source": [
    "### Iterative solutions\n",
    "These solutions exemplify the bottom-up approach."
   ]
  },
  {
   "cell_type": "markdown",
   "metadata": {
    "solution2": "hidden"
   },
   "source": [
    "<div class=\"exercise exercise-warning\"><details><summary>Iterative fibonacci that uses <em>linear</em> storage (with decorator)</summary>\n",
    "\n",
    "    \n",
    "```python    \n",
    "    # %load solutions/02/fibonacci_iterative_decorated.py\n",
    "    def iterate(f):\n",
    "        memo = {0:0}\n",
    "\n",
    "        def helper(n):\n",
    "            # print ('helper called for ', n)\n",
    "            if n not in memo:\n",
    "                for k in range(1, n + 1):\n",
    "                    memo[k] = f(k)\n",
    "            # print(memo)\n",
    "            return memo[n]\n",
    "        return helper\n",
    "\n",
    "    @iterate\n",
    "    def fib(n):\n",
    "        if n <= 2:\n",
    "            return 1\n",
    "        return fib(n - 1) + fib(n - 2)\n",
    "\n",
    "    #unit tests\n",
    "    #assert(fib(0) == 1)\n",
    "    #assert(fib(1) == 1)\n",
    "    #assert(fib(2) == 1)\n",
    "    #assert(fib(6) == 8)\n",
    "```\n",
    "\n",
    "</details>"
   ]
  },
  {
   "cell_type": "markdown",
   "metadata": {
    "pycharm": {
     "name": "#%%\n"
    },
    "solution2": "hidden"
   },
   "source": [
    "<div class=\"exercise exercise-warning\"><details><summary>Iterative fibonacci that uses <em>constant</em> space (no decorator)</summary>\n",
    "\n",
    "    \n",
    "```python    \n",
    "    # %load solutions/02/fibonacci_tiny_memo.py\n",
    "    def fib(n):\n",
    "        f, next_total = 1, 1\n",
    "        for i in range(n-1):\n",
    "            f, next_total = next_total, next_total + f\n",
    "        return f\n",
    "\n",
    "    #assert(fib(1) == 1)\n",
    "    #assert(fib(2) == 1)\n",
    "    #assert(fib(6) == 8)\n",
    "```\n",
    "\n",
    "</details>"
   ]
  },
  {
   "cell_type": "markdown",
   "metadata": {
    "solution2": "hidden"
   },
   "source": [
    "<div class=\"exercise exercise-warning\"><details><summary>Iterative fibonacci  <em>constant</em> space (with decorator)</summary>\n",
    "\n",
    "    \n",
    "```python    \n",
    "    # %load solutions/02/fibonacci_tiny_memo_decorated.py\n",
    "    # TODO\n",
    "\n",
    "    #assert(fib(1) == 1)\n",
    "    #assert(fib(2) == 1)\n",
    "    #assert(fib(6) == 8)\n",
    "```\n",
    "</details>\n"
   ]
  },
  {
   "cell_type": "markdown",
   "metadata": {},
   "source": [
    "## References\n",
    "\n",
    "1. Andres, F. (n.d.). functional programming—What do you call a function where the same input will always return the same output, but also has side effects? Software Engineering Stack Exchange. Retrieved July 9, 2020, from https://softwareengineering.stackexchange.com/a/317249\n",
    "\n",
    "2. Forišek, M. (2015). Towards a better way to teach dynamic programming. Olympiads in Informatics, 9, 45–55.\n",
    "\n",
    "3. Klein, B. (n.d.). Python Tutorial: Memoization and Decorators. Python Course. Retrieved June 17, 2020, from https://www.python-course.eu/python3_memoization.php"
   ]
  },
  {
   "cell_type": "code",
   "execution_count": 15,
   "metadata": {
    "deletable": false,
    "editable": false
   },
   "outputs": [
    {
     "data": {
      "text/html": [
       "<style>\n",
       "    .alert {\n",
       "      padding: 15px;\n",
       "      margin-bottom: 20px;\n",
       "      border: 1px solid transparent;\n",
       "      border-radius: 4px;\n",
       "    }\n",
       "\n",
       "    .alert h4 {\n",
       "      margin-top: 0;\n",
       "      color: inherit;\n",
       "    }\n",
       "\n",
       "    .alert .alert-link {\n",
       "      font-weight: bold;\n",
       "    }\n",
       "\n",
       "    .alert > p,\n",
       "    .alert > ul {\n",
       "      margin-bottom: 0;\n",
       "    }\n",
       "\n",
       "    .alert > p + p {\n",
       "      margin-top: 5px;\n",
       "    }\n",
       "\n",
       "    .alert-dismissable,\n",
       "    .alert-dismissible {\n",
       "      padding-right: 35px;\n",
       "    }\n",
       "\n",
       "    .alert-dismissable .close,\n",
       "    .alert-dismissible .close {\n",
       "      position: relative;\n",
       "      top: -2px;\n",
       "      right: -21px;\n",
       "      color: inherit;\n",
       "    }\n",
       "\n",
       "    .alert-success {\n",
       "      background-color: #C8E6C9;\n",
       "      border-color: #81C784;\n",
       "      color: #388E3C;\n",
       "    }\n",
       "\n",
       "    .alert-success hr {\n",
       "      border-top-color: #AED581;\n",
       "    }\n",
       "\n",
       "    .alert-success .alert-link {\n",
       "      color: #2E7D32;\n",
       "    }\n",
       "\n",
       "    .alert-info {\n",
       "      background-color: #B2EBF2;\n",
       "      border-color: #4DD0E1;\n",
       "      color: #0097A7;\n",
       "    }\n",
       "\n",
       "    .alert-info hr {\n",
       "      border-top-color: #00838F;\n",
       "    }\n",
       "\n",
       "    .alert-info .alert-link {\n",
       "      color: #245269;\n",
       "    }\n",
       "\n",
       "    .alert-warning {\n",
       "      background-color: #FFE0B2;\n",
       "      border-color: #FFB74D;\n",
       "      color: #F57C00;\n",
       "    }\n",
       "\n",
       "    .alert-warning hr {\n",
       "      border-top-color: #FFB74D;\n",
       "    }\n",
       "\n",
       "    .alert-warning .alert-link {\n",
       "      color: #EF6C00;\n",
       "    }\n",
       "\n",
       "    .alert-danger {\n",
       "      background-color: #ffcdd2;\n",
       "      border-color: #e57373;\n",
       "      color: #d32f2f;\n",
       "    }\n",
       "\n",
       "    .alert-danger hr {\n",
       "      border-top-color: #d32f2f;\n",
       "    }\n",
       "\n",
       "    .alert-danger .alert-link {\n",
       "      color: #c62828;\n",
       "    }\n",
       "    \n",
       "\n",
       "    .exercise {\n",
       "      padding: 15px;\n",
       "      margin-bottom: 20px;\n",
       "      border: 1px solid transparent;\n",
       "      border-radius: 4px;\n",
       "    }\n",
       "\n",
       "    .exercise h4 {\n",
       "      margin-top: 0;\n",
       "      color: inherit;\n",
       "    }\n",
       "\n",
       "    .exercise .alert-link {\n",
       "      font-weight: bold;\n",
       "    }\n",
       "\n",
       "    .exercise > p,\n",
       "    .exercise > ul {\n",
       "      margin-bottom: 0;\n",
       "    }\n",
       "\n",
       "    .exercise > p + p {\n",
       "      margin-top: 5px;\n",
       "    }\n",
       "\n",
       "    .exercise-info {\n",
       "      background-color: #B2EBF2;\n",
       "      border-color: #4DD0E1;\n",
       "      color: #000000;\n",
       "    }\n",
       "\n",
       "    .exercise-info hr {\n",
       "      border-top-color: #00838F;\n",
       "    }\n",
       "\n",
       "    .exercise-info .alert-link {\n",
       "      color: #245269;\n",
       "    }\n",
       "\n",
       "   .exercise-warning {\n",
       "      background-color: #FFE0B2;\n",
       "      border-color: #FFB74D;\n",
       "      color: #000000;\n",
       "    }\n",
       "\n",
       "    .exercise-warning hr {\n",
       "      border-top-color: #FFB74D;\n",
       "    }\n",
       "\n",
       "    .excercise-warning .alert-link {\n",
       "      color: #EF6C00;\n",
       "    }\n",
       "\n",
       "\n",
       "</style>\n"
      ],
      "text/plain": [
       "<IPython.core.display.HTML object>"
      ]
     },
     "execution_count": 15,
     "metadata": {},
     "output_type": "execute_result"
    }
   ],
   "source": [
    "# workaround for known ipywidget issue not rendering alert style colours on Jupyter lab\n",
    "from IPython.core.display import HTML\n",
    "HTML(open(\"../styles/custom.css\", \"r\").read())"
   ]
  }
 ],
 "metadata": {
  "kernelspec": {
   "display_name": "Python 3",
   "language": "python",
   "name": "python3"
  },
  "language_info": {
   "codemirror_mode": {
    "name": "ipython",
    "version": 3
   },
   "file_extension": ".py",
   "mimetype": "text/x-python",
   "name": "python",
   "nbconvert_exporter": "python",
   "pygments_lexer": "ipython3",
   "version": "3.7.6"
  },
  "latex_envs": {
   "LaTeX_envs_menu_present": true,
   "autoclose": false,
   "autocomplete": true,
   "bibliofile": "biblio.bib",
   "cite_by": "apalike",
   "current_citInitial": 1,
   "eqLabelWithNumbers": true,
   "eqNumInitial": 1,
   "hotkeys": {
    "equation": "Ctrl-E",
    "itemize": "Ctrl-I"
   },
   "labels_anchors": false,
   "latex_user_defs": false,
   "report_style_numbering": false,
   "user_envs_cfg": false
  },
  "toc": {
   "base_numbering": "",
   "nav_menu": {},
   "number_sections": false,
   "sideBar": true,
   "skip_h1_title": false,
   "title_cell": "Table of Contents",
   "title_sidebar": "Contents",
   "toc_cell": false,
   "toc_position": {
    "height": "calc(100% - 180px)",
    "left": "10px",
    "top": "150px",
    "width": "222.042px"
   },
   "toc_section_display": true,
   "toc_window_display": true
  },
  "widgets": {
   "application/vnd.jupyter.widget-state+json": {
    "state": {
     "00372e516c784d9e8b4cdee08c1bff35": {
      "model_module": "@jupyter-widgets/controls",
      "model_module_version": "1.5.0",
      "model_name": "DescriptionStyleModel",
      "state": {
       "description_width": ""
      }
     },
     "00d27f9ee2724f8b88d105d9e87031a0": {
      "model_module": "@jupyter-widgets/controls",
      "model_module_version": "1.5.0",
      "model_name": "HTMLModel",
      "state": {
       "layout": "IPY_MODEL_884128dc91d44052910723dfc4c5c291",
       "style": "IPY_MODEL_3fd3ed65e3f7439081fae46c3a023be3",
       "value": "<style>p{word-wrap: break-word}</style> <p>and fib(1) is called </p>"
      }
     },
     "01e3622ec71c49feb0560b57362776b6": {
      "model_module": "@jupyter-widgets/controls",
      "model_module_version": "1.5.0",
      "model_name": "DescriptionStyleModel",
      "state": {
       "description_width": ""
      }
     },
     "026730a7f7914f25b893e05d4b4e56eb": {
      "model_module": "@jupyter-widgets/base",
      "model_module_version": "1.2.0",
      "model_name": "LayoutModel",
      "state": {
       "display": "flex",
       "flex_flow": "row",
       "justify_content": "space-between",
       "margin": "0 0 20px 0"
      }
     },
     "0278aee27bf241b0b1d688c44e09dece": {
      "model_module": "@jupyter-widgets/controls",
      "model_module_version": "1.5.0",
      "model_name": "LabelModel",
      "state": {
       "layout": "IPY_MODEL_dede758a5767442786b14d4bd3a56141",
       "style": "IPY_MODEL_92112ae073b046829aa2ec40c8abe2a1"
      }
     },
     "03a4e28e7c5e4a6780ee32726a4c774d": {
      "model_module": "@jupyter-widgets/base",
      "model_module_version": "1.2.0",
      "model_name": "LayoutModel",
      "state": {}
     },
     "04f1aa04c81f4e85be3f0c5f2bd970ee": {
      "model_module": "@jupyter-widgets/controls",
      "model_module_version": "1.5.0",
      "model_name": "CheckboxModel",
      "state": {
       "disabled": false,
       "layout": "IPY_MODEL_8e1654b88c684875bec4da10f4db58fc",
       "style": "IPY_MODEL_cc70c1d43be64d69b352e1181bac76df",
       "value": false
      }
     },
     "057be827d17e45f9bb284e07e112390b": {
      "model_module": "@jupyter-widgets/base",
      "model_module_version": "1.2.0",
      "model_name": "LayoutModel",
      "state": {
       "align_items": "stretch",
       "display": "flex",
       "flex_flow": "row wrap",
       "width": "auto"
      }
     },
     "083febf0ea6f4a349ac521ee9f6215b1": {
      "model_module": "@jupyter-widgets/controls",
      "model_module_version": "1.5.0",
      "model_name": "HTMLModel",
      "state": {
       "layout": "IPY_MODEL_c622af1c3504449bb0816118be207ce4",
       "style": "IPY_MODEL_691efaeaecf546ca8d2006bd3e8d55a7",
       "value": "<style>p{word-wrap: break-word}</style> <p>fib(k - 1) </p>"
      }
     },
     "08444ab61a4b4d908066308e246b5324": {
      "model_module": "@jupyter-widgets/controls",
      "model_module_version": "1.5.0",
      "model_name": "TextModel",
      "state": {
       "layout": "IPY_MODEL_5865bd1ae12d4fcaa45290570afe6b6c",
       "placeholder": "",
       "style": "IPY_MODEL_a1e5f55fa0ae441f9e8a1a05798dd835"
      }
     },
     "0c2ef4b54ccc4d64baf8a9946585ddbb": {
      "model_module": "@jupyter-widgets/controls",
      "model_module_version": "1.5.0",
      "model_name": "HBoxModel",
      "state": {
       "children": [
        "IPY_MODEL_59f974d27259470d98182166ad08efb2",
        "IPY_MODEL_6748b928603b4cefb38ee4a56618a374"
       ],
       "layout": "IPY_MODEL_537d753981ac40dba2af8e38cfaa53b8"
      }
     },
     "0d6a576c2a9f40d5bd12051356fb189a": {
      "model_module": "@jupyter-widgets/controls",
      "model_module_version": "1.5.0",
      "model_name": "DescriptionStyleModel",
      "state": {
       "description_width": ""
      }
     },
     "0dbd1d796474435591911783c1c22d29": {
      "model_module": "@jupyter-widgets/controls",
      "model_module_version": "1.5.0",
      "model_name": "DescriptionStyleModel",
      "state": {
       "description_width": "initial"
      }
     },
     "0f5332b6334343f698e8abcca53cefc3": {
      "model_module": "@jupyter-widgets/base",
      "model_module_version": "1.2.0",
      "model_name": "LayoutModel",
      "state": {
       "align_items": "stretch",
       "display": "flex",
       "flex_flow": "row wrap",
       "width": "auto"
      }
     },
     "0f715c8081a04bdd99410ae3ea9dac0d": {
      "model_module": "@jupyter-widgets/base",
      "model_module_version": "1.2.0",
      "model_name": "LayoutModel",
      "state": {
       "align_items": "stretch",
       "display": "flex",
       "flex_flow": "row wrap",
       "margin": "30px 0 0 0"
      }
     },
     "10346c8b245141059cea2623ea2f5625": {
      "model_module": "@jupyter-widgets/base",
      "model_module_version": "1.2.0",
      "model_name": "LayoutModel",
      "state": {}
     },
     "1073a189456f4a3d8c2a555008a8b2a1": {
      "model_module": "@jupyter-widgets/controls",
      "model_module_version": "1.5.0",
      "model_name": "DescriptionStyleModel",
      "state": {
       "description_width": "initial"
      }
     },
     "10871748d75a41bbbb722a0c2db8912d": {
      "model_module": "@jupyter-widgets/controls",
      "model_module_version": "1.5.0",
      "model_name": "DescriptionStyleModel",
      "state": {
       "description_width": ""
      }
     },
     "10932d6efd1a4514bc6dcf91f372769f": {
      "model_module": "@jupyter-widgets/controls",
      "model_module_version": "1.5.0",
      "model_name": "LabelModel",
      "state": {
       "layout": "IPY_MODEL_4d86c1e18ff84045a8ecab4d21abd0fe",
       "style": "IPY_MODEL_ae5a08a2375e4fcfb2ce325a7b158ea9"
      }
     },
     "11e86977a12844ebad53df4c682130e3": {
      "model_module": "@jupyter-widgets/controls",
      "model_module_version": "1.5.0",
      "model_name": "HBoxModel",
      "state": {
       "children": [
        "IPY_MODEL_04f1aa04c81f4e85be3f0c5f2bd970ee",
        "IPY_MODEL_8b3c04062f564e7595e5674521109426"
       ],
       "layout": "IPY_MODEL_7bf967d2f3e34e898e484d8e84493b4b"
      }
     },
     "11ff37199fb34991900ef08af50daec8": {
      "model_module": "@jupyter-widgets/controls",
      "model_module_version": "1.5.0",
      "model_name": "CheckboxModel",
      "state": {
       "disabled": false,
       "layout": "IPY_MODEL_5631ae67685e4a2aaeaf4f4e18c01ab4",
       "style": "IPY_MODEL_d636bce8fe7745b18d0c11489d7d2ccb",
       "value": false
      }
     },
     "159abf3e5ff842fc9a3652a2629b36fb": {
      "model_module": "@jupyter-widgets/controls",
      "model_module_version": "1.5.0",
      "model_name": "ButtonStyleModel",
      "state": {
       "button_color": "#4DD0E1"
      }
     },
     "168c8f2a7a3f405a920ec042bf158ce9": {
      "model_module": "@jupyter-widgets/base",
      "model_module_version": "1.2.0",
      "model_name": "LayoutModel",
      "state": {}
     },
     "18001bd5de114a4eae955f8319744e41": {
      "model_module": "@jupyter-widgets/controls",
      "model_module_version": "1.5.0",
      "model_name": "HBoxModel",
      "state": {
       "children": [
        "IPY_MODEL_3b42f53a535046e99ce85f775979a495"
       ],
       "layout": "IPY_MODEL_ac3592717a30464693a979427e464d5f"
      }
     },
     "18fbc2f0aa2245088807a0022cf29a85": {
      "model_module": "@jupyter-widgets/base",
      "model_module_version": "1.2.0",
      "model_name": "LayoutModel",
      "state": {}
     },
     "1c89b77a872f43a19957b1c3245164b5": {
      "model_module": "@jupyter-widgets/base",
      "model_module_version": "1.2.0",
      "model_name": "LayoutModel",
      "state": {}
     },
     "1cc8c5b6754640ef83ec2f8ce4024d0c": {
      "model_module": "@jupyter-widgets/controls",
      "model_module_version": "1.5.0",
      "model_name": "ButtonStyleModel",
      "state": {
       "button_color": "#4DD0E1"
      }
     },
     "1d4aefdbcbcd4dbbb034758bed0f920b": {
      "model_module": "@jupyter-widgets/controls",
      "model_module_version": "1.5.0",
      "model_name": "CheckboxModel",
      "state": {
       "disabled": false,
       "layout": "IPY_MODEL_6c9f28417b1f4337932180c803ea8097",
       "style": "IPY_MODEL_e66a7480684a41799035db1ffe59ddfe",
       "value": false
      }
     },
     "1e9130526905463696e36ca12149ddb0": {
      "model_module": "@jupyter-widgets/controls",
      "model_module_version": "1.5.0",
      "model_name": "DescriptionStyleModel",
      "state": {
       "description_width": "initial"
      }
     },
     "1f3fb766cbb94d0eabd328cf8548c5d5": {
      "model_module": "@jupyter-widgets/controls",
      "model_module_version": "1.5.0",
      "model_name": "ButtonModel",
      "state": {
       "description": "Show answer",
       "disabled": true,
       "layout": "IPY_MODEL_ec933d2cf87f4ede93d31c8622bc12e8",
       "style": "IPY_MODEL_4fae205e96c3400aa86b51c96c3af5a6"
      }
     },
     "1fb2bbb50d7d4222ad1615464595b96c": {
      "model_module": "@jupyter-widgets/base",
      "model_module_version": "1.2.0",
      "model_name": "LayoutModel",
      "state": {
       "align_items": "stretch",
       "display": "flex",
       "flex_flow": "row wrap",
       "width": "auto"
      }
     },
     "21223f7375ba4e8eaeba8c02bed1abb9": {
      "model_module": "@jupyter-widgets/controls",
      "model_module_version": "1.5.0",
      "model_name": "HBoxModel",
      "state": {
       "children": [
        "IPY_MODEL_dc389398f3fe461caa0640292f737055"
       ],
       "layout": "IPY_MODEL_843946a10f1d4e508268be174ab38815"
      }
     },
     "22046884bf8043a199a4fc1a6d8ea090": {
      "model_module": "@jupyter-widgets/controls",
      "model_module_version": "1.5.0",
      "model_name": "ButtonModel",
      "state": {
       "description": "Show answer",
       "disabled": true,
       "layout": "IPY_MODEL_54c380fd178341b098f56b71c9b9acc5",
       "style": "IPY_MODEL_98d3c0acc775418ab5972954a25141ce"
      }
     },
     "2284179b614e4daebaab8edab32ca1ee": {
      "model_module": "@jupyter-widgets/base",
      "model_module_version": "1.2.0",
      "model_name": "LayoutModel",
      "state": {
       "align_items": "stretch",
       "display": "flex",
       "flex_flow": "row wrap",
       "width": "auto"
      }
     },
     "25ffe636cf4d4aa4bd7900e16bcc1577": {
      "model_module": "@jupyter-widgets/controls",
      "model_module_version": "1.5.0",
      "model_name": "DescriptionStyleModel",
      "state": {
       "description_width": ""
      }
     },
     "26212e8a40e74ecab6c698fa38ffa04b": {
      "model_module": "@jupyter-widgets/controls",
      "model_module_version": "1.5.0",
      "model_name": "ButtonModel",
      "state": {
       "description": "Show answer",
       "disabled": true,
       "layout": "IPY_MODEL_b96d4ff9dde0425db8756579568dcc69",
       "style": "IPY_MODEL_c1da56b6f0bf436c8c1937893f04f536"
      }
     },
     "26eb6b93e0ef40099e5ec4139cc1ae59": {
      "model_module": "@jupyter-widgets/controls",
      "model_module_version": "1.5.0",
      "model_name": "TextModel",
      "state": {
       "layout": "IPY_MODEL_45b1c41833324f03a751e563f6983a9b",
       "placeholder": "",
       "style": "IPY_MODEL_d3c7fa12d15a4e1e912ed48faa5d069e"
      }
     },
     "284eb20976c9471481ecd0fa091de827": {
      "model_module": "@jupyter-widgets/controls",
      "model_module_version": "1.5.0",
      "model_name": "DescriptionStyleModel",
      "state": {
       "description_width": ""
      }
     },
     "2a3eae18170b4515a8d237a9f2254d97": {
      "model_module": "@jupyter-widgets/controls",
      "model_module_version": "1.5.0",
      "model_name": "DescriptionStyleModel",
      "state": {
       "description_width": ""
      }
     },
     "2af41e2929ac43389ca2c2c109d393c3": {
      "model_module": "@jupyter-widgets/controls",
      "model_module_version": "1.5.0",
      "model_name": "HTMLModel",
      "state": {
       "layout": "IPY_MODEL_9d5223b068cf49b991467ca7d33eeea5",
       "style": "IPY_MODEL_e0b02f98354646728010cebbbb1a22a0",
       "value": "<style>p{word-wrap: break-word}</style> <p>fib(k) </p>"
      }
     },
     "2b11cd516c654d54be47491ee3e07d4b": {
      "model_module": "@jupyter-widgets/controls",
      "model_module_version": "1.5.0",
      "model_name": "HBoxModel",
      "state": {
       "children": [
        "IPY_MODEL_b4a5bd1377a64a49b3055d337c6bec3d",
        "IPY_MODEL_5cab57ddfed74ad5a4e12b0675978239"
       ],
       "layout": "IPY_MODEL_057be827d17e45f9bb284e07e112390b"
      }
     },
     "2ed86667f324483f9ea48f7e3d447a14": {
      "model_module": "@jupyter-widgets/base",
      "model_module_version": "1.2.0",
      "model_name": "LayoutModel",
      "state": {
       "align_items": "stretch",
       "display": "flex",
       "flex_flow": "row wrap",
       "width": "auto"
      }
     },
     "2f57833a05b14f74b5c00ffa40919014": {
      "model_module": "@jupyter-widgets/base",
      "model_module_version": "1.2.0",
      "model_name": "LayoutModel",
      "state": {
       "display": "flex",
       "flex_flow": "row",
       "justify_content": "space-between",
       "margin": "0 0 20px 0"
      }
     },
     "2f6eb6d234264db18866688ff1b6476b": {
      "model_module": "@jupyter-widgets/controls",
      "model_module_version": "1.5.0",
      "model_name": "VBoxModel",
      "state": {
       "children": [
        "IPY_MODEL_39e878e57f924469bd4a34012235d7f6",
        "IPY_MODEL_3ffa500a76654905925290a182c20014",
        "IPY_MODEL_3097db45bce24f9a8ae44ad300487e06",
        "IPY_MODEL_b7151857db2d42d4bfc22b3e0a7cbd34",
        "IPY_MODEL_b71bdd29c69843ad8b7c34743fcdd421"
       ],
       "layout": "IPY_MODEL_787c02c50a2b41c8b17b74940de66484"
      }
     },
     "3095a0d8e2d04effaaf2e4a789469394": {
      "model_module": "@jupyter-widgets/base",
      "model_module_version": "1.2.0",
      "model_name": "LayoutModel",
      "state": {}
     },
     "3097db45bce24f9a8ae44ad300487e06": {
      "model_module": "@jupyter-widgets/controls",
      "model_module_version": "1.5.0",
      "model_name": "HBoxModel",
      "state": {
       "children": [
        "IPY_MODEL_cdf48d0405814e82a83f640f4164f85c",
        "IPY_MODEL_d9efe54199754ee38e216a68b5242095"
       ],
       "layout": "IPY_MODEL_80898d627c3a43e8a405b1876ece4857"
      }
     },
     "30b7ae43262a4a7eb91de0380e062e92": {
      "model_module": "@jupyter-widgets/controls",
      "model_module_version": "1.5.0",
      "model_name": "HBoxModel",
      "state": {
       "children": [
        "IPY_MODEL_65b6fc9d673048daad50b5835306aec7",
        "IPY_MODEL_8bb4a6a0ee0845e0ab48149b8f631047",
        "IPY_MODEL_1f3fb766cbb94d0eabd328cf8548c5d5"
       ],
       "layout": "IPY_MODEL_c530b748286046939767b843f0859ced"
      }
     },
     "313a5d33aee344b9b15e3ca7e0fb6cc3": {
      "model_module": "@jupyter-widgets/controls",
      "model_module_version": "1.5.0",
      "model_name": "LabelModel",
      "state": {
       "layout": "IPY_MODEL_18fbc2f0aa2245088807a0022cf29a85",
       "style": "IPY_MODEL_597aad5188074ab38a3819ceea545efc"
      }
     },
     "32c06ded7f1544c1853fff899cf5c215": {
      "model_module": "@jupyter-widgets/controls",
      "model_module_version": "1.5.0",
      "model_name": "DescriptionStyleModel",
      "state": {
       "description_width": ""
      }
     },
     "355921197501490a82b93102b83427b2": {
      "model_module": "@jupyter-widgets/controls",
      "model_module_version": "1.5.0",
      "model_name": "DescriptionStyleModel",
      "state": {
       "description_width": "initial"
      }
     },
     "3715ed9828524d13912890c41f72b7b6": {
      "model_module": "@jupyter-widgets/controls",
      "model_module_version": "1.5.0",
      "model_name": "LabelModel",
      "state": {
       "layout": "IPY_MODEL_4b471c8390ff43ea8bb955c53c4768ee",
       "style": "IPY_MODEL_73281549699e4bbcbb9792fe37501f98"
      }
     },
     "3801b63990ae49b585cfdd2b8d460d15": {
      "model_module": "@jupyter-widgets/base",
      "model_module_version": "1.2.0",
      "model_name": "LayoutModel",
      "state": {}
     },
     "384317c5f8904bdba556faf45ba33249": {
      "model_module": "@jupyter-widgets/controls",
      "model_module_version": "1.5.0",
      "model_name": "DescriptionStyleModel",
      "state": {
       "description_width": ""
      }
     },
     "38f3c226a7924cedac9d5ed01ef3e9f7": {
      "model_module": "@jupyter-widgets/controls",
      "model_module_version": "1.5.0",
      "model_name": "HTMLModel",
      "state": {
       "layout": "IPY_MODEL_5e0ebdbfc28a4f18a57142575ee528da",
       "style": "IPY_MODEL_25ffe636cf4d4aa4bd7900e16bcc1577",
       "value": "<style>p{word-wrap: break-word}</style> <p>fib(n) - 1 </p>"
      }
     },
     "39c952f489644d07bba42532c899c6d6": {
      "model_module": "@jupyter-widgets/controls",
      "model_module_version": "1.5.0",
      "model_name": "DescriptionStyleModel",
      "state": {
       "description_width": ""
      }
     },
     "39e878e57f924469bd4a34012235d7f6": {
      "model_module": "@jupyter-widgets/controls",
      "model_module_version": "1.5.0",
      "model_name": "HBoxModel",
      "state": {
       "children": [
        "IPY_MODEL_fe083a2c4b7e419391ab33d1ca141a9e",
        "IPY_MODEL_db159632b68c418f98d096f7a1a22e23"
       ],
       "layout": "IPY_MODEL_fbb79829d58141d4a4950772e71ba980"
      }
     },
     "3ada900f373141d586720a17ef8c1d33": {
      "model_module": "@jupyter-widgets/controls",
      "model_module_version": "1.5.0",
      "model_name": "HTMLModel",
      "state": {
       "layout": "IPY_MODEL_bbe4963297444c928fd38269aabeb6e0",
       "style": "IPY_MODEL_51c90e635720408eb31fee88f83d2bbe",
       "value": "<style>p{word-wrap: break-word}</style> <p>How many inner nodes does the call tree of fib(n) have? </p>"
      }
     },
     "3b42f53a535046e99ce85f775979a495": {
      "model_module": "@jupyter-widgets/controls",
      "model_module_version": "1.5.0",
      "model_name": "HBoxModel",
      "state": {
       "children": [
        "IPY_MODEL_e998fc4c5bd04a40800d16501e009f74",
        "IPY_MODEL_26eb6b93e0ef40099e5ec4139cc1ae59",
        "IPY_MODEL_5adbc12079714a48ba12ad8ba8272384"
       ],
       "layout": "IPY_MODEL_2ed86667f324483f9ea48f7e3d447a14"
      }
     },
     "3b56fbcf4d5443b1a116fd419f24b375": {
      "model_module": "@jupyter-widgets/base",
      "model_module_version": "1.2.0",
      "model_name": "LayoutModel",
      "state": {
       "display": "flex",
       "flex_flow": "row",
       "justify_content": "space-between",
       "margin": "0 0 20px 0"
      }
     },
     "3e914fae98a444bd9a6b52c77b300324": {
      "model_module": "@jupyter-widgets/base",
      "model_module_version": "1.2.0",
      "model_name": "LayoutModel",
      "state": {}
     },
     "3fd3ed65e3f7439081fae46c3a023be3": {
      "model_module": "@jupyter-widgets/controls",
      "model_module_version": "1.5.0",
      "model_name": "DescriptionStyleModel",
      "state": {
       "description_width": ""
      }
     },
     "3ffa500a76654905925290a182c20014": {
      "model_module": "@jupyter-widgets/controls",
      "model_module_version": "1.5.0",
      "model_name": "HBoxModel",
      "state": {
       "children": [
        "IPY_MODEL_a83db951d883419c87aee9aae42a4587",
        "IPY_MODEL_b51fe3b8b79840e19d8343d209355bba"
       ],
       "layout": "IPY_MODEL_e0854c8da17140b3b293e2d34ecf971c"
      }
     },
     "40f79e8e41914c68aa6321e083404d19": {
      "model_module": "@jupyter-widgets/base",
      "model_module_version": "1.2.0",
      "model_name": "LayoutModel",
      "state": {
       "width": "30px"
      }
     },
     "41d995d8415547caaaaa002e934f4114": {
      "model_module": "@jupyter-widgets/base",
      "model_module_version": "1.2.0",
      "model_name": "LayoutModel",
      "state": {
       "align_items": "stretch",
       "display": "flex",
       "flex_flow": "row wrap",
       "width": "auto"
      }
     },
     "4249afa9443749f6a7e7469ed27113b5": {
      "model_module": "@jupyter-widgets/base",
      "model_module_version": "1.2.0",
      "model_name": "LayoutModel",
      "state": {
       "align_items": "stretch",
       "display": "flex",
       "flex_flow": "row wrap",
       "width": "auto"
      }
     },
     "43397697ffc243ac9ccb1ed1d11f476d": {
      "model_module": "@jupyter-widgets/controls",
      "model_module_version": "1.5.0",
      "model_name": "HBoxModel",
      "state": {
       "children": [
        "IPY_MODEL_fd67cfb2daa94d5a8dffcf939ce0e081",
        "IPY_MODEL_f65c04c8a6ce4b2bb849b1a0eee352ba"
       ],
       "layout": "IPY_MODEL_1fb2bbb50d7d4222ad1615464595b96c"
      }
     },
     "439bef3bd54d4253ad192f52316e797a": {
      "model_module": "@jupyter-widgets/base",
      "model_module_version": "1.2.0",
      "model_name": "LayoutModel",
      "state": {}
     },
     "442dc129daf44c858ee124dc17d0bc4c": {
      "model_module": "@jupyter-widgets/base",
      "model_module_version": "1.2.0",
      "model_name": "LayoutModel",
      "state": {}
     },
     "45b1c41833324f03a751e563f6983a9b": {
      "model_module": "@jupyter-widgets/base",
      "model_module_version": "1.2.0",
      "model_name": "LayoutModel",
      "state": {
       "width": "auto"
      }
     },
     "45f1c3569b3f4b3c86ce5795d0bc8b91": {
      "model_module": "@jupyter-widgets/base",
      "model_module_version": "1.2.0",
      "model_name": "LayoutModel",
      "state": {}
     },
     "464a876d7a6c4005a632d383dde8649e": {
      "model_module": "@jupyter-widgets/base",
      "model_module_version": "1.2.0",
      "model_name": "LayoutModel",
      "state": {}
     },
     "472ad906f8e34b7f96d425d19eb8086f": {
      "model_module": "@jupyter-widgets/base",
      "model_module_version": "1.2.0",
      "model_name": "LayoutModel",
      "state": {}
     },
     "4ab90da798c14d088c947df3eb0ab78f": {
      "model_module": "@jupyter-widgets/base",
      "model_module_version": "1.2.0",
      "model_name": "LayoutModel",
      "state": {}
     },
     "4b471c8390ff43ea8bb955c53c4768ee": {
      "model_module": "@jupyter-widgets/base",
      "model_module_version": "1.2.0",
      "model_name": "LayoutModel",
      "state": {}
     },
     "4d84af0eaa074b1f90b7ea4b8fadfd0d": {
      "model_module": "@jupyter-widgets/controls",
      "model_module_version": "1.5.0",
      "model_name": "LabelModel",
      "state": {
       "layout": "IPY_MODEL_a50fba7640464e3da8fc3de79afb779b",
       "style": "IPY_MODEL_2a3eae18170b4515a8d237a9f2254d97"
      }
     },
     "4d86c1e18ff84045a8ecab4d21abd0fe": {
      "model_module": "@jupyter-widgets/base",
      "model_module_version": "1.2.0",
      "model_name": "LayoutModel",
      "state": {
       "height": "50%",
       "margin": "0 0 0 30px",
       "width": "50%"
      }
     },
     "4fae205e96c3400aa86b51c96c3af5a6": {
      "model_module": "@jupyter-widgets/controls",
      "model_module_version": "1.5.0",
      "model_name": "ButtonStyleModel",
      "state": {
       "button_color": "#4DD0E1"
      }
     },
     "51c90e635720408eb31fee88f83d2bbe": {
      "model_module": "@jupyter-widgets/controls",
      "model_module_version": "1.5.0",
      "model_name": "DescriptionStyleModel",
      "state": {
       "description_width": ""
      }
     },
     "520a0b9260694cff83d884dc959a2855": {
      "model_module": "@jupyter-widgets/controls",
      "model_module_version": "1.5.0",
      "model_name": "ButtonModel",
      "state": {
       "description": "Submit",
       "layout": "IPY_MODEL_d1ef7326218e40b5a3ffb1bc09149730",
       "style": "IPY_MODEL_159abf3e5ff842fc9a3652a2629b36fb"
      }
     },
     "52211b721a4449ecad4bd07ecc3f1d39": {
      "model_module": "@jupyter-widgets/base",
      "model_module_version": "1.2.0",
      "model_name": "LayoutModel",
      "state": {
       "align_items": "stretch",
       "display": "flex",
       "flex_flow": "row wrap",
       "width": "auto"
      }
     },
     "52e293e716e943bf970944ec8c174423": {
      "model_module": "@jupyter-widgets/base",
      "model_module_version": "1.2.0",
      "model_name": "LayoutModel",
      "state": {}
     },
     "531469e1ef2a45a6846af6a576ed2e69": {
      "model_module": "@jupyter-widgets/base",
      "model_module_version": "1.2.0",
      "model_name": "LayoutModel",
      "state": {
       "align_items": "stretch",
       "display": "flex",
       "flex_flow": "column",
       "width": "100%"
      }
     },
     "537d753981ac40dba2af8e38cfaa53b8": {
      "model_module": "@jupyter-widgets/base",
      "model_module_version": "1.2.0",
      "model_name": "LayoutModel",
      "state": {
       "align_items": "stretch",
       "display": "flex",
       "flex_flow": "row wrap",
       "width": "auto"
      }
     },
     "539544e5bde64011aeebfa9a1af2a554": {
      "model_module": "@jupyter-widgets/controls",
      "model_module_version": "1.5.0",
      "model_name": "HBoxModel",
      "state": {
       "children": [
        "IPY_MODEL_7d19029058c04c17804dd97c420d7119",
        "IPY_MODEL_80969467f64143c094efd17579d00242"
       ],
       "layout": "IPY_MODEL_0f5332b6334343f698e8abcca53cefc3"
      }
     },
     "5463035df403465dbbc0c90007877e19": {
      "model_module": "@jupyter-widgets/controls",
      "model_module_version": "1.5.0",
      "model_name": "DescriptionStyleModel",
      "state": {
       "description_width": ""
      }
     },
     "54c380fd178341b098f56b71c9b9acc5": {
      "model_module": "@jupyter-widgets/base",
      "model_module_version": "1.2.0",
      "model_name": "LayoutModel",
      "state": {
       "display": "none"
      }
     },
     "5571ed7e5ad44f57bec1310647b5ea60": {
      "model_module": "@jupyter-widgets/base",
      "model_module_version": "1.2.0",
      "model_name": "LayoutModel",
      "state": {
       "align_items": "stretch",
       "display": "flex",
       "flex_flow": "row wrap",
       "width": "auto"
      }
     },
     "5631ae67685e4a2aaeaf4f4e18c01ab4": {
      "model_module": "@jupyter-widgets/base",
      "model_module_version": "1.2.0",
      "model_name": "LayoutModel",
      "state": {
       "width": "30px"
      }
     },
     "56747499cd3d4f249a9ec945e0b87116": {
      "model_module": "@jupyter-widgets/base",
      "model_module_version": "1.2.0",
      "model_name": "LayoutModel",
      "state": {}
     },
     "5865bd1ae12d4fcaa45290570afe6b6c": {
      "model_module": "@jupyter-widgets/base",
      "model_module_version": "1.2.0",
      "model_name": "LayoutModel",
      "state": {
       "width": "auto"
      }
     },
     "5887265e9ef941a19f4dea690d80c5ac": {
      "model_module": "@jupyter-widgets/controls",
      "model_module_version": "1.5.0",
      "model_name": "HTMLModel",
      "state": {
       "layout": "IPY_MODEL_56747499cd3d4f249a9ec945e0b87116",
       "style": "IPY_MODEL_c4cf26c8f06245a6840f1ec7c5b80f62",
       "value": "<style>p{word-wrap: break-word}</style> <p>times,  </p>"
      }
     },
     "597aad5188074ab38a3819ceea545efc": {
      "model_module": "@jupyter-widgets/controls",
      "model_module_version": "1.5.0",
      "model_name": "DescriptionStyleModel",
      "state": {
       "description_width": ""
      }
     },
     "59f974d27259470d98182166ad08efb2": {
      "model_module": "@jupyter-widgets/controls",
      "model_module_version": "1.5.0",
      "model_name": "CheckboxModel",
      "state": {
       "disabled": false,
       "layout": "IPY_MODEL_d95180c9ee3f4c25976f0043067a1a01",
       "style": "IPY_MODEL_355921197501490a82b93102b83427b2",
       "value": false
      }
     },
     "5adbc12079714a48ba12ad8ba8272384": {
      "model_module": "@jupyter-widgets/controls",
      "model_module_version": "1.5.0",
      "model_name": "HTMLModel",
      "state": {
       "layout": "IPY_MODEL_10346c8b245141059cea2623ea2f5625",
       "style": "IPY_MODEL_83ce587831ad4cf485d7e37be07a546e",
       "value": "<style>p{word-wrap: break-word}</style> <p>leaves. </p>"
      }
     },
     "5bc796f7d3cb433b90565d31f507eb53": {
      "model_module": "@jupyter-widgets/base",
      "model_module_version": "1.2.0",
      "model_name": "LayoutModel",
      "state": {
       "align_items": "stretch",
       "display": "flex",
       "flex_flow": "row wrap",
       "width": "auto"
      }
     },
     "5cab57ddfed74ad5a4e12b0675978239": {
      "model_module": "@jupyter-widgets/controls",
      "model_module_version": "1.5.0",
      "model_name": "HBoxModel",
      "state": {
       "children": [
        "IPY_MODEL_c225104fcf7e49d49c423c77cc06ec6b",
        "IPY_MODEL_2af41e2929ac43389ca2c2c109d393c3"
       ],
       "layout": "IPY_MODEL_8f2879c925e34b7fab1f772bd07d06ef"
      }
     },
     "5ce4f345abf4493aaeea4e068ec2c47d": {
      "model_module": "@jupyter-widgets/controls",
      "model_module_version": "1.5.0",
      "model_name": "HBoxModel",
      "state": {
       "children": [
        "IPY_MODEL_3ada900f373141d586720a17ef8c1d33"
       ],
       "layout": "IPY_MODEL_026730a7f7914f25b893e05d4b4e56eb"
      }
     },
     "5e0ebdbfc28a4f18a57142575ee528da": {
      "model_module": "@jupyter-widgets/base",
      "model_module_version": "1.2.0",
      "model_name": "LayoutModel",
      "state": {}
     },
     "5e5bb6f3ad1c4ee9b62c1e4c5cb59e78": {
      "model_module": "@jupyter-widgets/controls",
      "model_module_version": "1.5.0",
      "model_name": "DescriptionStyleModel",
      "state": {
       "description_width": ""
      }
     },
     "5e6a3c23c1644e0e87add839d9001d04": {
      "model_module": "@jupyter-widgets/controls",
      "model_module_version": "1.5.0",
      "model_name": "DescriptionStyleModel",
      "state": {
       "description_width": ""
      }
     },
     "5f7837beb15d4f7b8bf4f4224194d6cd": {
      "model_module": "@jupyter-widgets/base",
      "model_module_version": "1.2.0",
      "model_name": "LayoutModel",
      "state": {
       "align_items": "stretch",
       "display": "flex",
       "flex_flow": "column",
       "width": "100%"
      }
     },
     "61cb0fe2574c4d64806ab099fa540a84": {
      "model_module": "@jupyter-widgets/controls",
      "model_module_version": "1.5.0",
      "model_name": "HBoxModel",
      "state": {
       "children": [
        "IPY_MODEL_d85f4b9320604a59b0efcfd27fd8ee02",
        "IPY_MODEL_9adcd788f89041e3a27c17ef7bc95036"
       ],
       "layout": "IPY_MODEL_a260151243eb44c4bb856cf4e35a92f0"
      }
     },
     "630dc69a34d443bb82a7f98fe2a9638b": {
      "model_module": "@jupyter-widgets/controls",
      "model_module_version": "1.5.0",
      "model_name": "DescriptionStyleModel",
      "state": {
       "description_width": ""
      }
     },
     "64dd98ea01594f68afccc44695a4d2fa": {
      "model_module": "@jupyter-widgets/controls",
      "model_module_version": "1.5.0",
      "model_name": "DescriptionStyleModel",
      "state": {
       "description_width": ""
      }
     },
     "65b6fc9d673048daad50b5835306aec7": {
      "model_module": "@jupyter-widgets/controls",
      "model_module_version": "1.5.0",
      "model_name": "ButtonModel",
      "state": {
       "description": "Submit",
       "layout": "IPY_MODEL_52e293e716e943bf970944ec8c174423",
       "style": "IPY_MODEL_1cc8c5b6754640ef83ec2f8ce4024d0c"
      }
     },
     "6748b928603b4cefb38ee4a56618a374": {
      "model_module": "@jupyter-widgets/controls",
      "model_module_version": "1.5.0",
      "model_name": "HTMLModel",
      "state": {
       "layout": "IPY_MODEL_3801b63990ae49b585cfdd2b8d460d15",
       "style": "IPY_MODEL_0d6a576c2a9f40d5bd12051356fb189a",
       "value": "<style>p{word-wrap: break-word}</style> <p>fib(n) - 1 + fib(n - 2) </p>"
      }
     },
     "679e923aa8ae4de781c39ee701c1f789": {
      "model_module": "@jupyter-widgets/base",
      "model_module_version": "1.2.0",
      "model_name": "LayoutModel",
      "state": {}
     },
     "691efaeaecf546ca8d2006bd3e8d55a7": {
      "model_module": "@jupyter-widgets/controls",
      "model_module_version": "1.5.0",
      "model_name": "DescriptionStyleModel",
      "state": {
       "description_width": ""
      }
     },
     "69219d43bea7448aaac585ce0f12d150": {
      "model_module": "@jupyter-widgets/controls",
      "model_module_version": "1.5.0",
      "model_name": "HTMLModel",
      "state": {
       "layout": "IPY_MODEL_168c8f2a7a3f405a920ec042bf158ce9",
       "style": "IPY_MODEL_00372e516c784d9e8b4cdee08c1bff35",
       "value": "<style>p{word-wrap: break-word}</style> <p>fib(n) </p>"
      }
     },
     "6b466d25db5142fda750bcdace00d2e5": {
      "model_module": "@jupyter-widgets/base",
      "model_module_version": "1.2.0",
      "model_name": "LayoutModel",
      "state": {}
     },
     "6c9f28417b1f4337932180c803ea8097": {
      "model_module": "@jupyter-widgets/base",
      "model_module_version": "1.2.0",
      "model_name": "LayoutModel",
      "state": {
       "width": "30px"
      }
     },
     "6d958999f4bd4ce6ba2d764b170f46fb": {
      "model_module": "@jupyter-widgets/controls",
      "model_module_version": "1.5.0",
      "model_name": "HBoxModel",
      "state": {
       "children": [
        "IPY_MODEL_80aaab374d334546b34bcfd6441b38d2",
        "IPY_MODEL_cc48f15158504f6796e6fe7f6cb25a45",
        "IPY_MODEL_c99b352158304e13b6d74ca4c2edee6f"
       ],
       "layout": "IPY_MODEL_d5a480c146c2491da12b4845a38603ff"
      }
     },
     "6dc0d61948624c17af4cd46445433a62": {
      "model_module": "@jupyter-widgets/controls",
      "model_module_version": "1.5.0",
      "model_name": "DescriptionStyleModel",
      "state": {
       "description_width": ""
      }
     },
     "7014240835bd4bcda7b7f05b009233ff": {
      "model_module": "@jupyter-widgets/controls",
      "model_module_version": "1.5.0",
      "model_name": "HBoxModel",
      "state": {
       "children": [
        "IPY_MODEL_891ee7f81fc54f298692047e460212f5",
        "IPY_MODEL_10932d6efd1a4514bc6dcf91f372769f",
        "IPY_MODEL_26212e8a40e74ecab6c698fa38ffa04b"
       ],
       "layout": "IPY_MODEL_f3c21a9a70c14685b2bff7d75016a2d4"
      }
     },
     "701d3edac6694abea11c7502138df752": {
      "model_module": "@jupyter-widgets/base",
      "model_module_version": "1.2.0",
      "model_name": "LayoutModel",
      "state": {}
     },
     "7045265f3c234f7d8935825b628e408e": {
      "model_module": "@jupyter-widgets/base",
      "model_module_version": "1.2.0",
      "model_name": "LayoutModel",
      "state": {}
     },
     "73281549699e4bbcbb9792fe37501f98": {
      "model_module": "@jupyter-widgets/controls",
      "model_module_version": "1.5.0",
      "model_name": "DescriptionStyleModel",
      "state": {
       "description_width": ""
      }
     },
     "778c3997dfa54cd69af2c819411010e6": {
      "model_module": "@jupyter-widgets/controls",
      "model_module_version": "1.5.0",
      "model_name": "VBoxModel",
      "state": {
       "box_style": "info",
       "children": [
        "IPY_MODEL_c60df9b0739a4d25a839dfd4f076795d",
        "IPY_MODEL_18001bd5de114a4eae955f8319744e41",
        "IPY_MODEL_96a4ca2236ae4b20942edd93df42a535"
       ],
       "layout": "IPY_MODEL_531469e1ef2a45a6846af6a576ed2e69"
      }
     },
     "787c02c50a2b41c8b17b74940de66484": {
      "model_module": "@jupyter-widgets/base",
      "model_module_version": "1.2.0",
      "model_name": "LayoutModel",
      "state": {
       "align_items": "stretch",
       "display": "flex",
       "flex_flow": "column",
       "width": "100%"
      }
     },
     "7bf967d2f3e34e898e484d8e84493b4b": {
      "model_module": "@jupyter-widgets/base",
      "model_module_version": "1.2.0",
      "model_name": "LayoutModel",
      "state": {
       "align_items": "stretch",
       "display": "flex",
       "flex_flow": "row wrap",
       "width": "auto"
      }
     },
     "7c97c48d3fa447e3ae93601789bc1a35": {
      "model_module": "@jupyter-widgets/base",
      "model_module_version": "1.2.0",
      "model_name": "LayoutModel",
      "state": {
       "align_items": "stretch",
       "display": "flex",
       "flex_flow": "row wrap",
       "width": "auto"
      }
     },
     "7d19029058c04c17804dd97c420d7119": {
      "model_module": "@jupyter-widgets/controls",
      "model_module_version": "1.5.0",
      "model_name": "CheckboxModel",
      "state": {
       "disabled": false,
       "layout": "IPY_MODEL_a24bacfdd4bf4a9681122161c9786a57",
       "style": "IPY_MODEL_e4d3e2ca318d4fee9000fd233946ca1d",
       "value": false
      }
     },
     "80898d627c3a43e8a405b1876ece4857": {
      "model_module": "@jupyter-widgets/base",
      "model_module_version": "1.2.0",
      "model_name": "LayoutModel",
      "state": {
       "align_items": "stretch",
       "display": "flex",
       "flex_flow": "row wrap",
       "width": "auto"
      }
     },
     "80969467f64143c094efd17579d00242": {
      "model_module": "@jupyter-widgets/controls",
      "model_module_version": "1.5.0",
      "model_name": "HTMLModel",
      "state": {
       "layout": "IPY_MODEL_679e923aa8ae4de781c39ee701c1f789",
       "style": "IPY_MODEL_5e6a3c23c1644e0e87add839d9001d04",
       "value": "<style>p{word-wrap: break-word}</style> <p>fib(k) - 1 </p>"
      }
     },
     "80aaab374d334546b34bcfd6441b38d2": {
      "model_module": "@jupyter-widgets/controls",
      "model_module_version": "1.5.0",
      "model_name": "ButtonModel",
      "state": {
       "description": "Submit",
       "layout": "IPY_MODEL_4ab90da798c14d088c947df3eb0ab78f",
       "style": "IPY_MODEL_86f9b5c917734889b231dae579a00ce6"
      }
     },
     "83ce587831ad4cf485d7e37be07a546e": {
      "model_module": "@jupyter-widgets/controls",
      "model_module_version": "1.5.0",
      "model_name": "DescriptionStyleModel",
      "state": {
       "description_width": ""
      }
     },
     "843946a10f1d4e508268be174ab38815": {
      "model_module": "@jupyter-widgets/base",
      "model_module_version": "1.2.0",
      "model_name": "LayoutModel",
      "state": {
       "display": "flex",
       "flex_flow": "row",
       "justify_content": "space-between",
       "margin": "0 0 20px 0"
      }
     },
     "85384bb685f14a7a9197c90fe8009163": {
      "model_module": "@jupyter-widgets/controls",
      "model_module_version": "1.5.0",
      "model_name": "DescriptionStyleModel",
      "state": {
       "description_width": ""
      }
     },
     "86f9b5c917734889b231dae579a00ce6": {
      "model_module": "@jupyter-widgets/controls",
      "model_module_version": "1.5.0",
      "model_name": "ButtonStyleModel",
      "state": {
       "button_color": "#4DD0E1"
      }
     },
     "884128dc91d44052910723dfc4c5c291": {
      "model_module": "@jupyter-widgets/base",
      "model_module_version": "1.2.0",
      "model_name": "LayoutModel",
      "state": {}
     },
     "885f68d52eef461794272ee7991969f6": {
      "model_module": "@jupyter-widgets/base",
      "model_module_version": "1.2.0",
      "model_name": "LayoutModel",
      "state": {
       "align_items": "stretch",
       "display": "flex",
       "flex_flow": "row wrap",
       "width": "auto"
      }
     },
     "891ee7f81fc54f298692047e460212f5": {
      "model_module": "@jupyter-widgets/controls",
      "model_module_version": "1.5.0",
      "model_name": "ButtonModel",
      "state": {
       "description": "Submit",
       "layout": "IPY_MODEL_925ccebe9cb342cd811f3f03d860ee7e",
       "style": "IPY_MODEL_a1dd03c87b8f45029107a7c529b16a10"
      }
     },
     "8ae90e653ad746f4a4a39fe22344ccaf": {
      "model_module": "@jupyter-widgets/controls",
      "model_module_version": "1.5.0",
      "model_name": "ButtonStyleModel",
      "state": {
       "button_color": "#4DD0E1"
      }
     },
     "8b3c04062f564e7595e5674521109426": {
      "model_module": "@jupyter-widgets/controls",
      "model_module_version": "1.5.0",
      "model_name": "HTMLModel",
      "state": {
       "layout": "IPY_MODEL_6b466d25db5142fda750bcdace00d2e5",
       "style": "IPY_MODEL_a45ec72f112a4dd491a7f8e85d997ede",
       "value": "<style>p{word-wrap: break-word}</style> <p>fib(n - 1) + fib(n - 2) </p>"
      }
     },
     "8bb4a6a0ee0845e0ab48149b8f631047": {
      "model_module": "@jupyter-widgets/controls",
      "model_module_version": "1.5.0",
      "model_name": "LabelModel",
      "state": {
       "layout": "IPY_MODEL_e54847110edd4768ba053d94294b5fc7",
       "style": "IPY_MODEL_f4ae8ea072bf452cba9fb968caba9258"
      }
     },
     "8e1654b88c684875bec4da10f4db58fc": {
      "model_module": "@jupyter-widgets/base",
      "model_module_version": "1.2.0",
      "model_name": "LayoutModel",
      "state": {
       "width": "30px"
      }
     },
     "8ede3f3d95ad44618259f98b042a314e": {
      "model_module": "@jupyter-widgets/controls",
      "model_module_version": "1.5.0",
      "model_name": "VBoxModel",
      "state": {
       "box_style": "info",
       "children": [
        "IPY_MODEL_21223f7375ba4e8eaeba8c02bed1abb9",
        "IPY_MODEL_43397697ffc243ac9ccb1ed1d11f476d",
        "IPY_MODEL_7014240835bd4bcda7b7f05b009233ff"
       ],
       "layout": "IPY_MODEL_daeafc147eaf4c1aa9efeba937c821b4"
      }
     },
     "8f2879c925e34b7fab1f772bd07d06ef": {
      "model_module": "@jupyter-widgets/base",
      "model_module_version": "1.2.0",
      "model_name": "LayoutModel",
      "state": {
       "align_items": "stretch",
       "display": "flex",
       "flex_flow": "row wrap",
       "width": "auto"
      }
     },
     "92112ae073b046829aa2ec40c8abe2a1": {
      "model_module": "@jupyter-widgets/controls",
      "model_module_version": "1.5.0",
      "model_name": "DescriptionStyleModel",
      "state": {
       "description_width": ""
      }
     },
     "925ccebe9cb342cd811f3f03d860ee7e": {
      "model_module": "@jupyter-widgets/base",
      "model_module_version": "1.2.0",
      "model_name": "LayoutModel",
      "state": {}
     },
     "933a938fe35c4679a4a9e4d479b8aaac": {
      "model_module": "@jupyter-widgets/controls",
      "model_module_version": "1.5.0",
      "model_name": "VBoxModel",
      "state": {
       "box_style": "info",
       "children": [
        "IPY_MODEL_5ce4f345abf4493aaeea4e068ec2c47d",
        "IPY_MODEL_2f6eb6d234264db18866688ff1b6476b",
        "IPY_MODEL_30b7ae43262a4a7eb91de0380e062e92"
       ],
       "layout": "IPY_MODEL_5f7837beb15d4f7b8bf4f4224194d6cd"
      }
     },
     "95c7de40a89b47b7b86c745bf3f7274b": {
      "model_module": "@jupyter-widgets/controls",
      "model_module_version": "1.5.0",
      "model_name": "DescriptionStyleModel",
      "state": {
       "description_width": ""
      }
     },
     "96a4ca2236ae4b20942edd93df42a535": {
      "model_module": "@jupyter-widgets/controls",
      "model_module_version": "1.5.0",
      "model_name": "HBoxModel",
      "state": {
       "children": [
        "IPY_MODEL_520a0b9260694cff83d884dc959a2855",
        "IPY_MODEL_0278aee27bf241b0b1d688c44e09dece",
        "IPY_MODEL_22046884bf8043a199a4fc1a6d8ea090"
       ],
       "layout": "IPY_MODEL_0f715c8081a04bdd99410ae3ea9dac0d"
      }
     },
     "981f67d6dc014554a8836e520ce00508": {
      "model_module": "@jupyter-widgets/base",
      "model_module_version": "1.2.0",
      "model_name": "LayoutModel",
      "state": {
       "align_items": "stretch",
       "display": "flex",
       "flex_flow": "column",
       "width": "100%"
      }
     },
     "98ccfd4b0f574955857c3f883167106b": {
      "model_module": "@jupyter-widgets/controls",
      "model_module_version": "1.5.0",
      "model_name": "HBoxModel",
      "state": {
       "children": [
        "IPY_MODEL_b5107f822ff74dcbbbd1df04edc1c312"
       ],
       "layout": "IPY_MODEL_3b56fbcf4d5443b1a116fd419f24b375"
      }
     },
     "98d3c0acc775418ab5972954a25141ce": {
      "model_module": "@jupyter-widgets/controls",
      "model_module_version": "1.5.0",
      "model_name": "ButtonStyleModel",
      "state": {
       "button_color": "#4DD0E1"
      }
     },
     "9a6b4157c02948ddb27dbe4cc1f06128": {
      "model_module": "@jupyter-widgets/base",
      "model_module_version": "1.2.0",
      "model_name": "LayoutModel",
      "state": {
       "width": "auto"
      }
     },
     "9adcd788f89041e3a27c17ef7bc95036": {
      "model_module": "@jupyter-widgets/controls",
      "model_module_version": "1.5.0",
      "model_name": "HTMLModel",
      "state": {
       "layout": "IPY_MODEL_9bf53226d2924680ac89d35410cb446a",
       "style": "IPY_MODEL_5463035df403465dbbc0c90007877e19",
       "value": "<style>p{word-wrap: break-word}</style> <p>fib(n - k) </p>"
      }
     },
     "9bf53226d2924680ac89d35410cb446a": {
      "model_module": "@jupyter-widgets/base",
      "model_module_version": "1.2.0",
      "model_name": "LayoutModel",
      "state": {}
     },
     "9d5223b068cf49b991467ca7d33eeea5": {
      "model_module": "@jupyter-widgets/base",
      "model_module_version": "1.2.0",
      "model_name": "LayoutModel",
      "state": {}
     },
     "9f840a0425b849c58d48d44bb513f150": {
      "model_module": "@jupyter-widgets/base",
      "model_module_version": "1.2.0",
      "model_name": "LayoutModel",
      "state": {
       "align_items": "stretch",
       "display": "flex",
       "flex_flow": "row wrap",
       "width": "auto"
      }
     },
     "9ffec2b3e83641c1a53c490e792eb3d7": {
      "model_module": "@jupyter-widgets/base",
      "model_module_version": "1.2.0",
      "model_name": "LayoutModel",
      "state": {
       "align_items": "stretch",
       "display": "flex",
       "flex_flow": "row wrap",
       "width": "auto"
      }
     },
     "a1dd03c87b8f45029107a7c529b16a10": {
      "model_module": "@jupyter-widgets/controls",
      "model_module_version": "1.5.0",
      "model_name": "ButtonStyleModel",
      "state": {
       "button_color": "#4DD0E1"
      }
     },
     "a1e5f55fa0ae441f9e8a1a05798dd835": {
      "model_module": "@jupyter-widgets/controls",
      "model_module_version": "1.5.0",
      "model_name": "DescriptionStyleModel",
      "state": {
       "description_width": ""
      }
     },
     "a24bacfdd4bf4a9681122161c9786a57": {
      "model_module": "@jupyter-widgets/base",
      "model_module_version": "1.2.0",
      "model_name": "LayoutModel",
      "state": {
       "width": "30px"
      }
     },
     "a260151243eb44c4bb856cf4e35a92f0": {
      "model_module": "@jupyter-widgets/base",
      "model_module_version": "1.2.0",
      "model_name": "LayoutModel",
      "state": {
       "align_items": "stretch",
       "display": "flex",
       "flex_flow": "row wrap",
       "width": "auto"
      }
     },
     "a45ec72f112a4dd491a7f8e85d997ede": {
      "model_module": "@jupyter-widgets/controls",
      "model_module_version": "1.5.0",
      "model_name": "DescriptionStyleModel",
      "state": {
       "description_width": ""
      }
     },
     "a50fba7640464e3da8fc3de79afb779b": {
      "model_module": "@jupyter-widgets/base",
      "model_module_version": "1.2.0",
      "model_name": "LayoutModel",
      "state": {}
     },
     "a5be4530f76c48b18e28cc0ee8316273": {
      "model_module": "@jupyter-widgets/controls",
      "model_module_version": "1.5.0",
      "model_name": "HTMLModel",
      "state": {
       "layout": "IPY_MODEL_7045265f3c234f7d8935825b628e408e",
       "style": "IPY_MODEL_01e3622ec71c49feb0560b57362776b6",
       "value": "<style>p{word-wrap: break-word}</style> <p>Fill in the blank with regard to our implementation of fib(n) </p>"
      }
     },
     "a83db951d883419c87aee9aae42a4587": {
      "model_module": "@jupyter-widgets/controls",
      "model_module_version": "1.5.0",
      "model_name": "LabelModel",
      "state": {
       "layout": "IPY_MODEL_464a876d7a6c4005a632d383dde8649e",
       "style": "IPY_MODEL_384317c5f8904bdba556faf45ba33249"
      }
     },
     "aae759ecd10e41ef9778e2aa69797720": {
      "model_module": "@jupyter-widgets/controls",
      "model_module_version": "1.5.0",
      "model_name": "TextModel",
      "state": {
       "layout": "IPY_MODEL_9a6b4157c02948ddb27dbe4cc1f06128",
       "placeholder": "",
       "style": "IPY_MODEL_284eb20976c9471481ecd0fa091de827"
      }
     },
     "ab22e27772e44a4eb2d5e8ac2bc232ba": {
      "model_module": "@jupyter-widgets/controls",
      "model_module_version": "1.5.0",
      "model_name": "HTMLModel",
      "state": {
       "layout": "IPY_MODEL_3095a0d8e2d04effaaf2e4a789469394",
       "style": "IPY_MODEL_630dc69a34d443bb82a7f98fe2a9638b",
       "value": "<style>p{word-wrap: break-word}</style> <p>times. </p>"
      }
     },
     "ac3592717a30464693a979427e464d5f": {
      "model_module": "@jupyter-widgets/base",
      "model_module_version": "1.2.0",
      "model_name": "LayoutModel",
      "state": {
       "align_items": "stretch",
       "display": "flex",
       "flex_flow": "row wrap",
       "width": "auto"
      }
     },
     "ae2a3b9c55a747398d74ff0a95958c11": {
      "model_module": "@jupyter-widgets/base",
      "model_module_version": "1.2.0",
      "model_name": "LayoutModel",
      "state": {
       "width": "30px"
      }
     },
     "ae5a08a2375e4fcfb2ce325a7b158ea9": {
      "model_module": "@jupyter-widgets/controls",
      "model_module_version": "1.5.0",
      "model_name": "DescriptionStyleModel",
      "state": {
       "description_width": ""
      }
     },
     "b4a5bd1377a64a49b3055d337c6bec3d": {
      "model_module": "@jupyter-widgets/controls",
      "model_module_version": "1.5.0",
      "model_name": "LabelModel",
      "state": {
       "layout": "IPY_MODEL_fb4bc6f52bee41a99efc516c9c5fc61f",
       "style": "IPY_MODEL_64dd98ea01594f68afccc44695a4d2fa"
      }
     },
     "b5107f822ff74dcbbbd1df04edc1c312": {
      "model_module": "@jupyter-widgets/controls",
      "model_module_version": "1.5.0",
      "model_name": "HTMLModel",
      "state": {
       "layout": "IPY_MODEL_3e914fae98a444bd9a6b52c77b300324",
       "style": "IPY_MODEL_95c7de40a89b47b7b86c745bf3f7274b",
       "value": "<style>p{word-wrap: break-word}</style> <p>Given k between 0 and n - 3, how many nodes of type fib(n - k) does the call stack tree of fib(n) have? </p>"
      }
     },
     "b51fe3b8b79840e19d8343d209355bba": {
      "model_module": "@jupyter-widgets/controls",
      "model_module_version": "1.5.0",
      "model_name": "HBoxModel",
      "state": {
       "children": [
        "IPY_MODEL_e94eede789124d61a617f37f8397fee2",
        "IPY_MODEL_d3c127a997ef432199a6743110c03fea"
       ],
       "layout": "IPY_MODEL_4249afa9443749f6a7e7469ed27113b5"
      }
     },
     "b7151857db2d42d4bfc22b3e0a7cbd34": {
      "model_module": "@jupyter-widgets/controls",
      "model_module_version": "1.5.0",
      "model_name": "HBoxModel",
      "state": {
       "children": [
        "IPY_MODEL_bf9fa7ad1fa74245b014d7adfa15ac14",
        "IPY_MODEL_11e86977a12844ebad53df4c682130e3"
       ],
       "layout": "IPY_MODEL_9ffec2b3e83641c1a53c490e792eb3d7"
      }
     },
     "b71bdd29c69843ad8b7c34743fcdd421": {
      "model_module": "@jupyter-widgets/controls",
      "model_module_version": "1.5.0",
      "model_name": "HBoxModel",
      "state": {
       "children": [
        "IPY_MODEL_313a5d33aee344b9b15e3ca7e0fb6cc3",
        "IPY_MODEL_0c2ef4b54ccc4d64baf8a9946585ddbb"
       ],
       "layout": "IPY_MODEL_885f68d52eef461794272ee7991969f6"
      }
     },
     "b96d4ff9dde0425db8756579568dcc69": {
      "model_module": "@jupyter-widgets/base",
      "model_module_version": "1.2.0",
      "model_name": "LayoutModel",
      "state": {
       "display": "none"
      }
     },
     "b972925920704f3789bdb33195b9bb7c": {
      "model_module": "@jupyter-widgets/controls",
      "model_module_version": "1.5.0",
      "model_name": "DescriptionStyleModel",
      "state": {
       "description_width": "initial"
      }
     },
     "bbe4963297444c928fd38269aabeb6e0": {
      "model_module": "@jupyter-widgets/base",
      "model_module_version": "1.2.0",
      "model_name": "LayoutModel",
      "state": {}
     },
     "be60774e28224d4586f2522f1e70c1c0": {
      "model_module": "@jupyter-widgets/controls",
      "model_module_version": "1.5.0",
      "model_name": "HTMLModel",
      "state": {
       "layout": "IPY_MODEL_dce5631b9a30458f837fab129ecb10a0",
       "style": "IPY_MODEL_5e5bb6f3ad1c4ee9b62c1e4c5cb59e78",
       "value": "<style>p{word-wrap: break-word}</style> <p>When calculating the 8th Fibonacci number, fib(2) is called </p>"
      }
     },
     "bf9fa7ad1fa74245b014d7adfa15ac14": {
      "model_module": "@jupyter-widgets/controls",
      "model_module_version": "1.5.0",
      "model_name": "LabelModel",
      "state": {
       "layout": "IPY_MODEL_45f1c3569b3f4b3c86ce5795d0bc8b91",
       "style": "IPY_MODEL_39c952f489644d07bba42532c899c6d6"
      }
     },
     "c1da56b6f0bf436c8c1937893f04f536": {
      "model_module": "@jupyter-widgets/controls",
      "model_module_version": "1.5.0",
      "model_name": "ButtonStyleModel",
      "state": {
       "button_color": "#4DD0E1"
      }
     },
     "c225104fcf7e49d49c423c77cc06ec6b": {
      "model_module": "@jupyter-widgets/controls",
      "model_module_version": "1.5.0",
      "model_name": "CheckboxModel",
      "state": {
       "disabled": false,
       "layout": "IPY_MODEL_dd7dcd6dffc1423ab0a146a76b12bf29",
       "style": "IPY_MODEL_1073a189456f4a3d8c2a555008a8b2a1",
       "value": false
      }
     },
     "c4cf26c8f06245a6840f1ec7c5b80f62": {
      "model_module": "@jupyter-widgets/controls",
      "model_module_version": "1.5.0",
      "model_name": "DescriptionStyleModel",
      "state": {
       "description_width": ""
      }
     },
     "c530b748286046939767b843f0859ced": {
      "model_module": "@jupyter-widgets/base",
      "model_module_version": "1.2.0",
      "model_name": "LayoutModel",
      "state": {
       "align_items": "stretch",
       "display": "flex",
       "flex_flow": "row wrap",
       "margin": "30px 0 0 0"
      }
     },
     "c60df9b0739a4d25a839dfd4f076795d": {
      "model_module": "@jupyter-widgets/controls",
      "model_module_version": "1.5.0",
      "model_name": "HBoxModel",
      "state": {
       "children": [
        "IPY_MODEL_a5be4530f76c48b18e28cc0ee8316273"
       ],
       "layout": "IPY_MODEL_2f57833a05b14f74b5c00ffa40919014"
      }
     },
     "c622af1c3504449bb0816118be207ce4": {
      "model_module": "@jupyter-widgets/base",
      "model_module_version": "1.2.0",
      "model_name": "LayoutModel",
      "state": {}
     },
     "c886bef975ab4a398f5a27bfa510629e": {
      "model_module": "@jupyter-widgets/controls",
      "model_module_version": "1.5.0",
      "model_name": "LabelModel",
      "state": {
       "layout": "IPY_MODEL_439bef3bd54d4253ad192f52316e797a",
       "style": "IPY_MODEL_df852716227148c58c0ebf8db18f367e"
      }
     },
     "c99b352158304e13b6d74ca4c2edee6f": {
      "model_module": "@jupyter-widgets/controls",
      "model_module_version": "1.5.0",
      "model_name": "ButtonModel",
      "state": {
       "description": "Show answer",
       "disabled": true,
       "layout": "IPY_MODEL_e0cb3e94bba54fd493f1990a24dbbe56",
       "style": "IPY_MODEL_8ae90e653ad746f4a4a39fe22344ccaf"
      }
     },
     "c9af28261ff34e719b676fe4a38458b5": {
      "model_module": "@jupyter-widgets/controls",
      "model_module_version": "1.5.0",
      "model_name": "DescriptionStyleModel",
      "state": {
       "description_width": ""
      }
     },
     "cc48f15158504f6796e6fe7f6cb25a45": {
      "model_module": "@jupyter-widgets/controls",
      "model_module_version": "1.5.0",
      "model_name": "LabelModel",
      "state": {
       "layout": "IPY_MODEL_d514d7f16a51453bbdb8769d0d3e87e4",
       "style": "IPY_MODEL_6dc0d61948624c17af4cd46445433a62"
      }
     },
     "cc70c1d43be64d69b352e1181bac76df": {
      "model_module": "@jupyter-widgets/controls",
      "model_module_version": "1.5.0",
      "model_name": "DescriptionStyleModel",
      "state": {
       "description_width": "initial"
      }
     },
     "cdf48d0405814e82a83f640f4164f85c": {
      "model_module": "@jupyter-widgets/controls",
      "model_module_version": "1.5.0",
      "model_name": "LabelModel",
      "state": {
       "layout": "IPY_MODEL_1c89b77a872f43a19957b1c3245164b5",
       "style": "IPY_MODEL_c9af28261ff34e719b676fe4a38458b5"
      }
     },
     "cfd25646f2fa4adab2dd475ec4b0a691": {
      "model_module": "@jupyter-widgets/controls",
      "model_module_version": "1.5.0",
      "model_name": "VBoxModel",
      "state": {
       "box_style": "info",
       "children": [
        "IPY_MODEL_98ccfd4b0f574955857c3f883167106b",
        "IPY_MODEL_f4e7890ff1654c86b7ed2918a048a78a",
        "IPY_MODEL_6d958999f4bd4ce6ba2d764b170f46fb"
       ],
       "layout": "IPY_MODEL_981f67d6dc014554a8836e520ce00508"
      }
     },
     "d0256b8d76fe49bb937eb063fe2c5af5": {
      "model_module": "@jupyter-widgets/base",
      "model_module_version": "1.2.0",
      "model_name": "LayoutModel",
      "state": {
       "align_items": "stretch",
       "display": "flex",
       "flex_flow": "column",
       "width": "100%"
      }
     },
     "d0a4cf29ac154b848e5795055326eac7": {
      "model_module": "@jupyter-widgets/controls",
      "model_module_version": "1.5.0",
      "model_name": "CheckboxModel",
      "state": {
       "disabled": false,
       "layout": "IPY_MODEL_e6e3f422a6ea444090d16d11159df0dc",
       "style": "IPY_MODEL_b972925920704f3789bdb33195b9bb7c",
       "value": false
      }
     },
     "d1ef7326218e40b5a3ffb1bc09149730": {
      "model_module": "@jupyter-widgets/base",
      "model_module_version": "1.2.0",
      "model_name": "LayoutModel",
      "state": {}
     },
     "d3c127a997ef432199a6743110c03fea": {
      "model_module": "@jupyter-widgets/controls",
      "model_module_version": "1.5.0",
      "model_name": "HTMLModel",
      "state": {
       "layout": "IPY_MODEL_472ad906f8e34b7f96d425d19eb8086f",
       "style": "IPY_MODEL_85384bb685f14a7a9197c90fe8009163",
       "value": "<style>p{word-wrap: break-word}</style> <p>fib(n - 1) </p>"
      }
     },
     "d3c7fa12d15a4e1e912ed48faa5d069e": {
      "model_module": "@jupyter-widgets/controls",
      "model_module_version": "1.5.0",
      "model_name": "DescriptionStyleModel",
      "state": {
       "description_width": ""
      }
     },
     "d514d7f16a51453bbdb8769d0d3e87e4": {
      "model_module": "@jupyter-widgets/base",
      "model_module_version": "1.2.0",
      "model_name": "LayoutModel",
      "state": {
       "height": "50%",
       "margin": "0 0 0 30px",
       "width": "50%"
      }
     },
     "d5a480c146c2491da12b4845a38603ff": {
      "model_module": "@jupyter-widgets/base",
      "model_module_version": "1.2.0",
      "model_name": "LayoutModel",
      "state": {
       "align_items": "stretch",
       "display": "flex",
       "flex_flow": "row wrap",
       "margin": "30px 0 0 0"
      }
     },
     "d636bce8fe7745b18d0c11489d7d2ccb": {
      "model_module": "@jupyter-widgets/controls",
      "model_module_version": "1.5.0",
      "model_name": "DescriptionStyleModel",
      "state": {
       "description_width": "initial"
      }
     },
     "d85f4b9320604a59b0efcfd27fd8ee02": {
      "model_module": "@jupyter-widgets/controls",
      "model_module_version": "1.5.0",
      "model_name": "CheckboxModel",
      "state": {
       "disabled": false,
       "layout": "IPY_MODEL_40f79e8e41914c68aa6321e083404d19",
       "style": "IPY_MODEL_0dbd1d796474435591911783c1c22d29",
       "value": false
      }
     },
     "d95180c9ee3f4c25976f0043067a1a01": {
      "model_module": "@jupyter-widgets/base",
      "model_module_version": "1.2.0",
      "model_name": "LayoutModel",
      "state": {
       "width": "30px"
      }
     },
     "d95bc23d73bd42628e82cde4be4f52d6": {
      "model_module": "@jupyter-widgets/controls",
      "model_module_version": "1.5.0",
      "model_name": "HBoxModel",
      "state": {
       "children": [
        "IPY_MODEL_c886bef975ab4a398f5a27bfa510629e",
        "IPY_MODEL_61cb0fe2574c4d64806ab099fa540a84"
       ],
       "layout": "IPY_MODEL_52211b721a4449ecad4bd07ecc3f1d39"
      }
     },
     "d9efe54199754ee38e216a68b5242095": {
      "model_module": "@jupyter-widgets/controls",
      "model_module_version": "1.5.0",
      "model_name": "HBoxModel",
      "state": {
       "children": [
        "IPY_MODEL_d0a4cf29ac154b848e5795055326eac7",
        "IPY_MODEL_38f3c226a7924cedac9d5ed01ef3e9f7"
       ],
       "layout": "IPY_MODEL_dcf9f1eba295480d9d635b603857f053"
      }
     },
     "daeafc147eaf4c1aa9efeba937c821b4": {
      "model_module": "@jupyter-widgets/base",
      "model_module_version": "1.2.0",
      "model_name": "LayoutModel",
      "state": {
       "align_items": "stretch",
       "display": "flex",
       "flex_flow": "column",
       "width": "100%"
      }
     },
     "db159632b68c418f98d096f7a1a22e23": {
      "model_module": "@jupyter-widgets/controls",
      "model_module_version": "1.5.0",
      "model_name": "HBoxModel",
      "state": {
       "children": [
        "IPY_MODEL_11ff37199fb34991900ef08af50daec8",
        "IPY_MODEL_69219d43bea7448aaac585ce0f12d150"
       ],
       "layout": "IPY_MODEL_7c97c48d3fa447e3ae93601789bc1a35"
      }
     },
     "dc389398f3fe461caa0640292f737055": {
      "model_module": "@jupyter-widgets/controls",
      "model_module_version": "1.5.0",
      "model_name": "HTMLModel",
      "state": {
       "layout": "IPY_MODEL_701d3edac6694abea11c7502138df752",
       "style": "IPY_MODEL_32c06ded7f1544c1853fff899cf5c215",
       "value": "<style>p{word-wrap: break-word}</style> <p>Fill in the blanks with a whole number. </p>"
      }
     },
     "dce5631b9a30458f837fab129ecb10a0": {
      "model_module": "@jupyter-widgets/base",
      "model_module_version": "1.2.0",
      "model_name": "LayoutModel",
      "state": {}
     },
     "dcf9f1eba295480d9d635b603857f053": {
      "model_module": "@jupyter-widgets/base",
      "model_module_version": "1.2.0",
      "model_name": "LayoutModel",
      "state": {
       "align_items": "stretch",
       "display": "flex",
       "flex_flow": "row wrap",
       "width": "auto"
      }
     },
     "dd7dcd6dffc1423ab0a146a76b12bf29": {
      "model_module": "@jupyter-widgets/base",
      "model_module_version": "1.2.0",
      "model_name": "LayoutModel",
      "state": {
       "width": "30px"
      }
     },
     "dede758a5767442786b14d4bd3a56141": {
      "model_module": "@jupyter-widgets/base",
      "model_module_version": "1.2.0",
      "model_name": "LayoutModel",
      "state": {
       "height": "50%",
       "margin": "0 0 0 30px",
       "width": "50%"
      }
     },
     "df852716227148c58c0ebf8db18f367e": {
      "model_module": "@jupyter-widgets/controls",
      "model_module_version": "1.5.0",
      "model_name": "DescriptionStyleModel",
      "state": {
       "description_width": ""
      }
     },
     "e0854c8da17140b3b293e2d34ecf971c": {
      "model_module": "@jupyter-widgets/base",
      "model_module_version": "1.2.0",
      "model_name": "LayoutModel",
      "state": {
       "align_items": "stretch",
       "display": "flex",
       "flex_flow": "row wrap",
       "width": "auto"
      }
     },
     "e0b02f98354646728010cebbbb1a22a0": {
      "model_module": "@jupyter-widgets/controls",
      "model_module_version": "1.5.0",
      "model_name": "DescriptionStyleModel",
      "state": {
       "description_width": ""
      }
     },
     "e0cb3e94bba54fd493f1990a24dbbe56": {
      "model_module": "@jupyter-widgets/base",
      "model_module_version": "1.2.0",
      "model_name": "LayoutModel",
      "state": {
       "display": "none"
      }
     },
     "e43c211ea8c54d3699dd420b3b37bb56": {
      "model_module": "@jupyter-widgets/controls",
      "model_module_version": "1.5.0",
      "model_name": "HBoxModel",
      "state": {
       "children": [
        "IPY_MODEL_4d84af0eaa074b1f90b7ea4b8fadfd0d",
        "IPY_MODEL_f657de1aae894a4080ea87284fefd123"
       ],
       "layout": "IPY_MODEL_5571ed7e5ad44f57bec1310647b5ea60"
      }
     },
     "e4d3e2ca318d4fee9000fd233946ca1d": {
      "model_module": "@jupyter-widgets/controls",
      "model_module_version": "1.5.0",
      "model_name": "DescriptionStyleModel",
      "state": {
       "description_width": "initial"
      }
     },
     "e54847110edd4768ba053d94294b5fc7": {
      "model_module": "@jupyter-widgets/base",
      "model_module_version": "1.2.0",
      "model_name": "LayoutModel",
      "state": {
       "height": "50%",
       "margin": "0 0 0 30px",
       "width": "50%"
      }
     },
     "e66a7480684a41799035db1ffe59ddfe": {
      "model_module": "@jupyter-widgets/controls",
      "model_module_version": "1.5.0",
      "model_name": "DescriptionStyleModel",
      "state": {
       "description_width": "initial"
      }
     },
     "e6e3f422a6ea444090d16d11159df0dc": {
      "model_module": "@jupyter-widgets/base",
      "model_module_version": "1.2.0",
      "model_name": "LayoutModel",
      "state": {
       "width": "30px"
      }
     },
     "e94eede789124d61a617f37f8397fee2": {
      "model_module": "@jupyter-widgets/controls",
      "model_module_version": "1.5.0",
      "model_name": "CheckboxModel",
      "state": {
       "disabled": false,
       "layout": "IPY_MODEL_ae2a3b9c55a747398d74ff0a95958c11",
       "style": "IPY_MODEL_1e9130526905463696e36ca12149ddb0",
       "value": false
      }
     },
     "e998fc4c5bd04a40800d16501e009f74": {
      "model_module": "@jupyter-widgets/controls",
      "model_module_version": "1.5.0",
      "model_name": "HTMLModel",
      "state": {
       "layout": "IPY_MODEL_03a4e28e7c5e4a6780ee32726a4c774d",
       "style": "IPY_MODEL_f0d7ff7002c84a5398dd1921cd63c8d0",
       "value": "<style>p{word-wrap: break-word}</style> <p>The call tree for fib(n) has exactly </p>"
      }
     },
     "ec933d2cf87f4ede93d31c8622bc12e8": {
      "model_module": "@jupyter-widgets/base",
      "model_module_version": "1.2.0",
      "model_name": "LayoutModel",
      "state": {
       "display": "none"
      }
     },
     "f0d7ff7002c84a5398dd1921cd63c8d0": {
      "model_module": "@jupyter-widgets/controls",
      "model_module_version": "1.5.0",
      "model_name": "DescriptionStyleModel",
      "state": {
       "description_width": ""
      }
     },
     "f3c21a9a70c14685b2bff7d75016a2d4": {
      "model_module": "@jupyter-widgets/base",
      "model_module_version": "1.2.0",
      "model_name": "LayoutModel",
      "state": {
       "align_items": "stretch",
       "display": "flex",
       "flex_flow": "row wrap",
       "margin": "30px 0 0 0"
      }
     },
     "f4ae8ea072bf452cba9fb968caba9258": {
      "model_module": "@jupyter-widgets/controls",
      "model_module_version": "1.5.0",
      "model_name": "DescriptionStyleModel",
      "state": {
       "description_width": ""
      }
     },
     "f4e7890ff1654c86b7ed2918a048a78a": {
      "model_module": "@jupyter-widgets/controls",
      "model_module_version": "1.5.0",
      "model_name": "VBoxModel",
      "state": {
       "children": [
        "IPY_MODEL_2b11cd516c654d54be47491ee3e07d4b",
        "IPY_MODEL_d95bc23d73bd42628e82cde4be4f52d6",
        "IPY_MODEL_e43c211ea8c54d3699dd420b3b37bb56",
        "IPY_MODEL_f5a1c17340064e8390cebab3d435fb8e"
       ],
       "layout": "IPY_MODEL_d0256b8d76fe49bb937eb063fe2c5af5"
      }
     },
     "f5a1c17340064e8390cebab3d435fb8e": {
      "model_module": "@jupyter-widgets/controls",
      "model_module_version": "1.5.0",
      "model_name": "HBoxModel",
      "state": {
       "children": [
        "IPY_MODEL_3715ed9828524d13912890c41f72b7b6",
        "IPY_MODEL_539544e5bde64011aeebfa9a1af2a554"
       ],
       "layout": "IPY_MODEL_2284179b614e4daebaab8edab32ca1ee"
      }
     },
     "f657de1aae894a4080ea87284fefd123": {
      "model_module": "@jupyter-widgets/controls",
      "model_module_version": "1.5.0",
      "model_name": "HBoxModel",
      "state": {
       "children": [
        "IPY_MODEL_1d4aefdbcbcd4dbbb034758bed0f920b",
        "IPY_MODEL_083febf0ea6f4a349ac521ee9f6215b1"
       ],
       "layout": "IPY_MODEL_41d995d8415547caaaaa002e934f4114"
      }
     },
     "f65c04c8a6ce4b2bb849b1a0eee352ba": {
      "model_module": "@jupyter-widgets/controls",
      "model_module_version": "1.5.0",
      "model_name": "HBoxModel",
      "state": {
       "children": [
        "IPY_MODEL_00d27f9ee2724f8b88d105d9e87031a0",
        "IPY_MODEL_08444ab61a4b4d908066308e246b5324",
        "IPY_MODEL_ab22e27772e44a4eb2d5e8ac2bc232ba"
       ],
       "layout": "IPY_MODEL_5bc796f7d3cb433b90565d31f507eb53"
      }
     },
     "fb4bc6f52bee41a99efc516c9c5fc61f": {
      "model_module": "@jupyter-widgets/base",
      "model_module_version": "1.2.0",
      "model_name": "LayoutModel",
      "state": {}
     },
     "fbb79829d58141d4a4950772e71ba980": {
      "model_module": "@jupyter-widgets/base",
      "model_module_version": "1.2.0",
      "model_name": "LayoutModel",
      "state": {
       "align_items": "stretch",
       "display": "flex",
       "flex_flow": "row wrap",
       "width": "auto"
      }
     },
     "fd67cfb2daa94d5a8dffcf939ce0e081": {
      "model_module": "@jupyter-widgets/controls",
      "model_module_version": "1.5.0",
      "model_name": "HBoxModel",
      "state": {
       "children": [
        "IPY_MODEL_be60774e28224d4586f2522f1e70c1c0",
        "IPY_MODEL_aae759ecd10e41ef9778e2aa69797720",
        "IPY_MODEL_5887265e9ef941a19f4dea690d80c5ac"
       ],
       "layout": "IPY_MODEL_9f840a0425b849c58d48d44bb513f150"
      }
     },
     "fe083a2c4b7e419391ab33d1ca141a9e": {
      "model_module": "@jupyter-widgets/controls",
      "model_module_version": "1.5.0",
      "model_name": "LabelModel",
      "state": {
       "layout": "IPY_MODEL_442dc129daf44c858ee124dc17d0bc4c",
       "style": "IPY_MODEL_10871748d75a41bbbb722a0c2db8912d"
      }
     }
    },
    "version_major": 2,
    "version_minor": 0
   }
  }
 },
 "nbformat": 4,
 "nbformat_minor": 4
}
