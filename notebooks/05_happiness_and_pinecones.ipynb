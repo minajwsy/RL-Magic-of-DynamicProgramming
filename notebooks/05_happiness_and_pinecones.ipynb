{
 "cells": [
  {
   "cell_type": "markdown",
   "metadata": {},
   "source": [
    "<font size=\"+4\">Lesson 5: Happiness and Pinecones</font>\n",
    "    \n",
    "In this lesson we'll compare top-down to bottom-up approaches to solving problems and show when and why a recursive, top-down approach might perform better.\n",
    "    \n",
    "To demonstrate this, we will use an example of the longest common subsequence problem, which I have called 'Happiness & Pinecones'.\n",
    "\n",
    "Along the way you'll:\n",
    "1. Practice the 4 steps you learned previously\n",
    "2. Learn when to use the multi-prefix pattern of subproblems\n",
    "    \n",
    "    \n",
    "The following video introduces the topic.  \n"
   ]
  },
  {
   "cell_type": "code",
   "execution_count": 3,
   "metadata": {
    "jupyter": {
     "source_hidden": true
    },
    "pycharm": {
     "name": "#%%\n"
    }
   },
   "outputs": [
    {
     "data": {
      "image/jpeg": "[encoded data removed]",
      "text/html": [
       "\n",
       "        <iframe\n",
       "            width=\"400\"\n",
       "            height=\"300\"\n",
       "            src=\"https://www.youtube.com/embed/xe96r9RELyI\"\n",
       "            frameborder=\"0\"\n",
       "            allowfullscreen\n",
       "        ></iframe>\n",
       "        "
      ],
      "text/plain": [
       "<IPython.lib.display.YouTubeVideo at 0x173ff9d1488>"
      ]
     },
     "execution_count": 3,
     "metadata": {},
     "output_type": "execute_result"
    }
   ],
   "source": [
    "from IPython.display import YouTubeVideo\n",
    "YouTubeVideo('xe96r9RELyI')"
   ]
  },
  {
   "cell_type": "code",
   "execution_count": 4,
   "metadata": {
    "jupyter": {
     "source_hidden": true
    }
   },
   "outputs": [
    {
     "data": {
      "text/html": [
       "\n",
       "<iframe width=\"560\" height=\"315\" src=\"https://musiclab.chromeexperiments.com/Song-Maker/embed/6213577384919040\" frameborder=\"0\" allowfullscreen></iframe>\n"
      ],
      "text/plain": [
       "<IPython.core.display.HTML object>"
      ]
     },
     "metadata": {},
     "output_type": "display_data"
    }
   ],
   "source": [
    "%%HTML\n",
    "\n",
    "<iframe width=\"560\" height=\"315\" src=\"https://musiclab.chromeexperiments.com/Song-Maker/embed/6213577384919040\" frameborder=\"0\" allowfullscreen></iframe>"
   ]
  },
  {
   "cell_type": "markdown",
   "metadata": {},
   "source": [
    "\n",
    "\n",
    "\n",
    "\n",
    "\n"
   ]
  },
  {
   "cell_type": "markdown",
   "metadata": {},
   "source": [
    "# Longest Common Substring in Four Steps"
   ]
  },
  {
   "cell_type": "code",
   "execution_count": null,
   "metadata": {},
   "outputs": [],
   "source": []
  },
  {
   "cell_type": "markdown",
   "metadata": {},
   "source": [
    "<figure>\n",
    "    <img src=\"../images/h_and_p_on_dna.png\">\n",
    "    <figcaption>Figure 1: You're given two strings. Find the length of the longest matching subsequences you can find in both words.\n",
    "    </figcaption>\n",
    "</figure>\n",
    "<p>"
   ]
  },
  {
   "cell_type": "markdown",
   "metadata": {},
   "source": [
    "Note: The longest common substring problem is most often stated like this: You are given two string, X of length n and Y of length m. Find the longest string which is a substring of both X and Y. The worked example in this notebook will be to find the _length_ of the longest substring and not the substring itself."
   ]
  },
  {
   "cell_type": "code",
   "execution_count": null,
   "metadata": {
    "pycharm": {
     "name": "#%%\n"
    }
   },
   "outputs": [],
   "source": [
    "%run quizzes/quiz.py quizzes/05/lcs_example.json"
   ]
  },
  {
   "cell_type": "markdown",
   "metadata": {},
   "source": [
    "## Examine all Possible Solutions (step 1)\n",
    "Remember that by the end of this step you will be have a way to examine all valid possibilities according to constraints or instructions in the given problem statement."
   ]
  },
  {
   "cell_type": "markdown",
   "metadata": {
    "pycharm": {
     "name": "#%% md\n"
    }
   },
   "source": [
    "### Ignore Optimization\n",
    "__Start this way:__  Read the problem and pick out the optimization request if any - and ignore it! Answer the following quiz about the problem described here and in Figure 1 above."
   ]
  },
  {
   "cell_type": "code",
   "execution_count": 50,
   "metadata": {},
   "outputs": [
    {
     "data": {
      "application/vnd.jupyter.widget-view+json": {
       "model_id": "21be7de1d28545ea9006573bfaff9d63",
       "version_major": 2,
       "version_minor": 0
      },
      "text/plain": [
       "VBox(box_style='info', children=(HBox(children=(HTML(value='<style>p{word-wrap: break-word}</style> <p>How wil…"
      ]
     },
     "metadata": {},
     "output_type": "display_data"
    }
   ],
   "source": [
    "%run quizzes/quiz.py quizzes/05/lcs_first_step.json"
   ]
  },
  {
   "cell_type": "markdown",
   "metadata": {},
   "source": [
    "### Choose the Subproblem Pattern\n",
    "In previous problems we looked at a prefix of the given input. In this problem we will do something similar, but our input is two strings, so we'll look at _two_ prefixes."
   ]
  },
  {
   "cell_type": "markdown",
   "metadata": {},
   "source": [
    "If your input is: $x_1$, $x_2$, $x_3$, ... ,$x_n$, and $y_1$, $y_2$, $y_3$, ... ,$y_m$, your subproblems will be of the form: $x_1$, $x_2$, $x_3$, ..., $x_i$ and $y_1$, $y_2$, $y_3$, ... , $y_j$. For example:\n",
    "\n",
    "    +---------------------------------+\n",
    "    | x1   x2   x3  x4   x5   x6   x7 |  x8   x9   x10\n",
    "    +---------------------------------+\n",
    "    \n",
    "    +------------------+\n",
    "    | y1   y2   y3  x4 | x5   x6    x7   x8   x9   x10\n",
    "    +------------------+\n",
    "\n",
    "Now that we have the general form of the subproblems, we need to divide them into types. "
   ]
  },
  {
   "cell_type": "markdown",
   "metadata": {},
   "source": [
    "### Divide Subproblems into Cases\n",
    "Remember that there are 3 main ways to derive the recurrence relation:\n",
    "\n",
    "1. __It's given to you!__ That's not the case here\n",
    "2. __Build it from a given constraint.__ This is our case: the strings must be substrings and they must match. If they don't match, we don't count them.\n",
    "3. __Add your own constraint, then build from that.__ n/a\n",
    "\n",
    "The constraint of 'substrings must be substrings and they must match in order to count them' doesn't lead as smoothly into the recurrence relation as in the drinking game/largest independent set in a tree problem. But it still hints how to start: Start by __comparing the last letter__ of each word.\n",
    "\n",
    "Do they match? If they do, then we're interested in looking at the rest of both strings. If they don't match, then we need to split the next step into two: look at the whole of the 1st string and one letter less of the 2nd string. Then look at the whole of the 2nd string and one letter less of the 1st string.\n",
    "\n",
    "The important thing to note is that what I wrote above is NOT the final algorithm - it's just a way to think about how to build a recurrence relation that knows how to _count_ substring lengths and covers all the possible substrings."
   ]
  },
  {
   "cell_type": "code",
   "execution_count": 51,
   "metadata": {},
   "outputs": [
    {
     "data": {
      "application/vnd.jupyter.widget-view+json": {
       "model_id": "924205c6ac79432fa546e17423d31cfb",
       "version_major": 2,
       "version_minor": 0
      },
      "text/plain": [
       "VBox(box_style='info', children=(HBox(children=(HTML(value='<style>p{word-wrap: break-word}</style> <p>Select …"
      ]
     },
     "metadata": {},
     "output_type": "display_data"
    }
   ],
   "source": [
    "%run quizzes/quiz.py quizzes/05/lcs_rr.json"
   ]
  },
  {
   "cell_type": "markdown",
   "metadata": {
    "pycharm": {
     "name": "#%% md\n"
    }
   },
   "source": [
    "Going back to our example of 'happiness and pinecones', you have the following three cases (first call of the function)\n",
    "\n",
    "1. Compare last letters ('s' and 's') and add result to comparison of 'happines' and 'pinecone'\n",
    "2. Compare 'happiness' and 'pinecone'\n",
    "3. Compare 'happines' and 'pinecones'"
   ]
  },
  {
   "cell_type": "markdown",
   "metadata": {},
   "source": [
    "## Write the Recursive Algorithm (step 2)\n",
    "Once you write the recurrence relation, you're basically done, so let's dive in."
   ]
  },
  {
   "cell_type": "markdown",
   "metadata": {},
   "source": [
    "### Add Optimization Back In\n",
    "The problem asked to find the _longest_ substring. So the recurrence relation will include _maximizing_ over the three cases you found above."
   ]
  },
  {
   "cell_type": "markdown",
   "metadata": {},
   "source": [
    "### Write the Recurrence Relation\n",
    "The video goes into some detail describing the steps to figuring out the recurrence relation. I admit that I found it easier to first write the algorithm in Python, but writing up the recurrence was a good exercise in LaTeX 😜"
   ]
  },
  {
   "cell_type": "markdown",
   "metadata": {},
   "source": [
    "<div class=\"exercise exercise-info\">\n",
    "Writing the recurrence relation is the crux to solving the problem. Try to work it out yourself.\n",
    "</div>"
   ]
  },
  {
   "cell_type": "markdown",
   "metadata": {},
   "source": [
    "$x_i \\text{ are the first i letters of X}$\n",
    "\n",
    "$y_j \\text{ are the first j letters of Y}$\n",
    "\n",
    "\n",
    "\\begin{equation}\n",
    "  lcs(x_m, y_n, count) = \n",
    "  \\begin{cases}\n",
    "    count,  & \\text{if}\\ i=0 \\text{ or } j = 0 \\\\\n",
    "    max\n",
    "    \\begin{cases} & & & & & & \\text{otherwise} \\\\\n",
    "      c\n",
    "      \\begin{cases}  \\\\\n",
    "        lcs(x_{i-1}, y_{j-1}, count + 1),  & & & \\text{if}\\  x_i = y_j \\\\\n",
    "        count, &  & & \\text{otherwise}  \\\\\n",
    "      \\end{cases} \\\\\n",
    "     lcs(x_i, y_{j-1}, 0)  \\\\\n",
    "     lcs(x_{i-1}, y_{j}, 0)  \\\\\n",
    "    \\end{cases}\n",
    "  \\end{cases}\n",
    "\\end{equation}\n"
   ]
  },
  {
   "cell_type": "markdown",
   "metadata": {},
   "source": [
    "### Implement the Recursive Algorithm\n",
    "Keep the recurrence relation in front of you as a guide for the following exercise."
   ]
  },
  {
   "cell_type": "markdown",
   "metadata": {
    "pycharm": {
     "name": "#%% md\n"
    }
   },
   "source": [
    "<div class=\"exercise exercise-info\">\n",
    "Implement the naive recursive algorithm to calculate the length of the longest common substring when given two strings X and Y. It will run in exponential time, that's expected for this step. Starter code provided below. Note that the function <code>lcs_count(X, Y)</code> takes zero based strings as input which is different from the recurrence formula which is 1-based.\n",
    "</div>"
   ]
  },
  {
   "cell_type": "code",
   "execution_count": null,
   "metadata": {
    "collapsed": false,
    "jupyter": {
     "outputs_hidden": false
    },
    "pycharm": {
     "name": "#%%\n"
    }
   },
   "outputs": [],
   "source": [
    "def lcs(X, Y, count):\n",
    "    ### YOUR CODE ###\n",
    "    return 0\n",
    "\n",
    "def lcs_count(X,Y):\n",
    "    return lcs(X, Y, 0)\n",
    "\n",
    "# unit tests\n",
    "# YOUR CASES HERE ###\n",
    "\n",
    "#assert(lcs_count('happiness', 'pinecones') == 4)"
   ]
  },
  {
   "cell_type": "markdown",
   "metadata": {},
   "source": [
    "## Write the Memoized Algorithm (step 3)\n",
    "At this point you have a correct but inefficient algorithm. The naive recursive algorithm runs in exponential time. Remember that all memoization does is store the solutions of the subproblems so that they don't need to be calculated more than once."
   ]
  },
  {
   "cell_type": "markdown",
   "metadata": {},
   "source": [
    "<div class=\"exercise exercise-info\">\n",
    "Now implement the recursive, <b>memoized</b> algorithm to solve Happiness & Pinecones (longest common substring) problem. Starter code provided below. A clever solution from Schmatz, (2017) uses a decorator to memoize and caches results using the calling function's arguments as index into the cache (see solutions).\n",
    "    \n",
    "While you're working on this, note how a table of values is built\n",
    "</div>"
   ]
  },
  {
   "cell_type": "code",
   "execution_count": 63,
   "metadata": {},
   "outputs": [],
   "source": [
    "#This solution is from (Schmatz, 2017)\n",
    "def memoize(original_function):\n",
    "    memo = {}\n",
    "    \n",
    "    def wrapper(*args):\n",
    "       ## YOUR CODE\n",
    "        \n",
    "    return wrapper\n",
    "\n",
    "@memoize\n",
    "def lcs(X, Y, count = 0):\n",
    "\n",
    "    ## YOUR CODE\n",
    "    return 0\n",
    "\n",
    "def lcs_count(X,Y):\n",
    "    return lcs(X, Y, 0)\n",
    "\n",
    "#unit tests\n",
    "assert(lcs('', '') == 0)\n",
    "assert(lcs('cat', 'sa') == 1)"
   ]
  },
  {
   "cell_type": "markdown",
   "metadata": {
    "pycharm": {
     "name": "#%%\n"
    }
   },
   "source": [
    "## Write the Iterative Algorithm (step 4)\n",
    "In this exercise, you will build "
   ]
  },
  {
   "cell_type": "code",
   "execution_count": 49,
   "metadata": {
    "jupyter": {
     "source_hidden": true
    }
   },
   "outputs": [
    {
     "name": "stdout",
     "output_type": "stream",
     "text": [
      "Site:Geeks\n",
      "cdef\n"
     ]
    }
   ],
   "source": [
    "# Python3 implementation to print \n",
    "# the longest common substring \n",
    "\n",
    "# function to find and print \n",
    "# the longest common substring of \n",
    "# X[0..m-1] and Y[0..n-1] \n",
    "def printLCSSubStr(X: str, Y: str, \n",
    "\t\t\t\tm: int, n: int): \n",
    "\n",
    "\t# Create a table to store lengths of \n",
    "\t# longest common suffixes of substrings. \n",
    "\t# Note that LCSuff[i][j] contains length \n",
    "\t# of longest common suffix of X[0..i-1] and \n",
    "\t# Y[0..j-1]. The first row and first \n",
    "\t# column entries have no logical meaning, \n",
    "\t# they are used only for simplicity of program \n",
    "\tLCSuff = [[0 for i in range(n + 1)] \n",
    "\t\t\t\tfor j in range(m + 1)] \n",
    "\n",
    "\t# To store length of the \n",
    "\t# longest common substring \n",
    "\tlength = 0\n",
    "\n",
    "\t# To store the index of the cell \n",
    "\t# which contains the maximum value. \n",
    "\t# This cell's index helps in building \n",
    "\t# up the longest common substring \n",
    "\t# from right to left. \n",
    "\trow, col = 0, 0\n",
    "\n",
    "\t# Following steps build LCSuff[m+1][n+1] \n",
    "\t# in bottom up fashion. \n",
    "\tfor i in range(m + 1): \n",
    "\t\tfor j in range(n + 1): \n",
    "\t\t\tif i == 0 or j == 0: \n",
    "\t\t\t\tLCSuff[i][j] = 0\n",
    "\t\t\telif X[i - 1] == Y[j - 1]: \n",
    "\t\t\t\tLCSuff[i][j] = LCSuff[i - 1][j - 1] + 1\n",
    "\t\t\t\tif length < LCSuff[i][j]: \n",
    "\t\t\t\t\tlength = LCSuff[i][j] \n",
    "\t\t\t\t\trow = i \n",
    "\t\t\t\t\tcol = j \n",
    "\t\t\telse: \n",
    "\t\t\t\tLCSuff[i][j] = 0\n",
    "\n",
    "\t# if true, then no common substring exists \n",
    "\tif length == 0: \n",
    "\t\tprint(\"No Common Substring\") \n",
    "\t\treturn\n",
    "\n",
    "\t# allocate space for the longest \n",
    "\t# common substring \n",
    "\tresultStr = ['0'] * length \n",
    "\n",
    "\t# traverse up diagonally form the \n",
    "\t# (row, col) cell until LCSuff[row][col] != 0 \n",
    "\twhile LCSuff[row][col] != 0: \n",
    "\t\tlength -= 1\n",
    "\t\tresultStr[length] = X[row - 1] # or Y[col-1] \n",
    "\n",
    "\t\t# move diagonally up to previous cell \n",
    "\t\trow -= 1\n",
    "\t\tcol -= 1\n",
    "\n",
    "\t# required longest common substring \n",
    "\tprint(''.join(resultStr)) \n",
    "\n",
    "# Driver Code \n",
    "if __name__ == \"__main__\": \n",
    "\tX = \"OldSite:GeeksforGeeks.org\"\n",
    "\tY = \"NewSite:GeeksQuiz.com\"\n",
    "\tm = len(X) \n",
    "\tn = len(Y) \n",
    "\n",
    "\tprintLCSSubStr(X, Y, m, n) \n",
    "\n",
    "# This code is contributed by \n",
    "# sanjeev2552 \n",
    "\n",
    "\n",
    "printLCSSubStr('abcdefgh', 'acdefh', 8, 6)"
   ]
  },
  {
   "cell_type": "code",
   "execution_count": null,
   "metadata": {
    "pycharm": {
     "name": "#%%\n"
    }
   },
   "outputs": [],
   "source": [
    "def iterate(f):\n",
    "    ## YOUR CODE ##\n",
    "    return 0\n",
    "\n",
    "@iterate\n",
    "def solve(v):\n",
    "    ### YOUR CODE ###\n",
    "    return 0\n",
    "\n",
    "#unit tests (hint: there are 3 base cases!)\n",
    "## YOUR CASES HERE ###\n",
    "\n",
    "#assert(solve([3, 1, 4, 1, 5, 9, 2, 6]) == 22)"
   ]
  },
  {
   "cell_type": "markdown",
   "metadata": {},
   "source": [
    "<div class=\"exercise exercise-info\">\n",
    "Try running your recursive memoized fibonacci algorithm with a large number and see what happens. Remove the comment in front of the magic %load command and run the cell. The solution code will be loaded into the cell and you can then experiment.\n",
    "</div>"
   ]
  },
  {
   "cell_type": "code",
   "execution_count": null,
   "metadata": {
    "jupyter": {
     "source_hidden": true
    },
    "pycharm": {
     "name": "#%%\n"
    }
   },
   "outputs": [],
   "source": [
    "# a random tree with 16 nodes\n",
    "edges = [(0, 1),(0, 2,), (0, 3),\n",
    "        (1,4), (1,5),\n",
    "        (2,6), (2,7),\n",
    "        (3,8),\n",
    "        (4,9), (4,10), (4,11),\n",
    "        (5,12), (5,13),\n",
    "        (7,14), (7,15), (7,16), (7,17),\n",
    "        (8,18), (8,19)]\n",
    "tree = Graph(edges=edges)\n",
    "\n",
    "layout = tree.layout_reingold_tilford_circular(100, 0, 2)\n",
    "\n",
    "tree.vs['label'] = [v.index for v in tree.vs]\n",
    "\n",
    "visual_style[\"vertex_size\"] = [20]\n",
    "visual_style[\"vertex_label\"] = [v.index for v in tree.vs]\n",
    "visual_style[\"layout\"] = layout\n",
    "visual_style[\"bbox\"] = (400, 400)\n",
    "visual_style[\"margin\"] = [50, 50, 50, 50]\n",
    "plot(tree, **visual_style)"
   ]
  },
  {
   "cell_type": "code",
   "execution_count": null,
   "metadata": {
    "collapsed": false,
    "jupyter": {
     "outputs_hidden": false
    },
    "pycharm": {
     "name": "#%%\n"
    }
   },
   "outputs": [],
   "source": [
    "def memoize(f):\n",
    "    ### YOUR CODE ###\n",
    "    def helper(v):\n",
    "        return helper\n",
    "\n",
    "@memoize\n",
    "def solve_lis(g):\n",
    "    ## YOUR CODE ##\n",
    "    return 0\n",
    "\n",
    "#unit tests - base cases (theoretically there is just the empty tree as base case but it can simplify the code to have 3 base cases: 0, 1 & 2 nodes.)\n",
    "## YOUR CASES HERE ###\n",
    "# SOME EXAMPLE CASES\n",
    "# g1 = Graph(edges=[(0, 1),(0, 2)])\n",
    "# g2 = Graph(edges=[(0, 1),(0, 2), (0,3)])\n",
    "# g3 = Graph(edges=[(0, 1),(0, 2), (2,3)])\n",
    "# assert(solve_lis(g1) == 2)\n",
    "# assert(solve_lis(g2) == 3)\n",
    "# assert(solve_lis(g3) == 2)"
   ]
  },
  {
   "cell_type": "markdown",
   "metadata": {},
   "source": [
    "# Solutions"
   ]
  },
  {
   "cell_type": "markdown",
   "metadata": {
    "pycharm": {
     "name": "#%% md\n"
    }
   },
   "source": [
    "<div class=\"exercise exercise-warning\"><details><summary>Longest common substring - naive - recursive</summary> \n",
    "    \n",
    "```python \n",
    "    \n",
    "    #%load solutions/05/lcs_naive.py\n",
    "    def lcs(X, Y, count = 0):\n",
    "\n",
    "    m, n = len(X), len(Y)\n",
    "    if m == 0 or n == 0:\n",
    "        return count \n",
    "\n",
    "    if X[m - 1] == Y[n - 1]:\n",
    "        count = lcs(X[0: m - 1], Y[0: n - 1], count + 1)\n",
    "\n",
    "    return max(count, lcs(X[0:m], Y[0:n-1], 0), lcs(X[0:m-1], Y[0:n], 0))\n",
    "\n",
    "    def lcs_count(X,Y):\n",
    "        return lcs(X, Y, 0)\n",
    "\n",
    "    #unit tests\n",
    "    assert(lcs('', '') == 0)\n",
    "    assert(lcs('', 'b') == 0)\n",
    "    assert(lcs('a', 'ab') == 1)\n",
    "   \n",
    "```\n",
    "    \n",
    "</details>"
   ]
  },
  {
   "cell_type": "markdown",
   "metadata": {
    "pycharm": {
     "name": "#%% md\n"
    }
   },
   "source": [
    "<div class=\"exercise exercise-warning\"><details><summary>Longest common substring - memoized</summary> \n",
    "    \n",
    "```python \n",
    "    \n",
    "    # This clever memoization is from:\n",
    "    # Schmatz, S. (2017, December 7). Intermediate Dynamic Programming. https://stevenschmatz.github.io/blog/2017/12/07/intermediate-dynamic-programming/\n",
    "    def memoize(original_function):\n",
    "        memo = {}\n",
    "\n",
    "        def wrapper(*args):\n",
    "            t_args = tuple(args)\n",
    "            if t_args in memo:\n",
    "                return memo[t_args]\n",
    "\n",
    "            result = original_function(*args)\n",
    "            memo[t_args] = result\n",
    "\n",
    "            return result\n",
    "\n",
    "        return wrapper\n",
    "\n",
    "\n",
    "    @memoize\n",
    "    def lcs(X, Y, count = 0):\n",
    "\n",
    "        m, n = len(X), len(Y)\n",
    "        print ('in lcs', m, \" : \", X, \"   \", n, \" : \", Y , \" -->\", count)\n",
    "        if m == 0 or n == 0:\n",
    "            return count \n",
    "\n",
    "        if X[m - 1] == Y[n - 1]:\n",
    "            count = lcs(X[0: m - 1], Y[0: n - 1], count + 1)\n",
    "\n",
    "        return max(count, lcs(X[0:m], Y[0:n-1], 0), lcs(X[0:m-1], Y[0:n], 0))\n",
    "\n",
    "    def lcs_count(X,Y):\n",
    "        return lcs(X, Y, 0)\n",
    "\n",
    "    #unit tests\n",
    "    lcs('abc', 'abc', 0)\n",
    "   \n",
    "```\n",
    "    \n",
    "</details>"
   ]
  },
  {
   "cell_type": "markdown",
   "metadata": {},
   "source": [
    "<div class=\"exercise exercise-warning\"><details><summary>Longest common substring - bottom up</summary> \n",
    "    \n",
    "```python\n",
    "    \n",
    "```\n",
    "    \n",
    "</details>"
   ]
  },
  {
   "cell_type": "markdown",
   "metadata": {
    "pycharm": {
     "name": "#%% md\n"
    }
   },
   "source": [
    "# Footnotes\n",
    "\n",
    "<span id=\"fn1\"></span>\n",
    "\n",
    "    1. \n",
    "\n",
    "<span id=\"fn2\"></span>\n",
    "\n"
   ]
  },
  {
   "cell_type": "markdown",
   "metadata": {},
   "source": [
    "# References\n",
    "\n",
    "1. Dasgupta, S., Papadimitriou, C. H., & Vazirani, U. V. (2008). Algorithms. McGraw-Hill Higher Education New York.\n",
    "\n",
    "2. Forišek, M. (2015). Towards a better way to teach dynamic programming. Olympiads in Informatics, 9, 45–55.\n",
    "\n",
    "3. Jauhari, A. (2017, August 20). Print the longest common substring. GeeksforGeeks. https://www.geeksforgeeks.org/print-longest-common-substring/\n",
    "\n",
    "4. Schmatz, S. (2017, December 7). Intermediate Dynamic Programming. https://stevenschmatz.github.io/blog/2017/12/07/intermediate-dynamic-programming/"
   ]
  },
  {
   "cell_type": "code",
   "execution_count": 23,
   "metadata": {
    "collapsed": false,
    "jupyter": {
     "outputs_hidden": false
    },
    "pycharm": {
     "name": "#%%\n"
    }
   },
   "outputs": [
    {
     "data": {
      "text/html": [
       "<style>\n",
       "    .alert {\n",
       "      padding: 15px;\n",
       "      margin-bottom: 20px;\n",
       "      border: 1px solid transparent;\n",
       "      border-radius: 4px;\n",
       "    }\n",
       "\n",
       "    .alert h4 {\n",
       "      margin-top: 0;\n",
       "      color: inherit;\n",
       "    }\n",
       "\n",
       "    .alert .alert-link {\n",
       "      font-weight: bold;\n",
       "    }\n",
       "\n",
       "    .alert > p,\n",
       "    .alert > ul {\n",
       "      margin-bottom: 0;\n",
       "    }\n",
       "\n",
       "    .alert > p + p {\n",
       "      margin-top: 5px;\n",
       "    }\n",
       "\n",
       "    .alert-dismissable,\n",
       "    .alert-dismissible {\n",
       "      padding-right: 35px;\n",
       "    }\n",
       "\n",
       "    .alert-dismissable .close,\n",
       "    .alert-dismissible .close {\n",
       "      position: relative;\n",
       "      top: -2px;\n",
       "      right: -21px;\n",
       "      color: inherit;\n",
       "    }\n",
       "\n",
       "    .alert-success {\n",
       "      background-color: #C8E6C9;\n",
       "      border-color: #81C784;\n",
       "      color: #388E3C;\n",
       "    }\n",
       "\n",
       "    .alert-success hr {\n",
       "      border-top-color: #AED581;\n",
       "    }\n",
       "\n",
       "    .alert-success .alert-link {\n",
       "      color: #2E7D32;\n",
       "    }\n",
       "\n",
       "    .alert-info {\n",
       "      background-color: #B2EBF2;\n",
       "      border-color: #4DD0E1;\n",
       "      color: #0097A7;\n",
       "    }\n",
       "\n",
       "    .alert-info hr {\n",
       "      border-top-color: #00838F;\n",
       "    }\n",
       "\n",
       "    .alert-info .alert-link {\n",
       "      color: #245269;\n",
       "    }\n",
       "\n",
       "    .alert-warning {\n",
       "      background-color: #FFE0B2;\n",
       "      border-color: #FFB74D;\n",
       "      color: #F57C00;\n",
       "    }\n",
       "\n",
       "    .alert-warning hr {\n",
       "      border-top-color: #FFB74D;\n",
       "    }\n",
       "\n",
       "    .alert-warning .alert-link {\n",
       "      color: #EF6C00;\n",
       "    }\n",
       "\n",
       "    .alert-danger {\n",
       "      background-color: #ffcdd2;\n",
       "      border-color: #e57373;\n",
       "      color: #d32f2f;\n",
       "    }\n",
       "\n",
       "    .alert-danger hr {\n",
       "      border-top-color: #d32f2f;\n",
       "    }\n",
       "\n",
       "    .alert-danger .alert-link {\n",
       "      color: #c62828;\n",
       "    }\n",
       "    \n",
       "\n",
       "    .exercise {\n",
       "      padding: 15px;\n",
       "      margin-bottom: 20px;\n",
       "      border: 1px solid transparent;\n",
       "      border-radius: 4px;\n",
       "    }\n",
       "\n",
       "    .exercise h4 {\n",
       "      margin-top: 0;\n",
       "      color: inherit;\n",
       "    }\n",
       "\n",
       "    .exercise .alert-link {\n",
       "      font-weight: bold;\n",
       "    }\n",
       "\n",
       "    .exercise > p,\n",
       "    .exercise > ul {\n",
       "      margin-bottom: 0;\n",
       "    }\n",
       "\n",
       "    .exercise > p + p {\n",
       "      margin-top: 5px;\n",
       "    }\n",
       "\n",
       "    .exercise-info {\n",
       "      background-color: #B2EBF2;\n",
       "      border-color: #4DD0E1;\n",
       "      color: #000000;\n",
       "    }\n",
       "\n",
       "    .exercise-info hr {\n",
       "      border-top-color: #00838F;\n",
       "    }\n",
       "\n",
       "    .exercise-info .alert-link {\n",
       "      color: #245269;\n",
       "    }\n",
       "\n",
       "   .exercise-warning {\n",
       "      background-color: #FFE0B2;\n",
       "      border-color: #FFB74D;\n",
       "      color: #000000;\n",
       "    }\n",
       "\n",
       "    .exercise-warning hr {\n",
       "      border-top-color: #FFB74D;\n",
       "    }\n",
       "\n",
       "    .excercise-warning .alert-link {\n",
       "      color: #EF6C00;\n",
       "    }\n",
       "\n",
       "\n",
       "</style>\n"
      ],
      "text/plain": [
       "<IPython.core.display.HTML object>"
      ]
     },
     "execution_count": 23,
     "metadata": {},
     "output_type": "execute_result"
    }
   ],
   "source": [
    "#workaround for known ipywidget issue not rendering alert style colours on Jupyter lab\n",
    "from IPython.core.display import HTML\n",
    "HTML(open(\"../styles/custom.css\", \"r\").read())"
   ]
  },
  {
   "cell_type": "code",
   "execution_count": 54,
   "metadata": {},
   "outputs": [
    {
     "name": "stdout",
     "output_type": "stream",
     "text": [
      "\n",
      " {('', '', 3): 3}\n",
      "\n",
      " {('', '', 3): 3, ('a', '', 0): 0}\n",
      "\n",
      " {('', '', 3): 3, ('a', '', 0): 0, ('', 'a', 0): 0}\n",
      "\n",
      " {('', '', 3): 3, ('a', '', 0): 0, ('', 'a', 0): 0, ('a', 'a', 2): 3}\n",
      "\n",
      " {('', '', 3): 3, ('a', '', 0): 0, ('', 'a', 0): 0, ('a', 'a', 2): 3, ('ab', '', 0): 0}\n",
      "\n",
      " {('', '', 3): 3, ('a', '', 0): 0, ('', 'a', 0): 0, ('a', 'a', 2): 3, ('ab', '', 0): 0, ('', '', 1): 1}\n",
      "\n",
      " {('', '', 3): 3, ('a', '', 0): 0, ('', 'a', 0): 0, ('a', 'a', 2): 3, ('ab', '', 0): 0, ('', '', 1): 1, ('a', 'a', 0): 1}\n",
      "\n",
      " {('', '', 3): 3, ('a', '', 0): 0, ('', 'a', 0): 0, ('a', 'a', 2): 3, ('ab', '', 0): 0, ('', '', 1): 1, ('a', 'a', 0): 1, ('ab', 'a', 0): 1}\n",
      "\n",
      " {('', '', 3): 3, ('a', '', 0): 0, ('', 'a', 0): 0, ('a', 'a', 2): 3, ('ab', '', 0): 0, ('', '', 1): 1, ('a', 'a', 0): 1, ('ab', 'a', 0): 1, ('', 'ab', 0): 0}\n",
      "\n",
      " {('', '', 3): 3, ('a', '', 0): 0, ('', 'a', 0): 0, ('a', 'a', 2): 3, ('ab', '', 0): 0, ('', '', 1): 1, ('a', 'a', 0): 1, ('ab', 'a', 0): 1, ('', 'ab', 0): 0, ('a', 'ab', 0): 1}\n",
      "\n",
      " {('', '', 3): 3, ('a', '', 0): 0, ('', 'a', 0): 0, ('a', 'a', 2): 3, ('ab', '', 0): 0, ('', '', 1): 1, ('a', 'a', 0): 1, ('ab', 'a', 0): 1, ('', 'ab', 0): 0, ('a', 'ab', 0): 1, ('ab', 'ab', 1): 3}\n",
      "\n",
      " {('', '', 3): 3, ('a', '', 0): 0, ('', 'a', 0): 0, ('a', 'a', 2): 3, ('ab', '', 0): 0, ('', '', 1): 1, ('a', 'a', 0): 1, ('ab', 'a', 0): 1, ('', 'ab', 0): 0, ('a', 'ab', 0): 1, ('ab', 'ab', 1): 3, ('abc', '', 0): 0}\n",
      "\n",
      " {('', '', 3): 3, ('a', '', 0): 0, ('', 'a', 0): 0, ('a', 'a', 2): 3, ('ab', '', 0): 0, ('', '', 1): 1, ('a', 'a', 0): 1, ('ab', 'a', 0): 1, ('', 'ab', 0): 0, ('a', 'ab', 0): 1, ('ab', 'ab', 1): 3, ('abc', '', 0): 0, ('abc', 'a', 0): 1}\n",
      "\n",
      " {('', '', 3): 3, ('a', '', 0): 0, ('', 'a', 0): 0, ('a', 'a', 2): 3, ('ab', '', 0): 0, ('', '', 1): 1, ('a', 'a', 0): 1, ('ab', 'a', 0): 1, ('', 'ab', 0): 0, ('a', 'ab', 0): 1, ('ab', 'ab', 1): 3, ('abc', '', 0): 0, ('abc', 'a', 0): 1, ('', '', 2): 2}\n",
      "\n",
      " {('', '', 3): 3, ('a', '', 0): 0, ('', 'a', 0): 0, ('a', 'a', 2): 3, ('ab', '', 0): 0, ('', '', 1): 1, ('a', 'a', 0): 1, ('ab', 'a', 0): 1, ('', 'ab', 0): 0, ('a', 'ab', 0): 1, ('ab', 'ab', 1): 3, ('abc', '', 0): 0, ('abc', 'a', 0): 1, ('', '', 2): 2, ('a', 'a', 1): 2}\n",
      "\n",
      " {('', '', 3): 3, ('a', '', 0): 0, ('', 'a', 0): 0, ('a', 'a', 2): 3, ('ab', '', 0): 0, ('', '', 1): 1, ('a', 'a', 0): 1, ('ab', 'a', 0): 1, ('', 'ab', 0): 0, ('a', 'ab', 0): 1, ('ab', 'ab', 1): 3, ('abc', '', 0): 0, ('abc', 'a', 0): 1, ('', '', 2): 2, ('a', 'a', 1): 2, ('ab', 'ab', 0): 2}\n",
      "\n",
      " {('', '', 3): 3, ('a', '', 0): 0, ('', 'a', 0): 0, ('a', 'a', 2): 3, ('ab', '', 0): 0, ('', '', 1): 1, ('a', 'a', 0): 1, ('ab', 'a', 0): 1, ('', 'ab', 0): 0, ('a', 'ab', 0): 1, ('ab', 'ab', 1): 3, ('abc', '', 0): 0, ('abc', 'a', 0): 1, ('', '', 2): 2, ('a', 'a', 1): 2, ('ab', 'ab', 0): 2, ('abc', 'ab', 0): 2}\n",
      "\n",
      " {('', '', 3): 3, ('a', '', 0): 0, ('', 'a', 0): 0, ('a', 'a', 2): 3, ('ab', '', 0): 0, ('', '', 1): 1, ('a', 'a', 0): 1, ('ab', 'a', 0): 1, ('', 'ab', 0): 0, ('a', 'ab', 0): 1, ('ab', 'ab', 1): 3, ('abc', '', 0): 0, ('abc', 'a', 0): 1, ('', '', 2): 2, ('a', 'a', 1): 2, ('ab', 'ab', 0): 2, ('abc', 'ab', 0): 2, ('', 'abc', 0): 0}\n",
      "\n",
      " {('', '', 3): 3, ('a', '', 0): 0, ('', 'a', 0): 0, ('a', 'a', 2): 3, ('ab', '', 0): 0, ('', '', 1): 1, ('a', 'a', 0): 1, ('ab', 'a', 0): 1, ('', 'ab', 0): 0, ('a', 'ab', 0): 1, ('ab', 'ab', 1): 3, ('abc', '', 0): 0, ('abc', 'a', 0): 1, ('', '', 2): 2, ('a', 'a', 1): 2, ('ab', 'ab', 0): 2, ('abc', 'ab', 0): 2, ('', 'abc', 0): 0, ('a', 'abc', 0): 1}\n",
      "\n",
      " {('', '', 3): 3, ('a', '', 0): 0, ('', 'a', 0): 0, ('a', 'a', 2): 3, ('ab', '', 0): 0, ('', '', 1): 1, ('a', 'a', 0): 1, ('ab', 'a', 0): 1, ('', 'ab', 0): 0, ('a', 'ab', 0): 1, ('ab', 'ab', 1): 3, ('abc', '', 0): 0, ('abc', 'a', 0): 1, ('', '', 2): 2, ('a', 'a', 1): 2, ('ab', 'ab', 0): 2, ('abc', 'ab', 0): 2, ('', 'abc', 0): 0, ('a', 'abc', 0): 1, ('ab', 'abc', 0): 2}\n",
      "\n",
      " {('', '', 3): 3, ('a', '', 0): 0, ('', 'a', 0): 0, ('a', 'a', 2): 3, ('ab', '', 0): 0, ('', '', 1): 1, ('a', 'a', 0): 1, ('ab', 'a', 0): 1, ('', 'ab', 0): 0, ('a', 'ab', 0): 1, ('ab', 'ab', 1): 3, ('abc', '', 0): 0, ('abc', 'a', 0): 1, ('', '', 2): 2, ('a', 'a', 1): 2, ('ab', 'ab', 0): 2, ('abc', 'ab', 0): 2, ('', 'abc', 0): 0, ('a', 'abc', 0): 1, ('ab', 'abc', 0): 2, ('abc', 'abc', 0): 3}\n"
     ]
    },
    {
     "data": {
      "text/plain": [
       "3"
      ]
     },
     "execution_count": 54,
     "metadata": {},
     "output_type": "execute_result"
    }
   ],
   "source": [
    "def memoize(original_function):\n",
    "    memo = {}\n",
    "    \n",
    "    def wrapper(*args):\n",
    "        t_args = tuple(args)\n",
    "        if t_args in memo:\n",
    "            return memo[t_args]\n",
    "            \n",
    "        result = original_function(*args)\n",
    "        memo[t_args] = result\n",
    "        print ('\\n', memo)\n",
    "        return result\n",
    "        \n",
    "    return wrapper\n",
    "\n",
    "\n",
    "@memoize\n",
    "def lcs(X, Y, count = 0):\n",
    "\n",
    "    m, n = len(X), len(Y)\n",
    "    #print ('in lcs', m, \" : \", X, \"   \", n, \" : \", Y , \" -->\", count)\n",
    "    if m == 0 or n == 0:\n",
    "        return count \n",
    "\n",
    "    if X[m - 1] == Y[n - 1]:\n",
    "        count = lcs(X[0: m - 1], Y[0: n - 1], count + 1)\n",
    "\n",
    "    return max(count, lcs(X[0:m], Y[0:n-1], 0), lcs(X[0:m-1], Y[0:n], 0))\n",
    "\n",
    "def lcs_count(X,Y):\n",
    "    return lcs(X, Y, 0)\n",
    "\n",
    "#unit tests\n",
    "lcs('abc', 'abc', 0)"
   ]
  },
  {
   "cell_type": "code",
   "execution_count": null,
   "metadata": {},
   "outputs": [],
   "source": []
  },
  {
   "cell_type": "code",
   "execution_count": 61,
   "metadata": {},
   "outputs": [
    {
     "name": "stdout",
     "output_type": "stream",
     "text": [
      "returning count ( 0 0 )  count= 2\n",
      "returning count ( 1 0 )  count= 0\n",
      "returning count ( 0 1 )  count= 0\n",
      "returning count ( 2 0 )  count= 0\n",
      "returning count ( 0 0 )  count= 1\n",
      "returning count ( 1 0 )  count= 0\n",
      "returning count ( 0 1 )  count= 0\n",
      "returning count ( 0 0 )  count= 1\n",
      "returning count ( 1 0 )  count= 0\n",
      "returning count ( 0 1 )  count= 0\n",
      "returning count ( 0 2 )  count= 0\n",
      "returning count ( 0 0 )  count= 1\n",
      "returning count ( 1 0 )  count= 0\n",
      "returning count ( 0 1 )  count= 0\n",
      "returning count ( 0 2 )  count= 0\n",
      "returning count ( 0 3 )  count= 0\n"
     ]
    },
    {
     "data": {
      "text/plain": [
       "2"
      ]
     },
     "execution_count": 61,
     "metadata": {},
     "output_type": "execute_result"
    }
   ],
   "source": [
    "# %load solutions/05/lcs_iterate.py\n",
    "def iterate(f):\n",
    "    memo = {}\n",
    "\n",
    "    def helper(X, Y, count):\n",
    "        \n",
    "        m,n = len(X), len(Y)\n",
    "        \n",
    "        if m not in memo:\n",
    "            memo[m] = dict()\n",
    "        \n",
    "        for i in range(0, m):\n",
    "            if n not in memo[i]:\n",
    "                for j in range(0, n):\n",
    "                    memo[i][j] = f(X, Y, count)\n",
    "                    #print(memo)\n",
    "        \n",
    "        return memo[m][n]\n",
    "\n",
    "    return helper\n",
    "\n",
    "\n",
    "\n",
    "def lcs(X, Y, count = 0):\n",
    "\n",
    "    m, n = len(X), len(Y)\n",
    "    # print (m, \" : \", X, \"   \", n, \" : \", Y , \" -->\", count)\n",
    "    if m == 0 or n == 0:\n",
    "        print('returning count (', m, n, ')  count=', count)\n",
    "        return count \n",
    "\n",
    "    if X[m - 1] == Y[n - 1]:\n",
    "        count = lcs(X[0: m - 1], Y[0: n - 1], count + 1)\n",
    "\n",
    "    return max(count, lcs(X[0:m], Y[0:n-1], 0), lcs(X[0:m-1], Y[0:n], 0))\n",
    "\n",
    "def lcs_count(X,Y):\n",
    "    return lcs(X, Y, 0)\n",
    "\n",
    "#unit tests\n",
    "lcs_count('ab', 'abc')"
   ]
  },
  {
   "cell_type": "code",
   "execution_count": null,
   "metadata": {},
   "outputs": [],
   "source": []
  }
 ],
 "metadata": {
  "kernelspec": {
   "display_name": "Python 3",
   "language": "python",
   "name": "python3"
  },
  "language_info": {
   "codemirror_mode": {
    "name": "ipython",
    "version": 3
   },
   "file_extension": ".py",
   "mimetype": "text/x-python",
   "name": "python",
   "nbconvert_exporter": "python",
   "pygments_lexer": "ipython3",
   "version": "3.7.6"
  },
  "latex_envs": {
   "LaTeX_envs_menu_present": true,
   "autoclose": true,
   "autocomplete": true,
   "bibliofile": "biblio.bib",
   "cite_by": "apalike",
   "current_citInitial": 1,
   "eqLabelWithNumbers": true,
   "eqNumInitial": 1,
   "hotkeys": {
    "equation": "Ctrl-E",
    "itemize": "Ctrl-I"
   },
   "labels_anchors": false,
   "latex_user_defs": false,
   "report_style_numbering": false,
   "user_envs_cfg": false
  },
  "toc": {
   "base_numbering": 1,
   "nav_menu": {},
   "number_sections": false,
   "sideBar": true,
   "skip_h1_title": false,
   "title_cell": "Table of Contents",
   "title_sidebar": "Contents",
   "toc_cell": false,
   "toc_position": {},
   "toc_section_display": true,
   "toc_window_display": true
  },
  "toc-autonumbering": true,
  "toc-showtags": false,
  "widgets": {
   "application/vnd.jupyter.widget-state+json": {
    "state": {},
    "version_major": 2,
    "version_minor": 0
   }
  }
 },
 "nbformat": 4,
 "nbformat_minor": 4
}
