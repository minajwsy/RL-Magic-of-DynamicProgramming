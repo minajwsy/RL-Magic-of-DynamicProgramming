{
 "cells": [
  {
   "cell_type": "code",
   "execution_count": 1,
   "metadata": {},
   "outputs": [
    {
     "name": "stdout",
     "output_type": "stream",
     "text": [
      "Overwriting quizzes/03/first_step.json\n"
     ]
    }
   ],
   "source": [
    "%%writefile quizzes/05/educational_technology.json\n",
    "\n",
    "{\n",
    "    \"type\": \"multi-answer\",\n",
    "    \"question\": \"What's the longest common substring between the words 'attract' and 'abstract'?\",\n",
    "    \"options\": [\n",
    "        {\n",
    "            \"id\": \"1\",\n",
    "            \"answer\": \"Find all the combinations of bottles that yield a maximum volume.\",\n",
    "            \"correct\": false\n",
    "        },\n",
    "        {\n",
    "            \"id\": \"2\",\n",
    "            \"answer\": \"Find a combination of bottles that yields a maximum volume.\",\n",
    "            \"correct\": false\n",
    "        },\n",
    "        {\n",
    "            \"id\": \"3\",\n",
    "            \"answer\": \"Find a combinations of bottles that follows the rule.\",\n",
    "            \"correct\": false\n",
    "        },\n",
    "        {\n",
    "            \"id\": \"3\",\n",
    "            \"answer\": \"Find all combinations of bottles that follow the rule.\",\n",
    "            \"correct\": true\n",
    "        },\n",
    "        {\n",
    "            \"id\": \"3\",\n",
    "            \"answer\": \"Find a combination of bottles that follows the rule and yields maximum volume.\",\n",
    "            \"correct\": false\n",
    "        }\n",
    "\n",
    "    ]\n",
    "}\n"
   ]
  },
  {
   "cell_type": "code",
   "execution_count": null,
   "outputs": [],
   "source": [],
   "metadata": {
    "collapsed": false,
    "pycharm": {
     "name": "#%%\n"
    }
   }
  },
  {
   "cell_type": "code",
   "execution_count": null,
   "outputs": [],
   "source": [],
   "metadata": {
    "collapsed": false,
    "pycharm": {
     "name": "#%%\n"
    }
   }
  },
  {
   "cell_type": "code",
   "execution_count": null,
   "outputs": [],
   "source": [],
   "metadata": {
    "collapsed": false,
    "pycharm": {
     "name": "#%%\n"
    }
   }
  },
  {
   "cell_type": "code",
   "execution_count": null,
   "metadata": {},
   "outputs": [],
   "source": []
  }
 ],
 "metadata": {
  "kernelspec": {
   "display_name": "Python 3",
   "language": "python",
   "name": "python3"
  },
  "language_info": {
   "codemirror_mode": {
    "name": "ipython",
    "version": 3
   },
   "file_extension": ".py",
   "mimetype": "text/x-python",
   "name": "python",
   "nbconvert_exporter": "python",
   "pygments_lexer": "ipython3",
   "version": "3.7.6"
  },
  "latex_envs": {
   "LaTeX_envs_menu_present": true,
   "autoclose": true,
   "autocomplete": true,
   "bibliofile": "biblio.bib",
   "cite_by": "apalike",
   "current_citInitial": 1,
   "eqLabelWithNumbers": true,
   "eqNumInitial": 1,
   "hotkeys": {
    "equation": "Ctrl-E",
    "itemize": "Ctrl-I"
   },
   "labels_anchors": false,
   "latex_user_defs": false,
   "report_style_numbering": false,
   "user_envs_cfg": false
  },
  "toc": {
   "base_numbering": 1,
   "nav_menu": {},
   "number_sections": false,
   "sideBar": true,
   "skip_h1_title": false,
   "title_cell": "Table of Contents",
   "title_sidebar": "Contents",
   "toc_cell": false,
   "toc_position": {},
   "toc_section_display": true,
   "toc_window_display": true
  }
 },
 "nbformat": 4,
 "nbformat_minor": 1
}