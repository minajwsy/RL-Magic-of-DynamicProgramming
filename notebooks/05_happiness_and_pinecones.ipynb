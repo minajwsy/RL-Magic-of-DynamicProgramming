{
 "cells": [
  {
   "cell_type": "markdown",
   "metadata": {},
   "source": [
    "<font size=\"+4\">Lesson 5: Happiness and Pinecones</font>\n",
    "    \n",
    "In this lesson we'll compare top-down to bottom-up approaches to solving problems and show when and why a recursive, top-down approach might perform better.\n",
    "    \n",
    "To demonstrate this, we will use an example of the longest common subsequence problem, which I have called 'Happiness & Pinecones'.\n",
    "\n",
    "Along the way you'll:\n",
    "1. Practice the 4 steps you learned previously\n",
    "2. Learn when to use the multi-prefix pattern of subproblems\n",
    "    \n",
    "    \n",
    "The following video introduces the topic.  \n"
   ]
  },
  {
   "cell_type": "code",
   "execution_count": 1,
   "metadata": {
    "jupyter": {
     "source_hidden": true
    },
    "pycharm": {
     "name": "#%%\n"
    }
   },
   "outputs": [
    {
     "data": {
      "image/jpeg": "[encoded data removed]",
      "text/html": [
       "\n",
       "        <iframe\n",
       "            width=\"400\"\n",
       "            height=\"300\"\n",
       "            src=\"https://www.youtube.com/embed/dLhsiN6WMjY\"\n",
       "            frameborder=\"0\"\n",
       "            allowfullscreen\n",
       "        ></iframe>\n",
       "        "
      ],
      "text/plain": [
       "<IPython.lib.display.YouTubeVideo at 0x22a786c7948>"
      ]
     },
     "execution_count": 1,
     "metadata": {},
     "output_type": "execute_result"
    }
   ],
   "source": [
    "from IPython.display import YouTubeVideo\n",
    "YouTubeVideo('dLhsiN6WMjY')"
   ]
  },
  {
   "cell_type": "markdown",
   "metadata": {},
   "source": [
    "\n",
    "\n",
    "\n",
    "\n",
    "\n"
   ]
  },
  {
   "cell_type": "markdown",
   "metadata": {},
   "source": [
    "# Longest Common Subsequence\n",
    "The version of the [longest common subsequence](https://en.wikipedia.org/wiki/Longest_common_subsequence_problem) problem that we will work in this lesson is where you look for a common subsequence between only _two_ words. A subsequence of a word are letters that are not necessarily contiguous. And of course, the string can be made from any finite alphabet. We're using letters to simplify the example."
   ]
  },
  {
   "cell_type": "markdown",
   "metadata": {},
   "source": [
    "<figure>\n",
    "    <img src=\"../images/h_and_p_on_dna.png\" width = 400>\n",
    "    <figcaption>Figure 1: You're given two strings. Find the length of the longest matching subsequences you can find in both words.\n",
    "    </figcaption>\n",
    "</figure>\n",
    "<p>"
   ]
  },
  {
   "cell_type": "markdown",
   "metadata": {},
   "source": [
    "To be sure you understand what common subsequences are, take the following quiz:"
   ]
  },
  {
   "cell_type": "code",
   "execution_count": 2,
   "metadata": {
    "jupyter": {
     "source_hidden": true
    },
    "pycharm": {
     "name": "#%%\n"
    }
   },
   "outputs": [
    {
     "data": {
      "application/vnd.jupyter.widget-view+json": {
       "model_id": "ab3d33fc985d41cb96f99f096f9a1635",
       "version_major": 2,
       "version_minor": 0
      },
      "text/plain": [
       "VBox(box_style='info', children=(HBox(children=(HTML(value='<style>p{word-wrap: break-word}</style> <p>Fill in…"
      ]
     },
     "metadata": {},
     "output_type": "display_data"
    }
   ],
   "source": [
    "%run quizzes/quiz.py quizzes/05/lcsubsequence_example.json"
   ]
  },
  {
   "cell_type": "markdown",
   "metadata": {},
   "source": [
    "As a reminder of the four steps to solving a dynamic programming problem, see the following checklist:\n",
    "\n",
    "__Step 1__ - look at all possible combinations\n",
    "* [ ] Find and temporarily ignore the optimization word\n",
    "* [ ] Choose a subproblem pattern\n",
    "* [ ] Find the constraint(s)\n",
    "* [ ] Use the given constraint to divide all the possible valid subproblems into cases\n",
    "\n",
    "__Step 2__ - write a recursive algorithm\n",
    "* [ ] Stop ignoring the optimization - do that optimization over the cases you found. Write the recurrence relation down.\n",
    "* [ ] Implement a recursive algorithm directly from the recurrence relation, paying attention to base cases, indices etc.\n",
    "\n",
    "__Step 3__ - memoize\n",
    "* [ ] Memoize the algorithm\n",
    "\n",
    "__Step 4__ - iterate (bottom-up)\n",
    "* [ ] Convert to an iterative algorithm (optional)"
   ]
  },
  {
   "cell_type": "markdown",
   "metadata": {},
   "source": [
    "## Find the Subproblems (step 1)\n",
    "Step 1 are your opening moves: - identify the optimization word, ignore it for now, identify the constraints if any, identify your subproblem pattern."
   ]
  },
  {
   "cell_type": "code",
   "execution_count": 3,
   "metadata": {
    "jupyter": {
     "source_hidden": true
    }
   },
   "outputs": [
    {
     "data": {
      "application/vnd.jupyter.widget-view+json": {
       "model_id": "c9454504cba74962a9e61b3ae752c6ff",
       "version_major": 2,
       "version_minor": 0
      },
      "text/plain": [
       "VBox(box_style='info', children=(HBox(children=(HTML(value=\"<style>p{word-wrap: break-word}</style> <p>What ar…"
      ]
     },
     "metadata": {},
     "output_type": "display_data"
    }
   ],
   "source": [
    "%run quizzes/quiz.py quizzes/05/lcsubsequence_first_step.json"
   ]
  },
  {
   "cell_type": "markdown",
   "metadata": {},
   "source": [
    "Your ultimate goal is to break the solution up into subproblems. But not just any subproblems .. they need to have 'optimal substructure' - which means they need to be sized and ordered in such a way that once you solve them, you have solved the whole problem.\n",
    "\n",
    "To this end, it sometimes helps to think about your base case or the trivial case - and how you _reach_ it, because then you can build up the subproblems in size. The algorithm will eat the subproblems in the opposite order - for example, in the case of words, starting with the whole word and reaching the empty string. But to develop the algorithm, it is helpful to build up from the smallest possible subproblem.\n"
   ]
  },
  {
   "cell_type": "code",
   "execution_count": 4,
   "metadata": {
    "jupyter": {
     "source_hidden": true
    }
   },
   "outputs": [
    {
     "data": {
      "application/vnd.jupyter.widget-view+json": {
       "model_id": "d4c8169e51eb4f4a80d96e5eee2301ec",
       "version_major": 2,
       "version_minor": 0
      },
      "text/plain": [
       "VBox(box_style='info', children=(HBox(children=(HTML(value=\"<style>p{word-wrap: break-word}</style> <p>Order t…"
      ]
     },
     "metadata": {},
     "output_type": "display_data"
    }
   ],
   "source": [
    "%run quizzes/quiz.py quizzes/05/lcsubsequence_order_subproblems.json"
   ]
  },
  {
   "cell_type": "markdown",
   "metadata": {},
   "source": [
    "In previous problems we looked at a prefix of the given input. In this problem we will do something similar, but our input is two strings, so we'll look at _two_ prefixes."
   ]
  },
  {
   "cell_type": "markdown",
   "metadata": {},
   "source": [
    "If your input is: $x_1$, $x_2$, $x_3$, ... ,$x_n$, and $y_1$, $y_2$, $y_3$, ... ,$y_m$, your subproblems will be of the form: $x_1$, $x_2$, $x_3$, ..., $x_i$ and $y_1$, $y_2$, $y_3$, ... , $y_j$. For example:\n",
    "\n",
    "    +---------------------------------+\n",
    "    | x1   x2   x3  x4   x5   x6   x7 |  x8   x9   x10\n",
    "    +---------------------------------+\n",
    "    \n",
    "    +------------------+\n",
    "    | y1   y2   y3  x4 | x5   x6    x7   x8   x9   x10\n",
    "    +------------------+"
   ]
  },
  {
   "cell_type": "markdown",
   "metadata": {},
   "source": [
    "Now that we have the general form of the subproblems, we need to divide them into types. Aside from the base case, we will have three types of subproblems which depend on whether the last letters of the strings match or not.\n",
    "\n",
    "Here is where the constraint comes in - our constraint is that letters need to match, and also their relative order cannot change between the solution subsequence and the input subsequences.\n",
    "\n",
    "1. __The last letters match:__ This means we found a letter that will belong to the solution. So that we keep the order of the elements, (that's the definition of keeping it a subsequence) we only need to look at a prefix of the words up to the matching letter. \n",
    "2. __The last letters do not match:__ This means that the last letter of each word might have a chance to be in the prefix of the other word."
   ]
  },
  {
   "cell_type": "markdown",
   "metadata": {},
   "source": [
    "## Write the Recursive Algorithm (step 2)\n",
    "We have established that our subproblem pattern is multi-prefix. From the discussion above the recursion relation is:\n",
    "\n",
    "$\\text{X and Y are words, lcs is short for 'length of longest common subsequence' }$\n",
    "\n",
    "\\begin{equation}\n",
    "  lcs(x_i, y_j, count) = \n",
    "  \\begin{cases}\n",
    "    0, & \\text{if}\\ i=0 \\text{ or } j = 0 \\\\\n",
    "    1 + lcs(x_{i-1}, y_{j-1}), & \\text{if}\\ i, j \\neq 0 \\text{ and } x_i = y_j \\\\\n",
    "    max \n",
    "    \\begin{cases}\n",
    "     lcs(x_i, y_{j-1})  & \\text{if}\\ i,j\\neq0 \\text{ and } x_i \\neq y_j  \\\\\n",
    "     lcs(x_{i-1}, y_{j})  \\\\\n",
    "    \\end{cases}\\\\\n",
    "  \\end{cases}\\\\\n",
    "\\end{equation}\n",
    "\n",
    "$\\text{where } x_i \\text{ are the first i letters of X}, \\text{and } y_j \\text{ are the first j letters of Y}$\n",
    "\n",
    "Check your understanding of the recursion with this quiz:"
   ]
  },
  {
   "cell_type": "code",
   "execution_count": 5,
   "metadata": {
    "jupyter": {
     "source_hidden": true
    },
    "pycharm": {
     "name": "#%%\n"
    }
   },
   "outputs": [
    {
     "data": {
      "application/vnd.jupyter.widget-view+json": {
       "model_id": "d768e8197af343e486e5440208e98b20",
       "version_major": 2,
       "version_minor": 0
      },
      "text/plain": [
       "VBox(box_style='info', children=(HBox(children=(HTML(value=\"<style>p{word-wrap: break-word}</style> <p>Suppose…"
      ]
     },
     "metadata": {},
     "output_type": "display_data"
    }
   ],
   "source": [
    "%run quizzes/quiz.py quizzes/05/lcsubsequence_subproblems.json"
   ]
  },
  {
   "cell_type": "markdown",
   "metadata": {},
   "source": [
    "The recursion relation leads right into the implementation."
   ]
  },
  {
   "cell_type": "markdown",
   "metadata": {
    "pycharm": {
     "name": "#%% md\n"
    }
   },
   "source": [
    "<div class=\"exercise exercise-info\">\n",
    "Implement the naive recursive algorithm to calculate the length of the longest common subsequence when given two strings X and Y. It will run in exponential time, that's expected for this step. Starter code provided below. Note that the function <code>solve(X, Y)</code> takes zero based strings as input which is different from the recurrence formula which is 1-based.\n",
    "</div>"
   ]
  },
  {
   "cell_type": "code",
   "execution_count": 6,
   "metadata": {},
   "outputs": [],
   "source": [
    "def solve(X, Y):\n",
    "\n",
    "    # YOUR CODE HERE\n",
    "    return 0\n",
    "\n",
    "#unit tests\n",
    "#assert(solve('a', '') == 0)\n",
    "#assert(solve('happiness', 'pinecones') == 5)"
   ]
  },
  {
   "cell_type": "markdown",
   "metadata": {},
   "source": [
    "## Write the Memoized Algorithm (step 3)\n",
    "In order to make the workings of the memoized algorithm clear it's important to see how the memoized algorithm fills up its memo (or cache). We can think of the cache as a 2 dimensional grid. The following implementation uses the strings themselves to form the index. Uncomment the print statement and play around with different inputs (I suggest keeping them small)."
   ]
  },
  {
   "cell_type": "code",
   "execution_count": 7,
   "metadata": {},
   "outputs": [
    {
     "data": {
      "text/plain": [
       "0"
      ]
     },
     "execution_count": 7,
     "metadata": {},
     "output_type": "execute_result"
    }
   ],
   "source": [
    "def memoize(original_function):\n",
    "        memo = {}\n",
    "\n",
    "        def wrapper(X,Y):\n",
    "            key = tuple([X,Y])\n",
    "            if key not in memo:\n",
    "                memo[key] = original_function(X,Y)\n",
    "                \n",
    "                #uncomment the following lines to see how many times the grid gets filled                \n",
    "                #memoize.counter+=1 \n",
    "                #print (memoize.counter, memo)\n",
    "                \n",
    "            return memo[key]\n",
    "\n",
    "        return wrapper\n",
    "  \n",
    "@memoize\n",
    "def solve(X, Y):\n",
    "\n",
    "     # YOUR CODE HERE\n",
    "     return 0\n",
    "\n",
    "#unit tests\n",
    "memoize.counter = 0 # function attribute to count filled cells\n",
    "#solve('abc', 'abc')\n",
    "solve('', 'abc')"
   ]
  },
  {
   "cell_type": "markdown",
   "metadata": {},
   "source": [
    "When you were trying out different inputs on the memoized version of longest common subsequence, did you notice that the number of times memoize is called, varies wildly with different types of input?"
   ]
  },
  {
   "cell_type": "code",
   "execution_count": 8,
   "metadata": {
    "jupyter": {
     "source_hidden": true
    }
   },
   "outputs": [
    {
     "data": {
      "application/vnd.jupyter.widget-view+json": {
       "model_id": "5d47ac6e89644a51b84bd87a4d9d2e20",
       "version_major": 2,
       "version_minor": 0
      },
      "text/plain": [
       "VBox(box_style='info', children=(HBox(children=(HTML(value='<style>p{word-wrap: break-word}</style> <p>Refer t…"
      ]
     },
     "metadata": {},
     "output_type": "display_data"
    }
   ],
   "source": [
    "%run quizzes/quiz.py quizzes/05/lcsubsequence_memoize_quiz.json"
   ]
  },
  {
   "cell_type": "markdown",
   "metadata": {},
   "source": [
    "As we saw above, the memoized version does not always need to fill up the whole grid to get the final result. An extreme example is when the words are identical. In this case the algorithm zooms diagonally down the grid and runs in linear time!"
   ]
  },
  {
   "cell_type": "markdown",
   "metadata": {},
   "source": [
    "## Write the Iterative Algorithm (step 4)\n",
    "In the following exercise, convert the longest common subsequence to an iterative, bottom up implementation."
   ]
  },
  {
   "cell_type": "markdown",
   "metadata": {},
   "source": [
    "<div class=\"exercise exercise-info\">\n",
    "Convert the longest common subsequence to an iterative, bottom up implementation. You can use O(m*n) storage, but challenge yourself to using only 2 rows of storage to achieve O(n) in space. <u>Spoiler alert: huge hints in starter code below!</u>\n",
    "</div>"
   ]
  },
  {
   "cell_type": "code",
   "execution_count": 19,
   "metadata": {},
   "outputs": [],
   "source": [
    "def solve(X, Y):\n",
    "    \n",
    "    # will hold only two rows\n",
    "    memo = {}\n",
    "    m, n = len(X), len(Y)\n",
    "\n",
    "    for i in range(m + 1):       \n",
    "        for j in range(n + 1):\n",
    "            \n",
    "            # Hint: run along all the columns, but only need 2 rows: row 0 and row 1          \n",
    "            col = j \n",
    "            row = i%2\n",
    "        \n",
    "            # Hint: The 'upper' row will alternate:  first row 0 is the upper row, then row 1 becomes the 'upper' row\n",
    "            \n",
    "            ######################\n",
    "            ### YOUR CODE HERE ###\n",
    "            ######################\n",
    "            \n",
    "            #solve.counter += 1\n",
    "            #print(solve.counter, memo)\n",
    "    \n",
    "    return memo[tuple([row,col])]\n",
    "\n",
    "solve.counter = 0 ### function attribute to count filled cells\n",
    "\n",
    "#unit tests\n",
    "#solve('abcd', 'abcd')"
   ]
  },
  {
   "cell_type": "markdown",
   "metadata": {},
   "source": [
    "<div class=\"exercise exercise-info\">\n",
    "    <b>Thought exercise:</b> <br><br>\n",
    "    Try different inputs with the bottom-up solution. You'll notice that even in the case of the two strings matching exactly, the iterative solution always fills the whole grid, so working in O(m*n) time, whereas the recursive, memoized solution breezes through that input in O(n) time.<br><br>\n",
    "    1. Sometimes the recursive, memoized solution outperforms the iterative one also in terms of how many calculations it makes. Why is this?\n",
    "<br><br>\n",
    "    2. It wasn't too difficult to write an implementation of the iterative solution to use only O(n) storage instead of using a whole grid which would be O(m*n) storage. Can you easily convert the memoized recursive algorithm to only use linear storage too?\n",
    "</div>"
   ]
  },
  {
   "cell_type": "markdown",
   "metadata": {},
   "source": [
    "# Longest Common Substring\n",
    "The [longest common substring](https://en.wikipedia.org/wiki/Longest_common_substring_problem) problem is most often stated like this: You are given two string, X of length n and Y of length m. Find the longest string which is a substring of both X and Y.\n",
    "\n",
    "Note, like we did in the longest common subsequence, the exercise here is to find the _length_ of the longest substring and not the substring itself.\n",
    "\n",
    "This in itself is __a handy trick__ for solving dynamic programming problems. If you are asked to find the longest/shortest X, it is often easier to first design an algorithm to return the length of the longest/shortest X. You first solve the problem of existence and then very often, returning an instance is only a matter of drudge work."
   ]
  },
  {
   "cell_type": "code",
   "execution_count": 11,
   "metadata": {
    "jupyter": {
     "source_hidden": true
    },
    "pycharm": {
     "name": "#%%\n"
    }
   },
   "outputs": [
    {
     "data": {
      "application/vnd.jupyter.widget-view+json": {
       "model_id": "560f420bcf864b44b06c46c590c69238",
       "version_major": 2,
       "version_minor": 0
      },
      "text/plain": [
       "VBox(box_style='info', children=(HBox(children=(HTML(value='<style>p{word-wrap: break-word}</style> <p>Fill in…"
      ]
     },
     "metadata": {},
     "output_type": "display_data"
    }
   ],
   "source": [
    "%run quizzes/quiz.py quizzes/05/lcstring_example.json"
   ]
  },
  {
   "cell_type": "markdown",
   "metadata": {},
   "source": [
    "## Find the Subproblems (step 1)\n",
    "Remember that by the end of this step you will have examined all the valid subproblem solutions according to constraints or instructions in the given problem statement."
   ]
  },
  {
   "cell_type": "markdown",
   "metadata": {
    "pycharm": {
     "name": "#%% md\n"
    }
   },
   "source": [
    "### Ignore Optimization\n",
    "__Start this way:__  Read the problem and pick out the optimization request if any - and ignore it! Answer the following quiz about the problem described here."
   ]
  },
  {
   "cell_type": "code",
   "execution_count": 12,
   "metadata": {
    "jupyter": {
     "source_hidden": true
    }
   },
   "outputs": [
    {
     "data": {
      "application/vnd.jupyter.widget-view+json": {
       "model_id": "1df869339ddd4975a1579189bdc53e75",
       "version_major": 2,
       "version_minor": 0
      },
      "text/plain": [
       "VBox(box_style='info', children=(HBox(children=(HTML(value=\"<style>p{word-wrap: break-word}</style> <p>Which s…"
      ]
     },
     "metadata": {},
     "output_type": "display_data"
    }
   ],
   "source": [
    "%run quizzes/quiz.py quizzes/05/lcsubstring_first_step.json"
   ]
  },
  {
   "cell_type": "markdown",
   "metadata": {},
   "source": [
    "### Divide Subproblems into Cases\n",
    "Remember that there are 3 main ways to derive the recurrence relation:\n",
    "\n",
    "1. __It's given to you!__ That's not the case here\n",
    "2. __Build it from a given constraint.__ This is our case: the strings must must match. If they don't match, we don't count them.\n",
    "3. __Add your own constraint, then build from that.__ n/a\n",
    "\n",
    "The constraint of 'substrings must match in order to count them' doesn't lead as smoothly into the recurrence relation as in the drinking game/largest independent set in a tree problem. But it still hints how to start: Start by __comparing the last letter__ of each word.\n",
    "\n",
    "Do they match? If they do, then we're interested in looking at the rest of both strings. If they don't match, then we need to split the next step into two: look at the whole of the 1st string and one letter less of the 2nd string. Then look at the whole of the 2nd string and one letter less of the 1st string.\n",
    "\n",
    "The important thing to note is that what I wrote above is NOT the final algorithm - it's just a way to think about how to build a recurrence relation that knows how to _count_ substring lengths and covers all the possible substrings."
   ]
  },
  {
   "cell_type": "code",
   "execution_count": 13,
   "metadata": {
    "jupyter": {
     "source_hidden": true
    }
   },
   "outputs": [
    {
     "data": {
      "application/vnd.jupyter.widget-view+json": {
       "model_id": "a3f138727ed14780bd535ccebd356465",
       "version_major": 2,
       "version_minor": 0
      },
      "text/plain": [
       "VBox(box_style='info', children=(HBox(children=(HTML(value='<style>p{word-wrap: break-word}</style> <p>Select …"
      ]
     },
     "metadata": {},
     "output_type": "display_data"
    }
   ],
   "source": [
    "%run quizzes/quiz.py quizzes/05/lcs_rr.json"
   ]
  },
  {
   "cell_type": "markdown",
   "metadata": {
    "pycharm": {
     "name": "#%% md\n"
    }
   },
   "source": [
    "Going back to our example of 'happiness and pinecones', you have the following three cases (first call of the function)\n",
    "\n",
    "1. Compare last letters ('s' and 's') and add result to comparison of 'happines' and 'pinecone'\n",
    "2. Compare 'happiness' and 'pinecone'\n",
    "3. Compare 'happines' and 'pinecones'"
   ]
  },
  {
   "cell_type": "markdown",
   "metadata": {},
   "source": [
    "## Write the Recursive Algorithm (step 2)\n",
    "Once you write the recurrence relation, you're basically done, so let's dive in."
   ]
  },
  {
   "cell_type": "markdown",
   "metadata": {},
   "source": [
    "### Add Optimization Back In\n",
    "The problem asked to find the _longest_ substring. So the recurrence relation will include _maximizing_ over the three cases you found above."
   ]
  },
  {
   "cell_type": "markdown",
   "metadata": {},
   "source": [
    "### Write the Recurrence Relation\n",
    "The practice problem is a bit more challenging than the worked example above. I admit that I found it easier to first write the algorithm in Python, but writing up the recurrence was a good exercise in LaTeX 😜"
   ]
  },
  {
   "cell_type": "markdown",
   "metadata": {},
   "source": [
    "<div class=\"exercise exercise-info\">\n",
    "Writing the recurrence relation is the crux to solving the problem. Try to work it out yourself.\n",
    "</div>"
   ]
  },
  {
   "cell_type": "markdown",
   "metadata": {},
   "source": [
    "$x_i \\text{ are the first i letters of X}$\n",
    "\n",
    "$y_j \\text{ are the first j letters of Y}$\n",
    "\n",
    "\n",
    "\\begin{equation}\n",
    "  lcs(x_m, y_n, count) = \n",
    "  \\begin{cases}\n",
    "    count,  & \\text{if}\\ i=0 \\text{ or } j = 0 \\\\\n",
    "    max\n",
    "    \\begin{cases} & & & & & & \\text{otherwise} \\\\\n",
    "      c\n",
    "      \\begin{cases}  \\\\\n",
    "        lcs(x_{i-1}, y_{j-1}, count + 1),  & & & \\text{if}\\  x_i = y_j \\\\\n",
    "        count, &  & & \\text{otherwise}  \\\\\n",
    "      \\end{cases} \\\\\n",
    "     lcs(x_i, y_{j-1}, 0)  \\\\\n",
    "     lcs(x_{i-1}, y_{j}, 0)  \\\\\n",
    "    \\end{cases}\n",
    "  \\end{cases}\n",
    "\\end{equation}\n"
   ]
  },
  {
   "cell_type": "markdown",
   "metadata": {},
   "source": [
    "### Implement the Recursive Algorithm\n",
    "Keep the recurrence relation in front of you as a guide for the following exercise."
   ]
  },
  {
   "cell_type": "markdown",
   "metadata": {
    "pycharm": {
     "name": "#%% md\n"
    }
   },
   "source": [
    "<div class=\"exercise exercise-info\">\n",
    "Implement the naive recursive algorithm to calculate the length of the longest common substring when given two strings X and Y. It will run in exponential time, that's expected for this step. Starter code provided below. Note that the function <code>lcs_count(X, Y)</code> takes zero based strings as input which is different from the recurrence formula which is 1-based.\n",
    "</div>"
   ]
  },
  {
   "cell_type": "code",
   "execution_count": 14,
   "metadata": {
    "collapsed": false,
    "jupyter": {
     "outputs_hidden": false
    },
    "pycharm": {
     "name": "#%%\n"
    }
   },
   "outputs": [],
   "source": [
    "def lcs(X, Y, count):\n",
    "    ### YOUR CODE ###\n",
    "    return 0\n",
    "\n",
    "def lcs_count(X,Y):\n",
    "    return lcs(X, Y, 0)\n",
    "\n",
    "# unit tests\n",
    "# YOUR CASES HERE ###\n",
    "\n",
    "#assert(lcs_count('happiness', 'pinecones') == 4)"
   ]
  },
  {
   "cell_type": "markdown",
   "metadata": {},
   "source": [
    "## Write the Memoized Algorithm (step 3)\n",
    "At this point you have a correct but inefficient algorithm. The naive recursive algorithm runs in exponential time. Remember that all memoization does is store the solutions of the subproblems so that they don't need to be calculated more than once."
   ]
  },
  {
   "cell_type": "markdown",
   "metadata": {},
   "source": [
    "<div class=\"exercise exercise-info\">\n",
    "Now implement the recursive, <b>memoized</b> algorithm to solve Happiness & Pinecones (longest common substring) problem. Starter code provided below. A clever solution from Schmatz, (2017) uses a decorator to memoize and caches results using the calling function's arguments as index into the cache (see solutions).\n",
    "    \n",
    "While you're working on this, note how a table of values is built\n",
    "</div>"
   ]
  },
  {
   "cell_type": "code",
   "execution_count": 22,
   "metadata": {},
   "outputs": [],
   "source": [
    "#The solution is similar to (Schmatz, 2017). See references section\n",
    "def memoize(original_function):\n",
    "    memo = {}\n",
    "    \n",
    "    def wrapper(X, Y, count):\n",
    "       ## YOUR CODE\n",
    "        \n",
    "        return wrapper\n",
    "\n",
    "@memoize\n",
    "def lcs(X, Y, count = 0):\n",
    "\n",
    "    ## YOUR CODE\n",
    "    return 0\n",
    "\n",
    "def lcs_count(X,Y):\n",
    "    return lcs(X, Y, 0)\n",
    "\n",
    "#unit tests\n",
    "#assert(lcs('', '') == 0)\n",
    "#assert(lcs('cat', 'sa') == 1)"
   ]
  },
  {
   "cell_type": "markdown",
   "metadata": {},
   "source": [
    "# Solutions"
   ]
  },
  {
   "cell_type": "markdown",
   "metadata": {
    "pycharm": {
     "name": "#%% md\n"
    }
   },
   "source": [
    "<div class=\"exercise exercise-warning\"><details><summary>Longest common subsequence - naive - recursive</summary> \n",
    "    \n",
    "```python \n",
    "    \n",
    "    #%load solutions/05/lcsubsequence_naive.py\n",
    "    def solve(X, Y):\n",
    "\n",
    "    m, n = len(X), len(Y)\n",
    "    if m == 0 or n == 0:\n",
    "        return 0 \n",
    "\n",
    "    if X[m - 1] == Y[n - 1]:\n",
    "        return 1 + solve(X[0: m - 1], Y[0: n - 1])\n",
    "\n",
    "    return max(solve(X[0:m], Y[0:n - 1]), solve(X[0:m - 1], Y[0:n]))\n",
    "\n",
    "    #unit tests\n",
    "    assert(solve('a', '') == 0)\n",
    "    assert(solve('happiness', 'pinecones') == 5) \n",
    "```\n",
    "    \n",
    "</details>"
   ]
  },
  {
   "cell_type": "markdown",
   "metadata": {
    "pycharm": {
     "name": "#%% md\n"
    }
   },
   "source": [
    "<div class=\"exercise exercise-warning\"><details><summary>Longest common subsequence - memoized - recursive</summary> \n",
    "    \n",
    "```python \n",
    "    \n",
    "    #%load solutions/05/lcsubsequence_memoized.py\n",
    "    def memoize(original_function):\n",
    "            memo = {}\n",
    "\n",
    "            def wrapper(X,Y):\n",
    "                key = tuple([X,Y])\n",
    "                if key not in memo:\n",
    "                    memo[key] = original_function(X,Y)\n",
    "\n",
    "                    #uncomment the following lines to see how many times the grid gets filled \n",
    "                    #memoize.counter+=1 \n",
    "                    #print (memoize.counter, memo)\n",
    "\n",
    "                return memo[key]\n",
    "\n",
    "            return wrapper\n",
    "  \n",
    "    memoize.counter = 0 ### function attribute to count filled cells\n",
    "\n",
    "    @memoize\n",
    "    def solve(X, Y):\n",
    "\n",
    "        m, n = len(X), len(Y)\n",
    "        if m == 0 or n == 0:\n",
    "            return 0 \n",
    "\n",
    "        if X[m - 1] == Y[n - 1]:\n",
    "            return 1 + solve(X[0: m - 1], Y[0: n - 1])\n",
    "\n",
    "        return max(solve(X[0:m], Y[0:n - 1]), solve(X[0:m - 1], Y[0:n]))\n",
    "\n",
    "\n",
    "    #unit tests\n",
    "    #solve('abc', 'abc')\n",
    "```\n",
    "    \n",
    "</details>"
   ]
  },
  {
   "cell_type": "markdown",
   "metadata": {
    "pycharm": {
     "name": "#%% md\n"
    }
   },
   "source": [
    "<div class=\"exercise exercise-warning\"><details><summary>Longest common subsequence - iterative - bottom-up</summary> \n",
    "    \n",
    "```python \n",
    "    \n",
    "    #%load solutions/05/lcsubsequence_iterated.py\n",
    "    def solve(X, Y):\n",
    "    \n",
    "    # will hold only two rows\n",
    "    memo = {}\n",
    "    m, n = len(X), len(Y)\n",
    "\n",
    "    for i in range(m + 1):       \n",
    "        for j in range(n + 1):\n",
    "            \n",
    "            # run along all the columns, but only need 2 rows: row 0 and row 1          \n",
    "            col = j \n",
    "            row = i%2\n",
    "        \n",
    "            # The 'upper' row will alternate:  first row 0 is the upper row, then row 1 becomes the 'upper' row\n",
    "            if row == 0:\n",
    "                upper = row + 1\n",
    "            else:\n",
    "                upper = row - 1\n",
    "                \n",
    "            key = tuple([row, col])    \n",
    "            if i == 0 or j == 0:\n",
    "                memo[key] = 0\n",
    "            elif X[i - 1] == Y[j - 1]:\n",
    "                memo[key] = 1 + memo[tuple([upper, col - 1])]\n",
    "            else:\n",
    "                memo[key] = max(memo[tuple([row, col - 1])], memo[tuple([upper, col])])\n",
    "            \n",
    "            #solve.counter += 1\n",
    "            #print(solve.counter, memo)\n",
    "    \n",
    "    return memo[tuple([row,col])]\n",
    "\n",
    "    solve.counter = 0 ### function attribute to count filled cells\n",
    "\n",
    "    #unit tests\n",
    "    #solve('rachel', 'rachel')\n",
    "    \n",
    "```\n",
    "    \n",
    "</details>"
   ]
  },
  {
   "cell_type": "markdown",
   "metadata": {},
   "source": [
    "<div class=\"exercise exercise-warning\"><details><summary>Why does recursive memoized longest common subsequence sometimes outperform interative implementation?</summary> \n",
    "    \n",
    "    The recursive implementation works top-down, so it works only on the substrings it needs. If the strings match, the algorithm immediately shortens the strings by 1 letter and doesn't bother checking anything else. The bottom up implementation doesn't know the future - it calculates all the subproblems in case it will need the results later. However, for the very same reason, the recursive algorithm cannot be easily converted to using only linear space since depending on the input, the grid it builds up could be sparse or more filled.\n",
    "    \n",
    "</details>"
   ]
  },
  {
   "cell_type": "markdown",
   "metadata": {
    "pycharm": {
     "name": "#%% md\n"
    }
   },
   "source": [
    "<div class=\"exercise exercise-warning\"><details><summary>Longest common substring - naive - recursive</summary> \n",
    "    \n",
    "```python \n",
    "    \n",
    "    #%load solutions/05/lcsubstring_naive.py\n",
    "    def solve_counter(X, Y, count = 0):\n",
    "\n",
    "    m, n = len(X), len(Y)\n",
    "    if m == 0 or n == 0:\n",
    "        return count \n",
    "\n",
    "    if X[m - 1] == Y[n - 1]:\n",
    "        count = solve_counter(X[0: m - 1], Y[0: n - 1], count + 1)\n",
    "\n",
    "    return max(count, solve_counter(X[0:m], Y[0:n-1], 0), solve_counter(X[0:m-1], Y[0:n], 0))\n",
    "\n",
    "    def solve(X,Y):\n",
    "        return solve_counter(X, Y, 0)\n",
    "\n",
    "    #unit tests\n",
    "    assert(solve('', '') == 0)\n",
    "    assert(solve('', 'b') == 0)\n",
    "    assert(solve('a', '') == 0) \n",
    "```\n",
    "    \n",
    "</details>"
   ]
  },
  {
   "cell_type": "markdown",
   "metadata": {
    "pycharm": {
     "name": "#%% md\n"
    }
   },
   "source": [
    "<div class=\"exercise exercise-warning\"><details><summary>Longest common substring - memoized</summary> \n",
    "    \n",
    "```python \n",
    "    \n",
    "    # This solution is an improved version of a clever memoize function that uses the strings as keys (useful for learning and debugging) that I found here.:\n",
    "    # Schmatz, S. (2017, December 7). Intermediate Dynamic Programming. https://stevenschmatz.github.io/blog/2017/12/07/intermediate-dynamic-programming/\n",
    "    # The original version includes the 'count' input arg in the memo dictionary key, which seemed to me uneccessary so I removed it.\n",
    "    def memoize(original_function):\n",
    "        memo = {}\n",
    "\n",
    "        def wrapper(X, Y, count):\n",
    "            key = tuple([X,Y])\n",
    "            if key in memo:\n",
    "                return memo[key]\n",
    "\n",
    "            result = original_function(X, Y, counter)\n",
    "            memo[key] = result\n",
    "\n",
    "            return result\n",
    "\n",
    "        return wrapper\n",
    "\n",
    "\n",
    "    @memoize\n",
    "    def solve_count(X, Y, count = 0):\n",
    "\n",
    "        m, n = len(X), len(Y)\n",
    "        #print ('in solve_count', m, \" : \", X, \"   \", n, \" : \", Y , \" -->\", count)\n",
    "        if m == 0 or n == 0:\n",
    "            return count \n",
    "\n",
    "        if X[m - 1] == Y[n - 1]:\n",
    "            count = solve_count(X[0: m - 1], Y[0: n - 1], count + 1)\n",
    "\n",
    "        return max(count, solve_count(X[0:m], Y[0:n-1], 0), solve_count(X[0:m-1], Y[0:n], 0))\n",
    "\n",
    "    def solve_count(X,Y):\n",
    "        return lcs(X, Y, 0)\n",
    "\n",
    "    #unit tests\n",
    "    solve('abc', 'abc', 0)\n",
    "   \n",
    "```\n",
    "    \n",
    "</details>"
   ]
  },
  {
   "cell_type": "markdown",
   "metadata": {},
   "source": [
    "# References\n",
    "\n",
    "1. Dasgupta, S., Papadimitriou, C. H., & Vazirani, U. V. (2008). Algorithms. McGraw-Hill Higher Education New York.\n",
    "\n",
    "2. Forišek, M. (2015). Towards a better way to teach dynamic programming. Olympiads in Informatics, 9, 45–55.\n",
    "\n",
    "3. Jauhari, A. (2017, August 20). Print the longest common substring. GeeksforGeeks. https://www.geeksforgeeks.org/print-longest-common-substring/\n",
    "\n",
    "4. Schmatz, S. (2017, December 7). Intermediate Dynamic Programming. https://stevenschmatz.github.io/blog/2017/12/07/intermediate-dynamic-programming/"
   ]
  },
  {
   "cell_type": "code",
   "execution_count": null,
   "metadata": {
    "collapsed": false,
    "jupyter": {
     "outputs_hidden": false
    },
    "pycharm": {
     "name": "#%%\n"
    }
   },
   "outputs": [],
   "source": [
    "#workaround for known ipywidget issue not rendering alert style colours on Jupyter lab\n",
    "from IPython.core.display import HTML\n",
    "HTML(open(\"../styles/custom.css\", \"r\").read())"
   ]
  }
 ],
 "metadata": {
  "kernelspec": {
   "display_name": "Python 3",
   "language": "python",
   "name": "python3"
  },
  "language_info": {
   "codemirror_mode": {
    "name": "ipython",
    "version": 3
   },
   "file_extension": ".py",
   "mimetype": "text/x-python",
   "name": "python",
   "nbconvert_exporter": "python",
   "pygments_lexer": "ipython3",
   "version": "3.7.6"
  },
  "latex_envs": {
   "LaTeX_envs_menu_present": true,
   "autoclose": true,
   "autocomplete": true,
   "bibliofile": "biblio.bib",
   "cite_by": "apalike",
   "current_citInitial": 1,
   "eqLabelWithNumbers": true,
   "eqNumInitial": 1,
   "hotkeys": {
    "equation": "Ctrl-E",
    "itemize": "Ctrl-I"
   },
   "labels_anchors": false,
   "latex_user_defs": false,
   "report_style_numbering": false,
   "user_envs_cfg": false
  },
  "toc": {
   "base_numbering": 1,
   "nav_menu": {},
   "number_sections": false,
   "sideBar": true,
   "skip_h1_title": false,
   "title_cell": "Table of Contents",
   "title_sidebar": "Contents",
   "toc_cell": false,
   "toc_position": {},
   "toc_section_display": true,
   "toc_window_display": true
  },
  "toc-autonumbering": true,
  "toc-showtags": false,
  "widgets": {
   "application/vnd.jupyter.widget-state+json": {
    "state": {
     "00766542ac2d481f819eefa596eeeeab": {
      "model_module": "@jupyter-widgets/controls",
      "model_module_version": "1.5.0",
      "model_name": "DescriptionStyleModel",
      "state": {
       "description_width": "initial"
      }
     },
     "00fff5bbee644548afa862cbf2876fd8": {
      "model_module": "@jupyter-widgets/controls",
      "model_module_version": "1.5.0",
      "model_name": "DescriptionStyleModel",
      "state": {
       "description_width": ""
      }
     },
     "02c0006a52164aedb71ef32d4052e192": {
      "model_module": "@jupyter-widgets/controls",
      "model_module_version": "1.5.0",
      "model_name": "DescriptionStyleModel",
      "state": {
       "description_width": ""
      }
     },
     "02cf8a17a0554b1e83405877ba17b371": {
      "model_module": "@jupyter-widgets/base",
      "model_module_version": "1.2.0",
      "model_name": "LayoutModel",
      "state": {
       "width": "30px"
      }
     },
     "031791bcdfd24a099f343176559167db": {
      "model_module": "@jupyter-widgets/controls",
      "model_module_version": "1.5.0",
      "model_name": "DescriptionStyleModel",
      "state": {
       "description_width": ""
      }
     },
     "0337302e8b054d11a8fa778aff194935": {
      "model_module": "@jupyter-widgets/controls",
      "model_module_version": "1.5.0",
      "model_name": "HBoxModel",
      "state": {
       "children": [
        "IPY_MODEL_247172f948de4374bc43f215f51624f8",
        "IPY_MODEL_80ffceb3d8d7445897a7ca9cc9987d4d"
       ],
       "layout": "IPY_MODEL_e46bca41fab64cba87a1bad5237a6b8d"
      }
     },
     "03b9dbbbdd86451cb0ae15252373818f": {
      "model_module": "@jupyter-widgets/controls",
      "model_module_version": "1.5.0",
      "model_name": "DescriptionStyleModel",
      "state": {
       "description_width": "initial"
      }
     },
     "03bf1bf84fb04d278fe88fafaab7284e": {
      "model_module": "@jupyter-widgets/base",
      "model_module_version": "1.2.0",
      "model_name": "LayoutModel",
      "state": {}
     },
     "0404d09cb3de472fa2f24963b78d343d": {
      "model_module": "@jupyter-widgets/base",
      "model_module_version": "1.2.0",
      "model_name": "LayoutModel",
      "state": {}
     },
     "04bf208bf9b040f39bee409ebad2bd09": {
      "model_module": "@jupyter-widgets/base",
      "model_module_version": "1.2.0",
      "model_name": "LayoutModel",
      "state": {}
     },
     "04db500d0bc9446993a522b1753d8152": {
      "model_module": "@jupyter-widgets/controls",
      "model_module_version": "1.5.0",
      "model_name": "HTMLModel",
      "state": {
       "layout": "IPY_MODEL_6ef5d01ac43146e0a3af581ef999fd7e",
       "style": "IPY_MODEL_b11bb2aedf804a7c8dab512abf229aa3",
       "value": "<style>p{word-wrap: break-word}</style> <p>Find the length of the longest common substring. </p>"
      }
     },
     "0519e86d34a24b288fa5581ae4d2bd53": {
      "model_module": "@jupyter-widgets/controls",
      "model_module_version": "1.5.0",
      "model_name": "HTMLModel",
      "state": {
       "layout": "IPY_MODEL_89b8dda5dbe54d5c8256f516ba15b794",
       "style": "IPY_MODEL_a2cd578cbc8344ac80ce956ed7aa246e",
       "value": "<style>p{word-wrap: break-word}</style> <p>Which simplified rephrasings of the 'longest common substring' problem could be helpful to discoving its subproblems? </p>"
      }
     },
     "05517f6d91b94bcab9d2c78f7d909318": {
      "model_module": "@jupyter-widgets/controls",
      "model_module_version": "1.5.0",
      "model_name": "DescriptionStyleModel",
      "state": {
       "description_width": "initial"
      }
     },
     "06a7ffb13b704f82af03cc47856fd949": {
      "model_module": "@jupyter-widgets/base",
      "model_module_version": "1.2.0",
      "model_name": "LayoutModel",
      "state": {
       "align_items": "stretch",
       "display": "flex",
       "flex_flow": "row wrap",
       "width": "auto"
      }
     },
     "08556c01a40a4b0ab249f62e15261eb2": {
      "model_module": "@jupyter-widgets/base",
      "model_module_version": "1.2.0",
      "model_name": "LayoutModel",
      "state": {}
     },
     "086fd7582eb743a1894cbf49f35ec7ca": {
      "model_module": "@jupyter-widgets/controls",
      "model_module_version": "1.5.0",
      "model_name": "HBoxModel",
      "state": {
       "children": [
        "IPY_MODEL_abc330af02e742c5bb6491ee76686f74",
        "IPY_MODEL_4e8ff2998a8c4a7381644a86835dc21c",
        "IPY_MODEL_b0b1d275001f4dd6b9296f311ef19b95"
       ],
       "layout": "IPY_MODEL_78d28d4a3a35431581285290c26ec33d"
      }
     },
     "08854873146445f684ffb94fc982565f": {
      "model_module": "@jupyter-widgets/base",
      "model_module_version": "1.2.0",
      "model_name": "LayoutModel",
      "state": {}
     },
     "089076914c0d44219a95e069b1e0c424": {
      "model_module": "@jupyter-widgets/controls",
      "model_module_version": "1.5.0",
      "model_name": "HBoxModel",
      "state": {
       "children": [
        "IPY_MODEL_317e16f6b79b4f3497e018c3fcd7d233",
        "IPY_MODEL_f566caca22af4611b851869f09b292f0"
       ],
       "layout": "IPY_MODEL_735f5c52e95043ed8ef25210d626f266"
      }
     },
     "08f030a21d744430a36f5dd069d12b04": {
      "model_module": "@jupyter-widgets/base",
      "model_module_version": "1.2.0",
      "model_name": "LayoutModel",
      "state": {}
     },
     "094eeb38e2a74285914c26787db4b537": {
      "model_module": "@jupyter-widgets/controls",
      "model_module_version": "1.5.0",
      "model_name": "DescriptionStyleModel",
      "state": {
       "description_width": ""
      }
     },
     "09f1ba48e2f4495cb2d5045e8865af6e": {
      "model_module": "@jupyter-widgets/controls",
      "model_module_version": "1.5.0",
      "model_name": "DescriptionStyleModel",
      "state": {
       "description_width": "initial"
      }
     },
     "0a1502cb173048cbb9045da121cd5c42": {
      "model_module": "@jupyter-widgets/base",
      "model_module_version": "1.2.0",
      "model_name": "LayoutModel",
      "state": {
       "width": "auto"
      }
     },
     "0b4a7722b1614e7b913490fc51f78056": {
      "model_module": "@jupyter-widgets/base",
      "model_module_version": "1.2.0",
      "model_name": "LayoutModel",
      "state": {
       "align_items": "stretch",
       "display": "flex",
       "flex_flow": "row wrap",
       "width": "auto"
      }
     },
     "0bb128e11efb4388b926e3e878372332": {
      "model_module": "@jupyter-widgets/controls",
      "model_module_version": "1.5.0",
      "model_name": "DescriptionStyleModel",
      "state": {
       "description_width": ""
      }
     },
     "0c1911fab51b4d15900c679c6ab34c97": {
      "model_module": "@jupyter-widgets/base",
      "model_module_version": "1.2.0",
      "model_name": "LayoutModel",
      "state": {
       "width": "auto"
      }
     },
     "0c3f6879b9d244c297c146a94b621f44": {
      "model_module": "@jupyter-widgets/controls",
      "model_module_version": "1.5.0",
      "model_name": "HBoxModel",
      "state": {
       "children": [
        "IPY_MODEL_0e7714c063da44178407c598057d383f",
        "IPY_MODEL_e2e175ea7d4649ad84bc834e881cefe8"
       ],
       "layout": "IPY_MODEL_7e0d7af508e44fd0a3a6a0dc91facdb3"
      }
     },
     "0cb9af8b33d04d89b840aa218a8584fc": {
      "model_module": "@jupyter-widgets/base",
      "model_module_version": "1.2.0",
      "model_name": "LayoutModel",
      "state": {}
     },
     "0d196dd7b235424c84a5ec6ae7d63c22": {
      "model_module": "@jupyter-widgets/base",
      "model_module_version": "1.2.0",
      "model_name": "LayoutModel",
      "state": {}
     },
     "0db44ef9528b4762b5e81378f45c722d": {
      "model_module": "@jupyter-widgets/base",
      "model_module_version": "1.2.0",
      "model_name": "LayoutModel",
      "state": {}
     },
     "0e3c5cde9dd54a9dbaa912ce2388345e": {
      "model_module": "@jupyter-widgets/controls",
      "model_module_version": "1.5.0",
      "model_name": "DescriptionStyleModel",
      "state": {
       "description_width": ""
      }
     },
     "0e7714c063da44178407c598057d383f": {
      "model_module": "@jupyter-widgets/controls",
      "model_module_version": "1.5.0",
      "model_name": "CheckboxModel",
      "state": {
       "disabled": false,
       "layout": "IPY_MODEL_c049da1d5d7b4b19a2df458072fbfb5b",
       "style": "IPY_MODEL_6add1be79832405cb80dd4e9ff8d1742",
       "value": false
      }
     },
     "0ee0f907f5f74a09a853ae466a9e3ac2": {
      "model_module": "@jupyter-widgets/controls",
      "model_module_version": "1.5.0",
      "model_name": "VBoxModel",
      "state": {
       "children": [
        "IPY_MODEL_14c2c41fc7a944be9a7e5d23826fc719",
        "IPY_MODEL_e5546c4e106e4edd96ff82ac9d8d605a",
        "IPY_MODEL_7ce66fdaa2124ffe890f36f1824f6783",
        "IPY_MODEL_ec61af1476ce4a6e87370838beb8d52c",
        "IPY_MODEL_393ea9b77e5d4d7f9304a7d3f55f52eb"
       ],
       "layout": "IPY_MODEL_987ec9bc712d4af984b79c007465aea1"
      }
     },
     "0f3b2e5a137d42eb9af4387659a6e690": {
      "model_module": "@jupyter-widgets/base",
      "model_module_version": "1.2.0",
      "model_name": "LayoutModel",
      "state": {
       "display": "none"
      }
     },
     "0f8da2c88f5a489e86c7917bd1d1db9f": {
      "model_module": "@jupyter-widgets/base",
      "model_module_version": "1.2.0",
      "model_name": "LayoutModel",
      "state": {}
     },
     "1064c0918a4e44bbb3f0014c9697f9d6": {
      "model_module": "@jupyter-widgets/controls",
      "model_module_version": "1.5.0",
      "model_name": "ButtonStyleModel",
      "state": {
       "button_color": "#4DD0E1"
      }
     },
     "1188fd7652f045a18856fa4e146e1556": {
      "model_module": "@jupyter-widgets/base",
      "model_module_version": "1.2.0",
      "model_name": "LayoutModel",
      "state": {
       "width": "auto"
      }
     },
     "11bee409cd7643e9a3d89d341390830a": {
      "model_module": "@jupyter-widgets/controls",
      "model_module_version": "1.5.0",
      "model_name": "DescriptionStyleModel",
      "state": {
       "description_width": ""
      }
     },
     "11c2f52956c74be58772fcd123fce30d": {
      "model_module": "@jupyter-widgets/controls",
      "model_module_version": "1.5.0",
      "model_name": "DescriptionStyleModel",
      "state": {
       "description_width": ""
      }
     },
     "12b9dd55114b4126a68b542c37910673": {
      "model_module": "@jupyter-widgets/base",
      "model_module_version": "1.2.0",
      "model_name": "LayoutModel",
      "state": {
       "display": "none"
      }
     },
     "12dcb034e16544b3aed3a92d5b9e50eb": {
      "model_module": "@jupyter-widgets/base",
      "model_module_version": "1.2.0",
      "model_name": "LayoutModel",
      "state": {
       "align_items": "stretch",
       "display": "flex",
       "flex_flow": "row wrap",
       "width": "auto"
      }
     },
     "12fee06ff6454c5bb4faf3221d6ad8a1": {
      "model_module": "@jupyter-widgets/base",
      "model_module_version": "1.2.0",
      "model_name": "LayoutModel",
      "state": {
       "width": "auto"
      }
     },
     "132423782dfe49deb24c9305c81ec8e0": {
      "model_module": "@jupyter-widgets/base",
      "model_module_version": "1.2.0",
      "model_name": "LayoutModel",
      "state": {
       "width": "auto"
      }
     },
     "1416b262a6bc4c85a1c11e5a9d21fed3": {
      "model_module": "@jupyter-widgets/controls",
      "model_module_version": "1.5.0",
      "model_name": "CheckboxModel",
      "state": {
       "disabled": false,
       "layout": "IPY_MODEL_6c8c433636a841afaf09d33d7984873d",
       "style": "IPY_MODEL_6b64cfb92ee640afac7e4bd5d62583b6",
       "value": false
      }
     },
     "145b033b2ffc46d8a0f0adfab2ba6e0a": {
      "model_module": "@jupyter-widgets/controls",
      "model_module_version": "1.5.0",
      "model_name": "HTMLModel",
      "state": {
       "layout": "IPY_MODEL_04bf208bf9b040f39bee409ebad2bd09",
       "style": "IPY_MODEL_f760419542bd464ca975abb6bc012278",
       "value": "<style>p{word-wrap: break-word}</style> <p>If the last letter matches, the count is increased by 1 </p>"
      }
     },
     "147c7f2928634166bb38c78e37cc72ed": {
      "model_module": "@jupyter-widgets/base",
      "model_module_version": "1.2.0",
      "model_name": "LayoutModel",
      "state": {}
     },
     "14c2c41fc7a944be9a7e5d23826fc719": {
      "model_module": "@jupyter-widgets/controls",
      "model_module_version": "1.5.0",
      "model_name": "HBoxModel",
      "state": {
       "children": [
        "IPY_MODEL_abfa958a7eef48e48627d3bfbdf7c2fe",
        "IPY_MODEL_0337302e8b054d11a8fa778aff194935"
       ],
       "layout": "IPY_MODEL_dce6c24dd2a4465697d95f3d7c5dff65"
      }
     },
     "157c579aa5e3483c8d4fc11213aae1bf": {
      "model_module": "@jupyter-widgets/controls",
      "model_module_version": "1.5.0",
      "model_name": "ButtonModel",
      "state": {
       "description": "Show answer",
       "disabled": true,
       "layout": "IPY_MODEL_12b9dd55114b4126a68b542c37910673",
       "style": "IPY_MODEL_5d4b56cf86174293a978b1931573f483"
      }
     },
     "1680ee6ced80411db7bfc335c1a2b810": {
      "model_module": "@jupyter-widgets/controls",
      "model_module_version": "1.5.0",
      "model_name": "ButtonStyleModel",
      "state": {
       "button_color": "#4DD0E1"
      }
     },
     "175165bcdf2e4643b9e07fb87c2c72cb": {
      "model_module": "@jupyter-widgets/base",
      "model_module_version": "1.2.0",
      "model_name": "LayoutModel",
      "state": {}
     },
     "176ef0dc818c497590e7e9bf0ae39042": {
      "model_module": "@jupyter-widgets/controls",
      "model_module_version": "1.5.0",
      "model_name": "HBoxModel",
      "state": {
       "children": [
        "IPY_MODEL_5ac3b4b62002421c9e74ca2c77ce5ee8",
        "IPY_MODEL_f39896b0029143c3b4567b3e26d4c293"
       ],
       "layout": "IPY_MODEL_f1dd0a4826f2409bb95f9356ac5c02da"
      }
     },
     "17b8544c1fdf423aad7bd4ddb94a93fc": {
      "model_module": "@jupyter-widgets/controls",
      "model_module_version": "1.5.0",
      "model_name": "LabelModel",
      "state": {
       "layout": "IPY_MODEL_70061874136e48ecb0f7193a99fdb5e1",
       "style": "IPY_MODEL_ea93b520f8584feba5e64d54192859a3"
      }
     },
     "182aeace655e4ac4aacb586d3bef2684": {
      "model_module": "@jupyter-widgets/base",
      "model_module_version": "1.2.0",
      "model_name": "LayoutModel",
      "state": {
       "width": "30px"
      }
     },
     "18517229439545a2bfa0c8e94760e8e8": {
      "model_module": "@jupyter-widgets/controls",
      "model_module_version": "1.5.0",
      "model_name": "DescriptionStyleModel",
      "state": {
       "description_width": ""
      }
     },
     "187a9a9594024ae5973b31ba9935dafb": {
      "model_module": "@jupyter-widgets/controls",
      "model_module_version": "1.5.0",
      "model_name": "HBoxModel",
      "state": {
       "children": [
        "IPY_MODEL_518352efea93462082a5598f02b3654e",
        "IPY_MODEL_b62a212f214a44b5a7cb592780c55898",
        "IPY_MODEL_544e24305f914197833982b1c8115456"
       ],
       "layout": "IPY_MODEL_06a7ffb13b704f82af03cc47856fd949"
      }
     },
     "18d5e085699444eca7b312c6cb7e3483": {
      "model_module": "@jupyter-widgets/controls",
      "model_module_version": "1.5.0",
      "model_name": "ButtonModel",
      "state": {
       "description": "Submit",
       "layout": "IPY_MODEL_c5cd3474e00f421fa2b0bbb1242dd870",
       "style": "IPY_MODEL_a6985783a41643d6b8d0dac99bd56325"
      }
     },
     "18d7c3383c554926a5239fbe3a43b8f9": {
      "model_module": "@jupyter-widgets/base",
      "model_module_version": "1.2.0",
      "model_name": "LayoutModel",
      "state": {}
     },
     "19baf2da36144647b0456c4b5e7332ec": {
      "model_module": "@jupyter-widgets/controls",
      "model_module_version": "1.5.0",
      "model_name": "DescriptionStyleModel",
      "state": {
       "description_width": ""
      }
     },
     "1a02d68d0add4031b436a7065c6383b1": {
      "model_module": "@jupyter-widgets/base",
      "model_module_version": "1.2.0",
      "model_name": "LayoutModel",
      "state": {}
     },
     "1a7697ed40404f5cb58788f64a5f6f05": {
      "model_module": "@jupyter-widgets/base",
      "model_module_version": "1.2.0",
      "model_name": "LayoutModel",
      "state": {}
     },
     "1af2c7d25b8c47de9febdf407a9284c6": {
      "model_module": "@jupyter-widgets/controls",
      "model_module_version": "1.5.0",
      "model_name": "HBoxModel",
      "state": {
       "children": [
        "IPY_MODEL_187a9a9594024ae5973b31ba9935dafb",
        "IPY_MODEL_8418be73304a4db49c81c72b74262431",
        "IPY_MODEL_322d5acc2c1c4f51b971ea56865c90e8",
        "IPY_MODEL_f0f292a6297a42aea307a651b67fd986"
       ],
       "layout": "IPY_MODEL_f3376e53b34d440aa2b174c1c9a5de7e"
      }
     },
     "1b030de60f034b3d83ee72d46d8c41ee": {
      "model_module": "@jupyter-widgets/controls",
      "model_module_version": "1.5.0",
      "model_name": "HTMLModel",
      "state": {
       "layout": "IPY_MODEL_71dd4189bab8460b9335112bcf5aead3",
       "style": "IPY_MODEL_792acfc8838c42cab13074c84702dd1b",
       "value": "<style>p{word-wrap: break-word}</style> <p> </p>"
      }
     },
     "1b2b622012c545dcba9f58eed810ee23": {
      "model_module": "@jupyter-widgets/controls",
      "model_module_version": "1.5.0",
      "model_name": "HBoxModel",
      "state": {
       "children": [
        "IPY_MODEL_8d7e33ed18e24245884461b6e820ed10",
        "IPY_MODEL_f445a85ac1954008ba58692431b25120",
        "IPY_MODEL_32f3ff5c6b0a4865a8a6658bdabf822d"
       ],
       "layout": "IPY_MODEL_2deb841a5f2340f791cbb3686ee04694"
      }
     },
     "1b33293a471548f88d9b4928df1808e1": {
      "model_module": "@jupyter-widgets/controls",
      "model_module_version": "1.5.0",
      "model_name": "HTMLModel",
      "state": {
       "layout": "IPY_MODEL_c68f01e8f4b744edab5ae8c40e17f2fb",
       "style": "IPY_MODEL_18517229439545a2bfa0c8e94760e8e8",
       "value": "<style>p{word-wrap: break-word}</style> <p>Refer to the memoized recursive implementation of longest common subsequence. </p>"
      }
     },
     "1bc340db5fc0468b8968c4b0f62b4808": {
      "model_module": "@jupyter-widgets/controls",
      "model_module_version": "1.5.0",
      "model_name": "HBoxModel",
      "state": {
       "children": [
        "IPY_MODEL_7feddb60c47c4238bca5c823160263c7",
        "IPY_MODEL_603603ff0fd34373b5a11f4ddad1a8c4"
       ],
       "layout": "IPY_MODEL_ff35709371b1466982d21c378e1a4fb0"
      }
     },
     "1c9dc7757f064e678b94fa855f8163ec": {
      "model_module": "@jupyter-widgets/controls",
      "model_module_version": "1.5.0",
      "model_name": "TextModel",
      "state": {
       "layout": "IPY_MODEL_212c4269ac9947e087d521075d8588d3",
       "placeholder": "",
       "style": "IPY_MODEL_445f2146c90f404fbd8d3f2ebc26db72"
      }
     },
     "1cae3a1ff7634ffba3e89f91211c3be9": {
      "model_module": "@jupyter-widgets/controls",
      "model_module_version": "1.5.0",
      "model_name": "VBoxModel",
      "state": {
       "children": [
        "IPY_MODEL_780b2d36243b48348403e3fceef4cf66",
        "IPY_MODEL_176ef0dc818c497590e7e9bf0ae39042",
        "IPY_MODEL_e498adb2025d40fab0a1f996940a3068",
        "IPY_MODEL_43fc9a21b2a14b2ea70066ff4eda9da1",
        "IPY_MODEL_a7f4dba49d2c447f82fd7fc98a38d160"
       ],
       "layout": "IPY_MODEL_30dc114e7164481aa781d35c75f347f9"
      }
     },
     "1ccb186723934346b224689e79b44f1a": {
      "model_module": "@jupyter-widgets/controls",
      "model_module_version": "1.5.0",
      "model_name": "ButtonStyleModel",
      "state": {
       "button_color": "#4DD0E1"
      }
     },
     "1d0557c073bf4777bba14ac22359b7f8": {
      "model_module": "@jupyter-widgets/controls",
      "model_module_version": "1.5.0",
      "model_name": "DescriptionStyleModel",
      "state": {
       "description_width": "initial"
      }
     },
     "1debf023ab954fce873b5bfc152c8042": {
      "model_module": "@jupyter-widgets/base",
      "model_module_version": "1.2.0",
      "model_name": "LayoutModel",
      "state": {
       "align_items": "stretch",
       "display": "flex",
       "flex_flow": "row wrap",
       "width": "auto"
      }
     },
     "1df869339ddd4975a1579189bdc53e75": {
      "model_module": "@jupyter-widgets/controls",
      "model_module_version": "1.5.0",
      "model_name": "VBoxModel",
      "state": {
       "box_style": "info",
       "children": [
        "IPY_MODEL_963cbddf065d46d69d038a45b31a0ed9",
        "IPY_MODEL_f3d5fb3feb024227bae91a0367e23091",
        "IPY_MODEL_5767d56f889e412cad5ef253dffc968d"
       ],
       "layout": "IPY_MODEL_a1a8854a8b7c4cd79c929c72ba7ed60e"
      }
     },
     "1e695a339fbf471d9ca71dd7fc5716ef": {
      "model_module": "@jupyter-widgets/controls",
      "model_module_version": "1.5.0",
      "model_name": "HTMLModel",
      "state": {
       "layout": "IPY_MODEL_dab9dcd755cc488fa4b139a253b2a073",
       "style": "IPY_MODEL_e8752a3a9eed4a9f9a3721a57a89c05a",
       "value": "<style>p{word-wrap: break-word}</style> <p>LCS('abc', 'a') </p>"
      }
     },
     "1e8bc565ba9d4a99bdc6225ab5c86f4a": {
      "model_module": "@jupyter-widgets/controls",
      "model_module_version": "1.5.0",
      "model_name": "TextModel",
      "state": {
       "layout": "IPY_MODEL_5f2a73fdfb0f49dd85205245e215c29d",
       "placeholder": "",
       "style": "IPY_MODEL_2ad9b4492b4646ca9bc89623f91626b2"
      }
     },
     "1f83da8279dc4290b5d2d996f30ddafa": {
      "model_module": "@jupyter-widgets/controls",
      "model_module_version": "1.5.0",
      "model_name": "HBoxModel",
      "state": {
       "children": [
        "IPY_MODEL_89f05669a8ae4464a5c3ab595d1804ca",
        "IPY_MODEL_76d048ee4a77446d9f7dfba7ed94adb3"
       ],
       "layout": "IPY_MODEL_7d41123db77748cdb024b79bae2fba8b"
      }
     },
     "2008a252634345b5829b39430edbd8be": {
      "model_module": "@jupyter-widgets/controls",
      "model_module_version": "1.5.0",
      "model_name": "TextModel",
      "state": {
       "layout": "IPY_MODEL_12fee06ff6454c5bb4faf3221d6ad8a1",
       "placeholder": "",
       "style": "IPY_MODEL_83abbc2a67ab46ffa938e15e5f956bd1"
      }
     },
     "20b1a021d2934425bea7aa1a96eb8ec8": {
      "model_module": "@jupyter-widgets/controls",
      "model_module_version": "1.5.0",
      "model_name": "DescriptionStyleModel",
      "state": {
       "description_width": ""
      }
     },
     "20b89c61c6c44213a63c0c8b677614fb": {
      "model_module": "@jupyter-widgets/controls",
      "model_module_version": "1.5.0",
      "model_name": "DescriptionStyleModel",
      "state": {
       "description_width": ""
      }
     },
     "212c4269ac9947e087d521075d8588d3": {
      "model_module": "@jupyter-widgets/base",
      "model_module_version": "1.2.0",
      "model_name": "LayoutModel",
      "state": {
       "width": "auto"
      }
     },
     "2142dba4a2ea4ee3b3a94e47dd6d6bb1": {
      "model_module": "@jupyter-widgets/controls",
      "model_module_version": "1.5.0",
      "model_name": "HBoxModel",
      "state": {
       "children": [
        "IPY_MODEL_1b2b622012c545dcba9f58eed810ee23",
        "IPY_MODEL_7aceb674bc9d48799589a0e1abb5bd72",
        "IPY_MODEL_592ab9c4224740e4b525c2116bcdc4a2",
        "IPY_MODEL_f3bdadc41ee748299ec7a056c8ad938f"
       ],
       "layout": "IPY_MODEL_4acb835e691d4fce82234233bb894c06"
      }
     },
     "21766c05f0b94f6ca6701144a3607755": {
      "model_module": "@jupyter-widgets/controls",
      "model_module_version": "1.5.0",
      "model_name": "DescriptionStyleModel",
      "state": {
       "description_width": "initial"
      }
     },
     "21df27e8695f407185cb2e03c306def4": {
      "model_module": "@jupyter-widgets/controls",
      "model_module_version": "1.5.0",
      "model_name": "DescriptionStyleModel",
      "state": {
       "description_width": ""
      }
     },
     "22521d9541ee4a87896fe3ba8b40aa08": {
      "model_module": "@jupyter-widgets/base",
      "model_module_version": "1.2.0",
      "model_name": "LayoutModel",
      "state": {
       "align_items": "stretch",
       "display": "flex",
       "flex_flow": "row wrap",
       "margin": "30px 0 0 0"
      }
     },
     "23551c6062664de5b8c0167f2ea60b5e": {
      "model_module": "@jupyter-widgets/controls",
      "model_module_version": "1.5.0",
      "model_name": "DescriptionStyleModel",
      "state": {
       "description_width": ""
      }
     },
     "2382c82475a946dc8b69ad5aae81e094": {
      "model_module": "@jupyter-widgets/base",
      "model_module_version": "1.2.0",
      "model_name": "LayoutModel",
      "state": {
       "width": "30px"
      }
     },
     "23b3c5194cb24a1caf10782891d23ea2": {
      "model_module": "@jupyter-widgets/controls",
      "model_module_version": "1.5.0",
      "model_name": "DescriptionStyleModel",
      "state": {
       "description_width": ""
      }
     },
     "244f714a224949cd9182a737c0b4c704": {
      "model_module": "@jupyter-widgets/base",
      "model_module_version": "1.2.0",
      "model_name": "LayoutModel",
      "state": {}
     },
     "247172f948de4374bc43f215f51624f8": {
      "model_module": "@jupyter-widgets/controls",
      "model_module_version": "1.5.0",
      "model_name": "CheckboxModel",
      "state": {
       "disabled": false,
       "layout": "IPY_MODEL_48f82de3f2984dc0822250b1f623a813",
       "style": "IPY_MODEL_1d0557c073bf4777bba14ac22359b7f8",
       "value": false
      }
     },
     "247ed642c3a441fc9a6080cca55eb2de": {
      "model_module": "@jupyter-widgets/controls",
      "model_module_version": "1.5.0",
      "model_name": "DescriptionStyleModel",
      "state": {
       "description_width": ""
      }
     },
     "251f7b3d02f847948bdf7471b2e05d32": {
      "model_module": "@jupyter-widgets/base",
      "model_module_version": "1.2.0",
      "model_name": "LayoutModel",
      "state": {
       "align_items": "stretch",
       "display": "flex",
       "flex_flow": "column",
       "width": "100%"
      }
     },
     "25664bed73c7418f9b21726405f32be5": {
      "model_module": "@jupyter-widgets/base",
      "model_module_version": "1.2.0",
      "model_name": "LayoutModel",
      "state": {
       "display": "flex",
       "flex_flow": "row",
       "justify_content": "space-between",
       "margin": "0 0 20px 0"
      }
     },
     "25ab749a6d8e452b95a9b6db87b013c7": {
      "model_module": "@jupyter-widgets/base",
      "model_module_version": "1.2.0",
      "model_name": "LayoutModel",
      "state": {
       "align_items": "stretch",
       "display": "flex",
       "flex_flow": "row wrap",
       "width": "auto"
      }
     },
     "25acda901fb842ee89cad5e6c11fa6df": {
      "model_module": "@jupyter-widgets/controls",
      "model_module_version": "1.5.0",
      "model_name": "LabelModel",
      "state": {
       "layout": "IPY_MODEL_3a9d4cec887846e7bc1e9547e83080ed",
       "style": "IPY_MODEL_9295bdaaa49e4cadb478bfef14e51970"
      }
     },
     "27c49e743fbf4c84b2d413b2b4542c7d": {
      "model_module": "@jupyter-widgets/controls",
      "model_module_version": "1.5.0",
      "model_name": "LabelModel",
      "state": {
       "layout": "IPY_MODEL_08556c01a40a4b0ab249f62e15261eb2",
       "style": "IPY_MODEL_c799d71e54834d4ba390f87e235fc55f"
      }
     },
     "281905d7d1554f75962755120c0b949d": {
      "model_module": "@jupyter-widgets/base",
      "model_module_version": "1.2.0",
      "model_name": "LayoutModel",
      "state": {
       "align_items": "stretch",
       "display": "flex",
       "flex_flow": "row wrap",
       "width": "auto"
      }
     },
     "287bf0db4eb24fa6abd646d0ae64468a": {
      "model_module": "@jupyter-widgets/controls",
      "model_module_version": "1.5.0",
      "model_name": "DescriptionStyleModel",
      "state": {
       "description_width": ""
      }
     },
     "28835871497a4b9fb9be3155fd0253cf": {
      "model_module": "@jupyter-widgets/controls",
      "model_module_version": "1.5.0",
      "model_name": "DescriptionStyleModel",
      "state": {
       "description_width": ""
      }
     },
     "28baf710dc604c01819739e5cc7d4ee6": {
      "model_module": "@jupyter-widgets/controls",
      "model_module_version": "1.5.0",
      "model_name": "DescriptionStyleModel",
      "state": {
       "description_width": ""
      }
     },
     "28dc435ee073494f8848f9a724d547f8": {
      "model_module": "@jupyter-widgets/base",
      "model_module_version": "1.2.0",
      "model_name": "LayoutModel",
      "state": {}
     },
     "2918a251aece4a3cb6568fcaafe8a878": {
      "model_module": "@jupyter-widgets/controls",
      "model_module_version": "1.5.0",
      "model_name": "LabelModel",
      "state": {
       "layout": "IPY_MODEL_caf110a2289a477d8407068b1c0a3da9",
       "style": "IPY_MODEL_8798785a03db45f0bab147cece38dbf5"
      }
     },
     "29bc2c0a1ef442be9d1565fc1bd2bdd6": {
      "model_module": "@jupyter-widgets/base",
      "model_module_version": "1.2.0",
      "model_name": "LayoutModel",
      "state": {}
     },
     "29d59506f486434690b71f402179857a": {
      "model_module": "@jupyter-widgets/base",
      "model_module_version": "1.2.0",
      "model_name": "LayoutModel",
      "state": {
       "height": "50%",
       "margin": "0 0 0 30px",
       "width": "50%"
      }
     },
     "29dae5d73dbc420a8a25d9f99e9e2549": {
      "model_module": "@jupyter-widgets/base",
      "model_module_version": "1.2.0",
      "model_name": "LayoutModel",
      "state": {
       "align_items": "stretch",
       "display": "flex",
       "flex_flow": "row wrap",
       "width": "auto"
      }
     },
     "2ab514f5cace467dbf75240300d6f07f": {
      "model_module": "@jupyter-widgets/controls",
      "model_module_version": "1.5.0",
      "model_name": "HTMLModel",
      "state": {
       "layout": "IPY_MODEL_1a7697ed40404f5cb58788f64a5f6f05",
       "style": "IPY_MODEL_0e3c5cde9dd54a9dbaa912ce2388345e",
       "value": "<style>p{word-wrap: break-word}</style> <p>LCS('ab', 'bd') </p>"
      }
     },
     "2ad9b4492b4646ca9bc89623f91626b2": {
      "model_module": "@jupyter-widgets/controls",
      "model_module_version": "1.5.0",
      "model_name": "DescriptionStyleModel",
      "state": {
       "description_width": ""
      }
     },
     "2b0f93f3e1f9493bad90830be5e58652": {
      "model_module": "@jupyter-widgets/controls",
      "model_module_version": "1.5.0",
      "model_name": "DescriptionStyleModel",
      "state": {
       "description_width": "initial"
      }
     },
     "2b4dbe30e9224447bdba1442680d86d6": {
      "model_module": "@jupyter-widgets/base",
      "model_module_version": "1.2.0",
      "model_name": "LayoutModel",
      "state": {
       "width": "auto"
      }
     },
     "2b85008d89814d6a897b875d74aaa47f": {
      "model_module": "@jupyter-widgets/base",
      "model_module_version": "1.2.0",
      "model_name": "LayoutModel",
      "state": {}
     },
     "2bd4fd87f873482b96f4c79e1e3f0486": {
      "model_module": "@jupyter-widgets/base",
      "model_module_version": "1.2.0",
      "model_name": "LayoutModel",
      "state": {}
     },
     "2be5594199a541809489a679e2f98c09": {
      "model_module": "@jupyter-widgets/controls",
      "model_module_version": "1.5.0",
      "model_name": "DescriptionStyleModel",
      "state": {
       "description_width": "initial"
      }
     },
     "2cde67818eb94adfbb59fd7b99b893c4": {
      "model_module": "@jupyter-widgets/controls",
      "model_module_version": "1.5.0",
      "model_name": "CheckboxModel",
      "state": {
       "disabled": false,
       "layout": "IPY_MODEL_c1434157deed4d52b28430d8f59a5f42",
       "style": "IPY_MODEL_2be5594199a541809489a679e2f98c09",
       "value": false
      }
     },
     "2ce759f5da494251b79904ce0f524579": {
      "model_module": "@jupyter-widgets/controls",
      "model_module_version": "1.5.0",
      "model_name": "HTMLModel",
      "state": {
       "layout": "IPY_MODEL_e7ec25a9043e470290f2b55b5693f7f4",
       "style": "IPY_MODEL_452cedfcfe5a42f9aac9ae9badfdcfd8",
       "value": "<style>p{word-wrap: break-word}</style> <p>LCS('a', 'b') </p>"
      }
     },
     "2d0d069b3b194c8397510c1e1c853b1e": {
      "model_module": "@jupyter-widgets/controls",
      "model_module_version": "1.5.0",
      "model_name": "DescriptionStyleModel",
      "state": {
       "description_width": ""
      }
     },
     "2dac3770b1c24a6eae16ccd8becca3ef": {
      "model_module": "@jupyter-widgets/base",
      "model_module_version": "1.2.0",
      "model_name": "LayoutModel",
      "state": {
       "align_items": "stretch",
       "display": "flex",
       "flex_flow": "column",
       "width": "100%"
      }
     },
     "2deb841a5f2340f791cbb3686ee04694": {
      "model_module": "@jupyter-widgets/base",
      "model_module_version": "1.2.0",
      "model_name": "LayoutModel",
      "state": {
       "align_items": "stretch",
       "display": "flex",
       "flex_flow": "row wrap",
       "width": "auto"
      }
     },
     "2e9343f5501f4aad90e3edebddb71d84": {
      "model_module": "@jupyter-widgets/controls",
      "model_module_version": "1.5.0",
      "model_name": "DescriptionStyleModel",
      "state": {
       "description_width": "initial"
      }
     },
     "2ec6913886c049fd93130bd76065a7ba": {
      "model_module": "@jupyter-widgets/controls",
      "model_module_version": "1.5.0",
      "model_name": "TextModel",
      "state": {
       "layout": "IPY_MODEL_f99e53e393014513bac02b00ac7f59b9",
       "placeholder": "",
       "style": "IPY_MODEL_396936bc4a6a4915a77cb48913aef89a"
      }
     },
     "2f21a65036b44967a6de980ae3f6e883": {
      "model_module": "@jupyter-widgets/controls",
      "model_module_version": "1.5.0",
      "model_name": "HTMLModel",
      "state": {
       "layout": "IPY_MODEL_8ce54dd3faad4e23881e7c110a9aa08d",
       "style": "IPY_MODEL_9d8593cbb2f44177a9f7c2cd3b20034d",
       "value": "<style>p{word-wrap: break-word}</style> <p>The optimization required is to minimize some value </p>"
      }
     },
     "2f9bdb32934e441998ffee0038b39dd9": {
      "model_module": "@jupyter-widgets/controls",
      "model_module_version": "1.5.0",
      "model_name": "HTMLModel",
      "state": {
       "layout": "IPY_MODEL_63afbd3ccfe74af5bffcc8c714a41218",
       "style": "IPY_MODEL_3c81830f10ab4348927ca1113bd09355",
       "value": "<style>p{word-wrap: break-word}</style> <p> </p>"
      }
     },
     "2fdbb755289a49628be541f1c43adae9": {
      "model_module": "@jupyter-widgets/controls",
      "model_module_version": "1.5.0",
      "model_name": "HBoxModel",
      "state": {
       "children": [
        "IPY_MODEL_aec7d88a71a540cc8f6b832a0441247a",
        "IPY_MODEL_684420a2af9a4d23b1be61ac76497eda",
        "IPY_MODEL_f7c01e94f2d04522818c31bd4eb2bcaa"
       ],
       "layout": "IPY_MODEL_99b2941657d54ef8bfadf6612584a204"
      }
     },
     "30dc114e7164481aa781d35c75f347f9": {
      "model_module": "@jupyter-widgets/base",
      "model_module_version": "1.2.0",
      "model_name": "LayoutModel",
      "state": {
       "align_items": "stretch",
       "display": "flex",
       "flex_flow": "column",
       "width": "100%"
      }
     },
     "3106fcaa01b54dacbd956bcb3c0492be": {
      "model_module": "@jupyter-widgets/controls",
      "model_module_version": "1.5.0",
      "model_name": "LabelModel",
      "state": {
       "layout": "IPY_MODEL_aaee143bd1744ce6b85c788f3a3c60a0",
       "style": "IPY_MODEL_7a3dd717f0d44c0a86af866162adb081"
      }
     },
     "310996621ea045459d1724ecdcdd81b9": {
      "model_module": "@jupyter-widgets/controls",
      "model_module_version": "1.5.0",
      "model_name": "HTMLModel",
      "state": {
       "layout": "IPY_MODEL_42c1d33251ce48d38ebb694c8a27d77c",
       "style": "IPY_MODEL_ef0bdb47b47547d191f91db083aeebdd",
       "value": "<style>p{word-wrap: break-word}</style> <p>Select the statements that are true for the recurrence relation. </p>"
      }
     },
     "312f88bedbd64fca91bb8b20655a1b21": {
      "model_module": "@jupyter-widgets/base",
      "model_module_version": "1.2.0",
      "model_name": "LayoutModel",
      "state": {
       "width": "30px"
      }
     },
     "3178178bf3b0471cb022b52b90b961bd": {
      "model_module": "@jupyter-widgets/base",
      "model_module_version": "1.2.0",
      "model_name": "LayoutModel",
      "state": {
       "width": "30px"
      }
     },
     "317e16f6b79b4f3497e018c3fcd7d233": {
      "model_module": "@jupyter-widgets/controls",
      "model_module_version": "1.5.0",
      "model_name": "LabelModel",
      "state": {
       "layout": "IPY_MODEL_49af77d96b374b108f1344f2ec429eba",
       "style": "IPY_MODEL_97a01b5a77784cb08d6718974c053f70"
      }
     },
     "31a1603295b34705a6a570c65208f513": {
      "model_module": "@jupyter-widgets/base",
      "model_module_version": "1.2.0",
      "model_name": "LayoutModel",
      "state": {
       "width": "30px"
      }
     },
     "322b06a27c6f4953bedb434e5b5e92c8": {
      "model_module": "@jupyter-widgets/controls",
      "model_module_version": "1.5.0",
      "model_name": "DescriptionStyleModel",
      "state": {
       "description_width": ""
      }
     },
     "322d5acc2c1c4f51b971ea56865c90e8": {
      "model_module": "@jupyter-widgets/controls",
      "model_module_version": "1.5.0",
      "model_name": "HBoxModel",
      "state": {
       "children": [
        "IPY_MODEL_a4ab82f08a3646a5b391c1c4465068ab",
        "IPY_MODEL_fb811edcbef248388f57ee3f864c4008",
        "IPY_MODEL_8463481e45ab427d80ed0a18bf4788e8"
       ],
       "layout": "IPY_MODEL_a4113c5b70364cc596039efc7d983c7c"
      }
     },
     "324655b2a5c442c9aeb434eb1ce7c629": {
      "model_module": "@jupyter-widgets/controls",
      "model_module_version": "1.5.0",
      "model_name": "HBoxModel",
      "state": {
       "children": [
        "IPY_MODEL_d9521e6916fe4804987fb7d4ccd8d0f8"
       ],
       "layout": "IPY_MODEL_93df77061d434c6caa7f3fccb8e5853e"
      }
     },
     "32712e3bb7f44adcb470563386cd495f": {
      "model_module": "@jupyter-widgets/controls",
      "model_module_version": "1.5.0",
      "model_name": "HBoxModel",
      "state": {
       "children": [
        "IPY_MODEL_ec2e507a2a1a43a3a1fe798440dee6f1",
        "IPY_MODEL_6de053eda6394061bd37dee7f257c4d0"
       ],
       "layout": "IPY_MODEL_6c557bce094c4d6f91d120deb5b33f98"
      }
     },
     "32d9d8a9cb7044f1bfac9e04d8728dbb": {
      "model_module": "@jupyter-widgets/base",
      "model_module_version": "1.2.0",
      "model_name": "LayoutModel",
      "state": {}
     },
     "32f3ff5c6b0a4865a8a6658bdabf822d": {
      "model_module": "@jupyter-widgets/controls",
      "model_module_version": "1.5.0",
      "model_name": "HTMLModel",
      "state": {
       "layout": "IPY_MODEL_54a841e71f4f47c28e2f637199588d6d",
       "style": "IPY_MODEL_5a402301b2e44dce9ae3e6d2bfeb88c8",
       "value": "<style>p{word-wrap: break-word}</style> <p>. </p>"
      }
     },
     "34eb73b935174a5ca3bb6936056c8926": {
      "model_module": "@jupyter-widgets/controls",
      "model_module_version": "1.5.0",
      "model_name": "HBoxModel",
      "state": {
       "children": [
        "IPY_MODEL_ecb9c8bdab7d468b8319a3f4d17c680b",
        "IPY_MODEL_c626d88d14744940a0b6adc2c3b5eeb2"
       ],
       "layout": "IPY_MODEL_381b8f3a9e8042beafe79a2f2cfd4212"
      }
     },
     "35056937cf934a8ca1c26a29d46c3e27": {
      "model_module": "@jupyter-widgets/base",
      "model_module_version": "1.2.0",
      "model_name": "LayoutModel",
      "state": {}
     },
     "35419e0bcf8e4dad93b18e09ec484725": {
      "model_module": "@jupyter-widgets/controls",
      "model_module_version": "1.5.0",
      "model_name": "HBoxModel",
      "state": {
       "children": [
        "IPY_MODEL_cd6036142bc5455f9f99e67ea40013a0",
        "IPY_MODEL_9b4bb5e475264a2ab038751a8e6714e5"
       ],
       "layout": "IPY_MODEL_e89768120e9644048901c4b8f620b4ab"
      }
     },
     "3557379f040c46e5bc73c468705bb4c4": {
      "model_module": "@jupyter-widgets/base",
      "model_module_version": "1.2.0",
      "model_name": "LayoutModel",
      "state": {}
     },
     "3571e3ec182344cca384c2b48090d337": {
      "model_module": "@jupyter-widgets/base",
      "model_module_version": "1.2.0",
      "model_name": "LayoutModel",
      "state": {
       "display": "none"
      }
     },
     "37c8f5a250904f4cbf15a2d8a9bb0c8f": {
      "model_module": "@jupyter-widgets/controls",
      "model_module_version": "1.5.0",
      "model_name": "DescriptionStyleModel",
      "state": {
       "description_width": ""
      }
     },
     "381b8f3a9e8042beafe79a2f2cfd4212": {
      "model_module": "@jupyter-widgets/base",
      "model_module_version": "1.2.0",
      "model_name": "LayoutModel",
      "state": {
       "align_items": "stretch",
       "display": "flex",
       "flex_flow": "row wrap",
       "width": "auto"
      }
     },
     "390d4aa5e662487080d404d2e56daefe": {
      "model_module": "@jupyter-widgets/base",
      "model_module_version": "1.2.0",
      "model_name": "LayoutModel",
      "state": {
       "align_items": "stretch",
       "display": "flex",
       "flex_flow": "row wrap",
       "width": "auto"
      }
     },
     "393ea9b77e5d4d7f9304a7d3f55f52eb": {
      "model_module": "@jupyter-widgets/controls",
      "model_module_version": "1.5.0",
      "model_name": "HBoxModel",
      "state": {
       "children": [
        "IPY_MODEL_91d34b8e8d094fe6b30f73119ded514b",
        "IPY_MODEL_a6debd478b904ae0a9dbc30b49fb4d27"
       ],
       "layout": "IPY_MODEL_f2c8c3a33a8b4abe8357e972f38731a4"
      }
     },
     "396936bc4a6a4915a77cb48913aef89a": {
      "model_module": "@jupyter-widgets/controls",
      "model_module_version": "1.5.0",
      "model_name": "DescriptionStyleModel",
      "state": {
       "description_width": ""
      }
     },
     "39cf04c5864b45c9a6271d4e0659ed02": {
      "model_module": "@jupyter-widgets/controls",
      "model_module_version": "1.5.0",
      "model_name": "DescriptionStyleModel",
      "state": {
       "description_width": ""
      }
     },
     "3a9d4cec887846e7bc1e9547e83080ed": {
      "model_module": "@jupyter-widgets/base",
      "model_module_version": "1.2.0",
      "model_name": "LayoutModel",
      "state": {}
     },
     "3b01b1e7767846708e0fd42eb4c6b400": {
      "model_module": "@jupyter-widgets/base",
      "model_module_version": "1.2.0",
      "model_name": "LayoutModel",
      "state": {}
     },
     "3c81830f10ab4348927ca1113bd09355": {
      "model_module": "@jupyter-widgets/controls",
      "model_module_version": "1.5.0",
      "model_name": "DescriptionStyleModel",
      "state": {
       "description_width": ""
      }
     },
     "3c9366d7fc684febb6291c5cd5931429": {
      "model_module": "@jupyter-widgets/controls",
      "model_module_version": "1.5.0",
      "model_name": "DescriptionStyleModel",
      "state": {
       "description_width": ""
      }
     },
     "3d02d92cd460411cbd0fb517425d5802": {
      "model_module": "@jupyter-widgets/controls",
      "model_module_version": "1.5.0",
      "model_name": "ButtonModel",
      "state": {
       "description": "Submit",
       "layout": "IPY_MODEL_9353ed637b5a4ae996b5877e8db6a2b4",
       "style": "IPY_MODEL_1ccb186723934346b224689e79b44f1a"
      }
     },
     "3dd87a91edd7482594448b1290d29747": {
      "model_module": "@jupyter-widgets/base",
      "model_module_version": "1.2.0",
      "model_name": "LayoutModel",
      "state": {
       "width": "30px"
      }
     },
     "3e5d61af411245649c4bb1497f8e51a7": {
      "model_module": "@jupyter-widgets/controls",
      "model_module_version": "1.5.0",
      "model_name": "DescriptionStyleModel",
      "state": {
       "description_width": "initial"
      }
     },
     "3f847417e1b34458877a7b73179a1b15": {
      "model_module": "@jupyter-widgets/base",
      "model_module_version": "1.2.0",
      "model_name": "LayoutModel",
      "state": {
       "display": "none"
      }
     },
     "40d23136e45e4de6ac33a84d0d7df3ad": {
      "model_module": "@jupyter-widgets/controls",
      "model_module_version": "1.5.0",
      "model_name": "DescriptionStyleModel",
      "state": {
       "description_width": ""
      }
     },
     "413bab09dd7e4be58c7d86921543cd0b": {
      "model_module": "@jupyter-widgets/controls",
      "model_module_version": "1.5.0",
      "model_name": "HBoxModel",
      "state": {
       "children": [
        "IPY_MODEL_a44a3f72016944418e424370ead10014",
        "IPY_MODEL_daec9a69ab874629b7d6468c5b33b6d4"
       ],
       "layout": "IPY_MODEL_e155885ba06c43768dbfd3d0bbd44858"
      }
     },
     "41a2c4b7e9504e2589aee33c29c9a357": {
      "model_module": "@jupyter-widgets/base",
      "model_module_version": "1.2.0",
      "model_name": "LayoutModel",
      "state": {
       "align_items": "stretch",
       "display": "flex",
       "flex_flow": "row wrap",
       "width": "auto"
      }
     },
     "41b3ba9d81734b36948ba256c59c474f": {
      "model_module": "@jupyter-widgets/controls",
      "model_module_version": "1.5.0",
      "model_name": "ButtonStyleModel",
      "state": {
       "button_color": "#4DD0E1"
      }
     },
     "41e3c80333274bca9f306279ed376e99": {
      "model_module": "@jupyter-widgets/base",
      "model_module_version": "1.2.0",
      "model_name": "LayoutModel",
      "state": {
       "display": "none"
      }
     },
     "42b30bd4767c41a191e8e09b3dc5dd64": {
      "model_module": "@jupyter-widgets/controls",
      "model_module_version": "1.5.0",
      "model_name": "HTMLModel",
      "state": {
       "layout": "IPY_MODEL_47d50e8eb88c4b0c9c23847168b5e09d",
       "style": "IPY_MODEL_3c9366d7fc684febb6291c5cd5931429",
       "value": "<style>p{word-wrap: break-word}</style> <p>Start by considering all the ways you can find common subsequences. </p>"
      }
     },
     "42c1d33251ce48d38ebb694c8a27d77c": {
      "model_module": "@jupyter-widgets/base",
      "model_module_version": "1.2.0",
      "model_name": "LayoutModel",
      "state": {}
     },
     "4333b5e22af54bc98c642b62a1b337eb": {
      "model_module": "@jupyter-widgets/controls",
      "model_module_version": "1.5.0",
      "model_name": "DescriptionStyleModel",
      "state": {
       "description_width": ""
      }
     },
     "43459d8fd1124f98bb8dc765c786d99c": {
      "model_module": "@jupyter-widgets/controls",
      "model_module_version": "1.5.0",
      "model_name": "DescriptionStyleModel",
      "state": {
       "description_width": ""
      }
     },
     "43d91f9f91ba4826a61d2b8c056a5bc6": {
      "model_module": "@jupyter-widgets/base",
      "model_module_version": "1.2.0",
      "model_name": "LayoutModel",
      "state": {
       "display": "flex",
       "flex_flow": "row",
       "justify_content": "space-between",
       "margin": "0 0 20px 0"
      }
     },
     "43fc9a21b2a14b2ea70066ff4eda9da1": {
      "model_module": "@jupyter-widgets/controls",
      "model_module_version": "1.5.0",
      "model_name": "HBoxModel",
      "state": {
       "children": [
        "IPY_MODEL_ac978c3c3378470d83191273f6afd85b",
        "IPY_MODEL_7979bdf2e65743cfbcd62fd1a6dbcef5"
       ],
       "layout": "IPY_MODEL_4abcc341d6344481813cf8a0fdc0d67b"
      }
     },
     "445f2146c90f404fbd8d3f2ebc26db72": {
      "model_module": "@jupyter-widgets/controls",
      "model_module_version": "1.5.0",
      "model_name": "DescriptionStyleModel",
      "state": {
       "description_width": ""
      }
     },
     "44721103977e475698fdfdc0d7dec313": {
      "model_module": "@jupyter-widgets/base",
      "model_module_version": "1.2.0",
      "model_name": "LayoutModel",
      "state": {
       "align_items": "stretch",
       "display": "flex",
       "flex_flow": "column",
       "width": "100%"
      }
     },
     "44945f6ec7a241c9bfd99feedb580dbf": {
      "model_module": "@jupyter-widgets/controls",
      "model_module_version": "1.5.0",
      "model_name": "HBoxModel",
      "state": {
       "children": [
        "IPY_MODEL_fe546e06d0bf47acb4ea53380fbc1399",
        "IPY_MODEL_42b30bd4767c41a191e8e09b3dc5dd64"
       ],
       "layout": "IPY_MODEL_90cb9d2c06004a29a4d1eaa35d765800"
      }
     },
     "44de9846334046ca91999e5ec84e36cd": {
      "model_module": "@jupyter-widgets/base",
      "model_module_version": "1.2.0",
      "model_name": "LayoutModel",
      "state": {
       "align_items": "stretch",
       "display": "flex",
       "flex_flow": "column",
       "width": "100%"
      }
     },
     "452cedfcfe5a42f9aac9ae9badfdcfd8": {
      "model_module": "@jupyter-widgets/controls",
      "model_module_version": "1.5.0",
      "model_name": "DescriptionStyleModel",
      "state": {
       "description_width": ""
      }
     },
     "455dc4f4ac2c4d28b161c1c55d6c582c": {
      "model_module": "@jupyter-widgets/base",
      "model_module_version": "1.2.0",
      "model_name": "LayoutModel",
      "state": {
       "width": "30px"
      }
     },
     "45c85a09c86b485abc999f278d2a665c": {
      "model_module": "@jupyter-widgets/controls",
      "model_module_version": "1.5.0",
      "model_name": "CheckboxModel",
      "state": {
       "disabled": false,
       "layout": "IPY_MODEL_182aeace655e4ac4aacb586d3bef2684",
       "style": "IPY_MODEL_eb7b6187dae64420a0072fc638afeeba",
       "value": false
      }
     },
     "46e85f1dfdbf48e09f97b566e915ab53": {
      "model_module": "@jupyter-widgets/controls",
      "model_module_version": "1.5.0",
      "model_name": "HBoxModel",
      "state": {
       "children": [
        "IPY_MODEL_7aa0f465808144e784fe20fedb88bb1e",
        "IPY_MODEL_e3d4ff57afb44e7e97d40300008c3a25",
        "IPY_MODEL_99584b6d5f6043d5a35990555d4e9d6a"
       ],
       "layout": "IPY_MODEL_5205495671f6453fb4efeda3bbd4cff2"
      }
     },
     "46fa8b44a25844d78b954b0f53ca848b": {
      "model_module": "@jupyter-widgets/controls",
      "model_module_version": "1.5.0",
      "model_name": "HTMLModel",
      "state": {
       "layout": "IPY_MODEL_c3a9f6b7f1b646c2b4f9ddf2927b9ea6",
       "style": "IPY_MODEL_23b3c5194cb24a1caf10782891d23ea2",
       "value": "<style>p{word-wrap: break-word}</style> <p>. </p>"
      }
     },
     "477e1ed9e0a549be844c31759e4bfeb6": {
      "model_module": "@jupyter-widgets/base",
      "model_module_version": "1.2.0",
      "model_name": "LayoutModel",
      "state": {
       "align_items": "stretch",
       "display": "flex",
       "flex_flow": "row wrap",
       "width": "auto"
      }
     },
     "47d50e8eb88c4b0c9c23847168b5e09d": {
      "model_module": "@jupyter-widgets/base",
      "model_module_version": "1.2.0",
      "model_name": "LayoutModel",
      "state": {}
     },
     "4839a0ad150b437f8e3845363e5a19cf": {
      "model_module": "@jupyter-widgets/controls",
      "model_module_version": "1.5.0",
      "model_name": "DescriptionStyleModel",
      "state": {
       "description_width": ""
      }
     },
     "48a304f2ad56466a9873d103cfc500c0": {
      "model_module": "@jupyter-widgets/controls",
      "model_module_version": "1.5.0",
      "model_name": "DescriptionStyleModel",
      "state": {
       "description_width": ""
      }
     },
     "48f82de3f2984dc0822250b1f623a813": {
      "model_module": "@jupyter-widgets/base",
      "model_module_version": "1.2.0",
      "model_name": "LayoutModel",
      "state": {
       "width": "30px"
      }
     },
     "49754eac3ddc4b2e8818a3d4c59a1bec": {
      "model_module": "@jupyter-widgets/controls",
      "model_module_version": "1.5.0",
      "model_name": "DescriptionStyleModel",
      "state": {
       "description_width": ""
      }
     },
     "49af77d96b374b108f1344f2ec429eba": {
      "model_module": "@jupyter-widgets/base",
      "model_module_version": "1.2.0",
      "model_name": "LayoutModel",
      "state": {}
     },
     "4abcc341d6344481813cf8a0fdc0d67b": {
      "model_module": "@jupyter-widgets/base",
      "model_module_version": "1.2.0",
      "model_name": "LayoutModel",
      "state": {
       "align_items": "stretch",
       "display": "flex",
       "flex_flow": "row wrap",
       "width": "auto"
      }
     },
     "4acb835e691d4fce82234233bb894c06": {
      "model_module": "@jupyter-widgets/base",
      "model_module_version": "1.2.0",
      "model_name": "LayoutModel",
      "state": {
       "align_items": "stretch",
       "display": "flex",
       "flex_flow": "row wrap",
       "width": "auto"
      }
     },
     "4b048b7220fe43b2aca61518a9ed55a1": {
      "model_module": "@jupyter-widgets/base",
      "model_module_version": "1.2.0",
      "model_name": "LayoutModel",
      "state": {
       "align_items": "stretch",
       "display": "flex",
       "flex_flow": "row wrap",
       "width": "auto"
      }
     },
     "4c438f6f2613410b972dd8b668c48f63": {
      "model_module": "@jupyter-widgets/base",
      "model_module_version": "1.2.0",
      "model_name": "LayoutModel",
      "state": {
       "align_items": "stretch",
       "display": "flex",
       "flex_flow": "row wrap",
       "width": "auto"
      }
     },
     "4cb184d15c1a492db13b27bd65291135": {
      "model_module": "@jupyter-widgets/controls",
      "model_module_version": "1.5.0",
      "model_name": "DescriptionStyleModel",
      "state": {
       "description_width": ""
      }
     },
     "4da340949269442c9133a0860fcb7947": {
      "model_module": "@jupyter-widgets/controls",
      "model_module_version": "1.5.0",
      "model_name": "HTMLModel",
      "state": {
       "layout": "IPY_MODEL_59163764910943b6bf65fb5b2bc4ba21",
       "style": "IPY_MODEL_02c0006a52164aedb71ef32d4052e192",
       "value": "<style>p{word-wrap: break-word}</style> <p> </p>"
      }
     },
     "4e8ff2998a8c4a7381644a86835dc21c": {
      "model_module": "@jupyter-widgets/controls",
      "model_module_version": "1.5.0",
      "model_name": "TextModel",
      "state": {
       "layout": "IPY_MODEL_cd2560b52450480f93cf64bd0e3f0b48",
       "placeholder": "",
       "style": "IPY_MODEL_b9eb0d2abd3244eab66113b1add6bce9"
      }
     },
     "4f5d20cc23954d4e8e91a6e85e836ac6": {
      "model_module": "@jupyter-widgets/base",
      "model_module_version": "1.2.0",
      "model_name": "LayoutModel",
      "state": {}
     },
     "5053ed79ac0346c5bf1c94974a5b8378": {
      "model_module": "@jupyter-widgets/controls",
      "model_module_version": "1.5.0",
      "model_name": "DescriptionStyleModel",
      "state": {
       "description_width": ""
      }
     },
     "50b7399c05dd4a4c97966c2406b6fb6a": {
      "model_module": "@jupyter-widgets/controls",
      "model_module_version": "1.5.0",
      "model_name": "HBoxModel",
      "state": {
       "children": [
        "IPY_MODEL_edd64bbdac0c408caf070566bed82786"
       ],
       "layout": "IPY_MODEL_76c1dad8a9434e3db3327715e57c20de"
      }
     },
     "50e363db41ca45b6a07cd67abd23dacf": {
      "model_module": "@jupyter-widgets/base",
      "model_module_version": "1.2.0",
      "model_name": "LayoutModel",
      "state": {
       "align_items": "stretch",
       "display": "flex",
       "flex_flow": "row wrap",
       "width": "auto"
      }
     },
     "518352efea93462082a5598f02b3654e": {
      "model_module": "@jupyter-widgets/controls",
      "model_module_version": "1.5.0",
      "model_name": "HTMLModel",
      "state": {
       "layout": "IPY_MODEL_675974a2ac8247b5b373625ca0558828",
       "style": "IPY_MODEL_d28ccefcbe024827ad16f6f6e893e0f1",
       "value": "<style>p{word-wrap: break-word}</style> <p>The longest subsequence that the words 'abcdef' and 'agjicf' have in common is:  </p>"
      }
     },
     "5205495671f6453fb4efeda3bbd4cff2": {
      "model_module": "@jupyter-widgets/base",
      "model_module_version": "1.2.0",
      "model_name": "LayoutModel",
      "state": {
       "align_items": "stretch",
       "display": "flex",
       "flex_flow": "row wrap",
       "margin": "30px 0 0 0"
      }
     },
     "52b6f2ecf78e41bead967d3f01b0a73a": {
      "model_module": "@jupyter-widgets/controls",
      "model_module_version": "1.5.0",
      "model_name": "HTMLModel",
      "state": {
       "layout": "IPY_MODEL_6f6905c8ed94443b90dc665f62a451e6",
       "style": "IPY_MODEL_4333b5e22af54bc98c642b62a1b337eb",
       "value": "<style>p{word-wrap: break-word}</style> <p>. </p>"
      }
     },
     "53c837d2fba84b9793bbd8ae9173cdc8": {
      "model_module": "@jupyter-widgets/controls",
      "model_module_version": "1.5.0",
      "model_name": "HBoxModel",
      "state": {
       "children": [
        "IPY_MODEL_d32ad03768c3497095f967828152bb20",
        "IPY_MODEL_c8961e88c4c14b0ba20fa9dfcb4304ff"
       ],
       "layout": "IPY_MODEL_ab4c29b8e4c241618222444e67b0801c"
      }
     },
     "53ed0146ad904f54bf9b6798e06b2a5b": {
      "model_module": "@jupyter-widgets/controls",
      "model_module_version": "1.5.0",
      "model_name": "LabelModel",
      "state": {
       "layout": "IPY_MODEL_d4dd8ace53274e8dbdd70eb2d547b89c",
       "style": "IPY_MODEL_f10c5028f84345ed91ab98e9f88a0034"
      }
     },
     "544e24305f914197833982b1c8115456": {
      "model_module": "@jupyter-widgets/controls",
      "model_module_version": "1.5.0",
      "model_name": "HTMLModel",
      "state": {
       "layout": "IPY_MODEL_d68e1119c1bc434d8d03c81395ea57fc",
       "style": "IPY_MODEL_b964314c83ec47f7b6a80eccef28a8f2",
       "value": "<style>p{word-wrap: break-word}</style> <p>. </p>"
      }
     },
     "547fe0e7ebf646ef998f615c3aba040b": {
      "model_module": "@jupyter-widgets/base",
      "model_module_version": "1.2.0",
      "model_name": "LayoutModel",
      "state": {}
     },
     "54a841e71f4f47c28e2f637199588d6d": {
      "model_module": "@jupyter-widgets/base",
      "model_module_version": "1.2.0",
      "model_name": "LayoutModel",
      "state": {}
     },
     "55d5b2769eb445838a554e8a520b2a2a": {
      "model_module": "@jupyter-widgets/controls",
      "model_module_version": "1.5.0",
      "model_name": "CheckboxModel",
      "state": {
       "disabled": false,
       "layout": "IPY_MODEL_3dd87a91edd7482594448b1290d29747",
       "style": "IPY_MODEL_762d1b624e544086849a534c5a35f261",
       "value": false
      }
     },
     "56028242ba7f4bb9bde0493b6fa6b7f9": {
      "model_module": "@jupyter-widgets/base",
      "model_module_version": "1.2.0",
      "model_name": "LayoutModel",
      "state": {}
     },
     "560f420bcf864b44b06c46c590c69238": {
      "model_module": "@jupyter-widgets/controls",
      "model_module_version": "1.5.0",
      "model_name": "VBoxModel",
      "state": {
       "box_style": "info",
       "children": [
        "IPY_MODEL_d4677db12fc9452f95d8d824fb08a329",
        "IPY_MODEL_92f9d962a94645dc93f990cc0ce477b9",
        "IPY_MODEL_46e85f1dfdbf48e09f97b566e915ab53"
       ],
       "layout": "IPY_MODEL_2dac3770b1c24a6eae16ccd8becca3ef"
      }
     },
     "5641527eab7e4aa78af07788457ea3f6": {
      "model_module": "@jupyter-widgets/base",
      "model_module_version": "1.2.0",
      "model_name": "LayoutModel",
      "state": {
       "align_items": "stretch",
       "display": "flex",
       "flex_flow": "row wrap",
       "width": "auto"
      }
     },
     "56bdc661c5aa43aeb54266e3de829f7d": {
      "model_module": "@jupyter-widgets/base",
      "model_module_version": "1.2.0",
      "model_name": "LayoutModel",
      "state": {
       "align_items": "stretch",
       "display": "flex",
       "flex_flow": "column",
       "width": "100%"
      }
     },
     "5767d56f889e412cad5ef253dffc968d": {
      "model_module": "@jupyter-widgets/controls",
      "model_module_version": "1.5.0",
      "model_name": "HBoxModel",
      "state": {
       "children": [
        "IPY_MODEL_72e27eb591eb4334beba4be9fbaa63cb",
        "IPY_MODEL_3106fcaa01b54dacbd956bcb3c0492be",
        "IPY_MODEL_917bc9865e2f4a919e02f036ecae0570"
       ],
       "layout": "IPY_MODEL_dd2aca358ceb4011830af88066f9a1af"
      }
     },
     "57917d784e2f427a98a732d2879c0ee8": {
      "model_module": "@jupyter-widgets/controls",
      "model_module_version": "1.5.0",
      "model_name": "LabelModel",
      "state": {
       "layout": "IPY_MODEL_e6960ecabdc849e184b2e7b0e88eb0b6",
       "style": "IPY_MODEL_322b06a27c6f4953bedb434e5b5e92c8"
      }
     },
     "588dfa5a309848a098312566f8fc4d75": {
      "model_module": "@jupyter-widgets/controls",
      "model_module_version": "1.5.0",
      "model_name": "HBoxModel",
      "state": {
       "children": [
        "IPY_MODEL_1b030de60f034b3d83ee72d46d8c41ee",
        "IPY_MODEL_7ad8cfc858d04fd8b541ba1b794d1bdf",
        "IPY_MODEL_2ce759f5da494251b79904ce0f524579"
       ],
       "layout": "IPY_MODEL_7e77093af9eb42479cff0b978f110de3"
      }
     },
     "59163764910943b6bf65fb5b2bc4ba21": {
      "model_module": "@jupyter-widgets/base",
      "model_module_version": "1.2.0",
      "model_name": "LayoutModel",
      "state": {}
     },
     "592ab9c4224740e4b525c2116bcdc4a2": {
      "model_module": "@jupyter-widgets/controls",
      "model_module_version": "1.5.0",
      "model_name": "HBoxModel",
      "state": {
       "children": [
        "IPY_MODEL_5a5d1e3bd4f14877bcbcc2754318c167",
        "IPY_MODEL_b688cf38eb0e43c985998ef213f5acc5",
        "IPY_MODEL_52b6f2ecf78e41bead967d3f01b0a73a"
       ],
       "layout": "IPY_MODEL_8e31dbc06df6459b9b3640626f624141"
      }
     },
     "592c8ce10c6a411b9cceabbf0eb90ded": {
      "model_module": "@jupyter-widgets/controls",
      "model_module_version": "1.5.0",
      "model_name": "DescriptionStyleModel",
      "state": {
       "description_width": ""
      }
     },
     "596413eb3f564a56bbf3eda01a78e8bd": {
      "model_module": "@jupyter-widgets/base",
      "model_module_version": "1.2.0",
      "model_name": "LayoutModel",
      "state": {
       "align_items": "stretch",
       "display": "flex",
       "flex_flow": "row wrap",
       "margin": "30px 0 0 0"
      }
     },
     "5971ce226a004e699abd11039d8c4273": {
      "model_module": "@jupyter-widgets/controls",
      "model_module_version": "1.5.0",
      "model_name": "DescriptionStyleModel",
      "state": {
       "description_width": ""
      }
     },
     "59c0d47738984e68a9cb08a31bf62ad5": {
      "model_module": "@jupyter-widgets/controls",
      "model_module_version": "1.5.0",
      "model_name": "LabelModel",
      "state": {
       "layout": "IPY_MODEL_ca8dcfc1df5a4af78e6b810203e7944d",
       "style": "IPY_MODEL_90646c5438e14db39e2f37f59fff5185"
      }
     },
     "59c2f61383fa4a58a39c53ed0a9eacd4": {
      "model_module": "@jupyter-widgets/controls",
      "model_module_version": "1.5.0",
      "model_name": "DescriptionStyleModel",
      "state": {
       "description_width": "initial"
      }
     },
     "5a402301b2e44dce9ae3e6d2bfeb88c8": {
      "model_module": "@jupyter-widgets/controls",
      "model_module_version": "1.5.0",
      "model_name": "DescriptionStyleModel",
      "state": {
       "description_width": ""
      }
     },
     "5a52dccc6c19494caad2263d13100ec3": {
      "model_module": "@jupyter-widgets/controls",
      "model_module_version": "1.5.0",
      "model_name": "HBoxModel",
      "state": {
       "children": [
        "IPY_MODEL_b1cab9689866476180d28736b2157058",
        "IPY_MODEL_35419e0bcf8e4dad93b18e09ec484725"
       ],
       "layout": "IPY_MODEL_50e363db41ca45b6a07cd67abd23dacf"
      }
     },
     "5a5d1e3bd4f14877bcbcc2754318c167": {
      "model_module": "@jupyter-widgets/controls",
      "model_module_version": "1.5.0",
      "model_name": "HTMLModel",
      "state": {
       "layout": "IPY_MODEL_c8209293d0de4082b1cc5affdf6e9b17",
       "style": "IPY_MODEL_8e069f678e324f06af5fb382d63df521",
       "value": "<style>p{word-wrap: break-word}</style> <p>How many cells are filled for the input X='abc' and Y='abc'? </p>"
      }
     },
     "5a692cd50af44e7790f9239942afc015": {
      "model_module": "@jupyter-widgets/controls",
      "model_module_version": "1.5.0",
      "model_name": "DescriptionStyleModel",
      "state": {
       "description_width": ""
      }
     },
     "5ac3b4b62002421c9e74ca2c77ce5ee8": {
      "model_module": "@jupyter-widgets/controls",
      "model_module_version": "1.5.0",
      "model_name": "LabelModel",
      "state": {
       "layout": "IPY_MODEL_6f143c2dcfc842819013b887ef3e2bca",
       "style": "IPY_MODEL_20b1a021d2934425bea7aa1a96eb8ec8"
      }
     },
     "5b0452984191447fa613d9a95f7089e9": {
      "model_module": "@jupyter-widgets/controls",
      "model_module_version": "1.5.0",
      "model_name": "DescriptionStyleModel",
      "state": {
       "description_width": ""
      }
     },
     "5bea70ebd32c4c9197bdd178b78e2bb1": {
      "model_module": "@jupyter-widgets/base",
      "model_module_version": "1.2.0",
      "model_name": "LayoutModel",
      "state": {
       "align_items": "stretch",
       "display": "flex",
       "flex_flow": "column",
       "width": "100%"
      }
     },
     "5d47ac6e89644a51b84bd87a4d9d2e20": {
      "model_module": "@jupyter-widgets/controls",
      "model_module_version": "1.5.0",
      "model_name": "VBoxModel",
      "state": {
       "box_style": "info",
       "children": [
        "IPY_MODEL_f5b30a3c3a794fccbab191788ce09ad2",
        "IPY_MODEL_2142dba4a2ea4ee3b3a94e47dd6d6bb1",
        "IPY_MODEL_dc2a26f89d7c48538968c2fa8bf29986"
       ],
       "layout": "IPY_MODEL_44de9846334046ca91999e5ec84e36cd"
      }
     },
     "5d4b56cf86174293a978b1931573f483": {
      "model_module": "@jupyter-widgets/controls",
      "model_module_version": "1.5.0",
      "model_name": "ButtonStyleModel",
      "state": {
       "button_color": "#4DD0E1"
      }
     },
     "5edaeec0db7544a8855d393ecb9eada1": {
      "model_module": "@jupyter-widgets/base",
      "model_module_version": "1.2.0",
      "model_name": "LayoutModel",
      "state": {
       "align_items": "stretch",
       "display": "flex",
       "flex_flow": "row wrap",
       "width": "auto"
      }
     },
     "5f2a73fdfb0f49dd85205245e215c29d": {
      "model_module": "@jupyter-widgets/base",
      "model_module_version": "1.2.0",
      "model_name": "LayoutModel",
      "state": {
       "width": "auto"
      }
     },
     "5ff3cd7b52f042dcaeaee99f220140f7": {
      "model_module": "@jupyter-widgets/controls",
      "model_module_version": "1.5.0",
      "model_name": "ButtonStyleModel",
      "state": {
       "button_color": "#4DD0E1"
      }
     },
     "6019fd8153f94bea9cddc1a66de4a9dc": {
      "model_module": "@jupyter-widgets/base",
      "model_module_version": "1.2.0",
      "model_name": "LayoutModel",
      "state": {}
     },
     "6020eb6119fb45ee826d20b6c9c0a8fa": {
      "model_module": "@jupyter-widgets/controls",
      "model_module_version": "1.5.0",
      "model_name": "HBoxModel",
      "state": {
       "children": [
        "IPY_MODEL_6c26c8f39c1745aeb3cd714408df61ab",
        "IPY_MODEL_2f21a65036b44967a6de980ae3f6e883"
       ],
       "layout": "IPY_MODEL_f9e9690c458b4789909c3548a8ee9ab1"
      }
     },
     "603603ff0fd34373b5a11f4ddad1a8c4": {
      "model_module": "@jupyter-widgets/controls",
      "model_module_version": "1.5.0",
      "model_name": "HBoxModel",
      "state": {
       "children": [
        "IPY_MODEL_86379c9f60ae4456a02bd614bf8d7ace",
        "IPY_MODEL_abaeb8ac50a941b694492a550edd3bf9"
       ],
       "layout": "IPY_MODEL_d59a565123e24c4ba305d322fd1f64c8"
      }
     },
     "605941e38a0d4198825efb9822b41d55": {
      "model_module": "@jupyter-widgets/controls",
      "model_module_version": "1.5.0",
      "model_name": "HTMLModel",
      "state": {
       "layout": "IPY_MODEL_2b85008d89814d6a897b875d74aaa47f",
       "style": "IPY_MODEL_031791bcdfd24a099f343176559167db",
       "value": "<style>p{word-wrap: break-word}</style> <p>. </p>"
      }
     },
     "607703d849254716bdcd9ef6a0fd5eb5": {
      "model_module": "@jupyter-widgets/base",
      "model_module_version": "1.2.0",
      "model_name": "LayoutModel",
      "state": {
       "align_items": "stretch",
       "display": "flex",
       "flex_flow": "row wrap",
       "width": "auto"
      }
     },
     "609ec64cab114a6faf1434e2063f333f": {
      "model_module": "@jupyter-widgets/base",
      "model_module_version": "1.2.0",
      "model_name": "LayoutModel",
      "state": {
       "align_items": "stretch",
       "display": "flex",
       "flex_flow": "row wrap",
       "margin": "30px 0 0 0"
      }
     },
     "60a6217bdc1c446aaafe507b25836aa4": {
      "model_module": "@jupyter-widgets/controls",
      "model_module_version": "1.5.0",
      "model_name": "HBoxModel",
      "state": {
       "children": [
        "IPY_MODEL_95fa4ed3a1504653a42b3ceea580de29",
        "IPY_MODEL_17b8544c1fdf423aad7bd4ddb94a93fc",
        "IPY_MODEL_60caf095b27f4dd39e14b92a44a648b1"
       ],
       "layout": "IPY_MODEL_d585ae5086954b91829a149fd1e78d1a"
      }
     },
     "60caf095b27f4dd39e14b92a44a648b1": {
      "model_module": "@jupyter-widgets/controls",
      "model_module_version": "1.5.0",
      "model_name": "ButtonModel",
      "state": {
       "description": "Show answer",
       "disabled": true,
       "layout": "IPY_MODEL_cbd5bceed21b418cad469e0c129d59e5",
       "style": "IPY_MODEL_82378f0011a4431bb3e7b009a839e97c"
      }
     },
     "617792ea72d349af8050b85939f07b9b": {
      "model_module": "@jupyter-widgets/base",
      "model_module_version": "1.2.0",
      "model_name": "LayoutModel",
      "state": {}
     },
     "617c2897a8fe488dab276cbd9747cfe0": {
      "model_module": "@jupyter-widgets/base",
      "model_module_version": "1.2.0",
      "model_name": "LayoutModel",
      "state": {}
     },
     "63afbd3ccfe74af5bffcc8c714a41218": {
      "model_module": "@jupyter-widgets/base",
      "model_module_version": "1.2.0",
      "model_name": "LayoutModel",
      "state": {}
     },
     "6504aee177794de1a18c0d8c5f1d7a4a": {
      "model_module": "@jupyter-widgets/base",
      "model_module_version": "1.2.0",
      "model_name": "LayoutModel",
      "state": {}
     },
     "657c4ec9f3e0416a9f36980fce7183d4": {
      "model_module": "@jupyter-widgets/controls",
      "model_module_version": "1.5.0",
      "model_name": "HBoxModel",
      "state": {
       "children": [
        "IPY_MODEL_ae01c4fedd484238b6742af5b832d5d5",
        "IPY_MODEL_ebbc5e9c67f4435da7e56661e3d4442f"
       ],
       "layout": "IPY_MODEL_8ecc880bced7408ea52063e7df9516d2"
      }
     },
     "65e72a803fce499bb2171ce96cfd0556": {
      "model_module": "@jupyter-widgets/base",
      "model_module_version": "1.2.0",
      "model_name": "LayoutModel",
      "state": {}
     },
     "6631c4c9fa6847ed99586534b7f2ff9a": {
      "model_module": "@jupyter-widgets/controls",
      "model_module_version": "1.5.0",
      "model_name": "HTMLModel",
      "state": {
       "layout": "IPY_MODEL_70d204df8cdc4e8791cf86645c59b2b5",
       "style": "IPY_MODEL_9f7b9d36d9b74bfeae4967bc49902ed0",
       "value": "<style>p{word-wrap: break-word}</style> <p>. </p>"
      }
     },
     "669b29814e2443208c9ac38ad1db5c52": {
      "model_module": "@jupyter-widgets/controls",
      "model_module_version": "1.5.0",
      "model_name": "DescriptionStyleModel",
      "state": {
       "description_width": "initial"
      }
     },
     "675974a2ac8247b5b373625ca0558828": {
      "model_module": "@jupyter-widgets/base",
      "model_module_version": "1.2.0",
      "model_name": "LayoutModel",
      "state": {}
     },
     "67d1432e97124f73adbbd23f75be94e7": {
      "model_module": "@jupyter-widgets/controls",
      "model_module_version": "1.5.0",
      "model_name": "HBoxModel",
      "state": {
       "children": [
        "IPY_MODEL_848e443504f942539c217339568e65dc",
        "IPY_MODEL_bae1c54d04424f1abf7969318677ecb3"
       ],
       "layout": "IPY_MODEL_1debf023ab954fce873b5bfc152c8042"
      }
     },
     "67f865a075a9467585df55592ec47293": {
      "model_module": "@jupyter-widgets/base",
      "model_module_version": "1.2.0",
      "model_name": "LayoutModel",
      "state": {}
     },
     "684420a2af9a4d23b1be61ac76497eda": {
      "model_module": "@jupyter-widgets/controls",
      "model_module_version": "1.5.0",
      "model_name": "TextModel",
      "state": {
       "layout": "IPY_MODEL_b66970b4a3b44e67b583212c1aa21d68",
       "placeholder": "",
       "style": "IPY_MODEL_dad3ed052afd4ab0b934912f659c031b"
      }
     },
     "68776c7e40454ea5a6b02fbc2f2f34d6": {
      "model_module": "@jupyter-widgets/controls",
      "model_module_version": "1.5.0",
      "model_name": "ButtonStyleModel",
      "state": {
       "button_color": "#4DD0E1"
      }
     },
     "6a8ab0ac9a6d4e488a0d7084e0e459d6": {
      "model_module": "@jupyter-widgets/base",
      "model_module_version": "1.2.0",
      "model_name": "LayoutModel",
      "state": {}
     },
     "6ab0ad5ab85b48f69c41cf5b86742ee5": {
      "model_module": "@jupyter-widgets/base",
      "model_module_version": "1.2.0",
      "model_name": "LayoutModel",
      "state": {
       "align_items": "stretch",
       "display": "flex",
       "flex_flow": "column",
       "width": "100%"
      }
     },
     "6add1be79832405cb80dd4e9ff8d1742": {
      "model_module": "@jupyter-widgets/controls",
      "model_module_version": "1.5.0",
      "model_name": "DescriptionStyleModel",
      "state": {
       "description_width": "initial"
      }
     },
     "6b410894b47e4c1c853ff4ac8fb88e87": {
      "model_module": "@jupyter-widgets/controls",
      "model_module_version": "1.5.0",
      "model_name": "DescriptionStyleModel",
      "state": {
       "description_width": ""
      }
     },
     "6b64cfb92ee640afac7e4bd5d62583b6": {
      "model_module": "@jupyter-widgets/controls",
      "model_module_version": "1.5.0",
      "model_name": "DescriptionStyleModel",
      "state": {
       "description_width": "initial"
      }
     },
     "6bf53eb7a4ee4150b45e0c117af47d6b": {
      "model_module": "@jupyter-widgets/base",
      "model_module_version": "1.2.0",
      "model_name": "LayoutModel",
      "state": {
       "height": "50%",
       "margin": "0 0 0 30px",
       "width": "50%"
      }
     },
     "6c26c8f39c1745aeb3cd714408df61ab": {
      "model_module": "@jupyter-widgets/controls",
      "model_module_version": "1.5.0",
      "model_name": "CheckboxModel",
      "state": {
       "disabled": false,
       "layout": "IPY_MODEL_2382c82475a946dc8b69ad5aae81e094",
       "style": "IPY_MODEL_d61266e0a60e444db4642fcd67b633f3",
       "value": false
      }
     },
     "6c557bce094c4d6f91d120deb5b33f98": {
      "model_module": "@jupyter-widgets/base",
      "model_module_version": "1.2.0",
      "model_name": "LayoutModel",
      "state": {
       "align_items": "stretch",
       "display": "flex",
       "flex_flow": "row wrap",
       "width": "auto"
      }
     },
     "6c8c433636a841afaf09d33d7984873d": {
      "model_module": "@jupyter-widgets/base",
      "model_module_version": "1.2.0",
      "model_name": "LayoutModel",
      "state": {
       "width": "30px"
      }
     },
     "6ce70c22846c43d8b3e923b918b431a9": {
      "model_module": "@jupyter-widgets/controls",
      "model_module_version": "1.5.0",
      "model_name": "CheckboxModel",
      "state": {
       "disabled": false,
       "layout": "IPY_MODEL_31a1603295b34705a6a570c65208f513",
       "style": "IPY_MODEL_760a76f6a49943caa810a926ffeadc0a",
       "value": false
      }
     },
     "6d9d291e112e45ed945abbaf57f9eb46": {
      "model_module": "@jupyter-widgets/controls",
      "model_module_version": "1.5.0",
      "model_name": "DescriptionStyleModel",
      "state": {
       "description_width": ""
      }
     },
     "6de053eda6394061bd37dee7f257c4d0": {
      "model_module": "@jupyter-widgets/controls",
      "model_module_version": "1.5.0",
      "model_name": "HBoxModel",
      "state": {
       "children": [
        "IPY_MODEL_45c85a09c86b485abc999f278d2a665c",
        "IPY_MODEL_145b033b2ffc46d8a0f0adfab2ba6e0a"
       ],
       "layout": "IPY_MODEL_fbb2a8d6e0c543deaf38592a34e8e71e"
      }
     },
     "6e072592c8584f76ad84a569db639734": {
      "model_module": "@jupyter-widgets/controls",
      "model_module_version": "1.5.0",
      "model_name": "LabelModel",
      "state": {
       "layout": "IPY_MODEL_a9033dae42ed491d8d6e8c6c50cfe1e9",
       "style": "IPY_MODEL_e068753e6cc1428288b1cf9d56ddc1cb"
      }
     },
     "6e85bbe89cd3487c8ba5ce3ee7ebf058": {
      "model_module": "@jupyter-widgets/controls",
      "model_module_version": "1.5.0",
      "model_name": "HTMLModel",
      "state": {
       "layout": "IPY_MODEL_b5f24b1c51d0474486ec96db16df198d",
       "style": "IPY_MODEL_c0cc106afcee46e1a1dc2900f833a9aa",
       "value": "<style>p{word-wrap: break-word}</style> <p>. </p>"
      }
     },
     "6eab7406b0124a6e9ec7bf644a405371": {
      "model_module": "@jupyter-widgets/base",
      "model_module_version": "1.2.0",
      "model_name": "LayoutModel",
      "state": {}
     },
     "6ee7cf395b204d909ca75ede992b7441": {
      "model_module": "@jupyter-widgets/controls",
      "model_module_version": "1.5.0",
      "model_name": "ButtonStyleModel",
      "state": {
       "button_color": "#4DD0E1"
      }
     },
     "6ef5d01ac43146e0a3af581ef999fd7e": {
      "model_module": "@jupyter-widgets/base",
      "model_module_version": "1.2.0",
      "model_name": "LayoutModel",
      "state": {}
     },
     "6f143c2dcfc842819013b887ef3e2bca": {
      "model_module": "@jupyter-widgets/base",
      "model_module_version": "1.2.0",
      "model_name": "LayoutModel",
      "state": {}
     },
     "6f6905c8ed94443b90dc665f62a451e6": {
      "model_module": "@jupyter-widgets/base",
      "model_module_version": "1.2.0",
      "model_name": "LayoutModel",
      "state": {}
     },
     "70061874136e48ecb0f7193a99fdb5e1": {
      "model_module": "@jupyter-widgets/base",
      "model_module_version": "1.2.0",
      "model_name": "LayoutModel",
      "state": {
       "height": "50%",
       "margin": "0 0 0 30px",
       "width": "50%"
      }
     },
     "70127d7f974c4d529d34fb788a2e538b": {
      "model_module": "@jupyter-widgets/controls",
      "model_module_version": "1.5.0",
      "model_name": "DescriptionStyleModel",
      "state": {
       "description_width": ""
      }
     },
     "70d204df8cdc4e8791cf86645c59b2b5": {
      "model_module": "@jupyter-widgets/base",
      "model_module_version": "1.2.0",
      "model_name": "LayoutModel",
      "state": {}
     },
     "71dd4189bab8460b9335112bcf5aead3": {
      "model_module": "@jupyter-widgets/base",
      "model_module_version": "1.2.0",
      "model_name": "LayoutModel",
      "state": {}
     },
     "7213a96c9ab6440fafad4072c182fe23": {
      "model_module": "@jupyter-widgets/controls",
      "model_module_version": "1.5.0",
      "model_name": "ButtonModel",
      "state": {
       "description": "Show answer",
       "disabled": true,
       "layout": "IPY_MODEL_86d470d7c7fc432b8ad487b02e68e360",
       "style": "IPY_MODEL_68776c7e40454ea5a6b02fbc2f2f34d6"
      }
     },
     "727e2304b93d4dbd9c6cd2701df37976": {
      "model_module": "@jupyter-widgets/controls",
      "model_module_version": "1.5.0",
      "model_name": "HTMLModel",
      "state": {
       "layout": "IPY_MODEL_6eab7406b0124a6e9ec7bf644a405371",
       "style": "IPY_MODEL_247ed642c3a441fc9a6080cca55eb2de",
       "value": "<style>p{word-wrap: break-word}</style> <p>The longest substring that the words 'dynamic' and 'program' have in common is:  </p>"
      }
     },
     "72d35fe2ae9d4a389f69b5e14fd88ccc": {
      "model_module": "@jupyter-widgets/controls",
      "model_module_version": "1.5.0",
      "model_name": "LabelModel",
      "state": {
       "layout": "IPY_MODEL_d2631d73370e45d89174f4996f723620",
       "style": "IPY_MODEL_7ce84d9ecc8b40dcab4e6d5774312fb0"
      }
     },
     "72e27eb591eb4334beba4be9fbaa63cb": {
      "model_module": "@jupyter-widgets/controls",
      "model_module_version": "1.5.0",
      "model_name": "ButtonModel",
      "state": {
       "description": "Submit",
       "layout": "IPY_MODEL_6504aee177794de1a18c0d8c5f1d7a4a",
       "style": "IPY_MODEL_8f795aa485c64e36a43b289f807dc8c4"
      }
     },
     "735f5c52e95043ed8ef25210d626f266": {
      "model_module": "@jupyter-widgets/base",
      "model_module_version": "1.2.0",
      "model_name": "LayoutModel",
      "state": {
       "align_items": "stretch",
       "display": "flex",
       "flex_flow": "row wrap",
       "width": "auto"
      }
     },
     "7409ffb59b2645828a2821bc4c572ba2": {
      "model_module": "@jupyter-widgets/base",
      "model_module_version": "1.2.0",
      "model_name": "LayoutModel",
      "state": {
       "width": "auto"
      }
     },
     "7475d365b31c414b86889fca169a0c3c": {
      "model_module": "@jupyter-widgets/base",
      "model_module_version": "1.2.0",
      "model_name": "LayoutModel",
      "state": {}
     },
     "75cda1747ab247aca95dd012f58fd12e": {
      "model_module": "@jupyter-widgets/controls",
      "model_module_version": "1.5.0",
      "model_name": "CheckboxModel",
      "state": {
       "disabled": false,
       "layout": "IPY_MODEL_be37d77acda54f03aa838188496869bf",
       "style": "IPY_MODEL_59c2f61383fa4a58a39c53ed0a9eacd4",
       "value": false
      }
     },
     "760a76f6a49943caa810a926ffeadc0a": {
      "model_module": "@jupyter-widgets/controls",
      "model_module_version": "1.5.0",
      "model_name": "DescriptionStyleModel",
      "state": {
       "description_width": "initial"
      }
     },
     "762d1b624e544086849a534c5a35f261": {
      "model_module": "@jupyter-widgets/controls",
      "model_module_version": "1.5.0",
      "model_name": "DescriptionStyleModel",
      "state": {
       "description_width": "initial"
      }
     },
     "767612a0dc1b4cbb95fddf0fcfca9159": {
      "model_module": "@jupyter-widgets/controls",
      "model_module_version": "1.5.0",
      "model_name": "HTMLModel",
      "state": {
       "layout": "IPY_MODEL_a59ab987245349eab61c55c67fff91b1",
       "style": "IPY_MODEL_6b410894b47e4c1c853ff4ac8fb88e87",
       "value": "<style>p{word-wrap: break-word}</style> <p>Start by considering what will be the base case. </p>"
      }
     },
     "76c1dad8a9434e3db3327715e57c20de": {
      "model_module": "@jupyter-widgets/base",
      "model_module_version": "1.2.0",
      "model_name": "LayoutModel",
      "state": {
       "display": "flex",
       "flex_flow": "row",
       "justify_content": "space-between",
       "margin": "0 0 20px 0"
      }
     },
     "76d048ee4a77446d9f7dfba7ed94adb3": {
      "model_module": "@jupyter-widgets/controls",
      "model_module_version": "1.5.0",
      "model_name": "HTMLModel",
      "state": {
       "layout": "IPY_MODEL_a6983bbb040e4787b0d5a0e472a9f783",
       "style": "IPY_MODEL_37c8f5a250904f4cbf15a2d8a9bb0c8f",
       "value": "<style>p{word-wrap: break-word}</style> <p>LCS('abc', 'ad') </p>"
      }
     },
     "76ed162101b24e848ea2f8c601198210": {
      "model_module": "@jupyter-widgets/controls",
      "model_module_version": "1.5.0",
      "model_name": "HBoxModel",
      "state": {
       "children": [
        "IPY_MODEL_2918a251aece4a3cb6568fcaafe8a878",
        "IPY_MODEL_657c4ec9f3e0416a9f36980fce7183d4"
       ],
       "layout": "IPY_MODEL_e300bbe90fad4318816adffd83484bab"
      }
     },
     "7714da771ce54ea5b3ad1c1a6701e78f": {
      "model_module": "@jupyter-widgets/controls",
      "model_module_version": "1.5.0",
      "model_name": "HTMLModel",
      "state": {
       "layout": "IPY_MODEL_35056937cf934a8ca1c26a29d46c3e27",
       "style": "IPY_MODEL_c9b1d8fa28d547ebb4afd7917c6c805e",
       "value": "<style>p{word-wrap: break-word}</style> <p>. </p>"
      }
     },
     "77a45a0451864afa96c27c1203a42cd9": {
      "model_module": "@jupyter-widgets/controls",
      "model_module_version": "1.5.0",
      "model_name": "HBoxModel",
      "state": {
       "children": [
        "IPY_MODEL_e87fe6450a8e41339a40c2ac9beeb1ef",
        "IPY_MODEL_d8186facb86c4b0490af68cc22487900"
       ],
       "layout": "IPY_MODEL_25ab749a6d8e452b95a9b6db87b013c7"
      }
     },
     "77e312a2f9674cb8a9022361959e25a3": {
      "model_module": "@jupyter-widgets/controls",
      "model_module_version": "1.5.0",
      "model_name": "HTMLModel",
      "state": {
       "layout": "IPY_MODEL_d4d03099ef8147a596ac39d50a65c049",
       "style": "IPY_MODEL_bc9295a2dc504a47813939c934fe21db",
       "value": "<style>p{word-wrap: break-word}</style> <p>If we look at the strings: 'dynamic' and 'programming', there is another longest common substring with the same length. It is:  </p>"
      }
     },
     "780b2d36243b48348403e3fceef4cf66": {
      "model_module": "@jupyter-widgets/controls",
      "model_module_version": "1.5.0",
      "model_name": "HBoxModel",
      "state": {
       "children": [
        "IPY_MODEL_7e43e3236ee64fbb9c70fe6022bd1bb1",
        "IPY_MODEL_1f83da8279dc4290b5d2d996f30ddafa"
       ],
       "layout": "IPY_MODEL_b7e612dd1f5a4577ac1d3107ca122804"
      }
     },
     "782a93bab6ee46309c4400d3640e172a": {
      "model_module": "@jupyter-widgets/base",
      "model_module_version": "1.2.0",
      "model_name": "LayoutModel",
      "state": {
       "width": "auto"
      }
     },
     "78d28d4a3a35431581285290c26ec33d": {
      "model_module": "@jupyter-widgets/base",
      "model_module_version": "1.2.0",
      "model_name": "LayoutModel",
      "state": {
       "align_items": "stretch",
       "display": "flex",
       "flex_flow": "row wrap",
       "width": "auto"
      }
     },
     "792acfc8838c42cab13074c84702dd1b": {
      "model_module": "@jupyter-widgets/controls",
      "model_module_version": "1.5.0",
      "model_name": "DescriptionStyleModel",
      "state": {
       "description_width": ""
      }
     },
     "7979bdf2e65743cfbcd62fd1a6dbcef5": {
      "model_module": "@jupyter-widgets/controls",
      "model_module_version": "1.5.0",
      "model_name": "HBoxModel",
      "state": {
       "children": [
        "IPY_MODEL_2cde67818eb94adfbb59fd7b99b893c4",
        "IPY_MODEL_bf83e59abb1c4dd6b93d3aa0d3000d5b"
       ],
       "layout": "IPY_MODEL_eb2df40af5464aed9099efd2f05fb410"
      }
     },
     "7a3dd717f0d44c0a86af866162adb081": {
      "model_module": "@jupyter-widgets/controls",
      "model_module_version": "1.5.0",
      "model_name": "DescriptionStyleModel",
      "state": {
       "description_width": ""
      }
     },
     "7aa0f465808144e784fe20fedb88bb1e": {
      "model_module": "@jupyter-widgets/controls",
      "model_module_version": "1.5.0",
      "model_name": "ButtonModel",
      "state": {
       "description": "Submit",
       "layout": "IPY_MODEL_65e72a803fce499bb2171ce96cfd0556",
       "style": "IPY_MODEL_8c5aa785be4045b38baacd411ff96e4a"
      }
     },
     "7aceb674bc9d48799589a0e1abb5bd72": {
      "model_module": "@jupyter-widgets/controls",
      "model_module_version": "1.5.0",
      "model_name": "HBoxModel",
      "state": {
       "children": [
        "IPY_MODEL_c84cfe42039045449666600b086203ae",
        "IPY_MODEL_ea77b3b9f11f423da819e71046cf534d",
        "IPY_MODEL_605941e38a0d4198825efb9822b41d55"
       ],
       "layout": "IPY_MODEL_7c903c9c3b2744399c1f33bcb065e668"
      }
     },
     "7ad8cfc858d04fd8b541ba1b794d1bdf": {
      "model_module": "@jupyter-widgets/controls",
      "model_module_version": "1.5.0",
      "model_name": "TextModel",
      "state": {
       "layout": "IPY_MODEL_2b4dbe30e9224447bdba1442680d86d6",
       "placeholder": "",
       "style": "IPY_MODEL_28baf710dc604c01819739e5cc7d4ee6"
      }
     },
     "7afe2d0ce0ca48b5937e176d1697b215": {
      "model_module": "@jupyter-widgets/controls",
      "model_module_version": "1.5.0",
      "model_name": "HTMLModel",
      "state": {
       "layout": "IPY_MODEL_0db44ef9528b4762b5e81378f45c722d",
       "style": "IPY_MODEL_f883d52e34bc43d696a18620730ce06f",
       "value": "<style>p{word-wrap: break-word}</style> <p>The length of the longest common subsequence between 'abc' and 'cba' is:  </p>"
      }
     },
     "7b3e2c2792244c8caff675fdf19639be": {
      "model_module": "@jupyter-widgets/controls",
      "model_module_version": "1.5.0",
      "model_name": "HTMLModel",
      "state": {
       "layout": "IPY_MODEL_03bf1bf84fb04d278fe88fafaab7284e",
       "style": "IPY_MODEL_9bf63e98f9dd4e94bc770627aa4f3c79",
       "value": "<style>p{word-wrap: break-word}</style> <p>Fill in the blanks:  </p>"
      }
     },
     "7b3f118fd01d4cf29e2584f08ef71933": {
      "model_module": "@jupyter-widgets/controls",
      "model_module_version": "1.5.0",
      "model_name": "ButtonModel",
      "state": {
       "description": "Submit",
       "layout": "IPY_MODEL_9cb2349ec9764dc9876cd069287dbb53",
       "style": "IPY_MODEL_bd25c2d913854b15a54b35c62a65c31e"
      }
     },
     "7b6dd24fd451419e83595591a4fd5f65": {
      "model_module": "@jupyter-widgets/controls",
      "model_module_version": "1.5.0",
      "model_name": "HBoxModel",
      "state": {
       "children": [
        "IPY_MODEL_dfb5766b2fce4179baa4b7639b3dba20",
        "IPY_MODEL_57917d784e2f427a98a732d2879c0ee8",
        "IPY_MODEL_157c579aa5e3483c8d4fc11213aae1bf"
       ],
       "layout": "IPY_MODEL_609ec64cab114a6faf1434e2063f333f"
      }
     },
     "7b8a3f034ea141f99cd3a4790b3b5b7a": {
      "model_module": "@jupyter-widgets/controls",
      "model_module_version": "1.5.0",
      "model_name": "HBoxModel",
      "state": {
       "children": [
        "IPY_MODEL_27c49e743fbf4c84b2d413b2b4542c7d",
        "IPY_MODEL_413bab09dd7e4be58c7d86921543cd0b"
       ],
       "layout": "IPY_MODEL_8df90bbf4c8c4f72a5631b89be97291e"
      }
     },
     "7c903c9c3b2744399c1f33bcb065e668": {
      "model_module": "@jupyter-widgets/base",
      "model_module_version": "1.2.0",
      "model_name": "LayoutModel",
      "state": {
       "align_items": "stretch",
       "display": "flex",
       "flex_flow": "row wrap",
       "width": "auto"
      }
     },
     "7ce66fdaa2124ffe890f36f1824f6783": {
      "model_module": "@jupyter-widgets/controls",
      "model_module_version": "1.5.0",
      "model_name": "HBoxModel",
      "state": {
       "children": [
        "IPY_MODEL_25acda901fb842ee89cad5e6c11fa6df",
        "IPY_MODEL_44945f6ec7a241c9bfd99feedb580dbf"
       ],
       "layout": "IPY_MODEL_945a9f992f074bdcb1688230249ad184"
      }
     },
     "7ce84d9ecc8b40dcab4e6d5774312fb0": {
      "model_module": "@jupyter-widgets/controls",
      "model_module_version": "1.5.0",
      "model_name": "DescriptionStyleModel",
      "state": {
       "description_width": ""
      }
     },
     "7d41123db77748cdb024b79bae2fba8b": {
      "model_module": "@jupyter-widgets/base",
      "model_module_version": "1.2.0",
      "model_name": "LayoutModel",
      "state": {
       "align_items": "stretch",
       "display": "flex",
       "flex_flow": "row wrap",
       "width": "auto"
      }
     },
     "7d64c82f2a634e04ab5979683d6cdc27": {
      "model_module": "@jupyter-widgets/controls",
      "model_module_version": "1.5.0",
      "model_name": "HBoxModel",
      "state": {
       "children": [
        "IPY_MODEL_fdaeeeab60394254ac62c17a3d3f12b6",
        "IPY_MODEL_ad1d565d9e1b47a6abf7f7889ca88725",
        "IPY_MODEL_db5237cb722947bbba8407cc01c4a8ea",
        "IPY_MODEL_2fdbb755289a49628be541f1c43adae9",
        "IPY_MODEL_588dfa5a309848a098312566f8fc4d75"
       ],
       "layout": "IPY_MODEL_df233a2f0e024304a9a12cd8a7a1f343"
      }
     },
     "7e0d7af508e44fd0a3a6a0dc91facdb3": {
      "model_module": "@jupyter-widgets/base",
      "model_module_version": "1.2.0",
      "model_name": "LayoutModel",
      "state": {
       "align_items": "stretch",
       "display": "flex",
       "flex_flow": "row wrap",
       "width": "auto"
      }
     },
     "7e1fd5d29cd6415db2746dc8228122af": {
      "model_module": "@jupyter-widgets/controls",
      "model_module_version": "1.5.0",
      "model_name": "LabelModel",
      "state": {
       "layout": "IPY_MODEL_b51e4cc1b801467b9a51748e58cac4c4",
       "style": "IPY_MODEL_20b89c61c6c44213a63c0c8b677614fb"
      }
     },
     "7e43e3236ee64fbb9c70fe6022bd1bb1": {
      "model_module": "@jupyter-widgets/controls",
      "model_module_version": "1.5.0",
      "model_name": "LabelModel",
      "state": {
       "layout": "IPY_MODEL_9af3d66812e04841b2bd10ec8b5bb8f1",
       "style": "IPY_MODEL_49754eac3ddc4b2e8818a3d4c59a1bec"
      }
     },
     "7e77093af9eb42479cff0b978f110de3": {
      "model_module": "@jupyter-widgets/base",
      "model_module_version": "1.2.0",
      "model_name": "LayoutModel",
      "state": {
       "align_items": "stretch",
       "display": "flex",
       "flex_flow": "row wrap",
       "width": "auto"
      }
     },
     "7fbfaddac1f7415e823c1bc7d0f518e8": {
      "model_module": "@jupyter-widgets/controls",
      "model_module_version": "1.5.0",
      "model_name": "ButtonModel",
      "state": {
       "description": "Show answer",
       "disabled": true,
       "layout": "IPY_MODEL_3f847417e1b34458877a7b73179a1b15",
       "style": "IPY_MODEL_6ee7cf395b204d909ca75ede992b7441"
      }
     },
     "7feddb60c47c4238bca5c823160263c7": {
      "model_module": "@jupyter-widgets/controls",
      "model_module_version": "1.5.0",
      "model_name": "LabelModel",
      "state": {
       "layout": "IPY_MODEL_a094b31c52a945cf84f4479cb060f11a",
       "style": "IPY_MODEL_ab3cdf8990774b3ba0da3820c5b9e8ca"
      }
     },
     "803035f7944b4bc4be9d5923a3abfecb": {
      "model_module": "@jupyter-widgets/base",
      "model_module_version": "1.2.0",
      "model_name": "LayoutModel",
      "state": {
       "align_items": "stretch",
       "display": "flex",
       "flex_flow": "column",
       "width": "100%"
      }
     },
     "8051678447ec4e3ea05726b85ab02581": {
      "model_module": "@jupyter-widgets/base",
      "model_module_version": "1.2.0",
      "model_name": "LayoutModel",
      "state": {
       "align_items": "stretch",
       "display": "flex",
       "flex_flow": "column",
       "width": "100%"
      }
     },
     "80ffceb3d8d7445897a7ca9cc9987d4d": {
      "model_module": "@jupyter-widgets/controls",
      "model_module_version": "1.5.0",
      "model_name": "HTMLModel",
      "state": {
       "layout": "IPY_MODEL_fedb71cc1064470b988e124f3be06d29",
       "style": "IPY_MODEL_b6f37527f3b243478335aebd2f4ca4c3",
       "value": "<style>p{word-wrap: break-word}</style> <p>The optimization required is to maximize some value </p>"
      }
     },
     "81290dc915014927995218bb43428216": {
      "model_module": "@jupyter-widgets/controls",
      "model_module_version": "1.5.0",
      "model_name": "ButtonModel",
      "state": {
       "description": "Submit",
       "layout": "IPY_MODEL_617c2897a8fe488dab276cbd9747cfe0",
       "style": "IPY_MODEL_b7c1985fad1e4568a3dbf34bc9253832"
      }
     },
     "81aab6df8a84491288f937f809d7bf69": {
      "model_module": "@jupyter-widgets/base",
      "model_module_version": "1.2.0",
      "model_name": "LayoutModel",
      "state": {}
     },
     "822e6972fa5046b783d7a43c4c49845c": {
      "model_module": "@jupyter-widgets/base",
      "model_module_version": "1.2.0",
      "model_name": "LayoutModel",
      "state": {
       "align_items": "stretch",
       "display": "flex",
       "flex_flow": "row wrap",
       "margin": "30px 0 0 0"
      }
     },
     "82378f0011a4431bb3e7b009a839e97c": {
      "model_module": "@jupyter-widgets/controls",
      "model_module_version": "1.5.0",
      "model_name": "ButtonStyleModel",
      "state": {
       "button_color": "#4DD0E1"
      }
     },
     "83abbc2a67ab46ffa938e15e5f956bd1": {
      "model_module": "@jupyter-widgets/controls",
      "model_module_version": "1.5.0",
      "model_name": "DescriptionStyleModel",
      "state": {
       "description_width": ""
      }
     },
     "8418be73304a4db49c81c72b74262431": {
      "model_module": "@jupyter-widgets/controls",
      "model_module_version": "1.5.0",
      "model_name": "HBoxModel",
      "state": {
       "children": [
        "IPY_MODEL_8a8750af56574497bc02de995275cce8",
        "IPY_MODEL_1e8bc565ba9d4a99bdc6225ab5c86f4a",
        "IPY_MODEL_c3935f044a7d42c2b935da24ecd4d9df"
       ],
       "layout": "IPY_MODEL_a60c8e38da884894828dbf11d8f6783b"
      }
     },
     "8463481e45ab427d80ed0a18bf4788e8": {
      "model_module": "@jupyter-widgets/controls",
      "model_module_version": "1.5.0",
      "model_name": "HTMLModel",
      "state": {
       "layout": "IPY_MODEL_ee1d6b68e9264cf4876ca2d7e0581108",
       "style": "IPY_MODEL_e208061c1ca5427ea1dbc3ad0303eec2",
       "value": "<style>p{word-wrap: break-word}</style> <p>. </p>"
      }
     },
     "848e443504f942539c217339568e65dc": {
      "model_module": "@jupyter-widgets/controls",
      "model_module_version": "1.5.0",
      "model_name": "CheckboxModel",
      "state": {
       "disabled": false,
       "layout": "IPY_MODEL_b9b0c1dc5b8649738e839c3cd33b9b24",
       "style": "IPY_MODEL_2e9343f5501f4aad90e3edebddb71d84",
       "value": false
      }
     },
     "85e1648948ee4efeb9cab008df7ebea7": {
      "model_module": "@jupyter-widgets/controls",
      "model_module_version": "1.5.0",
      "model_name": "DescriptionStyleModel",
      "state": {
       "description_width": ""
      }
     },
     "85e88c1aa0404c048426908b52c02dde": {
      "model_module": "@jupyter-widgets/controls",
      "model_module_version": "1.5.0",
      "model_name": "DescriptionStyleModel",
      "state": {
       "description_width": ""
      }
     },
     "86297c2776634a24855581ede49757b3": {
      "model_module": "@jupyter-widgets/controls",
      "model_module_version": "1.5.0",
      "model_name": "DescriptionStyleModel",
      "state": {
       "description_width": ""
      }
     },
     "86379c9f60ae4456a02bd614bf8d7ace": {
      "model_module": "@jupyter-widgets/controls",
      "model_module_version": "1.5.0",
      "model_name": "CheckboxModel",
      "state": {
       "disabled": false,
       "layout": "IPY_MODEL_e28650e6275847ef901a869792201a4e",
       "style": "IPY_MODEL_c618c06d258f44d19998d5a107ad51e2",
       "value": false
      }
     },
     "86d470d7c7fc432b8ad487b02e68e360": {
      "model_module": "@jupyter-widgets/base",
      "model_module_version": "1.2.0",
      "model_name": "LayoutModel",
      "state": {
       "display": "none"
      }
     },
     "875d400e61034008bcf8413e607046ec": {
      "model_module": "@jupyter-widgets/controls",
      "model_module_version": "1.5.0",
      "model_name": "DescriptionStyleModel",
      "state": {
       "description_width": ""
      }
     },
     "878a54eabeb04bcc89ff4480b731259f": {
      "model_module": "@jupyter-widgets/base",
      "model_module_version": "1.2.0",
      "model_name": "LayoutModel",
      "state": {}
     },
     "8798785a03db45f0bab147cece38dbf5": {
      "model_module": "@jupyter-widgets/controls",
      "model_module_version": "1.5.0",
      "model_name": "DescriptionStyleModel",
      "state": {
       "description_width": ""
      }
     },
     "88e2a3ca7ef341ca9c51aca2f1030e31": {
      "model_module": "@jupyter-widgets/controls",
      "model_module_version": "1.5.0",
      "model_name": "DescriptionStyleModel",
      "state": {
       "description_width": ""
      }
     },
     "89b8dda5dbe54d5c8256f516ba15b794": {
      "model_module": "@jupyter-widgets/base",
      "model_module_version": "1.2.0",
      "model_name": "LayoutModel",
      "state": {}
     },
     "89f05669a8ae4464a5c3ab595d1804ca": {
      "model_module": "@jupyter-widgets/controls",
      "model_module_version": "1.5.0",
      "model_name": "CheckboxModel",
      "state": {
       "disabled": false,
       "layout": "IPY_MODEL_3178178bf3b0471cb022b52b90b961bd",
       "style": "IPY_MODEL_03b9dbbbdd86451cb0ae15252373818f",
       "value": false
      }
     },
     "8a3479228a8c4c3e98c79e7e23d94346": {
      "model_module": "@jupyter-widgets/controls",
      "model_module_version": "1.5.0",
      "model_name": "DescriptionStyleModel",
      "state": {
       "description_width": ""
      }
     },
     "8a8750af56574497bc02de995275cce8": {
      "model_module": "@jupyter-widgets/controls",
      "model_module_version": "1.5.0",
      "model_name": "HTMLModel",
      "state": {
       "layout": "IPY_MODEL_dcfd73eae1d840c8ac3bda39df7ea80b",
       "style": "IPY_MODEL_86297c2776634a24855581ede49757b3",
       "value": "<style>p{word-wrap: break-word}</style> <p>It has a length of:  </p>"
      }
     },
     "8ac32d8a1f2f4966a89ad46ec7df3009": {
      "model_module": "@jupyter-widgets/base",
      "model_module_version": "1.2.0",
      "model_name": "LayoutModel",
      "state": {
       "width": "auto"
      }
     },
     "8c5aa785be4045b38baacd411ff96e4a": {
      "model_module": "@jupyter-widgets/controls",
      "model_module_version": "1.5.0",
      "model_name": "ButtonStyleModel",
      "state": {
       "button_color": "#4DD0E1"
      }
     },
     "8ce54dd3faad4e23881e7c110a9aa08d": {
      "model_module": "@jupyter-widgets/base",
      "model_module_version": "1.2.0",
      "model_name": "LayoutModel",
      "state": {}
     },
     "8d7e33ed18e24245884461b6e820ed10": {
      "model_module": "@jupyter-widgets/controls",
      "model_module_version": "1.5.0",
      "model_name": "HTMLModel",
      "state": {
       "layout": "IPY_MODEL_0404d09cb3de472fa2f24963b78d343d",
       "style": "IPY_MODEL_85e88c1aa0404c048426908b52c02dde",
       "value": "<style>p{word-wrap: break-word}</style> <p>How many cells are filled for the input X='abc' and Y='xyz'? </p>"
      }
     },
     "8df90bbf4c8c4f72a5631b89be97291e": {
      "model_module": "@jupyter-widgets/base",
      "model_module_version": "1.2.0",
      "model_name": "LayoutModel",
      "state": {
       "align_items": "stretch",
       "display": "flex",
       "flex_flow": "row wrap",
       "width": "auto"
      }
     },
     "8e069f678e324f06af5fb382d63df521": {
      "model_module": "@jupyter-widgets/controls",
      "model_module_version": "1.5.0",
      "model_name": "DescriptionStyleModel",
      "state": {
       "description_width": ""
      }
     },
     "8e31dbc06df6459b9b3640626f624141": {
      "model_module": "@jupyter-widgets/base",
      "model_module_version": "1.2.0",
      "model_name": "LayoutModel",
      "state": {
       "align_items": "stretch",
       "display": "flex",
       "flex_flow": "row wrap",
       "width": "auto"
      }
     },
     "8e66e8b75f274deb9b1398537637425a": {
      "model_module": "@jupyter-widgets/base",
      "model_module_version": "1.2.0",
      "model_name": "LayoutModel",
      "state": {
       "width": "auto"
      }
     },
     "8ecc880bced7408ea52063e7df9516d2": {
      "model_module": "@jupyter-widgets/base",
      "model_module_version": "1.2.0",
      "model_name": "LayoutModel",
      "state": {
       "align_items": "stretch",
       "display": "flex",
       "flex_flow": "row wrap",
       "width": "auto"
      }
     },
     "8edbff6e418841c5854200fed9500a72": {
      "model_module": "@jupyter-widgets/controls",
      "model_module_version": "1.5.0",
      "model_name": "DescriptionStyleModel",
      "state": {
       "description_width": ""
      }
     },
     "8f0761946e53476ca92854338beae42b": {
      "model_module": "@jupyter-widgets/controls",
      "model_module_version": "1.5.0",
      "model_name": "HBoxModel",
      "state": {
       "children": [
        "IPY_MODEL_727e2304b93d4dbd9c6cd2701df37976",
        "IPY_MODEL_c16ed22db20241e688be0c08355ffb38",
        "IPY_MODEL_46fa8b44a25844d78b954b0f53ca848b"
       ],
       "layout": "IPY_MODEL_0b4a7722b1614e7b913490fc51f78056"
      }
     },
     "8f1d0af0ee814d54a4daa63f8b20fb71": {
      "model_module": "@jupyter-widgets/controls",
      "model_module_version": "1.5.0",
      "model_name": "TextModel",
      "state": {
       "layout": "IPY_MODEL_0a1502cb173048cbb9045da121cd5c42",
       "placeholder": "",
       "style": "IPY_MODEL_48a304f2ad56466a9873d103cfc500c0"
      }
     },
     "8f62129daa524b7e92c283593df88cfa": {
      "model_module": "@jupyter-widgets/base",
      "model_module_version": "1.2.0",
      "model_name": "LayoutModel",
      "state": {
       "display": "flex",
       "flex_flow": "row",
       "justify_content": "space-between",
       "margin": "0 0 20px 0"
      }
     },
     "8f795aa485c64e36a43b289f807dc8c4": {
      "model_module": "@jupyter-widgets/controls",
      "model_module_version": "1.5.0",
      "model_name": "ButtonStyleModel",
      "state": {
       "button_color": "#4DD0E1"
      }
     },
     "8fd4903c85334f0893bf883de7e76841": {
      "model_module": "@jupyter-widgets/controls",
      "model_module_version": "1.5.0",
      "model_name": "HBoxModel",
      "state": {
       "children": [
        "IPY_MODEL_18d5e085699444eca7b312c6cb7e3483",
        "IPY_MODEL_59c0d47738984e68a9cb08a31bf62ad5",
        "IPY_MODEL_7fbfaddac1f7415e823c1bc7d0f518e8"
       ],
       "layout": "IPY_MODEL_596413eb3f564a56bbf3eda01a78e8bd"
      }
     },
     "90088d1a3c6a4d54b98196d9a68534eb": {
      "model_module": "@jupyter-widgets/base",
      "model_module_version": "1.2.0",
      "model_name": "LayoutModel",
      "state": {}
     },
     "90646c5438e14db39e2f37f59fff5185": {
      "model_module": "@jupyter-widgets/controls",
      "model_module_version": "1.5.0",
      "model_name": "DescriptionStyleModel",
      "state": {
       "description_width": ""
      }
     },
     "90cb9d2c06004a29a4d1eaa35d765800": {
      "model_module": "@jupyter-widgets/base",
      "model_module_version": "1.2.0",
      "model_name": "LayoutModel",
      "state": {
       "align_items": "stretch",
       "display": "flex",
       "flex_flow": "row wrap",
       "width": "auto"
      }
     },
     "90e131a582b148a281b579dd30a0edd5": {
      "model_module": "@jupyter-widgets/controls",
      "model_module_version": "1.5.0",
      "model_name": "ButtonModel",
      "state": {
       "description": "Show answer",
       "disabled": true,
       "layout": "IPY_MODEL_0f3b2e5a137d42eb9af4387659a6e690",
       "style": "IPY_MODEL_5ff3cd7b52f042dcaeaee99f220140f7"
      }
     },
     "917bc9865e2f4a919e02f036ecae0570": {
      "model_module": "@jupyter-widgets/controls",
      "model_module_version": "1.5.0",
      "model_name": "ButtonModel",
      "state": {
       "description": "Show answer",
       "disabled": true,
       "layout": "IPY_MODEL_3571e3ec182344cca384c2b48090d337",
       "style": "IPY_MODEL_1680ee6ced80411db7bfc335c1a2b810"
      }
     },
     "91d34b8e8d094fe6b30f73119ded514b": {
      "model_module": "@jupyter-widgets/controls",
      "model_module_version": "1.5.0",
      "model_name": "LabelModel",
      "state": {
       "layout": "IPY_MODEL_1a02d68d0add4031b436a7065c6383b1",
       "style": "IPY_MODEL_88e2a3ca7ef341ca9c51aca2f1030e31"
      }
     },
     "9295bdaaa49e4cadb478bfef14e51970": {
      "model_module": "@jupyter-widgets/controls",
      "model_module_version": "1.5.0",
      "model_name": "DescriptionStyleModel",
      "state": {
       "description_width": ""
      }
     },
     "92f9d962a94645dc93f990cc0ce477b9": {
      "model_module": "@jupyter-widgets/controls",
      "model_module_version": "1.5.0",
      "model_name": "HBoxModel",
      "state": {
       "children": [
        "IPY_MODEL_8f0761946e53476ca92854338beae42b",
        "IPY_MODEL_086fd7582eb743a1894cbf49f35ec7ca",
        "IPY_MODEL_b2d5e180a82d4cdaaa9385a95f3bf006"
       ],
       "layout": "IPY_MODEL_607703d849254716bdcd9ef6a0fd5eb5"
      }
     },
     "9329357aecb24743a164b72514c4f994": {
      "model_module": "@jupyter-widgets/controls",
      "model_module_version": "1.5.0",
      "model_name": "VBoxModel",
      "state": {
       "children": [
        "IPY_MODEL_e4519223dd3141f6b3a87cb984ae4e67",
        "IPY_MODEL_089076914c0d44219a95e069b1e0c424",
        "IPY_MODEL_9f98f04b025f43d5b146f1b198fe25f7",
        "IPY_MODEL_1bc340db5fc0468b8968c4b0f62b4808",
        "IPY_MODEL_32712e3bb7f44adcb470563386cd495f",
        "IPY_MODEL_76ed162101b24e848ea2f8c601198210"
       ],
       "layout": "IPY_MODEL_44721103977e475698fdfdc0d7dec313"
      }
     },
     "9353ed637b5a4ae996b5877e8db6a2b4": {
      "model_module": "@jupyter-widgets/base",
      "model_module_version": "1.2.0",
      "model_name": "LayoutModel",
      "state": {}
     },
     "93df77061d434c6caa7f3fccb8e5853e": {
      "model_module": "@jupyter-widgets/base",
      "model_module_version": "1.2.0",
      "model_name": "LayoutModel",
      "state": {
       "display": "flex",
       "flex_flow": "row",
       "justify_content": "space-between",
       "margin": "0 0 20px 0"
      }
     },
     "945a9f992f074bdcb1688230249ad184": {
      "model_module": "@jupyter-widgets/base",
      "model_module_version": "1.2.0",
      "model_name": "LayoutModel",
      "state": {
       "align_items": "stretch",
       "display": "flex",
       "flex_flow": "row wrap",
       "width": "auto"
      }
     },
     "95fa4ed3a1504653a42b3ceea580de29": {
      "model_module": "@jupyter-widgets/controls",
      "model_module_version": "1.5.0",
      "model_name": "ButtonModel",
      "state": {
       "description": "Submit",
       "layout": "IPY_MODEL_18d7c3383c554926a5239fbe3a43b8f9",
       "style": "IPY_MODEL_981d068ef9e445418da25c7fd4525d2f"
      }
     },
     "963cbddf065d46d69d038a45b31a0ed9": {
      "model_module": "@jupyter-widgets/controls",
      "model_module_version": "1.5.0",
      "model_name": "HBoxModel",
      "state": {
       "children": [
        "IPY_MODEL_0519e86d34a24b288fa5581ae4d2bd53"
       ],
       "layout": "IPY_MODEL_dc298f9f34d2484ea12a52be2cb1fa5e"
      }
     },
     "9640476bd9c9406baf403c1a9e1b105b": {
      "model_module": "@jupyter-widgets/base",
      "model_module_version": "1.2.0",
      "model_name": "LayoutModel",
      "state": {}
     },
     "97a01b5a77784cb08d6718974c053f70": {
      "model_module": "@jupyter-widgets/controls",
      "model_module_version": "1.5.0",
      "model_name": "DescriptionStyleModel",
      "state": {
       "description_width": ""
      }
     },
     "981d068ef9e445418da25c7fd4525d2f": {
      "model_module": "@jupyter-widgets/controls",
      "model_module_version": "1.5.0",
      "model_name": "ButtonStyleModel",
      "state": {
       "button_color": "#4DD0E1"
      }
     },
     "987ec9bc712d4af984b79c007465aea1": {
      "model_module": "@jupyter-widgets/base",
      "model_module_version": "1.2.0",
      "model_name": "LayoutModel",
      "state": {
       "align_items": "stretch",
       "display": "flex",
       "flex_flow": "column",
       "width": "100%"
      }
     },
     "99584b6d5f6043d5a35990555d4e9d6a": {
      "model_module": "@jupyter-widgets/controls",
      "model_module_version": "1.5.0",
      "model_name": "ButtonModel",
      "state": {
       "description": "Show answer",
       "disabled": true,
       "layout": "IPY_MODEL_41e3c80333274bca9f306279ed376e99",
       "style": "IPY_MODEL_1064c0918a4e44bbb3f0014c9697f9d6"
      }
     },
     "99b2941657d54ef8bfadf6612584a204": {
      "model_module": "@jupyter-widgets/base",
      "model_module_version": "1.2.0",
      "model_name": "LayoutModel",
      "state": {
       "align_items": "stretch",
       "display": "flex",
       "flex_flow": "row wrap",
       "width": "auto"
      }
     },
     "99c7623a0c314be0b2aa68dddceae09c": {
      "model_module": "@jupyter-widgets/controls",
      "model_module_version": "1.5.0",
      "model_name": "HTMLModel",
      "state": {
       "layout": "IPY_MODEL_4f5d20cc23954d4e8e91a6e85e836ac6",
       "style": "IPY_MODEL_dcae3bf3f75b4885a1114f3a908bd87a",
       "value": "<style>p{word-wrap: break-word}</style> <p>The base case is only when both strings have length 0 </p>"
      }
     },
     "99fce619e2184f05ad53b6360bc89b25": {
      "model_module": "@jupyter-widgets/base",
      "model_module_version": "1.2.0",
      "model_name": "LayoutModel",
      "state": {}
     },
     "9af3d66812e04841b2bd10ec8b5bb8f1": {
      "model_module": "@jupyter-widgets/base",
      "model_module_version": "1.2.0",
      "model_name": "LayoutModel",
      "state": {}
     },
     "9b4bb5e475264a2ab038751a8e6714e5": {
      "model_module": "@jupyter-widgets/controls",
      "model_module_version": "1.5.0",
      "model_name": "HTMLModel",
      "state": {
       "layout": "IPY_MODEL_878a54eabeb04bcc89ff4480b731259f",
       "style": "IPY_MODEL_19baf2da36144647b0456c4b5e7332ec",
       "value": "<style>p{word-wrap: break-word}</style> <p>Find the longest common substring </p>"
      }
     },
     "9b64d8fe3507414893fb53b63e0e4934": {
      "model_module": "@jupyter-widgets/base",
      "model_module_version": "1.2.0",
      "model_name": "LayoutModel",
      "state": {
       "display": "flex",
       "flex_flow": "row",
       "justify_content": "space-between",
       "margin": "0 0 20px 0"
      }
     },
     "9bf63e98f9dd4e94bc770627aa4f3c79": {
      "model_module": "@jupyter-widgets/controls",
      "model_module_version": "1.5.0",
      "model_name": "DescriptionStyleModel",
      "state": {
       "description_width": ""
      }
     },
     "9ca50ef520f345cdabcdff51d03305ee": {
      "model_module": "@jupyter-widgets/base",
      "model_module_version": "1.2.0",
      "model_name": "LayoutModel",
      "state": {
       "width": "30px"
      }
     },
     "9cb2349ec9764dc9876cd069287dbb53": {
      "model_module": "@jupyter-widgets/base",
      "model_module_version": "1.2.0",
      "model_name": "LayoutModel",
      "state": {}
     },
     "9cc4366cb47544219e3eaf539d6ba4b6": {
      "model_module": "@jupyter-widgets/base",
      "model_module_version": "1.2.0",
      "model_name": "LayoutModel",
      "state": {
       "width": "30px"
      }
     },
     "9d8593cbb2f44177a9f7c2cd3b20034d": {
      "model_module": "@jupyter-widgets/controls",
      "model_module_version": "1.5.0",
      "model_name": "DescriptionStyleModel",
      "state": {
       "description_width": ""
      }
     },
     "9df8bd00336141469b66054c9fe62ef7": {
      "model_module": "@jupyter-widgets/base",
      "model_module_version": "1.2.0",
      "model_name": "LayoutModel",
      "state": {}
     },
     "9e596cd77b5c42849b089a74e6356d13": {
      "model_module": "@jupyter-widgets/controls",
      "model_module_version": "1.5.0",
      "model_name": "HTMLModel",
      "state": {
       "layout": "IPY_MODEL_a4e8305dbf864566bd473a94a16a04ac",
       "style": "IPY_MODEL_11bee409cd7643e9a3d89d341390830a",
       "value": "<style>p{word-wrap: break-word}</style> <p>LCS('ab', 'b') </p>"
      }
     },
     "9f7b9d36d9b74bfeae4967bc49902ed0": {
      "model_module": "@jupyter-widgets/controls",
      "model_module_version": "1.5.0",
      "model_name": "DescriptionStyleModel",
      "state": {
       "description_width": ""
      }
     },
     "9f98f04b025f43d5b146f1b198fe25f7": {
      "model_module": "@jupyter-widgets/controls",
      "model_module_version": "1.5.0",
      "model_name": "HBoxModel",
      "state": {
       "children": [
        "IPY_MODEL_f58d0f12d621485faef47e884d0a9ec4",
        "IPY_MODEL_faf13d55b3e24dda98d2ac5e6dc865ce"
       ],
       "layout": "IPY_MODEL_f83930549f824d80b93df44fa04df790"
      }
     },
     "a01b9365ec884498a8b6d0efd2891ac6": {
      "model_module": "@jupyter-widgets/controls",
      "model_module_version": "1.5.0",
      "model_name": "HBoxModel",
      "state": {
       "children": [
        "IPY_MODEL_f54f1ec4ca6e4706bb123382564f34bb"
       ],
       "layout": "IPY_MODEL_25664bed73c7418f9b21726405f32be5"
      }
     },
     "a04c2c686f134f32b517bdb4ad81a401": {
      "model_module": "@jupyter-widgets/controls",
      "model_module_version": "1.5.0",
      "model_name": "LabelModel",
      "state": {
       "layout": "IPY_MODEL_6bf53eb7a4ee4150b45e0c117af47d6b",
       "style": "IPY_MODEL_40d23136e45e4de6ac33a84d0d7df3ad"
      }
     },
     "a094b31c52a945cf84f4479cb060f11a": {
      "model_module": "@jupyter-widgets/base",
      "model_module_version": "1.2.0",
      "model_name": "LayoutModel",
      "state": {}
     },
     "a1a8854a8b7c4cd79c929c72ba7ed60e": {
      "model_module": "@jupyter-widgets/base",
      "model_module_version": "1.2.0",
      "model_name": "LayoutModel",
      "state": {
       "align_items": "stretch",
       "display": "flex",
       "flex_flow": "column",
       "width": "100%"
      }
     },
     "a2cd578cbc8344ac80ce956ed7aa246e": {
      "model_module": "@jupyter-widgets/controls",
      "model_module_version": "1.5.0",
      "model_name": "DescriptionStyleModel",
      "state": {
       "description_width": ""
      }
     },
     "a3925334269343d8a41d2484523cd71d": {
      "model_module": "@jupyter-widgets/controls",
      "model_module_version": "1.5.0",
      "model_name": "LabelModel",
      "state": {
       "layout": "IPY_MODEL_fe64b26068044e7cae72499e04933e48",
       "style": "IPY_MODEL_f1a65c5168da4f60ae8816b5fe501d07"
      }
     },
     "a3f138727ed14780bd535ccebd356465": {
      "model_module": "@jupyter-widgets/controls",
      "model_module_version": "1.5.0",
      "model_name": "VBoxModel",
      "state": {
       "box_style": "info",
       "children": [
        "IPY_MODEL_c5d944ab8d3645de88defde010f8890e",
        "IPY_MODEL_9329357aecb24743a164b72514c4f994",
        "IPY_MODEL_7b6dd24fd451419e83595591a4fd5f65"
       ],
       "layout": "IPY_MODEL_5bea70ebd32c4c9197bdd178b78e2bb1"
      }
     },
     "a4113c5b70364cc596039efc7d983c7c": {
      "model_module": "@jupyter-widgets/base",
      "model_module_version": "1.2.0",
      "model_name": "LayoutModel",
      "state": {
       "align_items": "stretch",
       "display": "flex",
       "flex_flow": "row wrap",
       "width": "auto"
      }
     },
     "a44a3f72016944418e424370ead10014": {
      "model_module": "@jupyter-widgets/controls",
      "model_module_version": "1.5.0",
      "model_name": "CheckboxModel",
      "state": {
       "disabled": false,
       "layout": "IPY_MODEL_312f88bedbd64fca91bb8b20655a1b21",
       "style": "IPY_MODEL_2b0f93f3e1f9493bad90830be5e58652",
       "value": false
      }
     },
     "a4ab82f08a3646a5b391c1c4465068ab": {
      "model_module": "@jupyter-widgets/controls",
      "model_module_version": "1.5.0",
      "model_name": "HTMLModel",
      "state": {
       "layout": "IPY_MODEL_81aab6df8a84491288f937f809d7bf69",
       "style": "IPY_MODEL_5053ed79ac0346c5bf1c94974a5b8378",
       "value": "<style>p{word-wrap: break-word}</style> <p>The length of the longest common subsequence between an empty string '' and 'abcdef' is:  </p>"
      }
     },
     "a4e8305dbf864566bd473a94a16a04ac": {
      "model_module": "@jupyter-widgets/base",
      "model_module_version": "1.2.0",
      "model_name": "LayoutModel",
      "state": {}
     },
     "a55ff91a9d094b7c8841bac6dce47873": {
      "model_module": "@jupyter-widgets/controls",
      "model_module_version": "1.5.0",
      "model_name": "LabelModel",
      "state": {
       "layout": "IPY_MODEL_dec13a0069ac4b92af4a9bb2162a5299",
       "style": "IPY_MODEL_39cf04c5864b45c9a6271d4e0659ed02"
      }
     },
     "a59ab987245349eab61c55c67fff91b1": {
      "model_module": "@jupyter-widgets/base",
      "model_module_version": "1.2.0",
      "model_name": "LayoutModel",
      "state": {}
     },
     "a60c8e38da884894828dbf11d8f6783b": {
      "model_module": "@jupyter-widgets/base",
      "model_module_version": "1.2.0",
      "model_name": "LayoutModel",
      "state": {
       "align_items": "stretch",
       "display": "flex",
       "flex_flow": "row wrap",
       "width": "auto"
      }
     },
     "a6983bbb040e4787b0d5a0e472a9f783": {
      "model_module": "@jupyter-widgets/base",
      "model_module_version": "1.2.0",
      "model_name": "LayoutModel",
      "state": {}
     },
     "a6985783a41643d6b8d0dac99bd56325": {
      "model_module": "@jupyter-widgets/controls",
      "model_module_version": "1.5.0",
      "model_name": "ButtonStyleModel",
      "state": {
       "button_color": "#4DD0E1"
      }
     },
     "a6debd478b904ae0a9dbc30b49fb4d27": {
      "model_module": "@jupyter-widgets/controls",
      "model_module_version": "1.5.0",
      "model_name": "HBoxModel",
      "state": {
       "children": [
        "IPY_MODEL_6ce70c22846c43d8b3e923b918b431a9",
        "IPY_MODEL_767612a0dc1b4cbb95fddf0fcfca9159"
       ],
       "layout": "IPY_MODEL_b0b411ef4910481693514d4c320df1be"
      }
     },
     "a7e8f610826942ed99bce688eecd6821": {
      "model_module": "@jupyter-widgets/base",
      "model_module_version": "1.2.0",
      "model_name": "LayoutModel",
      "state": {}
     },
     "a7f4dba49d2c447f82fd7fc98a38d160": {
      "model_module": "@jupyter-widgets/controls",
      "model_module_version": "1.5.0",
      "model_name": "HBoxModel",
      "state": {
       "children": [
        "IPY_MODEL_7e1fd5d29cd6415db2746dc8228122af",
        "IPY_MODEL_34eb73b935174a5ca3bb6936056c8926"
       ],
       "layout": "IPY_MODEL_c1ce125e8873493588a7f3ce82be972f"
      }
     },
     "a824913f85f0467ab80f2f7d5c2d881d": {
      "model_module": "@jupyter-widgets/controls",
      "model_module_version": "1.5.0",
      "model_name": "DescriptionStyleModel",
      "state": {
       "description_width": ""
      }
     },
     "a9033dae42ed491d8d6e8c6c50cfe1e9": {
      "model_module": "@jupyter-widgets/base",
      "model_module_version": "1.2.0",
      "model_name": "LayoutModel",
      "state": {}
     },
     "a9ab8ea0a68042099bc75d12fe69a4c0": {
      "model_module": "@jupyter-widgets/controls",
      "model_module_version": "1.5.0",
      "model_name": "HBoxModel",
      "state": {
       "children": [
        "IPY_MODEL_fda5f4235afc47258e60910e4547e9d8",
        "IPY_MODEL_99c7623a0c314be0b2aa68dddceae09c"
       ],
       "layout": "IPY_MODEL_e858479fc3a0488ab6653fc240e1f4b5"
      }
     },
     "aaee143bd1744ce6b85c788f3a3c60a0": {
      "model_module": "@jupyter-widgets/base",
      "model_module_version": "1.2.0",
      "model_name": "LayoutModel",
      "state": {
       "height": "50%",
       "margin": "0 0 0 30px",
       "width": "50%"
      }
     },
     "ab0d1514dfca44f59acefa51dab2c7b5": {
      "model_module": "@jupyter-widgets/controls",
      "model_module_version": "1.5.0",
      "model_name": "DescriptionStyleModel",
      "state": {
       "description_width": ""
      }
     },
     "ab3cdf8990774b3ba0da3820c5b9e8ca": {
      "model_module": "@jupyter-widgets/controls",
      "model_module_version": "1.5.0",
      "model_name": "DescriptionStyleModel",
      "state": {
       "description_width": ""
      }
     },
     "ab3d33fc985d41cb96f99f096f9a1635": {
      "model_module": "@jupyter-widgets/controls",
      "model_module_version": "1.5.0",
      "model_name": "VBoxModel",
      "state": {
       "box_style": "info",
       "children": [
        "IPY_MODEL_c6a6ddf7996b42daa2c0b52a0204357f",
        "IPY_MODEL_1af2c7d25b8c47de9febdf407a9284c6",
        "IPY_MODEL_60a6217bdc1c446aaafe507b25836aa4"
       ],
       "layout": "IPY_MODEL_803035f7944b4bc4be9d5923a3abfecb"
      }
     },
     "ab4c29b8e4c241618222444e67b0801c": {
      "model_module": "@jupyter-widgets/base",
      "model_module_version": "1.2.0",
      "model_name": "LayoutModel",
      "state": {
       "align_items": "stretch",
       "display": "flex",
       "flex_flow": "row wrap",
       "width": "auto"
      }
     },
     "ab4d3133e6374d118db6c51ed59f3750": {
      "model_module": "@jupyter-widgets/controls",
      "model_module_version": "1.5.0",
      "model_name": "DescriptionStyleModel",
      "state": {
       "description_width": ""
      }
     },
     "abaeb8ac50a941b694492a550edd3bf9": {
      "model_module": "@jupyter-widgets/controls",
      "model_module_version": "1.5.0",
      "model_name": "HTMLModel",
      "state": {
       "layout": "IPY_MODEL_617792ea72d349af8050b85939f07b9b",
       "style": "IPY_MODEL_a824913f85f0467ab80f2f7d5c2d881d",
       "value": "<style>p{word-wrap: break-word}</style> <p>The recurrence relation finds the maximum over 3 values. </p>"
      }
     },
     "abb245cacc6b48c5ada07acacad59024": {
      "model_module": "@jupyter-widgets/controls",
      "model_module_version": "1.5.0",
      "model_name": "TextModel",
      "state": {
       "layout": "IPY_MODEL_c5f3f09cff094c0d8e39cdad25a15126",
       "placeholder": "",
       "style": "IPY_MODEL_592c8ce10c6a411b9cceabbf0eb90ded"
      }
     },
     "abc330af02e742c5bb6491ee76686f74": {
      "model_module": "@jupyter-widgets/controls",
      "model_module_version": "1.5.0",
      "model_name": "HTMLModel",
      "state": {
       "layout": "IPY_MODEL_e5bf681d667a48dc93173d2b8803fbf8",
       "style": "IPY_MODEL_43459d8fd1124f98bb8dc765c786d99c",
       "value": "<style>p{word-wrap: break-word}</style> <p>It has a length of </p>"
      }
     },
     "abe59e0ef6064fb386a1898c8b7417a6": {
      "model_module": "@jupyter-widgets/controls",
      "model_module_version": "1.5.0",
      "model_name": "DescriptionStyleModel",
      "state": {
       "description_width": ""
      }
     },
     "abfa958a7eef48e48627d3bfbdf7c2fe": {
      "model_module": "@jupyter-widgets/controls",
      "model_module_version": "1.5.0",
      "model_name": "LabelModel",
      "state": {
       "layout": "IPY_MODEL_d1d3499846e14ce5a7c14fe6af3143f7",
       "style": "IPY_MODEL_8a3479228a8c4c3e98c79e7e23d94346"
      }
     },
     "ac978c3c3378470d83191273f6afd85b": {
      "model_module": "@jupyter-widgets/controls",
      "model_module_version": "1.5.0",
      "model_name": "LabelModel",
      "state": {
       "layout": "IPY_MODEL_90088d1a3c6a4d54b98196d9a68534eb",
       "style": "IPY_MODEL_6d9d291e112e45ed945abbaf57f9eb46"
      }
     },
     "ad1d565d9e1b47a6abf7f7889ca88725": {
      "model_module": "@jupyter-widgets/controls",
      "model_module_version": "1.5.0",
      "model_name": "HBoxModel",
      "state": {
       "children": [
        "IPY_MODEL_4da340949269442c9133a0860fcb7947",
        "IPY_MODEL_2008a252634345b5829b39430edbd8be",
        "IPY_MODEL_d23f259b5d424d5e8a9cd2714672b332"
       ],
       "layout": "IPY_MODEL_4c438f6f2613410b972dd8b668c48f63"
      }
     },
     "ad4592d0585a4378af1ae70506084e70": {
      "model_module": "@jupyter-widgets/base",
      "model_module_version": "1.2.0",
      "model_name": "LayoutModel",
      "state": {}
     },
     "ae01c4fedd484238b6742af5b832d5d5": {
      "model_module": "@jupyter-widgets/controls",
      "model_module_version": "1.5.0",
      "model_name": "CheckboxModel",
      "state": {
       "disabled": false,
       "layout": "IPY_MODEL_de39c80fa06a4fd48c7993e279a7d494",
       "style": "IPY_MODEL_d5cbe347ea6240fe983b8b394d85e1d8",
       "value": false
      }
     },
     "aec7d88a71a540cc8f6b832a0441247a": {
      "model_module": "@jupyter-widgets/controls",
      "model_module_version": "1.5.0",
      "model_name": "HTMLModel",
      "state": {
       "layout": "IPY_MODEL_56028242ba7f4bb9bde0493b6fa6b7f9",
       "style": "IPY_MODEL_85e1648948ee4efeb9cab008df7ebea7",
       "value": "<style>p{word-wrap: break-word}</style> <p> </p>"
      }
     },
     "b0b1d275001f4dd6b9296f311ef19b95": {
      "model_module": "@jupyter-widgets/controls",
      "model_module_version": "1.5.0",
      "model_name": "HTMLModel",
      "state": {
       "layout": "IPY_MODEL_b2aabba77a294bca87eb8b7bea08c9c9",
       "style": "IPY_MODEL_f33d568e8cb5480ca170e4fef4891127",
       "value": "<style>p{word-wrap: break-word}</style> <p>. </p>"
      }
     },
     "b0b411ef4910481693514d4c320df1be": {
      "model_module": "@jupyter-widgets/base",
      "model_module_version": "1.2.0",
      "model_name": "LayoutModel",
      "state": {
       "align_items": "stretch",
       "display": "flex",
       "flex_flow": "row wrap",
       "width": "auto"
      }
     },
     "b11bb2aedf804a7c8dab512abf229aa3": {
      "model_module": "@jupyter-widgets/controls",
      "model_module_version": "1.5.0",
      "model_name": "DescriptionStyleModel",
      "state": {
       "description_width": ""
      }
     },
     "b1cab9689866476180d28736b2157058": {
      "model_module": "@jupyter-widgets/controls",
      "model_module_version": "1.5.0",
      "model_name": "LabelModel",
      "state": {
       "layout": "IPY_MODEL_99fce619e2184f05ad53b6360bc89b25",
       "style": "IPY_MODEL_fbf4d3ad44ee48498c60920457525dbf"
      }
     },
     "b2aabba77a294bca87eb8b7bea08c9c9": {
      "model_module": "@jupyter-widgets/base",
      "model_module_version": "1.2.0",
      "model_name": "LayoutModel",
      "state": {}
     },
     "b2d5e180a82d4cdaaa9385a95f3bf006": {
      "model_module": "@jupyter-widgets/controls",
      "model_module_version": "1.5.0",
      "model_name": "HBoxModel",
      "state": {
       "children": [
        "IPY_MODEL_77e312a2f9674cb8a9022361959e25a3",
        "IPY_MODEL_1c9dc7757f064e678b94fa855f8163ec",
        "IPY_MODEL_7714da771ce54ea5b3ad1c1a6701e78f"
       ],
       "layout": "IPY_MODEL_ba837dd29feb49f780d07465aff8cb91"
      }
     },
     "b51e4cc1b801467b9a51748e58cac4c4": {
      "model_module": "@jupyter-widgets/base",
      "model_module_version": "1.2.0",
      "model_name": "LayoutModel",
      "state": {}
     },
     "b55b474f36e744aaaca1f773adad52f7": {
      "model_module": "@jupyter-widgets/base",
      "model_module_version": "1.2.0",
      "model_name": "LayoutModel",
      "state": {
       "align_items": "stretch",
       "display": "flex",
       "flex_flow": "row wrap",
       "margin": "30px 0 0 0"
      }
     },
     "b5f24b1c51d0474486ec96db16df198d": {
      "model_module": "@jupyter-widgets/base",
      "model_module_version": "1.2.0",
      "model_name": "LayoutModel",
      "state": {}
     },
     "b62a212f214a44b5a7cb592780c55898": {
      "model_module": "@jupyter-widgets/controls",
      "model_module_version": "1.5.0",
      "model_name": "TextModel",
      "state": {
       "layout": "IPY_MODEL_7409ffb59b2645828a2821bc4c572ba2",
       "placeholder": "",
       "style": "IPY_MODEL_ab4d3133e6374d118db6c51ed59f3750"
      }
     },
     "b62ea068193344f4a131faa4e80a5358": {
      "model_module": "@jupyter-widgets/controls",
      "model_module_version": "1.5.0",
      "model_name": "DescriptionStyleModel",
      "state": {
       "description_width": ""
      }
     },
     "b66970b4a3b44e67b583212c1aa21d68": {
      "model_module": "@jupyter-widgets/base",
      "model_module_version": "1.2.0",
      "model_name": "LayoutModel",
      "state": {
       "width": "auto"
      }
     },
     "b688cf38eb0e43c985998ef213f5acc5": {
      "model_module": "@jupyter-widgets/controls",
      "model_module_version": "1.5.0",
      "model_name": "TextModel",
      "state": {
       "layout": "IPY_MODEL_1188fd7652f045a18856fa4e146e1556",
       "placeholder": "",
       "style": "IPY_MODEL_21df27e8695f407185cb2e03c306def4"
      }
     },
     "b6f37527f3b243478335aebd2f4ca4c3": {
      "model_module": "@jupyter-widgets/controls",
      "model_module_version": "1.5.0",
      "model_name": "DescriptionStyleModel",
      "state": {
       "description_width": ""
      }
     },
     "b7c1985fad1e4568a3dbf34bc9253832": {
      "model_module": "@jupyter-widgets/controls",
      "model_module_version": "1.5.0",
      "model_name": "ButtonStyleModel",
      "state": {
       "button_color": "#4DD0E1"
      }
     },
     "b7e612dd1f5a4577ac1d3107ca122804": {
      "model_module": "@jupyter-widgets/base",
      "model_module_version": "1.2.0",
      "model_name": "LayoutModel",
      "state": {
       "align_items": "stretch",
       "display": "flex",
       "flex_flow": "row wrap",
       "width": "auto"
      }
     },
     "b90395cd5bdb44ed82185ff90a2747a6": {
      "model_module": "@jupyter-widgets/controls",
      "model_module_version": "1.5.0",
      "model_name": "HBoxModel",
      "state": {
       "children": [
        "IPY_MODEL_81290dc915014927995218bb43428216",
        "IPY_MODEL_a3925334269343d8a41d2484523cd71d",
        "IPY_MODEL_7213a96c9ab6440fafad4072c182fe23"
       ],
       "layout": "IPY_MODEL_822e6972fa5046b783d7a43c4c49845c"
      }
     },
     "b927ffeb21ba47d6b086cf8302bbefab": {
      "model_module": "@jupyter-widgets/controls",
      "model_module_version": "1.5.0",
      "model_name": "DescriptionStyleModel",
      "state": {
       "description_width": ""
      }
     },
     "b964314c83ec47f7b6a80eccef28a8f2": {
      "model_module": "@jupyter-widgets/controls",
      "model_module_version": "1.5.0",
      "model_name": "DescriptionStyleModel",
      "state": {
       "description_width": ""
      }
     },
     "b9b0c1dc5b8649738e839c3cd33b9b24": {
      "model_module": "@jupyter-widgets/base",
      "model_module_version": "1.2.0",
      "model_name": "LayoutModel",
      "state": {
       "width": "30px"
      }
     },
     "b9eb0d2abd3244eab66113b1add6bce9": {
      "model_module": "@jupyter-widgets/controls",
      "model_module_version": "1.5.0",
      "model_name": "DescriptionStyleModel",
      "state": {
       "description_width": ""
      }
     },
     "ba837dd29feb49f780d07465aff8cb91": {
      "model_module": "@jupyter-widgets/base",
      "model_module_version": "1.2.0",
      "model_name": "LayoutModel",
      "state": {
       "align_items": "stretch",
       "display": "flex",
       "flex_flow": "row wrap",
       "width": "auto"
      }
     },
     "bae1c54d04424f1abf7969318677ecb3": {
      "model_module": "@jupyter-widgets/controls",
      "model_module_version": "1.5.0",
      "model_name": "HTMLModel",
      "state": {
       "layout": "IPY_MODEL_ea981eadd51b49869953999dd866ad58",
       "style": "IPY_MODEL_dd7786d4d2c143558886bf7ad1361ea0",
       "value": "<style>p{word-wrap: break-word}</style> <p>Start by considering all the ways you can find longest common subsequences. </p>"
      }
     },
     "bc20d8cfc7ab4ff68d9e7ba81cd66e41": {
      "model_module": "@jupyter-widgets/base",
      "model_module_version": "1.2.0",
      "model_name": "LayoutModel",
      "state": {
       "width": "30px"
      }
     },
     "bc9295a2dc504a47813939c934fe21db": {
      "model_module": "@jupyter-widgets/controls",
      "model_module_version": "1.5.0",
      "model_name": "DescriptionStyleModel",
      "state": {
       "description_width": ""
      }
     },
     "bcb3d3346d5640bdb2f6da3e881ee761": {
      "model_module": "@jupyter-widgets/base",
      "model_module_version": "1.2.0",
      "model_name": "LayoutModel",
      "state": {
       "align_items": "stretch",
       "display": "flex",
       "flex_flow": "row wrap",
       "width": "auto"
      }
     },
     "bd25c2d913854b15a54b35c62a65c31e": {
      "model_module": "@jupyter-widgets/controls",
      "model_module_version": "1.5.0",
      "model_name": "ButtonStyleModel",
      "state": {
       "button_color": "#4DD0E1"
      }
     },
     "be37d77acda54f03aa838188496869bf": {
      "model_module": "@jupyter-widgets/base",
      "model_module_version": "1.2.0",
      "model_name": "LayoutModel",
      "state": {
       "width": "30px"
      }
     },
     "bf83e59abb1c4dd6b93d3aa0d3000d5b": {
      "model_module": "@jupyter-widgets/controls",
      "model_module_version": "1.5.0",
      "model_name": "HTMLModel",
      "state": {
       "layout": "IPY_MODEL_6019fd8153f94bea9cddc1a66de4a9dc",
       "style": "IPY_MODEL_23551c6062664de5b8c0167f2ea60b5e",
       "value": "<style>p{word-wrap: break-word}</style> <p>LCS('ab', 'a') </p>"
      }
     },
     "c049da1d5d7b4b19a2df458072fbfb5b": {
      "model_module": "@jupyter-widgets/base",
      "model_module_version": "1.2.0",
      "model_name": "LayoutModel",
      "state": {
       "width": "30px"
      }
     },
     "c0cc106afcee46e1a1dc2900f833a9aa": {
      "model_module": "@jupyter-widgets/controls",
      "model_module_version": "1.5.0",
      "model_name": "DescriptionStyleModel",
      "state": {
       "description_width": ""
      }
     },
     "c13cc27fb41046d4a22e9c1ca7363265": {
      "model_module": "@jupyter-widgets/controls",
      "model_module_version": "1.5.0",
      "model_name": "DescriptionStyleModel",
      "state": {
       "description_width": ""
      }
     },
     "c1434157deed4d52b28430d8f59a5f42": {
      "model_module": "@jupyter-widgets/base",
      "model_module_version": "1.2.0",
      "model_name": "LayoutModel",
      "state": {
       "width": "30px"
      }
     },
     "c16ed22db20241e688be0c08355ffb38": {
      "model_module": "@jupyter-widgets/controls",
      "model_module_version": "1.5.0",
      "model_name": "TextModel",
      "state": {
       "layout": "IPY_MODEL_782a93bab6ee46309c4400d3640e172a",
       "placeholder": "",
       "style": "IPY_MODEL_f7830b9e3a9e4560941f9eea435b5674"
      }
     },
     "c1b8131ddeab4348880a6afa32e67526": {
      "model_module": "@jupyter-widgets/controls",
      "model_module_version": "1.5.0",
      "model_name": "LabelModel",
      "state": {
       "layout": "IPY_MODEL_3557379f040c46e5bc73c468705bb4c4",
       "style": "IPY_MODEL_d0176933b55f46dea22690716966b54a"
      }
     },
     "c1ce125e8873493588a7f3ce82be972f": {
      "model_module": "@jupyter-widgets/base",
      "model_module_version": "1.2.0",
      "model_name": "LayoutModel",
      "state": {
       "align_items": "stretch",
       "display": "flex",
       "flex_flow": "row wrap",
       "width": "auto"
      }
     },
     "c3935f044a7d42c2b935da24ecd4d9df": {
      "model_module": "@jupyter-widgets/controls",
      "model_module_version": "1.5.0",
      "model_name": "HTMLModel",
      "state": {
       "layout": "IPY_MODEL_f63d5eb1e5234e879a157d91ab0385d0",
       "style": "IPY_MODEL_d5c249167b1d45f98b280a9b9eb7dc1e",
       "value": "<style>p{word-wrap: break-word}</style> <p>. </p>"
      }
     },
     "c3a9f6b7f1b646c2b4f9ddf2927b9ea6": {
      "model_module": "@jupyter-widgets/base",
      "model_module_version": "1.2.0",
      "model_name": "LayoutModel",
      "state": {}
     },
     "c3b1624b588346b2912b075b147096dc": {
      "model_module": "@jupyter-widgets/controls",
      "model_module_version": "1.5.0",
      "model_name": "DescriptionStyleModel",
      "state": {
       "description_width": ""
      }
     },
     "c44ae3173e264526a0a82b3520b35a45": {
      "model_module": "@jupyter-widgets/controls",
      "model_module_version": "1.5.0",
      "model_name": "HBoxModel",
      "state": {
       "children": [
        "IPY_MODEL_1416b262a6bc4c85a1c11e5a9d21fed3",
        "IPY_MODEL_fea2fd1f7a254bb1818431cc2dc14566"
       ],
       "layout": "IPY_MODEL_390d4aa5e662487080d404d2e56daefe"
      }
     },
     "c4f90869ee35417fbc2d64f7ccb65f14": {
      "model_module": "@jupyter-widgets/base",
      "model_module_version": "1.2.0",
      "model_name": "LayoutModel",
      "state": {
       "align_items": "stretch",
       "display": "flex",
       "flex_flow": "row wrap",
       "width": "auto"
      }
     },
     "c504420b11f348df87ecc84b647ccb57": {
      "model_module": "@jupyter-widgets/controls",
      "model_module_version": "1.5.0",
      "model_name": "DescriptionStyleModel",
      "state": {
       "description_width": ""
      }
     },
     "c5cd3474e00f421fa2b0bbb1242dd870": {
      "model_module": "@jupyter-widgets/base",
      "model_module_version": "1.2.0",
      "model_name": "LayoutModel",
      "state": {}
     },
     "c5d944ab8d3645de88defde010f8890e": {
      "model_module": "@jupyter-widgets/controls",
      "model_module_version": "1.5.0",
      "model_name": "HBoxModel",
      "state": {
       "children": [
        "IPY_MODEL_310996621ea045459d1724ecdcdd81b9"
       ],
       "layout": "IPY_MODEL_8f62129daa524b7e92c283593df88cfa"
      }
     },
     "c5f3f09cff094c0d8e39cdad25a15126": {
      "model_module": "@jupyter-widgets/base",
      "model_module_version": "1.2.0",
      "model_name": "LayoutModel",
      "state": {
       "width": "auto"
      }
     },
     "c618c06d258f44d19998d5a107ad51e2": {
      "model_module": "@jupyter-widgets/controls",
      "model_module_version": "1.5.0",
      "model_name": "DescriptionStyleModel",
      "state": {
       "description_width": "initial"
      }
     },
     "c626d88d14744940a0b6adc2c3b5eeb2": {
      "model_module": "@jupyter-widgets/controls",
      "model_module_version": "1.5.0",
      "model_name": "HTMLModel",
      "state": {
       "layout": "IPY_MODEL_7475d365b31c414b86889fca169a0c3c",
       "style": "IPY_MODEL_28835871497a4b9fb9be3155fd0253cf",
       "value": "<style>p{word-wrap: break-word}</style> <p>LCS('a', '') </p>"
      }
     },
     "c68bc00c67fa46269c6efd3e22396232": {
      "model_module": "@jupyter-widgets/controls",
      "model_module_version": "1.5.0",
      "model_name": "HTMLModel",
      "state": {
       "layout": "IPY_MODEL_e08ac801029048b3864709251a1ab9af",
       "style": "IPY_MODEL_4839a0ad150b437f8e3845363e5a19cf",
       "value": "<style>p{word-wrap: break-word}</style> <p>How many cells are filled for the input X='abc' and Y='xbc'? </p>"
      }
     },
     "c68f01e8f4b744edab5ae8c40e17f2fb": {
      "model_module": "@jupyter-widgets/base",
      "model_module_version": "1.2.0",
      "model_name": "LayoutModel",
      "state": {}
     },
     "c6a6ddf7996b42daa2c0b52a0204357f": {
      "model_module": "@jupyter-widgets/controls",
      "model_module_version": "1.5.0",
      "model_name": "HBoxModel",
      "state": {
       "children": [
        "IPY_MODEL_e5bcb35d1fc9463f9a08289533ee0e85"
       ],
       "layout": "IPY_MODEL_de1ae9fdc39c4eda85febfcde5cd1ab1"
      }
     },
     "c799d71e54834d4ba390f87e235fc55f": {
      "model_module": "@jupyter-widgets/controls",
      "model_module_version": "1.5.0",
      "model_name": "DescriptionStyleModel",
      "state": {
       "description_width": ""
      }
     },
     "c8209293d0de4082b1cc5affdf6e9b17": {
      "model_module": "@jupyter-widgets/base",
      "model_module_version": "1.2.0",
      "model_name": "LayoutModel",
      "state": {}
     },
     "c84cfe42039045449666600b086203ae": {
      "model_module": "@jupyter-widgets/controls",
      "model_module_version": "1.5.0",
      "model_name": "HTMLModel",
      "state": {
       "layout": "IPY_MODEL_ad4592d0585a4378af1ae70506084e70",
       "style": "IPY_MODEL_0bb128e11efb4388b926e3e878372332",
       "value": "<style>p{word-wrap: break-word}</style> <p>How many cells are filled for the input X='abc' and Y='abx'? </p>"
      }
     },
     "c8961e88c4c14b0ba20fa9dfcb4304ff": {
      "model_module": "@jupyter-widgets/controls",
      "model_module_version": "1.5.0",
      "model_name": "HBoxModel",
      "state": {
       "children": [
        "IPY_MODEL_eab5a5e80e6b442489a28c3bdf7a3ed5",
        "IPY_MODEL_04db500d0bc9446993a522b1753d8152"
       ],
       "layout": "IPY_MODEL_fd544a53f98b45738a95d2e8e99a6294"
      }
     },
     "c9454504cba74962a9e61b3ae752c6ff": {
      "model_module": "@jupyter-widgets/controls",
      "model_module_version": "1.5.0",
      "model_name": "VBoxModel",
      "state": {
       "box_style": "info",
       "children": [
        "IPY_MODEL_324655b2a5c442c9aeb434eb1ce7c629",
        "IPY_MODEL_0ee0f907f5f74a09a853ae466a9e3ac2",
        "IPY_MODEL_8fd4903c85334f0893bf883de7e76841"
       ],
       "layout": "IPY_MODEL_251f7b3d02f847948bdf7471b2e05d32"
      }
     },
     "c9b1d8fa28d547ebb4afd7917c6c805e": {
      "model_module": "@jupyter-widgets/controls",
      "model_module_version": "1.5.0",
      "model_name": "DescriptionStyleModel",
      "state": {
       "description_width": ""
      }
     },
     "c9fb3953f8d747f890528969b4ee0e0e": {
      "model_module": "@jupyter-widgets/base",
      "model_module_version": "1.2.0",
      "model_name": "LayoutModel",
      "state": {
       "width": "30px"
      }
     },
     "ca5ee7c9b43f4c99a9d0d524b8eaaa26": {
      "model_module": "@jupyter-widgets/base",
      "model_module_version": "1.2.0",
      "model_name": "LayoutModel",
      "state": {
       "align_items": "stretch",
       "display": "flex",
       "flex_flow": "row wrap",
       "width": "auto"
      }
     },
     "ca7b6bb49e134c9499d05a5e5e944bbd": {
      "model_module": "@jupyter-widgets/controls",
      "model_module_version": "1.5.0",
      "model_name": "TextModel",
      "state": {
       "layout": "IPY_MODEL_132423782dfe49deb24c9305c81ec8e0",
       "placeholder": "",
       "style": "IPY_MODEL_dfccaa1afeb84f449e77c492c64149bb"
      }
     },
     "ca8dcfc1df5a4af78e6b810203e7944d": {
      "model_module": "@jupyter-widgets/base",
      "model_module_version": "1.2.0",
      "model_name": "LayoutModel",
      "state": {
       "height": "50%",
       "margin": "0 0 0 30px",
       "width": "50%"
      }
     },
     "cad4708732384ccb8cf823702c931910": {
      "model_module": "@jupyter-widgets/controls",
      "model_module_version": "1.5.0",
      "model_name": "DescriptionStyleModel",
      "state": {
       "description_width": ""
      }
     },
     "caf110a2289a477d8407068b1c0a3da9": {
      "model_module": "@jupyter-widgets/base",
      "model_module_version": "1.2.0",
      "model_name": "LayoutModel",
      "state": {}
     },
     "cb72fe73b93b4809bd52a2fcf620a28f": {
      "model_module": "@jupyter-widgets/controls",
      "model_module_version": "1.5.0",
      "model_name": "DescriptionStyleModel",
      "state": {
       "description_width": ""
      }
     },
     "cbd5bceed21b418cad469e0c129d59e5": {
      "model_module": "@jupyter-widgets/base",
      "model_module_version": "1.2.0",
      "model_name": "LayoutModel",
      "state": {
       "display": "none"
      }
     },
     "cd2560b52450480f93cf64bd0e3f0b48": {
      "model_module": "@jupyter-widgets/base",
      "model_module_version": "1.2.0",
      "model_name": "LayoutModel",
      "state": {
       "width": "auto"
      }
     },
     "cd6036142bc5455f9f99e67ea40013a0": {
      "model_module": "@jupyter-widgets/controls",
      "model_module_version": "1.5.0",
      "model_name": "CheckboxModel",
      "state": {
       "disabled": false,
       "layout": "IPY_MODEL_9ca50ef520f345cdabcdff51d03305ee",
       "style": "IPY_MODEL_21766c05f0b94f6ca6701144a3607755",
       "value": false
      }
     },
     "d0176933b55f46dea22690716966b54a": {
      "model_module": "@jupyter-widgets/controls",
      "model_module_version": "1.5.0",
      "model_name": "DescriptionStyleModel",
      "state": {
       "description_width": ""
      }
     },
     "d0ee95e40fd14f7f8f17cde5e2763949": {
      "model_module": "@jupyter-widgets/controls",
      "model_module_version": "1.5.0",
      "model_name": "HTMLModel",
      "state": {
       "layout": "IPY_MODEL_9640476bd9c9406baf403c1a9e1b105b",
       "style": "IPY_MODEL_cad4708732384ccb8cf823702c931910",
       "value": "<style>p{word-wrap: break-word}</style> <p>Find the lengths of all the common substrings. </p>"
      }
     },
     "d1d3499846e14ce5a7c14fe6af3143f7": {
      "model_module": "@jupyter-widgets/base",
      "model_module_version": "1.2.0",
      "model_name": "LayoutModel",
      "state": {}
     },
     "d23f259b5d424d5e8a9cd2714672b332": {
      "model_module": "@jupyter-widgets/controls",
      "model_module_version": "1.5.0",
      "model_name": "HTMLModel",
      "state": {
       "layout": "IPY_MODEL_175165bcdf2e4643b9e07fb87c2c72cb",
       "style": "IPY_MODEL_287bf0db4eb24fa6abd646d0ae64468a",
       "value": "<style>p{word-wrap: break-word}</style> <p>LCS('a', '') </p>"
      }
     },
     "d2631d73370e45d89174f4996f723620": {
      "model_module": "@jupyter-widgets/base",
      "model_module_version": "1.2.0",
      "model_name": "LayoutModel",
      "state": {}
     },
     "d28ccefcbe024827ad16f6f6e893e0f1": {
      "model_module": "@jupyter-widgets/controls",
      "model_module_version": "1.5.0",
      "model_name": "DescriptionStyleModel",
      "state": {
       "description_width": ""
      }
     },
     "d2b3b39fee2b4c21a97367dcffdf8616": {
      "model_module": "@jupyter-widgets/controls",
      "model_module_version": "1.5.0",
      "model_name": "CheckboxModel",
      "state": {
       "disabled": false,
       "layout": "IPY_MODEL_bc20d8cfc7ab4ff68d9e7ba81cd66e41",
       "style": "IPY_MODEL_669b29814e2443208c9ac38ad1db5c52",
       "value": false
      }
     },
     "d30609be73794913a6a4113058830120": {
      "model_module": "@jupyter-widgets/controls",
      "model_module_version": "1.5.0",
      "model_name": "HTMLModel",
      "state": {
       "layout": "IPY_MODEL_f983b42d214942edb04f128076a13d60",
       "style": "IPY_MODEL_4cb184d15c1a492db13b27bd65291135",
       "value": "<style>p{word-wrap: break-word}</style> <p>The base case is only when the 2nd string has length 0 </p>"
      }
     },
     "d32ad03768c3497095f967828152bb20": {
      "model_module": "@jupyter-widgets/controls",
      "model_module_version": "1.5.0",
      "model_name": "LabelModel",
      "state": {
       "layout": "IPY_MODEL_147c7f2928634166bb38c78e37cc72ed",
       "style": "IPY_MODEL_094eeb38e2a74285914c26787db4b537"
      }
     },
     "d4677db12fc9452f95d8d824fb08a329": {
      "model_module": "@jupyter-widgets/controls",
      "model_module_version": "1.5.0",
      "model_name": "HBoxModel",
      "state": {
       "children": [
        "IPY_MODEL_7b3e2c2792244c8caff675fdf19639be"
       ],
       "layout": "IPY_MODEL_43d91f9f91ba4826a61d2b8c056a5bc6"
      }
     },
     "d4c8169e51eb4f4a80d96e5eee2301ec": {
      "model_module": "@jupyter-widgets/controls",
      "model_module_version": "1.5.0",
      "model_name": "VBoxModel",
      "state": {
       "box_style": "info",
       "children": [
        "IPY_MODEL_a01b9365ec884498a8b6d0efd2891ac6",
        "IPY_MODEL_7d64c82f2a634e04ab5979683d6cdc27",
        "IPY_MODEL_b90395cd5bdb44ed82185ff90a2747a6"
       ],
       "layout": "IPY_MODEL_8051678447ec4e3ea05726b85ab02581"
      }
     },
     "d4d03099ef8147a596ac39d50a65c049": {
      "model_module": "@jupyter-widgets/base",
      "model_module_version": "1.2.0",
      "model_name": "LayoutModel",
      "state": {}
     },
     "d4dd8ace53274e8dbdd70eb2d547b89c": {
      "model_module": "@jupyter-widgets/base",
      "model_module_version": "1.2.0",
      "model_name": "LayoutModel",
      "state": {}
     },
     "d585ae5086954b91829a149fd1e78d1a": {
      "model_module": "@jupyter-widgets/base",
      "model_module_version": "1.2.0",
      "model_name": "LayoutModel",
      "state": {
       "align_items": "stretch",
       "display": "flex",
       "flex_flow": "row wrap",
       "margin": "30px 0 0 0"
      }
     },
     "d59a565123e24c4ba305d322fd1f64c8": {
      "model_module": "@jupyter-widgets/base",
      "model_module_version": "1.2.0",
      "model_name": "LayoutModel",
      "state": {
       "align_items": "stretch",
       "display": "flex",
       "flex_flow": "row wrap",
       "width": "auto"
      }
     },
     "d5c249167b1d45f98b280a9b9eb7dc1e": {
      "model_module": "@jupyter-widgets/controls",
      "model_module_version": "1.5.0",
      "model_name": "DescriptionStyleModel",
      "state": {
       "description_width": ""
      }
     },
     "d5cbe347ea6240fe983b8b394d85e1d8": {
      "model_module": "@jupyter-widgets/controls",
      "model_module_version": "1.5.0",
      "model_name": "DescriptionStyleModel",
      "state": {
       "description_width": "initial"
      }
     },
     "d61266e0a60e444db4642fcd67b633f3": {
      "model_module": "@jupyter-widgets/controls",
      "model_module_version": "1.5.0",
      "model_name": "DescriptionStyleModel",
      "state": {
       "description_width": "initial"
      }
     },
     "d67c22a87f364d9881625b6e0d0b504e": {
      "model_module": "@jupyter-widgets/base",
      "model_module_version": "1.2.0",
      "model_name": "LayoutModel",
      "state": {
       "width": "30px"
      }
     },
     "d68e1119c1bc434d8d03c81395ea57fc": {
      "model_module": "@jupyter-widgets/base",
      "model_module_version": "1.2.0",
      "model_name": "LayoutModel",
      "state": {}
     },
     "d723d72a8a76441d8333621e9ba9f45c": {
      "model_module": "@jupyter-widgets/controls",
      "model_module_version": "1.5.0",
      "model_name": "HBoxModel",
      "state": {
       "children": [
        "IPY_MODEL_72d35fe2ae9d4a389f69b5e14fd88ccc",
        "IPY_MODEL_c44ae3173e264526a0a82b3520b35a45"
       ],
       "layout": "IPY_MODEL_5641527eab7e4aa78af07788457ea3f6"
      }
     },
     "d768e8197af343e486e5440208e98b20": {
      "model_module": "@jupyter-widgets/controls",
      "model_module_version": "1.5.0",
      "model_name": "VBoxModel",
      "state": {
       "box_style": "info",
       "children": [
        "IPY_MODEL_50b7399c05dd4a4c97966c2406b6fb6a",
        "IPY_MODEL_1cae3a1ff7634ffba3e89f91211c3be9",
        "IPY_MODEL_f60c50fc03414cef9de4f3fd52e3139c"
       ],
       "layout": "IPY_MODEL_6ab0ad5ab85b48f69c41cf5b86742ee5"
      }
     },
     "d8186facb86c4b0490af68cc22487900": {
      "model_module": "@jupyter-widgets/controls",
      "model_module_version": "1.5.0",
      "model_name": "HBoxModel",
      "state": {
       "children": [
        "IPY_MODEL_d2b3b39fee2b4c21a97367dcffdf8616",
        "IPY_MODEL_d0ee95e40fd14f7f8f17cde5e2763949"
       ],
       "layout": "IPY_MODEL_c4f90869ee35417fbc2d64f7ccb65f14"
      }
     },
     "d94411dd34744197b2903afc867fb340": {
      "model_module": "@jupyter-widgets/controls",
      "model_module_version": "1.5.0",
      "model_name": "DescriptionStyleModel",
      "state": {
       "description_width": "initial"
      }
     },
     "d9521e6916fe4804987fb7d4ccd8d0f8": {
      "model_module": "@jupyter-widgets/controls",
      "model_module_version": "1.5.0",
      "model_name": "HTMLModel",
      "state": {
       "layout": "IPY_MODEL_a7e8f610826942ed99bce688eecd6821",
       "style": "IPY_MODEL_c3b1624b588346b2912b075b147096dc",
       "value": "<style>p{word-wrap: break-word}</style> <p>What are some ways of thinking about the original phrasing of the 'longest common subsequence' problem that could be helpful to discovering its subproblems? </p>"
      }
     },
     "dab9dcd755cc488fa4b139a253b2a073": {
      "model_module": "@jupyter-widgets/base",
      "model_module_version": "1.2.0",
      "model_name": "LayoutModel",
      "state": {}
     },
     "dad3ed052afd4ab0b934912f659c031b": {
      "model_module": "@jupyter-widgets/controls",
      "model_module_version": "1.5.0",
      "model_name": "DescriptionStyleModel",
      "state": {
       "description_width": ""
      }
     },
     "daec9a69ab874629b7d6468c5b33b6d4": {
      "model_module": "@jupyter-widgets/controls",
      "model_module_version": "1.5.0",
      "model_name": "HTMLModel",
      "state": {
       "layout": "IPY_MODEL_9df8bd00336141469b66054c9fe62ef7",
       "style": "IPY_MODEL_db284f5b73e94b9c94fa9342d8ec0980",
       "value": "<style>p{word-wrap: break-word}</style> <p>Find all the lengths of the longest common substring. </p>"
      }
     },
     "db284f5b73e94b9c94fa9342d8ec0980": {
      "model_module": "@jupyter-widgets/controls",
      "model_module_version": "1.5.0",
      "model_name": "DescriptionStyleModel",
      "state": {
       "description_width": ""
      }
     },
     "db5237cb722947bbba8407cc01c4a8ea": {
      "model_module": "@jupyter-widgets/controls",
      "model_module_version": "1.5.0",
      "model_name": "HBoxModel",
      "state": {
       "children": [
        "IPY_MODEL_2f9bdb32934e441998ffee0038b39dd9",
        "IPY_MODEL_8f1d0af0ee814d54a4daa63f8b20fb71",
        "IPY_MODEL_9e596cd77b5c42849b089a74e6356d13"
       ],
       "layout": "IPY_MODEL_29dae5d73dbc420a8a25d9f99e9e2549"
      }
     },
     "dc298f9f34d2484ea12a52be2cb1fa5e": {
      "model_module": "@jupyter-widgets/base",
      "model_module_version": "1.2.0",
      "model_name": "LayoutModel",
      "state": {
       "display": "flex",
       "flex_flow": "row",
       "justify_content": "space-between",
       "margin": "0 0 20px 0"
      }
     },
     "dc2a26f89d7c48538968c2fa8bf29986": {
      "model_module": "@jupyter-widgets/controls",
      "model_module_version": "1.5.0",
      "model_name": "HBoxModel",
      "state": {
       "children": [
        "IPY_MODEL_7b3f118fd01d4cf29e2584f08ef71933",
        "IPY_MODEL_a55ff91a9d094b7c8841bac6dce47873",
        "IPY_MODEL_f898195ba4dc41f596896ca6dc82bcd5"
       ],
       "layout": "IPY_MODEL_b55b474f36e744aaaca1f773adad52f7"
      }
     },
     "dcae3bf3f75b4885a1114f3a908bd87a": {
      "model_module": "@jupyter-widgets/controls",
      "model_module_version": "1.5.0",
      "model_name": "DescriptionStyleModel",
      "state": {
       "description_width": ""
      }
     },
     "dce6c24dd2a4465697d95f3d7c5dff65": {
      "model_module": "@jupyter-widgets/base",
      "model_module_version": "1.2.0",
      "model_name": "LayoutModel",
      "state": {
       "align_items": "stretch",
       "display": "flex",
       "flex_flow": "row wrap",
       "width": "auto"
      }
     },
     "dcfd73eae1d840c8ac3bda39df7ea80b": {
      "model_module": "@jupyter-widgets/base",
      "model_module_version": "1.2.0",
      "model_name": "LayoutModel",
      "state": {}
     },
     "dd2aca358ceb4011830af88066f9a1af": {
      "model_module": "@jupyter-widgets/base",
      "model_module_version": "1.2.0",
      "model_name": "LayoutModel",
      "state": {
       "align_items": "stretch",
       "display": "flex",
       "flex_flow": "row wrap",
       "margin": "30px 0 0 0"
      }
     },
     "dd7786d4d2c143558886bf7ad1361ea0": {
      "model_module": "@jupyter-widgets/controls",
      "model_module_version": "1.5.0",
      "model_name": "DescriptionStyleModel",
      "state": {
       "description_width": ""
      }
     },
     "dd836df4c11d4c0a97e1e70a209a087a": {
      "model_module": "@jupyter-widgets/controls",
      "model_module_version": "1.5.0",
      "model_name": "HTMLModel",
      "state": {
       "layout": "IPY_MODEL_6a8ab0ac9a6d4e488a0d7084e0e459d6",
       "style": "IPY_MODEL_5971ce226a004e699abd11039d8c4273",
       "value": "<style>p{word-wrap: break-word}</style> <p>The base case is only when the 1st string has length 0 </p>"
      }
     },
     "de1ae9fdc39c4eda85febfcde5cd1ab1": {
      "model_module": "@jupyter-widgets/base",
      "model_module_version": "1.2.0",
      "model_name": "LayoutModel",
      "state": {
       "display": "flex",
       "flex_flow": "row",
       "justify_content": "space-between",
       "margin": "0 0 20px 0"
      }
     },
     "de39c80fa06a4fd48c7993e279a7d494": {
      "model_module": "@jupyter-widgets/base",
      "model_module_version": "1.2.0",
      "model_name": "LayoutModel",
      "state": {
       "width": "30px"
      }
     },
     "dec13a0069ac4b92af4a9bb2162a5299": {
      "model_module": "@jupyter-widgets/base",
      "model_module_version": "1.2.0",
      "model_name": "LayoutModel",
      "state": {
       "height": "50%",
       "margin": "0 0 0 30px",
       "width": "50%"
      }
     },
     "df233a2f0e024304a9a12cd8a7a1f343": {
      "model_module": "@jupyter-widgets/base",
      "model_module_version": "1.2.0",
      "model_name": "LayoutModel",
      "state": {
       "align_items": "stretch",
       "display": "flex",
       "flex_flow": "row wrap",
       "width": "auto"
      }
     },
     "dfb5766b2fce4179baa4b7639b3dba20": {
      "model_module": "@jupyter-widgets/controls",
      "model_module_version": "1.5.0",
      "model_name": "ButtonModel",
      "state": {
       "description": "Submit",
       "layout": "IPY_MODEL_08854873146445f684ffb94fc982565f",
       "style": "IPY_MODEL_fa1eb8a451eb496eb996977c4b78b23d"
      }
     },
     "dfccaa1afeb84f449e77c492c64149bb": {
      "model_module": "@jupyter-widgets/controls",
      "model_module_version": "1.5.0",
      "model_name": "DescriptionStyleModel",
      "state": {
       "description_width": ""
      }
     },
     "e068753e6cc1428288b1cf9d56ddc1cb": {
      "model_module": "@jupyter-widgets/controls",
      "model_module_version": "1.5.0",
      "model_name": "DescriptionStyleModel",
      "state": {
       "description_width": ""
      }
     },
     "e08ac801029048b3864709251a1ab9af": {
      "model_module": "@jupyter-widgets/base",
      "model_module_version": "1.2.0",
      "model_name": "LayoutModel",
      "state": {}
     },
     "e155885ba06c43768dbfd3d0bbd44858": {
      "model_module": "@jupyter-widgets/base",
      "model_module_version": "1.2.0",
      "model_name": "LayoutModel",
      "state": {
       "align_items": "stretch",
       "display": "flex",
       "flex_flow": "row wrap",
       "width": "auto"
      }
     },
     "e1cfdb6b8f3a491b9e208b6df1117fab": {
      "model_module": "@jupyter-widgets/controls",
      "model_module_version": "1.5.0",
      "model_name": "CheckboxModel",
      "state": {
       "disabled": false,
       "layout": "IPY_MODEL_d67c22a87f364d9881625b6e0d0b504e",
       "style": "IPY_MODEL_09f1ba48e2f4495cb2d5045e8865af6e",
       "value": false
      }
     },
     "e208061c1ca5427ea1dbc3ad0303eec2": {
      "model_module": "@jupyter-widgets/controls",
      "model_module_version": "1.5.0",
      "model_name": "DescriptionStyleModel",
      "state": {
       "description_width": ""
      }
     },
     "e28650e6275847ef901a869792201a4e": {
      "model_module": "@jupyter-widgets/base",
      "model_module_version": "1.2.0",
      "model_name": "LayoutModel",
      "state": {
       "width": "30px"
      }
     },
     "e2e175ea7d4649ad84bc834e881cefe8": {
      "model_module": "@jupyter-widgets/controls",
      "model_module_version": "1.5.0",
      "model_name": "HTMLModel",
      "state": {
       "layout": "IPY_MODEL_547fe0e7ebf646ef998f615c3aba040b",
       "style": "IPY_MODEL_5a692cd50af44e7790f9239942afc015",
       "value": "<style>p{word-wrap: break-word}</style> <p>LCS('abc', '') </p>"
      }
     },
     "e300bbe90fad4318816adffd83484bab": {
      "model_module": "@jupyter-widgets/base",
      "model_module_version": "1.2.0",
      "model_name": "LayoutModel",
      "state": {
       "align_items": "stretch",
       "display": "flex",
       "flex_flow": "row wrap",
       "width": "auto"
      }
     },
     "e3d4ff57afb44e7e97d40300008c3a25": {
      "model_module": "@jupyter-widgets/controls",
      "model_module_version": "1.5.0",
      "model_name": "LabelModel",
      "state": {
       "layout": "IPY_MODEL_29d59506f486434690b71f402179857a",
       "style": "IPY_MODEL_c13cc27fb41046d4a22e9c1ca7363265"
      }
     },
     "e4519223dd3141f6b3a87cb984ae4e67": {
      "model_module": "@jupyter-widgets/controls",
      "model_module_version": "1.5.0",
      "model_name": "HBoxModel",
      "state": {
       "children": [
        "IPY_MODEL_53ed0146ad904f54bf9b6798e06b2a5b",
        "IPY_MODEL_a9ab8ea0a68042099bc75d12fe69a4c0"
       ],
       "layout": "IPY_MODEL_41a2c4b7e9504e2589aee33c29c9a357"
      }
     },
     "e46bca41fab64cba87a1bad5237a6b8d": {
      "model_module": "@jupyter-widgets/base",
      "model_module_version": "1.2.0",
      "model_name": "LayoutModel",
      "state": {
       "align_items": "stretch",
       "display": "flex",
       "flex_flow": "row wrap",
       "width": "auto"
      }
     },
     "e498adb2025d40fab0a1f996940a3068": {
      "model_module": "@jupyter-widgets/controls",
      "model_module_version": "1.5.0",
      "model_name": "HBoxModel",
      "state": {
       "children": [
        "IPY_MODEL_e9b5da21c27842e1824a0378cb8a885b",
        "IPY_MODEL_0c3f6879b9d244c297c146a94b621f44"
       ],
       "layout": "IPY_MODEL_f07ee00d2957487d8fae10f91eb595f8"
      }
     },
     "e5546c4e106e4edd96ff82ac9d8d605a": {
      "model_module": "@jupyter-widgets/controls",
      "model_module_version": "1.5.0",
      "model_name": "HBoxModel",
      "state": {
       "children": [
        "IPY_MODEL_6e072592c8584f76ad84a569db639734",
        "IPY_MODEL_6020eb6119fb45ee826d20b6c9c0a8fa"
       ],
       "layout": "IPY_MODEL_12dcb034e16544b3aed3a92d5b9e50eb"
      }
     },
     "e5bcb35d1fc9463f9a08289533ee0e85": {
      "model_module": "@jupyter-widgets/controls",
      "model_module_version": "1.5.0",
      "model_name": "HTMLModel",
      "state": {
       "layout": "IPY_MODEL_244f714a224949cd9182a737c0b4c704",
       "style": "IPY_MODEL_ab0d1514dfca44f59acefa51dab2c7b5",
       "value": "<style>p{word-wrap: break-word}</style> <p>Fill in the blanks:  </p>"
      }
     },
     "e5bf681d667a48dc93173d2b8803fbf8": {
      "model_module": "@jupyter-widgets/base",
      "model_module_version": "1.2.0",
      "model_name": "LayoutModel",
      "state": {}
     },
     "e6960ecabdc849e184b2e7b0e88eb0b6": {
      "model_module": "@jupyter-widgets/base",
      "model_module_version": "1.2.0",
      "model_name": "LayoutModel",
      "state": {
       "height": "50%",
       "margin": "0 0 0 30px",
       "width": "50%"
      }
     },
     "e7ec25a9043e470290f2b55b5693f7f4": {
      "model_module": "@jupyter-widgets/base",
      "model_module_version": "1.2.0",
      "model_name": "LayoutModel",
      "state": {}
     },
     "e858479fc3a0488ab6653fc240e1f4b5": {
      "model_module": "@jupyter-widgets/base",
      "model_module_version": "1.2.0",
      "model_name": "LayoutModel",
      "state": {
       "align_items": "stretch",
       "display": "flex",
       "flex_flow": "row wrap",
       "width": "auto"
      }
     },
     "e8752a3a9eed4a9f9a3721a57a89c05a": {
      "model_module": "@jupyter-widgets/controls",
      "model_module_version": "1.5.0",
      "model_name": "DescriptionStyleModel",
      "state": {
       "description_width": ""
      }
     },
     "e87fe6450a8e41339a40c2ac9beeb1ef": {
      "model_module": "@jupyter-widgets/controls",
      "model_module_version": "1.5.0",
      "model_name": "LabelModel",
      "state": {
       "layout": "IPY_MODEL_3b01b1e7767846708e0fd42eb4c6b400",
       "style": "IPY_MODEL_11c2f52956c74be58772fcd123fce30d"
      }
     },
     "e894effc54444e0fa41d1fa000c9992e": {
      "model_module": "@jupyter-widgets/controls",
      "model_module_version": "1.5.0",
      "model_name": "DescriptionStyleModel",
      "state": {
       "description_width": ""
      }
     },
     "e89768120e9644048901c4b8f620b4ab": {
      "model_module": "@jupyter-widgets/base",
      "model_module_version": "1.2.0",
      "model_name": "LayoutModel",
      "state": {
       "align_items": "stretch",
       "display": "flex",
       "flex_flow": "row wrap",
       "width": "auto"
      }
     },
     "e9b5da21c27842e1824a0378cb8a885b": {
      "model_module": "@jupyter-widgets/controls",
      "model_module_version": "1.5.0",
      "model_name": "LabelModel",
      "state": {
       "layout": "IPY_MODEL_0d196dd7b235424c84a5ec6ae7d63c22",
       "style": "IPY_MODEL_2d0d069b3b194c8397510c1e1c853b1e"
      }
     },
     "ea35e981e1c94546a4ebc88853e5dacd": {
      "model_module": "@jupyter-widgets/base",
      "model_module_version": "1.2.0",
      "model_name": "LayoutModel",
      "state": {
       "display": "none"
      }
     },
     "ea77b3b9f11f423da819e71046cf534d": {
      "model_module": "@jupyter-widgets/controls",
      "model_module_version": "1.5.0",
      "model_name": "TextModel",
      "state": {
       "layout": "IPY_MODEL_0c1911fab51b4d15900c679c6ab34c97",
       "placeholder": "",
       "style": "IPY_MODEL_b927ffeb21ba47d6b086cf8302bbefab"
      }
     },
     "ea93b520f8584feba5e64d54192859a3": {
      "model_module": "@jupyter-widgets/controls",
      "model_module_version": "1.5.0",
      "model_name": "DescriptionStyleModel",
      "state": {
       "description_width": ""
      }
     },
     "ea981eadd51b49869953999dd866ad58": {
      "model_module": "@jupyter-widgets/base",
      "model_module_version": "1.2.0",
      "model_name": "LayoutModel",
      "state": {}
     },
     "eab5a5e80e6b442489a28c3bdf7a3ed5": {
      "model_module": "@jupyter-widgets/controls",
      "model_module_version": "1.5.0",
      "model_name": "CheckboxModel",
      "state": {
       "disabled": false,
       "layout": "IPY_MODEL_02cf8a17a0554b1e83405877ba17b371",
       "style": "IPY_MODEL_3e5d61af411245649c4bb1497f8e51a7",
       "value": false
      }
     },
     "eb2df40af5464aed9099efd2f05fb410": {
      "model_module": "@jupyter-widgets/base",
      "model_module_version": "1.2.0",
      "model_name": "LayoutModel",
      "state": {
       "align_items": "stretch",
       "display": "flex",
       "flex_flow": "row wrap",
       "width": "auto"
      }
     },
     "eb7b6187dae64420a0072fc638afeeba": {
      "model_module": "@jupyter-widgets/controls",
      "model_module_version": "1.5.0",
      "model_name": "DescriptionStyleModel",
      "state": {
       "description_width": "initial"
      }
     },
     "ebbc5e9c67f4435da7e56661e3d4442f": {
      "model_module": "@jupyter-widgets/controls",
      "model_module_version": "1.5.0",
      "model_name": "HTMLModel",
      "state": {
       "layout": "IPY_MODEL_08f030a21d744430a36f5dd069d12b04",
       "style": "IPY_MODEL_5b0452984191447fa613d9a95f7089e9",
       "value": "<style>p{word-wrap: break-word}</style> <p>The base case returns the current count. </p>"
      }
     },
     "ec2e507a2a1a43a3a1fe798440dee6f1": {
      "model_module": "@jupyter-widgets/controls",
      "model_module_version": "1.5.0",
      "model_name": "LabelModel",
      "state": {
       "layout": "IPY_MODEL_67f865a075a9467585df55592ec47293",
       "style": "IPY_MODEL_70127d7f974c4d529d34fb788a2e538b"
      }
     },
     "ec61af1476ce4a6e87370838beb8d52c": {
      "model_module": "@jupyter-widgets/controls",
      "model_module_version": "1.5.0",
      "model_name": "HBoxModel",
      "state": {
       "children": [
        "IPY_MODEL_c1b8131ddeab4348880a6afa32e67526",
        "IPY_MODEL_67d1432e97124f73adbbd23f75be94e7"
       ],
       "layout": "IPY_MODEL_5edaeec0db7544a8855d393ecb9eada1"
      }
     },
     "ecb9c8bdab7d468b8319a3f4d17c680b": {
      "model_module": "@jupyter-widgets/controls",
      "model_module_version": "1.5.0",
      "model_name": "CheckboxModel",
      "state": {
       "disabled": false,
       "layout": "IPY_MODEL_9cc4366cb47544219e3eaf539d6ba4b6",
       "style": "IPY_MODEL_00766542ac2d481f819eefa596eeeeab",
       "value": false
      }
     },
     "edd64bbdac0c408caf070566bed82786": {
      "model_module": "@jupyter-widgets/controls",
      "model_module_version": "1.5.0",
      "model_name": "HTMLModel",
      "state": {
       "layout": "IPY_MODEL_29bc2c0a1ef442be9d1565fc1bd2bdd6",
       "style": "IPY_MODEL_875d400e61034008bcf8413e607046ec",
       "value": "<style>p{word-wrap: break-word}</style> <p>Suppose LCS('abcd', 'ad') is called. Which of the following could be subsequent calls? </p>"
      }
     },
     "ee1d6b68e9264cf4876ca2d7e0581108": {
      "model_module": "@jupyter-widgets/base",
      "model_module_version": "1.2.0",
      "model_name": "LayoutModel",
      "state": {}
     },
     "ef0bdb47b47547d191f91db083aeebdd": {
      "model_module": "@jupyter-widgets/controls",
      "model_module_version": "1.5.0",
      "model_name": "DescriptionStyleModel",
      "state": {
       "description_width": ""
      }
     },
     "f07ee00d2957487d8fae10f91eb595f8": {
      "model_module": "@jupyter-widgets/base",
      "model_module_version": "1.2.0",
      "model_name": "LayoutModel",
      "state": {
       "align_items": "stretch",
       "display": "flex",
       "flex_flow": "row wrap",
       "width": "auto"
      }
     },
     "f0f292a6297a42aea307a651b67fd986": {
      "model_module": "@jupyter-widgets/controls",
      "model_module_version": "1.5.0",
      "model_name": "HBoxModel",
      "state": {
       "children": [
        "IPY_MODEL_7afe2d0ce0ca48b5937e176d1697b215",
        "IPY_MODEL_ca7b6bb49e134c9499d05a5e5e944bbd",
        "IPY_MODEL_6e85bbe89cd3487c8ba5ce3ee7ebf058"
       ],
       "layout": "IPY_MODEL_4b048b7220fe43b2aca61518a9ed55a1"
      }
     },
     "f10c5028f84345ed91ab98e9f88a0034": {
      "model_module": "@jupyter-widgets/controls",
      "model_module_version": "1.5.0",
      "model_name": "DescriptionStyleModel",
      "state": {
       "description_width": ""
      }
     },
     "f1a65c5168da4f60ae8816b5fe501d07": {
      "model_module": "@jupyter-widgets/controls",
      "model_module_version": "1.5.0",
      "model_name": "DescriptionStyleModel",
      "state": {
       "description_width": ""
      }
     },
     "f1dd0a4826f2409bb95f9356ac5c02da": {
      "model_module": "@jupyter-widgets/base",
      "model_module_version": "1.2.0",
      "model_name": "LayoutModel",
      "state": {
       "align_items": "stretch",
       "display": "flex",
       "flex_flow": "row wrap",
       "width": "auto"
      }
     },
     "f29c8152ba6846dfa873b31903b1c17f": {
      "model_module": "@jupyter-widgets/base",
      "model_module_version": "1.2.0",
      "model_name": "LayoutModel",
      "state": {
       "align_items": "stretch",
       "display": "flex",
       "flex_flow": "row wrap",
       "width": "auto"
      }
     },
     "f2c8c3a33a8b4abe8357e972f38731a4": {
      "model_module": "@jupyter-widgets/base",
      "model_module_version": "1.2.0",
      "model_name": "LayoutModel",
      "state": {
       "align_items": "stretch",
       "display": "flex",
       "flex_flow": "row wrap",
       "width": "auto"
      }
     },
     "f3376e53b34d440aa2b174c1c9a5de7e": {
      "model_module": "@jupyter-widgets/base",
      "model_module_version": "1.2.0",
      "model_name": "LayoutModel",
      "state": {
       "align_items": "stretch",
       "display": "flex",
       "flex_flow": "row wrap",
       "width": "auto"
      }
     },
     "f33d568e8cb5480ca170e4fef4891127": {
      "model_module": "@jupyter-widgets/controls",
      "model_module_version": "1.5.0",
      "model_name": "DescriptionStyleModel",
      "state": {
       "description_width": ""
      }
     },
     "f39896b0029143c3b4567b3e26d4c293": {
      "model_module": "@jupyter-widgets/controls",
      "model_module_version": "1.5.0",
      "model_name": "HBoxModel",
      "state": {
       "children": [
        "IPY_MODEL_55d5b2769eb445838a554e8a520b2a2a",
        "IPY_MODEL_1e695a339fbf471d9ca71dd7fc5716ef"
       ],
       "layout": "IPY_MODEL_bcb3d3346d5640bdb2f6da3e881ee761"
      }
     },
     "f3bdadc41ee748299ec7a056c8ad938f": {
      "model_module": "@jupyter-widgets/controls",
      "model_module_version": "1.5.0",
      "model_name": "HBoxModel",
      "state": {
       "children": [
        "IPY_MODEL_c68bc00c67fa46269c6efd3e22396232",
        "IPY_MODEL_abb245cacc6b48c5ada07acacad59024",
        "IPY_MODEL_6631c4c9fa6847ed99586534b7f2ff9a"
       ],
       "layout": "IPY_MODEL_f29c8152ba6846dfa873b31903b1c17f"
      }
     },
     "f3d5fb3feb024227bae91a0367e23091": {
      "model_module": "@jupyter-widgets/controls",
      "model_module_version": "1.5.0",
      "model_name": "VBoxModel",
      "state": {
       "children": [
        "IPY_MODEL_5a52dccc6c19494caad2263d13100ec3",
        "IPY_MODEL_53c837d2fba84b9793bbd8ae9173cdc8",
        "IPY_MODEL_d723d72a8a76441d8333621e9ba9f45c",
        "IPY_MODEL_77a45a0451864afa96c27c1203a42cd9",
        "IPY_MODEL_7b8a3f034ea141f99cd3a4790b3b5b7a"
       ],
       "layout": "IPY_MODEL_56bdc661c5aa43aeb54266e3de829f7d"
      }
     },
     "f445a85ac1954008ba58692431b25120": {
      "model_module": "@jupyter-widgets/controls",
      "model_module_version": "1.5.0",
      "model_name": "TextModel",
      "state": {
       "layout": "IPY_MODEL_8e66e8b75f274deb9b1398537637425a",
       "placeholder": "",
       "style": "IPY_MODEL_b62ea068193344f4a131faa4e80a5358"
      }
     },
     "f54f1ec4ca6e4706bb123382564f34bb": {
      "model_module": "@jupyter-widgets/controls",
      "model_module_version": "1.5.0",
      "model_name": "HTMLModel",
      "state": {
       "layout": "IPY_MODEL_2bd4fd87f873482b96f4c79e1e3f0486",
       "style": "IPY_MODEL_8edbff6e418841c5854200fed9500a72",
       "value": "<style>p{word-wrap: break-word}</style> <p>Order the following subproblems of LCS('abcd', 'bde') - longest common subsequence - from smallest to largest, entering the numbers 1-5 before the function call. </p>"
      }
     },
     "f566caca22af4611b851869f09b292f0": {
      "model_module": "@jupyter-widgets/controls",
      "model_module_version": "1.5.0",
      "model_name": "HBoxModel",
      "state": {
       "children": [
        "IPY_MODEL_75cda1747ab247aca95dd012f58fd12e",
        "IPY_MODEL_dd836df4c11d4c0a97e1e70a209a087a"
       ],
       "layout": "IPY_MODEL_ca5ee7c9b43f4c99a9d0d524b8eaaa26"
      }
     },
     "f58d0f12d621485faef47e884d0a9ec4": {
      "model_module": "@jupyter-widgets/controls",
      "model_module_version": "1.5.0",
      "model_name": "LabelModel",
      "state": {
       "layout": "IPY_MODEL_28dc435ee073494f8848f9a724d547f8",
       "style": "IPY_MODEL_c504420b11f348df87ecc84b647ccb57"
      }
     },
     "f5b30a3c3a794fccbab191788ce09ad2": {
      "model_module": "@jupyter-widgets/controls",
      "model_module_version": "1.5.0",
      "model_name": "HBoxModel",
      "state": {
       "children": [
        "IPY_MODEL_1b33293a471548f88d9b4928df1808e1"
       ],
       "layout": "IPY_MODEL_9b64d8fe3507414893fb53b63e0e4934"
      }
     },
     "f60c50fc03414cef9de4f3fd52e3139c": {
      "model_module": "@jupyter-widgets/controls",
      "model_module_version": "1.5.0",
      "model_name": "HBoxModel",
      "state": {
       "children": [
        "IPY_MODEL_3d02d92cd460411cbd0fb517425d5802",
        "IPY_MODEL_a04c2c686f134f32b517bdb4ad81a401",
        "IPY_MODEL_90e131a582b148a281b579dd30a0edd5"
       ],
       "layout": "IPY_MODEL_22521d9541ee4a87896fe3ba8b40aa08"
      }
     },
     "f63d5eb1e5234e879a157d91ab0385d0": {
      "model_module": "@jupyter-widgets/base",
      "model_module_version": "1.2.0",
      "model_name": "LayoutModel",
      "state": {}
     },
     "f760419542bd464ca975abb6bc012278": {
      "model_module": "@jupyter-widgets/controls",
      "model_module_version": "1.5.0",
      "model_name": "DescriptionStyleModel",
      "state": {
       "description_width": ""
      }
     },
     "f7830b9e3a9e4560941f9eea435b5674": {
      "model_module": "@jupyter-widgets/controls",
      "model_module_version": "1.5.0",
      "model_name": "DescriptionStyleModel",
      "state": {
       "description_width": ""
      }
     },
     "f7c01e94f2d04522818c31bd4eb2bcaa": {
      "model_module": "@jupyter-widgets/controls",
      "model_module_version": "1.5.0",
      "model_name": "HTMLModel",
      "state": {
       "layout": "IPY_MODEL_32d9d8a9cb7044f1bfac9e04d8728dbb",
       "style": "IPY_MODEL_cb72fe73b93b4809bd52a2fcf620a28f",
       "value": "<style>p{word-wrap: break-word}</style> <p>LCS('abc', 'bd') </p>"
      }
     },
     "f83930549f824d80b93df44fa04df790": {
      "model_module": "@jupyter-widgets/base",
      "model_module_version": "1.2.0",
      "model_name": "LayoutModel",
      "state": {
       "align_items": "stretch",
       "display": "flex",
       "flex_flow": "row wrap",
       "width": "auto"
      }
     },
     "f883d52e34bc43d696a18620730ce06f": {
      "model_module": "@jupyter-widgets/controls",
      "model_module_version": "1.5.0",
      "model_name": "DescriptionStyleModel",
      "state": {
       "description_width": ""
      }
     },
     "f898195ba4dc41f596896ca6dc82bcd5": {
      "model_module": "@jupyter-widgets/controls",
      "model_module_version": "1.5.0",
      "model_name": "ButtonModel",
      "state": {
       "description": "Show answer",
       "disabled": true,
       "layout": "IPY_MODEL_ea35e981e1c94546a4ebc88853e5dacd",
       "style": "IPY_MODEL_41b3ba9d81734b36948ba256c59c474f"
      }
     },
     "f983b42d214942edb04f128076a13d60": {
      "model_module": "@jupyter-widgets/base",
      "model_module_version": "1.2.0",
      "model_name": "LayoutModel",
      "state": {}
     },
     "f99e53e393014513bac02b00ac7f59b9": {
      "model_module": "@jupyter-widgets/base",
      "model_module_version": "1.2.0",
      "model_name": "LayoutModel",
      "state": {
       "width": "auto"
      }
     },
     "f9e9690c458b4789909c3548a8ee9ab1": {
      "model_module": "@jupyter-widgets/base",
      "model_module_version": "1.2.0",
      "model_name": "LayoutModel",
      "state": {
       "align_items": "stretch",
       "display": "flex",
       "flex_flow": "row wrap",
       "width": "auto"
      }
     },
     "fa1eb8a451eb496eb996977c4b78b23d": {
      "model_module": "@jupyter-widgets/controls",
      "model_module_version": "1.5.0",
      "model_name": "ButtonStyleModel",
      "state": {
       "button_color": "#4DD0E1"
      }
     },
     "faf13d55b3e24dda98d2ac5e6dc865ce": {
      "model_module": "@jupyter-widgets/controls",
      "model_module_version": "1.5.0",
      "model_name": "HBoxModel",
      "state": {
       "children": [
        "IPY_MODEL_e1cfdb6b8f3a491b9e208b6df1117fab",
        "IPY_MODEL_d30609be73794913a6a4113058830120"
       ],
       "layout": "IPY_MODEL_281905d7d1554f75962755120c0b949d"
      }
     },
     "fb811edcbef248388f57ee3f864c4008": {
      "model_module": "@jupyter-widgets/controls",
      "model_module_version": "1.5.0",
      "model_name": "TextModel",
      "state": {
       "layout": "IPY_MODEL_8ac32d8a1f2f4966a89ad46ec7df3009",
       "placeholder": "",
       "style": "IPY_MODEL_abe59e0ef6064fb386a1898c8b7417a6"
      }
     },
     "fbb2a8d6e0c543deaf38592a34e8e71e": {
      "model_module": "@jupyter-widgets/base",
      "model_module_version": "1.2.0",
      "model_name": "LayoutModel",
      "state": {
       "align_items": "stretch",
       "display": "flex",
       "flex_flow": "row wrap",
       "width": "auto"
      }
     },
     "fbf4d3ad44ee48498c60920457525dbf": {
      "model_module": "@jupyter-widgets/controls",
      "model_module_version": "1.5.0",
      "model_name": "DescriptionStyleModel",
      "state": {
       "description_width": ""
      }
     },
     "fcb5511176b641b19f31f8c293c12294": {
      "model_module": "@jupyter-widgets/controls",
      "model_module_version": "1.5.0",
      "model_name": "HTMLModel",
      "state": {
       "layout": "IPY_MODEL_0cb9af8b33d04d89b840aa218a8584fc",
       "style": "IPY_MODEL_00fff5bbee644548afa862cbf2876fd8",
       "value": "<style>p{word-wrap: break-word}</style> <p> </p>"
      }
     },
     "fd544a53f98b45738a95d2e8e99a6294": {
      "model_module": "@jupyter-widgets/base",
      "model_module_version": "1.2.0",
      "model_name": "LayoutModel",
      "state": {
       "align_items": "stretch",
       "display": "flex",
       "flex_flow": "row wrap",
       "width": "auto"
      }
     },
     "fda5f4235afc47258e60910e4547e9d8": {
      "model_module": "@jupyter-widgets/controls",
      "model_module_version": "1.5.0",
      "model_name": "CheckboxModel",
      "state": {
       "disabled": false,
       "layout": "IPY_MODEL_c9fb3953f8d747f890528969b4ee0e0e",
       "style": "IPY_MODEL_d94411dd34744197b2903afc867fb340",
       "value": false
      }
     },
     "fdaeeeab60394254ac62c17a3d3f12b6": {
      "model_module": "@jupyter-widgets/controls",
      "model_module_version": "1.5.0",
      "model_name": "HBoxModel",
      "state": {
       "children": [
        "IPY_MODEL_fcb5511176b641b19f31f8c293c12294",
        "IPY_MODEL_2ec6913886c049fd93130bd76065a7ba",
        "IPY_MODEL_2ab514f5cace467dbf75240300d6f07f"
       ],
       "layout": "IPY_MODEL_477e1ed9e0a549be844c31759e4bfeb6"
      }
     },
     "fe546e06d0bf47acb4ea53380fbc1399": {
      "model_module": "@jupyter-widgets/controls",
      "model_module_version": "1.5.0",
      "model_name": "CheckboxModel",
      "state": {
       "disabled": false,
       "layout": "IPY_MODEL_455dc4f4ac2c4d28b161c1c55d6c582c",
       "style": "IPY_MODEL_05517f6d91b94bcab9d2c78f7d909318",
       "value": false
      }
     },
     "fe64b26068044e7cae72499e04933e48": {
      "model_module": "@jupyter-widgets/base",
      "model_module_version": "1.2.0",
      "model_name": "LayoutModel",
      "state": {
       "height": "50%",
       "margin": "0 0 0 30px",
       "width": "50%"
      }
     },
     "fea2fd1f7a254bb1818431cc2dc14566": {
      "model_module": "@jupyter-widgets/controls",
      "model_module_version": "1.5.0",
      "model_name": "HTMLModel",
      "state": {
       "layout": "IPY_MODEL_0f8da2c88f5a489e86c7917bd1d1db9f",
       "style": "IPY_MODEL_e894effc54444e0fa41d1fa000c9992e",
       "value": "<style>p{word-wrap: break-word}</style> <p>Find all the common substrings. </p>"
      }
     },
     "fedb71cc1064470b988e124f3be06d29": {
      "model_module": "@jupyter-widgets/base",
      "model_module_version": "1.2.0",
      "model_name": "LayoutModel",
      "state": {}
     },
     "ff35709371b1466982d21c378e1a4fb0": {
      "model_module": "@jupyter-widgets/base",
      "model_module_version": "1.2.0",
      "model_name": "LayoutModel",
      "state": {
       "align_items": "stretch",
       "display": "flex",
       "flex_flow": "row wrap",
       "width": "auto"
      }
     }
    },
    "version_major": 2,
    "version_minor": 0
   }
  }
 },
 "nbformat": 4,
 "nbformat_minor": 4
}
