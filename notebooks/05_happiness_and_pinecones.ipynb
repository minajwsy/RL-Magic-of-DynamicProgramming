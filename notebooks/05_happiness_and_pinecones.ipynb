{
 "cells": [
  {
   "cell_type": "markdown",
   "metadata": {},
   "source": [
    "<font size=\"+4\">Lesson 5: Happiness and Pinecones</font>\n",
    "    \n",
    "In this lesson we'll compare top-down to bottom-up approaches to solving problems and show when and why a recursive, top-down approach might perform better.\n",
    "    \n",
    "To demonstrate this, we will use an example of the longest common subsequence problem, which I have called 'Happiness & Pinecones'.\n",
    "\n",
    "Along the way you'll:\n",
    "1. Practice the 4 steps you learned previously\n",
    "2. Learn when to use the multi-prefix pattern of subproblems\n",
    "    \n",
    "    \n",
    "The following video introduces the topic.  \n"
   ]
  },
  {
   "cell_type": "code",
   "execution_count": 1,
   "metadata": {
    "jupyter": {
     "source_hidden": true
    },
    "pycharm": {
     "name": "#%%\n"
    }
   },
   "outputs": [
    {
     "data": {
      "image/jpeg": "[encoded data removed]",
      "text/html": [
       "\n",
       "        <iframe\n",
       "            width=\"400\"\n",
       "            height=\"300\"\n",
       "            src=\"https://www.youtube.com/embed/dLhsiN6WMjY\"\n",
       "            frameborder=\"0\"\n",
       "            allowfullscreen\n",
       "        ></iframe>\n",
       "        "
      ],
      "text/plain": [
       "<IPython.lib.display.YouTubeVideo at 0x1a10b894988>"
      ]
     },
     "execution_count": 1,
     "metadata": {},
     "output_type": "execute_result"
    }
   ],
   "source": [
    "from IPython.display import YouTubeVideo\n",
    "YouTubeVideo('dLhsiN6WMjY')"
   ]
  },
  {
   "cell_type": "markdown",
   "metadata": {},
   "source": [
    "\n",
    "\n",
    "\n",
    "\n",
    "\n"
   ]
  },
  {
   "cell_type": "markdown",
   "metadata": {},
   "source": [
    "# Longest Common Subsequence\n",
    "The version of the [longest common subsequence](https://en.wikipedia.org/wiki/Longest_common_subsequence_problem) problem that we will work in this lesson is where you look for a common subsequence between only _two_ words. A subsequence of a word are letters that are not necessarily contiguous. And of course, the string can be made from any finite alphabet. We're using letters to simplify the example."
   ]
  },
  {
   "cell_type": "markdown",
   "metadata": {},
   "source": [
    "<figure>\n",
    "    <img src=\"../images/h_and_p_on_dna.png\" width = 400>\n",
    "    <figcaption>Figure 1: You're given two strings. Find the length of the longest matching subsequences you can find in both words.\n",
    "    </figcaption>\n",
    "</figure>\n",
    "<p>"
   ]
  },
  {
   "cell_type": "markdown",
   "metadata": {},
   "source": [
    "To be sure you understand what common subsequences are, take the following quiz:"
   ]
  },
  {
   "cell_type": "code",
   "execution_count": 2,
   "metadata": {
    "jupyter": {
     "source_hidden": true
    },
    "pycharm": {
     "name": "#%%\n"
    }
   },
   "outputs": [
    {
     "data": {
      "application/vnd.jupyter.widget-view+json": {
       "model_id": "31e4dbafcd56446aa4381c3c69b0dcce",
       "version_major": 2,
       "version_minor": 0
      },
      "text/plain": [
       "VBox(box_style='info', children=(HBox(children=(HTML(value='<style>p{word-wrap: break-word}</style> <p>Fill in…"
      ]
     },
     "metadata": {},
     "output_type": "display_data"
    }
   ],
   "source": [
    "%run quizzes/quiz.py quizzes/05/lcsubsequence_example.json"
   ]
  },
  {
   "cell_type": "markdown",
   "metadata": {},
   "source": [
    "As a reminder of the four steps to solving a dynamic programming problem, see the following checklist:\n",
    "\n",
    "__Step 1__ - look at all possible combinations\n",
    "* [ ] Find and temporarily ignore the optimization word\n",
    "* [ ] Choose a subproblem pattern\n",
    "* [ ] Find the constraint(s)\n",
    "* [ ] Use the given constraint to divide all the possible valid subproblems into cases\n",
    "\n",
    "__Step 2__ - write a recursive algorithm\n",
    "* [ ] Stop ignoring the optimization - do that optimization over the cases you found. Write the recurrence relation down.\n",
    "* [ ] Implement a recursive algorithm directly from the recurrence relation, paying attention to base cases, indices etc.\n",
    "\n",
    "__Step 3__ - memoize\n",
    "* [ ] Memoize the algorithm\n",
    "\n",
    "__Step 4__ - iterate (bottom-up)\n",
    "* [ ] Convert to an iterative algorithm (optional)"
   ]
  },
  {
   "cell_type": "markdown",
   "metadata": {},
   "source": [
    "## Find the Subproblems (step 1)\n",
    "Step 1 are your opening moves: - identify the optimization word, ignore it for now, identify the constraints if any, identify your subproblem pattern."
   ]
  },
  {
   "cell_type": "code",
   "execution_count": 3,
   "metadata": {
    "jupyter": {
     "source_hidden": true
    }
   },
   "outputs": [
    {
     "data": {
      "application/vnd.jupyter.widget-view+json": {
       "model_id": "d18192573ce74ec8b9209b05372aaf57",
       "version_major": 2,
       "version_minor": 0
      },
      "text/plain": [
       "VBox(box_style='info', children=(HBox(children=(HTML(value=\"<style>p{word-wrap: break-word}</style> <p>What ar…"
      ]
     },
     "metadata": {},
     "output_type": "display_data"
    }
   ],
   "source": [
    "%run quizzes/quiz.py quizzes/05/lcsubsequence_first_step.json"
   ]
  },
  {
   "cell_type": "markdown",
   "metadata": {},
   "source": [
    "Your ultimate goal is to break the solution up into subproblems. But not just any subproblems .. they need to have 'optimal substructure' - which means they need to be sized and ordered in such a way that once you solve them, you have solved the whole problem.\n",
    "\n",
    "To this end, it sometimes helps to think about your base case or the trivial case - and how you _reach_ it, because then you can build up the subproblems in size. The algorithm will eat the subproblems in the opposite order - for example, in the case of words, starting with the whole word and reaching the empty string. But to develop the algorithm, it is helpful to build up from the smallest possible subproblem.\n"
   ]
  },
  {
   "cell_type": "code",
   "execution_count": 4,
   "metadata": {
    "jupyter": {
     "source_hidden": true
    }
   },
   "outputs": [
    {
     "data": {
      "application/vnd.jupyter.widget-view+json": {
       "model_id": "5e5d3713bc7346d9b7a35d85b47fbdfb",
       "version_major": 2,
       "version_minor": 0
      },
      "text/plain": [
       "VBox(box_style='info', children=(HBox(children=(HTML(value=\"<style>p{word-wrap: break-word}</style> <p>Order t…"
      ]
     },
     "metadata": {},
     "output_type": "display_data"
    }
   ],
   "source": [
    "%run quizzes/quiz.py quizzes/05/lcsubsequence_order_subproblems.json"
   ]
  },
  {
   "cell_type": "markdown",
   "metadata": {},
   "source": [
    "In previous problems we looked at a prefix of the given input. In this problem we will do something similar, but our input is two strings, so we'll look at _two_ prefixes."
   ]
  },
  {
   "cell_type": "markdown",
   "metadata": {},
   "source": [
    "If your input is: $x_1$, $x_2$, $x_3$, ... ,$x_n$, and $y_1$, $y_2$, $y_3$, ... ,$y_m$, your subproblems will be of the form: $x_1$, $x_2$, $x_3$, ..., $x_i$ and $y_1$, $y_2$, $y_3$, ... , $y_j$. For example:\n",
    "\n",
    "    +---------------------------------+\n",
    "    | x1   x2   x3  x4   x5   x6   x7 |  x8   x9   x10\n",
    "    +---------------------------------+\n",
    "    \n",
    "    +------------------+\n",
    "    | y1   y2   y3  x4 | x5   x6    x7   x8   x9   x10\n",
    "    +------------------+"
   ]
  },
  {
   "cell_type": "markdown",
   "metadata": {},
   "source": [
    "Now that we have the general form of the subproblems, we need to divide them into types. Aside from the base case, we will have three types of subproblems which depend on whether the last letters of the strings match or not.\n",
    "\n",
    "Here is where the constraint comes in - our constraint is that letters need to match, and also their relative order cannot change between the solution subsequence and the input subsequences.\n",
    "\n",
    "1. __The last letters match:__ This means we found a letter that will belong to the solution. So that we keep the order of the elements, (that's the definition of keeping it a subsequence) we only need to look at a prefix of the words up to the matching letter. \n",
    "2. __The last letters do not match:__ This means that the last letter of each word might have a chance to be in the prefix of the other word."
   ]
  },
  {
   "cell_type": "markdown",
   "metadata": {},
   "source": [
    "## Write the Recursive Algorithm (step 2)\n",
    "We have established that our subproblem pattern is multi-prefix. From the discussion above the recursion relation is:\n",
    "\n",
    "$\\text{X and Y are words, lcs is short for 'length of longest common subsequence' }$\n",
    "\n",
    "\\begin{equation}\n",
    "  lcs(x_i, y_j, count) = \n",
    "  \\begin{cases}\n",
    "    0, & \\text{if}\\ i=0 \\text{ or } j = 0 \\\\\n",
    "    1 + lcs(x_{i-1}, y_{j-1}), & \\text{if}\\ i, j \\neq 0 \\text{ and } x_i = y_j \\\\\n",
    "    max \n",
    "    \\begin{cases}\n",
    "     lcs(x_i, y_{j-1})  & \\text{if}\\ i,j\\neq0 \\text{ and } x_i \\neq y_j  \\\\\n",
    "     lcs(x_{i-1}, y_{j})  \\\\\n",
    "    \\end{cases}\\\\\n",
    "  \\end{cases}\\\\\n",
    "\\end{equation}\n",
    "\n",
    "$\\text{where } x_i \\text{ are the first i letters of X}, \\text{and } y_j \\text{ are the first j letters of Y}$\n",
    "\n",
    "Check your understanding of the recursion with this quiz:"
   ]
  },
  {
   "cell_type": "code",
   "execution_count": 5,
   "metadata": {
    "jupyter": {
     "source_hidden": true
    },
    "pycharm": {
     "name": "#%%\n"
    }
   },
   "outputs": [
    {
     "data": {
      "application/vnd.jupyter.widget-view+json": {
       "model_id": "9a483f541d1c4070a2daaa0b4ccc806d",
       "version_major": 2,
       "version_minor": 0
      },
      "text/plain": [
       "VBox(box_style='info', children=(HBox(children=(HTML(value=\"<style>p{word-wrap: break-word}</style> <p>Suppose…"
      ]
     },
     "metadata": {},
     "output_type": "display_data"
    }
   ],
   "source": [
    "%run quizzes/quiz.py quizzes/05/lcsubsequence_subproblems.json"
   ]
  },
  {
   "cell_type": "markdown",
   "metadata": {},
   "source": [
    "The recursion relation leads right into the implementation."
   ]
  },
  {
   "cell_type": "markdown",
   "metadata": {
    "pycharm": {
     "name": "#%% md\n"
    }
   },
   "source": [
    "<div class=\"exercise exercise-info\">\n",
    "Implement the naive recursive algorithm to calculate the length of the longest common subsequence when given two strings X and Y. It will run in exponential time, that's expected for this step. Starter code provided below. Note that the function <code>solve(X, Y)</code> takes zero based strings as input which is different from the recurrence formula which is 1-based.\n",
    "</div>"
   ]
  },
  {
   "cell_type": "code",
   "execution_count": 6,
   "metadata": {},
   "outputs": [],
   "source": [
    "def solve(X, Y):\n",
    "\n",
    "    # YOUR CODE HERE\n",
    "    return 0\n",
    "\n",
    "#unit tests\n",
    "#assert(solve('a', '') == 0)\n",
    "#assert(solve('happiness', 'pinecones') == 5)"
   ]
  },
  {
   "cell_type": "markdown",
   "metadata": {},
   "source": [
    "## Write the Memoized Algorithm (step 3)\n",
    "In order to make the workings of the memoized algorithm clear it's important to see how the memoized algorithm fills up its memo (or cache). We can think of the cache as a 2 dimensional grid. The following implementation uses the strings themselves to form the index. Uncomment the print statement and play around with different inputs (I suggest keeping them small)."
   ]
  },
  {
   "cell_type": "code",
   "execution_count": 7,
   "metadata": {},
   "outputs": [
    {
     "data": {
      "text/plain": [
       "0"
      ]
     },
     "execution_count": 7,
     "metadata": {},
     "output_type": "execute_result"
    }
   ],
   "source": [
    "def memoize(original_function):\n",
    "        memo = {}\n",
    "\n",
    "        def wrapper(X,Y):\n",
    "            key = tuple([X,Y])\n",
    "            if key not in memo:\n",
    "                memo[key] = original_function(X,Y)\n",
    "                \n",
    "                #uncomment the following lines to see how many times the grid gets filled                \n",
    "                #memoize.counter+=1 \n",
    "                #print (memoize.counter, memo)\n",
    "                \n",
    "            return memo[key]\n",
    "\n",
    "        return wrapper\n",
    "  \n",
    "@memoize\n",
    "def solve(X, Y):\n",
    "\n",
    "     # YOUR CODE HERE\n",
    "     return 0\n",
    "\n",
    "#unit tests\n",
    "memoize.counter = 0 # function attribute to count filled cells\n",
    "#solve('abc', 'abc')\n",
    "solve('', 'abc')"
   ]
  },
  {
   "cell_type": "markdown",
   "metadata": {},
   "source": [
    "When you were trying out different inputs on the memoized version of longest common subsequence, did you notice that the number of times memoize is called, varies wildly with different types of input?"
   ]
  },
  {
   "cell_type": "code",
   "execution_count": 8,
   "metadata": {
    "jupyter": {
     "source_hidden": true
    }
   },
   "outputs": [
    {
     "data": {
      "application/vnd.jupyter.widget-view+json": {
       "model_id": "1487c170d26249b484c4baa7b2dfa4b3",
       "version_major": 2,
       "version_minor": 0
      },
      "text/plain": [
       "VBox(box_style='info', children=(HBox(children=(HTML(value='<style>p{word-wrap: break-word}</style> <p>Refer t…"
      ]
     },
     "metadata": {},
     "output_type": "display_data"
    }
   ],
   "source": [
    "%run quizzes/quiz.py quizzes/05/lcsubsequence_memoize_quiz.json"
   ]
  },
  {
   "cell_type": "markdown",
   "metadata": {},
   "source": [
    "As we saw above, the memoized version does not always need to fill up the whole grid to get the final result. An extreme example is when the words are identical. In this case the algorithm zooms diagonally down the grid and runs in linear time!"
   ]
  },
  {
   "cell_type": "markdown",
   "metadata": {},
   "source": [
    "## Write the Iterative Algorithm (step 4)\n",
    "In the following exercise, convert the longest common subsequence to an iterative, bottom up implementation."
   ]
  },
  {
   "cell_type": "markdown",
   "metadata": {},
   "source": [
    "<div class=\"exercise exercise-info\">\n",
    "Convert the longest common subsequence to an iterative, bottom up implementation. You can use O(m*n) storage, but challenge yourself to using only 2 rows of storage to achieve O(n) in space. <u>Spoiler alert: huge hints in starter code below!</u>\n",
    "</div>"
   ]
  },
  {
   "cell_type": "code",
   "execution_count": 9,
   "metadata": {},
   "outputs": [],
   "source": [
    "def solve(X, Y):\n",
    "    \n",
    "    # will hold only two rows\n",
    "    memo = {}\n",
    "    m, n = len(X), len(Y)\n",
    "\n",
    "    for i in range(m + 1):       \n",
    "        for j in range(n + 1):\n",
    "            \n",
    "            # Hint: run along all the columns, but only need 2 rows: row 0 and row 1          \n",
    "            col = j \n",
    "            row = i%2\n",
    "        \n",
    "            # Hint: The 'upper' row will alternate:  first row 0 is the upper row, then row 1 becomes the 'upper' row\n",
    "            \n",
    "            ######################\n",
    "            ### YOUR CODE HERE ###\n",
    "            ######################\n",
    "            \n",
    "            #solve.counter += 1\n",
    "            #print(solve.counter, memo)\n",
    "    \n",
    "    return memo[tuple([row,col])]\n",
    "\n",
    "solve.counter = 0 ### function attribute to count filled cells\n",
    "\n",
    "#unit tests\n",
    "#solve('abcd', 'abcd')"
   ]
  },
  {
   "cell_type": "markdown",
   "metadata": {},
   "source": [
    "<div class=\"exercise exercise-info\">\n",
    "    <b>Thought exercise:</b> <br><br>\n",
    "    Try different inputs with the bottom-up solution. You'll notice that even in the case of the two strings matching exactly, the iterative solution always fills the whole grid, so working in O(m*n) time, whereas the recursive, memoized solution breezes through that input in O(n) time.<br><br>\n",
    "    1. Sometimes the recursive, memoized solution outperforms the iterative one also in terms of how many calculations it makes. Why is this?\n",
    "<br><br>\n",
    "    2. It wasn't too difficult to write an implementation of the iterative solution to use only O(n) storage instead of using a whole grid which would be O(m*n) storage. Can you easily convert the memoized recursive algorithm to only use linear storage too?\n",
    "</div>"
   ]
  },
  {
   "cell_type": "markdown",
   "metadata": {},
   "source": [
    "# Longest Common Substring\n",
    "The [longest common substring](https://en.wikipedia.org/wiki/Longest_common_substring_problem) problem is most often stated like this: You are given two string, X of length n and Y of length m. Find the longest string which is a substring of both X and Y.\n",
    "\n",
    "Note, like we did in the longest common subsequence, the exercise here is to find the _length_ of the longest substring and not the substring itself.\n",
    "\n",
    "This in itself is __a handy trick__ for solving dynamic programming problems. If you are asked to find the longest/shortest X, it is often easier to first design an algorithm to return the length of the longest/shortest X. You first solve the problem of existence and then very often, returning an instance is only a matter of drudge work."
   ]
  },
  {
   "cell_type": "code",
   "execution_count": 10,
   "metadata": {
    "jupyter": {
     "source_hidden": true
    },
    "pycharm": {
     "name": "#%%\n"
    }
   },
   "outputs": [
    {
     "data": {
      "application/vnd.jupyter.widget-view+json": {
       "model_id": "3fddebcfcc9544c0b62371fb270d6a51",
       "version_major": 2,
       "version_minor": 0
      },
      "text/plain": [
       "VBox(box_style='info', children=(HBox(children=(HTML(value='<style>p{word-wrap: break-word}</style> <p>Fill in…"
      ]
     },
     "metadata": {},
     "output_type": "display_data"
    }
   ],
   "source": [
    "%run quizzes/quiz.py quizzes/05/lcstring_example.json"
   ]
  },
  {
   "cell_type": "markdown",
   "metadata": {},
   "source": [
    "## Find the Subproblems (step 1)\n",
    "Remember that by the end of this step you will have examined all the valid subproblem solutions according to constraints or instructions in the given problem statement."
   ]
  },
  {
   "cell_type": "markdown",
   "metadata": {
    "pycharm": {
     "name": "#%% md\n"
    }
   },
   "source": [
    "### Ignore Optimization\n",
    "__Start this way:__  Read the problem and pick out the optimization request if any - and ignore it! Answer the following quiz about the problem described here."
   ]
  },
  {
   "cell_type": "code",
   "execution_count": 11,
   "metadata": {
    "jupyter": {
     "source_hidden": true
    }
   },
   "outputs": [
    {
     "data": {
      "application/vnd.jupyter.widget-view+json": {
       "model_id": "5157e924b7bc40c6a0d00eea80c4c612",
       "version_major": 2,
       "version_minor": 0
      },
      "text/plain": [
       "VBox(box_style='info', children=(HBox(children=(HTML(value=\"<style>p{word-wrap: break-word}</style> <p>Which s…"
      ]
     },
     "metadata": {},
     "output_type": "display_data"
    }
   ],
   "source": [
    "%run quizzes/quiz.py quizzes/05/lcsubstring_first_step.json"
   ]
  },
  {
   "cell_type": "markdown",
   "metadata": {},
   "source": [
    "### Divide Subproblems into Cases\n",
    "Remember that there are 3 main ways to derive the recurrence relation:\n",
    "\n",
    "1. __It's given to you!__ That's not the case here\n",
    "2. __Build it from a given constraint.__ This is our case: the strings must must match. If they don't match, we don't count them.\n",
    "3. __Add your own constraint, then build from that.__ n/a\n",
    "\n",
    "The constraint of 'substrings must match in order to count them' doesn't lead as smoothly into the recurrence relation as in the drinking game/largest independent set in a tree problem. But it still hints how to start: Start by __comparing the last letter__ of each word.\n",
    "\n",
    "Do they match? If they do, then we're interested in looking at the rest of both strings. If they don't match, then we need to split the next step into two: look at the whole of the 1st string and one letter less of the 2nd string. Then look at the whole of the 2nd string and one letter less of the 1st string.\n",
    "\n",
    "The important thing to note is that what I wrote above is NOT the final algorithm - it's just a way to think about how to build a recurrence relation that knows how to _count_ substring lengths and covers all the possible substrings."
   ]
  },
  {
   "cell_type": "code",
   "execution_count": 12,
   "metadata": {
    "jupyter": {
     "source_hidden": true
    }
   },
   "outputs": [
    {
     "data": {
      "application/vnd.jupyter.widget-view+json": {
       "model_id": "d0f0db05fcb94a60b5cbaf6f2bd3f834",
       "version_major": 2,
       "version_minor": 0
      },
      "text/plain": [
       "VBox(box_style='info', children=(HBox(children=(HTML(value='<style>p{word-wrap: break-word}</style> <p>Select …"
      ]
     },
     "metadata": {},
     "output_type": "display_data"
    }
   ],
   "source": [
    "%run quizzes/quiz.py quizzes/05/lcs_rr.json"
   ]
  },
  {
   "cell_type": "markdown",
   "metadata": {
    "pycharm": {
     "name": "#%% md\n"
    }
   },
   "source": [
    "Going back to our example of 'happiness and pinecones', you have the following three cases (first call of the function)\n",
    "\n",
    "1. Compare last letters ('s' and 's') and add result to comparison of 'happines' and 'pinecone'\n",
    "2. Compare 'happiness' and 'pinecone'\n",
    "3. Compare 'happines' and 'pinecones'"
   ]
  },
  {
   "cell_type": "markdown",
   "metadata": {},
   "source": [
    "## Write the Recursive Algorithm (step 2)\n",
    "Once you write the recurrence relation, you're basically done, so let's dive in."
   ]
  },
  {
   "cell_type": "markdown",
   "metadata": {},
   "source": [
    "### Add Optimization Back In\n",
    "The problem asked to find the _longest_ substring. So the recurrence relation will include _maximizing_ over the three cases you found above."
   ]
  },
  {
   "cell_type": "markdown",
   "metadata": {},
   "source": [
    "### Write the Recurrence Relation\n",
    "The practice problem is a bit more challenging than the worked example above. I admit that I found it easier to first write the algorithm in Python, but writing up the recurrence was a good exercise in LaTeX 😜"
   ]
  },
  {
   "cell_type": "markdown",
   "metadata": {},
   "source": [
    "<div class=\"exercise exercise-info\">\n",
    "Writing the recurrence relation is the crux to solving the problem. Try to work it out yourself.\n",
    "</div>"
   ]
  },
  {
   "cell_type": "markdown",
   "metadata": {},
   "source": [
    "$x_i \\text{ are the first i letters of X}$\n",
    "\n",
    "$y_j \\text{ are the first j letters of Y}$\n",
    "\n",
    "\n",
    "\\begin{equation}\n",
    "  lcs(x_m, y_n, count) = \n",
    "  \\begin{cases}\n",
    "    count,  & \\text{if}\\ i=0 \\text{ or } j = 0 \\\\\n",
    "    max\n",
    "    \\begin{cases} & & & & & & \\text{otherwise} \\\\\n",
    "      c\n",
    "      \\begin{cases}  \\\\\n",
    "        lcs(x_{i-1}, y_{j-1}, count + 1),  & & & \\text{if}\\  x_i = y_j \\\\\n",
    "        count, &  & & \\text{otherwise}  \\\\\n",
    "      \\end{cases} \\\\\n",
    "     lcs(x_i, y_{j-1}, 0)  \\\\\n",
    "     lcs(x_{i-1}, y_{j}, 0)  \\\\\n",
    "    \\end{cases}\n",
    "  \\end{cases}\n",
    "\\end{equation}\n"
   ]
  },
  {
   "cell_type": "markdown",
   "metadata": {},
   "source": [
    "### Implement the Recursive Algorithm\n",
    "Keep the recurrence relation in front of you as a guide for the following exercise."
   ]
  },
  {
   "cell_type": "markdown",
   "metadata": {
    "pycharm": {
     "name": "#%% md\n"
    }
   },
   "source": [
    "<div class=\"exercise exercise-info\">\n",
    "Implement the naive recursive algorithm to calculate the length of the longest common substring when given two strings X and Y. It will run in exponential time, that's expected for this step. Starter code provided below. Note that the function <code>lcs_count(X, Y)</code> takes zero based strings as input which is different from the recurrence formula which is 1-based.\n",
    "</div>"
   ]
  },
  {
   "cell_type": "code",
   "execution_count": 13,
   "metadata": {
    "collapsed": false,
    "jupyter": {
     "outputs_hidden": false
    },
    "pycharm": {
     "name": "#%%\n"
    }
   },
   "outputs": [],
   "source": [
    "def lcs(X, Y, count):\n",
    "    ### YOUR CODE ###\n",
    "    return 0\n",
    "\n",
    "def lcs_count(X,Y):\n",
    "    return lcs(X, Y, 0)\n",
    "\n",
    "# unit tests\n",
    "# YOUR CASES HERE ###\n",
    "\n",
    "#assert(lcs_count('happiness', 'pinecones') == 4)"
   ]
  },
  {
   "cell_type": "markdown",
   "metadata": {},
   "source": [
    "## Write the Memoized Algorithm (step 3)\n",
    "At this point you have a correct but inefficient algorithm. The naive recursive algorithm runs in exponential time. Remember that all memoization does is store the solutions of the subproblems so that they don't need to be calculated more than once."
   ]
  },
  {
   "cell_type": "markdown",
   "metadata": {},
   "source": [
    "<div class=\"exercise exercise-info\">\n",
    "Now implement the recursive, <b>memoized</b> algorithm to solve Happiness & Pinecones (longest common substring) problem. Starter code provided below. A clever solution from Schmatz, (2017) uses a decorator to memoize and caches results using the calling function's arguments as index into the cache (see solutions).\n",
    "    \n",
    "While you're working on this, note how a table of values is built\n",
    "</div>"
   ]
  },
  {
   "cell_type": "code",
   "execution_count": 14,
   "metadata": {},
   "outputs": [],
   "source": [
    "#The solution is similar to (Schmatz, 2017). See references section\n",
    "def memoize(original_function):\n",
    "    memo = {}\n",
    "    \n",
    "    def wrapper(X, Y, count):\n",
    "       ## YOUR CODE\n",
    "        \n",
    "        return wrapper\n",
    "\n",
    "@memoize\n",
    "def lcs(X, Y, count = 0):\n",
    "\n",
    "    ## YOUR CODE\n",
    "    return 0\n",
    "\n",
    "def lcs_count(X,Y):\n",
    "    return lcs(X, Y, 0)\n",
    "\n",
    "#unit tests\n",
    "#assert(lcs('', '') == 0)\n",
    "#assert(lcs('cat', 'sa') == 1)"
   ]
  },
  {
   "cell_type": "markdown",
   "metadata": {},
   "source": [
    "# Solutions"
   ]
  },
  {
   "cell_type": "markdown",
   "metadata": {
    "pycharm": {
     "name": "#%% md\n"
    }
   },
   "source": [
    "<div class=\"exercise exercise-warning\"><details><summary>Longest common subsequence - naive - recursive</summary> \n",
    "    \n",
    "```python \n",
    "    \n",
    "    #%load solutions/05/lcsubsequence_naive.py\n",
    "    def solve(X, Y):\n",
    "\n",
    "    m, n = len(X), len(Y)\n",
    "    if m == 0 or n == 0:\n",
    "        return 0 \n",
    "\n",
    "    if X[m - 1] == Y[n - 1]:\n",
    "        return 1 + solve(X[0: m - 1], Y[0: n - 1])\n",
    "\n",
    "    return max(solve(X[0:m], Y[0:n - 1]), solve(X[0:m - 1], Y[0:n]))\n",
    "\n",
    "    #unit tests\n",
    "    assert(solve('a', '') == 0)\n",
    "    assert(solve('happiness', 'pinecones') == 5) \n",
    "```\n",
    "    \n",
    "</details>"
   ]
  },
  {
   "cell_type": "markdown",
   "metadata": {
    "pycharm": {
     "name": "#%% md\n"
    }
   },
   "source": [
    "<div class=\"exercise exercise-warning\"><details><summary>Longest common subsequence - memoized - recursive</summary> \n",
    "    \n",
    "```python \n",
    "    \n",
    "    #%load solutions/05/lcsubsequence_memoized.py\n",
    "    def memoize(original_function):\n",
    "            memo = {}\n",
    "\n",
    "            def wrapper(X,Y):\n",
    "                key = tuple([X,Y])\n",
    "                if key not in memo:\n",
    "                    memo[key] = original_function(X,Y)\n",
    "\n",
    "                    #uncomment the following lines to see how many times the grid gets filled \n",
    "                    #memoize.counter+=1 \n",
    "                    #print (memoize.counter, memo)\n",
    "\n",
    "                return memo[key]\n",
    "\n",
    "            return wrapper\n",
    "  \n",
    "    memoize.counter = 0 ### function attribute to count filled cells\n",
    "\n",
    "    @memoize\n",
    "    def solve(X, Y):\n",
    "\n",
    "        m, n = len(X), len(Y)\n",
    "        if m == 0 or n == 0:\n",
    "            return 0 \n",
    "\n",
    "        if X[m - 1] == Y[n - 1]:\n",
    "            return 1 + solve(X[0: m - 1], Y[0: n - 1])\n",
    "\n",
    "        return max(solve(X[0:m], Y[0:n - 1]), solve(X[0:m - 1], Y[0:n]))\n",
    "\n",
    "\n",
    "    #unit tests\n",
    "    #solve('abc', 'abc')\n",
    "```\n",
    "    \n",
    "</details>"
   ]
  },
  {
   "cell_type": "markdown",
   "metadata": {
    "pycharm": {
     "name": "#%% md\n"
    }
   },
   "source": [
    "<div class=\"exercise exercise-warning\"><details><summary>Longest common subsequence - iterative - bottom-up</summary> \n",
    "    \n",
    "```python \n",
    "    \n",
    "    #%load solutions/05/lcsubsequence_iterated.py\n",
    "    def solve(X, Y):\n",
    "    \n",
    "    # will hold only two rows\n",
    "    memo = {}\n",
    "    m, n = len(X), len(Y)\n",
    "\n",
    "    for i in range(m + 1):       \n",
    "        for j in range(n + 1):\n",
    "            \n",
    "            # run along all the columns, but only need 2 rows: row 0 and row 1          \n",
    "            col = j \n",
    "            row = i%2\n",
    "        \n",
    "            # The 'upper' row will alternate:  first row 0 is the upper row, then row 1 becomes the 'upper' row\n",
    "            if row == 0:\n",
    "                upper = row + 1\n",
    "            else:\n",
    "                upper = row - 1\n",
    "                \n",
    "            key = tuple([row, col])    \n",
    "            if i == 0 or j == 0:\n",
    "                memo[key] = 0\n",
    "            elif X[i - 1] == Y[j - 1]:\n",
    "                memo[key] = 1 + memo[tuple([upper, col - 1])]\n",
    "            else:\n",
    "                memo[key] = max(memo[tuple([row, col - 1])], memo[tuple([upper, col])])\n",
    "            \n",
    "            #solve.counter += 1\n",
    "            #print(solve.counter, memo)\n",
    "    \n",
    "    return memo[tuple([row,col])]\n",
    "\n",
    "    solve.counter = 0 ### function attribute to count filled cells\n",
    "\n",
    "    #unit tests\n",
    "    #solve('rachel', 'rachel')\n",
    "    \n",
    "```\n",
    "    \n",
    "</details>"
   ]
  },
  {
   "cell_type": "markdown",
   "metadata": {},
   "source": [
    "<div class=\"exercise exercise-warning\"><details><summary>Why does recursive memoized longest common subsequence sometimes outperform interative implementation?</summary> \n",
    "    \n",
    "    The recursive implementation works top-down, so it works only on the substrings it needs. If the strings match, the algorithm immediately shortens the strings by 1 letter and doesn't bother checking anything else. The bottom up implementation doesn't know the future - it calculates all the subproblems in case it will need the results later. However, for the very same reason, the recursive algorithm cannot be easily converted to using only linear space since depending on the input, the grid it builds up could be sparse or more filled.\n",
    "    \n",
    "</details>"
   ]
  },
  {
   "cell_type": "markdown",
   "metadata": {
    "pycharm": {
     "name": "#%% md\n"
    }
   },
   "source": [
    "<div class=\"exercise exercise-warning\"><details><summary>Longest common substring - naive - recursive</summary> \n",
    "    \n",
    "```python \n",
    "    \n",
    "    #%load solutions/05/lcsubstring_naive.py\n",
    "    def solve_counter(X, Y, count = 0):\n",
    "\n",
    "    m, n = len(X), len(Y)\n",
    "    if m == 0 or n == 0:\n",
    "        return count \n",
    "\n",
    "    if X[m - 1] == Y[n - 1]:\n",
    "        count = solve_counter(X[0: m - 1], Y[0: n - 1], count + 1)\n",
    "\n",
    "    return max(count, solve_counter(X[0:m], Y[0:n-1], 0), solve_counter(X[0:m-1], Y[0:n], 0))\n",
    "\n",
    "    def solve(X,Y):\n",
    "        return solve_counter(X, Y, 0)\n",
    "\n",
    "    #unit tests\n",
    "    assert(solve('', '') == 0)\n",
    "    assert(solve('', 'b') == 0)\n",
    "    assert(solve('a', '') == 0) \n",
    "```\n",
    "    \n",
    "</details>"
   ]
  },
  {
   "cell_type": "markdown",
   "metadata": {
    "pycharm": {
     "name": "#%% md\n"
    }
   },
   "source": [
    "<div class=\"exercise exercise-warning\"><details><summary>Longest common substring - memoized</summary> \n",
    "    \n",
    "```python \n",
    "    \n",
    "    # This solution is an improved version of a clever memoize function that uses the strings as keys (useful for learning and debugging) that I found here.:\n",
    "    # Schmatz, S. (2017, December 7). Intermediate Dynamic Programming. https://stevenschmatz.github.io/blog/2017/12/07/intermediate-dynamic-programming/\n",
    "    # The original version includes the 'count' input arg in the memo dictionary key, which seemed to me uneccessary so I removed it.\n",
    "    def memoize(original_function):\n",
    "        memo = {}\n",
    "\n",
    "        def wrapper(X, Y, count):\n",
    "            key = tuple([X,Y])\n",
    "            if key in memo:\n",
    "                return memo[key]\n",
    "\n",
    "            result = original_function(X, Y, counter)\n",
    "            memo[key] = result\n",
    "\n",
    "            return result\n",
    "\n",
    "        return wrapper\n",
    "\n",
    "\n",
    "    @memoize\n",
    "    def solve_count(X, Y, count = 0):\n",
    "\n",
    "        m, n = len(X), len(Y)\n",
    "        #print ('in solve_count', m, \" : \", X, \"   \", n, \" : \", Y , \" -->\", count)\n",
    "        if m == 0 or n == 0:\n",
    "            return count \n",
    "\n",
    "        if X[m - 1] == Y[n - 1]:\n",
    "            count = solve_count(X[0: m - 1], Y[0: n - 1], count + 1)\n",
    "\n",
    "        return max(count, solve_count(X[0:m], Y[0:n-1], 0), solve_count(X[0:m-1], Y[0:n], 0))\n",
    "\n",
    "    def solve_count(X,Y):\n",
    "        return lcs(X, Y, 0)\n",
    "\n",
    "    #unit tests\n",
    "    solve('abc', 'abc', 0)\n",
    "   \n",
    "```\n",
    "    \n",
    "</details>"
   ]
  },
  {
   "cell_type": "markdown",
   "metadata": {},
   "source": [
    "# References\n",
    "\n",
    "1. Dasgupta, S., Papadimitriou, C. H., & Vazirani, U. V. (2008). Algorithms. McGraw-Hill Higher Education New York.\n",
    "\n",
    "2. Forišek, M. (2015). Towards a better way to teach dynamic programming. Olympiads in Informatics, 9, 45–55.\n",
    "\n",
    "3. Jauhari, A. (2017, August 20). Print the longest common substring. GeeksforGeeks. https://www.geeksforgeeks.org/print-longest-common-substring/\n",
    "\n",
    "4. Schmatz, S. (2017, December 7). Intermediate Dynamic Programming. https://stevenschmatz.github.io/blog/2017/12/07/intermediate-dynamic-programming/"
   ]
  },
  {
   "cell_type": "code",
   "execution_count": 15,
   "metadata": {
    "collapsed": false,
    "jupyter": {
     "outputs_hidden": false
    },
    "pycharm": {
     "name": "#%%\n"
    }
   },
   "outputs": [
    {
     "data": {
      "text/html": [
       "<style>\n",
       "    .alert {\n",
       "      padding: 15px;\n",
       "      margin-bottom: 20px;\n",
       "      border: 1px solid transparent;\n",
       "      border-radius: 4px;\n",
       "    }\n",
       "\n",
       "    .alert h4 {\n",
       "      margin-top: 0;\n",
       "      color: inherit;\n",
       "    }\n",
       "\n",
       "    .alert .alert-link {\n",
       "      font-weight: bold;\n",
       "    }\n",
       "\n",
       "    .alert > p,\n",
       "    .alert > ul {\n",
       "      margin-bottom: 0;\n",
       "    }\n",
       "\n",
       "    .alert > p + p {\n",
       "      margin-top: 5px;\n",
       "    }\n",
       "\n",
       "    .alert-dismissable,\n",
       "    .alert-dismissible {\n",
       "      padding-right: 35px;\n",
       "    }\n",
       "\n",
       "    .alert-dismissable .close,\n",
       "    .alert-dismissible .close {\n",
       "      position: relative;\n",
       "      top: -2px;\n",
       "      right: -21px;\n",
       "      color: inherit;\n",
       "    }\n",
       "\n",
       "    .alert-success {\n",
       "      background-color: #C8E6C9;\n",
       "      border-color: #81C784;\n",
       "      color: #388E3C;\n",
       "    }\n",
       "\n",
       "    .alert-success hr {\n",
       "      border-top-color: #AED581;\n",
       "    }\n",
       "\n",
       "    .alert-success .alert-link {\n",
       "      color: #2E7D32;\n",
       "    }\n",
       "\n",
       "    .alert-info {\n",
       "      background-color: #B2EBF2;\n",
       "      border-color: #4DD0E1;\n",
       "      color: #0097A7;\n",
       "    }\n",
       "\n",
       "    .alert-info hr {\n",
       "      border-top-color: #00838F;\n",
       "    }\n",
       "\n",
       "    .alert-info .alert-link {\n",
       "      color: #245269;\n",
       "    }\n",
       "\n",
       "    .alert-warning {\n",
       "      background-color: #FFE0B2;\n",
       "      border-color: #FFB74D;\n",
       "      color: #F57C00;\n",
       "    }\n",
       "\n",
       "    .alert-warning hr {\n",
       "      border-top-color: #FFB74D;\n",
       "    }\n",
       "\n",
       "    .alert-warning .alert-link {\n",
       "      color: #EF6C00;\n",
       "    }\n",
       "\n",
       "    .alert-danger {\n",
       "      background-color: #ffcdd2;\n",
       "      border-color: #e57373;\n",
       "      color: #d32f2f;\n",
       "    }\n",
       "\n",
       "    .alert-danger hr {\n",
       "      border-top-color: #d32f2f;\n",
       "    }\n",
       "\n",
       "    .alert-danger .alert-link {\n",
       "      color: #c62828;\n",
       "    }\n",
       "    \n",
       "\n",
       "    .exercise {\n",
       "      padding: 15px;\n",
       "      margin-bottom: 20px;\n",
       "      border: 1px solid transparent;\n",
       "      border-radius: 4px;\n",
       "    }\n",
       "\n",
       "    .exercise h4 {\n",
       "      margin-top: 0;\n",
       "      color: inherit;\n",
       "    }\n",
       "\n",
       "    .exercise .alert-link {\n",
       "      font-weight: bold;\n",
       "    }\n",
       "\n",
       "    .exercise > p,\n",
       "    .exercise > ul {\n",
       "      margin-bottom: 0;\n",
       "    }\n",
       "\n",
       "    .exercise > p + p {\n",
       "      margin-top: 5px;\n",
       "    }\n",
       "\n",
       "    .exercise-info {\n",
       "      background-color: #B2EBF2;\n",
       "      border-color: #4DD0E1;\n",
       "      color: #000000;\n",
       "    }\n",
       "\n",
       "    .exercise-info hr {\n",
       "      border-top-color: #00838F;\n",
       "    }\n",
       "\n",
       "    .exercise-info .alert-link {\n",
       "      color: #245269;\n",
       "    }\n",
       "\n",
       "   .exercise-warning {\n",
       "      background-color: #FFE0B2;\n",
       "      border-color: #FFB74D;\n",
       "      color: #000000;\n",
       "    }\n",
       "\n",
       "    .exercise-warning hr {\n",
       "      border-top-color: #FFB74D;\n",
       "    }\n",
       "\n",
       "    .excercise-warning .alert-link {\n",
       "      color: #EF6C00;\n",
       "    }\n",
       "\n",
       "\n",
       "</style>\n"
      ],
      "text/plain": [
       "<IPython.core.display.HTML object>"
      ]
     },
     "execution_count": 15,
     "metadata": {},
     "output_type": "execute_result"
    }
   ],
   "source": [
    "#workaround for known ipywidget issue not rendering alert style colours on Jupyter lab\n",
    "from IPython.core.display import HTML\n",
    "HTML(open(\"../styles/custom.css\", \"r\").read())"
   ]
  }
 ],
 "metadata": {
  "kernelspec": {
   "display_name": "Python 3",
   "language": "python",
   "name": "python3"
  },
  "language_info": {
   "codemirror_mode": {
    "name": "ipython",
    "version": 3
   },
   "file_extension": ".py",
   "mimetype": "text/x-python",
   "name": "python",
   "nbconvert_exporter": "python",
   "pygments_lexer": "ipython3",
   "version": "3.7.6"
  },
  "latex_envs": {
   "LaTeX_envs_menu_present": true,
   "autoclose": true,
   "autocomplete": true,
   "bibliofile": "biblio.bib",
   "cite_by": "apalike",
   "current_citInitial": 1,
   "eqLabelWithNumbers": true,
   "eqNumInitial": 1,
   "hotkeys": {
    "equation": "Ctrl-E",
    "itemize": "Ctrl-I"
   },
   "labels_anchors": false,
   "latex_user_defs": false,
   "report_style_numbering": false,
   "user_envs_cfg": false
  },
  "toc": {
   "base_numbering": 1,
   "nav_menu": {},
   "number_sections": false,
   "sideBar": true,
   "skip_h1_title": false,
   "title_cell": "Table of Contents",
   "title_sidebar": "Contents",
   "toc_cell": false,
   "toc_position": {},
   "toc_section_display": true,
   "toc_window_display": true
  },
  "toc-autonumbering": true,
  "toc-showtags": false,
  "widgets": {
   "application/vnd.jupyter.widget-state+json": {
    "state": {},
    "version_major": 2,
    "version_minor": 0
   }
  }
 },
 "nbformat": 4,
 "nbformat_minor": 4
}
