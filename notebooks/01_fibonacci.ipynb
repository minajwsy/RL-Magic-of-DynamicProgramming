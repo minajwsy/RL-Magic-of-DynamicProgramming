{
 "cells": [
  {
   "cell_type": "markdown",
   "metadata": {},
   "source": [
    "# Lesson 1: Fibonacci Numbers"
   ]
  },
  {
   "cell_type": "markdown",
   "metadata": {},
   "source": [
    "It's common to begin the study of dynamic programming using [Fibonacci numbers](https://en.wikipedia.org/wiki/Fibonacci_number) as an example. This is because they are literally a textbook example of transforming a recursive, top-down algorithm into an iterative, bottom-up one.\n",
    "\n",
    "However, unlike the the 'sum of n numbers' and 'palindrome' problems we explored previously, there is real motivation to make this transformation."
   ]
  },
  {
   "cell_type": "markdown",
   "metadata": {},
   "source": [
    "### Find the n'th Fibonacci number\n",
    "\n",
    "Fibonacci numbers form a series defined by a recurrence formula. In _our_ implementation, we'll start the Fibonacci series at n = 1 and define it like this:\n",
    "\n",
    "$$fib(1) = 1$$\n",
    "$$fib(2) = 1$$\n",
    "$$and~then~for~every~n > 2:F_{n} = F_{n-1} + F_{n-2}$$\n",
    "\n",
    "This gives us a series starting at n=1 that looks like this: $$1, 1, 2, 3, 5,8 ,13, 21, 34, 55, ...$$\n",
    "\n",
    "In the quizzes and analysis below, you'll see why it's convenient that our base cases are n = 1 and n = 2 (and not the usual mathematical definition that begins with 0)."
   ]
  },
  {
   "cell_type": "code",
   "execution_count": 132,
   "metadata": {
    "hide_input": true
   },
   "outputs": [
    {
     "data": {
      "image/jpeg": "[encoded data removed]",
      "text/html": [
       "\n",
       "        <iframe\n",
       "            width=\"400\"\n",
       "            height=\"300\"\n",
       "            src=\"https://www.youtube.com/embed/BtI0aWgBwoU\"\n",
       "            frameborder=\"0\"\n",
       "            allowfullscreen\n",
       "        ></iframe>\n",
       "        "
      ],
      "text/plain": [
       "<IPython.lib.display.YouTubeVideo at 0x1f44c9baa08>"
      ]
     },
     "execution_count": 132,
     "metadata": {},
     "output_type": "execute_result"
    }
   ],
   "source": [
    "from IPython.display import YouTubeVideo\n",
    "YouTubeVideo('BtI0aWgBwoU')"
   ]
  },
  {
   "cell_type": "markdown",
   "metadata": {},
   "source": [
    "Let's first code up the recursive implementation of finding the n'th Fibonacci number"
   ]
  },
  {
   "cell_type": "code",
   "execution_count": null,
   "metadata": {},
   "outputs": [],
   "source": [
    "def fib(n):\n",
    "    \n",
    "    ##############\n",
    "    # YOUR CODE ##\n",
    "    ##############\n",
    "    \n",
    "    return 0"
   ]
  },
  {
   "cell_type": "code",
   "execution_count": null,
   "metadata": {},
   "outputs": [],
   "source": [
    "# unit tests"
   ]
  },
  {
   "cell_type": "code",
   "execution_count": null,
   "metadata": {},
   "outputs": [],
   "source": [
    "%load solutions/01/fibonacci_n.py\n",
    "def fib(n):\n",
    "\n",
    "    if (n <= 2):\n",
    "        return 1\n",
    "\n",
    "    return (fibonacci(n - 1) + fibonacci(n - 2))"
   ]
  },
  {
   "cell_type": "code",
   "execution_count": 133,
   "metadata": {},
   "outputs": [
    {
     "name": "stdout",
     "output_type": "stream",
     "text": [
      "Overwriting quizzes/01/fibonacci_n_minus_k.json\n"
     ]
    }
   ],
   "source": [
    "%%writefile quizzes/01/fibonacci_n_minus_k.json\n",
    "{\n",
    "    \"type\": \"multi-answer\",\n",
    "    \"question\": \"How many nodes of type $fib(n - k)$ does the call stack tree of $fib(n)$ have, where k is between 0 and n-1?\",\n",
    "    \"options\": [\n",
    "        {\n",
    "            \"id\": \"1\",\n",
    "            \"answer\": \"$fib(k)$\",\n",
    "            \"correct\": true\n",
    "        },\n",
    "        {\n",
    "            \"id\": \"2\",\n",
    "            \"answer\": \"$fib(n)$\",\n",
    "            \"correct\": false\n",
    "        },\n",
    "        {\n",
    "            \"id\": \"3\",\n",
    "            \"answer\": \"$fib(n - k)$\",\n",
    "            \"correct\": false\n",
    "        }\n",
    "    ]\n",
    "}"
   ]
  },
  {
   "cell_type": "code",
   "execution_count": 134,
   "metadata": {},
   "outputs": [
    {
     "data": {
      "application/vnd.jupyter.widget-view+json": {
       "model_id": "0c09682d33e244c6a00feeceebe17329",
       "version_major": 2,
       "version_minor": 0
      },
      "text/plain": [
       "AppLayout(box_style='info', children=(Label(value='How many nodes of type $fib(n - k)$ does the call stack tre…"
      ]
     },
     "metadata": {},
     "output_type": "display_data"
    }
   ],
   "source": [
    "%run quizzes/quiz.py quizzes/01/fibonacci_n_minus_k.json"
   ]
  },
  {
   "cell_type": "code",
   "execution_count": 135,
   "metadata": {},
   "outputs": [
    {
     "name": "stdout",
     "output_type": "stream",
     "text": [
      "Overwriting quizzes/01/fibonacci_leaves.json\n"
     ]
    }
   ],
   "source": [
    "%%writefile quizzes/01/fibonacci_leaves.json\n",
    "{\n",
    "    \"type\": \"multi-answer\",\n",
    "    \"question\": \"How many leaves does the call stack tree for $fib(n)$ have? \",\n",
    "    \"options\": [\n",
    "        {\n",
    "            \"id\": \"1\",\n",
    "            \"answer\": \"$2^n$\",\n",
    "            \"correct\": false\n",
    "        },\n",
    "        {\n",
    "            \"id\": \"2\",\n",
    "            \"answer\": \"$2^{fib(n)}$\",\n",
    "            \"correct\": false\n",
    "        },\n",
    "        {\n",
    "            \"id\": \"3\",\n",
    "            \"answer\": \"$fib(n)$\",\n",
    "            \"correct\": true\n",
    "        },\n",
    "        {\n",
    "            \"id\": \"4\",\n",
    "            \"answer\": \"$n {fib(n)}$\",\n",
    "            \"correct\": false\n",
    "        },\n",
    "        {\n",
    "            \"id\": \"5\",\n",
    "            \"answer\": \"$fib (n - 1) + fib (n - 2)$\",\n",
    "            \"correct\": true\n",
    "        }\n",
    "    ]\n",
    "}"
   ]
  },
  {
   "cell_type": "code",
   "execution_count": 136,
   "metadata": {},
   "outputs": [
    {
     "data": {
      "application/vnd.jupyter.widget-view+json": {
       "model_id": "7595a16bdcd54b2c91819d0e3166fa4f",
       "version_major": 2,
       "version_minor": 0
      },
      "text/plain": [
       "AppLayout(box_style='info', children=(Label(value='How many leaves does the call stack tree for $fib(n)$ have?…"
      ]
     },
     "metadata": {},
     "output_type": "display_data"
    }
   ],
   "source": [
    "%run quizzes/quiz.py quizzes/01/fibonacci_leaves.json"
   ]
  },
  {
   "cell_type": "markdown",
   "metadata": {},
   "source": []
  },
  {
   "cell_type": "markdown",
   "metadata": {},
   "source": [
    "## References\n",
    "\n",
    "1. Forišek, M. (2015). Towards a better way to teach dynamic programming. Olympiads in Informatics, 9, 45–55."
   ]
  },
  {
   "cell_type": "markdown",
   "metadata": {},
   "source": [
    "Can you write a recursive function to calculate the n'th Fibonacci number? For example, if n = 6, the function should output 8 (because the series is: 1, 1, 2, 3, 5, 8 ...)"
   ]
  },
  {
   "cell_type": "code",
   "execution_count": 137,
   "metadata": {},
   "outputs": [],
   "source": [
    "#### Solution to 'Fibonacci numbers'"
   ]
  },
  {
   "cell_type": "code",
   "execution_count": null,
   "metadata": {},
   "outputs": [],
   "source": []
  }
 ],
 "metadata": {
  "kernelspec": {
   "display_name": "Python 3",
   "language": "python",
   "name": "python3"
  },
  "language_info": {
   "codemirror_mode": {
    "name": "ipython",
    "version": 3
   },
   "file_extension": ".py",
   "mimetype": "text/x-python",
   "name": "python",
   "nbconvert_exporter": "python",
   "pygments_lexer": "ipython3",
   "version": "3.7.6"
  },
  "latex_envs": {
   "LaTeX_envs_menu_present": true,
   "autoclose": false,
   "autocomplete": true,
   "bibliofile": "biblio.bib",
   "cite_by": "apalike",
   "current_citInitial": 1,
   "eqLabelWithNumbers": true,
   "eqNumInitial": 1,
   "hotkeys": {
    "equation": "Ctrl-E",
    "itemize": "Ctrl-I"
   },
   "labels_anchors": false,
   "latex_user_defs": false,
   "report_style_numbering": false,
   "user_envs_cfg": false
  },
  "toc": {
   "base_numbering": "",
   "nav_menu": {},
   "number_sections": false,
   "sideBar": true,
   "skip_h1_title": false,
   "title_cell": "Table of Contents",
   "title_sidebar": "Contents",
   "toc_cell": false,
   "toc_position": {
    "height": "calc(100% - 180px)",
    "left": "10px",
    "top": "150px",
    "width": "300.391px"
   },
   "toc_section_display": true,
   "toc_window_display": true
  }
 },
 "nbformat": 4,
 "nbformat_minor": 4
}