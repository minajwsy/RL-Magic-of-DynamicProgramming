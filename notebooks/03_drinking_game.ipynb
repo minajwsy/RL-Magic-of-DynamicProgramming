{
 "cells": [
  {
   "cell_type": "markdown",
   "metadata": {},
   "source": [
    "<font size=\"+4\">Lesson 3: The Drinking Game</font>\n",
    "    \n",
    "By the end of this lesson, you will know how to approach _any_ dynamic programming problem.\n",
    "    \n",
    "To demonstrate this method, we'll work on our first problem that really requires dynamic programming to solve which I have called 'The Drinking Game'.\n",
    "\n",
    "Along the way you'll learn:\n",
    "1. When to ignore, and what parts to ignore in the problem description\n",
    "2. One common subproblem choosing strategy (we'll cover others later)\n",
    "2. The 4 steps: Two steps to a correct solution, one more step to an efficient solution, and one further step for optional improvement.\n",
    "    \n",
    "    \n",
    "The following video introduces the topic.  \n"
   ]
  },
  {
   "cell_type": "code",
   "execution_count": 1,
   "metadata": {
    "jupyter": {
     "source_hidden": true
    },
    "pycharm": {
     "name": "#%%\n"
    }
   },
   "outputs": [
    {
     "data": {
      "image/jpeg": "[encoded data removed]",
      "text/html": [
       "\n",
       "        <iframe\n",
       "            width=\"400\"\n",
       "            height=\"300\"\n",
       "            src=\"https://www.youtube.com/embed/B4201HEb3ro\"\n",
       "            frameborder=\"0\"\n",
       "            allowfullscreen\n",
       "        ></iframe>\n",
       "        "
      ],
      "text/plain": [
       "<IPython.lib.display.YouTubeVideo at 0x1586dc97888>"
      ]
     },
     "execution_count": 1,
     "metadata": {},
     "output_type": "execute_result"
    }
   ],
   "source": [
    "from IPython.display import YouTubeVideo\n",
    "YouTubeVideo('B4201HEb3ro')"
   ]
  },
  {
   "cell_type": "markdown",
   "metadata": {},
   "source": [
    "\n",
    "\n",
    "\n",
    "\n",
    "\n"
   ]
  },
  {
   "cell_type": "markdown",
   "metadata": {},
   "source": [
    "# The Four Steps to Creating a Dynamic Programming Algorithm"
   ]
  },
  {
   "cell_type": "markdown",
   "metadata": {},
   "source": [
    "<figure>\n",
    "    <img src=\"../images/drinking_game_bottles.png\">\n",
    "    <figcaption>Figure 1: You’re given a sequence of n bottles, the volumes of some (unidentified) liquid are $𝑣_0$ through $𝑣_{(𝑛−1)}$ . Drink as much as you can, given that you cannot drink from any two adjacent bottles.\n",
    "    </figcaption>\n",
    "</figure>\n",
    "<p>"
   ]
  },
  {
   "cell_type": "markdown",
   "metadata": {},
   "source": [
    "The drinking game is an easy to understand version of 'find the maximum weighted [independent set](https://en.wikipedia.org/wiki/Independent_set_(graph_theory)) on a line'. The bottles can be thought of as vertices in a graph as shown below. We want to find the heaviest set of vertices that are __not connected__ by an edge."
   ]
  },
  {
   "cell_type": "code",
   "execution_count": 2,
   "metadata": {
    "jupyter": {
     "source_hidden": true
    },
    "pycharm": {
     "name": "#%%\n"
    }
   },
   "outputs": [
    {
     "data": {
      "image/svg+xml": [
       "<?xml version=\"1.0\" encoding=\"UTF-8\"?>\n",
       "<svg xmlns=\"http://www.w3.org/2000/svg\" xmlns:xlink=\"http://www.w3.org/1999/xlink\" width=\"600pt\" height=\"50pt\" viewBox=\"0 0 600 50\" version=\"1.1\">\n",
       "<defs>\n",
       "<g>\n",
       "<symbol overflow=\"visible\" id=\"glyph0-0\">\n",
       "<path style=\"stroke:none;\" d=\"M 1.75 0 L 1.75 -8.75 L 8.75 -8.75 L 8.75 0 Z M 1.96875 -0.21875 L 8.53125 -0.21875 L 8.53125 -8.53125 L 1.96875 -8.53125 Z M 1.96875 -0.21875 \"/>\n",
       "</symbol>\n",
       "<symbol overflow=\"visible\" id=\"glyph0-1\">\n",
       "<path style=\"stroke:none;\" d=\"M 0.585938 -2.644531 L 1.820313 -2.808594 C 1.957031 -2.109375 2.195313 -1.609375 2.539063 -1.300781 C 2.875 -0.992188 3.289063 -0.835938 3.78125 -0.839844 C 4.355469 -0.835938 4.84375 -1.039063 5.246094 -1.441406 C 5.640625 -1.839844 5.839844 -2.335938 5.84375 -2.933594 C 5.839844 -3.496094 5.65625 -3.960938 5.289063 -4.332031 C 4.917969 -4.695313 4.449219 -4.878906 3.882813 -4.882813 C 3.648438 -4.878906 3.359375 -4.832031 3.015625 -4.742188 L 3.152344 -5.824219 C 3.230469 -5.816406 3.296875 -5.8125 3.351563 -5.8125 C 3.875 -5.8125 4.34375 -5.949219 4.765625 -6.222656 C 5.179688 -6.496094 5.390625 -6.914063 5.394531 -7.484375 C 5.390625 -7.933594 5.238281 -8.308594 4.933594 -8.605469 C 4.628906 -8.898438 4.234375 -9.046875 3.753906 -9.050781 C 3.273438 -9.046875 2.875 -8.894531 2.554688 -8.597656 C 2.234375 -8.292969 2.027344 -7.84375 1.941406 -7.246094 L 0.710938 -7.464844 C 0.859375 -8.289063 1.203125 -8.925781 1.734375 -9.382813 C 2.265625 -9.832031 2.929688 -10.058594 3.726563 -10.0625 C 4.273438 -10.058594 4.773438 -9.941406 5.234375 -9.710938 C 5.691406 -9.472656 6.042969 -9.152344 6.289063 -8.75 C 6.53125 -8.339844 6.65625 -7.910156 6.65625 -7.457031 C 6.65625 -7.023438 6.539063 -6.628906 6.308594 -6.273438 C 6.074219 -5.917969 5.730469 -5.636719 5.277344 -5.429688 C 5.867188 -5.289063 6.328125 -5.003906 6.65625 -4.574219 C 6.984375 -4.140625 7.148438 -3.601563 7.148438 -2.960938 C 7.148438 -2.082031 6.828125 -1.339844 6.191406 -0.734375 C 5.550781 -0.125 4.746094 0.175781 3.773438 0.179688 C 2.890625 0.175781 2.160156 -0.0820313 1.582031 -0.605469 C 1 -1.128906 0.667969 -1.808594 0.585938 -2.644531 Z M 0.585938 -2.644531 \"/>\n",
       "</symbol>\n",
       "<symbol overflow=\"visible\" id=\"glyph0-2\">\n",
       "<path style=\"stroke:none;\" d=\"M 5.214844 0 L 3.984375 0 L 3.984375 -7.839844 C 3.6875 -7.558594 3.296875 -7.273438 2.816406 -6.992188 C 2.335938 -6.707031 1.90625 -6.496094 1.523438 -6.359375 L 1.523438 -7.546875 C 2.210938 -7.867188 2.8125 -8.257813 3.328125 -8.722656 C 3.84375 -9.179688 4.207031 -9.625 4.421875 -10.0625 L 5.214844 -10.0625 Z M 5.214844 0 \"/>\n",
       "</symbol>\n",
       "<symbol overflow=\"visible\" id=\"glyph0-3\">\n",
       "<path style=\"stroke:none;\" d=\"M 4.523438 0 L 4.523438 -2.398438 L 0.179688 -2.398438 L 0.179688 -3.527344 L 4.75 -10.023438 L 5.757813 -10.023438 L 5.757813 -3.527344 L 7.109375 -3.527344 L 7.109375 -2.398438 L 5.757813 -2.398438 L 5.757813 0 Z M 4.523438 -3.527344 L 4.523438 -8.046875 L 1.386719 -3.527344 Z M 4.523438 -3.527344 \"/>\n",
       "</symbol>\n",
       "<symbol overflow=\"visible\" id=\"glyph0-4\">\n",
       "<path style=\"stroke:none;\" d=\"M 0.582031 -2.625 L 1.875 -2.734375 C 1.96875 -2.101563 2.1875 -1.628906 2.539063 -1.3125 C 2.882813 -0.996094 3.304688 -0.835938 3.800781 -0.839844 C 4.390625 -0.835938 4.890625 -1.058594 5.304688 -1.507813 C 5.710938 -1.953125 5.917969 -2.546875 5.921875 -3.289063 C 5.917969 -3.984375 5.71875 -4.539063 5.328125 -4.949219 C 4.929688 -5.351563 4.414063 -5.554688 3.78125 -5.558594 C 3.382813 -5.554688 3.027344 -5.464844 2.707031 -5.285156 C 2.386719 -5.105469 2.132813 -4.871094 1.953125 -4.585938 L 0.800781 -4.738281 L 1.769531 -9.882813 L 6.753906 -9.882813 L 6.753906 -8.710938 L 2.753906 -8.710938 L 2.214844 -6.015625 C 2.816406 -6.433594 3.445313 -6.644531 4.109375 -6.644531 C 4.980469 -6.644531 5.71875 -6.339844 6.324219 -5.734375 C 6.921875 -5.128906 7.222656 -4.351563 7.226563 -3.398438 C 7.222656 -2.492188 6.960938 -1.707031 6.433594 -1.046875 C 5.789063 -0.234375 4.910156 0.167969 3.800781 0.171875 C 2.886719 0.167969 2.140625 -0.0820313 1.566406 -0.59375 C 0.988281 -1.101563 0.660156 -1.78125 0.582031 -2.625 Z M 0.582031 -2.625 \"/>\n",
       "</symbol>\n",
       "<symbol overflow=\"visible\" id=\"glyph0-5\">\n",
       "<path style=\"stroke:none;\" d=\"M 0.765625 -2.316406 L 1.949219 -2.425781 C 2.046875 -1.871094 2.238281 -1.464844 2.519531 -1.214844 C 2.800781 -0.960938 3.164063 -0.835938 3.609375 -0.839844 C 3.984375 -0.835938 4.3125 -0.921875 4.601563 -1.097656 C 4.882813 -1.269531 5.117188 -1.503906 5.304688 -1.792969 C 5.484375 -2.082031 5.636719 -2.472656 5.761719 -2.964844 C 5.878906 -3.457031 5.941406 -3.957031 5.945313 -4.46875 C 5.941406 -4.523438 5.941406 -4.605469 5.941406 -4.71875 C 5.691406 -4.320313 5.351563 -4.003906 4.929688 -3.761719 C 4.5 -3.519531 4.039063 -3.398438 3.546875 -3.398438 C 2.714844 -3.398438 2.015625 -3.699219 1.441406 -4.300781 C 0.867188 -4.902344 0.578125 -5.695313 0.582031 -6.679688 C 0.578125 -7.695313 0.878906 -8.511719 1.480469 -9.132813 C 2.078125 -9.75 2.828125 -10.058594 3.734375 -10.0625 C 4.382813 -10.058594 4.980469 -9.882813 5.519531 -9.535156 C 6.058594 -9.179688 6.46875 -8.679688 6.75 -8.035156 C 7.03125 -7.382813 7.171875 -6.445313 7.171875 -5.214844 C 7.171875 -3.933594 7.03125 -2.914063 6.753906 -2.15625 C 6.472656 -1.398438 6.058594 -0.820313 5.511719 -0.421875 C 4.960938 -0.0273438 4.316406 0.167969 3.582031 0.171875 C 2.792969 0.167969 2.152344 -0.046875 1.660156 -0.480469 C 1.160156 -0.914063 0.863281 -1.523438 0.765625 -2.316406 Z M 5.804688 -6.742188 C 5.800781 -7.445313 5.613281 -8.003906 5.238281 -8.421875 C 4.863281 -8.832031 4.410156 -9.039063 3.882813 -9.042969 C 3.332031 -9.039063 2.855469 -8.816406 2.453125 -8.371094 C 2.042969 -7.921875 1.839844 -7.34375 1.84375 -6.636719 C 1.839844 -5.996094 2.03125 -5.476563 2.421875 -5.082031 C 2.804688 -4.679688 3.28125 -4.480469 3.847656 -4.484375 C 4.414063 -4.480469 4.882813 -4.679688 5.253906 -5.082031 C 5.617188 -5.476563 5.800781 -6.03125 5.804688 -6.742188 Z M 5.804688 -6.742188 \"/>\n",
       "</symbol>\n",
       "<symbol overflow=\"visible\" id=\"glyph0-6\">\n",
       "<path style=\"stroke:none;\" d=\"M 7.046875 -1.183594 L 7.046875 0 L 0.421875 0 C 0.414063 -0.296875 0.460938 -0.582031 0.566406 -0.855469 C 0.734375 -1.304688 1.003906 -1.746094 1.375 -2.1875 C 1.746094 -2.621094 2.285156 -3.128906 2.988281 -3.703125 C 4.074219 -4.597656 4.808594 -5.304688 5.195313 -5.828125 C 5.574219 -6.347656 5.765625 -6.839844 5.769531 -7.308594 C 5.765625 -7.792969 5.589844 -8.203125 5.246094 -8.539063 C 4.894531 -8.871094 4.441406 -9.039063 3.882813 -9.042969 C 3.285156 -9.039063 2.8125 -8.863281 2.460938 -8.507813 C 2.105469 -8.152344 1.925781 -7.660156 1.921875 -7.035156 L 0.65625 -7.164063 C 0.742188 -8.105469 1.066406 -8.824219 1.632813 -9.320313 C 2.195313 -9.8125 2.953125 -10.058594 3.910156 -10.0625 C 4.867188 -10.058594 5.628906 -9.792969 6.191406 -9.261719 C 6.75 -8.726563 7.03125 -8.066406 7.035156 -7.28125 C 7.03125 -6.878906 6.949219 -6.484375 6.789063 -6.097656 C 6.621094 -5.707031 6.347656 -5.296875 5.96875 -4.871094 C 5.585938 -4.441406 4.953125 -3.855469 4.074219 -3.109375 C 3.332031 -2.488281 2.859375 -2.066406 2.652344 -1.847656 C 2.4375 -1.621094 2.265625 -1.402344 2.132813 -1.183594 Z M 7.046875 -1.183594 \"/>\n",
       "</symbol>\n",
       "<symbol overflow=\"visible\" id=\"glyph0-7\">\n",
       "<path style=\"stroke:none;\" d=\"M 6.964844 -7.566406 L 5.742188 -7.472656 C 5.632813 -7.949219 5.476563 -8.300781 5.277344 -8.523438 C 4.941406 -8.871094 4.53125 -9.046875 4.046875 -9.050781 C 3.652344 -9.046875 3.308594 -8.9375 3.015625 -8.722656 C 2.625 -8.4375 2.320313 -8.023438 2.097656 -7.484375 C 1.875 -6.9375 1.757813 -6.167969 1.75 -5.167969 C 2.042969 -5.617188 2.40625 -5.949219 2.835938 -6.171875 C 3.265625 -6.386719 3.714844 -6.496094 4.183594 -6.5 C 5.003906 -6.496094 5.699219 -6.195313 6.277344 -5.59375 C 6.851563 -4.988281 7.140625 -4.207031 7.144531 -3.253906 C 7.140625 -2.621094 7.003906 -2.039063 6.734375 -1.5 C 6.460938 -0.960938 6.089844 -0.546875 5.617188 -0.257813 C 5.140625 0.0273438 4.605469 0.167969 4.007813 0.171875 C 2.980469 0.167969 2.140625 -0.207031 1.496094 -0.960938 C 0.847656 -1.714844 0.527344 -2.957031 0.527344 -4.6875 C 0.527344 -6.625 0.882813 -8.03125 1.601563 -8.914063 C 2.21875 -9.675781 3.058594 -10.058594 4.121094 -10.0625 C 4.90625 -10.058594 5.554688 -9.839844 6.058594 -9.398438 C 6.5625 -8.953125 6.863281 -8.339844 6.964844 -7.566406 Z M 1.941406 -3.246094 C 1.9375 -2.820313 2.027344 -2.414063 2.210938 -2.027344 C 2.386719 -1.640625 2.640625 -1.34375 2.964844 -1.144531 C 3.289063 -0.9375 3.628906 -0.835938 3.984375 -0.839844 C 4.503906 -0.835938 4.949219 -1.046875 5.324219 -1.46875 C 5.695313 -1.886719 5.882813 -2.457031 5.886719 -3.179688 C 5.882813 -3.871094 5.699219 -4.417969 5.332031 -4.816406 C 4.960938 -5.214844 4.496094 -5.414063 3.9375 -5.414063 C 3.378906 -5.414063 2.90625 -5.214844 2.519531 -4.816406 C 2.132813 -4.417969 1.9375 -3.894531 1.941406 -3.246094 Z M 1.941406 -3.246094 \"/>\n",
       "</symbol>\n",
       "</g>\n",
       "</defs>\n",
       "<g id=\"surface2\">\n",
       "<rect x=\"0\" y=\"0\" width=\"600\" height=\"50\" style=\"fill:rgb(100%,100%,100%);fill-opacity:1;stroke:none;\"/>\n",
       "<path style=\"fill:none;stroke-width:1;stroke-linecap:butt;stroke-linejoin:miter;stroke:rgb(96.078431%,48.627451%,0%);stroke-opacity:1;stroke-miterlimit:10;\" d=\"M 50 25 L 121.429688 25 \"/>\n",
       "<path style=\"fill:none;stroke-width:1;stroke-linecap:butt;stroke-linejoin:miter;stroke:rgb(96.078431%,48.627451%,0%);stroke-opacity:1;stroke-miterlimit:10;\" d=\"M 121.429688 25 L 192.855469 25 \"/>\n",
       "<path style=\"fill:none;stroke-width:1;stroke-linecap:butt;stroke-linejoin:miter;stroke:rgb(96.078431%,48.627451%,0%);stroke-opacity:1;stroke-miterlimit:10;\" d=\"M 192.855469 25 L 264.285156 25 \"/>\n",
       "<path style=\"fill:none;stroke-width:1;stroke-linecap:butt;stroke-linejoin:miter;stroke:rgb(96.078431%,48.627451%,0%);stroke-opacity:1;stroke-miterlimit:10;\" d=\"M 264.285156 25 L 335.714844 25 \"/>\n",
       "<path style=\"fill:none;stroke-width:1;stroke-linecap:butt;stroke-linejoin:miter;stroke:rgb(96.078431%,48.627451%,0%);stroke-opacity:1;stroke-miterlimit:10;\" d=\"M 335.714844 25 L 407.144531 25 \"/>\n",
       "<path style=\"fill:none;stroke-width:1;stroke-linecap:butt;stroke-linejoin:miter;stroke:rgb(96.078431%,48.627451%,0%);stroke-opacity:1;stroke-miterlimit:10;\" d=\"M 407.144531 25 L 478.570313 25 \"/>\n",
       "<path style=\"fill:none;stroke-width:1;stroke-linecap:butt;stroke-linejoin:miter;stroke:rgb(96.078431%,48.627451%,0%);stroke-opacity:1;stroke-miterlimit:10;\" d=\"M 478.570313 25 L 550 25 \"/>\n",
       "<path style=\"fill-rule:nonzero;fill:rgb(100%,87.843137%,69.803922%);fill-opacity:1;stroke-width:1;stroke-linecap:butt;stroke-linejoin:miter;stroke:rgb(100%,71.764706%,30.196078%);stroke-opacity:1;stroke-miterlimit:10;\" d=\"M 64.5 25 C 64.5 33.007813 58.007813 39.5 50 39.5 C 41.992188 39.5 35.5 33.007813 35.5 25 C 35.5 16.992188 41.992188 10.5 50 10.5 C 58.007813 10.5 64.5 16.992188 64.5 25 \"/>\n",
       "<path style=\"fill-rule:nonzero;fill:rgb(100%,87.843137%,69.803922%);fill-opacity:1;stroke-width:1;stroke-linecap:butt;stroke-linejoin:miter;stroke:rgb(100%,71.764706%,30.196078%);stroke-opacity:1;stroke-miterlimit:10;\" d=\"M 132.929688 25 C 132.929688 31.351563 127.78125 36.5 121.429688 36.5 C 115.078125 36.5 109.929688 31.351563 109.929688 25 C 109.929688 18.648438 115.078125 13.5 121.429688 13.5 C 127.78125 13.5 132.929688 18.648438 132.929688 25 \"/>\n",
       "<path style=\"fill-rule:nonzero;fill:rgb(100%,87.843137%,69.803922%);fill-opacity:1;stroke-width:1;stroke-linecap:butt;stroke-linejoin:miter;stroke:rgb(100%,71.764706%,30.196078%);stroke-opacity:1;stroke-miterlimit:10;\" d=\"M 208.855469 25 C 208.855469 33.835938 201.695313 41 192.855469 41 C 184.019531 41 176.855469 33.835938 176.855469 25 C 176.855469 16.164063 184.019531 9 192.855469 9 C 201.695313 9 208.855469 16.164063 208.855469 25 \"/>\n",
       "<path style=\"fill-rule:nonzero;fill:rgb(100%,87.843137%,69.803922%);fill-opacity:1;stroke-width:1;stroke-linecap:butt;stroke-linejoin:miter;stroke:rgb(100%,71.764706%,30.196078%);stroke-opacity:1;stroke-miterlimit:10;\" d=\"M 275.785156 25 C 275.785156 31.351563 270.636719 36.5 264.285156 36.5 C 257.933594 36.5 252.785156 31.351563 252.785156 25 C 252.785156 18.648438 257.933594 13.5 264.285156 13.5 C 270.636719 13.5 275.785156 18.648438 275.785156 25 \"/>\n",
       "<path style=\"fill-rule:nonzero;fill:rgb(100%,87.843137%,69.803922%);fill-opacity:1;stroke-width:1;stroke-linecap:butt;stroke-linejoin:miter;stroke:rgb(100%,71.764706%,30.196078%);stroke-opacity:1;stroke-miterlimit:10;\" d=\"M 353.214844 25 C 353.214844 34.664063 345.378906 42.5 335.714844 42.5 C 326.050781 42.5 318.214844 34.664063 318.214844 25 C 318.214844 15.335938 326.050781 7.5 335.714844 7.5 C 345.378906 7.5 353.214844 15.335938 353.214844 25 \"/>\n",
       "<path style=\"fill-rule:nonzero;fill:rgb(100%,87.843137%,69.803922%);fill-opacity:1;stroke-width:1;stroke-linecap:butt;stroke-linejoin:miter;stroke:rgb(100%,71.764706%,30.196078%);stroke-opacity:1;stroke-miterlimit:10;\" d=\"M 430.644531 25 C 430.644531 37.980469 420.121094 48.5 407.144531 48.5 C 394.164063 48.5 383.644531 37.980469 383.644531 25 C 383.644531 12.019531 394.164063 1.5 407.144531 1.5 C 420.121094 1.5 430.644531 12.019531 430.644531 25 \"/>\n",
       "<path style=\"fill-rule:nonzero;fill:rgb(100%,87.843137%,69.803922%);fill-opacity:1;stroke-width:1;stroke-linecap:butt;stroke-linejoin:miter;stroke:rgb(100%,71.764706%,30.196078%);stroke-opacity:1;stroke-miterlimit:10;\" d=\"M 491.570313 25 C 491.570313 32.179688 485.75 38 478.570313 38 C 471.390625 38 465.570313 32.179688 465.570313 25 C 465.570313 17.820313 471.390625 12 478.570313 12 C 485.75 12 491.570313 17.820313 491.570313 25 \"/>\n",
       "<path style=\"fill-rule:nonzero;fill:rgb(100%,87.843137%,69.803922%);fill-opacity:1;stroke-width:1;stroke-linecap:butt;stroke-linejoin:miter;stroke:rgb(100%,71.764706%,30.196078%);stroke-opacity:1;stroke-miterlimit:10;\" d=\"M 569 25 C 569 35.492188 560.492188 44 550 44 C 539.507813 44 531 35.492188 531 25 C 531 14.507813 539.507813 6 550 6 C 560.492188 6 569 14.507813 569 25 \"/>\n",
       "<g style=\"fill:rgb(96.078431%,48.627451%,0%);fill-opacity:1;\">\n",
       "  <use xlink:href=\"#glyph0-1\" x=\"46.132813\" y=\"31.53125\"/>\n",
       "</g>\n",
       "<g style=\"fill:rgb(96.078431%,48.627451%,0%);fill-opacity:1;\">\n",
       "  <use xlink:href=\"#glyph0-2\" x=\"118.058594\" y=\"31.53125\"/>\n",
       "</g>\n",
       "<g style=\"fill:rgb(96.078431%,48.627451%,0%);fill-opacity:1;\">\n",
       "  <use xlink:href=\"#glyph0-3\" x=\"189.214844\" y=\"31.511719\"/>\n",
       "</g>\n",
       "<g style=\"fill:rgb(96.078431%,48.627451%,0%);fill-opacity:1;\">\n",
       "  <use xlink:href=\"#glyph0-2\" x=\"260.914063\" y=\"31.53125\"/>\n",
       "</g>\n",
       "<g style=\"fill:rgb(96.078431%,48.627451%,0%);fill-opacity:1;\">\n",
       "  <use xlink:href=\"#glyph0-4\" x=\"331.8125\" y=\"31.441406\"/>\n",
       "</g>\n",
       "<g style=\"fill:rgb(96.078431%,48.627451%,0%);fill-opacity:1;\">\n",
       "  <use xlink:href=\"#glyph0-5\" x=\"403.265625\" y=\"31.53125\"/>\n",
       "</g>\n",
       "<g style=\"fill:rgb(96.078431%,48.627451%,0%);fill-opacity:1;\">\n",
       "  <use xlink:href=\"#glyph0-6\" x=\"474.84375\" y=\"31.53125\"/>\n",
       "</g>\n",
       "<g style=\"fill:rgb(96.078431%,48.627451%,0%);fill-opacity:1;\">\n",
       "  <use xlink:href=\"#glyph0-7\" x=\"546.164063\" y=\"31.53125\"/>\n",
       "</g>\n",
       "</g>\n",
       "</svg>\n"
      ],
      "text/plain": [
       "<igraph.drawing.Plot at 0x1586dc8db08>"
      ]
     },
     "execution_count": 2,
     "metadata": {
      "image/svg+xml": {
       "isolated": true
      }
     },
     "output_type": "execute_result"
    }
   ],
   "source": [
    "# Import package\n",
    "from igraph import *\n",
    "\n",
    "# a line tree with 8 nodes\n",
    "g = Graph.Tree(8, 1)\n",
    "g.vs[\"weight\"] = [3, 1, 4, 1, 5, 9, 2, 6]\n",
    "\n",
    "\n",
    "# draw the graph\n",
    "#layout = g.layout(\"kk\", )\n",
    "layout = g.layout_grid(100, 0, 2)\n",
    "#print(layout[0])\n",
    "\n",
    "visual_style = {}\n",
    "visual_style[\"vertex_size\"] = [20 + 3*w for w in g.vs[\"weight\"]]\n",
    "visual_style[\"vertex_color\"] = [\"#FFE0B2\"]\n",
    "visual_style[\"vertex_frame_color\"] = [\"#FFB74D\"]\n",
    "visual_style[\"edge_color\"] = [\"#F57C00\"]\n",
    "visual_style[\"vertex_label\"] = [str(w) for w in g.vs[\"weight\"]]\n",
    "visual_style[\"vertex_label_color\"] = [\"#F57C00\"]\n",
    "visual_style[\"vertex_label_dist\"] = 0\n",
    "visual_style[\"edge_width\"] = [1]\n",
    "visual_style[\"edge_length\"] = [1]\n",
    "visual_style[\"layout\"] = layout\n",
    "visual_style[\"bbox\"] = (600, 50)\n",
    "visual_style[\"margin\"] = [50, 0, 50, 0]\n",
    "\n",
    "plot(g, **visual_style)"
   ]
  },
  {
   "cell_type": "markdown",
   "metadata": {},
   "source": [
    "## Find the Subproblems (step 1)\n",
    "This step begins with reading the problem statement. It ends when you are just about ready to define a recurrence relation. Along the way you have to discover how to break your problem into subproblems. It's a long step but in its essence you are using __brute force to look at all the valid solutions.__\n",
    "\n",
    "The __bad news__ is that this first step is often the most difficult and this is the step that differs between easy and hard problems. The __good news__ is that once you complete this step, the algorithm almost writes itself.\n",
    "\n",
    "I have broken down this step into a few sub-steps below"
   ]
  },
  {
   "cell_type": "markdown",
   "metadata": {
    "pycharm": {
     "name": "#%% md\n"
    }
   },
   "source": [
    "### Ignore Optimization\n",
    "__Start this way:__ Read the problem statement and identify the optimization part. Look for key words such as 'most', 'least', 'longest', 'shortest', 'heaviest' etc. Just to get a start on the problem __IGNORE__ the optimization part (this is temporary - don't worry - we'll come back to the original problem very soon) and rephrase the question as one of finding all the valid possibilities. So for example, if you are asked to find 'the shortest path' - rephrase the question temporarily to 'find all the paths'."
   ]
  },
  {
   "cell_type": "code",
   "execution_count": 3,
   "metadata": {
    "jupyter": {
     "source_hidden": true
    },
    "pycharm": {
     "name": "#%%\n"
    }
   },
   "outputs": [
    {
     "data": {
      "application/vnd.jupyter.widget-view+json": {
       "model_id": "4b0815a3cc9c4bb99616a49ffdaaea58",
       "version_major": 2,
       "version_minor": 0
      },
      "text/plain": [
       "VBox(box_style='info', children=(HBox(children=(HTML(value='<style>p{word-wrap: break-word}</style> <p>As a fi…"
      ]
     },
     "metadata": {},
     "output_type": "display_data"
    }
   ],
   "source": [
    "%run quizzes/quiz.py quizzes/03/first_step.json"
   ]
  },
  {
   "cell_type": "markdown",
   "metadata": {},
   "source": [
    "### Choose the Subproblem Pattern\n",
    "You are still ignoring the optimization requirement of the problem and trying to find all combinations that satisfy some constraint (in our case, that the bottles may not be adjacent). In this stage, you need to break up finding the combinations from _all_ the elements of the series, to finding those combinations of bottles in some finite number of subgroups.\n",
    "\n",
    "The question is how to choose those subsets? One pattern is to choose the __first $i$ elements__.[<sup>1</sup>](#fn1)"
   ]
  },
  {
   "cell_type": "markdown",
   "metadata": {},
   "source": [
    "If your input is: $x_1$, $x_2$, $x_3$, ... ,$x_n$, your subproblems will be of the form: $x_1$, $x_2$, $x_3$, ..., $x_i$\n",
    "\n",
    "    +----------------------------+\n",
    "    | x1   x2   x3  x4   x5   x6 |  x7   x8   x9   x10\n",
    "    +----------------------------+\n",
    "\n",
    "For the drinking game problem, we'll use this __prefix pattern__. Instead of looking for all the combinations of bottles in the set of all bottles, we'll form one or more subsets starting from the beginning of the series.\n",
    "\n",
    "Now it remains to define the pattern of the subsets themselves. This is linked to the recurrence relation that we'll build."
   ]
  },
  {
   "cell_type": "markdown",
   "metadata": {},
   "source": [
    "### Divide Subproblems into Cases\n",
    "In order to solve the problem by recursion, we need to define a recurrence relation. How do we discover this relation?\n",
    "\n",
    "There are 3 ways:\n",
    "\n",
    "1. __It's given to you!__ For example, to find the n'th Fibonacci you are given the definition: fib(1) = fib(2) = 1, fib(n) = fib(n-1) + fib(n-2).\n",
    "2. __Build it from a given constraint.__ For example, 'no adjacent bottles'\n",
    "3. __Add your own constraint, then build from that.__ Sometimes you're not given any constraint - the classic example is 'shortest path'[<sup>2</sup>](#fn2). We'll cover this super powerful technique of strengthening the induction hypothesis in later lessons."
   ]
  },
  {
   "cell_type": "code",
   "execution_count": 4,
   "metadata": {
    "jupyter": {
     "source_hidden": true
    }
   },
   "outputs": [
    {
     "data": {
      "application/vnd.jupyter.widget-view+json": {
       "model_id": "f4708463a5414184bee522d8893cfd14",
       "version_major": 2,
       "version_minor": 0
      },
      "text/plain": [
       "VBox(box_style='info', children=(HBox(children=(HTML(value='<style>p{word-wrap: break-word}</style> <p>Which s…"
      ]
     },
     "metadata": {},
     "output_type": "display_data"
    }
   ],
   "source": [
    "%run quizzes/quiz.py quizzes/03/recurrence_discovery.json"
   ]
  },
  {
   "cell_type": "markdown",
   "metadata": {},
   "source": [
    "Let's try to build a recurrence relation out of the given constraint (which is 'no adjacent bottles'). Think in terms of __cases__.\n",
    "\n",
    "Since we're using the prefix pattern of subproblems, the key is to look at the __last bottle__. Either you __take that bottle or you don't.__"
   ]
  },
  {
   "cell_type": "code",
   "execution_count": 5,
   "metadata": {
    "jupyter": {
     "source_hidden": true
    }
   },
   "outputs": [
    {
     "data": {
      "application/vnd.jupyter.widget-view+json": {
       "model_id": "3e4f6b26117e438fbe26edde9e6e4688",
       "version_major": 2,
       "version_minor": 0
      },
      "text/plain": [
       "VBox(box_style='info', children=(HBox(children=(HTML(value='<style>p{word-wrap: break-word}</style> <p>Referri…"
      ]
     },
     "metadata": {},
     "output_type": "display_data"
    }
   ],
   "source": [
    "%run quizzes/quiz.py quizzes/03/recurrence_example.json"
   ]
  },
  {
   "cell_type": "markdown",
   "metadata": {
    "pycharm": {
     "name": "#%% md\n"
    }
   },
   "source": [
    "You now have the following two cases and that leads you to the two parts of your recurrence relation:\n",
    "\n",
    "1. You take the n'th bottle and choose from among the first n-2 bottles.\n",
    "2. You DO NOT take the n'th bottle, and therefore you can choose from among the first n-1 bottles."
   ]
  },
  {
   "cell_type": "markdown",
   "metadata": {},
   "source": [
    "## Write the Recursive Algorithm (step 2)\n",
    "In order to implement the recursive algorithm, we need to define a recurrence relation. Up until now, you have ignored the optimization part of the problem, but that was just a trick to be able to concentrate on setting up your subproblems."
   ]
  },
  {
   "cell_type": "markdown",
   "metadata": {},
   "source": [
    "### Add Optimization Back In\n",
    "This is the point at which you __STOP ignoring the optimization__ request!! The problem asked to find the _most_ you can drink. So the recurrence relation will include _maximizing_ over the two cases you found above."
   ]
  },
  {
   "cell_type": "markdown",
   "metadata": {},
   "source": [
    "### Write the Recurrence Relation\n",
    "In the following quiz you will derive the complete recurrence relation including its base case."
   ]
  },
  {
   "cell_type": "code",
   "execution_count": 6,
   "metadata": {
    "jupyter": {
     "source_hidden": true
    },
    "pycharm": {
     "name": "#%%\n"
    }
   },
   "outputs": [
    {
     "data": {
      "application/vnd.jupyter.widget-view+json": {
       "model_id": "8e4833f739cb4e16a5660fea479198d0",
       "version_major": 2,
       "version_minor": 0
      },
      "text/plain": [
       "VBox(box_style='info', children=(HBox(children=(HTML(value=\"<style>p{word-wrap: break-word}</style> <p>If solv…"
      ]
     },
     "metadata": {},
     "output_type": "display_data"
    }
   ],
   "source": [
    "%run quizzes/quiz.py quizzes/03/dg_rr.json"
   ]
  },
  {
   "cell_type": "markdown",
   "metadata": {},
   "source": [
    "### Implement the Recursive Algorithm\n",
    "Once you have the recurrence relation, the algorithm basically writes itself. The trick is to get to this point. Don't worry, we'll practice these steps over and over again in the following lessons.\n",
    "\n",
    "Also, the recurrence relation will become clearer as you implement the algorithm in code."
   ]
  },
  {
   "cell_type": "markdown",
   "metadata": {
    "pycharm": {
     "name": "#%% md\n"
    }
   },
   "source": [
    "<div class=\"exercise exercise-info\">\n",
    "Implement a recursive algorithm to solve the drinking game problem. It will run in exponential time, that's expected for this step. Starter code provided below. Note that the function <code>solve(v)</code> takes a zero based vector as input, so debug accordingly.\n",
    "</div>"
   ]
  },
  {
   "cell_type": "code",
   "execution_count": 7,
   "metadata": {
    "collapsed": false,
    "jupyter": {
     "outputs_hidden": false
    },
    "pycharm": {
     "name": "#%%\n"
    }
   },
   "outputs": [],
   "source": [
    "def solve(v):\n",
    "    ### YOUR CODE ###\n",
    "    return 0\n",
    "\n",
    "#unit tests (hint: there are 3 base cases!)\n",
    "## YOUR CASES HERE ###\n",
    "#assert(solve([3, 1, 4, 1, 5, 9, 2, 6]) == 22)"
   ]
  },
  {
   "cell_type": "markdown",
   "metadata": {},
   "source": [
    "## Write the Memoized Algorithm (step 3)\n",
    "At this point you have a correct but inefficient algorithm. If the algorithm runs in exponential time it is not very useful in the real world! Remember that all memoization does is store the solutions of the subproblems so that they don't need to be calculated more than once."
   ]
  },
  {
   "cell_type": "markdown",
   "metadata": {},
   "source": [
    "<div class=\"exercise exercise-info\">\n",
    "Now implement the recursive, <b>memoized</b> algorithm to solve the drinking game problem. Starter code provided below.\n",
    "</div>"
   ]
  },
  {
   "cell_type": "code",
   "execution_count": 8,
   "metadata": {
    "collapsed": false,
    "jupyter": {
     "outputs_hidden": false
    },
    "pycharm": {
     "name": "#%%\n"
    }
   },
   "outputs": [],
   "source": [
    "def memoize(f):\n",
    "    ## YOUR CODE ##\n",
    "    return 0\n",
    "\n",
    "@memoize\n",
    "def solve(v):\n",
    "    ### YOUR CODE ###\n",
    "    return 0\n",
    "\n",
    "#unit tests (hint: there are 3 base cases!)\n",
    "## YOUR CASES HERE ###\n",
    "\n",
    "#assert(solve([3, 1, 4, 1, 5, 9, 2, 6]) == 22)"
   ]
  },
  {
   "cell_type": "markdown",
   "metadata": {
    "pycharm": {
     "name": "#%%\n"
    }
   },
   "source": [
    "## Write the Iterative Algorithm (step 4)\n",
    "Although this step is optional in theory, in practice it's much better to run iterative code than recursive, because if n is very large you'll have a very, very deep call stack!"
   ]
  },
  {
   "cell_type": "code",
   "execution_count": 9,
   "metadata": {
    "pycharm": {
     "name": "#%%\n"
    }
   },
   "outputs": [],
   "source": [
    "def iterate(f):\n",
    "    ## YOUR CODE ##\n",
    "    return 0\n",
    "\n",
    "@iterate\n",
    "def solve(v):\n",
    "    ### YOUR CODE ###\n",
    "    return 0\n",
    "\n",
    "#unit tests (hint: there are 3 base cases!)\n",
    "## YOUR CASES HERE ###\n",
    "\n",
    "#assert(solve([3, 1, 4, 1, 5, 9, 2, 6]) == 22)"
   ]
  },
  {
   "cell_type": "markdown",
   "metadata": {},
   "source": [
    "<div class=\"exercise exercise-info\">\n",
    "Try running your recursive memoized fibonacci algorithm with a large number and see what happens. Remove the comment in front of the magic %load command and run the cell. The solution code will be loaded into the cell and you can then experiment.\n",
    "</div>"
   ]
  },
  {
   "cell_type": "code",
   "execution_count": 10,
   "metadata": {
    "pycharm": {
     "name": "#%%\n"
    }
   },
   "outputs": [],
   "source": [
    "# %load solutions/02/fibonacci_memo_decorated.py"
   ]
  },
  {
   "cell_type": "markdown",
   "metadata": {},
   "source": [
    "# More Practice Problems"
   ]
  },
  {
   "cell_type": "markdown",
   "metadata": {
    "pycharm": {
     "name": "#%% md\n"
    }
   },
   "source": [
    "## A Stingy Drinking Game"
   ]
  },
  {
   "cell_type": "markdown",
   "metadata": {
    "pycharm": {
     "name": "#%% md\n"
    }
   },
   "source": [
    "<div class=\"exercise exercise-info\">\n",
    "This problem is very, very similar to the original one. Solve it to cement the ideas you have just learned.\n",
    "<br><br>\n",
    "You’re given a sequence of n bottles, the volumes of some (unidentified) liquid are $𝑣_0$ through $𝑣_{(𝑛−1)}$ . Drink as much as you can - the rule is that the bottles you choose must be __two__ bottles apart. So if your volumes are [3, 1, 4, 1, 5, 9, 2, 6] and you choose bottle weighted 9, the only bottles you can now choose from would be the first three: [3, 1, 4] and from those you would only be able to choose one ...\n",
    "<br><br>Your solution should run in linear time!  \n",
    "</div>\n"
   ]
  },
  {
   "cell_type": "markdown",
   "metadata": {
    "pycharm": {
     "name": "#%% md\n"
    }
   },
   "source": [
    "Here's a checklist of all the steps to a solution.\n",
    "\n",
    "Step 1: Find the Subproblems\n",
    "\n",
    "* [ ] Find and ignore the optimization word\n",
    "* [x] Choose a subproblem pattern (spoiler: it's prefix, just like the first drinking game)\n",
    "* [ ] Find the constraint(s)\n",
    "* [ ] Use the given constraint to divide all the possible valid subproblems into cases\n",
    "\n",
    "Step 2: Write the Recurrence/Recursive Algorithm\n",
    "\n",
    "* [ ] Stop ignoring the optimization - do that optimization over the cases you found. Write the recurrence relation down.\n",
    "* [ ] Implement the inefficient algorithm directly from the recurrence relation, paying attention to base cases, indices etc.\n",
    "\n",
    "Step 3: Memoize\n",
    "\n",
    "* [ ] Memoize the algorithm\n",
    "\n",
    "Step 2: Iterate\n",
    "\n",
    "* [ ] Convert to an iterative algorithm (optional)"
   ]
  },
  {
   "cell_type": "code",
   "execution_count": 11,
   "metadata": {
    "collapsed": false,
    "jupyter": {
     "outputs_hidden": false
    },
    "pycharm": {
     "name": "#%%\n"
    }
   },
   "outputs": [],
   "source": [
    "def memoize(f):\n",
    "    ## YOUR CODE ##\n",
    "    return 0\n",
    "\n",
    "@memoize\n",
    "def solve_stingy(v):\n",
    "    ### YOUR CODE ###\n",
    "    return 0\n",
    "\n",
    "#unit tests - base cases (hint: there are 4 base cases!)\n",
    "## YOUR CASES HERE ###\n",
    "\n",
    "#assert(solve_stingy([3, 1, 4, 1, 5, 9, 2, 6]) == 14)"
   ]
  },
  {
   "cell_type": "markdown",
   "metadata": {
    "pycharm": {
     "name": "#%% md\n"
    }
   },
   "source": [
    "## Largest Independant Set in a Tree"
   ]
  },
  {
   "cell_type": "markdown",
   "metadata": {
    "pycharm": {
     "name": "#%% md\n"
    }
   },
   "source": [
    "<div class=\"exercise exercise-info\">\n",
    "\n",
    "I could have called this: 'Drinking Game in a Tree' but that might be stretching the metaphor a bit much. In any case, this problem is just like the drinking game, except that instead of the bottles being in a line, they are placed in a tree. The problem is to find the maximum __size__ of the set of vertices in a tree graph that are not connected to each other (that's what independant means). For this problem, the vertices are not weighted.<br><br>\n",
    "\n",
    "Thought exercises: <br>\n",
    "* When the bottles were on a line, that was just a particular case of a tree where each node had at most how many children?\n",
    "* Does it matter which node is the root of the tree?\n",
    "* How would the recurrence relation change if the nodes _were_ weighted?\n",
    "    \n",
    "</div>"
   ]
  },
  {
   "cell_type": "code",
   "execution_count": 12,
   "metadata": {
    "jupyter": {
     "source_hidden": true
    },
    "pycharm": {
     "name": "#%%\n"
    }
   },
   "outputs": [
    {
     "data": {
      "image/svg+xml": [
       "<?xml version=\"1.0\" encoding=\"UTF-8\"?>\n",
       "<svg xmlns=\"http://www.w3.org/2000/svg\" xmlns:xlink=\"http://www.w3.org/1999/xlink\" width=\"400pt\" height=\"400pt\" viewBox=\"0 0 400 400\" version=\"1.1\">\n",
       "<defs>\n",
       "<g>\n",
       "<symbol overflow=\"visible\" id=\"glyph0-0\">\n",
       "<path style=\"stroke:none;\" d=\"M 1.75 0 L 1.75 -8.75 L 8.75 -8.75 L 8.75 0 Z M 1.96875 -0.21875 L 8.53125 -0.21875 L 8.53125 -8.53125 L 1.96875 -8.53125 Z M 1.96875 -0.21875 \"/>\n",
       "</symbol>\n",
       "<symbol overflow=\"visible\" id=\"glyph0-1\">\n",
       "<path style=\"stroke:none;\" d=\"M 0.582031 -4.941406 C 0.578125 -6.121094 0.699219 -7.074219 0.945313 -7.800781 C 1.1875 -8.519531 1.550781 -9.078125 2.03125 -9.472656 C 2.511719 -9.863281 3.117188 -10.058594 3.847656 -10.0625 C 4.382813 -10.058594 4.855469 -9.953125 5.261719 -9.738281 C 5.667969 -9.519531 6 -9.207031 6.265625 -8.800781 C 6.527344 -8.390625 6.738281 -7.890625 6.890625 -7.308594 C 7.039063 -6.722656 7.113281 -5.933594 7.117188 -4.941406 C 7.113281 -3.761719 6.992188 -2.8125 6.753906 -2.09375 C 6.507813 -1.367188 6.144531 -0.808594 5.667969 -0.417969 C 5.183594 -0.0234375 4.578125 0.167969 3.847656 0.171875 C 2.878906 0.167969 2.121094 -0.175781 1.570313 -0.867188 C 0.910156 -1.699219 0.578125 -3.054688 0.582031 -4.941406 Z M 1.84375 -4.941406 C 1.839844 -3.292969 2.03125 -2.199219 2.421875 -1.65625 C 2.804688 -1.109375 3.28125 -0.835938 3.847656 -0.839844 C 4.410156 -0.835938 4.886719 -1.109375 5.273438 -1.660156 C 5.65625 -2.203125 5.847656 -3.296875 5.851563 -4.941406 C 5.847656 -6.589844 5.65625 -7.6875 5.273438 -8.230469 C 4.886719 -8.769531 4.40625 -9.039063 3.835938 -9.042969 C 3.269531 -9.039063 2.816406 -8.800781 2.480469 -8.328125 C 2.050781 -7.710938 1.839844 -6.582031 1.84375 -4.941406 Z M 1.84375 -4.941406 \"/>\n",
       "</symbol>\n",
       "<symbol overflow=\"visible\" id=\"glyph0-2\">\n",
       "<path style=\"stroke:none;\" d=\"M 5.214844 0 L 3.984375 0 L 3.984375 -7.839844 C 3.6875 -7.558594 3.296875 -7.273438 2.816406 -6.992188 C 2.335938 -6.707031 1.90625 -6.496094 1.523438 -6.359375 L 1.523438 -7.546875 C 2.210938 -7.867188 2.8125 -8.257813 3.328125 -8.722656 C 3.84375 -9.179688 4.207031 -9.625 4.421875 -10.0625 L 5.214844 -10.0625 Z M 5.214844 0 \"/>\n",
       "</symbol>\n",
       "<symbol overflow=\"visible\" id=\"glyph0-3\">\n",
       "<path style=\"stroke:none;\" d=\"M 7.046875 -1.183594 L 7.046875 0 L 0.421875 0 C 0.414063 -0.296875 0.460938 -0.582031 0.566406 -0.855469 C 0.734375 -1.304688 1.003906 -1.746094 1.375 -2.1875 C 1.746094 -2.621094 2.285156 -3.128906 2.988281 -3.703125 C 4.074219 -4.597656 4.808594 -5.304688 5.195313 -5.828125 C 5.574219 -6.347656 5.765625 -6.839844 5.769531 -7.308594 C 5.765625 -7.792969 5.589844 -8.203125 5.246094 -8.539063 C 4.894531 -8.871094 4.441406 -9.039063 3.882813 -9.042969 C 3.285156 -9.039063 2.8125 -8.863281 2.460938 -8.507813 C 2.105469 -8.152344 1.925781 -7.660156 1.921875 -7.035156 L 0.65625 -7.164063 C 0.742188 -8.105469 1.066406 -8.824219 1.632813 -9.320313 C 2.195313 -9.8125 2.953125 -10.058594 3.910156 -10.0625 C 4.867188 -10.058594 5.628906 -9.792969 6.191406 -9.261719 C 6.75 -8.726563 7.03125 -8.066406 7.035156 -7.28125 C 7.03125 -6.878906 6.949219 -6.484375 6.789063 -6.097656 C 6.621094 -5.707031 6.347656 -5.296875 5.96875 -4.871094 C 5.585938 -4.441406 4.953125 -3.855469 4.074219 -3.109375 C 3.332031 -2.488281 2.859375 -2.066406 2.652344 -1.847656 C 2.4375 -1.621094 2.265625 -1.402344 2.132813 -1.183594 Z M 7.046875 -1.183594 \"/>\n",
       "</symbol>\n",
       "<symbol overflow=\"visible\" id=\"glyph0-4\">\n",
       "<path style=\"stroke:none;\" d=\"M 0.585938 -2.644531 L 1.820313 -2.808594 C 1.957031 -2.109375 2.195313 -1.609375 2.539063 -1.300781 C 2.875 -0.992188 3.289063 -0.835938 3.78125 -0.839844 C 4.355469 -0.835938 4.84375 -1.039063 5.246094 -1.441406 C 5.640625 -1.839844 5.839844 -2.335938 5.84375 -2.933594 C 5.839844 -3.496094 5.65625 -3.960938 5.289063 -4.332031 C 4.917969 -4.695313 4.449219 -4.878906 3.882813 -4.882813 C 3.648438 -4.878906 3.359375 -4.832031 3.015625 -4.742188 L 3.152344 -5.824219 C 3.230469 -5.816406 3.296875 -5.8125 3.351563 -5.8125 C 3.875 -5.8125 4.34375 -5.949219 4.765625 -6.222656 C 5.179688 -6.496094 5.390625 -6.914063 5.394531 -7.484375 C 5.390625 -7.933594 5.238281 -8.308594 4.933594 -8.605469 C 4.628906 -8.898438 4.234375 -9.046875 3.753906 -9.050781 C 3.273438 -9.046875 2.875 -8.894531 2.554688 -8.597656 C 2.234375 -8.292969 2.027344 -7.84375 1.941406 -7.246094 L 0.710938 -7.464844 C 0.859375 -8.289063 1.203125 -8.925781 1.734375 -9.382813 C 2.265625 -9.832031 2.929688 -10.058594 3.726563 -10.0625 C 4.273438 -10.058594 4.773438 -9.941406 5.234375 -9.710938 C 5.691406 -9.472656 6.042969 -9.152344 6.289063 -8.75 C 6.53125 -8.339844 6.65625 -7.910156 6.65625 -7.457031 C 6.65625 -7.023438 6.539063 -6.628906 6.308594 -6.273438 C 6.074219 -5.917969 5.730469 -5.636719 5.277344 -5.429688 C 5.867188 -5.289063 6.328125 -5.003906 6.65625 -4.574219 C 6.984375 -4.140625 7.148438 -3.601563 7.148438 -2.960938 C 7.148438 -2.082031 6.828125 -1.339844 6.191406 -0.734375 C 5.550781 -0.125 4.746094 0.175781 3.773438 0.179688 C 2.890625 0.175781 2.160156 -0.0820313 1.582031 -0.605469 C 1 -1.128906 0.667969 -1.808594 0.585938 -2.644531 Z M 0.585938 -2.644531 \"/>\n",
       "</symbol>\n",
       "<symbol overflow=\"visible\" id=\"glyph0-5\">\n",
       "<path style=\"stroke:none;\" d=\"M 4.523438 0 L 4.523438 -2.398438 L 0.179688 -2.398438 L 0.179688 -3.527344 L 4.75 -10.023438 L 5.757813 -10.023438 L 5.757813 -3.527344 L 7.109375 -3.527344 L 7.109375 -2.398438 L 5.757813 -2.398438 L 5.757813 0 Z M 4.523438 -3.527344 L 4.523438 -8.046875 L 1.386719 -3.527344 Z M 4.523438 -3.527344 \"/>\n",
       "</symbol>\n",
       "<symbol overflow=\"visible\" id=\"glyph0-6\">\n",
       "<path style=\"stroke:none;\" d=\"M 0.582031 -2.625 L 1.875 -2.734375 C 1.96875 -2.101563 2.1875 -1.628906 2.539063 -1.3125 C 2.882813 -0.996094 3.304688 -0.835938 3.800781 -0.839844 C 4.390625 -0.835938 4.890625 -1.058594 5.304688 -1.507813 C 5.710938 -1.953125 5.917969 -2.546875 5.921875 -3.289063 C 5.917969 -3.984375 5.71875 -4.539063 5.328125 -4.949219 C 4.929688 -5.351563 4.414063 -5.554688 3.78125 -5.558594 C 3.382813 -5.554688 3.027344 -5.464844 2.707031 -5.285156 C 2.386719 -5.105469 2.132813 -4.871094 1.953125 -4.585938 L 0.800781 -4.738281 L 1.769531 -9.882813 L 6.753906 -9.882813 L 6.753906 -8.710938 L 2.753906 -8.710938 L 2.214844 -6.015625 C 2.816406 -6.433594 3.445313 -6.644531 4.109375 -6.644531 C 4.980469 -6.644531 5.71875 -6.339844 6.324219 -5.734375 C 6.921875 -5.128906 7.222656 -4.351563 7.226563 -3.398438 C 7.222656 -2.492188 6.960938 -1.707031 6.433594 -1.046875 C 5.789063 -0.234375 4.910156 0.167969 3.800781 0.171875 C 2.886719 0.167969 2.140625 -0.0820313 1.566406 -0.59375 C 0.988281 -1.101563 0.660156 -1.78125 0.582031 -2.625 Z M 0.582031 -2.625 \"/>\n",
       "</symbol>\n",
       "<symbol overflow=\"visible\" id=\"glyph0-7\">\n",
       "<path style=\"stroke:none;\" d=\"M 6.964844 -7.566406 L 5.742188 -7.472656 C 5.632813 -7.949219 5.476563 -8.300781 5.277344 -8.523438 C 4.941406 -8.871094 4.53125 -9.046875 4.046875 -9.050781 C 3.652344 -9.046875 3.308594 -8.9375 3.015625 -8.722656 C 2.625 -8.4375 2.320313 -8.023438 2.097656 -7.484375 C 1.875 -6.9375 1.757813 -6.167969 1.75 -5.167969 C 2.042969 -5.617188 2.40625 -5.949219 2.835938 -6.171875 C 3.265625 -6.386719 3.714844 -6.496094 4.183594 -6.5 C 5.003906 -6.496094 5.699219 -6.195313 6.277344 -5.59375 C 6.851563 -4.988281 7.140625 -4.207031 7.144531 -3.253906 C 7.140625 -2.621094 7.003906 -2.039063 6.734375 -1.5 C 6.460938 -0.960938 6.089844 -0.546875 5.617188 -0.257813 C 5.140625 0.0273438 4.605469 0.167969 4.007813 0.171875 C 2.980469 0.167969 2.140625 -0.207031 1.496094 -0.960938 C 0.847656 -1.714844 0.527344 -2.957031 0.527344 -4.6875 C 0.527344 -6.625 0.882813 -8.03125 1.601563 -8.914063 C 2.21875 -9.675781 3.058594 -10.058594 4.121094 -10.0625 C 4.90625 -10.058594 5.554688 -9.839844 6.058594 -9.398438 C 6.5625 -8.953125 6.863281 -8.339844 6.964844 -7.566406 Z M 1.941406 -3.246094 C 1.9375 -2.820313 2.027344 -2.414063 2.210938 -2.027344 C 2.386719 -1.640625 2.640625 -1.34375 2.964844 -1.144531 C 3.289063 -0.9375 3.628906 -0.835938 3.984375 -0.839844 C 4.503906 -0.835938 4.949219 -1.046875 5.324219 -1.46875 C 5.695313 -1.886719 5.882813 -2.457031 5.886719 -3.179688 C 5.882813 -3.871094 5.699219 -4.417969 5.332031 -4.816406 C 4.960938 -5.214844 4.496094 -5.414063 3.9375 -5.414063 C 3.378906 -5.414063 2.90625 -5.214844 2.519531 -4.816406 C 2.132813 -4.417969 1.9375 -3.894531 1.941406 -3.246094 Z M 1.941406 -3.246094 \"/>\n",
       "</symbol>\n",
       "<symbol overflow=\"visible\" id=\"glyph0-8\">\n",
       "<path style=\"stroke:none;\" d=\"M 0.664063 -8.710938 L 0.664063 -9.890625 L 7.148438 -9.890625 L 7.148438 -8.933594 C 6.511719 -8.25 5.878906 -7.347656 5.253906 -6.226563 C 4.625 -5.097656 4.140625 -3.941406 3.800781 -2.753906 C 3.550781 -1.914063 3.394531 -0.996094 3.328125 0 L 2.0625 0 C 2.078125 -0.789063 2.230469 -1.738281 2.527344 -2.855469 C 2.820313 -3.96875 3.246094 -5.046875 3.800781 -6.085938 C 4.351563 -7.121094 4.941406 -7.996094 5.570313 -8.710938 Z M 0.664063 -8.710938 \"/>\n",
       "</symbol>\n",
       "<symbol overflow=\"visible\" id=\"glyph0-9\">\n",
       "<path style=\"stroke:none;\" d=\"M 2.476563 -5.433594 C 1.964844 -5.617188 1.585938 -5.886719 1.339844 -6.234375 C 1.089844 -6.578125 0.964844 -6.992188 0.96875 -7.476563 C 0.964844 -8.203125 1.226563 -8.816406 1.753906 -9.316406 C 2.277344 -9.8125 2.976563 -10.058594 3.847656 -10.0625 C 4.71875 -10.058594 5.421875 -9.804688 5.960938 -9.300781 C 6.492188 -8.789063 6.761719 -8.171875 6.761719 -7.445313 C 6.761719 -6.976563 6.636719 -6.570313 6.394531 -6.230469 C 6.148438 -5.882813 5.78125 -5.617188 5.285156 -5.433594 C 5.898438 -5.230469 6.363281 -4.90625 6.6875 -4.460938 C 7.007813 -4.011719 7.171875 -3.480469 7.171875 -2.863281 C 7.171875 -2.003906 6.867188 -1.285156 6.261719 -0.703125 C 5.652344 -0.121094 4.855469 0.167969 3.867188 0.171875 C 2.878906 0.167969 2.082031 -0.121094 1.476563 -0.707031 C 0.867188 -1.289063 0.5625 -2.019531 0.566406 -2.898438 C 0.5625 -3.546875 0.726563 -4.09375 1.0625 -4.535156 C 1.390625 -4.972656 1.863281 -5.269531 2.476563 -5.433594 Z M 2.226563 -7.519531 C 2.226563 -7.042969 2.378906 -6.65625 2.683594 -6.355469 C 2.988281 -6.054688 3.382813 -5.90625 3.875 -5.90625 C 4.34375 -5.90625 4.734375 -6.054688 5.039063 -6.351563 C 5.34375 -6.648438 5.496094 -7.015625 5.496094 -7.453125 C 5.496094 -7.902344 5.339844 -8.28125 5.027344 -8.589844 C 4.714844 -8.894531 4.324219 -9.046875 3.863281 -9.050781 C 3.386719 -9.046875 2.996094 -8.894531 2.691406 -8.597656 C 2.378906 -8.292969 2.226563 -7.933594 2.226563 -7.519531 Z M 1.832031 -2.890625 C 1.828125 -2.539063 1.910156 -2.203125 2.082031 -1.875 C 2.246094 -1.546875 2.496094 -1.289063 2.824219 -1.109375 C 3.152344 -0.925781 3.503906 -0.835938 3.882813 -0.839844 C 4.46875 -0.835938 4.953125 -1.027344 5.339844 -1.40625 C 5.71875 -1.785156 5.910156 -2.265625 5.914063 -2.851563 C 5.910156 -3.441406 5.714844 -3.929688 5.320313 -4.320313 C 4.925781 -4.703125 4.433594 -4.898438 3.84375 -4.902344 C 3.261719 -4.898438 2.78125 -4.707031 2.402344 -4.328125 C 2.019531 -3.941406 1.828125 -3.460938 1.832031 -2.890625 Z M 1.832031 -2.890625 \"/>\n",
       "</symbol>\n",
       "<symbol overflow=\"visible\" id=\"glyph0-10\">\n",
       "<path style=\"stroke:none;\" d=\"M 0.765625 -2.316406 L 1.949219 -2.425781 C 2.046875 -1.871094 2.238281 -1.464844 2.519531 -1.214844 C 2.800781 -0.960938 3.164063 -0.835938 3.609375 -0.839844 C 3.984375 -0.835938 4.3125 -0.921875 4.601563 -1.097656 C 4.882813 -1.269531 5.117188 -1.503906 5.304688 -1.792969 C 5.484375 -2.082031 5.636719 -2.472656 5.761719 -2.964844 C 5.878906 -3.457031 5.941406 -3.957031 5.945313 -4.46875 C 5.941406 -4.523438 5.941406 -4.605469 5.941406 -4.71875 C 5.691406 -4.320313 5.351563 -4.003906 4.929688 -3.761719 C 4.5 -3.519531 4.039063 -3.398438 3.546875 -3.398438 C 2.714844 -3.398438 2.015625 -3.699219 1.441406 -4.300781 C 0.867188 -4.902344 0.578125 -5.695313 0.582031 -6.679688 C 0.578125 -7.695313 0.878906 -8.511719 1.480469 -9.132813 C 2.078125 -9.75 2.828125 -10.058594 3.734375 -10.0625 C 4.382813 -10.058594 4.980469 -9.882813 5.519531 -9.535156 C 6.058594 -9.179688 6.46875 -8.679688 6.75 -8.035156 C 7.03125 -7.382813 7.171875 -6.445313 7.171875 -5.214844 C 7.171875 -3.933594 7.03125 -2.914063 6.753906 -2.15625 C 6.472656 -1.398438 6.058594 -0.820313 5.511719 -0.421875 C 4.960938 -0.0273438 4.316406 0.167969 3.582031 0.171875 C 2.792969 0.167969 2.152344 -0.046875 1.660156 -0.480469 C 1.160156 -0.914063 0.863281 -1.523438 0.765625 -2.316406 Z M 5.804688 -6.742188 C 5.800781 -7.445313 5.613281 -8.003906 5.238281 -8.421875 C 4.863281 -8.832031 4.410156 -9.039063 3.882813 -9.042969 C 3.332031 -9.039063 2.855469 -8.816406 2.453125 -8.371094 C 2.042969 -7.921875 1.839844 -7.34375 1.84375 -6.636719 C 1.839844 -5.996094 2.03125 -5.476563 2.421875 -5.082031 C 2.804688 -4.679688 3.28125 -4.480469 3.847656 -4.484375 C 4.414063 -4.480469 4.882813 -4.679688 5.253906 -5.082031 C 5.617188 -5.476563 5.800781 -6.03125 5.804688 -6.742188 Z M 5.804688 -6.742188 \"/>\n",
       "</symbol>\n",
       "</g>\n",
       "</defs>\n",
       "<g id=\"surface8\">\n",
       "<rect x=\"0\" y=\"0\" width=\"400\" height=\"400\" style=\"fill:rgb(100%,100%,100%);fill-opacity:1;stroke:none;\"/>\n",
       "<path style=\"fill:none;stroke-width:1;stroke-linecap:butt;stroke-linejoin:miter;stroke:rgb(96.078431%,48.627451%,0%);stroke-opacity:1;stroke-miterlimit:10;\" d=\"M 199.070313 201.679688 L 210.429688 251.03125 \"/>\n",
       "<path style=\"fill:none;stroke-width:1;stroke-linecap:butt;stroke-linejoin:miter;stroke:rgb(96.078431%,48.627451%,0%);stroke-opacity:1;stroke-miterlimit:10;\" d=\"M 199.070313 201.679688 L 153.550781 180.109375 \"/>\n",
       "<path style=\"fill:none;stroke-width:1;stroke-linecap:butt;stroke-linejoin:miter;stroke:rgb(96.078431%,48.627451%,0%);stroke-opacity:1;stroke-miterlimit:10;\" d=\"M 199.070313 201.679688 L 240.230469 172.550781 \"/>\n",
       "<path style=\"fill:none;stroke-width:1;stroke-linecap:butt;stroke-linejoin:miter;stroke:rgb(96.078431%,48.627451%,0%);stroke-opacity:1;stroke-miterlimit:10;\" d=\"M 210.429688 251.03125 L 282.292969 258.628906 \"/>\n",
       "<path style=\"fill:none;stroke-width:1;stroke-linecap:butt;stroke-linejoin:miter;stroke:rgb(96.078431%,48.627451%,0%);stroke-opacity:1;stroke-miterlimit:10;\" d=\"M 210.429688 251.03125 L 149.21875 289.691406 \"/>\n",
       "<path style=\"fill:none;stroke-width:1;stroke-linecap:butt;stroke-linejoin:miter;stroke:rgb(96.078431%,48.627451%,0%);stroke-opacity:1;stroke-miterlimit:10;\" d=\"M 153.550781 180.109375 L 99.457031 187.402344 \"/>\n",
       "<path style=\"fill:none;stroke-width:1;stroke-linecap:butt;stroke-linejoin:miter;stroke:rgb(96.078431%,48.627451%,0%);stroke-opacity:1;stroke-miterlimit:10;\" d=\"M 153.550781 180.109375 L 124.648438 133.492188 \"/>\n",
       "<path style=\"fill:none;stroke-width:1;stroke-linecap:butt;stroke-linejoin:miter;stroke:rgb(96.078431%,48.627451%,0%);stroke-opacity:1;stroke-miterlimit:10;\" d=\"M 240.230469 172.550781 L 281.394531 143.421875 \"/>\n",
       "<path style=\"fill:none;stroke-width:1;stroke-linecap:butt;stroke-linejoin:miter;stroke:rgb(96.078431%,48.627451%,0%);stroke-opacity:1;stroke-miterlimit:10;\" d=\"M 282.292969 258.628906 L 350 201.679688 \"/>\n",
       "<path style=\"fill:none;stroke-width:1;stroke-linecap:butt;stroke-linejoin:miter;stroke:rgb(96.078431%,48.627451%,0%);stroke-opacity:1;stroke-miterlimit:10;\" d=\"M 282.292969 258.628906 L 323.902344 287.105469 \"/>\n",
       "<path style=\"fill:none;stroke-width:1;stroke-linecap:butt;stroke-linejoin:miter;stroke:rgb(96.078431%,48.627451%,0%);stroke-opacity:1;stroke-miterlimit:10;\" d=\"M 282.292969 258.628906 L 254.632813 342.988281 \"/>\n",
       "<path style=\"fill:none;stroke-width:1;stroke-linecap:butt;stroke-linejoin:miter;stroke:rgb(96.078431%,48.627451%,0%);stroke-opacity:1;stroke-miterlimit:10;\" d=\"M 149.21875 289.691406 L 166.148438 350 \"/>\n",
       "<path style=\"fill:none;stroke-width:1;stroke-linecap:butt;stroke-linejoin:miter;stroke:rgb(96.078431%,48.627451%,0%);stroke-opacity:1;stroke-miterlimit:10;\" d=\"M 149.21875 289.691406 L 89.046875 305.71875 \"/>\n",
       "<path style=\"fill:none;stroke-width:1;stroke-linecap:butt;stroke-linejoin:miter;stroke:rgb(96.078431%,48.627451%,0%);stroke-opacity:1;stroke-miterlimit:10;\" d=\"M 124.648438 133.492188 L 50 225.453125 \"/>\n",
       "<path style=\"fill:none;stroke-width:1;stroke-linecap:butt;stroke-linejoin:miter;stroke:rgb(96.078431%,48.627451%,0%);stroke-opacity:1;stroke-miterlimit:10;\" d=\"M 124.648438 133.492188 L 62.507813 136.96875 \"/>\n",
       "<path style=\"fill:none;stroke-width:1;stroke-linecap:butt;stroke-linejoin:miter;stroke:rgb(96.078431%,48.627451%,0%);stroke-opacity:1;stroke-miterlimit:10;\" d=\"M 124.648438 133.492188 L 122.242188 70.863281 \"/>\n",
       "<path style=\"fill:none;stroke-width:1;stroke-linecap:butt;stroke-linejoin:miter;stroke:rgb(96.078431%,48.627451%,0%);stroke-opacity:1;stroke-miterlimit:10;\" d=\"M 124.648438 133.492188 L 208.546875 50 \"/>\n",
       "<path style=\"fill:none;stroke-width:1;stroke-linecap:butt;stroke-linejoin:miter;stroke:rgb(96.078431%,48.627451%,0%);stroke-opacity:1;stroke-miterlimit:10;\" d=\"M 281.394531 143.421875 L 291.578125 81.59375 \"/>\n",
       "<path style=\"fill:none;stroke-width:1;stroke-linecap:butt;stroke-linejoin:miter;stroke:rgb(96.078431%,48.627451%,0%);stroke-opacity:1;stroke-miterlimit:10;\" d=\"M 281.394531 143.421875 L 342.613281 154.714844 \"/>\n",
       "<path style=\"fill-rule:nonzero;fill:rgb(100%,87.843137%,69.803922%);fill-opacity:1;stroke-width:1;stroke-linecap:butt;stroke-linejoin:miter;stroke:rgb(100%,71.764706%,30.196078%);stroke-opacity:1;stroke-miterlimit:10;\" d=\"M 209.070313 201.679688 C 209.070313 207.203125 204.59375 211.679688 199.070313 211.679688 C 193.546875 211.679688 189.070313 207.203125 189.070313 201.679688 C 189.070313 196.15625 193.546875 191.679688 199.070313 191.679688 C 204.59375 191.679688 209.070313 196.15625 209.070313 201.679688 \"/>\n",
       "<path style=\"fill-rule:nonzero;fill:rgb(100%,87.843137%,69.803922%);fill-opacity:1;stroke-width:1;stroke-linecap:butt;stroke-linejoin:miter;stroke:rgb(100%,71.764706%,30.196078%);stroke-opacity:1;stroke-miterlimit:10;\" d=\"M 220.429688 251.03125 C 220.429688 256.554688 215.953125 261.03125 210.429688 261.03125 C 204.90625 261.03125 200.429688 256.554688 200.429688 251.03125 C 200.429688 245.507813 204.90625 241.03125 210.429688 241.03125 C 215.953125 241.03125 220.429688 245.507813 220.429688 251.03125 \"/>\n",
       "<path style=\"fill-rule:nonzero;fill:rgb(100%,87.843137%,69.803922%);fill-opacity:1;stroke-width:1;stroke-linecap:butt;stroke-linejoin:miter;stroke:rgb(100%,71.764706%,30.196078%);stroke-opacity:1;stroke-miterlimit:10;\" d=\"M 163.550781 180.109375 C 163.550781 185.632813 159.070313 190.109375 153.550781 190.109375 C 148.027344 190.109375 143.550781 185.632813 143.550781 180.109375 C 143.550781 174.585938 148.027344 170.109375 153.550781 170.109375 C 159.070313 170.109375 163.550781 174.585938 163.550781 180.109375 \"/>\n",
       "<path style=\"fill-rule:nonzero;fill:rgb(100%,87.843137%,69.803922%);fill-opacity:1;stroke-width:1;stroke-linecap:butt;stroke-linejoin:miter;stroke:rgb(100%,71.764706%,30.196078%);stroke-opacity:1;stroke-miterlimit:10;\" d=\"M 250.230469 172.550781 C 250.230469 178.074219 245.753906 182.550781 240.230469 182.550781 C 234.707031 182.550781 230.230469 178.074219 230.230469 172.550781 C 230.230469 167.027344 234.707031 162.550781 240.230469 162.550781 C 245.753906 162.550781 250.230469 167.027344 250.230469 172.550781 \"/>\n",
       "<path style=\"fill-rule:nonzero;fill:rgb(100%,87.843137%,69.803922%);fill-opacity:1;stroke-width:1;stroke-linecap:butt;stroke-linejoin:miter;stroke:rgb(100%,71.764706%,30.196078%);stroke-opacity:1;stroke-miterlimit:10;\" d=\"M 292.292969 258.628906 C 292.292969 264.152344 287.8125 268.628906 282.292969 268.628906 C 276.769531 268.628906 272.292969 264.152344 272.292969 258.628906 C 272.292969 253.109375 276.769531 248.628906 282.292969 248.628906 C 287.8125 248.628906 292.292969 253.109375 292.292969 258.628906 \"/>\n",
       "<path style=\"fill-rule:nonzero;fill:rgb(100%,87.843137%,69.803922%);fill-opacity:1;stroke-width:1;stroke-linecap:butt;stroke-linejoin:miter;stroke:rgb(100%,71.764706%,30.196078%);stroke-opacity:1;stroke-miterlimit:10;\" d=\"M 159.21875 289.691406 C 159.21875 295.210938 154.742188 299.691406 149.21875 299.691406 C 143.695313 299.691406 139.21875 295.210938 139.21875 289.691406 C 139.21875 284.167969 143.695313 279.691406 149.21875 279.691406 C 154.742188 279.691406 159.21875 284.167969 159.21875 289.691406 \"/>\n",
       "<path style=\"fill-rule:nonzero;fill:rgb(100%,87.843137%,69.803922%);fill-opacity:1;stroke-width:1;stroke-linecap:butt;stroke-linejoin:miter;stroke:rgb(100%,71.764706%,30.196078%);stroke-opacity:1;stroke-miterlimit:10;\" d=\"M 109.457031 187.402344 C 109.457031 192.925781 104.976563 197.402344 99.457031 197.402344 C 93.933594 197.402344 89.457031 192.925781 89.457031 187.402344 C 89.457031 181.882813 93.933594 177.402344 99.457031 177.402344 C 104.976563 177.402344 109.457031 181.882813 109.457031 187.402344 \"/>\n",
       "<path style=\"fill-rule:nonzero;fill:rgb(100%,87.843137%,69.803922%);fill-opacity:1;stroke-width:1;stroke-linecap:butt;stroke-linejoin:miter;stroke:rgb(100%,71.764706%,30.196078%);stroke-opacity:1;stroke-miterlimit:10;\" d=\"M 134.648438 133.492188 C 134.648438 139.011719 130.171875 143.492188 124.648438 143.492188 C 119.125 143.492188 114.648438 139.011719 114.648438 133.492188 C 114.648438 127.96875 119.125 123.492188 124.648438 123.492188 C 130.171875 123.492188 134.648438 127.96875 134.648438 133.492188 \"/>\n",
       "<path style=\"fill-rule:nonzero;fill:rgb(100%,87.843137%,69.803922%);fill-opacity:1;stroke-width:1;stroke-linecap:butt;stroke-linejoin:miter;stroke:rgb(100%,71.764706%,30.196078%);stroke-opacity:1;stroke-miterlimit:10;\" d=\"M 291.394531 143.421875 C 291.394531 148.945313 286.914063 153.421875 281.394531 153.421875 C 275.871094 153.421875 271.394531 148.945313 271.394531 143.421875 C 271.394531 137.898438 275.871094 133.421875 281.394531 133.421875 C 286.914063 133.421875 291.394531 137.898438 291.394531 143.421875 \"/>\n",
       "<path style=\"fill-rule:nonzero;fill:rgb(100%,87.843137%,69.803922%);fill-opacity:1;stroke-width:1;stroke-linecap:butt;stroke-linejoin:miter;stroke:rgb(100%,71.764706%,30.196078%);stroke-opacity:1;stroke-miterlimit:10;\" d=\"M 360 201.679688 C 360 207.203125 355.523438 211.679688 350 211.679688 C 344.476563 211.679688 340 207.203125 340 201.679688 C 340 196.15625 344.476563 191.679688 350 191.679688 C 355.523438 191.679688 360 196.15625 360 201.679688 \"/>\n",
       "<path style=\"fill-rule:nonzero;fill:rgb(100%,87.843137%,69.803922%);fill-opacity:1;stroke-width:1;stroke-linecap:butt;stroke-linejoin:miter;stroke:rgb(100%,71.764706%,30.196078%);stroke-opacity:1;stroke-miterlimit:10;\" d=\"M 333.902344 287.105469 C 333.902344 292.628906 329.425781 297.105469 323.902344 297.105469 C 318.378906 297.105469 313.902344 292.628906 313.902344 287.105469 C 313.902344 281.582031 318.378906 277.105469 323.902344 277.105469 C 329.425781 277.105469 333.902344 281.582031 333.902344 287.105469 \"/>\n",
       "<path style=\"fill-rule:nonzero;fill:rgb(100%,87.843137%,69.803922%);fill-opacity:1;stroke-width:1;stroke-linecap:butt;stroke-linejoin:miter;stroke:rgb(100%,71.764706%,30.196078%);stroke-opacity:1;stroke-miterlimit:10;\" d=\"M 264.632813 342.988281 C 264.632813 348.511719 260.15625 352.988281 254.632813 352.988281 C 249.109375 352.988281 244.632813 348.511719 244.632813 342.988281 C 244.632813 337.464844 249.109375 332.988281 254.632813 332.988281 C 260.15625 332.988281 264.632813 337.464844 264.632813 342.988281 \"/>\n",
       "<path style=\"fill-rule:nonzero;fill:rgb(100%,87.843137%,69.803922%);fill-opacity:1;stroke-width:1;stroke-linecap:butt;stroke-linejoin:miter;stroke:rgb(100%,71.764706%,30.196078%);stroke-opacity:1;stroke-miterlimit:10;\" d=\"M 176.148438 350 C 176.148438 355.523438 171.667969 360 166.148438 360 C 160.625 360 156.148438 355.523438 156.148438 350 C 156.148438 344.476563 160.625 340 166.148438 340 C 171.667969 340 176.148438 344.476563 176.148438 350 \"/>\n",
       "<path style=\"fill-rule:nonzero;fill:rgb(100%,87.843137%,69.803922%);fill-opacity:1;stroke-width:1;stroke-linecap:butt;stroke-linejoin:miter;stroke:rgb(100%,71.764706%,30.196078%);stroke-opacity:1;stroke-miterlimit:10;\" d=\"M 99.046875 305.71875 C 99.046875 311.242188 94.570313 315.71875 89.046875 315.71875 C 83.527344 315.71875 79.046875 311.242188 79.046875 305.71875 C 79.046875 300.195313 83.527344 295.71875 89.046875 295.71875 C 94.570313 295.71875 99.046875 300.195313 99.046875 305.71875 \"/>\n",
       "<path style=\"fill-rule:nonzero;fill:rgb(100%,87.843137%,69.803922%);fill-opacity:1;stroke-width:1;stroke-linecap:butt;stroke-linejoin:miter;stroke:rgb(100%,71.764706%,30.196078%);stroke-opacity:1;stroke-miterlimit:10;\" d=\"M 60 225.453125 C 60 230.976563 55.523438 235.453125 50 235.453125 C 44.476563 235.453125 40 230.976563 40 225.453125 C 40 219.933594 44.476563 215.453125 50 215.453125 C 55.523438 215.453125 60 219.933594 60 225.453125 \"/>\n",
       "<path style=\"fill-rule:nonzero;fill:rgb(100%,87.843137%,69.803922%);fill-opacity:1;stroke-width:1;stroke-linecap:butt;stroke-linejoin:miter;stroke:rgb(100%,71.764706%,30.196078%);stroke-opacity:1;stroke-miterlimit:10;\" d=\"M 72.507813 136.96875 C 72.507813 142.492188 68.027344 146.96875 62.507813 146.96875 C 56.984375 146.96875 52.507813 142.492188 52.507813 136.96875 C 52.507813 131.449219 56.984375 126.96875 62.507813 126.96875 C 68.027344 126.96875 72.507813 131.449219 72.507813 136.96875 \"/>\n",
       "<path style=\"fill-rule:nonzero;fill:rgb(100%,87.843137%,69.803922%);fill-opacity:1;stroke-width:1;stroke-linecap:butt;stroke-linejoin:miter;stroke:rgb(100%,71.764706%,30.196078%);stroke-opacity:1;stroke-miterlimit:10;\" d=\"M 132.242188 70.863281 C 132.242188 76.386719 127.765625 80.863281 122.242188 80.863281 C 116.71875 80.863281 112.242188 76.386719 112.242188 70.863281 C 112.242188 65.339844 116.71875 60.863281 122.242188 60.863281 C 127.765625 60.863281 132.242188 65.339844 132.242188 70.863281 \"/>\n",
       "<path style=\"fill-rule:nonzero;fill:rgb(100%,87.843137%,69.803922%);fill-opacity:1;stroke-width:1;stroke-linecap:butt;stroke-linejoin:miter;stroke:rgb(100%,71.764706%,30.196078%);stroke-opacity:1;stroke-miterlimit:10;\" d=\"M 218.546875 50 C 218.546875 55.523438 214.070313 60 208.546875 60 C 203.023438 60 198.546875 55.523438 198.546875 50 C 198.546875 44.476563 203.023438 40 208.546875 40 C 214.070313 40 218.546875 44.476563 218.546875 50 \"/>\n",
       "<path style=\"fill-rule:nonzero;fill:rgb(100%,87.843137%,69.803922%);fill-opacity:1;stroke-width:1;stroke-linecap:butt;stroke-linejoin:miter;stroke:rgb(100%,71.764706%,30.196078%);stroke-opacity:1;stroke-miterlimit:10;\" d=\"M 301.578125 81.59375 C 301.578125 87.113281 297.097656 91.59375 291.578125 91.59375 C 286.054688 91.59375 281.578125 87.113281 281.578125 81.59375 C 281.578125 76.070313 286.054688 71.59375 291.578125 71.59375 C 297.097656 71.59375 301.578125 76.070313 301.578125 81.59375 \"/>\n",
       "<path style=\"fill-rule:nonzero;fill:rgb(100%,87.843137%,69.803922%);fill-opacity:1;stroke-width:1;stroke-linecap:butt;stroke-linejoin:miter;stroke:rgb(100%,71.764706%,30.196078%);stroke-opacity:1;stroke-miterlimit:10;\" d=\"M 352.613281 154.714844 C 352.613281 160.238281 348.136719 164.714844 342.613281 164.714844 C 337.089844 164.714844 332.613281 160.238281 332.613281 154.714844 C 332.613281 149.191406 337.089844 144.714844 342.613281 144.714844 C 348.136719 144.714844 352.613281 149.191406 352.613281 154.714844 \"/>\n",
       "<g style=\"fill:rgb(96.078431%,48.627451%,0%);fill-opacity:1;\">\n",
       "  <use xlink:href=\"#glyph0-1\" x=\"195.222656\" y=\"208.210938\"/>\n",
       "</g>\n",
       "<g style=\"fill:rgb(96.078431%,48.627451%,0%);fill-opacity:1;\">\n",
       "  <use xlink:href=\"#glyph0-2\" x=\"207.0625\" y=\"257.5625\"/>\n",
       "</g>\n",
       "<g style=\"fill:rgb(96.078431%,48.627451%,0%);fill-opacity:1;\">\n",
       "  <use xlink:href=\"#glyph0-3\" x=\"149.820313\" y=\"186.640625\"/>\n",
       "</g>\n",
       "<g style=\"fill:rgb(96.078431%,48.627451%,0%);fill-opacity:1;\">\n",
       "  <use xlink:href=\"#glyph0-4\" x=\"236.363281\" y=\"179.082031\"/>\n",
       "</g>\n",
       "<g style=\"fill:rgb(96.078431%,48.627451%,0%);fill-opacity:1;\">\n",
       "  <use xlink:href=\"#glyph0-5\" x=\"278.648438\" y=\"265.140625\"/>\n",
       "</g>\n",
       "<g style=\"fill:rgb(96.078431%,48.627451%,0%);fill-opacity:1;\">\n",
       "  <use xlink:href=\"#glyph0-6\" x=\"145.316406\" y=\"296.132813\"/>\n",
       "</g>\n",
       "<g style=\"fill:rgb(96.078431%,48.627451%,0%);fill-opacity:1;\">\n",
       "  <use xlink:href=\"#glyph0-7\" x=\"95.621094\" y=\"193.933594\"/>\n",
       "</g>\n",
       "<g style=\"fill:rgb(96.078431%,48.627451%,0%);fill-opacity:1;\">\n",
       "  <use xlink:href=\"#glyph0-8\" x=\"120.742188\" y=\"139.9375\"/>\n",
       "</g>\n",
       "<g style=\"fill:rgb(96.078431%,48.627451%,0%);fill-opacity:1;\">\n",
       "  <use xlink:href=\"#glyph0-9\" x=\"277.523438\" y=\"149.953125\"/>\n",
       "</g>\n",
       "<g style=\"fill:rgb(96.078431%,48.627451%,0%);fill-opacity:1;\">\n",
       "  <use xlink:href=\"#glyph0-10\" x=\"346.125\" y=\"208.210938\"/>\n",
       "</g>\n",
       "<g style=\"fill:rgb(96.078431%,48.627451%,0%);fill-opacity:1;\">\n",
       "  <use xlink:href=\"#glyph0-2\" x=\"315.6875\" y=\"293.636719\"/>\n",
       "  <use xlink:href=\"#glyph0-1\" x=\"323.473633\" y=\"293.636719\"/>\n",
       "</g>\n",
       "<g style=\"fill:rgb(96.078431%,48.627451%,0%);fill-opacity:1;\">\n",
       "  <use xlink:href=\"#glyph0-2\" x=\"247.367188\" y=\"349.519531\"/>\n",
       "  <use xlink:href=\"#glyph0-2\" x=\"255.15332\" y=\"349.519531\"/>\n",
       "</g>\n",
       "<g style=\"fill:rgb(96.078431%,48.627451%,0%);fill-opacity:1;\">\n",
       "  <use xlink:href=\"#glyph0-2\" x=\"157.96875\" y=\"356.53125\"/>\n",
       "  <use xlink:href=\"#glyph0-3\" x=\"165.754883\" y=\"356.53125\"/>\n",
       "</g>\n",
       "<g style=\"fill:rgb(96.078431%,48.627451%,0%);fill-opacity:1;\">\n",
       "  <use xlink:href=\"#glyph0-2\" x=\"80.816406\" y=\"312.25\"/>\n",
       "  <use xlink:href=\"#glyph0-4\" x=\"88.602539\" y=\"312.25\"/>\n",
       "</g>\n",
       "<g style=\"fill:rgb(96.078431%,48.627451%,0%);fill-opacity:1;\">\n",
       "  <use xlink:href=\"#glyph0-2\" x=\"41.789063\" y=\"231.984375\"/>\n",
       "  <use xlink:href=\"#glyph0-5\" x=\"49.575195\" y=\"231.984375\"/>\n",
       "</g>\n",
       "<g style=\"fill:rgb(96.078431%,48.627451%,0%);fill-opacity:1;\">\n",
       "  <use xlink:href=\"#glyph0-2\" x=\"54.238281\" y=\"143.5\"/>\n",
       "  <use xlink:href=\"#glyph0-6\" x=\"62.024414\" y=\"143.5\"/>\n",
       "</g>\n",
       "<g style=\"fill:rgb(96.078431%,48.627451%,0%);fill-opacity:1;\">\n",
       "  <use xlink:href=\"#glyph0-2\" x=\"114.015625\" y=\"77.394531\"/>\n",
       "  <use xlink:href=\"#glyph0-7\" x=\"121.801758\" y=\"77.394531\"/>\n",
       "</g>\n",
       "<g style=\"fill:rgb(96.078431%,48.627451%,0%);fill-opacity:1;\">\n",
       "  <use xlink:href=\"#glyph0-2\" x=\"200.316406\" y=\"56.53125\"/>\n",
       "  <use xlink:href=\"#glyph0-8\" x=\"208.102539\" y=\"56.53125\"/>\n",
       "</g>\n",
       "<g style=\"fill:rgb(96.078431%,48.627451%,0%);fill-opacity:1;\">\n",
       "  <use xlink:href=\"#glyph0-2\" x=\"283.335938\" y=\"88.125\"/>\n",
       "  <use xlink:href=\"#glyph0-9\" x=\"291.12207\" y=\"88.125\"/>\n",
       "</g>\n",
       "<g style=\"fill:rgb(96.078431%,48.627451%,0%);fill-opacity:1;\">\n",
       "  <use xlink:href=\"#glyph0-2\" x=\"334.371094\" y=\"161.246094\"/>\n",
       "  <use xlink:href=\"#glyph0-10\" x=\"342.157227\" y=\"161.246094\"/>\n",
       "</g>\n",
       "</g>\n",
       "</svg>\n"
      ],
      "text/plain": [
       "<igraph.drawing.Plot at 0x1586f4e7348>"
      ]
     },
     "execution_count": 12,
     "metadata": {
      "image/svg+xml": {
       "isolated": true
      }
     },
     "output_type": "execute_result"
    }
   ],
   "source": [
    "# a random tree with 16 nodes\n",
    "edges = [(0, 1),(0, 2,), (0, 3),\n",
    "        (1,4), (1,5),\n",
    "        (2,6), (2,7),\n",
    "        (3,8),\n",
    "        (4,9), (4,10), (4,11),\n",
    "        (5,12), (5,13),\n",
    "        (7,14), (7,15), (7,16), (7,17),\n",
    "        (8,18), (8,19)]\n",
    "tree = Graph(edges=edges)\n",
    "\n",
    "layout = tree.layout_reingold_tilford_circular(100, 0, 2)\n",
    "\n",
    "tree.vs['label'] = [v.index for v in tree.vs]\n",
    "\n",
    "visual_style[\"vertex_size\"] = [20]\n",
    "visual_style[\"vertex_label\"] = [v.index for v in tree.vs]\n",
    "visual_style[\"layout\"] = layout\n",
    "visual_style[\"bbox\"] = (400, 400)\n",
    "visual_style[\"margin\"] = [50, 50, 50, 50]\n",
    "plot(tree, **visual_style)"
   ]
  },
  {
   "cell_type": "code",
   "execution_count": 13,
   "metadata": {
    "collapsed": false,
    "jupyter": {
     "outputs_hidden": false
    },
    "pycharm": {
     "name": "#%%\n"
    }
   },
   "outputs": [],
   "source": [
    "def memoize(f):\n",
    "    ### YOUR CODE ###\n",
    "    def helper(v):\n",
    "        return helper\n",
    "\n",
    "@memoize\n",
    "def solve_lis(g):\n",
    "    ## YOUR CODE ##\n",
    "    return 0\n",
    "\n",
    "#unit tests - base cases (theoretically there is just the empty tree as base case but it can simplify the code to have 3 base cases: 0, 1 & 2 nodes.)\n",
    "## YOUR CASES HERE ###\n",
    "# SOME EXAMPLE CASES\n",
    "# g1 = Graph(edges=[(0, 1),(0, 2)])\n",
    "# g2 = Graph(edges=[(0, 1),(0, 2), (0,3)])\n",
    "# g3 = Graph(edges=[(0, 1),(0, 2), (2,3)])\n",
    "# assert(solve_lis(g1) == 2)\n",
    "# assert(solve_lis(g2) == 3)\n",
    "# assert(solve_lis(g3) == 2)"
   ]
  },
  {
   "cell_type": "markdown",
   "metadata": {},
   "source": [
    "# Solutions"
   ]
  },
  {
   "cell_type": "markdown",
   "metadata": {
    "pycharm": {
     "name": "#%% md\n"
    }
   },
   "source": [
    "<div class=\"exercise exercise-warning\"><details><summary>Drinking game - non-memoized</summary>    \n",
    "    \n",
    "```python \n",
    "    \n",
    "    # %load solutions/03/dg_max_value.py\n",
    "    def solve(v):\n",
    "\n",
    "        n = len(v)\n",
    "        if n == 2:\n",
    "            return max(v[0], v[1])\n",
    "        elif n == 1:\n",
    "            return v[0]\n",
    "        elif n == 0:\n",
    "            return 0\n",
    "\n",
    "        return max(v[n-1] + solve(v[0: n - 2]), solve(v[0: n - 1]))\n",
    "\n",
    "    # unit tests\n",
    "    assert(solve([]) == 0)\n",
    "    assert(solve([5]) == 5)\n",
    "    assert(solve([5, 6]) == 6)\n",
    "    assert(solve([5, 5, 5, 5, 5]) == 15)\n",
    "    assert(solve([3, 1, 4, 1, 5, 9, 2, 6]) == 22)\n",
    "\n",
    "```\n",
    "    \n",
    "</details>"
   ]
  },
  {
   "cell_type": "markdown",
   "metadata": {
    "pycharm": {
     "name": "#%% md\n"
    }
   },
   "source": [
    "<div class=\"exercise exercise-warning\"><details><summary>Stingy drinking game - memoized</summary> \n",
    "    \n",
    "```python \n",
    "    \n",
    "    # %load solutions/03/stingy_memoized.py\n",
    "    def memoize(f):\n",
    "    memo = {}\n",
    "\n",
    "    def helper(v):\n",
    "        n = len(v)\n",
    "        if n not in memo:\n",
    "            memo[n] = f(v)\n",
    "        return memo[n]\n",
    "\n",
    "    return helper\n",
    "\n",
    "    @memoize\n",
    "    def solve_stingy(v):\n",
    "\n",
    "        n = len(v)\n",
    "        if n == 3:\n",
    "            return max(v[0], v[1], v[2]) \n",
    "        elif n == 2:\n",
    "            return max(v[0], v[1])\n",
    "        elif n == 1:\n",
    "            return v[0]\n",
    "        elif n == 0:\n",
    "            return 0\n",
    "\n",
    "        return max(v[n-1] + solve_stingy(v[0: n - 3]), solve_stingy(v[0: n - 2]), solve_stingy(v[0: n - 1]))\n",
    "\n",
    "    #unit tests\n",
    "    assert(solve_stingy([]) == 0)\n",
    "    assert(solve_stingy([3]) == 3)\n",
    "    assert(solve_stingy([3, 1]) == 3)\n",
    "    assert(solve_stingy([3, 1, 4]) == 4)\n",
    "    assert(solve_stingy([3, 1, 4, 1, 5, 9, 2, 6]) == 14)\n",
    "\n",
    "```\n",
    "    \n",
    "</details>"
   ]
  },
  {
   "cell_type": "markdown",
   "metadata": {},
   "source": [
    "<div class=\"exercise exercise-warning\"><details><summary>Largest independent set in a tree</summary> \n",
    "    \n",
    "Let u be a node in the tree, and define I(u) to be the size of the maximum independant set of a tree that has u at its root.<br><br>\n",
    "So we are looking at a subtree whose root is u.\n",
    "    \n",
    "    * It makes no difference which node is the root!\n",
    "    * A line is just a tree where nodes have at most one child (0 or 1)\n",
    "    \n",
    "We will consider the children nodes and the grandchildren nodes of u. The recurrence relation is then:<br><br>\n",
    "    \n",
    "    <code>I(u) = max{ 1 + sum(I(w) for all grandchildren of u) + sum(I(w) for all children of u) }</code>\n",
    "If the tree were weighted I(u) would be the maximum weight of an independant set with u at its root. Then you replace 1 with the weight of u:\n",
    "    \n",
    "    <code>I(u) = max{ weight(u) + sum(I(w) for all grandchildren of u) + sum(I(w) for all children of u) }</code>\n",
    "    \n",
    "\n",
    "<hr>\n",
    "The implementation on a binary tree is here.\n",
    "https://www.geeksforgeeks.org/largest-independent-set-problem-dp-26/\n",
    "</details>"
   ]
  },
  {
   "cell_type": "markdown",
   "metadata": {
    "pycharm": {
     "name": "#%% md\n"
    }
   },
   "source": [
    "# Footnotes\n",
    "\n",
    "<span id=\"fn1\"></span>\n",
    "\n",
    "    1. We will see other patterns in later lessons\n",
    "\n",
    "<span id=\"fn2\"></span>\n",
    "\n",
    "    2. A more precise description of 'shortest path problem' is: find the shortest path from a single source to another vertex in an acyclical, non-negative weighted graph. Note that the description constrains the type of graph, there is no constraint on _which vertices_ may be included in the shortest path.\n"
   ]
  },
  {
   "cell_type": "markdown",
   "metadata": {},
   "source": [
    "# References\n",
    "\n",
    "1. Arnab Kundu. (2013, February 17). Largest Independent Set Problem | DP-26. GeeksforGeeks. https://www.geeksforgeeks.org/largest-independent-set-problem-dp-26/\n",
    "\n",
    "2. Dasgupta, S., Papadimitriou, C. H., & Vazirani, U. V. (2008). Algorithms. McGraw-Hill Higher Education New York.\n",
    "\n",
    "3. Forišek, M. (2015). Towards a better way to teach dynamic programming. Olympiads in Informatics, 9, 45–55.\n",
    "\n",
    "4. The igraph core team. (2003, 2020). Getting started with python-igraph. https://igraph.org/python/"
   ]
  },
  {
   "cell_type": "code",
   "execution_count": 14,
   "metadata": {
    "collapsed": false,
    "jupyter": {
     "outputs_hidden": false
    },
    "pycharm": {
     "name": "#%%\n"
    }
   },
   "outputs": [
    {
     "data": {
      "text/html": [
       "<style>\n",
       "    .alert {\n",
       "      padding: 15px;\n",
       "      margin-bottom: 20px;\n",
       "      border: 1px solid transparent;\n",
       "      border-radius: 4px;\n",
       "    }\n",
       "\n",
       "    .alert h4 {\n",
       "      margin-top: 0;\n",
       "      color: inherit;\n",
       "    }\n",
       "\n",
       "    .alert .alert-link {\n",
       "      font-weight: bold;\n",
       "    }\n",
       "\n",
       "    .alert > p,\n",
       "    .alert > ul {\n",
       "      margin-bottom: 0;\n",
       "    }\n",
       "\n",
       "    .alert > p + p {\n",
       "      margin-top: 5px;\n",
       "    }\n",
       "\n",
       "    .alert-dismissable,\n",
       "    .alert-dismissible {\n",
       "      padding-right: 35px;\n",
       "    }\n",
       "\n",
       "    .alert-dismissable .close,\n",
       "    .alert-dismissible .close {\n",
       "      position: relative;\n",
       "      top: -2px;\n",
       "      right: -21px;\n",
       "      color: inherit;\n",
       "    }\n",
       "\n",
       "    .alert-success {\n",
       "      background-color: #C8E6C9;\n",
       "      border-color: #81C784;\n",
       "      color: #388E3C;\n",
       "    }\n",
       "\n",
       "    .alert-success hr {\n",
       "      border-top-color: #AED581;\n",
       "    }\n",
       "\n",
       "    .alert-success .alert-link {\n",
       "      color: #2E7D32;\n",
       "    }\n",
       "\n",
       "    .alert-info {\n",
       "      background-color: #B2EBF2;\n",
       "      border-color: #4DD0E1;\n",
       "      color: #0097A7;\n",
       "    }\n",
       "\n",
       "    .alert-info hr {\n",
       "      border-top-color: #00838F;\n",
       "    }\n",
       "\n",
       "    .alert-info .alert-link {\n",
       "      color: #245269;\n",
       "    }\n",
       "\n",
       "    .alert-warning {\n",
       "      background-color: #FFE0B2;\n",
       "      border-color: #FFB74D;\n",
       "      color: #F57C00;\n",
       "    }\n",
       "\n",
       "    .alert-warning hr {\n",
       "      border-top-color: #FFB74D;\n",
       "    }\n",
       "\n",
       "    .alert-warning .alert-link {\n",
       "      color: #EF6C00;\n",
       "    }\n",
       "\n",
       "    .alert-danger {\n",
       "      background-color: #ffcdd2;\n",
       "      border-color: #e57373;\n",
       "      color: #d32f2f;\n",
       "    }\n",
       "\n",
       "    .alert-danger hr {\n",
       "      border-top-color: #d32f2f;\n",
       "    }\n",
       "\n",
       "    .alert-danger .alert-link {\n",
       "      color: #c62828;\n",
       "    }\n",
       "    \n",
       "\n",
       "    .exercise {\n",
       "      padding: 15px;\n",
       "      margin-bottom: 20px;\n",
       "      border: 1px solid transparent;\n",
       "      border-radius: 4px;\n",
       "    }\n",
       "\n",
       "    .exercise h4 {\n",
       "      margin-top: 0;\n",
       "      color: inherit;\n",
       "    }\n",
       "\n",
       "    .exercise .alert-link {\n",
       "      font-weight: bold;\n",
       "    }\n",
       "\n",
       "    .exercise > p,\n",
       "    .exercise > ul {\n",
       "      margin-bottom: 0;\n",
       "    }\n",
       "\n",
       "    .exercise > p + p {\n",
       "      margin-top: 5px;\n",
       "    }\n",
       "\n",
       "    .exercise-info {\n",
       "      background-color: #B2EBF2;\n",
       "      border-color: #4DD0E1;\n",
       "      color: #000000;\n",
       "    }\n",
       "\n",
       "    .exercise-info hr {\n",
       "      border-top-color: #00838F;\n",
       "    }\n",
       "\n",
       "    .exercise-info .alert-link {\n",
       "      color: #245269;\n",
       "    }\n",
       "\n",
       "   .exercise-warning {\n",
       "      background-color: #FFE0B2;\n",
       "      border-color: #FFB74D;\n",
       "      color: #000000;\n",
       "    }\n",
       "\n",
       "    .exercise-warning hr {\n",
       "      border-top-color: #FFB74D;\n",
       "    }\n",
       "\n",
       "    .excercise-warning .alert-link {\n",
       "      color: #EF6C00;\n",
       "    }\n",
       "\n",
       "\n",
       "</style>\n"
      ],
      "text/plain": [
       "<IPython.core.display.HTML object>"
      ]
     },
     "execution_count": 14,
     "metadata": {},
     "output_type": "execute_result"
    }
   ],
   "source": [
    "#workaround for known ipywidget issue not rendering alert style colours on Jupyter lab\n",
    "from IPython.core.display import HTML\n",
    "HTML(open(\"../styles/custom.css\", \"r\").read())"
   ]
  }
 ],
 "metadata": {
  "kernelspec": {
   "display_name": "Python 3",
   "language": "python",
   "name": "python3"
  },
  "language_info": {
   "codemirror_mode": {
    "name": "ipython",
    "version": 3
   },
   "file_extension": ".py",
   "mimetype": "text/x-python",
   "name": "python",
   "nbconvert_exporter": "python",
   "pygments_lexer": "ipython3",
   "version": "3.7.6"
  },
  "latex_envs": {
   "LaTeX_envs_menu_present": true,
   "autoclose": true,
   "autocomplete": true,
   "bibliofile": "biblio.bib",
   "cite_by": "apalike",
   "current_citInitial": 1,
   "eqLabelWithNumbers": true,
   "eqNumInitial": 1,
   "hotkeys": {
    "equation": "Ctrl-E",
    "itemize": "Ctrl-I"
   },
   "labels_anchors": false,
   "latex_user_defs": false,
   "report_style_numbering": false,
   "user_envs_cfg": false
  },
  "toc": {
   "base_numbering": 1,
   "nav_menu": {},
   "number_sections": false,
   "sideBar": true,
   "skip_h1_title": false,
   "title_cell": "Table of Contents",
   "title_sidebar": "Contents",
   "toc_cell": false,
   "toc_position": {},
   "toc_section_display": true,
   "toc_window_display": true
  },
  "toc-autonumbering": true,
  "toc-showtags": false,
  "widgets": {
   "application/vnd.jupyter.widget-state+json": {
    "state": {},
    "version_major": 2,
    "version_minor": 0
   }
  }
 },
 "nbformat": 4,
 "nbformat_minor": 4
}
