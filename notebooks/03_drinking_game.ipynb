{
 "cells": [
  {
   "cell_type": "markdown",
   "metadata": {
    "collapsed": true
   },
   "source": [
    "# Lesson 3: The Drinking Game <a class=\"tocSkip\">\n",
    "    \n",
    "By the end of this lesson, you will know how to approach _any_ dynamic programming problem.\n",
    "    \n",
    "To demonstrate this method, we'll work on our first problem that really requires dynamic programming to solve which I have called 'The Drinking Game'.\n",
    "\n",
    "Along the way you'll learn:\n",
    "1. When to ignore, and what parts to ignore in the problem description\n",
    "2. One common starting strategy (we'll cover others later)\n",
    "2. The 4 steps: Two steps to a correct solution, one more step to an efficient solution, and one further step for optional improvement.\n",
    "    \n",
    "    \n",
    "The following video introduces the topic.  \n"
   ]
  },
  {
   "cell_type": "code",
   "execution_count": 2,
   "metadata": {
    "hide_input": true,
    "pycharm": {
     "name": "#%%\n"
    }
   },
   "outputs": [
    {
     "data": {
      "image/jpeg": "[encoded data removed]",
      "text/html": [
       "\n",
       "        <iframe\n",
       "            width=\"400\"\n",
       "            height=\"300\"\n",
       "            src=\"https://www.youtube.com/embed/B4201HEb3ro\"\n",
       "            frameborder=\"0\"\n",
       "            allowfullscreen\n",
       "        ></iframe>\n",
       "        "
      ],
      "text/plain": [
       "<IPython.lib.display.YouTubeVideo at 0x1cc6a0c8c88>"
      ]
     },
     "execution_count": 2,
     "metadata": {},
     "output_type": "execute_result"
    }
   ],
   "source": [
    "from IPython.display import YouTubeVideo\n",
    "YouTubeVideo('B4201HEb3ro')"
   ]
  },
  {
   "cell_type": "markdown",
   "metadata": {
    "hide_input": true
   },
   "source": [
    "\n",
    "\n",
    "\n",
    "\n",
    "\n"
   ]
  },
  {
   "cell_type": "markdown",
   "metadata": {},
   "source": [
    "## The Drinking Game Problem\n",
    "The drinking game is an easy to understand version of 'find the maximum weighted [independent set](https://en.wikipedia.org/wiki/Independent_set_(graph_theory)) on a line'. The bottles can be thought of as vertices in a graph like this: 0---0---0---0---0----0. Since the vertices are weighted, this could be a better example: 3--1--4--1--5--9--2--6.\n",
    "\n",
    "We want to find the heaviest set of vertices that are not connected."
   ]
  },
  {
   "cell_type": "markdown",
   "metadata": {},
   "source": [
    "<figure>\n",
    "    <img src=\"../images/drinking_game_bottles.png\">\n",
    "    <figcaption>Figure 1: You’re given a sequence of n bottles, the volumes of some (unidentified) liquid are $𝑣_0$ through $𝑣_{(𝑛−1)}$ . Drink as much as you can, given that you cannot drink from any two adjacent bottles.\n",
    "    </figcaption>\n",
    "</figure>\n",
    "<p>"
   ]
  },
  {
   "cell_type": "markdown",
   "metadata": {
    "pycharm": {
     "name": "#%% md\n"
    }
   },
   "source": [
    "### How to start\n",
    "The following quiz relates to the description of the problem in the figure above, where the 'rule' is: \"no taking adjacent bottles!\""
   ]
  },
  {
   "cell_type": "code",
   "execution_count": 17,
   "metadata": {
    "pycharm": {
     "name": "#%%\n"
    }
   },
   "outputs": [
    {
     "data": {
      "application/vnd.jupyter.widget-view+json": {
       "model_id": "3cacafb7455e4e71b208aaf6143ed546",
       "version_major": 2,
       "version_minor": 0
      },
      "text/plain": [
       "AppLayout(box_style='info', children=(HBox(children=(Label(value='As a first step, how would you rephrase the …"
      ]
     },
     "metadata": {},
     "output_type": "display_data"
    }
   ],
   "source": [
    "%run quizzes/quiz.py quizzes/03/first_step.json"
   ]
  },
  {
   "cell_type": "markdown",
   "metadata": {
    "pycharm": {
     "name": "#%% md\n"
    }
   },
   "source": [
    "As a first step, ignore the optimization part of the question."
   ]
  }
 ],
 "metadata": {
  "kernelspec": {
   "display_name": "Python 3",
   "language": "python",
   "name": "python3"
  },
  "language_info": {
   "codemirror_mode": {
    "name": "ipython",
    "version": 3
   },
   "file_extension": ".py",
   "mimetype": "text/x-python",
   "name": "python",
   "nbconvert_exporter": "python",
   "pygments_lexer": "ipython3",
   "version": "3.7.6"
  },
  "latex_envs": {
   "LaTeX_envs_menu_present": true,
   "autoclose": true,
   "autocomplete": true,
   "bibliofile": "biblio.bib",
   "cite_by": "apalike",
   "current_citInitial": 1,
   "eqLabelWithNumbers": true,
   "eqNumInitial": 1,
   "hotkeys": {
    "equation": "Ctrl-E",
    "itemize": "Ctrl-I"
   },
   "labels_anchors": false,
   "latex_user_defs": false,
   "report_style_numbering": false,
   "user_envs_cfg": false
  },
  "toc": {
   "base_numbering": 1,
   "nav_menu": {},
   "number_sections": false,
   "sideBar": true,
   "skip_h1_title": false,
   "title_cell": "Table of Contents",
   "title_sidebar": "Contents",
   "toc_cell": false,
   "toc_position": {},
   "toc_section_display": true,
   "toc_window_display": true
  }
 },
 "nbformat": 4,
 "nbformat_minor": 1
}