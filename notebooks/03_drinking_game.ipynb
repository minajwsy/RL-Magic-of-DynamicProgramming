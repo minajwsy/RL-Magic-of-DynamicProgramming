{
 "cells": [
  {
   "cell_type": "markdown",
   "metadata": {},
   "source": [
    "<font size=\"+4\">Lesson 3: The Drinking Game</font>\n",
    "    \n",
    "By the end of this lesson, you will know how to approach _any_ dynamic programming problem.\n",
    "    \n",
    "To demonstrate this method, we'll work on our first problem that really requires dynamic programming to solve which I have called 'The Drinking Game'.\n",
    "\n",
    "Along the way you'll learn:\n",
    "1. When to ignore, and what parts to ignore in the problem description\n",
    "2. One common subproblem choosing strategy (we'll cover others later)\n",
    "2. The 4 steps: Two steps to a correct solution, one more step to an efficient solution, and one further step for optional improvement.\n",
    "    \n",
    "    \n",
    "The following video introduces the topic.  \n"
   ]
  },
  {
   "cell_type": "code",
   "execution_count": 155,
   "metadata": {
    "jupyter": {
     "source_hidden": true
    },
    "pycharm": {
     "name": "#%%\n"
    }
   },
   "outputs": [
    {
     "data": {
      "image/jpeg": "[encoded data removed]",
      "text/html": [
       "\n",
       "        <iframe\n",
       "            width=\"400\"\n",
       "            height=\"300\"\n",
       "            src=\"https://www.youtube.com/embed/B4201HEb3ro\"\n",
       "            frameborder=\"0\"\n",
       "            allowfullscreen\n",
       "        ></iframe>\n",
       "        "
      ],
      "text/plain": [
       "<IPython.lib.display.YouTubeVideo at 0x29f53eb6d48>"
      ]
     },
     "execution_count": 155,
     "metadata": {},
     "output_type": "execute_result"
    }
   ],
   "source": [
    "from IPython.display import YouTubeVideo\n",
    "YouTubeVideo('B4201HEb3ro')"
   ]
  },
  {
   "cell_type": "markdown",
   "metadata": {},
   "source": [
    "\n",
    "\n",
    "\n",
    "\n",
    "\n"
   ]
  },
  {
   "cell_type": "markdown",
   "metadata": {},
   "source": [
    "# The Four Steps to Creating a Dynamic Programming Algorithm"
   ]
  },
  {
   "cell_type": "markdown",
   "metadata": {},
   "source": [
    "<figure>\n",
    "    <img src=\"../images/drinking_game_bottles.png\">\n",
    "    <figcaption>Figure 1: You’re given a sequence of n bottles, the volumes of some (unidentified) liquid are $𝑣_0$ through $𝑣_{(𝑛−1)}$ . Drink as much as you can, given that you cannot drink from any two adjacent bottles.\n",
    "    </figcaption>\n",
    "</figure>\n",
    "<p>"
   ]
  },
  {
   "cell_type": "markdown",
   "metadata": {},
   "source": [
    "The drinking game is an easy to understand version of 'find the maximum weighted [independent set](https://en.wikipedia.org/wiki/Independent_set_(graph_theory)) on a line'. The bottles can be thought of as vertices in a graph as shown below. We want to find the heaviest set of vertices that are __not connected__ by an edge."
   ]
  },
  {
   "cell_type": "code",
   "execution_count": 156,
   "metadata": {
    "jupyter": {
     "source_hidden": true
    },
    "pycharm": {
     "name": "#%%\n"
    }
   },
   "outputs": [
    {
     "data": {
      "image/svg+xml": [
       "<?xml version=\"1.0\" encoding=\"UTF-8\"?>\n",
       "<svg xmlns=\"http://www.w3.org/2000/svg\" xmlns:xlink=\"http://www.w3.org/1999/xlink\" width=\"600pt\" height=\"50pt\" viewBox=\"0 0 600 50\" version=\"1.1\">\n",
       "<defs>\n",
       "<g>\n",
       "<symbol overflow=\"visible\" id=\"glyph0-0\">\n",
       "<path style=\"stroke:none;\" d=\"M 1.75 0 L 1.75 -8.75 L 8.75 -8.75 L 8.75 0 Z M 1.96875 -0.21875 L 8.53125 -0.21875 L 8.53125 -8.53125 L 1.96875 -8.53125 Z M 1.96875 -0.21875 \"/>\n",
       "</symbol>\n",
       "<symbol overflow=\"visible\" id=\"glyph0-1\">\n",
       "<path style=\"stroke:none;\" d=\"M 0.585938 -2.644531 L 1.820313 -2.808594 C 1.957031 -2.109375 2.195313 -1.609375 2.539063 -1.300781 C 2.875 -0.992188 3.289063 -0.835938 3.78125 -0.839844 C 4.355469 -0.835938 4.84375 -1.039063 5.246094 -1.441406 C 5.640625 -1.839844 5.839844 -2.335938 5.84375 -2.933594 C 5.839844 -3.496094 5.65625 -3.960938 5.289063 -4.332031 C 4.917969 -4.695313 4.449219 -4.878906 3.882813 -4.882813 C 3.648438 -4.878906 3.359375 -4.832031 3.015625 -4.742188 L 3.152344 -5.824219 C 3.230469 -5.816406 3.296875 -5.8125 3.351563 -5.8125 C 3.875 -5.8125 4.34375 -5.949219 4.765625 -6.222656 C 5.179688 -6.496094 5.390625 -6.914063 5.394531 -7.484375 C 5.390625 -7.933594 5.238281 -8.308594 4.933594 -8.605469 C 4.628906 -8.898438 4.234375 -9.046875 3.753906 -9.050781 C 3.273438 -9.046875 2.875 -8.894531 2.554688 -8.597656 C 2.234375 -8.292969 2.027344 -7.84375 1.941406 -7.246094 L 0.710938 -7.464844 C 0.859375 -8.289063 1.203125 -8.925781 1.734375 -9.382813 C 2.265625 -9.832031 2.929688 -10.058594 3.726563 -10.0625 C 4.273438 -10.058594 4.773438 -9.941406 5.234375 -9.710938 C 5.691406 -9.472656 6.042969 -9.152344 6.289063 -8.75 C 6.53125 -8.339844 6.65625 -7.910156 6.65625 -7.457031 C 6.65625 -7.023438 6.539063 -6.628906 6.308594 -6.273438 C 6.074219 -5.917969 5.730469 -5.636719 5.277344 -5.429688 C 5.867188 -5.289063 6.328125 -5.003906 6.65625 -4.574219 C 6.984375 -4.140625 7.148438 -3.601563 7.148438 -2.960938 C 7.148438 -2.082031 6.828125 -1.339844 6.191406 -0.734375 C 5.550781 -0.125 4.746094 0.175781 3.773438 0.179688 C 2.890625 0.175781 2.160156 -0.0820313 1.582031 -0.605469 C 1 -1.128906 0.667969 -1.808594 0.585938 -2.644531 Z M 0.585938 -2.644531 \"/>\n",
       "</symbol>\n",
       "<symbol overflow=\"visible\" id=\"glyph0-2\">\n",
       "<path style=\"stroke:none;\" d=\"M 5.214844 0 L 3.984375 0 L 3.984375 -7.839844 C 3.6875 -7.558594 3.296875 -7.273438 2.816406 -6.992188 C 2.335938 -6.707031 1.90625 -6.496094 1.523438 -6.359375 L 1.523438 -7.546875 C 2.210938 -7.867188 2.8125 -8.257813 3.328125 -8.722656 C 3.84375 -9.179688 4.207031 -9.625 4.421875 -10.0625 L 5.214844 -10.0625 Z M 5.214844 0 \"/>\n",
       "</symbol>\n",
       "<symbol overflow=\"visible\" id=\"glyph0-3\">\n",
       "<path style=\"stroke:none;\" d=\"M 4.523438 0 L 4.523438 -2.398438 L 0.179688 -2.398438 L 0.179688 -3.527344 L 4.75 -10.023438 L 5.757813 -10.023438 L 5.757813 -3.527344 L 7.109375 -3.527344 L 7.109375 -2.398438 L 5.757813 -2.398438 L 5.757813 0 Z M 4.523438 -3.527344 L 4.523438 -8.046875 L 1.386719 -3.527344 Z M 4.523438 -3.527344 \"/>\n",
       "</symbol>\n",
       "<symbol overflow=\"visible\" id=\"glyph0-4\">\n",
       "<path style=\"stroke:none;\" d=\"M 0.582031 -2.625 L 1.875 -2.734375 C 1.96875 -2.101563 2.1875 -1.628906 2.539063 -1.3125 C 2.882813 -0.996094 3.304688 -0.835938 3.800781 -0.839844 C 4.390625 -0.835938 4.890625 -1.058594 5.304688 -1.507813 C 5.710938 -1.953125 5.917969 -2.546875 5.921875 -3.289063 C 5.917969 -3.984375 5.71875 -4.539063 5.328125 -4.949219 C 4.929688 -5.351563 4.414063 -5.554688 3.78125 -5.558594 C 3.382813 -5.554688 3.027344 -5.464844 2.707031 -5.285156 C 2.386719 -5.105469 2.132813 -4.871094 1.953125 -4.585938 L 0.800781 -4.738281 L 1.769531 -9.882813 L 6.753906 -9.882813 L 6.753906 -8.710938 L 2.753906 -8.710938 L 2.214844 -6.015625 C 2.816406 -6.433594 3.445313 -6.644531 4.109375 -6.644531 C 4.980469 -6.644531 5.71875 -6.339844 6.324219 -5.734375 C 6.921875 -5.128906 7.222656 -4.351563 7.226563 -3.398438 C 7.222656 -2.492188 6.960938 -1.707031 6.433594 -1.046875 C 5.789063 -0.234375 4.910156 0.167969 3.800781 0.171875 C 2.886719 0.167969 2.140625 -0.0820313 1.566406 -0.59375 C 0.988281 -1.101563 0.660156 -1.78125 0.582031 -2.625 Z M 0.582031 -2.625 \"/>\n",
       "</symbol>\n",
       "<symbol overflow=\"visible\" id=\"glyph0-5\">\n",
       "<path style=\"stroke:none;\" d=\"M 0.765625 -2.316406 L 1.949219 -2.425781 C 2.046875 -1.871094 2.238281 -1.464844 2.519531 -1.214844 C 2.800781 -0.960938 3.164063 -0.835938 3.609375 -0.839844 C 3.984375 -0.835938 4.3125 -0.921875 4.601563 -1.097656 C 4.882813 -1.269531 5.117188 -1.503906 5.304688 -1.792969 C 5.484375 -2.082031 5.636719 -2.472656 5.761719 -2.964844 C 5.878906 -3.457031 5.941406 -3.957031 5.945313 -4.46875 C 5.941406 -4.523438 5.941406 -4.605469 5.941406 -4.71875 C 5.691406 -4.320313 5.351563 -4.003906 4.929688 -3.761719 C 4.5 -3.519531 4.039063 -3.398438 3.546875 -3.398438 C 2.714844 -3.398438 2.015625 -3.699219 1.441406 -4.300781 C 0.867188 -4.902344 0.578125 -5.695313 0.582031 -6.679688 C 0.578125 -7.695313 0.878906 -8.511719 1.480469 -9.132813 C 2.078125 -9.75 2.828125 -10.058594 3.734375 -10.0625 C 4.382813 -10.058594 4.980469 -9.882813 5.519531 -9.535156 C 6.058594 -9.179688 6.46875 -8.679688 6.75 -8.035156 C 7.03125 -7.382813 7.171875 -6.445313 7.171875 -5.214844 C 7.171875 -3.933594 7.03125 -2.914063 6.753906 -2.15625 C 6.472656 -1.398438 6.058594 -0.820313 5.511719 -0.421875 C 4.960938 -0.0273438 4.316406 0.167969 3.582031 0.171875 C 2.792969 0.167969 2.152344 -0.046875 1.660156 -0.480469 C 1.160156 -0.914063 0.863281 -1.523438 0.765625 -2.316406 Z M 5.804688 -6.742188 C 5.800781 -7.445313 5.613281 -8.003906 5.238281 -8.421875 C 4.863281 -8.832031 4.410156 -9.039063 3.882813 -9.042969 C 3.332031 -9.039063 2.855469 -8.816406 2.453125 -8.371094 C 2.042969 -7.921875 1.839844 -7.34375 1.84375 -6.636719 C 1.839844 -5.996094 2.03125 -5.476563 2.421875 -5.082031 C 2.804688 -4.679688 3.28125 -4.480469 3.847656 -4.484375 C 4.414063 -4.480469 4.882813 -4.679688 5.253906 -5.082031 C 5.617188 -5.476563 5.800781 -6.03125 5.804688 -6.742188 Z M 5.804688 -6.742188 \"/>\n",
       "</symbol>\n",
       "<symbol overflow=\"visible\" id=\"glyph0-6\">\n",
       "<path style=\"stroke:none;\" d=\"M 7.046875 -1.183594 L 7.046875 0 L 0.421875 0 C 0.414063 -0.296875 0.460938 -0.582031 0.566406 -0.855469 C 0.734375 -1.304688 1.003906 -1.746094 1.375 -2.1875 C 1.746094 -2.621094 2.285156 -3.128906 2.988281 -3.703125 C 4.074219 -4.597656 4.808594 -5.304688 5.195313 -5.828125 C 5.574219 -6.347656 5.765625 -6.839844 5.769531 -7.308594 C 5.765625 -7.792969 5.589844 -8.203125 5.246094 -8.539063 C 4.894531 -8.871094 4.441406 -9.039063 3.882813 -9.042969 C 3.285156 -9.039063 2.8125 -8.863281 2.460938 -8.507813 C 2.105469 -8.152344 1.925781 -7.660156 1.921875 -7.035156 L 0.65625 -7.164063 C 0.742188 -8.105469 1.066406 -8.824219 1.632813 -9.320313 C 2.195313 -9.8125 2.953125 -10.058594 3.910156 -10.0625 C 4.867188 -10.058594 5.628906 -9.792969 6.191406 -9.261719 C 6.75 -8.726563 7.03125 -8.066406 7.035156 -7.28125 C 7.03125 -6.878906 6.949219 -6.484375 6.789063 -6.097656 C 6.621094 -5.707031 6.347656 -5.296875 5.96875 -4.871094 C 5.585938 -4.441406 4.953125 -3.855469 4.074219 -3.109375 C 3.332031 -2.488281 2.859375 -2.066406 2.652344 -1.847656 C 2.4375 -1.621094 2.265625 -1.402344 2.132813 -1.183594 Z M 7.046875 -1.183594 \"/>\n",
       "</symbol>\n",
       "<symbol overflow=\"visible\" id=\"glyph0-7\">\n",
       "<path style=\"stroke:none;\" d=\"M 6.964844 -7.566406 L 5.742188 -7.472656 C 5.632813 -7.949219 5.476563 -8.300781 5.277344 -8.523438 C 4.941406 -8.871094 4.53125 -9.046875 4.046875 -9.050781 C 3.652344 -9.046875 3.308594 -8.9375 3.015625 -8.722656 C 2.625 -8.4375 2.320313 -8.023438 2.097656 -7.484375 C 1.875 -6.9375 1.757813 -6.167969 1.75 -5.167969 C 2.042969 -5.617188 2.40625 -5.949219 2.835938 -6.171875 C 3.265625 -6.386719 3.714844 -6.496094 4.183594 -6.5 C 5.003906 -6.496094 5.699219 -6.195313 6.277344 -5.59375 C 6.851563 -4.988281 7.140625 -4.207031 7.144531 -3.253906 C 7.140625 -2.621094 7.003906 -2.039063 6.734375 -1.5 C 6.460938 -0.960938 6.089844 -0.546875 5.617188 -0.257813 C 5.140625 0.0273438 4.605469 0.167969 4.007813 0.171875 C 2.980469 0.167969 2.140625 -0.207031 1.496094 -0.960938 C 0.847656 -1.714844 0.527344 -2.957031 0.527344 -4.6875 C 0.527344 -6.625 0.882813 -8.03125 1.601563 -8.914063 C 2.21875 -9.675781 3.058594 -10.058594 4.121094 -10.0625 C 4.90625 -10.058594 5.554688 -9.839844 6.058594 -9.398438 C 6.5625 -8.953125 6.863281 -8.339844 6.964844 -7.566406 Z M 1.941406 -3.246094 C 1.9375 -2.820313 2.027344 -2.414063 2.210938 -2.027344 C 2.386719 -1.640625 2.640625 -1.34375 2.964844 -1.144531 C 3.289063 -0.9375 3.628906 -0.835938 3.984375 -0.839844 C 4.503906 -0.835938 4.949219 -1.046875 5.324219 -1.46875 C 5.695313 -1.886719 5.882813 -2.457031 5.886719 -3.179688 C 5.882813 -3.871094 5.699219 -4.417969 5.332031 -4.816406 C 4.960938 -5.214844 4.496094 -5.414063 3.9375 -5.414063 C 3.378906 -5.414063 2.90625 -5.214844 2.519531 -4.816406 C 2.132813 -4.417969 1.9375 -3.894531 1.941406 -3.246094 Z M 1.941406 -3.246094 \"/>\n",
       "</symbol>\n",
       "</g>\n",
       "</defs>\n",
       "<g id=\"surface304\">\n",
       "<rect x=\"0\" y=\"0\" width=\"600\" height=\"50\" style=\"fill:rgb(100%,100%,100%);fill-opacity:1;stroke:none;\"/>\n",
       "<path style=\"fill:none;stroke-width:1;stroke-linecap:butt;stroke-linejoin:miter;stroke:rgb(96.078431%,48.627451%,0%);stroke-opacity:1;stroke-miterlimit:10;\" d=\"M 50 25 L 121.429688 25 \"/>\n",
       "<path style=\"fill:none;stroke-width:1;stroke-linecap:butt;stroke-linejoin:miter;stroke:rgb(96.078431%,48.627451%,0%);stroke-opacity:1;stroke-miterlimit:10;\" d=\"M 121.429688 25 L 192.855469 25 \"/>\n",
       "<path style=\"fill:none;stroke-width:1;stroke-linecap:butt;stroke-linejoin:miter;stroke:rgb(96.078431%,48.627451%,0%);stroke-opacity:1;stroke-miterlimit:10;\" d=\"M 192.855469 25 L 264.285156 25 \"/>\n",
       "<path style=\"fill:none;stroke-width:1;stroke-linecap:butt;stroke-linejoin:miter;stroke:rgb(96.078431%,48.627451%,0%);stroke-opacity:1;stroke-miterlimit:10;\" d=\"M 264.285156 25 L 335.714844 25 \"/>\n",
       "<path style=\"fill:none;stroke-width:1;stroke-linecap:butt;stroke-linejoin:miter;stroke:rgb(96.078431%,48.627451%,0%);stroke-opacity:1;stroke-miterlimit:10;\" d=\"M 335.714844 25 L 407.144531 25 \"/>\n",
       "<path style=\"fill:none;stroke-width:1;stroke-linecap:butt;stroke-linejoin:miter;stroke:rgb(96.078431%,48.627451%,0%);stroke-opacity:1;stroke-miterlimit:10;\" d=\"M 407.144531 25 L 478.570313 25 \"/>\n",
       "<path style=\"fill:none;stroke-width:1;stroke-linecap:butt;stroke-linejoin:miter;stroke:rgb(96.078431%,48.627451%,0%);stroke-opacity:1;stroke-miterlimit:10;\" d=\"M 478.570313 25 L 550 25 \"/>\n",
       "<path style=\"fill-rule:nonzero;fill:rgb(100%,87.843137%,69.803922%);fill-opacity:1;stroke-width:1;stroke-linecap:butt;stroke-linejoin:miter;stroke:rgb(100%,71.764706%,30.196078%);stroke-opacity:1;stroke-miterlimit:10;\" d=\"M 64.5 25 C 64.5 33.007813 58.007813 39.5 50 39.5 C 41.992188 39.5 35.5 33.007813 35.5 25 C 35.5 16.992188 41.992188 10.5 50 10.5 C 58.007813 10.5 64.5 16.992188 64.5 25 \"/>\n",
       "<path style=\"fill-rule:nonzero;fill:rgb(100%,87.843137%,69.803922%);fill-opacity:1;stroke-width:1;stroke-linecap:butt;stroke-linejoin:miter;stroke:rgb(100%,71.764706%,30.196078%);stroke-opacity:1;stroke-miterlimit:10;\" d=\"M 132.929688 25 C 132.929688 31.351563 127.78125 36.5 121.429688 36.5 C 115.078125 36.5 109.929688 31.351563 109.929688 25 C 109.929688 18.648438 115.078125 13.5 121.429688 13.5 C 127.78125 13.5 132.929688 18.648438 132.929688 25 \"/>\n",
       "<path style=\"fill-rule:nonzero;fill:rgb(100%,87.843137%,69.803922%);fill-opacity:1;stroke-width:1;stroke-linecap:butt;stroke-linejoin:miter;stroke:rgb(100%,71.764706%,30.196078%);stroke-opacity:1;stroke-miterlimit:10;\" d=\"M 208.855469 25 C 208.855469 33.835938 201.695313 41 192.855469 41 C 184.019531 41 176.855469 33.835938 176.855469 25 C 176.855469 16.164063 184.019531 9 192.855469 9 C 201.695313 9 208.855469 16.164063 208.855469 25 \"/>\n",
       "<path style=\"fill-rule:nonzero;fill:rgb(100%,87.843137%,69.803922%);fill-opacity:1;stroke-width:1;stroke-linecap:butt;stroke-linejoin:miter;stroke:rgb(100%,71.764706%,30.196078%);stroke-opacity:1;stroke-miterlimit:10;\" d=\"M 275.785156 25 C 275.785156 31.351563 270.636719 36.5 264.285156 36.5 C 257.933594 36.5 252.785156 31.351563 252.785156 25 C 252.785156 18.648438 257.933594 13.5 264.285156 13.5 C 270.636719 13.5 275.785156 18.648438 275.785156 25 \"/>\n",
       "<path style=\"fill-rule:nonzero;fill:rgb(100%,87.843137%,69.803922%);fill-opacity:1;stroke-width:1;stroke-linecap:butt;stroke-linejoin:miter;stroke:rgb(100%,71.764706%,30.196078%);stroke-opacity:1;stroke-miterlimit:10;\" d=\"M 353.214844 25 C 353.214844 34.664063 345.378906 42.5 335.714844 42.5 C 326.050781 42.5 318.214844 34.664063 318.214844 25 C 318.214844 15.335938 326.050781 7.5 335.714844 7.5 C 345.378906 7.5 353.214844 15.335938 353.214844 25 \"/>\n",
       "<path style=\"fill-rule:nonzero;fill:rgb(100%,87.843137%,69.803922%);fill-opacity:1;stroke-width:1;stroke-linecap:butt;stroke-linejoin:miter;stroke:rgb(100%,71.764706%,30.196078%);stroke-opacity:1;stroke-miterlimit:10;\" d=\"M 430.644531 25 C 430.644531 37.980469 420.121094 48.5 407.144531 48.5 C 394.164063 48.5 383.644531 37.980469 383.644531 25 C 383.644531 12.019531 394.164063 1.5 407.144531 1.5 C 420.121094 1.5 430.644531 12.019531 430.644531 25 \"/>\n",
       "<path style=\"fill-rule:nonzero;fill:rgb(100%,87.843137%,69.803922%);fill-opacity:1;stroke-width:1;stroke-linecap:butt;stroke-linejoin:miter;stroke:rgb(100%,71.764706%,30.196078%);stroke-opacity:1;stroke-miterlimit:10;\" d=\"M 491.570313 25 C 491.570313 32.179688 485.75 38 478.570313 38 C 471.390625 38 465.570313 32.179688 465.570313 25 C 465.570313 17.820313 471.390625 12 478.570313 12 C 485.75 12 491.570313 17.820313 491.570313 25 \"/>\n",
       "<path style=\"fill-rule:nonzero;fill:rgb(100%,87.843137%,69.803922%);fill-opacity:1;stroke-width:1;stroke-linecap:butt;stroke-linejoin:miter;stroke:rgb(100%,71.764706%,30.196078%);stroke-opacity:1;stroke-miterlimit:10;\" d=\"M 569 25 C 569 35.492188 560.492188 44 550 44 C 539.507813 44 531 35.492188 531 25 C 531 14.507813 539.507813 6 550 6 C 560.492188 6 569 14.507813 569 25 \"/>\n",
       "<g style=\"fill:rgb(96.078431%,48.627451%,0%);fill-opacity:1;\">\n",
       "  <use xlink:href=\"#glyph0-1\" x=\"46.132813\" y=\"31.53125\"/>\n",
       "</g>\n",
       "<g style=\"fill:rgb(96.078431%,48.627451%,0%);fill-opacity:1;\">\n",
       "  <use xlink:href=\"#glyph0-2\" x=\"118.058594\" y=\"31.53125\"/>\n",
       "</g>\n",
       "<g style=\"fill:rgb(96.078431%,48.627451%,0%);fill-opacity:1;\">\n",
       "  <use xlink:href=\"#glyph0-3\" x=\"189.214844\" y=\"31.511719\"/>\n",
       "</g>\n",
       "<g style=\"fill:rgb(96.078431%,48.627451%,0%);fill-opacity:1;\">\n",
       "  <use xlink:href=\"#glyph0-2\" x=\"260.914063\" y=\"31.53125\"/>\n",
       "</g>\n",
       "<g style=\"fill:rgb(96.078431%,48.627451%,0%);fill-opacity:1;\">\n",
       "  <use xlink:href=\"#glyph0-4\" x=\"331.8125\" y=\"31.441406\"/>\n",
       "</g>\n",
       "<g style=\"fill:rgb(96.078431%,48.627451%,0%);fill-opacity:1;\">\n",
       "  <use xlink:href=\"#glyph0-5\" x=\"403.265625\" y=\"31.53125\"/>\n",
       "</g>\n",
       "<g style=\"fill:rgb(96.078431%,48.627451%,0%);fill-opacity:1;\">\n",
       "  <use xlink:href=\"#glyph0-6\" x=\"474.84375\" y=\"31.53125\"/>\n",
       "</g>\n",
       "<g style=\"fill:rgb(96.078431%,48.627451%,0%);fill-opacity:1;\">\n",
       "  <use xlink:href=\"#glyph0-7\" x=\"546.164063\" y=\"31.53125\"/>\n",
       "</g>\n",
       "</g>\n",
       "</svg>\n"
      ],
      "text/plain": [
       "<igraph.drawing.Plot at 0x29f53e8ce88>"
      ]
     },
     "execution_count": 156,
     "metadata": {
      "image/svg+xml": {
       "isolated": true
      }
     },
     "output_type": "execute_result"
    }
   ],
   "source": [
    "# Import package\n",
    "from igraph import *\n",
    "\n",
    "# a line tree with 8 nodes\n",
    "g = Graph.Tree(8, 1)\n",
    "g.vs[\"weight\"] = [3, 1, 4, 1, 5, 9, 2, 6]\n",
    "\n",
    "\n",
    "# draw the graph\n",
    "#layout = g.layout(\"kk\", )\n",
    "layout = g.layout_grid(100, 0, 2)\n",
    "#print(layout[0])\n",
    "\n",
    "visual_style = {}\n",
    "visual_style[\"vertex_size\"] = [20 + 3*w for w in g.vs[\"weight\"]]\n",
    "visual_style[\"vertex_color\"] = [\"#FFE0B2\"]\n",
    "visual_style[\"vertex_frame_color\"] = [\"#FFB74D\"]\n",
    "visual_style[\"edge_color\"] = [\"#F57C00\"]\n",
    "visual_style[\"vertex_label\"] = [str(w) for w in g.vs[\"weight\"]]\n",
    "visual_style[\"vertex_label_color\"] = [\"#F57C00\"]\n",
    "visual_style[\"vertex_label_dist\"] = 0\n",
    "visual_style[\"edge_width\"] = [1]\n",
    "visual_style[\"edge_length\"] = [1]\n",
    "visual_style[\"layout\"] = layout\n",
    "visual_style[\"bbox\"] = (600, 50)\n",
    "visual_style[\"margin\"] = [50, 0, 50, 0]\n",
    "\n",
    "plot(g, **visual_style)"
   ]
  },
  {
   "cell_type": "markdown",
   "metadata": {},
   "source": [
    "## Examine all Possible Solutions (step 1)\n",
    "This step begins with reading the problem statement. It ends when you have defined a recurrence relation. Along the way you have to discover how to break your problem into subproblems. It's a long step but in its essence you are using __brute force to look at all the valid solutions.__\n",
    "\n",
    "The __bad news__ is that this first step is often the most difficult and this is the step that differs between easy and hard problems. The __good news__ is that once you complete this step, the algorithm almost writes itself.\n",
    "\n",
    "I have broken down this step into a few sub-steps below"
   ]
  },
  {
   "cell_type": "markdown",
   "metadata": {
    "pycharm": {
     "name": "#%% md\n"
    }
   },
   "source": [
    "### Ignore Optimization\n",
    "__Start this way:__ Read the problem statement and identify the optimization part. Look for key words such as 'most', 'least', 'longest', 'shortest', 'heaviest' etc. Just to get a start on the problem __IGNORE__ the optimization part (this is temporary - don't worry - we'll come back to the original problem very soon) and rephrase the question as one of finding all the valid possibilities. So for example, if you are asked to find 'the shortest path' - rephrase the question temporarily to 'find all the paths'."
   ]
  },
  {
   "cell_type": "code",
   "execution_count": 157,
   "metadata": {
    "jupyter": {
     "source_hidden": true
    },
    "pycharm": {
     "name": "#%%\n"
    }
   },
   "outputs": [
    {
     "data": {
      "application/vnd.jupyter.widget-view+json": {
       "model_id": "27bcea02461544f2bd43270e1828c246",
       "version_major": 2,
       "version_minor": 0
      },
      "text/plain": [
       "VBox(box_style='info', children=(HBox(children=(HTML(value='<style>p{word-wrap: break-word}</style> <p>As a fi…"
      ]
     },
     "metadata": {},
     "output_type": "display_data"
    }
   ],
   "source": [
    "%run quizzes/quiz.py quizzes/03/first_step.json"
   ]
  },
  {
   "cell_type": "markdown",
   "metadata": {},
   "source": [
    "### Choose the Subproblem Pattern\n",
    "You are still ignoring the optimization requirement of the problem and trying to find all combinations that satisfy some constraint (in our case, that the bottles may not be adjacent). In this stage, you need to break up finding the combinations from _all_ the elements of the series, to finding those combinations of bottles in some finite number of subgroups.\n",
    "\n",
    "The question is how to choose those subsets? One pattern is to choose the __first $i$ elements__.[<sup>1</sup>](#fn1)"
   ]
  },
  {
   "cell_type": "markdown",
   "metadata": {},
   "source": [
    "If your input is: $x_1$, $x_2$, $x_3$, ... ,$x_n$, your subproblems will be of the form: $x_1$, $x_2$, $x_3$, ..., $x_i$\n",
    "\n",
    "    +----------------------------+\n",
    "    | x1   x2   x3  x4   x5   x6 |  x7   x8   x9   x10\n",
    "    +----------------------------+\n",
    "\n",
    "For the drinking game problem, we'll use this __prefix pattern__. Instead of looking for all the combinations of bottles in the set of all bottles, we'll form one or more subsets starting from the beginning of the series.\n",
    "\n",
    "Now it remains to define the pattern of the subsets themselves. This is linked to the recurrence relation that we'll build."
   ]
  },
  {
   "cell_type": "markdown",
   "metadata": {},
   "source": [
    "### Divide Subproblems into Cases\n",
    "In order to solve the problem by recursion, we need to define a recurrence relation. How do we discover this relation?\n",
    "\n",
    "There are 3 ways:\n",
    "\n",
    "1. __It's given to you!__ For example, to find the n'th Fibonacci you are given the definition: fib(1) = fib(2) = 1, fib(n) = fib(n-1) + fib(n-2).\n",
    "2. __Build it from a given constraint.__ For example, 'no adjacent bottles'\n",
    "3. __Add your own constraint, then build from that.__ Sometimes you're not given any constraint - the classic example is 'shortest path'[<sup>2</sup>](#fn2). We'll cover this super powerful technique of strengthening the induction hypothesis in later lessons."
   ]
  },
  {
   "cell_type": "code",
   "execution_count": 158,
   "metadata": {
    "jupyter": {
     "source_hidden": true
    }
   },
   "outputs": [
    {
     "data": {
      "application/vnd.jupyter.widget-view+json": {
       "model_id": "7c0f95c7498740caace2dae9ff1342ad",
       "version_major": 2,
       "version_minor": 0
      },
      "text/plain": [
       "VBox(box_style='info', children=(HBox(children=(HTML(value='<style>p{word-wrap: break-word}</style> <p>Which s…"
      ]
     },
     "metadata": {},
     "output_type": "display_data"
    }
   ],
   "source": [
    "%run quizzes/quiz.py quizzes/03/recurrence_discovery.json"
   ]
  },
  {
   "cell_type": "markdown",
   "metadata": {},
   "source": [
    "Let's try to build a recurrence relation out of the given constraint (which is 'no adjacent bottles'). Think in terms of __cases__.\n",
    "\n",
    "Since we're using the prefix pattern of subproblems, the key is to look at the __last bottle__. Either you __take that bottle or you don't.__"
   ]
  },
  {
   "cell_type": "code",
   "execution_count": 159,
   "metadata": {
    "jupyter": {
     "source_hidden": true
    }
   },
   "outputs": [
    {
     "data": {
      "application/vnd.jupyter.widget-view+json": {
       "model_id": "846355fc5fcf40e09a855748702d63b7",
       "version_major": 2,
       "version_minor": 0
      },
      "text/plain": [
       "VBox(box_style='info', children=(HBox(children=(HTML(value='<style>p{word-wrap: break-word}</style> <p>In our …"
      ]
     },
     "metadata": {},
     "output_type": "display_data"
    }
   ],
   "source": [
    "%run quizzes/quiz.py quizzes/03/recurrence_example.json"
   ]
  },
  {
   "cell_type": "markdown",
   "metadata": {
    "pycharm": {
     "name": "#%% md\n"
    }
   },
   "source": [
    "You now have the following two cases and that leads you to the two parts of your recurrence relation:\n",
    "\n",
    "1. You take the n'th bottle and choose from among the first n-2 bottles.\n",
    "2. You DO NOT take the n'th bottle, and therefore you can choose from among the first n-1 bottles."
   ]
  },
  {
   "cell_type": "markdown",
   "metadata": {},
   "source": [
    "## Write the Recursive Algorithm (step 2)\n",
    "In order to implement the recursive algorithm, we need to define a recurrence relation. Up until now, you have ignored the optimization part of the problem, but that was just a trick to be able to concentrate on setting up your subproblems."
   ]
  },
  {
   "cell_type": "markdown",
   "metadata": {},
   "source": [
    "### Add Optimization Back In\n",
    "This is the point at which you __STOP ignoring the optimization__ request!! The problem asked to find the _most_ you can drink. So the recurrence relation will include _maximizing_ over the two cases you found above."
   ]
  },
  {
   "cell_type": "markdown",
   "metadata": {},
   "source": [
    "### Write the Recurrence Relatation\n",
    "In the following quiz you will derive the complete recurrence relation including its base case."
   ]
  },
  {
   "cell_type": "code",
   "execution_count": 160,
   "metadata": {
    "jupyter": {
     "source_hidden": true
    },
    "pycharm": {
     "name": "#%%\n"
    }
   },
   "outputs": [
    {
     "data": {
      "application/vnd.jupyter.widget-view+json": {
       "model_id": "7deb989d0d164985911584164eeee2bc",
       "version_major": 2,
       "version_minor": 0
      },
      "text/plain": [
       "VBox(box_style='info', children=(HBox(children=(HTML(value=\"<style>p{word-wrap: break-word}</style> <p>If solv…"
      ]
     },
     "metadata": {},
     "output_type": "display_data"
    }
   ],
   "source": [
    "%run quizzes/quiz.py quizzes/03/dg_rr.json"
   ]
  },
  {
   "cell_type": "markdown",
   "metadata": {},
   "source": [
    "### Implement the Recursive Algorithm\n",
    "Once you have the recurrence relation, the algorithm basically writes itself. The trick is to get to this point. Don't worry, we'll practice these steps over and over again in the following lessons.\n",
    "\n",
    "Also, the recurrence relation will become clearer as you implement the algorithm in code."
   ]
  },
  {
   "cell_type": "markdown",
   "metadata": {
    "pycharm": {
     "name": "#%% md\n"
    }
   },
   "source": [
    "<div class=\"exercise exercise-info\">\n",
    "Implement a recursive algorithm to solve the drinking game problem. It will run in exponential time, that's expected for this step. Starter code provided below. Note that the function <code>solve(v)</code> takes a zero based vector as input, so debug accordingly.\n",
    "</div>"
   ]
  },
  {
   "cell_type": "code",
   "execution_count": 161,
   "metadata": {
    "collapsed": false,
    "jupyter": {
     "outputs_hidden": false
    },
    "pycharm": {
     "name": "#%%\n"
    }
   },
   "outputs": [],
   "source": [
    "def solve(v):\n",
    "    ### YOUR CODE ###\n",
    "    return 0\n",
    "\n",
    "#unit tests (hint: there are 3 base cases!)\n",
    "## YOUR CASES HERE ###\n",
    "#assert(solve([3, 1, 4, 1, 5, 9, 2, 6]) == 22)"
   ]
  },
  {
   "cell_type": "markdown",
   "metadata": {},
   "source": [
    "## Write the Memoized Algorithm (step 3)\n",
    "At this point you have a correct but inefficient algorithm. If the algorithm runs in exponential time it is not very useful in the real world! Remember that all memoization does is store the solutions of the subproblems so that they don't need to be calculated more than once."
   ]
  },
  {
   "cell_type": "markdown",
   "metadata": {},
   "source": [
    "<div class=\"exercise exercise-info\">\n",
    "Now implement the recursive, <b>memoized</b> algorithm to solve the drinking game problem. Starter code provided below.\n",
    "</div>"
   ]
  },
  {
   "cell_type": "code",
   "execution_count": 162,
   "metadata": {
    "collapsed": false,
    "jupyter": {
     "outputs_hidden": false
    },
    "pycharm": {
     "name": "#%%\n"
    }
   },
   "outputs": [],
   "source": [
    "def memoize(f):\n",
    "    ## YOUR CODE ##\n",
    "    return 0\n",
    "\n",
    "@memoize\n",
    "def solve(v):\n",
    "    ### YOUR CODE ###\n",
    "    return 0\n",
    "\n",
    "#unit tests (hint: there are 3 base cases!)\n",
    "## YOUR CASES HERE ###\n",
    "\n",
    "#assert(solve([3, 1, 4, 1, 5, 9, 2, 6]) == 22)"
   ]
  },
  {
   "cell_type": "markdown",
   "metadata": {
    "pycharm": {
     "name": "#%%\n"
    }
   },
   "source": [
    "## Write the Iterative Algorithm (step 4)\n",
    "Although this step is optional in theory, in practice it's much better to run iterative code than recursive, because if n is very large you'll have a very, very deep call stack!"
   ]
  },
  {
   "cell_type": "code",
   "execution_count": 163,
   "metadata": {},
   "outputs": [],
   "source": [
    "def iterate(f):\n",
    "    ## YOUR CODE ##\n",
    "    return 0\n",
    "\n",
    "@iterate\n",
    "def solve(v):\n",
    "    ### YOUR CODE ###\n",
    "    return 0\n",
    "\n",
    "#unit tests (hint: there are 3 base cases!)\n",
    "## YOUR CASES HERE ###\n",
    "\n",
    "#assert(solve([3, 1, 4, 1, 5, 9, 2, 6]) == 22)"
   ]
  },
  {
   "cell_type": "markdown",
   "metadata": {},
   "source": [
    "<div class=\"exercise exercise-info\">\n",
    "Try running your recursive memoized fibonacci algorithm with a large number and see what happens. Remove the comment in front of the magic %load command and run the cell. The solution code will be loaded into the cell and you can then experiment.\n",
    "</div>"
   ]
  },
  {
   "cell_type": "code",
   "execution_count": 164,
   "metadata": {},
   "outputs": [],
   "source": [
    "# %load solutions/02/fibonacci_memo_decorated.py"
   ]
  },
  {
   "cell_type": "markdown",
   "metadata": {},
   "source": [
    "# More Practice Problems"
   ]
  },
  {
   "cell_type": "markdown",
   "metadata": {
    "pycharm": {
     "name": "#%% md\n"
    }
   },
   "source": [
    "## A Stingy Drinking Game"
   ]
  },
  {
   "cell_type": "markdown",
   "metadata": {
    "pycharm": {
     "name": "#%% md\n"
    }
   },
   "source": [
    "<div class=\"exercise exercise-info\">\n",
    "This problem is very, very similar to the original one. Solve it to cement the ideas you have just learned.\n",
    "<br><br>\n",
    "You’re given a sequence of n bottles, the volumes of some (unidentified) liquid are $𝑣_0$ through $𝑣_{(𝑛−1)}$ . Drink as much as you can - the rule is that the bottles you choose must be __two__ bottles apart. So if your volumes are [3, 1, 4, 1, 5, 9, 2, 6] and you choose bottle weighted 9, the only bottles you can now choose from would be the first three: [3, 1, 4] and from those you would only be able to choose one ...\n",
    "<br><br>Your solution should run in linear time!  \n",
    "</div>\n"
   ]
  },
  {
   "cell_type": "markdown",
   "metadata": {
    "pycharm": {
     "name": "#%% md\n"
    }
   },
   "source": [
    "Here's a checklist of all the steps to a solution\n",
    "\n",
    "* [ ] Find and ignore the optimization word\n",
    "* [x] Choose a subproblem pattern (spoiler: it's prefix, just like the first drinking game)\n",
    "* [ ] Find the constraint(s)\n",
    "* [ ] Use the given constraint to divide all the possible valid subproblems into cases\n",
    "* [ ] Stop ignoring the optimization - do that optimization over the cases you found. Write the recurrence relation down.\n",
    "* [ ] Implement the inefficient algorithm directly from the recurrence relation, paying attention to base cases, indices etc.\n",
    "* [ ] Memoize the algorithm\n",
    "* [ ] Convert to an iterative algorithm (optional)"
   ]
  },
  {
   "cell_type": "code",
   "execution_count": 165,
   "metadata": {
    "collapsed": false,
    "jupyter": {
     "outputs_hidden": false
    },
    "pycharm": {
     "name": "#%%\n"
    }
   },
   "outputs": [],
   "source": [
    "def memoize(f):\n",
    "    ## YOUR CODE ##\n",
    "    return 0\n",
    "\n",
    "@memoize\n",
    "def solve_stingy(v):\n",
    "    ### YOUR CODE ###\n",
    "    return 0\n",
    "\n",
    "#unit tests - base cases (hint: there are 4 base cases!)\n",
    "## YOUR CASES HERE ###\n",
    "\n",
    "#assert(solve_stingy([3, 1, 4, 1, 5, 9, 2, 6]) == 14)"
   ]
  },
  {
   "cell_type": "markdown",
   "metadata": {},
   "source": [
    "## Largest Independant Set in a Tree"
   ]
  },
  {
   "cell_type": "markdown",
   "metadata": {},
   "source": [
    "<div class=\"exercise exercise-info\">\n",
    "\n",
    "I could have called this: 'Drinking Game in a Tree' but that might be stretching the metaphor a bit much. In any case, this problem is just like the drinking game, except that instead of the bottles being in a line, they are placed in a tree. The problem is to find the maximum __size__ of the set of vertices in a tree graph that are not connected to each other (that's what independant means). For this problem, the vertices are not weighted.<br><br>\n",
    "\n",
    "Thought exercises: <br>\n",
    "* When the bottles were on a line, that was just a particular case of a tree where each node had at most how many children?\n",
    "* Does it matter which node is the root of the tree?\n",
    "* How would the recurrence relation change if the nodes _were_ weighted?\n",
    "    \n",
    "</div>"
   ]
  },
  {
   "cell_type": "code",
   "execution_count": 166,
   "metadata": {
    "jupyter": {
     "source_hidden": true
    },
    "pycharm": {
     "name": "#%%\n"
    }
   },
   "outputs": [
    {
     "data": {
      "image/svg+xml": [
       "<?xml version=\"1.0\" encoding=\"UTF-8\"?>\n",
       "<svg xmlns=\"http://www.w3.org/2000/svg\" xmlns:xlink=\"http://www.w3.org/1999/xlink\" width=\"400pt\" height=\"400pt\" viewBox=\"0 0 400 400\" version=\"1.1\">\n",
       "<defs>\n",
       "<g>\n",
       "<symbol overflow=\"visible\" id=\"glyph0-0\">\n",
       "<path style=\"stroke:none;\" d=\"M 1.75 0 L 1.75 -8.75 L 8.75 -8.75 L 8.75 0 Z M 1.96875 -0.21875 L 8.53125 -0.21875 L 8.53125 -8.53125 L 1.96875 -8.53125 Z M 1.96875 -0.21875 \"/>\n",
       "</symbol>\n",
       "<symbol overflow=\"visible\" id=\"glyph0-1\">\n",
       "<path style=\"stroke:none;\" d=\"M 0.582031 -4.941406 C 0.578125 -6.121094 0.699219 -7.074219 0.945313 -7.800781 C 1.1875 -8.519531 1.550781 -9.078125 2.03125 -9.472656 C 2.511719 -9.863281 3.117188 -10.058594 3.847656 -10.0625 C 4.382813 -10.058594 4.855469 -9.953125 5.261719 -9.738281 C 5.667969 -9.519531 6 -9.207031 6.265625 -8.800781 C 6.527344 -8.390625 6.738281 -7.890625 6.890625 -7.308594 C 7.039063 -6.722656 7.113281 -5.933594 7.117188 -4.941406 C 7.113281 -3.761719 6.992188 -2.8125 6.753906 -2.09375 C 6.507813 -1.367188 6.144531 -0.808594 5.667969 -0.417969 C 5.183594 -0.0234375 4.578125 0.167969 3.847656 0.171875 C 2.878906 0.167969 2.121094 -0.175781 1.570313 -0.867188 C 0.910156 -1.699219 0.578125 -3.054688 0.582031 -4.941406 Z M 1.84375 -4.941406 C 1.839844 -3.292969 2.03125 -2.199219 2.421875 -1.65625 C 2.804688 -1.109375 3.28125 -0.835938 3.847656 -0.839844 C 4.410156 -0.835938 4.886719 -1.109375 5.273438 -1.660156 C 5.65625 -2.203125 5.847656 -3.296875 5.851563 -4.941406 C 5.847656 -6.589844 5.65625 -7.6875 5.273438 -8.230469 C 4.886719 -8.769531 4.40625 -9.039063 3.835938 -9.042969 C 3.269531 -9.039063 2.816406 -8.800781 2.480469 -8.328125 C 2.050781 -7.710938 1.839844 -6.582031 1.84375 -4.941406 Z M 1.84375 -4.941406 \"/>\n",
       "</symbol>\n",
       "<symbol overflow=\"visible\" id=\"glyph0-2\">\n",
       "<path style=\"stroke:none;\" d=\"M 5.214844 0 L 3.984375 0 L 3.984375 -7.839844 C 3.6875 -7.558594 3.296875 -7.273438 2.816406 -6.992188 C 2.335938 -6.707031 1.90625 -6.496094 1.523438 -6.359375 L 1.523438 -7.546875 C 2.210938 -7.867188 2.8125 -8.257813 3.328125 -8.722656 C 3.84375 -9.179688 4.207031 -9.625 4.421875 -10.0625 L 5.214844 -10.0625 Z M 5.214844 0 \"/>\n",
       "</symbol>\n",
       "<symbol overflow=\"visible\" id=\"glyph0-3\">\n",
       "<path style=\"stroke:none;\" d=\"M 7.046875 -1.183594 L 7.046875 0 L 0.421875 0 C 0.414063 -0.296875 0.460938 -0.582031 0.566406 -0.855469 C 0.734375 -1.304688 1.003906 -1.746094 1.375 -2.1875 C 1.746094 -2.621094 2.285156 -3.128906 2.988281 -3.703125 C 4.074219 -4.597656 4.808594 -5.304688 5.195313 -5.828125 C 5.574219 -6.347656 5.765625 -6.839844 5.769531 -7.308594 C 5.765625 -7.792969 5.589844 -8.203125 5.246094 -8.539063 C 4.894531 -8.871094 4.441406 -9.039063 3.882813 -9.042969 C 3.285156 -9.039063 2.8125 -8.863281 2.460938 -8.507813 C 2.105469 -8.152344 1.925781 -7.660156 1.921875 -7.035156 L 0.65625 -7.164063 C 0.742188 -8.105469 1.066406 -8.824219 1.632813 -9.320313 C 2.195313 -9.8125 2.953125 -10.058594 3.910156 -10.0625 C 4.867188 -10.058594 5.628906 -9.792969 6.191406 -9.261719 C 6.75 -8.726563 7.03125 -8.066406 7.035156 -7.28125 C 7.03125 -6.878906 6.949219 -6.484375 6.789063 -6.097656 C 6.621094 -5.707031 6.347656 -5.296875 5.96875 -4.871094 C 5.585938 -4.441406 4.953125 -3.855469 4.074219 -3.109375 C 3.332031 -2.488281 2.859375 -2.066406 2.652344 -1.847656 C 2.4375 -1.621094 2.265625 -1.402344 2.132813 -1.183594 Z M 7.046875 -1.183594 \"/>\n",
       "</symbol>\n",
       "<symbol overflow=\"visible\" id=\"glyph0-4\">\n",
       "<path style=\"stroke:none;\" d=\"M 0.585938 -2.644531 L 1.820313 -2.808594 C 1.957031 -2.109375 2.195313 -1.609375 2.539063 -1.300781 C 2.875 -0.992188 3.289063 -0.835938 3.78125 -0.839844 C 4.355469 -0.835938 4.84375 -1.039063 5.246094 -1.441406 C 5.640625 -1.839844 5.839844 -2.335938 5.84375 -2.933594 C 5.839844 -3.496094 5.65625 -3.960938 5.289063 -4.332031 C 4.917969 -4.695313 4.449219 -4.878906 3.882813 -4.882813 C 3.648438 -4.878906 3.359375 -4.832031 3.015625 -4.742188 L 3.152344 -5.824219 C 3.230469 -5.816406 3.296875 -5.8125 3.351563 -5.8125 C 3.875 -5.8125 4.34375 -5.949219 4.765625 -6.222656 C 5.179688 -6.496094 5.390625 -6.914063 5.394531 -7.484375 C 5.390625 -7.933594 5.238281 -8.308594 4.933594 -8.605469 C 4.628906 -8.898438 4.234375 -9.046875 3.753906 -9.050781 C 3.273438 -9.046875 2.875 -8.894531 2.554688 -8.597656 C 2.234375 -8.292969 2.027344 -7.84375 1.941406 -7.246094 L 0.710938 -7.464844 C 0.859375 -8.289063 1.203125 -8.925781 1.734375 -9.382813 C 2.265625 -9.832031 2.929688 -10.058594 3.726563 -10.0625 C 4.273438 -10.058594 4.773438 -9.941406 5.234375 -9.710938 C 5.691406 -9.472656 6.042969 -9.152344 6.289063 -8.75 C 6.53125 -8.339844 6.65625 -7.910156 6.65625 -7.457031 C 6.65625 -7.023438 6.539063 -6.628906 6.308594 -6.273438 C 6.074219 -5.917969 5.730469 -5.636719 5.277344 -5.429688 C 5.867188 -5.289063 6.328125 -5.003906 6.65625 -4.574219 C 6.984375 -4.140625 7.148438 -3.601563 7.148438 -2.960938 C 7.148438 -2.082031 6.828125 -1.339844 6.191406 -0.734375 C 5.550781 -0.125 4.746094 0.175781 3.773438 0.179688 C 2.890625 0.175781 2.160156 -0.0820313 1.582031 -0.605469 C 1 -1.128906 0.667969 -1.808594 0.585938 -2.644531 Z M 0.585938 -2.644531 \"/>\n",
       "</symbol>\n",
       "<symbol overflow=\"visible\" id=\"glyph0-5\">\n",
       "<path style=\"stroke:none;\" d=\"M 4.523438 0 L 4.523438 -2.398438 L 0.179688 -2.398438 L 0.179688 -3.527344 L 4.75 -10.023438 L 5.757813 -10.023438 L 5.757813 -3.527344 L 7.109375 -3.527344 L 7.109375 -2.398438 L 5.757813 -2.398438 L 5.757813 0 Z M 4.523438 -3.527344 L 4.523438 -8.046875 L 1.386719 -3.527344 Z M 4.523438 -3.527344 \"/>\n",
       "</symbol>\n",
       "<symbol overflow=\"visible\" id=\"glyph0-6\">\n",
       "<path style=\"stroke:none;\" d=\"M 0.582031 -2.625 L 1.875 -2.734375 C 1.96875 -2.101563 2.1875 -1.628906 2.539063 -1.3125 C 2.882813 -0.996094 3.304688 -0.835938 3.800781 -0.839844 C 4.390625 -0.835938 4.890625 -1.058594 5.304688 -1.507813 C 5.710938 -1.953125 5.917969 -2.546875 5.921875 -3.289063 C 5.917969 -3.984375 5.71875 -4.539063 5.328125 -4.949219 C 4.929688 -5.351563 4.414063 -5.554688 3.78125 -5.558594 C 3.382813 -5.554688 3.027344 -5.464844 2.707031 -5.285156 C 2.386719 -5.105469 2.132813 -4.871094 1.953125 -4.585938 L 0.800781 -4.738281 L 1.769531 -9.882813 L 6.753906 -9.882813 L 6.753906 -8.710938 L 2.753906 -8.710938 L 2.214844 -6.015625 C 2.816406 -6.433594 3.445313 -6.644531 4.109375 -6.644531 C 4.980469 -6.644531 5.71875 -6.339844 6.324219 -5.734375 C 6.921875 -5.128906 7.222656 -4.351563 7.226563 -3.398438 C 7.222656 -2.492188 6.960938 -1.707031 6.433594 -1.046875 C 5.789063 -0.234375 4.910156 0.167969 3.800781 0.171875 C 2.886719 0.167969 2.140625 -0.0820313 1.566406 -0.59375 C 0.988281 -1.101563 0.660156 -1.78125 0.582031 -2.625 Z M 0.582031 -2.625 \"/>\n",
       "</symbol>\n",
       "<symbol overflow=\"visible\" id=\"glyph0-7\">\n",
       "<path style=\"stroke:none;\" d=\"M 6.964844 -7.566406 L 5.742188 -7.472656 C 5.632813 -7.949219 5.476563 -8.300781 5.277344 -8.523438 C 4.941406 -8.871094 4.53125 -9.046875 4.046875 -9.050781 C 3.652344 -9.046875 3.308594 -8.9375 3.015625 -8.722656 C 2.625 -8.4375 2.320313 -8.023438 2.097656 -7.484375 C 1.875 -6.9375 1.757813 -6.167969 1.75 -5.167969 C 2.042969 -5.617188 2.40625 -5.949219 2.835938 -6.171875 C 3.265625 -6.386719 3.714844 -6.496094 4.183594 -6.5 C 5.003906 -6.496094 5.699219 -6.195313 6.277344 -5.59375 C 6.851563 -4.988281 7.140625 -4.207031 7.144531 -3.253906 C 7.140625 -2.621094 7.003906 -2.039063 6.734375 -1.5 C 6.460938 -0.960938 6.089844 -0.546875 5.617188 -0.257813 C 5.140625 0.0273438 4.605469 0.167969 4.007813 0.171875 C 2.980469 0.167969 2.140625 -0.207031 1.496094 -0.960938 C 0.847656 -1.714844 0.527344 -2.957031 0.527344 -4.6875 C 0.527344 -6.625 0.882813 -8.03125 1.601563 -8.914063 C 2.21875 -9.675781 3.058594 -10.058594 4.121094 -10.0625 C 4.90625 -10.058594 5.554688 -9.839844 6.058594 -9.398438 C 6.5625 -8.953125 6.863281 -8.339844 6.964844 -7.566406 Z M 1.941406 -3.246094 C 1.9375 -2.820313 2.027344 -2.414063 2.210938 -2.027344 C 2.386719 -1.640625 2.640625 -1.34375 2.964844 -1.144531 C 3.289063 -0.9375 3.628906 -0.835938 3.984375 -0.839844 C 4.503906 -0.835938 4.949219 -1.046875 5.324219 -1.46875 C 5.695313 -1.886719 5.882813 -2.457031 5.886719 -3.179688 C 5.882813 -3.871094 5.699219 -4.417969 5.332031 -4.816406 C 4.960938 -5.214844 4.496094 -5.414063 3.9375 -5.414063 C 3.378906 -5.414063 2.90625 -5.214844 2.519531 -4.816406 C 2.132813 -4.417969 1.9375 -3.894531 1.941406 -3.246094 Z M 1.941406 -3.246094 \"/>\n",
       "</symbol>\n",
       "<symbol overflow=\"visible\" id=\"glyph0-8\">\n",
       "<path style=\"stroke:none;\" d=\"M 0.664063 -8.710938 L 0.664063 -9.890625 L 7.148438 -9.890625 L 7.148438 -8.933594 C 6.511719 -8.25 5.878906 -7.347656 5.253906 -6.226563 C 4.625 -5.097656 4.140625 -3.941406 3.800781 -2.753906 C 3.550781 -1.914063 3.394531 -0.996094 3.328125 0 L 2.0625 0 C 2.078125 -0.789063 2.230469 -1.738281 2.527344 -2.855469 C 2.820313 -3.96875 3.246094 -5.046875 3.800781 -6.085938 C 4.351563 -7.121094 4.941406 -7.996094 5.570313 -8.710938 Z M 0.664063 -8.710938 \"/>\n",
       "</symbol>\n",
       "<symbol overflow=\"visible\" id=\"glyph0-9\">\n",
       "<path style=\"stroke:none;\" d=\"M 2.476563 -5.433594 C 1.964844 -5.617188 1.585938 -5.886719 1.339844 -6.234375 C 1.089844 -6.578125 0.964844 -6.992188 0.96875 -7.476563 C 0.964844 -8.203125 1.226563 -8.816406 1.753906 -9.316406 C 2.277344 -9.8125 2.976563 -10.058594 3.847656 -10.0625 C 4.71875 -10.058594 5.421875 -9.804688 5.960938 -9.300781 C 6.492188 -8.789063 6.761719 -8.171875 6.761719 -7.445313 C 6.761719 -6.976563 6.636719 -6.570313 6.394531 -6.230469 C 6.148438 -5.882813 5.78125 -5.617188 5.285156 -5.433594 C 5.898438 -5.230469 6.363281 -4.90625 6.6875 -4.460938 C 7.007813 -4.011719 7.171875 -3.480469 7.171875 -2.863281 C 7.171875 -2.003906 6.867188 -1.285156 6.261719 -0.703125 C 5.652344 -0.121094 4.855469 0.167969 3.867188 0.171875 C 2.878906 0.167969 2.082031 -0.121094 1.476563 -0.707031 C 0.867188 -1.289063 0.5625 -2.019531 0.566406 -2.898438 C 0.5625 -3.546875 0.726563 -4.09375 1.0625 -4.535156 C 1.390625 -4.972656 1.863281 -5.269531 2.476563 -5.433594 Z M 2.226563 -7.519531 C 2.226563 -7.042969 2.378906 -6.65625 2.683594 -6.355469 C 2.988281 -6.054688 3.382813 -5.90625 3.875 -5.90625 C 4.34375 -5.90625 4.734375 -6.054688 5.039063 -6.351563 C 5.34375 -6.648438 5.496094 -7.015625 5.496094 -7.453125 C 5.496094 -7.902344 5.339844 -8.28125 5.027344 -8.589844 C 4.714844 -8.894531 4.324219 -9.046875 3.863281 -9.050781 C 3.386719 -9.046875 2.996094 -8.894531 2.691406 -8.597656 C 2.378906 -8.292969 2.226563 -7.933594 2.226563 -7.519531 Z M 1.832031 -2.890625 C 1.828125 -2.539063 1.910156 -2.203125 2.082031 -1.875 C 2.246094 -1.546875 2.496094 -1.289063 2.824219 -1.109375 C 3.152344 -0.925781 3.503906 -0.835938 3.882813 -0.839844 C 4.46875 -0.835938 4.953125 -1.027344 5.339844 -1.40625 C 5.71875 -1.785156 5.910156 -2.265625 5.914063 -2.851563 C 5.910156 -3.441406 5.714844 -3.929688 5.320313 -4.320313 C 4.925781 -4.703125 4.433594 -4.898438 3.84375 -4.902344 C 3.261719 -4.898438 2.78125 -4.707031 2.402344 -4.328125 C 2.019531 -3.941406 1.828125 -3.460938 1.832031 -2.890625 Z M 1.832031 -2.890625 \"/>\n",
       "</symbol>\n",
       "<symbol overflow=\"visible\" id=\"glyph0-10\">\n",
       "<path style=\"stroke:none;\" d=\"M 0.765625 -2.316406 L 1.949219 -2.425781 C 2.046875 -1.871094 2.238281 -1.464844 2.519531 -1.214844 C 2.800781 -0.960938 3.164063 -0.835938 3.609375 -0.839844 C 3.984375 -0.835938 4.3125 -0.921875 4.601563 -1.097656 C 4.882813 -1.269531 5.117188 -1.503906 5.304688 -1.792969 C 5.484375 -2.082031 5.636719 -2.472656 5.761719 -2.964844 C 5.878906 -3.457031 5.941406 -3.957031 5.945313 -4.46875 C 5.941406 -4.523438 5.941406 -4.605469 5.941406 -4.71875 C 5.691406 -4.320313 5.351563 -4.003906 4.929688 -3.761719 C 4.5 -3.519531 4.039063 -3.398438 3.546875 -3.398438 C 2.714844 -3.398438 2.015625 -3.699219 1.441406 -4.300781 C 0.867188 -4.902344 0.578125 -5.695313 0.582031 -6.679688 C 0.578125 -7.695313 0.878906 -8.511719 1.480469 -9.132813 C 2.078125 -9.75 2.828125 -10.058594 3.734375 -10.0625 C 4.382813 -10.058594 4.980469 -9.882813 5.519531 -9.535156 C 6.058594 -9.179688 6.46875 -8.679688 6.75 -8.035156 C 7.03125 -7.382813 7.171875 -6.445313 7.171875 -5.214844 C 7.171875 -3.933594 7.03125 -2.914063 6.753906 -2.15625 C 6.472656 -1.398438 6.058594 -0.820313 5.511719 -0.421875 C 4.960938 -0.0273438 4.316406 0.167969 3.582031 0.171875 C 2.792969 0.167969 2.152344 -0.046875 1.660156 -0.480469 C 1.160156 -0.914063 0.863281 -1.523438 0.765625 -2.316406 Z M 5.804688 -6.742188 C 5.800781 -7.445313 5.613281 -8.003906 5.238281 -8.421875 C 4.863281 -8.832031 4.410156 -9.039063 3.882813 -9.042969 C 3.332031 -9.039063 2.855469 -8.816406 2.453125 -8.371094 C 2.042969 -7.921875 1.839844 -7.34375 1.84375 -6.636719 C 1.839844 -5.996094 2.03125 -5.476563 2.421875 -5.082031 C 2.804688 -4.679688 3.28125 -4.480469 3.847656 -4.484375 C 4.414063 -4.480469 4.882813 -4.679688 5.253906 -5.082031 C 5.617188 -5.476563 5.800781 -6.03125 5.804688 -6.742188 Z M 5.804688 -6.742188 \"/>\n",
       "</symbol>\n",
       "</g>\n",
       "</defs>\n",
       "<g id=\"surface310\">\n",
       "<rect x=\"0\" y=\"0\" width=\"400\" height=\"400\" style=\"fill:rgb(100%,100%,100%);fill-opacity:1;stroke:none;\"/>\n",
       "<path style=\"fill:none;stroke-width:1;stroke-linecap:butt;stroke-linejoin:miter;stroke:rgb(96.078431%,48.627451%,0%);stroke-opacity:1;stroke-miterlimit:10;\" d=\"M 199.070313 201.679688 L 210.429688 251.03125 \"/>\n",
       "<path style=\"fill:none;stroke-width:1;stroke-linecap:butt;stroke-linejoin:miter;stroke:rgb(96.078431%,48.627451%,0%);stroke-opacity:1;stroke-miterlimit:10;\" d=\"M 199.070313 201.679688 L 153.550781 180.109375 \"/>\n",
       "<path style=\"fill:none;stroke-width:1;stroke-linecap:butt;stroke-linejoin:miter;stroke:rgb(96.078431%,48.627451%,0%);stroke-opacity:1;stroke-miterlimit:10;\" d=\"M 199.070313 201.679688 L 240.230469 172.550781 \"/>\n",
       "<path style=\"fill:none;stroke-width:1;stroke-linecap:butt;stroke-linejoin:miter;stroke:rgb(96.078431%,48.627451%,0%);stroke-opacity:1;stroke-miterlimit:10;\" d=\"M 210.429688 251.03125 L 282.292969 258.628906 \"/>\n",
       "<path style=\"fill:none;stroke-width:1;stroke-linecap:butt;stroke-linejoin:miter;stroke:rgb(96.078431%,48.627451%,0%);stroke-opacity:1;stroke-miterlimit:10;\" d=\"M 210.429688 251.03125 L 149.21875 289.691406 \"/>\n",
       "<path style=\"fill:none;stroke-width:1;stroke-linecap:butt;stroke-linejoin:miter;stroke:rgb(96.078431%,48.627451%,0%);stroke-opacity:1;stroke-miterlimit:10;\" d=\"M 153.550781 180.109375 L 99.457031 187.402344 \"/>\n",
       "<path style=\"fill:none;stroke-width:1;stroke-linecap:butt;stroke-linejoin:miter;stroke:rgb(96.078431%,48.627451%,0%);stroke-opacity:1;stroke-miterlimit:10;\" d=\"M 153.550781 180.109375 L 124.648438 133.492188 \"/>\n",
       "<path style=\"fill:none;stroke-width:1;stroke-linecap:butt;stroke-linejoin:miter;stroke:rgb(96.078431%,48.627451%,0%);stroke-opacity:1;stroke-miterlimit:10;\" d=\"M 240.230469 172.550781 L 281.394531 143.421875 \"/>\n",
       "<path style=\"fill:none;stroke-width:1;stroke-linecap:butt;stroke-linejoin:miter;stroke:rgb(96.078431%,48.627451%,0%);stroke-opacity:1;stroke-miterlimit:10;\" d=\"M 282.292969 258.628906 L 350 201.679688 \"/>\n",
       "<path style=\"fill:none;stroke-width:1;stroke-linecap:butt;stroke-linejoin:miter;stroke:rgb(96.078431%,48.627451%,0%);stroke-opacity:1;stroke-miterlimit:10;\" d=\"M 282.292969 258.628906 L 323.902344 287.105469 \"/>\n",
       "<path style=\"fill:none;stroke-width:1;stroke-linecap:butt;stroke-linejoin:miter;stroke:rgb(96.078431%,48.627451%,0%);stroke-opacity:1;stroke-miterlimit:10;\" d=\"M 282.292969 258.628906 L 254.632813 342.988281 \"/>\n",
       "<path style=\"fill:none;stroke-width:1;stroke-linecap:butt;stroke-linejoin:miter;stroke:rgb(96.078431%,48.627451%,0%);stroke-opacity:1;stroke-miterlimit:10;\" d=\"M 149.21875 289.691406 L 166.148438 350 \"/>\n",
       "<path style=\"fill:none;stroke-width:1;stroke-linecap:butt;stroke-linejoin:miter;stroke:rgb(96.078431%,48.627451%,0%);stroke-opacity:1;stroke-miterlimit:10;\" d=\"M 149.21875 289.691406 L 89.046875 305.71875 \"/>\n",
       "<path style=\"fill:none;stroke-width:1;stroke-linecap:butt;stroke-linejoin:miter;stroke:rgb(96.078431%,48.627451%,0%);stroke-opacity:1;stroke-miterlimit:10;\" d=\"M 124.648438 133.492188 L 50 225.453125 \"/>\n",
       "<path style=\"fill:none;stroke-width:1;stroke-linecap:butt;stroke-linejoin:miter;stroke:rgb(96.078431%,48.627451%,0%);stroke-opacity:1;stroke-miterlimit:10;\" d=\"M 124.648438 133.492188 L 62.507813 136.96875 \"/>\n",
       "<path style=\"fill:none;stroke-width:1;stroke-linecap:butt;stroke-linejoin:miter;stroke:rgb(96.078431%,48.627451%,0%);stroke-opacity:1;stroke-miterlimit:10;\" d=\"M 124.648438 133.492188 L 122.242188 70.863281 \"/>\n",
       "<path style=\"fill:none;stroke-width:1;stroke-linecap:butt;stroke-linejoin:miter;stroke:rgb(96.078431%,48.627451%,0%);stroke-opacity:1;stroke-miterlimit:10;\" d=\"M 124.648438 133.492188 L 208.546875 50 \"/>\n",
       "<path style=\"fill:none;stroke-width:1;stroke-linecap:butt;stroke-linejoin:miter;stroke:rgb(96.078431%,48.627451%,0%);stroke-opacity:1;stroke-miterlimit:10;\" d=\"M 281.394531 143.421875 L 291.578125 81.59375 \"/>\n",
       "<path style=\"fill:none;stroke-width:1;stroke-linecap:butt;stroke-linejoin:miter;stroke:rgb(96.078431%,48.627451%,0%);stroke-opacity:1;stroke-miterlimit:10;\" d=\"M 281.394531 143.421875 L 342.613281 154.714844 \"/>\n",
       "<path style=\"fill-rule:nonzero;fill:rgb(100%,87.843137%,69.803922%);fill-opacity:1;stroke-width:1;stroke-linecap:butt;stroke-linejoin:miter;stroke:rgb(100%,71.764706%,30.196078%);stroke-opacity:1;stroke-miterlimit:10;\" d=\"M 209.070313 201.679688 C 209.070313 207.203125 204.59375 211.679688 199.070313 211.679688 C 193.546875 211.679688 189.070313 207.203125 189.070313 201.679688 C 189.070313 196.15625 193.546875 191.679688 199.070313 191.679688 C 204.59375 191.679688 209.070313 196.15625 209.070313 201.679688 \"/>\n",
       "<path style=\"fill-rule:nonzero;fill:rgb(100%,87.843137%,69.803922%);fill-opacity:1;stroke-width:1;stroke-linecap:butt;stroke-linejoin:miter;stroke:rgb(100%,71.764706%,30.196078%);stroke-opacity:1;stroke-miterlimit:10;\" d=\"M 220.429688 251.03125 C 220.429688 256.554688 215.953125 261.03125 210.429688 261.03125 C 204.90625 261.03125 200.429688 256.554688 200.429688 251.03125 C 200.429688 245.507813 204.90625 241.03125 210.429688 241.03125 C 215.953125 241.03125 220.429688 245.507813 220.429688 251.03125 \"/>\n",
       "<path style=\"fill-rule:nonzero;fill:rgb(100%,87.843137%,69.803922%);fill-opacity:1;stroke-width:1;stroke-linecap:butt;stroke-linejoin:miter;stroke:rgb(100%,71.764706%,30.196078%);stroke-opacity:1;stroke-miterlimit:10;\" d=\"M 163.550781 180.109375 C 163.550781 185.632813 159.070313 190.109375 153.550781 190.109375 C 148.027344 190.109375 143.550781 185.632813 143.550781 180.109375 C 143.550781 174.585938 148.027344 170.109375 153.550781 170.109375 C 159.070313 170.109375 163.550781 174.585938 163.550781 180.109375 \"/>\n",
       "<path style=\"fill-rule:nonzero;fill:rgb(100%,87.843137%,69.803922%);fill-opacity:1;stroke-width:1;stroke-linecap:butt;stroke-linejoin:miter;stroke:rgb(100%,71.764706%,30.196078%);stroke-opacity:1;stroke-miterlimit:10;\" d=\"M 250.230469 172.550781 C 250.230469 178.074219 245.753906 182.550781 240.230469 182.550781 C 234.707031 182.550781 230.230469 178.074219 230.230469 172.550781 C 230.230469 167.027344 234.707031 162.550781 240.230469 162.550781 C 245.753906 162.550781 250.230469 167.027344 250.230469 172.550781 \"/>\n",
       "<path style=\"fill-rule:nonzero;fill:rgb(100%,87.843137%,69.803922%);fill-opacity:1;stroke-width:1;stroke-linecap:butt;stroke-linejoin:miter;stroke:rgb(100%,71.764706%,30.196078%);stroke-opacity:1;stroke-miterlimit:10;\" d=\"M 292.292969 258.628906 C 292.292969 264.152344 287.8125 268.628906 282.292969 268.628906 C 276.769531 268.628906 272.292969 264.152344 272.292969 258.628906 C 272.292969 253.109375 276.769531 248.628906 282.292969 248.628906 C 287.8125 248.628906 292.292969 253.109375 292.292969 258.628906 \"/>\n",
       "<path style=\"fill-rule:nonzero;fill:rgb(100%,87.843137%,69.803922%);fill-opacity:1;stroke-width:1;stroke-linecap:butt;stroke-linejoin:miter;stroke:rgb(100%,71.764706%,30.196078%);stroke-opacity:1;stroke-miterlimit:10;\" d=\"M 159.21875 289.691406 C 159.21875 295.210938 154.742188 299.691406 149.21875 299.691406 C 143.695313 299.691406 139.21875 295.210938 139.21875 289.691406 C 139.21875 284.167969 143.695313 279.691406 149.21875 279.691406 C 154.742188 279.691406 159.21875 284.167969 159.21875 289.691406 \"/>\n",
       "<path style=\"fill-rule:nonzero;fill:rgb(100%,87.843137%,69.803922%);fill-opacity:1;stroke-width:1;stroke-linecap:butt;stroke-linejoin:miter;stroke:rgb(100%,71.764706%,30.196078%);stroke-opacity:1;stroke-miterlimit:10;\" d=\"M 109.457031 187.402344 C 109.457031 192.925781 104.976563 197.402344 99.457031 197.402344 C 93.933594 197.402344 89.457031 192.925781 89.457031 187.402344 C 89.457031 181.882813 93.933594 177.402344 99.457031 177.402344 C 104.976563 177.402344 109.457031 181.882813 109.457031 187.402344 \"/>\n",
       "<path style=\"fill-rule:nonzero;fill:rgb(100%,87.843137%,69.803922%);fill-opacity:1;stroke-width:1;stroke-linecap:butt;stroke-linejoin:miter;stroke:rgb(100%,71.764706%,30.196078%);stroke-opacity:1;stroke-miterlimit:10;\" d=\"M 134.648438 133.492188 C 134.648438 139.011719 130.171875 143.492188 124.648438 143.492188 C 119.125 143.492188 114.648438 139.011719 114.648438 133.492188 C 114.648438 127.96875 119.125 123.492188 124.648438 123.492188 C 130.171875 123.492188 134.648438 127.96875 134.648438 133.492188 \"/>\n",
       "<path style=\"fill-rule:nonzero;fill:rgb(100%,87.843137%,69.803922%);fill-opacity:1;stroke-width:1;stroke-linecap:butt;stroke-linejoin:miter;stroke:rgb(100%,71.764706%,30.196078%);stroke-opacity:1;stroke-miterlimit:10;\" d=\"M 291.394531 143.421875 C 291.394531 148.945313 286.914063 153.421875 281.394531 153.421875 C 275.871094 153.421875 271.394531 148.945313 271.394531 143.421875 C 271.394531 137.898438 275.871094 133.421875 281.394531 133.421875 C 286.914063 133.421875 291.394531 137.898438 291.394531 143.421875 \"/>\n",
       "<path style=\"fill-rule:nonzero;fill:rgb(100%,87.843137%,69.803922%);fill-opacity:1;stroke-width:1;stroke-linecap:butt;stroke-linejoin:miter;stroke:rgb(100%,71.764706%,30.196078%);stroke-opacity:1;stroke-miterlimit:10;\" d=\"M 360 201.679688 C 360 207.203125 355.523438 211.679688 350 211.679688 C 344.476563 211.679688 340 207.203125 340 201.679688 C 340 196.15625 344.476563 191.679688 350 191.679688 C 355.523438 191.679688 360 196.15625 360 201.679688 \"/>\n",
       "<path style=\"fill-rule:nonzero;fill:rgb(100%,87.843137%,69.803922%);fill-opacity:1;stroke-width:1;stroke-linecap:butt;stroke-linejoin:miter;stroke:rgb(100%,71.764706%,30.196078%);stroke-opacity:1;stroke-miterlimit:10;\" d=\"M 333.902344 287.105469 C 333.902344 292.628906 329.425781 297.105469 323.902344 297.105469 C 318.378906 297.105469 313.902344 292.628906 313.902344 287.105469 C 313.902344 281.582031 318.378906 277.105469 323.902344 277.105469 C 329.425781 277.105469 333.902344 281.582031 333.902344 287.105469 \"/>\n",
       "<path style=\"fill-rule:nonzero;fill:rgb(100%,87.843137%,69.803922%);fill-opacity:1;stroke-width:1;stroke-linecap:butt;stroke-linejoin:miter;stroke:rgb(100%,71.764706%,30.196078%);stroke-opacity:1;stroke-miterlimit:10;\" d=\"M 264.632813 342.988281 C 264.632813 348.511719 260.15625 352.988281 254.632813 352.988281 C 249.109375 352.988281 244.632813 348.511719 244.632813 342.988281 C 244.632813 337.464844 249.109375 332.988281 254.632813 332.988281 C 260.15625 332.988281 264.632813 337.464844 264.632813 342.988281 \"/>\n",
       "<path style=\"fill-rule:nonzero;fill:rgb(100%,87.843137%,69.803922%);fill-opacity:1;stroke-width:1;stroke-linecap:butt;stroke-linejoin:miter;stroke:rgb(100%,71.764706%,30.196078%);stroke-opacity:1;stroke-miterlimit:10;\" d=\"M 176.148438 350 C 176.148438 355.523438 171.667969 360 166.148438 360 C 160.625 360 156.148438 355.523438 156.148438 350 C 156.148438 344.476563 160.625 340 166.148438 340 C 171.667969 340 176.148438 344.476563 176.148438 350 \"/>\n",
       "<path style=\"fill-rule:nonzero;fill:rgb(100%,87.843137%,69.803922%);fill-opacity:1;stroke-width:1;stroke-linecap:butt;stroke-linejoin:miter;stroke:rgb(100%,71.764706%,30.196078%);stroke-opacity:1;stroke-miterlimit:10;\" d=\"M 99.046875 305.71875 C 99.046875 311.242188 94.570313 315.71875 89.046875 315.71875 C 83.527344 315.71875 79.046875 311.242188 79.046875 305.71875 C 79.046875 300.195313 83.527344 295.71875 89.046875 295.71875 C 94.570313 295.71875 99.046875 300.195313 99.046875 305.71875 \"/>\n",
       "<path style=\"fill-rule:nonzero;fill:rgb(100%,87.843137%,69.803922%);fill-opacity:1;stroke-width:1;stroke-linecap:butt;stroke-linejoin:miter;stroke:rgb(100%,71.764706%,30.196078%);stroke-opacity:1;stroke-miterlimit:10;\" d=\"M 60 225.453125 C 60 230.976563 55.523438 235.453125 50 235.453125 C 44.476563 235.453125 40 230.976563 40 225.453125 C 40 219.933594 44.476563 215.453125 50 215.453125 C 55.523438 215.453125 60 219.933594 60 225.453125 \"/>\n",
       "<path style=\"fill-rule:nonzero;fill:rgb(100%,87.843137%,69.803922%);fill-opacity:1;stroke-width:1;stroke-linecap:butt;stroke-linejoin:miter;stroke:rgb(100%,71.764706%,30.196078%);stroke-opacity:1;stroke-miterlimit:10;\" d=\"M 72.507813 136.96875 C 72.507813 142.492188 68.027344 146.96875 62.507813 146.96875 C 56.984375 146.96875 52.507813 142.492188 52.507813 136.96875 C 52.507813 131.449219 56.984375 126.96875 62.507813 126.96875 C 68.027344 126.96875 72.507813 131.449219 72.507813 136.96875 \"/>\n",
       "<path style=\"fill-rule:nonzero;fill:rgb(100%,87.843137%,69.803922%);fill-opacity:1;stroke-width:1;stroke-linecap:butt;stroke-linejoin:miter;stroke:rgb(100%,71.764706%,30.196078%);stroke-opacity:1;stroke-miterlimit:10;\" d=\"M 132.242188 70.863281 C 132.242188 76.386719 127.765625 80.863281 122.242188 80.863281 C 116.71875 80.863281 112.242188 76.386719 112.242188 70.863281 C 112.242188 65.339844 116.71875 60.863281 122.242188 60.863281 C 127.765625 60.863281 132.242188 65.339844 132.242188 70.863281 \"/>\n",
       "<path style=\"fill-rule:nonzero;fill:rgb(100%,87.843137%,69.803922%);fill-opacity:1;stroke-width:1;stroke-linecap:butt;stroke-linejoin:miter;stroke:rgb(100%,71.764706%,30.196078%);stroke-opacity:1;stroke-miterlimit:10;\" d=\"M 218.546875 50 C 218.546875 55.523438 214.070313 60 208.546875 60 C 203.023438 60 198.546875 55.523438 198.546875 50 C 198.546875 44.476563 203.023438 40 208.546875 40 C 214.070313 40 218.546875 44.476563 218.546875 50 \"/>\n",
       "<path style=\"fill-rule:nonzero;fill:rgb(100%,87.843137%,69.803922%);fill-opacity:1;stroke-width:1;stroke-linecap:butt;stroke-linejoin:miter;stroke:rgb(100%,71.764706%,30.196078%);stroke-opacity:1;stroke-miterlimit:10;\" d=\"M 301.578125 81.59375 C 301.578125 87.113281 297.097656 91.59375 291.578125 91.59375 C 286.054688 91.59375 281.578125 87.113281 281.578125 81.59375 C 281.578125 76.070313 286.054688 71.59375 291.578125 71.59375 C 297.097656 71.59375 301.578125 76.070313 301.578125 81.59375 \"/>\n",
       "<path style=\"fill-rule:nonzero;fill:rgb(100%,87.843137%,69.803922%);fill-opacity:1;stroke-width:1;stroke-linecap:butt;stroke-linejoin:miter;stroke:rgb(100%,71.764706%,30.196078%);stroke-opacity:1;stroke-miterlimit:10;\" d=\"M 352.613281 154.714844 C 352.613281 160.238281 348.136719 164.714844 342.613281 164.714844 C 337.089844 164.714844 332.613281 160.238281 332.613281 154.714844 C 332.613281 149.191406 337.089844 144.714844 342.613281 144.714844 C 348.136719 144.714844 352.613281 149.191406 352.613281 154.714844 \"/>\n",
       "<g style=\"fill:rgb(96.078431%,48.627451%,0%);fill-opacity:1;\">\n",
       "  <use xlink:href=\"#glyph0-1\" x=\"195.222656\" y=\"208.210938\"/>\n",
       "</g>\n",
       "<g style=\"fill:rgb(96.078431%,48.627451%,0%);fill-opacity:1;\">\n",
       "  <use xlink:href=\"#glyph0-2\" x=\"207.0625\" y=\"257.5625\"/>\n",
       "</g>\n",
       "<g style=\"fill:rgb(96.078431%,48.627451%,0%);fill-opacity:1;\">\n",
       "  <use xlink:href=\"#glyph0-3\" x=\"149.820313\" y=\"186.640625\"/>\n",
       "</g>\n",
       "<g style=\"fill:rgb(96.078431%,48.627451%,0%);fill-opacity:1;\">\n",
       "  <use xlink:href=\"#glyph0-4\" x=\"236.363281\" y=\"179.082031\"/>\n",
       "</g>\n",
       "<g style=\"fill:rgb(96.078431%,48.627451%,0%);fill-opacity:1;\">\n",
       "  <use xlink:href=\"#glyph0-5\" x=\"278.648438\" y=\"265.140625\"/>\n",
       "</g>\n",
       "<g style=\"fill:rgb(96.078431%,48.627451%,0%);fill-opacity:1;\">\n",
       "  <use xlink:href=\"#glyph0-6\" x=\"145.316406\" y=\"296.132813\"/>\n",
       "</g>\n",
       "<g style=\"fill:rgb(96.078431%,48.627451%,0%);fill-opacity:1;\">\n",
       "  <use xlink:href=\"#glyph0-7\" x=\"95.621094\" y=\"193.933594\"/>\n",
       "</g>\n",
       "<g style=\"fill:rgb(96.078431%,48.627451%,0%);fill-opacity:1;\">\n",
       "  <use xlink:href=\"#glyph0-8\" x=\"120.742188\" y=\"139.9375\"/>\n",
       "</g>\n",
       "<g style=\"fill:rgb(96.078431%,48.627451%,0%);fill-opacity:1;\">\n",
       "  <use xlink:href=\"#glyph0-9\" x=\"277.523438\" y=\"149.953125\"/>\n",
       "</g>\n",
       "<g style=\"fill:rgb(96.078431%,48.627451%,0%);fill-opacity:1;\">\n",
       "  <use xlink:href=\"#glyph0-10\" x=\"346.125\" y=\"208.210938\"/>\n",
       "</g>\n",
       "<g style=\"fill:rgb(96.078431%,48.627451%,0%);fill-opacity:1;\">\n",
       "  <use xlink:href=\"#glyph0-2\" x=\"315.6875\" y=\"293.636719\"/>\n",
       "  <use xlink:href=\"#glyph0-1\" x=\"323.473633\" y=\"293.636719\"/>\n",
       "</g>\n",
       "<g style=\"fill:rgb(96.078431%,48.627451%,0%);fill-opacity:1;\">\n",
       "  <use xlink:href=\"#glyph0-2\" x=\"247.367188\" y=\"349.519531\"/>\n",
       "  <use xlink:href=\"#glyph0-2\" x=\"255.15332\" y=\"349.519531\"/>\n",
       "</g>\n",
       "<g style=\"fill:rgb(96.078431%,48.627451%,0%);fill-opacity:1;\">\n",
       "  <use xlink:href=\"#glyph0-2\" x=\"157.96875\" y=\"356.53125\"/>\n",
       "  <use xlink:href=\"#glyph0-3\" x=\"165.754883\" y=\"356.53125\"/>\n",
       "</g>\n",
       "<g style=\"fill:rgb(96.078431%,48.627451%,0%);fill-opacity:1;\">\n",
       "  <use xlink:href=\"#glyph0-2\" x=\"80.816406\" y=\"312.25\"/>\n",
       "  <use xlink:href=\"#glyph0-4\" x=\"88.602539\" y=\"312.25\"/>\n",
       "</g>\n",
       "<g style=\"fill:rgb(96.078431%,48.627451%,0%);fill-opacity:1;\">\n",
       "  <use xlink:href=\"#glyph0-2\" x=\"41.789063\" y=\"231.984375\"/>\n",
       "  <use xlink:href=\"#glyph0-5\" x=\"49.575195\" y=\"231.984375\"/>\n",
       "</g>\n",
       "<g style=\"fill:rgb(96.078431%,48.627451%,0%);fill-opacity:1;\">\n",
       "  <use xlink:href=\"#glyph0-2\" x=\"54.238281\" y=\"143.5\"/>\n",
       "  <use xlink:href=\"#glyph0-6\" x=\"62.024414\" y=\"143.5\"/>\n",
       "</g>\n",
       "<g style=\"fill:rgb(96.078431%,48.627451%,0%);fill-opacity:1;\">\n",
       "  <use xlink:href=\"#glyph0-2\" x=\"114.015625\" y=\"77.394531\"/>\n",
       "  <use xlink:href=\"#glyph0-7\" x=\"121.801758\" y=\"77.394531\"/>\n",
       "</g>\n",
       "<g style=\"fill:rgb(96.078431%,48.627451%,0%);fill-opacity:1;\">\n",
       "  <use xlink:href=\"#glyph0-2\" x=\"200.316406\" y=\"56.53125\"/>\n",
       "  <use xlink:href=\"#glyph0-8\" x=\"208.102539\" y=\"56.53125\"/>\n",
       "</g>\n",
       "<g style=\"fill:rgb(96.078431%,48.627451%,0%);fill-opacity:1;\">\n",
       "  <use xlink:href=\"#glyph0-2\" x=\"283.335938\" y=\"88.125\"/>\n",
       "  <use xlink:href=\"#glyph0-9\" x=\"291.12207\" y=\"88.125\"/>\n",
       "</g>\n",
       "<g style=\"fill:rgb(96.078431%,48.627451%,0%);fill-opacity:1;\">\n",
       "  <use xlink:href=\"#glyph0-2\" x=\"334.371094\" y=\"161.246094\"/>\n",
       "  <use xlink:href=\"#glyph0-10\" x=\"342.157227\" y=\"161.246094\"/>\n",
       "</g>\n",
       "</g>\n",
       "</svg>\n"
      ],
      "text/plain": [
       "<igraph.drawing.Plot at 0x29f53ff1388>"
      ]
     },
     "execution_count": 166,
     "metadata": {
      "image/svg+xml": {
       "isolated": true
      }
     },
     "output_type": "execute_result"
    }
   ],
   "source": [
    "# a random tree with 16 nodes\n",
    "edges = [(0, 1),(0, 2,), (0, 3),\n",
    "        (1,4), (1,5),\n",
    "        (2,6), (2,7),\n",
    "        (3,8),\n",
    "        (4,9), (4,10), (4,11),\n",
    "        (5,12), (5,13),\n",
    "        (7,14), (7,15), (7,16), (7,17),\n",
    "        (8,18), (8,19)]\n",
    "tree = Graph(edges=edges)\n",
    "\n",
    "layout = tree.layout_reingold_tilford_circular(100, 0, 2)\n",
    "\n",
    "tree.vs['label'] = [v.index for v in tree.vs]\n",
    "\n",
    "visual_style[\"vertex_size\"] = [20]\n",
    "visual_style[\"vertex_label\"] = [v.index for v in tree.vs]\n",
    "visual_style[\"layout\"] = layout\n",
    "visual_style[\"bbox\"] = (400, 400)\n",
    "visual_style[\"margin\"] = [50, 50, 50, 50]\n",
    "plot(tree, **visual_style)"
   ]
  },
  {
   "cell_type": "code",
   "execution_count": 167,
   "metadata": {
    "collapsed": false,
    "jupyter": {
     "outputs_hidden": false
    },
    "pycharm": {
     "name": "#%%\n"
    }
   },
   "outputs": [],
   "source": [
    "def memoize(f):\n",
    "    ### YOUR CODE ###\n",
    "    def helper(v):\n",
    "        return helper\n",
    "\n",
    "@memoize\n",
    "def solve_lis(g):\n",
    "    ## YOUR CODE ##\n",
    "    return 0\n",
    "\n",
    "#unit tests - base cases (theoretically there is just the empty tree as base case but it can simplify the code to have 3 base cases: 0, 1 & 2 nodes.)\n",
    "## YOUR CASES HERE ###\n",
    "# SOME EXAMPLE CASES\n",
    "# g1 = Graph(edges=[(0, 1),(0, 2)])\n",
    "# g2 = Graph(edges=[(0, 1),(0, 2), (0,3)])\n",
    "# g3 = Graph(edges=[(0, 1),(0, 2), (2,3)])\n",
    "# assert(solve_lis(g1) == 2)\n",
    "# assert(solve_lis(g2) == 3)\n",
    "# assert(solve_lis(g3) == 2)"
   ]
  },
  {
   "cell_type": "markdown",
   "metadata": {},
   "source": [
    "# Solutions"
   ]
  },
  {
   "cell_type": "markdown",
   "metadata": {
    "pycharm": {
     "name": "#%% md\n"
    }
   },
   "source": [
    "<div class=\"exercise exercise-warning\"><details><summary>Drinking game - non-memoized</summary>    \n",
    "    \n",
    "```python \n",
    "    \n",
    "    # %load solutions/03/dg_max_value.py\n",
    "    def solve(v):\n",
    "\n",
    "        n = len(v)\n",
    "        if n == 2:\n",
    "            return max(v[0], v[1])\n",
    "        elif n == 1:\n",
    "            return v[0]\n",
    "        elif n == 0:\n",
    "            return 0\n",
    "\n",
    "        return max(v[n-1] + solve(v[0: n - 2]), solve(v[0: n - 1]))\n",
    "\n",
    "    # unit tests\n",
    "    assert(solve([]) == 0)\n",
    "    assert(solve([5]) == 5)\n",
    "    assert(solve([5, 6]) == 6)\n",
    "    assert(solve([5, 5, 5, 5, 5]) == 15)\n",
    "    assert(solve([3, 1, 4, 1, 5, 9, 2, 6]) == 22)\n",
    "\n",
    "```\n",
    "    \n",
    "</details>"
   ]
  },
  {
   "cell_type": "markdown",
   "metadata": {
    "pycharm": {
     "name": "#%% md\n"
    }
   },
   "source": [
    "<div class=\"exercise exercise-warning\"><details><summary>Stingy drinking game - memoized</summary> \n",
    "    \n",
    "```python \n",
    "    \n",
    "    # %load solutions/03/stingy_memoized.py\n",
    "    def memoize(f):\n",
    "    memo = {}\n",
    "\n",
    "    def helper(v):\n",
    "        n = len(v)\n",
    "        if n not in memo:\n",
    "            memo[n] = f(v)\n",
    "        return memo[n]\n",
    "\n",
    "    return helper\n",
    "\n",
    "    @memoize\n",
    "    def solve_stingy(v):\n",
    "\n",
    "        n = len(v)\n",
    "        if n == 3:\n",
    "            return max(v[0], v[1], v[2]) \n",
    "        elif n == 2:\n",
    "            return max(v[0], v[1])\n",
    "        elif n == 1:\n",
    "            return v[0]\n",
    "        elif n == 0:\n",
    "            return 0\n",
    "\n",
    "        return max(v[n-1] + solve_stingy(v[0: n - 3]), solve_stingy(v[0: n - 2]), solve_stingy(v[0: n - 1]))\n",
    "\n",
    "    #unit tests\n",
    "    assert(solve_stingy([]) == 0)\n",
    "    assert(solve_stingy([3]) == 3)\n",
    "    assert(solve_stingy([3, 1]) == 3)\n",
    "    assert(solve_stingy([3, 1, 4]) == 4)\n",
    "    assert(solve_stingy([3, 1, 4, 1, 5, 9, 2, 6]) == 14)\n",
    "\n",
    "```\n",
    "    \n",
    "</details>"
   ]
  },
  {
   "cell_type": "markdown",
   "metadata": {},
   "source": [
    "<div class=\"exercise exercise-warning\"><details><summary>Largest independent set in a tree</summary> \n",
    "    \n",
    "Let u be a node in the tree, and define I(u) to be the size of the maximum independant set of a tree that has u at its root.<br><br>\n",
    "So we are looking at a subtree whose root is u.\n",
    "    \n",
    "    * It makes no difference which node is the root!\n",
    "    * A line is just a tree where nodes have at most one child (0 or 1)\n",
    "    \n",
    "We will consider the children nodes and the grandchildren nodes of u. The recurrence relation is then:<br><br>\n",
    "    \n",
    "    <code>I(u) = max{ 1 + sum(I(w) for all grandchildren of u) + sum(I(w) for all children of u) }</code>\n",
    "If the tree were weighted I(u) would be the maximum weight of an independant set with u at its root. Then you replace 1 with the weight of u:\n",
    "    \n",
    "    <code>I(u) = max{ weight(u) + sum(I(w) for all grandchildren of u) + sum(I(w) for all children of u) }</code>\n",
    "    \n",
    "\n",
    "<hr>\n",
    "The implementation on a binary tree is here.\n",
    "https://www.geeksforgeeks.org/largest-independent-set-problem-dp-26/\n",
    "</details>"
   ]
  },
  {
   "cell_type": "markdown",
   "metadata": {},
   "source": [
    "# Footnotes\n",
    "\n",
    "<span id=\"fn1\"></span>\n",
    "\n",
    "    1. We will see other patterns in later lessons\n",
    "\n",
    "<span id=\"fn2\"></span>\n",
    "\n",
    "    2. A more precise description of 'shortest path problem' is: find the shortest path from a single source to another vertex in an acyclical, non-negative weighted graph. Note that the description constrains the type of graph, there is no constraint on _which vertices_ may be included in the shortest path.\n"
   ]
  },
  {
   "cell_type": "markdown",
   "metadata": {},
   "source": [
    "# References\n",
    "\n",
    "1. Arnab Kundu. (2013, February 17). Largest Independent Set Problem | DP-26. GeeksforGeeks. https://www.geeksforgeeks.org/largest-independent-set-problem-dp-26/\n",
    "\n",
    "2. Dasgupta, S., Papadimitriou, C. H., & Vazirani, U. V. (2008). Algorithms. McGraw-Hill Higher Education New York.\n",
    "\n",
    "3. Forišek, M. (2015). Towards a better way to teach dynamic programming. Olympiads in Informatics, 9, 45–55.\n",
    "\n",
    "4. The igraph core team. (2003, 2020). Getting started with python-igraph. https://igraph.org/python/"
   ]
  },
  {
   "cell_type": "code",
   "execution_count": 168,
   "metadata": {
    "collapsed": false,
    "jupyter": {
     "outputs_hidden": false
    },
    "pycharm": {
     "name": "#%%\n"
    }
   },
   "outputs": [
    {
     "data": {
      "text/html": [
       "<style>\n",
       "    .alert {\n",
       "      padding: 15px;\n",
       "      margin-bottom: 20px;\n",
       "      border: 1px solid transparent;\n",
       "      border-radius: 4px;\n",
       "    }\n",
       "\n",
       "    .alert h4 {\n",
       "      margin-top: 0;\n",
       "      color: inherit;\n",
       "    }\n",
       "\n",
       "    .alert .alert-link {\n",
       "      font-weight: bold;\n",
       "    }\n",
       "\n",
       "    .alert > p,\n",
       "    .alert > ul {\n",
       "      margin-bottom: 0;\n",
       "    }\n",
       "\n",
       "    .alert > p + p {\n",
       "      margin-top: 5px;\n",
       "    }\n",
       "\n",
       "    .alert-dismissable,\n",
       "    .alert-dismissible {\n",
       "      padding-right: 35px;\n",
       "    }\n",
       "\n",
       "    .alert-dismissable .close,\n",
       "    .alert-dismissible .close {\n",
       "      position: relative;\n",
       "      top: -2px;\n",
       "      right: -21px;\n",
       "      color: inherit;\n",
       "    }\n",
       "\n",
       "    .alert-success {\n",
       "      background-color: #C8E6C9;\n",
       "      border-color: #81C784;\n",
       "      color: #388E3C;\n",
       "    }\n",
       "\n",
       "    .alert-success hr {\n",
       "      border-top-color: #AED581;\n",
       "    }\n",
       "\n",
       "    .alert-success .alert-link {\n",
       "      color: #2E7D32;\n",
       "    }\n",
       "\n",
       "    .alert-info {\n",
       "      background-color: #B2EBF2;\n",
       "      border-color: #4DD0E1;\n",
       "      color: #0097A7;\n",
       "    }\n",
       "\n",
       "    .alert-info hr {\n",
       "      border-top-color: #00838F;\n",
       "    }\n",
       "\n",
       "    .alert-info .alert-link {\n",
       "      color: #245269;\n",
       "    }\n",
       "\n",
       "    .alert-warning {\n",
       "      background-color: #FFE0B2;\n",
       "      border-color: #FFB74D;\n",
       "      color: #F57C00;\n",
       "    }\n",
       "\n",
       "    .alert-warning hr {\n",
       "      border-top-color: #FFB74D;\n",
       "    }\n",
       "\n",
       "    .alert-warning .alert-link {\n",
       "      color: #EF6C00;\n",
       "    }\n",
       "\n",
       "    .alert-danger {\n",
       "      background-color: #ffcdd2;\n",
       "      border-color: #e57373;\n",
       "      color: #d32f2f;\n",
       "    }\n",
       "\n",
       "    .alert-danger hr {\n",
       "      border-top-color: #d32f2f;\n",
       "    }\n",
       "\n",
       "    .alert-danger .alert-link {\n",
       "      color: #c62828;\n",
       "    }\n",
       "    \n",
       "\n",
       "    .exercise {\n",
       "      padding: 15px;\n",
       "      margin-bottom: 20px;\n",
       "      border: 1px solid transparent;\n",
       "      border-radius: 4px;\n",
       "    }\n",
       "\n",
       "    .exercise h4 {\n",
       "      margin-top: 0;\n",
       "      color: inherit;\n",
       "    }\n",
       "\n",
       "    .exercise .alert-link {\n",
       "      font-weight: bold;\n",
       "    }\n",
       "\n",
       "    .exercise > p,\n",
       "    .exercise > ul {\n",
       "      margin-bottom: 0;\n",
       "    }\n",
       "\n",
       "    .exercise > p + p {\n",
       "      margin-top: 5px;\n",
       "    }\n",
       "\n",
       "    .exercise-info {\n",
       "      background-color: #B2EBF2;\n",
       "      border-color: #4DD0E1;\n",
       "      color: #000000;\n",
       "    }\n",
       "\n",
       "    .exercise-info hr {\n",
       "      border-top-color: #00838F;\n",
       "    }\n",
       "\n",
       "    .exercise-info .alert-link {\n",
       "      color: #245269;\n",
       "    }\n",
       "\n",
       "   .exercise-warning {\n",
       "      background-color: #FFE0B2;\n",
       "      border-color: #FFB74D;\n",
       "      color: #000000;\n",
       "    }\n",
       "\n",
       "    .exercise-warning hr {\n",
       "      border-top-color: #FFB74D;\n",
       "    }\n",
       "\n",
       "    .excercise-warning .alert-link {\n",
       "      color: #EF6C00;\n",
       "    }\n",
       "\n",
       "\n",
       "</style>\n"
      ],
      "text/plain": [
       "<IPython.core.display.HTML object>"
      ]
     },
     "execution_count": 168,
     "metadata": {},
     "output_type": "execute_result"
    }
   ],
   "source": [
    "#workaround for known ipywidget issue not rendering alert style colours on Jupyter lab\n",
    "from IPython.core.display import HTML\n",
    "HTML(open(\"../styles/custom.css\", \"r\").read())"
   ]
  }
 ],
 "metadata": {
  "kernelspec": {
   "display_name": "Python 3",
   "language": "python",
   "name": "python3"
  },
  "language_info": {
   "codemirror_mode": {
    "name": "ipython",
    "version": 3
   },
   "file_extension": ".py",
   "mimetype": "text/x-python",
   "name": "python",
   "nbconvert_exporter": "python",
   "pygments_lexer": "ipython3",
   "version": "3.7.6"
  },
  "latex_envs": {
   "LaTeX_envs_menu_present": true,
   "autoclose": true,
   "autocomplete": true,
   "bibliofile": "biblio.bib",
   "cite_by": "apalike",
   "current_citInitial": 1,
   "eqLabelWithNumbers": true,
   "eqNumInitial": 1,
   "hotkeys": {
    "equation": "Ctrl-E",
    "itemize": "Ctrl-I"
   },
   "labels_anchors": false,
   "latex_user_defs": false,
   "report_style_numbering": false,
   "user_envs_cfg": false
  },
  "toc": {
   "base_numbering": 1,
   "nav_menu": {},
   "number_sections": false,
   "sideBar": true,
   "skip_h1_title": false,
   "title_cell": "Table of Contents",
   "title_sidebar": "Contents",
   "toc_cell": false,
   "toc_position": {},
   "toc_section_display": true,
   "toc_window_display": true
  },
  "toc-autonumbering": true,
  "toc-showtags": false,
  "widgets": {
   "application/vnd.jupyter.widget-state+json": {
    "state": {
     "000e9aa3059e45339f43c17c4d4dd091": {
      "model_module": "@jupyter-widgets/controls",
      "model_module_version": "1.5.0",
      "model_name": "DescriptionStyleModel",
      "state": {
       "description_width": "initial"
      }
     },
     "009ceb9de15641fc91d0ce4c418f025e": {
      "model_module": "@jupyter-widgets/base",
      "model_module_version": "1.2.0",
      "model_name": "LayoutModel",
      "state": {
       "align_items": "stretch",
       "display": "flex",
       "flex_flow": "row wrap",
       "width": "auto"
      }
     },
     "00b0f66eee204044b599c8e840efd07c": {
      "model_module": "@jupyter-widgets/base",
      "model_module_version": "1.2.0",
      "model_name": "LayoutModel",
      "state": {}
     },
     "00b5d96ed677402abeee3d1805e3c48e": {
      "model_module": "@jupyter-widgets/controls",
      "model_module_version": "1.5.0",
      "model_name": "LabelModel",
      "state": {
       "layout": "IPY_MODEL_daef2f1ac6514f13a5af10a7b3a57c5d",
       "style": "IPY_MODEL_98d3662058904a9980a73846ef9f1e7a"
      }
     },
     "01317bad501d49f4a9c1d79858e05070": {
      "model_module": "@jupyter-widgets/base",
      "model_module_version": "1.2.0",
      "model_name": "LayoutModel",
      "state": {
       "align_items": "stretch",
       "display": "flex",
       "flex_flow": "row wrap",
       "width": "auto"
      }
     },
     "0331645b82614d08adfa2cab3282c986": {
      "model_module": "@jupyter-widgets/base",
      "model_module_version": "1.2.0",
      "model_name": "LayoutModel",
      "state": {
       "align_items": "stretch",
       "display": "flex",
       "flex_flow": "row wrap",
       "width": "auto"
      }
     },
     "03a6e720e5db4e8baeeddd6f317f754a": {
      "model_module": "@jupyter-widgets/controls",
      "model_module_version": "1.5.0",
      "model_name": "ButtonModel",
      "state": {
       "description": "Show answer",
       "disabled": true,
       "layout": "IPY_MODEL_815a57b1241a4eaabad31f44354aba00",
       "style": "IPY_MODEL_726004d791e34a62985ea84ce10ebc89"
      }
     },
     "03e79d9bc7664d57820dc78381c6c466": {
      "model_module": "@jupyter-widgets/controls",
      "model_module_version": "1.5.0",
      "model_name": "CheckboxModel",
      "state": {
       "disabled": false,
       "layout": "IPY_MODEL_5b0eab1251b64ec6b8bcceda8577a658",
       "style": "IPY_MODEL_1d6e3b4e47374fc49b86d668f99ea759",
       "value": false
      }
     },
     "04b450ce314f4ddeac33125884b0807a": {
      "model_module": "@jupyter-widgets/base",
      "model_module_version": "1.2.0",
      "model_name": "LayoutModel",
      "state": {
       "width": "30px"
      }
     },
     "053d6ff9424a4d76a0fe1119f77fad1e": {
      "model_module": "@jupyter-widgets/controls",
      "model_module_version": "1.5.0",
      "model_name": "CheckboxModel",
      "state": {
       "disabled": false,
       "layout": "IPY_MODEL_cc6f41c85ae24499ab6d54aab3454ebb",
       "style": "IPY_MODEL_490ee705f5b34beba02a9b5d4e2d01b2",
       "value": false
      }
     },
     "053dfb8b27444fca980a044e243785c0": {
      "model_module": "@jupyter-widgets/base",
      "model_module_version": "1.2.0",
      "model_name": "LayoutModel",
      "state": {}
     },
     "05762cb63ac9469f997ec025cec79c02": {
      "model_module": "@jupyter-widgets/controls",
      "model_module_version": "1.5.0",
      "model_name": "ButtonModel",
      "state": {
       "description": "Submit",
       "layout": "IPY_MODEL_9e526dbf1a234ae885498f34f3be667c",
       "style": "IPY_MODEL_61a2dadc099b4189b3486d0fa36d6d0a"
      }
     },
     "05c0eb49d7cc4ffb81d3205bd8a02f44": {
      "model_module": "@jupyter-widgets/controls",
      "model_module_version": "1.5.0",
      "model_name": "DescriptionStyleModel",
      "state": {
       "description_width": ""
      }
     },
     "05e073dc7d6d46cf95c913e705bc729b": {
      "model_module": "@jupyter-widgets/base",
      "model_module_version": "1.2.0",
      "model_name": "LayoutModel",
      "state": {
       "display": "flex",
       "flex_flow": "row",
       "justify_content": "space-between",
       "margin": "0 0 20px 0"
      }
     },
     "0751dbab58c2431d978a94f8b4b57ec7": {
      "model_module": "@jupyter-widgets/controls",
      "model_module_version": "1.5.0",
      "model_name": "HBoxModel",
      "state": {
       "children": [
        "IPY_MODEL_fc05f7059f7c4b04b140d9f7ed9171bb",
        "IPY_MODEL_74bd0d3199b14990990144734e33e6f7"
       ],
       "layout": "IPY_MODEL_165cba04cef54414a5aee2fd220a2486"
      }
     },
     "07563645f08f45a7b5b954a34b21d52a": {
      "model_module": "@jupyter-widgets/base",
      "model_module_version": "1.2.0",
      "model_name": "LayoutModel",
      "state": {
       "align_items": "stretch",
       "display": "flex",
       "flex_flow": "row wrap",
       "width": "auto"
      }
     },
     "07aee0582d9c4b0f8907d01c8f4a557c": {
      "model_module": "@jupyter-widgets/base",
      "model_module_version": "1.2.0",
      "model_name": "LayoutModel",
      "state": {
       "align_items": "stretch",
       "display": "flex",
       "flex_flow": "column",
       "width": "100%"
      }
     },
     "082523a79273455dbed49409289f6fe4": {
      "model_module": "@jupyter-widgets/controls",
      "model_module_version": "1.5.0",
      "model_name": "DescriptionStyleModel",
      "state": {
       "description_width": ""
      }
     },
     "083d1ef8c679498c9053e4155400994f": {
      "model_module": "@jupyter-widgets/base",
      "model_module_version": "1.2.0",
      "model_name": "LayoutModel",
      "state": {}
     },
     "08acc005dcaf4687add07d48b270aabe": {
      "model_module": "@jupyter-widgets/base",
      "model_module_version": "1.2.0",
      "model_name": "LayoutModel",
      "state": {
       "display": "none"
      }
     },
     "0912a5688ab6446db7ccef1ca75bb7db": {
      "model_module": "@jupyter-widgets/controls",
      "model_module_version": "1.5.0",
      "model_name": "DescriptionStyleModel",
      "state": {
       "description_width": "initial"
      }
     },
     "0966a6e2493b44bb98cb3d956126a5f2": {
      "model_module": "@jupyter-widgets/controls",
      "model_module_version": "1.5.0",
      "model_name": "HTMLModel",
      "state": {
       "layout": "IPY_MODEL_d138ca93445f4c88bf4b54c3fee6f7c7",
       "style": "IPY_MODEL_a3b27945290345d987c8479751009a1b",
       "value": "<style>p{word-wrap: break-word}</style> <p>Which statement about the recurrence relation is true of the drinking game problem? </p>"
      }
     },
     "0a2e9356b9ae4ff8aa2575999f9e0a07": {
      "model_module": "@jupyter-widgets/controls",
      "model_module_version": "1.5.0",
      "model_name": "DescriptionStyleModel",
      "state": {
       "description_width": ""
      }
     },
     "0a7ad8781de544368f884bc07c578ea0": {
      "model_module": "@jupyter-widgets/controls",
      "model_module_version": "1.5.0",
      "model_name": "DescriptionStyleModel",
      "state": {
       "description_width": ""
      }
     },
     "0aad27a7f025449c88961355e49c2e1b": {
      "model_module": "@jupyter-widgets/base",
      "model_module_version": "1.2.0",
      "model_name": "LayoutModel",
      "state": {
       "align_items": "stretch",
       "display": "flex",
       "flex_flow": "row wrap",
       "width": "auto"
      }
     },
     "0ae2bfb51a8a4c0fa7b1523736ec538f": {
      "model_module": "@jupyter-widgets/base",
      "model_module_version": "1.2.0",
      "model_name": "LayoutModel",
      "state": {
       "display": "none"
      }
     },
     "0b4bfe3c640a4544bf90e0782c9f05c3": {
      "model_module": "@jupyter-widgets/controls",
      "model_module_version": "1.5.0",
      "model_name": "DescriptionStyleModel",
      "state": {
       "description_width": ""
      }
     },
     "0b682071175a4ae09116081b765b07f3": {
      "model_module": "@jupyter-widgets/controls",
      "model_module_version": "1.5.0",
      "model_name": "HBoxModel",
      "state": {
       "children": [
        "IPY_MODEL_5f725a340582446fbcee8f5b5ed4e1fc",
        "IPY_MODEL_a7938ccb5e674cbe9f4269b9c272af4a"
       ],
       "layout": "IPY_MODEL_784f229dbf06484fab12aff48042cd2e"
      }
     },
     "0bc6bafc62694ab4827ae4e05c8d7fe0": {
      "model_module": "@jupyter-widgets/controls",
      "model_module_version": "1.5.0",
      "model_name": "LabelModel",
      "state": {
       "layout": "IPY_MODEL_d800cbbbf0114cce8f8b8d93a002d7bc",
       "style": "IPY_MODEL_344c767622264733b935fe063b9462ac"
      }
     },
     "0cbf397605914be8a930fc3ea8773ee1": {
      "model_module": "@jupyter-widgets/base",
      "model_module_version": "1.2.0",
      "model_name": "LayoutModel",
      "state": {
       "align_items": "stretch",
       "display": "flex",
       "flex_flow": "row wrap",
       "width": "auto"
      }
     },
     "0da7f2298aa2458898a4d19b46a978c3": {
      "model_module": "@jupyter-widgets/controls",
      "model_module_version": "1.5.0",
      "model_name": "DescriptionStyleModel",
      "state": {
       "description_width": ""
      }
     },
     "0e24ed491e374238901eb19fdf21abc2": {
      "model_module": "@jupyter-widgets/base",
      "model_module_version": "1.2.0",
      "model_name": "LayoutModel",
      "state": {}
     },
     "0ff906c875834a8681768799ec9cef99": {
      "model_module": "@jupyter-widgets/base",
      "model_module_version": "1.2.0",
      "model_name": "LayoutModel",
      "state": {
       "width": "30px"
      }
     },
     "0ff9c50d2e9f4e7bb33bd4642b6743ac": {
      "model_module": "@jupyter-widgets/controls",
      "model_module_version": "1.5.0",
      "model_name": "HBoxModel",
      "state": {
       "children": [
        "IPY_MODEL_91f802a5a08e40f2857e306b2c39db14",
        "IPY_MODEL_0b682071175a4ae09116081b765b07f3"
       ],
       "layout": "IPY_MODEL_856fdc86e9f54cfab65652b16bcb533e"
      }
     },
     "1024d88613e84188aa5fd7259cc5fcfb": {
      "model_module": "@jupyter-widgets/controls",
      "model_module_version": "1.5.0",
      "model_name": "HTMLModel",
      "state": {
       "layout": "IPY_MODEL_f70e5660ae9e41ca950ddb2aa68fcfc3",
       "style": "IPY_MODEL_3fcedabb786c4b71a0c45496e230d279",
       "value": "<style>p{word-wrap: break-word}</style> <p>Find a combination of bottles that are not adjacent and yield maximum volume </p>"
      }
     },
     "1215b5a561224a858310ca383c4fae49": {
      "model_module": "@jupyter-widgets/controls",
      "model_module_version": "1.5.0",
      "model_name": "HBoxModel",
      "state": {
       "children": [
        "IPY_MODEL_47e8d6ee317e43d8894698c795389ef2",
        "IPY_MODEL_ea06c840d92c47018218675064d9c65d"
       ],
       "layout": "IPY_MODEL_c4b8b81205764335ac324a9c521abbbe"
      }
     },
     "12472571c42446a19e95b3bf339015f0": {
      "model_module": "@jupyter-widgets/controls",
      "model_module_version": "1.5.0",
      "model_name": "DescriptionStyleModel",
      "state": {
       "description_width": ""
      }
     },
     "124bcd5d6ab8499aa8ab4ed8f774414d": {
      "model_module": "@jupyter-widgets/base",
      "model_module_version": "1.2.0",
      "model_name": "LayoutModel",
      "state": {
       "align_items": "stretch",
       "display": "flex",
       "flex_flow": "row wrap",
       "margin": "30px 0 0 0"
      }
     },
     "1278e6d5fc924bbe8f96b02c79619f97": {
      "model_module": "@jupyter-widgets/base",
      "model_module_version": "1.2.0",
      "model_name": "LayoutModel",
      "state": {}
     },
     "12a903ba19dd4b1db3eee3c1d165f79c": {
      "model_module": "@jupyter-widgets/controls",
      "model_module_version": "1.5.0",
      "model_name": "LabelModel",
      "state": {
       "layout": "IPY_MODEL_8fd24e09c0484ecf8abd58fcb1e035af",
       "style": "IPY_MODEL_27a07c998f4d4466bf6e04d193ca22ef"
      }
     },
     "1307f090506c40fe87520bceb0588076": {
      "model_module": "@jupyter-widgets/base",
      "model_module_version": "1.2.0",
      "model_name": "LayoutModel",
      "state": {}
     },
     "1346aaa6cea84381a033c20316a1dfd4": {
      "model_module": "@jupyter-widgets/base",
      "model_module_version": "1.2.0",
      "model_name": "LayoutModel",
      "state": {
       "align_items": "stretch",
       "display": "flex",
       "flex_flow": "row wrap",
       "margin": "30px 0 0 0"
      }
     },
     "137b0f6f2a5f4148a8e05f2ec82f884a": {
      "model_module": "@jupyter-widgets/controls",
      "model_module_version": "1.5.0",
      "model_name": "LabelModel",
      "state": {
       "layout": "IPY_MODEL_559f5be6facc49808e286c9b68790fa4",
       "style": "IPY_MODEL_6158ec0862b3482eaf50891be9a1edc8"
      }
     },
     "13860ecd9ceb470589a5ea0c11a8bc63": {
      "model_module": "@jupyter-widgets/controls",
      "model_module_version": "1.5.0",
      "model_name": "ButtonModel",
      "state": {
       "description": "Submit",
       "layout": "IPY_MODEL_7372f45851cf41aebd43b660bffdc3c0",
       "style": "IPY_MODEL_c587755035f043acac2f0089c8f3eed6"
      }
     },
     "148625b4413d4cdea06e1c9951f041b0": {
      "model_module": "@jupyter-widgets/controls",
      "model_module_version": "1.5.0",
      "model_name": "DescriptionStyleModel",
      "state": {
       "description_width": "initial"
      }
     },
     "148ff2cf80ce4eb78618781a7e3cce5c": {
      "model_module": "@jupyter-widgets/base",
      "model_module_version": "1.2.0",
      "model_name": "LayoutModel",
      "state": {}
     },
     "14bcec1ab7494a998200576b0bf22473": {
      "model_module": "@jupyter-widgets/base",
      "model_module_version": "1.2.0",
      "model_name": "LayoutModel",
      "state": {
       "width": "auto"
      }
     },
     "153d775aec51472cbba401614b058135": {
      "model_module": "@jupyter-widgets/base",
      "model_module_version": "1.2.0",
      "model_name": "LayoutModel",
      "state": {}
     },
     "15878489b7034365a3a0650de0d7a002": {
      "model_module": "@jupyter-widgets/controls",
      "model_module_version": "1.5.0",
      "model_name": "DescriptionStyleModel",
      "state": {
       "description_width": "initial"
      }
     },
     "165cba04cef54414a5aee2fd220a2486": {
      "model_module": "@jupyter-widgets/base",
      "model_module_version": "1.2.0",
      "model_name": "LayoutModel",
      "state": {
       "align_items": "stretch",
       "display": "flex",
       "flex_flow": "row wrap",
       "width": "auto"
      }
     },
     "16943a5483de4f5db705b56333689bb9": {
      "model_module": "@jupyter-widgets/controls",
      "model_module_version": "1.5.0",
      "model_name": "CheckboxModel",
      "state": {
       "disabled": false,
       "layout": "IPY_MODEL_7f1f7b18cac24fe78246544746e795a0",
       "style": "IPY_MODEL_6d71426542674fbd8e328cc5fa7741dd",
       "value": false
      }
     },
     "16ab79ee67b24b2886895f50c8a81800": {
      "model_module": "@jupyter-widgets/base",
      "model_module_version": "1.2.0",
      "model_name": "LayoutModel",
      "state": {
       "align_items": "stretch",
       "display": "flex",
       "flex_flow": "row wrap",
       "width": "auto"
      }
     },
     "16cee6512748416dbce46094848d4af3": {
      "model_module": "@jupyter-widgets/controls",
      "model_module_version": "1.5.0",
      "model_name": "DescriptionStyleModel",
      "state": {
       "description_width": ""
      }
     },
     "16e91517f50d4bf5a4331a6897ccf309": {
      "model_module": "@jupyter-widgets/controls",
      "model_module_version": "1.5.0",
      "model_name": "HTMLModel",
      "state": {
       "layout": "IPY_MODEL_00b0f66eee204044b599c8e840efd07c",
       "style": "IPY_MODEL_184e48b8fb434d1db13050d71621f85a",
       "value": "<style>p{word-wrap: break-word}</style> <p>As a first step, how would you rephrase the drinking game problem? </p>"
      }
     },
     "1744346f141e47488b466200aeaacc9c": {
      "model_module": "@jupyter-widgets/controls",
      "model_module_version": "1.5.0",
      "model_name": "DescriptionStyleModel",
      "state": {
       "description_width": ""
      }
     },
     "17ecfa7fe16c4b878c1c6a0a5500d1be": {
      "model_module": "@jupyter-widgets/base",
      "model_module_version": "1.2.0",
      "model_name": "LayoutModel",
      "state": {}
     },
     "184e48b8fb434d1db13050d71621f85a": {
      "model_module": "@jupyter-widgets/controls",
      "model_module_version": "1.5.0",
      "model_name": "DescriptionStyleModel",
      "state": {
       "description_width": ""
      }
     },
     "18674857e7c64155bd00da0c9a219b4e": {
      "model_module": "@jupyter-widgets/base",
      "model_module_version": "1.2.0",
      "model_name": "LayoutModel",
      "state": {}
     },
     "18c4f8157905407a981845e1e3418bdf": {
      "model_module": "@jupyter-widgets/base",
      "model_module_version": "1.2.0",
      "model_name": "LayoutModel",
      "state": {
       "width": "30px"
      }
     },
     "1902c1c9ce834d7090420721dc432850": {
      "model_module": "@jupyter-widgets/base",
      "model_module_version": "1.2.0",
      "model_name": "LayoutModel",
      "state": {
       "display": "flex",
       "flex_flow": "row",
       "justify_content": "space-between",
       "margin": "0 0 20px 0"
      }
     },
     "1a3f945473494fc4b1e0c6f5ee461284": {
      "model_module": "@jupyter-widgets/controls",
      "model_module_version": "1.5.0",
      "model_name": "DescriptionStyleModel",
      "state": {
       "description_width": ""
      }
     },
     "1ab8dc6930a742d4a3ffea69aeb21c5c": {
      "model_module": "@jupyter-widgets/base",
      "model_module_version": "1.2.0",
      "model_name": "LayoutModel",
      "state": {
       "height": "50%",
       "margin": "0 0 0 30px",
       "width": "50%"
      }
     },
     "1b8e5ff34392446699b6aa6f31e77e46": {
      "model_module": "@jupyter-widgets/controls",
      "model_module_version": "1.5.0",
      "model_name": "DescriptionStyleModel",
      "state": {
       "description_width": ""
      }
     },
     "1ca6d66b10c04899a27ad86cacb5dc17": {
      "model_module": "@jupyter-widgets/controls",
      "model_module_version": "1.5.0",
      "model_name": "DescriptionStyleModel",
      "state": {
       "description_width": ""
      }
     },
     "1d6e3b4e47374fc49b86d668f99ea759": {
      "model_module": "@jupyter-widgets/controls",
      "model_module_version": "1.5.0",
      "model_name": "DescriptionStyleModel",
      "state": {
       "description_width": "initial"
      }
     },
     "1da264ffac324123b49a7a7cbc17785f": {
      "model_module": "@jupyter-widgets/base",
      "model_module_version": "1.2.0",
      "model_name": "LayoutModel",
      "state": {}
     },
     "1f64ef00827f4baeb86d382215d9ac81": {
      "model_module": "@jupyter-widgets/controls",
      "model_module_version": "1.5.0",
      "model_name": "LabelModel",
      "state": {
       "layout": "IPY_MODEL_455f029f34bd4a63b620ddffbc59afb9",
       "style": "IPY_MODEL_e7bf5ff6cc764061970a262ea521d6ed"
      }
     },
     "20347279d7c84d3192e6c1bcca0c2fe0": {
      "model_module": "@jupyter-widgets/controls",
      "model_module_version": "1.5.0",
      "model_name": "DescriptionStyleModel",
      "state": {
       "description_width": ""
      }
     },
     "2037d0e17aa04e8da6bafa8bbb1d8ed1": {
      "model_module": "@jupyter-widgets/base",
      "model_module_version": "1.2.0",
      "model_name": "LayoutModel",
      "state": {
       "width": "30px"
      }
     },
     "203b714c0bc64157afe12f6c1426b95a": {
      "model_module": "@jupyter-widgets/controls",
      "model_module_version": "1.5.0",
      "model_name": "DescriptionStyleModel",
      "state": {
       "description_width": "initial"
      }
     },
     "2045bc68a62040df80636bf896c94d41": {
      "model_module": "@jupyter-widgets/controls",
      "model_module_version": "1.5.0",
      "model_name": "DescriptionStyleModel",
      "state": {
       "description_width": "initial"
      }
     },
     "20b9fc8a8d564da4b60485d55e25850a": {
      "model_module": "@jupyter-widgets/controls",
      "model_module_version": "1.5.0",
      "model_name": "HTMLModel",
      "state": {
       "layout": "IPY_MODEL_17ecfa7fe16c4b878c1c6a0a5500d1be",
       "style": "IPY_MODEL_fe448780df2149c5919b4c022feeb968",
       "value": "<style>p{word-wrap: break-word}</style> <p>If you choose the 8th bottle, the rest of the solution will come from the first </p>"
      }
     },
     "20bb4536324240999fef0a3b01509272": {
      "model_module": "@jupyter-widgets/controls",
      "model_module_version": "1.5.0",
      "model_name": "HBoxModel",
      "state": {
       "children": [
        "IPY_MODEL_3d5d8699eaff4aae8119cc2c82cd7e87",
        "IPY_MODEL_7bf038ea86cb42d6afc7e43e5e10f491"
       ],
       "layout": "IPY_MODEL_230ebb7c2c7d46f4b212ac5a3ef63898"
      }
     },
     "20e55a2636f3472e988299e701edfc1c": {
      "model_module": "@jupyter-widgets/controls",
      "model_module_version": "1.5.0",
      "model_name": "TextModel",
      "state": {
       "layout": "IPY_MODEL_ab2deacb837c44ce9e2326f956b94d9f",
       "placeholder": "",
       "style": "IPY_MODEL_24598e570ccb4f27885ecbfd81230cfd"
      }
     },
     "212f61101b8943e69b5a0bc8438df52e": {
      "model_module": "@jupyter-widgets/controls",
      "model_module_version": "1.5.0",
      "model_name": "LabelModel",
      "state": {
       "layout": "IPY_MODEL_ae290b2e1a234fb59c0cfd77bf514d42",
       "style": "IPY_MODEL_f2dbc1d0badf4e7dbac1b4f5d4f62f53"
      }
     },
     "2151ade06a944a5aa337a8d531266b5f": {
      "model_module": "@jupyter-widgets/base",
      "model_module_version": "1.2.0",
      "model_name": "LayoutModel",
      "state": {}
     },
     "2167ee090edc40feb5ee3d2d045e39be": {
      "model_module": "@jupyter-widgets/controls",
      "model_module_version": "1.5.0",
      "model_name": "CheckboxModel",
      "state": {
       "disabled": false,
       "layout": "IPY_MODEL_fd1075e1005f48d89fa497848879c607",
       "style": "IPY_MODEL_9209ac1f5c6e4b3689e4e9e84e6c61d5",
       "value": false
      }
     },
     "2186e1eb5cca487fabe2edd0b01c0371": {
      "model_module": "@jupyter-widgets/controls",
      "model_module_version": "1.5.0",
      "model_name": "DescriptionStyleModel",
      "state": {
       "description_width": ""
      }
     },
     "21942b6fa06c40388d9d4360de358b59": {
      "model_module": "@jupyter-widgets/base",
      "model_module_version": "1.2.0",
      "model_name": "LayoutModel",
      "state": {}
     },
     "21c8495163454da081fd0aca48ad370e": {
      "model_module": "@jupyter-widgets/base",
      "model_module_version": "1.2.0",
      "model_name": "LayoutModel",
      "state": {
       "width": "30px"
      }
     },
     "230ebb7c2c7d46f4b212ac5a3ef63898": {
      "model_module": "@jupyter-widgets/base",
      "model_module_version": "1.2.0",
      "model_name": "LayoutModel",
      "state": {
       "align_items": "stretch",
       "display": "flex",
       "flex_flow": "row wrap",
       "width": "auto"
      }
     },
     "234eba0fe7624700855d84e85631995b": {
      "model_module": "@jupyter-widgets/base",
      "model_module_version": "1.2.0",
      "model_name": "LayoutModel",
      "state": {}
     },
     "2402e84cdc124c14a0abc9b13f22e178": {
      "model_module": "@jupyter-widgets/base",
      "model_module_version": "1.2.0",
      "model_name": "LayoutModel",
      "state": {
       "align_items": "stretch",
       "display": "flex",
       "flex_flow": "row wrap",
       "width": "auto"
      }
     },
     "24598e570ccb4f27885ecbfd81230cfd": {
      "model_module": "@jupyter-widgets/controls",
      "model_module_version": "1.5.0",
      "model_name": "DescriptionStyleModel",
      "state": {
       "description_width": ""
      }
     },
     "2464ec474fd9495c934a98e51dde8fd1": {
      "model_module": "@jupyter-widgets/controls",
      "model_module_version": "1.5.0",
      "model_name": "HBoxModel",
      "state": {
       "children": [
        "IPY_MODEL_aa085949592f4b138c10012e6ecd63a2",
        "IPY_MODEL_6fc00cc5a3ca459b9ed21689766ab699",
        "IPY_MODEL_9e50bf7a6c6f4d5b9b76cd124d994591"
       ],
       "layout": "IPY_MODEL_70f1753418224e0e8b8996c6e682dee6"
      }
     },
     "246d65733a7542a092734abd229f6284": {
      "model_module": "@jupyter-widgets/controls",
      "model_module_version": "1.5.0",
      "model_name": "TextModel",
      "state": {
       "layout": "IPY_MODEL_14bcec1ab7494a998200576b0bf22473",
       "placeholder": "",
       "style": "IPY_MODEL_347d587a02bf4c71a32d86c5181fe68d"
      }
     },
     "2482be23756d49528261580cd502950e": {
      "model_module": "@jupyter-widgets/base",
      "model_module_version": "1.2.0",
      "model_name": "LayoutModel",
      "state": {
       "align_items": "stretch",
       "display": "flex",
       "flex_flow": "column",
       "width": "100%"
      }
     },
     "2644a6fc010c4a6d8df3e2ae8c9fec51": {
      "model_module": "@jupyter-widgets/controls",
      "model_module_version": "1.5.0",
      "model_name": "HTMLModel",
      "state": {
       "layout": "IPY_MODEL_bb01eb735969422ab6a66ca1230d0e00",
       "style": "IPY_MODEL_d374ebac50ac454fb66395efaaf8f44d",
       "value": "<style>p{word-wrap: break-word}</style> <p>As a first step, how would you rephrase the drinking game problem? </p>"
      }
     },
     "26e106c966b74219953547845fe77aa0": {
      "model_module": "@jupyter-widgets/controls",
      "model_module_version": "1.5.0",
      "model_name": "HTMLModel",
      "state": {
       "layout": "IPY_MODEL_89edc69a8133409f86d15cccff51b4ea",
       "style": "IPY_MODEL_e947be08bbe74df6ac990b918aad2fc4",
       "value": "<style>p{word-wrap: break-word}</style> <p>The recurrence relation is given, nothing to discover. </p>"
      }
     },
     "2724f1b1400c41c39b70e390a7ebe3f2": {
      "model_module": "@jupyter-widgets/base",
      "model_module_version": "1.2.0",
      "model_name": "LayoutModel",
      "state": {
       "display": "flex",
       "flex_flow": "row",
       "justify_content": "space-between",
       "margin": "0 0 20px 0"
      }
     },
     "27a07c998f4d4466bf6e04d193ca22ef": {
      "model_module": "@jupyter-widgets/controls",
      "model_module_version": "1.5.0",
      "model_name": "DescriptionStyleModel",
      "state": {
       "description_width": ""
      }
     },
     "27bba2ab888a4ae9854baf08e7c11e6a": {
      "model_module": "@jupyter-widgets/controls",
      "model_module_version": "1.5.0",
      "model_name": "DescriptionStyleModel",
      "state": {
       "description_width": ""
      }
     },
     "27bcea02461544f2bd43270e1828c246": {
      "model_module": "@jupyter-widgets/controls",
      "model_module_version": "1.5.0",
      "model_name": "VBoxModel",
      "state": {
       "box_style": "info",
       "children": [
        "IPY_MODEL_f4e1561117ad43aeb3b4476fce433aab",
        "IPY_MODEL_83e5fe02a5f04a1c901fb244ba5afd0e",
        "IPY_MODEL_2464ec474fd9495c934a98e51dde8fd1"
       ],
       "layout": "IPY_MODEL_a93fce5b91b84b3a8588d2376c6cf119"
      }
     },
     "298668e81a7a4611bc48c14cd856ae5f": {
      "model_module": "@jupyter-widgets/controls",
      "model_module_version": "1.5.0",
      "model_name": "DescriptionStyleModel",
      "state": {
       "description_width": ""
      }
     },
     "2b080d209c994de4acac57bb48aae074": {
      "model_module": "@jupyter-widgets/controls",
      "model_module_version": "1.5.0",
      "model_name": "CheckboxModel",
      "state": {
       "disabled": false,
       "layout": "IPY_MODEL_6eb15d7422dc40cbaaef5936234c39ba",
       "style": "IPY_MODEL_9fa2d56c70654167ab48fcb87c0b104a",
       "value": false
      }
     },
     "2c18b118949b4028af4d6f9ebcb1adad": {
      "model_module": "@jupyter-widgets/controls",
      "model_module_version": "1.5.0",
      "model_name": "HBoxModel",
      "state": {
       "children": [
        "IPY_MODEL_a74c13241d8e4fe09a99b992726e2152",
        "IPY_MODEL_efc97a78ba2f41419e004bdcd3fa3b2a"
       ],
       "layout": "IPY_MODEL_d57aae70d5f14d23b1753ca76449aea7"
      }
     },
     "2c937e592f344adca8f6b89fe29d0e86": {
      "model_module": "@jupyter-widgets/controls",
      "model_module_version": "1.5.0",
      "model_name": "DescriptionStyleModel",
      "state": {
       "description_width": ""
      }
     },
     "2cda76aa371c48e3b2389a02419dc4bf": {
      "model_module": "@jupyter-widgets/controls",
      "model_module_version": "1.5.0",
      "model_name": "HBoxModel",
      "state": {
       "children": [
        "IPY_MODEL_12a903ba19dd4b1db3eee3c1d165f79c",
        "IPY_MODEL_85c8fa8335ab4ba5bae04f77c769954a"
       ],
       "layout": "IPY_MODEL_6dfad984367e4e6db0276cf6fc7cfcee"
      }
     },
     "2d4e35db5e6d42bdae0e5499af9ce6a2": {
      "model_module": "@jupyter-widgets/controls",
      "model_module_version": "1.5.0",
      "model_name": "CheckboxModel",
      "state": {
       "disabled": false,
       "layout": "IPY_MODEL_5a87446935594e95b7dbebe8810ccd3f",
       "style": "IPY_MODEL_d7f669a220b0409694819e82e7da6821",
       "value": false
      }
     },
     "2d721c39639a4fccbc71f2d5b09f0d6d": {
      "model_module": "@jupyter-widgets/base",
      "model_module_version": "1.2.0",
      "model_name": "LayoutModel",
      "state": {
       "align_items": "stretch",
       "display": "flex",
       "flex_flow": "column",
       "width": "100%"
      }
     },
     "2db9ba4ce5714295b917779d1f7a600a": {
      "model_module": "@jupyter-widgets/controls",
      "model_module_version": "1.5.0",
      "model_name": "HBoxModel",
      "state": {
       "children": [
        "IPY_MODEL_764eb9c6fb6f4123b82fdaab693c9488",
        "IPY_MODEL_8eea5a7995e2424f957f07effb807112"
       ],
       "layout": "IPY_MODEL_0cbf397605914be8a930fc3ea8773ee1"
      }
     },
     "2dea1737adb7495bbe2d02cf56fc8b8f": {
      "model_module": "@jupyter-widgets/controls",
      "model_module_version": "1.5.0",
      "model_name": "DescriptionStyleModel",
      "state": {
       "description_width": ""
      }
     },
     "2e1f1008863842d6817be335dafcdf94": {
      "model_module": "@jupyter-widgets/controls",
      "model_module_version": "1.5.0",
      "model_name": "HTMLModel",
      "state": {
       "layout": "IPY_MODEL_2151ade06a944a5aa337a8d531266b5f",
       "style": "IPY_MODEL_70079e08066e40b68f76dee1f4bb1678",
       "value": "<style>p{word-wrap: break-word}</style> <p>Find all combinations of bottles that are not adjacent </p>"
      }
     },
     "2e86767b48254ff8a72647f96a158104": {
      "model_module": "@jupyter-widgets/controls",
      "model_module_version": "1.5.0",
      "model_name": "HTMLModel",
      "state": {
       "layout": "IPY_MODEL_b3d8948c14b741998844df79f673c859",
       "style": "IPY_MODEL_20347279d7c84d3192e6c1bcca0c2fe0",
       "value": "<style>p{word-wrap: break-word}</style> <p>base case: solve(0) = 0, solve(1) = v(1), solve(2) = max{solve(1), solve(2)} </p>"
      }
     },
     "2ef9ba95f2ad4fc79c922eda175b991d": {
      "model_module": "@jupyter-widgets/controls",
      "model_module_version": "1.5.0",
      "model_name": "HTMLModel",
      "state": {
       "layout": "IPY_MODEL_f7dcfdbba32e47af9fadf679565f0cab",
       "style": "IPY_MODEL_84d6cb319f4b4df79939c6f3b2f22ec2",
       "value": "<style>p{word-wrap: break-word}</style> <p>Find a combination of bottles that are not adjacent and yield maximum volume </p>"
      }
     },
     "2f51018ac03b4754a2bf2a6046e39a65": {
      "model_module": "@jupyter-widgets/controls",
      "model_module_version": "1.5.0",
      "model_name": "HBoxModel",
      "state": {
       "children": [
        "IPY_MODEL_bdffd92af6194d789156e93bdef1fa12",
        "IPY_MODEL_2ef9ba95f2ad4fc79c922eda175b991d"
       ],
       "layout": "IPY_MODEL_56cdb6ee7ecb4901922c69de2fb4e76e"
      }
     },
     "307d48c55e90488e99956174cb0cf28d": {
      "model_module": "@jupyter-widgets/base",
      "model_module_version": "1.2.0",
      "model_name": "LayoutModel",
      "state": {
       "align_items": "stretch",
       "display": "flex",
       "flex_flow": "row wrap",
       "width": "auto"
      }
     },
     "307eabc18eae4a8092872469010dbbfd": {
      "model_module": "@jupyter-widgets/controls",
      "model_module_version": "1.5.0",
      "model_name": "HBoxModel",
      "state": {
       "children": [
        "IPY_MODEL_61eba120d5aa43728270872662adb411",
        "IPY_MODEL_926a241a9fab408fb8f53599eaf49be7",
        "IPY_MODEL_7350409c95df46a5bf721a632c623524"
       ],
       "layout": "IPY_MODEL_7810824c7dac4ddaa02e25bb4f516898"
      }
     },
     "308624c41cdf4d9eaf35e24cc9be034c": {
      "model_module": "@jupyter-widgets/controls",
      "model_module_version": "1.5.0",
      "model_name": "DescriptionStyleModel",
      "state": {
       "description_width": ""
      }
     },
     "30a1253629b048e3b62b900b2a913da0": {
      "model_module": "@jupyter-widgets/base",
      "model_module_version": "1.2.0",
      "model_name": "LayoutModel",
      "state": {
       "width": "30px"
      }
     },
     "30b629308dbd4801b4a0eeee12c18289": {
      "model_module": "@jupyter-widgets/controls",
      "model_module_version": "1.5.0",
      "model_name": "DescriptionStyleModel",
      "state": {
       "description_width": ""
      }
     },
     "31425a6a684d4345a00a67114b2271e6": {
      "model_module": "@jupyter-widgets/base",
      "model_module_version": "1.2.0",
      "model_name": "LayoutModel",
      "state": {
       "align_items": "stretch",
       "display": "flex",
       "flex_flow": "row wrap",
       "width": "auto"
      }
     },
     "31b0750e67a846e39671f8119d8b9517": {
      "model_module": "@jupyter-widgets/controls",
      "model_module_version": "1.5.0",
      "model_name": "DescriptionStyleModel",
      "state": {
       "description_width": ""
      }
     },
     "32188825085d492091421fd48a264e05": {
      "model_module": "@jupyter-widgets/controls",
      "model_module_version": "1.5.0",
      "model_name": "DescriptionStyleModel",
      "state": {
       "description_width": ""
      }
     },
     "3242c50951204acb86c489765b22ca11": {
      "model_module": "@jupyter-widgets/base",
      "model_module_version": "1.2.0",
      "model_name": "LayoutModel",
      "state": {
       "align_items": "stretch",
       "display": "flex",
       "flex_flow": "row wrap",
       "width": "auto"
      }
     },
     "344c767622264733b935fe063b9462ac": {
      "model_module": "@jupyter-widgets/controls",
      "model_module_version": "1.5.0",
      "model_name": "DescriptionStyleModel",
      "state": {
       "description_width": ""
      }
     },
     "345d70a8239b411a954696e5edab389c": {
      "model_module": "@jupyter-widgets/base",
      "model_module_version": "1.2.0",
      "model_name": "LayoutModel",
      "state": {}
     },
     "347d587a02bf4c71a32d86c5181fe68d": {
      "model_module": "@jupyter-widgets/controls",
      "model_module_version": "1.5.0",
      "model_name": "DescriptionStyleModel",
      "state": {
       "description_width": ""
      }
     },
     "3595a22889c648a5bd653ed5924ffd01": {
      "model_module": "@jupyter-widgets/controls",
      "model_module_version": "1.5.0",
      "model_name": "DescriptionStyleModel",
      "state": {
       "description_width": ""
      }
     },
     "36ade41caca149ef9a1f5d1a6693f91e": {
      "model_module": "@jupyter-widgets/controls",
      "model_module_version": "1.5.0",
      "model_name": "DescriptionStyleModel",
      "state": {
       "description_width": ""
      }
     },
     "3716f8b6c01a4fa2a25770360753f98e": {
      "model_module": "@jupyter-widgets/base",
      "model_module_version": "1.2.0",
      "model_name": "LayoutModel",
      "state": {
       "align_items": "stretch",
       "display": "flex",
       "flex_flow": "row wrap",
       "width": "auto"
      }
     },
     "3849ed5006524eb199bcc446b6784102": {
      "model_module": "@jupyter-widgets/base",
      "model_module_version": "1.2.0",
      "model_name": "LayoutModel",
      "state": {
       "align_items": "stretch",
       "display": "flex",
       "flex_flow": "row wrap",
       "width": "auto"
      }
     },
     "38656f6ced9942dbbe0aefba96fd3b4d": {
      "model_module": "@jupyter-widgets/base",
      "model_module_version": "1.2.0",
      "model_name": "LayoutModel",
      "state": {
       "align_items": "stretch",
       "display": "flex",
       "flex_flow": "row wrap",
       "width": "auto"
      }
     },
     "3879e5b9ce3d43e6b61b4ac1b95fd356": {
      "model_module": "@jupyter-widgets/controls",
      "model_module_version": "1.5.0",
      "model_name": "ButtonModel",
      "state": {
       "description": "Submit",
       "layout": "IPY_MODEL_47d799550af74ad58f8f4d102ee85ee0",
       "style": "IPY_MODEL_67ae1123591046c1861fa17281d00e68"
      }
     },
     "38d7fe59ceb146a69d11cf789369db2e": {
      "model_module": "@jupyter-widgets/controls",
      "model_module_version": "1.5.0",
      "model_name": "DescriptionStyleModel",
      "state": {
       "description_width": "initial"
      }
     },
     "3a022126f5ca410d91f5aee957c6475d": {
      "model_module": "@jupyter-widgets/controls",
      "model_module_version": "1.5.0",
      "model_name": "LabelModel",
      "state": {
       "layout": "IPY_MODEL_9c171c48a503442a95372df81095361a",
       "style": "IPY_MODEL_4136e95646924bfd98241a625e66a858"
      }
     },
     "3b5ce3f8e2994a219721177b46dd16e1": {
      "model_module": "@jupyter-widgets/controls",
      "model_module_version": "1.5.0",
      "model_name": "ButtonStyleModel",
      "state": {
       "button_color": "#4DD0E1"
      }
     },
     "3b773b76db2949db8c33672870850b50": {
      "model_module": "@jupyter-widgets/base",
      "model_module_version": "1.2.0",
      "model_name": "LayoutModel",
      "state": {}
     },
     "3bdad8a9087240db969dfd30411fd48a": {
      "model_module": "@jupyter-widgets/controls",
      "model_module_version": "1.5.0",
      "model_name": "HBoxModel",
      "state": {
       "children": [
        "IPY_MODEL_16943a5483de4f5db705b56333689bb9",
        "IPY_MODEL_e7d25c3ad2cb41a58b825204986eb919"
       ],
       "layout": "IPY_MODEL_6a9d0e04d0974f729955d35f557f5e58"
      }
     },
     "3c5bb70eb9eb4dab80f233bfa38f5189": {
      "model_module": "@jupyter-widgets/controls",
      "model_module_version": "1.5.0",
      "model_name": "ButtonStyleModel",
      "state": {
       "button_color": "#4DD0E1"
      }
     },
     "3c7f4c1d640f45a5994d2c8eb629ff23": {
      "model_module": "@jupyter-widgets/controls",
      "model_module_version": "1.5.0",
      "model_name": "LabelModel",
      "state": {
       "layout": "IPY_MODEL_b267f50d6f7345fe8399545b5575440d",
       "style": "IPY_MODEL_fe15d09c970a41edb8ff46da0ee4161d"
      }
     },
     "3c98c0c700544b76a3e5019e0e83def8": {
      "model_module": "@jupyter-widgets/base",
      "model_module_version": "1.2.0",
      "model_name": "LayoutModel",
      "state": {}
     },
     "3ca4cc1e3bb0461dba87775b3defcb4c": {
      "model_module": "@jupyter-widgets/base",
      "model_module_version": "1.2.0",
      "model_name": "LayoutModel",
      "state": {}
     },
     "3d3b03a89bd64cd6a424fc768f70684a": {
      "model_module": "@jupyter-widgets/controls",
      "model_module_version": "1.5.0",
      "model_name": "VBoxModel",
      "state": {
       "children": [
        "IPY_MODEL_d88a3ff63a6d43918ef05eddf5134f65",
        "IPY_MODEL_84e82e632b824404a2595d1f1f66718f",
        "IPY_MODEL_66496e554d394325a456df052317e069"
       ],
       "layout": "IPY_MODEL_d39fe5927e4c4eb4bc20c4c75cadcacd"
      }
     },
     "3d5d8699eaff4aae8119cc2c82cd7e87": {
      "model_module": "@jupyter-widgets/controls",
      "model_module_version": "1.5.0",
      "model_name": "CheckboxModel",
      "state": {
       "disabled": false,
       "layout": "IPY_MODEL_a8cce054e3e04830a535745d406f2cad",
       "style": "IPY_MODEL_c1e92565f15843cc9e3c47990183f076",
       "value": false
      }
     },
     "3dee76b2f003409983530d43e6105c96": {
      "model_module": "@jupyter-widgets/controls",
      "model_module_version": "1.5.0",
      "model_name": "DescriptionStyleModel",
      "state": {
       "description_width": ""
      }
     },
     "3e1c299d88ae47e48b8c55ed1974b9af": {
      "model_module": "@jupyter-widgets/base",
      "model_module_version": "1.2.0",
      "model_name": "LayoutModel",
      "state": {
       "display": "flex",
       "flex_flow": "row",
       "justify_content": "space-between",
       "margin": "0 0 20px 0"
      }
     },
     "3e5d24b8f1dc4fc781bade3ccc0e7100": {
      "model_module": "@jupyter-widgets/base",
      "model_module_version": "1.2.0",
      "model_name": "LayoutModel",
      "state": {}
     },
     "3e74f467c77a4123b1a802ca5b144e45": {
      "model_module": "@jupyter-widgets/controls",
      "model_module_version": "1.5.0",
      "model_name": "HTMLModel",
      "state": {
       "layout": "IPY_MODEL_3b773b76db2949db8c33672870850b50",
       "style": "IPY_MODEL_a102f5602ee9464c9d5450fbd53e582b",
       "value": "<style>p{word-wrap: break-word}</style> <p>If solve(k) is the maximum amount you can drink from the first k bottles, and v(n) is the volume of the n'th bottle, which definitions below are part of the recurrence relation? </p>"
      }
     },
     "3f8ac0bb1bdc4a3db6d61c01f58bb89c": {
      "model_module": "@jupyter-widgets/controls",
      "model_module_version": "1.5.0",
      "model_name": "HBoxModel",
      "state": {
       "children": [
        "IPY_MODEL_eb1ec032289f4ce0b60007fcbe691e16",
        "IPY_MODEL_2e86767b48254ff8a72647f96a158104"
       ],
       "layout": "IPY_MODEL_5869133089974ccab55f2bda0ed02965"
      }
     },
     "3fcedabb786c4b71a0c45496e230d279": {
      "model_module": "@jupyter-widgets/controls",
      "model_module_version": "1.5.0",
      "model_name": "DescriptionStyleModel",
      "state": {
       "description_width": ""
      }
     },
     "406205a63c8c4817a9726136919656ea": {
      "model_module": "@jupyter-widgets/controls",
      "model_module_version": "1.5.0",
      "model_name": "ButtonStyleModel",
      "state": {
       "button_color": "#4DD0E1"
      }
     },
     "4136e95646924bfd98241a625e66a858": {
      "model_module": "@jupyter-widgets/controls",
      "model_module_version": "1.5.0",
      "model_name": "DescriptionStyleModel",
      "state": {
       "description_width": ""
      }
     },
     "414b22f521bf45a39c49aa38ae50d4d4": {
      "model_module": "@jupyter-widgets/base",
      "model_module_version": "1.2.0",
      "model_name": "LayoutModel",
      "state": {
       "display": "flex",
       "flex_flow": "row",
       "justify_content": "space-between",
       "margin": "0 0 20px 0"
      }
     },
     "4172044ad38442d4988993e255a436f1": {
      "model_module": "@jupyter-widgets/base",
      "model_module_version": "1.2.0",
      "model_name": "LayoutModel",
      "state": {
       "align_items": "stretch",
       "display": "flex",
       "flex_flow": "row wrap",
       "width": "auto"
      }
     },
     "417e4c0e661143f3878ca8c849d7140e": {
      "model_module": "@jupyter-widgets/controls",
      "model_module_version": "1.5.0",
      "model_name": "DescriptionStyleModel",
      "state": {
       "description_width": "initial"
      }
     },
     "44d6712b6d2748fba415c1d438574d92": {
      "model_module": "@jupyter-widgets/controls",
      "model_module_version": "1.5.0",
      "model_name": "HTMLModel",
      "state": {
       "layout": "IPY_MODEL_e6b9c73b5c2f4b16a5ba7c40b6a7fbf5",
       "style": "IPY_MODEL_fa8f05c63f2b4de9a477097b523906c4",
       "value": "<style>p{word-wrap: break-word}</style> <p>recurrence: solve(n) = max{v(n) + solve(n-2), solve(n-1)} </p>"
      }
     },
     "455f029f34bd4a63b620ddffbc59afb9": {
      "model_module": "@jupyter-widgets/base",
      "model_module_version": "1.2.0",
      "model_name": "LayoutModel",
      "state": {}
     },
     "458bbf0072ec46b9983f097bf3e00af4": {
      "model_module": "@jupyter-widgets/controls",
      "model_module_version": "1.5.0",
      "model_name": "DescriptionStyleModel",
      "state": {
       "description_width": ""
      }
     },
     "46286719457045fab0bd1186796f302e": {
      "model_module": "@jupyter-widgets/controls",
      "model_module_version": "1.5.0",
      "model_name": "DescriptionStyleModel",
      "state": {
       "description_width": "initial"
      }
     },
     "46ba2afb41d14976abc253612614c57e": {
      "model_module": "@jupyter-widgets/controls",
      "model_module_version": "1.5.0",
      "model_name": "DescriptionStyleModel",
      "state": {
       "description_width": ""
      }
     },
     "470bcd69449b4b9db5c54490b250cd7b": {
      "model_module": "@jupyter-widgets/base",
      "model_module_version": "1.2.0",
      "model_name": "LayoutModel",
      "state": {
       "align_items": "stretch",
       "display": "flex",
       "flex_flow": "row wrap",
       "width": "auto"
      }
     },
     "474cd8339ce7460facaf7d70bdbf7c68": {
      "model_module": "@jupyter-widgets/base",
      "model_module_version": "1.2.0",
      "model_name": "LayoutModel",
      "state": {}
     },
     "475a12f263b64593b600c479cd581035": {
      "model_module": "@jupyter-widgets/controls",
      "model_module_version": "1.5.0",
      "model_name": "HTMLModel",
      "state": {
       "layout": "IPY_MODEL_49fb9688e21344b4a6c0d5dc43198c43",
       "style": "IPY_MODEL_c9f337683dd5470fa7c7051c39ba3376",
       "value": "<style>p{word-wrap: break-word}</style> <p>Find all combinations of bottles that are adjacent </p>"
      }
     },
     "47d799550af74ad58f8f4d102ee85ee0": {
      "model_module": "@jupyter-widgets/base",
      "model_module_version": "1.2.0",
      "model_name": "LayoutModel",
      "state": {}
     },
     "47e8d6ee317e43d8894698c795389ef2": {
      "model_module": "@jupyter-widgets/controls",
      "model_module_version": "1.5.0",
      "model_name": "LabelModel",
      "state": {
       "layout": "IPY_MODEL_cddab054b00443fb809bd73bcffbfd2e",
       "style": "IPY_MODEL_fff7d37ebec34f649e4187a8c7f00d43"
      }
     },
     "490ee705f5b34beba02a9b5d4e2d01b2": {
      "model_module": "@jupyter-widgets/controls",
      "model_module_version": "1.5.0",
      "model_name": "DescriptionStyleModel",
      "state": {
       "description_width": "initial"
      }
     },
     "49315f49c8384752ac283ca0d8392372": {
      "model_module": "@jupyter-widgets/controls",
      "model_module_version": "1.5.0",
      "model_name": "ButtonStyleModel",
      "state": {
       "button_color": "#4DD0E1"
      }
     },
     "4985b57765c94f378253eb14c544c241": {
      "model_module": "@jupyter-widgets/controls",
      "model_module_version": "1.5.0",
      "model_name": "CheckboxModel",
      "state": {
       "disabled": false,
       "layout": "IPY_MODEL_18c4f8157905407a981845e1e3418bdf",
       "style": "IPY_MODEL_417e4c0e661143f3878ca8c849d7140e",
       "value": false
      }
     },
     "49fb9688e21344b4a6c0d5dc43198c43": {
      "model_module": "@jupyter-widgets/base",
      "model_module_version": "1.2.0",
      "model_name": "LayoutModel",
      "state": {}
     },
     "4a6078b6d71741f2ad6b216fedf2483a": {
      "model_module": "@jupyter-widgets/base",
      "model_module_version": "1.2.0",
      "model_name": "LayoutModel",
      "state": {
       "align_items": "stretch",
       "display": "flex",
       "flex_flow": "row wrap",
       "width": "auto"
      }
     },
     "4aa6f45143db437f9ccbd2db6747649a": {
      "model_module": "@jupyter-widgets/controls",
      "model_module_version": "1.5.0",
      "model_name": "DescriptionStyleModel",
      "state": {
       "description_width": "initial"
      }
     },
     "4b128dae822a4615a4cc36be5d58aab8": {
      "model_module": "@jupyter-widgets/base",
      "model_module_version": "1.2.0",
      "model_name": "LayoutModel",
      "state": {
       "width": "30px"
      }
     },
     "4bee475e91974952b08ef14671f9dca8": {
      "model_module": "@jupyter-widgets/controls",
      "model_module_version": "1.5.0",
      "model_name": "DescriptionStyleModel",
      "state": {
       "description_width": ""
      }
     },
     "4c372581324449718739892e36aef386": {
      "model_module": "@jupyter-widgets/base",
      "model_module_version": "1.2.0",
      "model_name": "LayoutModel",
      "state": {}
     },
     "4ca9a9650d5747d8ae3d6859b5462886": {
      "model_module": "@jupyter-widgets/controls",
      "model_module_version": "1.5.0",
      "model_name": "ButtonModel",
      "state": {
       "description": "Submit",
       "layout": "IPY_MODEL_71bf5a6957534eae9c1629d9bf75abac",
       "style": "IPY_MODEL_e0189ab19c124d7e8e7d4de81f9d6d92"
      }
     },
     "4d415fbd20fa4289aa2860ab6e75bb1c": {
      "model_module": "@jupyter-widgets/base",
      "model_module_version": "1.2.0",
      "model_name": "LayoutModel",
      "state": {}
     },
     "4d6fce767b0f4f02b49c5fca1c187f81": {
      "model_module": "@jupyter-widgets/controls",
      "model_module_version": "1.5.0",
      "model_name": "HBoxModel",
      "state": {
       "children": [
        "IPY_MODEL_990aca544ef34a20945a24fc921992db",
        "IPY_MODEL_cdfdd56fbb3d40ce9777d623c2f10314"
       ],
       "layout": "IPY_MODEL_c1cf933487ab4306ad2e227dbada8064"
      }
     },
     "4d8e6b21ab654a45937251651ce9f0b9": {
      "model_module": "@jupyter-widgets/base",
      "model_module_version": "1.2.0",
      "model_name": "LayoutModel",
      "state": {}
     },
     "4da6456a13564009b93057c982cd5367": {
      "model_module": "@jupyter-widgets/base",
      "model_module_version": "1.2.0",
      "model_name": "LayoutModel",
      "state": {
       "align_items": "stretch",
       "display": "flex",
       "flex_flow": "row wrap",
       "width": "auto"
      }
     },
     "4e9f9b012bdc4c09a9757a22a8aa8c53": {
      "model_module": "@jupyter-widgets/controls",
      "model_module_version": "1.5.0",
      "model_name": "HBoxModel",
      "state": {
       "children": [
        "IPY_MODEL_4985b57765c94f378253eb14c544c241",
        "IPY_MODEL_26e106c966b74219953547845fe77aa0"
       ],
       "layout": "IPY_MODEL_3849ed5006524eb199bcc446b6784102"
      }
     },
     "5010a688b5934f24a44946da37e80461": {
      "model_module": "@jupyter-widgets/base",
      "model_module_version": "1.2.0",
      "model_name": "LayoutModel",
      "state": {}
     },
     "51032db87d784d09bbc5bbf37271d4a2": {
      "model_module": "@jupyter-widgets/base",
      "model_module_version": "1.2.0",
      "model_name": "LayoutModel",
      "state": {}
     },
     "51096907c63d4f3594b466fc4ff8c521": {
      "model_module": "@jupyter-widgets/controls",
      "model_module_version": "1.5.0",
      "model_name": "CheckboxModel",
      "state": {
       "disabled": false,
       "layout": "IPY_MODEL_86b21adf5bc6440292dbc7b627070856",
       "style": "IPY_MODEL_46286719457045fab0bd1186796f302e",
       "value": false
      }
     },
     "51d31314eb214c019419cb8e496a63d9": {
      "model_module": "@jupyter-widgets/base",
      "model_module_version": "1.2.0",
      "model_name": "LayoutModel",
      "state": {
       "align_items": "stretch",
       "display": "flex",
       "flex_flow": "row wrap",
       "width": "auto"
      }
     },
     "51f2c6a1f93244afb540cdec95108369": {
      "model_module": "@jupyter-widgets/controls",
      "model_module_version": "1.5.0",
      "model_name": "ButtonModel",
      "state": {
       "description": "Submit",
       "layout": "IPY_MODEL_053dfb8b27444fca980a044e243785c0",
       "style": "IPY_MODEL_3b5ce3f8e2994a219721177b46dd16e1"
      }
     },
     "525b3fc966a74a36b07e2238cff3ba59": {
      "model_module": "@jupyter-widgets/controls",
      "model_module_version": "1.5.0",
      "model_name": "HBoxModel",
      "state": {
       "children": [
        "IPY_MODEL_b2bc9ac6ff834899a72959c685681754",
        "IPY_MODEL_0751dbab58c2431d978a94f8b4b57ec7"
       ],
       "layout": "IPY_MODEL_d65b006d2a43435da350b10c3b44597b"
      }
     },
     "52685172f11d4dff94bc14bc42057df7": {
      "model_module": "@jupyter-widgets/controls",
      "model_module_version": "1.5.0",
      "model_name": "DescriptionStyleModel",
      "state": {
       "description_width": "initial"
      }
     },
     "52954ec6b35f41c4811787ca7c29a8ed": {
      "model_module": "@jupyter-widgets/controls",
      "model_module_version": "1.5.0",
      "model_name": "HBoxModel",
      "state": {
       "children": [
        "IPY_MODEL_cb95f51ca7cb4f4c875d75c35114a22e",
        "IPY_MODEL_c2b8bd5b8cf54bf686147a5d74761702"
       ],
       "layout": "IPY_MODEL_3716f8b6c01a4fa2a25770360753f98e"
      }
     },
     "52ad3207eaab46688a4e550852e667f4": {
      "model_module": "@jupyter-widgets/base",
      "model_module_version": "1.2.0",
      "model_name": "LayoutModel",
      "state": {}
     },
     "52d5a0d7aff64a5483cff3b3c3c3a6e5": {
      "model_module": "@jupyter-widgets/controls",
      "model_module_version": "1.5.0",
      "model_name": "HTMLModel",
      "state": {
       "layout": "IPY_MODEL_21942b6fa06c40388d9d4360de358b59",
       "style": "IPY_MODEL_e033e0dd7d17405ab13bf4ccb08c7692",
       "value": "<style>p{word-wrap: break-word}</style> <p>In our example of the drinking game with 8 bottles ... </p>"
      }
     },
     "5346336be2ba478c9ae829e7a41ce390": {
      "model_module": "@jupyter-widgets/controls",
      "model_module_version": "1.5.0",
      "model_name": "VBoxModel",
      "state": {
       "box_style": "info",
       "children": [
        "IPY_MODEL_aa68823ec12d4c5ba6157d3e1b146271",
        "IPY_MODEL_c4861c159d92403b9f97f0b181db8227",
        "IPY_MODEL_983d2d5c46d0485e8f0f4dd1d630d693"
       ],
       "layout": "IPY_MODEL_07aee0582d9c4b0f8907d01c8f4a557c"
      }
     },
     "53d9f812c44147e2b4dab21470b417fb": {
      "model_module": "@jupyter-widgets/controls",
      "model_module_version": "1.5.0",
      "model_name": "HBoxModel",
      "state": {
       "children": [
        "IPY_MODEL_c04f9f6191aa47f6b61cec3cebdeb15f",
        "IPY_MODEL_44d6712b6d2748fba415c1d438574d92"
       ],
       "layout": "IPY_MODEL_6977e4b5262c43029264b577bed289e2"
      }
     },
     "53fceb8b39ee42b784ce62e78be43957": {
      "model_module": "@jupyter-widgets/base",
      "model_module_version": "1.2.0",
      "model_name": "LayoutModel",
      "state": {}
     },
     "54433dcca7034d5c97373dcd65a1f57a": {
      "model_module": "@jupyter-widgets/base",
      "model_module_version": "1.2.0",
      "model_name": "LayoutModel",
      "state": {}
     },
     "559f5be6facc49808e286c9b68790fa4": {
      "model_module": "@jupyter-widgets/base",
      "model_module_version": "1.2.0",
      "model_name": "LayoutModel",
      "state": {}
     },
     "55ce8e8a990f4346b47b897eaa029d5c": {
      "model_module": "@jupyter-widgets/base",
      "model_module_version": "1.2.0",
      "model_name": "LayoutModel",
      "state": {
       "align_items": "stretch",
       "display": "flex",
       "flex_flow": "column",
       "width": "100%"
      }
     },
     "564101e849fc48a693ce94ca68b69657": {
      "model_module": "@jupyter-widgets/base",
      "model_module_version": "1.2.0",
      "model_name": "LayoutModel",
      "state": {
       "display": "flex",
       "flex_flow": "row",
       "justify_content": "space-between",
       "margin": "0 0 20px 0"
      }
     },
     "56b51585c9cc4481a3d7f9a05124a677": {
      "model_module": "@jupyter-widgets/base",
      "model_module_version": "1.2.0",
      "model_name": "LayoutModel",
      "state": {
       "align_items": "stretch",
       "display": "flex",
       "flex_flow": "row wrap",
       "margin": "30px 0 0 0"
      }
     },
     "56cdb6ee7ecb4901922c69de2fb4e76e": {
      "model_module": "@jupyter-widgets/base",
      "model_module_version": "1.2.0",
      "model_name": "LayoutModel",
      "state": {
       "align_items": "stretch",
       "display": "flex",
       "flex_flow": "row wrap",
       "width": "auto"
      }
     },
     "5776cfbebfb04c1898fe699b252d9daa": {
      "model_module": "@jupyter-widgets/controls",
      "model_module_version": "1.5.0",
      "model_name": "HBoxModel",
      "state": {
       "children": [
        "IPY_MODEL_16e91517f50d4bf5a4331a6897ccf309"
       ],
       "layout": "IPY_MODEL_ad03624aba8e48bbb758fafceb225bb4"
      }
     },
     "5805d2f17c71413db675da8369969f25": {
      "model_module": "@jupyter-widgets/controls",
      "model_module_version": "1.5.0",
      "model_name": "DescriptionStyleModel",
      "state": {
       "description_width": "initial"
      }
     },
     "5869133089974ccab55f2bda0ed02965": {
      "model_module": "@jupyter-widgets/base",
      "model_module_version": "1.2.0",
      "model_name": "LayoutModel",
      "state": {
       "align_items": "stretch",
       "display": "flex",
       "flex_flow": "row wrap",
       "width": "auto"
      }
     },
     "591127d06aa04c4eafcc0d1398165836": {
      "model_module": "@jupyter-widgets/controls",
      "model_module_version": "1.5.0",
      "model_name": "TextModel",
      "state": {
       "layout": "IPY_MODEL_7db9bc54dcfd4b91852f32f74045f429",
       "placeholder": "",
       "style": "IPY_MODEL_3595a22889c648a5bd653ed5924ffd01"
      }
     },
     "59eddb9db10a465196baa6a899dc74c4": {
      "model_module": "@jupyter-widgets/controls",
      "model_module_version": "1.5.0",
      "model_name": "HTMLModel",
      "state": {
       "layout": "IPY_MODEL_77da522423b344839f1250fb0588f70b",
       "style": "IPY_MODEL_d15f623d945f498197d0dcdb8e42c609",
       "value": "<style>p{word-wrap: break-word}</style> <p>Which statement about the recurrence relation is true of the drinking game problem? </p>"
      }
     },
     "5a7abb6cae654d65b7ffe647e3efb00c": {
      "model_module": "@jupyter-widgets/controls",
      "model_module_version": "1.5.0",
      "model_name": "VBoxModel",
      "state": {
       "children": [
        "IPY_MODEL_8503439131d7441ca5e8a0dba2e5441c",
        "IPY_MODEL_525b3fc966a74a36b07e2238cff3ba59",
        "IPY_MODEL_4d6fce767b0f4f02b49c5fca1c187f81",
        "IPY_MODEL_a4aabd5d4b9747c297b2c9f0ac0b5967",
        "IPY_MODEL_e4cae4413af240bd8d8849332124c831"
       ],
       "layout": "IPY_MODEL_5c2eb7f3192a425695ead32094a1392c"
      }
     },
     "5a87446935594e95b7dbebe8810ccd3f": {
      "model_module": "@jupyter-widgets/base",
      "model_module_version": "1.2.0",
      "model_name": "LayoutModel",
      "state": {
       "width": "30px"
      }
     },
     "5af332f751f744d190dc62351ef01144": {
      "model_module": "@jupyter-widgets/base",
      "model_module_version": "1.2.0",
      "model_name": "LayoutModel",
      "state": {
       "align_items": "stretch",
       "display": "flex",
       "flex_flow": "row wrap",
       "width": "auto"
      }
     },
     "5b0eab1251b64ec6b8bcceda8577a658": {
      "model_module": "@jupyter-widgets/base",
      "model_module_version": "1.2.0",
      "model_name": "LayoutModel",
      "state": {
       "width": "30px"
      }
     },
     "5bce17c451254d61bd76463d79a76a6d": {
      "model_module": "@jupyter-widgets/base",
      "model_module_version": "1.2.0",
      "model_name": "LayoutModel",
      "state": {}
     },
     "5c2c9dc379e2481e81fe0c37b0eea177": {
      "model_module": "@jupyter-widgets/controls",
      "model_module_version": "1.5.0",
      "model_name": "CheckboxModel",
      "state": {
       "disabled": false,
       "layout": "IPY_MODEL_6dbf3eb9ef3249eaa7d29cbc964d8330",
       "style": "IPY_MODEL_b8a963586c03483aa0edf162fbbb03d5",
       "value": false
      }
     },
     "5c2eb7f3192a425695ead32094a1392c": {
      "model_module": "@jupyter-widgets/base",
      "model_module_version": "1.2.0",
      "model_name": "LayoutModel",
      "state": {
       "align_items": "stretch",
       "display": "flex",
       "flex_flow": "column",
       "width": "100%"
      }
     },
     "5ce20d03f30f4f7aa21568ed4a1df228": {
      "model_module": "@jupyter-widgets/controls",
      "model_module_version": "1.5.0",
      "model_name": "DescriptionStyleModel",
      "state": {
       "description_width": ""
      }
     },
     "5d529d4da2d44d4db092166309cb9fb5": {
      "model_module": "@jupyter-widgets/base",
      "model_module_version": "1.2.0",
      "model_name": "LayoutModel",
      "state": {}
     },
     "5ea9f32155c448bcb8ee520d751c6571": {
      "model_module": "@jupyter-widgets/controls",
      "model_module_version": "1.5.0",
      "model_name": "LabelModel",
      "state": {
       "layout": "IPY_MODEL_6e9bb489b7324851825b1234845c9ee9",
       "style": "IPY_MODEL_fe36ad49fdb947509f09e1f07c193729"
      }
     },
     "5ee5e2d91f8341fa90b3c2c9221b379a": {
      "model_module": "@jupyter-widgets/base",
      "model_module_version": "1.2.0",
      "model_name": "LayoutModel",
      "state": {}
     },
     "5f725a340582446fbcee8f5b5ed4e1fc": {
      "model_module": "@jupyter-widgets/controls",
      "model_module_version": "1.5.0",
      "model_name": "CheckboxModel",
      "state": {
       "disabled": false,
       "layout": "IPY_MODEL_b7fa4e31003c4e7a894eaa1eb786fed3",
       "style": "IPY_MODEL_4aa6f45143db437f9ccbd2db6747649a",
       "value": false
      }
     },
     "5f7e86e57f954923b3bc6ffbff71472a": {
      "model_module": "@jupyter-widgets/controls",
      "model_module_version": "1.5.0",
      "model_name": "HBoxModel",
      "state": {
       "children": [
        "IPY_MODEL_ccbc238deea74bb48d19aaad9665746d",
        "IPY_MODEL_b36b2cb7d42641afa63f7e1a08c8b77c"
       ],
       "layout": "IPY_MODEL_ff9fd6656d2e41fca159370a22ceae08"
      }
     },
     "6088a30d373c49a2a8937e2fbec3cdde": {
      "model_module": "@jupyter-widgets/controls",
      "model_module_version": "1.5.0",
      "model_name": "CheckboxModel",
      "state": {
       "disabled": false,
       "layout": "IPY_MODEL_800e7d401fe74e16b8990ec7f1e3d604",
       "style": "IPY_MODEL_52685172f11d4dff94bc14bc42057df7",
       "value": false
      }
     },
     "60933395a69f49bdba1ce26f06007a51": {
      "model_module": "@jupyter-widgets/base",
      "model_module_version": "1.2.0",
      "model_name": "LayoutModel",
      "state": {
       "width": "30px"
      }
     },
     "61189ff1f53946b7a73c8aaf96abc79e": {
      "model_module": "@jupyter-widgets/base",
      "model_module_version": "1.2.0",
      "model_name": "LayoutModel",
      "state": {
       "align_items": "stretch",
       "display": "flex",
       "flex_flow": "row wrap",
       "width": "auto"
      }
     },
     "6158ec0862b3482eaf50891be9a1edc8": {
      "model_module": "@jupyter-widgets/controls",
      "model_module_version": "1.5.0",
      "model_name": "DescriptionStyleModel",
      "state": {
       "description_width": ""
      }
     },
     "615fdef9f27448a693d4e37820b0dff8": {
      "model_module": "@jupyter-widgets/controls",
      "model_module_version": "1.5.0",
      "model_name": "DescriptionStyleModel",
      "state": {
       "description_width": ""
      }
     },
     "61a2dadc099b4189b3486d0fa36d6d0a": {
      "model_module": "@jupyter-widgets/controls",
      "model_module_version": "1.5.0",
      "model_name": "ButtonStyleModel",
      "state": {
       "button_color": "#4DD0E1"
      }
     },
     "61eba120d5aa43728270872662adb411": {
      "model_module": "@jupyter-widgets/controls",
      "model_module_version": "1.5.0",
      "model_name": "ButtonModel",
      "state": {
       "description": "Submit",
       "layout": "IPY_MODEL_873b8d31f29e43b98660b97b4ede0632",
       "style": "IPY_MODEL_86936aac494c407ba7b700f193ac0e22"
      }
     },
     "627d40a8144846d5b567ae46e9bff1ea": {
      "model_module": "@jupyter-widgets/controls",
      "model_module_version": "1.5.0",
      "model_name": "DescriptionStyleModel",
      "state": {
       "description_width": ""
      }
     },
     "628c8dcd78a94da098d3b2862666b8d7": {
      "model_module": "@jupyter-widgets/controls",
      "model_module_version": "1.5.0",
      "model_name": "ButtonModel",
      "state": {
       "description": "Show answer",
       "disabled": true,
       "layout": "IPY_MODEL_a5cc0676536045678d32c3d24a652fd9",
       "style": "IPY_MODEL_72512d3f17c149c38b7b1d75705c3b83"
      }
     },
     "63080ce24aa247bc9a9d52f535ae69b4": {
      "model_module": "@jupyter-widgets/controls",
      "model_module_version": "1.5.0",
      "model_name": "HBoxModel",
      "state": {
       "children": [
        "IPY_MODEL_4ca9a9650d5747d8ae3d6859b5462886",
        "IPY_MODEL_740464f159534a958850df6c79e2b1f4",
        "IPY_MODEL_03a6e720e5db4e8baeeddd6f317f754a"
       ],
       "layout": "IPY_MODEL_a6856f5e692c4309960d1142a05e3343"
      }
     },
     "63d389e2778843159cff0b26d326e715": {
      "model_module": "@jupyter-widgets/controls",
      "model_module_version": "1.5.0",
      "model_name": "HBoxModel",
      "state": {
       "children": [
        "IPY_MODEL_91f784d346ad4793aa75d86abc271567",
        "IPY_MODEL_20e55a2636f3472e988299e701edfc1c",
        "IPY_MODEL_9df7cf77db974f91be386795753b4c84"
       ],
       "layout": "IPY_MODEL_16ab79ee67b24b2886895f50c8a81800"
      }
     },
     "64e2efa150904fe4ada592ee3519479a": {
      "model_module": "@jupyter-widgets/controls",
      "model_module_version": "1.5.0",
      "model_name": "DescriptionStyleModel",
      "state": {
       "description_width": "initial"
      }
     },
     "6581408d41b54f75b2462c95ce83e238": {
      "model_module": "@jupyter-widgets/controls",
      "model_module_version": "1.5.0",
      "model_name": "HBoxModel",
      "state": {
       "children": [
        "IPY_MODEL_7d5b6c3e11e6480d85af527775ee7aa4",
        "IPY_MODEL_b73e5455d02b480bb3313c9d6fc42a6f"
       ],
       "layout": "IPY_MODEL_07563645f08f45a7b5b954a34b21d52a"
      }
     },
     "66496e554d394325a456df052317e069": {
      "model_module": "@jupyter-widgets/controls",
      "model_module_version": "1.5.0",
      "model_name": "HBoxModel",
      "state": {
       "children": [
        "IPY_MODEL_f476da414b0a4fea870b3c0bb7c1ff39",
        "IPY_MODEL_dc8ec710ab3d45e99a13ac3839801cee"
       ],
       "layout": "IPY_MODEL_9a48bc4ec0bd4d63adcf5ef4ead9b305"
      }
     },
     "66733605829b40b0991d63a63ca30923": {
      "model_module": "@jupyter-widgets/controls",
      "model_module_version": "1.5.0",
      "model_name": "DescriptionStyleModel",
      "state": {
       "description_width": "initial"
      }
     },
     "66dd7b106a0a46eb9adb731a30d0c0b0": {
      "model_module": "@jupyter-widgets/controls",
      "model_module_version": "1.5.0",
      "model_name": "HBoxModel",
      "state": {
       "children": [
        "IPY_MODEL_abd97804b18f49b796a2886e945a7d71",
        "IPY_MODEL_3a022126f5ca410d91f5aee957c6475d",
        "IPY_MODEL_a2f6c6c981bf4fdabc64e817c945f4f9"
       ],
       "layout": "IPY_MODEL_56b51585c9cc4481a3d7f9a05124a677"
      }
     },
     "67ae1123591046c1861fa17281d00e68": {
      "model_module": "@jupyter-widgets/controls",
      "model_module_version": "1.5.0",
      "model_name": "ButtonStyleModel",
      "state": {
       "button_color": "#4DD0E1"
      }
     },
     "6805f81e9bcd4ce88068b9eff0d54626": {
      "model_module": "@jupyter-widgets/controls",
      "model_module_version": "1.5.0",
      "model_name": "DescriptionStyleModel",
      "state": {
       "description_width": ""
      }
     },
     "68565cdda1ee464d8f50ae09c5fcec57": {
      "model_module": "@jupyter-widgets/base",
      "model_module_version": "1.2.0",
      "model_name": "LayoutModel",
      "state": {}
     },
     "68d002ba9bb3474295c0d8455dffa549": {
      "model_module": "@jupyter-widgets/controls",
      "model_module_version": "1.5.0",
      "model_name": "DescriptionStyleModel",
      "state": {
       "description_width": ""
      }
     },
     "69342ba7a42a41d7b7c1e2f3c4bae71d": {
      "model_module": "@jupyter-widgets/controls",
      "model_module_version": "1.5.0",
      "model_name": "LabelModel",
      "state": {
       "layout": "IPY_MODEL_8f48c7ab3b7745c9913a559eaa990f71",
       "style": "IPY_MODEL_9f0e47387f204bbfb38f543145dd9d5a"
      }
     },
     "6977e4b5262c43029264b577bed289e2": {
      "model_module": "@jupyter-widgets/base",
      "model_module_version": "1.2.0",
      "model_name": "LayoutModel",
      "state": {
       "align_items": "stretch",
       "display": "flex",
       "flex_flow": "row wrap",
       "width": "auto"
      }
     },
     "6a9d0e04d0974f729955d35f557f5e58": {
      "model_module": "@jupyter-widgets/base",
      "model_module_version": "1.2.0",
      "model_name": "LayoutModel",
      "state": {
       "align_items": "stretch",
       "display": "flex",
       "flex_flow": "row wrap",
       "width": "auto"
      }
     },
     "6b473b59ebde479fa0019e9b9c337c9d": {
      "model_module": "@jupyter-widgets/controls",
      "model_module_version": "1.5.0",
      "model_name": "VBoxModel",
      "state": {
       "box_style": "info",
       "children": [
        "IPY_MODEL_9a57cec1533040648764dcc576716055",
        "IPY_MODEL_f159e052a3f84307bc20810bcd9e6a90",
        "IPY_MODEL_be3149933ff543be881f5994f36dfec5"
       ],
       "layout": "IPY_MODEL_d4f526a73a6745ceb566fab57e8dcc8a"
      }
     },
     "6b74619c647c472dade286b01c73356d": {
      "model_module": "@jupyter-widgets/base",
      "model_module_version": "1.2.0",
      "model_name": "LayoutModel",
      "state": {
       "align_items": "stretch",
       "display": "flex",
       "flex_flow": "row wrap",
       "margin": "30px 0 0 0"
      }
     },
     "6be8f499db8945938418e5b377806bad": {
      "model_module": "@jupyter-widgets/controls",
      "model_module_version": "1.5.0",
      "model_name": "HBoxModel",
      "state": {
       "children": [
        "IPY_MODEL_5ea9f32155c448bcb8ee520d751c6571",
        "IPY_MODEL_a7594fee139b414e922d31ea29758297"
       ],
       "layout": "IPY_MODEL_e653dc3f72ad48dc8d0698d7ca6afc9e"
      }
     },
     "6d23877487d542f59c1b25f45633a820": {
      "model_module": "@jupyter-widgets/base",
      "model_module_version": "1.2.0",
      "model_name": "LayoutModel",
      "state": {
       "display": "flex",
       "flex_flow": "row",
       "justify_content": "space-between",
       "margin": "0 0 20px 0"
      }
     },
     "6d3c51ee3cab43b28306af1e1d13654b": {
      "model_module": "@jupyter-widgets/controls",
      "model_module_version": "1.5.0",
      "model_name": "DescriptionStyleModel",
      "state": {
       "description_width": ""
      }
     },
     "6d71426542674fbd8e328cc5fa7741dd": {
      "model_module": "@jupyter-widgets/controls",
      "model_module_version": "1.5.0",
      "model_name": "DescriptionStyleModel",
      "state": {
       "description_width": "initial"
      }
     },
     "6dbf3eb9ef3249eaa7d29cbc964d8330": {
      "model_module": "@jupyter-widgets/base",
      "model_module_version": "1.2.0",
      "model_name": "LayoutModel",
      "state": {
       "width": "30px"
      }
     },
     "6dfad984367e4e6db0276cf6fc7cfcee": {
      "model_module": "@jupyter-widgets/base",
      "model_module_version": "1.2.0",
      "model_name": "LayoutModel",
      "state": {
       "align_items": "stretch",
       "display": "flex",
       "flex_flow": "row wrap",
       "width": "auto"
      }
     },
     "6e9bb489b7324851825b1234845c9ee9": {
      "model_module": "@jupyter-widgets/base",
      "model_module_version": "1.2.0",
      "model_name": "LayoutModel",
      "state": {}
     },
     "6eb15d7422dc40cbaaef5936234c39ba": {
      "model_module": "@jupyter-widgets/base",
      "model_module_version": "1.2.0",
      "model_name": "LayoutModel",
      "state": {
       "width": "30px"
      }
     },
     "6fc00cc5a3ca459b9ed21689766ab699": {
      "model_module": "@jupyter-widgets/controls",
      "model_module_version": "1.5.0",
      "model_name": "LabelModel",
      "state": {
       "layout": "IPY_MODEL_cb24300a499d41d68ceb4e1926ab4592",
       "style": "IPY_MODEL_8b11c6cef4fa4e919a1ce77b8c5d5b79"
      }
     },
     "70079e08066e40b68f76dee1f4bb1678": {
      "model_module": "@jupyter-widgets/controls",
      "model_module_version": "1.5.0",
      "model_name": "DescriptionStyleModel",
      "state": {
       "description_width": ""
      }
     },
     "70e6ec8d35d04be9a519a99088c68fc6": {
      "model_module": "@jupyter-widgets/controls",
      "model_module_version": "1.5.0",
      "model_name": "HBoxModel",
      "state": {
       "children": [
        "IPY_MODEL_a51e2eb513ee4471ac42d4366f1f74a3",
        "IPY_MODEL_53d9f812c44147e2b4dab21470b417fb"
       ],
       "layout": "IPY_MODEL_b83d8c761ef447d0bfa1905fcd7e1b65"
      }
     },
     "70f1753418224e0e8b8996c6e682dee6": {
      "model_module": "@jupyter-widgets/base",
      "model_module_version": "1.2.0",
      "model_name": "LayoutModel",
      "state": {
       "align_items": "stretch",
       "display": "flex",
       "flex_flow": "row wrap",
       "margin": "30px 0 0 0"
      }
     },
     "710909a0581a479396faaa613045b129": {
      "model_module": "@jupyter-widgets/controls",
      "model_module_version": "1.5.0",
      "model_name": "DescriptionStyleModel",
      "state": {
       "description_width": ""
      }
     },
     "71744b74f28b430785a7c259e73d557b": {
      "model_module": "@jupyter-widgets/base",
      "model_module_version": "1.2.0",
      "model_name": "LayoutModel",
      "state": {}
     },
     "71aebc4cfd934773ac7c20f69f15e858": {
      "model_module": "@jupyter-widgets/controls",
      "model_module_version": "1.5.0",
      "model_name": "ButtonStyleModel",
      "state": {
       "button_color": "#4DD0E1"
      }
     },
     "71bf5a6957534eae9c1629d9bf75abac": {
      "model_module": "@jupyter-widgets/base",
      "model_module_version": "1.2.0",
      "model_name": "LayoutModel",
      "state": {}
     },
     "71e9d4356c5c4f51b8b0d296608e45bf": {
      "model_module": "@jupyter-widgets/base",
      "model_module_version": "1.2.0",
      "model_name": "LayoutModel",
      "state": {
       "align_items": "stretch",
       "display": "flex",
       "flex_flow": "row wrap",
       "width": "auto"
      }
     },
     "7237773aa6f34b7a877aecca22feda44": {
      "model_module": "@jupyter-widgets/base",
      "model_module_version": "1.2.0",
      "model_name": "LayoutModel",
      "state": {
       "align_items": "stretch",
       "display": "flex",
       "flex_flow": "column",
       "width": "100%"
      }
     },
     "72512d3f17c149c38b7b1d75705c3b83": {
      "model_module": "@jupyter-widgets/controls",
      "model_module_version": "1.5.0",
      "model_name": "ButtonStyleModel",
      "state": {
       "button_color": "#4DD0E1"
      }
     },
     "726004d791e34a62985ea84ce10ebc89": {
      "model_module": "@jupyter-widgets/controls",
      "model_module_version": "1.5.0",
      "model_name": "ButtonStyleModel",
      "state": {
       "button_color": "#4DD0E1"
      }
     },
     "732a4394afa24b8eb5a38305a2e43b99": {
      "model_module": "@jupyter-widgets/controls",
      "model_module_version": "1.5.0",
      "model_name": "HBoxModel",
      "state": {
       "children": [
        "IPY_MODEL_20b9fc8a8d564da4b60485d55e25850a",
        "IPY_MODEL_d400f5ee80db4cafab6a8d37f05b534c",
        "IPY_MODEL_e8fa6e6b3f83412db4aa4736071a4cd2"
       ],
       "layout": "IPY_MODEL_5af332f751f744d190dc62351ef01144"
      }
     },
     "7350409c95df46a5bf721a632c623524": {
      "model_module": "@jupyter-widgets/controls",
      "model_module_version": "1.5.0",
      "model_name": "ButtonModel",
      "state": {
       "description": "Show answer",
       "disabled": true,
       "layout": "IPY_MODEL_0ae2bfb51a8a4c0fa7b1523736ec538f",
       "style": "IPY_MODEL_faf546559ea14902b71ef8a57a91f426"
      }
     },
     "7372f45851cf41aebd43b660bffdc3c0": {
      "model_module": "@jupyter-widgets/base",
      "model_module_version": "1.2.0",
      "model_name": "LayoutModel",
      "state": {}
     },
     "738d97ac23de4a8fbb8432022f6b4dab": {
      "model_module": "@jupyter-widgets/base",
      "model_module_version": "1.2.0",
      "model_name": "LayoutModel",
      "state": {
       "align_items": "stretch",
       "display": "flex",
       "flex_flow": "row wrap",
       "margin": "30px 0 0 0"
      }
     },
     "73aae25eb0f14c6789c5f64426a5b716": {
      "model_module": "@jupyter-widgets/controls",
      "model_module_version": "1.5.0",
      "model_name": "LabelModel",
      "state": {
       "layout": "IPY_MODEL_750db6c8bd5f4f96b5403eb5e64f0d00",
       "style": "IPY_MODEL_6805f81e9bcd4ce88068b9eff0d54626"
      }
     },
     "740464f159534a958850df6c79e2b1f4": {
      "model_module": "@jupyter-widgets/controls",
      "model_module_version": "1.5.0",
      "model_name": "LabelModel",
      "state": {
       "layout": "IPY_MODEL_96f792a3c37948fd8370ffc1c6d103b1",
       "style": "IPY_MODEL_5ce20d03f30f4f7aa21568ed4a1df228"
      }
     },
     "749bfa58932649158dc520966a8cf299": {
      "model_module": "@jupyter-widgets/base",
      "model_module_version": "1.2.0",
      "model_name": "LayoutModel",
      "state": {}
     },
     "74bd0d3199b14990990144734e33e6f7": {
      "model_module": "@jupyter-widgets/controls",
      "model_module_version": "1.5.0",
      "model_name": "HTMLModel",
      "state": {
       "layout": "IPY_MODEL_345d70a8239b411a954696e5edab389c",
       "style": "IPY_MODEL_0da7f2298aa2458898a4d19b46a978c3",
       "value": "<style>p{word-wrap: break-word}</style> <p>Find all the combinations of bottles that yield a minimum volume. </p>"
      }
     },
     "750db6c8bd5f4f96b5403eb5e64f0d00": {
      "model_module": "@jupyter-widgets/base",
      "model_module_version": "1.2.0",
      "model_name": "LayoutModel",
      "state": {}
     },
     "757620503a574b1ba259bf8c55522500": {
      "model_module": "@jupyter-widgets/controls",
      "model_module_version": "1.5.0",
      "model_name": "DescriptionStyleModel",
      "state": {
       "description_width": ""
      }
     },
     "764eb9c6fb6f4123b82fdaab693c9488": {
      "model_module": "@jupyter-widgets/controls",
      "model_module_version": "1.5.0",
      "model_name": "CheckboxModel",
      "state": {
       "disabled": false,
       "layout": "IPY_MODEL_2037d0e17aa04e8da6bafa8bbb1d8ed1",
       "style": "IPY_MODEL_ebb96954814e43648d31e2f1dd2904bc",
       "value": false
      }
     },
     "768362fa9899424896d2431753714d1d": {
      "model_module": "@jupyter-widgets/controls",
      "model_module_version": "1.5.0",
      "model_name": "LabelModel",
      "state": {
       "layout": "IPY_MODEL_54433dcca7034d5c97373dcd65a1f57a",
       "style": "IPY_MODEL_627d40a8144846d5b567ae46e9bff1ea"
      }
     },
     "77da522423b344839f1250fb0588f70b": {
      "model_module": "@jupyter-widgets/base",
      "model_module_version": "1.2.0",
      "model_name": "LayoutModel",
      "state": {}
     },
     "7810824c7dac4ddaa02e25bb4f516898": {
      "model_module": "@jupyter-widgets/base",
      "model_module_version": "1.2.0",
      "model_name": "LayoutModel",
      "state": {
       "align_items": "stretch",
       "display": "flex",
       "flex_flow": "row wrap",
       "margin": "30px 0 0 0"
      }
     },
     "782dea2b6f1a44408c23ff8e39f68bed": {
      "model_module": "@jupyter-widgets/controls",
      "model_module_version": "1.5.0",
      "model_name": "DescriptionStyleModel",
      "state": {
       "description_width": ""
      }
     },
     "784f229dbf06484fab12aff48042cd2e": {
      "model_module": "@jupyter-widgets/base",
      "model_module_version": "1.2.0",
      "model_name": "LayoutModel",
      "state": {
       "align_items": "stretch",
       "display": "flex",
       "flex_flow": "row wrap",
       "width": "auto"
      }
     },
     "78aea55d6ba746689b27498dd56f0ee1": {
      "model_module": "@jupyter-widgets/base",
      "model_module_version": "1.2.0",
      "model_name": "LayoutModel",
      "state": {
       "align_items": "stretch",
       "display": "flex",
       "flex_flow": "row wrap",
       "width": "auto"
      }
     },
     "7a367d8bf5de4509952d3350df591882": {
      "model_module": "@jupyter-widgets/base",
      "model_module_version": "1.2.0",
      "model_name": "LayoutModel",
      "state": {
       "align_items": "stretch",
       "display": "flex",
       "flex_flow": "column",
       "width": "100%"
      }
     },
     "7bf038ea86cb42d6afc7e43e5e10f491": {
      "model_module": "@jupyter-widgets/controls",
      "model_module_version": "1.5.0",
      "model_name": "HTMLModel",
      "state": {
       "layout": "IPY_MODEL_dee4d6afd196491a8418c1a499cd159a",
       "style": "IPY_MODEL_2c937e592f344adca8f6b89fe29d0e86",
       "value": "<style>p{word-wrap: break-word}</style> <p>Find all combinations of bottles that are not adjacent </p>"
      }
     },
     "7c0f95c7498740caace2dae9ff1342ad": {
      "model_module": "@jupyter-widgets/controls",
      "model_module_version": "1.5.0",
      "model_name": "VBoxModel",
      "state": {
       "box_style": "info",
       "children": [
        "IPY_MODEL_d37f0d825f3e49bd89be42a645cd7ae5",
        "IPY_MODEL_3d3b03a89bd64cd6a424fc768f70684a",
        "IPY_MODEL_66dd7b106a0a46eb9adb731a30d0c0b0"
       ],
       "layout": "IPY_MODEL_d0c843d82b68417eab453bbe67e43502"
      }
     },
     "7c998375fcf541058da53077386d4f5c": {
      "model_module": "@jupyter-widgets/controls",
      "model_module_version": "1.5.0",
      "model_name": "CheckboxModel",
      "state": {
       "disabled": false,
       "layout": "IPY_MODEL_0ff906c875834a8681768799ec9cef99",
       "style": "IPY_MODEL_ecc3559e39194309982dd69408ec5b19",
       "value": false
      }
     },
     "7ca39e4b15374b2188cd8294171d66d3": {
      "model_module": "@jupyter-widgets/controls",
      "model_module_version": "1.5.0",
      "model_name": "DescriptionStyleModel",
      "state": {
       "description_width": ""
      }
     },
     "7cace0e8efbb43a8b453fb790d4bb9fd": {
      "model_module": "@jupyter-widgets/base",
      "model_module_version": "1.2.0",
      "model_name": "LayoutModel",
      "state": {
       "align_items": "stretch",
       "display": "flex",
       "flex_flow": "row wrap",
       "width": "auto"
      }
     },
     "7d50dbb744a348b79b6417b8050d8401": {
      "model_module": "@jupyter-widgets/controls",
      "model_module_version": "1.5.0",
      "model_name": "DescriptionStyleModel",
      "state": {
       "description_width": ""
      }
     },
     "7d5b6c3e11e6480d85af527775ee7aa4": {
      "model_module": "@jupyter-widgets/controls",
      "model_module_version": "1.5.0",
      "model_name": "LabelModel",
      "state": {
       "layout": "IPY_MODEL_083d1ef8c679498c9053e4155400994f",
       "style": "IPY_MODEL_1a3f945473494fc4b1e0c6f5ee461284"
      }
     },
     "7db9bc54dcfd4b91852f32f74045f429": {
      "model_module": "@jupyter-widgets/base",
      "model_module_version": "1.2.0",
      "model_name": "LayoutModel",
      "state": {
       "width": "auto"
      }
     },
     "7de6240b60d04d3c963ef11229798dec": {
      "model_module": "@jupyter-widgets/controls",
      "model_module_version": "1.5.0",
      "model_name": "LabelModel",
      "state": {
       "layout": "IPY_MODEL_4d415fbd20fa4289aa2860ab6e75bb1c",
       "style": "IPY_MODEL_d7187da380da4bfbb2768ad461f49d28"
      }
     },
     "7deb989d0d164985911584164eeee2bc": {
      "model_module": "@jupyter-widgets/controls",
      "model_module_version": "1.5.0",
      "model_name": "VBoxModel",
      "state": {
       "box_style": "info",
       "children": [
        "IPY_MODEL_8d9ab8ad491d44479911e04d62682d4d",
        "IPY_MODEL_d49736bdd1374c3b94ed4c0254241ea8",
        "IPY_MODEL_307eabc18eae4a8092872469010dbbfd"
       ],
       "layout": "IPY_MODEL_55ce8e8a990f4346b47b897eaa029d5c"
      }
     },
     "7dfd1effc4394b079051c8cb3cfb9673": {
      "model_module": "@jupyter-widgets/controls",
      "model_module_version": "1.5.0",
      "model_name": "LabelModel",
      "state": {
       "layout": "IPY_MODEL_5bce17c451254d61bd76463d79a76a6d",
       "style": "IPY_MODEL_7d50dbb744a348b79b6417b8050d8401"
      }
     },
     "7f1ee7f373a34107a04ac2901fa92f80": {
      "model_module": "@jupyter-widgets/base",
      "model_module_version": "1.2.0",
      "model_name": "LayoutModel",
      "state": {}
     },
     "7f1f7b18cac24fe78246544746e795a0": {
      "model_module": "@jupyter-widgets/base",
      "model_module_version": "1.2.0",
      "model_name": "LayoutModel",
      "state": {
       "width": "30px"
      }
     },
     "7fdcdb0eb59b45f6a01bcd908ad3c98d": {
      "model_module": "@jupyter-widgets/controls",
      "model_module_version": "1.5.0",
      "model_name": "HTMLModel",
      "state": {
       "layout": "IPY_MODEL_1da264ffac324123b49a7a7cbc17785f",
       "style": "IPY_MODEL_308624c41cdf4d9eaf35e24cc9be034c",
       "value": "<style>p{word-wrap: break-word}</style> <p>Find all the combinations of bottles that yield a minimum volume. </p>"
      }
     },
     "800e7d401fe74e16b8990ec7f1e3d604": {
      "model_module": "@jupyter-widgets/base",
      "model_module_version": "1.2.0",
      "model_name": "LayoutModel",
      "state": {
       "width": "30px"
      }
     },
     "815a57b1241a4eaabad31f44354aba00": {
      "model_module": "@jupyter-widgets/base",
      "model_module_version": "1.2.0",
      "model_name": "LayoutModel",
      "state": {
       "display": "none"
      }
     },
     "827dbef230b14b439b6ebe8a56dfa65d": {
      "model_module": "@jupyter-widgets/base",
      "model_module_version": "1.2.0",
      "model_name": "LayoutModel",
      "state": {
       "align_items": "stretch",
       "display": "flex",
       "flex_flow": "row wrap",
       "width": "auto"
      }
     },
     "82d2c5ed00b6475d9a3b679216c93da4": {
      "model_module": "@jupyter-widgets/base",
      "model_module_version": "1.2.0",
      "model_name": "LayoutModel",
      "state": {
       "align_items": "stretch",
       "display": "flex",
       "flex_flow": "row wrap",
       "width": "auto"
      }
     },
     "83e5fe02a5f04a1c901fb244ba5afd0e": {
      "model_module": "@jupyter-widgets/controls",
      "model_module_version": "1.5.0",
      "model_name": "VBoxModel",
      "state": {
       "children": [
        "IPY_MODEL_9992267376ff463d8b6b9e033c1bf8bd",
        "IPY_MODEL_6be8f499db8945938418e5b377806bad",
        "IPY_MODEL_c4bd49236ae2458d8b28d28029522914",
        "IPY_MODEL_8ae5be13e4004f2b8c837855f58b3bf1",
        "IPY_MODEL_e68f589adec0418eb4d3893ee027569a"
       ],
       "layout": "IPY_MODEL_2d721c39639a4fccbc71f2d5b09f0d6d"
      }
     },
     "843c36b4c5394a049b492fa5eed3b34b": {
      "model_module": "@jupyter-widgets/controls",
      "model_module_version": "1.5.0",
      "model_name": "HBoxModel",
      "state": {
       "children": [
        "IPY_MODEL_c936cf7548d04f3689ac5125e7b97fd6",
        "IPY_MODEL_f86e0ad98d674352a232f23dd3f2b8b2"
       ],
       "layout": "IPY_MODEL_4da6456a13564009b93057c982cd5367"
      }
     },
     "846355fc5fcf40e09a855748702d63b7": {
      "model_module": "@jupyter-widgets/controls",
      "model_module_version": "1.5.0",
      "model_name": "VBoxModel",
      "state": {
       "box_style": "info",
       "children": [
        "IPY_MODEL_bdf52c7cfcd14572bb1e3772f1bba229",
        "IPY_MODEL_ea50a304d7be4deb9a5f311cc91bd908",
        "IPY_MODEL_63080ce24aa247bc9a9d52f535ae69b4"
       ],
       "layout": "IPY_MODEL_7a367d8bf5de4509952d3350df591882"
      }
     },
     "84d6cb319f4b4df79939c6f3b2f22ec2": {
      "model_module": "@jupyter-widgets/controls",
      "model_module_version": "1.5.0",
      "model_name": "DescriptionStyleModel",
      "state": {
       "description_width": ""
      }
     },
     "84e64966805a4a7fb01e20d1dcea5589": {
      "model_module": "@jupyter-widgets/controls",
      "model_module_version": "1.5.0",
      "model_name": "DescriptionStyleModel",
      "state": {
       "description_width": "initial"
      }
     },
     "84e82e632b824404a2595d1f1f66718f": {
      "model_module": "@jupyter-widgets/controls",
      "model_module_version": "1.5.0",
      "model_name": "HBoxModel",
      "state": {
       "children": [
        "IPY_MODEL_7de6240b60d04d3c963ef11229798dec",
        "IPY_MODEL_d641ab9ed51e4788b80c0b35bf8e8d77"
       ],
       "layout": "IPY_MODEL_f4ec7aca11b8423c8208e8a5f3132946"
      }
     },
     "8503439131d7441ca5e8a0dba2e5441c": {
      "model_module": "@jupyter-widgets/controls",
      "model_module_version": "1.5.0",
      "model_name": "HBoxModel",
      "state": {
       "children": [
        "IPY_MODEL_137b0f6f2a5f4148a8e05f2ec82f884a",
        "IPY_MODEL_5f7e86e57f954923b3bc6ffbff71472a"
       ],
       "layout": "IPY_MODEL_009ceb9de15641fc91d0ce4c418f025e"
      }
     },
     "856fdc86e9f54cfab65652b16bcb533e": {
      "model_module": "@jupyter-widgets/base",
      "model_module_version": "1.2.0",
      "model_name": "LayoutModel",
      "state": {
       "align_items": "stretch",
       "display": "flex",
       "flex_flow": "row wrap",
       "width": "auto"
      }
     },
     "85c8fa8335ab4ba5bae04f77c769954a": {
      "model_module": "@jupyter-widgets/controls",
      "model_module_version": "1.5.0",
      "model_name": "HBoxModel",
      "state": {
       "children": [
        "IPY_MODEL_5c2c9dc379e2481e81fe0c37b0eea177",
        "IPY_MODEL_ec3bb6a41dc748449237a2e134de4b2c"
       ],
       "layout": "IPY_MODEL_4172044ad38442d4988993e255a436f1"
      }
     },
     "8630ed0d7e1c4bb6b5ecd17751ebaf87": {
      "model_module": "@jupyter-widgets/controls",
      "model_module_version": "1.5.0",
      "model_name": "LabelModel",
      "state": {
       "layout": "IPY_MODEL_53fceb8b39ee42b784ce62e78be43957",
       "style": "IPY_MODEL_98add0e346334a50b6295bfa452bb2f7"
      }
     },
     "86936aac494c407ba7b700f193ac0e22": {
      "model_module": "@jupyter-widgets/controls",
      "model_module_version": "1.5.0",
      "model_name": "ButtonStyleModel",
      "state": {
       "button_color": "#4DD0E1"
      }
     },
     "86b21adf5bc6440292dbc7b627070856": {
      "model_module": "@jupyter-widgets/base",
      "model_module_version": "1.2.0",
      "model_name": "LayoutModel",
      "state": {
       "width": "30px"
      }
     },
     "86f1ca34e6a14cef9ac844b1e91bd54e": {
      "model_module": "@jupyter-widgets/controls",
      "model_module_version": "1.5.0",
      "model_name": "HBoxModel",
      "state": {
       "children": [
        "IPY_MODEL_b22be200f76b443d8481badbeb0b4521",
        "IPY_MODEL_1024d88613e84188aa5fd7259cc5fcfb"
       ],
       "layout": "IPY_MODEL_fec7c8bc17464bd59dbd61c5d69b9a4c"
      }
     },
     "873b8d31f29e43b98660b97b4ede0632": {
      "model_module": "@jupyter-widgets/base",
      "model_module_version": "1.2.0",
      "model_name": "LayoutModel",
      "state": {}
     },
     "87ea7b199d9740ce8036d8321536fe2b": {
      "model_module": "@jupyter-widgets/controls",
      "model_module_version": "1.5.0",
      "model_name": "HTMLModel",
      "state": {
       "layout": "IPY_MODEL_e9f4efb09f234053a4b66688e8b7a323",
       "style": "IPY_MODEL_f7047b3815c54e95917bb79a75fea21c",
       "value": "<style>p{word-wrap: break-word}</style> <p>If however, you do NOT choose the 8 bottle, the rest of the solution will come from the first </p>"
      }
     },
     "88cc7e6dd1284124998c9b6c81220a64": {
      "model_module": "@jupyter-widgets/controls",
      "model_module_version": "1.5.0",
      "model_name": "HBoxModel",
      "state": {
       "children": [
        "IPY_MODEL_51096907c63d4f3594b466fc4ff8c521",
        "IPY_MODEL_a1c282cf9c424d39b77d7e8397f93c6e"
       ],
       "layout": "IPY_MODEL_c936300a79f041638bbc5d3093ba10f2"
      }
     },
     "897c72f0c75b4a95b7b5b83699ec107c": {
      "model_module": "@jupyter-widgets/base",
      "model_module_version": "1.2.0",
      "model_name": "LayoutModel",
      "state": {
       "align_items": "stretch",
       "display": "flex",
       "flex_flow": "row wrap",
       "width": "auto"
      }
     },
     "89edc69a8133409f86d15cccff51b4ea": {
      "model_module": "@jupyter-widgets/base",
      "model_module_version": "1.2.0",
      "model_name": "LayoutModel",
      "state": {}
     },
     "8a24ad819acc4b8f951cf10da1e142e8": {
      "model_module": "@jupyter-widgets/controls",
      "model_module_version": "1.5.0",
      "model_name": "DescriptionStyleModel",
      "state": {
       "description_width": "initial"
      }
     },
     "8ae5be13e4004f2b8c837855f58b3bf1": {
      "model_module": "@jupyter-widgets/controls",
      "model_module_version": "1.5.0",
      "model_name": "HBoxModel",
      "state": {
       "children": [
        "IPY_MODEL_7dfd1effc4394b079051c8cb3cfb9673",
        "IPY_MODEL_aed3bdcd3a854df6a8264d8b1943883e"
       ],
       "layout": "IPY_MODEL_7cace0e8efbb43a8b453fb790d4bb9fd"
      }
     },
     "8b11c6cef4fa4e919a1ce77b8c5d5b79": {
      "model_module": "@jupyter-widgets/controls",
      "model_module_version": "1.5.0",
      "model_name": "DescriptionStyleModel",
      "state": {
       "description_width": ""
      }
     },
     "8baa1a65541c4c7baff09a70b8cdc237": {
      "model_module": "@jupyter-widgets/controls",
      "model_module_version": "1.5.0",
      "model_name": "LabelModel",
      "state": {
       "layout": "IPY_MODEL_a7a2411b07bd4b93a22bf8950af6dc1a",
       "style": "IPY_MODEL_c5d9c77125db4455a125b694f5394340"
      }
     },
     "8d9ab8ad491d44479911e04d62682d4d": {
      "model_module": "@jupyter-widgets/controls",
      "model_module_version": "1.5.0",
      "model_name": "HBoxModel",
      "state": {
       "children": [
        "IPY_MODEL_d73914fe29c44084b73162230dfa30da"
       ],
       "layout": "IPY_MODEL_05e073dc7d6d46cf95c913e705bc729b"
      }
     },
     "8ec7916ca6794246ae0f2062b95024cb": {
      "model_module": "@jupyter-widgets/base",
      "model_module_version": "1.2.0",
      "model_name": "LayoutModel",
      "state": {}
     },
     "8eea5a7995e2424f957f07effb807112": {
      "model_module": "@jupyter-widgets/controls",
      "model_module_version": "1.5.0",
      "model_name": "HTMLModel",
      "state": {
       "layout": "IPY_MODEL_cfabfb07f82d4081b33b2d063beb722a",
       "style": "IPY_MODEL_31b0750e67a846e39671f8119d8b9517",
       "value": "<style>p{word-wrap: break-word}</style> <p>base case: solve(0) = 0, solve(1) = v(1), solve(2) = v(2) </p>"
      }
     },
     "8f3706b0f0a849c781d0606b00d21933": {
      "model_module": "@jupyter-widgets/controls",
      "model_module_version": "1.5.0",
      "model_name": "DescriptionStyleModel",
      "state": {
       "description_width": "initial"
      }
     },
     "8f48c7ab3b7745c9913a559eaa990f71": {
      "model_module": "@jupyter-widgets/base",
      "model_module_version": "1.2.0",
      "model_name": "LayoutModel",
      "state": {
       "height": "50%",
       "margin": "0 0 0 30px",
       "width": "50%"
      }
     },
     "8fd24e09c0484ecf8abd58fcb1e035af": {
      "model_module": "@jupyter-widgets/base",
      "model_module_version": "1.2.0",
      "model_name": "LayoutModel",
      "state": {}
     },
     "91f784d346ad4793aa75d86abc271567": {
      "model_module": "@jupyter-widgets/controls",
      "model_module_version": "1.5.0",
      "model_name": "HTMLModel",
      "state": {
       "layout": "IPY_MODEL_148ff2cf80ce4eb78618781a7e3cce5c",
       "style": "IPY_MODEL_3dee76b2f003409983530d43e6105c96",
       "value": "<style>p{word-wrap: break-word}</style> <p>If however, you do NOT choose the 8 bottle, the rest of the solution will come from the first </p>"
      }
     },
     "91f802a5a08e40f2857e306b2c39db14": {
      "model_module": "@jupyter-widgets/controls",
      "model_module_version": "1.5.0",
      "model_name": "LabelModel",
      "state": {
       "layout": "IPY_MODEL_68565cdda1ee464d8f50ae09c5fcec57",
       "style": "IPY_MODEL_1ca6d66b10c04899a27ad86cacb5dc17"
      }
     },
     "9209ac1f5c6e4b3689e4e9e84e6c61d5": {
      "model_module": "@jupyter-widgets/controls",
      "model_module_version": "1.5.0",
      "model_name": "DescriptionStyleModel",
      "state": {
       "description_width": "initial"
      }
     },
     "926a241a9fab408fb8f53599eaf49be7": {
      "model_module": "@jupyter-widgets/controls",
      "model_module_version": "1.5.0",
      "model_name": "LabelModel",
      "state": {
       "layout": "IPY_MODEL_95e88fac44654da59fa41ebe29c86b7b",
       "style": "IPY_MODEL_082523a79273455dbed49409289f6fe4"
      }
     },
     "929be99752f54f0b8ab17fedd7019816": {
      "model_module": "@jupyter-widgets/base",
      "model_module_version": "1.2.0",
      "model_name": "LayoutModel",
      "state": {}
     },
     "92c649d634ec48f89d0b0ddb80152310": {
      "model_module": "@jupyter-widgets/base",
      "model_module_version": "1.2.0",
      "model_name": "LayoutModel",
      "state": {
       "display": "none"
      }
     },
     "947c008b78544866a00c1df5f87b3996": {
      "model_module": "@jupyter-widgets/controls",
      "model_module_version": "1.5.0",
      "model_name": "HTMLModel",
      "state": {
       "layout": "IPY_MODEL_bd7fe6d9582f47849f733c36d477e63f",
       "style": "IPY_MODEL_1b8e5ff34392446699b6aa6f31e77e46",
       "value": "<style>p{word-wrap: break-word}</style> <p>base case: solve(0) = 0, solve(1) = v(1), solve(2) = solve(0) + solve(1) </p>"
      }
     },
     "95e88fac44654da59fa41ebe29c86b7b": {
      "model_module": "@jupyter-widgets/base",
      "model_module_version": "1.2.0",
      "model_name": "LayoutModel",
      "state": {
       "height": "50%",
       "margin": "0 0 0 30px",
       "width": "50%"
      }
     },
     "9653a58631b4418580da5f944004f3ee": {
      "model_module": "@jupyter-widgets/controls",
      "model_module_version": "1.5.0",
      "model_name": "VBoxModel",
      "state": {
       "box_style": "info",
       "children": [
        "IPY_MODEL_aa6d38a0e59a45778ad6b7c76ba30457",
        "IPY_MODEL_ead5a7e91b3e41d39f9ce0148dddc77c",
        "IPY_MODEL_c390c7865e404c08b0ca703cec1c258a"
       ],
       "layout": "IPY_MODEL_e1dfb71d5cab4f0e88a8098750c681a4"
      }
     },
     "96f792a3c37948fd8370ffc1c6d103b1": {
      "model_module": "@jupyter-widgets/base",
      "model_module_version": "1.2.0",
      "model_name": "LayoutModel",
      "state": {
       "height": "50%",
       "margin": "0 0 0 30px",
       "width": "50%"
      }
     },
     "973531cb5bee4c159c4ad19176819a62": {
      "model_module": "@jupyter-widgets/controls",
      "model_module_version": "1.5.0",
      "model_name": "DescriptionStyleModel",
      "state": {
       "description_width": ""
      }
     },
     "9766850a6686472fae44366755af6448": {
      "model_module": "@jupyter-widgets/controls",
      "model_module_version": "1.5.0",
      "model_name": "HTMLModel",
      "state": {
       "layout": "IPY_MODEL_c2fd6c3fb5524055b1c83eadc51fb6fa",
       "style": "IPY_MODEL_757620503a574b1ba259bf8c55522500",
       "value": "<style>p{word-wrap: break-word}</style> <p>bottles. </p>"
      }
     },
     "983d2d5c46d0485e8f0f4dd1d630d693": {
      "model_module": "@jupyter-widgets/controls",
      "model_module_version": "1.5.0",
      "model_name": "HBoxModel",
      "state": {
       "children": [
        "IPY_MODEL_05762cb63ac9469f997ec025cec79c02",
        "IPY_MODEL_00b5d96ed677402abeee3d1805e3c48e",
        "IPY_MODEL_ca73ebfa16ac467588de550bd9476f96"
       ],
       "layout": "IPY_MODEL_6b74619c647c472dade286b01c73356d"
      }
     },
     "98add0e346334a50b6295bfa452bb2f7": {
      "model_module": "@jupyter-widgets/controls",
      "model_module_version": "1.5.0",
      "model_name": "DescriptionStyleModel",
      "state": {
       "description_width": ""
      }
     },
     "98d3662058904a9980a73846ef9f1e7a": {
      "model_module": "@jupyter-widgets/controls",
      "model_module_version": "1.5.0",
      "model_name": "DescriptionStyleModel",
      "state": {
       "description_width": ""
      }
     },
     "990aca544ef34a20945a24fc921992db": {
      "model_module": "@jupyter-widgets/controls",
      "model_module_version": "1.5.0",
      "model_name": "LabelModel",
      "state": {
       "layout": "IPY_MODEL_f7653d405162489eb2f1f44dde091121",
       "style": "IPY_MODEL_d71284f395e7493db86c99135bf6d632"
      }
     },
     "9927e27b9943413c9179978484b2e80a": {
      "model_module": "@jupyter-widgets/controls",
      "model_module_version": "1.5.0",
      "model_name": "DescriptionStyleModel",
      "state": {
       "description_width": ""
      }
     },
     "9992267376ff463d8b6b9e033c1bf8bd": {
      "model_module": "@jupyter-widgets/controls",
      "model_module_version": "1.5.0",
      "model_name": "HBoxModel",
      "state": {
       "children": [
        "IPY_MODEL_e338f2c0b52843289635bc180261a695",
        "IPY_MODEL_88cc7e6dd1284124998c9b6c81220a64"
       ],
       "layout": "IPY_MODEL_aa66692018ea4aff99e9f0177679c6c6"
      }
     },
     "99bc89681fc8482dbff2efebf6edb5db": {
      "model_module": "@jupyter-widgets/controls",
      "model_module_version": "1.5.0",
      "model_name": "HBoxModel",
      "state": {
       "children": [
        "IPY_MODEL_1f64ef00827f4baeb86d382215d9ac81",
        "IPY_MODEL_2db9ba4ce5714295b917779d1f7a600a"
       ],
       "layout": "IPY_MODEL_71e9d4356c5c4f51b8b0d296608e45bf"
      }
     },
     "99ea98b918c54a67800b89b2f27a58dd": {
      "model_module": "@jupyter-widgets/controls",
      "model_module_version": "1.5.0",
      "model_name": "HBoxModel",
      "state": {
       "children": [
        "IPY_MODEL_e1958408edbc4088be275e7bcf553e28",
        "IPY_MODEL_52954ec6b35f41c4811787ca7c29a8ed"
       ],
       "layout": "IPY_MODEL_c9d8e42c15614e5e96d88aebee2728a3"
      }
     },
     "99ff3702746c4c38bc1a6f58ba3e7b58": {
      "model_module": "@jupyter-widgets/base",
      "model_module_version": "1.2.0",
      "model_name": "LayoutModel",
      "state": {}
     },
     "9a48bc4ec0bd4d63adcf5ef4ead9b305": {
      "model_module": "@jupyter-widgets/base",
      "model_module_version": "1.2.0",
      "model_name": "LayoutModel",
      "state": {
       "align_items": "stretch",
       "display": "flex",
       "flex_flow": "row wrap",
       "width": "auto"
      }
     },
     "9a57cec1533040648764dcc576716055": {
      "model_module": "@jupyter-widgets/controls",
      "model_module_version": "1.5.0",
      "model_name": "HBoxModel",
      "state": {
       "children": [
        "IPY_MODEL_52d5a0d7aff64a5483cff3b3c3c3a6e5"
       ],
       "layout": "IPY_MODEL_3e1c299d88ae47e48b8c55ed1974b9af"
      }
     },
     "9b8df67d6ab64e138871c81bef94c82b": {
      "model_module": "@jupyter-widgets/controls",
      "model_module_version": "1.5.0",
      "model_name": "DescriptionStyleModel",
      "state": {
       "description_width": ""
      }
     },
     "9c171c48a503442a95372df81095361a": {
      "model_module": "@jupyter-widgets/base",
      "model_module_version": "1.2.0",
      "model_name": "LayoutModel",
      "state": {
       "height": "50%",
       "margin": "0 0 0 30px",
       "width": "50%"
      }
     },
     "9cb08223898645e5bfc4267af245d427": {
      "model_module": "@jupyter-widgets/base",
      "model_module_version": "1.2.0",
      "model_name": "LayoutModel",
      "state": {}
     },
     "9d56fe681c0f4726a322d6820c4320c2": {
      "model_module": "@jupyter-widgets/controls",
      "model_module_version": "1.5.0",
      "model_name": "CheckboxModel",
      "state": {
       "disabled": false,
       "layout": "IPY_MODEL_e5bab4e9a8ca41f4b84e114ef5084a9f",
       "style": "IPY_MODEL_148625b4413d4cdea06e1c9951f041b0",
       "value": false
      }
     },
     "9de277f5852644ada555c97a188b30c4": {
      "model_module": "@jupyter-widgets/base",
      "model_module_version": "1.2.0",
      "model_name": "LayoutModel",
      "state": {}
     },
     "9df7cf77db974f91be386795753b4c84": {
      "model_module": "@jupyter-widgets/controls",
      "model_module_version": "1.5.0",
      "model_name": "HTMLModel",
      "state": {
       "layout": "IPY_MODEL_b501f0be3e74421f815431a571c259c1",
       "style": "IPY_MODEL_32188825085d492091421fd48a264e05",
       "value": "<style>p{word-wrap: break-word}</style> <p>bottles. </p>"
      }
     },
     "9e50bf7a6c6f4d5b9b76cd124d994591": {
      "model_module": "@jupyter-widgets/controls",
      "model_module_version": "1.5.0",
      "model_name": "ButtonModel",
      "state": {
       "description": "Show answer",
       "disabled": true,
       "layout": "IPY_MODEL_08acc005dcaf4687add07d48b270aabe",
       "style": "IPY_MODEL_c648b7cc69dd4ff099bc23915b93695c"
      }
     },
     "9e526dbf1a234ae885498f34f3be667c": {
      "model_module": "@jupyter-widgets/base",
      "model_module_version": "1.2.0",
      "model_name": "LayoutModel",
      "state": {}
     },
     "9f0e47387f204bbfb38f543145dd9d5a": {
      "model_module": "@jupyter-widgets/controls",
      "model_module_version": "1.5.0",
      "model_name": "DescriptionStyleModel",
      "state": {
       "description_width": ""
      }
     },
     "9f4a0580139d47d08245a071e9d10608": {
      "model_module": "@jupyter-widgets/base",
      "model_module_version": "1.2.0",
      "model_name": "LayoutModel",
      "state": {}
     },
     "9fa2d56c70654167ab48fcb87c0b104a": {
      "model_module": "@jupyter-widgets/controls",
      "model_module_version": "1.5.0",
      "model_name": "DescriptionStyleModel",
      "state": {
       "description_width": "initial"
      }
     },
     "a08ff45450fb4be3ac967da81a4404d0": {
      "model_module": "@jupyter-widgets/base",
      "model_module_version": "1.2.0",
      "model_name": "LayoutModel",
      "state": {
       "align_items": "stretch",
       "display": "flex",
       "flex_flow": "row wrap",
       "width": "auto"
      }
     },
     "a0fcc59733d24407b4066f115857a654": {
      "model_module": "@jupyter-widgets/controls",
      "model_module_version": "1.5.0",
      "model_name": "HBoxModel",
      "state": {
       "children": [
        "IPY_MODEL_2b080d209c994de4acac57bb48aae074",
        "IPY_MODEL_f2bbd0487c394b8bbe98e2550a8c7f78"
       ],
       "layout": "IPY_MODEL_a89889b1f364447ba6ef9fca2c0eb8b7"
      }
     },
     "a102f5602ee9464c9d5450fbd53e582b": {
      "model_module": "@jupyter-widgets/controls",
      "model_module_version": "1.5.0",
      "model_name": "DescriptionStyleModel",
      "state": {
       "description_width": ""
      }
     },
     "a1234cf88d164b2ab99394ef4364a8b3": {
      "model_module": "@jupyter-widgets/controls",
      "model_module_version": "1.5.0",
      "model_name": "CheckboxModel",
      "state": {
       "disabled": false,
       "layout": "IPY_MODEL_04b450ce314f4ddeac33125884b0807a",
       "style": "IPY_MODEL_84e64966805a4a7fb01e20d1dcea5589",
       "value": false
      }
     },
     "a16c970b50ec4ef5abe0e606c61bd598": {
      "model_module": "@jupyter-widgets/controls",
      "model_module_version": "1.5.0",
      "model_name": "DescriptionStyleModel",
      "state": {
       "description_width": ""
      }
     },
     "a18947fc73cc4d6fadc59e9f647210a3": {
      "model_module": "@jupyter-widgets/base",
      "model_module_version": "1.2.0",
      "model_name": "LayoutModel",
      "state": {}
     },
     "a1c282cf9c424d39b77d7e8397f93c6e": {
      "model_module": "@jupyter-widgets/controls",
      "model_module_version": "1.5.0",
      "model_name": "HTMLModel",
      "state": {
       "layout": "IPY_MODEL_9f4a0580139d47d08245a071e9d10608",
       "style": "IPY_MODEL_782dea2b6f1a44408c23ff8e39f68bed",
       "value": "<style>p{word-wrap: break-word}</style> <p>Find all the combinations of bottles that yield a maximum volume. </p>"
      }
     },
     "a2f6c6c981bf4fdabc64e817c945f4f9": {
      "model_module": "@jupyter-widgets/controls",
      "model_module_version": "1.5.0",
      "model_name": "ButtonModel",
      "state": {
       "description": "Show answer",
       "disabled": true,
       "layout": "IPY_MODEL_c93c304bcddb4bf9b0f5dece835cc775",
       "style": "IPY_MODEL_406205a63c8c4817a9726136919656ea"
      }
     },
     "a3b27945290345d987c8479751009a1b": {
      "model_module": "@jupyter-widgets/controls",
      "model_module_version": "1.5.0",
      "model_name": "DescriptionStyleModel",
      "state": {
       "description_width": ""
      }
     },
     "a4aabd5d4b9747c297b2c9f0ac0b5967": {
      "model_module": "@jupyter-widgets/controls",
      "model_module_version": "1.5.0",
      "model_name": "HBoxModel",
      "state": {
       "children": [
        "IPY_MODEL_fb5d50c6d5334b96a5dc272a7dd5574a",
        "IPY_MODEL_20bb4536324240999fef0a3b01509272"
       ],
       "layout": "IPY_MODEL_01317bad501d49f4a9c1d79858e05070"
      }
     },
     "a4cb46f5e1b84fe08152abe2a6ff2bed": {
      "model_module": "@jupyter-widgets/controls",
      "model_module_version": "1.5.0",
      "model_name": "LabelModel",
      "state": {
       "layout": "IPY_MODEL_7f1ee7f373a34107a04ac2901fa92f80",
       "style": "IPY_MODEL_0a7ad8781de544368f884bc07c578ea0"
      }
     },
     "a51e2eb513ee4471ac42d4366f1f74a3": {
      "model_module": "@jupyter-widgets/controls",
      "model_module_version": "1.5.0",
      "model_name": "LabelModel",
      "state": {
       "layout": "IPY_MODEL_929be99752f54f0b8ab17fedd7019816",
       "style": "IPY_MODEL_36ade41caca149ef9a1f5d1a6693f91e"
      }
     },
     "a54354d569be43f898a473588bed87e4": {
      "model_module": "@jupyter-widgets/controls",
      "model_module_version": "1.5.0",
      "model_name": "DescriptionStyleModel",
      "state": {
       "description_width": ""
      }
     },
     "a5cc0676536045678d32c3d24a652fd9": {
      "model_module": "@jupyter-widgets/base",
      "model_module_version": "1.2.0",
      "model_name": "LayoutModel",
      "state": {
       "display": "none"
      }
     },
     "a6856f5e692c4309960d1142a05e3343": {
      "model_module": "@jupyter-widgets/base",
      "model_module_version": "1.2.0",
      "model_name": "LayoutModel",
      "state": {
       "align_items": "stretch",
       "display": "flex",
       "flex_flow": "row wrap",
       "margin": "30px 0 0 0"
      }
     },
     "a74c13241d8e4fe09a99b992726e2152": {
      "model_module": "@jupyter-widgets/controls",
      "model_module_version": "1.5.0",
      "model_name": "CheckboxModel",
      "state": {
       "disabled": false,
       "layout": "IPY_MODEL_c0a7975a202a4bd4bd08e3303f4ea9b9",
       "style": "IPY_MODEL_2045bc68a62040df80636bf896c94d41",
       "value": false
      }
     },
     "a7594fee139b414e922d31ea29758297": {
      "model_module": "@jupyter-widgets/controls",
      "model_module_version": "1.5.0",
      "model_name": "HBoxModel",
      "state": {
       "children": [
        "IPY_MODEL_053d6ff9424a4d76a0fe1119f77fad1e",
        "IPY_MODEL_7fdcdb0eb59b45f6a01bcd908ad3c98d"
       ],
       "layout": "IPY_MODEL_31425a6a684d4345a00a67114b2271e6"
      }
     },
     "a7938ccb5e674cbe9f4269b9c272af4a": {
      "model_module": "@jupyter-widgets/controls",
      "model_module_version": "1.5.0",
      "model_name": "HTMLModel",
      "state": {
       "layout": "IPY_MODEL_153d775aec51472cbba401614b058135",
       "style": "IPY_MODEL_68d002ba9bb3474295c0d8455dffa549",
       "value": "<style>p{word-wrap: break-word}</style> <p>The problem doesn't give any constraint, I'll have to add a constraint in order to discover the recurrence. </p>"
      }
     },
     "a7a2411b07bd4b93a22bf8950af6dc1a": {
      "model_module": "@jupyter-widgets/base",
      "model_module_version": "1.2.0",
      "model_name": "LayoutModel",
      "state": {}
     },
     "a7b6919750504699a5d2718731f17298": {
      "model_module": "@jupyter-widgets/controls",
      "model_module_version": "1.5.0",
      "model_name": "HBoxModel",
      "state": {
       "children": [
        "IPY_MODEL_87ea7b199d9740ce8036d8321536fe2b",
        "IPY_MODEL_591127d06aa04c4eafcc0d1398165836",
        "IPY_MODEL_b8c6204fc27447fc8004933e2fa93ab9"
       ],
       "layout": "IPY_MODEL_f3377ad6e0fc434a91ebac52aa2b1181"
      }
     },
     "a811ab8a51d44e6bb61f8e6c0055e4ec": {
      "model_module": "@jupyter-widgets/controls",
      "model_module_version": "1.5.0",
      "model_name": "CheckboxModel",
      "state": {
       "disabled": false,
       "layout": "IPY_MODEL_b9ed503cdefe4bdf97f7afff2914da0e",
       "style": "IPY_MODEL_d5d8905540744f319b427d086cbd67c8",
       "value": false
      }
     },
     "a89889b1f364447ba6ef9fca2c0eb8b7": {
      "model_module": "@jupyter-widgets/base",
      "model_module_version": "1.2.0",
      "model_name": "LayoutModel",
      "state": {
       "align_items": "stretch",
       "display": "flex",
       "flex_flow": "row wrap",
       "width": "auto"
      }
     },
     "a8cce054e3e04830a535745d406f2cad": {
      "model_module": "@jupyter-widgets/base",
      "model_module_version": "1.2.0",
      "model_name": "LayoutModel",
      "state": {
       "width": "30px"
      }
     },
     "a93fce5b91b84b3a8588d2376c6cf119": {
      "model_module": "@jupyter-widgets/base",
      "model_module_version": "1.2.0",
      "model_name": "LayoutModel",
      "state": {
       "align_items": "stretch",
       "display": "flex",
       "flex_flow": "column",
       "width": "100%"
      }
     },
     "a9a19ce416fe4a2f9663406186ad2076": {
      "model_module": "@jupyter-widgets/base",
      "model_module_version": "1.2.0",
      "model_name": "LayoutModel",
      "state": {
       "align_items": "stretch",
       "display": "flex",
       "flex_flow": "row wrap",
       "width": "auto"
      }
     },
     "aa085949592f4b138c10012e6ecd63a2": {
      "model_module": "@jupyter-widgets/controls",
      "model_module_version": "1.5.0",
      "model_name": "ButtonModel",
      "state": {
       "description": "Submit",
       "layout": "IPY_MODEL_4d8e6b21ab654a45937251651ce9f0b9",
       "style": "IPY_MODEL_71aebc4cfd934773ac7c20f69f15e858"
      }
     },
     "aa4bac5e638347d2a2b93c1c9c58cc7e": {
      "model_module": "@jupyter-widgets/controls",
      "model_module_version": "1.5.0",
      "model_name": "HBoxModel",
      "state": {
       "children": [
        "IPY_MODEL_c974fd7dcfc1401cbd7f75bc72781f8f",
        "IPY_MODEL_b6e8a7ae0cdf4a51a7b921772d16b8e0"
       ],
       "layout": "IPY_MODEL_a08ff45450fb4be3ac967da81a4404d0"
      }
     },
     "aa66692018ea4aff99e9f0177679c6c6": {
      "model_module": "@jupyter-widgets/base",
      "model_module_version": "1.2.0",
      "model_name": "LayoutModel",
      "state": {
       "align_items": "stretch",
       "display": "flex",
       "flex_flow": "row wrap",
       "width": "auto"
      }
     },
     "aa68823ec12d4c5ba6157d3e1b146271": {
      "model_module": "@jupyter-widgets/controls",
      "model_module_version": "1.5.0",
      "model_name": "HBoxModel",
      "state": {
       "children": [
        "IPY_MODEL_0966a6e2493b44bb98cb3d956126a5f2"
       ],
       "layout": "IPY_MODEL_414b22f521bf45a39c49aa38ae50d4d4"
      }
     },
     "aa6d38a0e59a45778ad6b7c76ba30457": {
      "model_module": "@jupyter-widgets/controls",
      "model_module_version": "1.5.0",
      "model_name": "HBoxModel",
      "state": {
       "children": [
        "IPY_MODEL_3e74f467c77a4123b1a802ca5b144e45"
       ],
       "layout": "IPY_MODEL_564101e849fc48a693ce94ca68b69657"
      }
     },
     "ab2deacb837c44ce9e2326f956b94d9f": {
      "model_module": "@jupyter-widgets/base",
      "model_module_version": "1.2.0",
      "model_name": "LayoutModel",
      "state": {
       "width": "auto"
      }
     },
     "ab387ad8bb434f16b8c985b167cf126a": {
      "model_module": "@jupyter-widgets/controls",
      "model_module_version": "1.5.0",
      "model_name": "LabelModel",
      "state": {
       "layout": "IPY_MODEL_1ab8dc6930a742d4a3ffea69aeb21c5c",
       "style": "IPY_MODEL_9927e27b9943413c9179978484b2e80a"
      }
     },
     "abd97804b18f49b796a2886e945a7d71": {
      "model_module": "@jupyter-widgets/controls",
      "model_module_version": "1.5.0",
      "model_name": "ButtonModel",
      "state": {
       "description": "Submit",
       "layout": "IPY_MODEL_d6bb4561c39a4523a0d234feaba2a512",
       "style": "IPY_MODEL_ea9cae9755e24c7ca924cac6d1b689a7"
      }
     },
     "acee8c105e974ffb932e396af351691b": {
      "model_module": "@jupyter-widgets/controls",
      "model_module_version": "1.5.0",
      "model_name": "VBoxModel",
      "state": {
       "box_style": "info",
       "children": [
        "IPY_MODEL_5776cfbebfb04c1898fe699b252d9daa",
        "IPY_MODEL_5a7abb6cae654d65b7ffe647e3efb00c",
        "IPY_MODEL_f1f1294756ac4a14bb4d5622d63d45c2"
       ],
       "layout": "IPY_MODEL_c989d0b8f3354fd3a5699d96cffdb1ba"
      }
     },
     "ad03624aba8e48bbb758fafceb225bb4": {
      "model_module": "@jupyter-widgets/base",
      "model_module_version": "1.2.0",
      "model_name": "LayoutModel",
      "state": {
       "display": "flex",
       "flex_flow": "row",
       "justify_content": "space-between",
       "margin": "0 0 20px 0"
      }
     },
     "ae290b2e1a234fb59c0cfd77bf514d42": {
      "model_module": "@jupyter-widgets/base",
      "model_module_version": "1.2.0",
      "model_name": "LayoutModel",
      "state": {}
     },
     "ae95e85b4a1e4d7bac96d30b97ac2b4a": {
      "model_module": "@jupyter-widgets/controls",
      "model_module_version": "1.5.0",
      "model_name": "HBoxModel",
      "state": {
       "children": [
        "IPY_MODEL_8630ed0d7e1c4bb6b5ecd17751ebaf87",
        "IPY_MODEL_3f8ac0bb1bdc4a3db6d61c01f58bb89c"
       ],
       "layout": "IPY_MODEL_51d31314eb214c019419cb8e496a63d9"
      }
     },
     "aed3bdcd3a854df6a8264d8b1943883e": {
      "model_module": "@jupyter-widgets/controls",
      "model_module_version": "1.5.0",
      "model_name": "HBoxModel",
      "state": {
       "children": [
        "IPY_MODEL_2167ee090edc40feb5ee3d2d045e39be",
        "IPY_MODEL_2e1f1008863842d6817be335dafcdf94"
       ],
       "layout": "IPY_MODEL_3242c50951204acb86c489765b22ca11"
      }
     },
     "af4614c366a44e4ebce1d05a62d7d51b": {
      "model_module": "@jupyter-widgets/base",
      "model_module_version": "1.2.0",
      "model_name": "LayoutModel",
      "state": {}
     },
     "b22848636d4543eba94b5acee71d8161": {
      "model_module": "@jupyter-widgets/controls",
      "model_module_version": "1.5.0",
      "model_name": "DescriptionStyleModel",
      "state": {
       "description_width": ""
      }
     },
     "b22be200f76b443d8481badbeb0b4521": {
      "model_module": "@jupyter-widgets/controls",
      "model_module_version": "1.5.0",
      "model_name": "CheckboxModel",
      "state": {
       "disabled": false,
       "layout": "IPY_MODEL_d9b2bfbfe9d045848c386717648535a9",
       "style": "IPY_MODEL_5805d2f17c71413db675da8369969f25",
       "value": false
      }
     },
     "b267f50d6f7345fe8399545b5575440d": {
      "model_module": "@jupyter-widgets/base",
      "model_module_version": "1.2.0",
      "model_name": "LayoutModel",
      "state": {
       "height": "50%",
       "margin": "0 0 0 30px",
       "width": "50%"
      }
     },
     "b2bc9ac6ff834899a72959c685681754": {
      "model_module": "@jupyter-widgets/controls",
      "model_module_version": "1.5.0",
      "model_name": "LabelModel",
      "state": {
       "layout": "IPY_MODEL_99ff3702746c4c38bc1a6f58ba3e7b58",
       "style": "IPY_MODEL_d1b8182c566446b39cfa1899ffa6cfa7"
      }
     },
     "b36b2cb7d42641afa63f7e1a08c8b77c": {
      "model_module": "@jupyter-widgets/controls",
      "model_module_version": "1.5.0",
      "model_name": "HTMLModel",
      "state": {
       "layout": "IPY_MODEL_3ca4cc1e3bb0461dba87775b3defcb4c",
       "style": "IPY_MODEL_710909a0581a479396faaa613045b129",
       "value": "<style>p{word-wrap: break-word}</style> <p>Find all the combinations of bottles that yield a maximum volume. </p>"
      }
     },
     "b3d8948c14b741998844df79f673c859": {
      "model_module": "@jupyter-widgets/base",
      "model_module_version": "1.2.0",
      "model_name": "LayoutModel",
      "state": {}
     },
     "b45df9480fea412686906365e27ee43b": {
      "model_module": "@jupyter-widgets/controls",
      "model_module_version": "1.5.0",
      "model_name": "ButtonModel",
      "state": {
       "description": "Show answer",
       "disabled": true,
       "layout": "IPY_MODEL_fb5f7e3bfbc44db7a39a5164a754ca04",
       "style": "IPY_MODEL_3c5bb70eb9eb4dab80f233bfa38f5189"
      }
     },
     "b501f0be3e74421f815431a571c259c1": {
      "model_module": "@jupyter-widgets/base",
      "model_module_version": "1.2.0",
      "model_name": "LayoutModel",
      "state": {}
     },
     "b5bea0c84b0e4400999c68428fdee539": {
      "model_module": "@jupyter-widgets/base",
      "model_module_version": "1.2.0",
      "model_name": "LayoutModel",
      "state": {
       "align_items": "stretch",
       "display": "flex",
       "flex_flow": "row wrap",
       "width": "auto"
      }
     },
     "b61de64e54e04a75ac080b64b8dac783": {
      "model_module": "@jupyter-widgets/base",
      "model_module_version": "1.2.0",
      "model_name": "LayoutModel",
      "state": {
       "align_items": "stretch",
       "display": "flex",
       "flex_flow": "row wrap",
       "width": "auto"
      }
     },
     "b64aebc4fdcf4ca0bc8c48c5f6ee8567": {
      "model_module": "@jupyter-widgets/controls",
      "model_module_version": "1.5.0",
      "model_name": "HTMLModel",
      "state": {
       "layout": "IPY_MODEL_cdd36b560992413daf9df7cac4dd2f47",
       "style": "IPY_MODEL_298668e81a7a4611bc48c14cd856ae5f",
       "value": "<style>p{word-wrap: break-word}</style> <p>recurrence: solve(n) = v(n) + max{solve(n-2), solve(n-1)} </p>"
      }
     },
     "b6e8a7ae0cdf4a51a7b921772d16b8e0": {
      "model_module": "@jupyter-widgets/controls",
      "model_module_version": "1.5.0",
      "model_name": "HTMLModel",
      "state": {
       "layout": "IPY_MODEL_18674857e7c64155bd00da0c9a219b4e",
       "style": "IPY_MODEL_ceb5a3e19e524939a5b893e1e6aeb7cd",
       "value": "<style>p{word-wrap: break-word}</style> <p>recurrence: solve(n) = max{v(n) + solve(n-2), solve(n-1)} </p>"
      }
     },
     "b73e5455d02b480bb3313c9d6fc42a6f": {
      "model_module": "@jupyter-widgets/controls",
      "model_module_version": "1.5.0",
      "model_name": "HBoxModel",
      "state": {
       "children": [
        "IPY_MODEL_a1234cf88d164b2ab99394ef4364a8b3",
        "IPY_MODEL_947c008b78544866a00c1df5f87b3996"
       ],
       "layout": "IPY_MODEL_f4c5e9880c6847ee9be49907ca8151fb"
      }
     },
     "b7fa4e31003c4e7a894eaa1eb786fed3": {
      "model_module": "@jupyter-widgets/base",
      "model_module_version": "1.2.0",
      "model_name": "LayoutModel",
      "state": {
       "width": "30px"
      }
     },
     "b83d8c761ef447d0bfa1905fcd7e1b65": {
      "model_module": "@jupyter-widgets/base",
      "model_module_version": "1.2.0",
      "model_name": "LayoutModel",
      "state": {
       "align_items": "stretch",
       "display": "flex",
       "flex_flow": "row wrap",
       "width": "auto"
      }
     },
     "b8a963586c03483aa0edf162fbbb03d5": {
      "model_module": "@jupyter-widgets/controls",
      "model_module_version": "1.5.0",
      "model_name": "DescriptionStyleModel",
      "state": {
       "description_width": "initial"
      }
     },
     "b8c6204fc27447fc8004933e2fa93ab9": {
      "model_module": "@jupyter-widgets/controls",
      "model_module_version": "1.5.0",
      "model_name": "HTMLModel",
      "state": {
       "layout": "IPY_MODEL_51032db87d784d09bbc5bbf37271d4a2",
       "style": "IPY_MODEL_05c0eb49d7cc4ffb81d3205bd8a02f44",
       "value": "<style>p{word-wrap: break-word}</style> <p>bottles. </p>"
      }
     },
     "b9ed503cdefe4bdf97f7afff2914da0e": {
      "model_module": "@jupyter-widgets/base",
      "model_module_version": "1.2.0",
      "model_name": "LayoutModel",
      "state": {
       "width": "30px"
      }
     },
     "ba0c8569c9b64771a75cf5c8aeeed284": {
      "model_module": "@jupyter-widgets/controls",
      "model_module_version": "1.5.0",
      "model_name": "ButtonStyleModel",
      "state": {
       "button_color": "#4DD0E1"
      }
     },
     "bb01eb735969422ab6a66ca1230d0e00": {
      "model_module": "@jupyter-widgets/base",
      "model_module_version": "1.2.0",
      "model_name": "LayoutModel",
      "state": {}
     },
     "bb2cc71cce8c4d318cc7c6693937f1c3": {
      "model_module": "@jupyter-widgets/base",
      "model_module_version": "1.2.0",
      "model_name": "LayoutModel",
      "state": {
       "align_items": "stretch",
       "display": "flex",
       "flex_flow": "row wrap",
       "width": "auto"
      }
     },
     "bb437961e04f4563b899ccaaf9ead915": {
      "model_module": "@jupyter-widgets/base",
      "model_module_version": "1.2.0",
      "model_name": "LayoutModel",
      "state": {
       "align_items": "stretch",
       "display": "flex",
       "flex_flow": "row wrap",
       "width": "auto"
      }
     },
     "bb5a34a54da04beca8e74d8f26a0c932": {
      "model_module": "@jupyter-widgets/controls",
      "model_module_version": "1.5.0",
      "model_name": "HBoxModel",
      "state": {
       "children": [
        "IPY_MODEL_8baa1a65541c4c7baff09a70b8cdc237",
        "IPY_MODEL_2c18b118949b4028af4d6f9ebcb1adad"
       ],
       "layout": "IPY_MODEL_c38fb46e2bf9442099e0ead8d0bc6d06"
      }
     },
     "bd7fe6d9582f47849f733c36d477e63f": {
      "model_module": "@jupyter-widgets/base",
      "model_module_version": "1.2.0",
      "model_name": "LayoutModel",
      "state": {}
     },
     "bdf52c7cfcd14572bb1e3772f1bba229": {
      "model_module": "@jupyter-widgets/controls",
      "model_module_version": "1.5.0",
      "model_name": "HBoxModel",
      "state": {
       "children": [
        "IPY_MODEL_efcbf1a0baa743e1b7b014e47e882f4b"
       ],
       "layout": "IPY_MODEL_2724f1b1400c41c39b70e390a7ebe3f2"
      }
     },
     "bdffd92af6194d789156e93bdef1fa12": {
      "model_module": "@jupyter-widgets/controls",
      "model_module_version": "1.5.0",
      "model_name": "CheckboxModel",
      "state": {
       "disabled": false,
       "layout": "IPY_MODEL_30a1253629b048e3b62b900b2a913da0",
       "style": "IPY_MODEL_203b714c0bc64157afe12f6c1426b95a",
       "value": false
      }
     },
     "be3149933ff543be881f5994f36dfec5": {
      "model_module": "@jupyter-widgets/controls",
      "model_module_version": "1.5.0",
      "model_name": "HBoxModel",
      "state": {
       "children": [
        "IPY_MODEL_51f2c6a1f93244afb540cdec95108369",
        "IPY_MODEL_69342ba7a42a41d7b7c1e2f3c4bae71d",
        "IPY_MODEL_b45df9480fea412686906365e27ee43b"
       ],
       "layout": "IPY_MODEL_124bcd5d6ab8499aa8ab4ed8f774414d"
      }
     },
     "bf02fa2c325d4d91a711de776e693514": {
      "model_module": "@jupyter-widgets/controls",
      "model_module_version": "1.5.0",
      "model_name": "HTMLModel",
      "state": {
       "layout": "IPY_MODEL_8ec7916ca6794246ae0f2062b95024cb",
       "style": "IPY_MODEL_c4532385ac454a7c9f0e973d6924046c",
       "value": "<style>p{word-wrap: break-word}</style> <p>Find all combinations of bottles that are adjacent </p>"
      }
     },
     "c04f9f6191aa47f6b61cec3cebdeb15f": {
      "model_module": "@jupyter-widgets/controls",
      "model_module_version": "1.5.0",
      "model_name": "CheckboxModel",
      "state": {
       "disabled": false,
       "layout": "IPY_MODEL_21c8495163454da081fd0aca48ad370e",
       "style": "IPY_MODEL_66733605829b40b0991d63a63ca30923",
       "value": false
      }
     },
     "c0a7975a202a4bd4bd08e3303f4ea9b9": {
      "model_module": "@jupyter-widgets/base",
      "model_module_version": "1.2.0",
      "model_name": "LayoutModel",
      "state": {
       "width": "30px"
      }
     },
     "c144b29925244980859bf1f338ccf517": {
      "model_module": "@jupyter-widgets/base",
      "model_module_version": "1.2.0",
      "model_name": "LayoutModel",
      "state": {}
     },
     "c1cf933487ab4306ad2e227dbada8064": {
      "model_module": "@jupyter-widgets/base",
      "model_module_version": "1.2.0",
      "model_name": "LayoutModel",
      "state": {
       "align_items": "stretch",
       "display": "flex",
       "flex_flow": "row wrap",
       "width": "auto"
      }
     },
     "c1e92565f15843cc9e3c47990183f076": {
      "model_module": "@jupyter-widgets/controls",
      "model_module_version": "1.5.0",
      "model_name": "DescriptionStyleModel",
      "state": {
       "description_width": "initial"
      }
     },
     "c2b8bd5b8cf54bf686147a5d74761702": {
      "model_module": "@jupyter-widgets/controls",
      "model_module_version": "1.5.0",
      "model_name": "HTMLModel",
      "state": {
       "layout": "IPY_MODEL_9de277f5852644ada555c97a188b30c4",
       "style": "IPY_MODEL_458bbf0072ec46b9983f097bf3e00af4",
       "value": "<style>p{word-wrap: break-word}</style> <p>recurrence: solve(n) = max{solve(n-2), solve(n-1)} </p>"
      }
     },
     "c2fd6c3fb5524055b1c83eadc51fb6fa": {
      "model_module": "@jupyter-widgets/base",
      "model_module_version": "1.2.0",
      "model_name": "LayoutModel",
      "state": {}
     },
     "c38fb46e2bf9442099e0ead8d0bc6d06": {
      "model_module": "@jupyter-widgets/base",
      "model_module_version": "1.2.0",
      "model_name": "LayoutModel",
      "state": {
       "align_items": "stretch",
       "display": "flex",
       "flex_flow": "row wrap",
       "width": "auto"
      }
     },
     "c390c7865e404c08b0ca703cec1c258a": {
      "model_module": "@jupyter-widgets/controls",
      "model_module_version": "1.5.0",
      "model_name": "HBoxModel",
      "state": {
       "children": [
        "IPY_MODEL_3879e5b9ce3d43e6b61b4ac1b95fd356",
        "IPY_MODEL_ab387ad8bb434f16b8c985b167cf126a",
        "IPY_MODEL_628c8dcd78a94da098d3b2862666b8d7"
       ],
       "layout": "IPY_MODEL_738d97ac23de4a8fbb8432022f6b4dab"
      }
     },
     "c4532385ac454a7c9f0e973d6924046c": {
      "model_module": "@jupyter-widgets/controls",
      "model_module_version": "1.5.0",
      "model_name": "DescriptionStyleModel",
      "state": {
       "description_width": ""
      }
     },
     "c460f5f55d964379aba27a5b51d10ea2": {
      "model_module": "@jupyter-widgets/controls",
      "model_module_version": "1.5.0",
      "model_name": "HTMLModel",
      "state": {
       "layout": "IPY_MODEL_52ad3207eaab46688a4e550852e667f4",
       "style": "IPY_MODEL_6d3c51ee3cab43b28306af1e1d13654b",
       "value": "<style>p{word-wrap: break-word}</style> <p>base case: solve(0) = 0, solve(1) = v(1), solve(2) = solve(0) + solve(1) </p>"
      }
     },
     "c4861c159d92403b9f97f0b181db8227": {
      "model_module": "@jupyter-widgets/controls",
      "model_module_version": "1.5.0",
      "model_name": "VBoxModel",
      "state": {
       "children": [
        "IPY_MODEL_1215b5a561224a858310ca383c4fae49",
        "IPY_MODEL_ce0b0b4cfce84f91aaff6dd95f99aeda",
        "IPY_MODEL_0ff9c50d2e9f4e7bb33bd4642b6743ac"
       ],
       "layout": "IPY_MODEL_d6afa7c83a07491c9824e6939421395f"
      }
     },
     "c4b8b81205764335ac324a9c521abbbe": {
      "model_module": "@jupyter-widgets/base",
      "model_module_version": "1.2.0",
      "model_name": "LayoutModel",
      "state": {
       "align_items": "stretch",
       "display": "flex",
       "flex_flow": "row wrap",
       "width": "auto"
      }
     },
     "c4bd49236ae2458d8b28d28029522914": {
      "model_module": "@jupyter-widgets/controls",
      "model_module_version": "1.5.0",
      "model_name": "HBoxModel",
      "state": {
       "children": [
        "IPY_MODEL_ccae1c2054e844d8aa1267f52e32ba19",
        "IPY_MODEL_e4934acc24574d62b9976d296320b9d5"
       ],
       "layout": "IPY_MODEL_307d48c55e90488e99956174cb0cf28d"
      }
     },
     "c506100f74d1458fae9be370c8cda419": {
      "model_module": "@jupyter-widgets/controls",
      "model_module_version": "1.5.0",
      "model_name": "HBoxModel",
      "state": {
       "children": [
        "IPY_MODEL_c87f7836677c4f7c89e2ae70054aa1a4",
        "IPY_MODEL_f2bdf513258a471a9edf51cc20239597"
       ],
       "layout": "IPY_MODEL_897c72f0c75b4a95b7b5b83699ec107c"
      }
     },
     "c587755035f043acac2f0089c8f3eed6": {
      "model_module": "@jupyter-widgets/controls",
      "model_module_version": "1.5.0",
      "model_name": "ButtonStyleModel",
      "state": {
       "button_color": "#4DD0E1"
      }
     },
     "c5d9c77125db4455a125b694f5394340": {
      "model_module": "@jupyter-widgets/controls",
      "model_module_version": "1.5.0",
      "model_name": "DescriptionStyleModel",
      "state": {
       "description_width": ""
      }
     },
     "c648b7cc69dd4ff099bc23915b93695c": {
      "model_module": "@jupyter-widgets/controls",
      "model_module_version": "1.5.0",
      "model_name": "ButtonStyleModel",
      "state": {
       "button_color": "#4DD0E1"
      }
     },
     "c87f7836677c4f7c89e2ae70054aa1a4": {
      "model_module": "@jupyter-widgets/controls",
      "model_module_version": "1.5.0",
      "model_name": "LabelModel",
      "state": {
       "layout": "IPY_MODEL_3c98c0c700544b76a3e5019e0e83def8",
       "style": "IPY_MODEL_b22848636d4543eba94b5acee71d8161"
      }
     },
     "c936300a79f041638bbc5d3093ba10f2": {
      "model_module": "@jupyter-widgets/base",
      "model_module_version": "1.2.0",
      "model_name": "LayoutModel",
      "state": {
       "align_items": "stretch",
       "display": "flex",
       "flex_flow": "row wrap",
       "width": "auto"
      }
     },
     "c936cf7548d04f3689ac5125e7b97fd6": {
      "model_module": "@jupyter-widgets/controls",
      "model_module_version": "1.5.0",
      "model_name": "CheckboxModel",
      "state": {
       "disabled": false,
       "layout": "IPY_MODEL_e6cd4b9812c041e2a9bb413b8e2d7b24",
       "style": "IPY_MODEL_8a24ad819acc4b8f951cf10da1e142e8",
       "value": false
      }
     },
     "c93c304bcddb4bf9b0f5dece835cc775": {
      "model_module": "@jupyter-widgets/base",
      "model_module_version": "1.2.0",
      "model_name": "LayoutModel",
      "state": {
       "display": "none"
      }
     },
     "c974fd7dcfc1401cbd7f75bc72781f8f": {
      "model_module": "@jupyter-widgets/controls",
      "model_module_version": "1.5.0",
      "model_name": "CheckboxModel",
      "state": {
       "disabled": false,
       "layout": "IPY_MODEL_fa98ddaba4b2491d9d6c30535271337f",
       "style": "IPY_MODEL_64e2efa150904fe4ada592ee3519479a",
       "value": false
      }
     },
     "c989d0b8f3354fd3a5699d96cffdb1ba": {
      "model_module": "@jupyter-widgets/base",
      "model_module_version": "1.2.0",
      "model_name": "LayoutModel",
      "state": {
       "align_items": "stretch",
       "display": "flex",
       "flex_flow": "column",
       "width": "100%"
      }
     },
     "c9d8e42c15614e5e96d88aebee2728a3": {
      "model_module": "@jupyter-widgets/base",
      "model_module_version": "1.2.0",
      "model_name": "LayoutModel",
      "state": {
       "align_items": "stretch",
       "display": "flex",
       "flex_flow": "row wrap",
       "width": "auto"
      }
     },
     "c9f337683dd5470fa7c7051c39ba3376": {
      "model_module": "@jupyter-widgets/controls",
      "model_module_version": "1.5.0",
      "model_name": "DescriptionStyleModel",
      "state": {
       "description_width": ""
      }
     },
     "ca73ebfa16ac467588de550bd9476f96": {
      "model_module": "@jupyter-widgets/controls",
      "model_module_version": "1.5.0",
      "model_name": "ButtonModel",
      "state": {
       "description": "Show answer",
       "disabled": true,
       "layout": "IPY_MODEL_cbf63bedab5d4f9eaab4905fb5c8738d",
       "style": "IPY_MODEL_ba0c8569c9b64771a75cf5c8aeeed284"
      }
     },
     "cb24300a499d41d68ceb4e1926ab4592": {
      "model_module": "@jupyter-widgets/base",
      "model_module_version": "1.2.0",
      "model_name": "LayoutModel",
      "state": {
       "height": "50%",
       "margin": "0 0 0 30px",
       "width": "50%"
      }
     },
     "cb95f51ca7cb4f4c875d75c35114a22e": {
      "model_module": "@jupyter-widgets/controls",
      "model_module_version": "1.5.0",
      "model_name": "CheckboxModel",
      "state": {
       "disabled": false,
       "layout": "IPY_MODEL_f76bac03e17c480bb0a37b61349fb6a8",
       "style": "IPY_MODEL_0912a5688ab6446db7ccef1ca75bb7db",
       "value": false
      }
     },
     "cbf63bedab5d4f9eaab4905fb5c8738d": {
      "model_module": "@jupyter-widgets/base",
      "model_module_version": "1.2.0",
      "model_name": "LayoutModel",
      "state": {
       "display": "none"
      }
     },
     "cc6f41c85ae24499ab6d54aab3454ebb": {
      "model_module": "@jupyter-widgets/base",
      "model_module_version": "1.2.0",
      "model_name": "LayoutModel",
      "state": {
       "width": "30px"
      }
     },
     "cc828ba892884e1581142ed5ab4c8c52": {
      "model_module": "@jupyter-widgets/controls",
      "model_module_version": "1.5.0",
      "model_name": "HBoxModel",
      "state": {
       "children": [
        "IPY_MODEL_fb8aed9a98894ad88b784994495b0baf",
        "IPY_MODEL_eef0b6ab9e2c4f22b9d0d8d75fc02f39"
       ],
       "layout": "IPY_MODEL_470bcd69449b4b9db5c54490b250cd7b"
      }
     },
     "ccae1c2054e844d8aa1267f52e32ba19": {
      "model_module": "@jupyter-widgets/controls",
      "model_module_version": "1.5.0",
      "model_name": "LabelModel",
      "state": {
       "layout": "IPY_MODEL_3e5d24b8f1dc4fc781bade3ccc0e7100",
       "style": "IPY_MODEL_a16c970b50ec4ef5abe0e606c61bd598"
      }
     },
     "ccbc238deea74bb48d19aaad9665746d": {
      "model_module": "@jupyter-widgets/controls",
      "model_module_version": "1.5.0",
      "model_name": "CheckboxModel",
      "state": {
       "disabled": false,
       "layout": "IPY_MODEL_4b128dae822a4615a4cc36be5d58aab8",
       "style": "IPY_MODEL_15878489b7034365a3a0650de0d7a002",
       "value": false
      }
     },
     "cdcf3bee65e04302af5659ef14bc316c": {
      "model_module": "@jupyter-widgets/controls",
      "model_module_version": "1.5.0",
      "model_name": "HTMLModel",
      "state": {
       "layout": "IPY_MODEL_749bfa58932649158dc520966a8cf299",
       "style": "IPY_MODEL_f176c113ee9741f4b614d15fbbb0161d",
       "value": "<style>p{word-wrap: break-word}</style> <p>The problem doesn't give any constraint, I'll have to add a constraint in order to discover the recurrence. </p>"
      }
     },
     "cdd36b560992413daf9df7cac4dd2f47": {
      "model_module": "@jupyter-widgets/base",
      "model_module_version": "1.2.0",
      "model_name": "LayoutModel",
      "state": {}
     },
     "cddab054b00443fb809bd73bcffbfd2e": {
      "model_module": "@jupyter-widgets/base",
      "model_module_version": "1.2.0",
      "model_name": "LayoutModel",
      "state": {}
     },
     "cdfdd56fbb3d40ce9777d623c2f10314": {
      "model_module": "@jupyter-widgets/controls",
      "model_module_version": "1.5.0",
      "model_name": "HBoxModel",
      "state": {
       "children": [
        "IPY_MODEL_2d4e35db5e6d42bdae0e5499af9ce6a2",
        "IPY_MODEL_bf02fa2c325d4d91a711de776e693514"
       ],
       "layout": "IPY_MODEL_b5bea0c84b0e4400999c68428fdee539"
      }
     },
     "ce0b0b4cfce84f91aaff6dd95f99aeda": {
      "model_module": "@jupyter-widgets/controls",
      "model_module_version": "1.5.0",
      "model_name": "HBoxModel",
      "state": {
       "children": [
        "IPY_MODEL_d55b34d57d3a4bf99c883e902ebb5470",
        "IPY_MODEL_3bdad8a9087240db969dfd30411fd48a"
       ],
       "layout": "IPY_MODEL_2402e84cdc124c14a0abc9b13f22e178"
      }
     },
     "ceb5a3e19e524939a5b893e1e6aeb7cd": {
      "model_module": "@jupyter-widgets/controls",
      "model_module_version": "1.5.0",
      "model_name": "DescriptionStyleModel",
      "state": {
       "description_width": ""
      }
     },
     "cfabfb07f82d4081b33b2d063beb722a": {
      "model_module": "@jupyter-widgets/base",
      "model_module_version": "1.2.0",
      "model_name": "LayoutModel",
      "state": {}
     },
     "d0c843d82b68417eab453bbe67e43502": {
      "model_module": "@jupyter-widgets/base",
      "model_module_version": "1.2.0",
      "model_name": "LayoutModel",
      "state": {
       "align_items": "stretch",
       "display": "flex",
       "flex_flow": "column",
       "width": "100%"
      }
     },
     "d138ca93445f4c88bf4b54c3fee6f7c7": {
      "model_module": "@jupyter-widgets/base",
      "model_module_version": "1.2.0",
      "model_name": "LayoutModel",
      "state": {}
     },
     "d15f623d945f498197d0dcdb8e42c609": {
      "model_module": "@jupyter-widgets/controls",
      "model_module_version": "1.5.0",
      "model_name": "DescriptionStyleModel",
      "state": {
       "description_width": ""
      }
     },
     "d1b8182c566446b39cfa1899ffa6cfa7": {
      "model_module": "@jupyter-widgets/controls",
      "model_module_version": "1.5.0",
      "model_name": "DescriptionStyleModel",
      "state": {
       "description_width": ""
      }
     },
     "d23cecea248a43c3963813ea059ebeb6": {
      "model_module": "@jupyter-widgets/controls",
      "model_module_version": "1.5.0",
      "model_name": "HTMLModel",
      "state": {
       "layout": "IPY_MODEL_c144b29925244980859bf1f338ccf517",
       "style": "IPY_MODEL_1744346f141e47488b466200aeaacc9c",
       "value": "<style>p{word-wrap: break-word}</style> <p>The recurrence relation can be discovered from a constraint in the problem. </p>"
      }
     },
     "d374ebac50ac454fb66395efaaf8f44d": {
      "model_module": "@jupyter-widgets/controls",
      "model_module_version": "1.5.0",
      "model_name": "DescriptionStyleModel",
      "state": {
       "description_width": ""
      }
     },
     "d37f0d825f3e49bd89be42a645cd7ae5": {
      "model_module": "@jupyter-widgets/controls",
      "model_module_version": "1.5.0",
      "model_name": "HBoxModel",
      "state": {
       "children": [
        "IPY_MODEL_59eddb9db10a465196baa6a899dc74c4"
       ],
       "layout": "IPY_MODEL_1902c1c9ce834d7090420721dc432850"
      }
     },
     "d39fe5927e4c4eb4bc20c4c75cadcacd": {
      "model_module": "@jupyter-widgets/base",
      "model_module_version": "1.2.0",
      "model_name": "LayoutModel",
      "state": {
       "align_items": "stretch",
       "display": "flex",
       "flex_flow": "column",
       "width": "100%"
      }
     },
     "d400f5ee80db4cafab6a8d37f05b534c": {
      "model_module": "@jupyter-widgets/controls",
      "model_module_version": "1.5.0",
      "model_name": "TextModel",
      "state": {
       "layout": "IPY_MODEL_deca34dfdd824718864343cf8f6d203a",
       "placeholder": "",
       "style": "IPY_MODEL_7ca39e4b15374b2188cd8294171d66d3"
      }
     },
     "d46be7180dc649cea59a3db50229346e": {
      "model_module": "@jupyter-widgets/controls",
      "model_module_version": "1.5.0",
      "model_name": "HBoxModel",
      "state": {
       "children": [
        "IPY_MODEL_0bc6bafc62694ab4827ae4e05c8d7fe0",
        "IPY_MODEL_843c36b4c5394a049b492fa5eed3b34b"
       ],
       "layout": "IPY_MODEL_a9a19ce416fe4a2f9663406186ad2076"
      }
     },
     "d49736bdd1374c3b94ed4c0254241ea8": {
      "model_module": "@jupyter-widgets/controls",
      "model_module_version": "1.5.0",
      "model_name": "VBoxModel",
      "state": {
       "children": [
        "IPY_MODEL_ae95e85b4a1e4d7bac96d30b97ac2b4a",
        "IPY_MODEL_c506100f74d1458fae9be370c8cda419",
        "IPY_MODEL_fa81a68e588542428681f79810307840",
        "IPY_MODEL_2cda76aa371c48e3b2389a02419dc4bf",
        "IPY_MODEL_cc828ba892884e1581142ed5ab4c8c52",
        "IPY_MODEL_70e6ec8d35d04be9a519a99088c68fc6"
       ],
       "layout": "IPY_MODEL_7237773aa6f34b7a877aecca22feda44"
      }
     },
     "d4f526a73a6745ceb566fab57e8dcc8a": {
      "model_module": "@jupyter-widgets/base",
      "model_module_version": "1.2.0",
      "model_name": "LayoutModel",
      "state": {
       "align_items": "stretch",
       "display": "flex",
       "flex_flow": "column",
       "width": "100%"
      }
     },
     "d55b34d57d3a4bf99c883e902ebb5470": {
      "model_module": "@jupyter-widgets/controls",
      "model_module_version": "1.5.0",
      "model_name": "LabelModel",
      "state": {
       "layout": "IPY_MODEL_f75eb728e3f3466ca20a2a887f9e4aea",
       "style": "IPY_MODEL_973531cb5bee4c159c4ad19176819a62"
      }
     },
     "d57aae70d5f14d23b1753ca76449aea7": {
      "model_module": "@jupyter-widgets/base",
      "model_module_version": "1.2.0",
      "model_name": "LayoutModel",
      "state": {
       "align_items": "stretch",
       "display": "flex",
       "flex_flow": "row wrap",
       "width": "auto"
      }
     },
     "d5d8905540744f319b427d086cbd67c8": {
      "model_module": "@jupyter-widgets/controls",
      "model_module_version": "1.5.0",
      "model_name": "DescriptionStyleModel",
      "state": {
       "description_width": "initial"
      }
     },
     "d641ab9ed51e4788b80c0b35bf8e8d77": {
      "model_module": "@jupyter-widgets/controls",
      "model_module_version": "1.5.0",
      "model_name": "HBoxModel",
      "state": {
       "children": [
        "IPY_MODEL_7c998375fcf541058da53077386d4f5c",
        "IPY_MODEL_d23cecea248a43c3963813ea059ebeb6"
       ],
       "layout": "IPY_MODEL_0aad27a7f025449c88961355e49c2e1b"
      }
     },
     "d65b006d2a43435da350b10c3b44597b": {
      "model_module": "@jupyter-widgets/base",
      "model_module_version": "1.2.0",
      "model_name": "LayoutModel",
      "state": {
       "align_items": "stretch",
       "display": "flex",
       "flex_flow": "row wrap",
       "width": "auto"
      }
     },
     "d6afa7c83a07491c9824e6939421395f": {
      "model_module": "@jupyter-widgets/base",
      "model_module_version": "1.2.0",
      "model_name": "LayoutModel",
      "state": {
       "align_items": "stretch",
       "display": "flex",
       "flex_flow": "column",
       "width": "100%"
      }
     },
     "d6bb4561c39a4523a0d234feaba2a512": {
      "model_module": "@jupyter-widgets/base",
      "model_module_version": "1.2.0",
      "model_name": "LayoutModel",
      "state": {}
     },
     "d71284f395e7493db86c99135bf6d632": {
      "model_module": "@jupyter-widgets/controls",
      "model_module_version": "1.5.0",
      "model_name": "DescriptionStyleModel",
      "state": {
       "description_width": ""
      }
     },
     "d7187da380da4bfbb2768ad461f49d28": {
      "model_module": "@jupyter-widgets/controls",
      "model_module_version": "1.5.0",
      "model_name": "DescriptionStyleModel",
      "state": {
       "description_width": ""
      }
     },
     "d73914fe29c44084b73162230dfa30da": {
      "model_module": "@jupyter-widgets/controls",
      "model_module_version": "1.5.0",
      "model_name": "HTMLModel",
      "state": {
       "layout": "IPY_MODEL_e3b65056e1a14eb69c66da0356119589",
       "style": "IPY_MODEL_ee026aaa79474d77b3641fb971e7fc88",
       "value": "<style>p{word-wrap: break-word}</style> <p>If solve(k) is the maximum amount you can drink from the first k bottles, and v(n) is the volume of the n'th bottle, which definitions below are part of the recurrence relation? </p>"
      }
     },
     "d7f669a220b0409694819e82e7da6821": {
      "model_module": "@jupyter-widgets/controls",
      "model_module_version": "1.5.0",
      "model_name": "DescriptionStyleModel",
      "state": {
       "description_width": "initial"
      }
     },
     "d800cbbbf0114cce8f8b8d93a002d7bc": {
      "model_module": "@jupyter-widgets/base",
      "model_module_version": "1.2.0",
      "model_name": "LayoutModel",
      "state": {}
     },
     "d88a3ff63a6d43918ef05eddf5134f65": {
      "model_module": "@jupyter-widgets/controls",
      "model_module_version": "1.5.0",
      "model_name": "HBoxModel",
      "state": {
       "children": [
        "IPY_MODEL_a4cb46f5e1b84fe08152abe2a6ff2bed",
        "IPY_MODEL_4e9f9b012bdc4c09a9757a22a8aa8c53"
       ],
       "layout": "IPY_MODEL_0331645b82614d08adfa2cab3282c986"
      }
     },
     "d9b2bfbfe9d045848c386717648535a9": {
      "model_module": "@jupyter-widgets/base",
      "model_module_version": "1.2.0",
      "model_name": "LayoutModel",
      "state": {
       "width": "30px"
      }
     },
     "da17e1ecca16408199c65b53b642231b": {
      "model_module": "@jupyter-widgets/controls",
      "model_module_version": "1.5.0",
      "model_name": "HBoxModel",
      "state": {
       "children": [
        "IPY_MODEL_212f61101b8943e69b5a0bc8438df52e",
        "IPY_MODEL_aa4bac5e638347d2a2b93c1c9c58cc7e"
       ],
       "layout": "IPY_MODEL_4a6078b6d71741f2ad6b216fedf2483a"
      }
     },
     "daef2f1ac6514f13a5af10a7b3a57c5d": {
      "model_module": "@jupyter-widgets/base",
      "model_module_version": "1.2.0",
      "model_name": "LayoutModel",
      "state": {
       "height": "50%",
       "margin": "0 0 0 30px",
       "width": "50%"
      }
     },
     "dc8ec710ab3d45e99a13ac3839801cee": {
      "model_module": "@jupyter-widgets/controls",
      "model_module_version": "1.5.0",
      "model_name": "HBoxModel",
      "state": {
       "children": [
        "IPY_MODEL_e323c9e856e346afba5ea0c9a957e1b0",
        "IPY_MODEL_cdcf3bee65e04302af5659ef14bc316c"
       ],
       "layout": "IPY_MODEL_61189ff1f53946b7a73c8aaf96abc79e"
      }
     },
     "ddbeb188c20240dc8320d8f7edc83ebf": {
      "model_module": "@jupyter-widgets/controls",
      "model_module_version": "1.5.0",
      "model_name": "DescriptionStyleModel",
      "state": {
       "description_width": ""
      }
     },
     "deca34dfdd824718864343cf8f6d203a": {
      "model_module": "@jupyter-widgets/base",
      "model_module_version": "1.2.0",
      "model_name": "LayoutModel",
      "state": {
       "width": "auto"
      }
     },
     "dee4d6afd196491a8418c1a499cd159a": {
      "model_module": "@jupyter-widgets/base",
      "model_module_version": "1.2.0",
      "model_name": "LayoutModel",
      "state": {}
     },
     "df068b0ea2bd459982b374ba4aadf757": {
      "model_module": "@jupyter-widgets/base",
      "model_module_version": "1.2.0",
      "model_name": "LayoutModel",
      "state": {}
     },
     "e0067ac2a6554159a1e018a6da43b3bb": {
      "model_module": "@jupyter-widgets/base",
      "model_module_version": "1.2.0",
      "model_name": "LayoutModel",
      "state": {
       "align_items": "stretch",
       "display": "flex",
       "flex_flow": "row wrap",
       "width": "auto"
      }
     },
     "e0189ab19c124d7e8e7d4de81f9d6d92": {
      "model_module": "@jupyter-widgets/controls",
      "model_module_version": "1.5.0",
      "model_name": "ButtonStyleModel",
      "state": {
       "button_color": "#4DD0E1"
      }
     },
     "e033e0dd7d17405ab13bf4ccb08c7692": {
      "model_module": "@jupyter-widgets/controls",
      "model_module_version": "1.5.0",
      "model_name": "DescriptionStyleModel",
      "state": {
       "description_width": ""
      }
     },
     "e1958408edbc4088be275e7bcf553e28": {
      "model_module": "@jupyter-widgets/controls",
      "model_module_version": "1.5.0",
      "model_name": "LabelModel",
      "state": {
       "layout": "IPY_MODEL_df068b0ea2bd459982b374ba4aadf757",
       "style": "IPY_MODEL_0b4bfe3c640a4544bf90e0782c9f05c3"
      }
     },
     "e1dfb71d5cab4f0e88a8098750c681a4": {
      "model_module": "@jupyter-widgets/base",
      "model_module_version": "1.2.0",
      "model_name": "LayoutModel",
      "state": {
       "align_items": "stretch",
       "display": "flex",
       "flex_flow": "column",
       "width": "100%"
      }
     },
     "e2382ecdc7074bb7ad92dfe3228c122b": {
      "model_module": "@jupyter-widgets/controls",
      "model_module_version": "1.5.0",
      "model_name": "LabelModel",
      "state": {
       "layout": "IPY_MODEL_71744b74f28b430785a7c259e73d557b",
       "style": "IPY_MODEL_27bba2ab888a4ae9854baf08e7c11e6a"
      }
     },
     "e323c9e856e346afba5ea0c9a957e1b0": {
      "model_module": "@jupyter-widgets/controls",
      "model_module_version": "1.5.0",
      "model_name": "CheckboxModel",
      "state": {
       "disabled": false,
       "layout": "IPY_MODEL_f99b8f67e4b74d92b51e97d3101d7ec3",
       "style": "IPY_MODEL_38d7fe59ceb146a69d11cf789369db2e",
       "value": false
      }
     },
     "e338f2c0b52843289635bc180261a695": {
      "model_module": "@jupyter-widgets/controls",
      "model_module_version": "1.5.0",
      "model_name": "LabelModel",
      "state": {
       "layout": "IPY_MODEL_9cb08223898645e5bfc4267af245d427",
       "style": "IPY_MODEL_12472571c42446a19e95b3bf339015f0"
      }
     },
     "e3b65056e1a14eb69c66da0356119589": {
      "model_module": "@jupyter-widgets/base",
      "model_module_version": "1.2.0",
      "model_name": "LayoutModel",
      "state": {}
     },
     "e4934acc24574d62b9976d296320b9d5": {
      "model_module": "@jupyter-widgets/controls",
      "model_module_version": "1.5.0",
      "model_name": "HBoxModel",
      "state": {
       "children": [
        "IPY_MODEL_6088a30d373c49a2a8937e2fbec3cdde",
        "IPY_MODEL_475a12f263b64593b600c479cd581035"
       ],
       "layout": "IPY_MODEL_bb2cc71cce8c4d318cc7c6693937f1c3"
      }
     },
     "e4cae4413af240bd8d8849332124c831": {
      "model_module": "@jupyter-widgets/controls",
      "model_module_version": "1.5.0",
      "model_name": "HBoxModel",
      "state": {
       "children": [
        "IPY_MODEL_e2382ecdc7074bb7ad92dfe3228c122b",
        "IPY_MODEL_2f51018ac03b4754a2bf2a6046e39a65"
       ],
       "layout": "IPY_MODEL_827dbef230b14b439b6ebe8a56dfa65d"
      }
     },
     "e5bab4e9a8ca41f4b84e114ef5084a9f": {
      "model_module": "@jupyter-widgets/base",
      "model_module_version": "1.2.0",
      "model_name": "LayoutModel",
      "state": {
       "width": "30px"
      }
     },
     "e653dc3f72ad48dc8d0698d7ca6afc9e": {
      "model_module": "@jupyter-widgets/base",
      "model_module_version": "1.2.0",
      "model_name": "LayoutModel",
      "state": {
       "align_items": "stretch",
       "display": "flex",
       "flex_flow": "row wrap",
       "width": "auto"
      }
     },
     "e68f589adec0418eb4d3893ee027569a": {
      "model_module": "@jupyter-widgets/controls",
      "model_module_version": "1.5.0",
      "model_name": "HBoxModel",
      "state": {
       "children": [
        "IPY_MODEL_768362fa9899424896d2431753714d1d",
        "IPY_MODEL_86f1ca34e6a14cef9ac844b1e91bd54e"
       ],
       "layout": "IPY_MODEL_fc9ba76e8642486996e329fc89d6bfbd"
      }
     },
     "e6b9c73b5c2f4b16a5ba7c40b6a7fbf5": {
      "model_module": "@jupyter-widgets/base",
      "model_module_version": "1.2.0",
      "model_name": "LayoutModel",
      "state": {}
     },
     "e6cd4b9812c041e2a9bb413b8e2d7b24": {
      "model_module": "@jupyter-widgets/base",
      "model_module_version": "1.2.0",
      "model_name": "LayoutModel",
      "state": {
       "width": "30px"
      }
     },
     "e6e77f3bc4344e058f9fd83bdb8e5c4e": {
      "model_module": "@jupyter-widgets/controls",
      "model_module_version": "1.5.0",
      "model_name": "HTMLModel",
      "state": {
       "layout": "IPY_MODEL_5d529d4da2d44d4db092166309cb9fb5",
       "style": "IPY_MODEL_30b629308dbd4801b4a0eeee12c18289",
       "value": "<style>p{word-wrap: break-word}</style> <p>The recurrence relation is given, nothing to discover. </p>"
      }
     },
     "e7bf5ff6cc764061970a262ea521d6ed": {
      "model_module": "@jupyter-widgets/controls",
      "model_module_version": "1.5.0",
      "model_name": "DescriptionStyleModel",
      "state": {
       "description_width": ""
      }
     },
     "e7d25c3ad2cb41a58b825204986eb919": {
      "model_module": "@jupyter-widgets/controls",
      "model_module_version": "1.5.0",
      "model_name": "HTMLModel",
      "state": {
       "layout": "IPY_MODEL_234eba0fe7624700855d84e85631995b",
       "style": "IPY_MODEL_615fdef9f27448a693d4e37820b0dff8",
       "value": "<style>p{word-wrap: break-word}</style> <p>The recurrence relation can be discovered from a constraint in the problem. </p>"
      }
     },
     "e8fa6e6b3f83412db4aa4736071a4cd2": {
      "model_module": "@jupyter-widgets/controls",
      "model_module_version": "1.5.0",
      "model_name": "HTMLModel",
      "state": {
       "layout": "IPY_MODEL_1307f090506c40fe87520bceb0588076",
       "style": "IPY_MODEL_16cee6512748416dbce46094848d4af3",
       "value": "<style>p{word-wrap: break-word}</style> <p>bottles. </p>"
      }
     },
     "e947be08bbe74df6ac990b918aad2fc4": {
      "model_module": "@jupyter-widgets/controls",
      "model_module_version": "1.5.0",
      "model_name": "DescriptionStyleModel",
      "state": {
       "description_width": ""
      }
     },
     "e9f4efb09f234053a4b66688e8b7a323": {
      "model_module": "@jupyter-widgets/base",
      "model_module_version": "1.2.0",
      "model_name": "LayoutModel",
      "state": {}
     },
     "ea06c840d92c47018218675064d9c65d": {
      "model_module": "@jupyter-widgets/controls",
      "model_module_version": "1.5.0",
      "model_name": "HBoxModel",
      "state": {
       "children": [
        "IPY_MODEL_a811ab8a51d44e6bb61f8e6c0055e4ec",
        "IPY_MODEL_e6e77f3bc4344e058f9fd83bdb8e5c4e"
       ],
       "layout": "IPY_MODEL_e0067ac2a6554159a1e018a6da43b3bb"
      }
     },
     "ea50a304d7be4deb9a5f311cc91bd908": {
      "model_module": "@jupyter-widgets/controls",
      "model_module_version": "1.5.0",
      "model_name": "HBoxModel",
      "state": {
       "children": [
        "IPY_MODEL_ff6d5dcc437b4f2faea5022d7e53d6f8",
        "IPY_MODEL_63d389e2778843159cff0b26d326e715"
       ],
       "layout": "IPY_MODEL_38656f6ced9942dbbe0aefba96fd3b4d"
      }
     },
     "ea9cae9755e24c7ca924cac6d1b689a7": {
      "model_module": "@jupyter-widgets/controls",
      "model_module_version": "1.5.0",
      "model_name": "ButtonStyleModel",
      "state": {
       "button_color": "#4DD0E1"
      }
     },
     "eaa195b65062430397155a707e403fdf": {
      "model_module": "@jupyter-widgets/controls",
      "model_module_version": "1.5.0",
      "model_name": "DescriptionStyleModel",
      "state": {
       "description_width": ""
      }
     },
     "ead5a7e91b3e41d39f9ce0148dddc77c": {
      "model_module": "@jupyter-widgets/controls",
      "model_module_version": "1.5.0",
      "model_name": "VBoxModel",
      "state": {
       "children": [
        "IPY_MODEL_d46be7180dc649cea59a3db50229346e",
        "IPY_MODEL_6581408d41b54f75b2462c95ce83e238",
        "IPY_MODEL_99bc89681fc8482dbff2efebf6edb5db",
        "IPY_MODEL_99ea98b918c54a67800b89b2f27a58dd",
        "IPY_MODEL_bb5a34a54da04beca8e74d8f26a0c932",
        "IPY_MODEL_da17e1ecca16408199c65b53b642231b"
       ],
       "layout": "IPY_MODEL_2482be23756d49528261580cd502950e"
      }
     },
     "eb1ec032289f4ce0b60007fcbe691e16": {
      "model_module": "@jupyter-widgets/controls",
      "model_module_version": "1.5.0",
      "model_name": "CheckboxModel",
      "state": {
       "disabled": false,
       "layout": "IPY_MODEL_fac492971d4d4758b479aa48941d50ad",
       "style": "IPY_MODEL_8f3706b0f0a849c781d0606b00d21933",
       "value": false
      }
     },
     "ebb96954814e43648d31e2f1dd2904bc": {
      "model_module": "@jupyter-widgets/controls",
      "model_module_version": "1.5.0",
      "model_name": "DescriptionStyleModel",
      "state": {
       "description_width": "initial"
      }
     },
     "ec3705d524ea4e6ba29fb5776e85c580": {
      "model_module": "@jupyter-widgets/controls",
      "model_module_version": "1.5.0",
      "model_name": "ButtonModel",
      "state": {
       "description": "Show answer",
       "disabled": true,
       "layout": "IPY_MODEL_92c649d634ec48f89d0b0ddb80152310",
       "style": "IPY_MODEL_49315f49c8384752ac283ca0d8392372"
      }
     },
     "ec3bb6a41dc748449237a2e134de4b2c": {
      "model_module": "@jupyter-widgets/controls",
      "model_module_version": "1.5.0",
      "model_name": "HTMLModel",
      "state": {
       "layout": "IPY_MODEL_f5d1322250a6482ba43ae630b8ccb69f",
       "style": "IPY_MODEL_46ba2afb41d14976abc253612614c57e",
       "value": "<style>p{word-wrap: break-word}</style> <p>recurrence: solve(n) = max{solve(n-2), solve(n-1)} </p>"
      }
     },
     "ecc3559e39194309982dd69408ec5b19": {
      "model_module": "@jupyter-widgets/controls",
      "model_module_version": "1.5.0",
      "model_name": "DescriptionStyleModel",
      "state": {
       "description_width": "initial"
      }
     },
     "ee026aaa79474d77b3641fb971e7fc88": {
      "model_module": "@jupyter-widgets/controls",
      "model_module_version": "1.5.0",
      "model_name": "DescriptionStyleModel",
      "state": {
       "description_width": ""
      }
     },
     "eef0b6ab9e2c4f22b9d0d8d75fc02f39": {
      "model_module": "@jupyter-widgets/controls",
      "model_module_version": "1.5.0",
      "model_name": "HBoxModel",
      "state": {
       "children": [
        "IPY_MODEL_9d56fe681c0f4726a322d6820c4320c2",
        "IPY_MODEL_b64aebc4fdcf4ca0bc8c48c5f6ee8567"
       ],
       "layout": "IPY_MODEL_fe6c09d1d5f84203a7b3fd9b5066e9d9"
      }
     },
     "efc97a78ba2f41419e004bdcd3fa3b2a": {
      "model_module": "@jupyter-widgets/controls",
      "model_module_version": "1.5.0",
      "model_name": "HTMLModel",
      "state": {
       "layout": "IPY_MODEL_5010a688b5934f24a44946da37e80461",
       "style": "IPY_MODEL_ddbeb188c20240dc8320d8f7edc83ebf",
       "value": "<style>p{word-wrap: break-word}</style> <p>recurrence: solve(n) = v(n) + max{solve(n-2), solve(n-1)} </p>"
      }
     },
     "efcbf1a0baa743e1b7b014e47e882f4b": {
      "model_module": "@jupyter-widgets/controls",
      "model_module_version": "1.5.0",
      "model_name": "HTMLModel",
      "state": {
       "layout": "IPY_MODEL_4c372581324449718739892e36aef386",
       "style": "IPY_MODEL_9b8df67d6ab64e138871c81bef94c82b",
       "value": "<style>p{word-wrap: break-word}</style> <p>In our example of the drinking game with 8 bottles ... </p>"
      }
     },
     "f159e052a3f84307bc20810bcd9e6a90": {
      "model_module": "@jupyter-widgets/controls",
      "model_module_version": "1.5.0",
      "model_name": "HBoxModel",
      "state": {
       "children": [
        "IPY_MODEL_732a4394afa24b8eb5a38305a2e43b99",
        "IPY_MODEL_a7b6919750504699a5d2718731f17298"
       ],
       "layout": "IPY_MODEL_bb437961e04f4563b899ccaaf9ead915"
      }
     },
     "f176c113ee9741f4b614d15fbbb0161d": {
      "model_module": "@jupyter-widgets/controls",
      "model_module_version": "1.5.0",
      "model_name": "DescriptionStyleModel",
      "state": {
       "description_width": ""
      }
     },
     "f1f1294756ac4a14bb4d5622d63d45c2": {
      "model_module": "@jupyter-widgets/controls",
      "model_module_version": "1.5.0",
      "model_name": "HBoxModel",
      "state": {
       "children": [
        "IPY_MODEL_13860ecd9ceb470589a5ea0c11a8bc63",
        "IPY_MODEL_3c7f4c1d640f45a5994d2c8eb629ff23",
        "IPY_MODEL_ec3705d524ea4e6ba29fb5776e85c580"
       ],
       "layout": "IPY_MODEL_1346aaa6cea84381a033c20316a1dfd4"
      }
     },
     "f2bbd0487c394b8bbe98e2550a8c7f78": {
      "model_module": "@jupyter-widgets/controls",
      "model_module_version": "1.5.0",
      "model_name": "HTMLModel",
      "state": {
       "layout": "IPY_MODEL_5ee5e2d91f8341fa90b3c2c9221b379a",
       "style": "IPY_MODEL_a54354d569be43f898a473588bed87e4",
       "value": "<style>p{word-wrap: break-word}</style> <p>base case: solve(0) = 0, solve(1) = v(1), solve(2) = v(2) </p>"
      }
     },
     "f2bdf513258a471a9edf51cc20239597": {
      "model_module": "@jupyter-widgets/controls",
      "model_module_version": "1.5.0",
      "model_name": "HBoxModel",
      "state": {
       "children": [
        "IPY_MODEL_03e79d9bc7664d57820dc78381c6c466",
        "IPY_MODEL_c460f5f55d964379aba27a5b51d10ea2"
       ],
       "layout": "IPY_MODEL_82d2c5ed00b6475d9a3b679216c93da4"
      }
     },
     "f2dbc1d0badf4e7dbac1b4f5d4f62f53": {
      "model_module": "@jupyter-widgets/controls",
      "model_module_version": "1.5.0",
      "model_name": "DescriptionStyleModel",
      "state": {
       "description_width": ""
      }
     },
     "f3377ad6e0fc434a91ebac52aa2b1181": {
      "model_module": "@jupyter-widgets/base",
      "model_module_version": "1.2.0",
      "model_name": "LayoutModel",
      "state": {
       "align_items": "stretch",
       "display": "flex",
       "flex_flow": "row wrap",
       "width": "auto"
      }
     },
     "f476da414b0a4fea870b3c0bb7c1ff39": {
      "model_module": "@jupyter-widgets/controls",
      "model_module_version": "1.5.0",
      "model_name": "LabelModel",
      "state": {
       "layout": "IPY_MODEL_af4614c366a44e4ebce1d05a62d7d51b",
       "style": "IPY_MODEL_eaa195b65062430397155a707e403fdf"
      }
     },
     "f4c5e9880c6847ee9be49907ca8151fb": {
      "model_module": "@jupyter-widgets/base",
      "model_module_version": "1.2.0",
      "model_name": "LayoutModel",
      "state": {
       "align_items": "stretch",
       "display": "flex",
       "flex_flow": "row wrap",
       "width": "auto"
      }
     },
     "f4e1561117ad43aeb3b4476fce433aab": {
      "model_module": "@jupyter-widgets/controls",
      "model_module_version": "1.5.0",
      "model_name": "HBoxModel",
      "state": {
       "children": [
        "IPY_MODEL_2644a6fc010c4a6d8df3e2ae8c9fec51"
       ],
       "layout": "IPY_MODEL_6d23877487d542f59c1b25f45633a820"
      }
     },
     "f4ec7aca11b8423c8208e8a5f3132946": {
      "model_module": "@jupyter-widgets/base",
      "model_module_version": "1.2.0",
      "model_name": "LayoutModel",
      "state": {
       "align_items": "stretch",
       "display": "flex",
       "flex_flow": "row wrap",
       "width": "auto"
      }
     },
     "f5d1322250a6482ba43ae630b8ccb69f": {
      "model_module": "@jupyter-widgets/base",
      "model_module_version": "1.2.0",
      "model_name": "LayoutModel",
      "state": {}
     },
     "f7047b3815c54e95917bb79a75fea21c": {
      "model_module": "@jupyter-widgets/controls",
      "model_module_version": "1.5.0",
      "model_name": "DescriptionStyleModel",
      "state": {
       "description_width": ""
      }
     },
     "f70e5660ae9e41ca950ddb2aa68fcfc3": {
      "model_module": "@jupyter-widgets/base",
      "model_module_version": "1.2.0",
      "model_name": "LayoutModel",
      "state": {}
     },
     "f75eb728e3f3466ca20a2a887f9e4aea": {
      "model_module": "@jupyter-widgets/base",
      "model_module_version": "1.2.0",
      "model_name": "LayoutModel",
      "state": {}
     },
     "f7653d405162489eb2f1f44dde091121": {
      "model_module": "@jupyter-widgets/base",
      "model_module_version": "1.2.0",
      "model_name": "LayoutModel",
      "state": {}
     },
     "f76bac03e17c480bb0a37b61349fb6a8": {
      "model_module": "@jupyter-widgets/base",
      "model_module_version": "1.2.0",
      "model_name": "LayoutModel",
      "state": {
       "width": "30px"
      }
     },
     "f7dcfdbba32e47af9fadf679565f0cab": {
      "model_module": "@jupyter-widgets/base",
      "model_module_version": "1.2.0",
      "model_name": "LayoutModel",
      "state": {}
     },
     "f86e0ad98d674352a232f23dd3f2b8b2": {
      "model_module": "@jupyter-widgets/controls",
      "model_module_version": "1.5.0",
      "model_name": "HTMLModel",
      "state": {
       "layout": "IPY_MODEL_0e24ed491e374238901eb19fdf21abc2",
       "style": "IPY_MODEL_0a2e9356b9ae4ff8aa2575999f9e0a07",
       "value": "<style>p{word-wrap: break-word}</style> <p>base case: solve(0) = 0, solve(1) = v(1), solve(2) = max{solve(1), solve(2)} </p>"
      }
     },
     "f99b8f67e4b74d92b51e97d3101d7ec3": {
      "model_module": "@jupyter-widgets/base",
      "model_module_version": "1.2.0",
      "model_name": "LayoutModel",
      "state": {
       "width": "30px"
      }
     },
     "fa81a68e588542428681f79810307840": {
      "model_module": "@jupyter-widgets/controls",
      "model_module_version": "1.5.0",
      "model_name": "HBoxModel",
      "state": {
       "children": [
        "IPY_MODEL_73aae25eb0f14c6789c5f64426a5b716",
        "IPY_MODEL_a0fcc59733d24407b4066f115857a654"
       ],
       "layout": "IPY_MODEL_b61de64e54e04a75ac080b64b8dac783"
      }
     },
     "fa8f05c63f2b4de9a477097b523906c4": {
      "model_module": "@jupyter-widgets/controls",
      "model_module_version": "1.5.0",
      "model_name": "DescriptionStyleModel",
      "state": {
       "description_width": ""
      }
     },
     "fa98ddaba4b2491d9d6c30535271337f": {
      "model_module": "@jupyter-widgets/base",
      "model_module_version": "1.2.0",
      "model_name": "LayoutModel",
      "state": {
       "width": "30px"
      }
     },
     "fac492971d4d4758b479aa48941d50ad": {
      "model_module": "@jupyter-widgets/base",
      "model_module_version": "1.2.0",
      "model_name": "LayoutModel",
      "state": {
       "width": "30px"
      }
     },
     "faf546559ea14902b71ef8a57a91f426": {
      "model_module": "@jupyter-widgets/controls",
      "model_module_version": "1.5.0",
      "model_name": "ButtonStyleModel",
      "state": {
       "button_color": "#4DD0E1"
      }
     },
     "fb5d50c6d5334b96a5dc272a7dd5574a": {
      "model_module": "@jupyter-widgets/controls",
      "model_module_version": "1.5.0",
      "model_name": "LabelModel",
      "state": {
       "layout": "IPY_MODEL_a18947fc73cc4d6fadc59e9f647210a3",
       "style": "IPY_MODEL_4bee475e91974952b08ef14671f9dca8"
      }
     },
     "fb5f7e3bfbc44db7a39a5164a754ca04": {
      "model_module": "@jupyter-widgets/base",
      "model_module_version": "1.2.0",
      "model_name": "LayoutModel",
      "state": {
       "display": "none"
      }
     },
     "fb8aed9a98894ad88b784994495b0baf": {
      "model_module": "@jupyter-widgets/controls",
      "model_module_version": "1.5.0",
      "model_name": "LabelModel",
      "state": {
       "layout": "IPY_MODEL_474cd8339ce7460facaf7d70bdbf7c68",
       "style": "IPY_MODEL_2186e1eb5cca487fabe2edd0b01c0371"
      }
     },
     "fc05f7059f7c4b04b140d9f7ed9171bb": {
      "model_module": "@jupyter-widgets/controls",
      "model_module_version": "1.5.0",
      "model_name": "CheckboxModel",
      "state": {
       "disabled": false,
       "layout": "IPY_MODEL_60933395a69f49bdba1ce26f06007a51",
       "style": "IPY_MODEL_000e9aa3059e45339f43c17c4d4dd091",
       "value": false
      }
     },
     "fc9ba76e8642486996e329fc89d6bfbd": {
      "model_module": "@jupyter-widgets/base",
      "model_module_version": "1.2.0",
      "model_name": "LayoutModel",
      "state": {
       "align_items": "stretch",
       "display": "flex",
       "flex_flow": "row wrap",
       "width": "auto"
      }
     },
     "fd1075e1005f48d89fa497848879c607": {
      "model_module": "@jupyter-widgets/base",
      "model_module_version": "1.2.0",
      "model_name": "LayoutModel",
      "state": {
       "width": "30px"
      }
     },
     "fe15d09c970a41edb8ff46da0ee4161d": {
      "model_module": "@jupyter-widgets/controls",
      "model_module_version": "1.5.0",
      "model_name": "DescriptionStyleModel",
      "state": {
       "description_width": ""
      }
     },
     "fe36ad49fdb947509f09e1f07c193729": {
      "model_module": "@jupyter-widgets/controls",
      "model_module_version": "1.5.0",
      "model_name": "DescriptionStyleModel",
      "state": {
       "description_width": ""
      }
     },
     "fe448780df2149c5919b4c022feeb968": {
      "model_module": "@jupyter-widgets/controls",
      "model_module_version": "1.5.0",
      "model_name": "DescriptionStyleModel",
      "state": {
       "description_width": ""
      }
     },
     "fe6c09d1d5f84203a7b3fd9b5066e9d9": {
      "model_module": "@jupyter-widgets/base",
      "model_module_version": "1.2.0",
      "model_name": "LayoutModel",
      "state": {
       "align_items": "stretch",
       "display": "flex",
       "flex_flow": "row wrap",
       "width": "auto"
      }
     },
     "fec7c8bc17464bd59dbd61c5d69b9a4c": {
      "model_module": "@jupyter-widgets/base",
      "model_module_version": "1.2.0",
      "model_name": "LayoutModel",
      "state": {
       "align_items": "stretch",
       "display": "flex",
       "flex_flow": "row wrap",
       "width": "auto"
      }
     },
     "fef7cbea7981402d8f8bf31b7172b115": {
      "model_module": "@jupyter-widgets/controls",
      "model_module_version": "1.5.0",
      "model_name": "HTMLModel",
      "state": {
       "layout": "IPY_MODEL_1278e6d5fc924bbe8f96b02c79619f97",
       "style": "IPY_MODEL_2dea1737adb7495bbe2d02cf56fc8b8f",
       "value": "<style>p{word-wrap: break-word}</style> <p>If you choose the 8th bottle, the rest of the solution will come from the first </p>"
      }
     },
     "ff6d5dcc437b4f2faea5022d7e53d6f8": {
      "model_module": "@jupyter-widgets/controls",
      "model_module_version": "1.5.0",
      "model_name": "HBoxModel",
      "state": {
       "children": [
        "IPY_MODEL_fef7cbea7981402d8f8bf31b7172b115",
        "IPY_MODEL_246d65733a7542a092734abd229f6284",
        "IPY_MODEL_9766850a6686472fae44366755af6448"
       ],
       "layout": "IPY_MODEL_78aea55d6ba746689b27498dd56f0ee1"
      }
     },
     "ff9fd6656d2e41fca159370a22ceae08": {
      "model_module": "@jupyter-widgets/base",
      "model_module_version": "1.2.0",
      "model_name": "LayoutModel",
      "state": {
       "align_items": "stretch",
       "display": "flex",
       "flex_flow": "row wrap",
       "width": "auto"
      }
     },
     "fff7d37ebec34f649e4187a8c7f00d43": {
      "model_module": "@jupyter-widgets/controls",
      "model_module_version": "1.5.0",
      "model_name": "DescriptionStyleModel",
      "state": {
       "description_width": ""
      }
     }
    },
    "version_major": 2,
    "version_minor": 0
   }
  }
 },
 "nbformat": 4,
 "nbformat_minor": 4
}
