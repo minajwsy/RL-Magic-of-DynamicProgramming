{
 "cells": [
  {
   "cell_type": "markdown",
   "metadata": {},
   "source": [
    "# Lesson 3: The Drinking Game <a class=\"tocSkip\">\n",
    "    \n",
    "By the end of this lesson, you will know how to approach _any_ dynamic programming problem.\n",
    "    \n",
    "To demonstrate this method, we'll work on our first problem that really requires dynamic programming to solve which I have called 'The Drinking Game'.\n",
    "\n",
    "Along the way you'll learn:\n",
    "1. When to ignore, and what parts to ignore in the problem description\n",
    "2. One common starting strategy (we'll cover others later)\n",
    "2. The 4 steps: Two steps to a correct solution, one more step to an efficient solution, and one further step for optional improvement.\n",
    "    \n",
    "    \n",
    "The following video introduces the topic.  \n"
   ]
  },
  {
   "cell_type": "code",
   "execution_count": 4,
   "metadata": {
    "hide_input": true,
    "pycharm": {
     "name": "#%%\n"
    }
   },
   "outputs": [
    {
     "data": {
      "image/jpeg": "[encoded data removed]",
      "text/html": [
       "\n",
       "        <iframe\n",
       "            width=\"400\"\n",
       "            height=\"300\"\n",
       "            src=\"https://www.youtube.com/embed/B4201HEb3ro\"\n",
       "            frameborder=\"0\"\n",
       "            allowfullscreen\n",
       "        ></iframe>\n",
       "        "
      ],
      "text/plain": [
       "<IPython.lib.display.YouTubeVideo at 0x26679cbd888>"
      ]
     },
     "execution_count": 4,
     "metadata": {},
     "output_type": "execute_result"
    }
   ],
   "source": [
    "from IPython.display import YouTubeVideo\n",
    "YouTubeVideo('B4201HEb3ro')"
   ]
  },
  {
   "cell_type": "markdown",
   "metadata": {
    "hide_input": true
   },
   "source": [
    "\n",
    "\n",
    "\n",
    "\n",
    "\n"
   ]
  },
  {
   "cell_type": "markdown",
   "metadata": {},
   "source": [
    "## The Drinking Game Problem\n",
    "The drinking game is an easy to understand version of 'find the maximum weighted [independent set](https://en.wikipedia.org/wiki/Independent_set_(graph_theory)) on a line'. The bottles can be thought of as vertices in a graph like this: 0---0---0---0---0----0. Since the vertices are weighted, this could be a better example: 3--1--4--1--5--9--2--6.\n",
    "\n",
    "We want to find the heaviest set of vertices that are not connected."
   ]
  },
  {
   "cell_type": "code",
   "execution_count": 1,
   "metadata": {},
   "outputs": [
    {
     "data": {
      "image/svg+xml": [
       "<?xml version=\"1.0\" encoding=\"UTF-8\"?>\n",
       "<svg xmlns=\"http://www.w3.org/2000/svg\" xmlns:xlink=\"http://www.w3.org/1999/xlink\" width=\"200pt\" height=\"200pt\" viewBox=\"0 0 200 200\" version=\"1.1\">\n",
       "<defs>\n",
       "<g>\n",
       "<symbol overflow=\"visible\" id=\"glyph0-0\">\n",
       "<path style=\"stroke:none;\" d=\"M 1.75 0 L 1.75 -8.75 L 8.75 -8.75 L 8.75 0 Z M 1.96875 -0.21875 L 8.53125 -0.21875 L 8.53125 -8.53125 L 1.96875 -8.53125 Z M 1.96875 -0.21875 \"/>\n",
       "</symbol>\n",
       "<symbol overflow=\"visible\" id=\"glyph0-1\">\n",
       "<path style=\"stroke:none;\" d=\"M -0.0195313 0 L 3.828125 -10.023438 L 5.257813 -10.023438 L 9.359375 0 L 7.847656 0 L 6.679688 -3.035156 L 2.488281 -3.035156 L 1.386719 0 Z M 2.871094 -4.117188 L 6.269531 -4.117188 L 5.222656 -6.890625 C 4.898438 -7.734375 4.664063 -8.425781 4.511719 -8.96875 C 4.382813 -8.324219 4.203125 -7.6875 3.972656 -7.054688 Z M 2.871094 -4.117188 \"/>\n",
       "</symbol>\n",
       "<symbol overflow=\"visible\" id=\"glyph0-2\">\n",
       "<path style=\"stroke:none;\" d=\"M 1.023438 0 L 1.023438 -10.023438 L 4.785156 -10.023438 C 5.546875 -10.019531 6.160156 -9.917969 6.625 -9.71875 C 7.085938 -9.511719 7.449219 -9.199219 7.714844 -8.78125 C 7.976563 -8.355469 8.109375 -7.914063 8.109375 -7.457031 C 8.109375 -7.027344 7.992188 -6.625 7.757813 -6.246094 C 7.523438 -5.867188 7.171875 -5.5625 6.707031 -5.332031 C 7.3125 -5.152344 7.777344 -4.847656 8.105469 -4.421875 C 8.425781 -3.992188 8.589844 -3.488281 8.59375 -2.90625 C 8.589844 -2.4375 8.492188 -2 8.296875 -1.597656 C 8.097656 -1.191406 7.851563 -0.878906 7.5625 -0.664063 C 7.269531 -0.441406 6.902344 -0.277344 6.464844 -0.167969 C 6.019531 -0.0546875 5.480469 0 4.847656 0 Z M 2.351563 -5.8125 L 4.519531 -5.8125 C 5.101563 -5.8125 5.523438 -5.847656 5.78125 -5.925781 C 6.117188 -6.023438 6.371094 -6.191406 6.542969 -6.425781 C 6.710938 -6.65625 6.796875 -6.949219 6.800781 -7.300781 C 6.796875 -7.632813 6.71875 -7.925781 6.5625 -8.179688 C 6.402344 -8.429688 6.171875 -8.601563 5.878906 -8.699219 C 5.578125 -8.789063 5.070313 -8.835938 4.355469 -8.839844 L 2.351563 -8.839844 Z M 2.351563 -1.183594 L 4.847656 -1.183594 C 5.269531 -1.183594 5.570313 -1.199219 5.75 -1.230469 C 6.050781 -1.285156 6.304688 -1.375 6.511719 -1.503906 C 6.714844 -1.628906 6.886719 -1.8125 7.019531 -2.058594 C 7.152344 -2.300781 7.21875 -2.585938 7.21875 -2.90625 C 7.21875 -3.277344 7.121094 -3.601563 6.929688 -3.878906 C 6.738281 -4.152344 6.472656 -4.34375 6.132813 -4.460938 C 5.792969 -4.570313 5.304688 -4.628906 4.667969 -4.628906 L 2.351563 -4.628906 Z M 2.351563 -1.183594 \"/>\n",
       "</symbol>\n",
       "<symbol overflow=\"visible\" id=\"glyph0-3\">\n",
       "<path style=\"stroke:none;\" d=\"M 8.230469 -3.515625 L 9.554688 -3.179688 C 9.277344 -2.089844 8.777344 -1.257813 8.054688 -0.6875 C 7.332031 -0.113281 6.449219 0.167969 5.40625 0.171875 C 4.324219 0.167969 3.445313 -0.046875 2.773438 -0.488281 C 2.09375 -0.925781 1.578125 -1.5625 1.226563 -2.398438 C 0.867188 -3.226563 0.691406 -4.125 0.695313 -5.085938 C 0.691406 -6.128906 0.890625 -7.039063 1.292969 -7.816406 C 1.691406 -8.59375 2.257813 -9.183594 2.996094 -9.585938 C 3.730469 -9.988281 4.542969 -10.1875 5.429688 -10.191406 C 6.425781 -10.1875 7.269531 -9.933594 7.957031 -9.425781 C 8.640625 -8.914063 9.117188 -8.195313 9.386719 -7.273438 L 8.078125 -6.964844 C 7.84375 -7.691406 7.507813 -8.222656 7.066406 -8.558594 C 6.625 -8.890625 6.066406 -9.058594 5.398438 -9.058594 C 4.625 -9.058594 3.984375 -8.871094 3.46875 -8.503906 C 2.953125 -8.128906 2.589844 -7.632813 2.378906 -7.015625 C 2.167969 -6.390625 2.0625 -5.75 2.0625 -5.09375 C 2.0625 -4.234375 2.183594 -3.492188 2.433594 -2.859375 C 2.679688 -2.222656 3.066406 -1.746094 3.59375 -1.433594 C 4.117188 -1.117188 4.6875 -0.960938 5.296875 -0.964844 C 6.039063 -0.960938 6.667969 -1.175781 7.183594 -1.605469 C 7.699219 -2.035156 8.046875 -2.671875 8.230469 -3.515625 Z M 8.230469 -3.515625 \"/>\n",
       "</symbol>\n",
       "</g>\n",
       "</defs>\n",
       "<g id=\"surface2\">\n",
       "<rect x=\"0\" y=\"0\" width=\"200\" height=\"200\" style=\"fill:rgb(100%,100%,100%);fill-opacity:1;stroke:none;\"/>\n",
       "<path style=\"fill:none;stroke-width:1;stroke-linecap:butt;stroke-linejoin:miter;stroke:rgb(26.666667%,26.666667%,26.666667%);stroke-opacity:1;stroke-miterlimit:10;\" d=\"M 20 180 L 71.628906 20.816406 \"/>\n",
       "<path style=\"fill:none;stroke-width:1;stroke-linecap:butt;stroke-linejoin:miter;stroke:rgb(26.666667%,26.666667%,26.666667%);stroke-opacity:1;stroke-miterlimit:10;\" d=\"M 71.628906 20.816406 L 180 20 \"/>\n",
       "<path style=\"fill:none;stroke-width:1;stroke-linecap:butt;stroke-linejoin:miter;stroke:rgb(26.666667%,26.666667%,26.666667%);stroke-opacity:1;stroke-miterlimit:10;\" d=\"M 20 180 L 180 20 \"/>\n",
       "<path style=\"fill-rule:nonzero;fill:rgb(100%,0%,0%);fill-opacity:1;stroke-width:1;stroke-linecap:butt;stroke-linejoin:miter;stroke:rgb(0%,0%,0%);stroke-opacity:1;stroke-miterlimit:10;\" d=\"M 30 180 C 30 185.523438 25.523438 190 20 190 C 14.476563 190 10 185.523438 10 180 C 10 174.476563 14.476563 170 20 170 C 25.523438 170 30 174.476563 30 180 \"/>\n",
       "<path style=\"fill-rule:nonzero;fill:rgb(100%,0%,0%);fill-opacity:1;stroke-width:1;stroke-linecap:butt;stroke-linejoin:miter;stroke:rgb(0%,0%,0%);stroke-opacity:1;stroke-miterlimit:10;\" d=\"M 81.628906 20.816406 C 81.628906 26.335938 77.152344 30.816406 71.628906 30.816406 C 66.109375 30.816406 61.628906 26.335938 61.628906 20.816406 C 61.628906 15.292969 66.109375 10.816406 71.628906 10.816406 C 77.152344 10.816406 81.628906 15.292969 81.628906 20.816406 \"/>\n",
       "<path style=\"fill-rule:nonzero;fill:rgb(100%,0%,0%);fill-opacity:1;stroke-width:1;stroke-linecap:butt;stroke-linejoin:miter;stroke:rgb(0%,0%,0%);stroke-opacity:1;stroke-miterlimit:10;\" d=\"M 190 20 C 190 25.523438 185.523438 30 180 30 C 174.476563 30 170 25.523438 170 20 C 170 14.476563 174.476563 10 180 10 C 185.523438 10 190 14.476563 190 20 \"/>\n",
       "<g style=\"fill:rgb(0%,0%,0%);fill-opacity:1;\">\n",
       "  <use xlink:href=\"#glyph0-1\" x=\"5.992188\" y=\"186.511719\"/>\n",
       "  <use xlink:href=\"#glyph0-1\" x=\"15.330078\" y=\"186.511719\"/>\n",
       "  <use xlink:href=\"#glyph0-1\" x=\"24.667969\" y=\"186.511719\"/>\n",
       "</g>\n",
       "<g style=\"fill:rgb(0%,0%,0%);fill-opacity:1;\">\n",
       "  <use xlink:href=\"#glyph0-2\" x=\"62.152344\" y=\"27.324219\"/>\n",
       "  <use xlink:href=\"#glyph0-2\" x=\"71.490234\" y=\"27.324219\"/>\n",
       "</g>\n",
       "<g style=\"fill:rgb(0%,0%,0%);fill-opacity:1;\">\n",
       "  <use xlink:href=\"#glyph0-3\" x=\"174.875\" y=\"26.597656\"/>\n",
       "</g>\n",
       "</g>\n",
       "</svg>\n"
      ],
      "text/plain": [
       "<igraph.drawing.Plot at 0x1f7fee2d5c8>"
      ]
     },
     "execution_count": 1,
     "metadata": {
      "image/svg+xml": {
       "isolated": true
      }
     },
     "output_type": "execute_result"
    }
   ],
   "source": [
    "# Import packages\n",
    "import igraph\n",
    "# create an empty graph\n",
    "myGraph = igraph.Graph()\n",
    "    \n",
    "# add three nodes or vertices and add labels to them\n",
    "myGraph.add_vertices(3)\n",
    "myGraph.vs[\"label\"] = [\"AAA\",\"BB\",\"C\"]\n",
    "\n",
    "# create three edges among these nodes\n",
    "myGraph.add_edges([(0,1),(1,2),(2,0)])\n",
    "\n",
    "# draw the graph\n",
    "igraph.plot(myGraph, layout = myGraph.layout_random(), bbox=(200,200))"
   ]
  },
  {
   "cell_type": "markdown",
   "metadata": {},
   "source": [
    "<figure>\n",
    "    <img src=\"../images/drinking_game_bottles.png\">\n",
    "    <figcaption>Figure 1: You’re given a sequence of n bottles, the volumes of some (unidentified) liquid are $𝑣_0$ through $𝑣_{(𝑛−1)}$ . Drink as much as you can, given that you cannot drink from any two adjacent bottles.\n",
    "    </figcaption>\n",
    "</figure>\n",
    "<p>"
   ]
  },
  {
   "cell_type": "markdown",
   "metadata": {
    "pycharm": {
     "name": "#%% md\n"
    }
   },
   "source": [
    "### How to start\n",
    "The following quiz relates to the description of the problem in the figure above, where the 'rule' is: \"no taking adjacent bottles!\""
   ]
  },
  {
   "cell_type": "code",
   "execution_count": 1,
   "metadata": {
    "pycharm": {
     "name": "#%%\n"
    }
   },
   "outputs": [
    {
     "data": {
      "application/vnd.jupyter.widget-view+json": {
       "model_id": "cbe40e3af6c245a88931ca8bc669aea1",
       "version_major": 2,
       "version_minor": 0
      },
      "text/plain": [
       "AppLayout(box_style='info', children=(HBox(children=(Label(value='As a first step, how would you rephrase the …"
      ]
     },
     "metadata": {},
     "output_type": "display_data"
    }
   ],
   "source": [
    "%run quizzes/quiz.py quizzes/03/first_step.json"
   ]
  },
  {
   "cell_type": "markdown",
   "metadata": {
    "pycharm": {
     "name": "#%% md\n"
    }
   },
   "source": [
    "As a first step, ignore the optimization part of the question."
   ]
  },
  {
   "cell_type": "code",
   "execution_count": null,
   "metadata": {},
   "outputs": [],
   "source": [
    "def solve(v):\n",
    "    "
   ]
  },
  {
   "cell_type": "code",
   "execution_count": null,
   "metadata": {},
   "outputs": [],
   "source": [
    "# unit tests\n",
    "assert([] = 0)\n",
    "assert([5] = 5)\n",
    "assert([5, 6] = 6)\n",
    "assert([5, 5, 5, 5, 5] = 15)\n",
    "assert([3, 1, 4, 1, 5, 9, 2, 6] = 22)"
   ]
  },
  {
   "cell_type": "code",
   "execution_count": null,
   "metadata": {
    "deletable": false,
    "editable": false
   },
   "outputs": [],
   "source": [
    "# workaround for known ipywidget issue not rendering alert style colours on Jupyter lab\n",
    "from IPython.core.display import HTML\n",
    "HTML(open(\"../styles/custom.css\", \"r\").read())"
   ]
  }
 ],
 "metadata": {
  "kernelspec": {
   "display_name": "Python 3",
   "language": "python",
   "name": "python3"
  },
  "language_info": {
   "codemirror_mode": {
    "name": "ipython",
    "version": 3
   },
   "file_extension": ".py",
   "mimetype": "text/x-python",
   "name": "python",
   "nbconvert_exporter": "python",
   "pygments_lexer": "ipython3",
   "version": "3.7.6"
  },
  "latex_envs": {
   "LaTeX_envs_menu_present": true,
   "autoclose": true,
   "autocomplete": true,
   "bibliofile": "biblio.bib",
   "cite_by": "apalike",
   "current_citInitial": 1,
   "eqLabelWithNumbers": true,
   "eqNumInitial": 1,
   "hotkeys": {
    "equation": "Ctrl-E",
    "itemize": "Ctrl-I"
   },
   "labels_anchors": false,
   "latex_user_defs": false,
   "report_style_numbering": false,
   "user_envs_cfg": false
  },
  "toc": {
   "base_numbering": 1,
   "nav_menu": {},
   "number_sections": false,
   "sideBar": true,
   "skip_h1_title": false,
   "title_cell": "Table of Contents",
   "title_sidebar": "Contents",
   "toc_cell": false,
   "toc_position": {},
   "toc_section_display": true,
   "toc_window_display": true
  }
 },
 "nbformat": 4,
 "nbformat_minor": 4
}
