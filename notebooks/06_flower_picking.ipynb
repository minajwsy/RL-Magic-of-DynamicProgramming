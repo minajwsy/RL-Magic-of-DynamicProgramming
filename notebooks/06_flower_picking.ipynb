{
 "cells": [
  {
   "cell_type": "markdown",
   "metadata": {},
   "source": [
    "<font size=\"+4\">Lesson 6: Flower Picking</font>\n",
    "    \n",
    "If dynamic programming is one of the \"sledgehammers of the algorithm craft\" (Dasgupta et al., 2008), then the technique you will learn in this lesson is your swing. Finding the right subproblems, breaking the original problem up correctly is the most difficult part of dynamic programming. In this lesson you will learn that sometimes you need to _strengthen the induction hypothesis_ of the given problem in order to find the correct subproblems.\n",
    "    \n",
    "To demonstrate this, we will work on the longest increasing subsequence problem, which I have dubbed flower picking because you're gonna be trying to pick flowers in increasing order of size without changing the order they are growing in.\n",
    "\n",
    "In this lessson you'll learn:\n",
    "1. When to strengthen the induction hypothesis\n",
    "2. How to strengthen the induction hypothesis through careful rewording of the original problem\n",
    "     \n",
    "The following video introduces the topic.  "
   ]
  },
  {
   "cell_type": "code",
   "execution_count": 1,
   "metadata": {
    "pycharm": {
     "name": "#%%\n"
    }
   },
   "outputs": [
    {
     "data": {
      "text/html": [
       "\n",
       "        <iframe\n",
       "            width=\"400\"\n",
       "            height=\"300\"\n",
       "            src=\"https://www.youtube.com/embed/\"\n",
       "            frameborder=\"0\"\n",
       "            allowfullscreen\n",
       "        ></iframe>\n",
       "        "
      ],
      "text/plain": [
       "<IPython.lib.display.YouTubeVideo at 0x22a76ce93c8>"
      ]
     },
     "execution_count": 1,
     "metadata": {},
     "output_type": "execute_result"
    }
   ],
   "source": [
    "from IPython.display import YouTubeVideo\n",
    "YouTubeVideo('')"
   ]
  },
  {
   "cell_type": "markdown",
   "metadata": {},
   "source": [
    "\n",
    "\n",
    "\n",
    "\n",
    "\n"
   ]
  },
  {
   "cell_type": "markdown",
   "metadata": {},
   "source": [
    "# Longest Increasing Subsequence in Four Steps\n",
    "<figure>\n",
    "    <img src=\"../images/flower_picking.png\">\n",
    "    <figcaption>Figure 1: You're given a sequence of numbers. What is the length of its longest increasing subsequence?\n",
    "    </figcaption>\n",
    "</figure>\n",
    "<p>\n",
    "    \n",
    "To understand how the [longest increasing subsequence](https://en.wikipedia.org/wiki/Longest_increasing_subsequence) problem differs from similarly sounding problems, imagine you are given this line of flowers. Your challenge is to pick the longest line of flowers out of the original line that are strictly increasing in size. For example [5, 9, 6] is NOT an increasing subsequence of [3, 1, 4, 1, 5, 9, 2, 6]\n",
    "    "
   ]
  },
  {
   "cell_type": "markdown",
   "metadata": {},
   "source": [
    "Note: The longest common substring problem is most often stated like this: You are given two string, X of length n and Y of length m. Find the longest string which is a substring of both X and Y. The worked example in this notebook will be to find the _length_ of the longest substring and not the substring itself."
   ]
  },
  {
   "cell_type": "code",
   "execution_count": 2,
   "metadata": {
    "pycharm": {
     "name": "#%%\n"
    }
   },
   "outputs": [
    {
     "data": {
      "application/vnd.jupyter.widget-view+json": {
       "model_id": "4dabccd636ad4a6cbc9191db779956b4",
       "version_major": 2,
       "version_minor": 0
      },
      "text/plain": [
       "VBox(box_style='info', children=(HBox(children=(HTML(value='<style>p{word-wrap: break-word}</style> <p>Fill in…"
      ]
     },
     "metadata": {},
     "output_type": "display_data"
    }
   ],
   "source": [
    "%run quizzes/quiz.py quizzes/06/lis_example.json"
   ]
  },
  {
   "cell_type": "markdown",
   "metadata": {},
   "source": [
    "# References\n",
    "\n",
    "1. Dasgupta, S., Papadimitriou, C. H., & Vazirani, U. V. (2008). Algorithms. McGraw-Hill Higher Education New York.\n",
    "\n",
    "2. Forišek, M. (2015). Towards a better way to teach dynamic programming. Olympiads in Informatics, 9, 45–55."
   ]
  },
  {
   "cell_type": "code",
   "execution_count": null,
   "metadata": {
    "collapsed": false,
    "jupyter": {
     "outputs_hidden": false
    },
    "pycharm": {
     "name": "#%%\n"
    }
   },
   "outputs": [],
   "source": [
    "#workaround for known ipywidget issue not rendering alert style colours on Jupyter lab\n",
    "from IPython.core.display import HTML\n",
    "HTML(open(\"../styles/custom.css\", \"r\").read())"
   ]
  }
 ],
 "metadata": {
  "kernelspec": {
   "display_name": "Python 3",
   "language": "python",
   "name": "python3"
  },
  "language_info": {
   "codemirror_mode": {
    "name": "ipython",
    "version": 3
   },
   "file_extension": ".py",
   "mimetype": "text/x-python",
   "name": "python",
   "nbconvert_exporter": "python",
   "pygments_lexer": "ipython3",
   "version": "3.7.6"
  },
  "latex_envs": {
   "LaTeX_envs_menu_present": true,
   "autoclose": true,
   "autocomplete": true,
   "bibliofile": "biblio.bib",
   "cite_by": "apalike",
   "current_citInitial": 1,
   "eqLabelWithNumbers": true,
   "eqNumInitial": 1,
   "hotkeys": {
    "equation": "Ctrl-E",
    "itemize": "Ctrl-I"
   },
   "labels_anchors": false,
   "latex_user_defs": false,
   "report_style_numbering": false,
   "user_envs_cfg": false
  },
  "toc": {
   "base_numbering": 1,
   "nav_menu": {},
   "number_sections": false,
   "sideBar": true,
   "skip_h1_title": false,
   "title_cell": "Table of Contents",
   "title_sidebar": "Contents",
   "toc_cell": false,
   "toc_position": {},
   "toc_section_display": true,
   "toc_window_display": true
  },
  "toc-autonumbering": true,
  "toc-showtags": false,
  "widgets": {
   "application/vnd.jupyter.widget-state+json": {
    "state": {
     "0156036b41cc4ce8911432941236cb40": {
      "model_module": "@jupyter-widgets/base",
      "model_module_version": "1.2.0",
      "model_name": "LayoutModel",
      "state": {
       "align_items": "stretch",
       "display": "flex",
       "flex_flow": "row wrap",
       "width": "auto"
      }
     },
     "0433e4c0ede940e5a5af68833e91f147": {
      "model_module": "@jupyter-widgets/controls",
      "model_module_version": "1.5.0",
      "model_name": "HBoxModel",
      "state": {
       "children": [
        "IPY_MODEL_a90a63edba0d48568226193f612740c9",
        "IPY_MODEL_8e8bb2b7ed024fd9bf59658a8e1fbf88"
       ],
       "layout": "IPY_MODEL_5c8e2ee59a7945cf9f979c3304158bd8"
      }
     },
     "04c6547c8383496580505e0a13581914": {
      "model_module": "@jupyter-widgets/controls",
      "model_module_version": "1.5.0",
      "model_name": "DescriptionStyleModel",
      "state": {
       "description_width": ""
      }
     },
     "07bf8e6c28704ccbb36edb3cbd7db0a0": {
      "model_module": "@jupyter-widgets/base",
      "model_module_version": "1.2.0",
      "model_name": "LayoutModel",
      "state": {
       "width": "30px"
      }
     },
     "07fceaddf5924994bd839314aa1773fc": {
      "model_module": "@jupyter-widgets/controls",
      "model_module_version": "1.5.0",
      "model_name": "TextModel",
      "state": {
       "layout": "IPY_MODEL_9691e008284d4d75981b1dd995858871",
       "placeholder": "",
       "style": "IPY_MODEL_53562f8c6bed4c069234fdcbc96a13bc"
      }
     },
     "08d22eea52674f66889bcea947c9ae3a": {
      "model_module": "@jupyter-widgets/base",
      "model_module_version": "1.2.0",
      "model_name": "LayoutModel",
      "state": {
       "align_items": "stretch",
       "display": "flex",
       "flex_flow": "row wrap",
       "width": "auto"
      }
     },
     "0a06f99a95734c4c94eecab7e035f991": {
      "model_module": "@jupyter-widgets/controls",
      "model_module_version": "1.5.0",
      "model_name": "HTMLModel",
      "state": {
       "layout": "IPY_MODEL_52e5c25c86114761aa98724570739367",
       "style": "IPY_MODEL_5a24dcada7984a2d93fe6fd127ae1f01",
       "value": "<style>p{word-wrap: break-word}</style> <p>The base case returns the current count. </p>"
      }
     },
     "0c66cd8bb1f745da8abe392a9576b84a": {
      "model_module": "@jupyter-widgets/controls",
      "model_module_version": "1.5.0",
      "model_name": "HBoxModel",
      "state": {
       "children": [
        "IPY_MODEL_c8b4f403a7534a8aa87919926d3d9338",
        "IPY_MODEL_07fceaddf5924994bd839314aa1773fc",
        "IPY_MODEL_107af14fd7e6476ca31c1efb977795bc"
       ],
       "layout": "IPY_MODEL_72dea762193845e18e9c5db2670f20e2"
      }
     },
     "0ec021007fd24cee9123a8010fca9788": {
      "model_module": "@jupyter-widgets/controls",
      "model_module_version": "1.5.0",
      "model_name": "TextModel",
      "state": {
       "layout": "IPY_MODEL_7662a613a76148b288842011944f7c53",
       "placeholder": "",
       "style": "IPY_MODEL_a01875560c4f4ba0894ed9b3d22647f5"
      }
     },
     "0ee23626b6be4c37bc02f8e87566d261": {
      "model_module": "@jupyter-widgets/controls",
      "model_module_version": "1.5.0",
      "model_name": "HTMLModel",
      "state": {
       "layout": "IPY_MODEL_9949302b338043b9a3dacf917d28f204",
       "style": "IPY_MODEL_5f5010ff360745caabed15f0d4d442c3",
       "value": "<style>p{word-wrap: break-word}</style> <p>The length of the longest increasing subsequence of [4,3,2,1] is:  </p>"
      }
     },
     "103e1f57e5714ac682d2ba8631d699e5": {
      "model_module": "@jupyter-widgets/controls",
      "model_module_version": "1.5.0",
      "model_name": "TextModel",
      "state": {
       "layout": "IPY_MODEL_e692fb8935d34ef596dc5d43cad5338e",
       "placeholder": "",
       "style": "IPY_MODEL_4b1ae827f38646ba98c2e5f10d3aa0cb"
      }
     },
     "107af14fd7e6476ca31c1efb977795bc": {
      "model_module": "@jupyter-widgets/controls",
      "model_module_version": "1.5.0",
      "model_name": "HTMLModel",
      "state": {
       "layout": "IPY_MODEL_7edcd40c4e26492eaef7e1b5cdf879b1",
       "style": "IPY_MODEL_5bb88e31a3c746d98f3f50abf32d3091",
       "value": "<style>p{word-wrap: break-word}</style> <p>. </p>"
      }
     },
     "159067b04b8341349f24f6fa42bd03ce": {
      "model_module": "@jupyter-widgets/base",
      "model_module_version": "1.2.0",
      "model_name": "LayoutModel",
      "state": {
       "width": "auto"
      }
     },
     "16602bdb589d4562b847c513b304894b": {
      "model_module": "@jupyter-widgets/controls",
      "model_module_version": "1.5.0",
      "model_name": "DescriptionStyleModel",
      "state": {
       "description_width": ""
      }
     },
     "18b9b2cc4ace4c71995073e71cb5dfe4": {
      "model_module": "@jupyter-widgets/controls",
      "model_module_version": "1.5.0",
      "model_name": "ButtonModel",
      "state": {
       "description": "Show answer",
       "disabled": true,
       "layout": "IPY_MODEL_cdd5c84f3938476baf301287bb871174",
       "style": "IPY_MODEL_65b63add43174f3884a3fcd529b5fb3b"
      }
     },
     "1968055ff365445ea2e2f2f1cb08c4b9": {
      "model_module": "@jupyter-widgets/base",
      "model_module_version": "1.2.0",
      "model_name": "LayoutModel",
      "state": {
       "align_items": "stretch",
       "display": "flex",
       "flex_flow": "row wrap",
       "margin": "30px 0 0 0"
      }
     },
     "1bc35d6e17d54c6eaf54829fe36caba2": {
      "model_module": "@jupyter-widgets/controls",
      "model_module_version": "1.5.0",
      "model_name": "HTMLModel",
      "state": {
       "layout": "IPY_MODEL_ef10dadae1074e2aa5b32fa1c8064b92",
       "style": "IPY_MODEL_588ce83a39cf4fd3a60ca0f771c902ec",
       "value": "<style>p{word-wrap: break-word}</style> <p>. </p>"
      }
     },
     "1c9df0838b4b4681a5474f09cfb6ec79": {
      "model_module": "@jupyter-widgets/controls",
      "model_module_version": "1.5.0",
      "model_name": "HBoxModel",
      "state": {
       "children": [
        "IPY_MODEL_69fb95cc1797427d917bc585d505bdd0"
       ],
       "layout": "IPY_MODEL_704cca385b9444b68ccd2d7b16a86c7d"
      }
     },
     "1d1ced67d19c4250ba34ae283845b8d3": {
      "model_module": "@jupyter-widgets/controls",
      "model_module_version": "1.5.0",
      "model_name": "ButtonStyleModel",
      "state": {
       "button_color": "#4DD0E1"
      }
     },
     "1f962f9d937746b38ac4e7cea7f0c294": {
      "model_module": "@jupyter-widgets/controls",
      "model_module_version": "1.5.0",
      "model_name": "DescriptionStyleModel",
      "state": {
       "description_width": "initial"
      }
     },
     "234050867d684524885a04519d788202": {
      "model_module": "@jupyter-widgets/base",
      "model_module_version": "1.2.0",
      "model_name": "LayoutModel",
      "state": {
       "width": "30px"
      }
     },
     "23761eb041ab48bba7c1108c6ac70694": {
      "model_module": "@jupyter-widgets/controls",
      "model_module_version": "1.5.0",
      "model_name": "HBoxModel",
      "state": {
       "children": [
        "IPY_MODEL_52c89b852d5d4e458962bfc8b1e03a38",
        "IPY_MODEL_0a06f99a95734c4c94eecab7e035f991"
       ],
       "layout": "IPY_MODEL_28446b14214c4d729d26f2a35a6cb4ec"
      }
     },
     "2652d338c80a4fe3a42d633b8bc3a2e0": {
      "model_module": "@jupyter-widgets/base",
      "model_module_version": "1.2.0",
      "model_name": "LayoutModel",
      "state": {
       "align_items": "stretch",
       "display": "flex",
       "flex_flow": "row wrap",
       "width": "auto"
      }
     },
     "265e3f1bc0214d4f8763e53c4e7b3b9f": {
      "model_module": "@jupyter-widgets/base",
      "model_module_version": "1.2.0",
      "model_name": "LayoutModel",
      "state": {}
     },
     "28446b14214c4d729d26f2a35a6cb4ec": {
      "model_module": "@jupyter-widgets/base",
      "model_module_version": "1.2.0",
      "model_name": "LayoutModel",
      "state": {
       "align_items": "stretch",
       "display": "flex",
       "flex_flow": "row wrap",
       "width": "auto"
      }
     },
     "29074361e991434abfb237300f7233ad": {
      "model_module": "@jupyter-widgets/base",
      "model_module_version": "1.2.0",
      "model_name": "LayoutModel",
      "state": {
       "align_items": "stretch",
       "display": "flex",
       "flex_flow": "row wrap",
       "width": "auto"
      }
     },
     "2a3ab5cce34e47fe8314050678ccc62d": {
      "model_module": "@jupyter-widgets/controls",
      "model_module_version": "1.5.0",
      "model_name": "LabelModel",
      "state": {
       "layout": "IPY_MODEL_f0c1de87ba464217891d0d6ce24bae67",
       "style": "IPY_MODEL_2f2706ec787c4161a8a1ca273d7a8c6c"
      }
     },
     "2db42ecb467e4742bada709f9df45f9f": {
      "model_module": "@jupyter-widgets/base",
      "model_module_version": "1.2.0",
      "model_name": "LayoutModel",
      "state": {}
     },
     "2e8ee30d408540959236c1767f93df95": {
      "model_module": "@jupyter-widgets/controls",
      "model_module_version": "1.5.0",
      "model_name": "HTMLModel",
      "state": {
       "layout": "IPY_MODEL_4a1dbe5dca524396bade954b9c7fc102",
       "style": "IPY_MODEL_7bc84f1f86d943be9a335087febe3650",
       "value": "<style>p{word-wrap: break-word}</style> <p>The longest common subsequence between [4,5,3,2,1,6] and [1,2,3,4,5,6] is: </p>"
      }
     },
     "2f2706ec787c4161a8a1ca273d7a8c6c": {
      "model_module": "@jupyter-widgets/controls",
      "model_module_version": "1.5.0",
      "model_name": "DescriptionStyleModel",
      "state": {
       "description_width": ""
      }
     },
     "30562c5918ea47cfba03868337fd1dc3": {
      "model_module": "@jupyter-widgets/controls",
      "model_module_version": "1.5.0",
      "model_name": "HTMLModel",
      "state": {
       "layout": "IPY_MODEL_8f15299e99fd4e3491bfd5d0b273cf26",
       "style": "IPY_MODEL_3af8601d799e4e01bb6007882cb43a96",
       "value": "<style>p{word-wrap: break-word}</style> <p>. </p>"
      }
     },
     "31bed7053d1d4a0e90132087fc1c86bb": {
      "model_module": "@jupyter-widgets/controls",
      "model_module_version": "1.5.0",
      "model_name": "DescriptionStyleModel",
      "state": {
       "description_width": ""
      }
     },
     "32857b06962c45ceafe7b92b24110971": {
      "model_module": "@jupyter-widgets/controls",
      "model_module_version": "1.5.0",
      "model_name": "DescriptionStyleModel",
      "state": {
       "description_width": ""
      }
     },
     "347151a1158c450fa8d41ac8ad58ed55": {
      "model_module": "@jupyter-widgets/base",
      "model_module_version": "1.2.0",
      "model_name": "LayoutModel",
      "state": {}
     },
     "34f4fcb574c04ce8b33d17a384573ca2": {
      "model_module": "@jupyter-widgets/base",
      "model_module_version": "1.2.0",
      "model_name": "LayoutModel",
      "state": {}
     },
     "35a92139297e48d580244780372f09d2": {
      "model_module": "@jupyter-widgets/controls",
      "model_module_version": "1.5.0",
      "model_name": "HBoxModel",
      "state": {
       "children": [
        "IPY_MODEL_5f0bdad09b6c46518f0bb76dc05511d6"
       ],
       "layout": "IPY_MODEL_569410251c0b41608361f65b584028c0"
      }
     },
     "3646a35a757b4c958ab3221abed63208": {
      "model_module": "@jupyter-widgets/base",
      "model_module_version": "1.2.0",
      "model_name": "LayoutModel",
      "state": {
       "width": "30px"
      }
     },
     "376cbcaa64574ec1966a1af598d876f2": {
      "model_module": "@jupyter-widgets/controls",
      "model_module_version": "1.5.0",
      "model_name": "DescriptionStyleModel",
      "state": {
       "description_width": ""
      }
     },
     "38fe2f83188948649d444258de95f81a": {
      "model_module": "@jupyter-widgets/controls",
      "model_module_version": "1.5.0",
      "model_name": "DescriptionStyleModel",
      "state": {
       "description_width": ""
      }
     },
     "3a45ab7e42514536ac445d276521be72": {
      "model_module": "@jupyter-widgets/controls",
      "model_module_version": "1.5.0",
      "model_name": "DescriptionStyleModel",
      "state": {
       "description_width": ""
      }
     },
     "3aa4f11af80a43c1a361e14386a84a1c": {
      "model_module": "@jupyter-widgets/controls",
      "model_module_version": "1.5.0",
      "model_name": "HBoxModel",
      "state": {
       "children": [
        "IPY_MODEL_f20c1c9a46cb43139cedfae461255b13",
        "IPY_MODEL_a576cdf0bfe241559464e5564774245d"
       ],
       "layout": "IPY_MODEL_0156036b41cc4ce8911432941236cb40"
      }
     },
     "3af8601d799e4e01bb6007882cb43a96": {
      "model_module": "@jupyter-widgets/controls",
      "model_module_version": "1.5.0",
      "model_name": "DescriptionStyleModel",
      "state": {
       "description_width": ""
      }
     },
     "3beeff23cd8b44e09ae45f040cc71b8c": {
      "model_module": "@jupyter-widgets/controls",
      "model_module_version": "1.5.0",
      "model_name": "HBoxModel",
      "state": {
       "children": [
        "IPY_MODEL_51107a43d31a40b5b070fbcc6d1d5dc7",
        "IPY_MODEL_2a3ab5cce34e47fe8314050678ccc62d",
        "IPY_MODEL_18b9b2cc4ace4c71995073e71cb5dfe4"
       ],
       "layout": "IPY_MODEL_bf4ea87d03f344da9293deb11f48e661"
      }
     },
     "47f96e4f30d94f1b9cdc252d318ca869": {
      "model_module": "@jupyter-widgets/controls",
      "model_module_version": "1.5.0",
      "model_name": "HTMLModel",
      "state": {
       "layout": "IPY_MODEL_4a977d6de6994643812a5f040279278a",
       "style": "IPY_MODEL_cce7928e65ed44539dbb7e188cccf7bc",
       "value": "<style>p{word-wrap: break-word}</style> <p>The base case is only when both strings have length 0 </p>"
      }
     },
     "494267b6860b490e9a12067af6061626": {
      "model_module": "@jupyter-widgets/controls",
      "model_module_version": "1.5.0",
      "model_name": "HTMLModel",
      "state": {
       "layout": "IPY_MODEL_c62f7f65d0de4c72943930fe35eee58d",
       "style": "IPY_MODEL_31bed7053d1d4a0e90132087fc1c86bb",
       "value": "<style>p{word-wrap: break-word}</style> <p>The recurrence relation finds the maximum over 3 values. </p>"
      }
     },
     "49e61c1cf26043b589907941f309b455": {
      "model_module": "@jupyter-widgets/controls",
      "model_module_version": "1.5.0",
      "model_name": "DescriptionStyleModel",
      "state": {
       "description_width": ""
      }
     },
     "4a1dbe5dca524396bade954b9c7fc102": {
      "model_module": "@jupyter-widgets/base",
      "model_module_version": "1.2.0",
      "model_name": "LayoutModel",
      "state": {}
     },
     "4a977d6de6994643812a5f040279278a": {
      "model_module": "@jupyter-widgets/base",
      "model_module_version": "1.2.0",
      "model_name": "LayoutModel",
      "state": {}
     },
     "4b1ae827f38646ba98c2e5f10d3aa0cb": {
      "model_module": "@jupyter-widgets/controls",
      "model_module_version": "1.5.0",
      "model_name": "DescriptionStyleModel",
      "state": {
       "description_width": ""
      }
     },
     "4b2fed4283fe498aa40a61ba4b006d90": {
      "model_module": "@jupyter-widgets/controls",
      "model_module_version": "1.5.0",
      "model_name": "VBoxModel",
      "state": {
       "children": [
        "IPY_MODEL_cb250843e6dc449682434d0fe4fa26b5",
        "IPY_MODEL_3aa4f11af80a43c1a361e14386a84a1c",
        "IPY_MODEL_6925040aaff04d77913304c2c543d959",
        "IPY_MODEL_be6c172dea5043d7ae5783a7aace1a84",
        "IPY_MODEL_723612e8e3ec48e88f7c88b9a764367d",
        "IPY_MODEL_722963959d65496ba2600690e67edf50"
       ],
       "layout": "IPY_MODEL_998ce7e401054769ab35a62bf1fb7ed3"
      }
     },
     "4ba4c442cbc74d83bbeca5cf98608482": {
      "model_module": "@jupyter-widgets/controls",
      "model_module_version": "1.5.0",
      "model_name": "HBoxModel",
      "state": {
       "children": [
        "IPY_MODEL_f63cdba210df4062b389035b02c9b2f1",
        "IPY_MODEL_47f96e4f30d94f1b9cdc252d318ca869"
       ],
       "layout": "IPY_MODEL_e7986dcf6e3b4a2db20a99d03820b871"
      }
     },
     "4ce33d0e9910476989b4bb2b4abe156c": {
      "model_module": "@jupyter-widgets/controls",
      "model_module_version": "1.5.0",
      "model_name": "VBoxModel",
      "state": {
       "box_style": "info",
       "children": [
        "IPY_MODEL_35a92139297e48d580244780372f09d2",
        "IPY_MODEL_4b2fed4283fe498aa40a61ba4b006d90",
        "IPY_MODEL_3beeff23cd8b44e09ae45f040cc71b8c"
       ],
       "layout": "IPY_MODEL_668be9cd547e4863b7543d1566943d0a"
      }
     },
     "4dabccd636ad4a6cbc9191db779956b4": {
      "model_module": "@jupyter-widgets/controls",
      "model_module_version": "1.5.0",
      "model_name": "VBoxModel",
      "state": {
       "box_style": "info",
       "children": [
        "IPY_MODEL_1c9df0838b4b4681a5474f09cfb6ec79",
        "IPY_MODEL_9027d7420ede432a95e859f9628c26bd",
        "IPY_MODEL_687d10f283734dc6b070ae19c4872f77"
       ],
       "layout": "IPY_MODEL_a24f1514efcc49ec89588ed0e74ea35e"
      }
     },
     "4e5d63b1c929438387a1f2c3e366db46": {
      "model_module": "@jupyter-widgets/base",
      "model_module_version": "1.2.0",
      "model_name": "LayoutModel",
      "state": {
       "align_items": "stretch",
       "display": "flex",
       "flex_flow": "row wrap",
       "width": "auto"
      }
     },
     "4f1720ae74ea4539ac01b085fc02c526": {
      "model_module": "@jupyter-widgets/controls",
      "model_module_version": "1.5.0",
      "model_name": "LabelModel",
      "state": {
       "layout": "IPY_MODEL_2db42ecb467e4742bada709f9df45f9f",
       "style": "IPY_MODEL_9b55c354b9b843c784c2e8353671ef27"
      }
     },
     "50c79602e08f4ae78bfc91dbaf1ff7a8": {
      "model_module": "@jupyter-widgets/base",
      "model_module_version": "1.2.0",
      "model_name": "LayoutModel",
      "state": {}
     },
     "51107a43d31a40b5b070fbcc6d1d5dc7": {
      "model_module": "@jupyter-widgets/controls",
      "model_module_version": "1.5.0",
      "model_name": "ButtonModel",
      "state": {
       "description": "Submit",
       "layout": "IPY_MODEL_c926719946624661af8af0b2e7df941d",
       "style": "IPY_MODEL_1d1ced67d19c4250ba34ae283845b8d3"
      }
     },
     "52c89b852d5d4e458962bfc8b1e03a38": {
      "model_module": "@jupyter-widgets/controls",
      "model_module_version": "1.5.0",
      "model_name": "CheckboxModel",
      "state": {
       "disabled": false,
       "layout": "IPY_MODEL_fc541da9f76c48a0846d88e73d5d0cee",
       "style": "IPY_MODEL_d93b696edc1443669378a6b02db843a8",
       "value": false
      }
     },
     "52e5c25c86114761aa98724570739367": {
      "model_module": "@jupyter-widgets/base",
      "model_module_version": "1.2.0",
      "model_name": "LayoutModel",
      "state": {}
     },
     "53562f8c6bed4c069234fdcbc96a13bc": {
      "model_module": "@jupyter-widgets/controls",
      "model_module_version": "1.5.0",
      "model_name": "DescriptionStyleModel",
      "state": {
       "description_width": ""
      }
     },
     "53a10109d030426db62975d2c1e133e6": {
      "model_module": "@jupyter-widgets/controls",
      "model_module_version": "1.5.0",
      "model_name": "ButtonStyleModel",
      "state": {
       "button_color": "#4DD0E1"
      }
     },
     "569410251c0b41608361f65b584028c0": {
      "model_module": "@jupyter-widgets/base",
      "model_module_version": "1.2.0",
      "model_name": "LayoutModel",
      "state": {
       "display": "flex",
       "flex_flow": "row",
       "justify_content": "space-between",
       "margin": "0 0 20px 0"
      }
     },
     "581e3fcd4132490a95e73be0d810b51b": {
      "model_module": "@jupyter-widgets/controls",
      "model_module_version": "1.5.0",
      "model_name": "DescriptionStyleModel",
      "state": {
       "description_width": ""
      }
     },
     "584dfd7443ea4b5c8bb5e7d56da0b068": {
      "model_module": "@jupyter-widgets/controls",
      "model_module_version": "1.5.0",
      "model_name": "DescriptionStyleModel",
      "state": {
       "description_width": ""
      }
     },
     "588ce83a39cf4fd3a60ca0f771c902ec": {
      "model_module": "@jupyter-widgets/controls",
      "model_module_version": "1.5.0",
      "model_name": "DescriptionStyleModel",
      "state": {
       "description_width": ""
      }
     },
     "589b834938ea4433a2f18de19cf6a024": {
      "model_module": "@jupyter-widgets/controls",
      "model_module_version": "1.5.0",
      "model_name": "DescriptionStyleModel",
      "state": {
       "description_width": "initial"
      }
     },
     "5a0ea2ff36c74de0b6701598bbadbf90": {
      "model_module": "@jupyter-widgets/base",
      "model_module_version": "1.2.0",
      "model_name": "LayoutModel",
      "state": {
       "align_items": "stretch",
       "display": "flex",
       "flex_flow": "row wrap",
       "width": "auto"
      }
     },
     "5a24dcada7984a2d93fe6fd127ae1f01": {
      "model_module": "@jupyter-widgets/controls",
      "model_module_version": "1.5.0",
      "model_name": "DescriptionStyleModel",
      "state": {
       "description_width": ""
      }
     },
     "5abcdad76b204745ac3ed679d84fb102": {
      "model_module": "@jupyter-widgets/base",
      "model_module_version": "1.2.0",
      "model_name": "LayoutModel",
      "state": {
       "align_items": "stretch",
       "display": "flex",
       "flex_flow": "row wrap",
       "width": "auto"
      }
     },
     "5bb88e31a3c746d98f3f50abf32d3091": {
      "model_module": "@jupyter-widgets/controls",
      "model_module_version": "1.5.0",
      "model_name": "DescriptionStyleModel",
      "state": {
       "description_width": ""
      }
     },
     "5c0368b05b9048738bd3bb18fc7cf858": {
      "model_module": "@jupyter-widgets/controls",
      "model_module_version": "1.5.0",
      "model_name": "CheckboxModel",
      "state": {
       "disabled": false,
       "layout": "IPY_MODEL_234050867d684524885a04519d788202",
       "style": "IPY_MODEL_d8c787139a9e4f7c9413904795f92fe3",
       "value": false
      }
     },
     "5c8e2ee59a7945cf9f979c3304158bd8": {
      "model_module": "@jupyter-widgets/base",
      "model_module_version": "1.2.0",
      "model_name": "LayoutModel",
      "state": {
       "align_items": "stretch",
       "display": "flex",
       "flex_flow": "row wrap",
       "width": "auto"
      }
     },
     "5f0bdad09b6c46518f0bb76dc05511d6": {
      "model_module": "@jupyter-widgets/controls",
      "model_module_version": "1.5.0",
      "model_name": "HTMLModel",
      "state": {
       "layout": "IPY_MODEL_d7c89e3874d045fbb88cb6edbbc2f7ea",
       "style": "IPY_MODEL_04c6547c8383496580505e0a13581914",
       "value": "<style>p{word-wrap: break-word}</style> <p>Select the statements that are true for the recurrence relation. </p>"
      }
     },
     "5f5010ff360745caabed15f0d4d442c3": {
      "model_module": "@jupyter-widgets/controls",
      "model_module_version": "1.5.0",
      "model_name": "DescriptionStyleModel",
      "state": {
       "description_width": ""
      }
     },
     "60031cc75dca499a8f97d146f648a321": {
      "model_module": "@jupyter-widgets/base",
      "model_module_version": "1.2.0",
      "model_name": "LayoutModel",
      "state": {
       "width": "30px"
      }
     },
     "60f6d5ab35454eb08e55198550d17461": {
      "model_module": "@jupyter-widgets/controls",
      "model_module_version": "1.5.0",
      "model_name": "HTMLModel",
      "state": {
       "layout": "IPY_MODEL_c7b7d9280dc94bd2b429b5d0eec8ceb5",
       "style": "IPY_MODEL_38fe2f83188948649d444258de95f81a",
       "value": "<style>p{word-wrap: break-word}</style> <p>The longest increasing subsequence of [4,5,3,2,1] is:  </p>"
      }
     },
     "63efbd391a254af2a90469f01c15efa7": {
      "model_module": "@jupyter-widgets/controls",
      "model_module_version": "1.5.0",
      "model_name": "HTMLModel",
      "state": {
       "layout": "IPY_MODEL_f191dfc0cd864a8d81288075363fee2a",
       "style": "IPY_MODEL_b24f7e3661c44dd3a83414b53e3b3890",
       "value": "<style>p{word-wrap: break-word}</style> <p>If the last letter matches, the count is increased by 1 </p>"
      }
     },
     "65b63add43174f3884a3fcd529b5fb3b": {
      "model_module": "@jupyter-widgets/controls",
      "model_module_version": "1.5.0",
      "model_name": "ButtonStyleModel",
      "state": {
       "button_color": "#4DD0E1"
      }
     },
     "668be9cd547e4863b7543d1566943d0a": {
      "model_module": "@jupyter-widgets/base",
      "model_module_version": "1.2.0",
      "model_name": "LayoutModel",
      "state": {
       "align_items": "stretch",
       "display": "flex",
       "flex_flow": "column",
       "width": "100%"
      }
     },
     "687d10f283734dc6b070ae19c4872f77": {
      "model_module": "@jupyter-widgets/controls",
      "model_module_version": "1.5.0",
      "model_name": "HBoxModel",
      "state": {
       "children": [
        "IPY_MODEL_6987e60ad73e4c089119fc89c564eef3",
        "IPY_MODEL_9a176871a7de4fdf8fbf20083126a132",
        "IPY_MODEL_ff80000a22034d6fb03d79d70c114cc9"
       ],
       "layout": "IPY_MODEL_1968055ff365445ea2e2f2f1cb08c4b9"
      }
     },
     "6925040aaff04d77913304c2c543d959": {
      "model_module": "@jupyter-widgets/controls",
      "model_module_version": "1.5.0",
      "model_name": "HBoxModel",
      "state": {
       "children": [
        "IPY_MODEL_c3d1b153e7794387b707c740f6bdf07e",
        "IPY_MODEL_0433e4c0ede940e5a5af68833e91f147"
       ],
       "layout": "IPY_MODEL_5a0ea2ff36c74de0b6701598bbadbf90"
      }
     },
     "6987e60ad73e4c089119fc89c564eef3": {
      "model_module": "@jupyter-widgets/controls",
      "model_module_version": "1.5.0",
      "model_name": "ButtonModel",
      "state": {
       "description": "Submit",
       "layout": "IPY_MODEL_50c79602e08f4ae78bfc91dbaf1ff7a8",
       "style": "IPY_MODEL_84db6f04f07649aaa4d63e6d55dd505a"
      }
     },
     "69fb95cc1797427d917bc585d505bdd0": {
      "model_module": "@jupyter-widgets/controls",
      "model_module_version": "1.5.0",
      "model_name": "HTMLModel",
      "state": {
       "layout": "IPY_MODEL_75f8347765fc40d1bfa9da90e2f995df",
       "style": "IPY_MODEL_73fea1f4a1714f699c0b9b0a8aba64f1",
       "value": "<style>p{word-wrap: break-word}</style> <p>Fill in the blanks with a number or the subsequence written in square brackets like this [1,2,3]  </p>"
      }
     },
     "704cca385b9444b68ccd2d7b16a86c7d": {
      "model_module": "@jupyter-widgets/base",
      "model_module_version": "1.2.0",
      "model_name": "LayoutModel",
      "state": {
       "display": "flex",
       "flex_flow": "row",
       "justify_content": "space-between",
       "margin": "0 0 20px 0"
      }
     },
     "722963959d65496ba2600690e67edf50": {
      "model_module": "@jupyter-widgets/controls",
      "model_module_version": "1.5.0",
      "model_name": "HBoxModel",
      "state": {
       "children": [
        "IPY_MODEL_ba71efab280649b6b413c25c0cfe0680",
        "IPY_MODEL_23761eb041ab48bba7c1108c6ac70694"
       ],
       "layout": "IPY_MODEL_ea81e69597a34649b5fbcbaa48ed86e2"
      }
     },
     "723612e8e3ec48e88f7c88b9a764367d": {
      "model_module": "@jupyter-widgets/controls",
      "model_module_version": "1.5.0",
      "model_name": "HBoxModel",
      "state": {
       "children": [
        "IPY_MODEL_80b6986649b941448a23a88a9ba58006",
        "IPY_MODEL_783d5c36974b4775a8697568ae5b7fe4"
       ],
       "layout": "IPY_MODEL_2652d338c80a4fe3a42d633b8bc3a2e0"
      }
     },
     "72dea762193845e18e9c5db2670f20e2": {
      "model_module": "@jupyter-widgets/base",
      "model_module_version": "1.2.0",
      "model_name": "LayoutModel",
      "state": {
       "align_items": "stretch",
       "display": "flex",
       "flex_flow": "row wrap",
       "width": "auto"
      }
     },
     "73fea1f4a1714f699c0b9b0a8aba64f1": {
      "model_module": "@jupyter-widgets/controls",
      "model_module_version": "1.5.0",
      "model_name": "DescriptionStyleModel",
      "state": {
       "description_width": ""
      }
     },
     "74a1a5815222465bb9f1ba06f7240d0b": {
      "model_module": "@jupyter-widgets/base",
      "model_module_version": "1.2.0",
      "model_name": "LayoutModel",
      "state": {}
     },
     "75f8347765fc40d1bfa9da90e2f995df": {
      "model_module": "@jupyter-widgets/base",
      "model_module_version": "1.2.0",
      "model_name": "LayoutModel",
      "state": {}
     },
     "7662a613a76148b288842011944f7c53": {
      "model_module": "@jupyter-widgets/base",
      "model_module_version": "1.2.0",
      "model_name": "LayoutModel",
      "state": {
       "width": "auto"
      }
     },
     "783d5c36974b4775a8697568ae5b7fe4": {
      "model_module": "@jupyter-widgets/controls",
      "model_module_version": "1.5.0",
      "model_name": "HBoxModel",
      "state": {
       "children": [
        "IPY_MODEL_5c0368b05b9048738bd3bb18fc7cf858",
        "IPY_MODEL_63efbd391a254af2a90469f01c15efa7"
       ],
       "layout": "IPY_MODEL_c007596082834796961c50ba376cdb6f"
      }
     },
     "7bc84f1f86d943be9a335087febe3650": {
      "model_module": "@jupyter-widgets/controls",
      "model_module_version": "1.5.0",
      "model_name": "DescriptionStyleModel",
      "state": {
       "description_width": ""
      }
     },
     "7edcd40c4e26492eaef7e1b5cdf879b1": {
      "model_module": "@jupyter-widgets/base",
      "model_module_version": "1.2.0",
      "model_name": "LayoutModel",
      "state": {}
     },
     "80b6986649b941448a23a88a9ba58006": {
      "model_module": "@jupyter-widgets/controls",
      "model_module_version": "1.5.0",
      "model_name": "LabelModel",
      "state": {
       "layout": "IPY_MODEL_ffbb8d252e7645e28c3ae4402a3c242b",
       "style": "IPY_MODEL_376cbcaa64574ec1966a1af598d876f2"
      }
     },
     "84db6f04f07649aaa4d63e6d55dd505a": {
      "model_module": "@jupyter-widgets/controls",
      "model_module_version": "1.5.0",
      "model_name": "ButtonStyleModel",
      "state": {
       "button_color": "#4DD0E1"
      }
     },
     "8a0eda15facb495a9da229348ad12c28": {
      "model_module": "@jupyter-widgets/controls",
      "model_module_version": "1.5.0",
      "model_name": "DescriptionStyleModel",
      "state": {
       "description_width": ""
      }
     },
     "8e8bb2b7ed024fd9bf59658a8e1fbf88": {
      "model_module": "@jupyter-widgets/controls",
      "model_module_version": "1.5.0",
      "model_name": "HTMLModel",
      "state": {
       "layout": "IPY_MODEL_74a1a5815222465bb9f1ba06f7240d0b",
       "style": "IPY_MODEL_a1cddf39fbcc45f0a0644ef8d509f657",
       "value": "<style>p{word-wrap: break-word}</style> <p>The base case is only when the 2nd string has length 0 </p>"
      }
     },
     "8ed3db68107849f8aaada1b85c245b73": {
      "model_module": "@jupyter-widgets/controls",
      "model_module_version": "1.5.0",
      "model_name": "HBoxModel",
      "state": {
       "children": [
        "IPY_MODEL_c159f3d2394c488a83898091cab6480b",
        "IPY_MODEL_494267b6860b490e9a12067af6061626"
       ],
       "layout": "IPY_MODEL_08d22eea52674f66889bcea947c9ae3a"
      }
     },
     "8f15299e99fd4e3491bfd5d0b273cf26": {
      "model_module": "@jupyter-widgets/base",
      "model_module_version": "1.2.0",
      "model_name": "LayoutModel",
      "state": {}
     },
     "9027d7420ede432a95e859f9628c26bd": {
      "model_module": "@jupyter-widgets/controls",
      "model_module_version": "1.5.0",
      "model_name": "HBoxModel",
      "state": {
       "children": [
        "IPY_MODEL_cec3fe7d43d34f50a44f1d2d4dae26d9",
        "IPY_MODEL_d97eb6d23e284fccb453277b9f3fecba",
        "IPY_MODEL_9f0755be1e0240ec8768aaf4d4b53884",
        "IPY_MODEL_0c66cd8bb1f745da8abe392a9576b84a"
       ],
       "layout": "IPY_MODEL_29074361e991434abfb237300f7233ad"
      }
     },
     "95b2655843f24d92915a9d267da78e9f": {
      "model_module": "@jupyter-widgets/controls",
      "model_module_version": "1.5.0",
      "model_name": "DescriptionStyleModel",
      "state": {
       "description_width": ""
      }
     },
     "9691e008284d4d75981b1dd995858871": {
      "model_module": "@jupyter-widgets/base",
      "model_module_version": "1.2.0",
      "model_name": "LayoutModel",
      "state": {
       "width": "auto"
      }
     },
     "9728c8baca2d4396b3b778573bb7a955": {
      "model_module": "@jupyter-widgets/base",
      "model_module_version": "1.2.0",
      "model_name": "LayoutModel",
      "state": {
       "display": "none"
      }
     },
     "9949302b338043b9a3dacf917d28f204": {
      "model_module": "@jupyter-widgets/base",
      "model_module_version": "1.2.0",
      "model_name": "LayoutModel",
      "state": {}
     },
     "998ce7e401054769ab35a62bf1fb7ed3": {
      "model_module": "@jupyter-widgets/base",
      "model_module_version": "1.2.0",
      "model_name": "LayoutModel",
      "state": {
       "align_items": "stretch",
       "display": "flex",
       "flex_flow": "column",
       "width": "100%"
      }
     },
     "9a176871a7de4fdf8fbf20083126a132": {
      "model_module": "@jupyter-widgets/controls",
      "model_module_version": "1.5.0",
      "model_name": "LabelModel",
      "state": {
       "layout": "IPY_MODEL_9dde2b645a1b4e559ea77d5c08341e8b",
       "style": "IPY_MODEL_16602bdb589d4562b847c513b304894b"
      }
     },
     "9b55c354b9b843c784c2e8353671ef27": {
      "model_module": "@jupyter-widgets/controls",
      "model_module_version": "1.5.0",
      "model_name": "DescriptionStyleModel",
      "state": {
       "description_width": ""
      }
     },
     "9dde2b645a1b4e559ea77d5c08341e8b": {
      "model_module": "@jupyter-widgets/base",
      "model_module_version": "1.2.0",
      "model_name": "LayoutModel",
      "state": {
       "height": "50%",
       "margin": "0 0 0 30px",
       "width": "50%"
      }
     },
     "9f0755be1e0240ec8768aaf4d4b53884": {
      "model_module": "@jupyter-widgets/controls",
      "model_module_version": "1.5.0",
      "model_name": "HBoxModel",
      "state": {
       "children": [
        "IPY_MODEL_2e8ee30d408540959236c1767f93df95",
        "IPY_MODEL_0ec021007fd24cee9123a8010fca9788",
        "IPY_MODEL_1bc35d6e17d54c6eaf54829fe36caba2"
       ],
       "layout": "IPY_MODEL_a9d2f0e1d98a4363a5ad00b1a45b33e4"
      }
     },
     "a01875560c4f4ba0894ed9b3d22647f5": {
      "model_module": "@jupyter-widgets/controls",
      "model_module_version": "1.5.0",
      "model_name": "DescriptionStyleModel",
      "state": {
       "description_width": ""
      }
     },
     "a1cddf39fbcc45f0a0644ef8d509f657": {
      "model_module": "@jupyter-widgets/controls",
      "model_module_version": "1.5.0",
      "model_name": "DescriptionStyleModel",
      "state": {
       "description_width": ""
      }
     },
     "a24f1514efcc49ec89588ed0e74ea35e": {
      "model_module": "@jupyter-widgets/base",
      "model_module_version": "1.2.0",
      "model_name": "LayoutModel",
      "state": {
       "align_items": "stretch",
       "display": "flex",
       "flex_flow": "column",
       "width": "100%"
      }
     },
     "a3895e0376f24050b67e0b8366957fdc": {
      "model_module": "@jupyter-widgets/controls",
      "model_module_version": "1.5.0",
      "model_name": "DescriptionStyleModel",
      "state": {
       "description_width": "initial"
      }
     },
     "a576cdf0bfe241559464e5564774245d": {
      "model_module": "@jupyter-widgets/controls",
      "model_module_version": "1.5.0",
      "model_name": "HBoxModel",
      "state": {
       "children": [
        "IPY_MODEL_ddb6db762d9d4cd4b9288c259d4db1b1",
        "IPY_MODEL_b3cfa8b359c442c1bce7b61e5d5a4521"
       ],
       "layout": "IPY_MODEL_5abcdad76b204745ac3ed679d84fb102"
      }
     },
     "a90a63edba0d48568226193f612740c9": {
      "model_module": "@jupyter-widgets/controls",
      "model_module_version": "1.5.0",
      "model_name": "CheckboxModel",
      "state": {
       "disabled": false,
       "layout": "IPY_MODEL_3646a35a757b4c958ab3221abed63208",
       "style": "IPY_MODEL_1f962f9d937746b38ac4e7cea7f0c294",
       "value": false
      }
     },
     "a9d2f0e1d98a4363a5ad00b1a45b33e4": {
      "model_module": "@jupyter-widgets/base",
      "model_module_version": "1.2.0",
      "model_name": "LayoutModel",
      "state": {
       "align_items": "stretch",
       "display": "flex",
       "flex_flow": "row wrap",
       "width": "auto"
      }
     },
     "abc450f3acb344adbea3a4df9262fa73": {
      "model_module": "@jupyter-widgets/base",
      "model_module_version": "1.2.0",
      "model_name": "LayoutModel",
      "state": {
       "width": "30px"
      }
     },
     "afcb0708034f4746a7f85a3980ac8f08": {
      "model_module": "@jupyter-widgets/base",
      "model_module_version": "1.2.0",
      "model_name": "LayoutModel",
      "state": {
       "align_items": "stretch",
       "display": "flex",
       "flex_flow": "row wrap",
       "width": "auto"
      }
     },
     "b24f7e3661c44dd3a83414b53e3b3890": {
      "model_module": "@jupyter-widgets/controls",
      "model_module_version": "1.5.0",
      "model_name": "DescriptionStyleModel",
      "state": {
       "description_width": ""
      }
     },
     "b3cfa8b359c442c1bce7b61e5d5a4521": {
      "model_module": "@jupyter-widgets/controls",
      "model_module_version": "1.5.0",
      "model_name": "HTMLModel",
      "state": {
       "layout": "IPY_MODEL_be2681cfcf4a4d898fae5f7eb206b2ac",
       "style": "IPY_MODEL_95b2655843f24d92915a9d267da78e9f",
       "value": "<style>p{word-wrap: break-word}</style> <p>The base case is only when the 1st string has length 0 </p>"
      }
     },
     "ba71efab280649b6b413c25c0cfe0680": {
      "model_module": "@jupyter-widgets/controls",
      "model_module_version": "1.5.0",
      "model_name": "LabelModel",
      "state": {
       "layout": "IPY_MODEL_ca1b582c2c2c4bf7ab28f8f26f0482b6",
       "style": "IPY_MODEL_8a0eda15facb495a9da229348ad12c28"
      }
     },
     "be2681cfcf4a4d898fae5f7eb206b2ac": {
      "model_module": "@jupyter-widgets/base",
      "model_module_version": "1.2.0",
      "model_name": "LayoutModel",
      "state": {}
     },
     "be6c172dea5043d7ae5783a7aace1a84": {
      "model_module": "@jupyter-widgets/controls",
      "model_module_version": "1.5.0",
      "model_name": "HBoxModel",
      "state": {
       "children": [
        "IPY_MODEL_4f1720ae74ea4539ac01b085fc02c526",
        "IPY_MODEL_8ed3db68107849f8aaada1b85c245b73"
       ],
       "layout": "IPY_MODEL_f1e1739a577448db9416ff80c25a9897"
      }
     },
     "bf4ea87d03f344da9293deb11f48e661": {
      "model_module": "@jupyter-widgets/base",
      "model_module_version": "1.2.0",
      "model_name": "LayoutModel",
      "state": {
       "align_items": "stretch",
       "display": "flex",
       "flex_flow": "row wrap",
       "margin": "30px 0 0 0"
      }
     },
     "c007596082834796961c50ba376cdb6f": {
      "model_module": "@jupyter-widgets/base",
      "model_module_version": "1.2.0",
      "model_name": "LayoutModel",
      "state": {
       "align_items": "stretch",
       "display": "flex",
       "flex_flow": "row wrap",
       "width": "auto"
      }
     },
     "c159f3d2394c488a83898091cab6480b": {
      "model_module": "@jupyter-widgets/controls",
      "model_module_version": "1.5.0",
      "model_name": "CheckboxModel",
      "state": {
       "disabled": false,
       "layout": "IPY_MODEL_abc450f3acb344adbea3a4df9262fa73",
       "style": "IPY_MODEL_f20fe9edbf6b473db89f91ca00870aee",
       "value": false
      }
     },
     "c278d9dbc65a4e609cb6dbc5d235f393": {
      "model_module": "@jupyter-widgets/controls",
      "model_module_version": "1.5.0",
      "model_name": "TextModel",
      "state": {
       "layout": "IPY_MODEL_159067b04b8341349f24f6fa42bd03ce",
       "placeholder": "",
       "style": "IPY_MODEL_581e3fcd4132490a95e73be0d810b51b"
      }
     },
     "c3d1b153e7794387b707c740f6bdf07e": {
      "model_module": "@jupyter-widgets/controls",
      "model_module_version": "1.5.0",
      "model_name": "LabelModel",
      "state": {
       "layout": "IPY_MODEL_e31522b460d34898a8b8e281dd3cfa0e",
       "style": "IPY_MODEL_3a45ab7e42514536ac445d276521be72"
      }
     },
     "c511cc7538234803bd76d2489cc31ffb": {
      "model_module": "@jupyter-widgets/controls",
      "model_module_version": "1.5.0",
      "model_name": "HTMLModel",
      "state": {
       "layout": "IPY_MODEL_34f4fcb574c04ce8b33d17a384573ca2",
       "style": "IPY_MODEL_cab35f107a514150af62b0b43d91ee88",
       "value": "<style>p{word-wrap: break-word}</style> <p>. </p>"
      }
     },
     "c62f7f65d0de4c72943930fe35eee58d": {
      "model_module": "@jupyter-widgets/base",
      "model_module_version": "1.2.0",
      "model_name": "LayoutModel",
      "state": {}
     },
     "c7b7d9280dc94bd2b429b5d0eec8ceb5": {
      "model_module": "@jupyter-widgets/base",
      "model_module_version": "1.2.0",
      "model_name": "LayoutModel",
      "state": {}
     },
     "c8b4f403a7534a8aa87919926d3d9338": {
      "model_module": "@jupyter-widgets/controls",
      "model_module_version": "1.5.0",
      "model_name": "HTMLModel",
      "state": {
       "layout": "IPY_MODEL_265e3f1bc0214d4f8763e53c4e7b3b9f",
       "style": "IPY_MODEL_49e61c1cf26043b589907941f309b455",
       "value": "<style>p{word-wrap: break-word}</style> <p>If you draw lines between the equal numbers in the sequences above e.g. 1 with 1, 2 with 2, ..., 6 with 6, how many times would the lines cross?:  </p>"
      }
     },
     "c926719946624661af8af0b2e7df941d": {
      "model_module": "@jupyter-widgets/base",
      "model_module_version": "1.2.0",
      "model_name": "LayoutModel",
      "state": {}
     },
     "ca1b582c2c2c4bf7ab28f8f26f0482b6": {
      "model_module": "@jupyter-widgets/base",
      "model_module_version": "1.2.0",
      "model_name": "LayoutModel",
      "state": {}
     },
     "cab35f107a514150af62b0b43d91ee88": {
      "model_module": "@jupyter-widgets/controls",
      "model_module_version": "1.5.0",
      "model_name": "DescriptionStyleModel",
      "state": {
       "description_width": ""
      }
     },
     "cb250843e6dc449682434d0fe4fa26b5": {
      "model_module": "@jupyter-widgets/controls",
      "model_module_version": "1.5.0",
      "model_name": "HBoxModel",
      "state": {
       "children": [
        "IPY_MODEL_f31a717ce77042c59e3f042c755aee73",
        "IPY_MODEL_4ba4c442cbc74d83bbeca5cf98608482"
       ],
       "layout": "IPY_MODEL_afcb0708034f4746a7f85a3980ac8f08"
      }
     },
     "cce7928e65ed44539dbb7e188cccf7bc": {
      "model_module": "@jupyter-widgets/controls",
      "model_module_version": "1.5.0",
      "model_name": "DescriptionStyleModel",
      "state": {
       "description_width": ""
      }
     },
     "cdd5c84f3938476baf301287bb871174": {
      "model_module": "@jupyter-widgets/base",
      "model_module_version": "1.2.0",
      "model_name": "LayoutModel",
      "state": {
       "display": "none"
      }
     },
     "cec3fe7d43d34f50a44f1d2d4dae26d9": {
      "model_module": "@jupyter-widgets/controls",
      "model_module_version": "1.5.0",
      "model_name": "HBoxModel",
      "state": {
       "children": [
        "IPY_MODEL_0ee23626b6be4c37bc02f8e87566d261",
        "IPY_MODEL_103e1f57e5714ac682d2ba8631d699e5",
        "IPY_MODEL_30562c5918ea47cfba03868337fd1dc3"
       ],
       "layout": "IPY_MODEL_fad8ca23a13847ea9dd2dda4b3acf869"
      }
     },
     "d7c89e3874d045fbb88cb6edbbc2f7ea": {
      "model_module": "@jupyter-widgets/base",
      "model_module_version": "1.2.0",
      "model_name": "LayoutModel",
      "state": {}
     },
     "d8c787139a9e4f7c9413904795f92fe3": {
      "model_module": "@jupyter-widgets/controls",
      "model_module_version": "1.5.0",
      "model_name": "DescriptionStyleModel",
      "state": {
       "description_width": "initial"
      }
     },
     "d93b696edc1443669378a6b02db843a8": {
      "model_module": "@jupyter-widgets/controls",
      "model_module_version": "1.5.0",
      "model_name": "DescriptionStyleModel",
      "state": {
       "description_width": "initial"
      }
     },
     "d97eb6d23e284fccb453277b9f3fecba": {
      "model_module": "@jupyter-widgets/controls",
      "model_module_version": "1.5.0",
      "model_name": "HBoxModel",
      "state": {
       "children": [
        "IPY_MODEL_60f6d5ab35454eb08e55198550d17461",
        "IPY_MODEL_c278d9dbc65a4e609cb6dbc5d235f393",
        "IPY_MODEL_c511cc7538234803bd76d2489cc31ffb"
       ],
       "layout": "IPY_MODEL_4e5d63b1c929438387a1f2c3e366db46"
      }
     },
     "ddb6db762d9d4cd4b9288c259d4db1b1": {
      "model_module": "@jupyter-widgets/controls",
      "model_module_version": "1.5.0",
      "model_name": "CheckboxModel",
      "state": {
       "disabled": false,
       "layout": "IPY_MODEL_07bf8e6c28704ccbb36edb3cbd7db0a0",
       "style": "IPY_MODEL_a3895e0376f24050b67e0b8366957fdc",
       "value": false
      }
     },
     "e31522b460d34898a8b8e281dd3cfa0e": {
      "model_module": "@jupyter-widgets/base",
      "model_module_version": "1.2.0",
      "model_name": "LayoutModel",
      "state": {}
     },
     "e692fb8935d34ef596dc5d43cad5338e": {
      "model_module": "@jupyter-widgets/base",
      "model_module_version": "1.2.0",
      "model_name": "LayoutModel",
      "state": {
       "width": "auto"
      }
     },
     "e7986dcf6e3b4a2db20a99d03820b871": {
      "model_module": "@jupyter-widgets/base",
      "model_module_version": "1.2.0",
      "model_name": "LayoutModel",
      "state": {
       "align_items": "stretch",
       "display": "flex",
       "flex_flow": "row wrap",
       "width": "auto"
      }
     },
     "ea81e69597a34649b5fbcbaa48ed86e2": {
      "model_module": "@jupyter-widgets/base",
      "model_module_version": "1.2.0",
      "model_name": "LayoutModel",
      "state": {
       "align_items": "stretch",
       "display": "flex",
       "flex_flow": "row wrap",
       "width": "auto"
      }
     },
     "edda665d5e13464a9108e82b7877da14": {
      "model_module": "@jupyter-widgets/base",
      "model_module_version": "1.2.0",
      "model_name": "LayoutModel",
      "state": {}
     },
     "ef10dadae1074e2aa5b32fa1c8064b92": {
      "model_module": "@jupyter-widgets/base",
      "model_module_version": "1.2.0",
      "model_name": "LayoutModel",
      "state": {}
     },
     "f0c1de87ba464217891d0d6ce24bae67": {
      "model_module": "@jupyter-widgets/base",
      "model_module_version": "1.2.0",
      "model_name": "LayoutModel",
      "state": {
       "height": "50%",
       "margin": "0 0 0 30px",
       "width": "50%"
      }
     },
     "f191dfc0cd864a8d81288075363fee2a": {
      "model_module": "@jupyter-widgets/base",
      "model_module_version": "1.2.0",
      "model_name": "LayoutModel",
      "state": {}
     },
     "f1e1739a577448db9416ff80c25a9897": {
      "model_module": "@jupyter-widgets/base",
      "model_module_version": "1.2.0",
      "model_name": "LayoutModel",
      "state": {
       "align_items": "stretch",
       "display": "flex",
       "flex_flow": "row wrap",
       "width": "auto"
      }
     },
     "f20c1c9a46cb43139cedfae461255b13": {
      "model_module": "@jupyter-widgets/controls",
      "model_module_version": "1.5.0",
      "model_name": "LabelModel",
      "state": {
       "layout": "IPY_MODEL_edda665d5e13464a9108e82b7877da14",
       "style": "IPY_MODEL_32857b06962c45ceafe7b92b24110971"
      }
     },
     "f20fe9edbf6b473db89f91ca00870aee": {
      "model_module": "@jupyter-widgets/controls",
      "model_module_version": "1.5.0",
      "model_name": "DescriptionStyleModel",
      "state": {
       "description_width": "initial"
      }
     },
     "f31a717ce77042c59e3f042c755aee73": {
      "model_module": "@jupyter-widgets/controls",
      "model_module_version": "1.5.0",
      "model_name": "LabelModel",
      "state": {
       "layout": "IPY_MODEL_347151a1158c450fa8d41ac8ad58ed55",
       "style": "IPY_MODEL_584dfd7443ea4b5c8bb5e7d56da0b068"
      }
     },
     "f63cdba210df4062b389035b02c9b2f1": {
      "model_module": "@jupyter-widgets/controls",
      "model_module_version": "1.5.0",
      "model_name": "CheckboxModel",
      "state": {
       "disabled": false,
       "layout": "IPY_MODEL_60031cc75dca499a8f97d146f648a321",
       "style": "IPY_MODEL_589b834938ea4433a2f18de19cf6a024",
       "value": false
      }
     },
     "fad8ca23a13847ea9dd2dda4b3acf869": {
      "model_module": "@jupyter-widgets/base",
      "model_module_version": "1.2.0",
      "model_name": "LayoutModel",
      "state": {
       "align_items": "stretch",
       "display": "flex",
       "flex_flow": "row wrap",
       "width": "auto"
      }
     },
     "fc541da9f76c48a0846d88e73d5d0cee": {
      "model_module": "@jupyter-widgets/base",
      "model_module_version": "1.2.0",
      "model_name": "LayoutModel",
      "state": {
       "width": "30px"
      }
     },
     "ff80000a22034d6fb03d79d70c114cc9": {
      "model_module": "@jupyter-widgets/controls",
      "model_module_version": "1.5.0",
      "model_name": "ButtonModel",
      "state": {
       "description": "Show answer",
       "disabled": true,
       "layout": "IPY_MODEL_9728c8baca2d4396b3b778573bb7a955",
       "style": "IPY_MODEL_53a10109d030426db62975d2c1e133e6"
      }
     },
     "ffbb8d252e7645e28c3ae4402a3c242b": {
      "model_module": "@jupyter-widgets/base",
      "model_module_version": "1.2.0",
      "model_name": "LayoutModel",
      "state": {}
     }
    },
    "version_major": 2,
    "version_minor": 0
   }
  }
 },
 "nbformat": 4,
 "nbformat_minor": 4
}
