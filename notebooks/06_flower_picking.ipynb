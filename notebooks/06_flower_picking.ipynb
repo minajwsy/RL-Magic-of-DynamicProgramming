{
 "cells": [
  {
   "cell_type": "markdown",
   "metadata": {},
   "source": [
    "<font size=\"+4\">Lesson 6: Flower Picking</font>\n",
    "    \n",
    "If dynamic programming is one of the \"sledgehammers of the algorithm craft\" (Dasgupta et al., 2008), then the technique you will learn in this lesson is your swing. Finding the right subproblems, breaking the original problem up correctly is the most difficult part of dynamic programming. In this lesson you will learn that sometimes you need to _strengthen the induction hypothesis_ of the given problem in order to find the correct subproblems.\n",
    "    \n",
    "To demonstrate this, we will work on the longest increasing subsequence problem, which I have dubbed flower picking because the goal is to pick flowers in increasing order of size without changing the order they are growing in.\n",
    "\n",
    "In this lessson you'll learn:\n",
    "1. When to strengthen the induction hypothesis\n",
    "2. How to strengthen the induction hypothesis through careful rewording of the original problem\n",
    "     \n",
    "The following video introduces the topic.  "
   ]
  },
  {
   "cell_type": "code",
   "execution_count": 11,
   "metadata": {
    "jupyter": {
     "source_hidden": true
    },
    "pycharm": {
     "name": "#%%\n"
    }
   },
   "outputs": [
    {
     "data": {
      "image/jpeg": "[encoded data removed]",
      "text/html": [
       "\n",
       "        <iframe\n",
       "            width=\"400\"\n",
       "            height=\"300\"\n",
       "            src=\"https://www.youtube.com/embed/ZA_OT2PhaXg\"\n",
       "            frameborder=\"0\"\n",
       "            allowfullscreen\n",
       "        ></iframe>\n",
       "        "
      ],
      "text/plain": [
       "<IPython.lib.display.YouTubeVideo at 0x26f8d86ba88>"
      ]
     },
     "execution_count": 11,
     "metadata": {},
     "output_type": "execute_result"
    }
   ],
   "source": [
    "from IPython.display import YouTubeVideo\n",
    "YouTubeVideo('ZA_OT2PhaXg')"
   ]
  },
  {
   "cell_type": "markdown",
   "metadata": {},
   "source": [
    "\n",
    "\n",
    "\n",
    "\n",
    "\n"
   ]
  },
  {
   "cell_type": "markdown",
   "metadata": {},
   "source": [
    "# Longest Increasing Subsequence in Four Steps\n",
    "<figure>\n",
    "    <img src=\"../images/flower_picking.png\">\n",
    "    <figcaption>Figure 1: You're given a sequence of numbers. What is the length of its longest increasing subsequence?\n",
    "    </figcaption>\n",
    "</figure>\n",
    "<p>\n",
    "    \n",
    "To understand how the [longest increasing subsequence](https://en.wikipedia.org/wiki/Longest_increasing_subsequence) problem differs from similarly sounding problems, imagine you are given this line of flowers. Your challenge is to pick the longest line of flowers out of the original line that are strictly increasing in size. For example [3,4,5,9] is one longest increasing subsequence of [3, 1, 4, 1, 5, 9, 2, 6]\n",
    "    "
   ]
  },
  {
   "cell_type": "code",
   "execution_count": 12,
   "metadata": {
    "jupyter": {
     "source_hidden": true
    },
    "pycharm": {
     "name": "#%%\n"
    }
   },
   "outputs": [
    {
     "data": {
      "application/vnd.jupyter.widget-view+json": {
       "model_id": "c951496e067e479680ca060f3a43d681",
       "version_major": 2,
       "version_minor": 0
      },
      "text/plain": [
       "VBox(box_style='info', children=(HBox(children=(HTML(value='<style>p{word-wrap: break-word}</style> <p>Fill in…"
      ]
     },
     "metadata": {},
     "output_type": "display_data"
    }
   ],
   "source": [
    "%run quizzes/quiz.py quizzes/06/lis_example.json"
   ]
  },
  {
   "cell_type": "markdown",
   "metadata": {
    "pycharm": {
     "name": "#%% md\n"
    }
   },
   "source": [
    "There actually is a connection between longest commmon subsequence and longest increasing subsequence. It's called the river problem, and you can see a variation [here](https://www.geeksforgeeks.org/variations-of-lis-dp-21/). Do the following little exercise first."
   ]
  },
  {
   "cell_type": "code",
   "execution_count": 13,
   "metadata": {
    "jupyter": {
     "source_hidden": true
    },
    "pycharm": {
     "name": "#%%\n"
    }
   },
   "outputs": [
    {
     "data": {
      "application/vnd.jupyter.widget-view+json": {
       "model_id": "891b613deab849758d50e69fd049ef12",
       "version_major": 2,
       "version_minor": 0
      },
      "text/plain": [
       "VBox(box_style='info', children=(HBox(children=(HTML(value='<style>p{word-wrap: break-word}</style> <p>On a pi…"
      ]
     },
     "metadata": {},
     "output_type": "display_data"
    }
   ],
   "source": [
    "%run quizzes/quiz.py quizzes/06/lis_and_lcs.json"
   ]
  },
  {
   "cell_type": "markdown",
   "metadata": {
    "pycharm": {
     "name": "#%% md\n"
    }
   },
   "source": [
    "# Solutions"
   ]
  },
  {
   "cell_type": "markdown",
   "metadata": {},
   "source": [
    "<div class=\"exercise exercise-warning\"><details><summary>Longest increasing subsequence - naive - recursive</summary> \n",
    "    \n",
    "```python \n",
    "    \n",
    "    #%load solutions/06/lis_naive.py\n",
    "    # solution based on this code: https://www.geeksforgeeks.org/longest-increasing-subsequence-dp-3/  by NIKHIL KUMAR SINGH \n",
    "\n",
    "    # maximum over all n\n",
    "    global maximum \n",
    "\n",
    "    def max_ending_here(v): \n",
    "\n",
    "        global maximum \n",
    "\n",
    "        n = len(v)\n",
    "\n",
    "        # base cases\n",
    "        if n == 0:\n",
    "            return 0\n",
    "        if n == 1: \n",
    "            return 1\n",
    "\n",
    "        # max_length_ending_here is the length of the longest increasing subsequence ending with v[n-1] \n",
    "        max_length_ending_here = 1\n",
    "\n",
    "        for i in range(1, n): \n",
    "            # recursively get all LIS ending with v[0], ..., v[i - 2]\n",
    "            res = max_ending_here(v[0: i]) \n",
    "\n",
    "            # if an element before v[n-1] is smaller than v[n-1] and its LIS is greater, then its LIS becomes the new local maximum\n",
    "            if v[i - 1] < v[n-1] and res + 1 > max_length_ending_here: \n",
    "                max_length_ending_here = res + 1\n",
    "\n",
    "        # update overall maximum \n",
    "        maximum = max(maximum , max_length_ending_here) \n",
    "\n",
    "        return max_length_ending_here \n",
    "\n",
    "    def lis(v): \n",
    "\n",
    "        global maximum \n",
    "\n",
    "        # will be updated by the recursive function 'max_ending_here' \n",
    "        maximum = 0\n",
    "\n",
    "        m = max_ending_here(v)\n",
    "        print ('maximum ending here: ', m, 'global maximum: ', maximum)\n",
    "\n",
    "        return maximum\n",
    "    \n",
    "\n",
    "    #unit tests\n",
    "    assert(lis([3, 1, 4, 1, 5, 1, 9, 2, 6]) == 4)\n",
    "    assert(lis([3, 1, 4, 1, 5, 1, 9, 2, 6, 5]) == 4)\n",
    "    assert(lis([1, 2, 3]) == 3)\n",
    "    assert(lis([3, 2, 1, 0]) == 1)\n",
    "    assert(lis([]) == 0)\n",
    "\n",
    "```\n",
    "    \n",
    "</details>"
   ]
  },
  {
   "cell_type": "markdown",
   "metadata": {
    "jupyter": {
     "outputs_hidden": false
    },
    "pycharm": {
     "name": "#%%\n"
    }
   },
   "source": [
    "# References\n",
    "\n",
    "1. Dasgupta, S., Papadimitriou, C. H., & Vazirani, U. V. (2008). Algorithms. McGraw-Hill Higher Education New York.\n",
    "\n",
    "2. Forišek, M. (2015). Towards a better way to teach dynamic programming. Olympiads in Informatics, 9, 45–55."
   ]
  },
  {
   "cell_type": "code",
   "execution_count": 14,
   "metadata": {
    "collapsed": false,
    "jupyter": {
     "outputs_hidden": false
    },
    "pycharm": {
     "name": "#%%\n"
    }
   },
   "outputs": [
    {
     "data": {
      "text/html": [
       "<style>\n",
       "    .alert {\n",
       "      padding: 15px;\n",
       "      margin-bottom: 20px;\n",
       "      border: 1px solid transparent;\n",
       "      border-radius: 4px;\n",
       "    }\n",
       "\n",
       "    .alert h4 {\n",
       "      margin-top: 0;\n",
       "      color: inherit;\n",
       "    }\n",
       "\n",
       "    .alert .alert-link {\n",
       "      font-weight: bold;\n",
       "    }\n",
       "\n",
       "    .alert > p,\n",
       "    .alert > ul {\n",
       "      margin-bottom: 0;\n",
       "    }\n",
       "\n",
       "    .alert > p + p {\n",
       "      margin-top: 5px;\n",
       "    }\n",
       "\n",
       "    .alert-dismissable,\n",
       "    .alert-dismissible {\n",
       "      padding-right: 35px;\n",
       "    }\n",
       "\n",
       "    .alert-dismissable .close,\n",
       "    .alert-dismissible .close {\n",
       "      position: relative;\n",
       "      top: -2px;\n",
       "      right: -21px;\n",
       "      color: inherit;\n",
       "    }\n",
       "\n",
       "    .alert-success {\n",
       "      background-color: #C8E6C9;\n",
       "      border-color: #81C784;\n",
       "      color: #388E3C;\n",
       "    }\n",
       "\n",
       "    .alert-success hr {\n",
       "      border-top-color: #AED581;\n",
       "    }\n",
       "\n",
       "    .alert-success .alert-link {\n",
       "      color: #2E7D32;\n",
       "    }\n",
       "\n",
       "    .alert-info {\n",
       "      background-color: #B2EBF2;\n",
       "      border-color: #4DD0E1;\n",
       "      color: #0097A7;\n",
       "    }\n",
       "\n",
       "    .alert-info hr {\n",
       "      border-top-color: #00838F;\n",
       "    }\n",
       "\n",
       "    .alert-info .alert-link {\n",
       "      color: #245269;\n",
       "    }\n",
       "\n",
       "    .alert-warning {\n",
       "      background-color: #FFE0B2;\n",
       "      border-color: #FFB74D;\n",
       "      color: #F57C00;\n",
       "    }\n",
       "\n",
       "    .alert-warning hr {\n",
       "      border-top-color: #FFB74D;\n",
       "    }\n",
       "\n",
       "    .alert-warning .alert-link {\n",
       "      color: #EF6C00;\n",
       "    }\n",
       "\n",
       "    .alert-danger {\n",
       "      background-color: #ffcdd2;\n",
       "      border-color: #e57373;\n",
       "      color: #d32f2f;\n",
       "    }\n",
       "\n",
       "    .alert-danger hr {\n",
       "      border-top-color: #d32f2f;\n",
       "    }\n",
       "\n",
       "    .alert-danger .alert-link {\n",
       "      color: #c62828;\n",
       "    }\n",
       "    \n",
       "\n",
       "    .exercise {\n",
       "      padding: 15px;\n",
       "      margin-bottom: 20px;\n",
       "      border: 1px solid transparent;\n",
       "      border-radius: 4px;\n",
       "    }\n",
       "\n",
       "    .exercise h4 {\n",
       "      margin-top: 0;\n",
       "      color: inherit;\n",
       "    }\n",
       "\n",
       "    .exercise .alert-link {\n",
       "      font-weight: bold;\n",
       "    }\n",
       "\n",
       "    .exercise > p,\n",
       "    .exercise > ul {\n",
       "      margin-bottom: 0;\n",
       "    }\n",
       "\n",
       "    .exercise > p + p {\n",
       "      margin-top: 5px;\n",
       "    }\n",
       "\n",
       "    .exercise-info {\n",
       "      background-color: #B2EBF2;\n",
       "      border-color: #4DD0E1;\n",
       "      color: #000000;\n",
       "    }\n",
       "\n",
       "    .exercise-info hr {\n",
       "      border-top-color: #00838F;\n",
       "    }\n",
       "\n",
       "    .exercise-info .alert-link {\n",
       "      color: #245269;\n",
       "    }\n",
       "\n",
       "   .exercise-warning {\n",
       "      background-color: #FFE0B2;\n",
       "      border-color: #FFB74D;\n",
       "      color: #000000;\n",
       "    }\n",
       "\n",
       "    .exercise-warning hr {\n",
       "      border-top-color: #FFB74D;\n",
       "    }\n",
       "\n",
       "    .excercise-warning .alert-link {\n",
       "      color: #EF6C00;\n",
       "    }\n",
       "\n",
       "\n",
       "</style>\n"
      ],
      "text/plain": [
       "<IPython.core.display.HTML object>"
      ]
     },
     "execution_count": 14,
     "metadata": {},
     "output_type": "execute_result"
    }
   ],
   "source": [
    "#workaround for known ipywidget issue not rendering alert style colours on Jupyter lab\n",
    "from IPython.core.display import HTML\n",
    "HTML(open(\"../styles/custom.css\", \"r\").read())"
   ]
  }
 ],
 "metadata": {
  "kernelspec": {
   "display_name": "Python 3",
   "language": "python",
   "name": "python3"
  },
  "language_info": {
   "codemirror_mode": {
    "name": "ipython",
    "version": 3
   },
   "file_extension": ".py",
   "mimetype": "text/x-python",
   "name": "python",
   "nbconvert_exporter": "python",
   "pygments_lexer": "ipython3",
   "version": "3.7.6"
  },
  "latex_envs": {
   "LaTeX_envs_menu_present": true,
   "autoclose": true,
   "autocomplete": true,
   "bibliofile": "biblio.bib",
   "cite_by": "apalike",
   "current_citInitial": 1,
   "eqLabelWithNumbers": true,
   "eqNumInitial": 1,
   "hotkeys": {
    "equation": "Ctrl-E",
    "itemize": "Ctrl-I"
   },
   "labels_anchors": false,
   "latex_user_defs": false,
   "report_style_numbering": false,
   "user_envs_cfg": false
  },
  "toc": {
   "base_numbering": 1,
   "nav_menu": {},
   "number_sections": false,
   "sideBar": true,
   "skip_h1_title": false,
   "title_cell": "Table of Contents",
   "title_sidebar": "Contents",
   "toc_cell": false,
   "toc_position": {},
   "toc_section_display": true,
   "toc_window_display": true
  },
  "toc-autonumbering": true,
  "toc-showtags": false,
  "widgets": {
   "application/vnd.jupyter.widget-state+json": {
    "state": {
     "000f359180b74082b1c61d654ad3b450": {
      "model_module": "@jupyter-widgets/controls",
      "model_module_version": "1.5.0",
      "model_name": "DescriptionStyleModel",
      "state": {
       "description_width": ""
      }
     },
     "005620a4ba59424498bd43861da0d318": {
      "model_module": "@jupyter-widgets/controls",
      "model_module_version": "1.5.0",
      "model_name": "HTMLModel",
      "state": {
       "layout": "IPY_MODEL_b534e137e35d46d4870e84a5bd350bca",
       "style": "IPY_MODEL_ed7b186d73e5443fb95edbf0f552683d",
       "value": "<style>p{word-wrap: break-word}</style> <p>. </p>"
      }
     },
     "0192bb1f7e6f4517941697e846a2b988": {
      "model_module": "@jupyter-widgets/controls",
      "model_module_version": "1.5.0",
      "model_name": "DescriptionStyleModel",
      "state": {
       "description_width": ""
      }
     },
     "0232cf0e9d8748c49253d3c78965f6c3": {
      "model_module": "@jupyter-widgets/base",
      "model_module_version": "1.2.0",
      "model_name": "LayoutModel",
      "state": {}
     },
     "0340da9837824575b605a8ada08f37b9": {
      "model_module": "@jupyter-widgets/base",
      "model_module_version": "1.2.0",
      "model_name": "LayoutModel",
      "state": {
       "align_items": "stretch",
       "display": "flex",
       "flex_flow": "column",
       "width": "100%"
      }
     },
     "041d19fe7b5c482ab63fee571416bfba": {
      "model_module": "@jupyter-widgets/controls",
      "model_module_version": "1.5.0",
      "model_name": "ButtonModel",
      "state": {
       "description": "Show answer",
       "disabled": true,
       "layout": "IPY_MODEL_b9092992836846a584848e679a44e201",
       "style": "IPY_MODEL_d0ff9c023c2b4a798013df832ea8d66e"
      }
     },
     "042846a0310b44dc86b3861de324c66a": {
      "model_module": "@jupyter-widgets/controls",
      "model_module_version": "1.5.0",
      "model_name": "ButtonStyleModel",
      "state": {
       "button_color": "#4DD0E1"
      }
     },
     "046d5b53b2f74c7c88fe34fd79c4eafe": {
      "model_module": "@jupyter-widgets/controls",
      "model_module_version": "1.5.0",
      "model_name": "DescriptionStyleModel",
      "state": {
       "description_width": ""
      }
     },
     "04de14f06983405bb815ee2c3287148b": {
      "model_module": "@jupyter-widgets/controls",
      "model_module_version": "1.5.0",
      "model_name": "HBoxModel",
      "state": {
       "children": [
        "IPY_MODEL_59f78cf5034344e38134d7f70af2fac3"
       ],
       "layout": "IPY_MODEL_1e11b6f5d59a4bd18737b8e053e171dd"
      }
     },
     "04e7ecd00ebd4b4ebecd8b0469be5e6c": {
      "model_module": "@jupyter-widgets/controls",
      "model_module_version": "1.5.0",
      "model_name": "HBoxModel",
      "state": {
       "children": [
        "IPY_MODEL_b7e942307ccb4a1ab6eb6a2b15bb8fe6"
       ],
       "layout": "IPY_MODEL_42fbb9d7ab4b413aade5357ad80abd32"
      }
     },
     "055c3d90c1f548c9901c2330d948aeaa": {
      "model_module": "@jupyter-widgets/controls",
      "model_module_version": "1.5.0",
      "model_name": "HBoxModel",
      "state": {
       "children": [
        "IPY_MODEL_4f523401c25e47fa93ca1b1b656c4139",
        "IPY_MODEL_1d8b828626a444119f2cee1a25e95446",
        "IPY_MODEL_0f639788fd5342d78accdad83f143780"
       ],
       "layout": "IPY_MODEL_ba17b768376948e384cec6c206cc3ce8"
      }
     },
     "0564a55da31e4bbcb3f88c8706c6ec8d": {
      "model_module": "@jupyter-widgets/base",
      "model_module_version": "1.2.0",
      "model_name": "LayoutModel",
      "state": {
       "align_items": "stretch",
       "display": "flex",
       "flex_flow": "column",
       "width": "100%"
      }
     },
     "07145888b0764b28881710708d31e6d6": {
      "model_module": "@jupyter-widgets/controls",
      "model_module_version": "1.5.0",
      "model_name": "DescriptionStyleModel",
      "state": {
       "description_width": ""
      }
     },
     "08e8a2831bdb4c0ea12f3eaa63105d92": {
      "model_module": "@jupyter-widgets/controls",
      "model_module_version": "1.5.0",
      "model_name": "HBoxModel",
      "state": {
       "children": [
        "IPY_MODEL_d54de5c29b3a41b6a6d43938cf54d145",
        "IPY_MODEL_1b3210f1d40b4bf08bc6ef8b90da7982",
        "IPY_MODEL_6a96356ed72c46d388378598a85e8fa8"
       ],
       "layout": "IPY_MODEL_e9e97896794e4213ae0cef32ca579230"
      }
     },
     "0cb9336d76404668a4d16ad723dc87a5": {
      "model_module": "@jupyter-widgets/base",
      "model_module_version": "1.2.0",
      "model_name": "LayoutModel",
      "state": {
       "align_items": "stretch",
       "display": "flex",
       "flex_flow": "row wrap",
       "margin": "30px 0 0 0"
      }
     },
     "0d79bba817ac4122b68e6000d53b7f31": {
      "model_module": "@jupyter-widgets/controls",
      "model_module_version": "1.5.0",
      "model_name": "DescriptionStyleModel",
      "state": {
       "description_width": ""
      }
     },
     "0f639788fd5342d78accdad83f143780": {
      "model_module": "@jupyter-widgets/controls",
      "model_module_version": "1.5.0",
      "model_name": "ButtonModel",
      "state": {
       "description": "Show answer",
       "disabled": true,
       "layout": "IPY_MODEL_f73598b6734f49d2afc6d552253669d3",
       "style": "IPY_MODEL_b63532cdc4974f399b9abf7de34df64a"
      }
     },
     "113ee127ed1f4fbfac78b1918e1ff9f7": {
      "model_module": "@jupyter-widgets/controls",
      "model_module_version": "1.5.0",
      "model_name": "HTMLModel",
      "state": {
       "layout": "IPY_MODEL_9a753d13af944fc3859bc0a5afb8d144",
       "style": "IPY_MODEL_c7e1ccc98f1548258a2f395446905f49",
       "value": "<style>p{word-wrap: break-word}</style> <p>The longest increasing subsequence of [4,5,3,2,1,6] is: </p>"
      }
     },
     "11e01a8542c54f56b2f70702590f2fb9": {
      "model_module": "@jupyter-widgets/base",
      "model_module_version": "1.2.0",
      "model_name": "LayoutModel",
      "state": {
       "width": "auto"
      }
     },
     "13538c2eea564ceaad63bf3ed0cf33de": {
      "model_module": "@jupyter-widgets/controls",
      "model_module_version": "1.5.0",
      "model_name": "HBoxModel",
      "state": {
       "children": [
        "IPY_MODEL_2dbc133e9f0442e8a262dd908e1b6847",
        "IPY_MODEL_2346c25942034868a03309790cbba43a",
        "IPY_MODEL_7317d09c43f04842887934c5e0afcbf7"
       ],
       "layout": "IPY_MODEL_49fd9a008ecb4a47885e067073259188"
      }
     },
     "13b4ab97ff994b808c0dee0f72b7aa21": {
      "model_module": "@jupyter-widgets/controls",
      "model_module_version": "1.5.0",
      "model_name": "HBoxModel",
      "state": {
       "children": [
        "IPY_MODEL_aae8363a9d3345248fbc2c0807783300",
        "IPY_MODEL_985b24237bc940be90053ef9036fc627",
        "IPY_MODEL_20e3b91aac554e8a986f8a98bd4c7823"
       ],
       "layout": "IPY_MODEL_14c98ff29b014e23b270dfb9f6496bf5"
      }
     },
     "13f0ebd10f1445a9bcbc5239ae715ee8": {
      "model_module": "@jupyter-widgets/base",
      "model_module_version": "1.2.0",
      "model_name": "LayoutModel",
      "state": {}
     },
     "142ce74e38f745988e6b805ac2e15f5a": {
      "model_module": "@jupyter-widgets/controls",
      "model_module_version": "1.5.0",
      "model_name": "DescriptionStyleModel",
      "state": {
       "description_width": ""
      }
     },
     "14c98ff29b014e23b270dfb9f6496bf5": {
      "model_module": "@jupyter-widgets/base",
      "model_module_version": "1.2.0",
      "model_name": "LayoutModel",
      "state": {
       "align_items": "stretch",
       "display": "flex",
       "flex_flow": "row wrap",
       "width": "auto"
      }
     },
     "162fb166d0a340ec858d9e00ae2deeda": {
      "model_module": "@jupyter-widgets/controls",
      "model_module_version": "1.5.0",
      "model_name": "HBoxModel",
      "state": {
       "children": [
        "IPY_MODEL_3f3dde50b7c34ec3b7075eb5d88b2136",
        "IPY_MODEL_a926cd1309244ac2a6428f14e7becf86",
        "IPY_MODEL_041d19fe7b5c482ab63fee571416bfba"
       ],
       "layout": "IPY_MODEL_0cb9336d76404668a4d16ad723dc87a5"
      }
     },
     "18fb83ff3ef448138f4b340ac230b97c": {
      "model_module": "@jupyter-widgets/base",
      "model_module_version": "1.2.0",
      "model_name": "LayoutModel",
      "state": {}
     },
     "1a1be209a45c4651978cd112e817e798": {
      "model_module": "@jupyter-widgets/controls",
      "model_module_version": "1.5.0",
      "model_name": "HTMLModel",
      "state": {
       "layout": "IPY_MODEL_b86dc23184514c5eb831a1bd2d5ae7c2",
       "style": "IPY_MODEL_2290059aa6e94f0b82aa24bf726c590a",
       "value": "<style>p{word-wrap: break-word}</style> <p>. </p>"
      }
     },
     "1ac97c04dd7040c0b817a155f1b12035": {
      "model_module": "@jupyter-widgets/controls",
      "model_module_version": "1.5.0",
      "model_name": "HTMLModel",
      "state": {
       "layout": "IPY_MODEL_86d11d410a254e3289ad4d271e28751e",
       "style": "IPY_MODEL_aa5cefd153994064a3f8f6779eb432a9",
       "value": "<style>p{word-wrap: break-word}</style> <p>Fill in the blanks with a number or the subsequence written in square brackets like this [1,2,3]  </p>"
      }
     },
     "1b3210f1d40b4bf08bc6ef8b90da7982": {
      "model_module": "@jupyter-widgets/controls",
      "model_module_version": "1.5.0",
      "model_name": "LabelModel",
      "state": {
       "layout": "IPY_MODEL_cc4204a9f7de4a32b45032c3ba1a2942",
       "style": "IPY_MODEL_b25bfbcb0a0a49eabcbc814a62d5f4e5"
      }
     },
     "1bc1237940c04fcba1d3a65955316491": {
      "model_module": "@jupyter-widgets/base",
      "model_module_version": "1.2.0",
      "model_name": "LayoutModel",
      "state": {
       "display": "none"
      }
     },
     "1bd45a865d224420ac233d365315193a": {
      "model_module": "@jupyter-widgets/controls",
      "model_module_version": "1.5.0",
      "model_name": "HTMLModel",
      "state": {
       "layout": "IPY_MODEL_a4c6e5b127fe40ecb0c96f1fa304c793",
       "style": "IPY_MODEL_bc72747bd9804d5391ac8776fce25b19",
       "value": "<style>p{word-wrap: break-word}</style> <p>The longest increasing subsequence of [4,5,3,2,1,6] is: </p>"
      }
     },
     "1c30b973dd684b0aa8b1600829f73fed": {
      "model_module": "@jupyter-widgets/base",
      "model_module_version": "1.2.0",
      "model_name": "LayoutModel",
      "state": {
       "display": "flex",
       "flex_flow": "row",
       "justify_content": "space-between",
       "margin": "0 0 20px 0"
      }
     },
     "1c31491441604d50ad5ce22c78dca05d": {
      "model_module": "@jupyter-widgets/base",
      "model_module_version": "1.2.0",
      "model_name": "LayoutModel",
      "state": {}
     },
     "1d8b828626a444119f2cee1a25e95446": {
      "model_module": "@jupyter-widgets/controls",
      "model_module_version": "1.5.0",
      "model_name": "LabelModel",
      "state": {
       "layout": "IPY_MODEL_7b85bddea5f54f8f98146d2a63518fb9",
       "style": "IPY_MODEL_8c48e6a886bd4dba873df8f53505704b"
      }
     },
     "1e11b6f5d59a4bd18737b8e053e171dd": {
      "model_module": "@jupyter-widgets/base",
      "model_module_version": "1.2.0",
      "model_name": "LayoutModel",
      "state": {
       "display": "flex",
       "flex_flow": "row",
       "justify_content": "space-between",
       "margin": "0 0 20px 0"
      }
     },
     "1e3ee97072c54a1ba16a73b8d5a9a92b": {
      "model_module": "@jupyter-widgets/controls",
      "model_module_version": "1.5.0",
      "model_name": "DescriptionStyleModel",
      "state": {
       "description_width": ""
      }
     },
     "1e767f8ba0f84b44aed6680607114594": {
      "model_module": "@jupyter-widgets/controls",
      "model_module_version": "1.5.0",
      "model_name": "ButtonStyleModel",
      "state": {
       "button_color": "#4DD0E1"
      }
     },
     "2086b2416d794ee7836e9f1489e6f827": {
      "model_module": "@jupyter-widgets/base",
      "model_module_version": "1.2.0",
      "model_name": "LayoutModel",
      "state": {
       "align_items": "stretch",
       "display": "flex",
       "flex_flow": "row wrap",
       "width": "auto"
      }
     },
     "20e3b91aac554e8a986f8a98bd4c7823": {
      "model_module": "@jupyter-widgets/controls",
      "model_module_version": "1.5.0",
      "model_name": "HTMLModel",
      "state": {
       "layout": "IPY_MODEL_1c31491441604d50ad5ce22c78dca05d",
       "style": "IPY_MODEL_8f4e2c1722ce4662ae32218da28576df",
       "value": "<style>p{word-wrap: break-word}</style> <p>. </p>"
      }
     },
     "218b1613afe4478bbe15f0a9493e36ff": {
      "model_module": "@jupyter-widgets/controls",
      "model_module_version": "1.5.0",
      "model_name": "DescriptionStyleModel",
      "state": {
       "description_width": ""
      }
     },
     "21d2e44d9f08422ebe096583a679d39f": {
      "model_module": "@jupyter-widgets/base",
      "model_module_version": "1.2.0",
      "model_name": "LayoutModel",
      "state": {
       "align_items": "stretch",
       "display": "flex",
       "flex_flow": "row wrap",
       "width": "auto"
      }
     },
     "2290059aa6e94f0b82aa24bf726c590a": {
      "model_module": "@jupyter-widgets/controls",
      "model_module_version": "1.5.0",
      "model_name": "DescriptionStyleModel",
      "state": {
       "description_width": ""
      }
     },
     "22aa187064fb41dab9f05263c7d1deb1": {
      "model_module": "@jupyter-widgets/controls",
      "model_module_version": "1.5.0",
      "model_name": "DescriptionStyleModel",
      "state": {
       "description_width": ""
      }
     },
     "2301d4b69f914617a8aa2d53a57058e8": {
      "model_module": "@jupyter-widgets/controls",
      "model_module_version": "1.5.0",
      "model_name": "ButtonModel",
      "state": {
       "description": "Submit",
       "layout": "IPY_MODEL_de992116f8954dc391867f0c9f420eb0",
       "style": "IPY_MODEL_1e767f8ba0f84b44aed6680607114594"
      }
     },
     "2346c25942034868a03309790cbba43a": {
      "model_module": "@jupyter-widgets/controls",
      "model_module_version": "1.5.0",
      "model_name": "LabelModel",
      "state": {
       "layout": "IPY_MODEL_481a68e87b2c40ba9780b134a7c60e52",
       "style": "IPY_MODEL_2a261a7ebc584f10b96c97e388726d79"
      }
     },
     "25b4930018a3434382584e91b342eb0d": {
      "model_module": "@jupyter-widgets/controls",
      "model_module_version": "1.5.0",
      "model_name": "VBoxModel",
      "state": {
       "box_style": "info",
       "children": [
        "IPY_MODEL_875e063e477144cba5715fa057da5401",
        "IPY_MODEL_9d70c05db64d48028ddace6db8d1d2da",
        "IPY_MODEL_055c3d90c1f548c9901c2330d948aeaa"
       ],
       "layout": "IPY_MODEL_0564a55da31e4bbcb3f88c8706c6ec8d"
      }
     },
     "25f87f0623444e798b235be877bb8933": {
      "model_module": "@jupyter-widgets/base",
      "model_module_version": "1.2.0",
      "model_name": "LayoutModel",
      "state": {}
     },
     "261cabc110e54bc89fa9394d9b200007": {
      "model_module": "@jupyter-widgets/controls",
      "model_module_version": "1.5.0",
      "model_name": "DescriptionStyleModel",
      "state": {
       "description_width": ""
      }
     },
     "26c19fa54ab44902913a9570ef15923e": {
      "model_module": "@jupyter-widgets/base",
      "model_module_version": "1.2.0",
      "model_name": "LayoutModel",
      "state": {}
     },
     "27221b0c635f42439228eef323064076": {
      "model_module": "@jupyter-widgets/controls",
      "model_module_version": "1.5.0",
      "model_name": "DescriptionStyleModel",
      "state": {
       "description_width": ""
      }
     },
     "275ff08b564c4ddb958b354d94cc2554": {
      "model_module": "@jupyter-widgets/base",
      "model_module_version": "1.2.0",
      "model_name": "LayoutModel",
      "state": {
       "width": "auto"
      }
     },
     "2855cc7ede3c40c78d7691df50e71e66": {
      "model_module": "@jupyter-widgets/controls",
      "model_module_version": "1.5.0",
      "model_name": "HBoxModel",
      "state": {
       "children": [
        "IPY_MODEL_a556b1d6fbc8424aa189befd8d36a0c7",
        "IPY_MODEL_5eea49adb2b44f6ab44e8e7e72c90944",
        "IPY_MODEL_60a5263837a84cc190a932872df04081"
       ],
       "layout": "IPY_MODEL_29d7d9b4fdb84ad19dd71ee5c77ff353"
      }
     },
     "28a58c3f8ad841308676c25340cd66b0": {
      "model_module": "@jupyter-widgets/controls",
      "model_module_version": "1.5.0",
      "model_name": "ButtonStyleModel",
      "state": {
       "button_color": "#4DD0E1"
      }
     },
     "28f7546d4b5341b49f24c23ee64cdf47": {
      "model_module": "@jupyter-widgets/base",
      "model_module_version": "1.2.0",
      "model_name": "LayoutModel",
      "state": {}
     },
     "29d7d9b4fdb84ad19dd71ee5c77ff353": {
      "model_module": "@jupyter-widgets/base",
      "model_module_version": "1.2.0",
      "model_name": "LayoutModel",
      "state": {
       "align_items": "stretch",
       "display": "flex",
       "flex_flow": "row wrap",
       "width": "auto"
      }
     },
     "2a261a7ebc584f10b96c97e388726d79": {
      "model_module": "@jupyter-widgets/controls",
      "model_module_version": "1.5.0",
      "model_name": "DescriptionStyleModel",
      "state": {
       "description_width": ""
      }
     },
     "2c705d05093a4ccdb96bc2e98052b2c4": {
      "model_module": "@jupyter-widgets/controls",
      "model_module_version": "1.5.0",
      "model_name": "DescriptionStyleModel",
      "state": {
       "description_width": ""
      }
     },
     "2d5a6c74fada4528bba0b0a5b4c1caff": {
      "model_module": "@jupyter-widgets/controls",
      "model_module_version": "1.5.0",
      "model_name": "ButtonStyleModel",
      "state": {
       "button_color": "#4DD0E1"
      }
     },
     "2dbc133e9f0442e8a262dd908e1b6847": {
      "model_module": "@jupyter-widgets/controls",
      "model_module_version": "1.5.0",
      "model_name": "ButtonModel",
      "state": {
       "description": "Submit",
       "layout": "IPY_MODEL_bbc62dd86dcd4a69b69ff23891b42618",
       "style": "IPY_MODEL_3d03b600ccef4cf78d8bab091f28f244"
      }
     },
     "2dfa6589b63743f9bccf3f01c7396358": {
      "model_module": "@jupyter-widgets/controls",
      "model_module_version": "1.5.0",
      "model_name": "HTMLModel",
      "state": {
       "layout": "IPY_MODEL_3606b6d6df6d4094aae5e9f0882b098b",
       "style": "IPY_MODEL_9f2d37fe5ad84d9eab51e485c701b0ed",
       "value": "<style>p{word-wrap: break-word}</style> <p>The longest increasing subsequence of [4,5,3,2,1,6] is: </p>"
      }
     },
     "2e90e6817d244c5899fdaaa699c3994d": {
      "model_module": "@jupyter-widgets/base",
      "model_module_version": "1.2.0",
      "model_name": "LayoutModel",
      "state": {
       "width": "auto"
      }
     },
     "2f3921276d7c43ada84e7be34c041cce": {
      "model_module": "@jupyter-widgets/controls",
      "model_module_version": "1.5.0",
      "model_name": "TextModel",
      "state": {
       "layout": "IPY_MODEL_2e90e6817d244c5899fdaaa699c3994d",
       "placeholder": "",
       "style": "IPY_MODEL_0192bb1f7e6f4517941697e846a2b988"
      }
     },
     "3253cbde298248ff84e4ec06c5c9f67c": {
      "model_module": "@jupyter-widgets/base",
      "model_module_version": "1.2.0",
      "model_name": "LayoutModel",
      "state": {
       "width": "auto"
      }
     },
     "3342d007cd9e4f5786d6463aebfcdcdc": {
      "model_module": "@jupyter-widgets/controls",
      "model_module_version": "1.5.0",
      "model_name": "DescriptionStyleModel",
      "state": {
       "description_width": ""
      }
     },
     "342867765d1f45858ed76352ed46af99": {
      "model_module": "@jupyter-widgets/base",
      "model_module_version": "1.2.0",
      "model_name": "LayoutModel",
      "state": {
       "align_items": "stretch",
       "display": "flex",
       "flex_flow": "row wrap",
       "width": "auto"
      }
     },
     "34b178657a2e4877b355944b4b4e1609": {
      "model_module": "@jupyter-widgets/base",
      "model_module_version": "1.2.0",
      "model_name": "LayoutModel",
      "state": {
       "height": "50%",
       "margin": "0 0 0 30px",
       "width": "50%"
      }
     },
     "3606b6d6df6d4094aae5e9f0882b098b": {
      "model_module": "@jupyter-widgets/base",
      "model_module_version": "1.2.0",
      "model_name": "LayoutModel",
      "state": {}
     },
     "364d46e5b2c34062a170eeef53caa940": {
      "model_module": "@jupyter-widgets/controls",
      "model_module_version": "1.5.0",
      "model_name": "HBoxModel",
      "state": {
       "children": [
        "IPY_MODEL_1bd45a865d224420ac233d365315193a",
        "IPY_MODEL_766e4d82fbc84840b67eda3b83e6ce91",
        "IPY_MODEL_5bd29609103f4e49abd09ae37602f704"
       ],
       "layout": "IPY_MODEL_8593445e76144bb5ae3bab02326e626a"
      }
     },
     "36f78d6d7d784f21881cb3a729cb79ea": {
      "model_module": "@jupyter-widgets/controls",
      "model_module_version": "1.5.0",
      "model_name": "DescriptionStyleModel",
      "state": {
       "description_width": ""
      }
     },
     "377e1e69d9c44dd9a1bf2a699b63e615": {
      "model_module": "@jupyter-widgets/controls",
      "model_module_version": "1.5.0",
      "model_name": "DescriptionStyleModel",
      "state": {
       "description_width": ""
      }
     },
     "37f2c835890e429aaa8a268d11999089": {
      "model_module": "@jupyter-widgets/controls",
      "model_module_version": "1.5.0",
      "model_name": "TextModel",
      "state": {
       "layout": "IPY_MODEL_c8653570c16445ff905f1a3c99e40167",
       "placeholder": "",
       "style": "IPY_MODEL_b7083e71a1bf4860b36890223118e423"
      }
     },
     "397a62eafdcd40b0b21bf7b035727a75": {
      "model_module": "@jupyter-widgets/base",
      "model_module_version": "1.2.0",
      "model_name": "LayoutModel",
      "state": {
       "width": "auto"
      }
     },
     "39dd088700414cebbd38d2c837b9c15e": {
      "model_module": "@jupyter-widgets/controls",
      "model_module_version": "1.5.0",
      "model_name": "DescriptionStyleModel",
      "state": {
       "description_width": ""
      }
     },
     "3b55e9bf78ac4f9eb943b030a3f1dff9": {
      "model_module": "@jupyter-widgets/controls",
      "model_module_version": "1.5.0",
      "model_name": "TextModel",
      "state": {
       "layout": "IPY_MODEL_3253cbde298248ff84e4ec06c5c9f67c",
       "placeholder": "",
       "style": "IPY_MODEL_142ce74e38f745988e6b805ac2e15f5a"
      }
     },
     "3cc0079deafb428c9acc90f1da502abd": {
      "model_module": "@jupyter-widgets/controls",
      "model_module_version": "1.5.0",
      "model_name": "DescriptionStyleModel",
      "state": {
       "description_width": ""
      }
     },
     "3d03b600ccef4cf78d8bab091f28f244": {
      "model_module": "@jupyter-widgets/controls",
      "model_module_version": "1.5.0",
      "model_name": "ButtonStyleModel",
      "state": {
       "button_color": "#4DD0E1"
      }
     },
     "3eb1af495e06434a874294b55c072acb": {
      "model_module": "@jupyter-widgets/base",
      "model_module_version": "1.2.0",
      "model_name": "LayoutModel",
      "state": {
       "align_items": "stretch",
       "display": "flex",
       "flex_flow": "column",
       "width": "100%"
      }
     },
     "3ee9e369feaf4f83a9e1bb512589243d": {
      "model_module": "@jupyter-widgets/base",
      "model_module_version": "1.2.0",
      "model_name": "LayoutModel",
      "state": {
       "align_items": "stretch",
       "display": "flex",
       "flex_flow": "column",
       "width": "100%"
      }
     },
     "3f3dde50b7c34ec3b7075eb5d88b2136": {
      "model_module": "@jupyter-widgets/controls",
      "model_module_version": "1.5.0",
      "model_name": "ButtonModel",
      "state": {
       "description": "Submit",
       "layout": "IPY_MODEL_18fb83ff3ef448138f4b340ac230b97c",
       "style": "IPY_MODEL_a5d2b07a05d3432ba4daa3c63bce50f1"
      }
     },
     "3f8eeb04b41f4897bef8accda3f3ef49": {
      "model_module": "@jupyter-widgets/controls",
      "model_module_version": "1.5.0",
      "model_name": "HTMLModel",
      "state": {
       "layout": "IPY_MODEL_d5632618faf7480fa8522dad943f7241",
       "style": "IPY_MODEL_39dd088700414cebbd38d2c837b9c15e",
       "value": "<style>p{word-wrap: break-word}</style> <p>Fill in the blanks with a number or the subsequence written in square brackets like this [1,2,3]  </p>"
      }
     },
     "41e79ff9fa5c4a0b84d01225f4a18626": {
      "model_module": "@jupyter-widgets/base",
      "model_module_version": "1.2.0",
      "model_name": "LayoutModel",
      "state": {}
     },
     "421888c4b04b41c5a1650940560cdb40": {
      "model_module": "@jupyter-widgets/base",
      "model_module_version": "1.2.0",
      "model_name": "LayoutModel",
      "state": {}
     },
     "42fbb9d7ab4b413aade5357ad80abd32": {
      "model_module": "@jupyter-widgets/base",
      "model_module_version": "1.2.0",
      "model_name": "LayoutModel",
      "state": {
       "display": "flex",
       "flex_flow": "row",
       "justify_content": "space-between",
       "margin": "0 0 20px 0"
      }
     },
     "44364c09a40c497bbda72eae90bde421": {
      "model_module": "@jupyter-widgets/base",
      "model_module_version": "1.2.0",
      "model_name": "LayoutModel",
      "state": {}
     },
     "449b329eb5f34465ad0e9f91b2b6327d": {
      "model_module": "@jupyter-widgets/controls",
      "model_module_version": "1.5.0",
      "model_name": "DescriptionStyleModel",
      "state": {
       "description_width": ""
      }
     },
     "44ae983aaa54472c97b3a34a7bf161fd": {
      "model_module": "@jupyter-widgets/base",
      "model_module_version": "1.2.0",
      "model_name": "LayoutModel",
      "state": {
       "display": "none"
      }
     },
     "481a68e87b2c40ba9780b134a7c60e52": {
      "model_module": "@jupyter-widgets/base",
      "model_module_version": "1.2.0",
      "model_name": "LayoutModel",
      "state": {
       "height": "50%",
       "margin": "0 0 0 30px",
       "width": "50%"
      }
     },
     "49fd9a008ecb4a47885e067073259188": {
      "model_module": "@jupyter-widgets/base",
      "model_module_version": "1.2.0",
      "model_name": "LayoutModel",
      "state": {
       "align_items": "stretch",
       "display": "flex",
       "flex_flow": "row wrap",
       "margin": "30px 0 0 0"
      }
     },
     "4adb25109394475480b8e35fcc25bc3e": {
      "model_module": "@jupyter-widgets/base",
      "model_module_version": "1.2.0",
      "model_name": "LayoutModel",
      "state": {
       "align_items": "stretch",
       "display": "flex",
       "flex_flow": "row wrap",
       "width": "auto"
      }
     },
     "4ae79f5f02d94c299628b1f42df0190d": {
      "model_module": "@jupyter-widgets/base",
      "model_module_version": "1.2.0",
      "model_name": "LayoutModel",
      "state": {
       "align_items": "stretch",
       "display": "flex",
       "flex_flow": "row wrap",
       "width": "auto"
      }
     },
     "4c9e3f4176e44b37a17716e2a4efac79": {
      "model_module": "@jupyter-widgets/base",
      "model_module_version": "1.2.0",
      "model_name": "LayoutModel",
      "state": {
       "width": "auto"
      }
     },
     "4e0cc3b11bd44d39b1307627668e1156": {
      "model_module": "@jupyter-widgets/base",
      "model_module_version": "1.2.0",
      "model_name": "LayoutModel",
      "state": {
       "align_items": "stretch",
       "display": "flex",
       "flex_flow": "row wrap",
       "width": "auto"
      }
     },
     "4eb12a460ca2480987d137b0ba32166a": {
      "model_module": "@jupyter-widgets/base",
      "model_module_version": "1.2.0",
      "model_name": "LayoutModel",
      "state": {
       "align_items": "stretch",
       "display": "flex",
       "flex_flow": "row wrap",
       "width": "auto"
      }
     },
     "4f523401c25e47fa93ca1b1b656c4139": {
      "model_module": "@jupyter-widgets/controls",
      "model_module_version": "1.5.0",
      "model_name": "ButtonModel",
      "state": {
       "description": "Submit",
       "layout": "IPY_MODEL_421888c4b04b41c5a1650940560cdb40",
       "style": "IPY_MODEL_d35c941efd66489d94ca1d06ef6acf93"
      }
     },
     "520bdf5e1ca14bf88d2f2e9439734e58": {
      "model_module": "@jupyter-widgets/controls",
      "model_module_version": "1.5.0",
      "model_name": "VBoxModel",
      "state": {
       "box_style": "info",
       "children": [
        "IPY_MODEL_a144a983ddf244c4aa44e86bd1795e6a",
        "IPY_MODEL_82e78372e8004515b2b3e79f95cf40c4",
        "IPY_MODEL_162fb166d0a340ec858d9e00ae2deeda"
       ],
       "layout": "IPY_MODEL_3ee9e369feaf4f83a9e1bb512589243d"
      }
     },
     "53b252020d7c4a0ea18e2a9cc5a05a4c": {
      "model_module": "@jupyter-widgets/base",
      "model_module_version": "1.2.0",
      "model_name": "LayoutModel",
      "state": {
       "display": "none"
      }
     },
     "5437440ca46b42dcaf1ea0e795fd8aa3": {
      "model_module": "@jupyter-widgets/controls",
      "model_module_version": "1.5.0",
      "model_name": "HBoxModel",
      "state": {
       "children": [
        "IPY_MODEL_bc00f3d6f9b741ccbe8aebdf81ec3f6b"
       ],
       "layout": "IPY_MODEL_90ec2bae5e364d2fbfcdca897d796929"
      }
     },
     "553f95a07fd54f85854bebd884ed1c13": {
      "model_module": "@jupyter-widgets/controls",
      "model_module_version": "1.5.0",
      "model_name": "ButtonModel",
      "state": {
       "description": "Show answer",
       "disabled": true,
       "layout": "IPY_MODEL_1bc1237940c04fcba1d3a65955316491",
       "style": "IPY_MODEL_2d5a6c74fada4528bba0b0a5b4c1caff"
      }
     },
     "5598bdad235b4fb9a5f5ab6f2bd39a00": {
      "model_module": "@jupyter-widgets/base",
      "model_module_version": "1.2.0",
      "model_name": "LayoutModel",
      "state": {
       "align_items": "stretch",
       "display": "flex",
       "flex_flow": "row wrap",
       "width": "auto"
      }
     },
     "57ceb18b1f6c4f2fa409b37b39ec5ede": {
      "model_module": "@jupyter-widgets/controls",
      "model_module_version": "1.5.0",
      "model_name": "TextModel",
      "state": {
       "layout": "IPY_MODEL_4c9e3f4176e44b37a17716e2a4efac79",
       "placeholder": "",
       "style": "IPY_MODEL_07145888b0764b28881710708d31e6d6"
      }
     },
     "58b1ca0737d8458eba4946b828e3e41b": {
      "model_module": "@jupyter-widgets/base",
      "model_module_version": "1.2.0",
      "model_name": "LayoutModel",
      "state": {
       "display": "flex",
       "flex_flow": "row",
       "justify_content": "space-between",
       "margin": "0 0 20px 0"
      }
     },
     "59506856184f4485984062b71896aa26": {
      "model_module": "@jupyter-widgets/controls",
      "model_module_version": "1.5.0",
      "model_name": "DescriptionStyleModel",
      "state": {
       "description_width": ""
      }
     },
     "59f78cf5034344e38134d7f70af2fac3": {
      "model_module": "@jupyter-widgets/controls",
      "model_module_version": "1.5.0",
      "model_name": "HTMLModel",
      "state": {
       "layout": "IPY_MODEL_26c19fa54ab44902913a9570ef15923e",
       "style": "IPY_MODEL_3cc0079deafb428c9acc90f1da502abd",
       "value": "<style>p{word-wrap: break-word}</style> <p>On a piece of paper, write out the longest common subsequence between [4,5,3,2,1,6] and [1,2,3,4,5,6]. Underneath, write out the numbers 1, 2, 3, 4, 5, 6 (in increasing order). Draw a line between matching numbers. </p>"
      }
     },
     "5a31f588aa9f44b8839d37a89d210565": {
      "model_module": "@jupyter-widgets/controls",
      "model_module_version": "1.5.0",
      "model_name": "HBoxModel",
      "state": {
       "children": [
        "IPY_MODEL_d1e87a26a1b84170b92bc22b28c9f014",
        "IPY_MODEL_13b4ab97ff994b808c0dee0f72b7aa21",
        "IPY_MODEL_8c0cc57413fc47b3a2ec0c24734bc2ac"
       ],
       "layout": "IPY_MODEL_4adb25109394475480b8e35fcc25bc3e"
      }
     },
     "5bd29609103f4e49abd09ae37602f704": {
      "model_module": "@jupyter-widgets/controls",
      "model_module_version": "1.5.0",
      "model_name": "HTMLModel",
      "state": {
       "layout": "IPY_MODEL_85073a00a69a4d17b1efef4b4889bb45",
       "style": "IPY_MODEL_ccd153c8941f4d03a51c930e1f70d51e",
       "value": "<style>p{word-wrap: break-word}</style> <p>. </p>"
      }
     },
     "5d2b88fa945b4e62a170a70ac374ffad": {
      "model_module": "@jupyter-widgets/controls",
      "model_module_version": "1.5.0",
      "model_name": "HTMLModel",
      "state": {
       "layout": "IPY_MODEL_7560aed2ca2444299de62849cac91285",
       "style": "IPY_MODEL_22aa187064fb41dab9f05263c7d1deb1",
       "value": "<style>p{word-wrap: break-word}</style> <p>. </p>"
      }
     },
     "5eea49adb2b44f6ab44e8e7e72c90944": {
      "model_module": "@jupyter-widgets/controls",
      "model_module_version": "1.5.0",
      "model_name": "TextModel",
      "state": {
       "layout": "IPY_MODEL_f5ef5b3ceddc463e8694653d56bc6080",
       "placeholder": "",
       "style": "IPY_MODEL_0d79bba817ac4122b68e6000d53b7f31"
      }
     },
     "5f14d1a34282431ba401c73ec2c3270e": {
      "model_module": "@jupyter-widgets/base",
      "model_module_version": "1.2.0",
      "model_name": "LayoutModel",
      "state": {
       "align_items": "stretch",
       "display": "flex",
       "flex_flow": "row wrap",
       "margin": "30px 0 0 0"
      }
     },
     "6009628731814a2a9784caba057945cf": {
      "model_module": "@jupyter-widgets/base",
      "model_module_version": "1.2.0",
      "model_name": "LayoutModel",
      "state": {}
     },
     "60a5263837a84cc190a932872df04081": {
      "model_module": "@jupyter-widgets/controls",
      "model_module_version": "1.5.0",
      "model_name": "HTMLModel",
      "state": {
       "layout": "IPY_MODEL_98d6c175ad584dfeb34f332794a3af91",
       "style": "IPY_MODEL_e2e436ce162d4924aa1a037d4b988068",
       "value": "<style>p{word-wrap: break-word}</style> <p>. </p>"
      }
     },
     "611db5ea22804a67ba929ea1d0d38b9f": {
      "model_module": "@jupyter-widgets/controls",
      "model_module_version": "1.5.0",
      "model_name": "HBoxModel",
      "state": {
       "children": [
        "IPY_MODEL_9f49f17e824047b9b51610dc9f91dbfc",
        "IPY_MODEL_3b55e9bf78ac4f9eb943b030a3f1dff9",
        "IPY_MODEL_c0d796fc2f054e4990bc219c8e7e34d0"
       ],
       "layout": "IPY_MODEL_af23c060172a487895528aeb9df29f2e"
      }
     },
     "61d5ed368b0c42b9ab54784803990068": {
      "model_module": "@jupyter-widgets/base",
      "model_module_version": "1.2.0",
      "model_name": "LayoutModel",
      "state": {}
     },
     "62624d53d49a47569965f93ff6f5227c": {
      "model_module": "@jupyter-widgets/controls",
      "model_module_version": "1.5.0",
      "model_name": "HTMLModel",
      "state": {
       "layout": "IPY_MODEL_13f0ebd10f1445a9bcbc5239ae715ee8",
       "style": "IPY_MODEL_377e1e69d9c44dd9a1bf2a699b63e615",
       "value": "<style>p{word-wrap: break-word}</style> <p>. </p>"
      }
     },
     "630be2714a4045d38f9482cccb023666": {
      "model_module": "@jupyter-widgets/controls",
      "model_module_version": "1.5.0",
      "model_name": "HBoxModel",
      "state": {
       "children": [
        "IPY_MODEL_aca60b38a364479e8aecff795b0a3a1a",
        "IPY_MODEL_fe54968303664908a56402c49545e1b8",
        "IPY_MODEL_62624d53d49a47569965f93ff6f5227c"
       ],
       "layout": "IPY_MODEL_342867765d1f45858ed76352ed46af99"
      }
     },
     "6617c3070aef485fbf93d17b861e0601": {
      "model_module": "@jupyter-widgets/controls",
      "model_module_version": "1.5.0",
      "model_name": "HTMLModel",
      "state": {
       "layout": "IPY_MODEL_e27af4ebc6dd42fdaaad07669a215197",
       "style": "IPY_MODEL_27221b0c635f42439228eef323064076",
       "value": "<style>p{word-wrap: break-word}</style> <p>The *length* of the longest increasing subsequence of [4,3,2,1] is:  </p>"
      }
     },
     "669c61d238a54768b214223013716735": {
      "model_module": "@jupyter-widgets/controls",
      "model_module_version": "1.5.0",
      "model_name": "HTMLModel",
      "state": {
       "layout": "IPY_MODEL_44364c09a40c497bbda72eae90bde421",
       "style": "IPY_MODEL_59506856184f4485984062b71896aa26",
       "value": "<style>p{word-wrap: break-word}</style> <p>The longest increasing subsequence of [4,5,3,2,1] is:  </p>"
      }
     },
     "66ba095885a84365a7341901e5c9eccf": {
      "model_module": "@jupyter-widgets/controls",
      "model_module_version": "1.5.0",
      "model_name": "HTMLModel",
      "state": {
       "layout": "IPY_MODEL_61d5ed368b0c42b9ab54784803990068",
       "style": "IPY_MODEL_7e759f20284742f4a783de7b5b6933c6",
       "value": "<style>p{word-wrap: break-word}</style> <p>. </p>"
      }
     },
     "672238d22bd54f72ac6666ea8fb27314": {
      "model_module": "@jupyter-widgets/base",
      "model_module_version": "1.2.0",
      "model_name": "LayoutModel",
      "state": {
       "height": "50%",
       "margin": "0 0 0 30px",
       "width": "50%"
      }
     },
     "687dadf9f363486e83a5cd8c3eb2f0ba": {
      "model_module": "@jupyter-widgets/controls",
      "model_module_version": "1.5.0",
      "model_name": "DescriptionStyleModel",
      "state": {
       "description_width": ""
      }
     },
     "692831d3f13446e9b89d75ef541b7968": {
      "model_module": "@jupyter-widgets/base",
      "model_module_version": "1.2.0",
      "model_name": "LayoutModel",
      "state": {
       "align_items": "stretch",
       "display": "flex",
       "flex_flow": "column",
       "width": "100%"
      }
     },
     "6a96356ed72c46d388378598a85e8fa8": {
      "model_module": "@jupyter-widgets/controls",
      "model_module_version": "1.5.0",
      "model_name": "ButtonModel",
      "state": {
       "description": "Show answer",
       "disabled": true,
       "layout": "IPY_MODEL_53b252020d7c4a0ea18e2a9cc5a05a4c",
       "style": "IPY_MODEL_f5cc32b0dbfb4029af64de154eb0c190"
      }
     },
     "6e9f4f31cf474acc92ddf8efe560bc48": {
      "model_module": "@jupyter-widgets/base",
      "model_module_version": "1.2.0",
      "model_name": "LayoutModel",
      "state": {}
     },
     "6f677910fbae4830a6b9f8b1d53887cc": {
      "model_module": "@jupyter-widgets/controls",
      "model_module_version": "1.5.0",
      "model_name": "HBoxModel",
      "state": {
       "children": [
        "IPY_MODEL_2855cc7ede3c40c78d7691df50e71e66"
       ],
       "layout": "IPY_MODEL_92af6f0545be44b58628a380b21df712"
      }
     },
     "7317d09c43f04842887934c5e0afcbf7": {
      "model_module": "@jupyter-widgets/controls",
      "model_module_version": "1.5.0",
      "model_name": "ButtonModel",
      "state": {
       "description": "Show answer",
       "disabled": true,
       "layout": "IPY_MODEL_e7644c2d9c9c4ac6bf1a5517c7764204",
       "style": "IPY_MODEL_879775e195074a5ea426a3692df26759"
      }
     },
     "74febfe1234645cbba461c267be39df0": {
      "model_module": "@jupyter-widgets/controls",
      "model_module_version": "1.5.0",
      "model_name": "DescriptionStyleModel",
      "state": {
       "description_width": ""
      }
     },
     "7560aed2ca2444299de62849cac91285": {
      "model_module": "@jupyter-widgets/base",
      "model_module_version": "1.2.0",
      "model_name": "LayoutModel",
      "state": {}
     },
     "75c86f9a2a5e4b1b81d615cd9ec372e0": {
      "model_module": "@jupyter-widgets/base",
      "model_module_version": "1.2.0",
      "model_name": "LayoutModel",
      "state": {
       "display": "flex",
       "flex_flow": "row",
       "justify_content": "space-between",
       "margin": "0 0 20px 0"
      }
     },
     "766e4d82fbc84840b67eda3b83e6ce91": {
      "model_module": "@jupyter-widgets/controls",
      "model_module_version": "1.5.0",
      "model_name": "TextModel",
      "state": {
       "layout": "IPY_MODEL_d805cc0ff2d644a3b81e25c8320277f9",
       "placeholder": "",
       "style": "IPY_MODEL_b66d7485830444bd8cc666575df1129b"
      }
     },
     "77e914c8b2c14a45b9de45b36ee6d14f": {
      "model_module": "@jupyter-widgets/controls",
      "model_module_version": "1.5.0",
      "model_name": "HBoxModel",
      "state": {
       "children": [
        "IPY_MODEL_2301d4b69f914617a8aa2d53a57058e8",
        "IPY_MODEL_c548ac2ae3644ae694d5a773919652f2",
        "IPY_MODEL_553f95a07fd54f85854bebd884ed1c13"
       ],
       "layout": "IPY_MODEL_5f14d1a34282431ba401c73ec2c3270e"
      }
     },
     "7a0a9e04dba445e39c3b9f6c5b531078": {
      "model_module": "@jupyter-widgets/controls",
      "model_module_version": "1.5.0",
      "model_name": "HTMLModel",
      "state": {
       "layout": "IPY_MODEL_b313d93473084d3897c90d60c7f54373",
       "style": "IPY_MODEL_449b329eb5f34465ad0e9f91b2b6327d",
       "value": "<style>p{word-wrap: break-word}</style> <p>. </p>"
      }
     },
     "7b85bddea5f54f8f98146d2a63518fb9": {
      "model_module": "@jupyter-widgets/base",
      "model_module_version": "1.2.0",
      "model_name": "LayoutModel",
      "state": {
       "height": "50%",
       "margin": "0 0 0 30px",
       "width": "50%"
      }
     },
     "7c4cee5e9f134a43933f8ee3abec32fb": {
      "model_module": "@jupyter-widgets/base",
      "model_module_version": "1.2.0",
      "model_name": "LayoutModel",
      "state": {}
     },
     "7e759f20284742f4a783de7b5b6933c6": {
      "model_module": "@jupyter-widgets/controls",
      "model_module_version": "1.5.0",
      "model_name": "DescriptionStyleModel",
      "state": {
       "description_width": ""
      }
     },
     "7efe8fcec977405fb4c836ad69b42103": {
      "model_module": "@jupyter-widgets/base",
      "model_module_version": "1.2.0",
      "model_name": "LayoutModel",
      "state": {}
     },
     "818e47c6cabb481fb03e4b1c8317cec5": {
      "model_module": "@jupyter-widgets/controls",
      "model_module_version": "1.5.0",
      "model_name": "HBoxModel",
      "state": {
       "children": [
        "IPY_MODEL_6617c3070aef485fbf93d17b861e0601",
        "IPY_MODEL_2f3921276d7c43ada84e7be34c041cce",
        "IPY_MODEL_9b8cdbd8bf024eb0bef9c1b99de4fc92"
       ],
       "layout": "IPY_MODEL_b323104dc8f441b69f03166c73b917a5"
      }
     },
     "82e78372e8004515b2b3e79f95cf40c4": {
      "model_module": "@jupyter-widgets/controls",
      "model_module_version": "1.5.0",
      "model_name": "HBoxModel",
      "state": {
       "children": [
        "IPY_MODEL_611db5ea22804a67ba929ea1d0d38b9f"
       ],
       "layout": "IPY_MODEL_4e0cc3b11bd44d39b1307627668e1156"
      }
     },
     "85073a00a69a4d17b1efef4b4889bb45": {
      "model_module": "@jupyter-widgets/base",
      "model_module_version": "1.2.0",
      "model_name": "LayoutModel",
      "state": {}
     },
     "8593445e76144bb5ae3bab02326e626a": {
      "model_module": "@jupyter-widgets/base",
      "model_module_version": "1.2.0",
      "model_name": "LayoutModel",
      "state": {
       "align_items": "stretch",
       "display": "flex",
       "flex_flow": "row wrap",
       "width": "auto"
      }
     },
     "867a33f6231145acbf2cc9aa20eb8ee7": {
      "model_module": "@jupyter-widgets/controls",
      "model_module_version": "1.5.0",
      "model_name": "DescriptionStyleModel",
      "state": {
       "description_width": ""
      }
     },
     "86d11d410a254e3289ad4d271e28751e": {
      "model_module": "@jupyter-widgets/base",
      "model_module_version": "1.2.0",
      "model_name": "LayoutModel",
      "state": {}
     },
     "8700dc0c067548789af495df125f5e17": {
      "model_module": "@jupyter-widgets/controls",
      "model_module_version": "1.5.0",
      "model_name": "HTMLModel",
      "state": {
       "layout": "IPY_MODEL_41e79ff9fa5c4a0b84d01225f4a18626",
       "style": "IPY_MODEL_36f78d6d7d784f21881cb3a729cb79ea",
       "value": "<style>p{word-wrap: break-word}</style> <p>The *length* of the longest increasing subsequence of [4,3,2,1] is:  </p>"
      }
     },
     "875e063e477144cba5715fa057da5401": {
      "model_module": "@jupyter-widgets/controls",
      "model_module_version": "1.5.0",
      "model_name": "HBoxModel",
      "state": {
       "children": [
        "IPY_MODEL_be48ab132c3741c781af9b20feced101"
       ],
       "layout": "IPY_MODEL_f19fe79cf6de4b14948e1dbb3d5c5b4e"
      }
     },
     "879775e195074a5ea426a3692df26759": {
      "model_module": "@jupyter-widgets/controls",
      "model_module_version": "1.5.0",
      "model_name": "ButtonStyleModel",
      "state": {
       "button_color": "#4DD0E1"
      }
     },
     "884d4211380542e29c20decaa7852d4f": {
      "model_module": "@jupyter-widgets/controls",
      "model_module_version": "1.5.0",
      "model_name": "HBoxModel",
      "state": {
       "children": [
        "IPY_MODEL_818e47c6cabb481fb03e4b1c8317cec5",
        "IPY_MODEL_c049e72cd83143128ed7825037f61a1c",
        "IPY_MODEL_fe75456085d64f46a53c7c0d2ecf1e5f"
       ],
       "layout": "IPY_MODEL_9087552d280a4c02a346a7316b52d026"
      }
     },
     "891b613deab849758d50e69fd049ef12": {
      "model_module": "@jupyter-widgets/controls",
      "model_module_version": "1.5.0",
      "model_name": "VBoxModel",
      "state": {
       "box_style": "info",
       "children": [
        "IPY_MODEL_04de14f06983405bb815ee2c3287148b",
        "IPY_MODEL_5437440ca46b42dcaf1ea0e795fd8aa3",
        "IPY_MODEL_d0faaee6f3704566a32e9288f1fb4122"
       ],
       "layout": "IPY_MODEL_692831d3f13446e9b89d75ef541b7968"
      }
     },
     "89ebe4b406c7453d82d3cc780a016890": {
      "model_module": "@jupyter-widgets/controls",
      "model_module_version": "1.5.0",
      "model_name": "HBoxModel",
      "state": {
       "children": [
        "IPY_MODEL_3f8eeb04b41f4897bef8accda3f3ef49"
       ],
       "layout": "IPY_MODEL_58b1ca0737d8458eba4946b828e3e41b"
      }
     },
     "8c0cc57413fc47b3a2ec0c24734bc2ac": {
      "model_module": "@jupyter-widgets/controls",
      "model_module_version": "1.5.0",
      "model_name": "HBoxModel",
      "state": {
       "children": [
        "IPY_MODEL_2dfa6589b63743f9bccf3f01c7396358",
        "IPY_MODEL_e84b4a64933e4ca09214ea04f2211e37",
        "IPY_MODEL_de74c983203343f3a4893571979db3c6"
       ],
       "layout": "IPY_MODEL_b3f64382bfeb40528f1229ce36004352"
      }
     },
     "8c48e6a886bd4dba873df8f53505704b": {
      "model_module": "@jupyter-widgets/controls",
      "model_module_version": "1.5.0",
      "model_name": "DescriptionStyleModel",
      "state": {
       "description_width": ""
      }
     },
     "8f4e2c1722ce4662ae32218da28576df": {
      "model_module": "@jupyter-widgets/controls",
      "model_module_version": "1.5.0",
      "model_name": "DescriptionStyleModel",
      "state": {
       "description_width": ""
      }
     },
     "9087552d280a4c02a346a7316b52d026": {
      "model_module": "@jupyter-widgets/base",
      "model_module_version": "1.2.0",
      "model_name": "LayoutModel",
      "state": {
       "align_items": "stretch",
       "display": "flex",
       "flex_flow": "row wrap",
       "width": "auto"
      }
     },
     "90ec2bae5e364d2fbfcdca897d796929": {
      "model_module": "@jupyter-widgets/base",
      "model_module_version": "1.2.0",
      "model_name": "LayoutModel",
      "state": {
       "align_items": "stretch",
       "display": "flex",
       "flex_flow": "row wrap",
       "width": "auto"
      }
     },
     "92af6f0545be44b58628a380b21df712": {
      "model_module": "@jupyter-widgets/base",
      "model_module_version": "1.2.0",
      "model_name": "LayoutModel",
      "state": {
       "align_items": "stretch",
       "display": "flex",
       "flex_flow": "row wrap",
       "width": "auto"
      }
     },
     "950afdde8d4f47f6b0a7aef04fc8bf21": {
      "model_module": "@jupyter-widgets/base",
      "model_module_version": "1.2.0",
      "model_name": "LayoutModel",
      "state": {}
     },
     "9855e67377474694833b7e2839caa519": {
      "model_module": "@jupyter-widgets/controls",
      "model_module_version": "1.5.0",
      "model_name": "LabelModel",
      "state": {
       "layout": "IPY_MODEL_672238d22bd54f72ac6666ea8fb27314",
       "style": "IPY_MODEL_74febfe1234645cbba461c267be39df0"
      }
     },
     "985b24237bc940be90053ef9036fc627": {
      "model_module": "@jupyter-widgets/controls",
      "model_module_version": "1.5.0",
      "model_name": "TextModel",
      "state": {
       "layout": "IPY_MODEL_275ff08b564c4ddb958b354d94cc2554",
       "placeholder": "",
       "style": "IPY_MODEL_1e3ee97072c54a1ba16a73b8d5a9a92b"
      }
     },
     "98d6c175ad584dfeb34f332794a3af91": {
      "model_module": "@jupyter-widgets/base",
      "model_module_version": "1.2.0",
      "model_name": "LayoutModel",
      "state": {}
     },
     "9a753d13af944fc3859bc0a5afb8d144": {
      "model_module": "@jupyter-widgets/base",
      "model_module_version": "1.2.0",
      "model_name": "LayoutModel",
      "state": {}
     },
     "9b8cdbd8bf024eb0bef9c1b99de4fc92": {
      "model_module": "@jupyter-widgets/controls",
      "model_module_version": "1.5.0",
      "model_name": "HTMLModel",
      "state": {
       "layout": "IPY_MODEL_6009628731814a2a9784caba057945cf",
       "style": "IPY_MODEL_2c705d05093a4ccdb96bc2e98052b2c4",
       "value": "<style>p{word-wrap: break-word}</style> <p>. </p>"
      }
     },
     "9d70c05db64d48028ddace6db8d1d2da": {
      "model_module": "@jupyter-widgets/controls",
      "model_module_version": "1.5.0",
      "model_name": "HBoxModel",
      "state": {
       "children": [
        "IPY_MODEL_a393e5185e8c42b0bf653b7eb20b38fe",
        "IPY_MODEL_630be2714a4045d38f9482cccb023666",
        "IPY_MODEL_364d46e5b2c34062a170eeef53caa940"
       ],
       "layout": "IPY_MODEL_5598bdad235b4fb9a5f5ab6f2bd39a00"
      }
     },
     "9f2d37fe5ad84d9eab51e485c701b0ed": {
      "model_module": "@jupyter-widgets/controls",
      "model_module_version": "1.5.0",
      "model_name": "DescriptionStyleModel",
      "state": {
       "description_width": ""
      }
     },
     "9f49f17e824047b9b51610dc9f91dbfc": {
      "model_module": "@jupyter-widgets/controls",
      "model_module_version": "1.5.0",
      "model_name": "HTMLModel",
      "state": {
       "layout": "IPY_MODEL_c19e6af0f0b94dc9a83875589572c57c",
       "style": "IPY_MODEL_261cabc110e54bc89fa9394d9b200007",
       "value": "<style>p{word-wrap: break-word}</style> <p>How many times do the lines cross?:  </p>"
      }
     },
     "a0dff8ceba0b46859b65a4fb77f463b2": {
      "model_module": "@jupyter-widgets/controls",
      "model_module_version": "1.5.0",
      "model_name": "DescriptionStyleModel",
      "state": {
       "description_width": ""
      }
     },
     "a144a983ddf244c4aa44e86bd1795e6a": {
      "model_module": "@jupyter-widgets/controls",
      "model_module_version": "1.5.0",
      "model_name": "HBoxModel",
      "state": {
       "children": [
        "IPY_MODEL_ea5e4f0134bc4be1b6bd216d7262c11c"
       ],
       "layout": "IPY_MODEL_1c30b973dd684b0aa8b1600829f73fed"
      }
     },
     "a393e5185e8c42b0bf653b7eb20b38fe": {
      "model_module": "@jupyter-widgets/controls",
      "model_module_version": "1.5.0",
      "model_name": "HBoxModel",
      "state": {
       "children": [
        "IPY_MODEL_afa28f44f16c4ff98956957506f7fb12",
        "IPY_MODEL_caae6dce680b456bb76fef23340be97d",
        "IPY_MODEL_66ba095885a84365a7341901e5c9eccf"
       ],
       "layout": "IPY_MODEL_21d2e44d9f08422ebe096583a679d39f"
      }
     },
     "a4c6e5b127fe40ecb0c96f1fa304c793": {
      "model_module": "@jupyter-widgets/base",
      "model_module_version": "1.2.0",
      "model_name": "LayoutModel",
      "state": {}
     },
     "a556b1d6fbc8424aa189befd8d36a0c7": {
      "model_module": "@jupyter-widgets/controls",
      "model_module_version": "1.5.0",
      "model_name": "HTMLModel",
      "state": {
       "layout": "IPY_MODEL_6e9f4f31cf474acc92ddf8efe560bc48",
       "style": "IPY_MODEL_046d5b53b2f74c7c88fe34fd79c4eafe",
       "value": "<style>p{word-wrap: break-word}</style> <p>How many times do the lines cross?:  </p>"
      }
     },
     "a5d2b07a05d3432ba4daa3c63bce50f1": {
      "model_module": "@jupyter-widgets/controls",
      "model_module_version": "1.5.0",
      "model_name": "ButtonStyleModel",
      "state": {
       "button_color": "#4DD0E1"
      }
     },
     "a67f9ae7b9754c9eba8426eafdd662f7": {
      "model_module": "@jupyter-widgets/controls",
      "model_module_version": "1.5.0",
      "model_name": "VBoxModel",
      "state": {
       "box_style": "info",
       "children": [
        "IPY_MODEL_04e7ecd00ebd4b4ebecd8b0469be5e6c",
        "IPY_MODEL_6f677910fbae4830a6b9f8b1d53887cc",
        "IPY_MODEL_13538c2eea564ceaad63bf3ed0cf33de"
       ],
       "layout": "IPY_MODEL_ca130700b17f4849868020523ee41e5b"
      }
     },
     "a91a4f92a64640399fd95b550b8956a7": {
      "model_module": "@jupyter-widgets/controls",
      "model_module_version": "1.5.0",
      "model_name": "DescriptionStyleModel",
      "state": {
       "description_width": ""
      }
     },
     "a926cd1309244ac2a6428f14e7becf86": {
      "model_module": "@jupyter-widgets/controls",
      "model_module_version": "1.5.0",
      "model_name": "LabelModel",
      "state": {
       "layout": "IPY_MODEL_b2dc20c88b484962bd85a8daae82b61b",
       "style": "IPY_MODEL_f37fb18c40d24fc4a1a3b9d3e5841fa3"
      }
     },
     "aa5cefd153994064a3f8f6779eb432a9": {
      "model_module": "@jupyter-widgets/controls",
      "model_module_version": "1.5.0",
      "model_name": "DescriptionStyleModel",
      "state": {
       "description_width": ""
      }
     },
     "aae8363a9d3345248fbc2c0807783300": {
      "model_module": "@jupyter-widgets/controls",
      "model_module_version": "1.5.0",
      "model_name": "HTMLModel",
      "state": {
       "layout": "IPY_MODEL_cac9c4d3458d470e898404d6be01bae3",
       "style": "IPY_MODEL_687dadf9f363486e83a5cd8c3eb2f0ba",
       "value": "<style>p{word-wrap: break-word}</style> <p>The longest increasing subsequence of [4,5,3,2,1] is:  </p>"
      }
     },
     "aca60b38a364479e8aecff795b0a3a1a": {
      "model_module": "@jupyter-widgets/controls",
      "model_module_version": "1.5.0",
      "model_name": "HTMLModel",
      "state": {
       "layout": "IPY_MODEL_7efe8fcec977405fb4c836ad69b42103",
       "style": "IPY_MODEL_a0dff8ceba0b46859b65a4fb77f463b2",
       "value": "<style>p{word-wrap: break-word}</style> <p>The longest increasing subsequence of [4,5,3,2,1] is:  </p>"
      }
     },
     "ad00945b4b65470b853a256b702291c3": {
      "model_module": "@jupyter-widgets/controls",
      "model_module_version": "1.5.0",
      "model_name": "TextModel",
      "state": {
       "layout": "IPY_MODEL_c1ed1bc2bfb342c7a31186220a3c7055",
       "placeholder": "",
       "style": "IPY_MODEL_c20d3ddd1e9f4a3b9a5b3338a4e0fe14"
      }
     },
     "af23c060172a487895528aeb9df29f2e": {
      "model_module": "@jupyter-widgets/base",
      "model_module_version": "1.2.0",
      "model_name": "LayoutModel",
      "state": {
       "align_items": "stretch",
       "display": "flex",
       "flex_flow": "row wrap",
       "width": "auto"
      }
     },
     "afa28f44f16c4ff98956957506f7fb12": {
      "model_module": "@jupyter-widgets/controls",
      "model_module_version": "1.5.0",
      "model_name": "HTMLModel",
      "state": {
       "layout": "IPY_MODEL_950afdde8d4f47f6b0a7aef04fc8bf21",
       "style": "IPY_MODEL_d5c7fbd54f7c4f2d8b091fe5e0160df5",
       "value": "<style>p{word-wrap: break-word}</style> <p>The *length* of the longest increasing subsequence of [4,3,2,1] is:  </p>"
      }
     },
     "b25bfbcb0a0a49eabcbc814a62d5f4e5": {
      "model_module": "@jupyter-widgets/controls",
      "model_module_version": "1.5.0",
      "model_name": "DescriptionStyleModel",
      "state": {
       "description_width": ""
      }
     },
     "b2dc20c88b484962bd85a8daae82b61b": {
      "model_module": "@jupyter-widgets/base",
      "model_module_version": "1.2.0",
      "model_name": "LayoutModel",
      "state": {
       "height": "50%",
       "margin": "0 0 0 30px",
       "width": "50%"
      }
     },
     "b313d93473084d3897c90d60c7f54373": {
      "model_module": "@jupyter-widgets/base",
      "model_module_version": "1.2.0",
      "model_name": "LayoutModel",
      "state": {}
     },
     "b323104dc8f441b69f03166c73b917a5": {
      "model_module": "@jupyter-widgets/base",
      "model_module_version": "1.2.0",
      "model_name": "LayoutModel",
      "state": {
       "align_items": "stretch",
       "display": "flex",
       "flex_flow": "row wrap",
       "width": "auto"
      }
     },
     "b3f64382bfeb40528f1229ce36004352": {
      "model_module": "@jupyter-widgets/base",
      "model_module_version": "1.2.0",
      "model_name": "LayoutModel",
      "state": {
       "align_items": "stretch",
       "display": "flex",
       "flex_flow": "row wrap",
       "width": "auto"
      }
     },
     "b534e137e35d46d4870e84a5bd350bca": {
      "model_module": "@jupyter-widgets/base",
      "model_module_version": "1.2.0",
      "model_name": "LayoutModel",
      "state": {}
     },
     "b5bafd2018e94adba41c78db625047b1": {
      "model_module": "@jupyter-widgets/controls",
      "model_module_version": "1.5.0",
      "model_name": "HBoxModel",
      "state": {
       "children": [
        "IPY_MODEL_1ac97c04dd7040c0b817a155f1b12035"
       ],
       "layout": "IPY_MODEL_75c86f9a2a5e4b1b81d615cd9ec372e0"
      }
     },
     "b63532cdc4974f399b9abf7de34df64a": {
      "model_module": "@jupyter-widgets/controls",
      "model_module_version": "1.5.0",
      "model_name": "ButtonStyleModel",
      "state": {
       "button_color": "#4DD0E1"
      }
     },
     "b66d7485830444bd8cc666575df1129b": {
      "model_module": "@jupyter-widgets/controls",
      "model_module_version": "1.5.0",
      "model_name": "DescriptionStyleModel",
      "state": {
       "description_width": ""
      }
     },
     "b7083e71a1bf4860b36890223118e423": {
      "model_module": "@jupyter-widgets/controls",
      "model_module_version": "1.5.0",
      "model_name": "DescriptionStyleModel",
      "state": {
       "description_width": ""
      }
     },
     "b78b66fa88a24d1d8d5150d652ef12d6": {
      "model_module": "@jupyter-widgets/controls",
      "model_module_version": "1.5.0",
      "model_name": "DescriptionStyleModel",
      "state": {
       "description_width": ""
      }
     },
     "b7e942307ccb4a1ab6eb6a2b15bb8fe6": {
      "model_module": "@jupyter-widgets/controls",
      "model_module_version": "1.5.0",
      "model_name": "HTMLModel",
      "state": {
       "layout": "IPY_MODEL_0232cf0e9d8748c49253d3c78965f6c3",
       "style": "IPY_MODEL_de83883039614684be85b800dc0c5eec",
       "value": "<style>p{word-wrap: break-word}</style> <p>On a piece of paper, write out the longest common subsequence between [4,5,3,2,1,6] and [1,2,3,4,5,6]. Underneath, write out the numbers 1, 2, 3, 4, 5, 6 (in increasing order). Draw a line between matching numbers. </p>"
      }
     },
     "b86dc23184514c5eb831a1bd2d5ae7c2": {
      "model_module": "@jupyter-widgets/base",
      "model_module_version": "1.2.0",
      "model_name": "LayoutModel",
      "state": {}
     },
     "b9092992836846a584848e679a44e201": {
      "model_module": "@jupyter-widgets/base",
      "model_module_version": "1.2.0",
      "model_name": "LayoutModel",
      "state": {
       "display": "none"
      }
     },
     "ba17b768376948e384cec6c206cc3ce8": {
      "model_module": "@jupyter-widgets/base",
      "model_module_version": "1.2.0",
      "model_name": "LayoutModel",
      "state": {
       "align_items": "stretch",
       "display": "flex",
       "flex_flow": "row wrap",
       "margin": "30px 0 0 0"
      }
     },
     "ba3973a19a754816bb1ca67363fd46cb": {
      "model_module": "@jupyter-widgets/controls",
      "model_module_version": "1.5.0",
      "model_name": "DescriptionStyleModel",
      "state": {
       "description_width": ""
      }
     },
     "bbc62dd86dcd4a69b69ff23891b42618": {
      "model_module": "@jupyter-widgets/base",
      "model_module_version": "1.2.0",
      "model_name": "LayoutModel",
      "state": {}
     },
     "bc00f3d6f9b741ccbe8aebdf81ec3f6b": {
      "model_module": "@jupyter-widgets/controls",
      "model_module_version": "1.5.0",
      "model_name": "HBoxModel",
      "state": {
       "children": [
        "IPY_MODEL_c555bca89e2344ce8a81831c3ae4f614",
        "IPY_MODEL_37f2c835890e429aaa8a268d11999089",
        "IPY_MODEL_005620a4ba59424498bd43861da0d318"
       ],
       "layout": "IPY_MODEL_c767a314ee624927a51cba3ff12d790f"
      }
     },
     "bc72747bd9804d5391ac8776fce25b19": {
      "model_module": "@jupyter-widgets/controls",
      "model_module_version": "1.5.0",
      "model_name": "DescriptionStyleModel",
      "state": {
       "description_width": ""
      }
     },
     "be48ab132c3741c781af9b20feced101": {
      "model_module": "@jupyter-widgets/controls",
      "model_module_version": "1.5.0",
      "model_name": "HTMLModel",
      "state": {
       "layout": "IPY_MODEL_7c4cee5e9f134a43933f8ee3abec32fb",
       "style": "IPY_MODEL_e739032562e74831b39424a71ecd9cad",
       "value": "<style>p{word-wrap: break-word}</style> <p>Fill in the blanks with a number or the subsequence written in square brackets like this [1,2,3]  </p>"
      }
     },
     "c049e72cd83143128ed7825037f61a1c": {
      "model_module": "@jupyter-widgets/controls",
      "model_module_version": "1.5.0",
      "model_name": "HBoxModel",
      "state": {
       "children": [
        "IPY_MODEL_669c61d238a54768b214223013716735",
        "IPY_MODEL_57ceb18b1f6c4f2fa409b37b39ec5ede",
        "IPY_MODEL_7a0a9e04dba445e39c3b9f6c5b531078"
       ],
       "layout": "IPY_MODEL_4ae79f5f02d94c299628b1f42df0190d"
      }
     },
     "c0d796fc2f054e4990bc219c8e7e34d0": {
      "model_module": "@jupyter-widgets/controls",
      "model_module_version": "1.5.0",
      "model_name": "HTMLModel",
      "state": {
       "layout": "IPY_MODEL_25f87f0623444e798b235be877bb8933",
       "style": "IPY_MODEL_000f359180b74082b1c61d654ad3b450",
       "value": "<style>p{word-wrap: break-word}</style> <p>. </p>"
      }
     },
     "c19e6af0f0b94dc9a83875589572c57c": {
      "model_module": "@jupyter-widgets/base",
      "model_module_version": "1.2.0",
      "model_name": "LayoutModel",
      "state": {}
     },
     "c1ed1bc2bfb342c7a31186220a3c7055": {
      "model_module": "@jupyter-widgets/base",
      "model_module_version": "1.2.0",
      "model_name": "LayoutModel",
      "state": {
       "width": "auto"
      }
     },
     "c20d3ddd1e9f4a3b9a5b3338a4e0fe14": {
      "model_module": "@jupyter-widgets/controls",
      "model_module_version": "1.5.0",
      "model_name": "DescriptionStyleModel",
      "state": {
       "description_width": ""
      }
     },
     "c43c926dfb2a4ab49a8e88aeb66e536d": {
      "model_module": "@jupyter-widgets/base",
      "model_module_version": "1.2.0",
      "model_name": "LayoutModel",
      "state": {}
     },
     "c548ac2ae3644ae694d5a773919652f2": {
      "model_module": "@jupyter-widgets/controls",
      "model_module_version": "1.5.0",
      "model_name": "LabelModel",
      "state": {
       "layout": "IPY_MODEL_34b178657a2e4877b355944b4b4e1609",
       "style": "IPY_MODEL_b78b66fa88a24d1d8d5150d652ef12d6"
      }
     },
     "c555bca89e2344ce8a81831c3ae4f614": {
      "model_module": "@jupyter-widgets/controls",
      "model_module_version": "1.5.0",
      "model_name": "HTMLModel",
      "state": {
       "layout": "IPY_MODEL_ea57aeb319764af1999d326350557ab6",
       "style": "IPY_MODEL_a91a4f92a64640399fd95b550b8956a7",
       "value": "<style>p{word-wrap: break-word}</style> <p>How many times do the lines cross?:  </p>"
      }
     },
     "c6aff539ca094ec9ba58262cb823e4f1": {
      "model_module": "@jupyter-widgets/controls",
      "model_module_version": "1.5.0",
      "model_name": "DescriptionStyleModel",
      "state": {
       "description_width": ""
      }
     },
     "c767a314ee624927a51cba3ff12d790f": {
      "model_module": "@jupyter-widgets/base",
      "model_module_version": "1.2.0",
      "model_name": "LayoutModel",
      "state": {
       "align_items": "stretch",
       "display": "flex",
       "flex_flow": "row wrap",
       "width": "auto"
      }
     },
     "c7bb977da2824ca2afe27937d1adb414": {
      "model_module": "@jupyter-widgets/controls",
      "model_module_version": "1.5.0",
      "model_name": "ButtonStyleModel",
      "state": {
       "button_color": "#4DD0E1"
      }
     },
     "c7e1ccc98f1548258a2f395446905f49": {
      "model_module": "@jupyter-widgets/controls",
      "model_module_version": "1.5.0",
      "model_name": "DescriptionStyleModel",
      "state": {
       "description_width": ""
      }
     },
     "c8653570c16445ff905f1a3c99e40167": {
      "model_module": "@jupyter-widgets/base",
      "model_module_version": "1.2.0",
      "model_name": "LayoutModel",
      "state": {
       "width": "auto"
      }
     },
     "c8d522cb99a849f3a402328beb4d7d6f": {
      "model_module": "@jupyter-widgets/controls",
      "model_module_version": "1.5.0",
      "model_name": "TextModel",
      "state": {
       "layout": "IPY_MODEL_11e01a8542c54f56b2f70702590f2fb9",
       "placeholder": "",
       "style": "IPY_MODEL_3342d007cd9e4f5786d6463aebfcdcdc"
      }
     },
     "c951496e067e479680ca060f3a43d681": {
      "model_module": "@jupyter-widgets/controls",
      "model_module_version": "1.5.0",
      "model_name": "VBoxModel",
      "state": {
       "box_style": "info",
       "children": [
        "IPY_MODEL_89ebe4b406c7453d82d3cc780a016890",
        "IPY_MODEL_884d4211380542e29c20decaa7852d4f",
        "IPY_MODEL_77e914c8b2c14a45b9de45b36ee6d14f"
       ],
       "layout": "IPY_MODEL_3eb1af495e06434a874294b55c072acb"
      }
     },
     "ca130700b17f4849868020523ee41e5b": {
      "model_module": "@jupyter-widgets/base",
      "model_module_version": "1.2.0",
      "model_name": "LayoutModel",
      "state": {
       "align_items": "stretch",
       "display": "flex",
       "flex_flow": "column",
       "width": "100%"
      }
     },
     "caae6dce680b456bb76fef23340be97d": {
      "model_module": "@jupyter-widgets/controls",
      "model_module_version": "1.5.0",
      "model_name": "TextModel",
      "state": {
       "layout": "IPY_MODEL_397a62eafdcd40b0b21bf7b035727a75",
       "placeholder": "",
       "style": "IPY_MODEL_c6aff539ca094ec9ba58262cb823e4f1"
      }
     },
     "cac9c4d3458d470e898404d6be01bae3": {
      "model_module": "@jupyter-widgets/base",
      "model_module_version": "1.2.0",
      "model_name": "LayoutModel",
      "state": {}
     },
     "cc4204a9f7de4a32b45032c3ba1a2942": {
      "model_module": "@jupyter-widgets/base",
      "model_module_version": "1.2.0",
      "model_name": "LayoutModel",
      "state": {
       "height": "50%",
       "margin": "0 0 0 30px",
       "width": "50%"
      }
     },
     "ccd153c8941f4d03a51c930e1f70d51e": {
      "model_module": "@jupyter-widgets/controls",
      "model_module_version": "1.5.0",
      "model_name": "DescriptionStyleModel",
      "state": {
       "description_width": ""
      }
     },
     "d0adb15482f743b1b7a7a1ccfaba1708": {
      "model_module": "@jupyter-widgets/controls",
      "model_module_version": "1.5.0",
      "model_name": "ButtonModel",
      "state": {
       "description": "Submit",
       "layout": "IPY_MODEL_c43c926dfb2a4ab49a8e88aeb66e536d",
       "style": "IPY_MODEL_c7bb977da2824ca2afe27937d1adb414"
      }
     },
     "d0faaee6f3704566a32e9288f1fb4122": {
      "model_module": "@jupyter-widgets/controls",
      "model_module_version": "1.5.0",
      "model_name": "HBoxModel",
      "state": {
       "children": [
        "IPY_MODEL_d0adb15482f743b1b7a7a1ccfaba1708",
        "IPY_MODEL_9855e67377474694833b7e2839caa519",
        "IPY_MODEL_fe49d08e4e0e4ab591bb679fcf0f0026"
       ],
       "layout": "IPY_MODEL_ea48834f65d1412b866564ae66d4caff"
      }
     },
     "d0ff9c023c2b4a798013df832ea8d66e": {
      "model_module": "@jupyter-widgets/controls",
      "model_module_version": "1.5.0",
      "model_name": "ButtonStyleModel",
      "state": {
       "button_color": "#4DD0E1"
      }
     },
     "d1a9984696024513a4c73c5b2b7b7317": {
      "model_module": "@jupyter-widgets/controls",
      "model_module_version": "1.5.0",
      "model_name": "DescriptionStyleModel",
      "state": {
       "description_width": ""
      }
     },
     "d1e87a26a1b84170b92bc22b28c9f014": {
      "model_module": "@jupyter-widgets/controls",
      "model_module_version": "1.5.0",
      "model_name": "HBoxModel",
      "state": {
       "children": [
        "IPY_MODEL_8700dc0c067548789af495df125f5e17",
        "IPY_MODEL_ad00945b4b65470b853a256b702291c3",
        "IPY_MODEL_5d2b88fa945b4e62a170a70ac374ffad"
       ],
       "layout": "IPY_MODEL_2086b2416d794ee7836e9f1489e6f827"
      }
     },
     "d35c941efd66489d94ca1d06ef6acf93": {
      "model_module": "@jupyter-widgets/controls",
      "model_module_version": "1.5.0",
      "model_name": "ButtonStyleModel",
      "state": {
       "button_color": "#4DD0E1"
      }
     },
     "d54de5c29b3a41b6a6d43938cf54d145": {
      "model_module": "@jupyter-widgets/controls",
      "model_module_version": "1.5.0",
      "model_name": "ButtonModel",
      "state": {
       "description": "Submit",
       "layout": "IPY_MODEL_28f7546d4b5341b49f24c23ee64cdf47",
       "style": "IPY_MODEL_042846a0310b44dc86b3861de324c66a"
      }
     },
     "d5632618faf7480fa8522dad943f7241": {
      "model_module": "@jupyter-widgets/base",
      "model_module_version": "1.2.0",
      "model_name": "LayoutModel",
      "state": {}
     },
     "d5c7fbd54f7c4f2d8b091fe5e0160df5": {
      "model_module": "@jupyter-widgets/controls",
      "model_module_version": "1.5.0",
      "model_name": "DescriptionStyleModel",
      "state": {
       "description_width": ""
      }
     },
     "d7f08305aedf4a4f95179aa243144caa": {
      "model_module": "@jupyter-widgets/base",
      "model_module_version": "1.2.0",
      "model_name": "LayoutModel",
      "state": {
       "width": "auto"
      }
     },
     "d805cc0ff2d644a3b81e25c8320277f9": {
      "model_module": "@jupyter-widgets/base",
      "model_module_version": "1.2.0",
      "model_name": "LayoutModel",
      "state": {
       "width": "auto"
      }
     },
     "de74c983203343f3a4893571979db3c6": {
      "model_module": "@jupyter-widgets/controls",
      "model_module_version": "1.5.0",
      "model_name": "HTMLModel",
      "state": {
       "layout": "IPY_MODEL_f5ac2917862d46f48897c25057016c0e",
       "style": "IPY_MODEL_d1a9984696024513a4c73c5b2b7b7317",
       "value": "<style>p{word-wrap: break-word}</style> <p>. </p>"
      }
     },
     "de83883039614684be85b800dc0c5eec": {
      "model_module": "@jupyter-widgets/controls",
      "model_module_version": "1.5.0",
      "model_name": "DescriptionStyleModel",
      "state": {
       "description_width": ""
      }
     },
     "de992116f8954dc391867f0c9f420eb0": {
      "model_module": "@jupyter-widgets/base",
      "model_module_version": "1.2.0",
      "model_name": "LayoutModel",
      "state": {}
     },
     "e27af4ebc6dd42fdaaad07669a215197": {
      "model_module": "@jupyter-widgets/base",
      "model_module_version": "1.2.0",
      "model_name": "LayoutModel",
      "state": {}
     },
     "e2e436ce162d4924aa1a037d4b988068": {
      "model_module": "@jupyter-widgets/controls",
      "model_module_version": "1.5.0",
      "model_name": "DescriptionStyleModel",
      "state": {
       "description_width": ""
      }
     },
     "e739032562e74831b39424a71ecd9cad": {
      "model_module": "@jupyter-widgets/controls",
      "model_module_version": "1.5.0",
      "model_name": "DescriptionStyleModel",
      "state": {
       "description_width": ""
      }
     },
     "e7644c2d9c9c4ac6bf1a5517c7764204": {
      "model_module": "@jupyter-widgets/base",
      "model_module_version": "1.2.0",
      "model_name": "LayoutModel",
      "state": {
       "display": "none"
      }
     },
     "e84b4a64933e4ca09214ea04f2211e37": {
      "model_module": "@jupyter-widgets/controls",
      "model_module_version": "1.5.0",
      "model_name": "TextModel",
      "state": {
       "layout": "IPY_MODEL_f9becd8479cf4ec8bcefe102a05d77f9",
       "placeholder": "",
       "style": "IPY_MODEL_218b1613afe4478bbe15f0a9493e36ff"
      }
     },
     "e9e97896794e4213ae0cef32ca579230": {
      "model_module": "@jupyter-widgets/base",
      "model_module_version": "1.2.0",
      "model_name": "LayoutModel",
      "state": {
       "align_items": "stretch",
       "display": "flex",
       "flex_flow": "row wrap",
       "margin": "30px 0 0 0"
      }
     },
     "ea48834f65d1412b866564ae66d4caff": {
      "model_module": "@jupyter-widgets/base",
      "model_module_version": "1.2.0",
      "model_name": "LayoutModel",
      "state": {
       "align_items": "stretch",
       "display": "flex",
       "flex_flow": "row wrap",
       "margin": "30px 0 0 0"
      }
     },
     "ea57aeb319764af1999d326350557ab6": {
      "model_module": "@jupyter-widgets/base",
      "model_module_version": "1.2.0",
      "model_name": "LayoutModel",
      "state": {}
     },
     "ea5e4f0134bc4be1b6bd216d7262c11c": {
      "model_module": "@jupyter-widgets/controls",
      "model_module_version": "1.5.0",
      "model_name": "HTMLModel",
      "state": {
       "layout": "IPY_MODEL_ec7ff771ff1243d7b91375e6f9204ea8",
       "style": "IPY_MODEL_ba3973a19a754816bb1ca67363fd46cb",
       "value": "<style>p{word-wrap: break-word}</style> <p>On a piece of paper, write out the longest common subsequence between [4,5,3,2,1,6] and [1,2,3,4,5,6]. Underneath, write out the numbers 1, 2, 3, 4, 5, 6 (in increasing order). Draw a line between matching numbers. </p>"
      }
     },
     "ec7ff771ff1243d7b91375e6f9204ea8": {
      "model_module": "@jupyter-widgets/base",
      "model_module_version": "1.2.0",
      "model_name": "LayoutModel",
      "state": {}
     },
     "ed7b186d73e5443fb95edbf0f552683d": {
      "model_module": "@jupyter-widgets/controls",
      "model_module_version": "1.5.0",
      "model_name": "DescriptionStyleModel",
      "state": {
       "description_width": ""
      }
     },
     "f19fe79cf6de4b14948e1dbb3d5c5b4e": {
      "model_module": "@jupyter-widgets/base",
      "model_module_version": "1.2.0",
      "model_name": "LayoutModel",
      "state": {
       "display": "flex",
       "flex_flow": "row",
       "justify_content": "space-between",
       "margin": "0 0 20px 0"
      }
     },
     "f37fb18c40d24fc4a1a3b9d3e5841fa3": {
      "model_module": "@jupyter-widgets/controls",
      "model_module_version": "1.5.0",
      "model_name": "DescriptionStyleModel",
      "state": {
       "description_width": ""
      }
     },
     "f5ac2917862d46f48897c25057016c0e": {
      "model_module": "@jupyter-widgets/base",
      "model_module_version": "1.2.0",
      "model_name": "LayoutModel",
      "state": {}
     },
     "f5cc32b0dbfb4029af64de154eb0c190": {
      "model_module": "@jupyter-widgets/controls",
      "model_module_version": "1.5.0",
      "model_name": "ButtonStyleModel",
      "state": {
       "button_color": "#4DD0E1"
      }
     },
     "f5ef5b3ceddc463e8694653d56bc6080": {
      "model_module": "@jupyter-widgets/base",
      "model_module_version": "1.2.0",
      "model_name": "LayoutModel",
      "state": {
       "width": "auto"
      }
     },
     "f73598b6734f49d2afc6d552253669d3": {
      "model_module": "@jupyter-widgets/base",
      "model_module_version": "1.2.0",
      "model_name": "LayoutModel",
      "state": {
       "display": "none"
      }
     },
     "f77583c4f7364d428e9bdec7f49dbae1": {
      "model_module": "@jupyter-widgets/controls",
      "model_module_version": "1.5.0",
      "model_name": "VBoxModel",
      "state": {
       "box_style": "info",
       "children": [
        "IPY_MODEL_b5bafd2018e94adba41c78db625047b1",
        "IPY_MODEL_5a31f588aa9f44b8839d37a89d210565",
        "IPY_MODEL_08e8a2831bdb4c0ea12f3eaa63105d92"
       ],
       "layout": "IPY_MODEL_0340da9837824575b605a8ada08f37b9"
      }
     },
     "f9becd8479cf4ec8bcefe102a05d77f9": {
      "model_module": "@jupyter-widgets/base",
      "model_module_version": "1.2.0",
      "model_name": "LayoutModel",
      "state": {
       "width": "auto"
      }
     },
     "fe49d08e4e0e4ab591bb679fcf0f0026": {
      "model_module": "@jupyter-widgets/controls",
      "model_module_version": "1.5.0",
      "model_name": "ButtonModel",
      "state": {
       "description": "Show answer",
       "disabled": true,
       "layout": "IPY_MODEL_44ae983aaa54472c97b3a34a7bf161fd",
       "style": "IPY_MODEL_28a58c3f8ad841308676c25340cd66b0"
      }
     },
     "fe54968303664908a56402c49545e1b8": {
      "model_module": "@jupyter-widgets/controls",
      "model_module_version": "1.5.0",
      "model_name": "TextModel",
      "state": {
       "layout": "IPY_MODEL_d7f08305aedf4a4f95179aa243144caa",
       "placeholder": "",
       "style": "IPY_MODEL_867a33f6231145acbf2cc9aa20eb8ee7"
      }
     },
     "fe75456085d64f46a53c7c0d2ecf1e5f": {
      "model_module": "@jupyter-widgets/controls",
      "model_module_version": "1.5.0",
      "model_name": "HBoxModel",
      "state": {
       "children": [
        "IPY_MODEL_113ee127ed1f4fbfac78b1918e1ff9f7",
        "IPY_MODEL_c8d522cb99a849f3a402328beb4d7d6f",
        "IPY_MODEL_1a1be209a45c4651978cd112e817e798"
       ],
       "layout": "IPY_MODEL_4eb12a460ca2480987d137b0ba32166a"
      }
     }
    },
    "version_major": 2,
    "version_minor": 0
   }
  }
 },
 "nbformat": 4,
 "nbformat_minor": 4
}
