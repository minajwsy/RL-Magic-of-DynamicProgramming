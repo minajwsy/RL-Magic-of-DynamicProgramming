{
 "cells": [
  {
   "cell_type": "markdown",
   "metadata": {},
   "source": [
    "<font size=\"+4\">Lesson 6: Flower Picking</font>\n",
    "    \n",
    "If dynamic programming is one of the \"sledgehammers of the algorithm craft\" (Dasgupta et al., 2008), then the technique you will learn in this lesson is your swing. Finding the right subproblems, breaking the original problem up correctly is the most difficult part of dynamic programming. In this lesson you will learn that sometimes you need to _strengthen the induction hypothesis_ of the given problem in order to find the correct subproblems.\n",
    "    \n",
    "To demonstrate this, we will work on the longest increasing subsequence problem, which I have dubbed flower picking because the goal is to pick flowers in increasing order of size without changing the order they are growing in.\n",
    "\n",
    "In this lessson you'll learn:\n",
    "1. When to strengthen the induction hypothesis\n",
    "2. How to strengthen the induction hypothesis through careful rewording of the original problem\n",
    "     \n",
    "The following video introduces the topic.  "
   ]
  },
  {
   "cell_type": "code",
   "execution_count": 1,
   "metadata": {
    "collapsed": false,
    "jupyter": {
     "outputs_hidden": false
    },
    "pycharm": {
     "name": "#%%\n"
    }
   },
   "outputs": [
    {
     "data": {
      "text/html": [
       "\n",
       "        <iframe\n",
       "            width=\"400\"\n",
       "            height=\"300\"\n",
       "            src=\"https://www.youtube.com/embed/ZA_OT2PhaXg\"\n",
       "            frameborder=\"0\"\n",
       "            allowfullscreen\n",
       "        ></iframe>\n",
       "        "
      ],
      "text/plain": [
       "<IPython.lib.display.YouTubeVideo at 0x26f8d61d908>"
      ]
     },
     "execution_count": 1,
     "metadata": {},
     "output_type": "execute_result"
    }
   ],
   "source": [
    "from IPython.display import YouTubeVideo\n",
    "YouTubeVideo('ZA_OT2PhaXg')"
   ]
  },
  {
   "cell_type": "markdown",
   "metadata": {},
   "source": [
    "\n",
    "\n",
    "\n",
    "\n",
    "\n"
   ]
  },
  {
   "cell_type": "markdown",
   "metadata": {},
   "source": [
    "# Longest Increasing Subsequence in Four Steps\n",
    "<figure>\n",
    "    <img src=\"../images/flower_picking.png\">\n",
    "    <figcaption>Figure 1: You're given a sequence of numbers. What is the length of its longest increasing subsequence?\n",
    "    </figcaption>\n",
    "</figure>\n",
    "<p>\n",
    "    \n",
    "To understand how the [longest increasing subsequence](https://en.wikipedia.org/wiki/Longest_increasing_subsequence) problem differs from similarly sounding problems, imagine you are given this line of flowers. Your challenge is to pick the longest line of flowers out of the original line that are strictly increasing in size. For example [3,4,5,9] is one longest increasing subsequence of [3, 1, 4, 1, 5, 9, 2, 6]\n",
    "    "
   ]
  },
  {
   "cell_type": "code",
   "execution_count": 2,
   "metadata": {
    "jupyter": {
     "source_hidden": true
    },
    "pycharm": {
     "name": "#%%\n"
    }
   },
   "outputs": [
    {
     "data": {
      "application/vnd.jupyter.widget-view+json": {
       "model_id": "5ab6e78fde4d485293979451cfd2ce4e",
       "version_major": 2,
       "version_minor": 0
      },
      "text/plain": [
       "VBox(box_style='info', children=(HBox(children=(HTML(value='<style>p{word-wrap: break-word}</style> <p>Fill in…"
      ]
     },
     "metadata": {},
     "output_type": "display_data"
    }
   ],
   "source": [
    "%run quizzes/quiz.py quizzes/06/lis_example.json"
   ]
  },
  {
   "cell_type": "markdown",
   "metadata": {
    "pycharm": {
     "name": "#%% md\n"
    }
   },
   "source": [
    "There actually is a connection between longest commmon subsequence and longest increasing subsequence. It's called the river problem, and you can see a variation [here](https://www.geeksforgeeks.org/variations-of-lis-dp-21/). Do the following little exercise first."
   ]
  },
  {
   "cell_type": "code",
   "execution_count": 3,
   "metadata": {
    "jupyter": {
     "source_hidden": true
    },
    "pycharm": {
     "name": "#%%\n"
    }
   },
   "outputs": [
    {
     "data": {
      "application/vnd.jupyter.widget-view+json": {
       "model_id": "acf94c62a72d42b989b607db786e3561",
       "version_major": 2,
       "version_minor": 0
      },
      "text/plain": [
       "VBox(box_style='info', children=(HBox(children=(HTML(value='<style>p{word-wrap: break-word}</style> <p>On a pi…"
      ]
     },
     "metadata": {},
     "output_type": "display_data"
    }
   ],
   "source": [
    "%run quizzes/quiz.py quizzes/06/lis_and_lcs.json"
   ]
  },
  {
   "cell_type": "markdown",
   "metadata": {
    "pycharm": {
     "name": "#%% md\n"
    }
   },
   "source": [
    "# Solutions"
   ]
  },
  {
   "cell_type": "markdown",
   "metadata": {},
   "source": [
    "<div class=\"exercise exercise-warning\"><details><summary>Longest increasing subsequence - naive - recursive</summary> \n",
    "    \n",
    "```python \n",
    "    \n",
    "    #%load solutions/06/lis_naive.py\n",
    "    # solution based on this code: https://www.geeksforgeeks.org/longest-increasing-subsequence-dp-3/  by NIKHIL KUMAR SINGH \n",
    "\n",
    "    # maximum over all n\n",
    "    global maximum \n",
    "\n",
    "    def max_ending_here(v): \n",
    "\n",
    "        global maximum \n",
    "\n",
    "        n = len(v)\n",
    "\n",
    "        # base cases\n",
    "        if n == 0:\n",
    "            return 0\n",
    "        if n == 1: \n",
    "            return 1\n",
    "\n",
    "        # max_length_ending_here is the length of the longest increasing subsequence ending with v[n-1] \n",
    "        max_length_ending_here = 1\n",
    "\n",
    "        for i in range(1, n): \n",
    "            # recursively get all LIS ending with v[0], ..., v[i - 2]\n",
    "            res = max_ending_here(v[0: i]) \n",
    "\n",
    "            # if an element before v[n-1] is smaller than v[n-1] and its LIS is greater, then its LIS becomes the new local maximum\n",
    "            if v[i - 1] < v[n-1] and res + 1 > max_length_ending_here: \n",
    "                max_length_ending_here = res + 1\n",
    "\n",
    "        # update overall maximum \n",
    "        maximum = max(maximum , max_length_ending_here) \n",
    "\n",
    "        return max_length_ending_here \n",
    "\n",
    "    def lis(v): \n",
    "\n",
    "        global maximum \n",
    "\n",
    "        # will be updated by the recursive function 'max_ending_here' \n",
    "        maximum = 0\n",
    "\n",
    "        m = max_ending_here(v)\n",
    "        print ('maximum ending here: ', m, 'global maximum: ', maximum)\n",
    "\n",
    "        return maximum\n",
    "    \n",
    "\n",
    "    #unit tests\n",
    "    assert(lis([3, 1, 4, 1, 5, 1, 9, 2, 6]) == 4)\n",
    "    assert(lis([3, 1, 4, 1, 5, 1, 9, 2, 6, 5]) == 4)\n",
    "    assert(lis([1, 2, 3]) == 3)\n",
    "    assert(lis([3, 2, 1, 0]) == 1)\n",
    "    assert(lis([]) == 0)\n",
    "\n",
    "```\n",
    "    \n",
    "</details>"
   ]
  },
  {
   "cell_type": "code",
   "execution_count": null,
   "metadata": {
    "collapsed": false,
    "jupyter": {
     "outputs_hidden": false
    },
    "pycharm": {
     "name": "#%%\n"
    }
   },
   "outputs": [],
   "source": [
    "# References\n",
    "\n",
    "1. Dasgupta, S., Papadimitriou, C. H., & Vazirani, U. V. (2008). Algorithms. McGraw-Hill Higher Education New York.\n",
    "\n",
    "2. Forišek, M. (2015). Towards a better way to teach dynamic programming. Olympiads in Informatics, 9, 45–55."
   ]
  },
  {
   "cell_type": "markdown",
   "metadata": {
    "jupyter": {
     "outputs_hidden": false
    },
    "pycharm": {
     "name": "#%%\n"
    }
   },
   "source": [
    "#workaround for known ipywidget issue not rendering alert style colours on Jupyter lab\n",
    "from IPython.core.display import HTML\n",
    "HTML(open(\"../styles/custom.css\", \"r\").read())"
   ]
  },
  {
   "cell_type": "code",
   "execution_count": 4,
   "metadata": {
    "jupyter": {
     "source_hidden": true
    },
    "pycharm": {
     "name": "#%%\n"
    }
   },
   "outputs": [
    {
     "data": {
      "text/html": [
       "<style>\n",
       "    .alert {\n",
       "      padding: 15px;\n",
       "      margin-bottom: 20px;\n",
       "      border: 1px solid transparent;\n",
       "      border-radius: 4px;\n",
       "    }\n",
       "\n",
       "    .alert h4 {\n",
       "      margin-top: 0;\n",
       "      color: inherit;\n",
       "    }\n",
       "\n",
       "    .alert .alert-link {\n",
       "      font-weight: bold;\n",
       "    }\n",
       "\n",
       "    .alert > p,\n",
       "    .alert > ul {\n",
       "      margin-bottom: 0;\n",
       "    }\n",
       "\n",
       "    .alert > p + p {\n",
       "      margin-top: 5px;\n",
       "    }\n",
       "\n",
       "    .alert-dismissable,\n",
       "    .alert-dismissible {\n",
       "      padding-right: 35px;\n",
       "    }\n",
       "\n",
       "    .alert-dismissable .close,\n",
       "    .alert-dismissible .close {\n",
       "      position: relative;\n",
       "      top: -2px;\n",
       "      right: -21px;\n",
       "      color: inherit;\n",
       "    }\n",
       "\n",
       "    .alert-success {\n",
       "      background-color: #C8E6C9;\n",
       "      border-color: #81C784;\n",
       "      color: #388E3C;\n",
       "    }\n",
       "\n",
       "    .alert-success hr {\n",
       "      border-top-color: #AED581;\n",
       "    }\n",
       "\n",
       "    .alert-success .alert-link {\n",
       "      color: #2E7D32;\n",
       "    }\n",
       "\n",
       "    .alert-info {\n",
       "      background-color: #B2EBF2;\n",
       "      border-color: #4DD0E1;\n",
       "      color: #0097A7;\n",
       "    }\n",
       "\n",
       "    .alert-info hr {\n",
       "      border-top-color: #00838F;\n",
       "    }\n",
       "\n",
       "    .alert-info .alert-link {\n",
       "      color: #245269;\n",
       "    }\n",
       "\n",
       "    .alert-warning {\n",
       "      background-color: #FFE0B2;\n",
       "      border-color: #FFB74D;\n",
       "      color: #F57C00;\n",
       "    }\n",
       "\n",
       "    .alert-warning hr {\n",
       "      border-top-color: #FFB74D;\n",
       "    }\n",
       "\n",
       "    .alert-warning .alert-link {\n",
       "      color: #EF6C00;\n",
       "    }\n",
       "\n",
       "    .alert-danger {\n",
       "      background-color: #ffcdd2;\n",
       "      border-color: #e57373;\n",
       "      color: #d32f2f;\n",
       "    }\n",
       "\n",
       "    .alert-danger hr {\n",
       "      border-top-color: #d32f2f;\n",
       "    }\n",
       "\n",
       "    .alert-danger .alert-link {\n",
       "      color: #c62828;\n",
       "    }\n",
       "    \n",
       "\n",
       "    .exercise {\n",
       "      padding: 15px;\n",
       "      margin-bottom: 20px;\n",
       "      border: 1px solid transparent;\n",
       "      border-radius: 4px;\n",
       "    }\n",
       "\n",
       "    .exercise h4 {\n",
       "      margin-top: 0;\n",
       "      color: inherit;\n",
       "    }\n",
       "\n",
       "    .exercise .alert-link {\n",
       "      font-weight: bold;\n",
       "    }\n",
       "\n",
       "    .exercise > p,\n",
       "    .exercise > ul {\n",
       "      margin-bottom: 0;\n",
       "    }\n",
       "\n",
       "    .exercise > p + p {\n",
       "      margin-top: 5px;\n",
       "    }\n",
       "\n",
       "    .exercise-info {\n",
       "      background-color: #B2EBF2;\n",
       "      border-color: #4DD0E1;\n",
       "      color: #000000;\n",
       "    }\n",
       "\n",
       "    .exercise-info hr {\n",
       "      border-top-color: #00838F;\n",
       "    }\n",
       "\n",
       "    .exercise-info .alert-link {\n",
       "      color: #245269;\n",
       "    }\n",
       "\n",
       "   .exercise-warning {\n",
       "      background-color: #FFE0B2;\n",
       "      border-color: #FFB74D;\n",
       "      color: #000000;\n",
       "    }\n",
       "\n",
       "    .exercise-warning hr {\n",
       "      border-top-color: #FFB74D;\n",
       "    }\n",
       "\n",
       "    .excercise-warning .alert-link {\n",
       "      color: #EF6C00;\n",
       "    }\n",
       "\n",
       "\n",
       "</style>\n"
      ],
      "text/plain": [
       "<IPython.core.display.HTML object>"
      ]
     },
     "execution_count": 4,
     "metadata": {},
     "output_type": "execute_result"
    }
   ],
   "source": [
    "#workaround for known ipywidget issue not rendering alert style colours on Jupyter lab\n",
    "from IPython.core.display import HTML\n",
    "HTML(open(\"../styles/custom.css\", \"r\").read())"
   ]
  }
 ],
 "metadata": {
  "kernelspec": {
   "display_name": "Python 3",
   "language": "python",
   "name": "python3"
  },
  "language_info": {
   "codemirror_mode": {
    "name": "ipython",
    "version": 3
   },
   "file_extension": ".py",
   "mimetype": "text/x-python",
   "name": "python",
   "nbconvert_exporter": "python",
   "pygments_lexer": "ipython3",
   "version": "3.7.6"
  },
  "latex_envs": {
   "LaTeX_envs_menu_present": true,
   "autoclose": true,
   "autocomplete": true,
   "bibliofile": "biblio.bib",
   "cite_by": "apalike",
   "current_citInitial": 1,
   "eqLabelWithNumbers": true,
   "eqNumInitial": 1,
   "hotkeys": {
    "equation": "Ctrl-E",
    "itemize": "Ctrl-I"
   },
   "labels_anchors": false,
   "latex_user_defs": false,
   "report_style_numbering": false,
   "user_envs_cfg": false
  },
  "toc": {
   "base_numbering": 1,
   "nav_menu": {},
   "number_sections": false,
   "sideBar": true,
   "skip_h1_title": false,
   "title_cell": "Table of Contents",
   "title_sidebar": "Contents",
   "toc_cell": false,
   "toc_position": {},
   "toc_section_display": true,
   "toc_window_display": true
  },
  "toc-autonumbering": true,
  "toc-showtags": false,
  "widgets": {
   "application/vnd.jupyter.widget-state+json": {
    "state": {},
    "version_major": 2,
    "version_minor": 0
   }
  }
 },
 "nbformat": 4,
 "nbformat_minor": 4
}
