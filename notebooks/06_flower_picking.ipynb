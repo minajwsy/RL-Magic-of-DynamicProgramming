{
 "cells": [
  {
   "cell_type": "markdown",
   "metadata": {},
   "source": [
    "<font size=\"+4\">Lesson 6: Flower Picking</font>\n",
    "    \n",
    "If dynamic programming is one of the \"sledgehammers of the algorithm craft\" (Dasgupta et al., 2008), then the technique you will learn in this lesson is your swing. Finding the right subproblems, breaking the original problem up correctly is the most difficult part of dynamic programming. In this lesson you will learn that sometimes you need to _strengthen the induction hypothesis_ of the given problem in order to find the correct subproblems.\n",
    "    \n",
    "To demonstrate this, we will work on the longest increasing subsequence problem, which I have dubbed flower picking because the goal is to pick flowers in increasing order of size without changing the order they are growing in.\n",
    "\n",
    "In this lessson you'll learn:\n",
    "1. When to strengthen the induction hypothesis\n",
    "2. How to strengthen the induction hypothesis through careful rewording of the original problem\n",
    "     \n",
    "The following video introduces the topic.  "
   ]
  },
  {
   "cell_type": "code",
   "execution_count": 17,
   "metadata": {
    "collapsed": false,
    "jupyter": {
     "outputs_hidden": false
    },
    "pycharm": {
     "name": "#%%\n"
    }
   },
   "outputs": [
    {
     "data": {
      "text/html": [
       "\n",
       "        <iframe\n",
       "            width=\"400\"\n",
       "            height=\"300\"\n",
       "            src=\"https://www.youtube.com/embed/\"\n",
       "            frameborder=\"0\"\n",
       "            allowfullscreen\n",
       "        ></iframe>\n",
       "        "
      ],
      "text/plain": [
       "<IPython.lib.display.YouTubeVideo at 0x287e54d52c8>"
      ]
     },
     "execution_count": 17,
     "metadata": {},
     "output_type": "execute_result"
    }
   ],
   "source": [
    "from IPython.display import YouTubeVideo\n",
    "YouTubeVideo('')"
   ]
  },
  {
   "cell_type": "markdown",
   "metadata": {},
   "source": [
    "\n",
    "\n",
    "\n",
    "\n",
    "\n"
   ]
  },
  {
   "cell_type": "markdown",
   "metadata": {},
   "source": [
    "# Longest Increasing Subsequence in Four Steps\n",
    "<figure>\n",
    "    <img src=\"../images/flower_picking.png\">\n",
    "    <figcaption>Figure 1: You're given a sequence of numbers. What is the length of its longest increasing subsequence?\n",
    "    </figcaption>\n",
    "</figure>\n",
    "<p>\n",
    "    \n",
    "To understand how the [longest increasing subsequence](https://en.wikipedia.org/wiki/Longest_increasing_subsequence) problem differs from similarly sounding problems, imagine you are given this line of flowers. Your challenge is to pick the longest line of flowers out of the original line that are strictly increasing in size. For example [3,4,5,9] is one longest increasing subsequence of [3, 1, 4, 1, 5, 9, 2, 6]\n",
    "    "
   ]
  },
  {
   "cell_type": "code",
   "execution_count": 18,
   "metadata": {
    "jupyter": {
     "source_hidden": true
    },
    "pycharm": {
     "name": "#%%\n"
    }
   },
   "outputs": [
    {
     "data": {
      "application/vnd.jupyter.widget-view+json": {
       "model_id": "74d5c0970f8d4a00959dd3e947b745e3",
       "version_major": 2,
       "version_minor": 0
      },
      "text/plain": [
       "VBox(box_style='info', children=(HBox(children=(HTML(value='<style>p{word-wrap: break-word}</style> <p>Fill in…"
      ]
     },
     "metadata": {},
     "output_type": "display_data"
    }
   ],
   "source": [
    "%run quizzes/quiz.py quizzes/06/lis_example.json"
   ]
  },
  {
   "cell_type": "markdown",
   "metadata": {},
   "source": [
    "There actually is a connection between longest commmon subsequence and longest increasing subsequence. It's called the river problem, and you can see a variation [here](https://www.geeksforgeeks.org/variations-of-lis-dp-21/). Do the following little exercise first."
   ]
  },
  {
   "cell_type": "code",
   "execution_count": 19,
   "metadata": {
    "jupyter": {
     "source_hidden": true
    },
    "pycharm": {
     "name": "#%%\n"
    }
   },
   "outputs": [
    {
     "data": {
      "application/vnd.jupyter.widget-view+json": {
       "model_id": "ce1bece1ac4c491c80c95e524f5fb27f",
       "version_major": 2,
       "version_minor": 0
      },
      "text/plain": [
       "VBox(box_style='info', children=(HBox(children=(HTML(value='<style>p{word-wrap: break-word}</style> <p>On a pi…"
      ]
     },
     "metadata": {},
     "output_type": "display_data"
    }
   ],
   "source": [
    "%run quizzes/quiz.py quizzes/06/lis_and_lcs.json"
   ]
  },
  {
   "cell_type": "markdown",
   "metadata": {},
   "source": [
    "# References\n",
    "\n",
    "1. Dasgupta, S., Papadimitriou, C. H., & Vazirani, U. V. (2008). Algorithms. McGraw-Hill Higher Education New York.\n",
    "\n",
    "2. Forišek, M. (2015). Towards a better way to teach dynamic programming. Olympiads in Informatics, 9, 45–55."
   ]
  },
  {
   "cell_type": "code",
   "execution_count": 20,
   "metadata": {
    "jupyter": {
     "source_hidden": true
    },
    "pycharm": {
     "name": "#%%\n"
    }
   },
   "outputs": [
    {
     "data": {
      "text/html": [
       "<style>\n",
       "    .alert {\n",
       "      padding: 15px;\n",
       "      margin-bottom: 20px;\n",
       "      border: 1px solid transparent;\n",
       "      border-radius: 4px;\n",
       "    }\n",
       "\n",
       "    .alert h4 {\n",
       "      margin-top: 0;\n",
       "      color: inherit;\n",
       "    }\n",
       "\n",
       "    .alert .alert-link {\n",
       "      font-weight: bold;\n",
       "    }\n",
       "\n",
       "    .alert > p,\n",
       "    .alert > ul {\n",
       "      margin-bottom: 0;\n",
       "    }\n",
       "\n",
       "    .alert > p + p {\n",
       "      margin-top: 5px;\n",
       "    }\n",
       "\n",
       "    .alert-dismissable,\n",
       "    .alert-dismissible {\n",
       "      padding-right: 35px;\n",
       "    }\n",
       "\n",
       "    .alert-dismissable .close,\n",
       "    .alert-dismissible .close {\n",
       "      position: relative;\n",
       "      top: -2px;\n",
       "      right: -21px;\n",
       "      color: inherit;\n",
       "    }\n",
       "\n",
       "    .alert-success {\n",
       "      background-color: #C8E6C9;\n",
       "      border-color: #81C784;\n",
       "      color: #388E3C;\n",
       "    }\n",
       "\n",
       "    .alert-success hr {\n",
       "      border-top-color: #AED581;\n",
       "    }\n",
       "\n",
       "    .alert-success .alert-link {\n",
       "      color: #2E7D32;\n",
       "    }\n",
       "\n",
       "    .alert-info {\n",
       "      background-color: #B2EBF2;\n",
       "      border-color: #4DD0E1;\n",
       "      color: #0097A7;\n",
       "    }\n",
       "\n",
       "    .alert-info hr {\n",
       "      border-top-color: #00838F;\n",
       "    }\n",
       "\n",
       "    .alert-info .alert-link {\n",
       "      color: #245269;\n",
       "    }\n",
       "\n",
       "    .alert-warning {\n",
       "      background-color: #FFE0B2;\n",
       "      border-color: #FFB74D;\n",
       "      color: #F57C00;\n",
       "    }\n",
       "\n",
       "    .alert-warning hr {\n",
       "      border-top-color: #FFB74D;\n",
       "    }\n",
       "\n",
       "    .alert-warning .alert-link {\n",
       "      color: #EF6C00;\n",
       "    }\n",
       "\n",
       "    .alert-danger {\n",
       "      background-color: #ffcdd2;\n",
       "      border-color: #e57373;\n",
       "      color: #d32f2f;\n",
       "    }\n",
       "\n",
       "    .alert-danger hr {\n",
       "      border-top-color: #d32f2f;\n",
       "    }\n",
       "\n",
       "    .alert-danger .alert-link {\n",
       "      color: #c62828;\n",
       "    }\n",
       "    \n",
       "\n",
       "    .exercise {\n",
       "      padding: 15px;\n",
       "      margin-bottom: 20px;\n",
       "      border: 1px solid transparent;\n",
       "      border-radius: 4px;\n",
       "    }\n",
       "\n",
       "    .exercise h4 {\n",
       "      margin-top: 0;\n",
       "      color: inherit;\n",
       "    }\n",
       "\n",
       "    .exercise .alert-link {\n",
       "      font-weight: bold;\n",
       "    }\n",
       "\n",
       "    .exercise > p,\n",
       "    .exercise > ul {\n",
       "      margin-bottom: 0;\n",
       "    }\n",
       "\n",
       "    .exercise > p + p {\n",
       "      margin-top: 5px;\n",
       "    }\n",
       "\n",
       "    .exercise-info {\n",
       "      background-color: #B2EBF2;\n",
       "      border-color: #4DD0E1;\n",
       "      color: #000000;\n",
       "    }\n",
       "\n",
       "    .exercise-info hr {\n",
       "      border-top-color: #00838F;\n",
       "    }\n",
       "\n",
       "    .exercise-info .alert-link {\n",
       "      color: #245269;\n",
       "    }\n",
       "\n",
       "   .exercise-warning {\n",
       "      background-color: #FFE0B2;\n",
       "      border-color: #FFB74D;\n",
       "      color: #000000;\n",
       "    }\n",
       "\n",
       "    .exercise-warning hr {\n",
       "      border-top-color: #FFB74D;\n",
       "    }\n",
       "\n",
       "    .excercise-warning .alert-link {\n",
       "      color: #EF6C00;\n",
       "    }\n",
       "\n",
       "\n",
       "</style>\n"
      ],
      "text/plain": [
       "<IPython.core.display.HTML object>"
      ]
     },
     "execution_count": 20,
     "metadata": {},
     "output_type": "execute_result"
    }
   ],
   "source": [
    "#workaround for known ipywidget issue not rendering alert style colours on Jupyter lab\n",
    "from IPython.core.display import HTML\n",
    "HTML(open(\"../styles/custom.css\", \"r\").read())"
   ]
  }
 ],
 "metadata": {
  "kernelspec": {
   "display_name": "Python 3",
   "language": "python",
   "name": "python3"
  },
  "language_info": {
   "codemirror_mode": {
    "name": "ipython",
    "version": 3
   },
   "file_extension": ".py",
   "mimetype": "text/x-python",
   "name": "python",
   "nbconvert_exporter": "python",
   "pygments_lexer": "ipython3",
   "version": "3.7.6"
  },
  "latex_envs": {
   "LaTeX_envs_menu_present": true,
   "autoclose": true,
   "autocomplete": true,
   "bibliofile": "biblio.bib",
   "cite_by": "apalike",
   "current_citInitial": 1,
   "eqLabelWithNumbers": true,
   "eqNumInitial": 1,
   "hotkeys": {
    "equation": "Ctrl-E",
    "itemize": "Ctrl-I"
   },
   "labels_anchors": false,
   "latex_user_defs": false,
   "report_style_numbering": false,
   "user_envs_cfg": false
  },
  "toc": {
   "base_numbering": 1,
   "nav_menu": {},
   "number_sections": false,
   "sideBar": true,
   "skip_h1_title": false,
   "title_cell": "Table of Contents",
   "title_sidebar": "Contents",
   "toc_cell": false,
   "toc_position": {},
   "toc_section_display": true,
   "toc_window_display": true
  },
  "toc-autonumbering": true,
  "toc-showtags": false,
  "widgets": {
   "application/vnd.jupyter.widget-state+json": {
    "state": {
     "0171aabde8634b46ab22a368a3e5f3aa": {
      "model_module": "@jupyter-widgets/controls",
      "model_module_version": "1.5.0",
      "model_name": "HBoxModel",
      "state": {
       "children": [
        "IPY_MODEL_0a11d1110ee742c9b30813a933e9cf58",
        "IPY_MODEL_35e2549482cc41029f669a4ec8a55331",
        "IPY_MODEL_d3548e6d4ae4458088c1ba023dd4a6f9"
       ],
       "layout": "IPY_MODEL_fc41cedc37344092b0f0213af14f68bf"
      }
     },
     "0190c8f697154b3fa69e31340da81955": {
      "model_module": "@jupyter-widgets/base",
      "model_module_version": "1.2.0",
      "model_name": "LayoutModel",
      "state": {}
     },
     "0204f8dab58a46c8b13ddfc4df9c6400": {
      "model_module": "@jupyter-widgets/controls",
      "model_module_version": "1.5.0",
      "model_name": "DescriptionStyleModel",
      "state": {
       "description_width": ""
      }
     },
     "0241cd62c7f04c308abfaa66829e936f": {
      "model_module": "@jupyter-widgets/base",
      "model_module_version": "1.2.0",
      "model_name": "LayoutModel",
      "state": {
       "display": "none"
      }
     },
     "0250e44ee2274823b57f9e04fcedbd56": {
      "model_module": "@jupyter-widgets/base",
      "model_module_version": "1.2.0",
      "model_name": "LayoutModel",
      "state": {
       "align_items": "stretch",
       "display": "flex",
       "flex_flow": "row wrap",
       "width": "auto"
      }
     },
     "027f52cc83ca48ddb191b03bf0026194": {
      "model_module": "@jupyter-widgets/controls",
      "model_module_version": "1.5.0",
      "model_name": "HTMLModel",
      "state": {
       "layout": "IPY_MODEL_29978148683d4c5a93d56f2691bd99ef",
       "style": "IPY_MODEL_c6a0bc5eb11b4b2a8c4532d62f1f73cc",
       "value": "<style>p{word-wrap: break-word}</style> <p>The longest common subsequence between [4,5,3,2,1,6] and [1,2,3,4,5,6] is: </p>"
      }
     },
     "0283010353b94884a90aa41d2abaec80": {
      "model_module": "@jupyter-widgets/controls",
      "model_module_version": "1.5.0",
      "model_name": "ButtonStyleModel",
      "state": {
       "button_color": "#4DD0E1"
      }
     },
     "03c16b1257094b5dbec89ee8d27f1c95": {
      "model_module": "@jupyter-widgets/base",
      "model_module_version": "1.2.0",
      "model_name": "LayoutModel",
      "state": {
       "align_items": "stretch",
       "display": "flex",
       "flex_flow": "row wrap",
       "width": "auto"
      }
     },
     "041a7221ff104a6c8d88691f84d155f3": {
      "model_module": "@jupyter-widgets/base",
      "model_module_version": "1.2.0",
      "model_name": "LayoutModel",
      "state": {
       "align_items": "stretch",
       "display": "flex",
       "flex_flow": "row wrap",
       "width": "auto"
      }
     },
     "047da2fee4204ee0b8fe6ec10c4faf92": {
      "model_module": "@jupyter-widgets/controls",
      "model_module_version": "1.5.0",
      "model_name": "ButtonStyleModel",
      "state": {
       "button_color": "#4DD0E1"
      }
     },
     "04800ec266ef45b5941f43ef3b773f9e": {
      "model_module": "@jupyter-widgets/controls",
      "model_module_version": "1.5.0",
      "model_name": "DescriptionStyleModel",
      "state": {
       "description_width": ""
      }
     },
     "048d18cb22c74ce2bbcc2e155de892b7": {
      "model_module": "@jupyter-widgets/controls",
      "model_module_version": "1.5.0",
      "model_name": "DescriptionStyleModel",
      "state": {
       "description_width": ""
      }
     },
     "06a65433df3b4bffb39a3a82d12b1dff": {
      "model_module": "@jupyter-widgets/controls",
      "model_module_version": "1.5.0",
      "model_name": "HTMLModel",
      "state": {
       "layout": "IPY_MODEL_af6a64d933284d2fb5729b25519b48ce",
       "style": "IPY_MODEL_0c1a33c7f174443aaa012e69aa5911c3",
       "value": "<style>p{word-wrap: break-word}</style> <p>. </p>"
      }
     },
     "06dea33ed6d04c91a3ebd3d2f7c01844": {
      "model_module": "@jupyter-widgets/controls",
      "model_module_version": "1.5.0",
      "model_name": "HTMLModel",
      "state": {
       "layout": "IPY_MODEL_87b522cdd24e4ec5b541fce81d7d04c8",
       "style": "IPY_MODEL_a4ef8d16b99e403b80e14a0659c1224a",
       "value": "<style>p{word-wrap: break-word}</style> <p>. </p>"
      }
     },
     "0719f2dc91784c82a52d5d527aac676d": {
      "model_module": "@jupyter-widgets/controls",
      "model_module_version": "1.5.0",
      "model_name": "HTMLModel",
      "state": {
       "layout": "IPY_MODEL_b8c71685f8bc4654ae08546841bb6378",
       "style": "IPY_MODEL_5041ada22f0a4ac28f9f6e0425cb28cc",
       "value": "<style>p{word-wrap: break-word}</style> <p>. </p>"
      }
     },
     "073dd4f7ac4c4d52b5bd30442c03d005": {
      "model_module": "@jupyter-widgets/controls",
      "model_module_version": "1.5.0",
      "model_name": "DescriptionStyleModel",
      "state": {
       "description_width": ""
      }
     },
     "077368f006dd4459a255a77aa51d173d": {
      "model_module": "@jupyter-widgets/controls",
      "model_module_version": "1.5.0",
      "model_name": "ButtonStyleModel",
      "state": {
       "button_color": "#FFE0B2"
      }
     },
     "077c7ae999a5430e9b32f35abfa016b6": {
      "model_module": "@jupyter-widgets/controls",
      "model_module_version": "1.5.0",
      "model_name": "TextModel",
      "state": {
       "layout": "IPY_MODEL_92ccabcee9e84f5fbd71c5bc893ea0c4",
       "placeholder": "",
       "style": "IPY_MODEL_43f5db07cc8d409e88adf420ae277845"
      }
     },
     "07913e8a316e4c66a5989e917503416a": {
      "model_module": "@jupyter-widgets/controls",
      "model_module_version": "1.5.0",
      "model_name": "DescriptionStyleModel",
      "state": {
       "description_width": ""
      }
     },
     "08162462aceb440982da2390f116fa6e": {
      "model_module": "@jupyter-widgets/controls",
      "model_module_version": "1.5.0",
      "model_name": "HBoxModel",
      "state": {
       "children": [
        "IPY_MODEL_821b09ba79074867b827fd4952ab78e3",
        "IPY_MODEL_1ee579be4ec341dd8f470cc7c2b73db8",
        "IPY_MODEL_af0f04377e814973bfed97f7a1187587"
       ],
       "layout": "IPY_MODEL_0250e44ee2274823b57f9e04fcedbd56"
      }
     },
     "08341ed372354eaaa79ff503986a8ac6": {
      "model_module": "@jupyter-widgets/controls",
      "model_module_version": "1.5.0",
      "model_name": "HTMLModel",
      "state": {
       "layout": "IPY_MODEL_ad163a265f8d47feb527b9888bb3980a",
       "style": "IPY_MODEL_d3f58196297f48eab1a5b6c4a5794326",
       "value": "<style>p{word-wrap: break-word}</style> <p>. </p>"
      }
     },
     "08f63fc1c450487a86f8f28272fd5b84": {
      "model_module": "@jupyter-widgets/controls",
      "model_module_version": "1.5.0",
      "model_name": "HTMLModel",
      "state": {
       "layout": "IPY_MODEL_3e74ca03d1c1494785eaf9c5db2a274b",
       "style": "IPY_MODEL_acd04bd8cbcd4427b5223b960685200e",
       "value": "<style>p{word-wrap: break-word}</style> <p>. </p>"
      }
     },
     "09739faf7c44416cae7ee045256becfb": {
      "model_module": "@jupyter-widgets/controls",
      "model_module_version": "1.5.0",
      "model_name": "HBoxModel",
      "state": {
       "children": [
        "IPY_MODEL_bb7c1419325147cd908f62d20dbcad7d",
        "IPY_MODEL_2353509db1c24b1a9b782c7f8ed9a10f",
        "IPY_MODEL_88cb97230bd1438381f0a11733c0d1f1"
       ],
       "layout": "IPY_MODEL_3a9a7da5ead042b3924a45c11058ecdc"
      }
     },
     "099fa29353174989ac03c23d49c50677": {
      "model_module": "@jupyter-widgets/base",
      "model_module_version": "1.2.0",
      "model_name": "LayoutModel",
      "state": {
       "border": "None",
       "height": "32px",
       "width": "auto"
      }
     },
     "09cb8cb0c90244ed8e056e5fea47ee23": {
      "model_module": "@jupyter-widgets/controls",
      "model_module_version": "1.5.0",
      "model_name": "DescriptionStyleModel",
      "state": {
       "description_width": ""
      }
     },
     "0a088a9d820c4e93843843453dc7c923": {
      "model_module": "@jupyter-widgets/controls",
      "model_module_version": "1.5.0",
      "model_name": "ButtonModel",
      "state": {
       "description": "Show answer",
       "disabled": true,
       "layout": "IPY_MODEL_0241cd62c7f04c308abfaa66829e936f",
       "style": "IPY_MODEL_c841065a7ad4421384de0cfe6ef6406f"
      }
     },
     "0a11d1110ee742c9b30813a933e9cf58": {
      "model_module": "@jupyter-widgets/controls",
      "model_module_version": "1.5.0",
      "model_name": "HBoxModel",
      "state": {
       "children": [
        "IPY_MODEL_da430d62594b40d193becc69ba4e00b2",
        "IPY_MODEL_4ea99fec8a37438786257cc788b41d1a",
        "IPY_MODEL_a5d30e29456c42ff9ae9ca95b1abb345"
       ],
       "layout": "IPY_MODEL_b607b270ce354036a3caec10f9d06d83"
      }
     },
     "0a7bf761a3474f92bd47573d62a7472e": {
      "model_module": "@jupyter-widgets/controls",
      "model_module_version": "1.5.0",
      "model_name": "HTMLModel",
      "state": {
       "layout": "IPY_MODEL_1f4f122f3907427ba5765af29a8d4854",
       "style": "IPY_MODEL_b701917133a449d6b428bd374e4cc9e5",
       "value": "<style>p{word-wrap: break-word}</style> <p>The longest increasing subsequence of [4,5,3,2,1] is:  </p>"
      }
     },
     "0add5cc301fd4364907c88a14f0a6ba9": {
      "model_module": "@jupyter-widgets/controls",
      "model_module_version": "1.5.0",
      "model_name": "ButtonStyleModel",
      "state": {
       "button_color": "#4DD0E1"
      }
     },
     "0b8b8d299a8d4201a95db2922a0e7229": {
      "model_module": "@jupyter-widgets/base",
      "model_module_version": "1.2.0",
      "model_name": "LayoutModel",
      "state": {
       "height": "50%",
       "margin": "0 0 0 30px",
       "width": "50%"
      }
     },
     "0bfa97a2d1514ae7857b3209a88af294": {
      "model_module": "@jupyter-widgets/controls",
      "model_module_version": "1.5.0",
      "model_name": "DescriptionStyleModel",
      "state": {
       "description_width": ""
      }
     },
     "0c1a33c7f174443aaa012e69aa5911c3": {
      "model_module": "@jupyter-widgets/controls",
      "model_module_version": "1.5.0",
      "model_name": "DescriptionStyleModel",
      "state": {
       "description_width": ""
      }
     },
     "0c679f1a2a3840e3abf51974af5f4207": {
      "model_module": "@jupyter-widgets/controls",
      "model_module_version": "1.5.0",
      "model_name": "DescriptionStyleModel",
      "state": {
       "description_width": ""
      }
     },
     "0c93355019bc475fb9b4ddd81719c480": {
      "model_module": "@jupyter-widgets/controls",
      "model_module_version": "1.5.0",
      "model_name": "DescriptionStyleModel",
      "state": {
       "description_width": ""
      }
     },
     "0ccd95cfa6054623931f2cbf625b896d": {
      "model_module": "@jupyter-widgets/base",
      "model_module_version": "1.2.0",
      "model_name": "LayoutModel",
      "state": {
       "align_items": "stretch",
       "display": "flex",
       "flex_flow": "row wrap",
       "margin": "30px 0 0 0"
      }
     },
     "0db94589dbf442e68c6fb7aafa1639e2": {
      "model_module": "@jupyter-widgets/controls",
      "model_module_version": "1.5.0",
      "model_name": "LabelModel",
      "state": {
       "layout": "IPY_MODEL_86003387fa86436589498598fc55cfa6",
       "style": "IPY_MODEL_8f1b6e91b4a24ecda624711d87cceaf2"
      }
     },
     "0df9197735a744c7a24221284d8c6fd9": {
      "model_module": "@jupyter-widgets/controls",
      "model_module_version": "1.5.0",
      "model_name": "HTMLModel",
      "state": {
       "layout": "IPY_MODEL_4eafaf614a9e4ad4beae13c7c3679161",
       "style": "IPY_MODEL_a31292f4b7fc4c88ac21c514b71a8a30",
       "value": "<style>p{word-wrap: break-word}</style> <p>. </p>"
      }
     },
     "0e31cdaa484e44d79cb880749240f989": {
      "model_module": "@jupyter-widgets/controls",
      "model_module_version": "1.5.0",
      "model_name": "HBoxModel",
      "state": {
       "children": [
        "IPY_MODEL_164a03aa55b047edb2aab8677f32c6e4",
        "IPY_MODEL_fd01d6a9f4684dc9a7f9455ee2f8a243",
        "IPY_MODEL_0a088a9d820c4e93843843453dc7c923"
       ],
       "layout": "IPY_MODEL_ac529d13fef54824a18137c8c638a1bd"
      }
     },
     "0fa252caa7e140c28e71730cb7a05702": {
      "model_module": "@jupyter-widgets/base",
      "model_module_version": "1.2.0",
      "model_name": "LayoutModel",
      "state": {}
     },
     "104a20593f3f4e3680ad9afd6eb13eb9": {
      "model_module": "@jupyter-widgets/controls",
      "model_module_version": "1.5.0",
      "model_name": "HTMLModel",
      "state": {
       "layout": "IPY_MODEL_d459409038f642e590ca460e41d89125",
       "style": "IPY_MODEL_937156770f9349b9bd99c48085a81424",
       "value": "<style>p{word-wrap: break-word}</style> <p>The *length* of the longest increasing subsequence of [4,3,2,1] is:  </p>"
      }
     },
     "112efbdfb80d4169977c8e04cfa1a667": {
      "model_module": "@jupyter-widgets/base",
      "model_module_version": "1.2.0",
      "model_name": "LayoutModel",
      "state": {
       "align_items": "stretch",
       "display": "flex",
       "flex_flow": "row wrap",
       "width": "auto"
      }
     },
     "1147195c57264805a52fb95624b5bb28": {
      "model_module": "@jupyter-widgets/controls",
      "model_module_version": "1.5.0",
      "model_name": "HTMLModel",
      "state": {
       "layout": "IPY_MODEL_e6f769f278bf4064a0f72992d94a9498",
       "style": "IPY_MODEL_2189dfdfa3a44bd6aa35c45d27a7256c",
       "value": "<style>p{word-wrap: break-word}</style> <p>On a piece of paper, write out the longest common subsequence between [4,5,3,2,1,6] and [1,2,3,4,5,6]. Underneath, write out the numbers 1, 2, 3, 4, 5, 6 (in increasing order). Draw a line between matching numbers. </p>"
      }
     },
     "115eba7ec4bf49bf9cefa6aaf9ef4d7d": {
      "model_module": "@jupyter-widgets/controls",
      "model_module_version": "1.5.0",
      "model_name": "DescriptionStyleModel",
      "state": {
       "description_width": ""
      }
     },
     "11a05b13d11d43c0b1410497e94774f4": {
      "model_module": "@jupyter-widgets/base",
      "model_module_version": "1.2.0",
      "model_name": "LayoutModel",
      "state": {
       "height": "50%",
       "margin": "0 0 0 30px",
       "width": "50%"
      }
     },
     "11ae0be36c494081a8918b31279ad0e2": {
      "model_module": "@jupyter-widgets/controls",
      "model_module_version": "1.5.0",
      "model_name": "TextModel",
      "state": {
       "layout": "IPY_MODEL_960d6ef67d2f49f1acd889d26063fe18",
       "placeholder": "",
       "style": "IPY_MODEL_804f0bc825714d3fb3c4832eead7c3c2"
      }
     },
     "11c1bf54e77d4f49ad68152e9a70f717": {
      "model_module": "@jupyter-widgets/base",
      "model_module_version": "1.2.0",
      "model_name": "LayoutModel",
      "state": {}
     },
     "1237852d1de0415da78b8578684cb900": {
      "model_module": "@jupyter-widgets/controls",
      "model_module_version": "1.5.0",
      "model_name": "DescriptionStyleModel",
      "state": {
       "description_width": ""
      }
     },
     "123aa027dcf943129dc161ac4194d349": {
      "model_module": "@jupyter-widgets/controls",
      "model_module_version": "1.5.0",
      "model_name": "ButtonStyleModel",
      "state": {
       "button_color": "#4DD0E1"
      }
     },
     "1313da5dd2e042faa7055beb7fea6d7a": {
      "model_module": "@jupyter-widgets/base",
      "model_module_version": "1.2.0",
      "model_name": "LayoutModel",
      "state": {
       "align_items": "stretch",
       "display": "flex",
       "flex_flow": "row wrap",
       "margin": "30px 0 0 0"
      }
     },
     "13d410b705074c9298bfccbfe405b244": {
      "model_module": "@jupyter-widgets/base",
      "model_module_version": "1.2.0",
      "model_name": "LayoutModel",
      "state": {}
     },
     "14b212a63b5a49ddaddce4a68036e8de": {
      "model_module": "@jupyter-widgets/controls",
      "model_module_version": "1.5.0",
      "model_name": "DescriptionStyleModel",
      "state": {
       "description_width": ""
      }
     },
     "152efc30523348e0afd4f5726f5ff0e1": {
      "model_module": "@jupyter-widgets/base",
      "model_module_version": "1.2.0",
      "model_name": "LayoutModel",
      "state": {
       "align_items": "stretch",
       "display": "flex",
       "flex_flow": "row wrap",
       "width": "auto"
      }
     },
     "15faf21854ba493782dd93f377dca3e6": {
      "model_module": "@jupyter-widgets/base",
      "model_module_version": "1.2.0",
      "model_name": "LayoutModel",
      "state": {}
     },
     "164a03aa55b047edb2aab8677f32c6e4": {
      "model_module": "@jupyter-widgets/controls",
      "model_module_version": "1.5.0",
      "model_name": "ButtonModel",
      "state": {
       "description": "Submit",
       "layout": "IPY_MODEL_b0abf8834fce496098b9b371ffc0d817",
       "style": "IPY_MODEL_c01f4eec60a74704ad0f86a57ff38e07"
      }
     },
     "16e23cc62ff44b79aa3cec56d33f3a7d": {
      "model_module": "@jupyter-widgets/controls",
      "model_module_version": "1.5.0",
      "model_name": "HTMLModel",
      "state": {
       "layout": "IPY_MODEL_d749b78887e54fa5af36635c45a879af",
       "style": "IPY_MODEL_6b37a89aa60a404eb16713bae7c4a807",
       "value": "<style>p{word-wrap: break-word}</style> <p>Fill in the blanks with a number or the subsequence written in square brackets like this [1,2,3]  </p>"
      }
     },
     "1725936eea3a41e69dd723f8f99b9f74": {
      "model_module": "@jupyter-widgets/controls",
      "model_module_version": "1.5.0",
      "model_name": "DescriptionStyleModel",
      "state": {
       "description_width": ""
      }
     },
     "181155f49f7c4a94a5caa75709329378": {
      "model_module": "@jupyter-widgets/controls",
      "model_module_version": "1.5.0",
      "model_name": "HTMLModel",
      "state": {
       "layout": "IPY_MODEL_86a23c96fb134996960166438c59a5b4",
       "style": "IPY_MODEL_e501c6bbcdab41e5aa6477898d004248",
       "value": "<style>p{word-wrap: break-word}</style> <p>. </p>"
      }
     },
     "18a4a90476684ca780dc65c5cfa88eef": {
      "model_module": "@jupyter-widgets/base",
      "model_module_version": "1.2.0",
      "model_name": "LayoutModel",
      "state": {
       "display": "none"
      }
     },
     "18e8323557bc4ff6810ba970b5037ddc": {
      "model_module": "@jupyter-widgets/base",
      "model_module_version": "1.2.0",
      "model_name": "LayoutModel",
      "state": {
       "align_items": "stretch",
       "display": "flex",
       "flex_flow": "row wrap",
       "width": "auto"
      }
     },
     "1917119a685a477ba627c0e4a2e07800": {
      "model_module": "@jupyter-widgets/controls",
      "model_module_version": "1.5.0",
      "model_name": "DescriptionStyleModel",
      "state": {
       "description_width": ""
      }
     },
     "1954f520c2b1450ca14b81256a317e20": {
      "model_module": "@jupyter-widgets/base",
      "model_module_version": "1.2.0",
      "model_name": "LayoutModel",
      "state": {
       "height": "50%",
       "margin": "0 0 0 30px",
       "width": "50%"
      }
     },
     "19bc633ff5984412bc40b3280c2ed2c4": {
      "model_module": "@jupyter-widgets/controls",
      "model_module_version": "1.5.0",
      "model_name": "DescriptionStyleModel",
      "state": {
       "description_width": ""
      }
     },
     "19ef6f13edee424686cb6926a40f1aea": {
      "model_module": "@jupyter-widgets/controls",
      "model_module_version": "1.5.0",
      "model_name": "HTMLModel",
      "state": {
       "layout": "IPY_MODEL_65236412b721405998884cf995266905",
       "style": "IPY_MODEL_58c6515dc4d04431b507b44bf08d6ac1",
       "value": "<style>p{word-wrap: break-word}</style> <p>The longest increasing subsequence of [4,5,3,2,1] is:  </p>"
      }
     },
     "1a0e38a7ef8641c1be20fbed997f4790": {
      "model_module": "@jupyter-widgets/controls",
      "model_module_version": "1.5.0",
      "model_name": "DescriptionStyleModel",
      "state": {
       "description_width": ""
      }
     },
     "1ad95ed5a359459b864297786fd840dd": {
      "model_module": "@jupyter-widgets/controls",
      "model_module_version": "1.5.0",
      "model_name": "DescriptionStyleModel",
      "state": {
       "description_width": ""
      }
     },
     "1b19a5bbf2444792a3bd530991b44fb9": {
      "model_module": "@jupyter-widgets/base",
      "model_module_version": "1.2.0",
      "model_name": "LayoutModel",
      "state": {
       "align_items": "stretch",
       "display": "flex",
       "flex_flow": "column",
       "width": "100%"
      }
     },
     "1b5d8b8d7afe4fd58e7ccf2d4f171ab0": {
      "model_module": "@jupyter-widgets/base",
      "model_module_version": "1.2.0",
      "model_name": "LayoutModel",
      "state": {
       "display": "flex",
       "flex_flow": "row",
       "justify_content": "space-between",
       "margin": "0 0 20px 0"
      }
     },
     "1bb17cd127b144debc43dff5a84ce359": {
      "model_module": "@jupyter-widgets/controls",
      "model_module_version": "1.5.0",
      "model_name": "HTMLModel",
      "state": {
       "layout": "IPY_MODEL_3b6835b08df2403d9f90adbd0daac717",
       "style": "IPY_MODEL_8923d77fb94142198a8ee0ee126fc9fb",
       "value": "<style>p{word-wrap: break-word}</style> <p>The length of the longest increasing subsequence of [4,3,2,1] is:  </p>"
      }
     },
     "1d554c5d341d4107ac0724cdbebded51": {
      "model_module": "@jupyter-widgets/base",
      "model_module_version": "1.2.0",
      "model_name": "LayoutModel",
      "state": {
       "display": "none"
      }
     },
     "1dd6f98cdd084bd1873ea556431a447d": {
      "model_module": "@jupyter-widgets/controls",
      "model_module_version": "1.5.0",
      "model_name": "HTMLModel",
      "state": {
       "layout": "IPY_MODEL_575bc498bf1c4deaa8745ceecc1c8ee2",
       "style": "IPY_MODEL_e432d8169e7842209e6b3758c6129015",
       "value": "<style>p{word-wrap: break-word}</style> <p>Fill in the blanks with a number or the subsequence written in square brackets like this [1,2,3]  </p>"
      }
     },
     "1deac9875b044969b38fed7822cc33de": {
      "model_module": "@jupyter-widgets/controls",
      "model_module_version": "1.5.0",
      "model_name": "HBoxModel",
      "state": {
       "children": [
        "IPY_MODEL_027f52cc83ca48ddb191b03bf0026194",
        "IPY_MODEL_5f65c1c142a44015a7bb1faa51dd345d",
        "IPY_MODEL_ea4910710f034285b843159bdeda54cc"
       ],
       "layout": "IPY_MODEL_452c3031f991421a816d81be0bc9081a"
      }
     },
     "1dfb1a286564414784095f7d80f6d4a4": {
      "model_module": "@jupyter-widgets/base",
      "model_module_version": "1.2.0",
      "model_name": "LayoutModel",
      "state": {}
     },
     "1e6220dd439c4675904fb85e37fb2dfb": {
      "model_module": "@jupyter-widgets/controls",
      "model_module_version": "1.5.0",
      "model_name": "DescriptionStyleModel",
      "state": {
       "description_width": ""
      }
     },
     "1e82f7bfc77146bb974fe6f7fa1d428c": {
      "model_module": "@jupyter-widgets/controls",
      "model_module_version": "1.5.0",
      "model_name": "DescriptionStyleModel",
      "state": {
       "description_width": ""
      }
     },
     "1e8be9f612d944a3bc0a7538cad5f41d": {
      "model_module": "@jupyter-widgets/base",
      "model_module_version": "1.2.0",
      "model_name": "LayoutModel",
      "state": {
       "visibility": "hidden"
      }
     },
     "1eb7c3d75c3d4cc7b46213040a2d7265": {
      "model_module": "@jupyter-widgets/controls",
      "model_module_version": "1.5.0",
      "model_name": "DescriptionStyleModel",
      "state": {
       "description_width": ""
      }
     },
     "1ee579be4ec341dd8f470cc7c2b73db8": {
      "model_module": "@jupyter-widgets/controls",
      "model_module_version": "1.5.0",
      "model_name": "TextModel",
      "state": {
       "layout": "IPY_MODEL_d8e36b526824440680dc676a2584db30",
       "placeholder": "",
       "style": "IPY_MODEL_b228f7ae533a46ebae3d356976ce0439"
      }
     },
     "1f4f122f3907427ba5765af29a8d4854": {
      "model_module": "@jupyter-widgets/base",
      "model_module_version": "1.2.0",
      "model_name": "LayoutModel",
      "state": {}
     },
     "1fb1455c93274522859c11d766922238": {
      "model_module": "@jupyter-widgets/base",
      "model_module_version": "1.2.0",
      "model_name": "LayoutModel",
      "state": {
       "width": "auto"
      }
     },
     "201371b5386d4a49a6eb2aa403d88db8": {
      "model_module": "@jupyter-widgets/controls",
      "model_module_version": "1.5.0",
      "model_name": "DescriptionStyleModel",
      "state": {
       "description_width": ""
      }
     },
     "20291a5fb842414ca44a26279a7dbbb5": {
      "model_module": "@jupyter-widgets/base",
      "model_module_version": "1.2.0",
      "model_name": "LayoutModel",
      "state": {
       "align_items": "stretch",
       "display": "flex",
       "flex_flow": "row wrap",
       "width": "auto"
      }
     },
     "20eb84e17b854d199a09aeafae19cace": {
      "model_module": "@jupyter-widgets/controls",
      "model_module_version": "1.5.0",
      "model_name": "HTMLModel",
      "state": {
       "layout": "IPY_MODEL_a61c93ee9b20440eb9f07b87be8c7a56",
       "style": "IPY_MODEL_8197d160aa5f4832bf998a652d4cbe75",
       "value": "<style>p{word-wrap: break-word}</style> <p>. </p>"
      }
     },
     "2189dfdfa3a44bd6aa35c45d27a7256c": {
      "model_module": "@jupyter-widgets/controls",
      "model_module_version": "1.5.0",
      "model_name": "DescriptionStyleModel",
      "state": {
       "description_width": ""
      }
     },
     "21dc5da2050f4cb0981449e373c2e788": {
      "model_module": "@jupyter-widgets/controls",
      "model_module_version": "1.5.0",
      "model_name": "ButtonStyleModel",
      "state": {
       "button_color": "#FFE0B2"
      }
     },
     "222cf5955f9847fda5abfa25a969a37b": {
      "model_module": "@jupyter-widgets/controls",
      "model_module_version": "1.5.0",
      "model_name": "DescriptionStyleModel",
      "state": {
       "description_width": ""
      }
     },
     "22888cda438b4f0680385db6d9899b99": {
      "model_module": "@jupyter-widgets/controls",
      "model_module_version": "1.5.0",
      "model_name": "HTMLModel",
      "state": {
       "layout": "IPY_MODEL_c3e237cd1b14473fb525ea49d9b6f5ae",
       "style": "IPY_MODEL_7927891bbcce40bc8c38278eca17de81",
       "value": "<style>p{word-wrap: break-word}</style> <p>. </p>"
      }
     },
     "22d4f30797eb4037bef96e9d6d43fb57": {
      "model_module": "@jupyter-widgets/controls",
      "model_module_version": "1.5.0",
      "model_name": "TextModel",
      "state": {
       "layout": "IPY_MODEL_9b15a0dde1434e8b844c3042427c27e1",
       "placeholder": "",
       "style": "IPY_MODEL_ecbdad2c567f44c7b61306b0d8da0d77"
      }
     },
     "2353509db1c24b1a9b782c7f8ed9a10f": {
      "model_module": "@jupyter-widgets/controls",
      "model_module_version": "1.5.0",
      "model_name": "TextModel",
      "state": {
       "layout": "IPY_MODEL_de7d549d445040c0b9d462b0ac738270",
       "placeholder": "",
       "style": "IPY_MODEL_94b2bb4337714257b44b13385ec93545"
      }
     },
     "23a42c24916541cbb7b07e5e18dda643": {
      "model_module": "@jupyter-widgets/controls",
      "model_module_version": "1.5.0",
      "model_name": "DescriptionStyleModel",
      "state": {
       "description_width": ""
      }
     },
     "241c2698ffa84c988d6c76abc1de6c01": {
      "model_module": "@jupyter-widgets/controls",
      "model_module_version": "1.5.0",
      "model_name": "HTMLModel",
      "state": {
       "layout": "IPY_MODEL_65aca013be1e4bb9bf9cc64b55318d9c",
       "style": "IPY_MODEL_7ff69b9fbd1146eb961be81db44755fc",
       "value": "<style>p{word-wrap: break-word}</style> <p>The longest common subsequence between [4,5,3,2,1,6] and [1,2,3,4,5,6] is: </p>"
      }
     },
     "24682e5a5c22462db9da82b7dd68708c": {
      "model_module": "@jupyter-widgets/controls",
      "model_module_version": "1.5.0",
      "model_name": "TextModel",
      "state": {
       "layout": "IPY_MODEL_2d905ee1862543d699f9ffb1bf940cbd",
       "placeholder": "",
       "style": "IPY_MODEL_a1ce7433651f4c29a459c1392fc6f87a"
      }
     },
     "2472c1daa515426fbff0c3f4ae3f69d1": {
      "model_module": "@jupyter-widgets/controls",
      "model_module_version": "1.5.0",
      "model_name": "HBoxModel",
      "state": {
       "children": [
        "IPY_MODEL_f1217a1c1dc04e23a9f71f7bfa9d0958",
        "IPY_MODEL_4d34022c6519443387cc32d458b0879f",
        "IPY_MODEL_376f2bc18f1447ee95ba3255b217b6f1"
       ],
       "layout": "IPY_MODEL_ea53cdbc749b40778a057a2f350d9197"
      }
     },
     "25e655d60b654885bb838fb164147e78": {
      "model_module": "@jupyter-widgets/base",
      "model_module_version": "1.2.0",
      "model_name": "LayoutModel",
      "state": {}
     },
     "26800f260c8c4e609964dfc29ca74468": {
      "model_module": "@jupyter-widgets/controls",
      "model_module_version": "1.5.0",
      "model_name": "LabelModel",
      "state": {
       "layout": "IPY_MODEL_6b0d24b31b3b4ff8ac02d9a8c5f82943",
       "style": "IPY_MODEL_bdadb82fa15d43858b41d06d53d91f91"
      }
     },
     "26dd14d5d08a4504b8e5c42d4cc9a2ee": {
      "model_module": "@jupyter-widgets/base",
      "model_module_version": "1.2.0",
      "model_name": "LayoutModel",
      "state": {
       "align_items": "stretch",
       "display": "flex",
       "flex_flow": "row wrap",
       "margin": "30px 0 0 0"
      }
     },
     "274f533964b5435887d38d21d4ceae77": {
      "model_module": "@jupyter-widgets/base",
      "model_module_version": "1.2.0",
      "model_name": "LayoutModel",
      "state": {
       "align_items": "stretch",
       "display": "flex",
       "flex_flow": "row wrap",
       "width": "auto"
      }
     },
     "27d24d71ab8e4b02af2e3c5f3971b6f5": {
      "model_module": "@jupyter-widgets/controls",
      "model_module_version": "1.5.0",
      "model_name": "HBoxModel",
      "state": {
       "children": [
        "IPY_MODEL_84773e62980d4041b22927e8b220bd25",
        "IPY_MODEL_27f61db791a34883a689025118274e51",
        "IPY_MODEL_f507282fbaf741ad98da49d76ab3be3b"
       ],
       "layout": "IPY_MODEL_18e8323557bc4ff6810ba970b5037ddc"
      }
     },
     "27e1ba727d634fa2be555d620c34beac": {
      "model_module": "@jupyter-widgets/controls",
      "model_module_version": "1.5.0",
      "model_name": "DescriptionStyleModel",
      "state": {
       "description_width": ""
      }
     },
     "27edeb0e22d745009663d84919719d68": {
      "model_module": "@jupyter-widgets/controls",
      "model_module_version": "1.5.0",
      "model_name": "HBoxModel",
      "state": {
       "children": [
        "IPY_MODEL_459620a0fcbd4255ac596f6e0007a2f5"
       ],
       "layout": "IPY_MODEL_bfb1faa332e040169f3a8d5d8ddb0207"
      }
     },
     "27f61db791a34883a689025118274e51": {
      "model_module": "@jupyter-widgets/controls",
      "model_module_version": "1.5.0",
      "model_name": "TextModel",
      "state": {
       "layout": "IPY_MODEL_541b1f0169384aaebc93f8b71856457c",
       "placeholder": "",
       "style": "IPY_MODEL_27e1ba727d634fa2be555d620c34beac"
      }
     },
     "2871e1007374469d85044073ec6ec251": {
      "model_module": "@jupyter-widgets/controls",
      "model_module_version": "1.5.0",
      "model_name": "TextModel",
      "state": {
       "layout": "IPY_MODEL_8d0f4344efeb4eda955fe5e3a7f77658",
       "placeholder": "[4,5]",
       "style": "IPY_MODEL_7e0dc05b36564fef8e4b4c6c5b52c6da"
      }
     },
     "2887d0620b724f8f830067ab68514ea0": {
      "model_module": "@jupyter-widgets/controls",
      "model_module_version": "1.5.0",
      "model_name": "HTMLModel",
      "state": {
       "layout": "IPY_MODEL_8ff3cd5b30c641eab52aa27ca3701243",
       "style": "IPY_MODEL_774b669e3cbe4cfebecc8843d852e3ed",
       "value": "<style>p{word-wrap: break-word}</style> <p>The longest common subsequence between [4,5,3,2,1,6] and [1,2,3,4,5,6] is: </p>"
      }
     },
     "28d6a169ece945e3876abefeec758c71": {
      "model_module": "@jupyter-widgets/controls",
      "model_module_version": "1.5.0",
      "model_name": "HTMLModel",
      "state": {
       "layout": "IPY_MODEL_e85da883ca3c40e29881c0373a713a86",
       "style": "IPY_MODEL_8fda4ea6d9b04bc1bac63f1c3c925213",
       "value": "<style>p{word-wrap: break-word}</style> <p>Fill in the blanks with a number or the subsequence written in square brackets like this [1,2,3]  </p>"
      }
     },
     "292c245079714dd7a9a8ecd1f642327e": {
      "model_module": "@jupyter-widgets/controls",
      "model_module_version": "1.5.0",
      "model_name": "HBoxModel",
      "state": {
       "children": [
        "IPY_MODEL_aca8e095731c4bfca52c2bb6e9133dc5",
        "IPY_MODEL_b5bf96e38edf4f34b00e6869ab75ef40",
        "IPY_MODEL_2f70aed5826d4bdc9b6f161f41caabf9"
       ],
       "layout": "IPY_MODEL_26dd14d5d08a4504b8e5c42d4cc9a2ee"
      }
     },
     "29758a0cd870470bbefb58e634b3d9ef": {
      "model_module": "@jupyter-widgets/controls",
      "model_module_version": "1.5.0",
      "model_name": "VBoxModel",
      "state": {
       "box_style": "warning",
       "children": [
        "IPY_MODEL_5c82c712c31d4f818411d05d7cc9d7ea",
        "IPY_MODEL_f52740da882541f395eb60e331c732ed",
        "IPY_MODEL_6f77f3fa23b2406a9b49fbde26012a90"
       ],
       "layout": "IPY_MODEL_47eb243b99404764bc6010abd7435109"
      }
     },
     "29978148683d4c5a93d56f2691bd99ef": {
      "model_module": "@jupyter-widgets/base",
      "model_module_version": "1.2.0",
      "model_name": "LayoutModel",
      "state": {}
     },
     "2a120b6c28064eb697ba74dbb754ff07": {
      "model_module": "@jupyter-widgets/controls",
      "model_module_version": "1.5.0",
      "model_name": "HBoxModel",
      "state": {
       "children": [
        "IPY_MODEL_b5d5cbf90ff2423686f5c6547b32e059",
        "IPY_MODEL_374e025960844b8fa32f3640274dbac4",
        "IPY_MODEL_52e24f29f4a4457eafa059a7fd473fa3"
       ],
       "layout": "IPY_MODEL_2cb4c81920514ceb9cd8e093f349d086"
      }
     },
     "2aa81b3a9a154d8bb7499e2a80236dbc": {
      "model_module": "@jupyter-widgets/base",
      "model_module_version": "1.2.0",
      "model_name": "LayoutModel",
      "state": {}
     },
     "2ad98aa508d342bbaff76cc8f39ba3f5": {
      "model_module": "@jupyter-widgets/controls",
      "model_module_version": "1.5.0",
      "model_name": "DescriptionStyleModel",
      "state": {
       "description_width": ""
      }
     },
     "2b4fd8ee4bbb4b9e92585f5e5756f584": {
      "model_module": "@jupyter-widgets/controls",
      "model_module_version": "1.5.0",
      "model_name": "DescriptionStyleModel",
      "state": {
       "description_width": ""
      }
     },
     "2ba9d9b3c06443eab932e82941fff5e2": {
      "model_module": "@jupyter-widgets/controls",
      "model_module_version": "1.5.0",
      "model_name": "HBoxModel",
      "state": {
       "children": [
        "IPY_MODEL_6d2973e96f8a45f68955951cc45e97d6",
        "IPY_MODEL_bdc63bed1ca14b4b83fc3d015973843f",
        "IPY_MODEL_9d1aae7b879a46a08b7f4d75fbeb7d99",
        "IPY_MODEL_c45a7d6340ea458d9eaa3333c8a96dec"
       ],
       "layout": "IPY_MODEL_e904475510654903911984034331e754"
      }
     },
     "2c2f4e3e675247dbb9da94607b153852": {
      "model_module": "@jupyter-widgets/base",
      "model_module_version": "1.2.0",
      "model_name": "LayoutModel",
      "state": {}
     },
     "2ca9597eaa8040f889c4140920a8ef6e": {
      "model_module": "@jupyter-widgets/controls",
      "model_module_version": "1.5.0",
      "model_name": "DescriptionStyleModel",
      "state": {
       "description_width": ""
      }
     },
     "2cb4c81920514ceb9cd8e093f349d086": {
      "model_module": "@jupyter-widgets/base",
      "model_module_version": "1.2.0",
      "model_name": "LayoutModel",
      "state": {
       "align_items": "stretch",
       "display": "flex",
       "flex_flow": "row wrap",
       "width": "auto"
      }
     },
     "2d22e00bb14c4c6c87da640d1c4638eb": {
      "model_module": "@jupyter-widgets/controls",
      "model_module_version": "1.5.0",
      "model_name": "HBoxModel",
      "state": {
       "children": [
        "IPY_MODEL_586b4e6cf504482b9d349412a09ce09d",
        "IPY_MODEL_3ad9e49a65ec448abceefd0be67f49ff",
        "IPY_MODEL_61ae90934d9d47208b6a14aaaca3bb11"
       ],
       "layout": "IPY_MODEL_8d03a283911b4064b9789a3c43bdb972"
      }
     },
     "2d905ee1862543d699f9ffb1bf940cbd": {
      "model_module": "@jupyter-widgets/base",
      "model_module_version": "1.2.0",
      "model_name": "LayoutModel",
      "state": {
       "width": "auto"
      }
     },
     "2d9f2cd0b55b4d238e6ced998449fec2": {
      "model_module": "@jupyter-widgets/controls",
      "model_module_version": "1.5.0",
      "model_name": "ButtonModel",
      "state": {
       "description": "Show answer",
       "disabled": true,
       "layout": "IPY_MODEL_ffca07ddb5aa4e54984878b6037e19c9",
       "style": "IPY_MODEL_0283010353b94884a90aa41d2abaec80"
      }
     },
     "2e4895f4d0564ed0a7cb0a023d96add6": {
      "model_module": "@jupyter-widgets/base",
      "model_module_version": "1.2.0",
      "model_name": "LayoutModel",
      "state": {}
     },
     "2e7e53b0ff2f441196cfc1977445547b": {
      "model_module": "@jupyter-widgets/controls",
      "model_module_version": "1.5.0",
      "model_name": "DescriptionStyleModel",
      "state": {
       "description_width": ""
      }
     },
     "2eed156d2ae14dfa967b33b33d5e2005": {
      "model_module": "@jupyter-widgets/controls",
      "model_module_version": "1.5.0",
      "model_name": "DescriptionStyleModel",
      "state": {
       "description_width": ""
      }
     },
     "2f70aed5826d4bdc9b6f161f41caabf9": {
      "model_module": "@jupyter-widgets/controls",
      "model_module_version": "1.5.0",
      "model_name": "ButtonModel",
      "state": {
       "description": "Show answer",
       "disabled": true,
       "layout": "IPY_MODEL_84de062fd5224f8090439f90f177e224",
       "style": "IPY_MODEL_ea801e1a31014140894e9e1cf2039e74"
      }
     },
     "300db4deb1da4d0481f9153ce5dd8b97": {
      "model_module": "@jupyter-widgets/controls",
      "model_module_version": "1.5.0",
      "model_name": "DescriptionStyleModel",
      "state": {
       "description_width": ""
      }
     },
     "30874cde8780493da1465769d06a511b": {
      "model_module": "@jupyter-widgets/controls",
      "model_module_version": "1.5.0",
      "model_name": "HBoxModel",
      "state": {
       "children": [
        "IPY_MODEL_8cde21ec88f04c6d8cc06f591fc304b4",
        "IPY_MODEL_3ccffd17b06148899e86a0e753ca691b"
       ],
       "layout": "IPY_MODEL_9c40f4fe867143a689758e5b3c7feaa7"
      }
     },
     "313988e5eea04001bb75abdad4fccb59": {
      "model_module": "@jupyter-widgets/controls",
      "model_module_version": "1.5.0",
      "model_name": "DescriptionStyleModel",
      "state": {
       "description_width": ""
      }
     },
     "314b2ba8f73843cca7a794eafec5f321": {
      "model_module": "@jupyter-widgets/base",
      "model_module_version": "1.2.0",
      "model_name": "LayoutModel",
      "state": {}
     },
     "318ebc6d5ee4493eb183b77cac366b41": {
      "model_module": "@jupyter-widgets/controls",
      "model_module_version": "1.5.0",
      "model_name": "DescriptionStyleModel",
      "state": {
       "description_width": ""
      }
     },
     "31b69ad284b04a438424b78e61fe7308": {
      "model_module": "@jupyter-widgets/controls",
      "model_module_version": "1.5.0",
      "model_name": "DescriptionStyleModel",
      "state": {
       "description_width": ""
      }
     },
     "31d7259611134ae2943eeb69dad29736": {
      "model_module": "@jupyter-widgets/controls",
      "model_module_version": "1.5.0",
      "model_name": "ButtonStyleModel",
      "state": {
       "button_color": "#FFE0B2"
      }
     },
     "31f9b8703bea42ed87849ec1e015cfbe": {
      "model_module": "@jupyter-widgets/base",
      "model_module_version": "1.2.0",
      "model_name": "LayoutModel",
      "state": {}
     },
     "3209548bd9a84336922b397af28f68ba": {
      "model_module": "@jupyter-widgets/base",
      "model_module_version": "1.2.0",
      "model_name": "LayoutModel",
      "state": {}
     },
     "322ad4936bcc4dcdbb2344e0392ca6ac": {
      "model_module": "@jupyter-widgets/controls",
      "model_module_version": "1.5.0",
      "model_name": "HTMLModel",
      "state": {
       "layout": "IPY_MODEL_d0406e3050a04a6eae8ee84b8a6ec8a0",
       "style": "IPY_MODEL_b6c2c1cde7f14e2088c4126f78d2b571",
       "value": "<style>p{word-wrap: break-word}</style> <p>Fill in the blanks with a number or the subsequence written in square brackets like this [1,2,3]  </p>"
      }
     },
     "339082d5229e4c7abd8bfec14a77a1aa": {
      "model_module": "@jupyter-widgets/base",
      "model_module_version": "1.2.0",
      "model_name": "LayoutModel",
      "state": {
       "align_items": "stretch",
       "display": "flex",
       "flex_flow": "row wrap",
       "width": "auto"
      }
     },
     "3404f8ce44f44ff5999150465526c739": {
      "model_module": "@jupyter-widgets/controls",
      "model_module_version": "1.5.0",
      "model_name": "TextModel",
      "state": {
       "layout": "IPY_MODEL_d3f6cdbdabe44e55b86cce1389b1b88c",
       "placeholder": "[4,5,6]",
       "style": "IPY_MODEL_201371b5386d4a49a6eb2aa403d88db8"
      }
     },
     "340a780a55424ebb8b2c63671abb93cd": {
      "model_module": "@jupyter-widgets/controls",
      "model_module_version": "1.5.0",
      "model_name": "DescriptionStyleModel",
      "state": {
       "description_width": ""
      }
     },
     "353a02891c284aa4bd6855f0eda9bdd7": {
      "model_module": "@jupyter-widgets/controls",
      "model_module_version": "1.5.0",
      "model_name": "DescriptionStyleModel",
      "state": {
       "description_width": ""
      }
     },
     "3545cfc050364044868b009da26f5ae5": {
      "model_module": "@jupyter-widgets/controls",
      "model_module_version": "1.5.0",
      "model_name": "DescriptionStyleModel",
      "state": {
       "description_width": ""
      }
     },
     "3590ea6aed444fd293df176996fe1945": {
      "model_module": "@jupyter-widgets/base",
      "model_module_version": "1.2.0",
      "model_name": "LayoutModel",
      "state": {
       "align_items": "stretch",
       "display": "flex",
       "flex_flow": "row wrap",
       "width": "auto"
      }
     },
     "35e2549482cc41029f669a4ec8a55331": {
      "model_module": "@jupyter-widgets/controls",
      "model_module_version": "1.5.0",
      "model_name": "HBoxModel",
      "state": {
       "children": [
        "IPY_MODEL_0a7bf761a3474f92bd47573d62a7472e",
        "IPY_MODEL_dec08e7d2a5243c6ab8c71fca617904f",
        "IPY_MODEL_0df9197735a744c7a24221284d8c6fd9"
       ],
       "layout": "IPY_MODEL_4dabc59bc0d64d6fa321ec6c33dfa2cf"
      }
     },
     "374e025960844b8fa32f3640274dbac4": {
      "model_module": "@jupyter-widgets/controls",
      "model_module_version": "1.5.0",
      "model_name": "TextModel",
      "state": {
       "layout": "IPY_MODEL_827491a0ee5f4a9980e30a120574052e",
       "placeholder": "",
       "style": "IPY_MODEL_781a8aa6834e45ebaa05caa1904bcaa2"
      }
     },
     "376f2bc18f1447ee95ba3255b217b6f1": {
      "model_module": "@jupyter-widgets/controls",
      "model_module_version": "1.5.0",
      "model_name": "HTMLModel",
      "state": {
       "layout": "IPY_MODEL_e3ee4a6cb17c4762b1bd159cf9ab53dd",
       "style": "IPY_MODEL_c6f36ca4407140d3bd46162c805c2c20",
       "value": "<style>p{word-wrap: break-word}</style> <p>. </p>"
      }
     },
     "380531b5cc5e481d80f39667964ec436": {
      "model_module": "@jupyter-widgets/controls",
      "model_module_version": "1.5.0",
      "model_name": "DescriptionStyleModel",
      "state": {
       "description_width": ""
      }
     },
     "3838b3f4a15c4873a6313075f6a921a2": {
      "model_module": "@jupyter-widgets/controls",
      "model_module_version": "1.5.0",
      "model_name": "HBoxModel",
      "state": {
       "children": [
        "IPY_MODEL_1147195c57264805a52fb95624b5bb28"
       ],
       "layout": "IPY_MODEL_93ed364cac66426cb0b7e0acf0060ff5"
      }
     },
     "389cca3e924948488c1c0793ec80522d": {
      "model_module": "@jupyter-widgets/base",
      "model_module_version": "1.2.0",
      "model_name": "LayoutModel",
      "state": {
       "visibility": "hidden"
      }
     },
     "39f623d89dc54173beeece491626761a": {
      "model_module": "@jupyter-widgets/base",
      "model_module_version": "1.2.0",
      "model_name": "LayoutModel",
      "state": {
       "border": "None",
       "height": "32px",
       "width": "auto"
      }
     },
     "3a9a7da5ead042b3924a45c11058ecdc": {
      "model_module": "@jupyter-widgets/base",
      "model_module_version": "1.2.0",
      "model_name": "LayoutModel",
      "state": {
       "align_items": "stretch",
       "display": "flex",
       "flex_flow": "row wrap",
       "width": "auto"
      }
     },
     "3acaacbcaf094c289837c946ab0209e6": {
      "model_module": "@jupyter-widgets/base",
      "model_module_version": "1.2.0",
      "model_name": "LayoutModel",
      "state": {
       "display": "flex",
       "flex_flow": "row",
       "justify_content": "space-between",
       "margin": "0 0 20px 0"
      }
     },
     "3ad0b91ac2f7426abe6eb7d710a1a7f0": {
      "model_module": "@jupyter-widgets/controls",
      "model_module_version": "1.5.0",
      "model_name": "ButtonModel",
      "state": {
       "description": "Submit again",
       "disabled": true,
       "layout": "IPY_MODEL_71bfa148fa804f9598ef1c2980b31d63",
       "style": "IPY_MODEL_21dc5da2050f4cb0981449e373c2e788"
      }
     },
     "3ad9e49a65ec448abceefd0be67f49ff": {
      "model_module": "@jupyter-widgets/controls",
      "model_module_version": "1.5.0",
      "model_name": "LabelModel",
      "state": {
       "layout": "IPY_MODEL_6b02ec8a1a234e928fed5763c6878683",
       "style": "IPY_MODEL_4d8ee25bd8be486fb2d66a94fc135807"
      }
     },
     "3b6835b08df2403d9f90adbd0daac717": {
      "model_module": "@jupyter-widgets/base",
      "model_module_version": "1.2.0",
      "model_name": "LayoutModel",
      "state": {}
     },
     "3bc8aae9b01a46a39dc67eab46465df0": {
      "model_module": "@jupyter-widgets/controls",
      "model_module_version": "1.5.0",
      "model_name": "DescriptionStyleModel",
      "state": {
       "description_width": ""
      }
     },
     "3c00b5c3873943a6943c17189fc20507": {
      "model_module": "@jupyter-widgets/base",
      "model_module_version": "1.2.0",
      "model_name": "LayoutModel",
      "state": {
       "width": "auto"
      }
     },
     "3c50dfbaccaf4008bce53ffcb49e869c": {
      "model_module": "@jupyter-widgets/base",
      "model_module_version": "1.2.0",
      "model_name": "LayoutModel",
      "state": {}
     },
     "3cb9c8956dbf45ef871f939369a2dd46": {
      "model_module": "@jupyter-widgets/controls",
      "model_module_version": "1.5.0",
      "model_name": "HBoxModel",
      "state": {
       "children": [
        "IPY_MODEL_2887d0620b724f8f830067ab68514ea0",
        "IPY_MODEL_3404f8ce44f44ff5999150465526c739",
        "IPY_MODEL_778a3ebd5afa4e77ac35fecb8a094d0d"
       ],
       "layout": "IPY_MODEL_274f533964b5435887d38d21d4ceae77"
      }
     },
     "3ccbe9d6a0fa42ea8cae0a4113a2824e": {
      "model_module": "@jupyter-widgets/base",
      "model_module_version": "1.2.0",
      "model_name": "LayoutModel",
      "state": {
       "display": "flex",
       "flex_flow": "row",
       "justify_content": "space-between",
       "margin": "0 0 20px 0"
      }
     },
     "3ccffd17b06148899e86a0e753ca691b": {
      "model_module": "@jupyter-widgets/controls",
      "model_module_version": "1.5.0",
      "model_name": "HBoxModel",
      "state": {
       "children": [
        "IPY_MODEL_df89fea4cadf4f43a6326a64c1075a37",
        "IPY_MODEL_24682e5a5c22462db9da82b7dd68708c",
        "IPY_MODEL_6d9a43b9f0d24315b6e9cc133b3d6e69"
       ],
       "layout": "IPY_MODEL_d3df8479b4a644f1a0c98ca79ce34118"
      }
     },
     "3cd4bc782d604506b4fb30f24dbeac57": {
      "model_module": "@jupyter-widgets/controls",
      "model_module_version": "1.5.0",
      "model_name": "ButtonStyleModel",
      "state": {
       "button_color": "#4DD0E1"
      }
     },
     "3de74e6f65de4f009fdda273279367f3": {
      "model_module": "@jupyter-widgets/controls",
      "model_module_version": "1.5.0",
      "model_name": "ButtonStyleModel",
      "state": {
       "button_color": "#4DD0E1"
      }
     },
     "3e0697f7b7a24505b7b4aec0caa43f45": {
      "model_module": "@jupyter-widgets/controls",
      "model_module_version": "1.5.0",
      "model_name": "TextModel",
      "state": {
       "layout": "IPY_MODEL_abce89ffc1b5447c902421653756a598",
       "placeholder": "",
       "style": "IPY_MODEL_c6d9f8565a0740e58711f8cd8565bfcd"
      }
     },
     "3e1bd428e3c14df1b062abf80dbc70b0": {
      "model_module": "@jupyter-widgets/controls",
      "model_module_version": "1.5.0",
      "model_name": "ButtonStyleModel",
      "state": {
       "button_color": "#4DD0E1"
      }
     },
     "3e74ca03d1c1494785eaf9c5db2a274b": {
      "model_module": "@jupyter-widgets/base",
      "model_module_version": "1.2.0",
      "model_name": "LayoutModel",
      "state": {}
     },
     "3ebaad801c1a4da8976dcf0f40fe6d4b": {
      "model_module": "@jupyter-widgets/base",
      "model_module_version": "1.2.0",
      "model_name": "LayoutModel",
      "state": {
       "align_items": "stretch",
       "display": "flex",
       "flex_flow": "column",
       "width": "100%"
      }
     },
     "3f0161f88c0341c79e76ee3c87f205d0": {
      "model_module": "@jupyter-widgets/controls",
      "model_module_version": "1.5.0",
      "model_name": "TextModel",
      "state": {
       "layout": "IPY_MODEL_a0911b55c90f486b8090e93c9da74602",
       "placeholder": "1",
       "style": "IPY_MODEL_ce735f6407b74947a8952658f9ac57a4"
      }
     },
     "3f7ac0fd1e584e9a8c8384fcacbd9d6b": {
      "model_module": "@jupyter-widgets/base",
      "model_module_version": "1.2.0",
      "model_name": "LayoutModel",
      "state": {}
     },
     "3fab95dd882d4e58be799f2fcf736a08": {
      "model_module": "@jupyter-widgets/base",
      "model_module_version": "1.2.0",
      "model_name": "LayoutModel",
      "state": {}
     },
     "406bbea5a9344d8eb9cb22db23df7d3d": {
      "model_module": "@jupyter-widgets/controls",
      "model_module_version": "1.5.0",
      "model_name": "ButtonModel",
      "state": {
       "description": "Show answer",
       "disabled": true,
       "layout": "IPY_MODEL_d75e06a4380c417a8dc3fd3488bc4b0f",
       "style": "IPY_MODEL_0add5cc301fd4364907c88a14f0a6ba9"
      }
     },
     "40df7a65caf241b499bc747a5be15679": {
      "model_module": "@jupyter-widgets/controls",
      "model_module_version": "1.5.0",
      "model_name": "DescriptionStyleModel",
      "state": {
       "description_width": ""
      }
     },
     "41118be166b149aab1d5ed0012f18b52": {
      "model_module": "@jupyter-widgets/controls",
      "model_module_version": "1.5.0",
      "model_name": "HTMLModel",
      "state": {
       "layout": "IPY_MODEL_3209548bd9a84336922b397af28f68ba",
       "style": "IPY_MODEL_1eb7c3d75c3d4cc7b46213040a2d7265",
       "value": "<style>p{word-wrap: break-word}</style> <p>. </p>"
      }
     },
     "418c09d6c88b4786a57ffe874446487f": {
      "model_module": "@jupyter-widgets/controls",
      "model_module_version": "1.5.0",
      "model_name": "DescriptionStyleModel",
      "state": {
       "description_width": ""
      }
     },
     "41a3f4775e604f2486cd1f51d59edaf8": {
      "model_module": "@jupyter-widgets/base",
      "model_module_version": "1.2.0",
      "model_name": "LayoutModel",
      "state": {}
     },
     "42dbd98d010c42ec89c7fb0257ab1784": {
      "model_module": "@jupyter-widgets/base",
      "model_module_version": "1.2.0",
      "model_name": "LayoutModel",
      "state": {
       "height": "50%",
       "margin": "0 0 0 30px",
       "width": "50%"
      }
     },
     "43a2a2cd4e6a40a685b8afbcf8393769": {
      "model_module": "@jupyter-widgets/controls",
      "model_module_version": "1.5.0",
      "model_name": "TextModel",
      "state": {
       "layout": "IPY_MODEL_ee8655d7ea7e4ea6bfa27685be5eb5d4",
       "placeholder": "",
       "style": "IPY_MODEL_1725936eea3a41e69dd723f8f99b9f74"
      }
     },
     "43b0db6d5a504602b72016884b3fe833": {
      "model_module": "@jupyter-widgets/base",
      "model_module_version": "1.2.0",
      "model_name": "LayoutModel",
      "state": {
       "align_items": "stretch",
       "display": "flex",
       "flex_flow": "row wrap",
       "width": "auto"
      }
     },
     "43cf39e4e8df49e498693f406a84afef": {
      "model_module": "@jupyter-widgets/controls",
      "model_module_version": "1.5.0",
      "model_name": "HTMLModel",
      "state": {
       "layout": "IPY_MODEL_afdd6b028ae2421c93c2054ac5fe0a67",
       "style": "IPY_MODEL_dcbae3e23c1b40379ec9345553776932",
       "value": "<style>p{word-wrap: break-word}</style> <p>. </p>"
      }
     },
     "43d218e6a02344b7950dd2c7c22be1a5": {
      "model_module": "@jupyter-widgets/controls",
      "model_module_version": "1.5.0",
      "model_name": "HTMLModel",
      "state": {
       "layout": "IPY_MODEL_cbe4d529fab447ab994e783a3df42387",
       "style": "IPY_MODEL_92b0cbefe1b74be5a735c541a55bb709",
       "value": "<style>p{word-wrap: break-word}</style> <p>The *length* of the longest increasing subsequence of [4,3,2,1] is:  </p>"
      }
     },
     "43f5db07cc8d409e88adf420ae277845": {
      "model_module": "@jupyter-widgets/controls",
      "model_module_version": "1.5.0",
      "model_name": "DescriptionStyleModel",
      "state": {
       "description_width": ""
      }
     },
     "4445daedc7c54e20ab7435970b1edc84": {
      "model_module": "@jupyter-widgets/controls",
      "model_module_version": "1.5.0",
      "model_name": "HTMLModel",
      "state": {
       "layout": "IPY_MODEL_7ea2dd445bfd4676a518e88e751f4f5e",
       "style": "IPY_MODEL_1237852d1de0415da78b8578684cb900",
       "value": "<style>p{word-wrap: break-word}</style> <p>. </p>"
      }
     },
     "4454074a26dc462f9ba2f7ee5aa25cba": {
      "model_module": "@jupyter-widgets/controls",
      "model_module_version": "1.5.0",
      "model_name": "ButtonModel",
      "state": {
       "description": "Submit",
       "layout": "IPY_MODEL_99b530ad303a43d9a67c393889a79453",
       "style": "IPY_MODEL_3cd4bc782d604506b4fb30f24dbeac57"
      }
     },
     "452c3031f991421a816d81be0bc9081a": {
      "model_module": "@jupyter-widgets/base",
      "model_module_version": "1.2.0",
      "model_name": "LayoutModel",
      "state": {
       "align_items": "stretch",
       "display": "flex",
       "flex_flow": "row wrap",
       "width": "auto"
      }
     },
     "458006c7a0bd4fec88a96f64540451e9": {
      "model_module": "@jupyter-widgets/base",
      "model_module_version": "1.2.0",
      "model_name": "LayoutModel",
      "state": {
       "border": "1px solid #81C784",
       "height": "31px",
       "width": "auto"
      }
     },
     "459620a0fcbd4255ac596f6e0007a2f5": {
      "model_module": "@jupyter-widgets/controls",
      "model_module_version": "1.5.0",
      "model_name": "HTMLModel",
      "state": {
       "layout": "IPY_MODEL_58c9d022249d4d0da8cea8c948bcc5fd",
       "style": "IPY_MODEL_8079f1f1cf044a34a534056260f7335d",
       "value": "<style>p{word-wrap: break-word}</style> <p>Fill in the blanks with a number or the subsequence written in square brackets like this [1,2,3]  </p>"
      }
     },
     "469b4d16506c4861a36dab6e717597eb": {
      "model_module": "@jupyter-widgets/base",
      "model_module_version": "1.2.0",
      "model_name": "LayoutModel",
      "state": {
       "display": "flex",
       "flex_flow": "row",
       "justify_content": "space-between",
       "margin": "0 0 20px 0"
      }
     },
     "46d7046593fa4a5e88bbb653a693f0b3": {
      "model_module": "@jupyter-widgets/base",
      "model_module_version": "1.2.0",
      "model_name": "LayoutModel",
      "state": {
       "display": "flex",
       "flex_flow": "row",
       "justify_content": "space-between",
       "margin": "0 0 20px 0"
      }
     },
     "47a4d3f431784e42a58519f2246c7cde": {
      "model_module": "@jupyter-widgets/controls",
      "model_module_version": "1.5.0",
      "model_name": "HBoxModel",
      "state": {
       "children": [
        "IPY_MODEL_d36048124f2d4c04978ab577063aa479",
        "IPY_MODEL_bb15a95a05be4c1cb7b3f0233ce3a4f6",
        "IPY_MODEL_52bbbb274678489ba6a95448966516c0"
       ],
       "layout": "IPY_MODEL_c5324c31d0034ab68cdd73a1ab75fdd5"
      }
     },
     "47eb243b99404764bc6010abd7435109": {
      "model_module": "@jupyter-widgets/base",
      "model_module_version": "1.2.0",
      "model_name": "LayoutModel",
      "state": {
       "align_items": "stretch",
       "display": "flex",
       "flex_flow": "column",
       "width": "100%"
      }
     },
     "48966748122044eeb029cb4b5982dcd7": {
      "model_module": "@jupyter-widgets/controls",
      "model_module_version": "1.5.0",
      "model_name": "TextModel",
      "state": {
       "layout": "IPY_MODEL_9ba7144a363245e5898c9eec5ec1e641",
       "placeholder": "[4,5,6]",
       "style": "IPY_MODEL_67c21a343f1a46bfac99929d7f67b65d"
      }
     },
     "492c35f408444f1caa2c3c0480521be1": {
      "model_module": "@jupyter-widgets/controls",
      "model_module_version": "1.5.0",
      "model_name": "DescriptionStyleModel",
      "state": {
       "description_width": ""
      }
     },
     "4afe463df99f45e7a4401d4919dcba3f": {
      "model_module": "@jupyter-widgets/base",
      "model_module_version": "1.2.0",
      "model_name": "LayoutModel",
      "state": {}
     },
     "4b458622771e44639d18c1bfb7303472": {
      "model_module": "@jupyter-widgets/controls",
      "model_module_version": "1.5.0",
      "model_name": "DescriptionStyleModel",
      "state": {
       "description_width": ""
      }
     },
     "4bbf11be625a4011a4967630c1997227": {
      "model_module": "@jupyter-widgets/controls",
      "model_module_version": "1.5.0",
      "model_name": "HTMLModel",
      "state": {
       "layout": "IPY_MODEL_ffd458c2a45041acb39bf2f7acc20073",
       "style": "IPY_MODEL_b35e546a47fd4612a74d38c0a7c320d5",
       "value": "<style>p{word-wrap: break-word}</style> <p>. </p>"
      }
     },
     "4c5a4f39a8ef4c7381b8454a6c28249d": {
      "model_module": "@jupyter-widgets/controls",
      "model_module_version": "1.5.0",
      "model_name": "HBoxModel",
      "state": {
       "children": [
        "IPY_MODEL_7236b5617be24d4b97dd51ce51e643b9",
        "IPY_MODEL_7fc2f02129c44609a658ab6041fd5c21",
        "IPY_MODEL_ea318fd463a244a9a02d1d51679ed65b"
       ],
       "layout": "IPY_MODEL_e9fc9de705b54fbaaaafe52adfee0f5e"
      }
     },
     "4d34022c6519443387cc32d458b0879f": {
      "model_module": "@jupyter-widgets/controls",
      "model_module_version": "1.5.0",
      "model_name": "TextModel",
      "state": {
       "layout": "IPY_MODEL_6697f8d8d363429881f231c7772f4247",
       "placeholder": "0",
       "style": "IPY_MODEL_1917119a685a477ba627c0e4a2e07800"
      }
     },
     "4d40a45ef7f647ffaa3bbdfed5013fc4": {
      "model_module": "@jupyter-widgets/controls",
      "model_module_version": "1.5.0",
      "model_name": "TextModel",
      "state": {
       "layout": "IPY_MODEL_88f17edf7c6e4e5c89e2d9420e64eaf8",
       "placeholder": "",
       "style": "IPY_MODEL_90be8c59154c4f70844f823fff38190b"
      }
     },
     "4d81e624f19f4e40960517352074a600": {
      "model_module": "@jupyter-widgets/base",
      "model_module_version": "1.2.0",
      "model_name": "LayoutModel",
      "state": {
       "align_items": "stretch",
       "display": "flex",
       "flex_flow": "row wrap",
       "width": "auto"
      }
     },
     "4d8ee25bd8be486fb2d66a94fc135807": {
      "model_module": "@jupyter-widgets/controls",
      "model_module_version": "1.5.0",
      "model_name": "DescriptionStyleModel",
      "state": {
       "description_width": ""
      }
     },
     "4dabc59bc0d64d6fa321ec6c33dfa2cf": {
      "model_module": "@jupyter-widgets/base",
      "model_module_version": "1.2.0",
      "model_name": "LayoutModel",
      "state": {
       "align_items": "stretch",
       "display": "flex",
       "flex_flow": "row wrap",
       "width": "auto"
      }
     },
     "4ea99fec8a37438786257cc788b41d1a": {
      "model_module": "@jupyter-widgets/controls",
      "model_module_version": "1.5.0",
      "model_name": "TextModel",
      "state": {
       "layout": "IPY_MODEL_882b0ee1a3da45969766921d7e734297",
       "placeholder": "",
       "style": "IPY_MODEL_2b4fd8ee4bbb4b9e92585f5e5756f584"
      }
     },
     "4eafaf614a9e4ad4beae13c7c3679161": {
      "model_module": "@jupyter-widgets/base",
      "model_module_version": "1.2.0",
      "model_name": "LayoutModel",
      "state": {}
     },
     "4ed55a1828564cb2be961056e46b3e2b": {
      "model_module": "@jupyter-widgets/controls",
      "model_module_version": "1.5.0",
      "model_name": "ButtonStyleModel",
      "state": {
       "button_color": "#FFE0B2"
      }
     },
     "4f0ff9164b8a4d898a4d23001bc477c9": {
      "model_module": "@jupyter-widgets/controls",
      "model_module_version": "1.5.0",
      "model_name": "HTMLModel",
      "state": {
       "layout": "IPY_MODEL_add1b4a2c13640b89458afc51129d3fd",
       "style": "IPY_MODEL_aa1c4b0b04a1417a968bb2b1b57703fe",
       "value": "<style>p{word-wrap: break-word}</style> <p>The length of the longest increasing subsequence of [4,3,2,1] is:  </p>"
      }
     },
     "5003a55652824d4fb185ae5ba73cd725": {
      "model_module": "@jupyter-widgets/base",
      "model_module_version": "1.2.0",
      "model_name": "LayoutModel",
      "state": {}
     },
     "501bba37f3204fac961dd671c37ccbee": {
      "model_module": "@jupyter-widgets/controls",
      "model_module_version": "1.5.0",
      "model_name": "VBoxModel",
      "state": {
       "box_style": "info",
       "children": [
        "IPY_MODEL_aa3097090bf246b4a76266edfccc639f",
        "IPY_MODEL_30874cde8780493da1465769d06a511b",
        "IPY_MODEL_a935665a47884f49b012228f456d96b6"
       ],
       "layout": "IPY_MODEL_5613ca6839fc4e8f8d55a6e1c6eeefde"
      }
     },
     "5041ada22f0a4ac28f9f6e0425cb28cc": {
      "model_module": "@jupyter-widgets/controls",
      "model_module_version": "1.5.0",
      "model_name": "DescriptionStyleModel",
      "state": {
       "description_width": ""
      }
     },
     "518183bb65b747ad9f4415754c7e94da": {
      "model_module": "@jupyter-widgets/controls",
      "model_module_version": "1.5.0",
      "model_name": "HTMLModel",
      "state": {
       "layout": "IPY_MODEL_8fe2e2d3650b47068eac5f7da1ca5e71",
       "style": "IPY_MODEL_07913e8a316e4c66a5989e917503416a",
       "value": "<style>p{word-wrap: break-word}</style> <p>The longest increasing subsequence of [4,5,3,2,1] is:  </p>"
      }
     },
     "51fa34c45fb7429ab980e6d3628c39a1": {
      "model_module": "@jupyter-widgets/controls",
      "model_module_version": "1.5.0",
      "model_name": "ButtonModel",
      "state": {
       "description": "Submit",
       "layout": "IPY_MODEL_d64bd7260ea341189dc3e73b093f6383",
       "style": "IPY_MODEL_7bac9ad955c34e06acfabce5064f29ea"
      }
     },
     "5261db3483f74107830ac065e9a7640e": {
      "model_module": "@jupyter-widgets/controls",
      "model_module_version": "1.5.0",
      "model_name": "HTMLModel",
      "state": {
       "layout": "IPY_MODEL_2aa81b3a9a154d8bb7499e2a80236dbc",
       "style": "IPY_MODEL_d27a2047df204439998173c1ea40b920",
       "value": "<style>p{word-wrap: break-word}</style> <p>The longest increasing subsequence of [4,5,3,2,1] is:  </p>"
      }
     },
     "5292becabd6040d786c8012116ecef19": {
      "model_module": "@jupyter-widgets/controls",
      "model_module_version": "1.5.0",
      "model_name": "TextModel",
      "state": {
       "layout": "IPY_MODEL_8096431710f94ae6ab5f30d8d85d965b",
       "placeholder": "",
       "style": "IPY_MODEL_cb53f1a4f00d45d19b31ae5d94c8dcfc"
      }
     },
     "52bbbb274678489ba6a95448966516c0": {
      "model_module": "@jupyter-widgets/controls",
      "model_module_version": "1.5.0",
      "model_name": "ButtonModel",
      "state": {
       "description": "Show answer",
       "disabled": true,
       "layout": "IPY_MODEL_b3b72f5971a54d10a6b39c83d4208e44",
       "style": "IPY_MODEL_b08329886f2d42fea332c4eaf4f0160b"
      }
     },
     "52e24f29f4a4457eafa059a7fd473fa3": {
      "model_module": "@jupyter-widgets/controls",
      "model_module_version": "1.5.0",
      "model_name": "HTMLModel",
      "state": {
       "layout": "IPY_MODEL_91ced189b669461b9dbcc186af3dcb49",
       "style": "IPY_MODEL_f69ece11cd264c4b9c03f1a128fd34b0",
       "value": "<style>p{word-wrap: break-word}</style> <p>. </p>"
      }
     },
     "5338ddfbf8c546e58bf2ef752b70e749": {
      "model_module": "@jupyter-widgets/controls",
      "model_module_version": "1.5.0",
      "model_name": "HBoxModel",
      "state": {
       "children": [
        "IPY_MODEL_c3fd3b4451ea4ed6be35a632e045d497",
        "IPY_MODEL_82697de2dca945a498540bf072cda679",
        "IPY_MODEL_08f63fc1c450487a86f8f28272fd5b84"
       ],
       "layout": "IPY_MODEL_d102947fc14245b98744b391971389c2"
      }
     },
     "541b1f0169384aaebc93f8b71856457c": {
      "model_module": "@jupyter-widgets/base",
      "model_module_version": "1.2.0",
      "model_name": "LayoutModel",
      "state": {
       "width": "auto"
      }
     },
     "542d027b1c584378bb9ebd2e77cca5ff": {
      "model_module": "@jupyter-widgets/base",
      "model_module_version": "1.2.0",
      "model_name": "LayoutModel",
      "state": {
       "align_items": "stretch",
       "display": "flex",
       "flex_flow": "row wrap",
       "width": "auto"
      }
     },
     "5613ca6839fc4e8f8d55a6e1c6eeefde": {
      "model_module": "@jupyter-widgets/base",
      "model_module_version": "1.2.0",
      "model_name": "LayoutModel",
      "state": {
       "align_items": "stretch",
       "display": "flex",
       "flex_flow": "column",
       "width": "100%"
      }
     },
     "575bc498bf1c4deaa8745ceecc1c8ee2": {
      "model_module": "@jupyter-widgets/base",
      "model_module_version": "1.2.0",
      "model_name": "LayoutModel",
      "state": {}
     },
     "576ea98b90db497f986de5438c8e7500": {
      "model_module": "@jupyter-widgets/controls",
      "model_module_version": "1.5.0",
      "model_name": "ButtonModel",
      "state": {
       "description": "Submit",
       "layout": "IPY_MODEL_c5d3ea49a91b4122a2a0e740c9508de8",
       "style": "IPY_MODEL_123aa027dcf943129dc161ac4194d349"
      }
     },
     "5776303e8b34468ca720021a3b06db61": {
      "model_module": "@jupyter-widgets/base",
      "model_module_version": "1.2.0",
      "model_name": "LayoutModel",
      "state": {
       "width": "auto"
      }
     },
     "57fa486ee7394f028f1d293b7bfc6bb7": {
      "model_module": "@jupyter-widgets/controls",
      "model_module_version": "1.5.0",
      "model_name": "DescriptionStyleModel",
      "state": {
       "description_width": ""
      }
     },
     "586b4e6cf504482b9d349412a09ce09d": {
      "model_module": "@jupyter-widgets/controls",
      "model_module_version": "1.5.0",
      "model_name": "ButtonModel",
      "state": {
       "description": "Submit",
       "layout": "IPY_MODEL_941486afb0d64519ad5276907991d363",
       "style": "IPY_MODEL_811971f5652546cc836aa325b72f239b"
      }
     },
     "5876ea9b13ff443fbb3e81014bf72d04": {
      "model_module": "@jupyter-widgets/base",
      "model_module_version": "1.2.0",
      "model_name": "LayoutModel",
      "state": {
       "display": "flex",
       "flex_flow": "row",
       "justify_content": "space-between",
       "margin": "0 0 20px 0"
      }
     },
     "587a8880afdf477094e8f501b4400969": {
      "model_module": "@jupyter-widgets/controls",
      "model_module_version": "1.5.0",
      "model_name": "VBoxModel",
      "state": {
       "box_style": "info",
       "children": [
        "IPY_MODEL_868880501356420fab2bbc799eaad0ff",
        "IPY_MODEL_2ba9d9b3c06443eab932e82941fff5e2",
        "IPY_MODEL_76455b785e824042b1a98da8766cfe0f"
       ],
       "layout": "IPY_MODEL_afec14059c49437193cf59d9994a63c6"
      }
     },
     "58c6515dc4d04431b507b44bf08d6ac1": {
      "model_module": "@jupyter-widgets/controls",
      "model_module_version": "1.5.0",
      "model_name": "DescriptionStyleModel",
      "state": {
       "description_width": ""
      }
     },
     "58c9d022249d4d0da8cea8c948bcc5fd": {
      "model_module": "@jupyter-widgets/base",
      "model_module_version": "1.2.0",
      "model_name": "LayoutModel",
      "state": {}
     },
     "594143702c0f4197904ff375aefc884f": {
      "model_module": "@jupyter-widgets/controls",
      "model_module_version": "1.5.0",
      "model_name": "TextModel",
      "state": {
       "layout": "IPY_MODEL_cb47a87bd0184af4a784a922f97c6f3e",
       "placeholder": "",
       "style": "IPY_MODEL_0c679f1a2a3840e3abf51974af5f4207"
      }
     },
     "595e91fa3374468e98f899e78dca84f8": {
      "model_module": "@jupyter-widgets/controls",
      "model_module_version": "1.5.0",
      "model_name": "HBoxModel",
      "state": {
       "children": [
        "IPY_MODEL_d8708f423a6d485e8e1381c860127ff3",
        "IPY_MODEL_9ad5dfdfd1fc4aa88bc0dcb506b7995f",
        "IPY_MODEL_22888cda438b4f0680385db6d9899b99"
       ],
       "layout": "IPY_MODEL_c8aa8ab351284f29815b28ae9e78fbba"
      }
     },
     "59deadec8ccb4f3788c496b1b2abab57": {
      "model_module": "@jupyter-widgets/controls",
      "model_module_version": "1.5.0",
      "model_name": "HBoxModel",
      "state": {
       "children": [
        "IPY_MODEL_8f5e913b604c4bce927bb8257b2cf598",
        "IPY_MODEL_f8463b64cebf4103a52cc63e4928a373",
        "IPY_MODEL_61bcbe92b8e14ec6ac9b5004ec29b9ce"
       ],
       "layout": "IPY_MODEL_4d81e624f19f4e40960517352074a600"
      }
     },
     "59ee27ca11bb45e0a18b723572f6a1f9": {
      "model_module": "@jupyter-widgets/controls",
      "model_module_version": "1.5.0",
      "model_name": "HBoxModel",
      "state": {
       "children": [
        "IPY_MODEL_5261db3483f74107830ac065e9a7640e",
        "IPY_MODEL_b688309656ed43c995890fca77d9df7f",
        "IPY_MODEL_b5c58ad7fb4c49a6afc670bd35a19f1e"
       ],
       "layout": "IPY_MODEL_ac7c23036e5e4ad59884c2d0c229037a"
      }
     },
     "5a0599d1f215467ca12591e1961325fd": {
      "model_module": "@jupyter-widgets/base",
      "model_module_version": "1.2.0",
      "model_name": "LayoutModel",
      "state": {
       "display": "flex",
       "flex_flow": "row",
       "justify_content": "space-between",
       "margin": "0 0 20px 0"
      }
     },
     "5a456525db0e44aa93d7dd132cd391e1": {
      "model_module": "@jupyter-widgets/controls",
      "model_module_version": "1.5.0",
      "model_name": "ButtonStyleModel",
      "state": {
       "button_color": "#4DD0E1"
      }
     },
     "5ae53c6310d444f689e60efd8077646a": {
      "model_module": "@jupyter-widgets/controls",
      "model_module_version": "1.5.0",
      "model_name": "ButtonModel",
      "state": {
       "description": "Submit again",
       "disabled": true,
       "layout": "IPY_MODEL_1e8be9f612d944a3bc0a7538cad5f41d",
       "style": "IPY_MODEL_4ed55a1828564cb2be961056e46b3e2b"
      }
     },
     "5c57baccd8f04d58aa5378edc1038745": {
      "model_module": "@jupyter-widgets/controls",
      "model_module_version": "1.5.0",
      "model_name": "TextModel",
      "state": {
       "layout": "IPY_MODEL_f1f23ec948c84dbc9113964966de52f7",
       "placeholder": "",
       "style": "IPY_MODEL_353a02891c284aa4bd6855f0eda9bdd7"
      }
     },
     "5c82c712c31d4f818411d05d7cc9d7ea": {
      "model_module": "@jupyter-widgets/controls",
      "model_module_version": "1.5.0",
      "model_name": "HBoxModel",
      "state": {
       "children": [
        "IPY_MODEL_c14eb20b830241a69f08d84c3ade912b"
       ],
       "layout": "IPY_MODEL_469b4d16506c4861a36dab6e717597eb"
      }
     },
     "5cc6ed0978f74e0da652a3da89f5a43e": {
      "model_module": "@jupyter-widgets/controls",
      "model_module_version": "1.5.0",
      "model_name": "TextModel",
      "state": {
       "layout": "IPY_MODEL_75a1130543634b94a13af13a274dada7",
       "placeholder": "",
       "style": "IPY_MODEL_ac37d8ff4845444eab7ecc4ec2f98338"
      }
     },
     "5d241699155c4c7284cc089435c684cc": {
      "model_module": "@jupyter-widgets/controls",
      "model_module_version": "1.5.0",
      "model_name": "HBoxModel",
      "state": {
       "children": [
        "IPY_MODEL_51fa34c45fb7429ab980e6d3628c39a1",
        "IPY_MODEL_f9a8ab8b65e8438296683c7d6be38b85",
        "IPY_MODEL_7b5389153916406faace7e57633b4754"
       ],
       "layout": "IPY_MODEL_e6261f5d22474a9ca0d1d5e8b7aee0c1"
      }
     },
     "5d37578d9f584fb698736eae82b8095e": {
      "model_module": "@jupyter-widgets/controls",
      "model_module_version": "1.5.0",
      "model_name": "TextModel",
      "state": {
       "layout": "IPY_MODEL_7978bd12890743778b680e3f873cfc9c",
       "placeholder": "0",
       "style": "IPY_MODEL_e4ec97c66f7847a7bb7ea61e8aa4e6d5"
      }
     },
     "5df5c68f55dc49e99f13880110d3db63": {
      "model_module": "@jupyter-widgets/controls",
      "model_module_version": "1.5.0",
      "model_name": "DescriptionStyleModel",
      "state": {
       "description_width": ""
      }
     },
     "5ef2c9ad6bc24550b87ed7d3f149363a": {
      "model_module": "@jupyter-widgets/controls",
      "model_module_version": "1.5.0",
      "model_name": "HTMLModel",
      "state": {
       "layout": "IPY_MODEL_41a3f4775e604f2486cd1f51d59edaf8",
       "style": "IPY_MODEL_b55ea507e9834bf892b6c759cb0fe7c5",
       "value": "<style>p{word-wrap: break-word}</style> <p>Fill in the blanks with a number or the subsequence written in square brackets like this [1,2,3]  </p>"
      }
     },
     "5f65c1c142a44015a7bb1faa51dd345d": {
      "model_module": "@jupyter-widgets/controls",
      "model_module_version": "1.5.0",
      "model_name": "TextModel",
      "state": {
       "layout": "IPY_MODEL_b6ea9a475e074d928ac3f8a5ae9ec479",
       "placeholder": "",
       "style": "IPY_MODEL_1ad95ed5a359459b864297786fd840dd"
      }
     },
     "605b19aae6c3429698554366c38dadab": {
      "model_module": "@jupyter-widgets/controls",
      "model_module_version": "1.5.0",
      "model_name": "DescriptionStyleModel",
      "state": {
       "description_width": ""
      }
     },
     "60f843fa1e204c0fa2f3df3467141cba": {
      "model_module": "@jupyter-widgets/base",
      "model_module_version": "1.2.0",
      "model_name": "LayoutModel",
      "state": {}
     },
     "611d7e17ce7143e9b6269e84ef6c1492": {
      "model_module": "@jupyter-widgets/controls",
      "model_module_version": "1.5.0",
      "model_name": "DescriptionStyleModel",
      "state": {
       "description_width": ""
      }
     },
     "61ae90934d9d47208b6a14aaaca3bb11": {
      "model_module": "@jupyter-widgets/controls",
      "model_module_version": "1.5.0",
      "model_name": "ButtonModel",
      "state": {
       "description": "Show answer",
       "disabled": true,
       "layout": "IPY_MODEL_18a4a90476684ca780dc65c5cfa88eef",
       "style": "IPY_MODEL_047da2fee4204ee0b8fe6ec10c4faf92"
      }
     },
     "61bcbe92b8e14ec6ac9b5004ec29b9ce": {
      "model_module": "@jupyter-widgets/controls",
      "model_module_version": "1.5.0",
      "model_name": "HTMLModel",
      "state": {
       "layout": "IPY_MODEL_2e4895f4d0564ed0a7cb0a023d96add6",
       "style": "IPY_MODEL_753deac452ed442ea3b379ed58378866",
       "value": "<style>p{word-wrap: break-word}</style> <p>. </p>"
      }
     },
     "61d5f390b679481689741b9e7831fb55": {
      "model_module": "@jupyter-widgets/controls",
      "model_module_version": "1.5.0",
      "model_name": "HTMLModel",
      "state": {
       "layout": "IPY_MODEL_fc15e5f4194d4335b6edade4127cd9c0",
       "style": "IPY_MODEL_340a780a55424ebb8b2c63671abb93cd",
       "value": "<style>p{word-wrap: break-word}</style> <p>. </p>"
      }
     },
     "62084601fe0649a9ad29a2abe9637ca8": {
      "model_module": "@jupyter-widgets/base",
      "model_module_version": "1.2.0",
      "model_name": "LayoutModel",
      "state": {}
     },
     "6241b3d533304e68b31975b1836a87b2": {
      "model_module": "@jupyter-widgets/controls",
      "model_module_version": "1.5.0",
      "model_name": "HTMLModel",
      "state": {
       "layout": "IPY_MODEL_5003a55652824d4fb185ae5ba73cd725",
       "style": "IPY_MODEL_3bc8aae9b01a46a39dc67eab46465df0",
       "value": "<style>p{word-wrap: break-word}</style> <p>The longest increasing subsequence of [4,5,3,2,1,6] is: </p>"
      }
     },
     "63563c4715f541bdb88bcf4b0957ecf1": {
      "model_module": "@jupyter-widgets/base",
      "model_module_version": "1.2.0",
      "model_name": "LayoutModel",
      "state": {
       "width": "auto"
      }
     },
     "63cd2affe8294edaa2286ad616c968cf": {
      "model_module": "@jupyter-widgets/base",
      "model_module_version": "1.2.0",
      "model_name": "LayoutModel",
      "state": {
       "align_items": "stretch",
       "display": "flex",
       "flex_flow": "row wrap",
       "margin": "30px 0 0 0"
      }
     },
     "64eb4c5303b9403198033a8834af2fbc": {
      "model_module": "@jupyter-widgets/controls",
      "model_module_version": "1.5.0",
      "model_name": "DescriptionStyleModel",
      "state": {
       "description_width": ""
      }
     },
     "6508466bac254ab48a1070bb9a301f60": {
      "model_module": "@jupyter-widgets/base",
      "model_module_version": "1.2.0",
      "model_name": "LayoutModel",
      "state": {
       "align_items": "stretch",
       "display": "flex",
       "flex_flow": "row wrap",
       "width": "auto"
      }
     },
     "65236412b721405998884cf995266905": {
      "model_module": "@jupyter-widgets/base",
      "model_module_version": "1.2.0",
      "model_name": "LayoutModel",
      "state": {}
     },
     "65aca013be1e4bb9bf9cc64b55318d9c": {
      "model_module": "@jupyter-widgets/base",
      "model_module_version": "1.2.0",
      "model_name": "LayoutModel",
      "state": {}
     },
     "65bb99e28bfe4ad1949be872e4c13723": {
      "model_module": "@jupyter-widgets/controls",
      "model_module_version": "1.5.0",
      "model_name": "HBoxModel",
      "state": {
       "children": [
        "IPY_MODEL_09739faf7c44416cae7ee045256becfb",
        "IPY_MODEL_7e6ed187b3954387a2bf16ed46781b70",
        "IPY_MODEL_27d24d71ab8e4b02af2e3c5f3971b6f5",
        "IPY_MODEL_08162462aceb440982da2390f116fa6e"
       ],
       "layout": "IPY_MODEL_a30e447f34d3424992033428c50e293d"
      }
     },
     "65edf53a21564150bdcc93260f99594c": {
      "model_module": "@jupyter-widgets/controls",
      "model_module_version": "1.5.0",
      "model_name": "HTMLModel",
      "state": {
       "layout": "IPY_MODEL_f2e567dafea94db896b77faf397497c2",
       "style": "IPY_MODEL_e01a2f1efb35477981aab3bc89156bb8",
       "value": "<style>p{word-wrap: break-word}</style> <p>The longest increasing subsequence of [4,5,3,2,1,6] is: </p>"
      }
     },
     "6697f8d8d363429881f231c7772f4247": {
      "model_module": "@jupyter-widgets/base",
      "model_module_version": "1.2.0",
      "model_name": "LayoutModel",
      "state": {
       "border": "None",
       "height": "32px",
       "width": "auto"
      }
     },
     "67c21a343f1a46bfac99929d7f67b65d": {
      "model_module": "@jupyter-widgets/controls",
      "model_module_version": "1.5.0",
      "model_name": "DescriptionStyleModel",
      "state": {
       "description_width": ""
      }
     },
     "67e4a9cc3d6f4cbaa40d250e6ebb2203": {
      "model_module": "@jupyter-widgets/controls",
      "model_module_version": "1.5.0",
      "model_name": "HTMLModel",
      "state": {
       "layout": "IPY_MODEL_8927b06ce27c49f5957a62424816e59c",
       "style": "IPY_MODEL_f87ba0338bf84d29b991694277d8e42e",
       "value": "<style>p{word-wrap: break-word}</style> <p>. </p>"
      }
     },
     "692a9fbe8cb24fc583e2eb81bf5e9e7b": {
      "model_module": "@jupyter-widgets/controls",
      "model_module_version": "1.5.0",
      "model_name": "DescriptionStyleModel",
      "state": {
       "description_width": ""
      }
     },
     "6a0df1dd1e814d90aaed7b3b086edfa2": {
      "model_module": "@jupyter-widgets/base",
      "model_module_version": "1.2.0",
      "model_name": "LayoutModel",
      "state": {
       "width": "auto"
      }
     },
     "6a2bd3e125f84d5397a2b1f4ae6e3885": {
      "model_module": "@jupyter-widgets/controls",
      "model_module_version": "1.5.0",
      "model_name": "TextModel",
      "state": {
       "layout": "IPY_MODEL_7a680a66929c49ab8ca173dee03b6228",
       "placeholder": "1",
       "style": "IPY_MODEL_e9b817034ac7485d9578ddd082fb8b42"
      }
     },
     "6b02ec8a1a234e928fed5763c6878683": {
      "model_module": "@jupyter-widgets/base",
      "model_module_version": "1.2.0",
      "model_name": "LayoutModel",
      "state": {
       "height": "50%",
       "margin": "0 0 0 30px",
       "width": "50%"
      }
     },
     "6b0d24b31b3b4ff8ac02d9a8c5f82943": {
      "model_module": "@jupyter-widgets/base",
      "model_module_version": "1.2.0",
      "model_name": "LayoutModel",
      "state": {
       "height": "50%",
       "margin": "0 0 0 30px",
       "width": "50%"
      }
     },
     "6b37a89aa60a404eb16713bae7c4a807": {
      "model_module": "@jupyter-widgets/controls",
      "model_module_version": "1.5.0",
      "model_name": "DescriptionStyleModel",
      "state": {
       "description_width": ""
      }
     },
     "6b43e6c818b64ec0b0feafc367d22ef1": {
      "model_module": "@jupyter-widgets/controls",
      "model_module_version": "1.5.0",
      "model_name": "HTMLModel",
      "state": {
       "layout": "IPY_MODEL_3fab95dd882d4e58be799f2fcf736a08",
       "style": "IPY_MODEL_31b69ad284b04a438424b78e61fe7308",
       "value": "<style>p{word-wrap: break-word}</style> <p>. </p>"
      }
     },
     "6b5d7ad1569048cba15da695b8809688": {
      "model_module": "@jupyter-widgets/controls",
      "model_module_version": "1.5.0",
      "model_name": "DescriptionStyleModel",
      "state": {
       "description_width": ""
      }
     },
     "6c247f90e87f458a8a8cf9d9ccbd242e": {
      "model_module": "@jupyter-widgets/controls",
      "model_module_version": "1.5.0",
      "model_name": "HBoxModel",
      "state": {
       "children": [
        "IPY_MODEL_518183bb65b747ad9f4415754c7e94da",
        "IPY_MODEL_3e0697f7b7a24505b7b4aec0caa43f45",
        "IPY_MODEL_bf709526f5a74c809b0a31fed2c92939"
       ],
       "layout": "IPY_MODEL_9eaf8f5df6144b40bf9e5c128c84bc30"
      }
     },
     "6cae42ec20e8479b86699f25de331584": {
      "model_module": "@jupyter-widgets/controls",
      "model_module_version": "1.5.0",
      "model_name": "HBoxModel",
      "state": {
       "children": [
        "IPY_MODEL_28d6a169ece945e3876abefeec758c71"
       ],
       "layout": "IPY_MODEL_3acaacbcaf094c289837c946ab0209e6"
      }
     },
     "6d2973e96f8a45f68955951cc45e97d6": {
      "model_module": "@jupyter-widgets/controls",
      "model_module_version": "1.5.0",
      "model_name": "HBoxModel",
      "state": {
       "children": [
        "IPY_MODEL_944afbd0cfbb4fb488fd2cd55498fece",
        "IPY_MODEL_ce29a28c0a0f40348200143141a13979",
        "IPY_MODEL_41118be166b149aab1d5ed0012f18b52"
       ],
       "layout": "IPY_MODEL_20291a5fb842414ca44a26279a7dbbb5"
      }
     },
     "6d4bf2b377024e80a1e514407b79954d": {
      "model_module": "@jupyter-widgets/controls",
      "model_module_version": "1.5.0",
      "model_name": "HTMLModel",
      "state": {
       "layout": "IPY_MODEL_89d13a0a268f4975abb1bbecea7bce8b",
       "style": "IPY_MODEL_c4cb4bdffd9549df8bd391e5da7726d9",
       "value": "<style>p{word-wrap: break-word}</style> <p>The longest increasing subsequence of [4,5,3,2,1] is:  </p>"
      }
     },
     "6d9a43b9f0d24315b6e9cc133b3d6e69": {
      "model_module": "@jupyter-widgets/controls",
      "model_module_version": "1.5.0",
      "model_name": "HTMLModel",
      "state": {
       "layout": "IPY_MODEL_f1c9aa237d2646e59ae92e2a027af134",
       "style": "IPY_MODEL_23a42c24916541cbb7b07e5e18dda643",
       "value": "<style>p{word-wrap: break-word}</style> <p>. </p>"
      }
     },
     "6da2f5bdb5fb4d3e8b14debe43b241b3": {
      "model_module": "@jupyter-widgets/base",
      "model_module_version": "1.2.0",
      "model_name": "LayoutModel",
      "state": {
       "align_items": "stretch",
       "display": "flex",
       "flex_flow": "column",
       "width": "100%"
      }
     },
     "6e3ded9be12c49daaef52f9d0e9b0358": {
      "model_module": "@jupyter-widgets/controls",
      "model_module_version": "1.5.0",
      "model_name": "HTMLModel",
      "state": {
       "layout": "IPY_MODEL_c64e9e386e4a43cabbb4fa4f9759c994",
       "style": "IPY_MODEL_09cb8cb0c90244ed8e056e5fea47ee23",
       "value": "<style>p{word-wrap: break-word}</style> <p>. </p>"
      }
     },
     "6e50807b74954a9daac28d28187b3434": {
      "model_module": "@jupyter-widgets/controls",
      "model_module_version": "1.5.0",
      "model_name": "ButtonModel",
      "state": {
       "description": "Show answer",
       "disabled": true,
       "layout": "IPY_MODEL_b41f390bc8f0462a93fa301291a11a0e",
       "style": "IPY_MODEL_5a456525db0e44aa93d7dd132cd391e1"
      }
     },
     "6ea12bb65e154fada9ff0de69d006ce9": {
      "model_module": "@jupyter-widgets/base",
      "model_module_version": "1.2.0",
      "model_name": "LayoutModel",
      "state": {
       "width": "auto"
      }
     },
     "6f77f3fa23b2406a9b49fbde26012a90": {
      "model_module": "@jupyter-widgets/controls",
      "model_module_version": "1.5.0",
      "model_name": "HBoxModel",
      "state": {
       "children": [
        "IPY_MODEL_5ae53c6310d444f689e60efd8077646a",
        "IPY_MODEL_ac635b40439349908febfa2cd1da5c04",
        "IPY_MODEL_aec48e052f7144cea0181f93917b3d3e"
       ],
       "layout": "IPY_MODEL_c8ab10db1a8e4c4b92d1926c3af04906"
      }
     },
     "70e838c3e19345728dd1bc94a893f00c": {
      "model_module": "@jupyter-widgets/controls",
      "model_module_version": "1.5.0",
      "model_name": "HTMLModel",
      "state": {
       "layout": "IPY_MODEL_15faf21854ba493782dd93f377dca3e6",
       "style": "IPY_MODEL_2eed156d2ae14dfa967b33b33d5e2005",
       "value": "<style>p{word-wrap: break-word}</style> <p>. </p>"
      }
     },
     "7104271a29604f4e912aaa667c23f546": {
      "model_module": "@jupyter-widgets/base",
      "model_module_version": "1.2.0",
      "model_name": "LayoutModel",
      "state": {
       "align_items": "stretch",
       "display": "flex",
       "flex_flow": "row wrap",
       "width": "auto"
      }
     },
     "71063fede6d94f8ebac008c8fce9b3e1": {
      "model_module": "@jupyter-widgets/base",
      "model_module_version": "1.2.0",
      "model_name": "LayoutModel",
      "state": {
       "display": "flex",
       "visibility": "hidden"
      }
     },
     "71b6e2fb0861426cbaaf261d38ace08e": {
      "model_module": "@jupyter-widgets/base",
      "model_module_version": "1.2.0",
      "model_name": "LayoutModel",
      "state": {}
     },
     "71bfa148fa804f9598ef1c2980b31d63": {
      "model_module": "@jupyter-widgets/base",
      "model_module_version": "1.2.0",
      "model_name": "LayoutModel",
      "state": {
       "visibility": "hidden"
      }
     },
     "7236b5617be24d4b97dd51ce51e643b9": {
      "model_module": "@jupyter-widgets/controls",
      "model_module_version": "1.5.0",
      "model_name": "HBoxModel",
      "state": {
       "children": [
        "IPY_MODEL_930873325db34175a24420d251ebfa81",
        "IPY_MODEL_e23056e4168941b0be6ee8906f7b9a72",
        "IPY_MODEL_06dea33ed6d04c91a3ebd3d2f7c01844"
       ],
       "layout": "IPY_MODEL_86df9c4451d64c119edc9c52e91471a9"
      }
     },
     "72a08cfff8c040da96c1c2f9bff2e0c8": {
      "model_module": "@jupyter-widgets/base",
      "model_module_version": "1.2.0",
      "model_name": "LayoutModel",
      "state": {
       "height": "50%",
       "margin": "0 0 0 30px",
       "width": "50%"
      }
     },
     "734daa2d7cfc43f1a93724c977c5859e": {
      "model_module": "@jupyter-widgets/controls",
      "model_module_version": "1.5.0",
      "model_name": "HTMLModel",
      "state": {
       "layout": "IPY_MODEL_f474eccaceaf4972a0ebd2a54086421c",
       "style": "IPY_MODEL_19bc633ff5984412bc40b3280c2ed2c4",
       "value": "<style>p{word-wrap: break-word}</style> <p>The longest increasing subsequence of [4,5,3,2,1] is:  </p>"
      }
     },
     "74d5c0970f8d4a00959dd3e947b745e3": {
      "model_module": "@jupyter-widgets/controls",
      "model_module_version": "1.5.0",
      "model_name": "VBoxModel",
      "state": {
       "box_style": "info",
       "children": [
        "IPY_MODEL_27edeb0e22d745009663d84919719d68",
        "IPY_MODEL_c032a56c47c0493bb9b3dd7c67db43c7",
        "IPY_MODEL_5d241699155c4c7284cc089435c684cc"
       ],
       "layout": "IPY_MODEL_e47b6f833efe445784b32a6864089249"
      }
     },
     "753deac452ed442ea3b379ed58378866": {
      "model_module": "@jupyter-widgets/controls",
      "model_module_version": "1.5.0",
      "model_name": "DescriptionStyleModel",
      "state": {
       "description_width": ""
      }
     },
     "75515ab3c77f49b384569a7177abde73": {
      "model_module": "@jupyter-widgets/controls",
      "model_module_version": "1.5.0",
      "model_name": "DescriptionStyleModel",
      "state": {
       "description_width": ""
      }
     },
     "75a1130543634b94a13af13a274dada7": {
      "model_module": "@jupyter-widgets/base",
      "model_module_version": "1.2.0",
      "model_name": "LayoutModel",
      "state": {
       "width": "auto"
      }
     },
     "76455b785e824042b1a98da8766cfe0f": {
      "model_module": "@jupyter-widgets/controls",
      "model_module_version": "1.5.0",
      "model_name": "HBoxModel",
      "state": {
       "children": [
        "IPY_MODEL_ee1e4a1947b94bfeb4b24982e789a5fb",
        "IPY_MODEL_8a71444d9e7c42a5b50ac8eadf6dd2bb",
        "IPY_MODEL_2d9f2cd0b55b4d238e6ced998449fec2"
       ],
       "layout": "IPY_MODEL_0ccd95cfa6054623931f2cbf625b896d"
      }
     },
     "774b669e3cbe4cfebecc8843d852e3ed": {
      "model_module": "@jupyter-widgets/controls",
      "model_module_version": "1.5.0",
      "model_name": "DescriptionStyleModel",
      "state": {
       "description_width": ""
      }
     },
     "778a3ebd5afa4e77ac35fecb8a094d0d": {
      "model_module": "@jupyter-widgets/controls",
      "model_module_version": "1.5.0",
      "model_name": "HTMLModel",
      "state": {
       "layout": "IPY_MODEL_e18591903e364089bf218a4d5c517e95",
       "style": "IPY_MODEL_9149694fb80849a39141c15723ff8dea",
       "value": "<style>p{word-wrap: break-word}</style> <p>. </p>"
      }
     },
     "77a0d54a58a64537b94a829ca686f6dc": {
      "model_module": "@jupyter-widgets/controls",
      "model_module_version": "1.5.0",
      "model_name": "VBoxModel",
      "state": {
       "box_style": "info",
       "children": [
        "IPY_MODEL_6cae42ec20e8479b86699f25de331584",
        "IPY_MODEL_65bb99e28bfe4ad1949be872e4c13723",
        "IPY_MODEL_0e31cdaa484e44d79cb880749240f989"
       ],
       "layout": "IPY_MODEL_a0322698a37f4cd8b27636d3292ad728"
      }
     },
     "77b7024c386b4907ad0fbeaff4be9ea7": {
      "model_module": "@jupyter-widgets/base",
      "model_module_version": "1.2.0",
      "model_name": "LayoutModel",
      "state": {
       "height": "50%",
       "margin": "0 0 0 30px",
       "width": "50%"
      }
     },
     "78008e3e880c445488eed98eba367f82": {
      "model_module": "@jupyter-widgets/controls",
      "model_module_version": "1.5.0",
      "model_name": "HBoxModel",
      "state": {
       "children": [
        "IPY_MODEL_6d4bf2b377024e80a1e514407b79954d",
        "IPY_MODEL_2871e1007374469d85044073ec6ec251",
        "IPY_MODEL_96f871d796944127b9b075cece5be92e"
       ],
       "layout": "IPY_MODEL_998ae915da5c4ba5b0e462f1fa4511fe"
      }
     },
     "781a8aa6834e45ebaa05caa1904bcaa2": {
      "model_module": "@jupyter-widgets/controls",
      "model_module_version": "1.5.0",
      "model_name": "DescriptionStyleModel",
      "state": {
       "description_width": ""
      }
     },
     "781ccc2d2159432aa27c409d37665499": {
      "model_module": "@jupyter-widgets/controls",
      "model_module_version": "1.5.0",
      "model_name": "DescriptionStyleModel",
      "state": {
       "description_width": ""
      }
     },
     "7867dcd29e7e4e76b3f3c2b7299f715b": {
      "model_module": "@jupyter-widgets/controls",
      "model_module_version": "1.5.0",
      "model_name": "HTMLModel",
      "state": {
       "layout": "IPY_MODEL_caa916791ce84bd9b29db8ca8da8dfee",
       "style": "IPY_MODEL_04800ec266ef45b5941f43ef3b773f9e",
       "value": "<style>p{word-wrap: break-word}</style> <p>Fill in the blanks with a number or the subsequence written in square brackets like this [1,2,3]  </p>"
      }
     },
     "7927891bbcce40bc8c38278eca17de81": {
      "model_module": "@jupyter-widgets/controls",
      "model_module_version": "1.5.0",
      "model_name": "DescriptionStyleModel",
      "state": {
       "description_width": ""
      }
     },
     "7978bd12890743778b680e3f873cfc9c": {
      "model_module": "@jupyter-widgets/base",
      "model_module_version": "1.2.0",
      "model_name": "LayoutModel",
      "state": {
       "border": "None",
       "height": "32px",
       "width": "auto"
      }
     },
     "7a680a66929c49ab8ca173dee03b6228": {
      "model_module": "@jupyter-widgets/base",
      "model_module_version": "1.2.0",
      "model_name": "LayoutModel",
      "state": {
       "border": "None",
       "height": "32px",
       "width": "auto"
      }
     },
     "7a6a92b0d7ac4fa793a188c326efd7d7": {
      "model_module": "@jupyter-widgets/base",
      "model_module_version": "1.2.0",
      "model_name": "LayoutModel",
      "state": {
       "align_items": "stretch",
       "display": "flex",
       "flex_flow": "row wrap",
       "width": "auto"
      }
     },
     "7ace321597184985927eb528d4910e92": {
      "model_module": "@jupyter-widgets/controls",
      "model_module_version": "1.5.0",
      "model_name": "HBoxModel",
      "state": {
       "children": [
        "IPY_MODEL_43d218e6a02344b7950dd2c7c22be1a5",
        "IPY_MODEL_3f0161f88c0341c79e76ee3c87f205d0",
        "IPY_MODEL_6e3ded9be12c49daaef52f9d0e9b0358"
       ],
       "layout": "IPY_MODEL_e6e51eb34c534d4eb53dd44372edaed1"
      }
     },
     "7b5389153916406faace7e57633b4754": {
      "model_module": "@jupyter-widgets/controls",
      "model_module_version": "1.5.0",
      "model_name": "ButtonModel",
      "state": {
       "description": "Show answer",
       "disabled": true,
       "layout": "IPY_MODEL_98b9856ab10a47c0ad29a9d3c58e6cc2",
       "style": "IPY_MODEL_3e1bd428e3c14df1b062abf80dbc70b0"
      }
     },
     "7bac9ad955c34e06acfabce5064f29ea": {
      "model_module": "@jupyter-widgets/controls",
      "model_module_version": "1.5.0",
      "model_name": "ButtonStyleModel",
      "state": {
       "button_color": "#4DD0E1"
      }
     },
     "7be846066ad845dfa4d7a2409c51fede": {
      "model_module": "@jupyter-widgets/controls",
      "model_module_version": "1.5.0",
      "model_name": "TextModel",
      "state": {
       "layout": "IPY_MODEL_5776303e8b34468ca720021a3b06db61",
       "placeholder": "",
       "style": "IPY_MODEL_40df7a65caf241b499bc747a5be15679"
      }
     },
     "7bf55e87779342658d4551f66f2fe8eb": {
      "model_module": "@jupyter-widgets/base",
      "model_module_version": "1.2.0",
      "model_name": "LayoutModel",
      "state": {
       "display": "flex",
       "flex_flow": "row",
       "justify_content": "space-between",
       "margin": "0 0 20px 0"
      }
     },
     "7c2b87669d694b5cabdbd9afc2801527": {
      "model_module": "@jupyter-widgets/controls",
      "model_module_version": "1.5.0",
      "model_name": "ButtonModel",
      "state": {
       "description": "Submit again",
       "disabled": true,
       "layout": "IPY_MODEL_389cca3e924948488c1c0793ec80522d",
       "style": "IPY_MODEL_31d7259611134ae2943eeb69dad29736"
      }
     },
     "7e0dc05b36564fef8e4b4c6c5b52c6da": {
      "model_module": "@jupyter-widgets/controls",
      "model_module_version": "1.5.0",
      "model_name": "DescriptionStyleModel",
      "state": {
       "description_width": ""
      }
     },
     "7e6ed187b3954387a2bf16ed46781b70": {
      "model_module": "@jupyter-widgets/controls",
      "model_module_version": "1.5.0",
      "model_name": "HBoxModel",
      "state": {
       "children": [
        "IPY_MODEL_734daa2d7cfc43f1a93724c977c5859e",
        "IPY_MODEL_e51992b1aada424dbc11e329987cb673",
        "IPY_MODEL_08341ed372354eaaa79ff503986a8ac6"
       ],
       "layout": "IPY_MODEL_8397ad3a725b4ed5ab4a721e737db36b"
      }
     },
     "7ea2dd445bfd4676a518e88e751f4f5e": {
      "model_module": "@jupyter-widgets/base",
      "model_module_version": "1.2.0",
      "model_name": "LayoutModel",
      "state": {}
     },
     "7fc2f02129c44609a658ab6041fd5c21": {
      "model_module": "@jupyter-widgets/controls",
      "model_module_version": "1.5.0",
      "model_name": "HBoxModel",
      "state": {
       "children": [
        "IPY_MODEL_e571b42a3843409ca31ef752860d4a0d",
        "IPY_MODEL_a4972090a6fc460abf24f4560f0d9549",
        "IPY_MODEL_181155f49f7c4a94a5caa75709329378"
       ],
       "layout": "IPY_MODEL_b436a0cb92e74c20826ad66a08a4381d"
      }
     },
     "7ff69b9fbd1146eb961be81db44755fc": {
      "model_module": "@jupyter-widgets/controls",
      "model_module_version": "1.5.0",
      "model_name": "DescriptionStyleModel",
      "state": {
       "description_width": ""
      }
     },
     "8011dfbc71014f0ebea20fb772e57864": {
      "model_module": "@jupyter-widgets/controls",
      "model_module_version": "1.5.0",
      "model_name": "HTMLModel",
      "state": {
       "layout": "IPY_MODEL_aa9738ecd73e41469cc08b461b56362e",
       "style": "IPY_MODEL_1e82f7bfc77146bb974fe6f7fa1d428c",
       "value": "<style>p{word-wrap: break-word}</style> <p>. </p>"
      }
     },
     "804f0bc825714d3fb3c4832eead7c3c2": {
      "model_module": "@jupyter-widgets/controls",
      "model_module_version": "1.5.0",
      "model_name": "DescriptionStyleModel",
      "state": {
       "description_width": ""
      }
     },
     "8079f1f1cf044a34a534056260f7335d": {
      "model_module": "@jupyter-widgets/controls",
      "model_module_version": "1.5.0",
      "model_name": "DescriptionStyleModel",
      "state": {
       "description_width": ""
      }
     },
     "8096431710f94ae6ab5f30d8d85d965b": {
      "model_module": "@jupyter-widgets/base",
      "model_module_version": "1.2.0",
      "model_name": "LayoutModel",
      "state": {
       "width": "auto"
      }
     },
     "80e79583a1ff4ba79cad363e35a6634b": {
      "model_module": "@jupyter-widgets/controls",
      "model_module_version": "1.5.0",
      "model_name": "HBoxModel",
      "state": {
       "children": [
        "IPY_MODEL_b4e6c9f3991c404e9268d96b4e43d2c8",
        "IPY_MODEL_59ee27ca11bb45e0a18b723572f6a1f9",
        "IPY_MODEL_cfbc4245056e41b1a305ad95ace62e4c",
        "IPY_MODEL_c909265696e04448b28ebc742783ae20"
       ],
       "layout": "IPY_MODEL_3590ea6aed444fd293df176996fe1945"
      }
     },
     "811971f5652546cc836aa325b72f239b": {
      "model_module": "@jupyter-widgets/controls",
      "model_module_version": "1.5.0",
      "model_name": "ButtonStyleModel",
      "state": {
       "button_color": "#4DD0E1"
      }
     },
     "8193221a01d140af8e40ba169ce3c869": {
      "model_module": "@jupyter-widgets/controls",
      "model_module_version": "1.5.0",
      "model_name": "ButtonModel",
      "state": {
       "description": "Show answer",
       "disabled": true,
       "layout": "IPY_MODEL_1d554c5d341d4107ac0724cdbebded51",
       "style": "IPY_MODEL_3de74e6f65de4f009fdda273279367f3"
      }
     },
     "8197d160aa5f4832bf998a652d4cbe75": {
      "model_module": "@jupyter-widgets/controls",
      "model_module_version": "1.5.0",
      "model_name": "DescriptionStyleModel",
      "state": {
       "description_width": ""
      }
     },
     "821b09ba79074867b827fd4952ab78e3": {
      "model_module": "@jupyter-widgets/controls",
      "model_module_version": "1.5.0",
      "model_name": "HTMLModel",
      "state": {
       "layout": "IPY_MODEL_2c2f4e3e675247dbb9da94607b153852",
       "style": "IPY_MODEL_a3b5aff25f8343809c8ae0696a0c1634",
       "value": "<style>p{word-wrap: break-word}</style> <p>If you draw lines between the equal numbers in the sequences above e.g. 1 with 1, 2 with 2, ..., 6 with 6, how many times would the lines cross?:  </p>"
      }
     },
     "82697de2dca945a498540bf072cda679": {
      "model_module": "@jupyter-widgets/controls",
      "model_module_version": "1.5.0",
      "model_name": "TextModel",
      "state": {
       "layout": "IPY_MODEL_dadb100197d44cffbbffdfc167f790dd",
       "placeholder": "",
       "style": "IPY_MODEL_eeb48eb6dadb454dbd6bd292b964eda2"
      }
     },
     "827491a0ee5f4a9980e30a120574052e": {
      "model_module": "@jupyter-widgets/base",
      "model_module_version": "1.2.0",
      "model_name": "LayoutModel",
      "state": {
       "width": "auto"
      }
     },
     "8397ad3a725b4ed5ab4a721e737db36b": {
      "model_module": "@jupyter-widgets/base",
      "model_module_version": "1.2.0",
      "model_name": "LayoutModel",
      "state": {
       "align_items": "stretch",
       "display": "flex",
       "flex_flow": "row wrap",
       "width": "auto"
      }
     },
     "84773e62980d4041b22927e8b220bd25": {
      "model_module": "@jupyter-widgets/controls",
      "model_module_version": "1.5.0",
      "model_name": "HTMLModel",
      "state": {
       "layout": "IPY_MODEL_3c50dfbaccaf4008bce53ffcb49e869c",
       "style": "IPY_MODEL_e870e44057e545be9ab70995668e9a50",
       "value": "<style>p{word-wrap: break-word}</style> <p>The longest common subsequence between [4,5,3,2,1,6] and [1,2,3,4,5,6] is: </p>"
      }
     },
     "84823089bfea4de98d1d9bc124a123ca": {
      "model_module": "@jupyter-widgets/controls",
      "model_module_version": "1.5.0",
      "model_name": "ButtonStyleModel",
      "state": {
       "button_color": "#FFE0B2"
      }
     },
     "84de062fd5224f8090439f90f177e224": {
      "model_module": "@jupyter-widgets/base",
      "model_module_version": "1.2.0",
      "model_name": "LayoutModel",
      "state": {
       "display": "none"
      }
     },
     "8522e4241a704130991f642e572f3cda": {
      "model_module": "@jupyter-widgets/base",
      "model_module_version": "1.2.0",
      "model_name": "LayoutModel",
      "state": {}
     },
     "86003387fa86436589498598fc55cfa6": {
      "model_module": "@jupyter-widgets/base",
      "model_module_version": "1.2.0",
      "model_name": "LayoutModel",
      "state": {
       "height": "50%",
       "margin": "0 0 0 30px",
       "width": "50%"
      }
     },
     "868880501356420fab2bbc799eaad0ff": {
      "model_module": "@jupyter-widgets/controls",
      "model_module_version": "1.5.0",
      "model_name": "HBoxModel",
      "state": {
       "children": [
        "IPY_MODEL_322ad4936bcc4dcdbb2344e0392ca6ac"
       ],
       "layout": "IPY_MODEL_5876ea9b13ff443fbb3e81014bf72d04"
      }
     },
     "86a23c96fb134996960166438c59a5b4": {
      "model_module": "@jupyter-widgets/base",
      "model_module_version": "1.2.0",
      "model_name": "LayoutModel",
      "state": {}
     },
     "86bf9d78e9cc478db29fc12ee2e2779e": {
      "model_module": "@jupyter-widgets/base",
      "model_module_version": "1.2.0",
      "model_name": "LayoutModel",
      "state": {
       "display": "flex",
       "visibility": "hidden"
      }
     },
     "86df9c4451d64c119edc9c52e91471a9": {
      "model_module": "@jupyter-widgets/base",
      "model_module_version": "1.2.0",
      "model_name": "LayoutModel",
      "state": {
       "align_items": "stretch",
       "display": "flex",
       "flex_flow": "row wrap",
       "width": "auto"
      }
     },
     "8794d57f11b543b6b08939c7c5c23dac": {
      "model_module": "@jupyter-widgets/controls",
      "model_module_version": "1.5.0",
      "model_name": "VBoxModel",
      "state": {
       "box_style": "warning",
       "children": [
        "IPY_MODEL_b659f530cf4649c58c8b7d0c09c95b96",
        "IPY_MODEL_f6fc3570b6d34af3b87ff517a0d21cc3",
        "IPY_MODEL_d6e758250129417d84c5a4ce8640b97d"
       ],
       "layout": "IPY_MODEL_eb66b49b8a3640d1a199f1f3176ff93d"
      }
     },
     "87b522cdd24e4ec5b541fce81d7d04c8": {
      "model_module": "@jupyter-widgets/base",
      "model_module_version": "1.2.0",
      "model_name": "LayoutModel",
      "state": {}
     },
     "882b0ee1a3da45969766921d7e734297": {
      "model_module": "@jupyter-widgets/base",
      "model_module_version": "1.2.0",
      "model_name": "LayoutModel",
      "state": {
       "width": "auto"
      }
     },
     "883ae22645ef48e28f5366772b10aaea": {
      "model_module": "@jupyter-widgets/controls",
      "model_module_version": "1.5.0",
      "model_name": "TextModel",
      "state": {
       "layout": "IPY_MODEL_e525946ff9f843ea87e7ef02765bea69",
       "placeholder": "",
       "style": "IPY_MODEL_92aa63f6586e4f43bd5298e50aa3dc4c"
      }
     },
     "889476827ec94318812f61716278985b": {
      "model_module": "@jupyter-widgets/base",
      "model_module_version": "1.2.0",
      "model_name": "LayoutModel",
      "state": {}
     },
     "88b2eaf5a45c4c79817ef3ff292c0e97": {
      "model_module": "@jupyter-widgets/base",
      "model_module_version": "1.2.0",
      "model_name": "LayoutModel",
      "state": {
       "height": "50%",
       "margin": "0 0 0 30px",
       "width": "50%"
      }
     },
     "88cb97230bd1438381f0a11733c0d1f1": {
      "model_module": "@jupyter-widgets/controls",
      "model_module_version": "1.5.0",
      "model_name": "HTMLModel",
      "state": {
       "layout": "IPY_MODEL_d72ca379016f4c548f517d2a9e4db504",
       "style": "IPY_MODEL_cea07bbbc23e466a878069ead6f20a0e",
       "value": "<style>p{word-wrap: break-word}</style> <p>. </p>"
      }
     },
     "88f17edf7c6e4e5c89e2d9420e64eaf8": {
      "model_module": "@jupyter-widgets/base",
      "model_module_version": "1.2.0",
      "model_name": "LayoutModel",
      "state": {
       "width": "auto"
      }
     },
     "8923d77fb94142198a8ee0ee126fc9fb": {
      "model_module": "@jupyter-widgets/controls",
      "model_module_version": "1.5.0",
      "model_name": "DescriptionStyleModel",
      "state": {
       "description_width": ""
      }
     },
     "8927b06ce27c49f5957a62424816e59c": {
      "model_module": "@jupyter-widgets/base",
      "model_module_version": "1.2.0",
      "model_name": "LayoutModel",
      "state": {}
     },
     "896ec4ef82294506a37bc2287ba9c1a6": {
      "model_module": "@jupyter-widgets/base",
      "model_module_version": "1.2.0",
      "model_name": "LayoutModel",
      "state": {
       "width": "auto"
      }
     },
     "89d13a0a268f4975abb1bbecea7bce8b": {
      "model_module": "@jupyter-widgets/base",
      "model_module_version": "1.2.0",
      "model_name": "LayoutModel",
      "state": {}
     },
     "89d57290cdc146278c1e34a94ff248d1": {
      "model_module": "@jupyter-widgets/controls",
      "model_module_version": "1.5.0",
      "model_name": "ButtonStyleModel",
      "state": {
       "button_color": "#4DD0E1"
      }
     },
     "8a71444d9e7c42a5b50ac8eadf6dd2bb": {
      "model_module": "@jupyter-widgets/controls",
      "model_module_version": "1.5.0",
      "model_name": "LabelModel",
      "state": {
       "layout": "IPY_MODEL_0b8b8d299a8d4201a95db2922a0e7229",
       "style": "IPY_MODEL_0bfa97a2d1514ae7857b3209a88af294"
      }
     },
     "8a76e288117f459b8ed1be9c0d7ceb0c": {
      "model_module": "@jupyter-widgets/controls",
      "model_module_version": "1.5.0",
      "model_name": "DescriptionStyleModel",
      "state": {
       "description_width": ""
      }
     },
     "8a9798c134724d0c82e38efa8ee260d5": {
      "model_module": "@jupyter-widgets/base",
      "model_module_version": "1.2.0",
      "model_name": "LayoutModel",
      "state": {
       "width": "auto"
      }
     },
     "8bac326cf50d41b0903181ecb80e3bd1": {
      "model_module": "@jupyter-widgets/controls",
      "model_module_version": "1.5.0",
      "model_name": "HTMLModel",
      "state": {
       "layout": "IPY_MODEL_ffd47a58242e45cf8f408017ca220a76",
       "style": "IPY_MODEL_048d18cb22c74ce2bbcc2e155de892b7",
       "value": "<style>p{word-wrap: break-word}</style> <p>. </p>"
      }
     },
     "8c176f072ac34e2fa69bc4a25fc44663": {
      "model_module": "@jupyter-widgets/base",
      "model_module_version": "1.2.0",
      "model_name": "LayoutModel",
      "state": {}
     },
     "8cdb89edb7d04e89b34ac468300900c0": {
      "model_module": "@jupyter-widgets/base",
      "model_module_version": "1.2.0",
      "model_name": "LayoutModel",
      "state": {
       "display": "flex",
       "flex_flow": "row",
       "justify_content": "space-between",
       "margin": "0 0 20px 0"
      }
     },
     "8cde21ec88f04c6d8cc06f591fc304b4": {
      "model_module": "@jupyter-widgets/controls",
      "model_module_version": "1.5.0",
      "model_name": "HBoxModel",
      "state": {
       "children": [
        "IPY_MODEL_1bb17cd127b144debc43dff5a84ce359",
        "IPY_MODEL_5292becabd6040d786c8012116ecef19",
        "IPY_MODEL_70e838c3e19345728dd1bc94a893f00c"
       ],
       "layout": "IPY_MODEL_c91f2633bfcd42ee82ba198b8daec80c"
      }
     },
     "8d03a283911b4064b9789a3c43bdb972": {
      "model_module": "@jupyter-widgets/base",
      "model_module_version": "1.2.0",
      "model_name": "LayoutModel",
      "state": {
       "align_items": "stretch",
       "display": "flex",
       "flex_flow": "row wrap",
       "margin": "30px 0 0 0"
      }
     },
     "8d0f4344efeb4eda955fe5e3a7f77658": {
      "model_module": "@jupyter-widgets/base",
      "model_module_version": "1.2.0",
      "model_name": "LayoutModel",
      "state": {
       "border": "None",
       "height": "32px",
       "width": "auto"
      }
     },
     "8d3631e1a17c46d3ab25c1dab5d91109": {
      "model_module": "@jupyter-widgets/controls",
      "model_module_version": "1.5.0",
      "model_name": "HTMLModel",
      "state": {
       "layout": "IPY_MODEL_ed34b745891c4ba088d546c4f1a3d188",
       "style": "IPY_MODEL_418c09d6c88b4786a57ffe874446487f",
       "value": "<style>p{word-wrap: break-word}</style> <p>Fill in the blanks with a number or the subsequence written in square brackets like this [1,2,3]  </p>"
      }
     },
     "8d5989d966bf4f229715d17c10ea18cf": {
      "model_module": "@jupyter-widgets/controls",
      "model_module_version": "1.5.0",
      "model_name": "DescriptionStyleModel",
      "state": {
       "description_width": ""
      }
     },
     "8e0ee0b06c234b49b12e1fa91bfb4001": {
      "model_module": "@jupyter-widgets/controls",
      "model_module_version": "1.5.0",
      "model_name": "DescriptionStyleModel",
      "state": {
       "description_width": ""
      }
     },
     "8f1b6e91b4a24ecda624711d87cceaf2": {
      "model_module": "@jupyter-widgets/controls",
      "model_module_version": "1.5.0",
      "model_name": "DescriptionStyleModel",
      "state": {
       "description_width": ""
      }
     },
     "8f5e913b604c4bce927bb8257b2cf598": {
      "model_module": "@jupyter-widgets/controls",
      "model_module_version": "1.5.0",
      "model_name": "HTMLModel",
      "state": {
       "layout": "IPY_MODEL_d69ba2ce545f499a83a2019ab08515ff",
       "style": "IPY_MODEL_380531b5cc5e481d80f39667964ec436",
       "value": "<style>p{word-wrap: break-word}</style> <p>How many times do the lines cross?:  </p>"
      }
     },
     "8f6243fec2a94edea29e0bbccd3df937": {
      "model_module": "@jupyter-widgets/base",
      "model_module_version": "1.2.0",
      "model_name": "LayoutModel",
      "state": {
       "align_items": "stretch",
       "display": "flex",
       "flex_flow": "row wrap",
       "width": "auto"
      }
     },
     "8fda4ea6d9b04bc1bac63f1c3c925213": {
      "model_module": "@jupyter-widgets/controls",
      "model_module_version": "1.5.0",
      "model_name": "DescriptionStyleModel",
      "state": {
       "description_width": ""
      }
     },
     "8fe2e2d3650b47068eac5f7da1ca5e71": {
      "model_module": "@jupyter-widgets/base",
      "model_module_version": "1.2.0",
      "model_name": "LayoutModel",
      "state": {}
     },
     "8ff3cd5b30c641eab52aa27ca3701243": {
      "model_module": "@jupyter-widgets/base",
      "model_module_version": "1.2.0",
      "model_name": "LayoutModel",
      "state": {}
     },
     "9026a98c82164d41a20156d4d29931f3": {
      "model_module": "@jupyter-widgets/base",
      "model_module_version": "1.2.0",
      "model_name": "LayoutModel",
      "state": {
       "height": "50%",
       "margin": "0 0 0 30px",
       "width": "50%"
      }
     },
     "9077bd77c7cc4b1fa46aaecaacb35da4": {
      "model_module": "@jupyter-widgets/base",
      "model_module_version": "1.2.0",
      "model_name": "LayoutModel",
      "state": {
       "border": "None",
       "height": "32px",
       "width": "auto"
      }
     },
     "90be8c59154c4f70844f823fff38190b": {
      "model_module": "@jupyter-widgets/controls",
      "model_module_version": "1.5.0",
      "model_name": "DescriptionStyleModel",
      "state": {
       "description_width": ""
      }
     },
     "9149694fb80849a39141c15723ff8dea": {
      "model_module": "@jupyter-widgets/controls",
      "model_module_version": "1.5.0",
      "model_name": "DescriptionStyleModel",
      "state": {
       "description_width": ""
      }
     },
     "9161cee01e8f4d4cb77caf80128ec890": {
      "model_module": "@jupyter-widgets/controls",
      "model_module_version": "1.5.0",
      "model_name": "HBoxModel",
      "state": {
       "children": [
        "IPY_MODEL_59deadec8ccb4f3788c496b1b2abab57"
       ],
       "layout": "IPY_MODEL_9210e6900f784b498eaac925e689f4ad"
      }
     },
     "919f065bab1945ac859e1796fb56f6ff": {
      "model_module": "@jupyter-widgets/base",
      "model_module_version": "1.2.0",
      "model_name": "LayoutModel",
      "state": {
       "align_items": "stretch",
       "display": "flex",
       "flex_flow": "column",
       "width": "100%"
      }
     },
     "91ced189b669461b9dbcc186af3dcb49": {
      "model_module": "@jupyter-widgets/base",
      "model_module_version": "1.2.0",
      "model_name": "LayoutModel",
      "state": {}
     },
     "9210e6900f784b498eaac925e689f4ad": {
      "model_module": "@jupyter-widgets/base",
      "model_module_version": "1.2.0",
      "model_name": "LayoutModel",
      "state": {
       "align_items": "stretch",
       "display": "flex",
       "flex_flow": "row wrap",
       "width": "auto"
      }
     },
     "92aa63f6586e4f43bd5298e50aa3dc4c": {
      "model_module": "@jupyter-widgets/controls",
      "model_module_version": "1.5.0",
      "model_name": "DescriptionStyleModel",
      "state": {
       "description_width": ""
      }
     },
     "92b0cbefe1b74be5a735c541a55bb709": {
      "model_module": "@jupyter-widgets/controls",
      "model_module_version": "1.5.0",
      "model_name": "DescriptionStyleModel",
      "state": {
       "description_width": ""
      }
     },
     "92ccabcee9e84f5fbd71c5bc893ea0c4": {
      "model_module": "@jupyter-widgets/base",
      "model_module_version": "1.2.0",
      "model_name": "LayoutModel",
      "state": {
       "width": "auto"
      }
     },
     "930873325db34175a24420d251ebfa81": {
      "model_module": "@jupyter-widgets/controls",
      "model_module_version": "1.5.0",
      "model_name": "HTMLModel",
      "state": {
       "layout": "IPY_MODEL_9f1e6649c7c14133918874c0dab6802b",
       "style": "IPY_MODEL_9a7ebc8803904a7ca8d09e62d7610dfa",
       "value": "<style>p{word-wrap: break-word}</style> <p>The *length* of the longest increasing subsequence of [4,3,2,1] is:  </p>"
      }
     },
     "937156770f9349b9bd99c48085a81424": {
      "model_module": "@jupyter-widgets/controls",
      "model_module_version": "1.5.0",
      "model_name": "DescriptionStyleModel",
      "state": {
       "description_width": ""
      }
     },
     "93a2295b4cec448d90f6f5bf867a1238": {
      "model_module": "@jupyter-widgets/controls",
      "model_module_version": "1.5.0",
      "model_name": "ButtonStyleModel",
      "state": {
       "button_color": "#4DD0E1"
      }
     },
     "93ed364cac66426cb0b7e0acf0060ff5": {
      "model_module": "@jupyter-widgets/base",
      "model_module_version": "1.2.0",
      "model_name": "LayoutModel",
      "state": {
       "display": "flex",
       "flex_flow": "row",
       "justify_content": "space-between",
       "margin": "0 0 20px 0"
      }
     },
     "941486afb0d64519ad5276907991d363": {
      "model_module": "@jupyter-widgets/base",
      "model_module_version": "1.2.0",
      "model_name": "LayoutModel",
      "state": {}
     },
     "944afbd0cfbb4fb488fd2cd55498fece": {
      "model_module": "@jupyter-widgets/controls",
      "model_module_version": "1.5.0",
      "model_name": "HTMLModel",
      "state": {
       "layout": "IPY_MODEL_25e655d60b654885bb838fb164147e78",
       "style": "IPY_MODEL_5df5c68f55dc49e99f13880110d3db63",
       "value": "<style>p{word-wrap: break-word}</style> <p>The length of the longest increasing subsequence of [4,3,2,1] is:  </p>"
      }
     },
     "94b2bb4337714257b44b13385ec93545": {
      "model_module": "@jupyter-widgets/controls",
      "model_module_version": "1.5.0",
      "model_name": "DescriptionStyleModel",
      "state": {
       "description_width": ""
      }
     },
     "9540c0751b0e47b8a42ab9d052efd00d": {
      "model_module": "@jupyter-widgets/controls",
      "model_module_version": "1.5.0",
      "model_name": "HBoxModel",
      "state": {
       "children": [
        "IPY_MODEL_f7fed0233d1f47f8bd410793701157ff",
        "IPY_MODEL_aca35e5566384fc0b29a06345c1c25be",
        "IPY_MODEL_6e50807b74954a9daac28d28187b3434"
       ],
       "layout": "IPY_MODEL_63cd2affe8294edaa2286ad616c968cf"
      }
     },
     "960d6ef67d2f49f1acd889d26063fe18": {
      "model_module": "@jupyter-widgets/base",
      "model_module_version": "1.2.0",
      "model_name": "LayoutModel",
      "state": {
       "width": "auto"
      }
     },
     "96c93ff27bd24170aba2e504eced017e": {
      "model_module": "@jupyter-widgets/controls",
      "model_module_version": "1.5.0",
      "model_name": "DescriptionStyleModel",
      "state": {
       "description_width": ""
      }
     },
     "96f871d796944127b9b075cece5be92e": {
      "model_module": "@jupyter-widgets/controls",
      "model_module_version": "1.5.0",
      "model_name": "HTMLModel",
      "state": {
       "layout": "IPY_MODEL_3f7ac0fd1e584e9a8c8384fcacbd9d6b",
       "style": "IPY_MODEL_0c93355019bc475fb9b4ddd81719c480",
       "value": "<style>p{word-wrap: break-word}</style> <p>. </p>"
      }
     },
     "9725123cf162419eb4e3b6a487fbdd5d": {
      "model_module": "@jupyter-widgets/controls",
      "model_module_version": "1.5.0",
      "model_name": "DescriptionStyleModel",
      "state": {
       "description_width": ""
      }
     },
     "97ce0ae297104d5797a4427d5fefa4b4": {
      "model_module": "@jupyter-widgets/controls",
      "model_module_version": "1.5.0",
      "model_name": "HTMLModel",
      "state": {
       "layout": "IPY_MODEL_e27c23452fdd44968702acd72d5fdf47",
       "style": "IPY_MODEL_e430c6ce15fa4406b23f29173c5895c5",
       "value": "<style>p{word-wrap: break-word}</style> <p>Fill in the blanks with a number or the subsequence written in square brackets like this [1,2,3]  </p>"
      }
     },
     "98b9856ab10a47c0ad29a9d3c58e6cc2": {
      "model_module": "@jupyter-widgets/base",
      "model_module_version": "1.2.0",
      "model_name": "LayoutModel",
      "state": {
       "display": "none"
      }
     },
     "99055236d8444b908f2e4335abdd52a2": {
      "model_module": "@jupyter-widgets/controls",
      "model_module_version": "1.5.0",
      "model_name": "DescriptionStyleModel",
      "state": {
       "description_width": ""
      }
     },
     "998ae915da5c4ba5b0e462f1fa4511fe": {
      "model_module": "@jupyter-widgets/base",
      "model_module_version": "1.2.0",
      "model_name": "LayoutModel",
      "state": {
       "align_items": "stretch",
       "display": "flex",
       "flex_flow": "row wrap",
       "width": "auto"
      }
     },
     "99b530ad303a43d9a67c393889a79453": {
      "model_module": "@jupyter-widgets/base",
      "model_module_version": "1.2.0",
      "model_name": "LayoutModel",
      "state": {}
     },
     "9a2ae405f2d241c0b729ea5d23b793d0": {
      "model_module": "@jupyter-widgets/base",
      "model_module_version": "1.2.0",
      "model_name": "LayoutModel",
      "state": {
       "width": "auto"
      }
     },
     "9a7ebc8803904a7ca8d09e62d7610dfa": {
      "model_module": "@jupyter-widgets/controls",
      "model_module_version": "1.5.0",
      "model_name": "DescriptionStyleModel",
      "state": {
       "description_width": ""
      }
     },
     "9aa07078654a4a25a6af2fbb5498ee0d": {
      "model_module": "@jupyter-widgets/controls",
      "model_module_version": "1.5.0",
      "model_name": "HTMLModel",
      "state": {
       "layout": "IPY_MODEL_62084601fe0649a9ad29a2abe9637ca8",
       "style": "IPY_MODEL_1a0e38a7ef8641c1be20fbed997f4790",
       "value": "<style>p{word-wrap: break-word}</style> <p>Write out the longest common subsequence you found above on a piece of paper. Underneath, write out the numbers 1, 2, 3, 4, 5, 6 (in increasing order). Draw a line between each matching number. How many times do the lines cross?:  </p>"
      }
     },
     "9ad262e09105498eb7d5f6b3e8df6938": {
      "model_module": "@jupyter-widgets/controls",
      "model_module_version": "1.5.0",
      "model_name": "HBoxModel",
      "state": {
       "children": [
        "IPY_MODEL_5ef2c9ad6bc24550b87ed7d3f149363a"
       ],
       "layout": "IPY_MODEL_5a0599d1f215467ca12591e1961325fd"
      }
     },
     "9ad5dfdfd1fc4aa88bc0dcb506b7995f": {
      "model_module": "@jupyter-widgets/controls",
      "model_module_version": "1.5.0",
      "model_name": "TextModel",
      "state": {
       "layout": "IPY_MODEL_a510c4c2a1de4a6388ffdaf30a1ee963",
       "placeholder": "[4,5]",
       "style": "IPY_MODEL_b80a1272e758479abbd9cd291fd4645d"
      }
     },
     "9b0fb850653548ee884fd61d25eeb08b": {
      "model_module": "@jupyter-widgets/base",
      "model_module_version": "1.2.0",
      "model_name": "LayoutModel",
      "state": {
       "border": "None",
       "height": "32px",
       "width": "auto"
      }
     },
     "9b15a0dde1434e8b844c3042427c27e1": {
      "model_module": "@jupyter-widgets/base",
      "model_module_version": "1.2.0",
      "model_name": "LayoutModel",
      "state": {
       "width": "auto"
      }
     },
     "9ba7144a363245e5898c9eec5ec1e641": {
      "model_module": "@jupyter-widgets/base",
      "model_module_version": "1.2.0",
      "model_name": "LayoutModel",
      "state": {
       "border": "None",
       "height": "32px",
       "width": "auto"
      }
     },
     "9bc4d61ee5c94cdeb9d79e0e7d439212": {
      "model_module": "@jupyter-widgets/base",
      "model_module_version": "1.2.0",
      "model_name": "LayoutModel",
      "state": {
       "border": "None",
       "height": "32px",
       "width": "auto"
      }
     },
     "9c40f4fe867143a689758e5b3c7feaa7": {
      "model_module": "@jupyter-widgets/base",
      "model_module_version": "1.2.0",
      "model_name": "LayoutModel",
      "state": {
       "align_items": "stretch",
       "display": "flex",
       "flex_flow": "row wrap",
       "width": "auto"
      }
     },
     "9c96178ad2bc4797a5c91d33b03f0d4c": {
      "model_module": "@jupyter-widgets/base",
      "model_module_version": "1.2.0",
      "model_name": "LayoutModel",
      "state": {
       "width": "auto"
      }
     },
     "9d1aae7b879a46a08b7f4d75fbeb7d99": {
      "model_module": "@jupyter-widgets/controls",
      "model_module_version": "1.5.0",
      "model_name": "HBoxModel",
      "state": {
       "children": [
        "IPY_MODEL_dec53e11b2594522b955c839b9935d9a",
        "IPY_MODEL_5cc6ed0978f74e0da652a3da89f5a43e",
        "IPY_MODEL_df16ec92e82740079c5cde3c86420bb1"
       ],
       "layout": "IPY_MODEL_43b0db6d5a504602b72016884b3fe833"
      }
     },
     "9dd12e6df8d9470bbd70579f1a433085": {
      "model_module": "@jupyter-widgets/base",
      "model_module_version": "1.2.0",
      "model_name": "LayoutModel",
      "state": {
       "align_items": "stretch",
       "display": "flex",
       "flex_flow": "column",
       "width": "100%"
      }
     },
     "9e5324e0db444e889933dbc03e941f77": {
      "model_module": "@jupyter-widgets/controls",
      "model_module_version": "1.5.0",
      "model_name": "HBoxModel",
      "state": {
       "children": [
        "IPY_MODEL_e5423a884e914609a90ed12c34878c52",
        "IPY_MODEL_6a2bd3e125f84d5397a2b1f4ae6e3885",
        "IPY_MODEL_67e4a9cc3d6f4cbaa40d250e6ebb2203"
       ],
       "layout": "IPY_MODEL_bdc8bd618bd247598d86349661566ad1"
      }
     },
     "9e6f7fa114d64e67ba737a96639bb6df": {
      "model_module": "@jupyter-widgets/controls",
      "model_module_version": "1.5.0",
      "model_name": "HBoxModel",
      "state": {
       "children": [
        "IPY_MODEL_97ce0ae297104d5797a4427d5fefa4b4"
       ],
       "layout": "IPY_MODEL_7bf55e87779342658d4551f66f2fe8eb"
      }
     },
     "9e6fbf45436e44abad5c855435a22c25": {
      "model_module": "@jupyter-widgets/controls",
      "model_module_version": "1.5.0",
      "model_name": "VBoxModel",
      "state": {
       "box_style": "info",
       "children": [
        "IPY_MODEL_d7521fa2092d437e9d72ef52b5d1ba14",
        "IPY_MODEL_4c5a4f39a8ef4c7381b8454a6c28249d",
        "IPY_MODEL_9540c0751b0e47b8a42ab9d052efd00d"
       ],
       "layout": "IPY_MODEL_1b19a5bbf2444792a3bd530991b44fb9"
      }
     },
     "9eaf8f5df6144b40bf9e5c128c84bc30": {
      "model_module": "@jupyter-widgets/base",
      "model_module_version": "1.2.0",
      "model_name": "LayoutModel",
      "state": {
       "align_items": "stretch",
       "display": "flex",
       "flex_flow": "row wrap",
       "width": "auto"
      }
     },
     "9f1e6649c7c14133918874c0dab6802b": {
      "model_module": "@jupyter-widgets/base",
      "model_module_version": "1.2.0",
      "model_name": "LayoutModel",
      "state": {}
     },
     "a0322698a37f4cd8b27636d3292ad728": {
      "model_module": "@jupyter-widgets/base",
      "model_module_version": "1.2.0",
      "model_name": "LayoutModel",
      "state": {
       "align_items": "stretch",
       "display": "flex",
       "flex_flow": "column",
       "width": "100%"
      }
     },
     "a0496ecc45e248bca54d32082fea3e94": {
      "model_module": "@jupyter-widgets/controls",
      "model_module_version": "1.5.0",
      "model_name": "DescriptionStyleModel",
      "state": {
       "description_width": ""
      }
     },
     "a0911b55c90f486b8090e93c9da74602": {
      "model_module": "@jupyter-widgets/base",
      "model_module_version": "1.2.0",
      "model_name": "LayoutModel",
      "state": {
       "border": "None",
       "height": "32px",
       "width": "auto"
      }
     },
     "a144bf992188436bbb51a66c4df3af7a": {
      "model_module": "@jupyter-widgets/controls",
      "model_module_version": "1.5.0",
      "model_name": "HTMLModel",
      "state": {
       "layout": "IPY_MODEL_314b2ba8f73843cca7a794eafec5f321",
       "style": "IPY_MODEL_8e0ee0b06c234b49b12e1fa91bfb4001",
       "value": "<style>p{word-wrap: break-word}</style> <p>Write out the longest common subsequence you found above on a piece of paper. Underneath, write out the numbers 1, 2, 3, 4, 5, 6 (in increasing order). Draw a line between each matching number. How many times do the lines cross?:  </p>"
      }
     },
     "a14fbfae7a424349989e168f71710e1e": {
      "model_module": "@jupyter-widgets/base",
      "model_module_version": "1.2.0",
      "model_name": "LayoutModel",
      "state": {
       "align_items": "stretch",
       "display": "flex",
       "flex_flow": "row wrap",
       "width": "auto"
      }
     },
     "a1ce7433651f4c29a459c1392fc6f87a": {
      "model_module": "@jupyter-widgets/controls",
      "model_module_version": "1.5.0",
      "model_name": "DescriptionStyleModel",
      "state": {
       "description_width": ""
      }
     },
     "a269beb28f6e4d20bc8bb5401ce2e694": {
      "model_module": "@jupyter-widgets/base",
      "model_module_version": "1.2.0",
      "model_name": "LayoutModel",
      "state": {}
     },
     "a30e447f34d3424992033428c50e293d": {
      "model_module": "@jupyter-widgets/base",
      "model_module_version": "1.2.0",
      "model_name": "LayoutModel",
      "state": {
       "align_items": "stretch",
       "display": "flex",
       "flex_flow": "row wrap",
       "width": "auto"
      }
     },
     "a31292f4b7fc4c88ac21c514b71a8a30": {
      "model_module": "@jupyter-widgets/controls",
      "model_module_version": "1.5.0",
      "model_name": "DescriptionStyleModel",
      "state": {
       "description_width": ""
      }
     },
     "a36847fc489c425cab5c5708202ea1c4": {
      "model_module": "@jupyter-widgets/controls",
      "model_module_version": "1.5.0",
      "model_name": "DescriptionStyleModel",
      "state": {
       "description_width": ""
      }
     },
     "a3b05dca175045d5adaa1c61a8ed5607": {
      "model_module": "@jupyter-widgets/controls",
      "model_module_version": "1.5.0",
      "model_name": "HBoxModel",
      "state": {
       "children": [
        "IPY_MODEL_104a20593f3f4e3680ad9afd6eb13eb9",
        "IPY_MODEL_594143702c0f4197904ff375aefc884f",
        "IPY_MODEL_20eb84e17b854d199a09aeafae19cace"
       ],
       "layout": "IPY_MODEL_112efbdfb80d4169977c8e04cfa1a667"
      }
     },
     "a3b5aff25f8343809c8ae0696a0c1634": {
      "model_module": "@jupyter-widgets/controls",
      "model_module_version": "1.5.0",
      "model_name": "DescriptionStyleModel",
      "state": {
       "description_width": ""
      }
     },
     "a483ee66c8ed46f3964097bf02513ff5": {
      "model_module": "@jupyter-widgets/controls",
      "model_module_version": "1.5.0",
      "model_name": "ButtonStyleModel",
      "state": {
       "button_color": "#FFE0B2"
      }
     },
     "a4972090a6fc460abf24f4560f0d9549": {
      "model_module": "@jupyter-widgets/controls",
      "model_module_version": "1.5.0",
      "model_name": "TextModel",
      "state": {
       "layout": "IPY_MODEL_896ec4ef82294506a37bc2287ba9c1a6",
       "placeholder": "",
       "style": "IPY_MODEL_611d7e17ce7143e9b6269e84ef6c1492"
      }
     },
     "a4ef8d16b99e403b80e14a0659c1224a": {
      "model_module": "@jupyter-widgets/controls",
      "model_module_version": "1.5.0",
      "model_name": "DescriptionStyleModel",
      "state": {
       "description_width": ""
      }
     },
     "a510c4c2a1de4a6388ffdaf30a1ee963": {
      "model_module": "@jupyter-widgets/base",
      "model_module_version": "1.2.0",
      "model_name": "LayoutModel",
      "state": {
       "border": "None",
       "height": "32px",
       "width": "auto"
      }
     },
     "a5cfcd5f42184aa5b137f309250b9201": {
      "model_module": "@jupyter-widgets/base",
      "model_module_version": "1.2.0",
      "model_name": "LayoutModel",
      "state": {}
     },
     "a5d30e29456c42ff9ae9ca95b1abb345": {
      "model_module": "@jupyter-widgets/controls",
      "model_module_version": "1.5.0",
      "model_name": "HTMLModel",
      "state": {
       "layout": "IPY_MODEL_13d410b705074c9298bfccbfe405b244",
       "style": "IPY_MODEL_abfa5635f67b499ea5a7e292a547d39d",
       "value": "<style>p{word-wrap: break-word}</style> <p>. </p>"
      }
     },
     "a61c93ee9b20440eb9f07b87be8c7a56": {
      "model_module": "@jupyter-widgets/base",
      "model_module_version": "1.2.0",
      "model_name": "LayoutModel",
      "state": {}
     },
     "a634f7cade5d4c5bbba68b395514b71a": {
      "model_module": "@jupyter-widgets/controls",
      "model_module_version": "1.5.0",
      "model_name": "TextModel",
      "state": {
       "layout": "IPY_MODEL_ec04bb4b966c4576a457d20b0842d23a",
       "placeholder": "",
       "style": "IPY_MODEL_f47d50a30667485bac353d5d071bdfb9"
      }
     },
     "a7f556ff4b3f416fb1d088d5e106ece9": {
      "model_module": "@jupyter-widgets/base",
      "model_module_version": "1.2.0",
      "model_name": "LayoutModel",
      "state": {
       "align_items": "stretch",
       "display": "flex",
       "flex_flow": "row wrap",
       "width": "auto"
      }
     },
     "a895b08cbe28445bb4ee70cd08ef9cfa": {
      "model_module": "@jupyter-widgets/base",
      "model_module_version": "1.2.0",
      "model_name": "LayoutModel",
      "state": {
       "width": "auto"
      }
     },
     "a8dee289470f47919a25e3f5e20625ad": {
      "model_module": "@jupyter-widgets/controls",
      "model_module_version": "1.5.0",
      "model_name": "ButtonStyleModel",
      "state": {
       "button_color": "#4DD0E1"
      }
     },
     "a935665a47884f49b012228f456d96b6": {
      "model_module": "@jupyter-widgets/controls",
      "model_module_version": "1.5.0",
      "model_name": "HBoxModel",
      "state": {
       "children": [
        "IPY_MODEL_4454074a26dc462f9ba2f7ee5aa25cba",
        "IPY_MODEL_d58653afd62943c6a4eefc86ac11e424",
        "IPY_MODEL_406bbea5a9344d8eb9cb22db23df7d3d"
       ],
       "layout": "IPY_MODEL_1313da5dd2e042faa7055beb7fea6d7a"
      }
     },
     "aa1c4b0b04a1417a968bb2b1b57703fe": {
      "model_module": "@jupyter-widgets/controls",
      "model_module_version": "1.5.0",
      "model_name": "DescriptionStyleModel",
      "state": {
       "description_width": ""
      }
     },
     "aa3097090bf246b4a76266edfccc639f": {
      "model_module": "@jupyter-widgets/controls",
      "model_module_version": "1.5.0",
      "model_name": "HBoxModel",
      "state": {
       "children": [
        "IPY_MODEL_8d3631e1a17c46d3ab25c1dab5d91109"
       ],
       "layout": "IPY_MODEL_3ccbe9d6a0fa42ea8cae0a4113a2824e"
      }
     },
     "aa9738ecd73e41469cc08b461b56362e": {
      "model_module": "@jupyter-widgets/base",
      "model_module_version": "1.2.0",
      "model_name": "LayoutModel",
      "state": {}
     },
     "abce89ffc1b5447c902421653756a598": {
      "model_module": "@jupyter-widgets/base",
      "model_module_version": "1.2.0",
      "model_name": "LayoutModel",
      "state": {
       "width": "auto"
      }
     },
     "abfa5635f67b499ea5a7e292a547d39d": {
      "model_module": "@jupyter-widgets/controls",
      "model_module_version": "1.5.0",
      "model_name": "DescriptionStyleModel",
      "state": {
       "description_width": ""
      }
     },
     "ac37d8ff4845444eab7ecc4ec2f98338": {
      "model_module": "@jupyter-widgets/controls",
      "model_module_version": "1.5.0",
      "model_name": "DescriptionStyleModel",
      "state": {
       "description_width": ""
      }
     },
     "ac529d13fef54824a18137c8c638a1bd": {
      "model_module": "@jupyter-widgets/base",
      "model_module_version": "1.2.0",
      "model_name": "LayoutModel",
      "state": {
       "align_items": "stretch",
       "display": "flex",
       "flex_flow": "row wrap",
       "margin": "30px 0 0 0"
      }
     },
     "ac635b40439349908febfa2cd1da5c04": {
      "model_module": "@jupyter-widgets/controls",
      "model_module_version": "1.5.0",
      "model_name": "LabelModel",
      "state": {
       "layout": "IPY_MODEL_42dbd98d010c42ec89c7fb0257ab1784",
       "style": "IPY_MODEL_4b458622771e44639d18c1bfb7303472"
      }
     },
     "ac7c23036e5e4ad59884c2d0c229037a": {
      "model_module": "@jupyter-widgets/base",
      "model_module_version": "1.2.0",
      "model_name": "LayoutModel",
      "state": {
       "align_items": "stretch",
       "display": "flex",
       "flex_flow": "row wrap",
       "width": "auto"
      }
     },
     "aca35e5566384fc0b29a06345c1c25be": {
      "model_module": "@jupyter-widgets/controls",
      "model_module_version": "1.5.0",
      "model_name": "LabelModel",
      "state": {
       "layout": "IPY_MODEL_77b7024c386b4907ad0fbeaff4be9ea7",
       "style": "IPY_MODEL_b9e175cf6af24203aab45923cbdc3a80"
      }
     },
     "aca8e095731c4bfca52c2bb6e9133dc5": {
      "model_module": "@jupyter-widgets/controls",
      "model_module_version": "1.5.0",
      "model_name": "ButtonModel",
      "state": {
       "description": "Submit",
       "layout": "IPY_MODEL_c3b285994c4e4cb29bb4b91bc00cf658",
       "style": "IPY_MODEL_f2489b414b10442aad9691407316cdde"
      }
     },
     "acd04bd8cbcd4427b5223b960685200e": {
      "model_module": "@jupyter-widgets/controls",
      "model_module_version": "1.5.0",
      "model_name": "DescriptionStyleModel",
      "state": {
       "description_width": ""
      }
     },
     "ad163a265f8d47feb527b9888bb3980a": {
      "model_module": "@jupyter-widgets/base",
      "model_module_version": "1.2.0",
      "model_name": "LayoutModel",
      "state": {}
     },
     "ad3799b361d049caaaeb9153c11e57ff": {
      "model_module": "@jupyter-widgets/base",
      "model_module_version": "1.2.0",
      "model_name": "LayoutModel",
      "state": {}
     },
     "ad979e6716e24303aa9cd7416ccbb055": {
      "model_module": "@jupyter-widgets/base",
      "model_module_version": "1.2.0",
      "model_name": "LayoutModel",
      "state": {}
     },
     "add1b4a2c13640b89458afc51129d3fd": {
      "model_module": "@jupyter-widgets/base",
      "model_module_version": "1.2.0",
      "model_name": "LayoutModel",
      "state": {}
     },
     "ae55ff3582924856920255b75e4f40d0": {
      "model_module": "@jupyter-widgets/controls",
      "model_module_version": "1.5.0",
      "model_name": "ButtonModel",
      "state": {
       "description": "Show answer",
       "disabled": true,
       "layout": "IPY_MODEL_86bf9d78e9cc478db29fc12ee2e2779e",
       "style": "IPY_MODEL_84823089bfea4de98d1d9bc124a123ca"
      }
     },
     "aec48e052f7144cea0181f93917b3d3e": {
      "model_module": "@jupyter-widgets/controls",
      "model_module_version": "1.5.0",
      "model_name": "ButtonModel",
      "state": {
       "description": "Show answer",
       "disabled": true,
       "layout": "IPY_MODEL_d7e1e547bd5040b5a2027e5906063773",
       "style": "IPY_MODEL_a483ee66c8ed46f3964097bf02513ff5"
      }
     },
     "af0f04377e814973bfed97f7a1187587": {
      "model_module": "@jupyter-widgets/controls",
      "model_module_version": "1.5.0",
      "model_name": "HTMLModel",
      "state": {
       "layout": "IPY_MODEL_0fa252caa7e140c28e71730cb7a05702",
       "style": "IPY_MODEL_a0496ecc45e248bca54d32082fea3e94",
       "value": "<style>p{word-wrap: break-word}</style> <p>. </p>"
      }
     },
     "af6a64d933284d2fb5729b25519b48ce": {
      "model_module": "@jupyter-widgets/base",
      "model_module_version": "1.2.0",
      "model_name": "LayoutModel",
      "state": {}
     },
     "afdd6b028ae2421c93c2054ac5fe0a67": {
      "model_module": "@jupyter-widgets/base",
      "model_module_version": "1.2.0",
      "model_name": "LayoutModel",
      "state": {}
     },
     "afec14059c49437193cf59d9994a63c6": {
      "model_module": "@jupyter-widgets/base",
      "model_module_version": "1.2.0",
      "model_name": "LayoutModel",
      "state": {
       "align_items": "stretch",
       "display": "flex",
       "flex_flow": "column",
       "width": "100%"
      }
     },
     "b0162e851e334b13949263fa9bcc894f": {
      "model_module": "@jupyter-widgets/base",
      "model_module_version": "1.2.0",
      "model_name": "LayoutModel",
      "state": {}
     },
     "b08329886f2d42fea332c4eaf4f0160b": {
      "model_module": "@jupyter-widgets/controls",
      "model_module_version": "1.5.0",
      "model_name": "ButtonStyleModel",
      "state": {
       "button_color": "#4DD0E1"
      }
     },
     "b0abf8834fce496098b9b371ffc0d817": {
      "model_module": "@jupyter-widgets/base",
      "model_module_version": "1.2.0",
      "model_name": "LayoutModel",
      "state": {}
     },
     "b228f7ae533a46ebae3d356976ce0439": {
      "model_module": "@jupyter-widgets/controls",
      "model_module_version": "1.5.0",
      "model_name": "DescriptionStyleModel",
      "state": {
       "description_width": ""
      }
     },
     "b26b4ea251c74a5e994ae5738d2887a6": {
      "model_module": "@jupyter-widgets/base",
      "model_module_version": "1.2.0",
      "model_name": "LayoutModel",
      "state": {}
     },
     "b35e546a47fd4612a74d38c0a7c320d5": {
      "model_module": "@jupyter-widgets/controls",
      "model_module_version": "1.5.0",
      "model_name": "DescriptionStyleModel",
      "state": {
       "description_width": ""
      }
     },
     "b3665519ebb343658aaa668288d5d197": {
      "model_module": "@jupyter-widgets/controls",
      "model_module_version": "1.5.0",
      "model_name": "DescriptionStyleModel",
      "state": {
       "description_width": ""
      }
     },
     "b3b72f5971a54d10a6b39c83d4208e44": {
      "model_module": "@jupyter-widgets/base",
      "model_module_version": "1.2.0",
      "model_name": "LayoutModel",
      "state": {
       "display": "none"
      }
     },
     "b3d432b31c4c44c9ab271395af8be11f": {
      "model_module": "@jupyter-widgets/controls",
      "model_module_version": "1.5.0",
      "model_name": "HTMLModel",
      "state": {
       "layout": "IPY_MODEL_b26b4ea251c74a5e994ae5738d2887a6",
       "style": "IPY_MODEL_dd84a78e74b24089a2ab68a3996fa987",
       "value": "<style>p{word-wrap: break-word}</style> <p>How many times do the lines cross?:  </p>"
      }
     },
     "b3ffcb67da2e438a98ddc484e1dc6245": {
      "model_module": "@jupyter-widgets/base",
      "model_module_version": "1.2.0",
      "model_name": "LayoutModel",
      "state": {}
     },
     "b41f390bc8f0462a93fa301291a11a0e": {
      "model_module": "@jupyter-widgets/base",
      "model_module_version": "1.2.0",
      "model_name": "LayoutModel",
      "state": {
       "display": "none"
      }
     },
     "b436a0cb92e74c20826ad66a08a4381d": {
      "model_module": "@jupyter-widgets/base",
      "model_module_version": "1.2.0",
      "model_name": "LayoutModel",
      "state": {
       "align_items": "stretch",
       "display": "flex",
       "flex_flow": "row wrap",
       "width": "auto"
      }
     },
     "b4e6c9f3991c404e9268d96b4e43d2c8": {
      "model_module": "@jupyter-widgets/controls",
      "model_module_version": "1.5.0",
      "model_name": "HBoxModel",
      "state": {
       "children": [
        "IPY_MODEL_4f0ff9164b8a4d898a4d23001bc477c9",
        "IPY_MODEL_22d4f30797eb4037bef96e9d6d43fb57",
        "IPY_MODEL_4bbf11be625a4011a4967630c1997227"
       ],
       "layout": "IPY_MODEL_339082d5229e4c7abd8bfec14a77a1aa"
      }
     },
     "b55ea507e9834bf892b6c759cb0fe7c5": {
      "model_module": "@jupyter-widgets/controls",
      "model_module_version": "1.5.0",
      "model_name": "DescriptionStyleModel",
      "state": {
       "description_width": ""
      }
     },
     "b5bf96e38edf4f34b00e6869ab75ef40": {
      "model_module": "@jupyter-widgets/controls",
      "model_module_version": "1.5.0",
      "model_name": "LabelModel",
      "state": {
       "layout": "IPY_MODEL_1954f520c2b1450ca14b81256a317e20",
       "style": "IPY_MODEL_222cf5955f9847fda5abfa25a969a37b"
      }
     },
     "b5c58ad7fb4c49a6afc670bd35a19f1e": {
      "model_module": "@jupyter-widgets/controls",
      "model_module_version": "1.5.0",
      "model_name": "HTMLModel",
      "state": {
       "layout": "IPY_MODEL_8c176f072ac34e2fa69bc4a25fc44663",
       "style": "IPY_MODEL_99055236d8444b908f2e4335abdd52a2",
       "value": "<style>p{word-wrap: break-word}</style> <p>. </p>"
      }
     },
     "b5d5cbf90ff2423686f5c6547b32e059": {
      "model_module": "@jupyter-widgets/controls",
      "model_module_version": "1.5.0",
      "model_name": "HTMLModel",
      "state": {
       "layout": "IPY_MODEL_fdfb1be4d70b49f9969bd8f52e1fbfe0",
       "style": "IPY_MODEL_9725123cf162419eb4e3b6a487fbdd5d",
       "value": "<style>p{word-wrap: break-word}</style> <p>The longest increasing subsequence of [4,5,3,2,1] is:  </p>"
      }
     },
     "b607b270ce354036a3caec10f9d06d83": {
      "model_module": "@jupyter-widgets/base",
      "model_module_version": "1.2.0",
      "model_name": "LayoutModel",
      "state": {
       "align_items": "stretch",
       "display": "flex",
       "flex_flow": "row wrap",
       "width": "auto"
      }
     },
     "b659f530cf4649c58c8b7d0c09c95b96": {
      "model_module": "@jupyter-widgets/controls",
      "model_module_version": "1.5.0",
      "model_name": "HBoxModel",
      "state": {
       "children": [
        "IPY_MODEL_1dd6f98cdd084bd1873ea556431a447d"
       ],
       "layout": "IPY_MODEL_8cdb89edb7d04e89b34ac468300900c0"
      }
     },
     "b688309656ed43c995890fca77d9df7f": {
      "model_module": "@jupyter-widgets/controls",
      "model_module_version": "1.5.0",
      "model_name": "TextModel",
      "state": {
       "layout": "IPY_MODEL_6a0df1dd1e814d90aaed7b3b086edfa2",
       "placeholder": "",
       "style": "IPY_MODEL_96c93ff27bd24170aba2e504eced017e"
      }
     },
     "b6c2c1cde7f14e2088c4126f78d2b571": {
      "model_module": "@jupyter-widgets/controls",
      "model_module_version": "1.5.0",
      "model_name": "DescriptionStyleModel",
      "state": {
       "description_width": ""
      }
     },
     "b6ea9a475e074d928ac3f8a5ae9ec479": {
      "model_module": "@jupyter-widgets/base",
      "model_module_version": "1.2.0",
      "model_name": "LayoutModel",
      "state": {
       "width": "auto"
      }
     },
     "b701917133a449d6b428bd374e4cc9e5": {
      "model_module": "@jupyter-widgets/controls",
      "model_module_version": "1.5.0",
      "model_name": "DescriptionStyleModel",
      "state": {
       "description_width": ""
      }
     },
     "b70766bd6ac5491b991c22015f37b1ac": {
      "model_module": "@jupyter-widgets/base",
      "model_module_version": "1.2.0",
      "model_name": "LayoutModel",
      "state": {
       "height": "50%",
       "margin": "0 0 0 30px",
       "width": "50%"
      }
     },
     "b72a708f55e14498a40b8ecf3946b49a": {
      "model_module": "@jupyter-widgets/controls",
      "model_module_version": "1.5.0",
      "model_name": "HTMLModel",
      "state": {
       "layout": "IPY_MODEL_c3bd72b620164e4aacb606a9f3b086db",
       "style": "IPY_MODEL_d0d8a834347a478dbd94d6f12e2203ce",
       "value": "<style>p{word-wrap: break-word}</style> <p>On a piece of paper, write out the longest common subsequence between [4,5,3,2,1,6] and [1,2,3,4,5,6]. Underneath, write out the numbers 1, 2, 3, 4, 5, 6 (in increasing order). Draw a line between matching numbers. </p>"
      }
     },
     "b80a1272e758479abbd9cd291fd4645d": {
      "model_module": "@jupyter-widgets/controls",
      "model_module_version": "1.5.0",
      "model_name": "DescriptionStyleModel",
      "state": {
       "description_width": ""
      }
     },
     "b8c71685f8bc4654ae08546841bb6378": {
      "model_module": "@jupyter-widgets/base",
      "model_module_version": "1.2.0",
      "model_name": "LayoutModel",
      "state": {}
     },
     "b9e175cf6af24203aab45923cbdc3a80": {
      "model_module": "@jupyter-widgets/controls",
      "model_module_version": "1.5.0",
      "model_name": "DescriptionStyleModel",
      "state": {
       "description_width": ""
      }
     },
     "ba11f3a1c0a94cf1a90d3be686e9c80b": {
      "model_module": "@jupyter-widgets/controls",
      "model_module_version": "1.5.0",
      "model_name": "HBoxModel",
      "state": {
       "children": [
        "IPY_MODEL_c3788c94fb604f53838347149bef5df5",
        "IPY_MODEL_7be846066ad845dfa4d7a2409c51fede",
        "IPY_MODEL_06a65433df3b4bffb39a3a82d12b1dff"
       ],
       "layout": "IPY_MODEL_8f6243fec2a94edea29e0bbccd3df937"
      }
     },
     "bb15a95a05be4c1cb7b3f0233ce3a4f6": {
      "model_module": "@jupyter-widgets/controls",
      "model_module_version": "1.5.0",
      "model_name": "LabelModel",
      "state": {
       "layout": "IPY_MODEL_b70766bd6ac5491b991c22015f37b1ac",
       "style": "IPY_MODEL_0204f8dab58a46c8b13ddfc4df9c6400"
      }
     },
     "bb60e3af1768452483e1b5e19b35a027": {
      "model_module": "@jupyter-widgets/base",
      "model_module_version": "1.2.0",
      "model_name": "LayoutModel",
      "state": {}
     },
     "bb7c1419325147cd908f62d20dbcad7d": {
      "model_module": "@jupyter-widgets/controls",
      "model_module_version": "1.5.0",
      "model_name": "HTMLModel",
      "state": {
       "layout": "IPY_MODEL_8522e4241a704130991f642e572f3cda",
       "style": "IPY_MODEL_57fa486ee7394f028f1d293b7bfc6bb7",
       "value": "<style>p{word-wrap: break-word}</style> <p>The length of the longest increasing subsequence of [4,3,2,1] is:  </p>"
      }
     },
     "bc7d95df72614162b9cdd0b9695efd19": {
      "model_module": "@jupyter-widgets/base",
      "model_module_version": "1.2.0",
      "model_name": "LayoutModel",
      "state": {
       "border": "None",
       "height": "32px",
       "width": "auto"
      }
     },
     "bdadb82fa15d43858b41d06d53d91f91": {
      "model_module": "@jupyter-widgets/controls",
      "model_module_version": "1.5.0",
      "model_name": "DescriptionStyleModel",
      "state": {
       "description_width": ""
      }
     },
     "bdc63bed1ca14b4b83fc3d015973843f": {
      "model_module": "@jupyter-widgets/controls",
      "model_module_version": "1.5.0",
      "model_name": "HBoxModel",
      "state": {
       "children": [
        "IPY_MODEL_19ef6f13edee424686cb6926a40f1aea",
        "IPY_MODEL_4d40a45ef7f647ffaa3bbdfed5013fc4",
        "IPY_MODEL_0719f2dc91784c82a52d5d527aac676d"
       ],
       "layout": "IPY_MODEL_a14fbfae7a424349989e168f71710e1e"
      }
     },
     "bdc8bd618bd247598d86349661566ad1": {
      "model_module": "@jupyter-widgets/base",
      "model_module_version": "1.2.0",
      "model_name": "LayoutModel",
      "state": {
       "align_items": "stretch",
       "display": "flex",
       "flex_flow": "row wrap",
       "width": "auto"
      }
     },
     "bdda1fb127514c66bb24d8906dea7c81": {
      "model_module": "@jupyter-widgets/base",
      "model_module_version": "1.2.0",
      "model_name": "LayoutModel",
      "state": {}
     },
     "be0de8491be245e1b00ebe6ab813b3ef": {
      "model_module": "@jupyter-widgets/base",
      "model_module_version": "1.2.0",
      "model_name": "LayoutModel",
      "state": {
       "align_items": "stretch",
       "display": "flex",
       "flex_flow": "row wrap",
       "margin": "30px 0 0 0"
      }
     },
     "bf709526f5a74c809b0a31fed2c92939": {
      "model_module": "@jupyter-widgets/controls",
      "model_module_version": "1.5.0",
      "model_name": "HTMLModel",
      "state": {
       "layout": "IPY_MODEL_31f9b8703bea42ed87849ec1e015cfbe",
       "style": "IPY_MODEL_c536dfb7bad6451fbcf09ab9c81ce065",
       "value": "<style>p{word-wrap: break-word}</style> <p>. </p>"
      }
     },
     "bfa9c9cbdf7c46af84b29ed3ba36e903": {
      "model_module": "@jupyter-widgets/base",
      "model_module_version": "1.2.0",
      "model_name": "LayoutModel",
      "state": {}
     },
     "bfb1faa332e040169f3a8d5d8ddb0207": {
      "model_module": "@jupyter-widgets/base",
      "model_module_version": "1.2.0",
      "model_name": "LayoutModel",
      "state": {
       "display": "flex",
       "flex_flow": "row",
       "justify_content": "space-between",
       "margin": "0 0 20px 0"
      }
     },
     "c01f4eec60a74704ad0f86a57ff38e07": {
      "model_module": "@jupyter-widgets/controls",
      "model_module_version": "1.5.0",
      "model_name": "ButtonStyleModel",
      "state": {
       "button_color": "#4DD0E1"
      }
     },
     "c032a56c47c0493bb9b3dd7c67db43c7": {
      "model_module": "@jupyter-widgets/controls",
      "model_module_version": "1.5.0",
      "model_name": "HBoxModel",
      "state": {
       "children": [
        "IPY_MODEL_a3b05dca175045d5adaa1c61a8ed5607",
        "IPY_MODEL_6c247f90e87f458a8a8cf9d9ccbd242e",
        "IPY_MODEL_ba11f3a1c0a94cf1a90d3be686e9c80b"
       ],
       "layout": "IPY_MODEL_7104271a29604f4e912aaa667c23f546"
      }
     },
     "c074bb9f46f44e868471f72841be7403": {
      "model_module": "@jupyter-widgets/controls",
      "model_module_version": "1.5.0",
      "model_name": "HBoxModel",
      "state": {
       "children": [
        "IPY_MODEL_16e23cc62ff44b79aa3cec56d33f3a7d"
       ],
       "layout": "IPY_MODEL_46d7046593fa4a5e88bbb653a693f0b3"
      }
     },
     "c14eb20b830241a69f08d84c3ade912b": {
      "model_module": "@jupyter-widgets/controls",
      "model_module_version": "1.5.0",
      "model_name": "HTMLModel",
      "state": {
       "layout": "IPY_MODEL_ad979e6716e24303aa9cd7416ccbb055",
       "style": "IPY_MODEL_318ebc6d5ee4493eb183b77cac366b41",
       "value": "<style>p{word-wrap: break-word}</style> <p>Fill in the blanks with a number or the subsequence written in square brackets like this [1,2,3]  </p>"
      }
     },
     "c1fbacf4745544f49dc50c5566bfe402": {
      "model_module": "@jupyter-widgets/controls",
      "model_module_version": "1.5.0",
      "model_name": "DescriptionStyleModel",
      "state": {
       "description_width": ""
      }
     },
     "c374b37b83d94eeb86799d10e3570fe0": {
      "model_module": "@jupyter-widgets/controls",
      "model_module_version": "1.5.0",
      "model_name": "DescriptionStyleModel",
      "state": {
       "description_width": ""
      }
     },
     "c3788c94fb604f53838347149bef5df5": {
      "model_module": "@jupyter-widgets/controls",
      "model_module_version": "1.5.0",
      "model_name": "HTMLModel",
      "state": {
       "layout": "IPY_MODEL_bfa9c9cbdf7c46af84b29ed3ba36e903",
       "style": "IPY_MODEL_692a9fbe8cb24fc583e2eb81bf5e9e7b",
       "value": "<style>p{word-wrap: break-word}</style> <p>The longest increasing subsequence of [4,5,3,2,1,6] is: </p>"
      }
     },
     "c3b285994c4e4cb29bb4b91bc00cf658": {
      "model_module": "@jupyter-widgets/base",
      "model_module_version": "1.2.0",
      "model_name": "LayoutModel",
      "state": {}
     },
     "c3bd72b620164e4aacb606a9f3b086db": {
      "model_module": "@jupyter-widgets/base",
      "model_module_version": "1.2.0",
      "model_name": "LayoutModel",
      "state": {}
     },
     "c3e237cd1b14473fb525ea49d9b6f5ae": {
      "model_module": "@jupyter-widgets/base",
      "model_module_version": "1.2.0",
      "model_name": "LayoutModel",
      "state": {}
     },
     "c3fd3b4451ea4ed6be35a632e045d497": {
      "model_module": "@jupyter-widgets/controls",
      "model_module_version": "1.5.0",
      "model_name": "HTMLModel",
      "state": {
       "layout": "IPY_MODEL_b3ffcb67da2e438a98ddc484e1dc6245",
       "style": "IPY_MODEL_2ad98aa508d342bbaff76cc8f39ba3f5",
       "value": "<style>p{word-wrap: break-word}</style> <p>If you draw lines between the equal numbers in the sequences above e.g. 1 with 1, 2 with 2, ..., 6 with 6, how many times would the lines cross?:  </p>"
      }
     },
     "c4286400946147239f82c2366b691ca5": {
      "model_module": "@jupyter-widgets/controls",
      "model_module_version": "1.5.0",
      "model_name": "HBoxModel",
      "state": {
       "children": [
        "IPY_MODEL_d0742cb22cd34e7d8a2b53d90b004629",
        "IPY_MODEL_48966748122044eeb029cb4b5982dcd7",
        "IPY_MODEL_61d5f390b679481689741b9e7831fb55"
       ],
       "layout": "IPY_MODEL_7a6a92b0d7ac4fa793a188c326efd7d7"
      }
     },
     "c45a7d6340ea458d9eaa3333c8a96dec": {
      "model_module": "@jupyter-widgets/controls",
      "model_module_version": "1.5.0",
      "model_name": "HBoxModel",
      "state": {
       "children": [
        "IPY_MODEL_9aa07078654a4a25a6af2fbb5498ee0d",
        "IPY_MODEL_077c7ae999a5430e9b32f35abfa016b6",
        "IPY_MODEL_43cf39e4e8df49e498693f406a84afef"
       ],
       "layout": "IPY_MODEL_041a7221ff104a6c8d88691f84d155f3"
      }
     },
     "c4cb4bdffd9549df8bd391e5da7726d9": {
      "model_module": "@jupyter-widgets/controls",
      "model_module_version": "1.5.0",
      "model_name": "DescriptionStyleModel",
      "state": {
       "description_width": ""
      }
     },
     "c4f425cd3cd845b1988b3489e772754d": {
      "model_module": "@jupyter-widgets/base",
      "model_module_version": "1.2.0",
      "model_name": "LayoutModel",
      "state": {
       "width": "auto"
      }
     },
     "c5324c31d0034ab68cdd73a1ab75fdd5": {
      "model_module": "@jupyter-widgets/base",
      "model_module_version": "1.2.0",
      "model_name": "LayoutModel",
      "state": {
       "align_items": "stretch",
       "display": "flex",
       "flex_flow": "row wrap",
       "margin": "30px 0 0 0"
      }
     },
     "c536dfb7bad6451fbcf09ab9c81ce065": {
      "model_module": "@jupyter-widgets/controls",
      "model_module_version": "1.5.0",
      "model_name": "DescriptionStyleModel",
      "state": {
       "description_width": ""
      }
     },
     "c5ca5dbcd1b34bbfa0c2b8adc04e5ebc": {
      "model_module": "@jupyter-widgets/base",
      "model_module_version": "1.2.0",
      "model_name": "LayoutModel",
      "state": {
       "width": "auto"
      }
     },
     "c5d3ea49a91b4122a2a0e740c9508de8": {
      "model_module": "@jupyter-widgets/base",
      "model_module_version": "1.2.0",
      "model_name": "LayoutModel",
      "state": {}
     },
     "c64b1eea2caa44ad8be48f913c79d75d": {
      "model_module": "@jupyter-widgets/base",
      "model_module_version": "1.2.0",
      "model_name": "LayoutModel",
      "state": {
       "align_items": "stretch",
       "display": "flex",
       "flex_flow": "row wrap",
       "margin": "30px 0 0 0"
      }
     },
     "c64e9e386e4a43cabbb4fa4f9759c994": {
      "model_module": "@jupyter-widgets/base",
      "model_module_version": "1.2.0",
      "model_name": "LayoutModel",
      "state": {}
     },
     "c6567ad9b99c4a7b96b87eea48832ed2": {
      "model_module": "@jupyter-widgets/base",
      "model_module_version": "1.2.0",
      "model_name": "LayoutModel",
      "state": {
       "align_items": "stretch",
       "display": "flex",
       "flex_flow": "column",
       "width": "100%"
      }
     },
     "c6a0bc5eb11b4b2a8c4532d62f1f73cc": {
      "model_module": "@jupyter-widgets/controls",
      "model_module_version": "1.5.0",
      "model_name": "DescriptionStyleModel",
      "state": {
       "description_width": ""
      }
     },
     "c6d9f8565a0740e58711f8cd8565bfcd": {
      "model_module": "@jupyter-widgets/controls",
      "model_module_version": "1.5.0",
      "model_name": "DescriptionStyleModel",
      "state": {
       "description_width": ""
      }
     },
     "c6f36ca4407140d3bd46162c805c2c20": {
      "model_module": "@jupyter-widgets/controls",
      "model_module_version": "1.5.0",
      "model_name": "DescriptionStyleModel",
      "state": {
       "description_width": ""
      }
     },
     "c841065a7ad4421384de0cfe6ef6406f": {
      "model_module": "@jupyter-widgets/controls",
      "model_module_version": "1.5.0",
      "model_name": "ButtonStyleModel",
      "state": {
       "button_color": "#4DD0E1"
      }
     },
     "c8aa8ab351284f29815b28ae9e78fbba": {
      "model_module": "@jupyter-widgets/base",
      "model_module_version": "1.2.0",
      "model_name": "LayoutModel",
      "state": {
       "align_items": "stretch",
       "display": "flex",
       "flex_flow": "row wrap",
       "width": "auto"
      }
     },
     "c8ab10db1a8e4c4b92d1926c3af04906": {
      "model_module": "@jupyter-widgets/base",
      "model_module_version": "1.2.0",
      "model_name": "LayoutModel",
      "state": {
       "align_items": "stretch",
       "display": "flex",
       "flex_flow": "row wrap",
       "margin": "30px 0 0 0"
      }
     },
     "c909265696e04448b28ebc742783ae20": {
      "model_module": "@jupyter-widgets/controls",
      "model_module_version": "1.5.0",
      "model_name": "HBoxModel",
      "state": {
       "children": [
        "IPY_MODEL_a144bf992188436bbb51a66c4df3af7a",
        "IPY_MODEL_11ae0be36c494081a8918b31279ad0e2",
        "IPY_MODEL_fd09561bbedb4aa688ef48f8cc604662"
       ],
       "layout": "IPY_MODEL_cfe826ac94004a33a97e59d76fbd1e44"
      }
     },
     "c91f2633bfcd42ee82ba198b8daec80c": {
      "model_module": "@jupyter-widgets/base",
      "model_module_version": "1.2.0",
      "model_name": "LayoutModel",
      "state": {
       "align_items": "stretch",
       "display": "flex",
       "flex_flow": "row wrap",
       "width": "auto"
      }
     },
     "c9fed10c6f4a44a698b6fdb3d49573b8": {
      "model_module": "@jupyter-widgets/controls",
      "model_module_version": "1.5.0",
      "model_name": "DescriptionStyleModel",
      "state": {
       "description_width": ""
      }
     },
     "ca60a0164e674ec5bf73846a7a38a2b5": {
      "model_module": "@jupyter-widgets/base",
      "model_module_version": "1.2.0",
      "model_name": "LayoutModel",
      "state": {
       "border": "None",
       "height": "32px",
       "width": "auto"
      }
     },
     "ca9353080e05456bafad4e8b231aeb92": {
      "model_module": "@jupyter-widgets/controls",
      "model_module_version": "1.5.0",
      "model_name": "VBoxModel",
      "state": {
       "box_style": "info",
       "children": [
        "IPY_MODEL_c074bb9f46f44e868471f72841be7403",
        "IPY_MODEL_80e79583a1ff4ba79cad363e35a6634b",
        "IPY_MODEL_292c245079714dd7a9a8ecd1f642327e"
       ],
       "layout": "IPY_MODEL_9dd12e6df8d9470bbd70579f1a433085"
      }
     },
     "caa916791ce84bd9b29db8ca8da8dfee": {
      "model_module": "@jupyter-widgets/base",
      "model_module_version": "1.2.0",
      "model_name": "LayoutModel",
      "state": {}
     },
     "cb47a87bd0184af4a784a922f97c6f3e": {
      "model_module": "@jupyter-widgets/base",
      "model_module_version": "1.2.0",
      "model_name": "LayoutModel",
      "state": {
       "width": "auto"
      }
     },
     "cb53f1a4f00d45d19b31ae5d94c8dcfc": {
      "model_module": "@jupyter-widgets/controls",
      "model_module_version": "1.5.0",
      "model_name": "DescriptionStyleModel",
      "state": {
       "description_width": ""
      }
     },
     "cbe4d529fab447ab994e783a3df42387": {
      "model_module": "@jupyter-widgets/base",
      "model_module_version": "1.2.0",
      "model_name": "LayoutModel",
      "state": {}
     },
     "cc1c93e9a929412798639ffae669f6ef": {
      "model_module": "@jupyter-widgets/base",
      "model_module_version": "1.2.0",
      "model_name": "LayoutModel",
      "state": {}
     },
     "ccc933be81fb4420bc82c69f1670d180": {
      "model_module": "@jupyter-widgets/controls",
      "model_module_version": "1.5.0",
      "model_name": "HBoxModel",
      "state": {
       "children": [
        "IPY_MODEL_fb67e837b349419b84c1179a979862b9",
        "IPY_MODEL_2a120b6c28064eb697ba74dbb754ff07",
        "IPY_MODEL_1deac9875b044969b38fed7822cc33de",
        "IPY_MODEL_5338ddfbf8c546e58bf2ef752b70e749"
       ],
       "layout": "IPY_MODEL_e6de751c2a0940698ca4413ac4fa1492"
      }
     },
     "ce1bece1ac4c491c80c95e524f5fb27f": {
      "model_module": "@jupyter-widgets/controls",
      "model_module_version": "1.5.0",
      "model_name": "VBoxModel",
      "state": {
       "box_style": "info",
       "children": [
        "IPY_MODEL_f5c58e5807c24498b355f80314c62ab7",
        "IPY_MODEL_9161cee01e8f4d4cb77caf80128ec890",
        "IPY_MODEL_2d22e00bb14c4c6c87da640d1c4638eb"
       ],
       "layout": "IPY_MODEL_919f065bab1945ac859e1796fb56f6ff"
      }
     },
     "ce29a28c0a0f40348200143141a13979": {
      "model_module": "@jupyter-widgets/controls",
      "model_module_version": "1.5.0",
      "model_name": "TextModel",
      "state": {
       "layout": "IPY_MODEL_e81d77cf9f8c453a9825dea140adf26e",
       "placeholder": "",
       "style": "IPY_MODEL_300db4deb1da4d0481f9153ce5dd8b97"
      }
     },
     "ce735f6407b74947a8952658f9ac57a4": {
      "model_module": "@jupyter-widgets/controls",
      "model_module_version": "1.5.0",
      "model_name": "DescriptionStyleModel",
      "state": {
       "description_width": ""
      }
     },
     "cea07bbbc23e466a878069ead6f20a0e": {
      "model_module": "@jupyter-widgets/controls",
      "model_module_version": "1.5.0",
      "model_name": "DescriptionStyleModel",
      "state": {
       "description_width": ""
      }
     },
     "cfbc4245056e41b1a305ad95ace62e4c": {
      "model_module": "@jupyter-widgets/controls",
      "model_module_version": "1.5.0",
      "model_name": "HBoxModel",
      "state": {
       "children": [
        "IPY_MODEL_241c2698ffa84c988d6c76abc1de6c01",
        "IPY_MODEL_883ae22645ef48e28f5366772b10aaea",
        "IPY_MODEL_d0ed6f114c904161bd9ee9648d311704"
       ],
       "layout": "IPY_MODEL_6508466bac254ab48a1070bb9a301f60"
      }
     },
     "cfe826ac94004a33a97e59d76fbd1e44": {
      "model_module": "@jupyter-widgets/base",
      "model_module_version": "1.2.0",
      "model_name": "LayoutModel",
      "state": {
       "align_items": "stretch",
       "display": "flex",
       "flex_flow": "row wrap",
       "width": "auto"
      }
     },
     "d02a805a5b734817ae00c04b2904913b": {
      "model_module": "@jupyter-widgets/base",
      "model_module_version": "1.2.0",
      "model_name": "LayoutModel",
      "state": {
       "width": "auto"
      }
     },
     "d0406e3050a04a6eae8ee84b8a6ec8a0": {
      "model_module": "@jupyter-widgets/base",
      "model_module_version": "1.2.0",
      "model_name": "LayoutModel",
      "state": {}
     },
     "d0742cb22cd34e7d8a2b53d90b004629": {
      "model_module": "@jupyter-widgets/controls",
      "model_module_version": "1.5.0",
      "model_name": "HTMLModel",
      "state": {
       "layout": "IPY_MODEL_bb60e3af1768452483e1b5e19b35a027",
       "style": "IPY_MODEL_64eb4c5303b9403198033a8834af2fbc",
       "value": "<style>p{word-wrap: break-word}</style> <p>The longest increasing subsequence of [4,5,3,2,1,6] is: </p>"
      }
     },
     "d0d8a834347a478dbd94d6f12e2203ce": {
      "model_module": "@jupyter-widgets/controls",
      "model_module_version": "1.5.0",
      "model_name": "DescriptionStyleModel",
      "state": {
       "description_width": ""
      }
     },
     "d0ed6f114c904161bd9ee9648d311704": {
      "model_module": "@jupyter-widgets/controls",
      "model_module_version": "1.5.0",
      "model_name": "HTMLModel",
      "state": {
       "layout": "IPY_MODEL_bdda1fb127514c66bb24d8906dea7c81",
       "style": "IPY_MODEL_115eba7ec4bf49bf9cefa6aaf9ef4d7d",
       "value": "<style>p{word-wrap: break-word}</style> <p>. </p>"
      }
     },
     "d102947fc14245b98744b391971389c2": {
      "model_module": "@jupyter-widgets/base",
      "model_module_version": "1.2.0",
      "model_name": "LayoutModel",
      "state": {
       "align_items": "stretch",
       "display": "flex",
       "flex_flow": "row wrap",
       "width": "auto"
      }
     },
     "d27a2047df204439998173c1ea40b920": {
      "model_module": "@jupyter-widgets/controls",
      "model_module_version": "1.5.0",
      "model_name": "DescriptionStyleModel",
      "state": {
       "description_width": ""
      }
     },
     "d344af1f4173463da44b7cc443317dc0": {
      "model_module": "@jupyter-widgets/controls",
      "model_module_version": "1.5.0",
      "model_name": "LabelModel",
      "state": {
       "layout": "IPY_MODEL_11a05b13d11d43c0b1410497e94774f4",
       "style": "IPY_MODEL_2ca9597eaa8040f889c4140920a8ef6e"
      }
     },
     "d3548e6d4ae4458088c1ba023dd4a6f9": {
      "model_module": "@jupyter-widgets/controls",
      "model_module_version": "1.5.0",
      "model_name": "HBoxModel",
      "state": {
       "children": [
        "IPY_MODEL_65edf53a21564150bdcc93260f99594c",
        "IPY_MODEL_5c57baccd8f04d58aa5378edc1038745",
        "IPY_MODEL_8011dfbc71014f0ebea20fb772e57864"
       ],
       "layout": "IPY_MODEL_dd7f2c116b394570bb987094c0fb9cc8"
      }
     },
     "d36048124f2d4c04978ab577063aa479": {
      "model_module": "@jupyter-widgets/controls",
      "model_module_version": "1.5.0",
      "model_name": "ButtonModel",
      "state": {
       "description": "Submit",
       "layout": "IPY_MODEL_d58a9383dec049b7a7216ed0afc931be",
       "style": "IPY_MODEL_89d57290cdc146278c1e34a94ff248d1"
      }
     },
     "d3df8479b4a644f1a0c98ca79ce34118": {
      "model_module": "@jupyter-widgets/base",
      "model_module_version": "1.2.0",
      "model_name": "LayoutModel",
      "state": {
       "align_items": "stretch",
       "display": "flex",
       "flex_flow": "row wrap",
       "width": "auto"
      }
     },
     "d3f58196297f48eab1a5b6c4a5794326": {
      "model_module": "@jupyter-widgets/controls",
      "model_module_version": "1.5.0",
      "model_name": "DescriptionStyleModel",
      "state": {
       "description_width": ""
      }
     },
     "d3f6cdbdabe44e55b86cce1389b1b88c": {
      "model_module": "@jupyter-widgets/base",
      "model_module_version": "1.2.0",
      "model_name": "LayoutModel",
      "state": {
       "border": "None",
       "height": "32px",
       "width": "auto"
      }
     },
     "d459409038f642e590ca460e41d89125": {
      "model_module": "@jupyter-widgets/base",
      "model_module_version": "1.2.0",
      "model_name": "LayoutModel",
      "state": {}
     },
     "d58653afd62943c6a4eefc86ac11e424": {
      "model_module": "@jupyter-widgets/controls",
      "model_module_version": "1.5.0",
      "model_name": "LabelModel",
      "state": {
       "layout": "IPY_MODEL_9026a98c82164d41a20156d4d29931f3",
       "style": "IPY_MODEL_2e7e53b0ff2f441196cfc1977445547b"
      }
     },
     "d58a9383dec049b7a7216ed0afc931be": {
      "model_module": "@jupyter-widgets/base",
      "model_module_version": "1.2.0",
      "model_name": "LayoutModel",
      "state": {}
     },
     "d615248b3ec54b4ea7ccee9699dafc59": {
      "model_module": "@jupyter-widgets/controls",
      "model_module_version": "1.5.0",
      "model_name": "DescriptionStyleModel",
      "state": {
       "description_width": ""
      }
     },
     "d64bd7260ea341189dc3e73b093f6383": {
      "model_module": "@jupyter-widgets/base",
      "model_module_version": "1.2.0",
      "model_name": "LayoutModel",
      "state": {}
     },
     "d6938754f1924422951a33d8ca7913dd": {
      "model_module": "@jupyter-widgets/controls",
      "model_module_version": "1.5.0",
      "model_name": "VBoxModel",
      "state": {
       "box_style": "info",
       "children": [
        "IPY_MODEL_9ad262e09105498eb7d5f6b3e8df6938",
        "IPY_MODEL_0171aabde8634b46ab22a368a3e5f3aa",
        "IPY_MODEL_f40519c47dd144be963c3995f5cb395f"
       ],
       "layout": "IPY_MODEL_3ebaad801c1a4da8976dcf0f40fe6d4b"
      }
     },
     "d69ba2ce545f499a83a2019ab08515ff": {
      "model_module": "@jupyter-widgets/base",
      "model_module_version": "1.2.0",
      "model_name": "LayoutModel",
      "state": {}
     },
     "d6e758250129417d84c5a4ce8640b97d": {
      "model_module": "@jupyter-widgets/controls",
      "model_module_version": "1.5.0",
      "model_name": "HBoxModel",
      "state": {
       "children": [
        "IPY_MODEL_3ad0b91ac2f7426abe6eb7d710a1a7f0",
        "IPY_MODEL_26800f260c8c4e609964dfc29ca74468",
        "IPY_MODEL_ae55ff3582924856920255b75e4f40d0"
       ],
       "layout": "IPY_MODEL_f17e8328d5a446cb91fa56c42b793bf0"
      }
     },
     "d72ca379016f4c548f517d2a9e4db504": {
      "model_module": "@jupyter-widgets/base",
      "model_module_version": "1.2.0",
      "model_name": "LayoutModel",
      "state": {}
     },
     "d749b78887e54fa5af36635c45a879af": {
      "model_module": "@jupyter-widgets/base",
      "model_module_version": "1.2.0",
      "model_name": "LayoutModel",
      "state": {}
     },
     "d7521fa2092d437e9d72ef52b5d1ba14": {
      "model_module": "@jupyter-widgets/controls",
      "model_module_version": "1.5.0",
      "model_name": "HBoxModel",
      "state": {
       "children": [
        "IPY_MODEL_7867dcd29e7e4e76b3f3c2b7299f715b"
       ],
       "layout": "IPY_MODEL_ee2cee5ec8554e16b07f6977ed0d0737"
      }
     },
     "d75e06a4380c417a8dc3fd3488bc4b0f": {
      "model_module": "@jupyter-widgets/base",
      "model_module_version": "1.2.0",
      "model_name": "LayoutModel",
      "state": {
       "display": "none"
      }
     },
     "d7e1e547bd5040b5a2027e5906063773": {
      "model_module": "@jupyter-widgets/base",
      "model_module_version": "1.2.0",
      "model_name": "LayoutModel",
      "state": {
       "display": "flex",
       "visibility": "hidden"
      }
     },
     "d8708f423a6d485e8e1381c860127ff3": {
      "model_module": "@jupyter-widgets/controls",
      "model_module_version": "1.5.0",
      "model_name": "HTMLModel",
      "state": {
       "layout": "IPY_MODEL_11c1bf54e77d4f49ad68152e9a70f717",
       "style": "IPY_MODEL_c1fbacf4745544f49dc50c5566bfe402",
       "value": "<style>p{word-wrap: break-word}</style> <p>The longest increasing subsequence of [4,5,3,2,1] is:  </p>"
      }
     },
     "d8e36b526824440680dc676a2584db30": {
      "model_module": "@jupyter-widgets/base",
      "model_module_version": "1.2.0",
      "model_name": "LayoutModel",
      "state": {
       "width": "auto"
      }
     },
     "d9b342da25984104bc6875b94d6f1d4d": {
      "model_module": "@jupyter-widgets/base",
      "model_module_version": "1.2.0",
      "model_name": "LayoutModel",
      "state": {
       "width": "auto"
      }
     },
     "da430d62594b40d193becc69ba4e00b2": {
      "model_module": "@jupyter-widgets/controls",
      "model_module_version": "1.5.0",
      "model_name": "HTMLModel",
      "state": {
       "layout": "IPY_MODEL_71b6e2fb0861426cbaaf261d38ace08e",
       "style": "IPY_MODEL_75515ab3c77f49b384569a7177abde73",
       "value": "<style>p{word-wrap: break-word}</style> <p>The length of the longest increasing subsequence of [4,3,2,1] is:  </p>"
      }
     },
     "dadb100197d44cffbbffdfc167f790dd": {
      "model_module": "@jupyter-widgets/base",
      "model_module_version": "1.2.0",
      "model_name": "LayoutModel",
      "state": {
       "width": "auto"
      }
     },
     "dae363b4e55b4da0aadf1b7d35af93a8": {
      "model_module": "@jupyter-widgets/base",
      "model_module_version": "1.2.0",
      "model_name": "LayoutModel",
      "state": {
       "align_items": "stretch",
       "display": "flex",
       "flex_flow": "row wrap",
       "width": "auto"
      }
     },
     "dcbae3e23c1b40379ec9345553776932": {
      "model_module": "@jupyter-widgets/controls",
      "model_module_version": "1.5.0",
      "model_name": "DescriptionStyleModel",
      "state": {
       "description_width": ""
      }
     },
     "dd7f2c116b394570bb987094c0fb9cc8": {
      "model_module": "@jupyter-widgets/base",
      "model_module_version": "1.2.0",
      "model_name": "LayoutModel",
      "state": {
       "align_items": "stretch",
       "display": "flex",
       "flex_flow": "row wrap",
       "width": "auto"
      }
     },
     "dd84a78e74b24089a2ab68a3996fa987": {
      "model_module": "@jupyter-widgets/controls",
      "model_module_version": "1.5.0",
      "model_name": "DescriptionStyleModel",
      "state": {
       "description_width": ""
      }
     },
     "de2e458791a7435dbb2c39316deae443": {
      "model_module": "@jupyter-widgets/base",
      "model_module_version": "1.2.0",
      "model_name": "LayoutModel",
      "state": {}
     },
     "de7d549d445040c0b9d462b0ac738270": {
      "model_module": "@jupyter-widgets/base",
      "model_module_version": "1.2.0",
      "model_name": "LayoutModel",
      "state": {
       "width": "auto"
      }
     },
     "dec08e7d2a5243c6ab8c71fca617904f": {
      "model_module": "@jupyter-widgets/controls",
      "model_module_version": "1.5.0",
      "model_name": "TextModel",
      "state": {
       "layout": "IPY_MODEL_d02a805a5b734817ae00c04b2904913b",
       "placeholder": "",
       "style": "IPY_MODEL_781ccc2d2159432aa27c409d37665499"
      }
     },
     "dec53e11b2594522b955c839b9935d9a": {
      "model_module": "@jupyter-widgets/controls",
      "model_module_version": "1.5.0",
      "model_name": "HTMLModel",
      "state": {
       "layout": "IPY_MODEL_a269beb28f6e4d20bc8bb5401ce2e694",
       "style": "IPY_MODEL_b3665519ebb343658aaa668288d5d197",
       "value": "<style>p{word-wrap: break-word}</style> <p>The longest common subsequence between [4,5,3,2,1,6] and [1,2,3,4,5,6] is: </p>"
      }
     },
     "df16ec92e82740079c5cde3c86420bb1": {
      "model_module": "@jupyter-widgets/controls",
      "model_module_version": "1.5.0",
      "model_name": "HTMLModel",
      "state": {
       "layout": "IPY_MODEL_1dfb1a286564414784095f7d80f6d4a4",
       "style": "IPY_MODEL_a36847fc489c425cab5c5708202ea1c4",
       "value": "<style>p{word-wrap: break-word}</style> <p>. </p>"
      }
     },
     "df37f10455d344e0b746474440aede2b": {
      "model_module": "@jupyter-widgets/controls",
      "model_module_version": "1.5.0",
      "model_name": "HBoxModel",
      "state": {
       "children": [
        "IPY_MODEL_ff0cde3c9d32478f8ce0084d78cba5cf"
       ],
       "layout": "IPY_MODEL_03c16b1257094b5dbec89ee8d27f1c95"
      }
     },
     "df89fea4cadf4f43a6326a64c1075a37": {
      "model_module": "@jupyter-widgets/controls",
      "model_module_version": "1.5.0",
      "model_name": "HTMLModel",
      "state": {
       "layout": "IPY_MODEL_60f843fa1e204c0fa2f3df3467141cba",
       "style": "IPY_MODEL_14b212a63b5a49ddaddce4a68036e8de",
       "value": "<style>p{word-wrap: break-word}</style> <p>The longest increasing subsequence of [4,5,3,2,1] is:  </p>"
      }
     },
     "e01a2f1efb35477981aab3bc89156bb8": {
      "model_module": "@jupyter-widgets/controls",
      "model_module_version": "1.5.0",
      "model_name": "DescriptionStyleModel",
      "state": {
       "description_width": ""
      }
     },
     "e18591903e364089bf218a4d5c517e95": {
      "model_module": "@jupyter-widgets/base",
      "model_module_version": "1.2.0",
      "model_name": "LayoutModel",
      "state": {}
     },
     "e1b25f99dac14b7faa1f78955bf2ce53": {
      "model_module": "@jupyter-widgets/controls",
      "model_module_version": "1.5.0",
      "model_name": "HTMLModel",
      "state": {
       "layout": "IPY_MODEL_889476827ec94318812f61716278985b",
       "style": "IPY_MODEL_605b19aae6c3429698554366c38dadab",
       "value": "<style>p{word-wrap: break-word}</style> <p>The length of the longest increasing subsequence of [4,3,2,1] is:  </p>"
      }
     },
     "e23056e4168941b0be6ee8906f7b9a72": {
      "model_module": "@jupyter-widgets/controls",
      "model_module_version": "1.5.0",
      "model_name": "TextModel",
      "state": {
       "layout": "IPY_MODEL_a895b08cbe28445bb4ee70cd08ef9cfa",
       "placeholder": "",
       "style": "IPY_MODEL_d615248b3ec54b4ea7ccee9699dafc59"
      }
     },
     "e258cbb5390548ff85580530dd706007": {
      "model_module": "@jupyter-widgets/base",
      "model_module_version": "1.2.0",
      "model_name": "LayoutModel",
      "state": {
       "border": "None",
       "height": "32px",
       "width": "auto"
      }
     },
     "e27c23452fdd44968702acd72d5fdf47": {
      "model_module": "@jupyter-widgets/base",
      "model_module_version": "1.2.0",
      "model_name": "LayoutModel",
      "state": {}
     },
     "e3ee4a6cb17c4762b1bd159cf9ab53dd": {
      "model_module": "@jupyter-widgets/base",
      "model_module_version": "1.2.0",
      "model_name": "LayoutModel",
      "state": {}
     },
     "e430c6ce15fa4406b23f29173c5895c5": {
      "model_module": "@jupyter-widgets/controls",
      "model_module_version": "1.5.0",
      "model_name": "DescriptionStyleModel",
      "state": {
       "description_width": ""
      }
     },
     "e432d8169e7842209e6b3758c6129015": {
      "model_module": "@jupyter-widgets/controls",
      "model_module_version": "1.5.0",
      "model_name": "DescriptionStyleModel",
      "state": {
       "description_width": ""
      }
     },
     "e47b6f833efe445784b32a6864089249": {
      "model_module": "@jupyter-widgets/base",
      "model_module_version": "1.2.0",
      "model_name": "LayoutModel",
      "state": {
       "align_items": "stretch",
       "display": "flex",
       "flex_flow": "column",
       "width": "100%"
      }
     },
     "e4ec97c66f7847a7bb7ea61e8aa4e6d5": {
      "model_module": "@jupyter-widgets/controls",
      "model_module_version": "1.5.0",
      "model_name": "DescriptionStyleModel",
      "state": {
       "description_width": ""
      }
     },
     "e501c6bbcdab41e5aa6477898d004248": {
      "model_module": "@jupyter-widgets/controls",
      "model_module_version": "1.5.0",
      "model_name": "DescriptionStyleModel",
      "state": {
       "description_width": ""
      }
     },
     "e51992b1aada424dbc11e329987cb673": {
      "model_module": "@jupyter-widgets/controls",
      "model_module_version": "1.5.0",
      "model_name": "TextModel",
      "state": {
       "layout": "IPY_MODEL_8a9798c134724d0c82e38efa8ee260d5",
       "placeholder": "",
       "style": "IPY_MODEL_6b5d7ad1569048cba15da695b8809688"
      }
     },
     "e525946ff9f843ea87e7ef02765bea69": {
      "model_module": "@jupyter-widgets/base",
      "model_module_version": "1.2.0",
      "model_name": "LayoutModel",
      "state": {
       "width": "auto"
      }
     },
     "e5423a884e914609a90ed12c34878c52": {
      "model_module": "@jupyter-widgets/controls",
      "model_module_version": "1.5.0",
      "model_name": "HTMLModel",
      "state": {
       "layout": "IPY_MODEL_b0162e851e334b13949263fa9bcc894f",
       "style": "IPY_MODEL_313988e5eea04001bb75abdad4fccb59",
       "value": "<style>p{word-wrap: break-word}</style> <p>The length of the longest increasing subsequence of [4,3,2,1] is:  </p>"
      }
     },
     "e571b42a3843409ca31ef752860d4a0d": {
      "model_module": "@jupyter-widgets/controls",
      "model_module_version": "1.5.0",
      "model_name": "HTMLModel",
      "state": {
       "layout": "IPY_MODEL_4afe463df99f45e7a4401d4919dcba3f",
       "style": "IPY_MODEL_492c35f408444f1caa2c3c0480521be1",
       "value": "<style>p{word-wrap: break-word}</style> <p>The longest increasing subsequence of [4,5,3,2,1] is:  </p>"
      }
     },
     "e6261f5d22474a9ca0d1d5e8b7aee0c1": {
      "model_module": "@jupyter-widgets/base",
      "model_module_version": "1.2.0",
      "model_name": "LayoutModel",
      "state": {
       "align_items": "stretch",
       "display": "flex",
       "flex_flow": "row wrap",
       "margin": "30px 0 0 0"
      }
     },
     "e6de751c2a0940698ca4413ac4fa1492": {
      "model_module": "@jupyter-widgets/base",
      "model_module_version": "1.2.0",
      "model_name": "LayoutModel",
      "state": {
       "align_items": "stretch",
       "display": "flex",
       "flex_flow": "row wrap",
       "width": "auto"
      }
     },
     "e6e51eb34c534d4eb53dd44372edaed1": {
      "model_module": "@jupyter-widgets/base",
      "model_module_version": "1.2.0",
      "model_name": "LayoutModel",
      "state": {
       "align_items": "stretch",
       "display": "flex",
       "flex_flow": "row wrap",
       "width": "auto"
      }
     },
     "e6f769f278bf4064a0f72992d94a9498": {
      "model_module": "@jupyter-widgets/base",
      "model_module_version": "1.2.0",
      "model_name": "LayoutModel",
      "state": {}
     },
     "e81d77cf9f8c453a9825dea140adf26e": {
      "model_module": "@jupyter-widgets/base",
      "model_module_version": "1.2.0",
      "model_name": "LayoutModel",
      "state": {
       "width": "auto"
      }
     },
     "e85da883ca3c40e29881c0373a713a86": {
      "model_module": "@jupyter-widgets/base",
      "model_module_version": "1.2.0",
      "model_name": "LayoutModel",
      "state": {}
     },
     "e870e44057e545be9ab70995668e9a50": {
      "model_module": "@jupyter-widgets/controls",
      "model_module_version": "1.5.0",
      "model_name": "DescriptionStyleModel",
      "state": {
       "description_width": ""
      }
     },
     "e904475510654903911984034331e754": {
      "model_module": "@jupyter-widgets/base",
      "model_module_version": "1.2.0",
      "model_name": "LayoutModel",
      "state": {
       "align_items": "stretch",
       "display": "flex",
       "flex_flow": "row wrap",
       "width": "auto"
      }
     },
     "e9b817034ac7485d9578ddd082fb8b42": {
      "model_module": "@jupyter-widgets/controls",
      "model_module_version": "1.5.0",
      "model_name": "DescriptionStyleModel",
      "state": {
       "description_width": ""
      }
     },
     "e9fc9de705b54fbaaaafe52adfee0f5e": {
      "model_module": "@jupyter-widgets/base",
      "model_module_version": "1.2.0",
      "model_name": "LayoutModel",
      "state": {
       "align_items": "stretch",
       "display": "flex",
       "flex_flow": "row wrap",
       "width": "auto"
      }
     },
     "ea318fd463a244a9a02d1d51679ed65b": {
      "model_module": "@jupyter-widgets/controls",
      "model_module_version": "1.5.0",
      "model_name": "HBoxModel",
      "state": {
       "children": [
        "IPY_MODEL_6241b3d533304e68b31975b1836a87b2",
        "IPY_MODEL_a634f7cade5d4c5bbba68b395514b71a",
        "IPY_MODEL_8bac326cf50d41b0903181ecb80e3bd1"
       ],
       "layout": "IPY_MODEL_ebb84bbe1fd640878bc91a6352dd14f6"
      }
     },
     "ea4910710f034285b843159bdeda54cc": {
      "model_module": "@jupyter-widgets/controls",
      "model_module_version": "1.5.0",
      "model_name": "HTMLModel",
      "state": {
       "layout": "IPY_MODEL_ad3799b361d049caaaeb9153c11e57ff",
       "style": "IPY_MODEL_8a76e288117f459b8ed1be9c0d7ceb0c",
       "value": "<style>p{word-wrap: break-word}</style> <p>. </p>"
      }
     },
     "ea53cdbc749b40778a057a2f350d9197": {
      "model_module": "@jupyter-widgets/base",
      "model_module_version": "1.2.0",
      "model_name": "LayoutModel",
      "state": {
       "align_items": "stretch",
       "display": "flex",
       "flex_flow": "row wrap",
       "width": "auto"
      }
     },
     "ea801e1a31014140894e9e1cf2039e74": {
      "model_module": "@jupyter-widgets/controls",
      "model_module_version": "1.5.0",
      "model_name": "ButtonStyleModel",
      "state": {
       "button_color": "#4DD0E1"
      }
     },
     "eb66b49b8a3640d1a199f1f3176ff93d": {
      "model_module": "@jupyter-widgets/base",
      "model_module_version": "1.2.0",
      "model_name": "LayoutModel",
      "state": {
       "align_items": "stretch",
       "display": "flex",
       "flex_flow": "column",
       "width": "100%"
      }
     },
     "ebb84bbe1fd640878bc91a6352dd14f6": {
      "model_module": "@jupyter-widgets/base",
      "model_module_version": "1.2.0",
      "model_name": "LayoutModel",
      "state": {
       "align_items": "stretch",
       "display": "flex",
       "flex_flow": "row wrap",
       "width": "auto"
      }
     },
     "ec04bb4b966c4576a457d20b0842d23a": {
      "model_module": "@jupyter-widgets/base",
      "model_module_version": "1.2.0",
      "model_name": "LayoutModel",
      "state": {
       "width": "auto"
      }
     },
     "ecbdad2c567f44c7b61306b0d8da0d77": {
      "model_module": "@jupyter-widgets/controls",
      "model_module_version": "1.5.0",
      "model_name": "DescriptionStyleModel",
      "state": {
       "description_width": ""
      }
     },
     "ed34b745891c4ba088d546c4f1a3d188": {
      "model_module": "@jupyter-widgets/base",
      "model_module_version": "1.2.0",
      "model_name": "LayoutModel",
      "state": {}
     },
     "ee12ec745e9c48d79a24c570650d3da3": {
      "model_module": "@jupyter-widgets/controls",
      "model_module_version": "1.5.0",
      "model_name": "HBoxModel",
      "state": {
       "children": [
        "IPY_MODEL_7c2b87669d694b5cabdbd9afc2801527",
        "IPY_MODEL_0db94589dbf442e68c6fb7aafa1639e2",
        "IPY_MODEL_f3de10df3b634fed822d439d20993117"
       ],
       "layout": "IPY_MODEL_be0de8491be245e1b00ebe6ab813b3ef"
      }
     },
     "ee1856ccb2c84695bdc2ab84882f823a": {
      "model_module": "@jupyter-widgets/controls",
      "model_module_version": "1.5.0",
      "model_name": "VBoxModel",
      "state": {
       "box_style": "info",
       "children": [
        "IPY_MODEL_9e6f7fa114d64e67ba737a96639bb6df",
        "IPY_MODEL_ccc933be81fb4420bc82c69f1670d180",
        "IPY_MODEL_47a4d3f431784e42a58519f2246c7cde"
       ],
       "layout": "IPY_MODEL_c6567ad9b99c4a7b96b87eea48832ed2"
      }
     },
     "ee1e4a1947b94bfeb4b24982e789a5fb": {
      "model_module": "@jupyter-widgets/controls",
      "model_module_version": "1.5.0",
      "model_name": "ButtonModel",
      "state": {
       "description": "Submit",
       "layout": "IPY_MODEL_0190c8f697154b3fa69e31340da81955",
       "style": "IPY_MODEL_a8dee289470f47919a25e3f5e20625ad"
      }
     },
     "ee2cee5ec8554e16b07f6977ed0d0737": {
      "model_module": "@jupyter-widgets/base",
      "model_module_version": "1.2.0",
      "model_name": "LayoutModel",
      "state": {
       "display": "flex",
       "flex_flow": "row",
       "justify_content": "space-between",
       "margin": "0 0 20px 0"
      }
     },
     "ee8655d7ea7e4ea6bfa27685be5eb5d4": {
      "model_module": "@jupyter-widgets/base",
      "model_module_version": "1.2.0",
      "model_name": "LayoutModel",
      "state": {
       "width": "auto"
      }
     },
     "eeb48eb6dadb454dbd6bd292b964eda2": {
      "model_module": "@jupyter-widgets/controls",
      "model_module_version": "1.5.0",
      "model_name": "DescriptionStyleModel",
      "state": {
       "description_width": ""
      }
     },
     "f1217a1c1dc04e23a9f71f7bfa9d0958": {
      "model_module": "@jupyter-widgets/controls",
      "model_module_version": "1.5.0",
      "model_name": "HTMLModel",
      "state": {
       "layout": "IPY_MODEL_a5cfcd5f42184aa5b137f309250b9201",
       "style": "IPY_MODEL_1e6220dd439c4675904fb85e37fb2dfb",
       "value": "<style>p{word-wrap: break-word}</style> <p>If you draw lines between the equal numbers in the sequences above e.g. 1 with 1, 2 with 2, ..., 6 with 6, how many times would the lines cross?:  </p>"
      }
     },
     "f17e8328d5a446cb91fa56c42b793bf0": {
      "model_module": "@jupyter-widgets/base",
      "model_module_version": "1.2.0",
      "model_name": "LayoutModel",
      "state": {
       "align_items": "stretch",
       "display": "flex",
       "flex_flow": "row wrap",
       "margin": "30px 0 0 0"
      }
     },
     "f1c9aa237d2646e59ae92e2a027af134": {
      "model_module": "@jupyter-widgets/base",
      "model_module_version": "1.2.0",
      "model_name": "LayoutModel",
      "state": {}
     },
     "f1f23ec948c84dbc9113964966de52f7": {
      "model_module": "@jupyter-widgets/base",
      "model_module_version": "1.2.0",
      "model_name": "LayoutModel",
      "state": {
       "width": "auto"
      }
     },
     "f24569cec5b04c88b15b439d74fae732": {
      "model_module": "@jupyter-widgets/base",
      "model_module_version": "1.2.0",
      "model_name": "LayoutModel",
      "state": {}
     },
     "f2489b414b10442aad9691407316cdde": {
      "model_module": "@jupyter-widgets/controls",
      "model_module_version": "1.5.0",
      "model_name": "ButtonStyleModel",
      "state": {
       "button_color": "#4DD0E1"
      }
     },
     "f2ccb0e00508403396848ddef1fe4aa7": {
      "model_module": "@jupyter-widgets/controls",
      "model_module_version": "1.5.0",
      "model_name": "VBoxModel",
      "state": {
       "box_style": "warning",
       "children": [
        "IPY_MODEL_3838b3f4a15c4873a6313075f6a921a2",
        "IPY_MODEL_df37f10455d344e0b746474440aede2b",
        "IPY_MODEL_ee12ec745e9c48d79a24c570650d3da3"
       ],
       "layout": "IPY_MODEL_6da2f5bdb5fb4d3e8b14debe43b241b3"
      }
     },
     "f2e567dafea94db896b77faf397497c2": {
      "model_module": "@jupyter-widgets/base",
      "model_module_version": "1.2.0",
      "model_name": "LayoutModel",
      "state": {}
     },
     "f3de10df3b634fed822d439d20993117": {
      "model_module": "@jupyter-widgets/controls",
      "model_module_version": "1.5.0",
      "model_name": "ButtonModel",
      "state": {
       "description": "Show answer",
       "disabled": true,
       "layout": "IPY_MODEL_71063fede6d94f8ebac008c8fce9b3e1",
       "style": "IPY_MODEL_077368f006dd4459a255a77aa51d173d"
      }
     },
     "f40519c47dd144be963c3995f5cb395f": {
      "model_module": "@jupyter-widgets/controls",
      "model_module_version": "1.5.0",
      "model_name": "HBoxModel",
      "state": {
       "children": [
        "IPY_MODEL_576ea98b90db497f986de5438c8e7500",
        "IPY_MODEL_d344af1f4173463da44b7cc443317dc0",
        "IPY_MODEL_8193221a01d140af8e40ba169ce3c869"
       ],
       "layout": "IPY_MODEL_c64b1eea2caa44ad8be48f913c79d75d"
      }
     },
     "f474eccaceaf4972a0ebd2a54086421c": {
      "model_module": "@jupyter-widgets/base",
      "model_module_version": "1.2.0",
      "model_name": "LayoutModel",
      "state": {}
     },
     "f47d50a30667485bac353d5d071bdfb9": {
      "model_module": "@jupyter-widgets/controls",
      "model_module_version": "1.5.0",
      "model_name": "DescriptionStyleModel",
      "state": {
       "description_width": ""
      }
     },
     "f507282fbaf741ad98da49d76ab3be3b": {
      "model_module": "@jupyter-widgets/controls",
      "model_module_version": "1.5.0",
      "model_name": "HTMLModel",
      "state": {
       "layout": "IPY_MODEL_de2e458791a7435dbb2c39316deae443",
       "style": "IPY_MODEL_8d5989d966bf4f229715d17c10ea18cf",
       "value": "<style>p{word-wrap: break-word}</style> <p>. </p>"
      }
     },
     "f52740da882541f395eb60e331c732ed": {
      "model_module": "@jupyter-widgets/controls",
      "model_module_version": "1.5.0",
      "model_name": "HBoxModel",
      "state": {
       "children": [
        "IPY_MODEL_7ace321597184985927eb528d4910e92",
        "IPY_MODEL_78008e3e880c445488eed98eba367f82",
        "IPY_MODEL_c4286400946147239f82c2366b691ca5"
       ],
       "layout": "IPY_MODEL_dae363b4e55b4da0aadf1b7d35af93a8"
      }
     },
     "f5c58e5807c24498b355f80314c62ab7": {
      "model_module": "@jupyter-widgets/controls",
      "model_module_version": "1.5.0",
      "model_name": "HBoxModel",
      "state": {
       "children": [
        "IPY_MODEL_b72a708f55e14498a40b8ecf3946b49a"
       ],
       "layout": "IPY_MODEL_1b5d8b8d7afe4fd58e7ccf2d4f171ab0"
      }
     },
     "f69ece11cd264c4b9c03f1a128fd34b0": {
      "model_module": "@jupyter-widgets/controls",
      "model_module_version": "1.5.0",
      "model_name": "DescriptionStyleModel",
      "state": {
       "description_width": ""
      }
     },
     "f6fc3570b6d34af3b87ff517a0d21cc3": {
      "model_module": "@jupyter-widgets/controls",
      "model_module_version": "1.5.0",
      "model_name": "HBoxModel",
      "state": {
       "children": [
        "IPY_MODEL_9e5324e0db444e889933dbc03e941f77",
        "IPY_MODEL_595e91fa3374468e98f899e78dca84f8",
        "IPY_MODEL_3cb9c8956dbf45ef871f939369a2dd46",
        "IPY_MODEL_2472c1daa515426fbff0c3f4ae3f69d1"
       ],
       "layout": "IPY_MODEL_152efc30523348e0afd4f5726f5ff0e1"
      }
     },
     "f7fed0233d1f47f8bd410793701157ff": {
      "model_module": "@jupyter-widgets/controls",
      "model_module_version": "1.5.0",
      "model_name": "ButtonModel",
      "state": {
       "description": "Submit",
       "layout": "IPY_MODEL_f24569cec5b04c88b15b439d74fae732",
       "style": "IPY_MODEL_93a2295b4cec448d90f6f5bf867a1238"
      }
     },
     "f8463b64cebf4103a52cc63e4928a373": {
      "model_module": "@jupyter-widgets/controls",
      "model_module_version": "1.5.0",
      "model_name": "TextModel",
      "state": {
       "layout": "IPY_MODEL_c4f425cd3cd845b1988b3489e772754d",
       "placeholder": "",
       "style": "IPY_MODEL_3545cfc050364044868b009da26f5ae5"
      }
     },
     "f87ba0338bf84d29b991694277d8e42e": {
      "model_module": "@jupyter-widgets/controls",
      "model_module_version": "1.5.0",
      "model_name": "DescriptionStyleModel",
      "state": {
       "description_width": ""
      }
     },
     "f9a8ab8b65e8438296683c7d6be38b85": {
      "model_module": "@jupyter-widgets/controls",
      "model_module_version": "1.5.0",
      "model_name": "LabelModel",
      "state": {
       "layout": "IPY_MODEL_72a08cfff8c040da96c1c2f9bff2e0c8",
       "style": "IPY_MODEL_c9fed10c6f4a44a698b6fdb3d49573b8"
      }
     },
     "f9b027d59edc4218822b2bc07b0f6a21": {
      "model_module": "@jupyter-widgets/base",
      "model_module_version": "1.2.0",
      "model_name": "LayoutModel",
      "state": {
       "border": "None",
       "height": "32px",
       "width": "auto"
      }
     },
     "fb67e837b349419b84c1179a979862b9": {
      "model_module": "@jupyter-widgets/controls",
      "model_module_version": "1.5.0",
      "model_name": "HBoxModel",
      "state": {
       "children": [
        "IPY_MODEL_e1b25f99dac14b7faa1f78955bf2ce53",
        "IPY_MODEL_43a2a2cd4e6a40a685b8afbcf8393769",
        "IPY_MODEL_6b43e6c818b64ec0b0feafc367d22ef1"
       ],
       "layout": "IPY_MODEL_a7f556ff4b3f416fb1d088d5e106ece9"
      }
     },
     "fc15e5f4194d4335b6edade4127cd9c0": {
      "model_module": "@jupyter-widgets/base",
      "model_module_version": "1.2.0",
      "model_name": "LayoutModel",
      "state": {}
     },
     "fc41cedc37344092b0f0213af14f68bf": {
      "model_module": "@jupyter-widgets/base",
      "model_module_version": "1.2.0",
      "model_name": "LayoutModel",
      "state": {
       "align_items": "stretch",
       "display": "flex",
       "flex_flow": "row wrap",
       "width": "auto"
      }
     },
     "fd01d6a9f4684dc9a7f9455ee2f8a243": {
      "model_module": "@jupyter-widgets/controls",
      "model_module_version": "1.5.0",
      "model_name": "LabelModel",
      "state": {
       "layout": "IPY_MODEL_88b2eaf5a45c4c79817ef3ff292c0e97",
       "style": "IPY_MODEL_c374b37b83d94eeb86799d10e3570fe0"
      }
     },
     "fd09561bbedb4aa688ef48f8cc604662": {
      "model_module": "@jupyter-widgets/controls",
      "model_module_version": "1.5.0",
      "model_name": "HTMLModel",
      "state": {
       "layout": "IPY_MODEL_cc1c93e9a929412798639ffae669f6ef",
       "style": "IPY_MODEL_073dd4f7ac4c4d52b5bd30442c03d005",
       "value": "<style>p{word-wrap: break-word}</style> <p>. </p>"
      }
     },
     "fdfb1be4d70b49f9969bd8f52e1fbfe0": {
      "model_module": "@jupyter-widgets/base",
      "model_module_version": "1.2.0",
      "model_name": "LayoutModel",
      "state": {}
     },
     "ff0cde3c9d32478f8ce0084d78cba5cf": {
      "model_module": "@jupyter-widgets/controls",
      "model_module_version": "1.5.0",
      "model_name": "HBoxModel",
      "state": {
       "children": [
        "IPY_MODEL_b3d432b31c4c44c9ab271395af8be11f",
        "IPY_MODEL_5d37578d9f584fb698736eae82b8095e",
        "IPY_MODEL_4445daedc7c54e20ab7435970b1edc84"
       ],
       "layout": "IPY_MODEL_542d027b1c584378bb9ebd2e77cca5ff"
      }
     },
     "ffca07ddb5aa4e54984878b6037e19c9": {
      "model_module": "@jupyter-widgets/base",
      "model_module_version": "1.2.0",
      "model_name": "LayoutModel",
      "state": {
       "display": "none"
      }
     },
     "ffd458c2a45041acb39bf2f7acc20073": {
      "model_module": "@jupyter-widgets/base",
      "model_module_version": "1.2.0",
      "model_name": "LayoutModel",
      "state": {}
     },
     "ffd47a58242e45cf8f408017ca220a76": {
      "model_module": "@jupyter-widgets/base",
      "model_module_version": "1.2.0",
      "model_name": "LayoutModel",
      "state": {}
     }
    },
    "version_major": 2,
    "version_minor": 0
   }
  }
 },
 "nbformat": 4,
 "nbformat_minor": 4
}
