{
 "cells": [
  {
   "cell_type": "markdown",
   "metadata": {},
   "source": [
    "<font size=\"+4\">Lesson 6: Flower Picking</font>\n",
    "    \n",
    "If dynamic programming is one of the \"sledgehammers of the algorithm craft\" (Dasgupta et al., 2008), then the technique you will learn in this lesson is your swing. Finding the right subproblems, breaking the original problem up correctly is the most difficult part of dynamic programming. In this lesson you will learn that sometimes you need to _strengthen the induction hypothesis_ of the given problem in order to find the correct subproblems.\n",
    "    \n",
    "To demonstrate this, we will work on the longest increasing subsequence problem, which I have dubbed flower picking because the goal is to pick flowers in increasing order of size without changing the order they are growing in.\n",
    "\n",
    "In this lessson you'll learn:\n",
    "1. When to strengthen the induction hypothesis\n",
    "2. How to strengthen the induction hypothesis through careful rewording of the original problem\n",
    "     \n",
    "The following video introduces the topic.  "
   ]
  },
  {
   "cell_type": "code",
   "execution_count": 1,
   "metadata": {
    "collapsed": false,
    "jupyter": {
     "outputs_hidden": false
    },
    "pycharm": {
     "name": "#%%\n"
    }
   },
   "outputs": [
    {
     "data": {
      "text/html": [
       "\n",
       "        <iframe\n",
       "            width=\"400\"\n",
       "            height=\"300\"\n",
       "            src=\"https://www.youtube.com/embed/\"\n",
       "            frameborder=\"0\"\n",
       "            allowfullscreen\n",
       "        ></iframe>\n",
       "        "
      ],
      "text/plain": [
       "<IPython.lib.display.YouTubeVideo at 0x1f99e516048>"
      ]
     },
     "execution_count": 1,
     "metadata": {},
     "output_type": "execute_result"
    }
   ],
   "source": [
    "from IPython.display import YouTubeVideo\n",
    "YouTubeVideo('')"
   ]
  },
  {
   "cell_type": "markdown",
   "metadata": {},
   "source": [
    "\n",
    "\n",
    "\n",
    "\n",
    "\n"
   ]
  },
  {
   "cell_type": "markdown",
   "metadata": {},
   "source": [
    "# Longest Increasing Subsequence in Four Steps\n",
    "<figure>\n",
    "    <img src=\"../images/flower_picking.png\">\n",
    "    <figcaption>Figure 1: You're given a sequence of numbers. What is the length of its longest increasing subsequence?\n",
    "    </figcaption>\n",
    "</figure>\n",
    "<p>\n",
    "    \n",
    "To understand how the [longest increasing subsequence](https://en.wikipedia.org/wiki/Longest_increasing_subsequence) problem differs from similarly sounding problems, imagine you are given this line of flowers. Your challenge is to pick the longest line of flowers out of the original line that are strictly increasing in size. For example [3,4,5,9] is one longest increasing subsequence of [3, 1, 4, 1, 5, 9, 2, 6]\n",
    "    "
   ]
  },
  {
   "cell_type": "code",
   "execution_count": 2,
   "metadata": {
    "jupyter": {
     "source_hidden": true
    },
    "pycharm": {
     "name": "#%%\n"
    }
   },
   "outputs": [
    {
     "data": {
      "application/vnd.jupyter.widget-view+json": {
       "model_id": "5ab6e78fde4d485293979451cfd2ce4e",
       "version_major": 2,
       "version_minor": 0
      },
      "text/plain": [
       "VBox(box_style='info', children=(HBox(children=(HTML(value='<style>p{word-wrap: break-word}</style> <p>Fill in…"
      ]
     },
     "metadata": {},
     "output_type": "display_data"
    }
   ],
   "source": [
    "%run quizzes/quiz.py quizzes/06/lis_example.json"
   ]
  },
  {
   "cell_type": "markdown",
   "metadata": {
    "pycharm": {
     "name": "#%% md\n"
    }
   },
   "source": [
    "There actually is a connection between longest commmon subsequence and longest increasing subsequence. It's called the river problem, and you can see a variation [here](https://www.geeksforgeeks.org/variations-of-lis-dp-21/). Do the following little exercise first."
   ]
  },
  {
   "cell_type": "code",
   "execution_count": 3,
   "metadata": {
    "jupyter": {
     "source_hidden": true
    },
    "pycharm": {
     "name": "#%%\n"
    }
   },
   "outputs": [
    {
     "data": {
      "application/vnd.jupyter.widget-view+json": {
       "model_id": "acf94c62a72d42b989b607db786e3561",
       "version_major": 2,
       "version_minor": 0
      },
      "text/plain": [
       "VBox(box_style='info', children=(HBox(children=(HTML(value='<style>p{word-wrap: break-word}</style> <p>On a pi…"
      ]
     },
     "metadata": {},
     "output_type": "display_data"
    }
   ],
   "source": [
    "%run quizzes/quiz.py quizzes/06/lis_and_lcs.json"
   ]
  },
  {
   "cell_type": "markdown",
   "metadata": {},
   "source": [
    "# Solutions"
   ]
  },
  {
   "cell_type": "markdown",
   "metadata": {},
   "source": [
    "<div class=\"exercise exercise-warning\"><details><summary>Longest increasing subsequence - naive - recursive</summary> \n",
    "    \n",
    "```python \n",
    "    \n",
    "    #%load solutions/06/lis_naive.py\n",
    "    # solution based on this code: https://www.geeksforgeeks.org/longest-increasing-subsequence-dp-3/  by NIKHIL KUMAR SINGH \n",
    "\n",
    "    # maximum over all n\n",
    "    global maximum \n",
    "\n",
    "    def max_ending_here(v): \n",
    "\n",
    "        global maximum \n",
    "\n",
    "        n = len(v)\n",
    "\n",
    "        # base cases\n",
    "        if n == 0:\n",
    "            return 0\n",
    "        if n == 1: \n",
    "            return 1\n",
    "\n",
    "        # max_length_ending_here is the length of the longest increasing subsequence ending with v[n-1] \n",
    "        max_length_ending_here = 1\n",
    "\n",
    "        for i in range(1, n): \n",
    "            # recursively get all LIS ending with v[0], ..., v[i - 2]\n",
    "            res = max_ending_here(v[0: i]) \n",
    "\n",
    "            # if an element before v[n-1] is smaller than v[n-1] and its LIS is greater, then its LIS becomes the new local maximum\n",
    "            if v[i - 1] < v[n-1] and res + 1 > max_length_ending_here: \n",
    "                max_length_ending_here = res + 1\n",
    "\n",
    "        # update overall maximum \n",
    "        maximum = max(maximum , max_length_ending_here) \n",
    "\n",
    "        return max_length_ending_here \n",
    "\n",
    "    def lis(v): \n",
    "\n",
    "        global maximum \n",
    "\n",
    "        # will be updated by the recursive function 'max_ending_here' \n",
    "        maximum = 0\n",
    "\n",
    "        m = max_ending_here(v)\n",
    "        print ('maximum ending here: ', m, 'global maximum: ', maximum)\n",
    "\n",
    "        return maximum\n",
    "    \n",
    "\n",
    "    #unit tests\n",
    "    assert(lis([3, 1, 4, 1, 5, 1, 9, 2, 6]) == 4)\n",
    "    assert(lis([3, 1, 4, 1, 5, 1, 9, 2, 6, 5]) == 4)\n",
    "    assert(lis([1, 2, 3]) == 3)\n",
    "    assert(lis([3, 2, 1, 0]) == 1)\n",
    "    assert(lis([]) == 0)\n",
    "\n",
    "```\n",
    "    \n",
    "</details>"
   ]
  },
  {
   "cell_type": "markdown",
   "metadata": {
    "jupyter": {
     "outputs_hidden": false
    },
    "pycharm": {
     "name": "#%%\n"
    }
   },
   "source": [
    "# References\n",
    "\n",
    "1. Dasgupta, S., Papadimitriou, C. H., & Vazirani, U. V. (2008). Algorithms. McGraw-Hill Higher Education New York.\n",
    "\n",
    "2. Forišek, M. (2015). Towards a better way to teach dynamic programming. Olympiads in Informatics, 9, 45–55."
   ]
  },
  {
   "cell_type": "code",
   "execution_count": 4,
   "metadata": {
    "jupyter": {
     "source_hidden": true
    },
    "pycharm": {
     "name": "#%%\n"
    }
   },
   "outputs": [
    {
     "data": {
      "text/html": [
       "<style>\n",
       "    .alert {\n",
       "      padding: 15px;\n",
       "      margin-bottom: 20px;\n",
       "      border: 1px solid transparent;\n",
       "      border-radius: 4px;\n",
       "    }\n",
       "\n",
       "    .alert h4 {\n",
       "      margin-top: 0;\n",
       "      color: inherit;\n",
       "    }\n",
       "\n",
       "    .alert .alert-link {\n",
       "      font-weight: bold;\n",
       "    }\n",
       "\n",
       "    .alert > p,\n",
       "    .alert > ul {\n",
       "      margin-bottom: 0;\n",
       "    }\n",
       "\n",
       "    .alert > p + p {\n",
       "      margin-top: 5px;\n",
       "    }\n",
       "\n",
       "    .alert-dismissable,\n",
       "    .alert-dismissible {\n",
       "      padding-right: 35px;\n",
       "    }\n",
       "\n",
       "    .alert-dismissable .close,\n",
       "    .alert-dismissible .close {\n",
       "      position: relative;\n",
       "      top: -2px;\n",
       "      right: -21px;\n",
       "      color: inherit;\n",
       "    }\n",
       "\n",
       "    .alert-success {\n",
       "      background-color: #C8E6C9;\n",
       "      border-color: #81C784;\n",
       "      color: #388E3C;\n",
       "    }\n",
       "\n",
       "    .alert-success hr {\n",
       "      border-top-color: #AED581;\n",
       "    }\n",
       "\n",
       "    .alert-success .alert-link {\n",
       "      color: #2E7D32;\n",
       "    }\n",
       "\n",
       "    .alert-info {\n",
       "      background-color: #B2EBF2;\n",
       "      border-color: #4DD0E1;\n",
       "      color: #0097A7;\n",
       "    }\n",
       "\n",
       "    .alert-info hr {\n",
       "      border-top-color: #00838F;\n",
       "    }\n",
       "\n",
       "    .alert-info .alert-link {\n",
       "      color: #245269;\n",
       "    }\n",
       "\n",
       "    .alert-warning {\n",
       "      background-color: #FFE0B2;\n",
       "      border-color: #FFB74D;\n",
       "      color: #F57C00;\n",
       "    }\n",
       "\n",
       "    .alert-warning hr {\n",
       "      border-top-color: #FFB74D;\n",
       "    }\n",
       "\n",
       "    .alert-warning .alert-link {\n",
       "      color: #EF6C00;\n",
       "    }\n",
       "\n",
       "    .alert-danger {\n",
       "      background-color: #ffcdd2;\n",
       "      border-color: #e57373;\n",
       "      color: #d32f2f;\n",
       "    }\n",
       "\n",
       "    .alert-danger hr {\n",
       "      border-top-color: #d32f2f;\n",
       "    }\n",
       "\n",
       "    .alert-danger .alert-link {\n",
       "      color: #c62828;\n",
       "    }\n",
       "    \n",
       "\n",
       "    .exercise {\n",
       "      padding: 15px;\n",
       "      margin-bottom: 20px;\n",
       "      border: 1px solid transparent;\n",
       "      border-radius: 4px;\n",
       "    }\n",
       "\n",
       "    .exercise h4 {\n",
       "      margin-top: 0;\n",
       "      color: inherit;\n",
       "    }\n",
       "\n",
       "    .exercise .alert-link {\n",
       "      font-weight: bold;\n",
       "    }\n",
       "\n",
       "    .exercise > p,\n",
       "    .exercise > ul {\n",
       "      margin-bottom: 0;\n",
       "    }\n",
       "\n",
       "    .exercise > p + p {\n",
       "      margin-top: 5px;\n",
       "    }\n",
       "\n",
       "    .exercise-info {\n",
       "      background-color: #B2EBF2;\n",
       "      border-color: #4DD0E1;\n",
       "      color: #000000;\n",
       "    }\n",
       "\n",
       "    .exercise-info hr {\n",
       "      border-top-color: #00838F;\n",
       "    }\n",
       "\n",
       "    .exercise-info .alert-link {\n",
       "      color: #245269;\n",
       "    }\n",
       "\n",
       "   .exercise-warning {\n",
       "      background-color: #FFE0B2;\n",
       "      border-color: #FFB74D;\n",
       "      color: #000000;\n",
       "    }\n",
       "\n",
       "    .exercise-warning hr {\n",
       "      border-top-color: #FFB74D;\n",
       "    }\n",
       "\n",
       "    .excercise-warning .alert-link {\n",
       "      color: #EF6C00;\n",
       "    }\n",
       "\n",
       "\n",
       "</style>\n"
      ],
      "text/plain": [
       "<IPython.core.display.HTML object>"
      ]
     },
     "execution_count": 4,
     "metadata": {},
     "output_type": "execute_result"
    }
   ],
   "source": [
    "#workaround for known ipywidget issue not rendering alert style colours on Jupyter lab\n",
    "from IPython.core.display import HTML\n",
    "HTML(open(\"../styles/custom.css\", \"r\").read())"
   ]
  }
 ],
 "metadata": {
  "kernelspec": {
   "display_name": "Python 3",
   "language": "python",
   "name": "python3"
  },
  "language_info": {
   "codemirror_mode": {
    "name": "ipython",
    "version": 3
   },
   "file_extension": ".py",
   "mimetype": "text/x-python",
   "name": "python",
   "nbconvert_exporter": "python",
   "pygments_lexer": "ipython3",
   "version": "3.7.6"
  },
  "latex_envs": {
   "LaTeX_envs_menu_present": true,
   "autoclose": true,
   "autocomplete": true,
   "bibliofile": "biblio.bib",
   "cite_by": "apalike",
   "current_citInitial": 1,
   "eqLabelWithNumbers": true,
   "eqNumInitial": 1,
   "hotkeys": {
    "equation": "Ctrl-E",
    "itemize": "Ctrl-I"
   },
   "labels_anchors": false,
   "latex_user_defs": false,
   "report_style_numbering": false,
   "user_envs_cfg": false
  },
  "toc": {
   "base_numbering": 1,
   "nav_menu": {},
   "number_sections": false,
   "sideBar": true,
   "skip_h1_title": false,
   "title_cell": "Table of Contents",
   "title_sidebar": "Contents",
   "toc_cell": false,
   "toc_position": {},
   "toc_section_display": true,
   "toc_window_display": true
  },
  "toc-autonumbering": true,
  "toc-showtags": false,
  "widgets": {
   "application/vnd.jupyter.widget-state+json": {
    "state": {
     "02eaf7c91e1145f89540b0afd4bc42a8": {
      "model_module": "@jupyter-widgets/base",
      "model_module_version": "1.2.0",
      "model_name": "LayoutModel",
      "state": {
       "height": "50%",
       "margin": "0 0 0 30px",
       "width": "50%"
      }
     },
     "048646dc3c7d48c0b6720cdc23951b50": {
      "model_module": "@jupyter-widgets/base",
      "model_module_version": "1.2.0",
      "model_name": "LayoutModel",
      "state": {
       "height": "50%",
       "margin": "0 0 0 30px",
       "width": "50%"
      }
     },
     "0555d419c380463596087270408d9474": {
      "model_module": "@jupyter-widgets/controls",
      "model_module_version": "1.5.0",
      "model_name": "HTMLModel",
      "state": {
       "layout": "IPY_MODEL_edcc397150de4fb19ad4b93e4a8ad8cd",
       "style": "IPY_MODEL_6a016436dabf4cadad55500e43ce6222",
       "value": "<style>p{word-wrap: break-word}</style> <p>. </p>"
      }
     },
     "06ba546e60c3401eb67ce57daccbb486": {
      "model_module": "@jupyter-widgets/controls",
      "model_module_version": "1.5.0",
      "model_name": "HBoxModel",
      "state": {
       "children": [
        "IPY_MODEL_37b7f4aa1c424a9aa7452120f2d6c4cc"
       ],
       "layout": "IPY_MODEL_a5a3d2f54e7f4f51be6cb6299e2fbf37"
      }
     },
     "088a78d2d2cb40049a2e17cca8f8cbed": {
      "model_module": "@jupyter-widgets/controls",
      "model_module_version": "1.5.0",
      "model_name": "DescriptionStyleModel",
      "state": {
       "description_width": ""
      }
     },
     "08913456f6bb4d75a3983671056d6eda": {
      "model_module": "@jupyter-widgets/controls",
      "model_module_version": "1.5.0",
      "model_name": "HTMLModel",
      "state": {
       "layout": "IPY_MODEL_85966d8cec024f0389fdc7d3b0668e3f",
       "style": "IPY_MODEL_156e88cbd645468cb5156977cadb8ca6",
       "value": "<style>p{word-wrap: break-word}</style> <p>On a piece of paper, write out the longest common subsequence between [4,5,3,2,1,6] and [1,2,3,4,5,6]. Underneath, write out the numbers 1, 2, 3, 4, 5, 6 (in increasing order). Draw a line between matching numbers. </p>"
      }
     },
     "0b7465dd71a949c28611be65d637f753": {
      "model_module": "@jupyter-widgets/base",
      "model_module_version": "1.2.0",
      "model_name": "LayoutModel",
      "state": {
       "align_items": "stretch",
       "display": "flex",
       "flex_flow": "row wrap",
       "width": "auto"
      }
     },
     "0c943427b0a34da8a13dd917eb4b6e1c": {
      "model_module": "@jupyter-widgets/controls",
      "model_module_version": "1.5.0",
      "model_name": "TextModel",
      "state": {
       "layout": "IPY_MODEL_85dd9892e0624eb1b44831b06f4070aa",
       "placeholder": "",
       "style": "IPY_MODEL_8be99aff5b3d4e73b0f8badf85a3657e"
      }
     },
     "0f4fcdddb43b4fb58b32750e07a9cde6": {
      "model_module": "@jupyter-widgets/controls",
      "model_module_version": "1.5.0",
      "model_name": "HBoxModel",
      "state": {
       "children": [
        "IPY_MODEL_08913456f6bb4d75a3983671056d6eda"
       ],
       "layout": "IPY_MODEL_a585a45658c34145bebbf58e88f82967"
      }
     },
     "107f361fe5394a8090b3f15773475557": {
      "model_module": "@jupyter-widgets/controls",
      "model_module_version": "1.5.0",
      "model_name": "ButtonStyleModel",
      "state": {
       "button_color": "#4DD0E1"
      }
     },
     "131360c5a59c48608c2367c470671b94": {
      "model_module": "@jupyter-widgets/controls",
      "model_module_version": "1.5.0",
      "model_name": "HBoxModel",
      "state": {
       "children": [
        "IPY_MODEL_2253283bd17c428dbde51f01781a179e",
        "IPY_MODEL_98d47023a92242c4972b4e41297f1481",
        "IPY_MODEL_f8cdadad35264ae69891ecd2b2295a1f"
       ],
       "layout": "IPY_MODEL_ef0404ce02eb4e7e9659c442da52b948"
      }
     },
     "156e88cbd645468cb5156977cadb8ca6": {
      "model_module": "@jupyter-widgets/controls",
      "model_module_version": "1.5.0",
      "model_name": "DescriptionStyleModel",
      "state": {
       "description_width": ""
      }
     },
     "15cdfd971e87472c9c13a0e77cfb1533": {
      "model_module": "@jupyter-widgets/controls",
      "model_module_version": "1.5.0",
      "model_name": "DescriptionStyleModel",
      "state": {
       "description_width": ""
      }
     },
     "1a5594f4447746128d75b80156b17c30": {
      "model_module": "@jupyter-widgets/base",
      "model_module_version": "1.2.0",
      "model_name": "LayoutModel",
      "state": {}
     },
     "1f83fded586f471cbdd56ecc7ed27654": {
      "model_module": "@jupyter-widgets/controls",
      "model_module_version": "1.5.0",
      "model_name": "DescriptionStyleModel",
      "state": {
       "description_width": ""
      }
     },
     "20c9bab382f041a5ba5d323f63a9493e": {
      "model_module": "@jupyter-widgets/base",
      "model_module_version": "1.2.0",
      "model_name": "LayoutModel",
      "state": {
       "width": "auto"
      }
     },
     "2253283bd17c428dbde51f01781a179e": {
      "model_module": "@jupyter-widgets/controls",
      "model_module_version": "1.5.0",
      "model_name": "ButtonModel",
      "state": {
       "description": "Submit",
       "layout": "IPY_MODEL_dd14254b113e49589e25b1fdce4ae6db",
       "style": "IPY_MODEL_3ee7e35c1bdb44f3b698be60da544b2c"
      }
     },
     "306a8742458d4dccb018f093f5624b25": {
      "model_module": "@jupyter-widgets/controls",
      "model_module_version": "1.5.0",
      "model_name": "HBoxModel",
      "state": {
       "children": [
        "IPY_MODEL_9ac0e152c0c54db4960131949e673041",
        "IPY_MODEL_0c943427b0a34da8a13dd917eb4b6e1c",
        "IPY_MODEL_0555d419c380463596087270408d9474"
       ],
       "layout": "IPY_MODEL_375d160a939e4b0f80577709b2c95d12"
      }
     },
     "308e899302884cf489c9c6f276d51950": {
      "model_module": "@jupyter-widgets/controls",
      "model_module_version": "1.5.0",
      "model_name": "ButtonModel",
      "state": {
       "description": "Submit",
       "layout": "IPY_MODEL_82dfb9524189472fa0ca5924354d3f72",
       "style": "IPY_MODEL_107f361fe5394a8090b3f15773475557"
      }
     },
     "375d160a939e4b0f80577709b2c95d12": {
      "model_module": "@jupyter-widgets/base",
      "model_module_version": "1.2.0",
      "model_name": "LayoutModel",
      "state": {
       "align_items": "stretch",
       "display": "flex",
       "flex_flow": "row wrap",
       "width": "auto"
      }
     },
     "37b7f4aa1c424a9aa7452120f2d6c4cc": {
      "model_module": "@jupyter-widgets/controls",
      "model_module_version": "1.5.0",
      "model_name": "HTMLModel",
      "state": {
       "layout": "IPY_MODEL_f51a0486bd7b4cb59cbb67baf8c41713",
       "style": "IPY_MODEL_930dc0ed759b4fa4bc17ae1d56923a64",
       "value": "<style>p{word-wrap: break-word}</style> <p>Fill in the blanks with a number or the subsequence written in square brackets like this [1,2,3]  </p>"
      }
     },
     "3dad29fd845047c0a3b20ae9218d566f": {
      "model_module": "@jupyter-widgets/base",
      "model_module_version": "1.2.0",
      "model_name": "LayoutModel",
      "state": {}
     },
     "3ee7e35c1bdb44f3b698be60da544b2c": {
      "model_module": "@jupyter-widgets/controls",
      "model_module_version": "1.5.0",
      "model_name": "ButtonStyleModel",
      "state": {
       "button_color": "#4DD0E1"
      }
     },
     "3f380977d26040879026065f87e7e579": {
      "model_module": "@jupyter-widgets/base",
      "model_module_version": "1.2.0",
      "model_name": "LayoutModel",
      "state": {
       "align_items": "stretch",
       "display": "flex",
       "flex_flow": "row wrap",
       "width": "auto"
      }
     },
     "3faf4371c80e4d2aa71988c8132f45ec": {
      "model_module": "@jupyter-widgets/base",
      "model_module_version": "1.2.0",
      "model_name": "LayoutModel",
      "state": {
       "align_items": "stretch",
       "display": "flex",
       "flex_flow": "row wrap",
       "margin": "30px 0 0 0"
      }
     },
     "48c791c13e384d348918c732e225229c": {
      "model_module": "@jupyter-widgets/controls",
      "model_module_version": "1.5.0",
      "model_name": "DescriptionStyleModel",
      "state": {
       "description_width": ""
      }
     },
     "4a8f678400b94d59b96bde8f02171bf0": {
      "model_module": "@jupyter-widgets/base",
      "model_module_version": "1.2.0",
      "model_name": "LayoutModel",
      "state": {}
     },
     "4cb480c566044e8ab57c8997c86ca2af": {
      "model_module": "@jupyter-widgets/base",
      "model_module_version": "1.2.0",
      "model_name": "LayoutModel",
      "state": {
       "width": "auto"
      }
     },
     "51df6f2456734d978fa22acb5739ee35": {
      "model_module": "@jupyter-widgets/base",
      "model_module_version": "1.2.0",
      "model_name": "LayoutModel",
      "state": {}
     },
     "541d47817a0b480da091c76da1e41a3a": {
      "model_module": "@jupyter-widgets/controls",
      "model_module_version": "1.5.0",
      "model_name": "TextModel",
      "state": {
       "layout": "IPY_MODEL_20c9bab382f041a5ba5d323f63a9493e",
       "placeholder": "",
       "style": "IPY_MODEL_b105dde8963040fdabaf75c1c3b09065"
      }
     },
     "5ab6e78fde4d485293979451cfd2ce4e": {
      "model_module": "@jupyter-widgets/controls",
      "model_module_version": "1.5.0",
      "model_name": "VBoxModel",
      "state": {
       "box_style": "info",
       "children": [
        "IPY_MODEL_06ba546e60c3401eb67ce57daccbb486",
        "IPY_MODEL_d3af60e8cf544bf7bf57087d035a122f",
        "IPY_MODEL_131360c5a59c48608c2367c470671b94"
       ],
       "layout": "IPY_MODEL_c49a27e1ff4640208b7afb3673905d2c"
      }
     },
     "6052a5aaa8854e21927eeed6191c6a37": {
      "model_module": "@jupyter-widgets/controls",
      "model_module_version": "1.5.0",
      "model_name": "DescriptionStyleModel",
      "state": {
       "description_width": ""
      }
     },
     "60cd020acb074c31a4376e18d3f0e708": {
      "model_module": "@jupyter-widgets/base",
      "model_module_version": "1.2.0",
      "model_name": "LayoutModel",
      "state": {
       "align_items": "stretch",
       "display": "flex",
       "flex_flow": "row wrap",
       "width": "auto"
      }
     },
     "66a52cf274d14006b93af1d5582c07c3": {
      "model_module": "@jupyter-widgets/controls",
      "model_module_version": "1.5.0",
      "model_name": "HTMLModel",
      "state": {
       "layout": "IPY_MODEL_c35c76efa92241348bda2837895244d4",
       "style": "IPY_MODEL_f89ea21e5949442fa1ce1c6a7d1977cf",
       "value": "<style>p{word-wrap: break-word}</style> <p>. </p>"
      }
     },
     "680b871c88f44cb386cc42549ff0a9fe": {
      "model_module": "@jupyter-widgets/controls",
      "model_module_version": "1.5.0",
      "model_name": "HBoxModel",
      "state": {
       "children": [
        "IPY_MODEL_8cdfee5880b64188b6b6eaf98ecbedba",
        "IPY_MODEL_541d47817a0b480da091c76da1e41a3a",
        "IPY_MODEL_66a52cf274d14006b93af1d5582c07c3"
       ],
       "layout": "IPY_MODEL_0b7465dd71a949c28611be65d637f753"
      }
     },
     "6849c905ae5b4e3e9f2ed746f6e40b68": {
      "model_module": "@jupyter-widgets/controls",
      "model_module_version": "1.5.0",
      "model_name": "HBoxModel",
      "state": {
       "children": [
        "IPY_MODEL_308e899302884cf489c9c6f276d51950",
        "IPY_MODEL_d75d5145542c46b0a9e64e1ee5a86cf4",
        "IPY_MODEL_9cef9a19bbc2429d98a70b5399ef8e19"
       ],
       "layout": "IPY_MODEL_3faf4371c80e4d2aa71988c8132f45ec"
      }
     },
     "6a016436dabf4cadad55500e43ce6222": {
      "model_module": "@jupyter-widgets/controls",
      "model_module_version": "1.5.0",
      "model_name": "DescriptionStyleModel",
      "state": {
       "description_width": ""
      }
     },
     "7211d34850a44063a010d4d1453a0932": {
      "model_module": "@jupyter-widgets/base",
      "model_module_version": "1.2.0",
      "model_name": "LayoutModel",
      "state": {}
     },
     "7ec9d19f1ce54d92be95e2caa6f4abef": {
      "model_module": "@jupyter-widgets/controls",
      "model_module_version": "1.5.0",
      "model_name": "DescriptionStyleModel",
      "state": {
       "description_width": ""
      }
     },
     "82dfb9524189472fa0ca5924354d3f72": {
      "model_module": "@jupyter-widgets/base",
      "model_module_version": "1.2.0",
      "model_name": "LayoutModel",
      "state": {}
     },
     "835f45ced28641b48455d0474bb8cb1e": {
      "model_module": "@jupyter-widgets/base",
      "model_module_version": "1.2.0",
      "model_name": "LayoutModel",
      "state": {
       "display": "none"
      }
     },
     "849bbe8aab8c4d3d84acdaf65e020392": {
      "model_module": "@jupyter-widgets/controls",
      "model_module_version": "1.5.0",
      "model_name": "HTMLModel",
      "state": {
       "layout": "IPY_MODEL_4a8f678400b94d59b96bde8f02171bf0",
       "style": "IPY_MODEL_48c791c13e384d348918c732e225229c",
       "value": "<style>p{word-wrap: break-word}</style> <p>. </p>"
      }
     },
     "85966d8cec024f0389fdc7d3b0668e3f": {
      "model_module": "@jupyter-widgets/base",
      "model_module_version": "1.2.0",
      "model_name": "LayoutModel",
      "state": {}
     },
     "85dd9892e0624eb1b44831b06f4070aa": {
      "model_module": "@jupyter-widgets/base",
      "model_module_version": "1.2.0",
      "model_name": "LayoutModel",
      "state": {
       "width": "auto"
      }
     },
     "86e1905a9ba54d518aecb3473d1d330c": {
      "model_module": "@jupyter-widgets/controls",
      "model_module_version": "1.5.0",
      "model_name": "DescriptionStyleModel",
      "state": {
       "description_width": ""
      }
     },
     "8be99aff5b3d4e73b0f8badf85a3657e": {
      "model_module": "@jupyter-widgets/controls",
      "model_module_version": "1.5.0",
      "model_name": "DescriptionStyleModel",
      "state": {
       "description_width": ""
      }
     },
     "8cdfee5880b64188b6b6eaf98ecbedba": {
      "model_module": "@jupyter-widgets/controls",
      "model_module_version": "1.5.0",
      "model_name": "HTMLModel",
      "state": {
       "layout": "IPY_MODEL_7211d34850a44063a010d4d1453a0932",
       "style": "IPY_MODEL_6052a5aaa8854e21927eeed6191c6a37",
       "value": "<style>p{word-wrap: break-word}</style> <p>How many times do the lines cross?:  </p>"
      }
     },
     "8dceceb3e87c4fbea21c0de15d88c9fe": {
      "model_module": "@jupyter-widgets/base",
      "model_module_version": "1.2.0",
      "model_name": "LayoutModel",
      "state": {
       "align_items": "stretch",
       "display": "flex",
       "flex_flow": "column",
       "width": "100%"
      }
     },
     "93027a36d7fa46f88402347980cd7b95": {
      "model_module": "@jupyter-widgets/controls",
      "model_module_version": "1.5.0",
      "model_name": "DescriptionStyleModel",
      "state": {
       "description_width": ""
      }
     },
     "930dc0ed759b4fa4bc17ae1d56923a64": {
      "model_module": "@jupyter-widgets/controls",
      "model_module_version": "1.5.0",
      "model_name": "DescriptionStyleModel",
      "state": {
       "description_width": ""
      }
     },
     "983008568bd948e9833b434e3339b1da": {
      "model_module": "@jupyter-widgets/controls",
      "model_module_version": "1.5.0",
      "model_name": "TextModel",
      "state": {
       "layout": "IPY_MODEL_4cb480c566044e8ab57c8997c86ca2af",
       "placeholder": "",
       "style": "IPY_MODEL_bd990011339d420e8f75ac4bfe7840b1"
      }
     },
     "98d47023a92242c4972b4e41297f1481": {
      "model_module": "@jupyter-widgets/controls",
      "model_module_version": "1.5.0",
      "model_name": "LabelModel",
      "state": {
       "layout": "IPY_MODEL_02eaf7c91e1145f89540b0afd4bc42a8",
       "style": "IPY_MODEL_7ec9d19f1ce54d92be95e2caa6f4abef"
      }
     },
     "9ac0e152c0c54db4960131949e673041": {
      "model_module": "@jupyter-widgets/controls",
      "model_module_version": "1.5.0",
      "model_name": "HTMLModel",
      "state": {
       "layout": "IPY_MODEL_bfd0188368a5461ab28a147d41b608f5",
       "style": "IPY_MODEL_ac5f422da6df40d9b685ce5cd3a9ed92",
       "value": "<style>p{word-wrap: break-word}</style> <p>The longest increasing subsequence of [4,5,3,2,1,6] is: </p>"
      }
     },
     "9cef9a19bbc2429d98a70b5399ef8e19": {
      "model_module": "@jupyter-widgets/controls",
      "model_module_version": "1.5.0",
      "model_name": "ButtonModel",
      "state": {
       "description": "Show answer",
       "disabled": true,
       "layout": "IPY_MODEL_835f45ced28641b48455d0474bb8cb1e",
       "style": "IPY_MODEL_d019dc2c2fad4f4387fb1319c569061e"
      }
     },
     "a585a45658c34145bebbf58e88f82967": {
      "model_module": "@jupyter-widgets/base",
      "model_module_version": "1.2.0",
      "model_name": "LayoutModel",
      "state": {
       "display": "flex",
       "flex_flow": "row",
       "justify_content": "space-between",
       "margin": "0 0 20px 0"
      }
     },
     "a5a3d2f54e7f4f51be6cb6299e2fbf37": {
      "model_module": "@jupyter-widgets/base",
      "model_module_version": "1.2.0",
      "model_name": "LayoutModel",
      "state": {
       "display": "flex",
       "flex_flow": "row",
       "justify_content": "space-between",
       "margin": "0 0 20px 0"
      }
     },
     "ac5f422da6df40d9b685ce5cd3a9ed92": {
      "model_module": "@jupyter-widgets/controls",
      "model_module_version": "1.5.0",
      "model_name": "DescriptionStyleModel",
      "state": {
       "description_width": ""
      }
     },
     "acf94c62a72d42b989b607db786e3561": {
      "model_module": "@jupyter-widgets/controls",
      "model_module_version": "1.5.0",
      "model_name": "VBoxModel",
      "state": {
       "box_style": "info",
       "children": [
        "IPY_MODEL_0f4fcdddb43b4fb58b32750e07a9cde6",
        "IPY_MODEL_e63da7a14dc6470fbbce0abb0bd879d4",
        "IPY_MODEL_6849c905ae5b4e3e9f2ed746f6e40b68"
       ],
       "layout": "IPY_MODEL_8dceceb3e87c4fbea21c0de15d88c9fe"
      }
     },
     "ad90ef09b1414eeebb2318f48296ef1d": {
      "model_module": "@jupyter-widgets/base",
      "model_module_version": "1.2.0",
      "model_name": "LayoutModel",
      "state": {
       "align_items": "stretch",
       "display": "flex",
       "flex_flow": "row wrap",
       "width": "auto"
      }
     },
     "b105dde8963040fdabaf75c1c3b09065": {
      "model_module": "@jupyter-widgets/controls",
      "model_module_version": "1.5.0",
      "model_name": "DescriptionStyleModel",
      "state": {
       "description_width": ""
      }
     },
     "bd990011339d420e8f75ac4bfe7840b1": {
      "model_module": "@jupyter-widgets/controls",
      "model_module_version": "1.5.0",
      "model_name": "DescriptionStyleModel",
      "state": {
       "description_width": ""
      }
     },
     "bfd0188368a5461ab28a147d41b608f5": {
      "model_module": "@jupyter-widgets/base",
      "model_module_version": "1.2.0",
      "model_name": "LayoutModel",
      "state": {}
     },
     "c35c76efa92241348bda2837895244d4": {
      "model_module": "@jupyter-widgets/base",
      "model_module_version": "1.2.0",
      "model_name": "LayoutModel",
      "state": {}
     },
     "c49a27e1ff4640208b7afb3673905d2c": {
      "model_module": "@jupyter-widgets/base",
      "model_module_version": "1.2.0",
      "model_name": "LayoutModel",
      "state": {
       "align_items": "stretch",
       "display": "flex",
       "flex_flow": "column",
       "width": "100%"
      }
     },
     "c5d1a174f7534d4491ffbc9e089d88fc": {
      "model_module": "@jupyter-widgets/base",
      "model_module_version": "1.2.0",
      "model_name": "LayoutModel",
      "state": {
       "display": "none"
      }
     },
     "d00a055735894e40b71aaa352057b5fa": {
      "model_module": "@jupyter-widgets/base",
      "model_module_version": "1.2.0",
      "model_name": "LayoutModel",
      "state": {
       "align_items": "stretch",
       "display": "flex",
       "flex_flow": "row wrap",
       "width": "auto"
      }
     },
     "d019dc2c2fad4f4387fb1319c569061e": {
      "model_module": "@jupyter-widgets/controls",
      "model_module_version": "1.5.0",
      "model_name": "ButtonStyleModel",
      "state": {
       "button_color": "#4DD0E1"
      }
     },
     "d110177786ca409aa8c5e092b4dcce7b": {
      "model_module": "@jupyter-widgets/controls",
      "model_module_version": "1.5.0",
      "model_name": "HBoxModel",
      "state": {
       "children": [
        "IPY_MODEL_ee183ddce3ed431290402c33ce5750f1",
        "IPY_MODEL_e751d43235d54c28a8949d3719fc79bc",
        "IPY_MODEL_d5c181e493c94e22aadef791dd2a1b7d"
       ],
       "layout": "IPY_MODEL_3f380977d26040879026065f87e7e579"
      }
     },
     "d3af60e8cf544bf7bf57087d035a122f": {
      "model_module": "@jupyter-widgets/controls",
      "model_module_version": "1.5.0",
      "model_name": "HBoxModel",
      "state": {
       "children": [
        "IPY_MODEL_d110177786ca409aa8c5e092b4dcce7b",
        "IPY_MODEL_f136b08d3f404f71bcd7ca0de73e6a03",
        "IPY_MODEL_306a8742458d4dccb018f093f5624b25"
       ],
       "layout": "IPY_MODEL_ad90ef09b1414eeebb2318f48296ef1d"
      }
     },
     "d5c181e493c94e22aadef791dd2a1b7d": {
      "model_module": "@jupyter-widgets/controls",
      "model_module_version": "1.5.0",
      "model_name": "HTMLModel",
      "state": {
       "layout": "IPY_MODEL_51df6f2456734d978fa22acb5739ee35",
       "style": "IPY_MODEL_15cdfd971e87472c9c13a0e77cfb1533",
       "value": "<style>p{word-wrap: break-word}</style> <p>. </p>"
      }
     },
     "d75d5145542c46b0a9e64e1ee5a86cf4": {
      "model_module": "@jupyter-widgets/controls",
      "model_module_version": "1.5.0",
      "model_name": "LabelModel",
      "state": {
       "layout": "IPY_MODEL_048646dc3c7d48c0b6720cdc23951b50",
       "style": "IPY_MODEL_088a78d2d2cb40049a2e17cca8f8cbed"
      }
     },
     "dd14254b113e49589e25b1fdce4ae6db": {
      "model_module": "@jupyter-widgets/base",
      "model_module_version": "1.2.0",
      "model_name": "LayoutModel",
      "state": {}
     },
     "e63da7a14dc6470fbbce0abb0bd879d4": {
      "model_module": "@jupyter-widgets/controls",
      "model_module_version": "1.5.0",
      "model_name": "HBoxModel",
      "state": {
       "children": [
        "IPY_MODEL_680b871c88f44cb386cc42549ff0a9fe"
       ],
       "layout": "IPY_MODEL_60cd020acb074c31a4376e18d3f0e708"
      }
     },
     "e751d43235d54c28a8949d3719fc79bc": {
      "model_module": "@jupyter-widgets/controls",
      "model_module_version": "1.5.0",
      "model_name": "TextModel",
      "state": {
       "layout": "IPY_MODEL_f724266717c545e7b86665595b0709f3",
       "placeholder": "",
       "style": "IPY_MODEL_93027a36d7fa46f88402347980cd7b95"
      }
     },
     "edcc397150de4fb19ad4b93e4a8ad8cd": {
      "model_module": "@jupyter-widgets/base",
      "model_module_version": "1.2.0",
      "model_name": "LayoutModel",
      "state": {}
     },
     "ee183ddce3ed431290402c33ce5750f1": {
      "model_module": "@jupyter-widgets/controls",
      "model_module_version": "1.5.0",
      "model_name": "HTMLModel",
      "state": {
       "layout": "IPY_MODEL_1a5594f4447746128d75b80156b17c30",
       "style": "IPY_MODEL_86e1905a9ba54d518aecb3473d1d330c",
       "value": "<style>p{word-wrap: break-word}</style> <p>The *length* of the longest increasing subsequence of [4,3,2,1] is:  </p>"
      }
     },
     "ef0404ce02eb4e7e9659c442da52b948": {
      "model_module": "@jupyter-widgets/base",
      "model_module_version": "1.2.0",
      "model_name": "LayoutModel",
      "state": {
       "align_items": "stretch",
       "display": "flex",
       "flex_flow": "row wrap",
       "margin": "30px 0 0 0"
      }
     },
     "f136b08d3f404f71bcd7ca0de73e6a03": {
      "model_module": "@jupyter-widgets/controls",
      "model_module_version": "1.5.0",
      "model_name": "HBoxModel",
      "state": {
       "children": [
        "IPY_MODEL_fde6bea2b924410398b1b2e7bf06974b",
        "IPY_MODEL_983008568bd948e9833b434e3339b1da",
        "IPY_MODEL_849bbe8aab8c4d3d84acdaf65e020392"
       ],
       "layout": "IPY_MODEL_d00a055735894e40b71aaa352057b5fa"
      }
     },
     "f23fd05ab1264341b5e5fc4697fac024": {
      "model_module": "@jupyter-widgets/controls",
      "model_module_version": "1.5.0",
      "model_name": "ButtonStyleModel",
      "state": {
       "button_color": "#4DD0E1"
      }
     },
     "f51a0486bd7b4cb59cbb67baf8c41713": {
      "model_module": "@jupyter-widgets/base",
      "model_module_version": "1.2.0",
      "model_name": "LayoutModel",
      "state": {}
     },
     "f724266717c545e7b86665595b0709f3": {
      "model_module": "@jupyter-widgets/base",
      "model_module_version": "1.2.0",
      "model_name": "LayoutModel",
      "state": {
       "width": "auto"
      }
     },
     "f89ea21e5949442fa1ce1c6a7d1977cf": {
      "model_module": "@jupyter-widgets/controls",
      "model_module_version": "1.5.0",
      "model_name": "DescriptionStyleModel",
      "state": {
       "description_width": ""
      }
     },
     "f8cdadad35264ae69891ecd2b2295a1f": {
      "model_module": "@jupyter-widgets/controls",
      "model_module_version": "1.5.0",
      "model_name": "ButtonModel",
      "state": {
       "description": "Show answer",
       "disabled": true,
       "layout": "IPY_MODEL_c5d1a174f7534d4491ffbc9e089d88fc",
       "style": "IPY_MODEL_f23fd05ab1264341b5e5fc4697fac024"
      }
     },
     "fde6bea2b924410398b1b2e7bf06974b": {
      "model_module": "@jupyter-widgets/controls",
      "model_module_version": "1.5.0",
      "model_name": "HTMLModel",
      "state": {
       "layout": "IPY_MODEL_3dad29fd845047c0a3b20ae9218d566f",
       "style": "IPY_MODEL_1f83fded586f471cbdd56ecc7ed27654",
       "value": "<style>p{word-wrap: break-word}</style> <p>The longest increasing subsequence of [4,5,3,2,1] is:  </p>"
      }
     }
    },
    "version_major": 2,
    "version_minor": 0
   }
  }
 },
 "nbformat": 4,
 "nbformat_minor": 4
}
