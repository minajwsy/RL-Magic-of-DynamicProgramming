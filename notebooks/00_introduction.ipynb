{
 "cells": [
  {
   "cell_type": "markdown",
   "metadata": {},
   "source": [
    "# Lesson 1: Introduction to Dynamic Programming <a class=\"tocSkip\">"
   ]
  },
  {
   "cell_type": "markdown",
   "metadata": {},
   "source": [
    "Welcome to the first lesson of Magic of Dynamic Programming. By the end of this course you will know a step-by-step method to design dynamic programming algorithms to solve the type of problems you get in algorithm classes and job interviews."
   ]
  },
  {
   "cell_type": "markdown",
   "metadata": {},
   "source": [
    "## This Classroom\n",
    "\n",
    "The course consists of these notebooks. Most of the content is delivered through __text__, __diagrams__ and __quizzes__. Some of the notebooks contain a __video__ to motivate the topic."
   ]
  },
  {
   "cell_type": "markdown",
   "metadata": {},
   "source": [
    "<div class=\"exercise exercise-info\">\n",
    "    <input type=\"checkbox\" id=\"see_quiz\" >\n",
    "    <label for=\"see_quiz\"> Do you see the <b>multiple choice quizzes</b> below?\"</label><br>\n",
    "</div>"
   ]
  },
  {
   "cell_type": "markdown",
   "metadata": {},
   "source": [
    "Quizzes should appear in blue (or is that cyan?) boxes like the one above.\n",
    "\n",
    "If you don't see the quizzes, or they have 'broken link' icons, just click on __Run All Cells__ from the __Run__ menu and wait a few seconds for the quizzes to load.\n",
    "\n",
    "Now let's check that you know how to run the exercises.. please complete the exercise below 😉 "
   ]
  },
  {
   "cell_type": "markdown",
   "metadata": {},
   "source": [
    "<div class=\"exercise exercise-info\">\n",
    "\n",
    "In order to execute a cell, select the cell by clicking it. Then press <code>Ctrl-Enter</code>. <br><br> Using <code>Shift-Enter</code> instead of Ctrl-Enter will execute the code and move to the next cell at the same time.<br><br>\n",
    "<hr>    \n",
    "<b>Exercise</b>: uncomment one line of code in the next cell, and run the cell to see what the cow says.\n",
    "</div>"
   ]
  },
  {
   "cell_type": "code",
   "execution_count": 1,
   "metadata": {
    "pycharm": {
     "name": "#%%\n"
    }
   },
   "outputs": [
    {
     "name": "stdout",
     "output_type": "stream",
     "text": [
      "+-------------------------------------------------+\n",
      "|                                                 |\n",
      "|                                                 |\n",
      "+-------------------------------------------------+\n",
      "        \\   ^__^\n",
      "         \\  (oo)\\_______\n",
      "            (__)\\       )\\/\\\n",
      "                 ||----w |\n",
      "                 ||     ||\n"
     ]
    }
   ],
   "source": [
    "print('+-------------------------------------------------+'); print('|                                                 |')\n",
    "X = [68, 121, 110, 97, 109 ,105, 99, 32, 80 ,114, 111, 103, 114, 97, 109, 111, 111 ,45, 105 ,110, 103, 32, 105, 115, 32 ,109, 121, 32, 102, 97, 118 ,111, 117, 114, 105, 116, 101, 32 ,115 ,117, 98, 106, 101, 99, 116, 33]\n",
    "cowsay ='| '\n",
    "for x in X:\n",
    "    cowsay+= chr(x)\n",
    "cowsay += '  |'\n",
    "#print (cowsay)\n",
    "print('|                                                 |');print('+-------------------------------------------------+');print('        \\\\   ^__^');print('         \\\\  (oo)\\\\_______');print('            (__)\\\\       )\\\\/\\\\');print('                 ||----w |');print('                 ||     ||')                                                     "
   ]
  },
  {
   "cell_type": "markdown",
   "metadata": {},
   "source": [
    "<div class=\"exercise exercise-info\">\n",
    "    From the pane to the left, click on the Table of Contents icon to see the notebook structure and and navigate within the notebook. Click on the Folder icon to navigate to other notebooks.\n",
    "</div>"
   ]
  },
  {
   "cell_type": "markdown",
   "metadata": {},
   "source": [
    "One more important note: Some of the code in these notebooks is for rendering the quizzes and such. I have hidden that type of code and left exercise starter code visible. You can always show or hide code cells by __Collapse Selected Cells__ from the __View__ menu or clicking to the left of a cell to hide it and on the __ellipses ...__ to SHOW it!"
   ]
  },
  {
   "cell_type": "code",
   "execution_count": 2,
   "metadata": {
    "jupyter": {
     "source_hidden": true
    }
   },
   "outputs": [
    {
     "data": {
      "application/vnd.jupyter.widget-view+json": {
       "model_id": "a0f2344a05534783889077248c479308",
       "version_major": 2,
       "version_minor": 0
      },
      "text/plain": [
       "VBox(box_style='info', children=(HBox(children=(HTML(value='<style>p{word-wrap: break-word}</style> <p>Check a…"
      ]
     },
     "metadata": {},
     "output_type": "display_data"
    }
   ],
   "source": [
    "%run \"quizzes/quiz.py\" \"quizzes/00/where_are_the_solutions.json\""
   ]
  },
  {
   "cell_type": "markdown",
   "metadata": {},
   "source": [
    "## What is Dynamic Programming?"
   ]
  },
  {
   "cell_type": "markdown",
   "metadata": {},
   "source": [
    "<figure>\n",
    "    <img src=\"../images/bellman_front_page.png\" width=\"300px\" alt=\"An Introduction to the Theory of Dynamic Programming\"/>\n",
    "    <figcaption><b>Figure 1.</b> Front page of 'An Introduction to the Theory of Dynamic Programming' (Bellman, 1953)</figcaption>\n",
    "</figure>"
   ]
  },
  {
   "cell_type": "markdown",
   "metadata": {
    "pycharm": {
     "name": "#%% md\n"
    }
   },
   "source": [
    "#### The origin of the term 'dynamic programming\n",
    "Richard Bellman was a professor of mathematics who worked for the RAND corporation in the 1950's. It's interesting to read the professor's own explanation of the term dynamic programming.\n",
    "<figure>\n",
    "    <img src=\"../images/bellman_preface_highlighted.png\" width = \"700px\"/>\n",
    "    <figcaption><b>Figure 2.</b> Screenshot from preface of 'An Introduction to the Theory of Dynamic Programming' (Bellman, 1953)</figcaption>\n",
    "</figure>"
   ]
  },
  {
   "cell_type": "code",
   "execution_count": 3,
   "metadata": {
    "jupyter": {
     "source_hidden": true
    },
    "pycharm": {
     "name": "#%% md\n"
    }
   },
   "outputs": [
    {
     "data": {
      "application/vnd.jupyter.widget-view+json": {
       "model_id": "300a4fa939484c98a69a738fb2b687a1",
       "version_major": 2,
       "version_minor": 0
      },
      "text/plain": [
       "VBox(box_style='info', children=(HBox(children=(HTML(value=\"<style>p{word-wrap: break-word}</style> <p>Check t…"
      ]
     },
     "metadata": {},
     "output_type": "display_data"
    }
   ],
   "source": [
    "%run \"quizzes/quiz.py\" \"quizzes/00/bellman.json\""
   ]
  },
  {
   "cell_type": "markdown",
   "metadata": {},
   "source": [
    "### Sum of n numbers\n",
    "When solving dynamic programming problems, you'll be turning top-down algorithms into **bottom-up** ones. So to limber up, let's start by practicing the other direction: In the following exercise you'll practice turning an algorithm that you _usually_ solve bottom-up into **top-down**!"
   ]
  },
  {
   "cell_type": "code",
   "execution_count": 4,
   "metadata": {
    "init_cell": true,
    "jupyter": {
     "source_hidden": true
    },
    "pycharm": {
     "name": "#%%\n"
    }
   },
   "outputs": [
    {
     "data": {
      "image/jpeg": "[encoded data removed]",
      "text/html": [
       "\n",
       "        <iframe\n",
       "            width=\"400\"\n",
       "            height=\"300\"\n",
       "            src=\"https://www.youtube.com/embed/roqumrTB9g0\"\n",
       "            frameborder=\"0\"\n",
       "            allowfullscreen\n",
       "        ></iframe>\n",
       "        "
      ],
      "text/plain": [
       "<IPython.lib.display.YouTubeVideo at 0x1c50a1520c8>"
      ]
     },
     "execution_count": 4,
     "metadata": {},
     "output_type": "execute_result"
    }
   ],
   "source": [
    "from IPython.display import YouTubeVideo\n",
    "YouTubeVideo('roqumrTB9g0')"
   ]
  },
  {
   "cell_type": "markdown",
   "metadata": {
    "jupyter": {
     "source_hidden": true
    }
   },
   "source": [
    "<div class=\"exercise exercise-info\">\n",
    "    Write a recursive function in Python to add a list of numbers. For example, if your list is {3, 1, 4}, the algorithm will output 8.\n",
    "<div    "
   ]
  },
  {
   "cell_type": "code",
   "execution_count": 5,
   "metadata": {
    "jupyter": {
     "source_hidden": true
    },
    "pycharm": {
     "name": "#%%\n"
    }
   },
   "outputs": [],
   "source": [
    "def sum(numbers):\n",
    "\n",
    "    #####################\n",
    "    # YOUR CODE HERE    #\n",
    "    #####################\n",
    "\n",
    "    return False\n",
    "\n"
   ]
  },
  {
   "cell_type": "code",
   "execution_count": 6,
   "metadata": {
    "collapsed": true,
    "jupyter": {
     "outputs_hidden": true,
     "source_hidden": true
    },
    "pycharm": {
     "name": "#%%\n"
    }
   },
   "outputs": [
    {
     "name": "stdout",
     "output_type": "stream",
     "text": [
      "False\n"
     ]
    }
   ],
   "source": [
    "# unit tests\n",
    "v = [3, 1, 4, 5, 9, 2, 6]\n",
    "print (sum(v))"
   ]
  },
  {
   "cell_type": "markdown",
   "metadata": {
    "jupyter": {
     "source_hidden": true
    },
    "pycharm": {
     "name": "#%% md\n"
    }
   },
   "source": [
    "### Check if a given string is a palindrome\n",
    "\n",
    "A string [palindrome](https://en.wikipedia.org/wiki/Palindrome) is a string that is exactly the same read backward as forward."
   ]
  },
  {
   "cell_type": "code",
   "execution_count": 7,
   "metadata": {
    "hide_input": false,
    "init_cell": true,
    "jupyter": {
     "source_hidden": true
    },
    "pycharm": {
     "name": "#%%\n"
    }
   },
   "outputs": [
    {
     "data": {
      "application/vnd.jupyter.widget-view+json": {
       "model_id": "65895f6ba7b44cd1b4f556a78d975a2e",
       "version_major": 2,
       "version_minor": 0
      },
      "text/plain": [
       "VBox(box_style='info', children=(HBox(children=(HTML(value='<style>p{word-wrap: break-word}</style> <p>Which o…"
      ]
     },
     "metadata": {},
     "output_type": "display_data"
    }
   ],
   "source": [
    "%run \"quizzes/quiz.py\" \"quizzes/00/palindrome_strings.json\""
   ]
  },
  {
   "cell_type": "markdown",
   "metadata": {
    "pycharm": {
     "name": "#%% md\n"
    }
   },
   "source": [
    "**An algorithm for is_palindrome:** We could test for whether a string with n characters is a palindrome by running along the string simultaneously from each end, using a 'left' pointer and a 'right' pointer until the pointers cross. At each step check if the characters under the left and right pointers match - if they don't: return false. If we get to the middle of the string and all the characters matched: return true."
   ]
  },
  {
   "cell_type": "code",
   "execution_count": 8,
   "metadata": {
    "init_cell": true,
    "jupyter": {
     "source_hidden": true
    },
    "pycharm": {
     "name": "#%%\n"
    }
   },
   "outputs": [
    {
     "data": {
      "application/vnd.jupyter.widget-view+json": {
       "model_id": "268c6a62f2804e7da5f7bb333f72ce76",
       "version_major": 2,
       "version_minor": 0
      },
      "text/plain": [
       "VBox(box_style='info', children=(HBox(children=(HTML(value='<style>p{word-wrap: break-word}</style> <p>Which t…"
      ]
     },
     "metadata": {},
     "output_type": "display_data"
    }
   ],
   "source": [
    "%run \"quizzes/quiz.py\" \"quizzes/00/palindrome_iterative.json\""
   ]
  },
  {
   "cell_type": "markdown",
   "metadata": {
    "deletable": false
   },
   "source": [
    "<div class=\"exercise exercise-info\">\n",
    "Now, as an exercise, write a _recursive_ function to check if a given string is a palindrome. The difference is subtle but important, so give it a try!\n",
    "<div>    "
   ]
  },
  {
   "cell_type": "code",
   "execution_count": 9,
   "metadata": {
    "pycharm": {
     "name": "#%%\n"
    }
   },
   "outputs": [],
   "source": [
    "def is_palindrome(s):\n",
    "\n",
    "    #####################\n",
    "    # YOUR CODE HERE    #\n",
    "    #####################\n",
    "\n",
    "    return False"
   ]
  },
  {
   "cell_type": "code",
   "execution_count": 10,
   "metadata": {
    "pycharm": {
     "name": "#%%\n"
    }
   },
   "outputs": [],
   "source": [
    "# sample unit tests\n",
    "tests = ['', 'a', 'abba', 'imma']\n",
    "expected = [True, True, True, False]\n",
    "actual = [is_palindrome(s) for s in tests]\n",
    "# assert(actual == expected)"
   ]
  },
  {
   "cell_type": "markdown",
   "metadata": {},
   "source": [
    "### Solutions"
   ]
  },
  {
   "cell_type": "markdown",
   "metadata": {
    "deletable": false,
    "pycharm": {
     "name": "#%% md\n"
    }
   },
   "source": [
    "<div class=\"exercise exercise-warning\"><details><summary>Sum of n numbers</summary>\n",
    "    \n",
    "```python   \n",
    "    # %load solutions/00/sum_n_numbers.py\n",
    "    def sum(numbers):\n",
    "\n",
    "        n = len(numbers)\n",
    "        if n <= 0:\n",
    "            return 0\n",
    "        return sum(numbers[0: n - 1]) + numbers[n - 1]\n",
    "\n",
    "```\n",
    "</details></div>"
   ]
  },
  {
   "cell_type": "markdown",
   "metadata": {},
   "source": [
    "<div class=\"exercise exercise-warning\"><details><summary>Is the string a palindrome?</summary>\n",
    "\n",
    "```python\n",
    "    # %load solutions/00/is_palindrome.py\n",
    "    def is_palindrome(s):\n",
    "\n",
    "        n = len(s)\n",
    "\n",
    "        if n == 0 or n == 1:\n",
    "            return 1\n",
    "        return s[0] == s[n - 1] and is_palindrome(s[1:n - 1])\n",
    "\n",
    "```\n",
    "\n",
    "</details></div>"
   ]
  },
  {
   "cell_type": "code",
   "execution_count": 11,
   "metadata": {
    "collapsed": false,
    "jupyter": {
     "outputs_hidden": false
    },
    "pycharm": {
     "name": "#%%\n"
    }
   },
   "outputs": [
    {
     "data": {
      "text/html": [
       "<style>\n",
       "    .alert {\n",
       "      padding: 15px;\n",
       "      margin-bottom: 20px;\n",
       "      border: 1px solid transparent;\n",
       "      border-radius: 4px;\n",
       "    }\n",
       "\n",
       "    .alert h4 {\n",
       "      margin-top: 0;\n",
       "      color: inherit;\n",
       "    }\n",
       "\n",
       "    .alert .alert-link {\n",
       "      font-weight: bold;\n",
       "    }\n",
       "\n",
       "    .alert > p,\n",
       "    .alert > ul {\n",
       "      margin-bottom: 0;\n",
       "    }\n",
       "\n",
       "    .alert > p + p {\n",
       "      margin-top: 5px;\n",
       "    }\n",
       "\n",
       "    .alert-dismissable,\n",
       "    .alert-dismissible {\n",
       "      padding-right: 35px;\n",
       "    }\n",
       "\n",
       "    .alert-dismissable .close,\n",
       "    .alert-dismissible .close {\n",
       "      position: relative;\n",
       "      top: -2px;\n",
       "      right: -21px;\n",
       "      color: inherit;\n",
       "    }\n",
       "\n",
       "    .alert-success {\n",
       "      background-color: #C8E6C9;\n",
       "      border-color: #81C784;\n",
       "      color: #388E3C;\n",
       "    }\n",
       "\n",
       "    .alert-success hr {\n",
       "      border-top-color: #AED581;\n",
       "    }\n",
       "\n",
       "    .alert-success .alert-link {\n",
       "      color: #2E7D32;\n",
       "    }\n",
       "\n",
       "    .alert-info {\n",
       "      background-color: #B2EBF2;\n",
       "      border-color: #4DD0E1;\n",
       "      color: #0097A7;\n",
       "    }\n",
       "\n",
       "    .alert-info hr {\n",
       "      border-top-color: #00838F;\n",
       "    }\n",
       "\n",
       "    .alert-info .alert-link {\n",
       "      color: #245269;\n",
       "    }\n",
       "\n",
       "    .alert-warning {\n",
       "      background-color: #FFE0B2;\n",
       "      border-color: #FFB74D;\n",
       "      color: #F57C00;\n",
       "    }\n",
       "\n",
       "    .alert-warning hr {\n",
       "      border-top-color: #FFB74D;\n",
       "    }\n",
       "\n",
       "    .alert-warning .alert-link {\n",
       "      color: #EF6C00;\n",
       "    }\n",
       "\n",
       "    .alert-danger {\n",
       "      background-color: #ffcdd2;\n",
       "      border-color: #e57373;\n",
       "      color: #d32f2f;\n",
       "    }\n",
       "\n",
       "    .alert-danger hr {\n",
       "      border-top-color: #d32f2f;\n",
       "    }\n",
       "\n",
       "    .alert-danger .alert-link {\n",
       "      color: #c62828;\n",
       "    }\n",
       "    \n",
       "\n",
       "    .exercise {\n",
       "      padding: 15px;\n",
       "      margin-bottom: 20px;\n",
       "      border: 1px solid transparent;\n",
       "      border-radius: 4px;\n",
       "    }\n",
       "\n",
       "    .exercise h4 {\n",
       "      margin-top: 0;\n",
       "      color: inherit;\n",
       "    }\n",
       "\n",
       "    .exercise .alert-link {\n",
       "      font-weight: bold;\n",
       "    }\n",
       "\n",
       "    .exercise > p,\n",
       "    .exercise > ul {\n",
       "      margin-bottom: 0;\n",
       "    }\n",
       "\n",
       "    .exercise > p + p {\n",
       "      margin-top: 5px;\n",
       "    }\n",
       "\n",
       "    .exercise-info {\n",
       "      background-color: #B2EBF2;\n",
       "      border-color: #4DD0E1;\n",
       "      color: #000000;\n",
       "    }\n",
       "\n",
       "    .exercise-info hr {\n",
       "      border-top-color: #00838F;\n",
       "    }\n",
       "\n",
       "    .exercise-info .alert-link {\n",
       "      color: #245269;\n",
       "    }\n",
       "\n",
       "   .exercise-warning {\n",
       "      background-color: #FFE0B2;\n",
       "      border-color: #FFB74D;\n",
       "      color: #000000;\n",
       "    }\n",
       "\n",
       "    .exercise-warning hr {\n",
       "      border-top-color: #FFB74D;\n",
       "    }\n",
       "\n",
       "    .excercise-warning .alert-link {\n",
       "      color: #EF6C00;\n",
       "    }\n",
       "\n",
       "\n",
       "</style>\n"
      ],
      "text/plain": [
       "<IPython.core.display.HTML object>"
      ]
     },
     "execution_count": 11,
     "metadata": {},
     "output_type": "execute_result"
    }
   ],
   "source": [
    "# workaround for known ipywidget issue not rendering alert style colours on Jupyter lab\n",
    "from IPython.core.display import HTML\n",
    "HTML(open(\"../styles/custom.css\", \"r\").read())"
   ]
  },
  {
   "cell_type": "code",
   "execution_count": 12,
   "metadata": {
    "collapsed": false,
    "jupyter": {
     "outputs_hidden": false
    },
    "pycharm": {
     "name": "#%%\n"
    }
   },
   "outputs": [
    {
     "data": {
      "text/html": [
       "<style>\n",
       "    .alert {\n",
       "      padding: 15px;\n",
       "      margin-bottom: 20px;\n",
       "      border: 1px solid transparent;\n",
       "      border-radius: 4px;\n",
       "    }\n",
       "\n",
       "    .alert h4 {\n",
       "      margin-top: 0;\n",
       "      color: inherit;\n",
       "    }\n",
       "\n",
       "    .alert .alert-link {\n",
       "      font-weight: bold;\n",
       "    }\n",
       "\n",
       "    .alert > p,\n",
       "    .alert > ul {\n",
       "      margin-bottom: 0;\n",
       "    }\n",
       "\n",
       "    .alert > p + p {\n",
       "      margin-top: 5px;\n",
       "    }\n",
       "\n",
       "    .alert-dismissable,\n",
       "    .alert-dismissible {\n",
       "      padding-right: 35px;\n",
       "    }\n",
       "\n",
       "    .alert-dismissable .close,\n",
       "    .alert-dismissible .close {\n",
       "      position: relative;\n",
       "      top: -2px;\n",
       "      right: -21px;\n",
       "      color: inherit;\n",
       "    }\n",
       "\n",
       "    .alert-success {\n",
       "      background-color: #C8E6C9;\n",
       "      border-color: #81C784;\n",
       "      color: #388E3C;\n",
       "    }\n",
       "\n",
       "    .alert-success hr {\n",
       "      border-top-color: #AED581;\n",
       "    }\n",
       "\n",
       "    .alert-success .alert-link {\n",
       "      color: #2E7D32;\n",
       "    }\n",
       "\n",
       "    .alert-info {\n",
       "      background-color: #B2EBF2;\n",
       "      border-color: #4DD0E1;\n",
       "      color: #0097A7;\n",
       "    }\n",
       "\n",
       "    .alert-info hr {\n",
       "      border-top-color: #00838F;\n",
       "    }\n",
       "\n",
       "    .alert-info .alert-link {\n",
       "      color: #245269;\n",
       "    }\n",
       "\n",
       "    .alert-warning {\n",
       "      background-color: #FFE0B2;\n",
       "      border-color: #FFB74D;\n",
       "      color: #F57C00;\n",
       "    }\n",
       "\n",
       "    .alert-warning hr {\n",
       "      border-top-color: #FFB74D;\n",
       "    }\n",
       "\n",
       "    .alert-warning .alert-link {\n",
       "      color: #EF6C00;\n",
       "    }\n",
       "\n",
       "    .alert-danger {\n",
       "      background-color: #ffcdd2;\n",
       "      border-color: #e57373;\n",
       "      color: #d32f2f;\n",
       "    }\n",
       "\n",
       "    .alert-danger hr {\n",
       "      border-top-color: #d32f2f;\n",
       "    }\n",
       "\n",
       "    .alert-danger .alert-link {\n",
       "      color: #c62828;\n",
       "    }\n",
       "    \n",
       "\n",
       "    .exercise {\n",
       "      padding: 15px;\n",
       "      margin-bottom: 20px;\n",
       "      border: 1px solid transparent;\n",
       "      border-radius: 4px;\n",
       "    }\n",
       "\n",
       "    .exercise h4 {\n",
       "      margin-top: 0;\n",
       "      color: inherit;\n",
       "    }\n",
       "\n",
       "    .exercise .alert-link {\n",
       "      font-weight: bold;\n",
       "    }\n",
       "\n",
       "    .exercise > p,\n",
       "    .exercise > ul {\n",
       "      margin-bottom: 0;\n",
       "    }\n",
       "\n",
       "    .exercise > p + p {\n",
       "      margin-top: 5px;\n",
       "    }\n",
       "\n",
       "    .exercise-info {\n",
       "      background-color: #B2EBF2;\n",
       "      border-color: #4DD0E1;\n",
       "      color: #000000;\n",
       "    }\n",
       "\n",
       "    .exercise-info hr {\n",
       "      border-top-color: #00838F;\n",
       "    }\n",
       "\n",
       "    .exercise-info .alert-link {\n",
       "      color: #245269;\n",
       "    }\n",
       "\n",
       "   .exercise-warning {\n",
       "      background-color: #FFE0B2;\n",
       "      border-color: #FFB74D;\n",
       "      color: #000000;\n",
       "    }\n",
       "\n",
       "    .exercise-warning hr {\n",
       "      border-top-color: #FFB74D;\n",
       "    }\n",
       "\n",
       "    .excercise-warning .alert-link {\n",
       "      color: #EF6C00;\n",
       "    }\n",
       "\n",
       "\n",
       "</style>\n"
      ],
      "text/plain": [
       "<IPython.core.display.HTML object>"
      ]
     },
     "execution_count": 12,
     "metadata": {},
     "output_type": "execute_result"
    }
   ],
   "source": [
    "# workaround for known ipywidget issue not rendering alert style colours on Jupyter lab\n",
    "from IPython.core.display import HTML\n",
    "HTML(open(\"../styles/custom.css\", \"r\").read())"
   ]
  },
  {
   "cell_type": "code",
   "execution_count": 13,
   "metadata": {
    "jupyter": {
     "source_hidden": true
    }
   },
   "outputs": [
    {
     "data": {
      "text/html": [
       "<style>\n",
       "    .alert {\n",
       "      padding: 15px;\n",
       "      margin-bottom: 20px;\n",
       "      border: 1px solid transparent;\n",
       "      border-radius: 4px;\n",
       "    }\n",
       "\n",
       "    .alert h4 {\n",
       "      margin-top: 0;\n",
       "      color: inherit;\n",
       "    }\n",
       "\n",
       "    .alert .alert-link {\n",
       "      font-weight: bold;\n",
       "    }\n",
       "\n",
       "    .alert > p,\n",
       "    .alert > ul {\n",
       "      margin-bottom: 0;\n",
       "    }\n",
       "\n",
       "    .alert > p + p {\n",
       "      margin-top: 5px;\n",
       "    }\n",
       "\n",
       "    .alert-dismissable,\n",
       "    .alert-dismissible {\n",
       "      padding-right: 35px;\n",
       "    }\n",
       "\n",
       "    .alert-dismissable .close,\n",
       "    .alert-dismissible .close {\n",
       "      position: relative;\n",
       "      top: -2px;\n",
       "      right: -21px;\n",
       "      color: inherit;\n",
       "    }\n",
       "\n",
       "    .alert-success {\n",
       "      background-color: #C8E6C9;\n",
       "      border-color: #81C784;\n",
       "      color: #388E3C;\n",
       "    }\n",
       "\n",
       "    .alert-success hr {\n",
       "      border-top-color: #AED581;\n",
       "    }\n",
       "\n",
       "    .alert-success .alert-link {\n",
       "      color: #2E7D32;\n",
       "    }\n",
       "\n",
       "    .alert-info {\n",
       "      background-color: #B2EBF2;\n",
       "      border-color: #4DD0E1;\n",
       "      color: #0097A7;\n",
       "    }\n",
       "\n",
       "    .alert-info hr {\n",
       "      border-top-color: #00838F;\n",
       "    }\n",
       "\n",
       "    .alert-info .alert-link {\n",
       "      color: #245269;\n",
       "    }\n",
       "\n",
       "    .alert-warning {\n",
       "      background-color: #FFE0B2;\n",
       "      border-color: #FFB74D;\n",
       "      color: #F57C00;\n",
       "    }\n",
       "\n",
       "    .alert-warning hr {\n",
       "      border-top-color: #FFB74D;\n",
       "    }\n",
       "\n",
       "    .alert-warning .alert-link {\n",
       "      color: #EF6C00;\n",
       "    }\n",
       "\n",
       "    .alert-danger {\n",
       "      background-color: #ffcdd2;\n",
       "      border-color: #e57373;\n",
       "      color: #d32f2f;\n",
       "    }\n",
       "\n",
       "    .alert-danger hr {\n",
       "      border-top-color: #d32f2f;\n",
       "    }\n",
       "\n",
       "    .alert-danger .alert-link {\n",
       "      color: #c62828;\n",
       "    }\n",
       "    \n",
       "\n",
       "    .exercise {\n",
       "      padding: 15px;\n",
       "      margin-bottom: 20px;\n",
       "      border: 1px solid transparent;\n",
       "      border-radius: 4px;\n",
       "    }\n",
       "\n",
       "    .exercise h4 {\n",
       "      margin-top: 0;\n",
       "      color: inherit;\n",
       "    }\n",
       "\n",
       "    .exercise .alert-link {\n",
       "      font-weight: bold;\n",
       "    }\n",
       "\n",
       "    .exercise > p,\n",
       "    .exercise > ul {\n",
       "      margin-bottom: 0;\n",
       "    }\n",
       "\n",
       "    .exercise > p + p {\n",
       "      margin-top: 5px;\n",
       "    }\n",
       "\n",
       "    .exercise-info {\n",
       "      background-color: #B2EBF2;\n",
       "      border-color: #4DD0E1;\n",
       "      color: #000000;\n",
       "    }\n",
       "\n",
       "    .exercise-info hr {\n",
       "      border-top-color: #00838F;\n",
       "    }\n",
       "\n",
       "    .exercise-info .alert-link {\n",
       "      color: #245269;\n",
       "    }\n",
       "\n",
       "   .exercise-warning {\n",
       "      background-color: #FFE0B2;\n",
       "      border-color: #FFB74D;\n",
       "      color: #000000;\n",
       "    }\n",
       "\n",
       "    .exercise-warning hr {\n",
       "      border-top-color: #FFB74D;\n",
       "    }\n",
       "\n",
       "    .excercise-warning .alert-link {\n",
       "      color: #EF6C00;\n",
       "    }\n",
       "\n",
       "\n",
       "</style>\n"
      ],
      "text/plain": [
       "<IPython.core.display.HTML object>"
      ]
     },
     "execution_count": 13,
     "metadata": {},
     "output_type": "execute_result"
    }
   ],
   "source": [
    "# workaround for known ipywidget issue not rendering alert style colours on Jupyter lab\n",
    "from IPython.core.display import HTML\n",
    "HTML(open(\"../styles/custom.css\", \"r\").read())"
   ]
  }
 ],
 "metadata": {
  "celltoolbar": "Edit Metadata",
  "kernelspec": {
   "display_name": "Python 3",
   "language": "python",
   "name": "python3"
  },
  "language_info": {
   "codemirror_mode": {
    "name": "ipython",
    "version": 3
   },
   "file_extension": ".py",
   "mimetype": "text/x-python",
   "name": "python",
   "nbconvert_exporter": "python",
   "pygments_lexer": "ipython3",
   "version": "3.7.6"
  },
  "latex_envs": {
   "LaTeX_envs_menu_present": true,
   "autoclose": false,
   "autocomplete": true,
   "bibliofile": "biblio.bib",
   "cite_by": "apalike",
   "current_citInitial": 1,
   "eqLabelWithNumbers": true,
   "eqNumInitial": 1,
   "hotkeys": {
    "equation": "Ctrl-E",
    "itemize": "Ctrl-I"
   },
   "labels_anchors": false,
   "latex_user_defs": false,
   "report_style_numbering": false,
   "user_envs_cfg": false
  },
  "toc": {
   "base_numbering": "",
   "nav_menu": {},
   "number_sections": false,
   "sideBar": true,
   "skip_h1_title": true,
   "title_cell": "Table of Contents",
   "title_sidebar": "Contents",
   "toc_cell": false,
   "toc_position": {
    "height": "calc(100% - 180px)",
    "left": "10px",
    "top": "150px",
    "width": "380.391px"
   },
   "toc_section_display": true,
   "toc_window_display": true
  },
  "toc-showmarkdowntxt": false,
  "widgets": {
   "application/vnd.jupyter.widget-state+json": {
    "state": {
     "00330d612772496f8d1cba13c55ef9f8": {
      "model_module": "@jupyter-widgets/base",
      "model_module_version": "1.2.0",
      "model_name": "LayoutModel",
      "state": {
       "align_items": "stretch",
       "display": "flex",
       "flex_flow": "row wrap",
       "width": "auto"
      }
     },
     "0146ef6329df483faad4fc5f1998b312": {
      "model_module": "@jupyter-widgets/controls",
      "model_module_version": "1.5.0",
      "model_name": "VBoxModel",
      "state": {
       "children": [
        "IPY_MODEL_b2dac4e1a2374e99952ff4695842fc17",
        "IPY_MODEL_5e79f23d154e420d8c651929c9a4b676",
        "IPY_MODEL_c9bf9ed33bb04a99b9f215b1f479aae8",
        "IPY_MODEL_4b64671fd932448bb82bdf6807994080",
        "IPY_MODEL_ec567434f96f476a9e0d6c1182c593cf"
       ],
       "layout": "IPY_MODEL_ff7fd948b89342c59a9123055ee71234"
      }
     },
     "0269bfb1a58c49f08cde2a516983889e": {
      "model_module": "@jupyter-widgets/controls",
      "model_module_version": "1.5.0",
      "model_name": "ButtonModel",
      "state": {
       "description": "Submit",
       "layout": "IPY_MODEL_329085bab8184f1b8e0f0a4493493570",
       "style": "IPY_MODEL_4797e10ef85045b0ab0b68279a5b4c8f"
      }
     },
     "02d71145de984c20a7483cccf4378972": {
      "model_module": "@jupyter-widgets/base",
      "model_module_version": "1.2.0",
      "model_name": "LayoutModel",
      "state": {}
     },
     "039c217d7181462b857ccaf930132028": {
      "model_module": "@jupyter-widgets/base",
      "model_module_version": "1.2.0",
      "model_name": "LayoutModel",
      "state": {
       "align_items": "stretch",
       "display": "flex",
       "flex_flow": "row wrap",
       "width": "auto"
      }
     },
     "04b756b57e3c48478c74bc8f0128a4bb": {
      "model_module": "@jupyter-widgets/base",
      "model_module_version": "1.2.0",
      "model_name": "LayoutModel",
      "state": {
       "align_items": "stretch",
       "display": "flex",
       "flex_flow": "row wrap",
       "width": "auto"
      }
     },
     "04f8ce21995e487b8bd5d6ebdfe9fefa": {
      "model_module": "@jupyter-widgets/controls",
      "model_module_version": "1.5.0",
      "model_name": "CheckboxModel",
      "state": {
       "disabled": false,
       "layout": "IPY_MODEL_2beb6787083d4d969da8a0d19308052f",
       "style": "IPY_MODEL_05ab5109515b495d961badb376152725",
       "value": false
      }
     },
     "05ab5109515b495d961badb376152725": {
      "model_module": "@jupyter-widgets/controls",
      "model_module_version": "1.5.0",
      "model_name": "DescriptionStyleModel",
      "state": {
       "description_width": "initial"
      }
     },
     "062ff11d7c4f43a6a946d4f2d10fac5d": {
      "model_module": "@jupyter-widgets/controls",
      "model_module_version": "1.5.0",
      "model_name": "DescriptionStyleModel",
      "state": {
       "description_width": ""
      }
     },
     "08cffbffae4d404ba76c6f63d48c19a2": {
      "model_module": "@jupyter-widgets/controls",
      "model_module_version": "1.5.0",
      "model_name": "HTMLModel",
      "state": {
       "layout": "IPY_MODEL_c1cbc137054f40d2ad29b2e30b00d00e",
       "style": "IPY_MODEL_4859c2c59c57444bb3ab52c47c976a62",
       "value": "<style>p{word-wrap: break-word}</style> <p>Which of the following strings are palindromes? </p>"
      }
     },
     "0ba780133bed4062a824dddcfb43fe20": {
      "model_module": "@jupyter-widgets/controls",
      "model_module_version": "1.5.0",
      "model_name": "HBoxModel",
      "state": {
       "children": [
        "IPY_MODEL_747f2e892f4c41b7889513b3719bd025",
        "IPY_MODEL_f01068fe48a54b9ba57d1a8c26ec8de4"
       ],
       "layout": "IPY_MODEL_2f998d9441124fedbecdf21b97eee2a9"
      }
     },
     "0bf24026faaa4afab338c02dc5dbc466": {
      "model_module": "@jupyter-widgets/base",
      "model_module_version": "1.2.0",
      "model_name": "LayoutModel",
      "state": {
       "align_items": "stretch",
       "display": "flex",
       "flex_flow": "row wrap",
       "width": "auto"
      }
     },
     "0cf8bc8c8e3d40b6ab58d1bc42d75b37": {
      "model_module": "@jupyter-widgets/base",
      "model_module_version": "1.2.0",
      "model_name": "LayoutModel",
      "state": {
       "align_items": "stretch",
       "display": "flex",
       "flex_flow": "row wrap",
       "width": "auto"
      }
     },
     "0dea5c244d784b0bb8555dc67aa5b220": {
      "model_module": "@jupyter-widgets/controls",
      "model_module_version": "1.5.0",
      "model_name": "HTMLModel",
      "state": {
       "layout": "IPY_MODEL_b2b2fd70245543a69113fc7be9436fe4",
       "style": "IPY_MODEL_8befafd599ac450fa9e1b22e5b7db4c2",
       "value": "<style>p{word-wrap: break-word}</style> <p>Dynamic programming is concerned with planning a process that has multiple stages. </p>"
      }
     },
     "0e9d9765cb6948f688a9b36a97efed81": {
      "model_module": "@jupyter-widgets/controls",
      "model_module_version": "1.5.0",
      "model_name": "DescriptionStyleModel",
      "state": {
       "description_width": "initial"
      }
     },
     "0f370d000e3a43b6b9732560f253e2b1": {
      "model_module": "@jupyter-widgets/controls",
      "model_module_version": "1.5.0",
      "model_name": "DescriptionStyleModel",
      "state": {
       "description_width": ""
      }
     },
     "108c42b5245f41dba0d62dc3abb04dc5": {
      "model_module": "@jupyter-widgets/controls",
      "model_module_version": "1.5.0",
      "model_name": "DescriptionStyleModel",
      "state": {
       "description_width": ""
      }
     },
     "10ac665e7b684e238af1cdf469e5d012": {
      "model_module": "@jupyter-widgets/controls",
      "model_module_version": "1.5.0",
      "model_name": "LabelModel",
      "state": {
       "layout": "IPY_MODEL_4aaa5a47ded44f188a00267cec3df962",
       "style": "IPY_MODEL_885c4fca04684101a019c121dfe2b923"
      }
     },
     "10b0b9decae74b4da48df7ff349a60b8": {
      "model_module": "@jupyter-widgets/controls",
      "model_module_version": "1.5.0",
      "model_name": "HBoxModel",
      "state": {
       "children": [
        "IPY_MODEL_08cffbffae4d404ba76c6f63d48c19a2"
       ],
       "layout": "IPY_MODEL_839264ec70ac45c6a58ebba7724946d0"
      }
     },
     "10d2f535bc8d43fdacc9de986efacaa6": {
      "model_module": "@jupyter-widgets/base",
      "model_module_version": "1.2.0",
      "model_name": "LayoutModel",
      "state": {
       "align_items": "stretch",
       "display": "flex",
       "flex_flow": "column",
       "width": "100%"
      }
     },
     "111ea7391ab846e3a2717154cbddf658": {
      "model_module": "@jupyter-widgets/controls",
      "model_module_version": "1.5.0",
      "model_name": "DescriptionStyleModel",
      "state": {
       "description_width": ""
      }
     },
     "114061c80145451289491e1f172024d6": {
      "model_module": "@jupyter-widgets/base",
      "model_module_version": "1.2.0",
      "model_name": "LayoutModel",
      "state": {
       "align_items": "stretch",
       "display": "flex",
       "flex_flow": "row wrap",
       "width": "auto"
      }
     },
     "11686e08257a4a5c931c9c94cf56db05": {
      "model_module": "@jupyter-widgets/controls",
      "model_module_version": "1.5.0",
      "model_name": "HBoxModel",
      "state": {
       "children": [
        "IPY_MODEL_70a5d60082ad4afba0c99523edd41789",
        "IPY_MODEL_dc8c5d68d4fd44739e1f0941ca760257"
       ],
       "layout": "IPY_MODEL_66fe48f16da04e878c5bba15f86917da"
      }
     },
     "132b4249f5894f00aeaaf74b1f2aae6e": {
      "model_module": "@jupyter-widgets/base",
      "model_module_version": "1.2.0",
      "model_name": "LayoutModel",
      "state": {}
     },
     "13d232abefb74befa6aff56b2ed626b0": {
      "model_module": "@jupyter-widgets/base",
      "model_module_version": "1.2.0",
      "model_name": "LayoutModel",
      "state": {
       "width": "30px"
      }
     },
     "13d3cb147b814812b0c30a324b750612": {
      "model_module": "@jupyter-widgets/controls",
      "model_module_version": "1.5.0",
      "model_name": "CheckboxModel",
      "state": {
       "disabled": false,
       "layout": "IPY_MODEL_b0fc29a0a587497784180b224ed2ef34",
       "style": "IPY_MODEL_41aa4c31efa94c24b96fa7b3a69ac282",
       "value": false
      }
     },
     "13e0ae3b9ff949c69b5a86cf569b93e8": {
      "model_module": "@jupyter-widgets/base",
      "model_module_version": "1.2.0",
      "model_name": "LayoutModel",
      "state": {}
     },
     "14074e4c63244bc28b8a47bceac63a88": {
      "model_module": "@jupyter-widgets/base",
      "model_module_version": "1.2.0",
      "model_name": "LayoutModel",
      "state": {
       "height": "50%",
       "margin": "0 0 0 30px",
       "width": "50%"
      }
     },
     "14c55f061d0c4f96ad2306cd2af3b6fe": {
      "model_module": "@jupyter-widgets/controls",
      "model_module_version": "1.5.0",
      "model_name": "CheckboxModel",
      "state": {
       "disabled": false,
       "layout": "IPY_MODEL_828e6dd63cb04611804fb8d6d99e3989",
       "style": "IPY_MODEL_8410bc3819ed4119b76cb306812d81fd",
       "value": false
      }
     },
     "14daa09da56a4f20b683a811ab5e5529": {
      "model_module": "@jupyter-widgets/controls",
      "model_module_version": "1.5.0",
      "model_name": "DescriptionStyleModel",
      "state": {
       "description_width": ""
      }
     },
     "159f3863899e4db68d5fdee8af1db872": {
      "model_module": "@jupyter-widgets/controls",
      "model_module_version": "1.5.0",
      "model_name": "HBoxModel",
      "state": {
       "children": [
        "IPY_MODEL_4a346e9ad4194d9da5a0cd94b77da41c",
        "IPY_MODEL_d25cd381caa948e4aa129cb3449a2c1b",
        "IPY_MODEL_7ae37e8186c84af895dcd7408bf74940"
       ],
       "layout": "IPY_MODEL_cc59e1c01e3f4170b90aeeb24e0092f3"
      }
     },
     "167be183ec33413db117664deedbd8f1": {
      "model_module": "@jupyter-widgets/base",
      "model_module_version": "1.2.0",
      "model_name": "LayoutModel",
      "state": {}
     },
     "16c2d7b22964406d92141d7d495d8504": {
      "model_module": "@jupyter-widgets/controls",
      "model_module_version": "1.5.0",
      "model_name": "CheckboxModel",
      "state": {
       "disabled": false,
       "layout": "IPY_MODEL_9f9f0762ac514b1c91becb79adc07348",
       "style": "IPY_MODEL_679ac9604e9a4632bd305a1775b6554e",
       "value": false
      }
     },
     "173f7acc3cad4019a3e555c25663c78b": {
      "model_module": "@jupyter-widgets/base",
      "model_module_version": "1.2.0",
      "model_name": "LayoutModel",
      "state": {
       "display": "flex",
       "flex_flow": "row",
       "justify_content": "space-between",
       "margin": "0 0 20px 0"
      }
     },
     "17b01bbadb2041a88fbb39502b5a786e": {
      "model_module": "@jupyter-widgets/base",
      "model_module_version": "1.2.0",
      "model_name": "LayoutModel",
      "state": {
       "display": "none"
      }
     },
     "1879778ab2394273b9c521b5db625261": {
      "model_module": "@jupyter-widgets/controls",
      "model_module_version": "1.5.0",
      "model_name": "LabelModel",
      "state": {
       "layout": "IPY_MODEL_132b4249f5894f00aeaaf74b1f2aae6e",
       "style": "IPY_MODEL_9b124889242641249ac32f855cedaa9a"
      }
     },
     "18a71da80b924ae1a88ab82af7e53ebf": {
      "model_module": "@jupyter-widgets/base",
      "model_module_version": "1.2.0",
      "model_name": "LayoutModel",
      "state": {
       "width": "30px"
      }
     },
     "18d44fbf7e944fd9a85ddfb72ee015bf": {
      "model_module": "@jupyter-widgets/base",
      "model_module_version": "1.2.0",
      "model_name": "LayoutModel",
      "state": {}
     },
     "18ef2ab9bc5c449fbbc5c8d6c9c38ac7": {
      "model_module": "@jupyter-widgets/controls",
      "model_module_version": "1.5.0",
      "model_name": "CheckboxModel",
      "state": {
       "disabled": false,
       "layout": "IPY_MODEL_a4a16bd0ebc94587b55e3cf36e10c8e6",
       "style": "IPY_MODEL_904b47ff9b6c4a20853ac015795ec128",
       "value": false
      }
     },
     "18fd25a3d8cf4ea8bb407d7e6cee899c": {
      "model_module": "@jupyter-widgets/controls",
      "model_module_version": "1.5.0",
      "model_name": "DescriptionStyleModel",
      "state": {
       "description_width": ""
      }
     },
     "192f571737cd426d8980a62337b6b223": {
      "model_module": "@jupyter-widgets/controls",
      "model_module_version": "1.5.0",
      "model_name": "DescriptionStyleModel",
      "state": {
       "description_width": "initial"
      }
     },
     "19b9217b6cc74ba39ea38522fb7e283a": {
      "model_module": "@jupyter-widgets/base",
      "model_module_version": "1.2.0",
      "model_name": "LayoutModel",
      "state": {
       "align_items": "stretch",
       "display": "flex",
       "flex_flow": "row wrap",
       "width": "auto"
      }
     },
     "1b5cb823a2494222a1aebb38f21b0389": {
      "model_module": "@jupyter-widgets/controls",
      "model_module_version": "1.5.0",
      "model_name": "ButtonModel",
      "state": {
       "description": "Submit",
       "layout": "IPY_MODEL_18d44fbf7e944fd9a85ddfb72ee015bf",
       "style": "IPY_MODEL_1b7a6a00f5424d53b73a551503beda84"
      }
     },
     "1b7a6a00f5424d53b73a551503beda84": {
      "model_module": "@jupyter-widgets/controls",
      "model_module_version": "1.5.0",
      "model_name": "ButtonStyleModel",
      "state": {
       "button_color": "#4DD0E1"
      }
     },
     "1c9bd5342a7a4291855bbc814762d3f5": {
      "model_module": "@jupyter-widgets/base",
      "model_module_version": "1.2.0",
      "model_name": "LayoutModel",
      "state": {
       "align_items": "stretch",
       "display": "flex",
       "flex_flow": "row wrap",
       "width": "auto"
      }
     },
     "1cae096c6277453d8d6decda56a3ab99": {
      "model_module": "@jupyter-widgets/controls",
      "model_module_version": "1.5.0",
      "model_name": "LabelModel",
      "state": {
       "layout": "IPY_MODEL_4e0dede57c874f789125c5def1392c1d",
       "style": "IPY_MODEL_9a803aac9a8b485ab3e70e8bb68e895f"
      }
     },
     "1cfadb6d397c4d4cb139c2d2803a6363": {
      "model_module": "@jupyter-widgets/controls",
      "model_module_version": "1.5.0",
      "model_name": "CheckboxModel",
      "state": {
       "disabled": false,
       "layout": "IPY_MODEL_766676657cb3446abddfcdd48add0ded",
       "style": "IPY_MODEL_c863eb36745f406ca4fe64186a46c369",
       "value": false
      }
     },
     "1d3ee1fbe03c429290fead6a7eca10fe": {
      "model_module": "@jupyter-widgets/base",
      "model_module_version": "1.2.0",
      "model_name": "LayoutModel",
      "state": {}
     },
     "1dacb311d72e41f2b42561a43e52d1ab": {
      "model_module": "@jupyter-widgets/base",
      "model_module_version": "1.2.0",
      "model_name": "LayoutModel",
      "state": {
       "width": "30px"
      }
     },
     "1de339f2bb424342abc138c18e44bd67": {
      "model_module": "@jupyter-widgets/base",
      "model_module_version": "1.2.0",
      "model_name": "LayoutModel",
      "state": {}
     },
     "1e1c009ffec54353961260862f73fdf6": {
      "model_module": "@jupyter-widgets/base",
      "model_module_version": "1.2.0",
      "model_name": "LayoutModel",
      "state": {
       "align_items": "stretch",
       "display": "flex",
       "flex_flow": "row wrap",
       "width": "auto"
      }
     },
     "1e3f35b37fcb403cae154af19e6c0be9": {
      "model_module": "@jupyter-widgets/controls",
      "model_module_version": "1.5.0",
      "model_name": "DescriptionStyleModel",
      "state": {
       "description_width": "initial"
      }
     },
     "1fb795eed6474fe5b1c9abf835ed668a": {
      "model_module": "@jupyter-widgets/controls",
      "model_module_version": "1.5.0",
      "model_name": "HTMLModel",
      "state": {
       "layout": "IPY_MODEL_a4a004604d7d4a1ca77401b46199a485",
       "style": "IPY_MODEL_d4bf18f81ac84907b02a55882aa640e5",
       "value": "<style>p{word-wrap: break-word}</style> <p>live on time emit no evil </p>"
      }
     },
     "201bfa50c904490e8b8660ac7b9112e9": {
      "model_module": "@jupyter-widgets/base",
      "model_module_version": "1.2.0",
      "model_name": "LayoutModel",
      "state": {}
     },
     "208dd3a691344b1c9d3cdedf0c103ebf": {
      "model_module": "@jupyter-widgets/controls",
      "model_module_version": "1.5.0",
      "model_name": "DescriptionStyleModel",
      "state": {
       "description_width": ""
      }
     },
     "21074b55277e4b81b06a2516aafef201": {
      "model_module": "@jupyter-widgets/controls",
      "model_module_version": "1.5.0",
      "model_name": "DescriptionStyleModel",
      "state": {
       "description_width": ""
      }
     },
     "2124a9382aec448bb110d0fe2bf09b0b": {
      "model_module": "@jupyter-widgets/controls",
      "model_module_version": "1.5.0",
      "model_name": "ButtonStyleModel",
      "state": {
       "button_color": "#4DD0E1"
      }
     },
     "216d743bd9304ef6b9b6f40a645e77be": {
      "model_module": "@jupyter-widgets/controls",
      "model_module_version": "1.5.0",
      "model_name": "HBoxModel",
      "state": {
       "children": [
        "IPY_MODEL_6552c5dbffa64c1f90d58a29a0896c14",
        "IPY_MODEL_8b22e40c827b45b097ab2c2e6a732e48"
       ],
       "layout": "IPY_MODEL_c1d6034e92d04cd1adc7a2045b1905b1"
      }
     },
     "2177c1af2ef141d990514e551b5b205f": {
      "model_module": "@jupyter-widgets/base",
      "model_module_version": "1.2.0",
      "model_name": "LayoutModel",
      "state": {
       "align_items": "stretch",
       "display": "flex",
       "flex_flow": "column",
       "width": "100%"
      }
     },
     "22eb875ba8834aa2b375c9ca90d55b5e": {
      "model_module": "@jupyter-widgets/controls",
      "model_module_version": "1.5.0",
      "model_name": "HBoxModel",
      "state": {
       "children": [
        "IPY_MODEL_5ba21084df524ccab6a69a44486020d8",
        "IPY_MODEL_cfeccf6abdec4cbebe0dd7ac6aacdf7c"
       ],
       "layout": "IPY_MODEL_33861c0e8ae04c79b4f3b37725a50ea8"
      }
     },
     "23faf2e77ac7486c8214f641e617c041": {
      "model_module": "@jupyter-widgets/base",
      "model_module_version": "1.2.0",
      "model_name": "LayoutModel",
      "state": {
       "align_items": "stretch",
       "display": "flex",
       "flex_flow": "row wrap",
       "margin": "30px 0 0 0"
      }
     },
     "248d1a3442424fee9a4c087318c67070": {
      "model_module": "@jupyter-widgets/base",
      "model_module_version": "1.2.0",
      "model_name": "LayoutModel",
      "state": {}
     },
     "25e667162836459d83aac94ed2f8b999": {
      "model_module": "@jupyter-widgets/controls",
      "model_module_version": "1.5.0",
      "model_name": "DescriptionStyleModel",
      "state": {
       "description_width": ""
      }
     },
     "268c6a62f2804e7da5f7bb333f72ce76": {
      "model_module": "@jupyter-widgets/controls",
      "model_module_version": "1.5.0",
      "model_name": "VBoxModel",
      "state": {
       "box_style": "info",
       "children": [
        "IPY_MODEL_e5ea9b05199240c6b99d8dde0b697c00",
        "IPY_MODEL_0146ef6329df483faad4fc5f1998b312",
        "IPY_MODEL_b08765297a9440fb8da632930b4d3869"
       ],
       "layout": "IPY_MODEL_10d2f535bc8d43fdacc9de986efacaa6"
      }
     },
     "26cc7f69d786419e9219f807daa82ed9": {
      "model_module": "@jupyter-widgets/controls",
      "model_module_version": "1.5.0",
      "model_name": "DescriptionStyleModel",
      "state": {
       "description_width": "initial"
      }
     },
     "289c771ff35d445d9a5cfd10bfea0dda": {
      "model_module": "@jupyter-widgets/base",
      "model_module_version": "1.2.0",
      "model_name": "LayoutModel",
      "state": {
       "width": "30px"
      }
     },
     "2a47455f4d7f48f1b38e988347c59cec": {
      "model_module": "@jupyter-widgets/controls",
      "model_module_version": "1.5.0",
      "model_name": "DescriptionStyleModel",
      "state": {
       "description_width": "initial"
      }
     },
     "2b569b7b42fa4c34bd291fd2f560529f": {
      "model_module": "@jupyter-widgets/controls",
      "model_module_version": "1.5.0",
      "model_name": "HBoxModel",
      "state": {
       "children": [
        "IPY_MODEL_dc41c5f264214e4faa8544d6e6780b4b",
        "IPY_MODEL_e7564cd22eb547a0a161314560a38724"
       ],
       "layout": "IPY_MODEL_ca60e602134442238f1c99a30c164a1d"
      }
     },
     "2beb6787083d4d969da8a0d19308052f": {
      "model_module": "@jupyter-widgets/base",
      "model_module_version": "1.2.0",
      "model_name": "LayoutModel",
      "state": {
       "width": "30px"
      }
     },
     "2c4f3a0f30304ba5adbb8e1d45b8547b": {
      "model_module": "@jupyter-widgets/base",
      "model_module_version": "1.2.0",
      "model_name": "LayoutModel",
      "state": {
       "height": "50%",
       "margin": "0 0 0 30px",
       "width": "50%"
      }
     },
     "2cb772ad59424f3180047317b6587149": {
      "model_module": "@jupyter-widgets/controls",
      "model_module_version": "1.5.0",
      "model_name": "DescriptionStyleModel",
      "state": {
       "description_width": ""
      }
     },
     "2d24e457b7804c9cb3b5725d50b07c7f": {
      "model_module": "@jupyter-widgets/controls",
      "model_module_version": "1.5.0",
      "model_name": "ButtonModel",
      "state": {
       "description": "Show answer",
       "disabled": true,
       "layout": "IPY_MODEL_5efea0cbdb54452cb3f76303c6cdd3b9",
       "style": "IPY_MODEL_2124a9382aec448bb110d0fe2bf09b0b"
      }
     },
     "2e0c0f56f1f045b5b56131d70ef5fd23": {
      "model_module": "@jupyter-widgets/base",
      "model_module_version": "1.2.0",
      "model_name": "LayoutModel",
      "state": {
       "align_items": "stretch",
       "display": "flex",
       "flex_flow": "row wrap",
       "width": "auto"
      }
     },
     "2e63606c4a724f47a5e87481307d71fa": {
      "model_module": "@jupyter-widgets/controls",
      "model_module_version": "1.5.0",
      "model_name": "DescriptionStyleModel",
      "state": {
       "description_width": ""
      }
     },
     "2f998d9441124fedbecdf21b97eee2a9": {
      "model_module": "@jupyter-widgets/base",
      "model_module_version": "1.2.0",
      "model_name": "LayoutModel",
      "state": {
       "align_items": "stretch",
       "display": "flex",
       "flex_flow": "row wrap",
       "width": "auto"
      }
     },
     "2fd1fa0f415c40fa92abfeea8d704ce3": {
      "model_module": "@jupyter-widgets/base",
      "model_module_version": "1.2.0",
      "model_name": "LayoutModel",
      "state": {
       "align_items": "stretch",
       "display": "flex",
       "flex_flow": "row wrap",
       "width": "auto"
      }
     },
     "300a4fa939484c98a69a738fb2b687a1": {
      "model_module": "@jupyter-widgets/controls",
      "model_module_version": "1.5.0",
      "model_name": "VBoxModel",
      "state": {
       "box_style": "info",
       "children": [
        "IPY_MODEL_b3fd46f444b944ad843ac8962f18b21e",
        "IPY_MODEL_4216629549174fe990b89aa29f1d86d8",
        "IPY_MODEL_159f3863899e4db68d5fdee8af1db872"
       ],
       "layout": "IPY_MODEL_8e698ae0da5f47b08a597e223ff0fd9b"
      }
     },
     "305a43e454264fc69e366e37286dc828": {
      "model_module": "@jupyter-widgets/controls",
      "model_module_version": "1.5.0",
      "model_name": "ButtonModel",
      "state": {
       "description": "Submit",
       "layout": "IPY_MODEL_167be183ec33413db117664deedbd8f1",
       "style": "IPY_MODEL_d8a7e26a4d3946d0910813b4637b9604"
      }
     },
     "31527ee381a3490ba3f1485402362fd4": {
      "model_module": "@jupyter-widgets/controls",
      "model_module_version": "1.5.0",
      "model_name": "DescriptionStyleModel",
      "state": {
       "description_width": "initial"
      }
     },
     "329085bab8184f1b8e0f0a4493493570": {
      "model_module": "@jupyter-widgets/base",
      "model_module_version": "1.2.0",
      "model_name": "LayoutModel",
      "state": {}
     },
     "334b0ad0b51042628b8e22fa6db0c9b2": {
      "model_module": "@jupyter-widgets/base",
      "model_module_version": "1.2.0",
      "model_name": "LayoutModel",
      "state": {}
     },
     "33861c0e8ae04c79b4f3b37725a50ea8": {
      "model_module": "@jupyter-widgets/base",
      "model_module_version": "1.2.0",
      "model_name": "LayoutModel",
      "state": {
       "align_items": "stretch",
       "display": "flex",
       "flex_flow": "row wrap",
       "width": "auto"
      }
     },
     "33b6886861a24760a1e23697a02fe808": {
      "model_module": "@jupyter-widgets/controls",
      "model_module_version": "1.5.0",
      "model_name": "HTMLModel",
      "state": {
       "layout": "IPY_MODEL_e9d53d7b284e409d92114124c4157a2f",
       "style": "IPY_MODEL_e4e58b1eb24649c2a1a601ed718fc5db",
       "value": "<style>p{word-wrap: break-word}</style> <p>Solutions are hidden in an accordion style.  </p>"
      }
     },
     "34af026ed6fd49328e403518cace1750": {
      "model_module": "@jupyter-widgets/controls",
      "model_module_version": "1.5.0",
      "model_name": "CheckboxModel",
      "state": {
       "disabled": false,
       "layout": "IPY_MODEL_289c771ff35d445d9a5cfd10bfea0dda",
       "style": "IPY_MODEL_bc3baaae2591421888d4ea62822ec00a",
       "value": false
      }
     },
     "35098a8d039249c1b4d01bccccc312a4": {
      "model_module": "@jupyter-widgets/controls",
      "model_module_version": "1.5.0",
      "model_name": "LabelModel",
      "state": {
       "layout": "IPY_MODEL_f4a2804bc1774eeea38aa61debc748df",
       "style": "IPY_MODEL_f4f28f540cee4af0879707fdd222bbcc"
      }
     },
     "35b8471ad9cf4c6fa05b45d11d0d3738": {
      "model_module": "@jupyter-widgets/controls",
      "model_module_version": "1.5.0",
      "model_name": "HBoxModel",
      "state": {
       "children": [
        "IPY_MODEL_8d25e0f836114d1a94e76ec7c9f590d5",
        "IPY_MODEL_ed63d515f90543f5a559675eff139272"
       ],
       "layout": "IPY_MODEL_5c2604fbfa864da3aacef8ea34d08d15"
      }
     },
     "3619ceed7ea74622b8818ed66e54c705": {
      "model_module": "@jupyter-widgets/base",
      "model_module_version": "1.2.0",
      "model_name": "LayoutModel",
      "state": {}
     },
     "399d72162a754ad7a9bcd3c9b7dd4668": {
      "model_module": "@jupyter-widgets/base",
      "model_module_version": "1.2.0",
      "model_name": "LayoutModel",
      "state": {
       "width": "30px"
      }
     },
     "3b52ccdacd384a8d88a230c49c882918": {
      "model_module": "@jupyter-widgets/controls",
      "model_module_version": "1.5.0",
      "model_name": "CheckboxModel",
      "state": {
       "disabled": false,
       "layout": "IPY_MODEL_a707c9128ca7423fada0c76612d7de93",
       "style": "IPY_MODEL_0e9d9765cb6948f688a9b36a97efed81",
       "value": false
      }
     },
     "3bd3a658f88a4d9595c8e028b7f07317": {
      "model_module": "@jupyter-widgets/base",
      "model_module_version": "1.2.0",
      "model_name": "LayoutModel",
      "state": {
       "height": "50%",
       "margin": "0 0 0 30px",
       "width": "50%"
      }
     },
     "3d5945056b84475092dd805b0e6f2b2f": {
      "model_module": "@jupyter-widgets/controls",
      "model_module_version": "1.5.0",
      "model_name": "HBoxModel",
      "state": {
       "children": [
        "IPY_MODEL_d14ae8ae160c484793a8f959c4ffeb2a",
        "IPY_MODEL_11686e08257a4a5c931c9c94cf56db05"
       ],
       "layout": "IPY_MODEL_4d45615f57504f20922a538e15d54457"
      }
     },
     "40fc22605ac94684bd9512ac4393b7d8": {
      "model_module": "@jupyter-widgets/base",
      "model_module_version": "1.2.0",
      "model_name": "LayoutModel",
      "state": {
       "align_items": "stretch",
       "display": "flex",
       "flex_flow": "row wrap",
       "width": "auto"
      }
     },
     "41aa4c31efa94c24b96fa7b3a69ac282": {
      "model_module": "@jupyter-widgets/controls",
      "model_module_version": "1.5.0",
      "model_name": "DescriptionStyleModel",
      "state": {
       "description_width": "initial"
      }
     },
     "41d0bd63a05d4f28bf90c08a2a9ac178": {
      "model_module": "@jupyter-widgets/controls",
      "model_module_version": "1.5.0",
      "model_name": "LabelModel",
      "state": {
       "layout": "IPY_MODEL_a7b9ae6040c54ab4867e5af0eae31c52",
       "style": "IPY_MODEL_6df40cea238c4418b68e317dc26676b9"
      }
     },
     "4216629549174fe990b89aa29f1d86d8": {
      "model_module": "@jupyter-widgets/controls",
      "model_module_version": "1.5.0",
      "model_name": "VBoxModel",
      "state": {
       "children": [
        "IPY_MODEL_35b8471ad9cf4c6fa05b45d11d0d3738",
        "IPY_MODEL_8dd8c8d34ee14fb9882b0191d4e6667c",
        "IPY_MODEL_8ef01e5fcdb541cfb41db3f35b43fbdc",
        "IPY_MODEL_efb930d9d5e74d4ab86a05ac9b646f78",
        "IPY_MODEL_e31eee0d5e464ccc906f81be80ec7858"
       ],
       "layout": "IPY_MODEL_8077a0fcf57949389370e5e5ba7f359c"
      }
     },
     "42384345e7104fd2b9b6e1fb657d101a": {
      "model_module": "@jupyter-widgets/controls",
      "model_module_version": "1.5.0",
      "model_name": "HBoxModel",
      "state": {
       "children": [
        "IPY_MODEL_34af026ed6fd49328e403518cace1750",
        "IPY_MODEL_7a58ac99b8a24c06be8e22e2b6614817"
       ],
       "layout": "IPY_MODEL_8ade229a35c74ea29f933d2eac1ea247"
      }
     },
     "43306499d02c4594a17c2355eaa3e367": {
      "model_module": "@jupyter-widgets/base",
      "model_module_version": "1.2.0",
      "model_name": "LayoutModel",
      "state": {
       "align_items": "stretch",
       "display": "flex",
       "flex_flow": "row wrap",
       "width": "auto"
      }
     },
     "434dbd06381947b3be701c0ff0efa92f": {
      "model_module": "@jupyter-widgets/base",
      "model_module_version": "1.2.0",
      "model_name": "LayoutModel",
      "state": {
       "align_items": "stretch",
       "display": "flex",
       "flex_flow": "row wrap",
       "width": "auto"
      }
     },
     "43fa5e2799f34beaa7feeff2960f283c": {
      "model_module": "@jupyter-widgets/base",
      "model_module_version": "1.2.0",
      "model_name": "LayoutModel",
      "state": {}
     },
     "47426dc623894a29be2a280298a0e82d": {
      "model_module": "@jupyter-widgets/controls",
      "model_module_version": "1.5.0",
      "model_name": "HTMLModel",
      "state": {
       "layout": "IPY_MODEL_bb89e71222b542d1b3f1d9c298aaa2e4",
       "style": "IPY_MODEL_86bce075f175427184f7d6216e89ad0e",
       "value": "<style>p{word-wrap: break-word}</style> <p>Check all the correct statements about coding exercises and solutions </p>"
      }
     },
     "4755b79ae0e74d40ba28ef4760f3bb70": {
      "model_module": "@jupyter-widgets/base",
      "model_module_version": "1.2.0",
      "model_name": "LayoutModel",
      "state": {
       "display": "none"
      }
     },
     "4797e10ef85045b0ab0b68279a5b4c8f": {
      "model_module": "@jupyter-widgets/controls",
      "model_module_version": "1.5.0",
      "model_name": "ButtonStyleModel",
      "state": {
       "button_color": "#4DD0E1"
      }
     },
     "4859c2c59c57444bb3ab52c47c976a62": {
      "model_module": "@jupyter-widgets/controls",
      "model_module_version": "1.5.0",
      "model_name": "DescriptionStyleModel",
      "state": {
       "description_width": ""
      }
     },
     "4942314c7d4a43ddbfcf131ed43dd347": {
      "model_module": "@jupyter-widgets/base",
      "model_module_version": "1.2.0",
      "model_name": "LayoutModel",
      "state": {
       "align_items": "stretch",
       "display": "flex",
       "flex_flow": "row wrap",
       "width": "auto"
      }
     },
     "49da0f1040fa4ecaa6926e302cad9666": {
      "model_module": "@jupyter-widgets/base",
      "model_module_version": "1.2.0",
      "model_name": "LayoutModel",
      "state": {
       "align_items": "stretch",
       "display": "flex",
       "flex_flow": "row wrap",
       "width": "auto"
      }
     },
     "4a346e9ad4194d9da5a0cd94b77da41c": {
      "model_module": "@jupyter-widgets/controls",
      "model_module_version": "1.5.0",
      "model_name": "ButtonModel",
      "state": {
       "description": "Submit",
       "layout": "IPY_MODEL_e159e8988dcd4756850f15ad1451a540",
       "style": "IPY_MODEL_e22cd2de8829465f819b4e833d2f2681"
      }
     },
     "4aaa5a47ded44f188a00267cec3df962": {
      "model_module": "@jupyter-widgets/base",
      "model_module_version": "1.2.0",
      "model_name": "LayoutModel",
      "state": {
       "height": "50%",
       "margin": "0 0 0 30px",
       "width": "50%"
      }
     },
     "4aad71bfa519432abe7224b95a9cb043": {
      "model_module": "@jupyter-widgets/controls",
      "model_module_version": "1.5.0",
      "model_name": "HTMLModel",
      "state": {
       "layout": "IPY_MODEL_4c6d93b5ee4d4803baa9ba9671779414",
       "style": "IPY_MODEL_eee68d909755422494929e82e6be26fa",
       "value": "<style>p{word-wrap: break-word}</style> <p>top-down </p>"
      }
     },
     "4b56c83991f7433d9cb267113d50a9d0": {
      "model_module": "@jupyter-widgets/base",
      "model_module_version": "1.2.0",
      "model_name": "LayoutModel",
      "state": {}
     },
     "4b64671fd932448bb82bdf6807994080": {
      "model_module": "@jupyter-widgets/controls",
      "model_module_version": "1.5.0",
      "model_name": "HBoxModel",
      "state": {
       "children": [
        "IPY_MODEL_915bba05da7d479fa058c0d93679b1db",
        "IPY_MODEL_53c546b26e1a49278e3bf5bf6338eb2b"
       ],
       "layout": "IPY_MODEL_93fdbbee536f4536864b31cc1a01cabe"
      }
     },
     "4c6d93b5ee4d4803baa9ba9671779414": {
      "model_module": "@jupyter-widgets/base",
      "model_module_version": "1.2.0",
      "model_name": "LayoutModel",
      "state": {}
     },
     "4d4123d8b2f04afe91cee72a5334ed96": {
      "model_module": "@jupyter-widgets/base",
      "model_module_version": "1.2.0",
      "model_name": "LayoutModel",
      "state": {
       "align_items": "stretch",
       "display": "flex",
       "flex_flow": "row wrap",
       "width": "auto"
      }
     },
     "4d45615f57504f20922a538e15d54457": {
      "model_module": "@jupyter-widgets/base",
      "model_module_version": "1.2.0",
      "model_name": "LayoutModel",
      "state": {
       "align_items": "stretch",
       "display": "flex",
       "flex_flow": "row wrap",
       "width": "auto"
      }
     },
     "4dccfff78aac4a65aba7347a605c4064": {
      "model_module": "@jupyter-widgets/controls",
      "model_module_version": "1.5.0",
      "model_name": "DescriptionStyleModel",
      "state": {
       "description_width": ""
      }
     },
     "4e0dede57c874f789125c5def1392c1d": {
      "model_module": "@jupyter-widgets/base",
      "model_module_version": "1.2.0",
      "model_name": "LayoutModel",
      "state": {}
     },
     "514f3fcab2354a7cba93e4ec1ed600c7": {
      "model_module": "@jupyter-widgets/base",
      "model_module_version": "1.2.0",
      "model_name": "LayoutModel",
      "state": {
       "align_items": "stretch",
       "display": "flex",
       "flex_flow": "row wrap",
       "width": "auto"
      }
     },
     "51617ee170d74439b7f9ac51da6736d9": {
      "model_module": "@jupyter-widgets/base",
      "model_module_version": "1.2.0",
      "model_name": "LayoutModel",
      "state": {
       "align_items": "stretch",
       "display": "flex",
       "flex_flow": "row wrap",
       "width": "auto"
      }
     },
     "53ad4d032d7049d0aa07b82fbe0d7be8": {
      "model_module": "@jupyter-widgets/controls",
      "model_module_version": "1.5.0",
      "model_name": "HBoxModel",
      "state": {
       "children": [
        "IPY_MODEL_0269bfb1a58c49f08cde2a516983889e",
        "IPY_MODEL_9d9959e810454f3f9de79b5bed09cff4",
        "IPY_MODEL_2d24e457b7804c9cb3b5725d50b07c7f"
       ],
       "layout": "IPY_MODEL_ae28803435624d91a7cbef82b220ee05"
      }
     },
     "53c546b26e1a49278e3bf5bf6338eb2b": {
      "model_module": "@jupyter-widgets/controls",
      "model_module_version": "1.5.0",
      "model_name": "HBoxModel",
      "state": {
       "children": [
        "IPY_MODEL_c7358379a1ce424eb14f5719c49cde09",
        "IPY_MODEL_ef9938e6ab9344a6b1808e0a8265bf6a"
       ],
       "layout": "IPY_MODEL_dac7e41f826542f88d059cc5026b3c78"
      }
     },
     "56390b29b8ad4c379b3cf9bcc48c0833": {
      "model_module": "@jupyter-widgets/base",
      "model_module_version": "1.2.0",
      "model_name": "LayoutModel",
      "state": {
       "align_items": "stretch",
       "display": "flex",
       "flex_flow": "column",
       "width": "100%"
      }
     },
     "567ab401d60846ce87ffe47ca7618e3e": {
      "model_module": "@jupyter-widgets/controls",
      "model_module_version": "1.5.0",
      "model_name": "LabelModel",
      "state": {
       "layout": "IPY_MODEL_1d3ee1fbe03c429290fead6a7eca10fe",
       "style": "IPY_MODEL_9361b418aa114d78a44a774a05694b32"
      }
     },
     "5a53050fc3c84495a4b49ef5fdcbc166": {
      "model_module": "@jupyter-widgets/base",
      "model_module_version": "1.2.0",
      "model_name": "LayoutModel",
      "state": {}
     },
     "5ad285e50c6b43e7adfdc558136a0266": {
      "model_module": "@jupyter-widgets/base",
      "model_module_version": "1.2.0",
      "model_name": "LayoutModel",
      "state": {}
     },
     "5aea2fb1b8d740b597d4aea869041b80": {
      "model_module": "@jupyter-widgets/controls",
      "model_module_version": "1.5.0",
      "model_name": "DescriptionStyleModel",
      "state": {
       "description_width": ""
      }
     },
     "5b172b2343d74012858a78881f6f5eed": {
      "model_module": "@jupyter-widgets/controls",
      "model_module_version": "1.5.0",
      "model_name": "DescriptionStyleModel",
      "state": {
       "description_width": "initial"
      }
     },
     "5ba21084df524ccab6a69a44486020d8": {
      "model_module": "@jupyter-widgets/controls",
      "model_module_version": "1.5.0",
      "model_name": "CheckboxModel",
      "state": {
       "disabled": false,
       "layout": "IPY_MODEL_5e1837746193422b80a43f1589f9d751",
       "style": "IPY_MODEL_7d9447137c5542ab878570e315ac7a72",
       "value": false
      }
     },
     "5c2604fbfa864da3aacef8ea34d08d15": {
      "model_module": "@jupyter-widgets/base",
      "model_module_version": "1.2.0",
      "model_name": "LayoutModel",
      "state": {
       "align_items": "stretch",
       "display": "flex",
       "flex_flow": "row wrap",
       "width": "auto"
      }
     },
     "5cc9f45023944001b62fe935cb6de6e6": {
      "model_module": "@jupyter-widgets/controls",
      "model_module_version": "1.5.0",
      "model_name": "LabelModel",
      "state": {
       "layout": "IPY_MODEL_43fa5e2799f34beaa7feeff2960f283c",
       "style": "IPY_MODEL_21074b55277e4b81b06a2516aafef201"
      }
     },
     "5da8682022404027961728c5d8f49799": {
      "model_module": "@jupyter-widgets/base",
      "model_module_version": "1.2.0",
      "model_name": "LayoutModel",
      "state": {
       "width": "30px"
      }
     },
     "5db9ddb790c14439997b035c20023bfe": {
      "model_module": "@jupyter-widgets/base",
      "model_module_version": "1.2.0",
      "model_name": "LayoutModel",
      "state": {
       "align_items": "stretch",
       "display": "flex",
       "flex_flow": "row wrap",
       "width": "auto"
      }
     },
     "5e1837746193422b80a43f1589f9d751": {
      "model_module": "@jupyter-widgets/base",
      "model_module_version": "1.2.0",
      "model_name": "LayoutModel",
      "state": {
       "width": "30px"
      }
     },
     "5e79f23d154e420d8c651929c9a4b676": {
      "model_module": "@jupyter-widgets/controls",
      "model_module_version": "1.5.0",
      "model_name": "HBoxModel",
      "state": {
       "children": [
        "IPY_MODEL_652ae9f906874137ba0b6cb9301b94cf",
        "IPY_MODEL_a9a92e5f534c4e01830819d815cbc6ae"
       ],
       "layout": "IPY_MODEL_49da0f1040fa4ecaa6926e302cad9666"
      }
     },
     "5eaa1f8561db4daa9b8d05c978aba66c": {
      "model_module": "@jupyter-widgets/controls",
      "model_module_version": "1.5.0",
      "model_name": "HTMLModel",
      "state": {
       "layout": "IPY_MODEL_bd78ca2793ad47a5ad93cf31d393011b",
       "style": "IPY_MODEL_c50715e24c104cb2b12ff836ff8b2ca5",
       "value": "<style>p{word-wrap: break-word}</style> <p>The term 'dynamic' is used to indicate that time plays a role. </p>"
      }
     },
     "5efea0cbdb54452cb3f76303c6cdd3b9": {
      "model_module": "@jupyter-widgets/base",
      "model_module_version": "1.2.0",
      "model_name": "LayoutModel",
      "state": {
       "display": "none"
      }
     },
     "627cd10e57384dd7a3a4b6e1ac4bf859": {
      "model_module": "@jupyter-widgets/controls",
      "model_module_version": "1.5.0",
      "model_name": "DescriptionStyleModel",
      "state": {
       "description_width": "initial"
      }
     },
     "638d0108c0204bd7bdebe160ca591443": {
      "model_module": "@jupyter-widgets/controls",
      "model_module_version": "1.5.0",
      "model_name": "CheckboxModel",
      "state": {
       "disabled": false,
       "layout": "IPY_MODEL_7b4be83366634614917b1ce2e525fe9b",
       "style": "IPY_MODEL_192f571737cd426d8980a62337b6b223",
       "value": false
      }
     },
     "652ae9f906874137ba0b6cb9301b94cf": {
      "model_module": "@jupyter-widgets/controls",
      "model_module_version": "1.5.0",
      "model_name": "LabelModel",
      "state": {
       "layout": "IPY_MODEL_c8eab3c245d445f6a5e7da9920ec01c6",
       "style": "IPY_MODEL_9c65579feb174e1faabe0b76cfdc483b"
      }
     },
     "6552c5dbffa64c1f90d58a29a0896c14": {
      "model_module": "@jupyter-widgets/controls",
      "model_module_version": "1.5.0",
      "model_name": "LabelModel",
      "state": {
       "layout": "IPY_MODEL_d5d281b4b87c4fd481712a97aa7cbad1",
       "style": "IPY_MODEL_b30791e15ee841f28e9517d975e7d8e5"
      }
     },
     "6564606aa6de4b45a2f8becbd8475cc4": {
      "model_module": "@jupyter-widgets/base",
      "model_module_version": "1.2.0",
      "model_name": "LayoutModel",
      "state": {}
     },
     "6576ee1fddf441ec88a813f943b5cd66": {
      "model_module": "@jupyter-widgets/controls",
      "model_module_version": "1.5.0",
      "model_name": "HBoxModel",
      "state": {
       "children": [
        "IPY_MODEL_de9ff7e56e7046f6891b25d12b35e6aa",
        "IPY_MODEL_5eaa1f8561db4daa9b8d05c978aba66c"
       ],
       "layout": "IPY_MODEL_7853b43f01a6409489a3259f91fcd44c"
      }
     },
     "65895f6ba7b44cd1b4f556a78d975a2e": {
      "model_module": "@jupyter-widgets/controls",
      "model_module_version": "1.5.0",
      "model_name": "VBoxModel",
      "state": {
       "box_style": "info",
       "children": [
        "IPY_MODEL_10b0b9decae74b4da48df7ff349a60b8",
        "IPY_MODEL_ef053783979d40999d0ed53acebd4b9e",
        "IPY_MODEL_53ad4d032d7049d0aa07b82fbe0d7be8"
       ],
       "layout": "IPY_MODEL_2177c1af2ef141d990514e551b5b205f"
      }
     },
     "66448cf81bf440f792f33b2fc7bc7dba": {
      "model_module": "@jupyter-widgets/base",
      "model_module_version": "1.2.0",
      "model_name": "LayoutModel",
      "state": {
       "display": "flex",
       "flex_flow": "row",
       "justify_content": "space-between",
       "margin": "0 0 20px 0"
      }
     },
     "66fe48f16da04e878c5bba15f86917da": {
      "model_module": "@jupyter-widgets/base",
      "model_module_version": "1.2.0",
      "model_name": "LayoutModel",
      "state": {
       "align_items": "stretch",
       "display": "flex",
       "flex_flow": "row wrap",
       "width": "auto"
      }
     },
     "679ac9604e9a4632bd305a1775b6554e": {
      "model_module": "@jupyter-widgets/controls",
      "model_module_version": "1.5.0",
      "model_name": "DescriptionStyleModel",
      "state": {
       "description_width": "initial"
      }
     },
     "6905605e835e464c93db76cc5ce0c680": {
      "model_module": "@jupyter-widgets/controls",
      "model_module_version": "1.5.0",
      "model_name": "DescriptionStyleModel",
      "state": {
       "description_width": ""
      }
     },
     "6c42c4de4df147c38fb7fed4b64d5c9b": {
      "model_module": "@jupyter-widgets/controls",
      "model_module_version": "1.5.0",
      "model_name": "DescriptionStyleModel",
      "state": {
       "description_width": ""
      }
     },
     "6c4dd40d8cf946319fb6bcbacfb2b98a": {
      "model_module": "@jupyter-widgets/base",
      "model_module_version": "1.2.0",
      "model_name": "LayoutModel",
      "state": {
       "width": "30px"
      }
     },
     "6dbb7b0ffd2046ce8ba471e8146f2973": {
      "model_module": "@jupyter-widgets/controls",
      "model_module_version": "1.5.0",
      "model_name": "HBoxModel",
      "state": {
       "children": [
        "IPY_MODEL_a0ca0406321c4ae2b5eb4d9886735cc8",
        "IPY_MODEL_cb27b9e74bb847c0b361346e7c683c2c"
       ],
       "layout": "IPY_MODEL_a60e7886f8604630ad45a87424a4cd54"
      }
     },
     "6df40cea238c4418b68e317dc26676b9": {
      "model_module": "@jupyter-widgets/controls",
      "model_module_version": "1.5.0",
      "model_name": "DescriptionStyleModel",
      "state": {
       "description_width": ""
      }
     },
     "6f91d22d70eb4bda899340843153b14b": {
      "model_module": "@jupyter-widgets/controls",
      "model_module_version": "1.5.0",
      "model_name": "HTMLModel",
      "state": {
       "layout": "IPY_MODEL_1de339f2bb424342abc138c18e44bd67",
       "style": "IPY_MODEL_2cb772ad59424f3180047317b6587149",
       "value": "<style>p{word-wrap: break-word}</style> <p>You can quickly collapse a code cell by clicking the selection bar to its left. </p>"
      }
     },
     "6ffb1b4c4ee5435c8603ce2a51739851": {
      "model_module": "@jupyter-widgets/controls",
      "model_module_version": "1.5.0",
      "model_name": "HBoxModel",
      "state": {
       "children": [
        "IPY_MODEL_18ef2ab9bc5c449fbbc5c8d6c9c38ac7",
        "IPY_MODEL_4aad71bfa519432abe7224b95a9cb043"
       ],
       "layout": "IPY_MODEL_996821c309f54508ada19ea7cd39de30"
      }
     },
     "70959271693446699624ea3980ae903c": {
      "model_module": "@jupyter-widgets/controls",
      "model_module_version": "1.5.0",
      "model_name": "HTMLModel",
      "state": {
       "layout": "IPY_MODEL_d52f613b191f4c988f6bf9c109ea408c",
       "style": "IPY_MODEL_fc8a5e3d459542deb385da3908b03c12",
       "value": "<style>p{word-wrap: break-word}</style> <p>aviva </p>"
      }
     },
     "70a5d60082ad4afba0c99523edd41789": {
      "model_module": "@jupyter-widgets/controls",
      "model_module_version": "1.5.0",
      "model_name": "CheckboxModel",
      "state": {
       "disabled": false,
       "layout": "IPY_MODEL_a1c5c7e65c3747b8934d2c2abaf5293e",
       "style": "IPY_MODEL_c423c779a3364394a7cecfb075f911c2",
       "value": false
      }
     },
     "70a8016ce2514dfcbe854b9e6e7fb0ba": {
      "model_module": "@jupyter-widgets/base",
      "model_module_version": "1.2.0",
      "model_name": "LayoutModel",
      "state": {
       "align_items": "stretch",
       "display": "flex",
       "flex_flow": "row wrap",
       "margin": "30px 0 0 0"
      }
     },
     "70d12c6bb14545779349f70f42a626f8": {
      "model_module": "@jupyter-widgets/controls",
      "model_module_version": "1.5.0",
      "model_name": "DescriptionStyleModel",
      "state": {
       "description_width": ""
      }
     },
     "712a2dfd53fb4db48dee71589bd47259": {
      "model_module": "@jupyter-widgets/controls",
      "model_module_version": "1.5.0",
      "model_name": "HBoxModel",
      "state": {
       "children": [
        "IPY_MODEL_1879778ab2394273b9c521b5db625261",
        "IPY_MODEL_b23271ac0f5947bd8957cf02722c3c59"
       ],
       "layout": "IPY_MODEL_514f3fcab2354a7cba93e4ec1ed600c7"
      }
     },
     "727d4ddb9134499abc3cafc082719423": {
      "model_module": "@jupyter-widgets/controls",
      "model_module_version": "1.5.0",
      "model_name": "HBoxModel",
      "state": {
       "children": [
        "IPY_MODEL_3b52ccdacd384a8d88a230c49c882918",
        "IPY_MODEL_856dd725cbe44b9c9217539dbcc60617"
       ],
       "layout": "IPY_MODEL_2fd1fa0f415c40fa92abfeea8d704ce3"
      }
     },
     "72bb5d708d9547c69ef07e35f93ddc99": {
      "model_module": "@jupyter-widgets/base",
      "model_module_version": "1.2.0",
      "model_name": "LayoutModel",
      "state": {
       "align_items": "stretch",
       "display": "flex",
       "flex_flow": "row wrap",
       "width": "auto"
      }
     },
     "73643e4b9f964e0b8abef6b2d3fccbe2": {
      "model_module": "@jupyter-widgets/controls",
      "model_module_version": "1.5.0",
      "model_name": "LabelModel",
      "state": {
       "layout": "IPY_MODEL_9feea03fec814ee0800dbcfa30f0a4ac",
       "style": "IPY_MODEL_25e667162836459d83aac94ed2f8b999"
      }
     },
     "7400b9f8a05e49a2a7570549a2e77d52": {
      "model_module": "@jupyter-widgets/controls",
      "model_module_version": "1.5.0",
      "model_name": "DescriptionStyleModel",
      "state": {
       "description_width": ""
      }
     },
     "744764fc230b40629969c27e0f549956": {
      "model_module": "@jupyter-widgets/base",
      "model_module_version": "1.2.0",
      "model_name": "LayoutModel",
      "state": {}
     },
     "747f2e892f4c41b7889513b3719bd025": {
      "model_module": "@jupyter-widgets/controls",
      "model_module_version": "1.5.0",
      "model_name": "CheckboxModel",
      "state": {
       "disabled": false,
       "layout": "IPY_MODEL_1dacb311d72e41f2b42561a43e52d1ab",
       "style": "IPY_MODEL_1e3f35b37fcb403cae154af19e6c0be9",
       "value": false
      }
     },
     "753a5cccad754a76b50e7dfa0ce07054": {
      "model_module": "@jupyter-widgets/controls",
      "model_module_version": "1.5.0",
      "model_name": "HTMLModel",
      "state": {
       "layout": "IPY_MODEL_5ad285e50c6b43e7adfdc558136a0266",
       "style": "IPY_MODEL_fc0bc30050694009ba6879fdec406f64",
       "value": "<style>p{word-wrap: break-word}</style> <p>The term 'programming' means 'planning' </p>"
      }
     },
     "75485d09dc6a46c1a3cd6651538cce22": {
      "model_module": "@jupyter-widgets/base",
      "model_module_version": "1.2.0",
      "model_name": "LayoutModel",
      "state": {}
     },
     "766676657cb3446abddfcdd48add0ded": {
      "model_module": "@jupyter-widgets/base",
      "model_module_version": "1.2.0",
      "model_name": "LayoutModel",
      "state": {
       "width": "30px"
      }
     },
     "7853b43f01a6409489a3259f91fcd44c": {
      "model_module": "@jupyter-widgets/base",
      "model_module_version": "1.2.0",
      "model_name": "LayoutModel",
      "state": {
       "align_items": "stretch",
       "display": "flex",
       "flex_flow": "row wrap",
       "width": "auto"
      }
     },
     "787af02782f148dfb53cb1140e3d511b": {
      "model_module": "@jupyter-widgets/controls",
      "model_module_version": "1.5.0",
      "model_name": "VBoxModel",
      "state": {
       "children": [
        "IPY_MODEL_2b569b7b42fa4c34bd291fd2f560529f",
        "IPY_MODEL_216d743bd9304ef6b9b6f40a645e77be",
        "IPY_MODEL_bf5df395c1524d5a9a4926eabda1ceff",
        "IPY_MODEL_e40a4a5ca6da4d1283731d19162cdd13",
        "IPY_MODEL_6dbb7b0ffd2046ce8ba471e8146f2973",
        "IPY_MODEL_712a2dfd53fb4db48dee71589bd47259",
        "IPY_MODEL_ae21fcce764e46579d25762c329f75fc"
       ],
       "layout": "IPY_MODEL_7f9f99864dd34cb7a936736fd6b3bc3c"
      }
     },
     "7a58ac99b8a24c06be8e22e2b6614817": {
      "model_module": "@jupyter-widgets/controls",
      "model_module_version": "1.5.0",
      "model_name": "HTMLModel",
      "state": {
       "layout": "IPY_MODEL_5a53050fc3c84495a4b49ef5fdcbc166",
       "style": "IPY_MODEL_d58b23ce68e344e3b955ceae3a0b2e27",
       "value": "<style>p{word-wrap: break-word}</style> <p>Solutions can be run directly from the cell once the accordion is opened. </p>"
      }
     },
     "7ae37e8186c84af895dcd7408bf74940": {
      "model_module": "@jupyter-widgets/controls",
      "model_module_version": "1.5.0",
      "model_name": "ButtonModel",
      "state": {
       "description": "Show answer",
       "disabled": true,
       "layout": "IPY_MODEL_4755b79ae0e74d40ba28ef4760f3bb70",
       "style": "IPY_MODEL_de8f7dbc99ae414882665887bc0bf850"
      }
     },
     "7b4be83366634614917b1ce2e525fe9b": {
      "model_module": "@jupyter-widgets/base",
      "model_module_version": "1.2.0",
      "model_name": "LayoutModel",
      "state": {
       "width": "30px"
      }
     },
     "7cb79e4b10ef440393ffa08962098571": {
      "model_module": "@jupyter-widgets/controls",
      "model_module_version": "1.5.0",
      "model_name": "LabelModel",
      "state": {
       "layout": "IPY_MODEL_d79ff18c352b42ea871b1cc5c706ed34",
       "style": "IPY_MODEL_d52294dd869a4a24a25aa09944c5c1e1"
      }
     },
     "7d9447137c5542ab878570e315ac7a72": {
      "model_module": "@jupyter-widgets/controls",
      "model_module_version": "1.5.0",
      "model_name": "DescriptionStyleModel",
      "state": {
       "description_width": "initial"
      }
     },
     "7e9fe047fa8b41dcb4a48278860c0738": {
      "model_module": "@jupyter-widgets/base",
      "model_module_version": "1.2.0",
      "model_name": "LayoutModel",
      "state": {
       "align_items": "stretch",
       "display": "flex",
       "flex_flow": "column",
       "width": "100%"
      }
     },
     "7ef61a850cc942d886e171af3e07ba80": {
      "model_module": "@jupyter-widgets/controls",
      "model_module_version": "1.5.0",
      "model_name": "CheckboxModel",
      "state": {
       "disabled": false,
       "layout": "IPY_MODEL_857fbd52dfb2409791d2caf8eea130e5",
       "style": "IPY_MODEL_26cc7f69d786419e9219f807daa82ed9",
       "value": false
      }
     },
     "7efd793a2dca4793891dbfdb6ca80589": {
      "model_module": "@jupyter-widgets/base",
      "model_module_version": "1.2.0",
      "model_name": "LayoutModel",
      "state": {
       "align_items": "stretch",
       "display": "flex",
       "flex_flow": "row wrap",
       "width": "auto"
      }
     },
     "7f332d529a244fc9a0e805d8c6043872": {
      "model_module": "@jupyter-widgets/controls",
      "model_module_version": "1.5.0",
      "model_name": "HBoxModel",
      "state": {
       "children": [
        "IPY_MODEL_bddfb377e566480dbb8db67f54bc2d55",
        "IPY_MODEL_f3d30482ec5a4647b99f145b7c033c76"
       ],
       "layout": "IPY_MODEL_51617ee170d74439b7f9ac51da6736d9"
      }
     },
     "7f5bbcfb44d645a587c5ed932a0ed875": {
      "model_module": "@jupyter-widgets/controls",
      "model_module_version": "1.5.0",
      "model_name": "DescriptionStyleModel",
      "state": {
       "description_width": ""
      }
     },
     "7f9f99864dd34cb7a936736fd6b3bc3c": {
      "model_module": "@jupyter-widgets/base",
      "model_module_version": "1.2.0",
      "model_name": "LayoutModel",
      "state": {
       "align_items": "stretch",
       "display": "flex",
       "flex_flow": "column",
       "width": "100%"
      }
     },
     "7fc63fabec9c442a9ae1cf9a683bf888": {
      "model_module": "@jupyter-widgets/controls",
      "model_module_version": "1.5.0",
      "model_name": "HTMLModel",
      "state": {
       "layout": "IPY_MODEL_744764fc230b40629969c27e0f549956",
       "style": "IPY_MODEL_d7d21390eec245c2a6b9eeece0147767",
       "value": "<style>p{word-wrap: break-word}</style> <p>iterative </p>"
      }
     },
     "8077a0fcf57949389370e5e5ba7f359c": {
      "model_module": "@jupyter-widgets/base",
      "model_module_version": "1.2.0",
      "model_name": "LayoutModel",
      "state": {
       "align_items": "stretch",
       "display": "flex",
       "flex_flow": "column",
       "width": "100%"
      }
     },
     "828e6dd63cb04611804fb8d6d99e3989": {
      "model_module": "@jupyter-widgets/base",
      "model_module_version": "1.2.0",
      "model_name": "LayoutModel",
      "state": {
       "width": "30px"
      }
     },
     "82ed62db939244fd9011a03e343e01db": {
      "model_module": "@jupyter-widgets/controls",
      "model_module_version": "1.5.0",
      "model_name": "LabelModel",
      "state": {
       "layout": "IPY_MODEL_b0cf937737064af48fadd5fcfca721ee",
       "style": "IPY_MODEL_8416f0bb681545f1a802a85ea9eefe83"
      }
     },
     "8355949ee0bf4f2fb95e1e9c2461a6ae": {
      "model_module": "@jupyter-widgets/base",
      "model_module_version": "1.2.0",
      "model_name": "LayoutModel",
      "state": {
       "width": "30px"
      }
     },
     "839264ec70ac45c6a58ebba7724946d0": {
      "model_module": "@jupyter-widgets/base",
      "model_module_version": "1.2.0",
      "model_name": "LayoutModel",
      "state": {
       "display": "flex",
       "flex_flow": "row",
       "justify_content": "space-between",
       "margin": "0 0 20px 0"
      }
     },
     "83a8ce6446cb4ad197f071cd101095c1": {
      "model_module": "@jupyter-widgets/controls",
      "model_module_version": "1.5.0",
      "model_name": "LabelModel",
      "state": {
       "layout": "IPY_MODEL_dc927ab5a50e4bdd8e5f579bc04c8529",
       "style": "IPY_MODEL_bc2501afa2d54f369a694b16a8296786"
      }
     },
     "8410bc3819ed4119b76cb306812d81fd": {
      "model_module": "@jupyter-widgets/controls",
      "model_module_version": "1.5.0",
      "model_name": "DescriptionStyleModel",
      "state": {
       "description_width": "initial"
      }
     },
     "8416f0bb681545f1a802a85ea9eefe83": {
      "model_module": "@jupyter-widgets/controls",
      "model_module_version": "1.5.0",
      "model_name": "DescriptionStyleModel",
      "state": {
       "description_width": ""
      }
     },
     "84821b8f4cf2498b9b64effc2f2e94ee": {
      "model_module": "@jupyter-widgets/base",
      "model_module_version": "1.2.0",
      "model_name": "LayoutModel",
      "state": {}
     },
     "8552d49c52e247d9b49f88bd98308466": {
      "model_module": "@jupyter-widgets/controls",
      "model_module_version": "1.5.0",
      "model_name": "DescriptionStyleModel",
      "state": {
       "description_width": ""
      }
     },
     "856dd725cbe44b9c9217539dbcc60617": {
      "model_module": "@jupyter-widgets/controls",
      "model_module_version": "1.5.0",
      "model_name": "HTMLModel",
      "state": {
       "layout": "IPY_MODEL_8c4a3d151a444a2f82c890ebcf81ac53",
       "style": "IPY_MODEL_108c42b5245f41dba0d62dc3abb04dc5",
       "value": "<style>p{word-wrap: break-word}</style> <p>In dynamic programming, the order of performance of operations is not at all important. </p>"
      }
     },
     "857fbd52dfb2409791d2caf8eea130e5": {
      "model_module": "@jupyter-widgets/base",
      "model_module_version": "1.2.0",
      "model_name": "LayoutModel",
      "state": {
       "width": "30px"
      }
     },
     "8652c2b6ce8f43a8b8fadc8b1d097250": {
      "model_module": "@jupyter-widgets/base",
      "model_module_version": "1.2.0",
      "model_name": "LayoutModel",
      "state": {
       "width": "30px"
      }
     },
     "86bce075f175427184f7d6216e89ad0e": {
      "model_module": "@jupyter-widgets/controls",
      "model_module_version": "1.5.0",
      "model_name": "DescriptionStyleModel",
      "state": {
       "description_width": ""
      }
     },
     "87b7fa3a5445484591eb126fb256c2b6": {
      "model_module": "@jupyter-widgets/controls",
      "model_module_version": "1.5.0",
      "model_name": "HTMLModel",
      "state": {
       "layout": "IPY_MODEL_ebfda00c4aab40619a5a00d357430117",
       "style": "IPY_MODEL_c24cf53c0a1b468ea3d84fda2ee9b3a9",
       "value": "<style>p{word-wrap: break-word}</style> <p>In dynamic programming, the outcomes of each operation in a process are independant. </p>"
      }
     },
     "885c4fca04684101a019c121dfe2b923": {
      "model_module": "@jupyter-widgets/controls",
      "model_module_version": "1.5.0",
      "model_name": "DescriptionStyleModel",
      "state": {
       "description_width": ""
      }
     },
     "89a33b28f42c48efa16252c0a4b36b25": {
      "model_module": "@jupyter-widgets/controls",
      "model_module_version": "1.5.0",
      "model_name": "DescriptionStyleModel",
      "state": {
       "description_width": ""
      }
     },
     "8ade229a35c74ea29f933d2eac1ea247": {
      "model_module": "@jupyter-widgets/base",
      "model_module_version": "1.2.0",
      "model_name": "LayoutModel",
      "state": {
       "align_items": "stretch",
       "display": "flex",
       "flex_flow": "row wrap",
       "width": "auto"
      }
     },
     "8b22e40c827b45b097ab2c2e6a732e48": {
      "model_module": "@jupyter-widgets/controls",
      "model_module_version": "1.5.0",
      "model_name": "HBoxModel",
      "state": {
       "children": [
        "IPY_MODEL_aec9f28b9004413ea9a1b72099598b76",
        "IPY_MODEL_33b6886861a24760a1e23697a02fe808"
       ],
       "layout": "IPY_MODEL_2e0c0f56f1f045b5b56131d70ef5fd23"
      }
     },
     "8b5ac004195a43ecb56ed8511cc7ca79": {
      "model_module": "@jupyter-widgets/controls",
      "model_module_version": "1.5.0",
      "model_name": "CheckboxModel",
      "state": {
       "disabled": false,
       "layout": "IPY_MODEL_13d232abefb74befa6aff56b2ed626b0",
       "style": "IPY_MODEL_f40aa9846865434181fdd14686768d47",
       "value": false
      }
     },
     "8befafd599ac450fa9e1b22e5b7db4c2": {
      "model_module": "@jupyter-widgets/controls",
      "model_module_version": "1.5.0",
      "model_name": "DescriptionStyleModel",
      "state": {
       "description_width": ""
      }
     },
     "8c4a3d151a444a2f82c890ebcf81ac53": {
      "model_module": "@jupyter-widgets/base",
      "model_module_version": "1.2.0",
      "model_name": "LayoutModel",
      "state": {}
     },
     "8c6315a3a30647289060487c3d87bc65": {
      "model_module": "@jupyter-widgets/controls",
      "model_module_version": "1.5.0",
      "model_name": "CheckboxModel",
      "state": {
       "disabled": false,
       "layout": "IPY_MODEL_18a71da80b924ae1a88ab82af7e53ebf",
       "style": "IPY_MODEL_627cd10e57384dd7a3a4b6e1ac4bf859",
       "value": false
      }
     },
     "8d25e0f836114d1a94e76ec7c9f590d5": {
      "model_module": "@jupyter-widgets/controls",
      "model_module_version": "1.5.0",
      "model_name": "LabelModel",
      "state": {
       "layout": "IPY_MODEL_4b56c83991f7433d9cb267113d50a9d0",
       "style": "IPY_MODEL_d09f5ce450ab48a6915374549697be85"
      }
     },
     "8dd8c8d34ee14fb9882b0191d4e6667c": {
      "model_module": "@jupyter-widgets/controls",
      "model_module_version": "1.5.0",
      "model_name": "HBoxModel",
      "state": {
       "children": [
        "IPY_MODEL_e936d7ecd6264a9fa03007932647d1b9",
        "IPY_MODEL_6576ee1fddf441ec88a813f943b5cd66"
       ],
       "layout": "IPY_MODEL_4d4123d8b2f04afe91cee72a5334ed96"
      }
     },
     "8e3b49b83eb4457b8044cd36f4bd303b": {
      "model_module": "@jupyter-widgets/base",
      "model_module_version": "1.2.0",
      "model_name": "LayoutModel",
      "state": {}
     },
     "8e698ae0da5f47b08a597e223ff0fd9b": {
      "model_module": "@jupyter-widgets/base",
      "model_module_version": "1.2.0",
      "model_name": "LayoutModel",
      "state": {
       "align_items": "stretch",
       "display": "flex",
       "flex_flow": "column",
       "width": "100%"
      }
     },
     "8ef01e5fcdb541cfb41db3f35b43fbdc": {
      "model_module": "@jupyter-widgets/controls",
      "model_module_version": "1.5.0",
      "model_name": "HBoxModel",
      "state": {
       "children": [
        "IPY_MODEL_82ed62db939244fd9011a03e343e01db",
        "IPY_MODEL_c122a38aaff447f090a5c4c71323cad7"
       ],
       "layout": "IPY_MODEL_d6ccb0a275e04894a4ef851a9da57967"
      }
     },
     "904b47ff9b6c4a20853ac015795ec128": {
      "model_module": "@jupyter-widgets/controls",
      "model_module_version": "1.5.0",
      "model_name": "DescriptionStyleModel",
      "state": {
       "description_width": "initial"
      }
     },
     "915bba05da7d479fa058c0d93679b1db": {
      "model_module": "@jupyter-widgets/controls",
      "model_module_version": "1.5.0",
      "model_name": "LabelModel",
      "state": {
       "layout": "IPY_MODEL_f74df38cb99e4ae4b55d302717949408",
       "style": "IPY_MODEL_d1e9a7b35c034b7b816edea60edce2e3"
      }
     },
     "919a536dd307477d833f52741a3f6fda": {
      "model_module": "@jupyter-widgets/base",
      "model_module_version": "1.2.0",
      "model_name": "LayoutModel",
      "state": {
       "align_items": "stretch",
       "display": "flex",
       "flex_flow": "row wrap",
       "width": "auto"
      }
     },
     "92744c05ccad41e09076caeb30ef4d75": {
      "model_module": "@jupyter-widgets/base",
      "model_module_version": "1.2.0",
      "model_name": "LayoutModel",
      "state": {
       "align_items": "stretch",
       "display": "flex",
       "flex_flow": "row wrap",
       "width": "auto"
      }
     },
     "927d0b583da04fd98489ba97a326d4b6": {
      "model_module": "@jupyter-widgets/controls",
      "model_module_version": "1.5.0",
      "model_name": "ButtonModel",
      "state": {
       "description": "Show answer",
       "disabled": true,
       "layout": "IPY_MODEL_be641db41edd4497a2f40954d8f0d673",
       "style": "IPY_MODEL_aaa44ffe145a46609d2d7181eb107f3a"
      }
     },
     "9361b418aa114d78a44a774a05694b32": {
      "model_module": "@jupyter-widgets/controls",
      "model_module_version": "1.5.0",
      "model_name": "DescriptionStyleModel",
      "state": {
       "description_width": ""
      }
     },
     "93fdbbee536f4536864b31cc1a01cabe": {
      "model_module": "@jupyter-widgets/base",
      "model_module_version": "1.2.0",
      "model_name": "LayoutModel",
      "state": {
       "align_items": "stretch",
       "display": "flex",
       "flex_flow": "row wrap",
       "width": "auto"
      }
     },
     "949be336546540fd9112cd4fe2ba4e93": {
      "model_module": "@jupyter-widgets/controls",
      "model_module_version": "1.5.0",
      "model_name": "DescriptionStyleModel",
      "state": {
       "description_width": ""
      }
     },
     "94abfcdd6faf45d9a9527d0a7b731f0f": {
      "model_module": "@jupyter-widgets/base",
      "model_module_version": "1.2.0",
      "model_name": "LayoutModel",
      "state": {}
     },
     "96b4b333b51b4b55bf2cb7a5ff84c257": {
      "model_module": "@jupyter-widgets/controls",
      "model_module_version": "1.5.0",
      "model_name": "HTMLModel",
      "state": {
       "layout": "IPY_MODEL_f57ba00dc36e468ca7b074996da85c6b",
       "style": "IPY_MODEL_0f370d000e3a43b6b9732560f253e2b1",
       "value": "<style>p{word-wrap: break-word}</style> <p>Solutions are located at the end of each notebook. </p>"
      }
     },
     "96cc9eacd91a41de92da7eee043a797e": {
      "model_module": "@jupyter-widgets/controls",
      "model_module_version": "1.5.0",
      "model_name": "LabelModel",
      "state": {
       "layout": "IPY_MODEL_e7b391e8696b47aea059b12f31d0e2cd",
       "style": "IPY_MODEL_b204dea11ba642f1ad9b78a4f03ea949"
      }
     },
     "990cbc8651604689a1d9bcec2d3513ab": {
      "model_module": "@jupyter-widgets/controls",
      "model_module_version": "1.5.0",
      "model_name": "CheckboxModel",
      "state": {
       "disabled": false,
       "layout": "IPY_MODEL_cf6cfe9048814087bbba53ca4c1c5b25",
       "style": "IPY_MODEL_31527ee381a3490ba3f1485402362fd4",
       "value": false
      }
     },
     "996821c309f54508ada19ea7cd39de30": {
      "model_module": "@jupyter-widgets/base",
      "model_module_version": "1.2.0",
      "model_name": "LayoutModel",
      "state": {
       "align_items": "stretch",
       "display": "flex",
       "flex_flow": "row wrap",
       "width": "auto"
      }
     },
     "9a803aac9a8b485ab3e70e8bb68e895f": {
      "model_module": "@jupyter-widgets/controls",
      "model_module_version": "1.5.0",
      "model_name": "DescriptionStyleModel",
      "state": {
       "description_width": ""
      }
     },
     "9b124889242641249ac32f855cedaa9a": {
      "model_module": "@jupyter-widgets/controls",
      "model_module_version": "1.5.0",
      "model_name": "DescriptionStyleModel",
      "state": {
       "description_width": ""
      }
     },
     "9c65579feb174e1faabe0b76cfdc483b": {
      "model_module": "@jupyter-widgets/controls",
      "model_module_version": "1.5.0",
      "model_name": "DescriptionStyleModel",
      "state": {
       "description_width": ""
      }
     },
     "9c67dbefe21a404d9487867dd01e8bef": {
      "model_module": "@jupyter-widgets/controls",
      "model_module_version": "1.5.0",
      "model_name": "HTMLModel",
      "state": {
       "layout": "IPY_MODEL_a04f8efdc1c74a14b759f7b0376925b9",
       "style": "IPY_MODEL_70d12c6bb14545779349f70f42a626f8",
       "value": "<style>p{word-wrap: break-word}</style> <p>Check the statement below that best summarize Richard Bellman's own explanation of the term dynamic programming. </p>"
      }
     },
     "9d9959e810454f3f9de79b5bed09cff4": {
      "model_module": "@jupyter-widgets/controls",
      "model_module_version": "1.5.0",
      "model_name": "LabelModel",
      "state": {
       "layout": "IPY_MODEL_2c4f3a0f30304ba5adbb8e1d45b8547b",
       "style": "IPY_MODEL_cf125af9257c42388199e5e350c1fcdd"
      }
     },
     "9e4f55121b184fa4ba305ca818344fa1": {
      "model_module": "@jupyter-widgets/base",
      "model_module_version": "1.2.0",
      "model_name": "LayoutModel",
      "state": {
       "width": "30px"
      }
     },
     "9f9f0762ac514b1c91becb79adc07348": {
      "model_module": "@jupyter-widgets/base",
      "model_module_version": "1.2.0",
      "model_name": "LayoutModel",
      "state": {
       "width": "30px"
      }
     },
     "9feea03fec814ee0800dbcfa30f0a4ac": {
      "model_module": "@jupyter-widgets/base",
      "model_module_version": "1.2.0",
      "model_name": "LayoutModel",
      "state": {}
     },
     "a04f8efdc1c74a14b759f7b0376925b9": {
      "model_module": "@jupyter-widgets/base",
      "model_module_version": "1.2.0",
      "model_name": "LayoutModel",
      "state": {}
     },
     "a0ca0406321c4ae2b5eb4d9886735cc8": {
      "model_module": "@jupyter-widgets/controls",
      "model_module_version": "1.5.0",
      "model_name": "LabelModel",
      "state": {
       "layout": "IPY_MODEL_334b0ad0b51042628b8e22fa6db0c9b2",
       "style": "IPY_MODEL_8552d49c52e247d9b49f88bd98308466"
      }
     },
     "a0eda5bf3d7b47f0be85fcf9dabf3b37": {
      "model_module": "@jupyter-widgets/controls",
      "model_module_version": "1.5.0",
      "model_name": "HBoxModel",
      "state": {
       "children": [
        "IPY_MODEL_5cc9f45023944001b62fe935cb6de6e6",
        "IPY_MODEL_fb3a5a9fcc35496e8e96b3280abcdf20"
       ],
       "layout": "IPY_MODEL_b9b7714d69504a85bc32f3b58844aeba"
      }
     },
     "a0f2344a05534783889077248c479308": {
      "model_module": "@jupyter-widgets/controls",
      "model_module_version": "1.5.0",
      "model_name": "VBoxModel",
      "state": {
       "box_style": "info",
       "children": [
        "IPY_MODEL_afe9d65474644ac1a911aef5ceaf35a8",
        "IPY_MODEL_787af02782f148dfb53cb1140e3d511b",
        "IPY_MODEL_bc4f491969284849bc20f8950ec6afa3"
       ],
       "layout": "IPY_MODEL_56390b29b8ad4c379b3cf9bcc48c0833"
      }
     },
     "a1c5c7e65c3747b8934d2c2abaf5293e": {
      "model_module": "@jupyter-widgets/base",
      "model_module_version": "1.2.0",
      "model_name": "LayoutModel",
      "state": {
       "width": "30px"
      }
     },
     "a2639fab98ae450a96cb067cc7967709": {
      "model_module": "@jupyter-widgets/controls",
      "model_module_version": "1.5.0",
      "model_name": "LabelModel",
      "state": {
       "layout": "IPY_MODEL_14074e4c63244bc28b8a47bceac63a88",
       "style": "IPY_MODEL_f2eadfe96c554fba9bbca6148b42bdb0"
      }
     },
     "a4a004604d7d4a1ca77401b46199a485": {
      "model_module": "@jupyter-widgets/base",
      "model_module_version": "1.2.0",
      "model_name": "LayoutModel",
      "state": {}
     },
     "a4a16bd0ebc94587b55e3cf36e10c8e6": {
      "model_module": "@jupyter-widgets/base",
      "model_module_version": "1.2.0",
      "model_name": "LayoutModel",
      "state": {
       "width": "30px"
      }
     },
     "a5f68a1116d345a1bd18cf54c5607c7e": {
      "model_module": "@jupyter-widgets/base",
      "model_module_version": "1.2.0",
      "model_name": "LayoutModel",
      "state": {}
     },
     "a60e7886f8604630ad45a87424a4cd54": {
      "model_module": "@jupyter-widgets/base",
      "model_module_version": "1.2.0",
      "model_name": "LayoutModel",
      "state": {
       "align_items": "stretch",
       "display": "flex",
       "flex_flow": "row wrap",
       "width": "auto"
      }
     },
     "a707c9128ca7423fada0c76612d7de93": {
      "model_module": "@jupyter-widgets/base",
      "model_module_version": "1.2.0",
      "model_name": "LayoutModel",
      "state": {
       "width": "30px"
      }
     },
     "a7b9ae6040c54ab4867e5af0eae31c52": {
      "model_module": "@jupyter-widgets/base",
      "model_module_version": "1.2.0",
      "model_name": "LayoutModel",
      "state": {}
     },
     "a9a92e5f534c4e01830819d815cbc6ae": {
      "model_module": "@jupyter-widgets/controls",
      "model_module_version": "1.5.0",
      "model_name": "HBoxModel",
      "state": {
       "children": [
        "IPY_MODEL_e6b91365433547aa9132c44b851041f9",
        "IPY_MODEL_dc6983ec9e5d4924a89f5289268cf566"
       ],
       "layout": "IPY_MODEL_919a536dd307477d833f52741a3f6fda"
      }
     },
     "aaa44ffe145a46609d2d7181eb107f3a": {
      "model_module": "@jupyter-widgets/controls",
      "model_module_version": "1.5.0",
      "model_name": "ButtonStyleModel",
      "state": {
       "button_color": "#4DD0E1"
      }
     },
     "ad2f017628594601a662e7352812ade2": {
      "model_module": "@jupyter-widgets/base",
      "model_module_version": "1.2.0",
      "model_name": "LayoutModel",
      "state": {
       "align_items": "stretch",
       "display": "flex",
       "flex_flow": "row wrap",
       "width": "auto"
      }
     },
     "ada7c3959e25462bb705533058ab307d": {
      "model_module": "@jupyter-widgets/controls",
      "model_module_version": "1.5.0",
      "model_name": "DescriptionStyleModel",
      "state": {
       "description_width": ""
      }
     },
     "adb6f7da712f46d6939dc16db9741d99": {
      "model_module": "@jupyter-widgets/controls",
      "model_module_version": "1.5.0",
      "model_name": "CheckboxModel",
      "state": {
       "disabled": false,
       "layout": "IPY_MODEL_e4d4905edd014bb0badb70b22b302a7b",
       "style": "IPY_MODEL_dae6097751b3490894f0b4538e5cdde5",
       "value": false
      }
     },
     "ae21fcce764e46579d25762c329f75fc": {
      "model_module": "@jupyter-widgets/controls",
      "model_module_version": "1.5.0",
      "model_name": "HBoxModel",
      "state": {
       "children": [
        "IPY_MODEL_73643e4b9f964e0b8abef6b2d3fccbe2",
        "IPY_MODEL_ea7a95bd6b254f18ac8b378370506d3f"
       ],
       "layout": "IPY_MODEL_72bb5d708d9547c69ef07e35f93ddc99"
      }
     },
     "ae28803435624d91a7cbef82b220ee05": {
      "model_module": "@jupyter-widgets/base",
      "model_module_version": "1.2.0",
      "model_name": "LayoutModel",
      "state": {
       "align_items": "stretch",
       "display": "flex",
       "flex_flow": "row wrap",
       "margin": "30px 0 0 0"
      }
     },
     "aec9f28b9004413ea9a1b72099598b76": {
      "model_module": "@jupyter-widgets/controls",
      "model_module_version": "1.5.0",
      "model_name": "CheckboxModel",
      "state": {
       "disabled": false,
       "layout": "IPY_MODEL_9e4f55121b184fa4ba305ca818344fa1",
       "style": "IPY_MODEL_2a47455f4d7f48f1b38e988347c59cec",
       "value": false
      }
     },
     "afe9d65474644ac1a911aef5ceaf35a8": {
      "model_module": "@jupyter-widgets/controls",
      "model_module_version": "1.5.0",
      "model_name": "HBoxModel",
      "state": {
       "children": [
        "IPY_MODEL_47426dc623894a29be2a280298a0e82d"
       ],
       "layout": "IPY_MODEL_66448cf81bf440f792f33b2fc7bc7dba"
      }
     },
     "b08765297a9440fb8da632930b4d3869": {
      "model_module": "@jupyter-widgets/controls",
      "model_module_version": "1.5.0",
      "model_name": "HBoxModel",
      "state": {
       "children": [
        "IPY_MODEL_305a43e454264fc69e366e37286dc828",
        "IPY_MODEL_a2639fab98ae450a96cb067cc7967709",
        "IPY_MODEL_b5981dae780340d3abe6f1b77225f7d9"
       ],
       "layout": "IPY_MODEL_23faf2e77ac7486c8214f641e617c041"
      }
     },
     "b0cf937737064af48fadd5fcfca721ee": {
      "model_module": "@jupyter-widgets/base",
      "model_module_version": "1.2.0",
      "model_name": "LayoutModel",
      "state": {}
     },
     "b0fc29a0a587497784180b224ed2ef34": {
      "model_module": "@jupyter-widgets/base",
      "model_module_version": "1.2.0",
      "model_name": "LayoutModel",
      "state": {
       "width": "30px"
      }
     },
     "b204dea11ba642f1ad9b78a4f03ea949": {
      "model_module": "@jupyter-widgets/controls",
      "model_module_version": "1.5.0",
      "model_name": "DescriptionStyleModel",
      "state": {
       "description_width": ""
      }
     },
     "b23271ac0f5947bd8957cf02722c3c59": {
      "model_module": "@jupyter-widgets/controls",
      "model_module_version": "1.5.0",
      "model_name": "HBoxModel",
      "state": {
       "children": [
        "IPY_MODEL_7ef61a850cc942d886e171af3e07ba80",
        "IPY_MODEL_6f91d22d70eb4bda899340843153b14b"
       ],
       "layout": "IPY_MODEL_114061c80145451289491e1f172024d6"
      }
     },
     "b2b2fd70245543a69113fc7be9436fe4": {
      "model_module": "@jupyter-widgets/base",
      "model_module_version": "1.2.0",
      "model_name": "LayoutModel",
      "state": {}
     },
     "b2dac4e1a2374e99952ff4695842fc17": {
      "model_module": "@jupyter-widgets/controls",
      "model_module_version": "1.5.0",
      "model_name": "HBoxModel",
      "state": {
       "children": [
        "IPY_MODEL_96cc9eacd91a41de92da7eee043a797e",
        "IPY_MODEL_6ffb1b4c4ee5435c8603ce2a51739851"
       ],
       "layout": "IPY_MODEL_039c217d7181462b857ccaf930132028"
      }
     },
     "b30791e15ee841f28e9517d975e7d8e5": {
      "model_module": "@jupyter-widgets/controls",
      "model_module_version": "1.5.0",
      "model_name": "DescriptionStyleModel",
      "state": {
       "description_width": ""
      }
     },
     "b3fd46f444b944ad843ac8962f18b21e": {
      "model_module": "@jupyter-widgets/controls",
      "model_module_version": "1.5.0",
      "model_name": "HBoxModel",
      "state": {
       "children": [
        "IPY_MODEL_9c67dbefe21a404d9487867dd01e8bef"
       ],
       "layout": "IPY_MODEL_c8b68cfe98224f64abdb9c862639e0c8"
      }
     },
     "b49ae41fa9eb421291a3e83c8a910a44": {
      "model_module": "@jupyter-widgets/base",
      "model_module_version": "1.2.0",
      "model_name": "LayoutModel",
      "state": {
       "align_items": "stretch",
       "display": "flex",
       "flex_flow": "row wrap",
       "width": "auto"
      }
     },
     "b5981dae780340d3abe6f1b77225f7d9": {
      "model_module": "@jupyter-widgets/controls",
      "model_module_version": "1.5.0",
      "model_name": "ButtonModel",
      "state": {
       "description": "Show answer",
       "disabled": true,
       "layout": "IPY_MODEL_17b01bbadb2041a88fbb39502b5a786e",
       "style": "IPY_MODEL_cdccae6f56f24ddebe5432efe2f2f478"
      }
     },
     "b8e8b30905e04d10a3ce17caf614ea4c": {
      "model_module": "@jupyter-widgets/base",
      "model_module_version": "1.2.0",
      "model_name": "LayoutModel",
      "state": {
       "align_items": "stretch",
       "display": "flex",
       "flex_flow": "row wrap",
       "width": "auto"
      }
     },
     "b999f175dda545c6a113f3c26b44f6bb": {
      "model_module": "@jupyter-widgets/controls",
      "model_module_version": "1.5.0",
      "model_name": "HBoxModel",
      "state": {
       "children": [
        "IPY_MODEL_adb6f7da712f46d6939dc16db9741d99",
        "IPY_MODEL_0dea5c244d784b0bb8555dc67aa5b220"
       ],
       "layout": "IPY_MODEL_4942314c7d4a43ddbfcf131ed43dd347"
      }
     },
     "b9b7714d69504a85bc32f3b58844aeba": {
      "model_module": "@jupyter-widgets/base",
      "model_module_version": "1.2.0",
      "model_name": "LayoutModel",
      "state": {
       "align_items": "stretch",
       "display": "flex",
       "flex_flow": "row wrap",
       "width": "auto"
      }
     },
     "bb89e71222b542d1b3f1d9c298aaa2e4": {
      "model_module": "@jupyter-widgets/base",
      "model_module_version": "1.2.0",
      "model_name": "LayoutModel",
      "state": {}
     },
     "bbc118e68006463ebfe2997166a091d1": {
      "model_module": "@jupyter-widgets/controls",
      "model_module_version": "1.5.0",
      "model_name": "HTMLModel",
      "state": {
       "layout": "IPY_MODEL_d46af20983254e39a11205d51dd5c215",
       "style": "IPY_MODEL_ada7c3959e25462bb705533058ab307d",
       "value": "<style>p{word-wrap: break-word}</style> <p>palindrome </p>"
      }
     },
     "bc2501afa2d54f369a694b16a8296786": {
      "model_module": "@jupyter-widgets/controls",
      "model_module_version": "1.5.0",
      "model_name": "DescriptionStyleModel",
      "state": {
       "description_width": ""
      }
     },
     "bc3baaae2591421888d4ea62822ec00a": {
      "model_module": "@jupyter-widgets/controls",
      "model_module_version": "1.5.0",
      "model_name": "DescriptionStyleModel",
      "state": {
       "description_width": "initial"
      }
     },
     "bc4f491969284849bc20f8950ec6afa3": {
      "model_module": "@jupyter-widgets/controls",
      "model_module_version": "1.5.0",
      "model_name": "HBoxModel",
      "state": {
       "children": [
        "IPY_MODEL_1b5cb823a2494222a1aebb38f21b0389",
        "IPY_MODEL_10ac665e7b684e238af1cdf469e5d012",
        "IPY_MODEL_927d0b583da04fd98489ba97a326d4b6"
       ],
       "layout": "IPY_MODEL_70a8016ce2514dfcbe854b9e6e7fb0ba"
      }
     },
     "bd78ca2793ad47a5ad93cf31d393011b": {
      "model_module": "@jupyter-widgets/base",
      "model_module_version": "1.2.0",
      "model_name": "LayoutModel",
      "state": {}
     },
     "bdb022dd22ef43bb90b202db4ebe8779": {
      "model_module": "@jupyter-widgets/controls",
      "model_module_version": "1.5.0",
      "model_name": "HBoxModel",
      "state": {
       "children": [
        "IPY_MODEL_cb4449bf07794416b0bdf1516fb09594",
        "IPY_MODEL_1fb795eed6474fe5b1c9abf835ed668a"
       ],
       "layout": "IPY_MODEL_1e1c009ffec54353961260862f73fdf6"
      }
     },
     "bddfb377e566480dbb8db67f54bc2d55": {
      "model_module": "@jupyter-widgets/controls",
      "model_module_version": "1.5.0",
      "model_name": "LabelModel",
      "state": {
       "layout": "IPY_MODEL_201bfa50c904490e8b8660ac7b9112e9",
       "style": "IPY_MODEL_5aea2fb1b8d740b597d4aea869041b80"
      }
     },
     "be641db41edd4497a2f40954d8f0d673": {
      "model_module": "@jupyter-widgets/base",
      "model_module_version": "1.2.0",
      "model_name": "LayoutModel",
      "state": {
       "display": "none"
      }
     },
     "bf5df395c1524d5a9a4926eabda1ceff": {
      "model_module": "@jupyter-widgets/controls",
      "model_module_version": "1.5.0",
      "model_name": "HBoxModel",
      "state": {
       "children": [
        "IPY_MODEL_e3daf87a0f2c4b9bbbb4722e5f8a116f",
        "IPY_MODEL_0ba780133bed4062a824dddcfb43fe20"
       ],
       "layout": "IPY_MODEL_cca99d18f7bd4b079d7aa176ff0e58d0"
      }
     },
     "c122a38aaff447f090a5c4c71323cad7": {
      "model_module": "@jupyter-widgets/controls",
      "model_module_version": "1.5.0",
      "model_name": "HBoxModel",
      "state": {
       "children": [
        "IPY_MODEL_8b5ac004195a43ecb56ed8511cc7ca79",
        "IPY_MODEL_87b7fa3a5445484591eb126fb256c2b6"
       ],
       "layout": "IPY_MODEL_fe9010362c9c4857b6bcf26c92850438"
      }
     },
     "c1cbc137054f40d2ad29b2e30b00d00e": {
      "model_module": "@jupyter-widgets/base",
      "model_module_version": "1.2.0",
      "model_name": "LayoutModel",
      "state": {}
     },
     "c1d6034e92d04cd1adc7a2045b1905b1": {
      "model_module": "@jupyter-widgets/base",
      "model_module_version": "1.2.0",
      "model_name": "LayoutModel",
      "state": {
       "align_items": "stretch",
       "display": "flex",
       "flex_flow": "row wrap",
       "width": "auto"
      }
     },
     "c24cf53c0a1b468ea3d84fda2ee9b3a9": {
      "model_module": "@jupyter-widgets/controls",
      "model_module_version": "1.5.0",
      "model_name": "DescriptionStyleModel",
      "state": {
       "description_width": ""
      }
     },
     "c423c779a3364394a7cecfb075f911c2": {
      "model_module": "@jupyter-widgets/controls",
      "model_module_version": "1.5.0",
      "model_name": "DescriptionStyleModel",
      "state": {
       "description_width": "initial"
      }
     },
     "c50715e24c104cb2b12ff836ff8b2ca5": {
      "model_module": "@jupyter-widgets/controls",
      "model_module_version": "1.5.0",
      "model_name": "DescriptionStyleModel",
      "state": {
       "description_width": ""
      }
     },
     "c7358379a1ce424eb14f5719c49cde09": {
      "model_module": "@jupyter-widgets/controls",
      "model_module_version": "1.5.0",
      "model_name": "CheckboxModel",
      "state": {
       "disabled": false,
       "layout": "IPY_MODEL_5da8682022404027961728c5d8f49799",
       "style": "IPY_MODEL_e89eeaa849d84db2acb35a9a25c66651",
       "value": false
      }
     },
     "c847b5dcd42e4a0c842fb78b61d9fe15": {
      "model_module": "@jupyter-widgets/base",
      "model_module_version": "1.2.0",
      "model_name": "LayoutModel",
      "state": {
       "align_items": "stretch",
       "display": "flex",
       "flex_flow": "row wrap",
       "width": "auto"
      }
     },
     "c863eb36745f406ca4fe64186a46c369": {
      "model_module": "@jupyter-widgets/controls",
      "model_module_version": "1.5.0",
      "model_name": "DescriptionStyleModel",
      "state": {
       "description_width": "initial"
      }
     },
     "c8b68cfe98224f64abdb9c862639e0c8": {
      "model_module": "@jupyter-widgets/base",
      "model_module_version": "1.2.0",
      "model_name": "LayoutModel",
      "state": {
       "display": "flex",
       "flex_flow": "row",
       "justify_content": "space-between",
       "margin": "0 0 20px 0"
      }
     },
     "c8eab3c245d445f6a5e7da9920ec01c6": {
      "model_module": "@jupyter-widgets/base",
      "model_module_version": "1.2.0",
      "model_name": "LayoutModel",
      "state": {}
     },
     "c9bf9ed33bb04a99b9f215b1f479aae8": {
      "model_module": "@jupyter-widgets/controls",
      "model_module_version": "1.5.0",
      "model_name": "HBoxModel",
      "state": {
       "children": [
        "IPY_MODEL_7cb79e4b10ef440393ffa08962098571",
        "IPY_MODEL_d8635731048c4fb8b9dc61fcbd659d02"
       ],
       "layout": "IPY_MODEL_b8e8b30905e04d10a3ce17caf614ea4c"
      }
     },
     "ca60e602134442238f1c99a30c164a1d": {
      "model_module": "@jupyter-widgets/base",
      "model_module_version": "1.2.0",
      "model_name": "LayoutModel",
      "state": {
       "align_items": "stretch",
       "display": "flex",
       "flex_flow": "row wrap",
       "width": "auto"
      }
     },
     "ca6391b9d30849e185a93c71b48887c3": {
      "model_module": "@jupyter-widgets/base",
      "model_module_version": "1.2.0",
      "model_name": "LayoutModel",
      "state": {}
     },
     "cb27b9e74bb847c0b361346e7c683c2c": {
      "model_module": "@jupyter-widgets/controls",
      "model_module_version": "1.5.0",
      "model_name": "HBoxModel",
      "state": {
       "children": [
        "IPY_MODEL_8c6315a3a30647289060487c3d87bc65",
        "IPY_MODEL_f2bfb8b86cc9439492a95ac4f56efd40"
       ],
       "layout": "IPY_MODEL_04b756b57e3c48478c74bc8f0128a4bb"
      }
     },
     "cb4449bf07794416b0bdf1516fb09594": {
      "model_module": "@jupyter-widgets/controls",
      "model_module_version": "1.5.0",
      "model_name": "CheckboxModel",
      "state": {
       "disabled": false,
       "layout": "IPY_MODEL_399d72162a754ad7a9bcd3c9b7dd4668",
       "style": "IPY_MODEL_5b172b2343d74012858a78881f6f5eed",
       "value": false
      }
     },
     "cc20f33e3b9d46ad819fe43ab73b918d": {
      "model_module": "@jupyter-widgets/controls",
      "model_module_version": "1.5.0",
      "model_name": "DescriptionStyleModel",
      "state": {
       "description_width": ""
      }
     },
     "cc59e1c01e3f4170b90aeeb24e0092f3": {
      "model_module": "@jupyter-widgets/base",
      "model_module_version": "1.2.0",
      "model_name": "LayoutModel",
      "state": {
       "align_items": "stretch",
       "display": "flex",
       "flex_flow": "row wrap",
       "margin": "30px 0 0 0"
      }
     },
     "cca99d18f7bd4b079d7aa176ff0e58d0": {
      "model_module": "@jupyter-widgets/base",
      "model_module_version": "1.2.0",
      "model_name": "LayoutModel",
      "state": {
       "align_items": "stretch",
       "display": "flex",
       "flex_flow": "row wrap",
       "width": "auto"
      }
     },
     "cdccae6f56f24ddebe5432efe2f2f478": {
      "model_module": "@jupyter-widgets/controls",
      "model_module_version": "1.5.0",
      "model_name": "ButtonStyleModel",
      "state": {
       "button_color": "#4DD0E1"
      }
     },
     "cf125af9257c42388199e5e350c1fcdd": {
      "model_module": "@jupyter-widgets/controls",
      "model_module_version": "1.5.0",
      "model_name": "DescriptionStyleModel",
      "state": {
       "description_width": ""
      }
     },
     "cf6cfe9048814087bbba53ca4c1c5b25": {
      "model_module": "@jupyter-widgets/base",
      "model_module_version": "1.2.0",
      "model_name": "LayoutModel",
      "state": {
       "width": "30px"
      }
     },
     "cfeb8212cbb540faa587345c1ba99fac": {
      "model_module": "@jupyter-widgets/controls",
      "model_module_version": "1.5.0",
      "model_name": "DescriptionStyleModel",
      "state": {
       "description_width": "initial"
      }
     },
     "cfeccf6abdec4cbebe0dd7ac6aacdf7c": {
      "model_module": "@jupyter-widgets/controls",
      "model_module_version": "1.5.0",
      "model_name": "HTMLModel",
      "state": {
       "layout": "IPY_MODEL_75485d09dc6a46c1a3cd6651538cce22",
       "style": "IPY_MODEL_14daa09da56a4f20b683a811ab5e5529",
       "value": "<style>p{word-wrap: break-word}</style> <p>p </p>"
      }
     },
     "d025ff23e1584dcebe448c099faad80c": {
      "model_module": "@jupyter-widgets/controls",
      "model_module_version": "1.5.0",
      "model_name": "DescriptionStyleModel",
      "state": {
       "description_width": ""
      }
     },
     "d09f5ce450ab48a6915374549697be85": {
      "model_module": "@jupyter-widgets/controls",
      "model_module_version": "1.5.0",
      "model_name": "DescriptionStyleModel",
      "state": {
       "description_width": ""
      }
     },
     "d1389f851ba741b4b97314183f0aa994": {
      "model_module": "@jupyter-widgets/controls",
      "model_module_version": "1.5.0",
      "model_name": "HBoxModel",
      "state": {
       "children": [
        "IPY_MODEL_35098a8d039249c1b4d01bccccc312a4",
        "IPY_MODEL_ef720262cd82498badd0fb5e9cf58503"
       ],
       "layout": "IPY_MODEL_92744c05ccad41e09076caeb30ef4d75"
      }
     },
     "d14ae8ae160c484793a8f959c4ffeb2a": {
      "model_module": "@jupyter-widgets/controls",
      "model_module_version": "1.5.0",
      "model_name": "LabelModel",
      "state": {
       "layout": "IPY_MODEL_94abfcdd6faf45d9a9527d0a7b731f0f",
       "style": "IPY_MODEL_89a33b28f42c48efa16252c0a4b36b25"
      }
     },
     "d1e9a7b35c034b7b816edea60edce2e3": {
      "model_module": "@jupyter-widgets/controls",
      "model_module_version": "1.5.0",
      "model_name": "DescriptionStyleModel",
      "state": {
       "description_width": ""
      }
     },
     "d1eaf68a6d954fb387b8519c7e9d1334": {
      "model_module": "@jupyter-widgets/controls",
      "model_module_version": "1.5.0",
      "model_name": "HBoxModel",
      "state": {
       "children": [
        "IPY_MODEL_83a8ce6446cb4ad197f071cd101095c1",
        "IPY_MODEL_bdb022dd22ef43bb90b202db4ebe8779"
       ],
       "layout": "IPY_MODEL_0bf24026faaa4afab338c02dc5dbc466"
      }
     },
     "d25cd381caa948e4aa129cb3449a2c1b": {
      "model_module": "@jupyter-widgets/controls",
      "model_module_version": "1.5.0",
      "model_name": "LabelModel",
      "state": {
       "layout": "IPY_MODEL_3bd3a658f88a4d9595c8e028b7f07317",
       "style": "IPY_MODEL_cc20f33e3b9d46ad819fe43ab73b918d"
      }
     },
     "d46af20983254e39a11205d51dd5c215": {
      "model_module": "@jupyter-widgets/base",
      "model_module_version": "1.2.0",
      "model_name": "LayoutModel",
      "state": {}
     },
     "d4bf18f81ac84907b02a55882aa640e5": {
      "model_module": "@jupyter-widgets/controls",
      "model_module_version": "1.5.0",
      "model_name": "DescriptionStyleModel",
      "state": {
       "description_width": ""
      }
     },
     "d52294dd869a4a24a25aa09944c5c1e1": {
      "model_module": "@jupyter-widgets/controls",
      "model_module_version": "1.5.0",
      "model_name": "DescriptionStyleModel",
      "state": {
       "description_width": ""
      }
     },
     "d52f613b191f4c988f6bf9c109ea408c": {
      "model_module": "@jupyter-widgets/base",
      "model_module_version": "1.2.0",
      "model_name": "LayoutModel",
      "state": {}
     },
     "d58b23ce68e344e3b955ceae3a0b2e27": {
      "model_module": "@jupyter-widgets/controls",
      "model_module_version": "1.5.0",
      "model_name": "DescriptionStyleModel",
      "state": {
       "description_width": ""
      }
     },
     "d5d281b4b87c4fd481712a97aa7cbad1": {
      "model_module": "@jupyter-widgets/base",
      "model_module_version": "1.2.0",
      "model_name": "LayoutModel",
      "state": {}
     },
     "d6ccb0a275e04894a4ef851a9da57967": {
      "model_module": "@jupyter-widgets/base",
      "model_module_version": "1.2.0",
      "model_name": "LayoutModel",
      "state": {
       "align_items": "stretch",
       "display": "flex",
       "flex_flow": "row wrap",
       "width": "auto"
      }
     },
     "d79ff18c352b42ea871b1cc5c706ed34": {
      "model_module": "@jupyter-widgets/base",
      "model_module_version": "1.2.0",
      "model_name": "LayoutModel",
      "state": {}
     },
     "d7d21390eec245c2a6b9eeece0147767": {
      "model_module": "@jupyter-widgets/controls",
      "model_module_version": "1.5.0",
      "model_name": "DescriptionStyleModel",
      "state": {
       "description_width": ""
      }
     },
     "d8635731048c4fb8b9dc61fcbd659d02": {
      "model_module": "@jupyter-widgets/controls",
      "model_module_version": "1.5.0",
      "model_name": "HBoxModel",
      "state": {
       "children": [
        "IPY_MODEL_638d0108c0204bd7bdebe160ca591443",
        "IPY_MODEL_7fc63fabec9c442a9ae1cf9a683bf888"
       ],
       "layout": "IPY_MODEL_b49ae41fa9eb421291a3e83c8a910a44"
      }
     },
     "d8a7e26a4d3946d0910813b4637b9604": {
      "model_module": "@jupyter-widgets/controls",
      "model_module_version": "1.5.0",
      "model_name": "ButtonStyleModel",
      "state": {
       "button_color": "#4DD0E1"
      }
     },
     "dac7e41f826542f88d059cc5026b3c78": {
      "model_module": "@jupyter-widgets/base",
      "model_module_version": "1.2.0",
      "model_name": "LayoutModel",
      "state": {
       "align_items": "stretch",
       "display": "flex",
       "flex_flow": "row wrap",
       "width": "auto"
      }
     },
     "dae6097751b3490894f0b4538e5cdde5": {
      "model_module": "@jupyter-widgets/controls",
      "model_module_version": "1.5.0",
      "model_name": "DescriptionStyleModel",
      "state": {
       "description_width": "initial"
      }
     },
     "db6bceb8f89749819e98e034c065209a": {
      "model_module": "@jupyter-widgets/controls",
      "model_module_version": "1.5.0",
      "model_name": "DescriptionStyleModel",
      "state": {
       "description_width": "initial"
      }
     },
     "db758faf3d0046c4ab955feb3726105a": {
      "model_module": "@jupyter-widgets/controls",
      "model_module_version": "1.5.0",
      "model_name": "DescriptionStyleModel",
      "state": {
       "description_width": "initial"
      }
     },
     "dc41c5f264214e4faa8544d6e6780b4b": {
      "model_module": "@jupyter-widgets/controls",
      "model_module_version": "1.5.0",
      "model_name": "LabelModel",
      "state": {
       "layout": "IPY_MODEL_6564606aa6de4b45a2f8becbd8475cc4",
       "style": "IPY_MODEL_d025ff23e1584dcebe448c099faad80c"
      }
     },
     "dc6983ec9e5d4924a89f5289268cf566": {
      "model_module": "@jupyter-widgets/controls",
      "model_module_version": "1.5.0",
      "model_name": "HTMLModel",
      "state": {
       "layout": "IPY_MODEL_ee1cd99bec634b729673d59354ef764b",
       "style": "IPY_MODEL_6c42c4de4df147c38fb7fed4b64d5c9b",
       "value": "<style>p{word-wrap: break-word}</style> <p>bottom-up </p>"
      }
     },
     "dc7e0b26340742c0a85fa0b5d0576c50": {
      "model_module": "@jupyter-widgets/base",
      "model_module_version": "1.2.0",
      "model_name": "LayoutModel",
      "state": {}
     },
     "dc8c5d68d4fd44739e1f0941ca760257": {
      "model_module": "@jupyter-widgets/controls",
      "model_module_version": "1.5.0",
      "model_name": "HTMLModel",
      "state": {
       "layout": "IPY_MODEL_ea314aa4100240d8a1ec8f27fb9cdda2",
       "style": "IPY_MODEL_7f5bbcfb44d645a587c5ed932a0ed875",
       "value": "<style>p{word-wrap: break-word}</style> <p> </p>"
      }
     },
     "dc927ab5a50e4bdd8e5f579bc04c8529": {
      "model_module": "@jupyter-widgets/base",
      "model_module_version": "1.2.0",
      "model_name": "LayoutModel",
      "state": {}
     },
     "dd38d8b2d4b5459794a9acc6fd025537": {
      "model_module": "@jupyter-widgets/controls",
      "model_module_version": "1.5.0",
      "model_name": "HTMLModel",
      "state": {
       "layout": "IPY_MODEL_3619ceed7ea74622b8818ed66e54c705",
       "style": "IPY_MODEL_2e63606c4a724f47a5e87481307d71fa",
       "value": "<style>p{word-wrap: break-word}</style> <p>Which terms describe the algorithm above? </p>"
      }
     },
     "de2c0a3b785543b7afd560c030523e9e": {
      "model_module": "@jupyter-widgets/controls",
      "model_module_version": "1.5.0",
      "model_name": "DescriptionStyleModel",
      "state": {
       "description_width": ""
      }
     },
     "de8f7dbc99ae414882665887bc0bf850": {
      "model_module": "@jupyter-widgets/controls",
      "model_module_version": "1.5.0",
      "model_name": "ButtonStyleModel",
      "state": {
       "button_color": "#4DD0E1"
      }
     },
     "de9ff7e56e7046f6891b25d12b35e6aa": {
      "model_module": "@jupyter-widgets/controls",
      "model_module_version": "1.5.0",
      "model_name": "CheckboxModel",
      "state": {
       "disabled": false,
       "layout": "IPY_MODEL_8355949ee0bf4f2fb95e1e9c2461a6ae",
       "style": "IPY_MODEL_db6bceb8f89749819e98e034c065209a",
       "value": false
      }
     },
     "dffb05c56792412b92d557678ceb4a1b": {
      "model_module": "@jupyter-widgets/controls",
      "model_module_version": "1.5.0",
      "model_name": "HTMLModel",
      "state": {
       "layout": "IPY_MODEL_a5f68a1116d345a1bd18cf54c5607c7e",
       "style": "IPY_MODEL_111ea7391ab846e3a2717154cbddf658",
       "value": "<style>p{word-wrap: break-word}</style> <p>recursive </p>"
      }
     },
     "e0043b6a367243dda493cfe53cfc4d10": {
      "model_module": "@jupyter-widgets/base",
      "model_module_version": "1.2.0",
      "model_name": "LayoutModel",
      "state": {}
     },
     "e159e8988dcd4756850f15ad1451a540": {
      "model_module": "@jupyter-widgets/base",
      "model_module_version": "1.2.0",
      "model_name": "LayoutModel",
      "state": {}
     },
     "e22cd2de8829465f819b4e833d2f2681": {
      "model_module": "@jupyter-widgets/controls",
      "model_module_version": "1.5.0",
      "model_name": "ButtonStyleModel",
      "state": {
       "button_color": "#4DD0E1"
      }
     },
     "e31eee0d5e464ccc906f81be80ec7858": {
      "model_module": "@jupyter-widgets/controls",
      "model_module_version": "1.5.0",
      "model_name": "HBoxModel",
      "state": {
       "children": [
        "IPY_MODEL_faeeff6c3d9c467995d3a3624b41e099",
        "IPY_MODEL_727d4ddb9134499abc3cafc082719423"
       ],
       "layout": "IPY_MODEL_0cf8bc8c8e3d40b6ab58d1bc42d75b37"
      }
     },
     "e3daf87a0f2c4b9bbbb4722e5f8a116f": {
      "model_module": "@jupyter-widgets/controls",
      "model_module_version": "1.5.0",
      "model_name": "LabelModel",
      "state": {
       "layout": "IPY_MODEL_e6d74ac1050a43648f240cb555463ce5",
       "style": "IPY_MODEL_6905605e835e464c93db76cc5ce0c680"
      }
     },
     "e40a4a5ca6da4d1283731d19162cdd13": {
      "model_module": "@jupyter-widgets/controls",
      "model_module_version": "1.5.0",
      "model_name": "HBoxModel",
      "state": {
       "children": [
        "IPY_MODEL_567ab401d60846ce87ffe47ca7618e3e",
        "IPY_MODEL_42384345e7104fd2b9b6e1fb657d101a"
       ],
       "layout": "IPY_MODEL_40fc22605ac94684bd9512ac4393b7d8"
      }
     },
     "e47d357dc456431fa7c52eee472c3286": {
      "model_module": "@jupyter-widgets/controls",
      "model_module_version": "1.5.0",
      "model_name": "HBoxModel",
      "state": {
       "children": [
        "IPY_MODEL_1cae096c6277453d8d6decda56a3ab99",
        "IPY_MODEL_22eb875ba8834aa2b375c9ca90d55b5e"
       ],
       "layout": "IPY_MODEL_ad2f017628594601a662e7352812ade2"
      }
     },
     "e4d4905edd014bb0badb70b22b302a7b": {
      "model_module": "@jupyter-widgets/base",
      "model_module_version": "1.2.0",
      "model_name": "LayoutModel",
      "state": {
       "width": "30px"
      }
     },
     "e4e58b1eb24649c2a1a601ed718fc5db": {
      "model_module": "@jupyter-widgets/controls",
      "model_module_version": "1.5.0",
      "model_name": "DescriptionStyleModel",
      "state": {
       "description_width": ""
      }
     },
     "e5ea9b05199240c6b99d8dde0b697c00": {
      "model_module": "@jupyter-widgets/controls",
      "model_module_version": "1.5.0",
      "model_name": "HBoxModel",
      "state": {
       "children": [
        "IPY_MODEL_dd38d8b2d4b5459794a9acc6fd025537"
       ],
       "layout": "IPY_MODEL_173f7acc3cad4019a3e555c25663c78b"
      }
     },
     "e6b91365433547aa9132c44b851041f9": {
      "model_module": "@jupyter-widgets/controls",
      "model_module_version": "1.5.0",
      "model_name": "CheckboxModel",
      "state": {
       "disabled": false,
       "layout": "IPY_MODEL_8652c2b6ce8f43a8b8fadc8b1d097250",
       "style": "IPY_MODEL_db758faf3d0046c4ab955feb3726105a",
       "value": false
      }
     },
     "e6d74ac1050a43648f240cb555463ce5": {
      "model_module": "@jupyter-widgets/base",
      "model_module_version": "1.2.0",
      "model_name": "LayoutModel",
      "state": {}
     },
     "e7564cd22eb547a0a161314560a38724": {
      "model_module": "@jupyter-widgets/controls",
      "model_module_version": "1.5.0",
      "model_name": "HBoxModel",
      "state": {
       "children": [
        "IPY_MODEL_1cfadb6d397c4d4cb139c2d2803a6363",
        "IPY_MODEL_96b4b333b51b4b55bf2cb7a5ff84c257"
       ],
       "layout": "IPY_MODEL_f503b00cfe6f4a7d86bd754e53800064"
      }
     },
     "e7b391e8696b47aea059b12f31d0e2cd": {
      "model_module": "@jupyter-widgets/base",
      "model_module_version": "1.2.0",
      "model_name": "LayoutModel",
      "state": {}
     },
     "e89eeaa849d84db2acb35a9a25c66651": {
      "model_module": "@jupyter-widgets/controls",
      "model_module_version": "1.5.0",
      "model_name": "DescriptionStyleModel",
      "state": {
       "description_width": "initial"
      }
     },
     "e936d7ecd6264a9fa03007932647d1b9": {
      "model_module": "@jupyter-widgets/controls",
      "model_module_version": "1.5.0",
      "model_name": "LabelModel",
      "state": {
       "layout": "IPY_MODEL_84821b8f4cf2498b9b64effc2f2e94ee",
       "style": "IPY_MODEL_949be336546540fd9112cd4fe2ba4e93"
      }
     },
     "e9d53d7b284e409d92114124c4157a2f": {
      "model_module": "@jupyter-widgets/base",
      "model_module_version": "1.2.0",
      "model_name": "LayoutModel",
      "state": {}
     },
     "e9dee7c8073a434c9c92b3683526ee83": {
      "model_module": "@jupyter-widgets/controls",
      "model_module_version": "1.5.0",
      "model_name": "CheckboxModel",
      "state": {
       "disabled": false,
       "layout": "IPY_MODEL_6c4dd40d8cf946319fb6bcbacfb2b98a",
       "style": "IPY_MODEL_cfeb8212cbb540faa587345c1ba99fac",
       "value": false
      }
     },
     "ea314aa4100240d8a1ec8f27fb9cdda2": {
      "model_module": "@jupyter-widgets/base",
      "model_module_version": "1.2.0",
      "model_name": "LayoutModel",
      "state": {}
     },
     "ea7a95bd6b254f18ac8b378370506d3f": {
      "model_module": "@jupyter-widgets/controls",
      "model_module_version": "1.5.0",
      "model_name": "HBoxModel",
      "state": {
       "children": [
        "IPY_MODEL_14c55f061d0c4f96ad2306cd2af3b6fe",
        "IPY_MODEL_f49c6980ae81446497feb11efe8b26eb"
       ],
       "layout": "IPY_MODEL_00330d612772496f8d1cba13c55ef9f8"
      }
     },
     "ebfda00c4aab40619a5a00d357430117": {
      "model_module": "@jupyter-widgets/base",
      "model_module_version": "1.2.0",
      "model_name": "LayoutModel",
      "state": {}
     },
     "ec567434f96f476a9e0d6c1182c593cf": {
      "model_module": "@jupyter-widgets/controls",
      "model_module_version": "1.5.0",
      "model_name": "HBoxModel",
      "state": {
       "children": [
        "IPY_MODEL_41d0bd63a05d4f28bf90c08a2a9ac178",
        "IPY_MODEL_fb9ee7d11dee499b85551e8a6b0af155"
       ],
       "layout": "IPY_MODEL_43306499d02c4594a17c2355eaa3e367"
      }
     },
     "ed63d515f90543f5a559675eff139272": {
      "model_module": "@jupyter-widgets/controls",
      "model_module_version": "1.5.0",
      "model_name": "HBoxModel",
      "state": {
       "children": [
        "IPY_MODEL_04f8ce21995e487b8bd5d6ebdfe9fefa",
        "IPY_MODEL_753a5cccad754a76b50e7dfa0ce07054"
       ],
       "layout": "IPY_MODEL_19b9217b6cc74ba39ea38522fb7e283a"
      }
     },
     "ee1cd99bec634b729673d59354ef764b": {
      "model_module": "@jupyter-widgets/base",
      "model_module_version": "1.2.0",
      "model_name": "LayoutModel",
      "state": {}
     },
     "eee68d909755422494929e82e6be26fa": {
      "model_module": "@jupyter-widgets/controls",
      "model_module_version": "1.5.0",
      "model_name": "DescriptionStyleModel",
      "state": {
       "description_width": ""
      }
     },
     "ef053783979d40999d0ed53acebd4b9e": {
      "model_module": "@jupyter-widgets/controls",
      "model_module_version": "1.5.0",
      "model_name": "VBoxModel",
      "state": {
       "children": [
        "IPY_MODEL_e47d357dc456431fa7c52eee472c3286",
        "IPY_MODEL_d1389f851ba741b4b97314183f0aa994",
        "IPY_MODEL_3d5945056b84475092dd805b0e6f2b2f",
        "IPY_MODEL_7f332d529a244fc9a0e805d8c6043872",
        "IPY_MODEL_a0eda5bf3d7b47f0be85fcf9dabf3b37",
        "IPY_MODEL_d1eaf68a6d954fb387b8519c7e9d1334"
       ],
       "layout": "IPY_MODEL_7e9fe047fa8b41dcb4a48278860c0738"
      }
     },
     "ef720262cd82498badd0fb5e9cf58503": {
      "model_module": "@jupyter-widgets/controls",
      "model_module_version": "1.5.0",
      "model_name": "HBoxModel",
      "state": {
       "children": [
        "IPY_MODEL_16c2d7b22964406d92141d7d495d8504",
        "IPY_MODEL_bbc118e68006463ebfe2997166a091d1"
       ],
       "layout": "IPY_MODEL_5db9ddb790c14439997b035c20023bfe"
      }
     },
     "ef9938e6ab9344a6b1808e0a8265bf6a": {
      "model_module": "@jupyter-widgets/controls",
      "model_module_version": "1.5.0",
      "model_name": "HTMLModel",
      "state": {
       "layout": "IPY_MODEL_dc7e0b26340742c0a85fa0b5d0576c50",
       "style": "IPY_MODEL_4dccfff78aac4a65aba7347a605c4064",
       "value": "<style>p{word-wrap: break-word}</style> <p>inductive </p>"
      }
     },
     "efb930d9d5e74d4ab86a05ac9b646f78": {
      "model_module": "@jupyter-widgets/controls",
      "model_module_version": "1.5.0",
      "model_name": "HBoxModel",
      "state": {
       "children": [
        "IPY_MODEL_f9e3bc9714344f138e95c67c7afd123f",
        "IPY_MODEL_b999f175dda545c6a113f3c26b44f6bb"
       ],
       "layout": "IPY_MODEL_1c9bd5342a7a4291855bbc814762d3f5"
      }
     },
     "f01068fe48a54b9ba57d1a8c26ec8de4": {
      "model_module": "@jupyter-widgets/controls",
      "model_module_version": "1.5.0",
      "model_name": "HTMLModel",
      "state": {
       "layout": "IPY_MODEL_ca6391b9d30849e185a93c71b48887c3",
       "style": "IPY_MODEL_18fd25a3d8cf4ea8bb407d7e6cee899c",
       "value": "<style>p{word-wrap: break-word}</style> <p>Solutions are styled in a yellow warning colour, so don't peek! </p>"
      }
     },
     "f2bfb8b86cc9439492a95ac4f56efd40": {
      "model_module": "@jupyter-widgets/controls",
      "model_module_version": "1.5.0",
      "model_name": "HTMLModel",
      "state": {
       "layout": "IPY_MODEL_02d71145de984c20a7483cccf4378972",
       "style": "IPY_MODEL_062ff11d7c4f43a6a946d4f2d10fac5d",
       "value": "<style>p{word-wrap: break-word}</style> <p>If you don't see starter code for an exercise, probably the code cell is collapsed by mistake. </p>"
      }
     },
     "f2eadfe96c554fba9bbca6148b42bdb0": {
      "model_module": "@jupyter-widgets/controls",
      "model_module_version": "1.5.0",
      "model_name": "DescriptionStyleModel",
      "state": {
       "description_width": ""
      }
     },
     "f2ff5bc9282f47538052179b0b9a9071": {
      "model_module": "@jupyter-widgets/controls",
      "model_module_version": "1.5.0",
      "model_name": "DescriptionStyleModel",
      "state": {
       "description_width": ""
      }
     },
     "f3d30482ec5a4647b99f145b7c033c76": {
      "model_module": "@jupyter-widgets/controls",
      "model_module_version": "1.5.0",
      "model_name": "HBoxModel",
      "state": {
       "children": [
        "IPY_MODEL_990cbc8651604689a1d9bcec2d3513ab",
        "IPY_MODEL_70959271693446699624ea3980ae903c"
       ],
       "layout": "IPY_MODEL_c847b5dcd42e4a0c842fb78b61d9fe15"
      }
     },
     "f40aa9846865434181fdd14686768d47": {
      "model_module": "@jupyter-widgets/controls",
      "model_module_version": "1.5.0",
      "model_name": "DescriptionStyleModel",
      "state": {
       "description_width": "initial"
      }
     },
     "f49c6980ae81446497feb11efe8b26eb": {
      "model_module": "@jupyter-widgets/controls",
      "model_module_version": "1.5.0",
      "model_name": "HTMLModel",
      "state": {
       "layout": "IPY_MODEL_248d1a3442424fee9a4c087318c67070",
       "style": "IPY_MODEL_f2ff5bc9282f47538052179b0b9a9071",
       "value": "<style>p{word-wrap: break-word}</style> <p>Once a code cell is collapsed, there is no way to ever see it again! </p>"
      }
     },
     "f4a2804bc1774eeea38aa61debc748df": {
      "model_module": "@jupyter-widgets/base",
      "model_module_version": "1.2.0",
      "model_name": "LayoutModel",
      "state": {}
     },
     "f4f28f540cee4af0879707fdd222bbcc": {
      "model_module": "@jupyter-widgets/controls",
      "model_module_version": "1.5.0",
      "model_name": "DescriptionStyleModel",
      "state": {
       "description_width": ""
      }
     },
     "f503b00cfe6f4a7d86bd754e53800064": {
      "model_module": "@jupyter-widgets/base",
      "model_module_version": "1.2.0",
      "model_name": "LayoutModel",
      "state": {
       "align_items": "stretch",
       "display": "flex",
       "flex_flow": "row wrap",
       "width": "auto"
      }
     },
     "f57ba00dc36e468ca7b074996da85c6b": {
      "model_module": "@jupyter-widgets/base",
      "model_module_version": "1.2.0",
      "model_name": "LayoutModel",
      "state": {}
     },
     "f74df38cb99e4ae4b55d302717949408": {
      "model_module": "@jupyter-widgets/base",
      "model_module_version": "1.2.0",
      "model_name": "LayoutModel",
      "state": {}
     },
     "f9e3bc9714344f138e95c67c7afd123f": {
      "model_module": "@jupyter-widgets/controls",
      "model_module_version": "1.5.0",
      "model_name": "LabelModel",
      "state": {
       "layout": "IPY_MODEL_13e0ae3b9ff949c69b5a86cf569b93e8",
       "style": "IPY_MODEL_7400b9f8a05e49a2a7570549a2e77d52"
      }
     },
     "faeeff6c3d9c467995d3a3624b41e099": {
      "model_module": "@jupyter-widgets/controls",
      "model_module_version": "1.5.0",
      "model_name": "LabelModel",
      "state": {
       "layout": "IPY_MODEL_e0043b6a367243dda493cfe53cfc4d10",
       "style": "IPY_MODEL_de2c0a3b785543b7afd560c030523e9e"
      }
     },
     "fb3a5a9fcc35496e8e96b3280abcdf20": {
      "model_module": "@jupyter-widgets/controls",
      "model_module_version": "1.5.0",
      "model_name": "HBoxModel",
      "state": {
       "children": [
        "IPY_MODEL_13d3cb147b814812b0c30a324b750612",
        "IPY_MODEL_fb9346d6c9894b82899a9495cb48d3ee"
       ],
       "layout": "IPY_MODEL_434dbd06381947b3be701c0ff0efa92f"
      }
     },
     "fb9346d6c9894b82899a9495cb48d3ee": {
      "model_module": "@jupyter-widgets/controls",
      "model_module_version": "1.5.0",
      "model_name": "HTMLModel",
      "state": {
       "layout": "IPY_MODEL_8e3b49b83eb4457b8044cd36f4bd303b",
       "style": "IPY_MODEL_208dd3a691344b1c9d3cdedf0c103ebf",
       "value": "<style>p{word-wrap: break-word}</style> <p>02.02.2020 </p>"
      }
     },
     "fb9ee7d11dee499b85551e8a6b0af155": {
      "model_module": "@jupyter-widgets/controls",
      "model_module_version": "1.5.0",
      "model_name": "HBoxModel",
      "state": {
       "children": [
        "IPY_MODEL_e9dee7c8073a434c9c92b3683526ee83",
        "IPY_MODEL_dffb05c56792412b92d557678ceb4a1b"
       ],
       "layout": "IPY_MODEL_7efd793a2dca4793891dbfdb6ca80589"
      }
     },
     "fc0bc30050694009ba6879fdec406f64": {
      "model_module": "@jupyter-widgets/controls",
      "model_module_version": "1.5.0",
      "model_name": "DescriptionStyleModel",
      "state": {
       "description_width": ""
      }
     },
     "fc8a5e3d459542deb385da3908b03c12": {
      "model_module": "@jupyter-widgets/controls",
      "model_module_version": "1.5.0",
      "model_name": "DescriptionStyleModel",
      "state": {
       "description_width": ""
      }
     },
     "fe9010362c9c4857b6bcf26c92850438": {
      "model_module": "@jupyter-widgets/base",
      "model_module_version": "1.2.0",
      "model_name": "LayoutModel",
      "state": {
       "align_items": "stretch",
       "display": "flex",
       "flex_flow": "row wrap",
       "width": "auto"
      }
     },
     "ff7fd948b89342c59a9123055ee71234": {
      "model_module": "@jupyter-widgets/base",
      "model_module_version": "1.2.0",
      "model_name": "LayoutModel",
      "state": {
       "align_items": "stretch",
       "display": "flex",
       "flex_flow": "column",
       "width": "100%"
      }
     }
    },
    "version_major": 2,
    "version_minor": 0
   }
  }
 },
 "nbformat": 4,
 "nbformat_minor": 4
}
