{
 "cells": [
  {
   "cell_type": "markdown",
   "metadata": {},
   "source": [
    "# Lesson 1: Introduction to Dynamic Programming <a class=\"tocSkip\">"
   ]
  },
  {
   "cell_type": "markdown",
   "metadata": {},
   "source": [
    "Welcome to the first lesson of Magic of Dynamic Programming. This series teaches a step-by-step method of developing a powerful class of algorithms to solve problems which don't lend themselves to other methods like 'greedy' algorithms or divide-and-conquer.\n",
    "\n",
    "Just like a warm-up that makes you more flexible and less likely to injure yourself during exercise, this warm-up notebook is to get your brain flexible. Play along and you'll reap the reward later on.\n"
   ]
  },
  {
   "cell_type": "markdown",
   "metadata": {},
   "source": [
    "<div class=\"alert alert-success\">\n",
    "    In order to execute a cell, select the cell by clicking it. Then press <code>Ctrl-Enter</code> while selecting the code cell below. Alternatively, you can press the \"Play\" button at the top of the screen. This also moves to the next cell at the same time. Using <code>Shift-Enter</code> instead of <code>Ctrl-Enter</code> will also execute the code and move to the next cell at the same time.\n",
    "</div>"
   ]
  },
  {
   "cell_type": "markdown",
   "metadata": {},
   "source": [
    "<div class=\"alert alert-warning\">\n",
    "Warning... The following may take some time to run\n",
    "</div>"
   ]
  },
  {
   "cell_type": "markdown",
   "metadata": {},
   "source": [
    "<div class=\"alert alert-danger\">\n",
    "<b>Attention!</b> Weighted shortest paths have the <em>lowest</em> total weight.\n",
    "</div>"
   ]
  },
  {
   "cell_type": "markdown",
   "metadata": {},
   "source": [
    "<div class=\"alert alert-info\">\n",
    "This Python notebook is intended to be used like a lab. Quizzes and exercises where you are asked to do something, or to think about something, will be indicated like this.\n",
    "</div>\n"
   ]
  },
  {
   "cell_type": "markdown",
   "metadata": {},
   "source": [
    "## What is Dynamic Programming?"
   ]
  },
  {
   "cell_type": "markdown",
   "metadata": {},
   "source": [
    "<figure>\n",
    "    <img src=\"../images/bellman_front_page.png\" width=\"300px\" alt=\"An Introduction to the Theory of Dynamic Programming\"/>\n",
    "    <figcaption><b>Figure 1.</b> Front page of 'An Introduction to the Theory of Dynamic Programming' (Bellman, 1953)</figcaption>\n",
    "</figure>"
   ]
  },
  {
   "cell_type": "markdown",
   "metadata": {},
   "source": [
    "#### The origin of the term 'dynamic programming\n",
    "Richard Bellman was a professor of mathematics who worked for the RAND corporation in the 1950's. It's interesting to read the professor's own explanation of the term dynamic programming.\n",
    "<figure>\n",
    "    <img src=\"../images/bellman_preface_highlighted.png\" width = \"700px\"/>\n",
    "    <figcaption><b>Figure 2.</b> Screenshot from preface of 'An Introduction to the Theory of Dynamic Programming' (Bellman, 1953)</figcaption>\n",
    "</figure>"
   ]
  },
  {
   "cell_type": "markdown",
   "metadata": {},
   "source": [
    "<div class=\"alert alert-info\">\n",
    "After reading the snippet above from the preface of 'An introduction to the Theory of Dynamic Programming' (Bellman, 1953) answer the following quiz:\n",
    "</div>"
   ]
  },
  {
   "cell_type": "markdown",
   "metadata": {},
   "source": [
    "%run \"quizzes/quiz.py\" \"quizzes/00/bellman.json\""
   ]
  },
  {
   "cell_type": "code",
   "execution_count": 17,
   "metadata": {
    "hide_input": false,
    "pycharm": {
     "name": "#%%\n"
    }
   },
   "outputs": [
    {
     "data": {
      "application/vnd.jupyter.widget-view+json": {
       "model_id": "8493ca41faef48d793f51c94d5cbbbf9",
       "version_major": 2,
       "version_minor": 0
      },
      "text/plain": [
       "AppLayout(box_style='info', children=(HBox(children=(Label(value=\"Check the statement below that best summariz…"
      ]
     },
     "metadata": {},
     "output_type": "display_data"
    }
   ],
   "source": [
    "%run \"quizzes/quiz.py\" \"quizzes/00/bellman.json\""
   ]
  },
  {
   "cell_type": "markdown",
   "metadata": {},
   "source": [
    "## Terminology Review\n",
    "The terms 'recursion', 'induction', 'top-down', 'iteratively'and 'bottom-up' will be used throughout the course.\n",
    "\n",
    "##### Recursion\n",
    "Dynamic programming can be used on the type of problem that can be broken down into sub-problems and solved recursively, so a solid understanding of recursive functions will help you a lot in this course.\n",
    "\n",
    "##### Induction\n",
    "\n",
    "##### Top-down\n",
    "In dynamic programming you often start with a recursive solution and turn it into an iterative algorithm. The recursive algorithm uses a similar process to mathematical induction - prove something works for the trivial case, then assume something works for n-1 elements and with those in hand prove that it works for n elements. This approach is also called **top-down**.\n",
    "\n",
    "##### Bottom-up\n",
    "In contrast, the usual way you add up an array of numbers is **bottom-up**: You add the first two numbers, then add the 3rd number to that sum and so on."
   ]
  },
  {
   "cell_type": "markdown",
   "metadata": {},
   "source": [
    "### Sum of n numbers\n",
    "When solving dynamic programming problems, you'll be turning top-down algorithms into **bottom-up** ones. So to limber up, let's start by practicing the other direction: In the following exercise you'll practice turning an algorithm that you _usually_ solve bottom-up into **top-down**!"
   ]
  },
  {
   "cell_type": "markdown",
   "metadata": {},
   "source": [
    "#### Think like a mathematician\n",
    "It's simple to add up a list of numbers. We automatically add them up iteratively. To turn it into a recursive algorithm, it helps to think of the problem similar to how you would prove a statement by induction. This video shows this type of inductive reasoning in action."
   ]
  },
  {
   "cell_type": "code",
   "execution_count": 18,
   "metadata": {
    "pycharm": {
     "name": "#%%\n"
    }
   },
   "outputs": [
    {
     "data": {
      "image/jpeg": "[encoded data removed]",
      "text/html": [
       "\n",
       "        <iframe\n",
       "            width=\"400\"\n",
       "            height=\"300\"\n",
       "            src=\"https://www.youtube.com/embed/roqumrTB9g0\"\n",
       "            frameborder=\"0\"\n",
       "            allowfullscreen\n",
       "        ></iframe>\n",
       "        "
      ],
      "text/plain": [
       "<IPython.lib.display.YouTubeVideo at 0x1ef43f3c2c8>"
      ]
     },
     "execution_count": 18,
     "metadata": {},
     "output_type": "execute_result"
    }
   ],
   "source": [
    "from IPython.display import YouTubeVideo\n",
    "YouTubeVideo('roqumrTB9g0')"
   ]
  },
  {
   "cell_type": "markdown",
   "metadata": {},
   "source": [
    "Write a recursive function in Python to add a list of numbers. For example, if your list is {3, 1, 4}, the algorithm will output 8."
   ]
  },
  {
   "cell_type": "code",
   "execution_count": 19,
   "metadata": {
    "pycharm": {
     "name": "#%%\n"
    }
   },
   "outputs": [],
   "source": [
    "def sum(numbers):\n",
    "\n",
    "    #####################\n",
    "    # YOUR CODE HERE    #\n",
    "    #####################\n",
    "\n",
    "    return False\n",
    "\n"
   ]
  },
  {
   "cell_type": "code",
   "execution_count": 20,
   "metadata": {
    "pycharm": {
     "name": "#%%\n"
    }
   },
   "outputs": [
    {
     "name": "stdout",
     "output_type": "stream",
     "text": [
      "False\n"
     ]
    }
   ],
   "source": [
    "# unit tests\n",
    "v = [3, 1, 4, 5, 9, 2, 6]\n",
    "print (sum(v))"
   ]
  },
  {
   "cell_type": "markdown",
   "metadata": {},
   "source": [
    "### Check if a given string is a palindrome\n",
    "\n",
    "A string [palindrome](https://en.wikipedia.org/wiki/Palindrome) is a string that is exactly the same read backward as forward."
   ]
  },
  {
   "cell_type": "code",
   "execution_count": 21,
   "metadata": {
    "hide_input": false,
    "pycharm": {
     "name": "#%%\n"
    }
   },
   "outputs": [
    {
     "data": {
      "application/vnd.jupyter.widget-view+json": {
       "model_id": "6f13975ada864e16bef63b9bf26d40d2",
       "version_major": 2,
       "version_minor": 0
      },
      "text/plain": [
       "AppLayout(box_style='info', children=(HBox(children=(Label(value='Which of the following strings are palindrom…"
      ]
     },
     "metadata": {},
     "output_type": "display_data"
    }
   ],
   "source": [
    "%run \"quizzes/quiz.py\" \"quizzes/00/palindrome_strings.json\""
   ]
  },
  {
   "cell_type": "markdown",
   "metadata": {
    "pycharm": {
     "name": "#%% md\n"
    }
   },
   "source": [
    "**An algorithm for is_palindrome:** We could test for whether a string with n characters is a palindrome by running along the string simultaneously from each end, using a 'left' pointer and a 'right' pointer until the pointers cross. At each step check if the characters under the left and right pointers match - if they don't: return false. If we get to the middle of the string and all the characters matched: return true."
   ]
  },
  {
   "cell_type": "code",
   "execution_count": 22,
   "metadata": {
    "hide_input": false
   },
   "outputs": [
    {
     "data": {
      "application/vnd.jupyter.widget-view+json": {
       "model_id": "b06b8c37ea7449d598a1091e5d1af668",
       "version_major": 2,
       "version_minor": 0
      },
      "text/plain": [
       "AppLayout(box_style='info', children=(HBox(children=(Label(value='Which terms describe the algorithm above?'),…"
      ]
     },
     "metadata": {},
     "output_type": "display_data"
    }
   ],
   "source": [
    "%run \"quizzes/quiz.py\" \"quizzes/00/palindrome_iterative.json\""
   ]
  },
  {
   "cell_type": "markdown",
   "metadata": {},
   "source": [
    "Now, as an exercise, write a _recursive_ function to check if a given string is a palindrome. The difference is subtle but important, so give it a try!"
   ]
  },
  {
   "cell_type": "code",
   "execution_count": 23,
   "metadata": {
    "pycharm": {
     "name": "#%%\n"
    }
   },
   "outputs": [],
   "source": [
    "def is_palindrome(s):\n",
    "\n",
    "    #####################\n",
    "    # YOUR CODE HERE    #\n",
    "    #####################\n",
    "\n",
    "    return False"
   ]
  },
  {
   "cell_type": "code",
   "execution_count": 24,
   "metadata": {
    "pycharm": {
     "name": "#%%\n"
    }
   },
   "outputs": [],
   "source": [
    "# sample unit tests\n",
    "tests = ['', 'a', 'abba', 'imma']\n",
    "expected = [True, True, True, False]\n",
    "actual = [is_palindrome(s) for s in tests]\n",
    "# assert(actual == expected)"
   ]
  },
  {
   "cell_type": "markdown",
   "metadata": {
    "pycharm": {
     "name": "#%% md\n"
    }
   },
   "source": [
    "### Solutions"
   ]
  },
  {
   "cell_type": "markdown",
   "metadata": {
    "pycharm": {
     "name": "#%% md\n"
    },
    "solution2": "hidden",
    "solution2_first": true
   },
   "source": [
    "#### Sum of n numbers"
   ]
  },
  {
   "cell_type": "code",
   "execution_count": 25,
   "metadata": {
    "pycharm": {
     "name": "#%%\n"
    },
    "solution2": "hidden"
   },
   "outputs": [],
   "source": [
    "# %load solutions/00/sum_n_numbers.py\n",
    "def sum(numbers):\n",
    "\n",
    "    n = len(numbers)\n",
    "    if n <= 0:\n",
    "        return 0\n",
    "    return sum(numbers[0: n - 1]) + numbers[n - 1]"
   ]
  },
  {
   "cell_type": "markdown",
   "metadata": {
    "pycharm": {
     "name": "#%% md\n"
    },
    "solution2": "hidden",
    "solution2_first": true
   },
   "source": [
    "#### Is string a palindrome?"
   ]
  },
  {
   "cell_type": "code",
   "execution_count": 26,
   "metadata": {
    "solution2": "hidden"
   },
   "outputs": [],
   "source": [
    "# %load solutions/00/is_palindrome.py\n",
    "def is_palindrome(s):\n",
    "\n",
    "    n = len(s)\n",
    "\n",
    "    if n == 0 or n == 1:\n",
    "        return 1\n",
    "    return s[0] == s[n - 1] and is_palindrome(s[1:n - 1])"
   ]
  }
 ],
 "metadata": {
  "kernelspec": {
   "display_name": "Python 3",
   "language": "python",
   "name": "python3"
  },
  "language_info": {
   "codemirror_mode": {
    "name": "ipython",
    "version": 3
   },
   "file_extension": ".py",
   "mimetype": "text/x-python",
   "name": "python",
   "nbconvert_exporter": "python",
   "pygments_lexer": "ipython3",
   "version": "3.7.6"
  },
  "latex_envs": {
   "LaTeX_envs_menu_present": true,
   "autoclose": false,
   "autocomplete": true,
   "bibliofile": "biblio.bib",
   "cite_by": "apalike",
   "current_citInitial": 1,
   "eqLabelWithNumbers": true,
   "eqNumInitial": 1,
   "hotkeys": {
    "equation": "Ctrl-E",
    "itemize": "Ctrl-I"
   },
   "labels_anchors": false,
   "latex_user_defs": false,
   "report_style_numbering": false,
   "user_envs_cfg": false
  },
  "toc": {
   "base_numbering": "",
   "nav_menu": {},
   "number_sections": false,
   "sideBar": true,
   "skip_h1_title": true,
   "title_cell": "Table of Contents",
   "title_sidebar": "Contents",
   "toc_cell": false,
   "toc_position": {
    "height": "calc(100% - 180px)",
    "left": "10px",
    "top": "150px",
    "width": "380.391px"
   },
   "toc_section_display": true,
   "toc_window_display": true
  },
  "widgets": {
   "application/vnd.jupyter.widget-state+json": {
    "state": {
     "0020021479f14d388f97f94d00df9a86": {
      "model_module": "@jupyter-widgets/controls",
      "model_module_version": "1.5.0",
      "model_name": "HBoxModel",
      "state": {
       "children": [
        "IPY_MODEL_a10e4c31dde34f42acf0fd9f74c94abc",
        "IPY_MODEL_67ebb193ca0641bba6f663364e792b3b"
       ],
       "layout": "IPY_MODEL_36036e76d3be42c8b4e20f7d7e14debd"
      }
     },
     "003f8d8cf0544cccb742c80c1949e0fe": {
      "model_module": "@jupyter-widgets/base",
      "model_module_version": "1.2.0",
      "model_name": "LayoutModel",
      "state": {}
     },
     "00daedb71ca344d98741ce92b5e0b776": {
      "model_module": "@jupyter-widgets/base",
      "model_module_version": "1.2.0",
      "model_name": "LayoutModel",
      "state": {}
     },
     "00e35369806f4438b7a37b07db74d46b": {
      "model_module": "@jupyter-widgets/base",
      "model_module_version": "1.2.0",
      "model_name": "LayoutModel",
      "state": {}
     },
     "00fdacfabb9844b79bbc6c230819c570": {
      "model_module": "@jupyter-widgets/base",
      "model_module_version": "1.2.0",
      "model_name": "LayoutModel",
      "state": {}
     },
     "0104e608c3c745df85fa9c81acc7a8ed": {
      "model_module": "@jupyter-widgets/base",
      "model_module_version": "1.2.0",
      "model_name": "LayoutModel",
      "state": {}
     },
     "01133987442846218bb86b543dfbcbf8": {
      "model_module": "@jupyter-widgets/controls",
      "model_module_version": "1.5.0",
      "model_name": "LabelModel",
      "state": {
       "layout": "IPY_MODEL_a7abbc69e89f4d6ebdff8ad209e5b944",
       "style": "IPY_MODEL_3d87640faa8b43ac9cf964bbd209d0a4"
      }
     },
     "01c9203b83c848c3bf9a94fdc115cc9b": {
      "model_module": "@jupyter-widgets/controls",
      "model_module_version": "1.5.0",
      "model_name": "HBoxModel",
      "state": {
       "children": [
        "IPY_MODEL_89672f0a4c2348979190a898042a519a",
        "IPY_MODEL_b3384e28289349c49a8fd6594c64a6bc"
       ],
       "layout": "IPY_MODEL_d48b12521ec34aa2ad4787c7a50a5971"
      }
     },
     "0233d19a0c5343d9a8f34d3abd177358": {
      "model_module": "@jupyter-widgets/controls",
      "model_module_version": "1.5.0",
      "model_name": "DescriptionStyleModel",
      "state": {
       "description_width": "initial"
      }
     },
     "027a4a9cec734802b0cb9a90f654642e": {
      "model_module": "@jupyter-widgets/base",
      "model_module_version": "1.2.0",
      "model_name": "LayoutModel",
      "state": {
       "width": "30px"
      }
     },
     "02dac8e74c0b4c66af4dfbdff46fa786": {
      "model_module": "@jupyter-widgets/controls",
      "model_module_version": "1.5.0",
      "model_name": "CheckboxModel",
      "state": {
       "disabled": false,
       "layout": "IPY_MODEL_8e801b6c90654980ae3492e0c67c03da",
       "style": "IPY_MODEL_90a9745c46b54bdaa84957d43c5f1087",
       "value": false
      }
     },
     "03161d871f5d46f490b117cf89d7ef00": {
      "model_module": "@jupyter-widgets/controls",
      "model_module_version": "1.5.0",
      "model_name": "DescriptionStyleModel",
      "state": {
       "description_width": "initial"
      }
     },
     "04bb194fc4b244fc8c6b2f04f1b8b5ff": {
      "model_module": "@jupyter-widgets/controls",
      "model_module_version": "1.5.0",
      "model_name": "DescriptionStyleModel",
      "state": {
       "description_width": ""
      }
     },
     "05199dd791d247e5a23ed50a6f54fc31": {
      "model_module": "@jupyter-widgets/controls",
      "model_module_version": "1.5.0",
      "model_name": "HBoxModel",
      "state": {
       "children": [
        "IPY_MODEL_df953e98a553413dab2baa03c20b3a17",
        "IPY_MODEL_2961b3f6ba9f40ea937c190918d2fcff"
       ],
       "layout": "IPY_MODEL_9d2abd21341841558c6d8abcdf023e3c"
      }
     },
     "052d1a43c258468ebc6994d95fb6f9fd": {
      "model_module": "@jupyter-widgets/controls",
      "model_module_version": "1.5.0",
      "model_name": "HBoxModel",
      "state": {
       "children": [
        "IPY_MODEL_54b35f922c7d4fe29fa4670946340f7d",
        "IPY_MODEL_414752cff7f342f0a84d3034f47baa72"
       ],
       "layout": "IPY_MODEL_fcc488453ba641b9a174d0d09a946f5c"
      }
     },
     "05d5e470da0648e4bcb1a5ca3ff290d9": {
      "model_module": "@jupyter-widgets/controls",
      "model_module_version": "1.5.0",
      "model_name": "LabelModel",
      "state": {
       "layout": "IPY_MODEL_9e3939f8e3ec45a0982a203c40b077b7",
       "style": "IPY_MODEL_d70eefae55c843d893187d8f15143dfa"
      }
     },
     "06170a72395d470396c125ad16d6f13e": {
      "model_module": "@jupyter-widgets/controls",
      "model_module_version": "1.5.0",
      "model_name": "LabelModel",
      "state": {
       "layout": "IPY_MODEL_9c357a49ffe64aa08dc26b9bc814a8a2",
       "style": "IPY_MODEL_d483d6746b8b4af48e17849371085d42",
       "value": "The term 'programming' means 'planning'"
      }
     },
     "06497ad546e440148602cc5e5e8237e9": {
      "model_module": "@jupyter-widgets/controls",
      "model_module_version": "1.5.0",
      "model_name": "DescriptionStyleModel",
      "state": {
       "description_width": "initial"
      }
     },
     "06609ede98794f678d7c299c3bc920b2": {
      "model_module": "@jupyter-widgets/controls",
      "model_module_version": "1.5.0",
      "model_name": "LabelModel",
      "state": {
       "layout": "IPY_MODEL_e636cafdbc804300bb10b21027a45303",
       "style": "IPY_MODEL_27bc353882714a04a8751d7258ccde95"
      }
     },
     "07fbc70efd694358a71a339168805730": {
      "model_module": "@jupyter-widgets/base",
      "model_module_version": "1.2.0",
      "model_name": "LayoutModel",
      "state": {}
     },
     "0866f99b5bd74ac1a4ddacd6036776e9": {
      "model_module": "@jupyter-widgets/controls",
      "model_module_version": "1.5.0",
      "model_name": "DescriptionStyleModel",
      "state": {
       "description_width": "initial"
      }
     },
     "0871a542b080406f8134cd179a5a07eb": {
      "model_module": "@jupyter-widgets/controls",
      "model_module_version": "1.5.0",
      "model_name": "HBoxModel",
      "state": {
       "children": [
        "IPY_MODEL_b54906f4ba1a48279239d1ee4134b4b2",
        "IPY_MODEL_88a6189fcf3f431e8c8b53571adf688b"
       ],
       "layout": "IPY_MODEL_3ec24a55972f41a9adbf3088f0ac5032"
      }
     },
     "0988f8ac7b154b4b97718f8c200efb56": {
      "model_module": "@jupyter-widgets/base",
      "model_module_version": "1.2.0",
      "model_name": "LayoutModel",
      "state": {
       "width": "1000px"
      }
     },
     "09ca8adc524046d084b6194cc5fdeaa4": {
      "model_module": "@jupyter-widgets/controls",
      "model_module_version": "1.5.0",
      "model_name": "LabelModel",
      "state": {
       "layout": "IPY_MODEL_48cfcc42442f4d61bccbeee328e072f5",
       "style": "IPY_MODEL_0ad9b0f5e2f54a51b349e17982b247d6",
       "value": "Check the statement below that best summarize Richard Bellman's own explanation of the term dynamic programming."
      }
     },
     "09cc36a7c1f64dc3b51093770874532c": {
      "model_module": "@jupyter-widgets/base",
      "model_module_version": "1.2.0",
      "model_name": "LayoutModel",
      "state": {
       "width": "30px"
      }
     },
     "0a31c6229a4348738832b921dff94e8d": {
      "model_module": "@jupyter-widgets/controls",
      "model_module_version": "1.5.0",
      "model_name": "LabelModel",
      "state": {
       "layout": "IPY_MODEL_647145d7603640198330cd236f36af69",
       "style": "IPY_MODEL_fb0cdf095e1c4f59a4b84aa632b42180",
       "value": "palindrome"
      }
     },
     "0a8f4a5fdff2498bb1e6ce26e19d33e4": {
      "model_module": "@jupyter-widgets/controls",
      "model_module_version": "1.5.0",
      "model_name": "LabelModel",
      "state": {
       "layout": "IPY_MODEL_d07ebdfa41f3466e986b05836b3842d3",
       "style": "IPY_MODEL_90695b4582a74cbdbeec96c592823bc9",
       "value": "bottom-up"
      }
     },
     "0ad9b0f5e2f54a51b349e17982b247d6": {
      "model_module": "@jupyter-widgets/controls",
      "model_module_version": "1.5.0",
      "model_name": "DescriptionStyleModel",
      "state": {
       "description_width": ""
      }
     },
     "0ade74d6a4c24948ab9901013940c14c": {
      "model_module": "@jupyter-widgets/controls",
      "model_module_version": "1.5.0",
      "model_name": "LabelModel",
      "state": {
       "layout": "IPY_MODEL_e9cb4eb96d5f46e3814658f33fd498cc",
       "style": "IPY_MODEL_69a469812e8c454d8da5a824ed54e474"
      }
     },
     "0b5cd10fbf574a6590f69994a07ff42e": {
      "model_module": "@jupyter-widgets/base",
      "model_module_version": "1.2.0",
      "model_name": "LayoutModel",
      "state": {}
     },
     "0b786824fb094293b6870da38b2935c0": {
      "model_module": "@jupyter-widgets/controls",
      "model_module_version": "1.5.0",
      "model_name": "HBoxModel",
      "state": {
       "children": [
        "IPY_MODEL_7d5ca164175c4d9ebaadf5be0af51a86"
       ],
       "layout": "IPY_MODEL_9a548fc00b1c4a0d8c69d5b39ca3faf3"
      }
     },
     "0bb12291bb0f4ba0b187721ac281f568": {
      "model_module": "@jupyter-widgets/controls",
      "model_module_version": "1.5.0",
      "model_name": "DescriptionStyleModel",
      "state": {
       "description_width": "initial"
      }
     },
     "0c764e47cca848aaa557551beec74f39": {
      "model_module": "@jupyter-widgets/controls",
      "model_module_version": "1.5.0",
      "model_name": "LabelModel",
      "state": {
       "layout": "IPY_MODEL_8fb0cc282fd845619ff890fac7f61327",
       "style": "IPY_MODEL_53460dca765f45d3bf089a02716fc1b7",
       "value": "recursive"
      }
     },
     "0ca147af264b441f8a2975d6fbbfdb77": {
      "model_module": "@jupyter-widgets/controls",
      "model_module_version": "1.5.0",
      "model_name": "DescriptionStyleModel",
      "state": {
       "description_width": ""
      }
     },
     "0cafddcc796d4089bc56050bf783ee05": {
      "model_module": "@jupyter-widgets/controls",
      "model_module_version": "1.5.0",
      "model_name": "HBoxModel",
      "state": {
       "children": [
        "IPY_MODEL_e33b7fea40eb4a808d6d3de58ad25a9d",
        "IPY_MODEL_a629e81282f449e9b05ec63ac50c45c5"
       ],
       "layout": "IPY_MODEL_ce55cda31469408594b63067698834e7"
      }
     },
     "0cd1b97f8eca43568c3fd544d9cbe1fc": {
      "model_module": "@jupyter-widgets/base",
      "model_module_version": "1.2.0",
      "model_name": "LayoutModel",
      "state": {}
     },
     "0e0adffee5ab45468612e185a0f3ced1": {
      "model_module": "@jupyter-widgets/controls",
      "model_module_version": "1.5.0",
      "model_name": "ButtonModel",
      "state": {
       "description": "Submit",
       "layout": "IPY_MODEL_da1ee21196a644eba202d7beacd417f5",
       "style": "IPY_MODEL_3f240e3553974d85b8d62fe91fa02b9e"
      }
     },
     "1083f8f58f1e4a03bb1948ae62f2f128": {
      "model_module": "@jupyter-widgets/base",
      "model_module_version": "1.2.0",
      "model_name": "LayoutModel",
      "state": {}
     },
     "108861f7a560426b9b7a6f67d16ec9e3": {
      "model_module": "@jupyter-widgets/base",
      "model_module_version": "1.2.0",
      "model_name": "LayoutModel",
      "state": {
       "width": "30px"
      }
     },
     "10ee80454a374dcdb25733b75e81a39e": {
      "model_module": "@jupyter-widgets/base",
      "model_module_version": "1.2.0",
      "model_name": "LayoutModel",
      "state": {
       "width": "30px"
      }
     },
     "10f56ca1cc8a42848213edc853209616": {
      "model_module": "@jupyter-widgets/controls",
      "model_module_version": "1.5.0",
      "model_name": "DescriptionStyleModel",
      "state": {
       "description_width": ""
      }
     },
     "11074a0ee83f4dfba8d4e7e9aaf36b29": {
      "model_module": "@jupyter-widgets/controls",
      "model_module_version": "1.5.0",
      "model_name": "HBoxModel",
      "state": {
       "children": [
        "IPY_MODEL_66fafc996e8642ef9aa2da1d325d7e9a",
        "IPY_MODEL_70c72587061542c1b5fc83ff592026c2"
       ],
       "layout": "IPY_MODEL_aad45bafee98485b96e3101077e6d95c"
      }
     },
     "112ba560c1324657acf0383a8729e013": {
      "model_module": "@jupyter-widgets/controls",
      "model_module_version": "1.5.0",
      "model_name": "LabelModel",
      "state": {
       "layout": "IPY_MODEL_0988f8ac7b154b4b97718f8c200efb56",
       "style": "IPY_MODEL_d1ef301c08d740bc8ab5333d89d30763"
      }
     },
     "116003fc9d634dfb88b76724a39130e6": {
      "model_module": "@jupyter-widgets/controls",
      "model_module_version": "1.5.0",
      "model_name": "CheckboxModel",
      "state": {
       "disabled": false,
       "layout": "IPY_MODEL_97b3be8fe69d402381d452b826380fb0",
       "style": "IPY_MODEL_96383d2e845d424aa5a2910ad15bf442",
       "value": false
      }
     },
     "122f87349b1743f68970bc5314abb13d": {
      "model_module": "@jupyter-widgets/controls",
      "model_module_version": "1.5.0",
      "model_name": "CheckboxModel",
      "state": {
       "disabled": false,
       "layout": "IPY_MODEL_1fa7148f017b49bb9c25c64a47ed1393",
       "style": "IPY_MODEL_848190698c02420ea09dfcf854326233",
       "value": false
      }
     },
     "129ca23304c849f08668ee8b6f32fdb9": {
      "model_module": "@jupyter-widgets/base",
      "model_module_version": "1.2.0",
      "model_name": "LayoutModel",
      "state": {}
     },
     "131822bd5f094f69806d745a03d0d302": {
      "model_module": "@jupyter-widgets/controls",
      "model_module_version": "1.5.0",
      "model_name": "LabelModel",
      "state": {
       "layout": "IPY_MODEL_48178b287011459391d04fc97d2ae46a",
       "style": "IPY_MODEL_664c01c3a02f4b56bd6d7d831400131a"
      }
     },
     "142eecaf82c64f6fb665bd0e259cba7f": {
      "model_module": "@jupyter-widgets/controls",
      "model_module_version": "1.5.0",
      "model_name": "LabelModel",
      "state": {
       "layout": "IPY_MODEL_b11368b4966749d5ac2f7dbe46e167dd",
       "style": "IPY_MODEL_a13bf134b5424cf7a3504487e85f1bc2",
       "value": "live on time emit no evil"
      }
     },
     "143a4ce16a2745bc9ae952a31a8cc55c": {
      "model_module": "@jupyter-widgets/controls",
      "model_module_version": "1.5.0",
      "model_name": "DescriptionStyleModel",
      "state": {
       "description_width": ""
      }
     },
     "14a0e1d6b4e94c31a55ae3c3e31bf8ae": {
      "model_module": "@jupyter-widgets/controls",
      "model_module_version": "1.5.0",
      "model_name": "DescriptionStyleModel",
      "state": {
       "description_width": "initial"
      }
     },
     "14af7f31290949cd8b1fb0211cc58d56": {
      "model_module": "@jupyter-widgets/base",
      "model_module_version": "1.2.0",
      "model_name": "LayoutModel",
      "state": {}
     },
     "150a21f444044259b73ccdbbe570bbf5": {
      "model_module": "@jupyter-widgets/controls",
      "model_module_version": "1.5.0",
      "model_name": "VBoxModel",
      "state": {
       "children": [
        "IPY_MODEL_e31a970b8db74eed82259c9839624bd1",
        "IPY_MODEL_7f6e57d4a6b240d2804d7f5684782c78",
        "IPY_MODEL_d48bb642acbe4537a92633b5af0b0574",
        "IPY_MODEL_0020021479f14d388f97f94d00df9a86",
        "IPY_MODEL_ca7f7ead060e40d3b533b7e08b7a2e92"
       ],
       "layout": "IPY_MODEL_d4dc53b5643643ccabb3902ea49f4c43"
      }
     },
     "153617188122480c9f6b4aa1c7f3c33d": {
      "model_module": "@jupyter-widgets/base",
      "model_module_version": "1.2.0",
      "model_name": "LayoutModel",
      "state": {}
     },
     "156adfa691cd430d9bf907c3bb53af25": {
      "model_module": "@jupyter-widgets/controls",
      "model_module_version": "1.5.0",
      "model_name": "DescriptionStyleModel",
      "state": {
       "description_width": ""
      }
     },
     "15960b48a6994c299fde34416289f67b": {
      "model_module": "@jupyter-widgets/controls",
      "model_module_version": "1.5.0",
      "model_name": "DescriptionStyleModel",
      "state": {
       "description_width": ""
      }
     },
     "15b7e493f0b9434a9103dd8163349800": {
      "model_module": "@jupyter-widgets/base",
      "model_module_version": "1.2.0",
      "model_name": "LayoutModel",
      "state": {}
     },
     "15cf6f88e4954c82a724a66ed3b6e067": {
      "model_module": "@jupyter-widgets/base",
      "model_module_version": "1.2.0",
      "model_name": "LayoutModel",
      "state": {
       "width": "1000px"
      }
     },
     "1632ea8651ea454b96f7f6e70d8968cb": {
      "model_module": "@jupyter-widgets/controls",
      "model_module_version": "1.5.0",
      "model_name": "DescriptionStyleModel",
      "state": {
       "description_width": "initial"
      }
     },
     "16b31c7fcdd740d18bb2f613331c1739": {
      "model_module": "@jupyter-widgets/controls",
      "model_module_version": "1.5.0",
      "model_name": "DescriptionStyleModel",
      "state": {
       "description_width": ""
      }
     },
     "17006edd30024013b64dab162f50594f": {
      "model_module": "@jupyter-widgets/base",
      "model_module_version": "1.2.0",
      "model_name": "LayoutModel",
      "state": {}
     },
     "1784b2771db84a9e846790d2bdf0d167": {
      "model_module": "@jupyter-widgets/base",
      "model_module_version": "1.2.0",
      "model_name": "LayoutModel",
      "state": {}
     },
     "182cf07c63ed4f44b9067f8537d8f1d5": {
      "model_module": "@jupyter-widgets/base",
      "model_module_version": "1.2.0",
      "model_name": "LayoutModel",
      "state": {
       "width": "1000px"
      }
     },
     "188964a2abc243628ce47db7d8e3a3c0": {
      "model_module": "@jupyter-widgets/controls",
      "model_module_version": "1.5.0",
      "model_name": "LabelModel",
      "state": {
       "layout": "IPY_MODEL_7c8e87c205aa428a98ec76e1781f075b",
       "style": "IPY_MODEL_b38a0c24c150418eb9be5b7cf009d5fe"
      }
     },
     "1890eb57714c4dd1901c834fe6955cf4": {
      "model_module": "@jupyter-widgets/controls",
      "model_module_version": "1.5.0",
      "model_name": "DescriptionStyleModel",
      "state": {
       "description_width": ""
      }
     },
     "18d562e311b7410b868419cdac115f04": {
      "model_module": "@jupyter-widgets/controls",
      "model_module_version": "1.5.0",
      "model_name": "ButtonModel",
      "state": {
       "description": "Show answer",
       "disabled": true,
       "layout": "IPY_MODEL_fb99963387a64b61863503cac350e4aa",
       "style": "IPY_MODEL_5307c310ea654f3db5be741598c2ca64"
      }
     },
     "18e3ec06bbd84ae4ba291454eda5c2ab": {
      "model_module": "@jupyter-widgets/base",
      "model_module_version": "1.2.0",
      "model_name": "LayoutModel",
      "state": {
       "grid_template_areas": "\"header header\"\n\"left-sidebar left-sidebar\"\n\"footer footer\"",
       "grid_template_columns": "1fr 1fr",
       "grid_template_rows": "1fr 3fr 1fr"
      }
     },
     "18f4ed366ce147d18b3d484f27adb4a2": {
      "model_module": "@jupyter-widgets/base",
      "model_module_version": "1.2.0",
      "model_name": "LayoutModel",
      "state": {}
     },
     "19533f608c5a4a26aabcead5b9b23398": {
      "model_module": "@jupyter-widgets/controls",
      "model_module_version": "1.5.0",
      "model_name": "LabelModel",
      "state": {
       "layout": "IPY_MODEL_182cf07c63ed4f44b9067f8537d8f1d5",
       "style": "IPY_MODEL_4c4392d319d04296b9cc2683151ecb0d",
       "value": "aviva"
      }
     },
     "1992680444bf481d98035b66bada87e0": {
      "model_module": "@jupyter-widgets/controls",
      "model_module_version": "1.5.0",
      "model_name": "HBoxModel",
      "state": {
       "children": [
        "IPY_MODEL_f497c184f42246dc87614c8752dd49c8",
        "IPY_MODEL_2ee4c1cdc46441e390bff2df4480997a"
       ],
       "layout": "IPY_MODEL_bd9ff3ec61f14ea9b88d68d87f98d9fd"
      }
     },
     "19d16495731544f0be366db0448b26d0": {
      "model_module": "@jupyter-widgets/controls",
      "model_module_version": "1.5.0",
      "model_name": "HBoxModel",
      "state": {
       "children": [
        "IPY_MODEL_53ad68c05c6f41afaad2221a34d27ad8",
        "IPY_MODEL_8ad1a3a83a6d47fc985048fdaab1c760"
       ],
       "layout": "IPY_MODEL_76cd91e7dc9a4008860815ea8b11831a"
      }
     },
     "1a4867df78f3475996b82faaeb7ae228": {
      "model_module": "@jupyter-widgets/controls",
      "model_module_version": "1.5.0",
      "model_name": "HBoxModel",
      "state": {
       "children": [
        "IPY_MODEL_188964a2abc243628ce47db7d8e3a3c0",
        "IPY_MODEL_6cdb15294ebf4f9ca60f9948b0260d1d"
       ],
       "layout": "IPY_MODEL_59da9fe73836404491c46acbe837baf5"
      }
     },
     "1aa7c39b8b154240b468900eae99eedf": {
      "model_module": "@jupyter-widgets/base",
      "model_module_version": "1.2.0",
      "model_name": "LayoutModel",
      "state": {
       "align_items": "stretch",
       "display": "flex",
       "flex_flow": "row wrap",
       "grid_area": "footer",
       "margin": "30px 0 0 0"
      }
     },
     "1ad7655d6e9b41b592bb33a4591d88c4": {
      "model_module": "@jupyter-widgets/controls",
      "model_module_version": "1.5.0",
      "model_name": "LabelModel",
      "state": {
       "layout": "IPY_MODEL_3c37243aaddf486aa1fda258d2f3bb50",
       "style": "IPY_MODEL_8590bcac84cd4f7e936fe1755bb2f560",
       "value": "02.02.2020"
      }
     },
     "1b5e7f360d924b44af132f57a07997e5": {
      "model_module": "@jupyter-widgets/base",
      "model_module_version": "1.2.0",
      "model_name": "LayoutModel",
      "state": {}
     },
     "1ba8f5a03e98445e8cca961da61cf3ca": {
      "model_module": "@jupyter-widgets/controls",
      "model_module_version": "1.5.0",
      "model_name": "DescriptionStyleModel",
      "state": {
       "description_width": "initial"
      }
     },
     "1bc4427ba6f24b9c83cc80a1d847935c": {
      "model_module": "@jupyter-widgets/controls",
      "model_module_version": "1.5.0",
      "model_name": "HBoxModel",
      "state": {
       "children": [
        "IPY_MODEL_dbea57e589b743b89b202123b1273b7b",
        "IPY_MODEL_b388201680a54109afe130b3e63f153b"
       ],
       "layout": "IPY_MODEL_18f4ed366ce147d18b3d484f27adb4a2"
      }
     },
     "1da6664ab0844af18ab4c8085848e102": {
      "model_module": "@jupyter-widgets/base",
      "model_module_version": "1.2.0",
      "model_name": "LayoutModel",
      "state": {}
     },
     "1e8c1bcd27c1470783979545c7065b95": {
      "model_module": "@jupyter-widgets/base",
      "model_module_version": "1.2.0",
      "model_name": "LayoutModel",
      "state": {}
     },
     "1e8ecf6f73a249ef976ac67f43810029": {
      "model_module": "@jupyter-widgets/controls",
      "model_module_version": "1.5.0",
      "model_name": "HBoxModel",
      "state": {
       "children": [
        "IPY_MODEL_1fa1dd4c217b4554931106c20934ecbb",
        "IPY_MODEL_131822bd5f094f69806d745a03d0d302"
       ],
       "layout": "IPY_MODEL_17006edd30024013b64dab162f50594f"
      }
     },
     "1f8dba75f6424ffbb7c928e669de9bda": {
      "model_module": "@jupyter-widgets/controls",
      "model_module_version": "1.5.0",
      "model_name": "DescriptionStyleModel",
      "state": {
       "description_width": "initial"
      }
     },
     "1fa1dd4c217b4554931106c20934ecbb": {
      "model_module": "@jupyter-widgets/controls",
      "model_module_version": "1.5.0",
      "model_name": "CheckboxModel",
      "state": {
       "disabled": false,
       "layout": "IPY_MODEL_b148ed5babf941fc909d1f6a7f11a56b",
       "style": "IPY_MODEL_c907dc10ce4640a8ab6fec283b0bf1fa",
       "value": false
      }
     },
     "1fa7148f017b49bb9c25c64a47ed1393": {
      "model_module": "@jupyter-widgets/base",
      "model_module_version": "1.2.0",
      "model_name": "LayoutModel",
      "state": {
       "width": "30px"
      }
     },
     "1ff03159e60b4553bbe79e2ea3131f6f": {
      "model_module": "@jupyter-widgets/controls",
      "model_module_version": "1.5.0",
      "model_name": "CheckboxModel",
      "state": {
       "disabled": false,
       "layout": "IPY_MODEL_44fa6c496ea342009da66282a0d17775",
       "style": "IPY_MODEL_96edf85a6fc3443eb4f5c03cb68820b9",
       "value": false
      }
     },
     "20394474620a4ccb9fcaa087d4d3fd13": {
      "model_module": "@jupyter-widgets/controls",
      "model_module_version": "1.5.0",
      "model_name": "CheckboxModel",
      "state": {
       "disabled": false,
       "layout": "IPY_MODEL_52dd5b49af974875a83d0080744748f2",
       "style": "IPY_MODEL_d877a0c22f924d5aa52690034e007e41",
       "value": false
      }
     },
     "20399ca3fca04a9e9c9e933329bf56d8": {
      "model_module": "@jupyter-widgets/base",
      "model_module_version": "1.2.0",
      "model_name": "LayoutModel",
      "state": {}
     },
     "208b0de7f5d04272b596a81f64882ea4": {
      "model_module": "@jupyter-widgets/controls",
      "model_module_version": "1.5.0",
      "model_name": "DescriptionStyleModel",
      "state": {
       "description_width": ""
      }
     },
     "20e62761979345b99dfa3e76eeba51c0": {
      "model_module": "@jupyter-widgets/controls",
      "model_module_version": "1.5.0",
      "model_name": "DescriptionStyleModel",
      "state": {
       "description_width": ""
      }
     },
     "2107b88871754bb09007a5b0c1eb4427": {
      "model_module": "@jupyter-widgets/controls",
      "model_module_version": "1.5.0",
      "model_name": "HBoxModel",
      "state": {
       "children": [
        "IPY_MODEL_6e1fed656111459bbdce7fa75c224cfe",
        "IPY_MODEL_01c9203b83c848c3bf9a94fdc115cc9b"
       ],
       "layout": "IPY_MODEL_d2e4251290894e73b7bc220a7d95f995"
      }
     },
     "22190b90558c4d36aeac38f0889a0860": {
      "model_module": "@jupyter-widgets/controls",
      "model_module_version": "1.5.0",
      "model_name": "ButtonModel",
      "state": {
       "description": "Show answer",
       "disabled": true,
       "layout": "IPY_MODEL_ed1bffa2735b4f1e94d73f761cc4d98a",
       "style": "IPY_MODEL_45f2128211964e19a8dbe455b52e51a2"
      }
     },
     "22207840e59e4b0b89546447637ff18b": {
      "model_module": "@jupyter-widgets/controls",
      "model_module_version": "1.5.0",
      "model_name": "DescriptionStyleModel",
      "state": {
       "description_width": ""
      }
     },
     "2281808b802f4057a3492c600af2e9fb": {
      "model_module": "@jupyter-widgets/controls",
      "model_module_version": "1.5.0",
      "model_name": "LabelModel",
      "state": {
       "layout": "IPY_MODEL_35941645a2e7499dbedea1bd8ace7fc5",
       "style": "IPY_MODEL_3cec7814aa164a1992f3c887afbc1185"
      }
     },
     "2359539fb4124f52aa054cca3d0b87a1": {
      "model_module": "@jupyter-widgets/base",
      "model_module_version": "1.2.0",
      "model_name": "LayoutModel",
      "state": {}
     },
     "23c7080779aa4cb1ae609988e1020033": {
      "model_module": "@jupyter-widgets/base",
      "model_module_version": "1.2.0",
      "model_name": "LayoutModel",
      "state": {
       "height": "50%",
       "margin": "0 0 0 30px",
       "width": "50%"
      }
     },
     "23cc5d80a6da440dba9c014d52b76815": {
      "model_module": "@jupyter-widgets/controls",
      "model_module_version": "1.5.0",
      "model_name": "CheckboxModel",
      "state": {
       "disabled": false,
       "layout": "IPY_MODEL_f8cafde85c1c442ab3b3a1d19d5a72ea",
       "style": "IPY_MODEL_ddaf25c65c0e4635a47ed30f845fd0f7",
       "value": false
      }
     },
     "240a48e3efab4565a3348a4c28b9e78b": {
      "model_module": "@jupyter-widgets/base",
      "model_module_version": "1.2.0",
      "model_name": "LayoutModel",
      "state": {
       "align_items": "stretch",
       "display": "flex",
       "flex_flow": "row wrap",
       "grid_area": "header",
       "margin": "0 0 30px 0",
       "width": "100%"
      }
     },
     "244bd20f687143f8baf3194e75ad416c": {
      "model_module": "@jupyter-widgets/base",
      "model_module_version": "1.2.0",
      "model_name": "LayoutModel",
      "state": {}
     },
     "24cb85b9ef2d4d2bae5644d3ad6a3d69": {
      "model_module": "@jupyter-widgets/base",
      "model_module_version": "1.2.0",
      "model_name": "LayoutModel",
      "state": {}
     },
     "272b50850d804d40bb7e3f3a836744a4": {
      "model_module": "@jupyter-widgets/base",
      "model_module_version": "1.2.0",
      "model_name": "LayoutModel",
      "state": {
       "height": "50%",
       "margin": "0 0 0 30px",
       "width": "50%"
      }
     },
     "27bc353882714a04a8751d7258ccde95": {
      "model_module": "@jupyter-widgets/controls",
      "model_module_version": "1.5.0",
      "model_name": "DescriptionStyleModel",
      "state": {
       "description_width": ""
      }
     },
     "27d4467d2f234d0e93b8690f70187cb8": {
      "model_module": "@jupyter-widgets/controls",
      "model_module_version": "1.5.0",
      "model_name": "LabelModel",
      "state": {
       "layout": "IPY_MODEL_dee330fbac8a48a2ac076754118482d2",
       "style": "IPY_MODEL_85de388dbc0f4f97aef13f81e29429a2",
       "value": "top-down"
      }
     },
     "293af55745ad4bf1be142c0e636f445c": {
      "model_module": "@jupyter-widgets/controls",
      "model_module_version": "1.5.0",
      "model_name": "HBoxModel",
      "state": {
       "children": [
        "IPY_MODEL_c78fa25de3d94790956fbdf70e2b08ad"
       ],
       "layout": "IPY_MODEL_240a48e3efab4565a3348a4c28b9e78b"
      }
     },
     "2948c11190014a9ca1a33103f734a20e": {
      "model_module": "@jupyter-widgets/controls",
      "model_module_version": "1.5.0",
      "model_name": "DescriptionStyleModel",
      "state": {
       "description_width": ""
      }
     },
     "2961b3f6ba9f40ea937c190918d2fcff": {
      "model_module": "@jupyter-widgets/controls",
      "model_module_version": "1.5.0",
      "model_name": "HBoxModel",
      "state": {
       "children": [
        "IPY_MODEL_cc6cd3b3d2754137947db34b5626d700",
        "IPY_MODEL_56a8d8042c4747f6b2b3446a05492cfc"
       ],
       "layout": "IPY_MODEL_65911ea3cb42430cba21ea2f298ea798"
      }
     },
     "29952a30eaa04b7e90f6df0aead6660b": {
      "model_module": "@jupyter-widgets/controls",
      "model_module_version": "1.5.0",
      "model_name": "DescriptionStyleModel",
      "state": {
       "description_width": ""
      }
     },
     "29b0304c887c424f9251a7f3ad614216": {
      "model_module": "@jupyter-widgets/controls",
      "model_module_version": "1.5.0",
      "model_name": "LabelModel",
      "state": {
       "layout": "IPY_MODEL_91a6709cf3ff417f957af18848701144",
       "style": "IPY_MODEL_67db3e6435f44d0885cbac5bf6ecd551"
      }
     },
     "2a0bd13fadb14e3da288da2a1b944614": {
      "model_module": "@jupyter-widgets/controls",
      "model_module_version": "1.5.0",
      "model_name": "HBoxModel",
      "state": {
       "children": [
        "IPY_MODEL_fb3662eab575415090bb390189bdfe7f",
        "IPY_MODEL_f7e9c2607a124734bec2eb27ac613c51"
       ],
       "layout": "IPY_MODEL_afcc773d7c25409a921f6d4a5a7abe00"
      }
     },
     "2a2536b3798f4a1c9851c101f33fec83": {
      "model_module": "@jupyter-widgets/controls",
      "model_module_version": "1.5.0",
      "model_name": "HBoxModel",
      "state": {
       "children": [
        "IPY_MODEL_bedd4ec010114a8d9acd03104221d756",
        "IPY_MODEL_6db0092bb3d840429e5b08e7aff55dfa"
       ],
       "layout": "IPY_MODEL_5af2f22613844aec94256e5cf65b7fbc"
      }
     },
     "2a6a396af7b44f449fc45e7d974f3ccd": {
      "model_module": "@jupyter-widgets/controls",
      "model_module_version": "1.5.0",
      "model_name": "HBoxModel",
      "state": {
       "children": [
        "IPY_MODEL_dfae0af13dee4ca7b6aad49b8be834e6",
        "IPY_MODEL_fbf44ccb30a74e42a4f1220c2e8af8d6"
       ],
       "layout": "IPY_MODEL_9075ccd893f54b0cb777a303eb82ab3a"
      }
     },
     "2ab80dbba7d84e0d998d48b4c143d939": {
      "model_module": "@jupyter-widgets/base",
      "model_module_version": "1.2.0",
      "model_name": "LayoutModel",
      "state": {}
     },
     "2b3eb727b6be44bcb624371a143a5f86": {
      "model_module": "@jupyter-widgets/base",
      "model_module_version": "1.2.0",
      "model_name": "LayoutModel",
      "state": {}
     },
     "2c77c7ee20b84d6f8ef0ebd63b52aa84": {
      "model_module": "@jupyter-widgets/controls",
      "model_module_version": "1.5.0",
      "model_name": "VBoxModel",
      "state": {
       "children": [
        "IPY_MODEL_f02ab4cd89414505bd04d9ec603e3192",
        "IPY_MODEL_4ea23e867b824a6ab1eb3a3dc49e722e",
        "IPY_MODEL_cdcd282c1cf64a9aaa9e50c496c67ac7",
        "IPY_MODEL_6d9b58c94a3c45a7a636e648088576ea",
        "IPY_MODEL_42505f7a54894511b39912c776a6aa0b"
       ],
       "layout": "IPY_MODEL_930fbbc630a045f4b3aee38e69b69d4a"
      }
     },
     "2c8dfff7b0f749ec97f7ec49b4e99b88": {
      "model_module": "@jupyter-widgets/controls",
      "model_module_version": "1.5.0",
      "model_name": "DescriptionStyleModel",
      "state": {
       "description_width": ""
      }
     },
     "2cbd108b44f64ba29315105556456d12": {
      "model_module": "@jupyter-widgets/controls",
      "model_module_version": "1.5.0",
      "model_name": "GridBoxModel",
      "state": {
       "box_style": "info",
       "children": [
        "IPY_MODEL_b58368996790463ebfcc59abcc168085",
        "IPY_MODEL_3a8d387a41d34761bcdeb0f900ab004b",
        "IPY_MODEL_75e2813c1ca2409a97386e4e9171b28e"
       ],
       "layout": "IPY_MODEL_18e3ec06bbd84ae4ba291454eda5c2ab"
      }
     },
     "2cdd93e88cbc415198af04767fd33edf": {
      "model_module": "@jupyter-widgets/controls",
      "model_module_version": "1.5.0",
      "model_name": "LabelModel",
      "state": {
       "layout": "IPY_MODEL_c1ff3e326e2249069e0f8bd40928aeda",
       "style": "IPY_MODEL_2948c11190014a9ca1a33103f734a20e"
      }
     },
     "2cfebfc0dbd044078d91db68a9e3ec4c": {
      "model_module": "@jupyter-widgets/controls",
      "model_module_version": "1.5.0",
      "model_name": "CheckboxModel",
      "state": {
       "disabled": false,
       "layout": "IPY_MODEL_e4b66923f6464df6b86f70daa31fb069",
       "style": "IPY_MODEL_5246fbbfb1884b76b88d4fe8a5819434",
       "value": false
      }
     },
     "2d03d489900540958854a1c3f0f7fd0b": {
      "model_module": "@jupyter-widgets/controls",
      "model_module_version": "1.5.0",
      "model_name": "DescriptionStyleModel",
      "state": {
       "description_width": ""
      }
     },
     "2dd520c5c8c2428ea19fb11989441227": {
      "model_module": "@jupyter-widgets/controls",
      "model_module_version": "1.5.0",
      "model_name": "HBoxModel",
      "state": {
       "children": [
        "IPY_MODEL_d1b3eafb61e647d99d218624c1378bc5",
        "IPY_MODEL_516ab1da55b1406ba9144f424e722576"
       ],
       "layout": "IPY_MODEL_578949f098554988a543bfbcae9a647d"
      }
     },
     "2de071b66af040aa97cac25b5c00899d": {
      "model_module": "@jupyter-widgets/base",
      "model_module_version": "1.2.0",
      "model_name": "LayoutModel",
      "state": {}
     },
     "2e04c814e51f4f31b11befdcd0b2d4d9": {
      "model_module": "@jupyter-widgets/controls",
      "model_module_version": "1.5.0",
      "model_name": "LabelModel",
      "state": {
       "layout": "IPY_MODEL_c663e20ed1784b5da318cd41c8db7db3",
       "style": "IPY_MODEL_208b0de7f5d04272b596a81f64882ea4"
      }
     },
     "2e524374afd046949375c1f4673f9f92": {
      "model_module": "@jupyter-widgets/controls",
      "model_module_version": "1.5.0",
      "model_name": "DescriptionStyleModel",
      "state": {
       "description_width": ""
      }
     },
     "2ee4c1cdc46441e390bff2df4480997a": {
      "model_module": "@jupyter-widgets/controls",
      "model_module_version": "1.5.0",
      "model_name": "LabelModel",
      "state": {
       "layout": "IPY_MODEL_40f8ceb4e9c24da0881109d5952a41b9",
       "style": "IPY_MODEL_cbb92f05af01496e9cf62c80f762804a",
       "value": "In dynamic programming, the outcomes of each operation in a process are independant."
      }
     },
     "2f37ced32b0141f88a9312c6f5a32d33": {
      "model_module": "@jupyter-widgets/base",
      "model_module_version": "1.2.0",
      "model_name": "LayoutModel",
      "state": {
       "height": "50%",
       "margin": "0 0 0 30px",
       "width": "50%"
      }
     },
     "2fe39ed93ef14b019bc1358e02d74638": {
      "model_module": "@jupyter-widgets/controls",
      "model_module_version": "1.5.0",
      "model_name": "LabelModel",
      "state": {
       "layout": "IPY_MODEL_244bd20f687143f8baf3194e75ad416c",
       "style": "IPY_MODEL_af51829b9b584714bacafb7c799690b8"
      }
     },
     "3016e59bae6f4f76ab75337c916a2a55": {
      "model_module": "@jupyter-widgets/base",
      "model_module_version": "1.2.0",
      "model_name": "LayoutModel",
      "state": {}
     },
     "3173112287ce42f5abc39efd06058093": {
      "model_module": "@jupyter-widgets/controls",
      "model_module_version": "1.5.0",
      "model_name": "HBoxModel",
      "state": {
       "children": [
        "IPY_MODEL_95f0d8a54dac420390a242f4491a839f",
        "IPY_MODEL_a8f69ce883fe4ad9a6c6743160265873",
        "IPY_MODEL_18d562e311b7410b868419cdac115f04"
       ],
       "layout": "IPY_MODEL_5e224e06efa14526ba19b4947dbf3faf"
      }
     },
     "31c9229c8b43433aa6eb7651d6b687ef": {
      "model_module": "@jupyter-widgets/controls",
      "model_module_version": "1.5.0",
      "model_name": "DescriptionStyleModel",
      "state": {
       "description_width": ""
      }
     },
     "32a6c51cfbea493d9a34801df7067411": {
      "model_module": "@jupyter-widgets/controls",
      "model_module_version": "1.5.0",
      "model_name": "LabelModel",
      "state": {
       "layout": "IPY_MODEL_3016e59bae6f4f76ab75337c916a2a55",
       "style": "IPY_MODEL_bf26e2148b45489cb440d68c89a1de8c"
      }
     },
     "330afeb969444881bd02c203c31effe8": {
      "model_module": "@jupyter-widgets/controls",
      "model_module_version": "1.5.0",
      "model_name": "DescriptionStyleModel",
      "state": {
       "description_width": ""
      }
     },
     "33510442467f4d76a05e66015b22dc74": {
      "model_module": "@jupyter-widgets/controls",
      "model_module_version": "1.5.0",
      "model_name": "CheckboxModel",
      "state": {
       "disabled": false,
       "layout": "IPY_MODEL_faa85d885d1349c59dd2aa0564826f6e",
       "style": "IPY_MODEL_ed0103e4c6844deeb030cf791415fa9d",
       "value": false
      }
     },
     "339a74e7e5944ee3ae269a857e65cb45": {
      "model_module": "@jupyter-widgets/base",
      "model_module_version": "1.2.0",
      "model_name": "LayoutModel",
      "state": {}
     },
     "33bdf4f935a440e69fc935682e11b2c1": {
      "model_module": "@jupyter-widgets/base",
      "model_module_version": "1.2.0",
      "model_name": "LayoutModel",
      "state": {
       "width": "1000px"
      }
     },
     "33c392e38eb24a419a6adf2bd5167e51": {
      "model_module": "@jupyter-widgets/base",
      "model_module_version": "1.2.0",
      "model_name": "LayoutModel",
      "state": {}
     },
     "34528e586e5046ef92afe0fa88c8a481": {
      "model_module": "@jupyter-widgets/base",
      "model_module_version": "1.2.0",
      "model_name": "LayoutModel",
      "state": {
       "width": "30px"
      }
     },
     "34873e46357746708cf947265b4ba1ba": {
      "model_module": "@jupyter-widgets/base",
      "model_module_version": "1.2.0",
      "model_name": "LayoutModel",
      "state": {
       "width": "30px"
      }
     },
     "34b1619b43db4c56b75d6e7421f2fc27": {
      "model_module": "@jupyter-widgets/controls",
      "model_module_version": "1.5.0",
      "model_name": "DescriptionStyleModel",
      "state": {
       "description_width": "initial"
      }
     },
     "34ca1c146a474ba5a5bc6153835bf334": {
      "model_module": "@jupyter-widgets/base",
      "model_module_version": "1.2.0",
      "model_name": "LayoutModel",
      "state": {}
     },
     "35772a951cc34c7fa159b1fe22f7a3fc": {
      "model_module": "@jupyter-widgets/base",
      "model_module_version": "1.2.0",
      "model_name": "LayoutModel",
      "state": {
       "align_items": "stretch",
       "display": "flex",
       "flex_flow": "row wrap",
       "grid_area": "header",
       "margin": "0 0 30px 0",
       "width": "100%"
      }
     },
     "358d9cc9bf5e4ac3a0515e88909eac97": {
      "model_module": "@jupyter-widgets/controls",
      "model_module_version": "1.5.0",
      "model_name": "CheckboxModel",
      "state": {
       "disabled": false,
       "layout": "IPY_MODEL_a5ae799fdf4b431da2db4f8a5f2e94df",
       "style": "IPY_MODEL_1ba8f5a03e98445e8cca961da61cf3ca",
       "value": false
      }
     },
     "35941645a2e7499dbedea1bd8ace7fc5": {
      "model_module": "@jupyter-widgets/base",
      "model_module_version": "1.2.0",
      "model_name": "LayoutModel",
      "state": {}
     },
     "36036e76d3be42c8b4e20f7d7e14debd": {
      "model_module": "@jupyter-widgets/base",
      "model_module_version": "1.2.0",
      "model_name": "LayoutModel",
      "state": {}
     },
     "372c380eab8d4b9cb2cfc1e9bda4a886": {
      "model_module": "@jupyter-widgets/base",
      "model_module_version": "1.2.0",
      "model_name": "LayoutModel",
      "state": {}
     },
     "37d8793c8b88420f8b7896fadb723a4b": {
      "model_module": "@jupyter-widgets/base",
      "model_module_version": "1.2.0",
      "model_name": "LayoutModel",
      "state": {
       "width": "30px"
      }
     },
     "37ec4041c37448dda21898de534ff5ca": {
      "model_module": "@jupyter-widgets/controls",
      "model_module_version": "1.5.0",
      "model_name": "HBoxModel",
      "state": {
       "children": [
        "IPY_MODEL_66f28ec0793f460b892992ad5fee39a5",
        "IPY_MODEL_683d60ec30bc4aeeb34402c7a12e3630"
       ],
       "layout": "IPY_MODEL_f469d57505c34ee687d1bcffa4ae2fdf"
      }
     },
     "3838b152337a4559a787871729b15b22": {
      "model_module": "@jupyter-widgets/base",
      "model_module_version": "1.2.0",
      "model_name": "LayoutModel",
      "state": {}
     },
     "3881f3fc164a46aab8d75ed53b0cee4c": {
      "model_module": "@jupyter-widgets/base",
      "model_module_version": "1.2.0",
      "model_name": "LayoutModel",
      "state": {
       "width": "30px"
      }
     },
     "391b174dfe154262a25b2d1f79763291": {
      "model_module": "@jupyter-widgets/controls",
      "model_module_version": "1.5.0",
      "model_name": "CheckboxModel",
      "state": {
       "disabled": false,
       "layout": "IPY_MODEL_10ee80454a374dcdb25733b75e81a39e",
       "style": "IPY_MODEL_e0d7d98a8faa42288d9f3c4a750282c0",
       "value": false
      }
     },
     "3a469b8aaeed44f3805a07391175d0a0": {
      "model_module": "@jupyter-widgets/controls",
      "model_module_version": "1.5.0",
      "model_name": "DescriptionStyleModel",
      "state": {
       "description_width": ""
      }
     },
     "3a5ec2e16e3e41f2874261f77364f1ee": {
      "model_module": "@jupyter-widgets/controls",
      "model_module_version": "1.5.0",
      "model_name": "DescriptionStyleModel",
      "state": {
       "description_width": "initial"
      }
     },
     "3a8d387a41d34761bcdeb0f900ab004b": {
      "model_module": "@jupyter-widgets/controls",
      "model_module_version": "1.5.0",
      "model_name": "HBoxModel",
      "state": {
       "children": [
        "IPY_MODEL_74f79fb21f7d4d5eadf04626a9041533",
        "IPY_MODEL_dea8e23e95eb42f39ee913aabd15f135",
        "IPY_MODEL_81a1e7325a3b4d62be47785e21c005f6"
       ],
       "layout": "IPY_MODEL_9545bad88a8c40fa8ff89c7072b6e04e"
      }
     },
     "3add24b79cff46a5b72bc27291772380": {
      "model_module": "@jupyter-widgets/base",
      "model_module_version": "1.2.0",
      "model_name": "LayoutModel",
      "state": {}
     },
     "3c37243aaddf486aa1fda258d2f3bb50": {
      "model_module": "@jupyter-widgets/base",
      "model_module_version": "1.2.0",
      "model_name": "LayoutModel",
      "state": {
       "width": "1000px"
      }
     },
     "3c4bda296d5d4b5aa0e1ca835d3de310": {
      "model_module": "@jupyter-widgets/base",
      "model_module_version": "1.2.0",
      "model_name": "LayoutModel",
      "state": {
       "width": "1000px"
      }
     },
     "3cd45baf81174b48a1a41dd0cd430c48": {
      "model_module": "@jupyter-widgets/controls",
      "model_module_version": "1.5.0",
      "model_name": "DescriptionStyleModel",
      "state": {
       "description_width": ""
      }
     },
     "3cec7814aa164a1992f3c887afbc1185": {
      "model_module": "@jupyter-widgets/controls",
      "model_module_version": "1.5.0",
      "model_name": "DescriptionStyleModel",
      "state": {
       "description_width": ""
      }
     },
     "3d1cc17a9c4c464886c81df42cc61e76": {
      "model_module": "@jupyter-widgets/base",
      "model_module_version": "1.2.0",
      "model_name": "LayoutModel",
      "state": {}
     },
     "3d87640faa8b43ac9cf964bbd209d0a4": {
      "model_module": "@jupyter-widgets/controls",
      "model_module_version": "1.5.0",
      "model_name": "DescriptionStyleModel",
      "state": {
       "description_width": ""
      }
     },
     "3d9219b3f63c46429d64fef7b75a00e9": {
      "model_module": "@jupyter-widgets/controls",
      "model_module_version": "1.5.0",
      "model_name": "DescriptionStyleModel",
      "state": {
       "description_width": ""
      }
     },
     "3dfcdeee77b64e94923cde4a804b70fd": {
      "model_module": "@jupyter-widgets/controls",
      "model_module_version": "1.5.0",
      "model_name": "HBoxModel",
      "state": {
       "children": [
        "IPY_MODEL_e9aa95a203d446e8b906181cf8747b5a",
        "IPY_MODEL_afe100e857ad4a4688b921007d8bedb5",
        "IPY_MODEL_be7e2a15ced74adbb2797b2c582632d9"
       ],
       "layout": "IPY_MODEL_fd9f228b117b4c19946c779ca8c54c0c"
      }
     },
     "3e7a902f8f804eac940948683998db2a": {
      "model_module": "@jupyter-widgets/controls",
      "model_module_version": "1.5.0",
      "model_name": "DescriptionStyleModel",
      "state": {
       "description_width": "initial"
      }
     },
     "3ec1b5309a9d4f369d7c76c9db263294": {
      "model_module": "@jupyter-widgets/controls",
      "model_module_version": "1.5.0",
      "model_name": "HBoxModel",
      "state": {
       "children": [
        "IPY_MODEL_4e9abd197b444d15bc2b8bac1d16310d",
        "IPY_MODEL_755c981a4de145cfa283e215f5c0e962"
       ],
       "layout": "IPY_MODEL_a555c54960bf41b9bbca91667c791486"
      }
     },
     "3ec24a55972f41a9adbf3088f0ac5032": {
      "model_module": "@jupyter-widgets/base",
      "model_module_version": "1.2.0",
      "model_name": "LayoutModel",
      "state": {}
     },
     "3f0a517307a94a3ab13e2e84b4d1b0c1": {
      "model_module": "@jupyter-widgets/controls",
      "model_module_version": "1.5.0",
      "model_name": "CheckboxModel",
      "state": {
       "disabled": false,
       "layout": "IPY_MODEL_fb828ba8644e44edb93c021c433595e2",
       "style": "IPY_MODEL_14a0e1d6b4e94c31a55ae3c3e31bf8ae",
       "value": false
      }
     },
     "3f1b626bb8d8428e8fae94eab9d5113d": {
      "model_module": "@jupyter-widgets/base",
      "model_module_version": "1.2.0",
      "model_name": "LayoutModel",
      "state": {}
     },
     "3f240e3553974d85b8d62fe91fa02b9e": {
      "model_module": "@jupyter-widgets/controls",
      "model_module_version": "1.5.0",
      "model_name": "ButtonStyleModel",
      "state": {
       "button_color": "lightblue"
      }
     },
     "3f49993f32ef4da2b54b2c191b061190": {
      "model_module": "@jupyter-widgets/base",
      "model_module_version": "1.2.0",
      "model_name": "LayoutModel",
      "state": {
       "align_items": "stretch",
       "display": "flex",
       "flex_flow": "row wrap",
       "grid_area": "footer",
       "margin": "30px 0 0 0"
      }
     },
     "3fadd9fb5d6e424699003e2c971b0fa4": {
      "model_module": "@jupyter-widgets/controls",
      "model_module_version": "1.5.0",
      "model_name": "ButtonModel",
      "state": {
       "description": "Show answer",
       "disabled": true,
       "layout": "IPY_MODEL_5afb6b35f3be47919321b1ce30594380",
       "style": "IPY_MODEL_a1e87ef33ba34bc38a48b4347504def6"
      }
     },
     "3fc2983ea79242b680d4783dd24dc61f": {
      "model_module": "@jupyter-widgets/base",
      "model_module_version": "1.2.0",
      "model_name": "LayoutModel",
      "state": {
       "width": "30px"
      }
     },
     "4038ac1f14e749a99a4abe25e4b138d9": {
      "model_module": "@jupyter-widgets/base",
      "model_module_version": "1.2.0",
      "model_name": "LayoutModel",
      "state": {
       "width": "30px"
      }
     },
     "40b39f31a5234f7b942daab1cee1d2b4": {
      "model_module": "@jupyter-widgets/base",
      "model_module_version": "1.2.0",
      "model_name": "LayoutModel",
      "state": {
       "grid_template_areas": "\"header header\"\n\"left-sidebar left-sidebar\"\n\"footer footer\"",
       "grid_template_columns": "1fr 1fr",
       "grid_template_rows": "1fr 3fr 1fr"
      }
     },
     "40f8ceb4e9c24da0881109d5952a41b9": {
      "model_module": "@jupyter-widgets/base",
      "model_module_version": "1.2.0",
      "model_name": "LayoutModel",
      "state": {
       "width": "1000px"
      }
     },
     "414752cff7f342f0a84d3034f47baa72": {
      "model_module": "@jupyter-widgets/controls",
      "model_module_version": "1.5.0",
      "model_name": "LabelModel",
      "state": {
       "layout": "IPY_MODEL_a0cab9d7804b4b6f85d34bcc04c00715",
       "style": "IPY_MODEL_57806cc0ed954d7ca82d95c80df37deb"
      }
     },
     "416190d4724f480e808a8dd8c2d933b5": {
      "model_module": "@jupyter-widgets/controls",
      "model_module_version": "1.5.0",
      "model_name": "GridBoxModel",
      "state": {
       "box_style": "info",
       "children": [
        "IPY_MODEL_0b786824fb094293b6870da38b2935c0",
        "IPY_MODEL_a841ea65afbd40498d960f11a7331827",
        "IPY_MODEL_bc4a6433ecd44089aab910e650f4276a"
       ],
       "layout": "IPY_MODEL_40b39f31a5234f7b942daab1cee1d2b4"
      }
     },
     "4161932e30b9465695779904e558230e": {
      "model_module": "@jupyter-widgets/controls",
      "model_module_version": "1.5.0",
      "model_name": "LabelModel",
      "state": {
       "layout": "IPY_MODEL_f78304f630c341c0a6f370d43f34a53d",
       "style": "IPY_MODEL_43e4f22bde084f488d42525d16c91fc8"
      }
     },
     "41d9323c2c384e1ab45de2e9a0ea4fb8": {
      "model_module": "@jupyter-widgets/controls",
      "model_module_version": "1.5.0",
      "model_name": "DescriptionStyleModel",
      "state": {
       "description_width": ""
      }
     },
     "42066e3397034db09f42087f3c4d3428": {
      "model_module": "@jupyter-widgets/controls",
      "model_module_version": "1.5.0",
      "model_name": "LabelModel",
      "state": {
       "layout": "IPY_MODEL_272b50850d804d40bb7e3f3a836744a4",
       "style": "IPY_MODEL_22207840e59e4b0b89546447637ff18b"
      }
     },
     "42505f7a54894511b39912c776a6aa0b": {
      "model_module": "@jupyter-widgets/controls",
      "model_module_version": "1.5.0",
      "model_name": "HBoxModel",
      "state": {
       "children": [
        "IPY_MODEL_fb7a0d0f92664034acd46c8aa57e9f44",
        "IPY_MODEL_37ec4041c37448dda21898de534ff5ca"
       ],
       "layout": "IPY_MODEL_83555a08030a47e8b732c65f10a7469a"
      }
     },
     "42bc3f0c5c524ffca6f40d825916af91": {
      "model_module": "@jupyter-widgets/base",
      "model_module_version": "1.2.0",
      "model_name": "LayoutModel",
      "state": {}
     },
     "431671e80bfa48e39ad409ae28222056": {
      "model_module": "@jupyter-widgets/base",
      "model_module_version": "1.2.0",
      "model_name": "LayoutModel",
      "state": {
       "grid_area": "left-sidebar"
      }
     },
     "433a16623c7f44b0b96dabfc8616fcde": {
      "model_module": "@jupyter-widgets/controls",
      "model_module_version": "1.5.0",
      "model_name": "GridBoxModel",
      "state": {
       "box_style": "info",
       "children": [
        "IPY_MODEL_6d6da116503544f184943a0a175e24e1",
        "IPY_MODEL_ce624e38efb2449b95939a3c82325a9a",
        "IPY_MODEL_81bf3651cde643439b65955ba7d444d4"
       ],
       "layout": "IPY_MODEL_f8ca91ce9949467d87de246f87964863"
      }
     },
     "437a547d05b745ea88bad4c6f1f6240d": {
      "model_module": "@jupyter-widgets/controls",
      "model_module_version": "1.5.0",
      "model_name": "LabelModel",
      "state": {
       "layout": "IPY_MODEL_e980e6864fec4ba7b7cf2474eb577233",
       "style": "IPY_MODEL_8f7c1115f6ca416b8503597c12d5bad8",
       "value": "aviva"
      }
     },
     "43e4f22bde084f488d42525d16c91fc8": {
      "model_module": "@jupyter-widgets/controls",
      "model_module_version": "1.5.0",
      "model_name": "DescriptionStyleModel",
      "state": {
       "description_width": ""
      }
     },
     "43f30733e7a94eca8260da55fcc72179": {
      "model_module": "@jupyter-widgets/base",
      "model_module_version": "1.2.0",
      "model_name": "LayoutModel",
      "state": {
       "grid_area": "left-sidebar"
      }
     },
     "447788f9bf684d23b3a78ac5fa7fb067": {
      "model_module": "@jupyter-widgets/controls",
      "model_module_version": "1.5.0",
      "model_name": "DescriptionStyleModel",
      "state": {
       "description_width": ""
      }
     },
     "44fa6c496ea342009da66282a0d17775": {
      "model_module": "@jupyter-widgets/base",
      "model_module_version": "1.2.0",
      "model_name": "LayoutModel",
      "state": {
       "width": "30px"
      }
     },
     "45337e4fb1114e3aa0d5013bfbe7e33a": {
      "model_module": "@jupyter-widgets/controls",
      "model_module_version": "1.5.0",
      "model_name": "HBoxModel",
      "state": {
       "children": [
        "IPY_MODEL_9877fdc3ee744815aacdf6cf1a7b7c4f"
       ],
       "layout": "IPY_MODEL_46a710d1ad7646ddad3733b1688a2308"
      }
     },
     "4597e44af56949e0a0dd84a014ddacde": {
      "model_module": "@jupyter-widgets/base",
      "model_module_version": "1.2.0",
      "model_name": "LayoutModel",
      "state": {
       "align_items": "stretch",
       "display": "flex",
       "flex_flow": "row wrap",
       "grid_area": "footer",
       "margin": "30px 0 0 0"
      }
     },
     "45f2128211964e19a8dbe455b52e51a2": {
      "model_module": "@jupyter-widgets/controls",
      "model_module_version": "1.5.0",
      "model_name": "ButtonStyleModel",
      "state": {
       "button_color": "lightblue"
      }
     },
     "46060cafa02b4a60ab4c301b04a70a9a": {
      "model_module": "@jupyter-widgets/base",
      "model_module_version": "1.2.0",
      "model_name": "LayoutModel",
      "state": {}
     },
     "4610803568b440c197310a5d48ae64c7": {
      "model_module": "@jupyter-widgets/controls",
      "model_module_version": "1.5.0",
      "model_name": "HBoxModel",
      "state": {
       "children": [
        "IPY_MODEL_2cfebfc0dbd044078d91db68a9e3ec4c",
        "IPY_MODEL_763fa3ff414b40499856a0ea2d0239d7"
       ],
       "layout": "IPY_MODEL_723c31824534489988c27faced9571a7"
      }
     },
     "46561e317f86419bbc84cfa31c38fbcd": {
      "model_module": "@jupyter-widgets/controls",
      "model_module_version": "1.5.0",
      "model_name": "LabelModel",
      "state": {
       "layout": "IPY_MODEL_a2ce6275bc644d27aa7d91809d478308",
       "style": "IPY_MODEL_c0c0ebd3c1364fa690cc208220b18bb9",
       "value": "Which of the following strings are palindromes?"
      }
     },
     "46780a5d9da745f2b08852d9f3b656af": {
      "model_module": "@jupyter-widgets/controls",
      "model_module_version": "1.5.0",
      "model_name": "LabelModel",
      "state": {
       "layout": "IPY_MODEL_e89763fc15bb421697c566f4bb022355",
       "style": "IPY_MODEL_b9117b6c164743a6b08a41903065efcb",
       "value": "iterative"
      }
     },
     "46a19584624c4649b214651d3cce6d86": {
      "model_module": "@jupyter-widgets/controls",
      "model_module_version": "1.5.0",
      "model_name": "HBoxModel",
      "state": {
       "children": [
        "IPY_MODEL_32a6c51cfbea493d9a34801df7067411",
        "IPY_MODEL_91617da55af8442da19d65f172f0cec0"
       ],
       "layout": "IPY_MODEL_9131445995a44625a8f221d76aee70b5"
      }
     },
     "46a710d1ad7646ddad3733b1688a2308": {
      "model_module": "@jupyter-widgets/base",
      "model_module_version": "1.2.0",
      "model_name": "LayoutModel",
      "state": {
       "align_items": "stretch",
       "display": "flex",
       "flex_flow": "row wrap",
       "grid_area": "header",
       "margin": "0 0 30px 0",
       "width": "100%"
      }
     },
     "46d09a12d8de4b86a96f7fea52ea43f2": {
      "model_module": "@jupyter-widgets/controls",
      "model_module_version": "1.5.0",
      "model_name": "DescriptionStyleModel",
      "state": {
       "description_width": ""
      }
     },
     "470880e5d8ad4d6eb1c98373dfeec0f0": {
      "model_module": "@jupyter-widgets/controls",
      "model_module_version": "1.5.0",
      "model_name": "HBoxModel",
      "state": {
       "children": [
        "IPY_MODEL_e82a8198f424484fb80f3ac89f0c7db5",
        "IPY_MODEL_ec803a59e5a64d4d9473eab9a2a5ebd1"
       ],
       "layout": "IPY_MODEL_33c392e38eb24a419a6adf2bd5167e51"
      }
     },
     "471f55d29a924b7baecc6a1575b2a55a": {
      "model_module": "@jupyter-widgets/controls",
      "model_module_version": "1.5.0",
      "model_name": "ButtonModel",
      "state": {
       "description": "Show answer",
       "disabled": true,
       "layout": "IPY_MODEL_e9ef1c43a5d649efb9c4b819302007f0",
       "style": "IPY_MODEL_9a3cc8c98feb43b88d54d93347c9a22f"
      }
     },
     "47241ce5a075440bb4d0080a5db06f4f": {
      "model_module": "@jupyter-widgets/base",
      "model_module_version": "1.2.0",
      "model_name": "LayoutModel",
      "state": {}
     },
     "47f1254a39b44214880abeb17900ffbd": {
      "model_module": "@jupyter-widgets/base",
      "model_module_version": "1.2.0",
      "model_name": "LayoutModel",
      "state": {}
     },
     "48178b287011459391d04fc97d2ae46a": {
      "model_module": "@jupyter-widgets/base",
      "model_module_version": "1.2.0",
      "model_name": "LayoutModel",
      "state": {
       "width": "1000px"
      }
     },
     "486014b023f94c888bb30791ff71bfc3": {
      "model_module": "@jupyter-widgets/base",
      "model_module_version": "1.2.0",
      "model_name": "LayoutModel",
      "state": {
       "width": "1000px"
      }
     },
     "48cfcc42442f4d61bccbeee328e072f5": {
      "model_module": "@jupyter-widgets/base",
      "model_module_version": "1.2.0",
      "model_name": "LayoutModel",
      "state": {}
     },
     "48f1bc492abe4bbeab5a587b1b9a815d": {
      "model_module": "@jupyter-widgets/base",
      "model_module_version": "1.2.0",
      "model_name": "LayoutModel",
      "state": {}
     },
     "49506ede075e4ef19dcc201cdeb58394": {
      "model_module": "@jupyter-widgets/base",
      "model_module_version": "1.2.0",
      "model_name": "LayoutModel",
      "state": {}
     },
     "498d5ce4789349e1b7d27efe8db5e09a": {
      "model_module": "@jupyter-widgets/controls",
      "model_module_version": "1.5.0",
      "model_name": "DescriptionStyleModel",
      "state": {
       "description_width": ""
      }
     },
     "4b4387afdae54dec90a98f431626563a": {
      "model_module": "@jupyter-widgets/base",
      "model_module_version": "1.2.0",
      "model_name": "LayoutModel",
      "state": {
       "align_items": "stretch",
       "display": "flex",
       "flex_flow": "row wrap",
       "grid_area": "footer",
       "margin": "30px 0 0 0"
      }
     },
     "4ba227479e7c4df1a62b4188b48f92ae": {
      "model_module": "@jupyter-widgets/controls",
      "model_module_version": "1.5.0",
      "model_name": "HBoxModel",
      "state": {
       "children": [
        "IPY_MODEL_01133987442846218bb86b543dfbcbf8",
        "IPY_MODEL_1992680444bf481d98035b66bada87e0"
       ],
       "layout": "IPY_MODEL_da4ffe2e521e4abd93dfc276000c49dc"
      }
     },
     "4bf54947bfd644aa9e9d20dcd6646c0b": {
      "model_module": "@jupyter-widgets/controls",
      "model_module_version": "1.5.0",
      "model_name": "HBoxModel",
      "state": {
       "children": [
        "IPY_MODEL_98bd9a4dcba540b7bc6474e0ab43f116",
        "IPY_MODEL_42066e3397034db09f42087f3c4d3428",
        "IPY_MODEL_e54883387bcf496a8175bf4cdc2e80b6"
       ],
       "layout": "IPY_MODEL_3f49993f32ef4da2b54b2c191b061190"
      }
     },
     "4c18b37eab91499f9737034f04a629c7": {
      "model_module": "@jupyter-widgets/base",
      "model_module_version": "1.2.0",
      "model_name": "LayoutModel",
      "state": {}
     },
     "4c4392d319d04296b9cc2683151ecb0d": {
      "model_module": "@jupyter-widgets/controls",
      "model_module_version": "1.5.0",
      "model_name": "DescriptionStyleModel",
      "state": {
       "description_width": ""
      }
     },
     "4c8a82fded0042ceb6d51ea91d61586e": {
      "model_module": "@jupyter-widgets/controls",
      "model_module_version": "1.5.0",
      "model_name": "DescriptionStyleModel",
      "state": {
       "description_width": ""
      }
     },
     "4d1a6028fd904a048024c49542096578": {
      "model_module": "@jupyter-widgets/base",
      "model_module_version": "1.2.0",
      "model_name": "LayoutModel",
      "state": {
       "width": "30px"
      }
     },
     "4d79fc21c5b74fe2a511e5bcac039ec6": {
      "model_module": "@jupyter-widgets/controls",
      "model_module_version": "1.5.0",
      "model_name": "DescriptionStyleModel",
      "state": {
       "description_width": ""
      }
     },
     "4d97c3a6d6614d86905ae2db5b6a18e1": {
      "model_module": "@jupyter-widgets/controls",
      "model_module_version": "1.5.0",
      "model_name": "CheckboxModel",
      "state": {
       "disabled": false,
       "layout": "IPY_MODEL_58023581dc95440cbec5c10415eaae10",
       "style": "IPY_MODEL_3a5ec2e16e3e41f2874261f77364f1ee",
       "value": false
      }
     },
     "4dc5fe2589bb48dfaeabead93819c8e1": {
      "model_module": "@jupyter-widgets/controls",
      "model_module_version": "1.5.0",
      "model_name": "DescriptionStyleModel",
      "state": {
       "description_width": ""
      }
     },
     "4e9abd197b444d15bc2b8bac1d16310d": {
      "model_module": "@jupyter-widgets/controls",
      "model_module_version": "1.5.0",
      "model_name": "CheckboxModel",
      "state": {
       "disabled": false,
       "layout": "IPY_MODEL_9635fdc531d64076844b52e33d9750b3",
       "style": "IPY_MODEL_6e3d3c513e9e423cbcd8cbb92be59037",
       "value": false
      }
     },
     "4ea23e867b824a6ab1eb3a3dc49e722e": {
      "model_module": "@jupyter-widgets/controls",
      "model_module_version": "1.5.0",
      "model_name": "HBoxModel",
      "state": {
       "children": [
        "IPY_MODEL_db140f9bfe9c42f78d1cd32e93e38727",
        "IPY_MODEL_4eb71c839beb46a9ad0d3f1823a6dc53"
       ],
       "layout": "IPY_MODEL_fa8c7dd32ac1445fbcb00328cd022e8e"
      }
     },
     "4eb71c839beb46a9ad0d3f1823a6dc53": {
      "model_module": "@jupyter-widgets/controls",
      "model_module_version": "1.5.0",
      "model_name": "HBoxModel",
      "state": {
       "children": [
        "IPY_MODEL_e8299389aa3b40488d78a00d6c5804b9",
        "IPY_MODEL_0a8f4a5fdff2498bb1e6ce26e19d33e4"
       ],
       "layout": "IPY_MODEL_639d276cc76d4352bb2f586c746be957"
      }
     },
     "4f1d235447df4598b4e30d6bb9af1d55": {
      "model_module": "@jupyter-widgets/controls",
      "model_module_version": "1.5.0",
      "model_name": "LabelModel",
      "state": {
       "layout": "IPY_MODEL_129ca23304c849f08668ee8b6f32fdb9",
       "style": "IPY_MODEL_c9bc178dcbb840f4b27a6e27da91004a",
       "value": "Check the statement below that best summarize Richard Bellman's own explanation of the term dynamic programming."
      }
     },
     "4f314285e6974107b1f0e601a22298a0": {
      "model_module": "@jupyter-widgets/base",
      "model_module_version": "1.2.0",
      "model_name": "LayoutModel",
      "state": {}
     },
     "4f392ca044d54c7d85d0deb3cb2890b0": {
      "model_module": "@jupyter-widgets/controls",
      "model_module_version": "1.5.0",
      "model_name": "ButtonStyleModel",
      "state": {
       "button_color": "lightblue"
      }
     },
     "4fad0b45f0564110ae6dcc7f17902cca": {
      "model_module": "@jupyter-widgets/controls",
      "model_module_version": "1.5.0",
      "model_name": "LabelModel",
      "state": {
       "layout": "IPY_MODEL_e935b0802fd9421f9131af5baf55df20",
       "style": "IPY_MODEL_3d9219b3f63c46429d64fef7b75a00e9",
       "value": "Which terms describe the algorithm above?"
      }
     },
     "50d5f8bd59474aa19bd6ecfd7764cab6": {
      "model_module": "@jupyter-widgets/base",
      "model_module_version": "1.2.0",
      "model_name": "LayoutModel",
      "state": {}
     },
     "5160a876545a40c8b74a99a4054c9db0": {
      "model_module": "@jupyter-widgets/base",
      "model_module_version": "1.2.0",
      "model_name": "LayoutModel",
      "state": {
       "width": "30px"
      }
     },
     "516ab1da55b1406ba9144f424e722576": {
      "model_module": "@jupyter-widgets/controls",
      "model_module_version": "1.5.0",
      "model_name": "HBoxModel",
      "state": {
       "children": [
        "IPY_MODEL_b24582aaca2b41e49c8cd408db68ea9c",
        "IPY_MODEL_06170a72395d470396c125ad16d6f13e"
       ],
       "layout": "IPY_MODEL_57d2fc9a1c18493b9cd5d85b3060463c"
      }
     },
     "51fc243f6ee74fda83fbd24c8131ebd5": {
      "model_module": "@jupyter-widgets/base",
      "model_module_version": "1.2.0",
      "model_name": "LayoutModel",
      "state": {}
     },
     "5238cdb9cfd240a1b5577c85cbe041e4": {
      "model_module": "@jupyter-widgets/base",
      "model_module_version": "1.2.0",
      "model_name": "LayoutModel",
      "state": {
       "width": "30px"
      }
     },
     "52422f4b2ec64020be0cd1e058390dd4": {
      "model_module": "@jupyter-widgets/base",
      "model_module_version": "1.2.0",
      "model_name": "LayoutModel",
      "state": {}
     },
     "5246fbbfb1884b76b88d4fe8a5819434": {
      "model_module": "@jupyter-widgets/controls",
      "model_module_version": "1.5.0",
      "model_name": "DescriptionStyleModel",
      "state": {
       "description_width": "initial"
      }
     },
     "524813f56e514c3e8eb97cc49e346c3c": {
      "model_module": "@jupyter-widgets/base",
      "model_module_version": "1.2.0",
      "model_name": "LayoutModel",
      "state": {
       "width": "30px"
      }
     },
     "529f07c3989c4de88a9f7e0edfd398c3": {
      "model_module": "@jupyter-widgets/controls",
      "model_module_version": "1.5.0",
      "model_name": "LabelModel",
      "state": {
       "layout": "IPY_MODEL_9b511a85c0e3430381ea1d54a17572b6",
       "style": "IPY_MODEL_9384286434124b8fbb2825aeec16d180"
      }
     },
     "52dd5b49af974875a83d0080744748f2": {
      "model_module": "@jupyter-widgets/base",
      "model_module_version": "1.2.0",
      "model_name": "LayoutModel",
      "state": {
       "width": "30px"
      }
     },
     "5307c310ea654f3db5be741598c2ca64": {
      "model_module": "@jupyter-widgets/controls",
      "model_module_version": "1.5.0",
      "model_name": "ButtonStyleModel",
      "state": {
       "button_color": "lightblue"
      }
     },
     "53460dca765f45d3bf089a02716fc1b7": {
      "model_module": "@jupyter-widgets/controls",
      "model_module_version": "1.5.0",
      "model_name": "DescriptionStyleModel",
      "state": {
       "description_width": ""
      }
     },
     "53ad68c05c6f41afaad2221a34d27ad8": {
      "model_module": "@jupyter-widgets/controls",
      "model_module_version": "1.5.0",
      "model_name": "CheckboxModel",
      "state": {
       "disabled": false,
       "layout": "IPY_MODEL_fafca7cd63114afaa8b32ee323e844a4",
       "style": "IPY_MODEL_1f8dba75f6424ffbb7c928e669de9bda",
       "value": false
      }
     },
     "53c87d538a5b41a182404ae520601c64": {
      "model_module": "@jupyter-widgets/base",
      "model_module_version": "1.2.0",
      "model_name": "LayoutModel",
      "state": {
       "width": "30px"
      }
     },
     "541f4c5223bb4b7d8ae15ddf5df45143": {
      "model_module": "@jupyter-widgets/controls",
      "model_module_version": "1.5.0",
      "model_name": "DescriptionStyleModel",
      "state": {
       "description_width": ""
      }
     },
     "544ad2ecdcaf4e3eb9adfca136da8459": {
      "model_module": "@jupyter-widgets/base",
      "model_module_version": "1.2.0",
      "model_name": "LayoutModel",
      "state": {}
     },
     "54837616c2df4520af1e366482da0494": {
      "model_module": "@jupyter-widgets/controls",
      "model_module_version": "1.5.0",
      "model_name": "HBoxModel",
      "state": {
       "children": [
        "IPY_MODEL_b595ee9374e24f63b6f5b447a7de51e2",
        "IPY_MODEL_b6aa6f19b2a942079217c52162a30eb1"
       ],
       "layout": "IPY_MODEL_2b3eb727b6be44bcb624371a143a5f86"
      }
     },
     "54b35f922c7d4fe29fa4670946340f7d": {
      "model_module": "@jupyter-widgets/controls",
      "model_module_version": "1.5.0",
      "model_name": "CheckboxModel",
      "state": {
       "disabled": false,
       "layout": "IPY_MODEL_83c18b8cfe5d4b62b98dda5a48942736",
       "style": "IPY_MODEL_03161d871f5d46f490b117cf89d7ef00",
       "value": false
      }
     },
     "55ea8f4dd3d5452d8a62a9d4bf425c38": {
      "model_module": "@jupyter-widgets/base",
      "model_module_version": "1.2.0",
      "model_name": "LayoutModel",
      "state": {}
     },
     "56072f95082f4fca974769f5f7b53adc": {
      "model_module": "@jupyter-widgets/base",
      "model_module_version": "1.2.0",
      "model_name": "LayoutModel",
      "state": {}
     },
     "562aadb0b4fe483b9667808663679d28": {
      "model_module": "@jupyter-widgets/controls",
      "model_module_version": "1.5.0",
      "model_name": "CheckboxModel",
      "state": {
       "disabled": false,
       "layout": "IPY_MODEL_4038ac1f14e749a99a4abe25e4b138d9",
       "style": "IPY_MODEL_06497ad546e440148602cc5e5e8237e9",
       "value": false
      }
     },
     "562bad8e66f34b35803e48273c74730c": {
      "model_module": "@jupyter-widgets/controls",
      "model_module_version": "1.5.0",
      "model_name": "DescriptionStyleModel",
      "state": {
       "description_width": ""
      }
     },
     "562de75bdde14f09bef1168a75083b4f": {
      "model_module": "@jupyter-widgets/base",
      "model_module_version": "1.2.0",
      "model_name": "LayoutModel",
      "state": {
       "width": "30px"
      }
     },
     "564203e182d740988bb29caa6caa17ac": {
      "model_module": "@jupyter-widgets/base",
      "model_module_version": "1.2.0",
      "model_name": "LayoutModel",
      "state": {}
     },
     "5642a67d4fd84804a7868fc0094ecd49": {
      "model_module": "@jupyter-widgets/controls",
      "model_module_version": "1.5.0",
      "model_name": "LabelModel",
      "state": {
       "layout": "IPY_MODEL_a0bfd2133f9e497caa2fddc24eec5b99",
       "style": "IPY_MODEL_b38caf1c57094f1abf0c4e71c62fa521"
      }
     },
     "566d9258f3ad431392aac78a8debd5b2": {
      "model_module": "@jupyter-widgets/base",
      "model_module_version": "1.2.0",
      "model_name": "LayoutModel",
      "state": {}
     },
     "567b5fc0db8240d9b9921c61ce76ed77": {
      "model_module": "@jupyter-widgets/controls",
      "model_module_version": "1.5.0",
      "model_name": "ButtonModel",
      "state": {
       "description": "Submit",
       "layout": "IPY_MODEL_6c7e3d6bd4c64884813fbc76ab366b83",
       "style": "IPY_MODEL_b6cf76b341b04944bfacde0e228e70f0"
      }
     },
     "56a8d8042c4747f6b2b3446a05492cfc": {
      "model_module": "@jupyter-widgets/controls",
      "model_module_version": "1.5.0",
      "model_name": "LabelModel",
      "state": {
       "layout": "IPY_MODEL_6132d593adbc4e9d8b97dfd145d9df3d",
       "style": "IPY_MODEL_efe051b10574458b9e153ee67032e68e",
       "value": "Dynamic programming is concerned with planning a process that has multiple stages."
      }
     },
     "57806cc0ed954d7ca82d95c80df37deb": {
      "model_module": "@jupyter-widgets/controls",
      "model_module_version": "1.5.0",
      "model_name": "DescriptionStyleModel",
      "state": {
       "description_width": ""
      }
     },
     "578949f098554988a543bfbcae9a647d": {
      "model_module": "@jupyter-widgets/base",
      "model_module_version": "1.2.0",
      "model_name": "LayoutModel",
      "state": {}
     },
     "57d2fc9a1c18493b9cd5d85b3060463c": {
      "model_module": "@jupyter-widgets/base",
      "model_module_version": "1.2.0",
      "model_name": "LayoutModel",
      "state": {}
     },
     "58023581dc95440cbec5c10415eaae10": {
      "model_module": "@jupyter-widgets/base",
      "model_module_version": "1.2.0",
      "model_name": "LayoutModel",
      "state": {
       "width": "30px"
      }
     },
     "5921ae69c28b4e609deecfa6b2643e62": {
      "model_module": "@jupyter-widgets/controls",
      "model_module_version": "1.5.0",
      "model_name": "HBoxModel",
      "state": {
       "children": [
        "IPY_MODEL_ac276147a77c4a69b424fc54dfd9aff8",
        "IPY_MODEL_19d16495731544f0be366db0448b26d0"
       ],
       "layout": "IPY_MODEL_cbee7d7c617c49b5af0cb709b06efb03"
      }
     },
     "598dea6998a44155a1af604c581e862e": {
      "model_module": "@jupyter-widgets/controls",
      "model_module_version": "1.5.0",
      "model_name": "ButtonStyleModel",
      "state": {
       "button_color": "lightblue"
      }
     },
     "59c6c600dc5640388663b6210f5a58e2": {
      "model_module": "@jupyter-widgets/base",
      "model_module_version": "1.2.0",
      "model_name": "LayoutModel",
      "state": {}
     },
     "59da9fe73836404491c46acbe837baf5": {
      "model_module": "@jupyter-widgets/base",
      "model_module_version": "1.2.0",
      "model_name": "LayoutModel",
      "state": {}
     },
     "5a6047ac0e7c4480a2cb183de6d4140c": {
      "model_module": "@jupyter-widgets/controls",
      "model_module_version": "1.5.0",
      "model_name": "DescriptionStyleModel",
      "state": {
       "description_width": ""
      }
     },
     "5af2f22613844aec94256e5cf65b7fbc": {
      "model_module": "@jupyter-widgets/base",
      "model_module_version": "1.2.0",
      "model_name": "LayoutModel",
      "state": {}
     },
     "5afb6b35f3be47919321b1ce30594380": {
      "model_module": "@jupyter-widgets/base",
      "model_module_version": "1.2.0",
      "model_name": "LayoutModel",
      "state": {
       "display": "none"
      }
     },
     "5b8c30cde947425a92060fa3f60e3232": {
      "model_module": "@jupyter-widgets/controls",
      "model_module_version": "1.5.0",
      "model_name": "HBoxModel",
      "state": {
       "children": [
        "IPY_MODEL_2e04c814e51f4f31b11befdcd0b2d4d9",
        "IPY_MODEL_75f9746a432540cabd6c91885e3121d8"
       ],
       "layout": "IPY_MODEL_3f1b626bb8d8428e8fae94eab9d5113d"
      }
     },
     "5bbfd0e8e4b04ac080b8b77f270fb657": {
      "model_module": "@jupyter-widgets/base",
      "model_module_version": "1.2.0",
      "model_name": "LayoutModel",
      "state": {
       "width": "1000px"
      }
     },
     "5bd1429327b2429c853e0145eadd8835": {
      "model_module": "@jupyter-widgets/base",
      "model_module_version": "1.2.0",
      "model_name": "LayoutModel",
      "state": {
       "align_items": "stretch",
       "display": "flex",
       "flex_flow": "row wrap",
       "grid_area": "header",
       "margin": "0 0 30px 0",
       "width": "100%"
      }
     },
     "5bfaf4e06bb541d49c70c4454c072bbe": {
      "model_module": "@jupyter-widgets/controls",
      "model_module_version": "1.5.0",
      "model_name": "HBoxModel",
      "state": {
       "children": [
        "IPY_MODEL_3f0a517307a94a3ab13e2e84b4d1b0c1",
        "IPY_MODEL_d03dfd671cc44eb39f061f6dd54a032f"
       ],
       "layout": "IPY_MODEL_d1aecadd82fe45f4803d1ce3883f10b6"
      }
     },
     "5c0dee69acb64153ac469a316d42668d": {
      "model_module": "@jupyter-widgets/base",
      "model_module_version": "1.2.0",
      "model_name": "LayoutModel",
      "state": {
       "width": "30px"
      }
     },
     "5ce18e2440ac46dead69ad5e98fbfe8a": {
      "model_module": "@jupyter-widgets/controls",
      "model_module_version": "1.5.0",
      "model_name": "HBoxModel",
      "state": {
       "children": [
        "IPY_MODEL_c01444abb75a433da0fae2c2c27f7767",
        "IPY_MODEL_ac2fb1d41db7405c935eabcdb150ad49"
       ],
       "layout": "IPY_MODEL_aa1d0e6f059340138b0708b248880f71"
      }
     },
     "5d4e732f3cda48fc961dc83527d9c65c": {
      "model_module": "@jupyter-widgets/base",
      "model_module_version": "1.2.0",
      "model_name": "LayoutModel",
      "state": {
       "width": "1000px"
      }
     },
     "5e224e06efa14526ba19b4947dbf3faf": {
      "model_module": "@jupyter-widgets/base",
      "model_module_version": "1.2.0",
      "model_name": "LayoutModel",
      "state": {
       "align_items": "stretch",
       "display": "flex",
       "flex_flow": "row wrap",
       "grid_area": "footer",
       "margin": "30px 0 0 0"
      }
     },
     "5e5d7927ad4046eda5ee15c4283a0af8": {
      "model_module": "@jupyter-widgets/controls",
      "model_module_version": "1.5.0",
      "model_name": "ButtonStyleModel",
      "state": {
       "button_color": "lightblue"
      }
     },
     "5ef2f0b6881f496b90a740a42346f806": {
      "model_module": "@jupyter-widgets/base",
      "model_module_version": "1.2.0",
      "model_name": "LayoutModel",
      "state": {}
     },
     "5ef4e467e5644686a71621569efccc88": {
      "model_module": "@jupyter-widgets/controls",
      "model_module_version": "1.5.0",
      "model_name": "DescriptionStyleModel",
      "state": {
       "description_width": ""
      }
     },
     "5f155c8a8323410caad86bd2ea3ee06d": {
      "model_module": "@jupyter-widgets/controls",
      "model_module_version": "1.5.0",
      "model_name": "HBoxModel",
      "state": {
       "children": [
        "IPY_MODEL_b2eb0b3fc04049bcb3a68f7eda2954f8"
       ],
       "layout": "IPY_MODEL_eefcaccba9784eaead41c1cf9f175709"
      }
     },
     "5fbd8d4c4ea74e5c93d55662cc7b47e1": {
      "model_module": "@jupyter-widgets/base",
      "model_module_version": "1.2.0",
      "model_name": "LayoutModel",
      "state": {}
     },
     "6132d593adbc4e9d8b97dfd145d9df3d": {
      "model_module": "@jupyter-widgets/base",
      "model_module_version": "1.2.0",
      "model_name": "LayoutModel",
      "state": {
       "width": "1000px"
      }
     },
     "61cb14317e4140d69d4304e6f2d59237": {
      "model_module": "@jupyter-widgets/controls",
      "model_module_version": "1.5.0",
      "model_name": "GridBoxModel",
      "state": {
       "box_style": "info",
       "children": [
        "IPY_MODEL_45337e4fb1114e3aa0d5013bfbe7e33a",
        "IPY_MODEL_9365c1deeaf041c2ad89e3ebdfb31aeb",
        "IPY_MODEL_2c77c7ee20b84d6f8ef0ebd63b52aa84"
       ],
       "layout": "IPY_MODEL_ede0f0d907c2472c9a4aae457b8cf8e2"
      }
     },
     "627c7656f662427ea2b817b942433250": {
      "model_module": "@jupyter-widgets/base",
      "model_module_version": "1.2.0",
      "model_name": "LayoutModel",
      "state": {}
     },
     "627fbdf2e3fb4bb199b65b02d0d6647b": {
      "model_module": "@jupyter-widgets/base",
      "model_module_version": "1.2.0",
      "model_name": "LayoutModel",
      "state": {}
     },
     "6336fe030e7b4e458c8cfee7939f8ccb": {
      "model_module": "@jupyter-widgets/controls",
      "model_module_version": "1.5.0",
      "model_name": "LabelModel",
      "state": {
       "layout": "IPY_MODEL_f4f2bde7e8114875a0aa47e6fa53bc93",
       "style": "IPY_MODEL_af42a54ab5ea45a29c4bac1dfeba2610",
       "value": "In dynamic programming, the outcomes of each operation in a process are independant."
      }
     },
     "638fbf8cb6794a6eb05cecd512e29d2e": {
      "model_module": "@jupyter-widgets/controls",
      "model_module_version": "1.5.0",
      "model_name": "ButtonStyleModel",
      "state": {
       "button_color": "lightblue"
      }
     },
     "639d276cc76d4352bb2f586c746be957": {
      "model_module": "@jupyter-widgets/base",
      "model_module_version": "1.2.0",
      "model_name": "LayoutModel",
      "state": {}
     },
     "647145d7603640198330cd236f36af69": {
      "model_module": "@jupyter-widgets/base",
      "model_module_version": "1.2.0",
      "model_name": "LayoutModel",
      "state": {
       "width": "1000px"
      }
     },
     "65911ea3cb42430cba21ea2f298ea798": {
      "model_module": "@jupyter-widgets/base",
      "model_module_version": "1.2.0",
      "model_name": "LayoutModel",
      "state": {}
     },
     "65bdf7112c264974bfd551b2f3b45b1e": {
      "model_module": "@jupyter-widgets/controls",
      "model_module_version": "1.5.0",
      "model_name": "ButtonModel",
      "state": {
       "description": "Show answer",
       "disabled": true,
       "layout": "IPY_MODEL_8d6f007e3b164124a8344fc2a162991e",
       "style": "IPY_MODEL_7a76a5c1c95d42508fef2c19ecace613"
      }
     },
     "661843063cd149a38e4b56f1809d20b9": {
      "model_module": "@jupyter-widgets/controls",
      "model_module_version": "1.5.0",
      "model_name": "HBoxModel",
      "state": {
       "children": [
        "IPY_MODEL_842ecd40ef784b1495d4e1e1aeb63998",
        "IPY_MODEL_7a337c00e0124ddd81c7ee24371e63fc"
       ],
       "layout": "IPY_MODEL_46060cafa02b4a60ab4c301b04a70a9a"
      }
     },
     "664c01c3a02f4b56bd6d7d831400131a": {
      "model_module": "@jupyter-widgets/controls",
      "model_module_version": "1.5.0",
      "model_name": "DescriptionStyleModel",
      "state": {
       "description_width": ""
      }
     },
     "66c9cf93163041cb89c84fc604888174": {
      "model_module": "@jupyter-widgets/controls",
      "model_module_version": "1.5.0",
      "model_name": "GridBoxModel",
      "state": {
       "box_style": "info",
       "children": [
        "IPY_MODEL_5f155c8a8323410caad86bd2ea3ee06d",
        "IPY_MODEL_4bf54947bfd644aa9e9d20dcd6646c0b",
        "IPY_MODEL_b7d6b4543d5448dab6b82ba65af7ff12"
       ],
       "layout": "IPY_MODEL_80c1507e3b164212925880599fd3042a"
      }
     },
     "66d72f1e4c964306842fb42b6952521c": {
      "model_module": "@jupyter-widgets/controls",
      "model_module_version": "1.5.0",
      "model_name": "LabelModel",
      "state": {
       "layout": "IPY_MODEL_5fbd8d4c4ea74e5c93d55662cc7b47e1",
       "style": "IPY_MODEL_ba7585c0c8544abe81220902e6a7955b"
      }
     },
     "66f28ec0793f460b892992ad5fee39a5": {
      "model_module": "@jupyter-widgets/controls",
      "model_module_version": "1.5.0",
      "model_name": "CheckboxModel",
      "state": {
       "disabled": false,
       "layout": "IPY_MODEL_5160a876545a40c8b74a99a4054c9db0",
       "style": "IPY_MODEL_ea985bf7dd3c431fa3f4fad22ecdfc0b",
       "value": false
      }
     },
     "66fafc996e8642ef9aa2da1d325d7e9a": {
      "model_module": "@jupyter-widgets/controls",
      "model_module_version": "1.5.0",
      "model_name": "CheckboxModel",
      "state": {
       "disabled": false,
       "layout": "IPY_MODEL_737fd555fbc841bb9247449679f11923",
       "style": "IPY_MODEL_1632ea8651ea454b96f7f6e70d8968cb",
       "value": false
      }
     },
     "67a8e06e0521488a8f7ac836e8c6be1a": {
      "model_module": "@jupyter-widgets/base",
      "model_module_version": "1.2.0",
      "model_name": "LayoutModel",
      "state": {}
     },
     "67db3e6435f44d0885cbac5bf6ecd551": {
      "model_module": "@jupyter-widgets/controls",
      "model_module_version": "1.5.0",
      "model_name": "DescriptionStyleModel",
      "state": {
       "description_width": ""
      }
     },
     "67ebb193ca0641bba6f663364e792b3b": {
      "model_module": "@jupyter-widgets/controls",
      "model_module_version": "1.5.0",
      "model_name": "HBoxModel",
      "state": {
       "children": [
        "IPY_MODEL_02dac8e74c0b4c66af4dfbdff46fa786",
        "IPY_MODEL_a31fc05034a146408296402affde6968"
       ],
       "layout": "IPY_MODEL_3add24b79cff46a5b72bc27291772380"
      }
     },
     "683d60ec30bc4aeeb34402c7a12e3630": {
      "model_module": "@jupyter-widgets/controls",
      "model_module_version": "1.5.0",
      "model_name": "LabelModel",
      "state": {
       "layout": "IPY_MODEL_b162f4935fef42af8d65b65a227be054",
       "style": "IPY_MODEL_b50f1ba4104847758256fd38756d0e63",
       "value": "recursive"
      }
     },
     "68e3c9c3aa3749b4bae226fdbcb04745": {
      "model_module": "@jupyter-widgets/controls",
      "model_module_version": "1.5.0",
      "model_name": "GridBoxModel",
      "state": {
       "box_style": "info",
       "children": [
        "IPY_MODEL_293af55745ad4bf1be142c0e636f445c",
        "IPY_MODEL_6cc29f4d8e8a4148834b011a93bbf1f9",
        "IPY_MODEL_82925490ffdf46d4bd8b3e6eb4f45a38"
       ],
       "layout": "IPY_MODEL_e70e3e2d79c845258aeede435aa61026"
      }
     },
     "69a469812e8c454d8da5a824ed54e474": {
      "model_module": "@jupyter-widgets/controls",
      "model_module_version": "1.5.0",
      "model_name": "DescriptionStyleModel",
      "state": {
       "description_width": ""
      }
     },
     "69ccca4bf17c4e26bf8d09834bfe7428": {
      "model_module": "@jupyter-widgets/base",
      "model_module_version": "1.2.0",
      "model_name": "LayoutModel",
      "state": {}
     },
     "6a03e56ee9a34beab5d093b05de283de": {
      "model_module": "@jupyter-widgets/controls",
      "model_module_version": "1.5.0",
      "model_name": "CheckboxModel",
      "state": {
       "disabled": false,
       "layout": "IPY_MODEL_34528e586e5046ef92afe0fa88c8a481",
       "style": "IPY_MODEL_0866f99b5bd74ac1a4ddacd6036776e9",
       "value": false
      }
     },
     "6a079194573c44a98f6165ef4d2d33b8": {
      "model_module": "@jupyter-widgets/controls",
      "model_module_version": "1.5.0",
      "model_name": "LabelModel",
      "state": {
       "layout": "IPY_MODEL_990dc0440bf14f8c8cc60dbe1062eef5",
       "style": "IPY_MODEL_20e62761979345b99dfa3e76eeba51c0"
      }
     },
     "6bdb05dbbf94454e8fcf7296ef4caea1": {
      "model_module": "@jupyter-widgets/base",
      "model_module_version": "1.2.0",
      "model_name": "LayoutModel",
      "state": {
       "width": "1000px"
      }
     },
     "6be803615dcb48df9fe2d779f8875d17": {
      "model_module": "@jupyter-widgets/controls",
      "model_module_version": "1.5.0",
      "model_name": "DescriptionStyleModel",
      "state": {
       "description_width": ""
      }
     },
     "6c7e3d6bd4c64884813fbc76ab366b83": {
      "model_module": "@jupyter-widgets/base",
      "model_module_version": "1.2.0",
      "model_name": "LayoutModel",
      "state": {}
     },
     "6cc29f4d8e8a4148834b011a93bbf1f9": {
      "model_module": "@jupyter-widgets/controls",
      "model_module_version": "1.5.0",
      "model_name": "HBoxModel",
      "state": {
       "children": [
        "IPY_MODEL_567b5fc0db8240d9b9921c61ce76ed77",
        "IPY_MODEL_c544520a28374dabab06564859d878db",
        "IPY_MODEL_22190b90558c4d36aeac38f0889a0860"
       ],
       "layout": "IPY_MODEL_4597e44af56949e0a0dd84a014ddacde"
      }
     },
     "6cdb15294ebf4f9ca60f9948b0260d1d": {
      "model_module": "@jupyter-widgets/controls",
      "model_module_version": "1.5.0",
      "model_name": "HBoxModel",
      "state": {
       "children": [
        "IPY_MODEL_9a42ffaa7721415197df7558422401e9",
        "IPY_MODEL_0a31c6229a4348738832b921dff94e8d"
       ],
       "layout": "IPY_MODEL_f3f307b67e554ba5926f88e2231d3aba"
      }
     },
     "6d6da116503544f184943a0a175e24e1": {
      "model_module": "@jupyter-widgets/controls",
      "model_module_version": "1.5.0",
      "model_name": "HBoxModel",
      "state": {
       "children": [
        "IPY_MODEL_4fad0b45f0564110ae6dcc7f17902cca"
       ],
       "layout": "IPY_MODEL_c12f576025704d8983d23a52223b1b38"
      }
     },
     "6d9b58c94a3c45a7a636e648088576ea": {
      "model_module": "@jupyter-widgets/controls",
      "model_module_version": "1.5.0",
      "model_name": "HBoxModel",
      "state": {
       "children": [
        "IPY_MODEL_bad318aa152f4d6e8872d8e5e19e6fab",
        "IPY_MODEL_2a2536b3798f4a1c9851c101f33fec83"
       ],
       "layout": "IPY_MODEL_9f8aeae2129c4db8b8718c3ee95f23c4"
      }
     },
     "6db0092bb3d840429e5b08e7aff55dfa": {
      "model_module": "@jupyter-widgets/controls",
      "model_module_version": "1.5.0",
      "model_name": "LabelModel",
      "state": {
       "layout": "IPY_MODEL_6bdb05dbbf94454e8fcf7296ef4caea1",
       "style": "IPY_MODEL_d177d965c72a44e5b352411c156d6b5a",
       "value": "inductive"
      }
     },
     "6e1fed656111459bbdce7fa75c224cfe": {
      "model_module": "@jupyter-widgets/controls",
      "model_module_version": "1.5.0",
      "model_name": "LabelModel",
      "state": {
       "layout": "IPY_MODEL_1da6664ab0844af18ab4c8085848e102",
       "style": "IPY_MODEL_bb5053fef1994c70bfb773d3be7a8f78"
      }
     },
     "6e3d3c513e9e423cbcd8cbb92be59037": {
      "model_module": "@jupyter-widgets/controls",
      "model_module_version": "1.5.0",
      "model_name": "DescriptionStyleModel",
      "state": {
       "description_width": "initial"
      }
     },
     "6e8ce1b24019475b85f6a07e90aaab73": {
      "model_module": "@jupyter-widgets/controls",
      "model_module_version": "1.5.0",
      "model_name": "HBoxModel",
      "state": {
       "children": [
        "IPY_MODEL_562aadb0b4fe483b9667808663679d28",
        "IPY_MODEL_112ba560c1324657acf0383a8729e013"
       ],
       "layout": "IPY_MODEL_00daedb71ca344d98741ce92b5e0b776"
      }
     },
     "6f796dec686041de91fec4df2adad7a1": {
      "model_module": "@jupyter-widgets/controls",
      "model_module_version": "1.5.0",
      "model_name": "DescriptionStyleModel",
      "state": {
       "description_width": ""
      }
     },
     "701031ccee2b456eb37e4d06289b9fe5": {
      "model_module": "@jupyter-widgets/controls",
      "model_module_version": "1.5.0",
      "model_name": "DescriptionStyleModel",
      "state": {
       "description_width": ""
      }
     },
     "7096774ced154610a754c4d735bab01f": {
      "model_module": "@jupyter-widgets/controls",
      "model_module_version": "1.5.0",
      "model_name": "ButtonStyleModel",
      "state": {
       "button_color": "lightblue"
      }
     },
     "70c72587061542c1b5fc83ff592026c2": {
      "model_module": "@jupyter-widgets/controls",
      "model_module_version": "1.5.0",
      "model_name": "LabelModel",
      "state": {
       "layout": "IPY_MODEL_c8cfeefc2ae34aefb90126534723d8cd",
       "style": "IPY_MODEL_2d03d489900540958854a1c3f0f7fd0b",
       "value": "iterative"
      }
     },
     "7120263ac1e54550a076867ac40180eb": {
      "model_module": "@jupyter-widgets/controls",
      "model_module_version": "1.5.0",
      "model_name": "LabelModel",
      "state": {
       "layout": "IPY_MODEL_bd35ccdfecc241cb9c7c0458763414d6",
       "style": "IPY_MODEL_41d9323c2c384e1ab45de2e9a0ea4fb8",
       "value": "02.02.2020"
      }
     },
     "7177621c587141fb8fe67443bdf1fa22": {
      "model_module": "@jupyter-widgets/controls",
      "model_module_version": "1.5.0",
      "model_name": "HBoxModel",
      "state": {
       "children": [
        "IPY_MODEL_20394474620a4ccb9fcaa087d4d3fd13",
        "IPY_MODEL_142eecaf82c64f6fb665bd0e259cba7f"
       ],
       "layout": "IPY_MODEL_a735cb85475540a8b4d0642bbf5361b1"
      }
     },
     "7193c53ec84645ce82a544e9a0c42680": {
      "model_module": "@jupyter-widgets/controls",
      "model_module_version": "1.5.0",
      "model_name": "HBoxModel",
      "state": {
       "children": [
        "IPY_MODEL_09ca8adc524046d084b6194cc5fdeaa4"
       ],
       "layout": "IPY_MODEL_971fb5c8c6c84f07831b7c6bd2e051dc"
      }
     },
     "720a0f3d57734d6588b6c84409fd9f51": {
      "model_module": "@jupyter-widgets/controls",
      "model_module_version": "1.5.0",
      "model_name": "LabelModel",
      "state": {
       "layout": "IPY_MODEL_77f03644c12d4140a4d590c147e79404",
       "style": "IPY_MODEL_ad38a1c8c05348e1931910471c90ca13",
       "value": "live on time emit no evil"
      }
     },
     "723c31824534489988c27faced9571a7": {
      "model_module": "@jupyter-widgets/base",
      "model_module_version": "1.2.0",
      "model_name": "LayoutModel",
      "state": {}
     },
     "72e618e180fd465fb6d1f0fa23c814ad": {
      "model_module": "@jupyter-widgets/base",
      "model_module_version": "1.2.0",
      "model_name": "LayoutModel",
      "state": {
       "width": "30px"
      }
     },
     "737fd555fbc841bb9247449679f11923": {
      "model_module": "@jupyter-widgets/base",
      "model_module_version": "1.2.0",
      "model_name": "LayoutModel",
      "state": {
       "width": "30px"
      }
     },
     "74f79fb21f7d4d5eadf04626a9041533": {
      "model_module": "@jupyter-widgets/controls",
      "model_module_version": "1.5.0",
      "model_name": "ButtonModel",
      "state": {
       "description": "Submit",
       "layout": "IPY_MODEL_c48129cce1a64250b0cbe3bfa8eec78e",
       "style": "IPY_MODEL_4f392ca044d54c7d85d0deb3cb2890b0"
      }
     },
     "755c981a4de145cfa283e215f5c0e962": {
      "model_module": "@jupyter-widgets/controls",
      "model_module_version": "1.5.0",
      "model_name": "LabelModel",
      "state": {
       "layout": "IPY_MODEL_33bdf4f935a440e69fc935682e11b2c1",
       "style": "IPY_MODEL_541f4c5223bb4b7d8ae15ddf5df45143",
       "value": "02.02.2020"
      }
     },
     "757c3085f05d49fc8d146640215f2b7a": {
      "model_module": "@jupyter-widgets/base",
      "model_module_version": "1.2.0",
      "model_name": "LayoutModel",
      "state": {}
     },
     "75e2813c1ca2409a97386e4e9171b28e": {
      "model_module": "@jupyter-widgets/controls",
      "model_module_version": "1.5.0",
      "model_name": "VBoxModel",
      "state": {
       "children": [
        "IPY_MODEL_857df0fecd054ffda7ff63064eb3bff1",
        "IPY_MODEL_d259765de9c240d3b1c7c8dc562cdcf2",
        "IPY_MODEL_7791122c1a8446fab052fe10d69e563f",
        "IPY_MODEL_661843063cd149a38e4b56f1809d20b9",
        "IPY_MODEL_470880e5d8ad4d6eb1c98373dfeec0f0",
        "IPY_MODEL_decdffe2be3a48459284c76224452cbe"
       ],
       "layout": "IPY_MODEL_f699117d7b6a4817ba83116e1672beb4"
      }
     },
     "75f9746a432540cabd6c91885e3121d8": {
      "model_module": "@jupyter-widgets/controls",
      "model_module_version": "1.5.0",
      "model_name": "HBoxModel",
      "state": {
       "children": [
        "IPY_MODEL_cb4c74defe804f4790aefa327db82de0",
        "IPY_MODEL_19533f608c5a4a26aabcead5b9b23398"
       ],
       "layout": "IPY_MODEL_775ee546d300460fa1245751c7d865b0"
      }
     },
     "75f9e104098640f881587ee4c512c205": {
      "model_module": "@jupyter-widgets/base",
      "model_module_version": "1.2.0",
      "model_name": "LayoutModel",
      "state": {
       "width": "1000px"
      }
     },
     "76116e364f844aa3a5b58e03009db217": {
      "model_module": "@jupyter-widgets/base",
      "model_module_version": "1.2.0",
      "model_name": "LayoutModel",
      "state": {
       "grid_template_areas": "\"header header\"\n\"left-sidebar left-sidebar\"\n\"footer footer\"",
       "grid_template_columns": "1fr 1fr",
       "grid_template_rows": "1fr 3fr 1fr"
      }
     },
     "763fa3ff414b40499856a0ea2d0239d7": {
      "model_module": "@jupyter-widgets/controls",
      "model_module_version": "1.5.0",
      "model_name": "LabelModel",
      "state": {
       "layout": "IPY_MODEL_a91579afff634377a1dcf27b7805f379",
       "style": "IPY_MODEL_5ef4e467e5644686a71621569efccc88",
       "value": "live on time emit no evil"
      }
     },
     "7643d7e98e254ab68efeb9d981f5c98f": {
      "model_module": "@jupyter-widgets/controls",
      "model_module_version": "1.5.0",
      "model_name": "LabelModel",
      "state": {
       "layout": "IPY_MODEL_003f8d8cf0544cccb742c80c1949e0fe",
       "style": "IPY_MODEL_9112bd5b468045b6975b704d0d2abaec"
      }
     },
     "7650980810324af992ddee5a14b003a7": {
      "model_module": "@jupyter-widgets/controls",
      "model_module_version": "1.5.0",
      "model_name": "GridBoxModel",
      "state": {
       "box_style": "info",
       "children": [
        "IPY_MODEL_9cad4eb96bae49428f8ded1d1d9185e7",
        "IPY_MODEL_3dfcdeee77b64e94923cde4a804b70fd",
        "IPY_MODEL_150a21f444044259b73ccdbbe570bbf5"
       ],
       "layout": "IPY_MODEL_76116e364f844aa3a5b58e03009db217"
      }
     },
     "765eaff9a1754176bb96723b02606089": {
      "model_module": "@jupyter-widgets/controls",
      "model_module_version": "1.5.0",
      "model_name": "DescriptionStyleModel",
      "state": {
       "description_width": ""
      }
     },
     "76cd91e7dc9a4008860815ea8b11831a": {
      "model_module": "@jupyter-widgets/base",
      "model_module_version": "1.2.0",
      "model_name": "LayoutModel",
      "state": {}
     },
     "770db2b400bd4b3f9aa2009d47b84c03": {
      "model_module": "@jupyter-widgets/base",
      "model_module_version": "1.2.0",
      "model_name": "LayoutModel",
      "state": {}
     },
     "77353a983d5d48279b753c57cfe9b53c": {
      "model_module": "@jupyter-widgets/controls",
      "model_module_version": "1.5.0",
      "model_name": "ButtonModel",
      "state": {
       "description": "Submit",
       "layout": "IPY_MODEL_b00e2d84dc834c4bb9c761b9f3a4d499",
       "style": "IPY_MODEL_7ee07052734044d5b6d66f39d7cf67fa"
      }
     },
     "775ee546d300460fa1245751c7d865b0": {
      "model_module": "@jupyter-widgets/base",
      "model_module_version": "1.2.0",
      "model_name": "LayoutModel",
      "state": {}
     },
     "7791122c1a8446fab052fe10d69e563f": {
      "model_module": "@jupyter-widgets/controls",
      "model_module_version": "1.5.0",
      "model_name": "HBoxModel",
      "state": {
       "children": [
        "IPY_MODEL_eb1a46bb016e4a758c62febb8af78e58",
        "IPY_MODEL_052d1a43c258468ebc6994d95fb6f9fd"
       ],
       "layout": "IPY_MODEL_49506ede075e4ef19dcc201cdeb58394"
      }
     },
     "77f03644c12d4140a4d590c147e79404": {
      "model_module": "@jupyter-widgets/base",
      "model_module_version": "1.2.0",
      "model_name": "LayoutModel",
      "state": {
       "width": "1000px"
      }
     },
     "783b87a8a8b04d5fb49e6847f3d51fc6": {
      "model_module": "@jupyter-widgets/controls",
      "model_module_version": "1.5.0",
      "model_name": "DescriptionStyleModel",
      "state": {
       "description_width": "initial"
      }
     },
     "78b2fbf7f2ca4f2ead493d10fa09efc1": {
      "model_module": "@jupyter-widgets/base",
      "model_module_version": "1.2.0",
      "model_name": "LayoutModel",
      "state": {
       "grid_template_areas": "\"header header\"\n\"left-sidebar left-sidebar\"\n\"footer footer\"",
       "grid_template_columns": "1fr 1fr",
       "grid_template_rows": "1fr 3fr 1fr"
      }
     },
     "790994811e1948c996d2a588bffd8f6c": {
      "model_module": "@jupyter-widgets/controls",
      "model_module_version": "1.5.0",
      "model_name": "ButtonStyleModel",
      "state": {
       "button_color": "lightblue"
      }
     },
     "79ab0c7fee2f4323ad7843d7831b1989": {
      "model_module": "@jupyter-widgets/controls",
      "model_module_version": "1.5.0",
      "model_name": "HBoxModel",
      "state": {
       "children": [
        "IPY_MODEL_66d72f1e4c964306842fb42b6952521c",
        "IPY_MODEL_feefab4e56db4d6e9cef8a56fe7330aa"
       ],
       "layout": "IPY_MODEL_4f314285e6974107b1f0e601a22298a0"
      }
     },
     "7a337c00e0124ddd81c7ee24371e63fc": {
      "model_module": "@jupyter-widgets/controls",
      "model_module_version": "1.5.0",
      "model_name": "HBoxModel",
      "state": {
       "children": [
        "IPY_MODEL_358d9cc9bf5e4ac3a0515e88909eac97",
        "IPY_MODEL_437a547d05b745ea88bad4c6f1f6240d"
       ],
       "layout": "IPY_MODEL_b9650830912a4665b7ba47af040cf006"
      }
     },
     "7a70d7d5847847939e7dca8a3e1388a9": {
      "model_module": "@jupyter-widgets/base",
      "model_module_version": "1.2.0",
      "model_name": "LayoutModel",
      "state": {}
     },
     "7a76a5c1c95d42508fef2c19ecace613": {
      "model_module": "@jupyter-widgets/controls",
      "model_module_version": "1.5.0",
      "model_name": "ButtonStyleModel",
      "state": {
       "button_color": "lightblue"
      }
     },
     "7aaad321e0044b55ae24a56203cd067f": {
      "model_module": "@jupyter-widgets/controls",
      "model_module_version": "1.5.0",
      "model_name": "HBoxModel",
      "state": {
       "children": [
        "IPY_MODEL_122f87349b1743f68970bc5314abb13d",
        "IPY_MODEL_0c764e47cca848aaa557551beec74f39"
       ],
       "layout": "IPY_MODEL_d3c9fd1aa8804d168641f839f44fc63d"
      }
     },
     "7aad5a5ec5234857944710cebbc9a861": {
      "model_module": "@jupyter-widgets/controls",
      "model_module_version": "1.5.0",
      "model_name": "HBoxModel",
      "state": {
       "children": [
        "IPY_MODEL_9a8b12f4fe8044b885c6430d7385541a",
        "IPY_MODEL_d0a1501318f449e19aa5fe5ce0feb987"
       ],
       "layout": "IPY_MODEL_9dd824085a84435eb38dcf58d6d9b2cb"
      }
     },
     "7b67f0165cbb4516a98ba81206f84788": {
      "model_module": "@jupyter-widgets/controls",
      "model_module_version": "1.5.0",
      "model_name": "DescriptionStyleModel",
      "state": {
       "description_width": ""
      }
     },
     "7c463107835149fda5079f4e495f9d86": {
      "model_module": "@jupyter-widgets/base",
      "model_module_version": "1.2.0",
      "model_name": "LayoutModel",
      "state": {
       "grid_area": "left-sidebar"
      }
     },
     "7c4fd014f48140019d5ff89edcbd13ff": {
      "model_module": "@jupyter-widgets/controls",
      "model_module_version": "1.5.0",
      "model_name": "LabelModel",
      "state": {
       "layout": "IPY_MODEL_7f1a867e83724602a0f3ec4ed7e0f394",
       "style": "IPY_MODEL_701031ccee2b456eb37e4d06289b9fe5",
       "value": "The term 'programming' means 'planning'"
      }
     },
     "7c5cb9b45edf486783fccd8441ddb27b": {
      "model_module": "@jupyter-widgets/controls",
      "model_module_version": "1.5.0",
      "model_name": "LabelModel",
      "state": {
       "layout": "IPY_MODEL_8d17f08e087e4b3fad5448f5ce8cece9",
       "style": "IPY_MODEL_4c8a82fded0042ceb6d51ea91d61586e",
       "value": "palindrome"
      }
     },
     "7c8e87c205aa428a98ec76e1781f075b": {
      "model_module": "@jupyter-widgets/base",
      "model_module_version": "1.2.0",
      "model_name": "LayoutModel",
      "state": {}
     },
     "7cf8eec903a047999357cb82a59813ad": {
      "model_module": "@jupyter-widgets/base",
      "model_module_version": "1.2.0",
      "model_name": "LayoutModel",
      "state": {}
     },
     "7d5ca164175c4d9ebaadf5be0af51a86": {
      "model_module": "@jupyter-widgets/controls",
      "model_module_version": "1.5.0",
      "model_name": "LabelModel",
      "state": {
       "layout": "IPY_MODEL_3d1cc17a9c4c464886c81df42cc61e76",
       "style": "IPY_MODEL_c397f22791ff471c85a63444a6c05e16",
       "value": "Which of the following strings are palindromes?"
      }
     },
     "7db340a8b70e4c819cab9ef851175a0f": {
      "model_module": "@jupyter-widgets/base",
      "model_module_version": "1.2.0",
      "model_name": "LayoutModel",
      "state": {
       "width": "30px"
      }
     },
     "7e3fcba15f954fedb4dfcbe3c66abba7": {
      "model_module": "@jupyter-widgets/controls",
      "model_module_version": "1.5.0",
      "model_name": "DescriptionStyleModel",
      "state": {
       "description_width": ""
      }
     },
     "7ee07052734044d5b6d66f39d7cf67fa": {
      "model_module": "@jupyter-widgets/controls",
      "model_module_version": "1.5.0",
      "model_name": "ButtonStyleModel",
      "state": {
       "button_color": "lightblue"
      }
     },
     "7f1a867e83724602a0f3ec4ed7e0f394": {
      "model_module": "@jupyter-widgets/base",
      "model_module_version": "1.2.0",
      "model_name": "LayoutModel",
      "state": {
       "width": "1000px"
      }
     },
     "7f6e57d4a6b240d2804d7f5684782c78": {
      "model_module": "@jupyter-widgets/controls",
      "model_module_version": "1.5.0",
      "model_name": "HBoxModel",
      "state": {
       "children": [
        "IPY_MODEL_4161932e30b9465695779904e558230e",
        "IPY_MODEL_5bfaf4e06bb541d49c70c4454c072bbe"
       ],
       "layout": "IPY_MODEL_cb88bb749f4d42a98ccaeca9773b323c"
      }
     },
     "80363d4ac2d24949bcb484c7b5c9eff3": {
      "model_module": "@jupyter-widgets/controls",
      "model_module_version": "1.5.0",
      "model_name": "LabelModel",
      "state": {
       "layout": "IPY_MODEL_ec856a95c4d2426eb021a2570f3f28aa",
       "style": "IPY_MODEL_a561fba92b344364a1ed6b823fe936a3"
      }
     },
     "80c1507e3b164212925880599fd3042a": {
      "model_module": "@jupyter-widgets/base",
      "model_module_version": "1.2.0",
      "model_name": "LayoutModel",
      "state": {
       "grid_template_areas": "\"header header\"\n\"left-sidebar left-sidebar\"\n\"footer footer\"",
       "grid_template_columns": "1fr 1fr",
       "grid_template_rows": "1fr 3fr 1fr"
      }
     },
     "81a1e7325a3b4d62be47785e21c005f6": {
      "model_module": "@jupyter-widgets/controls",
      "model_module_version": "1.5.0",
      "model_name": "ButtonModel",
      "state": {
       "description": "Show answer",
       "disabled": true,
       "layout": "IPY_MODEL_c7d1eedcfe154a3994250a3480345182",
       "style": "IPY_MODEL_8a9f630104fd4c1bb88dd349611ebc1e"
      }
     },
     "81bf3651cde643439b65955ba7d444d4": {
      "model_module": "@jupyter-widgets/controls",
      "model_module_version": "1.5.0",
      "model_name": "VBoxModel",
      "state": {
       "children": [
        "IPY_MODEL_bc8170a8c3e04010b1abe44801d0494b",
        "IPY_MODEL_2107b88871754bb09007a5b0c1eb4427",
        "IPY_MODEL_b1b0e8eef00d48adb989c9d2fd631cd5",
        "IPY_MODEL_9741ce1372af4cc7a7a867552d937da0",
        "IPY_MODEL_ed1238c9ecac4552ac57d901d9a08665"
       ],
       "layout": "IPY_MODEL_7c463107835149fda5079f4e495f9d86"
      }
     },
     "82925490ffdf46d4bd8b3e6eb4f45a38": {
      "model_module": "@jupyter-widgets/controls",
      "model_module_version": "1.5.0",
      "model_name": "VBoxModel",
      "state": {
       "children": [
        "IPY_MODEL_0cafddcc796d4089bc56050bf783ee05",
        "IPY_MODEL_79ab0c7fee2f4323ad7843d7831b1989",
        "IPY_MODEL_dc5681902d8a4539819eafcd727bce4a",
        "IPY_MODEL_46a19584624c4649b214651d3cce6d86",
        "IPY_MODEL_b6d40ec29f3249f6993cb2bcc2798f2a",
        "IPY_MODEL_fa11ec7801e842929881625d510921a9"
       ],
       "layout": "IPY_MODEL_ea5013356dc948febde87f469addf559"
      }
     },
     "83555a08030a47e8b732c65f10a7469a": {
      "model_module": "@jupyter-widgets/base",
      "model_module_version": "1.2.0",
      "model_name": "LayoutModel",
      "state": {}
     },
     "836c8b14cc254b58b18e2eb263f1a932": {
      "model_module": "@jupyter-widgets/controls",
      "model_module_version": "1.5.0",
      "model_name": "LabelModel",
      "state": {
       "layout": "IPY_MODEL_1e8c1bcd27c1470783979545c7065b95",
       "style": "IPY_MODEL_cedf746d09e249b78e70caf212b3054d"
      }
     },
     "83c18b8cfe5d4b62b98dda5a48942736": {
      "model_module": "@jupyter-widgets/base",
      "model_module_version": "1.2.0",
      "model_name": "LayoutModel",
      "state": {
       "width": "30px"
      }
     },
     "842ecd40ef784b1495d4e1e1aeb63998": {
      "model_module": "@jupyter-widgets/controls",
      "model_module_version": "1.5.0",
      "model_name": "LabelModel",
      "state": {
       "layout": "IPY_MODEL_3838b152337a4559a787871729b15b22",
       "style": "IPY_MODEL_46d09a12d8de4b86a96f7fea52ea43f2"
      }
     },
     "8480330991b24edfa818f85fa5db2871": {
      "model_module": "@jupyter-widgets/base",
      "model_module_version": "1.2.0",
      "model_name": "LayoutModel",
      "state": {}
     },
     "848190698c02420ea09dfcf854326233": {
      "model_module": "@jupyter-widgets/controls",
      "model_module_version": "1.5.0",
      "model_name": "DescriptionStyleModel",
      "state": {
       "description_width": "initial"
      }
     },
     "857df0fecd054ffda7ff63064eb3bff1": {
      "model_module": "@jupyter-widgets/controls",
      "model_module_version": "1.5.0",
      "model_name": "HBoxModel",
      "state": {
       "children": [
        "IPY_MODEL_06609ede98794f678d7c299c3bc920b2",
        "IPY_MODEL_a1293928a36945a793d03e3a876f603e"
       ],
       "layout": "IPY_MODEL_56072f95082f4fca974769f5f7b53adc"
      }
     },
     "8590bcac84cd4f7e936fe1755bb2f560": {
      "model_module": "@jupyter-widgets/controls",
      "model_module_version": "1.5.0",
      "model_name": "DescriptionStyleModel",
      "state": {
       "description_width": ""
      }
     },
     "85de388dbc0f4f97aef13f81e29429a2": {
      "model_module": "@jupyter-widgets/controls",
      "model_module_version": "1.5.0",
      "model_name": "DescriptionStyleModel",
      "state": {
       "description_width": ""
      }
     },
     "85e0cbca8a6b4fd8a7322520ca90b062": {
      "model_module": "@jupyter-widgets/base",
      "model_module_version": "1.2.0",
      "model_name": "LayoutModel",
      "state": {}
     },
     "868c7b2cc25c4a91be1cb1569509f105": {
      "model_module": "@jupyter-widgets/controls",
      "model_module_version": "1.5.0",
      "model_name": "DescriptionStyleModel",
      "state": {
       "description_width": ""
      }
     },
     "871b8228f16d4aeb8cac9d6947395bda": {
      "model_module": "@jupyter-widgets/controls",
      "model_module_version": "1.5.0",
      "model_name": "HBoxModel",
      "state": {
       "children": [
        "IPY_MODEL_529f07c3989c4de88a9f7e0edfd398c3",
        "IPY_MODEL_2a0bd13fadb14e3da288da2a1b944614"
       ],
       "layout": "IPY_MODEL_372c380eab8d4b9cb2cfc1e9bda4a886"
      }
     },
     "87203493d09f4b49ad98a1863ace11e8": {
      "model_module": "@jupyter-widgets/controls",
      "model_module_version": "1.5.0",
      "model_name": "HBoxModel",
      "state": {
       "children": [
        "IPY_MODEL_6a079194573c44a98f6165ef4d2d33b8",
        "IPY_MODEL_b650945a6f2045e4a652584e810bca80"
       ],
       "layout": "IPY_MODEL_0104e608c3c745df85fa9c81acc7a8ed"
      }
     },
     "88935d7173104f509e3be862e8c8e7f9": {
      "model_module": "@jupyter-widgets/base",
      "model_module_version": "1.2.0",
      "model_name": "LayoutModel",
      "state": {}
     },
     "88a6189fcf3f431e8c8b53571adf688b": {
      "model_module": "@jupyter-widgets/controls",
      "model_module_version": "1.5.0",
      "model_name": "LabelModel",
      "state": {
       "layout": "IPY_MODEL_15cf6f88e4954c82a724a66ed3b6e067",
       "style": "IPY_MODEL_16b31c7fcdd740d18bb2f613331c1739",
       "value": "inductive"
      }
     },
     "88f8f97696464fd1a8cfab9db829fcaa": {
      "model_module": "@jupyter-widgets/base",
      "model_module_version": "1.2.0",
      "model_name": "LayoutModel",
      "state": {}
     },
     "89672f0a4c2348979190a898042a519a": {
      "model_module": "@jupyter-widgets/controls",
      "model_module_version": "1.5.0",
      "model_name": "CheckboxModel",
      "state": {
       "disabled": false,
       "layout": "IPY_MODEL_3881f3fc164a46aab8d75ed53b0cee4c",
       "style": "IPY_MODEL_b5e9558143c2478f8667b247845c31d5",
       "value": false
      }
     },
     "899e8d84014b4834b0e2f256bd04fcdd": {
      "model_module": "@jupyter-widgets/controls",
      "model_module_version": "1.5.0",
      "model_name": "DescriptionStyleModel",
      "state": {
       "description_width": ""
      }
     },
     "89c916e1611e4d9fab0c078bba20ce0f": {
      "model_module": "@jupyter-widgets/controls",
      "model_module_version": "1.5.0",
      "model_name": "HBoxModel",
      "state": {
       "children": [
        "IPY_MODEL_7643d7e98e254ab68efeb9d981f5c98f",
        "IPY_MODEL_1e8ecf6f73a249ef976ac67f43810029"
       ],
       "layout": "IPY_MODEL_2ab80dbba7d84e0d998d48b4c143d939"
      }
     },
     "8a61b5ca4f434f6abcddd51e7602cf7a": {
      "model_module": "@jupyter-widgets/controls",
      "model_module_version": "1.5.0",
      "model_name": "DescriptionStyleModel",
      "state": {
       "description_width": ""
      }
     },
     "8a7fcf5e8aea4883a0d97eafdd70df92": {
      "model_module": "@jupyter-widgets/base",
      "model_module_version": "1.2.0",
      "model_name": "LayoutModel",
      "state": {}
     },
     "8a9f630104fd4c1bb88dd349611ebc1e": {
      "model_module": "@jupyter-widgets/controls",
      "model_module_version": "1.5.0",
      "model_name": "ButtonStyleModel",
      "state": {
       "button_color": "lightblue"
      }
     },
     "8ad1a3a83a6d47fc985048fdaab1c760": {
      "model_module": "@jupyter-widgets/controls",
      "model_module_version": "1.5.0",
      "model_name": "LabelModel",
      "state": {
       "layout": "IPY_MODEL_dda6770549d54de4880370f29aa3f9cc",
       "style": "IPY_MODEL_868c7b2cc25c4a91be1cb1569509f105",
       "value": "The term 'dynamic' is used to indicate that time plays a role."
      }
     },
     "8cae2b505516450fa4730d3e73d871ec": {
      "model_module": "@jupyter-widgets/controls",
      "model_module_version": "1.5.0",
      "model_name": "HBoxModel",
      "state": {
       "children": [
        "IPY_MODEL_cea1b7c4341d4c7f8ff94a5a33d117af",
        "IPY_MODEL_ddb86286590d4a3293e3ef07beca513e"
       ],
       "layout": "IPY_MODEL_07fbc70efd694358a71a339168805730"
      }
     },
     "8d17f08e087e4b3fad5448f5ce8cece9": {
      "model_module": "@jupyter-widgets/base",
      "model_module_version": "1.2.0",
      "model_name": "LayoutModel",
      "state": {
       "width": "1000px"
      }
     },
     "8d6f007e3b164124a8344fc2a162991e": {
      "model_module": "@jupyter-widgets/base",
      "model_module_version": "1.2.0",
      "model_name": "LayoutModel",
      "state": {
       "display": "none"
      }
     },
     "8e801b6c90654980ae3492e0c67c03da": {
      "model_module": "@jupyter-widgets/base",
      "model_module_version": "1.2.0",
      "model_name": "LayoutModel",
      "state": {
       "width": "30px"
      }
     },
     "8f7c1115f6ca416b8503597c12d5bad8": {
      "model_module": "@jupyter-widgets/controls",
      "model_module_version": "1.5.0",
      "model_name": "DescriptionStyleModel",
      "state": {
       "description_width": ""
      }
     },
     "8faa48e4d90d4595895f155396fb2d94": {
      "model_module": "@jupyter-widgets/controls",
      "model_module_version": "1.5.0",
      "model_name": "VBoxModel",
      "state": {
       "children": [
        "IPY_MODEL_a6c5fbca1cc04897afc69cc459c2cbda",
        "IPY_MODEL_5921ae69c28b4e609deecfa6b2643e62",
        "IPY_MODEL_2a6a396af7b44f449fc45e7d974f3ccd",
        "IPY_MODEL_05199dd791d247e5a23ed50a6f54fc31",
        "IPY_MODEL_cd10eb650aa840c98b8f6cc6acfac1c4"
       ],
       "layout": "IPY_MODEL_9463c147c6744834a3df72b53a16c575"
      }
     },
     "8fb0cc282fd845619ff890fac7f61327": {
      "model_module": "@jupyter-widgets/base",
      "model_module_version": "1.2.0",
      "model_name": "LayoutModel",
      "state": {
       "width": "1000px"
      }
     },
     "90695b4582a74cbdbeec96c592823bc9": {
      "model_module": "@jupyter-widgets/controls",
      "model_module_version": "1.5.0",
      "model_name": "DescriptionStyleModel",
      "state": {
       "description_width": ""
      }
     },
     "9075ccd893f54b0cb777a303eb82ab3a": {
      "model_module": "@jupyter-widgets/base",
      "model_module_version": "1.2.0",
      "model_name": "LayoutModel",
      "state": {}
     },
     "90a9745c46b54bdaa84957d43c5f1087": {
      "model_module": "@jupyter-widgets/controls",
      "model_module_version": "1.5.0",
      "model_name": "DescriptionStyleModel",
      "state": {
       "description_width": "initial"
      }
     },
     "910bafe582614b12878e57a09bd11416": {
      "model_module": "@jupyter-widgets/controls",
      "model_module_version": "1.5.0",
      "model_name": "DescriptionStyleModel",
      "state": {
       "description_width": "initial"
      }
     },
     "9112bd5b468045b6975b704d0d2abaec": {
      "model_module": "@jupyter-widgets/controls",
      "model_module_version": "1.5.0",
      "model_name": "DescriptionStyleModel",
      "state": {
       "description_width": ""
      }
     },
     "9131445995a44625a8f221d76aee70b5": {
      "model_module": "@jupyter-widgets/base",
      "model_module_version": "1.2.0",
      "model_name": "LayoutModel",
      "state": {}
     },
     "913758598b0c4e90bc42ad35c0394d00": {
      "model_module": "@jupyter-widgets/controls",
      "model_module_version": "1.5.0",
      "model_name": "DescriptionStyleModel",
      "state": {
       "description_width": "initial"
      }
     },
     "91617da55af8442da19d65f172f0cec0": {
      "model_module": "@jupyter-widgets/controls",
      "model_module_version": "1.5.0",
      "model_name": "HBoxModel",
      "state": {
       "children": [
        "IPY_MODEL_cd5509917f0d41d7aebd50f8d7437731",
        "IPY_MODEL_c0624cc034b4452dbf9f326c8ed5e6a7"
       ],
       "layout": "IPY_MODEL_00e35369806f4438b7a37b07db74d46b"
      }
     },
     "91a6709cf3ff417f957af18848701144": {
      "model_module": "@jupyter-widgets/base",
      "model_module_version": "1.2.0",
      "model_name": "LayoutModel",
      "state": {}
     },
     "92372626722e496a83a746b4f8faa4b0": {
      "model_module": "@jupyter-widgets/base",
      "model_module_version": "1.2.0",
      "model_name": "LayoutModel",
      "state": {}
     },
     "9260206f64ae42e0b00ad2d6e1ce23dd": {
      "model_module": "@jupyter-widgets/controls",
      "model_module_version": "1.5.0",
      "model_name": "LabelModel",
      "state": {
       "layout": "IPY_MODEL_af3f14d07c8145838bd8ee742a0d2415",
       "style": "IPY_MODEL_330afeb969444881bd02c203c31effe8",
       "value": "p"
      }
     },
     "930fbbc630a045f4b3aee38e69b69d4a": {
      "model_module": "@jupyter-widgets/base",
      "model_module_version": "1.2.0",
      "model_name": "LayoutModel",
      "state": {
       "grid_area": "left-sidebar"
      }
     },
     "9365c1deeaf041c2ad89e3ebdfb31aeb": {
      "model_module": "@jupyter-widgets/controls",
      "model_module_version": "1.5.0",
      "model_name": "HBoxModel",
      "state": {
       "children": [
        "IPY_MODEL_dd866a7b34b646a68711a7158131d02f",
        "IPY_MODEL_5642a67d4fd84804a7868fc0094ecd49",
        "IPY_MODEL_471f55d29a924b7baecc6a1575b2a55a"
       ],
       "layout": "IPY_MODEL_4b4387afdae54dec90a98f431626563a"
      }
     },
     "9384286434124b8fbb2825aeec16d180": {
      "model_module": "@jupyter-widgets/controls",
      "model_module_version": "1.5.0",
      "model_name": "DescriptionStyleModel",
      "state": {
       "description_width": ""
      }
     },
     "943b3f9ec0c847aeb235d6e7743fde6f": {
      "model_module": "@jupyter-widgets/controls",
      "model_module_version": "1.5.0",
      "model_name": "DescriptionStyleModel",
      "state": {
       "description_width": ""
      }
     },
     "9463c147c6744834a3df72b53a16c575": {
      "model_module": "@jupyter-widgets/base",
      "model_module_version": "1.2.0",
      "model_name": "LayoutModel",
      "state": {
       "grid_area": "left-sidebar"
      }
     },
     "94ad9d9fa33e4397aa3eecdba13c0403": {
      "model_module": "@jupyter-widgets/controls",
      "model_module_version": "1.5.0",
      "model_name": "HBoxModel",
      "state": {
       "children": [
        "IPY_MODEL_c1ba5091e20a4721a43129049f2202fa",
        "IPY_MODEL_bcb08119490b4f9080fe15faafa52362"
       ],
       "layout": "IPY_MODEL_a7b835a9a5134eb2bebd3d48536d8971"
      }
     },
     "94f31fc9bc9b4666b2bfb2bcc44fcdd5": {
      "model_module": "@jupyter-widgets/controls",
      "model_module_version": "1.5.0",
      "model_name": "DescriptionStyleModel",
      "state": {
       "description_width": ""
      }
     },
     "950e190840fc4dac96d2a81906bee6e5": {
      "model_module": "@jupyter-widgets/base",
      "model_module_version": "1.2.0",
      "model_name": "LayoutModel",
      "state": {
       "width": "1000px"
      }
     },
     "9545bad88a8c40fa8ff89c7072b6e04e": {
      "model_module": "@jupyter-widgets/base",
      "model_module_version": "1.2.0",
      "model_name": "LayoutModel",
      "state": {
       "align_items": "stretch",
       "display": "flex",
       "flex_flow": "row wrap",
       "grid_area": "footer",
       "margin": "30px 0 0 0"
      }
     },
     "95b011a54cbc434a82904f0b0b426ce2": {
      "model_module": "@jupyter-widgets/base",
      "model_module_version": "1.2.0",
      "model_name": "LayoutModel",
      "state": {
       "width": "1000px"
      }
     },
     "95f0d8a54dac420390a242f4491a839f": {
      "model_module": "@jupyter-widgets/controls",
      "model_module_version": "1.5.0",
      "model_name": "ButtonModel",
      "state": {
       "description": "Submit",
       "layout": "IPY_MODEL_b82add83a30347b096a912cf9ac69744",
       "style": "IPY_MODEL_fe693fde9014435896afa7d2c81765fb"
      }
     },
     "960e35f07c934fc9a286694c587ae955": {
      "model_module": "@jupyter-widgets/base",
      "model_module_version": "1.2.0",
      "model_name": "LayoutModel",
      "state": {}
     },
     "9635fdc531d64076844b52e33d9750b3": {
      "model_module": "@jupyter-widgets/base",
      "model_module_version": "1.2.0",
      "model_name": "LayoutModel",
      "state": {
       "width": "30px"
      }
     },
     "96383d2e845d424aa5a2910ad15bf442": {
      "model_module": "@jupyter-widgets/controls",
      "model_module_version": "1.5.0",
      "model_name": "DescriptionStyleModel",
      "state": {
       "description_width": "initial"
      }
     },
     "96edf85a6fc3443eb4f5c03cb68820b9": {
      "model_module": "@jupyter-widgets/controls",
      "model_module_version": "1.5.0",
      "model_name": "DescriptionStyleModel",
      "state": {
       "description_width": "initial"
      }
     },
     "971fb5c8c6c84f07831b7c6bd2e051dc": {
      "model_module": "@jupyter-widgets/base",
      "model_module_version": "1.2.0",
      "model_name": "LayoutModel",
      "state": {
       "align_items": "stretch",
       "display": "flex",
       "flex_flow": "row wrap",
       "grid_area": "header",
       "margin": "0 0 30px 0",
       "width": "100%"
      }
     },
     "9741ce1372af4cc7a7a867552d937da0": {
      "model_module": "@jupyter-widgets/controls",
      "model_module_version": "1.5.0",
      "model_name": "HBoxModel",
      "state": {
       "children": [
        "IPY_MODEL_fc274a710aa443ae8625357eaa98b3e8",
        "IPY_MODEL_0871a542b080406f8134cd179a5a07eb"
       ],
       "layout": "IPY_MODEL_339a74e7e5944ee3ae269a857e65cb45"
      }
     },
     "97b3be8fe69d402381d452b826380fb0": {
      "model_module": "@jupyter-widgets/base",
      "model_module_version": "1.2.0",
      "model_name": "LayoutModel",
      "state": {
       "width": "30px"
      }
     },
     "9822ca043e5344fc9b8a4a91afa46fe6": {
      "model_module": "@jupyter-widgets/controls",
      "model_module_version": "1.5.0",
      "model_name": "DescriptionStyleModel",
      "state": {
       "description_width": ""
      }
     },
     "9877fdc3ee744815aacdf6cf1a7b7c4f": {
      "model_module": "@jupyter-widgets/controls",
      "model_module_version": "1.5.0",
      "model_name": "LabelModel",
      "state": {
       "layout": "IPY_MODEL_c4ca46a2978041c79637f97feb8dfb36",
       "style": "IPY_MODEL_7b67f0165cbb4516a98ba81206f84788",
       "value": "Which terms describe the algorithm above?"
      }
     },
     "98bd9a4dcba540b7bc6474e0ab43f116": {
      "model_module": "@jupyter-widgets/controls",
      "model_module_version": "1.5.0",
      "model_name": "ButtonModel",
      "state": {
       "description": "Submit",
       "layout": "IPY_MODEL_69ccca4bf17c4e26bf8d09834bfe7428",
       "style": "IPY_MODEL_598dea6998a44155a1af604c581e862e"
      }
     },
     "990dc0440bf14f8c8cc60dbe1062eef5": {
      "model_module": "@jupyter-widgets/base",
      "model_module_version": "1.2.0",
      "model_name": "LayoutModel",
      "state": {}
     },
     "995f421b879042a790728ddc30c1a3a6": {
      "model_module": "@jupyter-widgets/base",
      "model_module_version": "1.2.0",
      "model_name": "LayoutModel",
      "state": {
       "height": "50%",
       "margin": "0 0 0 30px",
       "width": "50%"
      }
     },
     "99916a643b9a4252a6d7114c2ea4aef1": {
      "model_module": "@jupyter-widgets/controls",
      "model_module_version": "1.5.0",
      "model_name": "HBoxModel",
      "state": {
       "children": [
        "IPY_MODEL_bdb215f75e5e4f8a90580f831ed14d8e",
        "IPY_MODEL_27d4467d2f234d0e93b8690f70187cb8"
       ],
       "layout": "IPY_MODEL_627fbdf2e3fb4bb199b65b02d0d6647b"
      }
     },
     "99a540461e554bb6acc3d7638b895537": {
      "model_module": "@jupyter-widgets/controls",
      "model_module_version": "1.5.0",
      "model_name": "DescriptionStyleModel",
      "state": {
       "description_width": "initial"
      }
     },
     "9a33d3c928614a558c519daf3d9bfefc": {
      "model_module": "@jupyter-widgets/controls",
      "model_module_version": "1.5.0",
      "model_name": "LabelModel",
      "state": {
       "layout": "IPY_MODEL_b8de25db21754fe5a1381913e4334e81",
       "style": "IPY_MODEL_a3d75ef187c2480c9c0ef12f8a49f7f7"
      }
     },
     "9a3cc8c98feb43b88d54d93347c9a22f": {
      "model_module": "@jupyter-widgets/controls",
      "model_module_version": "1.5.0",
      "model_name": "ButtonStyleModel",
      "state": {
       "button_color": "lightblue"
      }
     },
     "9a42ffaa7721415197df7558422401e9": {
      "model_module": "@jupyter-widgets/controls",
      "model_module_version": "1.5.0",
      "model_name": "CheckboxModel",
      "state": {
       "disabled": false,
       "layout": "IPY_MODEL_5c0dee69acb64153ac469a316d42668d",
       "style": "IPY_MODEL_b5d276c8d9804f97abee98ab0b511c38",
       "value": false
      }
     },
     "9a548fc00b1c4a0d8c69d5b39ca3faf3": {
      "model_module": "@jupyter-widgets/base",
      "model_module_version": "1.2.0",
      "model_name": "LayoutModel",
      "state": {
       "align_items": "stretch",
       "display": "flex",
       "flex_flow": "row wrap",
       "grid_area": "header",
       "margin": "0 0 30px 0",
       "width": "100%"
      }
     },
     "9a8b12f4fe8044b885c6430d7385541a": {
      "model_module": "@jupyter-widgets/controls",
      "model_module_version": "1.5.0",
      "model_name": "CheckboxModel",
      "state": {
       "disabled": false,
       "layout": "IPY_MODEL_a56569c086174cbd902d8761ec78c4d5",
       "style": "IPY_MODEL_ffa13c58acc9455888efc7ca0454fb1d",
       "value": false
      }
     },
     "9affcae88e6b4c539842284122f27b52": {
      "model_module": "@jupyter-widgets/controls",
      "model_module_version": "1.5.0",
      "model_name": "DescriptionStyleModel",
      "state": {
       "description_width": ""
      }
     },
     "9b511a85c0e3430381ea1d54a17572b6": {
      "model_module": "@jupyter-widgets/base",
      "model_module_version": "1.2.0",
      "model_name": "LayoutModel",
      "state": {}
     },
     "9c357a49ffe64aa08dc26b9bc814a8a2": {
      "model_module": "@jupyter-widgets/base",
      "model_module_version": "1.2.0",
      "model_name": "LayoutModel",
      "state": {
       "width": "1000px"
      }
     },
     "9c920ba53ed04d7ca8650d9f2f5eabb0": {
      "model_module": "@jupyter-widgets/controls",
      "model_module_version": "1.5.0",
      "model_name": "LabelModel",
      "state": {
       "layout": "IPY_MODEL_e93e5b35489744ddba1315e6c5f9725e",
       "style": "IPY_MODEL_31c9229c8b43433aa6eb7651d6b687ef",
       "value": "Dynamic programming is concerned with planning a process that has multiple stages."
      }
     },
     "9cad4eb96bae49428f8ded1d1d9185e7": {
      "model_module": "@jupyter-widgets/controls",
      "model_module_version": "1.5.0",
      "model_name": "HBoxModel",
      "state": {
       "children": [
        "IPY_MODEL_4f1d235447df4598b4e30d6bb9af1d55"
       ],
       "layout": "IPY_MODEL_35772a951cc34c7fa159b1fe22f7a3fc"
      }
     },
     "9cb2cb18e1fb4ef78cb85a079b9eb216": {
      "model_module": "@jupyter-widgets/base",
      "model_module_version": "1.2.0",
      "model_name": "LayoutModel",
      "state": {
       "height": "50%",
       "margin": "0 0 0 30px",
       "width": "50%"
      }
     },
     "9d2abd21341841558c6d8abcdf023e3c": {
      "model_module": "@jupyter-widgets/base",
      "model_module_version": "1.2.0",
      "model_name": "LayoutModel",
      "state": {}
     },
     "9dafd4dd4d114966884a0afba4de23c0": {
      "model_module": "@jupyter-widgets/controls",
      "model_module_version": "1.5.0",
      "model_name": "DescriptionStyleModel",
      "state": {
       "description_width": ""
      }
     },
     "9dd824085a84435eb38dcf58d6d9b2cb": {
      "model_module": "@jupyter-widgets/base",
      "model_module_version": "1.2.0",
      "model_name": "LayoutModel",
      "state": {}
     },
     "9deae5f1b0dc4ca0ae8a807418201963": {
      "model_module": "@jupyter-widgets/controls",
      "model_module_version": "1.5.0",
      "model_name": "HBoxModel",
      "state": {
       "children": [
        "IPY_MODEL_23cc5d80a6da440dba9c014d52b76815",
        "IPY_MODEL_46780a5d9da745f2b08852d9f3b656af"
       ],
       "layout": "IPY_MODEL_7a70d7d5847847939e7dca8a3e1388a9"
      }
     },
     "9e3939f8e3ec45a0982a203c40b077b7": {
      "model_module": "@jupyter-widgets/base",
      "model_module_version": "1.2.0",
      "model_name": "LayoutModel",
      "state": {}
     },
     "9f8aeae2129c4db8b8718c3ee95f23c4": {
      "model_module": "@jupyter-widgets/base",
      "model_module_version": "1.2.0",
      "model_name": "LayoutModel",
      "state": {}
     },
     "9fd44ea5f3d54b018c7c1f17276e50c9": {
      "model_module": "@jupyter-widgets/controls",
      "model_module_version": "1.5.0",
      "model_name": "LabelModel",
      "state": {
       "layout": "IPY_MODEL_486014b023f94c888bb30791ff71bfc3",
       "style": "IPY_MODEL_aa7550c25f184f21b44a8c28dc12a4d4",
       "value": "p"
      }
     },
     "a0bfd2133f9e497caa2fddc24eec5b99": {
      "model_module": "@jupyter-widgets/base",
      "model_module_version": "1.2.0",
      "model_name": "LayoutModel",
      "state": {
       "height": "50%",
       "margin": "0 0 0 30px",
       "width": "50%"
      }
     },
     "a0cab9d7804b4b6f85d34bcc04c00715": {
      "model_module": "@jupyter-widgets/base",
      "model_module_version": "1.2.0",
      "model_name": "LayoutModel",
      "state": {
       "width": "1000px"
      }
     },
     "a0d0e84153fe4e22ac475b6943bfddd3": {
      "model_module": "@jupyter-widgets/controls",
      "model_module_version": "1.5.0",
      "model_name": "LabelModel",
      "state": {
       "layout": "IPY_MODEL_23c7080779aa4cb1ae609988e1020033",
       "style": "IPY_MODEL_0ca147af264b441f8a2975d6fbbfdb77"
      }
     },
     "a10e4c31dde34f42acf0fd9f74c94abc": {
      "model_module": "@jupyter-widgets/controls",
      "model_module_version": "1.5.0",
      "model_name": "LabelModel",
      "state": {
       "layout": "IPY_MODEL_67a8e06e0521488a8f7ac836e8c6be1a",
       "style": "IPY_MODEL_562bad8e66f34b35803e48273c74730c"
      }
     },
     "a1293928a36945a793d03e3a876f603e": {
      "model_module": "@jupyter-widgets/controls",
      "model_module_version": "1.5.0",
      "model_name": "HBoxModel",
      "state": {
       "children": [
        "IPY_MODEL_d59d4e21b51745f4a22f101651c36efa",
        "IPY_MODEL_9260206f64ae42e0b00ad2d6e1ce23dd"
       ],
       "layout": "IPY_MODEL_88935d7173104f509e3be862e8c8e7f9"
      }
     },
     "a13bf134b5424cf7a3504487e85f1bc2": {
      "model_module": "@jupyter-widgets/controls",
      "model_module_version": "1.5.0",
      "model_name": "DescriptionStyleModel",
      "state": {
       "description_width": ""
      }
     },
     "a1e87ef33ba34bc38a48b4347504def6": {
      "model_module": "@jupyter-widgets/controls",
      "model_module_version": "1.5.0",
      "model_name": "ButtonStyleModel",
      "state": {
       "button_color": "lightblue"
      }
     },
     "a23141770756447e9f5b805938cf8864": {
      "model_module": "@jupyter-widgets/controls",
      "model_module_version": "1.5.0",
      "model_name": "LabelModel",
      "state": {
       "layout": "IPY_MODEL_ecc26f35d2924a9eb99d9429eec99b69",
       "style": "IPY_MODEL_b0c4b42af57b48dfa3a4451fb1bd1726",
       "value": "In dynamic programming, the outcomes of each operation in a process are independant."
      }
     },
     "a2ce6275bc644d27aa7d91809d478308": {
      "model_module": "@jupyter-widgets/base",
      "model_module_version": "1.2.0",
      "model_name": "LayoutModel",
      "state": {}
     },
     "a31fc05034a146408296402affde6968": {
      "model_module": "@jupyter-widgets/controls",
      "model_module_version": "1.5.0",
      "model_name": "LabelModel",
      "state": {
       "layout": "IPY_MODEL_e2cbbab74ae44685830967e0d55403de",
       "style": "IPY_MODEL_2e524374afd046949375c1f4673f9f92",
       "value": "Dynamic programming is concerned with planning a process that has multiple stages."
      }
     },
     "a38ac81494db442e9e5c1fa2f28a03b1": {
      "model_module": "@jupyter-widgets/controls",
      "model_module_version": "1.5.0",
      "model_name": "CheckboxModel",
      "state": {
       "disabled": false,
       "layout": "IPY_MODEL_cbfeedc3c2ae4f0688e5e56332491277",
       "style": "IPY_MODEL_ca20dddeb3f0426495f9b635dbc5ab32",
       "value": false
      }
     },
     "a3a5f7f5857b41328b48d4c3e89c0874": {
      "model_module": "@jupyter-widgets/base",
      "model_module_version": "1.2.0",
      "model_name": "LayoutModel",
      "state": {
       "height": "50%",
       "margin": "0 0 0 30px",
       "width": "50%"
      }
     },
     "a3d75ef187c2480c9c0ef12f8a49f7f7": {
      "model_module": "@jupyter-widgets/controls",
      "model_module_version": "1.5.0",
      "model_name": "DescriptionStyleModel",
      "state": {
       "description_width": ""
      }
     },
     "a47fba6e80fe4bb188c4c76af0fae8cb": {
      "model_module": "@jupyter-widgets/controls",
      "model_module_version": "1.5.0",
      "model_name": "CheckboxModel",
      "state": {
       "disabled": false,
       "layout": "IPY_MODEL_53c87d538a5b41a182404ae520601c64",
       "style": "IPY_MODEL_0233d19a0c5343d9a8f34d3abd177358",
       "value": false
      }
     },
     "a4f82c86271c435bb17119d30410c6d6": {
      "model_module": "@jupyter-widgets/controls",
      "model_module_version": "1.5.0",
      "model_name": "DescriptionStyleModel",
      "state": {
       "description_width": ""
      }
     },
     "a555c54960bf41b9bbca91667c791486": {
      "model_module": "@jupyter-widgets/base",
      "model_module_version": "1.2.0",
      "model_name": "LayoutModel",
      "state": {}
     },
     "a561fba92b344364a1ed6b823fe936a3": {
      "model_module": "@jupyter-widgets/controls",
      "model_module_version": "1.5.0",
      "model_name": "DescriptionStyleModel",
      "state": {
       "description_width": ""
      }
     },
     "a56569c086174cbd902d8761ec78c4d5": {
      "model_module": "@jupyter-widgets/base",
      "model_module_version": "1.2.0",
      "model_name": "LayoutModel",
      "state": {
       "width": "30px"
      }
     },
     "a5ae799fdf4b431da2db4f8a5f2e94df": {
      "model_module": "@jupyter-widgets/base",
      "model_module_version": "1.2.0",
      "model_name": "LayoutModel",
      "state": {
       "width": "30px"
      }
     },
     "a629e81282f449e9b05ec63ac50c45c5": {
      "model_module": "@jupyter-widgets/controls",
      "model_module_version": "1.5.0",
      "model_name": "HBoxModel",
      "state": {
       "children": [
        "IPY_MODEL_a38ac81494db442e9e5c1fa2f28a03b1",
        "IPY_MODEL_9fd44ea5f3d54b018c7c1f17276e50c9"
       ],
       "layout": "IPY_MODEL_2de071b66af040aa97cac25b5c00899d"
      }
     },
     "a6c5fbca1cc04897afc69cc459c2cbda": {
      "model_module": "@jupyter-widgets/controls",
      "model_module_version": "1.5.0",
      "model_name": "HBoxModel",
      "state": {
       "children": [
        "IPY_MODEL_ebf42b69184542df8d93cd792ba6fe16",
        "IPY_MODEL_e7fc2200f8774ca2b18f70a2751d3326"
       ],
       "layout": "IPY_MODEL_5ef2f0b6881f496b90a740a42346f806"
      }
     },
     "a735cb85475540a8b4d0642bbf5361b1": {
      "model_module": "@jupyter-widgets/base",
      "model_module_version": "1.2.0",
      "model_name": "LayoutModel",
      "state": {}
     },
     "a7abbc69e89f4d6ebdff8ad209e5b944": {
      "model_module": "@jupyter-widgets/base",
      "model_module_version": "1.2.0",
      "model_name": "LayoutModel",
      "state": {}
     },
     "a7b68e50fd8a4952aafc047e61a4fcd5": {
      "model_module": "@jupyter-widgets/base",
      "model_module_version": "1.2.0",
      "model_name": "LayoutModel",
      "state": {
       "width": "30px"
      }
     },
     "a7b835a9a5134eb2bebd3d48536d8971": {
      "model_module": "@jupyter-widgets/base",
      "model_module_version": "1.2.0",
      "model_name": "LayoutModel",
      "state": {}
     },
     "a7fa9bc7b8b04b81b04696d2a07ca4ab": {
      "model_module": "@jupyter-widgets/base",
      "model_module_version": "1.2.0",
      "model_name": "LayoutModel",
      "state": {}
     },
     "a7ff689056ac49eba507cfa9362b9ab5": {
      "model_module": "@jupyter-widgets/controls",
      "model_module_version": "1.5.0",
      "model_name": "DescriptionStyleModel",
      "state": {
       "description_width": ""
      }
     },
     "a836e08a2d9b45f59fe36da6b23fe6f9": {
      "model_module": "@jupyter-widgets/base",
      "model_module_version": "1.2.0",
      "model_name": "LayoutModel",
      "state": {}
     },
     "a841ea65afbd40498d960f11a7331827": {
      "model_module": "@jupyter-widgets/controls",
      "model_module_version": "1.5.0",
      "model_name": "HBoxModel",
      "state": {
       "children": [
        "IPY_MODEL_0e0adffee5ab45468612e185a0f3ced1",
        "IPY_MODEL_bc8f10bfe42f4ad3bc214fb0a6a403ca",
        "IPY_MODEL_65bdf7112c264974bfd551b2f3b45b1e"
       ],
       "layout": "IPY_MODEL_1aa7c39b8b154240b468900eae99eedf"
      }
     },
     "a8889798b9704531920659458be8f62f": {
      "model_module": "@jupyter-widgets/controls",
      "model_module_version": "1.5.0",
      "model_name": "DescriptionStyleModel",
      "state": {
       "description_width": "initial"
      }
     },
     "a8f69ce883fe4ad9a6c6743160265873": {
      "model_module": "@jupyter-widgets/controls",
      "model_module_version": "1.5.0",
      "model_name": "LabelModel",
      "state": {
       "layout": "IPY_MODEL_2f37ced32b0141f88a9312c6f5a32d33",
       "style": "IPY_MODEL_e64582365bce4cbbb3626d72ee86eb7b"
      }
     },
     "a91579afff634377a1dcf27b7805f379": {
      "model_module": "@jupyter-widgets/base",
      "model_module_version": "1.2.0",
      "model_name": "LayoutModel",
      "state": {
       "width": "1000px"
      }
     },
     "a97347598b0f44fd9bdaa1c16fad77c9": {
      "model_module": "@jupyter-widgets/base",
      "model_module_version": "1.2.0",
      "model_name": "LayoutModel",
      "state": {
       "width": "1000px"
      }
     },
     "aa1d0e6f059340138b0708b248880f71": {
      "model_module": "@jupyter-widgets/base",
      "model_module_version": "1.2.0",
      "model_name": "LayoutModel",
      "state": {}
     },
     "aa7550c25f184f21b44a8c28dc12a4d4": {
      "model_module": "@jupyter-widgets/controls",
      "model_module_version": "1.5.0",
      "model_name": "DescriptionStyleModel",
      "state": {
       "description_width": ""
      }
     },
     "aad45bafee98485b96e3101077e6d95c": {
      "model_module": "@jupyter-widgets/base",
      "model_module_version": "1.2.0",
      "model_name": "LayoutModel",
      "state": {}
     },
     "ac276147a77c4a69b424fc54dfd9aff8": {
      "model_module": "@jupyter-widgets/controls",
      "model_module_version": "1.5.0",
      "model_name": "LabelModel",
      "state": {
       "layout": "IPY_MODEL_564203e182d740988bb29caa6caa17ac",
       "style": "IPY_MODEL_1890eb57714c4dd1901c834fe6955cf4"
      }
     },
     "ac2fb1d41db7405c935eabcdb150ad49": {
      "model_module": "@jupyter-widgets/controls",
      "model_module_version": "1.5.0",
      "model_name": "LabelModel",
      "state": {
       "layout": "IPY_MODEL_75f9e104098640f881587ee4c512c205",
       "style": "IPY_MODEL_a4f82c86271c435bb17119d30410c6d6",
       "value": "palindrome"
      }
     },
     "ac5ad7e96dcc46a29cf3de52ef5bd69f": {
      "model_module": "@jupyter-widgets/base",
      "model_module_version": "1.2.0",
      "model_name": "LayoutModel",
      "state": {}
     },
     "ac9441f58e2d486d8095a254993a56d1": {
      "model_module": "@jupyter-widgets/base",
      "model_module_version": "1.2.0",
      "model_name": "LayoutModel",
      "state": {
       "width": "1000px"
      }
     },
     "ad38a1c8c05348e1931910471c90ca13": {
      "model_module": "@jupyter-widgets/controls",
      "model_module_version": "1.5.0",
      "model_name": "DescriptionStyleModel",
      "state": {
       "description_width": ""
      }
     },
     "af3f14d07c8145838bd8ee742a0d2415": {
      "model_module": "@jupyter-widgets/base",
      "model_module_version": "1.2.0",
      "model_name": "LayoutModel",
      "state": {
       "width": "1000px"
      }
     },
     "af42a54ab5ea45a29c4bac1dfeba2610": {
      "model_module": "@jupyter-widgets/controls",
      "model_module_version": "1.5.0",
      "model_name": "DescriptionStyleModel",
      "state": {
       "description_width": ""
      }
     },
     "af51829b9b584714bacafb7c799690b8": {
      "model_module": "@jupyter-widgets/controls",
      "model_module_version": "1.5.0",
      "model_name": "DescriptionStyleModel",
      "state": {
       "description_width": ""
      }
     },
     "afcc773d7c25409a921f6d4a5a7abe00": {
      "model_module": "@jupyter-widgets/base",
      "model_module_version": "1.2.0",
      "model_name": "LayoutModel",
      "state": {}
     },
     "afe100e857ad4a4688b921007d8bedb5": {
      "model_module": "@jupyter-widgets/controls",
      "model_module_version": "1.5.0",
      "model_name": "LabelModel",
      "state": {
       "layout": "IPY_MODEL_9cb2cb18e1fb4ef78cb85a079b9eb216",
       "style": "IPY_MODEL_cdf622bcff694cb7a946f10050cba50c"
      }
     },
     "aff913d8321745f088d25ffac3f3128a": {
      "model_module": "@jupyter-widgets/controls",
      "model_module_version": "1.5.0",
      "model_name": "LabelModel",
      "state": {
       "layout": "IPY_MODEL_d3ec9bf8424e4c9d83d7519d9e1cd7eb",
       "style": "IPY_MODEL_943b3f9ec0c847aeb235d6e7743fde6f"
      }
     },
     "b00e2d84dc834c4bb9c761b9f3a4d499": {
      "model_module": "@jupyter-widgets/base",
      "model_module_version": "1.2.0",
      "model_name": "LayoutModel",
      "state": {}
     },
     "b0507adf19c546cbb1837dba415c87dc": {
      "model_module": "@jupyter-widgets/controls",
      "model_module_version": "1.5.0",
      "model_name": "DescriptionStyleModel",
      "state": {
       "description_width": ""
      }
     },
     "b0c4b42af57b48dfa3a4451fb1bd1726": {
      "model_module": "@jupyter-widgets/controls",
      "model_module_version": "1.5.0",
      "model_name": "DescriptionStyleModel",
      "state": {
       "description_width": ""
      }
     },
     "b11368b4966749d5ac2f7dbe46e167dd": {
      "model_module": "@jupyter-widgets/base",
      "model_module_version": "1.2.0",
      "model_name": "LayoutModel",
      "state": {
       "width": "1000px"
      }
     },
     "b148ed5babf941fc909d1f6a7f11a56b": {
      "model_module": "@jupyter-widgets/base",
      "model_module_version": "1.2.0",
      "model_name": "LayoutModel",
      "state": {
       "width": "30px"
      }
     },
     "b162f4935fef42af8d65b65a227be054": {
      "model_module": "@jupyter-widgets/base",
      "model_module_version": "1.2.0",
      "model_name": "LayoutModel",
      "state": {
       "width": "1000px"
      }
     },
     "b1b0e8eef00d48adb989c9d2fd631cd5": {
      "model_module": "@jupyter-widgets/controls",
      "model_module_version": "1.5.0",
      "model_name": "HBoxModel",
      "state": {
       "children": [
        "IPY_MODEL_aff913d8321745f088d25ffac3f3128a",
        "IPY_MODEL_9deae5f1b0dc4ca0ae8a807418201963"
       ],
       "layout": "IPY_MODEL_a836e08a2d9b45f59fe36da6b23fe6f9"
      }
     },
     "b24582aaca2b41e49c8cd408db68ea9c": {
      "model_module": "@jupyter-widgets/controls",
      "model_module_version": "1.5.0",
      "model_name": "CheckboxModel",
      "state": {
       "disabled": false,
       "layout": "IPY_MODEL_108861f7a560426b9b7a6f67d16ec9e3",
       "style": "IPY_MODEL_913758598b0c4e90bc42ad35c0394d00",
       "value": false
      }
     },
     "b2eb0b3fc04049bcb3a68f7eda2954f8": {
      "model_module": "@jupyter-widgets/controls",
      "model_module_version": "1.5.0",
      "model_name": "LabelModel",
      "state": {
       "layout": "IPY_MODEL_92372626722e496a83a746b4f8faa4b0",
       "style": "IPY_MODEL_ff5cb39b8a61400daa9b6bad00d764ef",
       "value": "Check the statement below that best summarize Richard Bellman's own explanation of the term dynamic programming."
      }
     },
     "b32325e6572840c0b53c2ec42023d216": {
      "model_module": "@jupyter-widgets/base",
      "model_module_version": "1.2.0",
      "model_name": "LayoutModel",
      "state": {}
     },
     "b3384e28289349c49a8fd6594c64a6bc": {
      "model_module": "@jupyter-widgets/controls",
      "model_module_version": "1.5.0",
      "model_name": "LabelModel",
      "state": {
       "layout": "IPY_MODEL_ca33d2fcc26e4b2a8f5635fbb3d9834b",
       "style": "IPY_MODEL_9dafd4dd4d114966884a0afba4de23c0",
       "value": "bottom-up"
      }
     },
     "b388201680a54109afe130b3e63f153b": {
      "model_module": "@jupyter-widgets/controls",
      "model_module_version": "1.5.0",
      "model_name": "HBoxModel",
      "state": {
       "children": [
        "IPY_MODEL_e82777bf0bba45dcb604fe31435527fa",
        "IPY_MODEL_dcfb18ece329449eb5f1fda1bde996ca"
       ],
       "layout": "IPY_MODEL_8a7fcf5e8aea4883a0d97eafdd70df92"
      }
     },
     "b38a0c24c150418eb9be5b7cf009d5fe": {
      "model_module": "@jupyter-widgets/controls",
      "model_module_version": "1.5.0",
      "model_name": "DescriptionStyleModel",
      "state": {
       "description_width": ""
      }
     },
     "b38caf1c57094f1abf0c4e71c62fa521": {
      "model_module": "@jupyter-widgets/controls",
      "model_module_version": "1.5.0",
      "model_name": "DescriptionStyleModel",
      "state": {
       "description_width": ""
      }
     },
     "b5076d5dd83b4bf2be74b2407fb2c15b": {
      "model_module": "@jupyter-widgets/controls",
      "model_module_version": "1.5.0",
      "model_name": "LabelModel",
      "state": {
       "layout": "IPY_MODEL_00fdacfabb9844b79bbc6c230819c570",
       "style": "IPY_MODEL_2c8dfff7b0f749ec97f7ec49b4e99b88"
      }
     },
     "b50f1ba4104847758256fd38756d0e63": {
      "model_module": "@jupyter-widgets/controls",
      "model_module_version": "1.5.0",
      "model_name": "DescriptionStyleModel",
      "state": {
       "description_width": ""
      }
     },
     "b54906f4ba1a48279239d1ee4134b4b2": {
      "model_module": "@jupyter-widgets/controls",
      "model_module_version": "1.5.0",
      "model_name": "CheckboxModel",
      "state": {
       "disabled": false,
       "layout": "IPY_MODEL_c6ee655bfd25408e8faf6b0c959d5260",
       "style": "IPY_MODEL_c2f1f3210da04d1390c476feb7ea956a",
       "value": false
      }
     },
     "b58368996790463ebfcc59abcc168085": {
      "model_module": "@jupyter-widgets/controls",
      "model_module_version": "1.5.0",
      "model_name": "HBoxModel",
      "state": {
       "children": [
        "IPY_MODEL_46561e317f86419bbc84cfa31c38fbcd"
       ],
       "layout": "IPY_MODEL_5bd1429327b2429c853e0145eadd8835"
      }
     },
     "b595ee9374e24f63b6f5b447a7de51e2": {
      "model_module": "@jupyter-widgets/controls",
      "model_module_version": "1.5.0",
      "model_name": "CheckboxModel",
      "state": {
       "disabled": false,
       "layout": "IPY_MODEL_34873e46357746708cf947265b4ba1ba",
       "style": "IPY_MODEL_783b87a8a8b04d5fb49e6847f3d51fc6",
       "value": false
      }
     },
     "b5d276c8d9804f97abee98ab0b511c38": {
      "model_module": "@jupyter-widgets/controls",
      "model_module_version": "1.5.0",
      "model_name": "DescriptionStyleModel",
      "state": {
       "description_width": "initial"
      }
     },
     "b5e9558143c2478f8667b247845c31d5": {
      "model_module": "@jupyter-widgets/controls",
      "model_module_version": "1.5.0",
      "model_name": "DescriptionStyleModel",
      "state": {
       "description_width": "initial"
      }
     },
     "b650945a6f2045e4a652584e810bca80": {
      "model_module": "@jupyter-widgets/controls",
      "model_module_version": "1.5.0",
      "model_name": "HBoxModel",
      "state": {
       "children": [
        "IPY_MODEL_1ff03159e60b4553bbe79e2ea3131f6f",
        "IPY_MODEL_d0e3820a68c045be9ed602a6ce8b2a04"
       ],
       "layout": "IPY_MODEL_e2ae76acbc2640f8a9cb064ff9d8ccdc"
      }
     },
     "b659917d88214e2fb00640be723c2abd": {
      "model_module": "@jupyter-widgets/base",
      "model_module_version": "1.2.0",
      "model_name": "LayoutModel",
      "state": {
       "width": "30px"
      }
     },
     "b6aa6f19b2a942079217c52162a30eb1": {
      "model_module": "@jupyter-widgets/controls",
      "model_module_version": "1.5.0",
      "model_name": "LabelModel",
      "state": {
       "layout": "IPY_MODEL_5d4e732f3cda48fc961dc83527d9c65c",
       "style": "IPY_MODEL_6be803615dcb48df9fe2d779f8875d17",
       "value": "In dynamic programming, the order of performance of operations is not at all important."
      }
     },
     "b6cf76b341b04944bfacde0e228e70f0": {
      "model_module": "@jupyter-widgets/controls",
      "model_module_version": "1.5.0",
      "model_name": "ButtonStyleModel",
      "state": {
       "button_color": "lightblue"
      }
     },
     "b6d40ec29f3249f6993cb2bcc2798f2a": {
      "model_module": "@jupyter-widgets/controls",
      "model_module_version": "1.5.0",
      "model_name": "HBoxModel",
      "state": {
       "children": [
        "IPY_MODEL_2fe39ed93ef14b019bc1358e02d74638",
        "IPY_MODEL_d4143168276c41d29e09f75aec4b33b6"
       ],
       "layout": "IPY_MODEL_50d5f8bd59474aa19bd6ecfd7764cab6"
      }
     },
     "b7d6b4543d5448dab6b82ba65af7ff12": {
      "model_module": "@jupyter-widgets/controls",
      "model_module_version": "1.5.0",
      "model_name": "VBoxModel",
      "state": {
       "children": [
        "IPY_MODEL_2dd520c5c8c2428ea19fb11989441227",
        "IPY_MODEL_87203493d09f4b49ad98a1863ace11e8",
        "IPY_MODEL_4ba227479e7c4df1a62b4188b48f92ae",
        "IPY_MODEL_8cae2b505516450fa4730d3e73d871ec",
        "IPY_MODEL_871b8228f16d4aeb8cac9d6947395bda"
       ],
       "layout": "IPY_MODEL_431671e80bfa48e39ad409ae28222056"
      }
     },
     "b82add83a30347b096a912cf9ac69744": {
      "model_module": "@jupyter-widgets/base",
      "model_module_version": "1.2.0",
      "model_name": "LayoutModel",
      "state": {}
     },
     "b82e13c6c87449f8bca485ced7357637": {
      "model_module": "@jupyter-widgets/base",
      "model_module_version": "1.2.0",
      "model_name": "LayoutModel",
      "state": {
       "width": "1000px"
      }
     },
     "b83dc62449964555868f0b751c97089e": {
      "model_module": "@jupyter-widgets/controls",
      "model_module_version": "1.5.0",
      "model_name": "HBoxModel",
      "state": {
       "children": [
        "IPY_MODEL_b5076d5dd83b4bf2be74b2407fb2c15b",
        "IPY_MODEL_bcd212c02a1440a18e1e6eb81744fe3e"
       ],
       "layout": "IPY_MODEL_47241ce5a075440bb4d0080a5db06f4f"
      }
     },
     "b8de25db21754fe5a1381913e4334e81": {
      "model_module": "@jupyter-widgets/base",
      "model_module_version": "1.2.0",
      "model_name": "LayoutModel",
      "state": {}
     },
     "b9117b6c164743a6b08a41903065efcb": {
      "model_module": "@jupyter-widgets/controls",
      "model_module_version": "1.5.0",
      "model_name": "DescriptionStyleModel",
      "state": {
       "description_width": ""
      }
     },
     "b9650830912a4665b7ba47af040cf006": {
      "model_module": "@jupyter-widgets/base",
      "model_module_version": "1.2.0",
      "model_name": "LayoutModel",
      "state": {}
     },
     "b9fcd24ac7c8415b812927e842ac683a": {
      "model_module": "@jupyter-widgets/controls",
      "model_module_version": "1.5.0",
      "model_name": "DescriptionStyleModel",
      "state": {
       "description_width": "initial"
      }
     },
     "ba7585c0c8544abe81220902e6a7955b": {
      "model_module": "@jupyter-widgets/controls",
      "model_module_version": "1.5.0",
      "model_name": "DescriptionStyleModel",
      "state": {
       "description_width": ""
      }
     },
     "bad318aa152f4d6e8872d8e5e19e6fab": {
      "model_module": "@jupyter-widgets/controls",
      "model_module_version": "1.5.0",
      "model_name": "LabelModel",
      "state": {
       "layout": "IPY_MODEL_48f1bc492abe4bbeab5a587b1b9a815d",
       "style": "IPY_MODEL_4dc5fe2589bb48dfaeabead93819c8e1"
      }
     },
     "bad6bc9134514c6f849ecc4d153b68a3": {
      "model_module": "@jupyter-widgets/controls",
      "model_module_version": "1.5.0",
      "model_name": "DescriptionStyleModel",
      "state": {
       "description_width": "initial"
      }
     },
     "bb5053fef1994c70bfb773d3be7a8f78": {
      "model_module": "@jupyter-widgets/controls",
      "model_module_version": "1.5.0",
      "model_name": "DescriptionStyleModel",
      "state": {
       "description_width": ""
      }
     },
     "bbde744520d14897a00a29c707f95d0e": {
      "model_module": "@jupyter-widgets/controls",
      "model_module_version": "1.5.0",
      "model_name": "DescriptionStyleModel",
      "state": {
       "description_width": ""
      }
     },
     "bc07a7dfa89743e789d578e5624e5447": {
      "model_module": "@jupyter-widgets/base",
      "model_module_version": "1.2.0",
      "model_name": "LayoutModel",
      "state": {}
     },
     "bc4a6433ecd44089aab910e650f4276a": {
      "model_module": "@jupyter-widgets/controls",
      "model_module_version": "1.5.0",
      "model_name": "VBoxModel",
      "state": {
       "children": [
        "IPY_MODEL_1bc4427ba6f24b9c83cc80a1d847935c",
        "IPY_MODEL_1a4867df78f3475996b82faaeb7ae228",
        "IPY_MODEL_89c916e1611e4d9fab0c078bba20ce0f",
        "IPY_MODEL_5b8c30cde947425a92060fa3f60e3232",
        "IPY_MODEL_c1beb99f4e114ce1a9734de9303ef448",
        "IPY_MODEL_b83dc62449964555868f0b751c97089e"
       ],
       "layout": "IPY_MODEL_43f30733e7a94eca8260da55fcc72179"
      }
     },
     "bc8170a8c3e04010b1abe44801d0494b": {
      "model_module": "@jupyter-widgets/controls",
      "model_module_version": "1.5.0",
      "model_name": "HBoxModel",
      "state": {
       "children": [
        "IPY_MODEL_0ade74d6a4c24948ab9901013940c14c",
        "IPY_MODEL_7aad5a5ec5234857944710cebbc9a861"
       ],
       "layout": "IPY_MODEL_ef00c056d4074ce490351a8d22a2e813"
      }
     },
     "bc8f10bfe42f4ad3bc214fb0a6a403ca": {
      "model_module": "@jupyter-widgets/controls",
      "model_module_version": "1.5.0",
      "model_name": "LabelModel",
      "state": {
       "layout": "IPY_MODEL_a3a5f7f5857b41328b48d4c3e89c0874",
       "style": "IPY_MODEL_dece7efb48d146f1acdb73504a9d16d0"
      }
     },
     "bcb08119490b4f9080fe15faafa52362": {
      "model_module": "@jupyter-widgets/controls",
      "model_module_version": "1.5.0",
      "model_name": "LabelModel",
      "state": {
       "layout": "IPY_MODEL_b82e13c6c87449f8bca485ced7357637",
       "style": "IPY_MODEL_bbde744520d14897a00a29c707f95d0e",
       "value": "In dynamic programming, the order of performance of operations is not at all important."
      }
     },
     "bcd212c02a1440a18e1e6eb81744fe3e": {
      "model_module": "@jupyter-widgets/controls",
      "model_module_version": "1.5.0",
      "model_name": "HBoxModel",
      "state": {
       "children": [
        "IPY_MODEL_a47fba6e80fe4bb188c4c76af0fae8cb",
        "IPY_MODEL_720a0f3d57734d6588b6c84409fd9f51"
       ],
       "layout": "IPY_MODEL_15b7e493f0b9434a9103dd8163349800"
      }
     },
     "bcf6bbd442764be797f92c4eb4efd6a0": {
      "model_module": "@jupyter-widgets/controls",
      "model_module_version": "1.5.0",
      "model_name": "DescriptionStyleModel",
      "state": {
       "description_width": "initial"
      }
     },
     "bd02a5d32e114ee28a421024de0bd3f9": {
      "model_module": "@jupyter-widgets/base",
      "model_module_version": "1.2.0",
      "model_name": "LayoutModel",
      "state": {
       "align_items": "stretch",
       "display": "flex",
       "flex_flow": "row wrap",
       "grid_area": "footer",
       "margin": "30px 0 0 0"
      }
     },
     "bd35ccdfecc241cb9c7c0458763414d6": {
      "model_module": "@jupyter-widgets/base",
      "model_module_version": "1.2.0",
      "model_name": "LayoutModel",
      "state": {
       "width": "1000px"
      }
     },
     "bd8209ed70044f1d9b28b57efb984457": {
      "model_module": "@jupyter-widgets/controls",
      "model_module_version": "1.5.0",
      "model_name": "DescriptionStyleModel",
      "state": {
       "description_width": "initial"
      }
     },
     "bd9ff3ec61f14ea9b88d68d87f98d9fd": {
      "model_module": "@jupyter-widgets/base",
      "model_module_version": "1.2.0",
      "model_name": "LayoutModel",
      "state": {}
     },
     "bda0a61d2d7e44d995da74d9a6f19ef5": {
      "model_module": "@jupyter-widgets/base",
      "model_module_version": "1.2.0",
      "model_name": "LayoutModel",
      "state": {
       "width": "1000px"
      }
     },
     "bdb215f75e5e4f8a90580f831ed14d8e": {
      "model_module": "@jupyter-widgets/controls",
      "model_module_version": "1.5.0",
      "model_name": "CheckboxModel",
      "state": {
       "disabled": false,
       "layout": "IPY_MODEL_b659917d88214e2fb00640be723c2abd",
       "style": "IPY_MODEL_bd8209ed70044f1d9b28b57efb984457",
       "value": false
      }
     },
     "bdeb95aa2d424913b48fb671fa43ce11": {
      "model_module": "@jupyter-widgets/controls",
      "model_module_version": "1.5.0",
      "model_name": "CheckboxModel",
      "state": {
       "disabled": false,
       "layout": "IPY_MODEL_7db340a8b70e4c819cab9ef851175a0f",
       "style": "IPY_MODEL_34b1619b43db4c56b75d6e7421f2fc27",
       "value": false
      }
     },
     "be7e2a15ced74adbb2797b2c582632d9": {
      "model_module": "@jupyter-widgets/controls",
      "model_module_version": "1.5.0",
      "model_name": "ButtonModel",
      "state": {
       "description": "Show answer",
       "disabled": true,
       "layout": "IPY_MODEL_c8be9b35a7d446dcace4a94c1cab12b0",
       "style": "IPY_MODEL_638fbf8cb6794a6eb05cecd512e29d2e"
      }
     },
     "bedd4ec010114a8d9acd03104221d756": {
      "model_module": "@jupyter-widgets/controls",
      "model_module_version": "1.5.0",
      "model_name": "CheckboxModel",
      "state": {
       "disabled": false,
       "layout": "IPY_MODEL_027a4a9cec734802b0cb9a90f654642e",
       "style": "IPY_MODEL_910bafe582614b12878e57a09bd11416",
       "value": false
      }
     },
     "bf26e2148b45489cb440d68c89a1de8c": {
      "model_module": "@jupyter-widgets/controls",
      "model_module_version": "1.5.0",
      "model_name": "DescriptionStyleModel",
      "state": {
       "description_width": ""
      }
     },
     "c01444abb75a433da0fae2c2c27f7767": {
      "model_module": "@jupyter-widgets/controls",
      "model_module_version": "1.5.0",
      "model_name": "CheckboxModel",
      "state": {
       "disabled": false,
       "layout": "IPY_MODEL_524813f56e514c3e8eb97cc49e346c3c",
       "style": "IPY_MODEL_0bb12291bb0f4ba0b187721ac281f568",
       "value": false
      }
     },
     "c0624cc034b4452dbf9f326c8ed5e6a7": {
      "model_module": "@jupyter-widgets/controls",
      "model_module_version": "1.5.0",
      "model_name": "LabelModel",
      "state": {
       "layout": "IPY_MODEL_a97347598b0f44fd9bdaa1c16fad77c9",
       "style": "IPY_MODEL_156adfa691cd430d9bf907c3bb53af25",
       "value": "aviva"
      }
     },
     "c0c0ebd3c1364fa690cc208220b18bb9": {
      "model_module": "@jupyter-widgets/controls",
      "model_module_version": "1.5.0",
      "model_name": "DescriptionStyleModel",
      "state": {
       "description_width": ""
      }
     },
     "c12f576025704d8983d23a52223b1b38": {
      "model_module": "@jupyter-widgets/base",
      "model_module_version": "1.2.0",
      "model_name": "LayoutModel",
      "state": {
       "align_items": "stretch",
       "display": "flex",
       "flex_flow": "row wrap",
       "grid_area": "header",
       "margin": "0 0 30px 0",
       "width": "100%"
      }
     },
     "c1ba5091e20a4721a43129049f2202fa": {
      "model_module": "@jupyter-widgets/controls",
      "model_module_version": "1.5.0",
      "model_name": "CheckboxModel",
      "state": {
       "disabled": false,
       "layout": "IPY_MODEL_562de75bdde14f09bef1168a75083b4f",
       "style": "IPY_MODEL_b9fcd24ac7c8415b812927e842ac683a",
       "value": false
      }
     },
     "c1beb99f4e114ce1a9734de9303ef448": {
      "model_module": "@jupyter-widgets/controls",
      "model_module_version": "1.5.0",
      "model_name": "HBoxModel",
      "state": {
       "children": [
        "IPY_MODEL_fe51e2f26a8c4a0ba4f9faba26240093",
        "IPY_MODEL_3ec1b5309a9d4f369d7c76c9db263294"
       ],
       "layout": "IPY_MODEL_51fc243f6ee74fda83fbd24c8131ebd5"
      }
     },
     "c1ff3e326e2249069e0f8bd40928aeda": {
      "model_module": "@jupyter-widgets/base",
      "model_module_version": "1.2.0",
      "model_name": "LayoutModel",
      "state": {}
     },
     "c2f1f3210da04d1390c476feb7ea956a": {
      "model_module": "@jupyter-widgets/controls",
      "model_module_version": "1.5.0",
      "model_name": "DescriptionStyleModel",
      "state": {
       "description_width": "initial"
      }
     },
     "c397f22791ff471c85a63444a6c05e16": {
      "model_module": "@jupyter-widgets/controls",
      "model_module_version": "1.5.0",
      "model_name": "DescriptionStyleModel",
      "state": {
       "description_width": ""
      }
     },
     "c3fa95a31fea4e0a9d932205ed531379": {
      "model_module": "@jupyter-widgets/controls",
      "model_module_version": "1.5.0",
      "model_name": "LabelModel",
      "state": {
       "layout": "IPY_MODEL_ac9441f58e2d486d8095a254993a56d1",
       "style": "IPY_MODEL_dcfdb8a6ea45413585f24a1e4beff1e5",
       "value": "The term 'programming' means 'planning'"
      }
     },
     "c48129cce1a64250b0cbe3bfa8eec78e": {
      "model_module": "@jupyter-widgets/base",
      "model_module_version": "1.2.0",
      "model_name": "LayoutModel",
      "state": {}
     },
     "c4ca46a2978041c79637f97feb8dfb36": {
      "model_module": "@jupyter-widgets/base",
      "model_module_version": "1.2.0",
      "model_name": "LayoutModel",
      "state": {}
     },
     "c5381b5eec2f44199d5b89b7958e479a": {
      "model_module": "@jupyter-widgets/controls",
      "model_module_version": "1.5.0",
      "model_name": "CheckboxModel",
      "state": {
       "disabled": false,
       "layout": "IPY_MODEL_ca630b6d98f94a549ed506baf7592746",
       "style": "IPY_MODEL_e391bf68aed24808beaea2ebfbc11b46",
       "value": false
      }
     },
     "c544520a28374dabab06564859d878db": {
      "model_module": "@jupyter-widgets/controls",
      "model_module_version": "1.5.0",
      "model_name": "LabelModel",
      "state": {
       "layout": "IPY_MODEL_995f421b879042a790728ddc30c1a3a6",
       "style": "IPY_MODEL_3a469b8aaeed44f3805a07391175d0a0"
      }
     },
     "c5dab746057f43168e2d3d01672f3953": {
      "model_module": "@jupyter-widgets/controls",
      "model_module_version": "1.5.0",
      "model_name": "DescriptionStyleModel",
      "state": {
       "description_width": ""
      }
     },
     "c663e20ed1784b5da318cd41c8db7db3": {
      "model_module": "@jupyter-widgets/base",
      "model_module_version": "1.2.0",
      "model_name": "LayoutModel",
      "state": {}
     },
     "c6ee655bfd25408e8faf6b0c959d5260": {
      "model_module": "@jupyter-widgets/base",
      "model_module_version": "1.2.0",
      "model_name": "LayoutModel",
      "state": {
       "width": "30px"
      }
     },
     "c7522a34fe0d493ca3a6b476a827d85e": {
      "model_module": "@jupyter-widgets/controls",
      "model_module_version": "1.5.0",
      "model_name": "DescriptionStyleModel",
      "state": {
       "description_width": "initial"
      }
     },
     "c78c6b1d02db42c0870e34a5b2397869": {
      "model_module": "@jupyter-widgets/base",
      "model_module_version": "1.2.0",
      "model_name": "LayoutModel",
      "state": {}
     },
     "c78fa25de3d94790956fbdf70e2b08ad": {
      "model_module": "@jupyter-widgets/controls",
      "model_module_version": "1.5.0",
      "model_name": "LabelModel",
      "state": {
       "layout": "IPY_MODEL_85e0cbca8a6b4fd8a7322520ca90b062",
       "style": "IPY_MODEL_e15c2b18fc154677a06a907bdf9a4ae6",
       "value": "Which of the following strings are palindromes?"
      }
     },
     "c7a3950bc28842969d8c260c72bf6279": {
      "model_module": "@jupyter-widgets/controls",
      "model_module_version": "1.5.0",
      "model_name": "DescriptionStyleModel",
      "state": {
       "description_width": "initial"
      }
     },
     "c7d1eedcfe154a3994250a3480345182": {
      "model_module": "@jupyter-widgets/base",
      "model_module_version": "1.2.0",
      "model_name": "LayoutModel",
      "state": {
       "display": "none"
      }
     },
     "c8be9b35a7d446dcace4a94c1cab12b0": {
      "model_module": "@jupyter-widgets/base",
      "model_module_version": "1.2.0",
      "model_name": "LayoutModel",
      "state": {
       "display": "none"
      }
     },
     "c8cfeefc2ae34aefb90126534723d8cd": {
      "model_module": "@jupyter-widgets/base",
      "model_module_version": "1.2.0",
      "model_name": "LayoutModel",
      "state": {
       "width": "1000px"
      }
     },
     "c907dc10ce4640a8ab6fec283b0bf1fa": {
      "model_module": "@jupyter-widgets/controls",
      "model_module_version": "1.5.0",
      "model_name": "DescriptionStyleModel",
      "state": {
       "description_width": "initial"
      }
     },
     "c961bce331994bceaf18a2a68542890e": {
      "model_module": "@jupyter-widgets/base",
      "model_module_version": "1.2.0",
      "model_name": "LayoutModel",
      "state": {}
     },
     "c9bc178dcbb840f4b27a6e27da91004a": {
      "model_module": "@jupyter-widgets/controls",
      "model_module_version": "1.5.0",
      "model_name": "DescriptionStyleModel",
      "state": {
       "description_width": ""
      }
     },
     "ca20dddeb3f0426495f9b635dbc5ab32": {
      "model_module": "@jupyter-widgets/controls",
      "model_module_version": "1.5.0",
      "model_name": "DescriptionStyleModel",
      "state": {
       "description_width": "initial"
      }
     },
     "ca33d2fcc26e4b2a8f5635fbb3d9834b": {
      "model_module": "@jupyter-widgets/base",
      "model_module_version": "1.2.0",
      "model_name": "LayoutModel",
      "state": {
       "width": "1000px"
      }
     },
     "ca630b6d98f94a549ed506baf7592746": {
      "model_module": "@jupyter-widgets/base",
      "model_module_version": "1.2.0",
      "model_name": "LayoutModel",
      "state": {
       "width": "30px"
      }
     },
     "ca7f7ead060e40d3b533b7e08b7a2e92": {
      "model_module": "@jupyter-widgets/controls",
      "model_module_version": "1.5.0",
      "model_name": "HBoxModel",
      "state": {
       "children": [
        "IPY_MODEL_f08a14342f984e0788493699b2c826e4",
        "IPY_MODEL_94ad9d9fa33e4397aa3eecdba13c0403"
       ],
       "layout": "IPY_MODEL_566d9258f3ad431392aac78a8debd5b2"
      }
     },
     "cb4c74defe804f4790aefa327db82de0": {
      "model_module": "@jupyter-widgets/controls",
      "model_module_version": "1.5.0",
      "model_name": "CheckboxModel",
      "state": {
       "disabled": false,
       "layout": "IPY_MODEL_37d8793c8b88420f8b7896fadb723a4b",
       "style": "IPY_MODEL_a8889798b9704531920659458be8f62f",
       "value": false
      }
     },
     "cb88bb749f4d42a98ccaeca9773b323c": {
      "model_module": "@jupyter-widgets/base",
      "model_module_version": "1.2.0",
      "model_name": "LayoutModel",
      "state": {}
     },
     "cbb92f05af01496e9cf62c80f762804a": {
      "model_module": "@jupyter-widgets/controls",
      "model_module_version": "1.5.0",
      "model_name": "DescriptionStyleModel",
      "state": {
       "description_width": ""
      }
     },
     "cbee7d7c617c49b5af0cb709b06efb03": {
      "model_module": "@jupyter-widgets/base",
      "model_module_version": "1.2.0",
      "model_name": "LayoutModel",
      "state": {}
     },
     "cbfeedc3c2ae4f0688e5e56332491277": {
      "model_module": "@jupyter-widgets/base",
      "model_module_version": "1.2.0",
      "model_name": "LayoutModel",
      "state": {
       "width": "30px"
      }
     },
     "cc6cd3b3d2754137947db34b5626d700": {
      "model_module": "@jupyter-widgets/controls",
      "model_module_version": "1.5.0",
      "model_name": "CheckboxModel",
      "state": {
       "disabled": false,
       "layout": "IPY_MODEL_09cc36a7c1f64dc3b51093770874532c",
       "style": "IPY_MODEL_c7522a34fe0d493ca3a6b476a827d85e",
       "value": false
      }
     },
     "cd10eb650aa840c98b8f6cc6acfac1c4": {
      "model_module": "@jupyter-widgets/controls",
      "model_module_version": "1.5.0",
      "model_name": "HBoxModel",
      "state": {
       "children": [
        "IPY_MODEL_80363d4ac2d24949bcb484c7b5c9eff3",
        "IPY_MODEL_54837616c2df4520af1e366482da0494"
       ],
       "layout": "IPY_MODEL_153617188122480c9f6b4aa1c7f3c33d"
      }
     },
     "cd5509917f0d41d7aebd50f8d7437731": {
      "model_module": "@jupyter-widgets/controls",
      "model_module_version": "1.5.0",
      "model_name": "CheckboxModel",
      "state": {
       "disabled": false,
       "layout": "IPY_MODEL_72e618e180fd465fb6d1f0fa23c814ad",
       "style": "IPY_MODEL_bcf6bbd442764be797f92c4eb4efd6a0",
       "value": false
      }
     },
     "cdbad02356fe42d68bfff497d6b0ae96": {
      "model_module": "@jupyter-widgets/base",
      "model_module_version": "1.2.0",
      "model_name": "LayoutModel",
      "state": {}
     },
     "cdcd282c1cf64a9aaa9e50c496c67ac7": {
      "model_module": "@jupyter-widgets/controls",
      "model_module_version": "1.5.0",
      "model_name": "HBoxModel",
      "state": {
       "children": [
        "IPY_MODEL_2cdd93e88cbc415198af04767fd33edf",
        "IPY_MODEL_11074a0ee83f4dfba8d4e7e9aaf36b29"
       ],
       "layout": "IPY_MODEL_dd67f861a0a04d76b15d6621a6177aa0"
      }
     },
     "cdf622bcff694cb7a946f10050cba50c": {
      "model_module": "@jupyter-widgets/controls",
      "model_module_version": "1.5.0",
      "model_name": "DescriptionStyleModel",
      "state": {
       "description_width": ""
      }
     },
     "ce55cda31469408594b63067698834e7": {
      "model_module": "@jupyter-widgets/base",
      "model_module_version": "1.2.0",
      "model_name": "LayoutModel",
      "state": {}
     },
     "ce624e38efb2449b95939a3c82325a9a": {
      "model_module": "@jupyter-widgets/controls",
      "model_module_version": "1.5.0",
      "model_name": "HBoxModel",
      "state": {
       "children": [
        "IPY_MODEL_77353a983d5d48279b753c57cfe9b53c",
        "IPY_MODEL_a0d0e84153fe4e22ac475b6943bfddd3",
        "IPY_MODEL_3fadd9fb5d6e424699003e2c971b0fa4"
       ],
       "layout": "IPY_MODEL_bd02a5d32e114ee28a421024de0bd3f9"
      }
     },
     "cea1b7c4341d4c7f8ff94a5a33d117af": {
      "model_module": "@jupyter-widgets/controls",
      "model_module_version": "1.5.0",
      "model_name": "LabelModel",
      "state": {
       "layout": "IPY_MODEL_c961bce331994bceaf18a2a68542890e",
       "style": "IPY_MODEL_765eaff9a1754176bb96723b02606089"
      }
     },
     "cedf746d09e249b78e70caf212b3054d": {
      "model_module": "@jupyter-widgets/controls",
      "model_module_version": "1.5.0",
      "model_name": "DescriptionStyleModel",
      "state": {
       "description_width": ""
      }
     },
     "d03dfd671cc44eb39f061f6dd54a032f": {
      "model_module": "@jupyter-widgets/controls",
      "model_module_version": "1.5.0",
      "model_name": "LabelModel",
      "state": {
       "layout": "IPY_MODEL_3c4bda296d5d4b5aa0e1ca835d3de310",
       "style": "IPY_MODEL_143a4ce16a2745bc9ae952a31a8cc55c",
       "value": "The term 'dynamic' is used to indicate that time plays a role."
      }
     },
     "d07ebdfa41f3466e986b05836b3842d3": {
      "model_module": "@jupyter-widgets/base",
      "model_module_version": "1.2.0",
      "model_name": "LayoutModel",
      "state": {
       "width": "1000px"
      }
     },
     "d0a1501318f449e19aa5fe5ce0feb987": {
      "model_module": "@jupyter-widgets/controls",
      "model_module_version": "1.5.0",
      "model_name": "LabelModel",
      "state": {
       "layout": "IPY_MODEL_950e190840fc4dac96d2a81906bee6e5",
       "style": "IPY_MODEL_15960b48a6994c299fde34416289f67b",
       "value": "top-down"
      }
     },
     "d0e3820a68c045be9ed602a6ce8b2a04": {
      "model_module": "@jupyter-widgets/controls",
      "model_module_version": "1.5.0",
      "model_name": "LabelModel",
      "state": {
       "layout": "IPY_MODEL_bda0a61d2d7e44d995da74d9a6f19ef5",
       "style": "IPY_MODEL_8a61b5ca4f434f6abcddd51e7602cf7a",
       "value": "The term 'dynamic' is used to indicate that time plays a role."
      }
     },
     "d177d965c72a44e5b352411c156d6b5a": {
      "model_module": "@jupyter-widgets/controls",
      "model_module_version": "1.5.0",
      "model_name": "DescriptionStyleModel",
      "state": {
       "description_width": ""
      }
     },
     "d1aecadd82fe45f4803d1ce3883f10b6": {
      "model_module": "@jupyter-widgets/base",
      "model_module_version": "1.2.0",
      "model_name": "LayoutModel",
      "state": {}
     },
     "d1b3eafb61e647d99d218624c1378bc5": {
      "model_module": "@jupyter-widgets/controls",
      "model_module_version": "1.5.0",
      "model_name": "LabelModel",
      "state": {
       "layout": "IPY_MODEL_34ca1c146a474ba5a5bc6153835bf334",
       "style": "IPY_MODEL_a7ff689056ac49eba507cfa9362b9ab5"
      }
     },
     "d1ef301c08d740bc8ab5333d89d30763": {
      "model_module": "@jupyter-widgets/controls",
      "model_module_version": "1.5.0",
      "model_name": "DescriptionStyleModel",
      "state": {
       "description_width": ""
      }
     },
     "d259765de9c240d3b1c7c8dc562cdcf2": {
      "model_module": "@jupyter-widgets/controls",
      "model_module_version": "1.5.0",
      "model_name": "HBoxModel",
      "state": {
       "children": [
        "IPY_MODEL_9a33d3c928614a558c519daf3d9bfefc",
        "IPY_MODEL_5ce18e2440ac46dead69ad5e98fbfe8a"
       ],
       "layout": "IPY_MODEL_e503a90d81064c0a8052389edba5708d"
      }
     },
     "d2e4251290894e73b7bc220a7d95f995": {
      "model_module": "@jupyter-widgets/base",
      "model_module_version": "1.2.0",
      "model_name": "LayoutModel",
      "state": {}
     },
     "d3c9fd1aa8804d168641f839f44fc63d": {
      "model_module": "@jupyter-widgets/base",
      "model_module_version": "1.2.0",
      "model_name": "LayoutModel",
      "state": {}
     },
     "d3ec9bf8424e4c9d83d7519d9e1cd7eb": {
      "model_module": "@jupyter-widgets/base",
      "model_module_version": "1.2.0",
      "model_name": "LayoutModel",
      "state": {}
     },
     "d4143168276c41d29e09f75aec4b33b6": {
      "model_module": "@jupyter-widgets/controls",
      "model_module_version": "1.5.0",
      "model_name": "HBoxModel",
      "state": {
       "children": [
        "IPY_MODEL_e735f05c836846fca1ca2faabd0e7428",
        "IPY_MODEL_1ad7655d6e9b41b592bb33a4591d88c4"
       ],
       "layout": "IPY_MODEL_14af7f31290949cd8b1fb0211cc58d56"
      }
     },
     "d483d6746b8b4af48e17849371085d42": {
      "model_module": "@jupyter-widgets/controls",
      "model_module_version": "1.5.0",
      "model_name": "DescriptionStyleModel",
      "state": {
       "description_width": ""
      }
     },
     "d48b12521ec34aa2ad4787c7a50a5971": {
      "model_module": "@jupyter-widgets/base",
      "model_module_version": "1.2.0",
      "model_name": "LayoutModel",
      "state": {}
     },
     "d48bb642acbe4537a92633b5af0b0574": {
      "model_module": "@jupyter-widgets/controls",
      "model_module_version": "1.5.0",
      "model_name": "HBoxModel",
      "state": {
       "children": [
        "IPY_MODEL_2281808b802f4057a3492c600af2e9fb",
        "IPY_MODEL_d815fb68ed614919a5131f70fc12211e"
       ],
       "layout": "IPY_MODEL_757c3085f05d49fc8d146640215f2b7a"
      }
     },
     "d4dc53b5643643ccabb3902ea49f4c43": {
      "model_module": "@jupyter-widgets/base",
      "model_module_version": "1.2.0",
      "model_name": "LayoutModel",
      "state": {
       "grid_area": "left-sidebar"
      }
     },
     "d54fde68f0884a159f73e5b1eacc5510": {
      "model_module": "@jupyter-widgets/controls",
      "model_module_version": "1.5.0",
      "model_name": "DescriptionStyleModel",
      "state": {
       "description_width": ""
      }
     },
     "d59d4e21b51745f4a22f101651c36efa": {
      "model_module": "@jupyter-widgets/controls",
      "model_module_version": "1.5.0",
      "model_name": "CheckboxModel",
      "state": {
       "disabled": false,
       "layout": "IPY_MODEL_5238cdb9cfd240a1b5577c85cbe041e4",
       "style": "IPY_MODEL_99a540461e554bb6acc3d7638b895537",
       "value": false
      }
     },
     "d70eefae55c843d893187d8f15143dfa": {
      "model_module": "@jupyter-widgets/controls",
      "model_module_version": "1.5.0",
      "model_name": "DescriptionStyleModel",
      "state": {
       "description_width": ""
      }
     },
     "d815fb68ed614919a5131f70fc12211e": {
      "model_module": "@jupyter-widgets/controls",
      "model_module_version": "1.5.0",
      "model_name": "HBoxModel",
      "state": {
       "children": [
        "IPY_MODEL_116003fc9d634dfb88b76724a39130e6",
        "IPY_MODEL_6336fe030e7b4e458c8cfee7939f8ccb"
       ],
       "layout": "IPY_MODEL_c78c6b1d02db42c0870e34a5b2397869"
      }
     },
     "d877a0c22f924d5aa52690034e007e41": {
      "model_module": "@jupyter-widgets/controls",
      "model_module_version": "1.5.0",
      "model_name": "DescriptionStyleModel",
      "state": {
       "description_width": "initial"
      }
     },
     "d9ce2a75267f4a588bdb299252373623": {
      "model_module": "@jupyter-widgets/controls",
      "model_module_version": "1.5.0",
      "model_name": "LabelModel",
      "state": {
       "layout": "IPY_MODEL_59c6c600dc5640388663b6210f5a58e2",
       "style": "IPY_MODEL_447788f9bf684d23b3a78ac5fa7fb067"
      }
     },
     "da01c97769dd4b8086deb775682de254": {
      "model_module": "@jupyter-widgets/controls",
      "model_module_version": "1.5.0",
      "model_name": "LabelModel",
      "state": {
       "layout": "IPY_MODEL_55ea8f4dd3d5452d8a62a9d4bf425c38",
       "style": "IPY_MODEL_4d79fc21c5b74fe2a511e5bcac039ec6"
      }
     },
     "da1ee21196a644eba202d7beacd417f5": {
      "model_module": "@jupyter-widgets/base",
      "model_module_version": "1.2.0",
      "model_name": "LayoutModel",
      "state": {}
     },
     "da4ffe2e521e4abd93dfc276000c49dc": {
      "model_module": "@jupyter-widgets/base",
      "model_module_version": "1.2.0",
      "model_name": "LayoutModel",
      "state": {}
     },
     "da950a337057444c83aa3d8e8a5bed72": {
      "model_module": "@jupyter-widgets/base",
      "model_module_version": "1.2.0",
      "model_name": "LayoutModel",
      "state": {}
     },
     "db140f9bfe9c42f78d1cd32e93e38727": {
      "model_module": "@jupyter-widgets/controls",
      "model_module_version": "1.5.0",
      "model_name": "LabelModel",
      "state": {
       "layout": "IPY_MODEL_627c7656f662427ea2b817b942433250",
       "style": "IPY_MODEL_3cd45baf81174b48a1a41dd0cd430c48"
      }
     },
     "dbea57e589b743b89b202123b1273b7b": {
      "model_module": "@jupyter-widgets/controls",
      "model_module_version": "1.5.0",
      "model_name": "LabelModel",
      "state": {
       "layout": "IPY_MODEL_42bc3f0c5c524ffca6f40d825916af91",
       "style": "IPY_MODEL_d54fde68f0884a159f73e5b1eacc5510"
      }
     },
     "dc5681902d8a4539819eafcd727bce4a": {
      "model_module": "@jupyter-widgets/controls",
      "model_module_version": "1.5.0",
      "model_name": "HBoxModel",
      "state": {
       "children": [
        "IPY_MODEL_da01c97769dd4b8086deb775682de254",
        "IPY_MODEL_6e8ce1b24019475b85f6a07e90aaab73"
       ],
       "layout": "IPY_MODEL_0b5cd10fbf574a6590f69994a07ff42e"
      }
     },
     "dc69fc022af343c4a1f6ed54d5562b50": {
      "model_module": "@jupyter-widgets/base",
      "model_module_version": "1.2.0",
      "model_name": "LayoutModel",
      "state": {}
     },
     "dcfb18ece329449eb5f1fda1bde996ca": {
      "model_module": "@jupyter-widgets/controls",
      "model_module_version": "1.5.0",
      "model_name": "LabelModel",
      "state": {
       "layout": "IPY_MODEL_95b011a54cbc434a82904f0b0b426ce2",
       "style": "IPY_MODEL_b0507adf19c546cbb1837dba415c87dc",
       "value": "p"
      }
     },
     "dcfdb8a6ea45413585f24a1e4beff1e5": {
      "model_module": "@jupyter-widgets/controls",
      "model_module_version": "1.5.0",
      "model_name": "DescriptionStyleModel",
      "state": {
       "description_width": ""
      }
     },
     "dd67f861a0a04d76b15d6621a6177aa0": {
      "model_module": "@jupyter-widgets/base",
      "model_module_version": "1.2.0",
      "model_name": "LayoutModel",
      "state": {}
     },
     "dd866a7b34b646a68711a7158131d02f": {
      "model_module": "@jupyter-widgets/controls",
      "model_module_version": "1.5.0",
      "model_name": "ButtonModel",
      "state": {
       "description": "Submit",
       "layout": "IPY_MODEL_2359539fb4124f52aa054cca3d0b87a1",
       "style": "IPY_MODEL_5e5d7927ad4046eda5ee15c4283a0af8"
      }
     },
     "dda6770549d54de4880370f29aa3f9cc": {
      "model_module": "@jupyter-widgets/base",
      "model_module_version": "1.2.0",
      "model_name": "LayoutModel",
      "state": {
       "width": "1000px"
      }
     },
     "ddaf25c65c0e4635a47ed30f845fd0f7": {
      "model_module": "@jupyter-widgets/controls",
      "model_module_version": "1.5.0",
      "model_name": "DescriptionStyleModel",
      "state": {
       "description_width": "initial"
      }
     },
     "ddb86286590d4a3293e3ef07beca513e": {
      "model_module": "@jupyter-widgets/controls",
      "model_module_version": "1.5.0",
      "model_name": "HBoxModel",
      "state": {
       "children": [
        "IPY_MODEL_4d97c3a6d6614d86905ae2db5b6a18e1",
        "IPY_MODEL_9c920ba53ed04d7ca8650d9f2f5eabb0"
       ],
       "layout": "IPY_MODEL_4c18b37eab91499f9737034f04a629c7"
      }
     },
     "dea8e23e95eb42f39ee913aabd15f135": {
      "model_module": "@jupyter-widgets/controls",
      "model_module_version": "1.5.0",
      "model_name": "LabelModel",
      "state": {
       "layout": "IPY_MODEL_ef3ce7edae9b490d9f340d5ea5813138",
       "style": "IPY_MODEL_498d5ce4789349e1b7d27efe8db5e09a"
      }
     },
     "decdffe2be3a48459284c76224452cbe": {
      "model_module": "@jupyter-widgets/controls",
      "model_module_version": "1.5.0",
      "model_name": "HBoxModel",
      "state": {
       "children": [
        "IPY_MODEL_836c8b14cc254b58b18e2eb263f1a932",
        "IPY_MODEL_4610803568b440c197310a5d48ae64c7"
       ],
       "layout": "IPY_MODEL_24cb85b9ef2d4d2bae5644d3ad6a3d69"
      }
     },
     "dece7efb48d146f1acdb73504a9d16d0": {
      "model_module": "@jupyter-widgets/controls",
      "model_module_version": "1.5.0",
      "model_name": "DescriptionStyleModel",
      "state": {
       "description_width": ""
      }
     },
     "dee330fbac8a48a2ac076754118482d2": {
      "model_module": "@jupyter-widgets/base",
      "model_module_version": "1.2.0",
      "model_name": "LayoutModel",
      "state": {
       "width": "1000px"
      }
     },
     "df953e98a553413dab2baa03c20b3a17": {
      "model_module": "@jupyter-widgets/controls",
      "model_module_version": "1.5.0",
      "model_name": "LabelModel",
      "state": {
       "layout": "IPY_MODEL_bc07a7dfa89743e789d578e5624e5447",
       "style": "IPY_MODEL_e16735646f934f1dafa14f979ebe477a"
      }
     },
     "dfae0af13dee4ca7b6aad49b8be834e6": {
      "model_module": "@jupyter-widgets/controls",
      "model_module_version": "1.5.0",
      "model_name": "LabelModel",
      "state": {
       "layout": "IPY_MODEL_52422f4b2ec64020be0cd1e058390dd4",
       "style": "IPY_MODEL_5a6047ac0e7c4480a2cb183de6d4140c"
      }
     },
     "e0d7d98a8faa42288d9f3c4a750282c0": {
      "model_module": "@jupyter-widgets/controls",
      "model_module_version": "1.5.0",
      "model_name": "DescriptionStyleModel",
      "state": {
       "description_width": "initial"
      }
     },
     "e15c2b18fc154677a06a907bdf9a4ae6": {
      "model_module": "@jupyter-widgets/controls",
      "model_module_version": "1.5.0",
      "model_name": "DescriptionStyleModel",
      "state": {
       "description_width": ""
      }
     },
     "e16735646f934f1dafa14f979ebe477a": {
      "model_module": "@jupyter-widgets/controls",
      "model_module_version": "1.5.0",
      "model_name": "DescriptionStyleModel",
      "state": {
       "description_width": ""
      }
     },
     "e2ae76acbc2640f8a9cb064ff9d8ccdc": {
      "model_module": "@jupyter-widgets/base",
      "model_module_version": "1.2.0",
      "model_name": "LayoutModel",
      "state": {}
     },
     "e2cbbab74ae44685830967e0d55403de": {
      "model_module": "@jupyter-widgets/base",
      "model_module_version": "1.2.0",
      "model_name": "LayoutModel",
      "state": {
       "width": "1000px"
      }
     },
     "e31a970b8db74eed82259c9839624bd1": {
      "model_module": "@jupyter-widgets/controls",
      "model_module_version": "1.5.0",
      "model_name": "HBoxModel",
      "state": {
       "children": [
        "IPY_MODEL_29b0304c887c424f9251a7f3ad614216",
        "IPY_MODEL_f5bc90e45eb54daeb5cc63c8d5015115"
       ],
       "layout": "IPY_MODEL_7cf8eec903a047999357cb82a59813ad"
      }
     },
     "e33b7fea40eb4a808d6d3de58ad25a9d": {
      "model_module": "@jupyter-widgets/controls",
      "model_module_version": "1.5.0",
      "model_name": "LabelModel",
      "state": {
       "layout": "IPY_MODEL_20399ca3fca04a9e9c9e933329bf56d8",
       "style": "IPY_MODEL_04bb194fc4b244fc8c6b2f04f1b8b5ff"
      }
     },
     "e391bf68aed24808beaea2ebfbc11b46": {
      "model_module": "@jupyter-widgets/controls",
      "model_module_version": "1.5.0",
      "model_name": "DescriptionStyleModel",
      "state": {
       "description_width": "initial"
      }
     },
     "e4b66923f6464df6b86f70daa31fb069": {
      "model_module": "@jupyter-widgets/base",
      "model_module_version": "1.2.0",
      "model_name": "LayoutModel",
      "state": {
       "width": "30px"
      }
     },
     "e503a90d81064c0a8052389edba5708d": {
      "model_module": "@jupyter-widgets/base",
      "model_module_version": "1.2.0",
      "model_name": "LayoutModel",
      "state": {}
     },
     "e53739215dcb48088868c96756f35105": {
      "model_module": "@jupyter-widgets/controls",
      "model_module_version": "1.5.0",
      "model_name": "DescriptionStyleModel",
      "state": {
       "description_width": "initial"
      }
     },
     "e54883387bcf496a8175bf4cdc2e80b6": {
      "model_module": "@jupyter-widgets/controls",
      "model_module_version": "1.5.0",
      "model_name": "ButtonModel",
      "state": {
       "description": "Show answer",
       "disabled": true,
       "layout": "IPY_MODEL_fdb12ea0bc124733b151d3ec88ff6fdb",
       "style": "IPY_MODEL_7096774ced154610a754c4d735bab01f"
      }
     },
     "e636cafdbc804300bb10b21027a45303": {
      "model_module": "@jupyter-widgets/base",
      "model_module_version": "1.2.0",
      "model_name": "LayoutModel",
      "state": {}
     },
     "e64582365bce4cbbb3626d72ee86eb7b": {
      "model_module": "@jupyter-widgets/controls",
      "model_module_version": "1.5.0",
      "model_name": "DescriptionStyleModel",
      "state": {
       "description_width": ""
      }
     },
     "e70e3e2d79c845258aeede435aa61026": {
      "model_module": "@jupyter-widgets/base",
      "model_module_version": "1.2.0",
      "model_name": "LayoutModel",
      "state": {
       "grid_template_areas": "\"header header\"\n\"left-sidebar left-sidebar\"\n\"footer footer\"",
       "grid_template_columns": "1fr 1fr",
       "grid_template_rows": "1fr 3fr 1fr"
      }
     },
     "e735f05c836846fca1ca2faabd0e7428": {
      "model_module": "@jupyter-widgets/controls",
      "model_module_version": "1.5.0",
      "model_name": "CheckboxModel",
      "state": {
       "disabled": false,
       "layout": "IPY_MODEL_edde1f12c8374773ae7030ad85fc0c63",
       "style": "IPY_MODEL_bad6bc9134514c6f849ecc4d153b68a3",
       "value": false
      }
     },
     "e7fc2200f8774ca2b18f70a2751d3326": {
      "model_module": "@jupyter-widgets/controls",
      "model_module_version": "1.5.0",
      "model_name": "HBoxModel",
      "state": {
       "children": [
        "IPY_MODEL_6a03e56ee9a34beab5d093b05de283de",
        "IPY_MODEL_c3fa95a31fea4e0a9d932205ed531379"
       ],
       "layout": "IPY_MODEL_da950a337057444c83aa3d8e8a5bed72"
      }
     },
     "e82777bf0bba45dcb604fe31435527fa": {
      "model_module": "@jupyter-widgets/controls",
      "model_module_version": "1.5.0",
      "model_name": "CheckboxModel",
      "state": {
       "disabled": false,
       "layout": "IPY_MODEL_4d1a6028fd904a048024c49542096578",
       "style": "IPY_MODEL_fc2bfbc8bbec4486ba1a4fe3e0d94db9",
       "value": false
      }
     },
     "e8299389aa3b40488d78a00d6c5804b9": {
      "model_module": "@jupyter-widgets/controls",
      "model_module_version": "1.5.0",
      "model_name": "CheckboxModel",
      "state": {
       "disabled": false,
       "layout": "IPY_MODEL_3fc2983ea79242b680d4783dd24dc61f",
       "style": "IPY_MODEL_3e7a902f8f804eac940948683998db2a",
       "value": false
      }
     },
     "e82a8198f424484fb80f3ac89f0c7db5": {
      "model_module": "@jupyter-widgets/controls",
      "model_module_version": "1.5.0",
      "model_name": "LabelModel",
      "state": {
       "layout": "IPY_MODEL_0cd1b97f8eca43568c3fd544d9cbe1fc",
       "style": "IPY_MODEL_94f31fc9bc9b4666b2bfb2bcc44fcdd5"
      }
     },
     "e89763fc15bb421697c566f4bb022355": {
      "model_module": "@jupyter-widgets/base",
      "model_module_version": "1.2.0",
      "model_name": "LayoutModel",
      "state": {
       "width": "1000px"
      }
     },
     "e935b0802fd9421f9131af5baf55df20": {
      "model_module": "@jupyter-widgets/base",
      "model_module_version": "1.2.0",
      "model_name": "LayoutModel",
      "state": {}
     },
     "e93e5b35489744ddba1315e6c5f9725e": {
      "model_module": "@jupyter-widgets/base",
      "model_module_version": "1.2.0",
      "model_name": "LayoutModel",
      "state": {
       "width": "1000px"
      }
     },
     "e980e6864fec4ba7b7cf2474eb577233": {
      "model_module": "@jupyter-widgets/base",
      "model_module_version": "1.2.0",
      "model_name": "LayoutModel",
      "state": {
       "width": "1000px"
      }
     },
     "e99cb5560ddc497381036924407f4232": {
      "model_module": "@jupyter-widgets/controls",
      "model_module_version": "1.5.0",
      "model_name": "GridBoxModel",
      "state": {
       "box_style": "info",
       "children": [
        "IPY_MODEL_7193c53ec84645ce82a544e9a0c42680",
        "IPY_MODEL_3173112287ce42f5abc39efd06058093",
        "IPY_MODEL_8faa48e4d90d4595895f155396fb2d94"
       ],
       "layout": "IPY_MODEL_78b2fbf7f2ca4f2ead493d10fa09efc1"
      }
     },
     "e9aa95a203d446e8b906181cf8747b5a": {
      "model_module": "@jupyter-widgets/controls",
      "model_module_version": "1.5.0",
      "model_name": "ButtonModel",
      "state": {
       "description": "Submit",
       "layout": "IPY_MODEL_544ad2ecdcaf4e3eb9adfca136da8459",
       "style": "IPY_MODEL_790994811e1948c996d2a588bffd8f6c"
      }
     },
     "e9cb4eb96d5f46e3814658f33fd498cc": {
      "model_module": "@jupyter-widgets/base",
      "model_module_version": "1.2.0",
      "model_name": "LayoutModel",
      "state": {}
     },
     "e9ef1c43a5d649efb9c4b819302007f0": {
      "model_module": "@jupyter-widgets/base",
      "model_module_version": "1.2.0",
      "model_name": "LayoutModel",
      "state": {
       "display": "none"
      }
     },
     "ea5013356dc948febde87f469addf559": {
      "model_module": "@jupyter-widgets/base",
      "model_module_version": "1.2.0",
      "model_name": "LayoutModel",
      "state": {
       "grid_area": "left-sidebar"
      }
     },
     "ea985bf7dd3c431fa3f4fad22ecdfc0b": {
      "model_module": "@jupyter-widgets/controls",
      "model_module_version": "1.5.0",
      "model_name": "DescriptionStyleModel",
      "state": {
       "description_width": "initial"
      }
     },
     "eb1a46bb016e4a758c62febb8af78e58": {
      "model_module": "@jupyter-widgets/controls",
      "model_module_version": "1.5.0",
      "model_name": "LabelModel",
      "state": {
       "layout": "IPY_MODEL_1784b2771db84a9e846790d2bdf0d167",
       "style": "IPY_MODEL_10f56ca1cc8a42848213edc853209616"
      }
     },
     "ebf42b69184542df8d93cd792ba6fe16": {
      "model_module": "@jupyter-widgets/controls",
      "model_module_version": "1.5.0",
      "model_name": "LabelModel",
      "state": {
       "layout": "IPY_MODEL_ac5ad7e96dcc46a29cf3de52ef5bd69f",
       "style": "IPY_MODEL_c5dab746057f43168e2d3d01672f3953"
      }
     },
     "ec803a59e5a64d4d9473eab9a2a5ebd1": {
      "model_module": "@jupyter-widgets/controls",
      "model_module_version": "1.5.0",
      "model_name": "HBoxModel",
      "state": {
       "children": [
        "IPY_MODEL_33510442467f4d76a05e66015b22dc74",
        "IPY_MODEL_7120263ac1e54550a076867ac40180eb"
       ],
       "layout": "IPY_MODEL_a7fa9bc7b8b04b81b04696d2a07ca4ab"
      }
     },
     "ec856a95c4d2426eb021a2570f3f28aa": {
      "model_module": "@jupyter-widgets/base",
      "model_module_version": "1.2.0",
      "model_name": "LayoutModel",
      "state": {}
     },
     "ec865932e8c74e8fbfa072514496a289": {
      "model_module": "@jupyter-widgets/base",
      "model_module_version": "1.2.0",
      "model_name": "LayoutModel",
      "state": {
       "width": "30px"
      }
     },
     "ecc26f35d2924a9eb99d9429eec99b69": {
      "model_module": "@jupyter-widgets/base",
      "model_module_version": "1.2.0",
      "model_name": "LayoutModel",
      "state": {
       "width": "1000px"
      }
     },
     "ed0103e4c6844deeb030cf791415fa9d": {
      "model_module": "@jupyter-widgets/controls",
      "model_module_version": "1.5.0",
      "model_name": "DescriptionStyleModel",
      "state": {
       "description_width": "initial"
      }
     },
     "ed1238c9ecac4552ac57d901d9a08665": {
      "model_module": "@jupyter-widgets/controls",
      "model_module_version": "1.5.0",
      "model_name": "HBoxModel",
      "state": {
       "children": [
        "IPY_MODEL_d9ce2a75267f4a588bdb299252373623",
        "IPY_MODEL_7aaad321e0044b55ae24a56203cd067f"
       ],
       "layout": "IPY_MODEL_f448972f399d48a6ae08102e3f67648d"
      }
     },
     "ed1bffa2735b4f1e94d73f761cc4d98a": {
      "model_module": "@jupyter-widgets/base",
      "model_module_version": "1.2.0",
      "model_name": "LayoutModel",
      "state": {
       "display": "none"
      }
     },
     "edde1f12c8374773ae7030ad85fc0c63": {
      "model_module": "@jupyter-widgets/base",
      "model_module_version": "1.2.0",
      "model_name": "LayoutModel",
      "state": {
       "width": "30px"
      }
     },
     "ede0f0d907c2472c9a4aae457b8cf8e2": {
      "model_module": "@jupyter-widgets/base",
      "model_module_version": "1.2.0",
      "model_name": "LayoutModel",
      "state": {
       "grid_template_areas": "\"header header\"\n\"left-sidebar left-sidebar\"\n\"footer footer\"",
       "grid_template_columns": "1fr 1fr",
       "grid_template_rows": "1fr 3fr 1fr"
      }
     },
     "eefcaccba9784eaead41c1cf9f175709": {
      "model_module": "@jupyter-widgets/base",
      "model_module_version": "1.2.0",
      "model_name": "LayoutModel",
      "state": {
       "align_items": "stretch",
       "display": "flex",
       "flex_flow": "row wrap",
       "grid_area": "header",
       "margin": "0 0 30px 0",
       "width": "100%"
      }
     },
     "ef00c056d4074ce490351a8d22a2e813": {
      "model_module": "@jupyter-widgets/base",
      "model_module_version": "1.2.0",
      "model_name": "LayoutModel",
      "state": {}
     },
     "ef3ce7edae9b490d9f340d5ea5813138": {
      "model_module": "@jupyter-widgets/base",
      "model_module_version": "1.2.0",
      "model_name": "LayoutModel",
      "state": {
       "height": "50%",
       "margin": "0 0 0 30px",
       "width": "50%"
      }
     },
     "efe051b10574458b9e153ee67032e68e": {
      "model_module": "@jupyter-widgets/controls",
      "model_module_version": "1.5.0",
      "model_name": "DescriptionStyleModel",
      "state": {
       "description_width": ""
      }
     },
     "f02ab4cd89414505bd04d9ec603e3192": {
      "model_module": "@jupyter-widgets/controls",
      "model_module_version": "1.5.0",
      "model_name": "HBoxModel",
      "state": {
       "children": [
        "IPY_MODEL_05d5e470da0648e4bcb1a5ca3ff290d9",
        "IPY_MODEL_99916a643b9a4252a6d7114c2ea4aef1"
       ],
       "layout": "IPY_MODEL_cdbad02356fe42d68bfff497d6b0ae96"
      }
     },
     "f08a14342f984e0788493699b2c826e4": {
      "model_module": "@jupyter-widgets/controls",
      "model_module_version": "1.5.0",
      "model_name": "LabelModel",
      "state": {
       "layout": "IPY_MODEL_8480330991b24edfa818f85fa5db2871",
       "style": "IPY_MODEL_7e3fcba15f954fedb4dfcbe3c66abba7"
      }
     },
     "f3f307b67e554ba5926f88e2231d3aba": {
      "model_module": "@jupyter-widgets/base",
      "model_module_version": "1.2.0",
      "model_name": "LayoutModel",
      "state": {}
     },
     "f448972f399d48a6ae08102e3f67648d": {
      "model_module": "@jupyter-widgets/base",
      "model_module_version": "1.2.0",
      "model_name": "LayoutModel",
      "state": {}
     },
     "f469d57505c34ee687d1bcffa4ae2fdf": {
      "model_module": "@jupyter-widgets/base",
      "model_module_version": "1.2.0",
      "model_name": "LayoutModel",
      "state": {}
     },
     "f497c184f42246dc87614c8752dd49c8": {
      "model_module": "@jupyter-widgets/controls",
      "model_module_version": "1.5.0",
      "model_name": "CheckboxModel",
      "state": {
       "disabled": false,
       "layout": "IPY_MODEL_a7b68e50fd8a4952aafc047e61a4fcd5",
       "style": "IPY_MODEL_e53739215dcb48088868c96756f35105",
       "value": false
      }
     },
     "f4f2bde7e8114875a0aa47e6fa53bc93": {
      "model_module": "@jupyter-widgets/base",
      "model_module_version": "1.2.0",
      "model_name": "LayoutModel",
      "state": {
       "width": "1000px"
      }
     },
     "f5bc90e45eb54daeb5cc63c8d5015115": {
      "model_module": "@jupyter-widgets/controls",
      "model_module_version": "1.5.0",
      "model_name": "HBoxModel",
      "state": {
       "children": [
        "IPY_MODEL_391b174dfe154262a25b2d1f79763291",
        "IPY_MODEL_7c4fd014f48140019d5ff89edcbd13ff"
       ],
       "layout": "IPY_MODEL_b32325e6572840c0b53c2ec42023d216"
      }
     },
     "f699117d7b6a4817ba83116e1672beb4": {
      "model_module": "@jupyter-widgets/base",
      "model_module_version": "1.2.0",
      "model_name": "LayoutModel",
      "state": {
       "grid_area": "left-sidebar"
      }
     },
     "f78304f630c341c0a6f370d43f34a53d": {
      "model_module": "@jupyter-widgets/base",
      "model_module_version": "1.2.0",
      "model_name": "LayoutModel",
      "state": {}
     },
     "f7a1b9eb23db412a9bc30012eda3f750": {
      "model_module": "@jupyter-widgets/controls",
      "model_module_version": "1.5.0",
      "model_name": "LabelModel",
      "state": {
       "layout": "IPY_MODEL_960e35f07c934fc9a286694c587ae955",
       "style": "IPY_MODEL_29952a30eaa04b7e90f6df0aead6660b"
      }
     },
     "f7e9c2607a124734bec2eb27ac613c51": {
      "model_module": "@jupyter-widgets/controls",
      "model_module_version": "1.5.0",
      "model_name": "LabelModel",
      "state": {
       "layout": "IPY_MODEL_5bbfd0e8e4b04ac080b8b77f270fb657",
       "style": "IPY_MODEL_9affcae88e6b4c539842284122f27b52",
       "value": "In dynamic programming, the order of performance of operations is not at all important."
      }
     },
     "f8ca91ce9949467d87de246f87964863": {
      "model_module": "@jupyter-widgets/base",
      "model_module_version": "1.2.0",
      "model_name": "LayoutModel",
      "state": {
       "grid_template_areas": "\"header header\"\n\"left-sidebar left-sidebar\"\n\"footer footer\"",
       "grid_template_columns": "1fr 1fr",
       "grid_template_rows": "1fr 3fr 1fr"
      }
     },
     "f8cafde85c1c442ab3b3a1d19d5a72ea": {
      "model_module": "@jupyter-widgets/base",
      "model_module_version": "1.2.0",
      "model_name": "LayoutModel",
      "state": {
       "width": "30px"
      }
     },
     "fa11ec7801e842929881625d510921a9": {
      "model_module": "@jupyter-widgets/controls",
      "model_module_version": "1.5.0",
      "model_name": "HBoxModel",
      "state": {
       "children": [
        "IPY_MODEL_f7a1b9eb23db412a9bc30012eda3f750",
        "IPY_MODEL_7177621c587141fb8fe67443bdf1fa22"
       ],
       "layout": "IPY_MODEL_88f8f97696464fd1a8cfab9db829fcaa"
      }
     },
     "fa8c7dd32ac1445fbcb00328cd022e8e": {
      "model_module": "@jupyter-widgets/base",
      "model_module_version": "1.2.0",
      "model_name": "LayoutModel",
      "state": {}
     },
     "faa85d885d1349c59dd2aa0564826f6e": {
      "model_module": "@jupyter-widgets/base",
      "model_module_version": "1.2.0",
      "model_name": "LayoutModel",
      "state": {
       "width": "30px"
      }
     },
     "fafca7cd63114afaa8b32ee323e844a4": {
      "model_module": "@jupyter-widgets/base",
      "model_module_version": "1.2.0",
      "model_name": "LayoutModel",
      "state": {
       "width": "30px"
      }
     },
     "fb0cdf095e1c4f59a4b84aa632b42180": {
      "model_module": "@jupyter-widgets/controls",
      "model_module_version": "1.5.0",
      "model_name": "DescriptionStyleModel",
      "state": {
       "description_width": ""
      }
     },
     "fb3662eab575415090bb390189bdfe7f": {
      "model_module": "@jupyter-widgets/controls",
      "model_module_version": "1.5.0",
      "model_name": "CheckboxModel",
      "state": {
       "disabled": false,
       "layout": "IPY_MODEL_ec865932e8c74e8fbfa072514496a289",
       "style": "IPY_MODEL_c7a3950bc28842969d8c260c72bf6279",
       "value": false
      }
     },
     "fb7a0d0f92664034acd46c8aa57e9f44": {
      "model_module": "@jupyter-widgets/controls",
      "model_module_version": "1.5.0",
      "model_name": "LabelModel",
      "state": {
       "layout": "IPY_MODEL_dc69fc022af343c4a1f6ed54d5562b50",
       "style": "IPY_MODEL_9822ca043e5344fc9b8a4a91afa46fe6"
      }
     },
     "fb828ba8644e44edb93c021c433595e2": {
      "model_module": "@jupyter-widgets/base",
      "model_module_version": "1.2.0",
      "model_name": "LayoutModel",
      "state": {
       "width": "30px"
      }
     },
     "fb99963387a64b61863503cac350e4aa": {
      "model_module": "@jupyter-widgets/base",
      "model_module_version": "1.2.0",
      "model_name": "LayoutModel",
      "state": {
       "display": "none"
      }
     },
     "fbf44ccb30a74e42a4f1220c2e8af8d6": {
      "model_module": "@jupyter-widgets/controls",
      "model_module_version": "1.5.0",
      "model_name": "HBoxModel",
      "state": {
       "children": [
        "IPY_MODEL_bdeb95aa2d424913b48fb671fa43ce11",
        "IPY_MODEL_a23141770756447e9f5b805938cf8864"
       ],
       "layout": "IPY_MODEL_1b5e7f360d924b44af132f57a07997e5"
      }
     },
     "fc274a710aa443ae8625357eaa98b3e8": {
      "model_module": "@jupyter-widgets/controls",
      "model_module_version": "1.5.0",
      "model_name": "LabelModel",
      "state": {
       "layout": "IPY_MODEL_1083f8f58f1e4a03bb1948ae62f2f128",
       "style": "IPY_MODEL_899e8d84014b4834b0e2f256bd04fcdd"
      }
     },
     "fc2bfbc8bbec4486ba1a4fe3e0d94db9": {
      "model_module": "@jupyter-widgets/controls",
      "model_module_version": "1.5.0",
      "model_name": "DescriptionStyleModel",
      "state": {
       "description_width": "initial"
      }
     },
     "fcc488453ba641b9a174d0d09a946f5c": {
      "model_module": "@jupyter-widgets/base",
      "model_module_version": "1.2.0",
      "model_name": "LayoutModel",
      "state": {}
     },
     "fd9f228b117b4c19946c779ca8c54c0c": {
      "model_module": "@jupyter-widgets/base",
      "model_module_version": "1.2.0",
      "model_name": "LayoutModel",
      "state": {
       "align_items": "stretch",
       "display": "flex",
       "flex_flow": "row wrap",
       "grid_area": "footer",
       "margin": "30px 0 0 0"
      }
     },
     "fdb12ea0bc124733b151d3ec88ff6fdb": {
      "model_module": "@jupyter-widgets/base",
      "model_module_version": "1.2.0",
      "model_name": "LayoutModel",
      "state": {
       "display": "none"
      }
     },
     "fe51e2f26a8c4a0ba4f9faba26240093": {
      "model_module": "@jupyter-widgets/controls",
      "model_module_version": "1.5.0",
      "model_name": "LabelModel",
      "state": {
       "layout": "IPY_MODEL_770db2b400bd4b3f9aa2009d47b84c03",
       "style": "IPY_MODEL_6f796dec686041de91fec4df2adad7a1"
      }
     },
     "fe693fde9014435896afa7d2c81765fb": {
      "model_module": "@jupyter-widgets/controls",
      "model_module_version": "1.5.0",
      "model_name": "ButtonStyleModel",
      "state": {
       "button_color": "lightblue"
      }
     },
     "feefab4e56db4d6e9cef8a56fe7330aa": {
      "model_module": "@jupyter-widgets/controls",
      "model_module_version": "1.5.0",
      "model_name": "HBoxModel",
      "state": {
       "children": [
        "IPY_MODEL_c5381b5eec2f44199d5b89b7958e479a",
        "IPY_MODEL_7c5cb9b45edf486783fccd8441ddb27b"
       ],
       "layout": "IPY_MODEL_47f1254a39b44214880abeb17900ffbd"
      }
     },
     "ff5cb39b8a61400daa9b6bad00d764ef": {
      "model_module": "@jupyter-widgets/controls",
      "model_module_version": "1.5.0",
      "model_name": "DescriptionStyleModel",
      "state": {
       "description_width": ""
      }
     },
     "ffa13c58acc9455888efc7ca0454fb1d": {
      "model_module": "@jupyter-widgets/controls",
      "model_module_version": "1.5.0",
      "model_name": "DescriptionStyleModel",
      "state": {
       "description_width": "initial"
      }
     }
    },
    "version_major": 2,
    "version_minor": 0
   }
  }
 },
 "nbformat": 4,
 "nbformat_minor": 4
}
