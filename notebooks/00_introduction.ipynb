{
 "cells": [
  {
   "cell_type": "markdown",
   "metadata": {},
   "source": [
    "<font size=\"+4\">Lesson 0: Introduction</font>   "
   ]
  },
  {
   "cell_type": "markdown",
   "metadata": {},
   "source": [
    "Welcome to the first lesson of Magic of Dynamic Programming. By the end of this course you will know a step-by-step method to design dynamic programming algorithms to solve the type of problems you get in algorithm classes and job interviews."
   ]
  },
  {
   "cell_type": "markdown",
   "metadata": {},
   "source": [
    "# This Classroom\n",
    "\n",
    "The course consists of these notebooks. Most of the content is delivered through __text__, __diagrams__ and __quizzes__. Some of the notebooks contain a __video__ to motivate the topic."
   ]
  },
  {
   "cell_type": "markdown",
   "metadata": {},
   "source": [
    "<div class=\"exercise exercise-info\">\n",
    "    <input type=\"checkbox\" id=\"see_quiz\" >\n",
    "    <label for=\"see_quiz\"> Do you see the <b>multiple choice quizzes</b> below?\"</label><br>\n",
    "</div>"
   ]
  },
  {
   "cell_type": "markdown",
   "metadata": {},
   "source": [
    "Quizzes should appear in blue (or is that cyan?) boxes like the one above.\n",
    "\n",
    "If you don't see the quizzes, or they have 'broken link' icons, just click on __Run All Cells__ from the __Run__ menu and wait a few seconds for the quizzes to load.\n",
    "\n",
    "Now let's check that you know how to run the exercises.. please complete the exercise below 😉 "
   ]
  },
  {
   "cell_type": "markdown",
   "metadata": {},
   "source": [
    "<div class=\"exercise exercise-info\">\n",
    "\n",
    "In order to execute a cell, select the cell by clicking it. Then press <code>Ctrl-Enter</code>. <br><br> Using <code>Shift-Enter</code> instead of Ctrl-Enter will execute the code and move to the next cell at the same time.<br><br>\n",
    "<hr>    \n",
    "<b>Exercise</b>: uncomment one line of code in the next cell, and run the cell to see what the cow says.\n",
    "</div>"
   ]
  },
  {
   "cell_type": "code",
   "execution_count": 1,
   "metadata": {
    "pycharm": {
     "name": "#%%\n"
    }
   },
   "outputs": [
    {
     "name": "stdout",
     "output_type": "stream",
     "text": [
      "+-------------------------------------------------+\n",
      "|                                                 |\n",
      "|                                                 |\n",
      "+-------------------------------------------------+\n",
      "        \\   ^__^\n",
      "         \\  (oo)\\_______\n",
      "            (__)\\       )\\/\\\n",
      "                 ||----w |\n",
      "                 ||     ||\n"
     ]
    }
   ],
   "source": [
    "print('+-------------------------------------------------+'); print('|                                                 |')\n",
    "X = [68, 121, 110, 97, 109 ,105, 99, 32, 80 ,114, 111, 103, 114, 97, 109, 111, 111 ,45, 105 ,110, 103, 32, 105, 115, 32 ,109, 121, 32, 102, 97, 118 ,111, 117, 114, 105, 116, 101, 32 ,115 ,117, 98, 106, 101, 99, 116, 33]\n",
    "cowsay ='| '\n",
    "for x in X:\n",
    "    cowsay+= chr(x)\n",
    "cowsay += '  |'\n",
    "#print (cowsay)\n",
    "print('|                                                 |');print('+-------------------------------------------------+');print('        \\\\   ^__^');print('         \\\\  (oo)\\\\_______');print('            (__)\\\\       )\\\\/\\\\');print('                 ||----w |');print('                 ||     ||')                                                     "
   ]
  },
  {
   "cell_type": "markdown",
   "metadata": {},
   "source": [
    "<div class=\"exercise exercise-info\">\n",
    "    From the pane to the left, click on the Table of Contents icon to see the notebook structure and and navigate within the notebook. Click on the Folder icon to navigate to other notebooks.\n",
    "</div>"
   ]
  },
  {
   "cell_type": "markdown",
   "metadata": {},
   "source": [
    "One more important note: Some of the code in these notebooks is for rendering the quizzes and such. I have hidden that type of code and left exercise starter code visible. You can always show or hide code cells by __Collapse Selected Cells__ from the __View__ menu or clicking to the left of a cell to hide it and on the __ellipses ...__ to SHOW it!"
   ]
  },
  {
   "cell_type": "code",
   "execution_count": 2,
   "metadata": {
    "jupyter": {
     "source_hidden": true
    }
   },
   "outputs": [
    {
     "data": {
      "application/vnd.jupyter.widget-view+json": {
       "model_id": "a1f26d0118384d59ab8ff33d756907c5",
       "version_major": 2,
       "version_minor": 0
      },
      "text/plain": [
       "VBox(box_style='info', children=(HBox(children=(HTML(value='<style>p{word-wrap: break-word}</style> <p>Check a…"
      ]
     },
     "metadata": {},
     "output_type": "display_data"
    }
   ],
   "source": [
    "%run \"quizzes/quiz.py\" \"quizzes/00/where_are_the_solutions.json\""
   ]
  },
  {
   "cell_type": "markdown",
   "metadata": {},
   "source": [
    "# What is Dynamic Programming?"
   ]
  },
  {
   "cell_type": "markdown",
   "metadata": {},
   "source": [
    "<figure>\n",
    "    <img src=\"../images/bellman_front_page.png\" width=\"300px\" alt=\"An Introduction to the Theory of Dynamic Programming\"/>\n",
    "    <figcaption><b>Figure 1.</b> Front page of 'An Introduction to the Theory of Dynamic Programming' (Bellman, 1953)</figcaption>\n",
    "</figure>"
   ]
  },
  {
   "cell_type": "markdown",
   "metadata": {
    "pycharm": {
     "name": "#%% md\n"
    }
   },
   "source": [
    "## The origin of the term 'dynamic programming\n",
    "Richard Bellman was a professor of mathematics who worked for the RAND corporation in the 1950's. It's interesting to read the professor's own explanation of the term dynamic programming.\n",
    "<figure>\n",
    "    <img src=\"../images/bellman_preface_highlighted.png\" width = \"700px\"/>\n",
    "    <figcaption><b>Figure 2.</b> Screenshot from preface of 'An Introduction to the Theory of Dynamic Programming' (Bellman, 1953)</figcaption>\n",
    "</figure>"
   ]
  },
  {
   "cell_type": "code",
   "execution_count": 3,
   "metadata": {
    "jupyter": {
     "source_hidden": true
    },
    "pycharm": {
     "name": "#%% md\n"
    }
   },
   "outputs": [
    {
     "data": {
      "application/vnd.jupyter.widget-view+json": {
       "model_id": "e90c633b1cae4edb94ceefc30ade7a80",
       "version_major": 2,
       "version_minor": 0
      },
      "text/plain": [
       "VBox(box_style='info', children=(HBox(children=(HTML(value=\"<style>p{word-wrap: break-word}</style> <p>Check t…"
      ]
     },
     "metadata": {},
     "output_type": "display_data"
    }
   ],
   "source": [
    "%run \"quizzes/quiz.py\" \"quizzes/00/bellman.json\""
   ]
  },
  {
   "cell_type": "markdown",
   "metadata": {},
   "source": [
    "# Recursion"
   ]
  },
  {
   "cell_type": "markdown",
   "metadata": {},
   "source": [
    "## Sum of n numbers\n",
    "When solving dynamic programming problems, you'll be turning top-down algorithms into **bottom-up** ones. So to limber up, let's start by practicing the other direction: In the following exercise you'll practice turning an algorithm that you _usually_ solve bottom-up into **top-down**!"
   ]
  },
  {
   "cell_type": "code",
   "execution_count": 4,
   "metadata": {
    "init_cell": true,
    "jupyter": {
     "source_hidden": true
    },
    "pycharm": {
     "name": "#%%\n"
    }
   },
   "outputs": [
    {
     "data": {
      "image/jpeg": "[encoded data removed]",
      "text/html": [
       "\n",
       "        <iframe\n",
       "            width=\"400\"\n",
       "            height=\"300\"\n",
       "            src=\"https://www.youtube.com/embed/roqumrTB9g0\"\n",
       "            frameborder=\"0\"\n",
       "            allowfullscreen\n",
       "        ></iframe>\n",
       "        "
      ],
      "text/plain": [
       "<IPython.lib.display.YouTubeVideo at 0x1ad395904c8>"
      ]
     },
     "execution_count": 4,
     "metadata": {},
     "output_type": "execute_result"
    }
   ],
   "source": [
    "from IPython.display import YouTubeVideo\n",
    "YouTubeVideo('roqumrTB9g0')"
   ]
  },
  {
   "cell_type": "markdown",
   "metadata": {},
   "source": [
    "<div class=\"exercise exercise-info\">\n",
    "    Write a recursive function in Python to add a list of numbers. For example, if your list is {3, 1, 4}, the algorithm will output 8.\n",
    "<div    "
   ]
  },
  {
   "cell_type": "code",
   "execution_count": 5,
   "metadata": {
    "pycharm": {
     "name": "#%%\n"
    }
   },
   "outputs": [],
   "source": [
    "def sum(numbers):\n",
    "\n",
    "    #####################\n",
    "    # YOUR CODE HERE    #\n",
    "    #####################\n",
    "\n",
    "    return False\n",
    "\n"
   ]
  },
  {
   "cell_type": "code",
   "execution_count": 6,
   "metadata": {
    "pycharm": {
     "name": "#%%\n"
    }
   },
   "outputs": [
    {
     "name": "stdout",
     "output_type": "stream",
     "text": [
      "False\n"
     ]
    }
   ],
   "source": [
    "# unit tests\n",
    "v = [3, 1, 4, 5, 9, 2, 6]\n",
    "print (sum(v))"
   ]
  },
  {
   "cell_type": "markdown",
   "metadata": {
    "pycharm": {
     "name": "#%% md\n"
    }
   },
   "source": [
    "## Check if a given string is a palindrome\n",
    "\n",
    "A string [palindrome](https://en.wikipedia.org/wiki/Palindrome) is a string that is exactly the same read backward as forward."
   ]
  },
  {
   "cell_type": "code",
   "execution_count": 7,
   "metadata": {
    "hide_input": false,
    "init_cell": true,
    "jupyter": {
     "source_hidden": true
    },
    "pycharm": {
     "name": "#%%\n"
    }
   },
   "outputs": [
    {
     "data": {
      "application/vnd.jupyter.widget-view+json": {
       "model_id": "ffcbee78be4e4408ae79a80fe7840271",
       "version_major": 2,
       "version_minor": 0
      },
      "text/plain": [
       "VBox(box_style='info', children=(HBox(children=(HTML(value='<style>p{word-wrap: break-word}</style> <p>Which o…"
      ]
     },
     "metadata": {},
     "output_type": "display_data"
    }
   ],
   "source": [
    "%run \"quizzes/quiz.py\" \"quizzes/00/palindrome_strings.json\""
   ]
  },
  {
   "cell_type": "markdown",
   "metadata": {
    "pycharm": {
     "name": "#%% md\n"
    }
   },
   "source": [
    "**An algorithm for is_palindrome:** We could test for whether a string with n characters is a palindrome by running along the string simultaneously from each end, using a 'left' pointer and a 'right' pointer until the pointers cross. At each step check if the characters under the left and right pointers match - if they don't: return false. If we get to the middle of the string and all the characters matched: return true."
   ]
  },
  {
   "cell_type": "code",
   "execution_count": 8,
   "metadata": {
    "init_cell": true,
    "jupyter": {
     "source_hidden": true
    },
    "pycharm": {
     "name": "#%%\n"
    }
   },
   "outputs": [
    {
     "data": {
      "application/vnd.jupyter.widget-view+json": {
       "model_id": "d7f5e663754d413db0a85b10d878c67d",
       "version_major": 2,
       "version_minor": 0
      },
      "text/plain": [
       "VBox(box_style='info', children=(HBox(children=(HTML(value='<style>p{word-wrap: break-word}</style> <p>Which t…"
      ]
     },
     "metadata": {},
     "output_type": "display_data"
    }
   ],
   "source": [
    "%run \"quizzes/quiz.py\" \"quizzes/00/palindrome_iterative.json\""
   ]
  },
  {
   "cell_type": "markdown",
   "metadata": {
    "deletable": false
   },
   "source": [
    "<div class=\"exercise exercise-info\">\n",
    "Now, as an exercise, write a _recursive_ function to check if a given string is a palindrome. The difference is subtle but important, so give it a try!\n",
    "<div>    "
   ]
  },
  {
   "cell_type": "code",
   "execution_count": 9,
   "metadata": {
    "pycharm": {
     "name": "#%%\n"
    }
   },
   "outputs": [],
   "source": [
    "def is_palindrome(s):\n",
    "\n",
    "    #####################\n",
    "    # YOUR CODE HERE    #\n",
    "    #####################\n",
    "\n",
    "    return False"
   ]
  },
  {
   "cell_type": "code",
   "execution_count": 10,
   "metadata": {
    "pycharm": {
     "name": "#%%\n"
    }
   },
   "outputs": [],
   "source": [
    "# sample unit tests\n",
    "tests = ['', 'a', 'abba', 'imma']\n",
    "expected = [True, True, True, False]\n",
    "actual = [is_palindrome(s) for s in tests]\n",
    "# assert(actual == expected)"
   ]
  },
  {
   "cell_type": "markdown",
   "metadata": {},
   "source": [
    "# Solutions"
   ]
  },
  {
   "cell_type": "markdown",
   "metadata": {
    "deletable": false,
    "pycharm": {
     "name": "#%% md\n"
    }
   },
   "source": [
    "<div class=\"exercise exercise-warning\"><details><summary>Sum of n numbers</summary>\n",
    "    \n",
    "```python   \n",
    "    # %load solutions/00/sum_n_numbers.py\n",
    "    def sum(numbers):\n",
    "\n",
    "        n = len(numbers)\n",
    "        if n <= 0:\n",
    "            return 0\n",
    "        return sum(numbers[0: n - 1]) + numbers[n - 1]\n",
    "\n",
    "```\n",
    "</details></div>"
   ]
  },
  {
   "cell_type": "markdown",
   "metadata": {},
   "source": [
    "<div class=\"exercise exercise-warning\"><details><summary>Is the string a palindrome?</summary>\n",
    "\n",
    "```python\n",
    "    # %load solutions/00/is_palindrome.py\n",
    "    def is_palindrome(s):\n",
    "\n",
    "        n = len(s)\n",
    "\n",
    "        if n == 0 or n == 1:\n",
    "            return 1\n",
    "        return s[0] == s[n - 1] and is_palindrome(s[1:n - 1])\n",
    "\n",
    "```\n",
    "\n",
    "</details></div>"
   ]
  },
  {
   "cell_type": "code",
   "execution_count": 11,
   "metadata": {
    "collapsed": false,
    "jupyter": {
     "outputs_hidden": false
    },
    "pycharm": {
     "name": "#%%\n"
    }
   },
   "outputs": [
    {
     "data": {
      "text/html": [
       "<style>\n",
       "    .alert {\n",
       "      padding: 15px;\n",
       "      margin-bottom: 20px;\n",
       "      border: 1px solid transparent;\n",
       "      border-radius: 4px;\n",
       "    }\n",
       "\n",
       "    .alert h4 {\n",
       "      margin-top: 0;\n",
       "      color: inherit;\n",
       "    }\n",
       "\n",
       "    .alert .alert-link {\n",
       "      font-weight: bold;\n",
       "    }\n",
       "\n",
       "    .alert > p,\n",
       "    .alert > ul {\n",
       "      margin-bottom: 0;\n",
       "    }\n",
       "\n",
       "    .alert > p + p {\n",
       "      margin-top: 5px;\n",
       "    }\n",
       "\n",
       "    .alert-dismissable,\n",
       "    .alert-dismissible {\n",
       "      padding-right: 35px;\n",
       "    }\n",
       "\n",
       "    .alert-dismissable .close,\n",
       "    .alert-dismissible .close {\n",
       "      position: relative;\n",
       "      top: -2px;\n",
       "      right: -21px;\n",
       "      color: inherit;\n",
       "    }\n",
       "\n",
       "    .alert-success {\n",
       "      background-color: #C8E6C9;\n",
       "      border-color: #81C784;\n",
       "      color: #388E3C;\n",
       "    }\n",
       "\n",
       "    .alert-success hr {\n",
       "      border-top-color: #AED581;\n",
       "    }\n",
       "\n",
       "    .alert-success .alert-link {\n",
       "      color: #2E7D32;\n",
       "    }\n",
       "\n",
       "    .alert-info {\n",
       "      background-color: #B2EBF2;\n",
       "      border-color: #4DD0E1;\n",
       "      color: #0097A7;\n",
       "    }\n",
       "\n",
       "    .alert-info hr {\n",
       "      border-top-color: #00838F;\n",
       "    }\n",
       "\n",
       "    .alert-info .alert-link {\n",
       "      color: #245269;\n",
       "    }\n",
       "\n",
       "    .alert-warning {\n",
       "      background-color: #FFE0B2;\n",
       "      border-color: #FFB74D;\n",
       "      color: #F57C00;\n",
       "    }\n",
       "\n",
       "    .alert-warning hr {\n",
       "      border-top-color: #FFB74D;\n",
       "    }\n",
       "\n",
       "    .alert-warning .alert-link {\n",
       "      color: #EF6C00;\n",
       "    }\n",
       "\n",
       "    .alert-danger {\n",
       "      background-color: #ffcdd2;\n",
       "      border-color: #e57373;\n",
       "      color: #d32f2f;\n",
       "    }\n",
       "\n",
       "    .alert-danger hr {\n",
       "      border-top-color: #d32f2f;\n",
       "    }\n",
       "\n",
       "    .alert-danger .alert-link {\n",
       "      color: #c62828;\n",
       "    }\n",
       "    \n",
       "\n",
       "    .exercise {\n",
       "      padding: 15px;\n",
       "      margin-bottom: 20px;\n",
       "      border: 1px solid transparent;\n",
       "      border-radius: 4px;\n",
       "    }\n",
       "\n",
       "    .exercise h4 {\n",
       "      margin-top: 0;\n",
       "      color: inherit;\n",
       "    }\n",
       "\n",
       "    .exercise .alert-link {\n",
       "      font-weight: bold;\n",
       "    }\n",
       "\n",
       "    .exercise > p,\n",
       "    .exercise > ul {\n",
       "      margin-bottom: 0;\n",
       "    }\n",
       "\n",
       "    .exercise > p + p {\n",
       "      margin-top: 5px;\n",
       "    }\n",
       "\n",
       "    .exercise-info {\n",
       "      background-color: #B2EBF2;\n",
       "      border-color: #4DD0E1;\n",
       "      color: #000000;\n",
       "    }\n",
       "\n",
       "    .exercise-info hr {\n",
       "      border-top-color: #00838F;\n",
       "    }\n",
       "\n",
       "    .exercise-info .alert-link {\n",
       "      color: #245269;\n",
       "    }\n",
       "\n",
       "   .exercise-warning {\n",
       "      background-color: #FFE0B2;\n",
       "      border-color: #FFB74D;\n",
       "      color: #000000;\n",
       "    }\n",
       "\n",
       "    .exercise-warning hr {\n",
       "      border-top-color: #FFB74D;\n",
       "    }\n",
       "\n",
       "    .excercise-warning .alert-link {\n",
       "      color: #EF6C00;\n",
       "    }\n",
       "\n",
       "\n",
       "</style>\n"
      ],
      "text/plain": [
       "<IPython.core.display.HTML object>"
      ]
     },
     "execution_count": 11,
     "metadata": {},
     "output_type": "execute_result"
    }
   ],
   "source": [
    "# workaround for known ipywidget issue not rendering alert style colours on Jupyter lab\n",
    "from IPython.core.display import HTML\n",
    "HTML(open(\"../styles/custom.css\", \"r\").read())"
   ]
  }
 ],
 "metadata": {
  "celltoolbar": "Edit Metadata",
  "kernelspec": {
   "display_name": "Python 3",
   "language": "python",
   "name": "python3"
  },
  "language_info": {
   "codemirror_mode": {
    "name": "ipython",
    "version": 3
   },
   "file_extension": ".py",
   "mimetype": "text/x-python",
   "name": "python",
   "nbconvert_exporter": "python",
   "pygments_lexer": "ipython3",
   "version": "3.7.6"
  },
  "latex_envs": {
   "LaTeX_envs_menu_present": true,
   "autoclose": false,
   "autocomplete": true,
   "bibliofile": "biblio.bib",
   "cite_by": "apalike",
   "current_citInitial": 1,
   "eqLabelWithNumbers": true,
   "eqNumInitial": 1,
   "hotkeys": {
    "equation": "Ctrl-E",
    "itemize": "Ctrl-I"
   },
   "labels_anchors": false,
   "latex_user_defs": false,
   "report_style_numbering": false,
   "user_envs_cfg": false
  },
  "toc": {
   "base_numbering": "",
   "nav_menu": {},
   "number_sections": false,
   "sideBar": true,
   "skip_h1_title": true,
   "title_cell": "Table of Contents",
   "title_sidebar": "Contents",
   "toc_cell": false,
   "toc_position": {
    "height": "calc(100% - 180px)",
    "left": "10px",
    "top": "150px",
    "width": "380.391px"
   },
   "toc_section_display": true,
   "toc_window_display": true
  },
  "toc-showmarkdowntxt": false,
  "widgets": {
   "application/vnd.jupyter.widget-state+json": {
    "state": {
     "00506ecd6d964a16b7a3f31922010742": {
      "model_module": "@jupyter-widgets/controls",
      "model_module_version": "1.5.0",
      "model_name": "HTMLModel",
      "state": {
       "layout": "IPY_MODEL_b81ed07f670d45d2aaf504de9e59544a",
       "style": "IPY_MODEL_51089e454ec842b18dac7a09cb934665",
       "value": "<style>p{word-wrap: break-word}</style> <p>Which terms describe the algorithm above? </p>"
      }
     },
     "00be375c82954f0f9e6d53ff2588873d": {
      "model_module": "@jupyter-widgets/controls",
      "model_module_version": "1.5.0",
      "model_name": "DescriptionStyleModel",
      "state": {
       "description_width": ""
      }
     },
     "016519a26951443db781e4ae85092736": {
      "model_module": "@jupyter-widgets/base",
      "model_module_version": "1.2.0",
      "model_name": "LayoutModel",
      "state": {}
     },
     "01a25b427f6e4ff0815a2aba2ae6f673": {
      "model_module": "@jupyter-widgets/base",
      "model_module_version": "1.2.0",
      "model_name": "LayoutModel",
      "state": {
       "align_items": "stretch",
       "display": "flex",
       "flex_flow": "row wrap",
       "width": "auto"
      }
     },
     "01ec10b96a2d4744a988b477cc586cd2": {
      "model_module": "@jupyter-widgets/base",
      "model_module_version": "1.2.0",
      "model_name": "LayoutModel",
      "state": {}
     },
     "023201e6a8d043499850df6dfcd3a468": {
      "model_module": "@jupyter-widgets/controls",
      "model_module_version": "1.5.0",
      "model_name": "HBoxModel",
      "state": {
       "children": [
        "IPY_MODEL_6bad206c0904424ca5a2230b203ba4d0",
        "IPY_MODEL_8c5c1878015a4eebb2aca5740965b3d4"
       ],
       "layout": "IPY_MODEL_8f9967f5d9a5497a98bb34a67a38a977"
      }
     },
     "02a62125a934493f9bb8230a2b4865de": {
      "model_module": "@jupyter-widgets/controls",
      "model_module_version": "1.5.0",
      "model_name": "HTMLModel",
      "state": {
       "layout": "IPY_MODEL_e8968fe5024a43cab1838b7675b12ae4",
       "style": "IPY_MODEL_097381a3804f43b29fb9bdd1d483fce9",
       "value": "<style>p{word-wrap: break-word}</style> <p>You can quickly collapse a code cell by clicking the selection bar to its left. </p>"
      }
     },
     "0399cacdfb51478298bcd8fee7255870": {
      "model_module": "@jupyter-widgets/base",
      "model_module_version": "1.2.0",
      "model_name": "LayoutModel",
      "state": {
       "width": "30px"
      }
     },
     "04400d8a06eb4c189eb2ea23a011627d": {
      "model_module": "@jupyter-widgets/controls",
      "model_module_version": "1.5.0",
      "model_name": "DescriptionStyleModel",
      "state": {
       "description_width": ""
      }
     },
     "04a83173463c4afdaf8b897b21dcee43": {
      "model_module": "@jupyter-widgets/controls",
      "model_module_version": "1.5.0",
      "model_name": "DescriptionStyleModel",
      "state": {
       "description_width": ""
      }
     },
     "04c540a72a9f4408bd5f4575c07c2e84": {
      "model_module": "@jupyter-widgets/base",
      "model_module_version": "1.2.0",
      "model_name": "LayoutModel",
      "state": {}
     },
     "057dd9d31854494fad6cb3e23c1238dc": {
      "model_module": "@jupyter-widgets/base",
      "model_module_version": "1.2.0",
      "model_name": "LayoutModel",
      "state": {
       "width": "30px"
      }
     },
     "07cdd3b0f5b04cb982b69866090774fd": {
      "model_module": "@jupyter-widgets/controls",
      "model_module_version": "1.5.0",
      "model_name": "HBoxModel",
      "state": {
       "children": [
        "IPY_MODEL_a652e0d8b60540d6ade3e55bbec35cf6",
        "IPY_MODEL_7aaad548a50f4e61a21d289a20e26359",
        "IPY_MODEL_ffb050c281e741e4af2339f1a33315fc"
       ],
       "layout": "IPY_MODEL_eab183581fc241108e6edc99deec991d"
      }
     },
     "07d7c6ae280443c6802cb694fc968541": {
      "model_module": "@jupyter-widgets/controls",
      "model_module_version": "1.5.0",
      "model_name": "DescriptionStyleModel",
      "state": {
       "description_width": ""
      }
     },
     "07d81e3cd7534f168a17db4a455ad888": {
      "model_module": "@jupyter-widgets/base",
      "model_module_version": "1.2.0",
      "model_name": "LayoutModel",
      "state": {
       "align_items": "stretch",
       "display": "flex",
       "flex_flow": "column",
       "width": "100%"
      }
     },
     "083bbc96f0214a42ba4a9d51afe97753": {
      "model_module": "@jupyter-widgets/controls",
      "model_module_version": "1.5.0",
      "model_name": "HTMLModel",
      "state": {
       "layout": "IPY_MODEL_01ec10b96a2d4744a988b477cc586cd2",
       "style": "IPY_MODEL_7594d266b4d34de2b1f26a21bf9ed273",
       "value": "<style>p{word-wrap: break-word}</style> <p>Solutions are located at the end of each notebook. </p>"
      }
     },
     "0894618df1134e0ba5582522c06bea22": {
      "model_module": "@jupyter-widgets/base",
      "model_module_version": "1.2.0",
      "model_name": "LayoutModel",
      "state": {}
     },
     "090dbe4aeccd4b41a6c56cf101fb70c0": {
      "model_module": "@jupyter-widgets/controls",
      "model_module_version": "1.5.0",
      "model_name": "HBoxModel",
      "state": {
       "children": [
        "IPY_MODEL_8b1d187aebde4a1eac0b7e5eaf86be66",
        "IPY_MODEL_598e65ae4ee54c60b13d82b6b9ec30f8"
       ],
       "layout": "IPY_MODEL_11eb0f5a51094102962113547ba168fd"
      }
     },
     "090f659b36e141458ad877865310360a": {
      "model_module": "@jupyter-widgets/controls",
      "model_module_version": "1.5.0",
      "model_name": "HBoxModel",
      "state": {
       "children": [
        "IPY_MODEL_b76b607eed2a4a21915be88982aaf719",
        "IPY_MODEL_412cae93cd144a019483d044f15f510e"
       ],
       "layout": "IPY_MODEL_aca8f65e3f8f4abdb13cc71c45db1e0b"
      }
     },
     "0925467c3bec4759920fd327753f03a9": {
      "model_module": "@jupyter-widgets/controls",
      "model_module_version": "1.5.0",
      "model_name": "CheckboxModel",
      "state": {
       "disabled": false,
       "layout": "IPY_MODEL_255313d910ac4a229b712f30abeea0b7",
       "style": "IPY_MODEL_5ab4762a7b4e442baa5f031042e0bb05",
       "value": false
      }
     },
     "097381a3804f43b29fb9bdd1d483fce9": {
      "model_module": "@jupyter-widgets/controls",
      "model_module_version": "1.5.0",
      "model_name": "DescriptionStyleModel",
      "state": {
       "description_width": ""
      }
     },
     "0a57fbc025704236bc211ca1ae8aecda": {
      "model_module": "@jupyter-widgets/base",
      "model_module_version": "1.2.0",
      "model_name": "LayoutModel",
      "state": {
       "align_items": "stretch",
       "display": "flex",
       "flex_flow": "row wrap",
       "width": "auto"
      }
     },
     "0a62719eef114dd1982da5da59bda4a4": {
      "model_module": "@jupyter-widgets/controls",
      "model_module_version": "1.5.0",
      "model_name": "DescriptionStyleModel",
      "state": {
       "description_width": "initial"
      }
     },
     "0a8515f434634805bc3b037e9cd2a923": {
      "model_module": "@jupyter-widgets/controls",
      "model_module_version": "1.5.0",
      "model_name": "DescriptionStyleModel",
      "state": {
       "description_width": "initial"
      }
     },
     "0a9f45b0a49e4ef8affe320eb26c8245": {
      "model_module": "@jupyter-widgets/controls",
      "model_module_version": "1.5.0",
      "model_name": "HBoxModel",
      "state": {
       "children": [
        "IPY_MODEL_5fa3cf6dc14946fcabbcbfed53ead710",
        "IPY_MODEL_1846d130938041a0bc9c8dfe456f1e53"
       ],
       "layout": "IPY_MODEL_934cb0d51ae84c1bb3acb65ffe99fa2b"
      }
     },
     "0b70f8ab1d75485cb9e57fdbd396a9c2": {
      "model_module": "@jupyter-widgets/controls",
      "model_module_version": "1.5.0",
      "model_name": "HTMLModel",
      "state": {
       "layout": "IPY_MODEL_db6575aae001419ea02d4436147e014f",
       "style": "IPY_MODEL_6363d77ec8884b5b93be9ca5216293db",
       "value": "<style>p{word-wrap: break-word}</style> <p>iterative </p>"
      }
     },
     "0b94e2f52f514f18a87208624dc297f9": {
      "model_module": "@jupyter-widgets/controls",
      "model_module_version": "1.5.0",
      "model_name": "HBoxModel",
      "state": {
       "children": [
        "IPY_MODEL_5b687c9cea1b42e781e59f4f6f8f1315",
        "IPY_MODEL_d2e23c795d144b858b10affc257d52eb"
       ],
       "layout": "IPY_MODEL_88afa7a99e0346a4833892add7d4bfbd"
      }
     },
     "0dff3f0eca354474b012ba994b7aa3ed": {
      "model_module": "@jupyter-widgets/controls",
      "model_module_version": "1.5.0",
      "model_name": "LabelModel",
      "state": {
       "layout": "IPY_MODEL_445713d80ff94090b65e2b46a5c36891",
       "style": "IPY_MODEL_86de7e92801e47cb91e2aa4c5c3db606"
      }
     },
     "0ed6249da7104f8ab3910d1c70d8ebf3": {
      "model_module": "@jupyter-widgets/controls",
      "model_module_version": "1.5.0",
      "model_name": "HBoxModel",
      "state": {
       "children": [
        "IPY_MODEL_77c0eb6efd0746258a3ecf97a6931e30",
        "IPY_MODEL_3235d90b944f4220ac0357f06080f7f6"
       ],
       "layout": "IPY_MODEL_8855bfa296ee49f0a273190cc8547fb5"
      }
     },
     "0ef68e28c81748af9df9940d317b2504": {
      "model_module": "@jupyter-widgets/controls",
      "model_module_version": "1.5.0",
      "model_name": "DescriptionStyleModel",
      "state": {
       "description_width": ""
      }
     },
     "0f9bc13a88bb46558fb75ef70f0ee130": {
      "model_module": "@jupyter-widgets/controls",
      "model_module_version": "1.5.0",
      "model_name": "DescriptionStyleModel",
      "state": {
       "description_width": ""
      }
     },
     "105ec93ff07f403b88f6d59665b81b9f": {
      "model_module": "@jupyter-widgets/controls",
      "model_module_version": "1.5.0",
      "model_name": "HTMLModel",
      "state": {
       "layout": "IPY_MODEL_488ce18e910c464c919975747a53e7e8",
       "style": "IPY_MODEL_9c62493c74254a9f8cf0781d8380e709",
       "value": "<style>p{word-wrap: break-word}</style> <p>inductive </p>"
      }
     },
     "10bd05b690aa406488d2bae8d24daebd": {
      "model_module": "@jupyter-widgets/controls",
      "model_module_version": "1.5.0",
      "model_name": "HBoxModel",
      "state": {
       "children": [
        "IPY_MODEL_770ec3dfb3a640608c65f1856808ed88",
        "IPY_MODEL_083bbc96f0214a42ba4a9d51afe97753"
       ],
       "layout": "IPY_MODEL_72e888b3afd04fddbadb596713e2872f"
      }
     },
     "11eb0f5a51094102962113547ba168fd": {
      "model_module": "@jupyter-widgets/base",
      "model_module_version": "1.2.0",
      "model_name": "LayoutModel",
      "state": {
       "align_items": "stretch",
       "display": "flex",
       "flex_flow": "row wrap",
       "width": "auto"
      }
     },
     "1252dbfb68c44e8d8e10f6623b217c04": {
      "model_module": "@jupyter-widgets/controls",
      "model_module_version": "1.5.0",
      "model_name": "HBoxModel",
      "state": {
       "children": [
        "IPY_MODEL_e5c3534ead4e4d47a1a0100cbe3fc4fd",
        "IPY_MODEL_40f1b4728d354a25acdcabd79c01c830"
       ],
       "layout": "IPY_MODEL_1a22eefaf04c4ad0aaabc5b3e494cacd"
      }
     },
     "1328d8099ec44371a190c14835807666": {
      "model_module": "@jupyter-widgets/controls",
      "model_module_version": "1.5.0",
      "model_name": "DescriptionStyleModel",
      "state": {
       "description_width": "initial"
      }
     },
     "135f424b0f1148a58b798af9e69256e6": {
      "model_module": "@jupyter-widgets/base",
      "model_module_version": "1.2.0",
      "model_name": "LayoutModel",
      "state": {
       "align_items": "stretch",
       "display": "flex",
       "flex_flow": "row wrap",
       "width": "auto"
      }
     },
     "1363cebfe400451e8ce281764b4caf24": {
      "model_module": "@jupyter-widgets/base",
      "model_module_version": "1.2.0",
      "model_name": "LayoutModel",
      "state": {}
     },
     "13b518d26ac046dea216ab6ff4f9b8f8": {
      "model_module": "@jupyter-widgets/base",
      "model_module_version": "1.2.0",
      "model_name": "LayoutModel",
      "state": {
       "align_items": "stretch",
       "display": "flex",
       "flex_flow": "row wrap",
       "width": "auto"
      }
     },
     "13d5daf23b534ab38d2271ad8c8fe76c": {
      "model_module": "@jupyter-widgets/controls",
      "model_module_version": "1.5.0",
      "model_name": "DescriptionStyleModel",
      "state": {
       "description_width": ""
      }
     },
     "140f7ad6678649388d6723ae449c06d3": {
      "model_module": "@jupyter-widgets/base",
      "model_module_version": "1.2.0",
      "model_name": "LayoutModel",
      "state": {}
     },
     "168eb05d401a4fbe99b52462ce3c6aca": {
      "model_module": "@jupyter-widgets/controls",
      "model_module_version": "1.5.0",
      "model_name": "DescriptionStyleModel",
      "state": {
       "description_width": "initial"
      }
     },
     "16a06c8cce2d44a8be192ed782baa3af": {
      "model_module": "@jupyter-widgets/base",
      "model_module_version": "1.2.0",
      "model_name": "LayoutModel",
      "state": {}
     },
     "16b5b19119224c2fbe9dfa0faf0cd61e": {
      "model_module": "@jupyter-widgets/controls",
      "model_module_version": "1.5.0",
      "model_name": "DescriptionStyleModel",
      "state": {
       "description_width": ""
      }
     },
     "1846d130938041a0bc9c8dfe456f1e53": {
      "model_module": "@jupyter-widgets/controls",
      "model_module_version": "1.5.0",
      "model_name": "HTMLModel",
      "state": {
       "layout": "IPY_MODEL_27a06e3215ef4d81879ca1804b92f8fa",
       "style": "IPY_MODEL_5fa032891d5d45d28a7fba79a0dbcaa8",
       "value": "<style>p{word-wrap: break-word}</style> <p>top-down </p>"
      }
     },
     "186b2655108340118d888e4e58bd54ab": {
      "model_module": "@jupyter-widgets/controls",
      "model_module_version": "1.5.0",
      "model_name": "DescriptionStyleModel",
      "state": {
       "description_width": ""
      }
     },
     "18dde67efd3d4d67afb38f0a701aa857": {
      "model_module": "@jupyter-widgets/base",
      "model_module_version": "1.2.0",
      "model_name": "LayoutModel",
      "state": {
       "display": "none"
      }
     },
     "196b2fa1449e4ad793e1bbdfceed1728": {
      "model_module": "@jupyter-widgets/controls",
      "model_module_version": "1.5.0",
      "model_name": "HBoxModel",
      "state": {
       "children": [
        "IPY_MODEL_1e6435df60a24e9793abbea752af976b",
        "IPY_MODEL_25d554df4cba4b52b2bb5b0b0bc058d1"
       ],
       "layout": "IPY_MODEL_51812441cea74796b4233e56afef01aa"
      }
     },
     "19ba3acb06e248fbab915386ad588458": {
      "model_module": "@jupyter-widgets/controls",
      "model_module_version": "1.5.0",
      "model_name": "HTMLModel",
      "state": {
       "layout": "IPY_MODEL_cc907cb540de41a4b87af17106d55344",
       "style": "IPY_MODEL_7fd31cec667043b6a002750740d8b221",
       "value": "<style>p{word-wrap: break-word}</style> <p> </p>"
      }
     },
     "1a22eefaf04c4ad0aaabc5b3e494cacd": {
      "model_module": "@jupyter-widgets/base",
      "model_module_version": "1.2.0",
      "model_name": "LayoutModel",
      "state": {
       "align_items": "stretch",
       "display": "flex",
       "flex_flow": "row wrap",
       "width": "auto"
      }
     },
     "1c76208d617b4c4ab24adb929cc55e56": {
      "model_module": "@jupyter-widgets/controls",
      "model_module_version": "1.5.0",
      "model_name": "DescriptionStyleModel",
      "state": {
       "description_width": ""
      }
     },
     "1ca2b694a0da4945bf73bf4a317406f5": {
      "model_module": "@jupyter-widgets/base",
      "model_module_version": "1.2.0",
      "model_name": "LayoutModel",
      "state": {}
     },
     "1cbc3529692f41d59b90fc330f40f640": {
      "model_module": "@jupyter-widgets/base",
      "model_module_version": "1.2.0",
      "model_name": "LayoutModel",
      "state": {
       "align_items": "stretch",
       "display": "flex",
       "flex_flow": "row wrap",
       "width": "auto"
      }
     },
     "1d84de2291414ae7a910cad4a87f07c0": {
      "model_module": "@jupyter-widgets/controls",
      "model_module_version": "1.5.0",
      "model_name": "DescriptionStyleModel",
      "state": {
       "description_width": ""
      }
     },
     "1df466205e594ec99aba04cdcb6e5bef": {
      "model_module": "@jupyter-widgets/base",
      "model_module_version": "1.2.0",
      "model_name": "LayoutModel",
      "state": {}
     },
     "1e6435df60a24e9793abbea752af976b": {
      "model_module": "@jupyter-widgets/controls",
      "model_module_version": "1.5.0",
      "model_name": "CheckboxModel",
      "state": {
       "disabled": false,
       "layout": "IPY_MODEL_88e9f324333d4fbd90b0cb11b4f145e1",
       "style": "IPY_MODEL_afff150c464846829ead05b293063019",
       "value": false
      }
     },
     "20b452df8a744ee7a1e7a6a8fe125355": {
      "model_module": "@jupyter-widgets/base",
      "model_module_version": "1.2.0",
      "model_name": "LayoutModel",
      "state": {
       "width": "30px"
      }
     },
     "20cfe6e709ab404ca5e6e71b9e6fa7f5": {
      "model_module": "@jupyter-widgets/controls",
      "model_module_version": "1.5.0",
      "model_name": "HTMLModel",
      "state": {
       "layout": "IPY_MODEL_419e323bb0c9444c941330b216dbca2e",
       "style": "IPY_MODEL_186b2655108340118d888e4e58bd54ab",
       "value": "<style>p{word-wrap: break-word}</style> <p>Which of the following strings are palindromes? </p>"
      }
     },
     "21639a20e0b6467e8b4e668a44ed8396": {
      "model_module": "@jupyter-widgets/controls",
      "model_module_version": "1.5.0",
      "model_name": "DescriptionStyleModel",
      "state": {
       "description_width": ""
      }
     },
     "22223cf735044af497634ce58e7b2445": {
      "model_module": "@jupyter-widgets/controls",
      "model_module_version": "1.5.0",
      "model_name": "DescriptionStyleModel",
      "state": {
       "description_width": ""
      }
     },
     "2370b622f2664ab0bb7c1947cfa226e0": {
      "model_module": "@jupyter-widgets/controls",
      "model_module_version": "1.5.0",
      "model_name": "DescriptionStyleModel",
      "state": {
       "description_width": ""
      }
     },
     "23ddb14c017745d9ba3d84244b18775b": {
      "model_module": "@jupyter-widgets/controls",
      "model_module_version": "1.5.0",
      "model_name": "CheckboxModel",
      "state": {
       "disabled": false,
       "layout": "IPY_MODEL_0399cacdfb51478298bcd8fee7255870",
       "style": "IPY_MODEL_0a8515f434634805bc3b037e9cd2a923",
       "value": false
      }
     },
     "255313d910ac4a229b712f30abeea0b7": {
      "model_module": "@jupyter-widgets/base",
      "model_module_version": "1.2.0",
      "model_name": "LayoutModel",
      "state": {
       "width": "30px"
      }
     },
     "25d554df4cba4b52b2bb5b0b0bc058d1": {
      "model_module": "@jupyter-widgets/controls",
      "model_module_version": "1.5.0",
      "model_name": "HTMLModel",
      "state": {
       "layout": "IPY_MODEL_f87256b1e1e247c0b493ae5515880f6d",
       "style": "IPY_MODEL_04a83173463c4afdaf8b897b21dcee43",
       "value": "<style>p{word-wrap: break-word}</style> <p>palindrome </p>"
      }
     },
     "27a06e3215ef4d81879ca1804b92f8fa": {
      "model_module": "@jupyter-widgets/base",
      "model_module_version": "1.2.0",
      "model_name": "LayoutModel",
      "state": {}
     },
     "27fe9253563747238f416bda32cb26f5": {
      "model_module": "@jupyter-widgets/base",
      "model_module_version": "1.2.0",
      "model_name": "LayoutModel",
      "state": {
       "align_items": "stretch",
       "display": "flex",
       "flex_flow": "column",
       "width": "100%"
      }
     },
     "28ee55b6d18449f88f1adf5cebd8e0f1": {
      "model_module": "@jupyter-widgets/controls",
      "model_module_version": "1.5.0",
      "model_name": "CheckboxModel",
      "state": {
       "disabled": false,
       "layout": "IPY_MODEL_834c8b0f12a142d3bdf2500215f28f04",
       "style": "IPY_MODEL_7bb6f4699963404ca73f6b230986a3d2",
       "value": false
      }
     },
     "2914cb5c5fd4429d889629e106d3c604": {
      "model_module": "@jupyter-widgets/controls",
      "model_module_version": "1.5.0",
      "model_name": "HTMLModel",
      "state": {
       "layout": "IPY_MODEL_bd5e2fbb38d54e0fb8beb105c4a32e97",
       "style": "IPY_MODEL_57a03f30aea44268aa98abce7909ba27",
       "value": "<style>p{word-wrap: break-word}</style> <p>recursive </p>"
      }
     },
     "29327ffb34484d0db262e24593795411": {
      "model_module": "@jupyter-widgets/controls",
      "model_module_version": "1.5.0",
      "model_name": "LabelModel",
      "state": {
       "layout": "IPY_MODEL_468f438afd26453db25e1f286c5431c2",
       "style": "IPY_MODEL_babe227ad6314cb69c1cb69ccb306ff5"
      }
     },
     "294c898801d14cf9bae16c887a9553c5": {
      "model_module": "@jupyter-widgets/base",
      "model_module_version": "1.2.0",
      "model_name": "LayoutModel",
      "state": {
       "width": "30px"
      }
     },
     "2996420f25254994a5c6e68878bb4f97": {
      "model_module": "@jupyter-widgets/controls",
      "model_module_version": "1.5.0",
      "model_name": "ButtonStyleModel",
      "state": {
       "button_color": "#4DD0E1"
      }
     },
     "29c2c0c121eb4daf994580f0c3b3d6b1": {
      "model_module": "@jupyter-widgets/base",
      "model_module_version": "1.2.0",
      "model_name": "LayoutModel",
      "state": {
       "width": "30px"
      }
     },
     "2a346580214d456a894b992329808e9d": {
      "model_module": "@jupyter-widgets/controls",
      "model_module_version": "1.5.0",
      "model_name": "DescriptionStyleModel",
      "state": {
       "description_width": ""
      }
     },
     "2b5451a6195a4636beb92aacad14cd0f": {
      "model_module": "@jupyter-widgets/base",
      "model_module_version": "1.2.0",
      "model_name": "LayoutModel",
      "state": {
       "align_items": "stretch",
       "display": "flex",
       "flex_flow": "row wrap",
       "width": "auto"
      }
     },
     "2bfe9877e2fe4b5eada86b6ddb0c24d9": {
      "model_module": "@jupyter-widgets/base",
      "model_module_version": "1.2.0",
      "model_name": "LayoutModel",
      "state": {}
     },
     "2c8046cb51ba47d8b9c07534fe4769c6": {
      "model_module": "@jupyter-widgets/controls",
      "model_module_version": "1.5.0",
      "model_name": "LabelModel",
      "state": {
       "layout": "IPY_MODEL_1df466205e594ec99aba04cdcb6e5bef",
       "style": "IPY_MODEL_f26b8068b6c34576a3b46bc9d98b0620"
      }
     },
     "2d918c17b87c44dfbdd0fe23b157250c": {
      "model_module": "@jupyter-widgets/controls",
      "model_module_version": "1.5.0",
      "model_name": "HTMLModel",
      "state": {
       "layout": "IPY_MODEL_9fb8920ed0494793a412b8a20ba1b476",
       "style": "IPY_MODEL_b16f62fa1c324fb29827121e2ea1eb62",
       "value": "<style>p{word-wrap: break-word}</style> <p>live on time emit no evil </p>"
      }
     },
     "2df4d256d6e24cdea101ab6e75ef6e7b": {
      "model_module": "@jupyter-widgets/base",
      "model_module_version": "1.2.0",
      "model_name": "LayoutModel",
      "state": {
       "width": "30px"
      }
     },
     "2f5e665f18094e819577186c31ec4590": {
      "model_module": "@jupyter-widgets/base",
      "model_module_version": "1.2.0",
      "model_name": "LayoutModel",
      "state": {}
     },
     "31277be7fdae48e288985b2d15c44495": {
      "model_module": "@jupyter-widgets/controls",
      "model_module_version": "1.5.0",
      "model_name": "ButtonModel",
      "state": {
       "description": "Submit",
       "layout": "IPY_MODEL_2f5e665f18094e819577186c31ec4590",
       "style": "IPY_MODEL_c6c56828175f4f158f7c416c030348ca"
      }
     },
     "3235d90b944f4220ac0357f06080f7f6": {
      "model_module": "@jupyter-widgets/controls",
      "model_module_version": "1.5.0",
      "model_name": "HBoxModel",
      "state": {
       "children": [
        "IPY_MODEL_23ddb14c017745d9ba3d84244b18775b",
        "IPY_MODEL_0b70f8ab1d75485cb9e57fdbd396a9c2"
       ],
       "layout": "IPY_MODEL_be29d07ccb824eb99e9b1d596e260923"
      }
     },
     "32bad0cee61b441c981bd32c6bea064c": {
      "model_module": "@jupyter-widgets/controls",
      "model_module_version": "1.5.0",
      "model_name": "HBoxModel",
      "state": {
       "children": [
        "IPY_MODEL_cee8365fafbc4f0a90977839c15c5468",
        "IPY_MODEL_02a62125a934493f9bb8230a2b4865de"
       ],
       "layout": "IPY_MODEL_fd0340dd4c3b42fc8acccfcd921f5e16"
      }
     },
     "335124cc96bb4ed3885278a8520e09c6": {
      "model_module": "@jupyter-widgets/controls",
      "model_module_version": "1.5.0",
      "model_name": "HBoxModel",
      "state": {
       "children": [
        "IPY_MODEL_c5c908b23c7d4e579246991ffa49e6f3",
        "IPY_MODEL_090f659b36e141458ad877865310360a"
       ],
       "layout": "IPY_MODEL_bf53d24dfc4c4f0e88e77ddd2bce6060"
      }
     },
     "339fbc7172ce42ba89c52ce6e6f4e53c": {
      "model_module": "@jupyter-widgets/base",
      "model_module_version": "1.2.0",
      "model_name": "LayoutModel",
      "state": {}
     },
     "34f1c4a764304401b99761568eae9992": {
      "model_module": "@jupyter-widgets/base",
      "model_module_version": "1.2.0",
      "model_name": "LayoutModel",
      "state": {}
     },
     "364780346f4d496cae83c2c433a471b9": {
      "model_module": "@jupyter-widgets/controls",
      "model_module_version": "1.5.0",
      "model_name": "DescriptionStyleModel",
      "state": {
       "description_width": "initial"
      }
     },
     "36a0daeff129497c8d739bbf80a9abd5": {
      "model_module": "@jupyter-widgets/controls",
      "model_module_version": "1.5.0",
      "model_name": "DescriptionStyleModel",
      "state": {
       "description_width": "initial"
      }
     },
     "36bdec370db54afda4d4fc28e9d37c39": {
      "model_module": "@jupyter-widgets/controls",
      "model_module_version": "1.5.0",
      "model_name": "DescriptionStyleModel",
      "state": {
       "description_width": ""
      }
     },
     "384e8f8bf383487ba35fa625ef9ae046": {
      "model_module": "@jupyter-widgets/controls",
      "model_module_version": "1.5.0",
      "model_name": "HBoxModel",
      "state": {
       "children": [
        "IPY_MODEL_bee0817ed0a74b039f2821a86ef01fe7",
        "IPY_MODEL_ba159312930348928e0aa7ef596136fb"
       ],
       "layout": "IPY_MODEL_8f14668ff329427c93a4c1a5a2f6ed8b"
      }
     },
     "3876ffe720384c7aaaeba4dcb9319789": {
      "model_module": "@jupyter-widgets/controls",
      "model_module_version": "1.5.0",
      "model_name": "HBoxModel",
      "state": {
       "children": [
        "IPY_MODEL_b4a7e035918747edb94335cf179ec99a",
        "IPY_MODEL_023201e6a8d043499850df6dfcd3a468"
       ],
       "layout": "IPY_MODEL_6f772c4d9cc741b08f4eb939afb7604d"
      }
     },
     "3885c5a3e9bb4d54be22cbcb985519b5": {
      "model_module": "@jupyter-widgets/controls",
      "model_module_version": "1.5.0",
      "model_name": "LabelModel",
      "state": {
       "layout": "IPY_MODEL_140f7ad6678649388d6723ae449c06d3",
       "style": "IPY_MODEL_852f8166438d490abc41feb4fdb3eb4b"
      }
     },
     "38a872c7d5ee4cb49b55134a2cfc9b2a": {
      "model_module": "@jupyter-widgets/base",
      "model_module_version": "1.2.0",
      "model_name": "LayoutModel",
      "state": {
       "align_items": "stretch",
       "display": "flex",
       "flex_flow": "row wrap",
       "width": "auto"
      }
     },
     "3afa03e99035475bb9292e57a0e17d5f": {
      "model_module": "@jupyter-widgets/controls",
      "model_module_version": "1.5.0",
      "model_name": "DescriptionStyleModel",
      "state": {
       "description_width": ""
      }
     },
     "3b1150d6e08b41e19b01c4ede25b3b59": {
      "model_module": "@jupyter-widgets/controls",
      "model_module_version": "1.5.0",
      "model_name": "DescriptionStyleModel",
      "state": {
       "description_width": "initial"
      }
     },
     "3e8f2d70732f4f7c92806cf2fe17a615": {
      "model_module": "@jupyter-widgets/controls",
      "model_module_version": "1.5.0",
      "model_name": "HBoxModel",
      "state": {
       "children": [
        "IPY_MODEL_2c8046cb51ba47d8b9c07534fe4769c6",
        "IPY_MODEL_32bad0cee61b441c981bd32c6bea064c"
       ],
       "layout": "IPY_MODEL_d1215e6ba0a3404a8487eb8fc1d86ec9"
      }
     },
     "40d879333a1349d8ab7cc9d8ba2c21b6": {
      "model_module": "@jupyter-widgets/controls",
      "model_module_version": "1.5.0",
      "model_name": "HBoxModel",
      "state": {
       "children": [
        "IPY_MODEL_a1f286f3dfaf4240aaac18db4502aee1",
        "IPY_MODEL_887b5792c4fe416285d5a6a2f570a44f"
       ],
       "layout": "IPY_MODEL_135f424b0f1148a58b798af9e69256e6"
      }
     },
     "40de78935d8c4254896c8b3b0fd59715": {
      "model_module": "@jupyter-widgets/controls",
      "model_module_version": "1.5.0",
      "model_name": "CheckboxModel",
      "state": {
       "disabled": false,
       "layout": "IPY_MODEL_d78abacb70f14325a9e23ce5ee8d7724",
       "style": "IPY_MODEL_f1daf0ed29b343048ff99adcc13f000a",
       "value": false
      }
     },
     "40f1b4728d354a25acdcabd79c01c830": {
      "model_module": "@jupyter-widgets/controls",
      "model_module_version": "1.5.0",
      "model_name": "HTMLModel",
      "state": {
       "layout": "IPY_MODEL_8f1bf36d6f3442d18d5aac6ed960f543",
       "style": "IPY_MODEL_3afa03e99035475bb9292e57a0e17d5f",
       "value": "<style>p{word-wrap: break-word}</style> <p>In dynamic programming, the order of performance of operations is not at all important. </p>"
      }
     },
     "412cae93cd144a019483d044f15f510e": {
      "model_module": "@jupyter-widgets/controls",
      "model_module_version": "1.5.0",
      "model_name": "HTMLModel",
      "state": {
       "layout": "IPY_MODEL_46192aee20cc4305ac1197fc56c2b2d7",
       "style": "IPY_MODEL_2370b622f2664ab0bb7c1947cfa226e0",
       "value": "<style>p{word-wrap: break-word}</style> <p>Once a code cell is collapsed, there is no way to ever see it again! </p>"
      }
     },
     "419e323bb0c9444c941330b216dbca2e": {
      "model_module": "@jupyter-widgets/base",
      "model_module_version": "1.2.0",
      "model_name": "LayoutModel",
      "state": {}
     },
     "428a42b4d2124e5990adb377a3d10256": {
      "model_module": "@jupyter-widgets/base",
      "model_module_version": "1.2.0",
      "model_name": "LayoutModel",
      "state": {
       "width": "30px"
      }
     },
     "441411d71aff4c3789f3daa85ec877c6": {
      "model_module": "@jupyter-widgets/base",
      "model_module_version": "1.2.0",
      "model_name": "LayoutModel",
      "state": {
       "align_items": "stretch",
       "display": "flex",
       "flex_flow": "row wrap",
       "margin": "30px 0 0 0"
      }
     },
     "445713d80ff94090b65e2b46a5c36891": {
      "model_module": "@jupyter-widgets/base",
      "model_module_version": "1.2.0",
      "model_name": "LayoutModel",
      "state": {
       "height": "50%",
       "margin": "0 0 0 30px",
       "width": "50%"
      }
     },
     "46192aee20cc4305ac1197fc56c2b2d7": {
      "model_module": "@jupyter-widgets/base",
      "model_module_version": "1.2.0",
      "model_name": "LayoutModel",
      "state": {}
     },
     "468f438afd26453db25e1f286c5431c2": {
      "model_module": "@jupyter-widgets/base",
      "model_module_version": "1.2.0",
      "model_name": "LayoutModel",
      "state": {}
     },
     "488ce18e910c464c919975747a53e7e8": {
      "model_module": "@jupyter-widgets/base",
      "model_module_version": "1.2.0",
      "model_name": "LayoutModel",
      "state": {}
     },
     "49bb171d624d45c1b647bee15707a35a": {
      "model_module": "@jupyter-widgets/base",
      "model_module_version": "1.2.0",
      "model_name": "LayoutModel",
      "state": {
       "align_items": "stretch",
       "display": "flex",
       "flex_flow": "row wrap",
       "width": "auto"
      }
     },
     "4a096cc4613f4b099fe652e4a40e3203": {
      "model_module": "@jupyter-widgets/base",
      "model_module_version": "1.2.0",
      "model_name": "LayoutModel",
      "state": {
       "width": "30px"
      }
     },
     "4b35c776e36f4e94a9ece1813e088d16": {
      "model_module": "@jupyter-widgets/base",
      "model_module_version": "1.2.0",
      "model_name": "LayoutModel",
      "state": {
       "width": "30px"
      }
     },
     "4da643608eb846ce98aa1ed6053de3eb": {
      "model_module": "@jupyter-widgets/base",
      "model_module_version": "1.2.0",
      "model_name": "LayoutModel",
      "state": {}
     },
     "4da6520a3cf54273ac79880ac36e7523": {
      "model_module": "@jupyter-widgets/controls",
      "model_module_version": "1.5.0",
      "model_name": "DescriptionStyleModel",
      "state": {
       "description_width": ""
      }
     },
     "4e0f799f26bb49d3bd6867b4b253481f": {
      "model_module": "@jupyter-widgets/base",
      "model_module_version": "1.2.0",
      "model_name": "LayoutModel",
      "state": {}
     },
     "4ee42af519df4b2cbaa508d993bedc67": {
      "model_module": "@jupyter-widgets/controls",
      "model_module_version": "1.5.0",
      "model_name": "CheckboxModel",
      "state": {
       "disabled": false,
       "layout": "IPY_MODEL_d8f4bec45f4a43a5a141212e6462611c",
       "style": "IPY_MODEL_364780346f4d496cae83c2c433a471b9",
       "value": false
      }
     },
     "4f30d524bddc4076892b50da9dec0c89": {
      "model_module": "@jupyter-widgets/base",
      "model_module_version": "1.2.0",
      "model_name": "LayoutModel",
      "state": {}
     },
     "510526dc429d440e820d9faecfa5ce27": {
      "model_module": "@jupyter-widgets/controls",
      "model_module_version": "1.5.0",
      "model_name": "HBoxModel",
      "state": {
       "children": [
        "IPY_MODEL_9f046b7e39eb4a039b22e0dc15e20fc3",
        "IPY_MODEL_f71e19d22b6643daaad37c697d20834a"
       ],
       "layout": "IPY_MODEL_a04597c6ba2a4ad5a3a93c43cb79720e"
      }
     },
     "51089e454ec842b18dac7a09cb934665": {
      "model_module": "@jupyter-widgets/controls",
      "model_module_version": "1.5.0",
      "model_name": "DescriptionStyleModel",
      "state": {
       "description_width": ""
      }
     },
     "51812441cea74796b4233e56afef01aa": {
      "model_module": "@jupyter-widgets/base",
      "model_module_version": "1.2.0",
      "model_name": "LayoutModel",
      "state": {
       "align_items": "stretch",
       "display": "flex",
       "flex_flow": "row wrap",
       "width": "auto"
      }
     },
     "51a7c576be7e476783ffaa8cc37260ed": {
      "model_module": "@jupyter-widgets/controls",
      "model_module_version": "1.5.0",
      "model_name": "HBoxModel",
      "state": {
       "children": [
        "IPY_MODEL_29327ffb34484d0db262e24593795411",
        "IPY_MODEL_fdcd5813a4134c6db8521cbf3fbb3e64"
       ],
       "layout": "IPY_MODEL_6dd43ae575014231bc1329b2c25f968e"
      }
     },
     "52133dd665bf4913a4577bef22ddd2f4": {
      "model_module": "@jupyter-widgets/base",
      "model_module_version": "1.2.0",
      "model_name": "LayoutModel",
      "state": {}
     },
     "5256da93418540c194922dfa0f4a6788": {
      "model_module": "@jupyter-widgets/base",
      "model_module_version": "1.2.0",
      "model_name": "LayoutModel",
      "state": {}
     },
     "5340c4b9670f4aabbcf6f03219dafd7f": {
      "model_module": "@jupyter-widgets/base",
      "model_module_version": "1.2.0",
      "model_name": "LayoutModel",
      "state": {
       "align_items": "stretch",
       "display": "flex",
       "flex_flow": "row wrap",
       "width": "auto"
      }
     },
     "53b04767e6a34b3698048d603c6c7b86": {
      "model_module": "@jupyter-widgets/base",
      "model_module_version": "1.2.0",
      "model_name": "LayoutModel",
      "state": {
       "align_items": "stretch",
       "display": "flex",
       "flex_flow": "column",
       "width": "100%"
      }
     },
     "55b191c06f0b49e79996f50977316a78": {
      "model_module": "@jupyter-widgets/base",
      "model_module_version": "1.2.0",
      "model_name": "LayoutModel",
      "state": {}
     },
     "57a03f30aea44268aa98abce7909ba27": {
      "model_module": "@jupyter-widgets/controls",
      "model_module_version": "1.5.0",
      "model_name": "DescriptionStyleModel",
      "state": {
       "description_width": ""
      }
     },
     "57ff0761e90148108e5044a87fef9bf6": {
      "model_module": "@jupyter-widgets/base",
      "model_module_version": "1.2.0",
      "model_name": "LayoutModel",
      "state": {
       "align_items": "stretch",
       "display": "flex",
       "flex_flow": "column",
       "width": "100%"
      }
     },
     "5944712dbed04db29de876f034abda27": {
      "model_module": "@jupyter-widgets/controls",
      "model_module_version": "1.5.0",
      "model_name": "DescriptionStyleModel",
      "state": {
       "description_width": ""
      }
     },
     "598d2de7aa724352bb8d08aa626a2653": {
      "model_module": "@jupyter-widgets/base",
      "model_module_version": "1.2.0",
      "model_name": "LayoutModel",
      "state": {}
     },
     "598e65ae4ee54c60b13d82b6b9ec30f8": {
      "model_module": "@jupyter-widgets/controls",
      "model_module_version": "1.5.0",
      "model_name": "HBoxModel",
      "state": {
       "children": [
        "IPY_MODEL_28ee55b6d18449f88f1adf5cebd8e0f1",
        "IPY_MODEL_9669355eacbf4ed4aab6291db65df076"
       ],
       "layout": "IPY_MODEL_acacf1cdc7694a9cbafc0b18e01dfd35"
      }
     },
     "5ab4762a7b4e442baa5f031042e0bb05": {
      "model_module": "@jupyter-widgets/controls",
      "model_module_version": "1.5.0",
      "model_name": "DescriptionStyleModel",
      "state": {
       "description_width": "initial"
      }
     },
     "5b2123e8873747fbba05babefab6a38a": {
      "model_module": "@jupyter-widgets/controls",
      "model_module_version": "1.5.0",
      "model_name": "ButtonModel",
      "state": {
       "description": "Show answer",
       "disabled": true,
       "layout": "IPY_MODEL_18dde67efd3d4d67afb38f0a701aa857",
       "style": "IPY_MODEL_2996420f25254994a5c6e68878bb4f97"
      }
     },
     "5b687c9cea1b42e781e59f4f6f8f1315": {
      "model_module": "@jupyter-widgets/controls",
      "model_module_version": "1.5.0",
      "model_name": "LabelModel",
      "state": {
       "layout": "IPY_MODEL_af4d78c6b2814cb793a202ea9310a918",
       "style": "IPY_MODEL_1d84de2291414ae7a910cad4a87f07c0"
      }
     },
     "5bb7e8d26187421e8f315b850d2f28ec": {
      "model_module": "@jupyter-widgets/base",
      "model_module_version": "1.2.0",
      "model_name": "LayoutModel",
      "state": {
       "align_items": "stretch",
       "display": "flex",
       "flex_flow": "row wrap",
       "width": "auto"
      }
     },
     "5ca7ee5110c04ca1a918edfdca023a7b": {
      "model_module": "@jupyter-widgets/controls",
      "model_module_version": "1.5.0",
      "model_name": "DescriptionStyleModel",
      "state": {
       "description_width": "initial"
      }
     },
     "5cb7dea05554406c984360cd0e71abc2": {
      "model_module": "@jupyter-widgets/controls",
      "model_module_version": "1.5.0",
      "model_name": "ButtonStyleModel",
      "state": {
       "button_color": "#4DD0E1"
      }
     },
     "5dab27d110024693813ed5d209f38e92": {
      "model_module": "@jupyter-widgets/base",
      "model_module_version": "1.2.0",
      "model_name": "LayoutModel",
      "state": {}
     },
     "5e3bccb1ba9b4473ba33d7b0c97eb14d": {
      "model_module": "@jupyter-widgets/base",
      "model_module_version": "1.2.0",
      "model_name": "LayoutModel",
      "state": {
       "align_items": "stretch",
       "display": "flex",
       "flex_flow": "row wrap",
       "width": "auto"
      }
     },
     "5eebe749513f4a27a632f2945ae2a50e": {
      "model_module": "@jupyter-widgets/base",
      "model_module_version": "1.2.0",
      "model_name": "LayoutModel",
      "state": {
       "width": "30px"
      }
     },
     "5fa032891d5d45d28a7fba79a0dbcaa8": {
      "model_module": "@jupyter-widgets/controls",
      "model_module_version": "1.5.0",
      "model_name": "DescriptionStyleModel",
      "state": {
       "description_width": ""
      }
     },
     "5fa3cf6dc14946fcabbcbfed53ead710": {
      "model_module": "@jupyter-widgets/controls",
      "model_module_version": "1.5.0",
      "model_name": "CheckboxModel",
      "state": {
       "disabled": false,
       "layout": "IPY_MODEL_2df4d256d6e24cdea101ab6e75ef6e7b",
       "style": "IPY_MODEL_1328d8099ec44371a190c14835807666",
       "value": false
      }
     },
     "5fa6419f68df47bdb08be0f01d37d0c8": {
      "model_module": "@jupyter-widgets/controls",
      "model_module_version": "1.5.0",
      "model_name": "HBoxModel",
      "state": {
       "children": [
        "IPY_MODEL_0925467c3bec4759920fd327753f03a9",
        "IPY_MODEL_948673d7cd6744b4ae679a630e5d8ea9"
       ],
       "layout": "IPY_MODEL_dc1ecf38915646c1bc9750fa9888b476"
      }
     },
     "608353e2824a40f2b0ef0c50e85c294d": {
      "model_module": "@jupyter-widgets/controls",
      "model_module_version": "1.5.0",
      "model_name": "HBoxModel",
      "state": {
       "children": [
        "IPY_MODEL_631270a0c9b946dba16619b286f26035",
        "IPY_MODEL_5fa6419f68df47bdb08be0f01d37d0c8"
       ],
       "layout": "IPY_MODEL_49bb171d624d45c1b647bee15707a35a"
      }
     },
     "60db9688d33146aa961d24aae4c43a09": {
      "model_module": "@jupyter-widgets/base",
      "model_module_version": "1.2.0",
      "model_name": "LayoutModel",
      "state": {}
     },
     "6184eab07c724206ba2dc73c7ab7b29a": {
      "model_module": "@jupyter-widgets/controls",
      "model_module_version": "1.5.0",
      "model_name": "HTMLModel",
      "state": {
       "layout": "IPY_MODEL_ebe9ab16224643159e2fa544b64e671b",
       "style": "IPY_MODEL_8aacf2ca24fe4c20b517c8e92310f425",
       "value": "<style>p{word-wrap: break-word}</style> <p>The term 'programming' means 'planning' </p>"
      }
     },
     "618ebce8192046eb9d83c1a729ec4d95": {
      "model_module": "@jupyter-widgets/controls",
      "model_module_version": "1.5.0",
      "model_name": "HBoxModel",
      "state": {
       "children": [
        "IPY_MODEL_a428320b44c949f5aadce40efef7dc3a",
        "IPY_MODEL_bffaddbd31754d89a312d7eb95ef7186"
       ],
       "layout": "IPY_MODEL_ea2d1872f9c949f9bfe9e6a941a4fc0b"
      }
     },
     "62699154c6f24e038fd3437224c9ae42": {
      "model_module": "@jupyter-widgets/controls",
      "model_module_version": "1.5.0",
      "model_name": "HTMLModel",
      "state": {
       "layout": "IPY_MODEL_4f30d524bddc4076892b50da9dec0c89",
       "style": "IPY_MODEL_cbd71f19236f4e34b7cb95192b6e9704",
       "value": "<style>p{word-wrap: break-word}</style> <p>In dynamic programming, the outcomes of each operation in a process are independant. </p>"
      }
     },
     "631270a0c9b946dba16619b286f26035": {
      "model_module": "@jupyter-widgets/controls",
      "model_module_version": "1.5.0",
      "model_name": "LabelModel",
      "state": {
       "layout": "IPY_MODEL_598d2de7aa724352bb8d08aa626a2653",
       "style": "IPY_MODEL_cda978ea1bf9477697380928ef74e6f9"
      }
     },
     "6313e6084b854e8f9abe3fb41b0f70eb": {
      "model_module": "@jupyter-widgets/controls",
      "model_module_version": "1.5.0",
      "model_name": "DescriptionStyleModel",
      "state": {
       "description_width": ""
      }
     },
     "63183e5bd162465fad975d6338d591b4": {
      "model_module": "@jupyter-widgets/controls",
      "model_module_version": "1.5.0",
      "model_name": "HBoxModel",
      "state": {
       "children": [
        "IPY_MODEL_98d4a6a20a83447a950b51027748ad0d",
        "IPY_MODEL_384e8f8bf383487ba35fa625ef9ae046"
       ],
       "layout": "IPY_MODEL_6ed197a306454832a80afeb3df4f206b"
      }
     },
     "6363d77ec8884b5b93be9ca5216293db": {
      "model_module": "@jupyter-widgets/controls",
      "model_module_version": "1.5.0",
      "model_name": "DescriptionStyleModel",
      "state": {
       "description_width": ""
      }
     },
     "63d95b7a840843d8aa0c3b8554343211": {
      "model_module": "@jupyter-widgets/controls",
      "model_module_version": "1.5.0",
      "model_name": "CheckboxModel",
      "state": {
       "disabled": false,
       "layout": "IPY_MODEL_f15a4bca65de44159c91d6608177eee6",
       "style": "IPY_MODEL_b68875aa25fb480d8d5e322e232e9efa",
       "value": false
      }
     },
     "64476977cce44c46b2967a1aebf35cfa": {
      "model_module": "@jupyter-widgets/controls",
      "model_module_version": "1.5.0",
      "model_name": "DescriptionStyleModel",
      "state": {
       "description_width": ""
      }
     },
     "64f92561717f452daa9609c2e2c9aabf": {
      "model_module": "@jupyter-widgets/base",
      "model_module_version": "1.2.0",
      "model_name": "LayoutModel",
      "state": {
       "align_items": "stretch",
       "display": "flex",
       "flex_flow": "row wrap",
       "width": "auto"
      }
     },
     "6691ac65edf8447fbedb3dcf8f6decda": {
      "model_module": "@jupyter-widgets/controls",
      "model_module_version": "1.5.0",
      "model_name": "LabelModel",
      "state": {
       "layout": "IPY_MODEL_34f1c4a764304401b99761568eae9992",
       "style": "IPY_MODEL_f966cda59ebe45efa4097af101912325"
      }
     },
     "66fbb4b36cea4f06b8559b079a3dfbf4": {
      "model_module": "@jupyter-widgets/base",
      "model_module_version": "1.2.0",
      "model_name": "LayoutModel",
      "state": {
       "align_items": "stretch",
       "display": "flex",
       "flex_flow": "row wrap",
       "width": "auto"
      }
     },
     "682f20032a37480981bc547d9b70b587": {
      "model_module": "@jupyter-widgets/controls",
      "model_module_version": "1.5.0",
      "model_name": "HBoxModel",
      "state": {
       "children": [
        "IPY_MODEL_a5754127d3fc41108469d77e4ba146a3",
        "IPY_MODEL_10bd05b690aa406488d2bae8d24daebd"
       ],
       "layout": "IPY_MODEL_01a25b427f6e4ff0815a2aba2ae6f673"
      }
     },
     "68b5481923644de4a29c6baf31040b1c": {
      "model_module": "@jupyter-widgets/controls",
      "model_module_version": "1.5.0",
      "model_name": "HTMLModel",
      "state": {
       "layout": "IPY_MODEL_6aff0b5eea3f49b6a836c6f74562d881",
       "style": "IPY_MODEL_13d5daf23b534ab38d2271ad8c8fe76c",
       "value": "<style>p{word-wrap: break-word}</style> <p>If you don't see starter code for an exercise, probably the code cell is collapsed by mistake. </p>"
      }
     },
     "690001c0d91e4e188500a1cf31b51bb7": {
      "model_module": "@jupyter-widgets/base",
      "model_module_version": "1.2.0",
      "model_name": "LayoutModel",
      "state": {
       "display": "flex",
       "flex_flow": "row",
       "justify_content": "space-between",
       "margin": "0 0 20px 0"
      }
     },
     "6a10cd85dfed4e2dac700553e34285c6": {
      "model_module": "@jupyter-widgets/controls",
      "model_module_version": "1.5.0",
      "model_name": "CheckboxModel",
      "state": {
       "disabled": false,
       "layout": "IPY_MODEL_9dae7833af22427ab9a0e1a6b8c54ac3",
       "style": "IPY_MODEL_3b1150d6e08b41e19b01c4ede25b3b59",
       "value": false
      }
     },
     "6aff0b5eea3f49b6a836c6f74562d881": {
      "model_module": "@jupyter-widgets/base",
      "model_module_version": "1.2.0",
      "model_name": "LayoutModel",
      "state": {}
     },
     "6b26950a238e4571acf7ca4b4413d0f7": {
      "model_module": "@jupyter-widgets/controls",
      "model_module_version": "1.5.0",
      "model_name": "DescriptionStyleModel",
      "state": {
       "description_width": ""
      }
     },
     "6b63d81aad384c7b80afdd689ea9cdbe": {
      "model_module": "@jupyter-widgets/base",
      "model_module_version": "1.2.0",
      "model_name": "LayoutModel",
      "state": {
       "display": "none"
      }
     },
     "6bad206c0904424ca5a2230b203ba4d0": {
      "model_module": "@jupyter-widgets/controls",
      "model_module_version": "1.5.0",
      "model_name": "CheckboxModel",
      "state": {
       "disabled": false,
       "layout": "IPY_MODEL_4a096cc4613f4b099fe652e4a40e3203",
       "style": "IPY_MODEL_dcb0f01dba3a430b9f3364bc53fc83e7",
       "value": false
      }
     },
     "6bf4c2a003474618b07b6678a9c3c5b4": {
      "model_module": "@jupyter-widgets/controls",
      "model_module_version": "1.5.0",
      "model_name": "DescriptionStyleModel",
      "state": {
       "description_width": ""
      }
     },
     "6cb93788063d4eac870477f7555042be": {
      "model_module": "@jupyter-widgets/controls",
      "model_module_version": "1.5.0",
      "model_name": "HBoxModel",
      "state": {
       "children": [
        "IPY_MODEL_eaafc2d9976e4c8dad804a2ea5f7edc4"
       ],
       "layout": "IPY_MODEL_92925113e5e547af8e7e2a2209886c0a"
      }
     },
     "6dd43ae575014231bc1329b2c25f968e": {
      "model_module": "@jupyter-widgets/base",
      "model_module_version": "1.2.0",
      "model_name": "LayoutModel",
      "state": {
       "align_items": "stretch",
       "display": "flex",
       "flex_flow": "row wrap",
       "width": "auto"
      }
     },
     "6eca17d0cd2f40b28533de3c9512fd39": {
      "model_module": "@jupyter-widgets/controls",
      "model_module_version": "1.5.0",
      "model_name": "HBoxModel",
      "state": {
       "children": [
        "IPY_MODEL_dd2bf5a680154b99a6948b717735bb34",
        "IPY_MODEL_f66df87f00db4179840be4c105809aa4"
       ],
       "layout": "IPY_MODEL_5e3bccb1ba9b4473ba33d7b0c97eb14d"
      }
     },
     "6ed197a306454832a80afeb3df4f206b": {
      "model_module": "@jupyter-widgets/base",
      "model_module_version": "1.2.0",
      "model_name": "LayoutModel",
      "state": {
       "align_items": "stretch",
       "display": "flex",
       "flex_flow": "row wrap",
       "width": "auto"
      }
     },
     "6f772c4d9cc741b08f4eb939afb7604d": {
      "model_module": "@jupyter-widgets/base",
      "model_module_version": "1.2.0",
      "model_name": "LayoutModel",
      "state": {
       "align_items": "stretch",
       "display": "flex",
       "flex_flow": "row wrap",
       "width": "auto"
      }
     },
     "705f5cb8991e43b1b32e86aeeb70f003": {
      "model_module": "@jupyter-widgets/base",
      "model_module_version": "1.2.0",
      "model_name": "LayoutModel",
      "state": {
       "width": "30px"
      }
     },
     "7186114bad604dd7a9ecdaf5f8a8930c": {
      "model_module": "@jupyter-widgets/base",
      "model_module_version": "1.2.0",
      "model_name": "LayoutModel",
      "state": {
       "align_items": "stretch",
       "display": "flex",
       "flex_flow": "row wrap",
       "width": "auto"
      }
     },
     "71ed8c6215fd46cd8811820945fab4b2": {
      "model_module": "@jupyter-widgets/controls",
      "model_module_version": "1.5.0",
      "model_name": "HBoxModel",
      "state": {
       "children": [
        "IPY_MODEL_6a10cd85dfed4e2dac700553e34285c6",
        "IPY_MODEL_f9c0d385dfad40df85fd2c1c974121ad"
       ],
       "layout": "IPY_MODEL_f146f8ce7d2241db81b8edd684dc1ae7"
      }
     },
     "72e888b3afd04fddbadb596713e2872f": {
      "model_module": "@jupyter-widgets/base",
      "model_module_version": "1.2.0",
      "model_name": "LayoutModel",
      "state": {
       "align_items": "stretch",
       "display": "flex",
       "flex_flow": "row wrap",
       "width": "auto"
      }
     },
     "7309bf3368ee436496c201624f993f01": {
      "model_module": "@jupyter-widgets/controls",
      "model_module_version": "1.5.0",
      "model_name": "HBoxModel",
      "state": {
       "children": [
        "IPY_MODEL_9d41e17752b1470a973244c28b580a7f",
        "IPY_MODEL_86921328f0ca455993708b021c046cf3"
       ],
       "layout": "IPY_MODEL_bb0ceaceda694fafb109a9da25b4dbac"
      }
     },
     "73b06743ce434e7e88739c03e56531f0": {
      "model_module": "@jupyter-widgets/base",
      "model_module_version": "1.2.0",
      "model_name": "LayoutModel",
      "state": {
       "align_items": "stretch",
       "display": "flex",
       "flex_flow": "column",
       "width": "100%"
      }
     },
     "7443304f7cb94006b4cff49ba9db3f0b": {
      "model_module": "@jupyter-widgets/controls",
      "model_module_version": "1.5.0",
      "model_name": "HBoxModel",
      "state": {
       "children": [
        "IPY_MODEL_31277be7fdae48e288985b2d15c44495",
        "IPY_MODEL_cd087e0743be4eac8b6b3a7cb6ef9f74",
        "IPY_MODEL_5b2123e8873747fbba05babefab6a38a"
       ],
       "layout": "IPY_MODEL_441411d71aff4c3789f3daa85ec877c6"
      }
     },
     "74c53cca4cb24d9ba093faa45860fdd0": {
      "model_module": "@jupyter-widgets/base",
      "model_module_version": "1.2.0",
      "model_name": "LayoutModel",
      "state": {}
     },
     "752559c801eb479faa52de499b42c44f": {
      "model_module": "@jupyter-widgets/base",
      "model_module_version": "1.2.0",
      "model_name": "LayoutModel",
      "state": {
       "align_items": "stretch",
       "display": "flex",
       "flex_flow": "row wrap",
       "width": "auto"
      }
     },
     "7594d266b4d34de2b1f26a21bf9ed273": {
      "model_module": "@jupyter-widgets/controls",
      "model_module_version": "1.5.0",
      "model_name": "DescriptionStyleModel",
      "state": {
       "description_width": ""
      }
     },
     "76dc5b95488b45839ad477eedd85bcd2": {
      "model_module": "@jupyter-widgets/controls",
      "model_module_version": "1.5.0",
      "model_name": "DescriptionStyleModel",
      "state": {
       "description_width": ""
      }
     },
     "770ec3dfb3a640608c65f1856808ed88": {
      "model_module": "@jupyter-widgets/controls",
      "model_module_version": "1.5.0",
      "model_name": "CheckboxModel",
      "state": {
       "disabled": false,
       "layout": "IPY_MODEL_294c898801d14cf9bae16c887a9553c5",
       "style": "IPY_MODEL_b13043e469fe45c6805f10c7e624e058",
       "value": false
      }
     },
     "77c0eb6efd0746258a3ecf97a6931e30": {
      "model_module": "@jupyter-widgets/controls",
      "model_module_version": "1.5.0",
      "model_name": "LabelModel",
      "state": {
       "layout": "IPY_MODEL_cfa9cb7cc8d5487f9bc09933d6e748e7",
       "style": "IPY_MODEL_bb24e4854dae46609d1ac3717edb30ec"
      }
     },
     "7a3d3e69f3e74022a6b983e431e5030b": {
      "model_module": "@jupyter-widgets/controls",
      "model_module_version": "1.5.0",
      "model_name": "ButtonModel",
      "state": {
       "description": "Submit",
       "layout": "IPY_MODEL_5dab27d110024693813ed5d209f38e92",
       "style": "IPY_MODEL_d4fae32cb8a840ae9329dff1a227c2e5"
      }
     },
     "7aaad548a50f4e61a21d289a20e26359": {
      "model_module": "@jupyter-widgets/controls",
      "model_module_version": "1.5.0",
      "model_name": "LabelModel",
      "state": {
       "layout": "IPY_MODEL_93f401197ed245c4913b0dfaba2f39aa",
       "style": "IPY_MODEL_cfce0263a0d4441a889bedabac863f1d"
      }
     },
     "7bb6f4699963404ca73f6b230986a3d2": {
      "model_module": "@jupyter-widgets/controls",
      "model_module_version": "1.5.0",
      "model_name": "DescriptionStyleModel",
      "state": {
       "description_width": "initial"
      }
     },
     "7cf8a134c8c842f9b2ad0cea8253cf6b": {
      "model_module": "@jupyter-widgets/controls",
      "model_module_version": "1.5.0",
      "model_name": "DescriptionStyleModel",
      "state": {
       "description_width": ""
      }
     },
     "7e674c0788a9411c9c5a1fcd817e85ca": {
      "model_module": "@jupyter-widgets/base",
      "model_module_version": "1.2.0",
      "model_name": "LayoutModel",
      "state": {}
     },
     "7e9ea532beae455089753fe14b186464": {
      "model_module": "@jupyter-widgets/controls",
      "model_module_version": "1.5.0",
      "model_name": "DescriptionStyleModel",
      "state": {
       "description_width": "initial"
      }
     },
     "7fd31cec667043b6a002750740d8b221": {
      "model_module": "@jupyter-widgets/controls",
      "model_module_version": "1.5.0",
      "model_name": "DescriptionStyleModel",
      "state": {
       "description_width": ""
      }
     },
     "805375de60b9451c809089dfe883a66a": {
      "model_module": "@jupyter-widgets/base",
      "model_module_version": "1.2.0",
      "model_name": "LayoutModel",
      "state": {}
     },
     "834c8b0f12a142d3bdf2500215f28f04": {
      "model_module": "@jupyter-widgets/base",
      "model_module_version": "1.2.0",
      "model_name": "LayoutModel",
      "state": {
       "width": "30px"
      }
     },
     "83759e73948a46f2aaa845d37c7ce0bd": {
      "model_module": "@jupyter-widgets/base",
      "model_module_version": "1.2.0",
      "model_name": "LayoutModel",
      "state": {}
     },
     "852f8166438d490abc41feb4fdb3eb4b": {
      "model_module": "@jupyter-widgets/controls",
      "model_module_version": "1.5.0",
      "model_name": "DescriptionStyleModel",
      "state": {
       "description_width": ""
      }
     },
     "85873cc97cf340878111b93fc8c118d2": {
      "model_module": "@jupyter-widgets/controls",
      "model_module_version": "1.5.0",
      "model_name": "ButtonStyleModel",
      "state": {
       "button_color": "#4DD0E1"
      }
     },
     "85eee465cb8a4fbab39d52f6c6737db2": {
      "model_module": "@jupyter-widgets/base",
      "model_module_version": "1.2.0",
      "model_name": "LayoutModel",
      "state": {
       "align_items": "stretch",
       "display": "flex",
       "flex_flow": "column",
       "width": "100%"
      }
     },
     "86921328f0ca455993708b021c046cf3": {
      "model_module": "@jupyter-widgets/controls",
      "model_module_version": "1.5.0",
      "model_name": "HBoxModel",
      "state": {
       "children": [
        "IPY_MODEL_b879ac9461dd4e59bb1d89f115a1894a",
        "IPY_MODEL_6184eab07c724206ba2dc73c7ab7b29a"
       ],
       "layout": "IPY_MODEL_0a57fbc025704236bc211ca1ae8aecda"
      }
     },
     "86de7e92801e47cb91e2aa4c5c3db606": {
      "model_module": "@jupyter-widgets/controls",
      "model_module_version": "1.5.0",
      "model_name": "DescriptionStyleModel",
      "state": {
       "description_width": ""
      }
     },
     "8855bfa296ee49f0a273190cc8547fb5": {
      "model_module": "@jupyter-widgets/base",
      "model_module_version": "1.2.0",
      "model_name": "LayoutModel",
      "state": {
       "align_items": "stretch",
       "display": "flex",
       "flex_flow": "row wrap",
       "width": "auto"
      }
     },
     "887b5792c4fe416285d5a6a2f570a44f": {
      "model_module": "@jupyter-widgets/controls",
      "model_module_version": "1.5.0",
      "model_name": "HBoxModel",
      "state": {
       "children": [
        "IPY_MODEL_40de78935d8c4254896c8b3b0fd59715",
        "IPY_MODEL_105ec93ff07f403b88f6d59665b81b9f"
       ],
       "layout": "IPY_MODEL_9cd58ed13e03454aadc4060f95b542da"
      }
     },
     "888543971eda44d285eac8b40e4a7fc4": {
      "model_module": "@jupyter-widgets/controls",
      "model_module_version": "1.5.0",
      "model_name": "DescriptionStyleModel",
      "state": {
       "description_width": ""
      }
     },
     "88a8d0bd85ff4cd2b66afac0b9953b3b": {
      "model_module": "@jupyter-widgets/controls",
      "model_module_version": "1.5.0",
      "model_name": "HTMLModel",
      "state": {
       "layout": "IPY_MODEL_1363cebfe400451e8ce281764b4caf24",
       "style": "IPY_MODEL_07d7c6ae280443c6802cb694fc968541",
       "value": "<style>p{word-wrap: break-word}</style> <p>Check the statement below that best summarize Richard Bellman's own explanation of the term dynamic programming. </p>"
      }
     },
     "88afa7a99e0346a4833892add7d4bfbd": {
      "model_module": "@jupyter-widgets/base",
      "model_module_version": "1.2.0",
      "model_name": "LayoutModel",
      "state": {
       "align_items": "stretch",
       "display": "flex",
       "flex_flow": "row wrap",
       "width": "auto"
      }
     },
     "88e9f324333d4fbd90b0cb11b4f145e1": {
      "model_module": "@jupyter-widgets/base",
      "model_module_version": "1.2.0",
      "model_name": "LayoutModel",
      "state": {
       "width": "30px"
      }
     },
     "89eb4c8226b041c2b22b92e0e882b27b": {
      "model_module": "@jupyter-widgets/controls",
      "model_module_version": "1.5.0",
      "model_name": "VBoxModel",
      "state": {
       "children": [
        "IPY_MODEL_682f20032a37480981bc547d9b70b587",
        "IPY_MODEL_618ebce8192046eb9d83c1a729ec4d95",
        "IPY_MODEL_b0dbbe59b88e4e9f892795604ef74b96",
        "IPY_MODEL_608353e2824a40f2b0ef0c50e85c294d",
        "IPY_MODEL_510526dc429d440e820d9faecfa5ce27",
        "IPY_MODEL_3e8f2d70732f4f7c92806cf2fe17a615",
        "IPY_MODEL_335124cc96bb4ed3885278a8520e09c6"
       ],
       "layout": "IPY_MODEL_27fe9253563747238f416bda32cb26f5"
      }
     },
     "8aa57c1b73894106913ea35d2986031c": {
      "model_module": "@jupyter-widgets/base",
      "model_module_version": "1.2.0",
      "model_name": "LayoutModel",
      "state": {
       "display": "flex",
       "flex_flow": "row",
       "justify_content": "space-between",
       "margin": "0 0 20px 0"
      }
     },
     "8aacf2ca24fe4c20b517c8e92310f425": {
      "model_module": "@jupyter-widgets/controls",
      "model_module_version": "1.5.0",
      "model_name": "DescriptionStyleModel",
      "state": {
       "description_width": ""
      }
     },
     "8b1d187aebde4a1eac0b7e5eaf86be66": {
      "model_module": "@jupyter-widgets/controls",
      "model_module_version": "1.5.0",
      "model_name": "LabelModel",
      "state": {
       "layout": "IPY_MODEL_55b191c06f0b49e79996f50977316a78",
       "style": "IPY_MODEL_0f9bc13a88bb46558fb75ef70f0ee130"
      }
     },
     "8b6caeff37004cc88d34212b10c57e06": {
      "model_module": "@jupyter-widgets/controls",
      "model_module_version": "1.5.0",
      "model_name": "VBoxModel",
      "state": {
       "children": [
        "IPY_MODEL_ba4669e0d6ef40dba207b286232065f4",
        "IPY_MODEL_ff10091c4ee54b73a8cc3be648d15ecb",
        "IPY_MODEL_0ed6249da7104f8ab3910d1c70d8ebf3",
        "IPY_MODEL_40d879333a1349d8ab7cc9d8ba2c21b6",
        "IPY_MODEL_e34c152567094139ad3f40950e2dfd12"
       ],
       "layout": "IPY_MODEL_73b06743ce434e7e88739c03e56531f0"
      }
     },
     "8c5c1878015a4eebb2aca5740965b3d4": {
      "model_module": "@jupyter-widgets/controls",
      "model_module_version": "1.5.0",
      "model_name": "HTMLModel",
      "state": {
       "layout": "IPY_MODEL_e4a63466c800494abba34e17420bcd8c",
       "style": "IPY_MODEL_36bdec370db54afda4d4fc28e9d37c39",
       "value": "<style>p{word-wrap: break-word}</style> <p>Dynamic programming is concerned with planning a process that has multiple stages. </p>"
      }
     },
     "8ca6ca61673d4acb8ce6d683568213f2": {
      "model_module": "@jupyter-widgets/base",
      "model_module_version": "1.2.0",
      "model_name": "LayoutModel",
      "state": {
       "display": "none"
      }
     },
     "8ddb662e26ee47a4b1c88870b2b6bdec": {
      "model_module": "@jupyter-widgets/base",
      "model_module_version": "1.2.0",
      "model_name": "LayoutModel",
      "state": {
       "width": "30px"
      }
     },
     "8e61b9e146af4e8bbb770ba7f9860868": {
      "model_module": "@jupyter-widgets/controls",
      "model_module_version": "1.5.0",
      "model_name": "CheckboxModel",
      "state": {
       "disabled": false,
       "layout": "IPY_MODEL_4b35c776e36f4e94a9ece1813e088d16",
       "style": "IPY_MODEL_7e9ea532beae455089753fe14b186464",
       "value": false
      }
     },
     "8eded4bc337b44d78c5268dd077465ff": {
      "model_module": "@jupyter-widgets/controls",
      "model_module_version": "1.5.0",
      "model_name": "HBoxModel",
      "state": {
       "children": [
        "IPY_MODEL_63d95b7a840843d8aa0c3b8554343211",
        "IPY_MODEL_2914cb5c5fd4429d889629e106d3c604"
       ],
       "layout": "IPY_MODEL_f90a993a0c6e474ba7a1575d3996990f"
      }
     },
     "8eec87d60c484af29ad9344399cc7603": {
      "model_module": "@jupyter-widgets/controls",
      "model_module_version": "1.5.0",
      "model_name": "ButtonStyleModel",
      "state": {
       "button_color": "#4DD0E1"
      }
     },
     "8ef59e7ce7e54bf582eab54fa52d2b3a": {
      "model_module": "@jupyter-widgets/controls",
      "model_module_version": "1.5.0",
      "model_name": "DescriptionStyleModel",
      "state": {
       "description_width": "initial"
      }
     },
     "8f14668ff329427c93a4c1a5a2f6ed8b": {
      "model_module": "@jupyter-widgets/base",
      "model_module_version": "1.2.0",
      "model_name": "LayoutModel",
      "state": {
       "align_items": "stretch",
       "display": "flex",
       "flex_flow": "row wrap",
       "width": "auto"
      }
     },
     "8f1bf36d6f3442d18d5aac6ed960f543": {
      "model_module": "@jupyter-widgets/base",
      "model_module_version": "1.2.0",
      "model_name": "LayoutModel",
      "state": {}
     },
     "8f9967f5d9a5497a98bb34a67a38a977": {
      "model_module": "@jupyter-widgets/base",
      "model_module_version": "1.2.0",
      "model_name": "LayoutModel",
      "state": {
       "align_items": "stretch",
       "display": "flex",
       "flex_flow": "row wrap",
       "width": "auto"
      }
     },
     "917fe8759fb24bd4adc703dbaafc01d7": {
      "model_module": "@jupyter-widgets/controls",
      "model_module_version": "1.5.0",
      "model_name": "ButtonStyleModel",
      "state": {
       "button_color": "#4DD0E1"
      }
     },
     "921a8cc7e84e42cfab6f05745bb125e6": {
      "model_module": "@jupyter-widgets/controls",
      "model_module_version": "1.5.0",
      "model_name": "LabelModel",
      "state": {
       "layout": "IPY_MODEL_2bfe9877e2fe4b5eada86b6ddb0c24d9",
       "style": "IPY_MODEL_7cf8a134c8c842f9b2ad0cea8253cf6b"
      }
     },
     "92925113e5e547af8e7e2a2209886c0a": {
      "model_module": "@jupyter-widgets/base",
      "model_module_version": "1.2.0",
      "model_name": "LayoutModel",
      "state": {
       "display": "flex",
       "flex_flow": "row",
       "justify_content": "space-between",
       "margin": "0 0 20px 0"
      }
     },
     "934cb0d51ae84c1bb3acb65ffe99fa2b": {
      "model_module": "@jupyter-widgets/base",
      "model_module_version": "1.2.0",
      "model_name": "LayoutModel",
      "state": {
       "align_items": "stretch",
       "display": "flex",
       "flex_flow": "row wrap",
       "width": "auto"
      }
     },
     "93ead1e0f95e47b0bfaf7b981442eaca": {
      "model_module": "@jupyter-widgets/base",
      "model_module_version": "1.2.0",
      "model_name": "LayoutModel",
      "state": {}
     },
     "93f401197ed245c4913b0dfaba2f39aa": {
      "model_module": "@jupyter-widgets/base",
      "model_module_version": "1.2.0",
      "model_name": "LayoutModel",
      "state": {
       "height": "50%",
       "margin": "0 0 0 30px",
       "width": "50%"
      }
     },
     "94339b73398b4d0f991d40c0c3a5bd7b": {
      "model_module": "@jupyter-widgets/base",
      "model_module_version": "1.2.0",
      "model_name": "LayoutModel",
      "state": {}
     },
     "948673d7cd6744b4ae679a630e5d8ea9": {
      "model_module": "@jupyter-widgets/controls",
      "model_module_version": "1.5.0",
      "model_name": "HTMLModel",
      "state": {
       "layout": "IPY_MODEL_016519a26951443db781e4ae85092736",
       "style": "IPY_MODEL_fbd069aeba2744fbadbddfee2cfb96d9",
       "value": "<style>p{word-wrap: break-word}</style> <p>Solutions can be run directly from the cell once the accordion is opened. </p>"
      }
     },
     "9582cc549c0b416c8fe55a01e8c7d6a5": {
      "model_module": "@jupyter-widgets/controls",
      "model_module_version": "1.5.0",
      "model_name": "DescriptionStyleModel",
      "state": {
       "description_width": "initial"
      }
     },
     "9669355eacbf4ed4aab6291db65df076": {
      "model_module": "@jupyter-widgets/controls",
      "model_module_version": "1.5.0",
      "model_name": "HTMLModel",
      "state": {
       "layout": "IPY_MODEL_e31a78497e1341ada13ee97b6ebd6490",
       "style": "IPY_MODEL_04400d8a06eb4c189eb2ea23a011627d",
       "value": "<style>p{word-wrap: break-word}</style> <p>02.02.2020 </p>"
      }
     },
     "987c399954884cd0b4c20bc0258cf80a": {
      "model_module": "@jupyter-widgets/base",
      "model_module_version": "1.2.0",
      "model_name": "LayoutModel",
      "state": {
       "align_items": "stretch",
       "display": "flex",
       "flex_flow": "row wrap",
       "width": "auto"
      }
     },
     "98d4a6a20a83447a950b51027748ad0d": {
      "model_module": "@jupyter-widgets/controls",
      "model_module_version": "1.5.0",
      "model_name": "LabelModel",
      "state": {
       "layout": "IPY_MODEL_74c53cca4cb24d9ba093faa45860fdd0",
       "style": "IPY_MODEL_eb00c39f27cf442d861408019bf494ac"
      }
     },
     "99673be0700a4c269984fe98ae5e56d3": {
      "model_module": "@jupyter-widgets/base",
      "model_module_version": "1.2.0",
      "model_name": "LayoutModel",
      "state": {}
     },
     "99ac73af55d7428e94cc9843606e425b": {
      "model_module": "@jupyter-widgets/controls",
      "model_module_version": "1.5.0",
      "model_name": "HBoxModel",
      "state": {
       "children": [
        "IPY_MODEL_a7355f3959214d9abe2255e0d1bce139",
        "IPY_MODEL_196b2fa1449e4ad793e1bbdfceed1728"
       ],
       "layout": "IPY_MODEL_b53817aa45294f62be6a4de31f51cbe8"
      }
     },
     "9a60efc377ae43d280021134f370a850": {
      "model_module": "@jupyter-widgets/controls",
      "model_module_version": "1.5.0",
      "model_name": "ButtonModel",
      "state": {
       "description": "Show answer",
       "disabled": true,
       "layout": "IPY_MODEL_6b63d81aad384c7b80afdd689ea9cdbe",
       "style": "IPY_MODEL_917fe8759fb24bd4adc703dbaafc01d7"
      }
     },
     "9c62493c74254a9f8cf0781d8380e709": {
      "model_module": "@jupyter-widgets/controls",
      "model_module_version": "1.5.0",
      "model_name": "DescriptionStyleModel",
      "state": {
       "description_width": ""
      }
     },
     "9cd58ed13e03454aadc4060f95b542da": {
      "model_module": "@jupyter-widgets/base",
      "model_module_version": "1.2.0",
      "model_name": "LayoutModel",
      "state": {
       "align_items": "stretch",
       "display": "flex",
       "flex_flow": "row wrap",
       "width": "auto"
      }
     },
     "9d41e17752b1470a973244c28b580a7f": {
      "model_module": "@jupyter-widgets/controls",
      "model_module_version": "1.5.0",
      "model_name": "LabelModel",
      "state": {
       "layout": "IPY_MODEL_fcfca16b50cd4288a3e199b4d45581ec",
       "style": "IPY_MODEL_a0d33d1522b641fa8c408ecbcdbfb0f3"
      }
     },
     "9dae7833af22427ab9a0e1a6b8c54ac3": {
      "model_module": "@jupyter-widgets/base",
      "model_module_version": "1.2.0",
      "model_name": "LayoutModel",
      "state": {
       "width": "30px"
      }
     },
     "9dc45afce554418b8055cf9f0ebaf1e0": {
      "model_module": "@jupyter-widgets/controls",
      "model_module_version": "1.5.0",
      "model_name": "LabelModel",
      "state": {
       "layout": "IPY_MODEL_ff6931342ada4f27b094828975865347",
       "style": "IPY_MODEL_e9f05fdbeeac4ee594dd3557bb664f02"
      }
     },
     "9f046b7e39eb4a039b22e0dc15e20fc3": {
      "model_module": "@jupyter-widgets/controls",
      "model_module_version": "1.5.0",
      "model_name": "LabelModel",
      "state": {
       "layout": "IPY_MODEL_4da643608eb846ce98aa1ed6053de3eb",
       "style": "IPY_MODEL_76dc5b95488b45839ad477eedd85bcd2"
      }
     },
     "9fb8920ed0494793a412b8a20ba1b476": {
      "model_module": "@jupyter-widgets/base",
      "model_module_version": "1.2.0",
      "model_name": "LayoutModel",
      "state": {}
     },
     "a04597c6ba2a4ad5a3a93c43cb79720e": {
      "model_module": "@jupyter-widgets/base",
      "model_module_version": "1.2.0",
      "model_name": "LayoutModel",
      "state": {
       "align_items": "stretch",
       "display": "flex",
       "flex_flow": "row wrap",
       "width": "auto"
      }
     },
     "a0b84e3fbf634a309c28f6cfe4c21104": {
      "model_module": "@jupyter-widgets/controls",
      "model_module_version": "1.5.0",
      "model_name": "HBoxModel",
      "state": {
       "children": [
        "IPY_MODEL_00506ecd6d964a16b7a3f31922010742"
       ],
       "layout": "IPY_MODEL_8aa57c1b73894106913ea35d2986031c"
      }
     },
     "a0d33d1522b641fa8c408ecbcdbfb0f3": {
      "model_module": "@jupyter-widgets/controls",
      "model_module_version": "1.5.0",
      "model_name": "DescriptionStyleModel",
      "state": {
       "description_width": ""
      }
     },
     "a0dda008643344bd809494cf3bc3b269": {
      "model_module": "@jupyter-widgets/controls",
      "model_module_version": "1.5.0",
      "model_name": "DescriptionStyleModel",
      "state": {
       "description_width": "initial"
      }
     },
     "a1f26d0118384d59ab8ff33d756907c5": {
      "model_module": "@jupyter-widgets/controls",
      "model_module_version": "1.5.0",
      "model_name": "VBoxModel",
      "state": {
       "box_style": "info",
       "children": [
        "IPY_MODEL_6cb93788063d4eac870477f7555042be",
        "IPY_MODEL_89eb4c8226b041c2b22b92e0e882b27b",
        "IPY_MODEL_a87b407ce32242c1b7d4baba4f84eacf"
       ],
       "layout": "IPY_MODEL_07d81e3cd7534f168a17db4a455ad888"
      }
     },
     "a1f286f3dfaf4240aaac18db4502aee1": {
      "model_module": "@jupyter-widgets/controls",
      "model_module_version": "1.5.0",
      "model_name": "LabelModel",
      "state": {
       "layout": "IPY_MODEL_93ead1e0f95e47b0bfaf7b981442eaca",
       "style": "IPY_MODEL_6b26950a238e4571acf7ca4b4413d0f7"
      }
     },
     "a3bd89262db94a2d8a0734ef9f8db71e": {
      "model_module": "@jupyter-widgets/controls",
      "model_module_version": "1.5.0",
      "model_name": "HBoxModel",
      "state": {
       "children": [
        "IPY_MODEL_dc13d0b74af140568e4cb7a70d930df0",
        "IPY_MODEL_b6fbcae799874f8ca61e769e672f10ca",
        "IPY_MODEL_9a60efc377ae43d280021134f370a850"
       ],
       "layout": "IPY_MODEL_b8dc3c9d590349bc907e879b21ed9312"
      }
     },
     "a428320b44c949f5aadce40efef7dc3a": {
      "model_module": "@jupyter-widgets/controls",
      "model_module_version": "1.5.0",
      "model_name": "LabelModel",
      "state": {
       "layout": "IPY_MODEL_e5b3901511814b5793c81054abe72149",
       "style": "IPY_MODEL_22223cf735044af497634ce58e7b2445"
      }
     },
     "a5754127d3fc41108469d77e4ba146a3": {
      "model_module": "@jupyter-widgets/controls",
      "model_module_version": "1.5.0",
      "model_name": "LabelModel",
      "state": {
       "layout": "IPY_MODEL_1ca2b694a0da4945bf73bf4a317406f5",
       "style": "IPY_MODEL_de6dac090a5f4117afa471ca5997c883"
      }
     },
     "a652e0d8b60540d6ade3e55bbec35cf6": {
      "model_module": "@jupyter-widgets/controls",
      "model_module_version": "1.5.0",
      "model_name": "ButtonModel",
      "state": {
       "description": "Submit",
       "layout": "IPY_MODEL_805375de60b9451c809089dfe883a66a",
       "style": "IPY_MODEL_85873cc97cf340878111b93fc8c118d2"
      }
     },
     "a7355f3959214d9abe2255e0d1bce139": {
      "model_module": "@jupyter-widgets/controls",
      "model_module_version": "1.5.0",
      "model_name": "LabelModel",
      "state": {
       "layout": "IPY_MODEL_0894618df1134e0ba5582522c06bea22",
       "style": "IPY_MODEL_5944712dbed04db29de876f034abda27"
      }
     },
     "a87273039b544ff0b6549c1c37c5b7e3": {
      "model_module": "@jupyter-widgets/controls",
      "model_module_version": "1.5.0",
      "model_name": "HTMLModel",
      "state": {
       "layout": "IPY_MODEL_cc86c8611d09482aa3c3cabdc78b344c",
       "style": "IPY_MODEL_64476977cce44c46b2967a1aebf35cfa",
       "value": "<style>p{word-wrap: break-word}</style> <p>aviva </p>"
      }
     },
     "a87b407ce32242c1b7d4baba4f84eacf": {
      "model_module": "@jupyter-widgets/controls",
      "model_module_version": "1.5.0",
      "model_name": "HBoxModel",
      "state": {
       "children": [
        "IPY_MODEL_7a3d3e69f3e74022a6b983e431e5030b",
        "IPY_MODEL_0dff3f0eca354474b012ba994b7aa3ed",
        "IPY_MODEL_c522b9759a8545f2b9f239ad2beab89d"
       ],
       "layout": "IPY_MODEL_d039a6350fff422c8932faecc5d08345"
      }
     },
     "a9221588087b47bab7ece56504475156": {
      "model_module": "@jupyter-widgets/base",
      "model_module_version": "1.2.0",
      "model_name": "LayoutModel",
      "state": {}
     },
     "aa653f177d9f46c092da77dbfe885ad9": {
      "model_module": "@jupyter-widgets/base",
      "model_module_version": "1.2.0",
      "model_name": "LayoutModel",
      "state": {
       "align_items": "stretch",
       "display": "flex",
       "flex_flow": "column",
       "width": "100%"
      }
     },
     "ac0b63efe48e4889831bb325ae83e1ca": {
      "model_module": "@jupyter-widgets/base",
      "model_module_version": "1.2.0",
      "model_name": "LayoutModel",
      "state": {
       "width": "30px"
      }
     },
     "aca8f65e3f8f4abdb13cc71c45db1e0b": {
      "model_module": "@jupyter-widgets/base",
      "model_module_version": "1.2.0",
      "model_name": "LayoutModel",
      "state": {
       "align_items": "stretch",
       "display": "flex",
       "flex_flow": "row wrap",
       "width": "auto"
      }
     },
     "acacf1cdc7694a9cbafc0b18e01dfd35": {
      "model_module": "@jupyter-widgets/base",
      "model_module_version": "1.2.0",
      "model_name": "LayoutModel",
      "state": {
       "align_items": "stretch",
       "display": "flex",
       "flex_flow": "row wrap",
       "width": "auto"
      }
     },
     "ad23b1d78aa249e2b3a89884437080ea": {
      "model_module": "@jupyter-widgets/controls",
      "model_module_version": "1.5.0",
      "model_name": "HBoxModel",
      "state": {
       "children": [
        "IPY_MODEL_8e61b9e146af4e8bbb770ba7f9860868",
        "IPY_MODEL_19ba3acb06e248fbab915386ad588458"
       ],
       "layout": "IPY_MODEL_e51827808a544c56881ae1dc8dfffae2"
      }
     },
     "ad7c07d9d4f4406d9e1ccbca1ab74391": {
      "model_module": "@jupyter-widgets/controls",
      "model_module_version": "1.5.0",
      "model_name": "VBoxModel",
      "state": {
       "children": [
        "IPY_MODEL_7309bf3368ee436496c201624f993f01",
        "IPY_MODEL_b014ee502c6742a1a266a38e118e861f",
        "IPY_MODEL_c4f352f1d8bc49ab83ba19bcef0e643e",
        "IPY_MODEL_3876ffe720384c7aaaeba4dcb9319789",
        "IPY_MODEL_e91b182945ff4dadb112022070e7a11a"
       ],
       "layout": "IPY_MODEL_53b04767e6a34b3698048d603c6c7b86"
      }
     },
     "ae2bd71bfeb84d3ba9bba1c9d178f3c0": {
      "model_module": "@jupyter-widgets/controls",
      "model_module_version": "1.5.0",
      "model_name": "DescriptionStyleModel",
      "state": {
       "description_width": ""
      }
     },
     "af4d78c6b2814cb793a202ea9310a918": {
      "model_module": "@jupyter-widgets/base",
      "model_module_version": "1.2.0",
      "model_name": "LayoutModel",
      "state": {}
     },
     "afff150c464846829ead05b293063019": {
      "model_module": "@jupyter-widgets/controls",
      "model_module_version": "1.5.0",
      "model_name": "DescriptionStyleModel",
      "state": {
       "description_width": "initial"
      }
     },
     "b014ee502c6742a1a266a38e118e861f": {
      "model_module": "@jupyter-widgets/controls",
      "model_module_version": "1.5.0",
      "model_name": "HBoxModel",
      "state": {
       "children": [
        "IPY_MODEL_b5ec86b9a2a745eab254154a28f9660c",
        "IPY_MODEL_c15945aac3324256b6b5ca6fc525e3a5"
       ],
       "layout": "IPY_MODEL_5340c4b9670f4aabbcf6f03219dafd7f"
      }
     },
     "b0dbbe59b88e4e9f892795604ef74b96": {
      "model_module": "@jupyter-widgets/controls",
      "model_module_version": "1.5.0",
      "model_name": "HBoxModel",
      "state": {
       "children": [
        "IPY_MODEL_9dc45afce554418b8055cf9f0ebaf1e0",
        "IPY_MODEL_71ed8c6215fd46cd8811820945fab4b2"
       ],
       "layout": "IPY_MODEL_c520604822b0489d8d31f5249e28e6ae"
      }
     },
     "b13043e469fe45c6805f10c7e624e058": {
      "model_module": "@jupyter-widgets/controls",
      "model_module_version": "1.5.0",
      "model_name": "DescriptionStyleModel",
      "state": {
       "description_width": "initial"
      }
     },
     "b16f62fa1c324fb29827121e2ea1eb62": {
      "model_module": "@jupyter-widgets/controls",
      "model_module_version": "1.5.0",
      "model_name": "DescriptionStyleModel",
      "state": {
       "description_width": ""
      }
     },
     "b4a7e035918747edb94335cf179ec99a": {
      "model_module": "@jupyter-widgets/controls",
      "model_module_version": "1.5.0",
      "model_name": "LabelModel",
      "state": {
       "layout": "IPY_MODEL_60db9688d33146aa961d24aae4c43a09",
       "style": "IPY_MODEL_ae2bd71bfeb84d3ba9bba1c9d178f3c0"
      }
     },
     "b53817aa45294f62be6a4de31f51cbe8": {
      "model_module": "@jupyter-widgets/base",
      "model_module_version": "1.2.0",
      "model_name": "LayoutModel",
      "state": {
       "align_items": "stretch",
       "display": "flex",
       "flex_flow": "row wrap",
       "width": "auto"
      }
     },
     "b5ec86b9a2a745eab254154a28f9660c": {
      "model_module": "@jupyter-widgets/controls",
      "model_module_version": "1.5.0",
      "model_name": "LabelModel",
      "state": {
       "layout": "IPY_MODEL_16a06c8cce2d44a8be192ed782baa3af",
       "style": "IPY_MODEL_e69f1d7cc5344639b46384226a575cc8"
      }
     },
     "b68875aa25fb480d8d5e322e232e9efa": {
      "model_module": "@jupyter-widgets/controls",
      "model_module_version": "1.5.0",
      "model_name": "DescriptionStyleModel",
      "state": {
       "description_width": "initial"
      }
     },
     "b6fbcae799874f8ca61e769e672f10ca": {
      "model_module": "@jupyter-widgets/controls",
      "model_module_version": "1.5.0",
      "model_name": "LabelModel",
      "state": {
       "layout": "IPY_MODEL_f97d6f0ac1964ee4989a2f1b5365d69e",
       "style": "IPY_MODEL_0ef68e28c81748af9df9940d317b2504"
      }
     },
     "b76b607eed2a4a21915be88982aaf719": {
      "model_module": "@jupyter-widgets/controls",
      "model_module_version": "1.5.0",
      "model_name": "CheckboxModel",
      "state": {
       "disabled": false,
       "layout": "IPY_MODEL_29c2c0c121eb4daf994580f0c3b3d6b1",
       "style": "IPY_MODEL_e3d96311a6f642688b23f25db4ebfcdc",
       "value": false
      }
     },
     "b81ed07f670d45d2aaf504de9e59544a": {
      "model_module": "@jupyter-widgets/base",
      "model_module_version": "1.2.0",
      "model_name": "LayoutModel",
      "state": {}
     },
     "b8341ccc5b3e4b2c9d51520d93f04398": {
      "model_module": "@jupyter-widgets/controls",
      "model_module_version": "1.5.0",
      "model_name": "CheckboxModel",
      "state": {
       "disabled": false,
       "layout": "IPY_MODEL_705f5cb8991e43b1b32e86aeeb70f003",
       "style": "IPY_MODEL_0a62719eef114dd1982da5da59bda4a4",
       "value": false
      }
     },
     "b879ac9461dd4e59bb1d89f115a1894a": {
      "model_module": "@jupyter-widgets/controls",
      "model_module_version": "1.5.0",
      "model_name": "CheckboxModel",
      "state": {
       "disabled": false,
       "layout": "IPY_MODEL_428a42b4d2124e5990adb377a3d10256",
       "style": "IPY_MODEL_c8ef84cd10874a83939936b5bf5c09bb",
       "value": false
      }
     },
     "b8dc3c9d590349bc907e879b21ed9312": {
      "model_module": "@jupyter-widgets/base",
      "model_module_version": "1.2.0",
      "model_name": "LayoutModel",
      "state": {
       "align_items": "stretch",
       "display": "flex",
       "flex_flow": "row wrap",
       "margin": "30px 0 0 0"
      }
     },
     "ba159312930348928e0aa7ef596136fb": {
      "model_module": "@jupyter-widgets/controls",
      "model_module_version": "1.5.0",
      "model_name": "HTMLModel",
      "state": {
       "layout": "IPY_MODEL_339fbc7172ce42ba89c52ce6e6f4e53c",
       "style": "IPY_MODEL_16b5b19119224c2fbe9dfa0faf0cd61e",
       "value": "<style>p{word-wrap: break-word}</style> <p>p </p>"
      }
     },
     "ba4669e0d6ef40dba207b286232065f4": {
      "model_module": "@jupyter-widgets/controls",
      "model_module_version": "1.5.0",
      "model_name": "HBoxModel",
      "state": {
       "children": [
        "IPY_MODEL_ef300c601dde49938f7b1fd31c78f09b",
        "IPY_MODEL_0a9f45b0a49e4ef8affe320eb26c8245"
       ],
       "layout": "IPY_MODEL_66fbb4b36cea4f06b8559b079a3dfbf4"
      }
     },
     "babe227ad6314cb69c1cb69ccb306ff5": {
      "model_module": "@jupyter-widgets/controls",
      "model_module_version": "1.5.0",
      "model_name": "DescriptionStyleModel",
      "state": {
       "description_width": ""
      }
     },
     "bb0ceaceda694fafb109a9da25b4dbac": {
      "model_module": "@jupyter-widgets/base",
      "model_module_version": "1.2.0",
      "model_name": "LayoutModel",
      "state": {
       "align_items": "stretch",
       "display": "flex",
       "flex_flow": "row wrap",
       "width": "auto"
      }
     },
     "bb24e4854dae46609d1ac3717edb30ec": {
      "model_module": "@jupyter-widgets/controls",
      "model_module_version": "1.5.0",
      "model_name": "DescriptionStyleModel",
      "state": {
       "description_width": ""
      }
     },
     "bd4a0898ffd8447b9ec6ad48aac2be43": {
      "model_module": "@jupyter-widgets/controls",
      "model_module_version": "1.5.0",
      "model_name": "DescriptionStyleModel",
      "state": {
       "description_width": "initial"
      }
     },
     "bd5e2fbb38d54e0fb8beb105c4a32e97": {
      "model_module": "@jupyter-widgets/base",
      "model_module_version": "1.2.0",
      "model_name": "LayoutModel",
      "state": {}
     },
     "be29d07ccb824eb99e9b1d596e260923": {
      "model_module": "@jupyter-widgets/base",
      "model_module_version": "1.2.0",
      "model_name": "LayoutModel",
      "state": {
       "align_items": "stretch",
       "display": "flex",
       "flex_flow": "row wrap",
       "width": "auto"
      }
     },
     "bee0817ed0a74b039f2821a86ef01fe7": {
      "model_module": "@jupyter-widgets/controls",
      "model_module_version": "1.5.0",
      "model_name": "CheckboxModel",
      "state": {
       "disabled": false,
       "layout": "IPY_MODEL_057dd9d31854494fad6cb3e23c1238dc",
       "style": "IPY_MODEL_e781b15944a748c28b9c4683524d56e0",
       "value": false
      }
     },
     "bf53d24dfc4c4f0e88e77ddd2bce6060": {
      "model_module": "@jupyter-widgets/base",
      "model_module_version": "1.2.0",
      "model_name": "LayoutModel",
      "state": {
       "align_items": "stretch",
       "display": "flex",
       "flex_flow": "row wrap",
       "width": "auto"
      }
     },
     "bffaddbd31754d89a312d7eb95ef7186": {
      "model_module": "@jupyter-widgets/controls",
      "model_module_version": "1.5.0",
      "model_name": "HBoxModel",
      "state": {
       "children": [
        "IPY_MODEL_b8341ccc5b3e4b2c9d51520d93f04398",
        "IPY_MODEL_ea06d9d8bec846d39264768dff924010"
       ],
       "layout": "IPY_MODEL_da825a77c5074758baf24624d04d0718"
      }
     },
     "c15945aac3324256b6b5ca6fc525e3a5": {
      "model_module": "@jupyter-widgets/controls",
      "model_module_version": "1.5.0",
      "model_name": "HBoxModel",
      "state": {
       "children": [
        "IPY_MODEL_c2af042faedc4574be3b445e295059df",
        "IPY_MODEL_f677e249995f441db31e48f2dcaca992"
       ],
       "layout": "IPY_MODEL_13b518d26ac046dea216ab6ff4f9b8f8"
      }
     },
     "c2af042faedc4574be3b445e295059df": {
      "model_module": "@jupyter-widgets/controls",
      "model_module_version": "1.5.0",
      "model_name": "CheckboxModel",
      "state": {
       "disabled": false,
       "layout": "IPY_MODEL_20b452df8a744ee7a1e7a6a8fe125355",
       "style": "IPY_MODEL_a0dda008643344bd809494cf3bc3b269",
       "value": false
      }
     },
     "c4f352f1d8bc49ab83ba19bcef0e643e": {
      "model_module": "@jupyter-widgets/controls",
      "model_module_version": "1.5.0",
      "model_name": "HBoxModel",
      "state": {
       "children": [
        "IPY_MODEL_dab30c0eba2f49f387254d0c55bee61a",
        "IPY_MODEL_d48cb7e420b645b997025cb08af32538"
       ],
       "layout": "IPY_MODEL_e602ab3864b543318cbcc6f20e4b24d9"
      }
     },
     "c520604822b0489d8d31f5249e28e6ae": {
      "model_module": "@jupyter-widgets/base",
      "model_module_version": "1.2.0",
      "model_name": "LayoutModel",
      "state": {
       "align_items": "stretch",
       "display": "flex",
       "flex_flow": "row wrap",
       "width": "auto"
      }
     },
     "c522b9759a8545f2b9f239ad2beab89d": {
      "model_module": "@jupyter-widgets/controls",
      "model_module_version": "1.5.0",
      "model_name": "ButtonModel",
      "state": {
       "description": "Show answer",
       "disabled": true,
       "layout": "IPY_MODEL_f475b0f2b5b84bc8acbabadab2fa50de",
       "style": "IPY_MODEL_8eec87d60c484af29ad9344399cc7603"
      }
     },
     "c58a15a021fb49e98c89fe488926bb2f": {
      "model_module": "@jupyter-widgets/controls",
      "model_module_version": "1.5.0",
      "model_name": "CheckboxModel",
      "state": {
       "disabled": false,
       "layout": "IPY_MODEL_ea8b2006212b468f8a4dfecb68447ff9",
       "style": "IPY_MODEL_9582cc549c0b416c8fe55a01e8c7d6a5",
       "value": false
      }
     },
     "c5c908b23c7d4e579246991ffa49e6f3": {
      "model_module": "@jupyter-widgets/controls",
      "model_module_version": "1.5.0",
      "model_name": "LabelModel",
      "state": {
       "layout": "IPY_MODEL_7e674c0788a9411c9c5a1fcd817e85ca",
       "style": "IPY_MODEL_1c76208d617b4c4ab24adb929cc55e56"
      }
     },
     "c6410a74e2c545eab38245d622ec43d5": {
      "model_module": "@jupyter-widgets/controls",
      "model_module_version": "1.5.0",
      "model_name": "CheckboxModel",
      "state": {
       "disabled": false,
       "layout": "IPY_MODEL_ac0b63efe48e4889831bb325ae83e1ca",
       "style": "IPY_MODEL_168eb05d401a4fbe99b52462ce3c6aca",
       "value": false
      }
     },
     "c6c56828175f4f158f7c416c030348ca": {
      "model_module": "@jupyter-widgets/controls",
      "model_module_version": "1.5.0",
      "model_name": "ButtonStyleModel",
      "state": {
       "button_color": "#4DD0E1"
      }
     },
     "c7b4339ba2b34567bf0d963542f705eb": {
      "model_module": "@jupyter-widgets/controls",
      "model_module_version": "1.5.0",
      "model_name": "DescriptionStyleModel",
      "state": {
       "description_width": ""
      }
     },
     "c8ef84cd10874a83939936b5bf5c09bb": {
      "model_module": "@jupyter-widgets/controls",
      "model_module_version": "1.5.0",
      "model_name": "DescriptionStyleModel",
      "state": {
       "description_width": "initial"
      }
     },
     "c9445d6a06c84c7da7fbc244bec27e63": {
      "model_module": "@jupyter-widgets/controls",
      "model_module_version": "1.5.0",
      "model_name": "DescriptionStyleModel",
      "state": {
       "description_width": ""
      }
     },
     "cb4632a0768a44f18c64d85e921d0eed": {
      "model_module": "@jupyter-widgets/base",
      "model_module_version": "1.2.0",
      "model_name": "LayoutModel",
      "state": {
       "display": "flex",
       "flex_flow": "row",
       "justify_content": "space-between",
       "margin": "0 0 20px 0"
      }
     },
     "cb798216e82640a0a9ba11a758e2bf51": {
      "model_module": "@jupyter-widgets/controls",
      "model_module_version": "1.5.0",
      "model_name": "VBoxModel",
      "state": {
       "children": [
        "IPY_MODEL_63183e5bd162465fad975d6338d591b4",
        "IPY_MODEL_99ac73af55d7428e94cc9843606e425b",
        "IPY_MODEL_d0cf465204bf4facbe7e5f3689acf750",
        "IPY_MODEL_0b94e2f52f514f18a87208624dc297f9",
        "IPY_MODEL_090dbe4aeccd4b41a6c56cf101fb70c0",
        "IPY_MODEL_51a7c576be7e476783ffaa8cc37260ed"
       ],
       "layout": "IPY_MODEL_e9e10a731c2e40ef91ab2c6e099c6543"
      }
     },
     "cbd71f19236f4e34b7cb95192b6e9704": {
      "model_module": "@jupyter-widgets/controls",
      "model_module_version": "1.5.0",
      "model_name": "DescriptionStyleModel",
      "state": {
       "description_width": ""
      }
     },
     "cc86c8611d09482aa3c3cabdc78b344c": {
      "model_module": "@jupyter-widgets/base",
      "model_module_version": "1.2.0",
      "model_name": "LayoutModel",
      "state": {}
     },
     "cc907cb540de41a4b87af17106d55344": {
      "model_module": "@jupyter-widgets/base",
      "model_module_version": "1.2.0",
      "model_name": "LayoutModel",
      "state": {}
     },
     "cd087e0743be4eac8b6b3a7cb6ef9f74": {
      "model_module": "@jupyter-widgets/controls",
      "model_module_version": "1.5.0",
      "model_name": "LabelModel",
      "state": {
       "layout": "IPY_MODEL_d621210463c143f0b5905d38cf1d0501",
       "style": "IPY_MODEL_888543971eda44d285eac8b40e4a7fc4"
      }
     },
     "cda978ea1bf9477697380928ef74e6f9": {
      "model_module": "@jupyter-widgets/controls",
      "model_module_version": "1.5.0",
      "model_name": "DescriptionStyleModel",
      "state": {
       "description_width": ""
      }
     },
     "cee8365fafbc4f0a90977839c15c5468": {
      "model_module": "@jupyter-widgets/controls",
      "model_module_version": "1.5.0",
      "model_name": "CheckboxModel",
      "state": {
       "disabled": false,
       "layout": "IPY_MODEL_e6b388dc4d2c4ad29c8c69f42a9dbb35",
       "style": "IPY_MODEL_bd4a0898ffd8447b9ec6ad48aac2be43",
       "value": false
      }
     },
     "cfa9cb7cc8d5487f9bc09933d6e748e7": {
      "model_module": "@jupyter-widgets/base",
      "model_module_version": "1.2.0",
      "model_name": "LayoutModel",
      "state": {}
     },
     "cfce0263a0d4441a889bedabac863f1d": {
      "model_module": "@jupyter-widgets/controls",
      "model_module_version": "1.5.0",
      "model_name": "DescriptionStyleModel",
      "state": {
       "description_width": ""
      }
     },
     "d02b3db3d6604366a4ca7417915cc164": {
      "model_module": "@jupyter-widgets/base",
      "model_module_version": "1.2.0",
      "model_name": "LayoutModel",
      "state": {
       "width": "30px"
      }
     },
     "d039a6350fff422c8932faecc5d08345": {
      "model_module": "@jupyter-widgets/base",
      "model_module_version": "1.2.0",
      "model_name": "LayoutModel",
      "state": {
       "align_items": "stretch",
       "display": "flex",
       "flex_flow": "row wrap",
       "margin": "30px 0 0 0"
      }
     },
     "d0cf465204bf4facbe7e5f3689acf750": {
      "model_module": "@jupyter-widgets/controls",
      "model_module_version": "1.5.0",
      "model_name": "HBoxModel",
      "state": {
       "children": [
        "IPY_MODEL_921a8cc7e84e42cfab6f05745bb125e6",
        "IPY_MODEL_ad23b1d78aa249e2b3a89884437080ea"
       ],
       "layout": "IPY_MODEL_987c399954884cd0b4c20bc0258cf80a"
      }
     },
     "d1215e6ba0a3404a8487eb8fc1d86ec9": {
      "model_module": "@jupyter-widgets/base",
      "model_module_version": "1.2.0",
      "model_name": "LayoutModel",
      "state": {
       "align_items": "stretch",
       "display": "flex",
       "flex_flow": "row wrap",
       "width": "auto"
      }
     },
     "d2e23c795d144b858b10affc257d52eb": {
      "model_module": "@jupyter-widgets/controls",
      "model_module_version": "1.5.0",
      "model_name": "HBoxModel",
      "state": {
       "children": [
        "IPY_MODEL_c58a15a021fb49e98c89fe488926bb2f",
        "IPY_MODEL_a87273039b544ff0b6549c1c37c5b7e3"
       ],
       "layout": "IPY_MODEL_2b5451a6195a4636beb92aacad14cd0f"
      }
     },
     "d48cb7e420b645b997025cb08af32538": {
      "model_module": "@jupyter-widgets/controls",
      "model_module_version": "1.5.0",
      "model_name": "HBoxModel",
      "state": {
       "children": [
        "IPY_MODEL_c6410a74e2c545eab38245d622ec43d5",
        "IPY_MODEL_62699154c6f24e038fd3437224c9ae42"
       ],
       "layout": "IPY_MODEL_752559c801eb479faa52de499b42c44f"
      }
     },
     "d4fae32cb8a840ae9329dff1a227c2e5": {
      "model_module": "@jupyter-widgets/controls",
      "model_module_version": "1.5.0",
      "model_name": "ButtonStyleModel",
      "state": {
       "button_color": "#4DD0E1"
      }
     },
     "d621210463c143f0b5905d38cf1d0501": {
      "model_module": "@jupyter-widgets/base",
      "model_module_version": "1.2.0",
      "model_name": "LayoutModel",
      "state": {
       "height": "50%",
       "margin": "0 0 0 30px",
       "width": "50%"
      }
     },
     "d76b60f90d244e79bb772f073e9bfaa4": {
      "model_module": "@jupyter-widgets/base",
      "model_module_version": "1.2.0",
      "model_name": "LayoutModel",
      "state": {}
     },
     "d78abacb70f14325a9e23ce5ee8d7724": {
      "model_module": "@jupyter-widgets/base",
      "model_module_version": "1.2.0",
      "model_name": "LayoutModel",
      "state": {
       "width": "30px"
      }
     },
     "d7f5e663754d413db0a85b10d878c67d": {
      "model_module": "@jupyter-widgets/controls",
      "model_module_version": "1.5.0",
      "model_name": "VBoxModel",
      "state": {
       "box_style": "info",
       "children": [
        "IPY_MODEL_a0b84e3fbf634a309c28f6cfe4c21104",
        "IPY_MODEL_8b6caeff37004cc88d34212b10c57e06",
        "IPY_MODEL_07cdd3b0f5b04cb982b69866090774fd"
       ],
       "layout": "IPY_MODEL_aa653f177d9f46c092da77dbfe885ad9"
      }
     },
     "d8f4bec45f4a43a5a141212e6462611c": {
      "model_module": "@jupyter-widgets/base",
      "model_module_version": "1.2.0",
      "model_name": "LayoutModel",
      "state": {
       "width": "30px"
      }
     },
     "da825a77c5074758baf24624d04d0718": {
      "model_module": "@jupyter-widgets/base",
      "model_module_version": "1.2.0",
      "model_name": "LayoutModel",
      "state": {
       "align_items": "stretch",
       "display": "flex",
       "flex_flow": "row wrap",
       "width": "auto"
      }
     },
     "dab30c0eba2f49f387254d0c55bee61a": {
      "model_module": "@jupyter-widgets/controls",
      "model_module_version": "1.5.0",
      "model_name": "LabelModel",
      "state": {
       "layout": "IPY_MODEL_99673be0700a4c269984fe98ae5e56d3",
       "style": "IPY_MODEL_6bf4c2a003474618b07b6678a9c3c5b4"
      }
     },
     "db6575aae001419ea02d4436147e014f": {
      "model_module": "@jupyter-widgets/base",
      "model_module_version": "1.2.0",
      "model_name": "LayoutModel",
      "state": {}
     },
     "dc13d0b74af140568e4cb7a70d930df0": {
      "model_module": "@jupyter-widgets/controls",
      "model_module_version": "1.5.0",
      "model_name": "ButtonModel",
      "state": {
       "description": "Submit",
       "layout": "IPY_MODEL_94339b73398b4d0f991d40c0c3a5bd7b",
       "style": "IPY_MODEL_5cb7dea05554406c984360cd0e71abc2"
      }
     },
     "dc1ecf38915646c1bc9750fa9888b476": {
      "model_module": "@jupyter-widgets/base",
      "model_module_version": "1.2.0",
      "model_name": "LayoutModel",
      "state": {
       "align_items": "stretch",
       "display": "flex",
       "flex_flow": "row wrap",
       "width": "auto"
      }
     },
     "dcb0f01dba3a430b9f3364bc53fc83e7": {
      "model_module": "@jupyter-widgets/controls",
      "model_module_version": "1.5.0",
      "model_name": "DescriptionStyleModel",
      "state": {
       "description_width": "initial"
      }
     },
     "dd2bf5a680154b99a6948b717735bb34": {
      "model_module": "@jupyter-widgets/controls",
      "model_module_version": "1.5.0",
      "model_name": "CheckboxModel",
      "state": {
       "disabled": false,
       "layout": "IPY_MODEL_5eebe749513f4a27a632f2945ae2a50e",
       "style": "IPY_MODEL_5ca7ee5110c04ca1a918edfdca023a7b",
       "value": false
      }
     },
     "de6dac090a5f4117afa471ca5997c883": {
      "model_module": "@jupyter-widgets/controls",
      "model_module_version": "1.5.0",
      "model_name": "DescriptionStyleModel",
      "state": {
       "description_width": ""
      }
     },
     "e31a78497e1341ada13ee97b6ebd6490": {
      "model_module": "@jupyter-widgets/base",
      "model_module_version": "1.2.0",
      "model_name": "LayoutModel",
      "state": {}
     },
     "e34c152567094139ad3f40950e2dfd12": {
      "model_module": "@jupyter-widgets/controls",
      "model_module_version": "1.5.0",
      "model_name": "HBoxModel",
      "state": {
       "children": [
        "IPY_MODEL_3885c5a3e9bb4d54be22cbcb985519b5",
        "IPY_MODEL_8eded4bc337b44d78c5268dd077465ff"
       ],
       "layout": "IPY_MODEL_38a872c7d5ee4cb49b55134a2cfc9b2a"
      }
     },
     "e3d96311a6f642688b23f25db4ebfcdc": {
      "model_module": "@jupyter-widgets/controls",
      "model_module_version": "1.5.0",
      "model_name": "DescriptionStyleModel",
      "state": {
       "description_width": "initial"
      }
     },
     "e4a63466c800494abba34e17420bcd8c": {
      "model_module": "@jupyter-widgets/base",
      "model_module_version": "1.2.0",
      "model_name": "LayoutModel",
      "state": {}
     },
     "e51827808a544c56881ae1dc8dfffae2": {
      "model_module": "@jupyter-widgets/base",
      "model_module_version": "1.2.0",
      "model_name": "LayoutModel",
      "state": {
       "align_items": "stretch",
       "display": "flex",
       "flex_flow": "row wrap",
       "width": "auto"
      }
     },
     "e5b3901511814b5793c81054abe72149": {
      "model_module": "@jupyter-widgets/base",
      "model_module_version": "1.2.0",
      "model_name": "LayoutModel",
      "state": {}
     },
     "e5c3534ead4e4d47a1a0100cbe3fc4fd": {
      "model_module": "@jupyter-widgets/controls",
      "model_module_version": "1.5.0",
      "model_name": "CheckboxModel",
      "state": {
       "disabled": false,
       "layout": "IPY_MODEL_8ddb662e26ee47a4b1c88870b2b6bdec",
       "style": "IPY_MODEL_36a0daeff129497c8d739bbf80a9abd5",
       "value": false
      }
     },
     "e602ab3864b543318cbcc6f20e4b24d9": {
      "model_module": "@jupyter-widgets/base",
      "model_module_version": "1.2.0",
      "model_name": "LayoutModel",
      "state": {
       "align_items": "stretch",
       "display": "flex",
       "flex_flow": "row wrap",
       "width": "auto"
      }
     },
     "e69f1d7cc5344639b46384226a575cc8": {
      "model_module": "@jupyter-widgets/controls",
      "model_module_version": "1.5.0",
      "model_name": "DescriptionStyleModel",
      "state": {
       "description_width": ""
      }
     },
     "e6b388dc4d2c4ad29c8c69f42a9dbb35": {
      "model_module": "@jupyter-widgets/base",
      "model_module_version": "1.2.0",
      "model_name": "LayoutModel",
      "state": {
       "width": "30px"
      }
     },
     "e75fb07d382543bdb11d22eb384842ea": {
      "model_module": "@jupyter-widgets/controls",
      "model_module_version": "1.5.0",
      "model_name": "LabelModel",
      "state": {
       "layout": "IPY_MODEL_04c540a72a9f4408bd5f4575c07c2e84",
       "style": "IPY_MODEL_c9445d6a06c84c7da7fbc244bec27e63"
      }
     },
     "e781b15944a748c28b9c4683524d56e0": {
      "model_module": "@jupyter-widgets/controls",
      "model_module_version": "1.5.0",
      "model_name": "DescriptionStyleModel",
      "state": {
       "description_width": "initial"
      }
     },
     "e7e3da5a175b49aa98f983cd12c375b6": {
      "model_module": "@jupyter-widgets/controls",
      "model_module_version": "1.5.0",
      "model_name": "HBoxModel",
      "state": {
       "children": [
        "IPY_MODEL_20cfe6e709ab404ca5e6e71b9e6fa7f5"
       ],
       "layout": "IPY_MODEL_690001c0d91e4e188500a1cf31b51bb7"
      }
     },
     "e8968fe5024a43cab1838b7675b12ae4": {
      "model_module": "@jupyter-widgets/base",
      "model_module_version": "1.2.0",
      "model_name": "LayoutModel",
      "state": {}
     },
     "e90c633b1cae4edb94ceefc30ade7a80": {
      "model_module": "@jupyter-widgets/controls",
      "model_module_version": "1.5.0",
      "model_name": "VBoxModel",
      "state": {
       "box_style": "info",
       "children": [
        "IPY_MODEL_ece588fc29ea4c4e84b67f58fe038589",
        "IPY_MODEL_ad7c07d9d4f4406d9e1ccbca1ab74391",
        "IPY_MODEL_7443304f7cb94006b4cff49ba9db3f0b"
       ],
       "layout": "IPY_MODEL_57ff0761e90148108e5044a87fef9bf6"
      }
     },
     "e91b182945ff4dadb112022070e7a11a": {
      "model_module": "@jupyter-widgets/controls",
      "model_module_version": "1.5.0",
      "model_name": "HBoxModel",
      "state": {
       "children": [
        "IPY_MODEL_e75fb07d382543bdb11d22eb384842ea",
        "IPY_MODEL_1252dbfb68c44e8d8e10f6623b217c04"
       ],
       "layout": "IPY_MODEL_7186114bad604dd7a9ecdaf5f8a8930c"
      }
     },
     "e9e10a731c2e40ef91ab2c6e099c6543": {
      "model_module": "@jupyter-widgets/base",
      "model_module_version": "1.2.0",
      "model_name": "LayoutModel",
      "state": {
       "align_items": "stretch",
       "display": "flex",
       "flex_flow": "column",
       "width": "100%"
      }
     },
     "e9f05fdbeeac4ee594dd3557bb664f02": {
      "model_module": "@jupyter-widgets/controls",
      "model_module_version": "1.5.0",
      "model_name": "DescriptionStyleModel",
      "state": {
       "description_width": ""
      }
     },
     "ea06d9d8bec846d39264768dff924010": {
      "model_module": "@jupyter-widgets/controls",
      "model_module_version": "1.5.0",
      "model_name": "HTMLModel",
      "state": {
       "layout": "IPY_MODEL_5256da93418540c194922dfa0f4a6788",
       "style": "IPY_MODEL_2a346580214d456a894b992329808e9d",
       "value": "<style>p{word-wrap: break-word}</style> <p>Solutions are hidden in an accordion style.  </p>"
      }
     },
     "ea2d1872f9c949f9bfe9e6a941a4fc0b": {
      "model_module": "@jupyter-widgets/base",
      "model_module_version": "1.2.0",
      "model_name": "LayoutModel",
      "state": {
       "align_items": "stretch",
       "display": "flex",
       "flex_flow": "row wrap",
       "width": "auto"
      }
     },
     "ea8b2006212b468f8a4dfecb68447ff9": {
      "model_module": "@jupyter-widgets/base",
      "model_module_version": "1.2.0",
      "model_name": "LayoutModel",
      "state": {
       "width": "30px"
      }
     },
     "eaafc2d9976e4c8dad804a2ea5f7edc4": {
      "model_module": "@jupyter-widgets/controls",
      "model_module_version": "1.5.0",
      "model_name": "HTMLModel",
      "state": {
       "layout": "IPY_MODEL_83759e73948a46f2aaa845d37c7ce0bd",
       "style": "IPY_MODEL_00be375c82954f0f9e6d53ff2588873d",
       "value": "<style>p{word-wrap: break-word}</style> <p>Check all the correct statements about coding exercises and solutions </p>"
      }
     },
     "eab183581fc241108e6edc99deec991d": {
      "model_module": "@jupyter-widgets/base",
      "model_module_version": "1.2.0",
      "model_name": "LayoutModel",
      "state": {
       "align_items": "stretch",
       "display": "flex",
       "flex_flow": "row wrap",
       "margin": "30px 0 0 0"
      }
     },
     "eb00c39f27cf442d861408019bf494ac": {
      "model_module": "@jupyter-widgets/controls",
      "model_module_version": "1.5.0",
      "model_name": "DescriptionStyleModel",
      "state": {
       "description_width": ""
      }
     },
     "ebe9ab16224643159e2fa544b64e671b": {
      "model_module": "@jupyter-widgets/base",
      "model_module_version": "1.2.0",
      "model_name": "LayoutModel",
      "state": {}
     },
     "ece588fc29ea4c4e84b67f58fe038589": {
      "model_module": "@jupyter-widgets/controls",
      "model_module_version": "1.5.0",
      "model_name": "HBoxModel",
      "state": {
       "children": [
        "IPY_MODEL_88a8d0bd85ff4cd2b66afac0b9953b3b"
       ],
       "layout": "IPY_MODEL_cb4632a0768a44f18c64d85e921d0eed"
      }
     },
     "ef300c601dde49938f7b1fd31c78f09b": {
      "model_module": "@jupyter-widgets/controls",
      "model_module_version": "1.5.0",
      "model_name": "LabelModel",
      "state": {
       "layout": "IPY_MODEL_52133dd665bf4913a4577bef22ddd2f4",
       "style": "IPY_MODEL_c7b4339ba2b34567bf0d963542f705eb"
      }
     },
     "f146f8ce7d2241db81b8edd684dc1ae7": {
      "model_module": "@jupyter-widgets/base",
      "model_module_version": "1.2.0",
      "model_name": "LayoutModel",
      "state": {
       "align_items": "stretch",
       "display": "flex",
       "flex_flow": "row wrap",
       "width": "auto"
      }
     },
     "f15a4bca65de44159c91d6608177eee6": {
      "model_module": "@jupyter-widgets/base",
      "model_module_version": "1.2.0",
      "model_name": "LayoutModel",
      "state": {
       "width": "30px"
      }
     },
     "f1daf0ed29b343048ff99adcc13f000a": {
      "model_module": "@jupyter-widgets/controls",
      "model_module_version": "1.5.0",
      "model_name": "DescriptionStyleModel",
      "state": {
       "description_width": "initial"
      }
     },
     "f26b8068b6c34576a3b46bc9d98b0620": {
      "model_module": "@jupyter-widgets/controls",
      "model_module_version": "1.5.0",
      "model_name": "DescriptionStyleModel",
      "state": {
       "description_width": ""
      }
     },
     "f475b0f2b5b84bc8acbabadab2fa50de": {
      "model_module": "@jupyter-widgets/base",
      "model_module_version": "1.2.0",
      "model_name": "LayoutModel",
      "state": {
       "display": "none"
      }
     },
     "f65b4ce847cc47c88b866b99b3174c8e": {
      "model_module": "@jupyter-widgets/controls",
      "model_module_version": "1.5.0",
      "model_name": "ButtonStyleModel",
      "state": {
       "button_color": "#4DD0E1"
      }
     },
     "f66df87f00db4179840be4c105809aa4": {
      "model_module": "@jupyter-widgets/controls",
      "model_module_version": "1.5.0",
      "model_name": "HTMLModel",
      "state": {
       "layout": "IPY_MODEL_4e0f799f26bb49d3bd6867b4b253481f",
       "style": "IPY_MODEL_6313e6084b854e8f9abe3fb41b0f70eb",
       "value": "<style>p{word-wrap: break-word}</style> <p>bottom-up </p>"
      }
     },
     "f677e249995f441db31e48f2dcaca992": {
      "model_module": "@jupyter-widgets/controls",
      "model_module_version": "1.5.0",
      "model_name": "HTMLModel",
      "state": {
       "layout": "IPY_MODEL_d76b60f90d244e79bb772f073e9bfaa4",
       "style": "IPY_MODEL_21639a20e0b6467e8b4e668a44ed8396",
       "value": "<style>p{word-wrap: break-word}</style> <p>The term 'dynamic' is used to indicate that time plays a role. </p>"
      }
     },
     "f71e19d22b6643daaad37c697d20834a": {
      "model_module": "@jupyter-widgets/controls",
      "model_module_version": "1.5.0",
      "model_name": "HBoxModel",
      "state": {
       "children": [
        "IPY_MODEL_fb3e5b1ea9be4ed6bdbd015544594015",
        "IPY_MODEL_68b5481923644de4a29c6baf31040b1c"
       ],
       "layout": "IPY_MODEL_5bb7e8d26187421e8f315b850d2f28ec"
      }
     },
     "f87256b1e1e247c0b493ae5515880f6d": {
      "model_module": "@jupyter-widgets/base",
      "model_module_version": "1.2.0",
      "model_name": "LayoutModel",
      "state": {}
     },
     "f90a993a0c6e474ba7a1575d3996990f": {
      "model_module": "@jupyter-widgets/base",
      "model_module_version": "1.2.0",
      "model_name": "LayoutModel",
      "state": {
       "align_items": "stretch",
       "display": "flex",
       "flex_flow": "row wrap",
       "width": "auto"
      }
     },
     "f966cda59ebe45efa4097af101912325": {
      "model_module": "@jupyter-widgets/controls",
      "model_module_version": "1.5.0",
      "model_name": "DescriptionStyleModel",
      "state": {
       "description_width": ""
      }
     },
     "f97d6f0ac1964ee4989a2f1b5365d69e": {
      "model_module": "@jupyter-widgets/base",
      "model_module_version": "1.2.0",
      "model_name": "LayoutModel",
      "state": {
       "height": "50%",
       "margin": "0 0 0 30px",
       "width": "50%"
      }
     },
     "f9c0d385dfad40df85fd2c1c974121ad": {
      "model_module": "@jupyter-widgets/controls",
      "model_module_version": "1.5.0",
      "model_name": "HTMLModel",
      "state": {
       "layout": "IPY_MODEL_a9221588087b47bab7ece56504475156",
       "style": "IPY_MODEL_4da6520a3cf54273ac79880ac36e7523",
       "value": "<style>p{word-wrap: break-word}</style> <p>Solutions are styled in a yellow warning colour, so don't peek! </p>"
      }
     },
     "fb3e5b1ea9be4ed6bdbd015544594015": {
      "model_module": "@jupyter-widgets/controls",
      "model_module_version": "1.5.0",
      "model_name": "CheckboxModel",
      "state": {
       "disabled": false,
       "layout": "IPY_MODEL_d02b3db3d6604366a4ca7417915cc164",
       "style": "IPY_MODEL_8ef59e7ce7e54bf582eab54fa52d2b3a",
       "value": false
      }
     },
     "fbd069aeba2744fbadbddfee2cfb96d9": {
      "model_module": "@jupyter-widgets/controls",
      "model_module_version": "1.5.0",
      "model_name": "DescriptionStyleModel",
      "state": {
       "description_width": ""
      }
     },
     "fcfca16b50cd4288a3e199b4d45581ec": {
      "model_module": "@jupyter-widgets/base",
      "model_module_version": "1.2.0",
      "model_name": "LayoutModel",
      "state": {}
     },
     "fd0340dd4c3b42fc8acccfcd921f5e16": {
      "model_module": "@jupyter-widgets/base",
      "model_module_version": "1.2.0",
      "model_name": "LayoutModel",
      "state": {
       "align_items": "stretch",
       "display": "flex",
       "flex_flow": "row wrap",
       "width": "auto"
      }
     },
     "fdcd5813a4134c6db8521cbf3fbb3e64": {
      "model_module": "@jupyter-widgets/controls",
      "model_module_version": "1.5.0",
      "model_name": "HBoxModel",
      "state": {
       "children": [
        "IPY_MODEL_4ee42af519df4b2cbaa508d993bedc67",
        "IPY_MODEL_2d918c17b87c44dfbdd0fe23b157250c"
       ],
       "layout": "IPY_MODEL_1cbc3529692f41d59b90fc330f40f640"
      }
     },
     "ff10091c4ee54b73a8cc3be648d15ecb": {
      "model_module": "@jupyter-widgets/controls",
      "model_module_version": "1.5.0",
      "model_name": "HBoxModel",
      "state": {
       "children": [
        "IPY_MODEL_6691ac65edf8447fbedb3dcf8f6decda",
        "IPY_MODEL_6eca17d0cd2f40b28533de3c9512fd39"
       ],
       "layout": "IPY_MODEL_64f92561717f452daa9609c2e2c9aabf"
      }
     },
     "ff6931342ada4f27b094828975865347": {
      "model_module": "@jupyter-widgets/base",
      "model_module_version": "1.2.0",
      "model_name": "LayoutModel",
      "state": {}
     },
     "ffb050c281e741e4af2339f1a33315fc": {
      "model_module": "@jupyter-widgets/controls",
      "model_module_version": "1.5.0",
      "model_name": "ButtonModel",
      "state": {
       "description": "Show answer",
       "disabled": true,
       "layout": "IPY_MODEL_8ca6ca61673d4acb8ce6d683568213f2",
       "style": "IPY_MODEL_f65b4ce847cc47c88b866b99b3174c8e"
      }
     },
     "ffcbee78be4e4408ae79a80fe7840271": {
      "model_module": "@jupyter-widgets/controls",
      "model_module_version": "1.5.0",
      "model_name": "VBoxModel",
      "state": {
       "box_style": "info",
       "children": [
        "IPY_MODEL_e7e3da5a175b49aa98f983cd12c375b6",
        "IPY_MODEL_cb798216e82640a0a9ba11a758e2bf51",
        "IPY_MODEL_a3bd89262db94a2d8a0734ef9f8db71e"
       ],
       "layout": "IPY_MODEL_85eee465cb8a4fbab39d52f6c6737db2"
      }
     }
    },
    "version_major": 2,
    "version_minor": 0
   }
  }
 },
 "nbformat": 4,
 "nbformat_minor": 4
}
