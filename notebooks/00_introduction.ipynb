{
 "cells": [
  {
   "cell_type": "markdown",
   "metadata": {},
   "source": [
    "# Lesson 1: Introduction to Dynamic Programming <a class=\"tocSkip\">"
   ]
  },
  {
   "cell_type": "markdown",
   "metadata": {},
   "source": [
    "Welcome to the first lesson of Magic of Dynamic Programming. By the end of this course you will know a step-by-step method to design dynamic programming algorithms to solve the type of problems you get in algorithm classes and job interviews."
   ]
  },
  {
   "cell_type": "markdown",
   "metadata": {},
   "source": [
    "## This Classroom\n",
    "\n",
    "The course consists of these notebooks. Most of the content is delivered through __text__, __diagrams__ and __quizzes__. Some of the notebooks contain a __video__ to motivate the topic."
   ]
  },
  {
   "cell_type": "markdown",
   "metadata": {},
   "source": [
    "<div class=\"exercise exercise-info\">\n",
    "    <input type=\"checkbox\" id=\"see_quiz\" >\n",
    "    <label for=\"see_quiz\"> Do you see the <b>multiple choice quizzes</b> below?\"</label><br>\n",
    "</div>"
   ]
  },
  {
   "cell_type": "markdown",
   "metadata": {},
   "source": [
    "Quizzes should appear in blue (or is that cyan?) boxes like the one above.\n",
    "\n",
    "If you don't see the quizzes click on __Run All Cells__ from the __Run__ menu and wait a few seconds for the quizzes to load.\n",
    "\n",
    "Now let's check that you know how to run the exercises.. please complete the exercise below 😉 "
   ]
  },
  {
   "cell_type": "markdown",
   "metadata": {},
   "source": [
    "<div class=\"exercise exercise-info\">\n",
    "\n",
    "In order to execute a cell, select the cell by clicking it. Then press <code>Ctrl-Enter</code>. <br><br> Using <code>Shift-Enter</code> instead of Ctrl-Enter will execute the code and move to the next cell at the same time.<br><br>\n",
    "<hr>    \n",
    "<b>Exercise</b>: uncomment one line of code in the next cell, and run the cell to see what the cow says.\n",
    "</div>"
   ]
  },
  {
   "cell_type": "code",
   "execution_count": 1,
   "metadata": {
    "pycharm": {
     "name": "#%%\n"
    }
   },
   "outputs": [
    {
     "name": "stdout",
     "output_type": "stream",
     "text": [
      "+-------------------------------------------------+\n",
      "|                                                 |\n",
      "|                                                 |\n",
      "+-------------------------------------------------+\n",
      "        \\   ^__^\n",
      "         \\  (oo)\\_______\n",
      "            (__)\\       )\\/\\\n",
      "                 ||----w |\n",
      "                 ||     ||\n"
     ]
    }
   ],
   "source": [
    "print('+-------------------------------------------------+'); print('|                                                 |')\n",
    "X = [68, 121, 110, 97, 109 ,105, 99, 32, 80 ,114, 111, 103, 114, 97, 109, 111, 111 ,45, 105 ,110, 103, 32, 105, 115, 32 ,109, 121, 32, 102, 97, 118 ,111, 117, 114, 105, 116, 101, 32 ,115 ,117, 98, 106, 101, 99, 116, 33]\n",
    "cowsay ='| '\n",
    "for x in X:\n",
    "    cowsay+= chr(x)\n",
    "cowsay += '  |'\n",
    "#print (cowsay)\n",
    "print('|                                                 |');print('+-------------------------------------------------+');print('        \\\\   ^__^');print('         \\\\  (oo)\\\\_______');print('            (__)\\\\       )\\\\/\\\\');print('                 ||----w |');print('                 ||     ||')                                                     "
   ]
  },
  {
   "cell_type": "markdown",
   "metadata": {},
   "source": [
    "<div class=\"exercise exercise-info\">\n",
    "    From the pane to the left, click on the Table of Contents icon to see the notebook structure and and navigate within the notebook. Click on the Folder icon to navigate to other notebooks.\n",
    "</div>"
   ]
  },
  {
   "cell_type": "markdown",
   "metadata": {},
   "source": [
    "One more important note: Some of the code in these notebooks is for rendering the quizzes and such. I have hidden that type of code and left exercise starter code visible. You can always show or hide code cells by __Collapse Selected Cells__ from the __View__ menu or clicking to the left of a cell to hide it and on the __ellipses ...__ to show it."
   ]
  },
  {
   "cell_type": "code",
   "execution_count": 2,
   "metadata": {
    "jupyter": {
     "source_hidden": true
    }
   },
   "outputs": [
    {
     "data": {
      "application/vnd.jupyter.widget-view+json": {
       "model_id": "69e1232bff9f4c8e811e7eb78fb46313",
       "version_major": 2,
       "version_minor": 0
      },
      "text/plain": [
       "VBox(box_style='info', children=(HBox(children=(HTML(value='<style>p{word-wrap: break-word}</style> <p>Check a…"
      ]
     },
     "metadata": {},
     "output_type": "display_data"
    }
   ],
   "source": [
    "%run \"quizzes/quiz.py\" \"quizzes/00/where_are_the_solutions.json\""
   ]
  },
  {
   "cell_type": "markdown",
   "metadata": {},
   "source": [
    "## What is Dynamic Programming?"
   ]
  },
  {
   "cell_type": "markdown",
   "metadata": {},
   "source": [
    "<figure>\n",
    "    <img src=\"../images/bellman_front_page.png\" width=\"300px\" alt=\"An Introduction to the Theory of Dynamic Programming\"/>\n",
    "    <figcaption><b>Figure 1.</b> Front page of 'An Introduction to the Theory of Dynamic Programming' (Bellman, 1953)</figcaption>\n",
    "</figure>"
   ]
  },
  {
   "cell_type": "markdown",
   "metadata": {
    "pycharm": {
     "name": "#%% md\n"
    }
   },
   "source": [
    "#### The origin of the term 'dynamic programming\n",
    "Richard Bellman was a professor of mathematics who worked for the RAND corporation in the 1950's. It's interesting to read the professor's own explanation of the term dynamic programming.\n",
    "<figure>\n",
    "    <img src=\"../images/bellman_preface_highlighted.png\" width = \"700px\"/>\n",
    "    <figcaption><b>Figure 2.</b> Screenshot from preface of 'An Introduction to the Theory of Dynamic Programming' (Bellman, 1953)</figcaption>\n",
    "</figure>"
   ]
  },
  {
   "cell_type": "code",
   "execution_count": 11,
   "metadata": {
    "jupyter": {
     "source_hidden": true
    },
    "pycharm": {
     "name": "#%% md\n"
    }
   },
   "outputs": [
    {
     "data": {
      "application/vnd.jupyter.widget-view+json": {
       "model_id": "ad5e7cadb5224db18a567f3ff196e3b9",
       "version_major": 2,
       "version_minor": 0
      },
      "text/plain": [
       "VBox(box_style='info', children=(HBox(children=(HTML(value=\"<style>p{word-wrap: break-word}</style> <p>Check t…"
      ]
     },
     "metadata": {},
     "output_type": "display_data"
    }
   ],
   "source": [
    "%run \"quizzes/quiz.py\" \"quizzes/00/bellman.json\""
   ]
  },
  {
   "cell_type": "markdown",
   "metadata": {},
   "source": [
    "### Sum of n numbers\n",
    "When solving dynamic programming problems, you'll be turning top-down algorithms into **bottom-up** ones. So to limber up, let's start by practicing the other direction: In the following exercise you'll practice turning an algorithm that you _usually_ solve bottom-up into **top-down**!"
   ]
  },
  {
   "cell_type": "code",
   "execution_count": 3,
   "metadata": {
    "init_cell": true,
    "jupyter": {
     "source_hidden": true
    },
    "pycharm": {
     "name": "#%%\n"
    }
   },
   "outputs": [
    {
     "data": {
      "image/jpeg": "[encoded data removed]",
      "text/html": [
       "\n",
       "        <iframe\n",
       "            width=\"400\"\n",
       "            height=\"300\"\n",
       "            src=\"https://www.youtube.com/embed/roqumrTB9g0\"\n",
       "            frameborder=\"0\"\n",
       "            allowfullscreen\n",
       "        ></iframe>\n",
       "        "
      ],
      "text/plain": [
       "<IPython.lib.display.YouTubeVideo at 0x1291212c648>"
      ]
     },
     "execution_count": 3,
     "metadata": {},
     "output_type": "execute_result"
    }
   ],
   "source": [
    "from IPython.display import YouTubeVideo\n",
    "YouTubeVideo('roqumrTB9g0')"
   ]
  },
  {
   "cell_type": "markdown",
   "metadata": {},
   "source": [
    "<div class=\"exercise exercise-info\">\n",
    "    Write a recursive function in Python to add a list of numbers. For example, if your list is {3, 1, 4}, the algorithm will output 8.\n",
    "<div    "
   ]
  },
  {
   "cell_type": "code",
   "execution_count": 4,
   "metadata": {
    "pycharm": {
     "name": "#%%\n"
    }
   },
   "outputs": [],
   "source": [
    "def sum(numbers):\n",
    "\n",
    "    #####################\n",
    "    # YOUR CODE HERE    #\n",
    "    #####################\n",
    "\n",
    "    return False\n",
    "\n"
   ]
  },
  {
   "cell_type": "code",
   "execution_count": 5,
   "metadata": {
    "pycharm": {
     "name": "#%%\n"
    }
   },
   "outputs": [
    {
     "name": "stdout",
     "output_type": "stream",
     "text": [
      "False\n"
     ]
    }
   ],
   "source": [
    "# unit tests\n",
    "v = [3, 1, 4, 5, 9, 2, 6]\n",
    "print (sum(v))"
   ]
  },
  {
   "cell_type": "markdown",
   "metadata": {
    "pycharm": {
     "name": "#%% md\n"
    }
   },
   "source": [
    "### Check if a given string is a palindrome\n",
    "\n",
    "A string [palindrome](https://en.wikipedia.org/wiki/Palindrome) is a string that is exactly the same read backward as forward."
   ]
  },
  {
   "cell_type": "code",
   "execution_count": 6,
   "metadata": {
    "hide_input": false,
    "init_cell": true,
    "pycharm": {
     "name": "#%%\n"
    }
   },
   "outputs": [
    {
     "data": {
      "application/vnd.jupyter.widget-view+json": {
       "model_id": "d22c3d4a9cbb49c2a13e5476f2f74567",
       "version_major": 2,
       "version_minor": 0
      },
      "text/plain": [
       "VBox(box_style='info', children=(HBox(children=(HTML(value='<style>p{word-wrap: break-word}</style> <p>Which o…"
      ]
     },
     "metadata": {},
     "output_type": "display_data"
    }
   ],
   "source": [
    "%run \"quizzes/quiz.py\" \"quizzes/00/palindrome_strings.json\""
   ]
  },
  {
   "cell_type": "markdown",
   "metadata": {
    "pycharm": {
     "name": "#%% md\n"
    }
   },
   "source": [
    "**An algorithm for is_palindrome:** We could test for whether a string with n characters is a palindrome by running along the string simultaneously from each end, using a 'left' pointer and a 'right' pointer until the pointers cross. At each step check if the characters under the left and right pointers match - if they don't: return false. If we get to the middle of the string and all the characters matched: return true."
   ]
  },
  {
   "cell_type": "code",
   "execution_count": 7,
   "metadata": {
    "init_cell": true,
    "jupyter": {
     "source_hidden": true
    },
    "pycharm": {
     "name": "#%%\n"
    }
   },
   "outputs": [
    {
     "data": {
      "application/vnd.jupyter.widget-view+json": {
       "model_id": "3eeb5c15271e4a71aea9345566481871",
       "version_major": 2,
       "version_minor": 0
      },
      "text/plain": [
       "VBox(box_style='info', children=(HBox(children=(HTML(value='<style>p{word-wrap: break-word}</style> <p>Which t…"
      ]
     },
     "metadata": {},
     "output_type": "display_data"
    }
   ],
   "source": [
    "%run \"quizzes/quiz.py\" \"quizzes/00/palindrome_iterative.json\""
   ]
  },
  {
   "cell_type": "markdown",
   "metadata": {
    "deletable": false
   },
   "source": [
    "<div class=\"exercise exercise-info\">\n",
    "Now, as an exercise, write a _recursive_ function to check if a given string is a palindrome. The difference is subtle but important, so give it a try!\n",
    "<div>    "
   ]
  },
  {
   "cell_type": "code",
   "execution_count": 8,
   "metadata": {
    "pycharm": {
     "name": "#%%\n"
    }
   },
   "outputs": [],
   "source": [
    "def is_palindrome(s):\n",
    "\n",
    "    #####################\n",
    "    # YOUR CODE HERE    #\n",
    "    #####################\n",
    "\n",
    "    return False"
   ]
  },
  {
   "cell_type": "code",
   "execution_count": 9,
   "metadata": {
    "pycharm": {
     "name": "#%%\n"
    }
   },
   "outputs": [],
   "source": [
    "# sample unit tests\n",
    "tests = ['', 'a', 'abba', 'imma']\n",
    "expected = [True, True, True, False]\n",
    "actual = [is_palindrome(s) for s in tests]\n",
    "# assert(actual == expected)"
   ]
  },
  {
   "cell_type": "markdown",
   "metadata": {},
   "source": [
    "### Solutions"
   ]
  },
  {
   "cell_type": "markdown",
   "metadata": {
    "deletable": false,
    "pycharm": {
     "name": "#%% md\n"
    }
   },
   "source": [
    "<div class=\"exercise exercise-warning\"><details><summary>Sum of n numbers</summary>\n",
    "    \n",
    "```python   \n",
    "    # %load solutions/00/sum_n_numbers.py\n",
    "    def sum(numbers):\n",
    "\n",
    "        n = len(numbers)\n",
    "        if n <= 0:\n",
    "            return 0\n",
    "        return sum(numbers[0: n - 1]) + numbers[n - 1]\n",
    "\n",
    "```\n",
    "</details></div>"
   ]
  },
  {
   "cell_type": "markdown",
   "metadata": {},
   "source": [
    "<div class=\"exercise exercise-warning\"><details><summary>Is the string a palindrome?</summary>\n",
    "\n",
    "```python\n",
    "    # %load solutions/00/is_palindrome.py\n",
    "    def is_palindrome(s):\n",
    "\n",
    "        n = len(s)\n",
    "\n",
    "        if n == 0 or n == 1:\n",
    "            return 1\n",
    "        return s[0] == s[n - 1] and is_palindrome(s[1:n - 1])\n",
    "\n",
    "```\n",
    "\n",
    "</details></div>"
   ]
  },
  {
   "cell_type": "code",
   "execution_count": 10,
   "metadata": {
    "jupyter": {
     "source_hidden": true
    }
   },
   "outputs": [
    {
     "data": {
      "text/html": [
       "<style>\n",
       "    .alert {\n",
       "      padding: 15px;\n",
       "      margin-bottom: 20px;\n",
       "      border: 1px solid transparent;\n",
       "      border-radius: 4px;\n",
       "    }\n",
       "\n",
       "    .alert h4 {\n",
       "      margin-top: 0;\n",
       "      color: inherit;\n",
       "    }\n",
       "\n",
       "    .alert .alert-link {\n",
       "      font-weight: bold;\n",
       "    }\n",
       "\n",
       "    .alert > p,\n",
       "    .alert > ul {\n",
       "      margin-bottom: 0;\n",
       "    }\n",
       "\n",
       "    .alert > p + p {\n",
       "      margin-top: 5px;\n",
       "    }\n",
       "\n",
       "    .alert-dismissable,\n",
       "    .alert-dismissible {\n",
       "      padding-right: 35px;\n",
       "    }\n",
       "\n",
       "    .alert-dismissable .close,\n",
       "    .alert-dismissible .close {\n",
       "      position: relative;\n",
       "      top: -2px;\n",
       "      right: -21px;\n",
       "      color: inherit;\n",
       "    }\n",
       "\n",
       "    .alert-success {\n",
       "      background-color: #C8E6C9;\n",
       "      border-color: #81C784;\n",
       "      color: #388E3C;\n",
       "    }\n",
       "\n",
       "    .alert-success hr {\n",
       "      border-top-color: #AED581;\n",
       "    }\n",
       "\n",
       "    .alert-success .alert-link {\n",
       "      color: #2E7D32;\n",
       "    }\n",
       "\n",
       "    .alert-info {\n",
       "      background-color: #B2EBF2;\n",
       "      border-color: #4DD0E1;\n",
       "      color: #0097A7;\n",
       "    }\n",
       "\n",
       "    .alert-info hr {\n",
       "      border-top-color: #00838F;\n",
       "    }\n",
       "\n",
       "    .alert-info .alert-link {\n",
       "      color: #245269;\n",
       "    }\n",
       "\n",
       "    .alert-warning {\n",
       "      background-color: #FFE0B2;\n",
       "      border-color: #FFB74D;\n",
       "      color: #F57C00;\n",
       "    }\n",
       "\n",
       "    .alert-warning hr {\n",
       "      border-top-color: #FFB74D;\n",
       "    }\n",
       "\n",
       "    .alert-warning .alert-link {\n",
       "      color: #EF6C00;\n",
       "    }\n",
       "\n",
       "    .alert-danger {\n",
       "      background-color: #ffcdd2;\n",
       "      border-color: #e57373;\n",
       "      color: #d32f2f;\n",
       "    }\n",
       "\n",
       "    .alert-danger hr {\n",
       "      border-top-color: #d32f2f;\n",
       "    }\n",
       "\n",
       "    .alert-danger .alert-link {\n",
       "      color: #c62828;\n",
       "    }\n",
       "    \n",
       "\n",
       "    .exercise {\n",
       "      padding: 15px;\n",
       "      margin-bottom: 20px;\n",
       "      border: 1px solid transparent;\n",
       "      border-radius: 4px;\n",
       "    }\n",
       "\n",
       "    .exercise h4 {\n",
       "      margin-top: 0;\n",
       "      color: inherit;\n",
       "    }\n",
       "\n",
       "    .exercise .alert-link {\n",
       "      font-weight: bold;\n",
       "    }\n",
       "\n",
       "    .exercise > p,\n",
       "    .exercise > ul {\n",
       "      margin-bottom: 0;\n",
       "    }\n",
       "\n",
       "    .exercise > p + p {\n",
       "      margin-top: 5px;\n",
       "    }\n",
       "\n",
       "    .exercise-info {\n",
       "      background-color: #B2EBF2;\n",
       "      border-color: #4DD0E1;\n",
       "      color: #000000;\n",
       "    }\n",
       "\n",
       "    .exercise-info hr {\n",
       "      border-top-color: #00838F;\n",
       "    }\n",
       "\n",
       "    .exercise-info .alert-link {\n",
       "      color: #245269;\n",
       "    }\n",
       "\n",
       "   .exercise-warning {\n",
       "      background-color: #FFE0B2;\n",
       "      border-color: #FFB74D;\n",
       "      color: #000000;\n",
       "    }\n",
       "\n",
       "    .exercise-warning hr {\n",
       "      border-top-color: #FFB74D;\n",
       "    }\n",
       "\n",
       "    .excercise-warning .alert-link {\n",
       "      color: #EF6C00;\n",
       "    }\n",
       "\n",
       "\n",
       "</style>\n"
      ],
      "text/plain": [
       "<IPython.core.display.HTML object>"
      ]
     },
     "execution_count": 10,
     "metadata": {},
     "output_type": "execute_result"
    }
   ],
   "source": [
    "# workaround for known ipywidget issue not rendering alert style colours on Jupyter lab\n",
    "from IPython.core.display import HTML\n",
    "HTML(open(\"../styles/custom.css\", \"r\").read())"
   ]
  }
 ],
 "metadata": {
  "celltoolbar": "Edit Metadata",
  "kernelspec": {
   "display_name": "Python 3",
   "language": "python",
   "name": "python3"
  },
  "language_info": {
   "codemirror_mode": {
    "name": "ipython",
    "version": 3
   },
   "file_extension": ".py",
   "mimetype": "text/x-python",
   "name": "python",
   "nbconvert_exporter": "python",
   "pygments_lexer": "ipython3",
   "version": "3.7.6"
  },
  "latex_envs": {
   "LaTeX_envs_menu_present": true,
   "autoclose": false,
   "autocomplete": true,
   "bibliofile": "biblio.bib",
   "cite_by": "apalike",
   "current_citInitial": 1,
   "eqLabelWithNumbers": true,
   "eqNumInitial": 1,
   "hotkeys": {
    "equation": "Ctrl-E",
    "itemize": "Ctrl-I"
   },
   "labels_anchors": false,
   "latex_user_defs": false,
   "report_style_numbering": false,
   "user_envs_cfg": false
  },
  "toc": {
   "base_numbering": "",
   "nav_menu": {},
   "number_sections": false,
   "sideBar": true,
   "skip_h1_title": true,
   "title_cell": "Table of Contents",
   "title_sidebar": "Contents",
   "toc_cell": false,
   "toc_position": {
    "height": "calc(100% - 180px)",
    "left": "10px",
    "top": "150px",
    "width": "380.391px"
   },
   "toc_section_display": true,
   "toc_window_display": true
  },
  "toc-showmarkdowntxt": false,
  "widgets": {
   "application/vnd.jupyter.widget-state+json": {
    "state": {
     "0061fae222634b42a2e63eb44c91d7d9": {
      "model_module": "@jupyter-widgets/controls",
      "model_module_version": "1.5.0",
      "model_name": "HBoxModel",
      "state": {
       "children": [
        "IPY_MODEL_2a3a983aba4d444d86390c5634b4a32e",
        "IPY_MODEL_c7ee8b3341204485aaf352d501a6412a"
       ],
       "layout": "IPY_MODEL_f41565fd6d384168ac9d3e62d30cadb3"
      }
     },
     "0073c08a403242e5a02bc3a5a2a061c5": {
      "model_module": "@jupyter-widgets/controls",
      "model_module_version": "1.5.0",
      "model_name": "HBoxModel",
      "state": {
       "children": [
        "IPY_MODEL_a21f6db6db5248ce83a1065f8c21eb2f"
       ],
       "layout": "IPY_MODEL_5f884d4d62334ad8b14d962b30cc6f03"
      }
     },
     "0142b50bc668482286c50f7353160354": {
      "model_module": "@jupyter-widgets/controls",
      "model_module_version": "1.5.0",
      "model_name": "HBoxModel",
      "state": {
       "children": [
        "IPY_MODEL_c966ef5590d94dada93726309345d08b",
        "IPY_MODEL_53430d4636454c859147984afa406e3b"
       ],
       "layout": "IPY_MODEL_d622126b6ef74a77adbc5f90c626e4e7"
      }
     },
     "01f3d14627fa42fcb419552534d5432e": {
      "model_module": "@jupyter-widgets/base",
      "model_module_version": "1.2.0",
      "model_name": "LayoutModel",
      "state": {}
     },
     "02ec0080b7e5408d9884139f4a537fa9": {
      "model_module": "@jupyter-widgets/controls",
      "model_module_version": "1.5.0",
      "model_name": "DescriptionStyleModel",
      "state": {
       "description_width": ""
      }
     },
     "03754845c01a4d599a4e575cbab96fab": {
      "model_module": "@jupyter-widgets/base",
      "model_module_version": "1.2.0",
      "model_name": "LayoutModel",
      "state": {
       "align_items": "stretch",
       "display": "flex",
       "flex_flow": "column",
       "width": "100%"
      }
     },
     "044736c0a926471a9e87713157b01047": {
      "model_module": "@jupyter-widgets/base",
      "model_module_version": "1.2.0",
      "model_name": "LayoutModel",
      "state": {
       "align_items": "stretch",
       "display": "flex",
       "flex_flow": "row wrap",
       "width": "auto"
      }
     },
     "04df7ea2ead4431ea96a6bbaea6fd076": {
      "model_module": "@jupyter-widgets/controls",
      "model_module_version": "1.5.0",
      "model_name": "ButtonStyleModel",
      "state": {
       "button_color": "#4DD0E1"
      }
     },
     "05c4e98d549e4a4bbec0ed9143aa0a82": {
      "model_module": "@jupyter-widgets/base",
      "model_module_version": "1.2.0",
      "model_name": "LayoutModel",
      "state": {
       "height": "50%",
       "margin": "0 0 0 30px",
       "width": "50%"
      }
     },
     "066a962764d44ba0945ba7c40d6ebef4": {
      "model_module": "@jupyter-widgets/base",
      "model_module_version": "1.2.0",
      "model_name": "LayoutModel",
      "state": {}
     },
     "066d8e0e247c485da95ec714abf59ab6": {
      "model_module": "@jupyter-widgets/controls",
      "model_module_version": "1.5.0",
      "model_name": "DescriptionStyleModel",
      "state": {
       "description_width": ""
      }
     },
     "06f450280fd14065b511045bf1a40925": {
      "model_module": "@jupyter-widgets/controls",
      "model_module_version": "1.5.0",
      "model_name": "HBoxModel",
      "state": {
       "children": [
        "IPY_MODEL_6c981a32a57241c29a25967a60e7470e",
        "IPY_MODEL_15a4f8b3d03845959b274ca4906979a2"
       ],
       "layout": "IPY_MODEL_eab049b71c064d24920878ea39952360"
      }
     },
     "0765e9fa223940ec8b29b26f1d8b110a": {
      "model_module": "@jupyter-widgets/base",
      "model_module_version": "1.2.0",
      "model_name": "LayoutModel",
      "state": {
       "align_items": "stretch",
       "display": "flex",
       "flex_flow": "row wrap",
       "width": "auto"
      }
     },
     "0833df42cd344b38bdd4abfa4b81fa94": {
      "model_module": "@jupyter-widgets/controls",
      "model_module_version": "1.5.0",
      "model_name": "HBoxModel",
      "state": {
       "children": [
        "IPY_MODEL_af4ba62af2a6437682ba0389fe694e5e",
        "IPY_MODEL_79b57b12addf4dcc8b7ecaf37307cd25"
       ],
       "layout": "IPY_MODEL_82eb6ce317c64f30ade4713d45f54487"
      }
     },
     "091ad443d1c44e08b2e2d8e03360d39f": {
      "model_module": "@jupyter-widgets/base",
      "model_module_version": "1.2.0",
      "model_name": "LayoutModel",
      "state": {
       "align_items": "stretch",
       "display": "flex",
       "flex_flow": "row wrap",
       "width": "auto"
      }
     },
     "09fe1c6ce6284c158b206c93de34a417": {
      "model_module": "@jupyter-widgets/controls",
      "model_module_version": "1.5.0",
      "model_name": "HBoxModel",
      "state": {
       "children": [
        "IPY_MODEL_abcda9b83e4243e9a31f68591d4da7c1",
        "IPY_MODEL_0142b50bc668482286c50f7353160354"
       ],
       "layout": "IPY_MODEL_b241112772fe4b56b27a8e8050d2ed9e"
      }
     },
     "0a89109497f1469b88b9c9ad93f8b51d": {
      "model_module": "@jupyter-widgets/base",
      "model_module_version": "1.2.0",
      "model_name": "LayoutModel",
      "state": {
       "align_items": "stretch",
       "display": "flex",
       "flex_flow": "row wrap",
       "width": "auto"
      }
     },
     "0c6ee09482864205ac141aac0f683be1": {
      "model_module": "@jupyter-widgets/controls",
      "model_module_version": "1.5.0",
      "model_name": "HBoxModel",
      "state": {
       "children": [
        "IPY_MODEL_1d652ac04099448ba6e38491358f833b",
        "IPY_MODEL_3c642f63553d43edbe5bc7a44dec78e5"
       ],
       "layout": "IPY_MODEL_c40c1ab89cd44c06af9eda6d28770239"
      }
     },
     "0d9b0ca0541449e9a324d1a053158659": {
      "model_module": "@jupyter-widgets/controls",
      "model_module_version": "1.5.0",
      "model_name": "VBoxModel",
      "state": {
       "children": [
        "IPY_MODEL_6df68ee3850c4fbc8c1804eb65e0c0e2",
        "IPY_MODEL_82844ed226e64ad9b6fe7a6640301205",
        "IPY_MODEL_6aac4feb93ca4b3aab81c3f7d9e84d48",
        "IPY_MODEL_f203735bfefd46ce99b01f512556ad78",
        "IPY_MODEL_289d25acb95d41989cc5106176fc4c17"
       ],
       "layout": "IPY_MODEL_17f01bf24e184cc3bfa22645a96dac31"
      }
     },
     "0e9e9d2fb17348b8947c58a5b89f2438": {
      "model_module": "@jupyter-widgets/base",
      "model_module_version": "1.2.0",
      "model_name": "LayoutModel",
      "state": {
       "align_items": "stretch",
       "display": "flex",
       "flex_flow": "row wrap",
       "width": "auto"
      }
     },
     "0f4e840e08114fa1a25d565aaef6a356": {
      "model_module": "@jupyter-widgets/base",
      "model_module_version": "1.2.0",
      "model_name": "LayoutModel",
      "state": {
       "align_items": "stretch",
       "display": "flex",
       "flex_flow": "column",
       "width": "100%"
      }
     },
     "100b2072f3ee419eb20219369b447186": {
      "model_module": "@jupyter-widgets/controls",
      "model_module_version": "1.5.0",
      "model_name": "HBoxModel",
      "state": {
       "children": [
        "IPY_MODEL_1d7858e6d9574d77b14287d885aa2fb2",
        "IPY_MODEL_a778b47781d44814815cae172111e8a1"
       ],
       "layout": "IPY_MODEL_5ec7eda213044485997ad7198166bdc7"
      }
     },
     "10f30005c0124ec9a2aca8f524502b52": {
      "model_module": "@jupyter-widgets/controls",
      "model_module_version": "1.5.0",
      "model_name": "LabelModel",
      "state": {
       "layout": "IPY_MODEL_83e231b27d5f43bfad998ed3bc78c6ab",
       "style": "IPY_MODEL_666f5d8f27ce4c06a6ceb2d974a45076"
      }
     },
     "11e11cc56bf749258c103b50b9545153": {
      "model_module": "@jupyter-widgets/controls",
      "model_module_version": "1.5.0",
      "model_name": "DescriptionStyleModel",
      "state": {
       "description_width": ""
      }
     },
     "123243f5cf22459992f6db28ba0693e0": {
      "model_module": "@jupyter-widgets/base",
      "model_module_version": "1.2.0",
      "model_name": "LayoutModel",
      "state": {}
     },
     "12432da4b7384c1d901a7ad51e36c3aa": {
      "model_module": "@jupyter-widgets/base",
      "model_module_version": "1.2.0",
      "model_name": "LayoutModel",
      "state": {
       "display": "none"
      }
     },
     "14773bdbddaa486db0c0b6df527484b0": {
      "model_module": "@jupyter-widgets/base",
      "model_module_version": "1.2.0",
      "model_name": "LayoutModel",
      "state": {
       "align_items": "stretch",
       "display": "flex",
       "flex_flow": "row wrap",
       "width": "auto"
      }
     },
     "14b6179a131040f9896a25ae43f32046": {
      "model_module": "@jupyter-widgets/controls",
      "model_module_version": "1.5.0",
      "model_name": "DescriptionStyleModel",
      "state": {
       "description_width": "initial"
      }
     },
     "159e04640bbb46638e9a50a05e3e19f9": {
      "model_module": "@jupyter-widgets/controls",
      "model_module_version": "1.5.0",
      "model_name": "DescriptionStyleModel",
      "state": {
       "description_width": ""
      }
     },
     "15a4f8b3d03845959b274ca4906979a2": {
      "model_module": "@jupyter-widgets/controls",
      "model_module_version": "1.5.0",
      "model_name": "HBoxModel",
      "state": {
       "children": [
        "IPY_MODEL_8549fd5452914f36a038dafde2f56aa3",
        "IPY_MODEL_acc0f9b7b23141cdba83a09e1db0dc57"
       ],
       "layout": "IPY_MODEL_250f4fc3ba7d40d0b53411ede6d0e2a0"
      }
     },
     "16d51d8eefd04b6c9d2ffd1eeabfd819": {
      "model_module": "@jupyter-widgets/base",
      "model_module_version": "1.2.0",
      "model_name": "LayoutModel",
      "state": {
       "align_items": "stretch",
       "display": "flex",
       "flex_flow": "row wrap",
       "width": "auto"
      }
     },
     "16f0970fd285437e9ba2bb0a786365f9": {
      "model_module": "@jupyter-widgets/controls",
      "model_module_version": "1.5.0",
      "model_name": "CheckboxModel",
      "state": {
       "disabled": false,
       "layout": "IPY_MODEL_837631db0daa4a038cd53572807f8cd2",
       "style": "IPY_MODEL_14b6179a131040f9896a25ae43f32046",
       "value": false
      }
     },
     "17f01bf24e184cc3bfa22645a96dac31": {
      "model_module": "@jupyter-widgets/base",
      "model_module_version": "1.2.0",
      "model_name": "LayoutModel",
      "state": {
       "align_items": "stretch",
       "display": "flex",
       "flex_flow": "column",
       "width": "100%"
      }
     },
     "1cf3f9427dcd4b529d396a7d7d54d667": {
      "model_module": "@jupyter-widgets/controls",
      "model_module_version": "1.5.0",
      "model_name": "HBoxModel",
      "state": {
       "children": [
        "IPY_MODEL_2f771ab34d4946e489dc62627b0ba5cd",
        "IPY_MODEL_f510cb50831c425ab76214ac2d883384"
       ],
       "layout": "IPY_MODEL_6b82775c959f4ba1a70aeb549db2d8ef"
      }
     },
     "1d652ac04099448ba6e38491358f833b": {
      "model_module": "@jupyter-widgets/controls",
      "model_module_version": "1.5.0",
      "model_name": "LabelModel",
      "state": {
       "layout": "IPY_MODEL_066a962764d44ba0945ba7c40d6ebef4",
       "style": "IPY_MODEL_33dea5c95ccd4491ba561c6df6c86b28"
      }
     },
     "1d7858e6d9574d77b14287d885aa2fb2": {
      "model_module": "@jupyter-widgets/controls",
      "model_module_version": "1.5.0",
      "model_name": "CheckboxModel",
      "state": {
       "disabled": false,
       "layout": "IPY_MODEL_f91a9ae1e4704e43ae7c2ade456c25e6",
       "style": "IPY_MODEL_c91a084576ac4c87978a5e20a9bbbe4a",
       "value": false
      }
     },
     "1e7b86330eb44e1a849adf2475d69b53": {
      "model_module": "@jupyter-widgets/controls",
      "model_module_version": "1.5.0",
      "model_name": "HTMLModel",
      "state": {
       "layout": "IPY_MODEL_e5c965eec2e14e9db394b42a9a8cd498",
       "style": "IPY_MODEL_49cb32ddf2be4d20addd09e5f397e33c",
       "value": "<style>p{word-wrap: break-word}</style> <p>iterative </p>"
      }
     },
     "1f7a7ed7a9c342c8946a787d181495e4": {
      "model_module": "@jupyter-widgets/controls",
      "model_module_version": "1.5.0",
      "model_name": "DescriptionStyleModel",
      "state": {
       "description_width": "initial"
      }
     },
     "20bf0403b304457ab466b89c0c16570a": {
      "model_module": "@jupyter-widgets/controls",
      "model_module_version": "1.5.0",
      "model_name": "HTMLModel",
      "state": {
       "layout": "IPY_MODEL_b01b39a6d7364c89a1cad1a83d67cc33",
       "style": "IPY_MODEL_60589957c3ce4c3bb21b2f4fd5ed3498",
       "value": "<style>p{word-wrap: break-word}</style> <p>If you don't see starter code for an exercise, probably the code cell is collapsed by mistake. </p>"
      }
     },
     "20c27d9028c7469caffa8ae369757b06": {
      "model_module": "@jupyter-widgets/controls",
      "model_module_version": "1.5.0",
      "model_name": "DescriptionStyleModel",
      "state": {
       "description_width": ""
      }
     },
     "21451bb993b14befa7a392d3dfbcb8c2": {
      "model_module": "@jupyter-widgets/controls",
      "model_module_version": "1.5.0",
      "model_name": "DescriptionStyleModel",
      "state": {
       "description_width": ""
      }
     },
     "250f4fc3ba7d40d0b53411ede6d0e2a0": {
      "model_module": "@jupyter-widgets/base",
      "model_module_version": "1.2.0",
      "model_name": "LayoutModel",
      "state": {
       "align_items": "stretch",
       "display": "flex",
       "flex_flow": "row wrap",
       "width": "auto"
      }
     },
     "2524032bedda45cfa295fa1f59634b45": {
      "model_module": "@jupyter-widgets/base",
      "model_module_version": "1.2.0",
      "model_name": "LayoutModel",
      "state": {
       "align_items": "stretch",
       "display": "flex",
       "flex_flow": "row wrap",
       "width": "auto"
      }
     },
     "26b76da8cdb245828ef1719265003941": {
      "model_module": "@jupyter-widgets/controls",
      "model_module_version": "1.5.0",
      "model_name": "HBoxModel",
      "state": {
       "children": [
        "IPY_MODEL_8924f7ada172434da8f816dc3e208e61",
        "IPY_MODEL_f955937c0fa54a65a123ac89eee83d42",
        "IPY_MODEL_def5af16ec8248e19e4e5274230ecc8d"
       ],
       "layout": "IPY_MODEL_4f79860084f740a9bef6e21bedaaf8d2"
      }
     },
     "26ef980a60b444f6b83fc43fe79a5447": {
      "model_module": "@jupyter-widgets/controls",
      "model_module_version": "1.5.0",
      "model_name": "DescriptionStyleModel",
      "state": {
       "description_width": ""
      }
     },
     "27a29ab0493a41548b3f05694e507a73": {
      "model_module": "@jupyter-widgets/base",
      "model_module_version": "1.2.0",
      "model_name": "LayoutModel",
      "state": {
       "align_items": "stretch",
       "display": "flex",
       "flex_flow": "row wrap",
       "width": "auto"
      }
     },
     "27e6588dc52b44fcad2087aae1aeff71": {
      "model_module": "@jupyter-widgets/base",
      "model_module_version": "1.2.0",
      "model_name": "LayoutModel",
      "state": {}
     },
     "289d25acb95d41989cc5106176fc4c17": {
      "model_module": "@jupyter-widgets/controls",
      "model_module_version": "1.5.0",
      "model_name": "HBoxModel",
      "state": {
       "children": [
        "IPY_MODEL_843ea96ed06d43a5af3363c8917e3923",
        "IPY_MODEL_ffb4fd76a1df40fcafef19106bd647c0"
       ],
       "layout": "IPY_MODEL_f952ae08f05c41e8ad6bc71912c0c78c"
      }
     },
     "2a3a983aba4d444d86390c5634b4a32e": {
      "model_module": "@jupyter-widgets/controls",
      "model_module_version": "1.5.0",
      "model_name": "CheckboxModel",
      "state": {
       "disabled": false,
       "layout": "IPY_MODEL_db9bc57b000d4583aada95221cbddc5d",
       "style": "IPY_MODEL_e12b8836ac554b408fed93f6f56d475f",
       "value": false
      }
     },
     "2a9ee8a98eb84f7ba076d465bca3538c": {
      "model_module": "@jupyter-widgets/controls",
      "model_module_version": "1.5.0",
      "model_name": "DescriptionStyleModel",
      "state": {
       "description_width": ""
      }
     },
     "2ad3cb35d96448f889f5039411cc0d01": {
      "model_module": "@jupyter-widgets/controls",
      "model_module_version": "1.5.0",
      "model_name": "HBoxModel",
      "state": {
       "children": [
        "IPY_MODEL_b7c144ff357e4c09bc7199a407d04f90",
        "IPY_MODEL_ffaa4eb64d894ff4a61f1ca0fffd1375"
       ],
       "layout": "IPY_MODEL_c12f1accd2fc40e896f86da642c4749e"
      }
     },
     "2bf4473079814b4189f3170573c0ae58": {
      "model_module": "@jupyter-widgets/base",
      "model_module_version": "1.2.0",
      "model_name": "LayoutModel",
      "state": {
       "width": "30px"
      }
     },
     "2c8b7ce42d8543d089ff0e433d19b57d": {
      "model_module": "@jupyter-widgets/controls",
      "model_module_version": "1.5.0",
      "model_name": "DescriptionStyleModel",
      "state": {
       "description_width": ""
      }
     },
     "2d3938f588ac46df860e02b01fb26ae9": {
      "model_module": "@jupyter-widgets/controls",
      "model_module_version": "1.5.0",
      "model_name": "DescriptionStyleModel",
      "state": {
       "description_width": "initial"
      }
     },
     "2e6a4cc9b5db466ba0a4db64e5c570e6": {
      "model_module": "@jupyter-widgets/base",
      "model_module_version": "1.2.0",
      "model_name": "LayoutModel",
      "state": {
       "align_items": "stretch",
       "display": "flex",
       "flex_flow": "row wrap",
       "width": "auto"
      }
     },
     "2ead7de3bda340589f7c987990f20dd4": {
      "model_module": "@jupyter-widgets/controls",
      "model_module_version": "1.5.0",
      "model_name": "HBoxModel",
      "state": {
       "children": [
        "IPY_MODEL_ed7708867d9f46d69588d40610477978",
        "IPY_MODEL_805dd3cb73344308ad16894d2aa13325",
        "IPY_MODEL_dd18c1b76e8a4f01a4cb7af2f4b59175"
       ],
       "layout": "IPY_MODEL_d708e459d559478082ad37c4fd0cd0fe"
      }
     },
     "2ebd401e5c814103b381963a65ce3e53": {
      "model_module": "@jupyter-widgets/controls",
      "model_module_version": "1.5.0",
      "model_name": "LabelModel",
      "state": {
       "layout": "IPY_MODEL_9df8db89f91c42afaf1603455afb480b",
       "style": "IPY_MODEL_26ef980a60b444f6b83fc43fe79a5447"
      }
     },
     "2f3707133ff54ccbbc28437e8eea976b": {
      "model_module": "@jupyter-widgets/base",
      "model_module_version": "1.2.0",
      "model_name": "LayoutModel",
      "state": {
       "width": "30px"
      }
     },
     "2f771ab34d4946e489dc62627b0ba5cd": {
      "model_module": "@jupyter-widgets/controls",
      "model_module_version": "1.5.0",
      "model_name": "CheckboxModel",
      "state": {
       "disabled": false,
       "layout": "IPY_MODEL_2f3707133ff54ccbbc28437e8eea976b",
       "style": "IPY_MODEL_3e47ab75650242ae93ea2a99dd79eec6",
       "value": false
      }
     },
     "2fe97f4f5ebb4413be9f43e5691ded0f": {
      "model_module": "@jupyter-widgets/base",
      "model_module_version": "1.2.0",
      "model_name": "LayoutModel",
      "state": {}
     },
     "301e28517d2349fca0162e38afbe0245": {
      "model_module": "@jupyter-widgets/base",
      "model_module_version": "1.2.0",
      "model_name": "LayoutModel",
      "state": {
       "align_items": "stretch",
       "display": "flex",
       "flex_flow": "column",
       "width": "100%"
      }
     },
     "3130201bc2694fcdb17385f761618db0": {
      "model_module": "@jupyter-widgets/controls",
      "model_module_version": "1.5.0",
      "model_name": "ButtonStyleModel",
      "state": {
       "button_color": "#4DD0E1"
      }
     },
     "326e853e2681469b839a0b9aa533ca76": {
      "model_module": "@jupyter-widgets/base",
      "model_module_version": "1.2.0",
      "model_name": "LayoutModel",
      "state": {
       "height": "50%",
       "margin": "0 0 0 30px",
       "width": "50%"
      }
     },
     "33dea5c95ccd4491ba561c6df6c86b28": {
      "model_module": "@jupyter-widgets/controls",
      "model_module_version": "1.5.0",
      "model_name": "DescriptionStyleModel",
      "state": {
       "description_width": ""
      }
     },
     "3620b0c2f130412b8ce100d795ca5a69": {
      "model_module": "@jupyter-widgets/controls",
      "model_module_version": "1.5.0",
      "model_name": "HTMLModel",
      "state": {
       "layout": "IPY_MODEL_f268e0de380c497ba70f3ec4ec4f72cd",
       "style": "IPY_MODEL_a80fa3e5e7ae4c32b3b5dde395f63aed",
       "value": "<style>p{word-wrap: break-word}</style> <p>recursive </p>"
      }
     },
     "36f58f740e7b408cab303d24baf730ad": {
      "model_module": "@jupyter-widgets/base",
      "model_module_version": "1.2.0",
      "model_name": "LayoutModel",
      "state": {}
     },
     "37678ef66a1a45d994f0ccf0d1817665": {
      "model_module": "@jupyter-widgets/controls",
      "model_module_version": "1.5.0",
      "model_name": "DescriptionStyleModel",
      "state": {
       "description_width": ""
      }
     },
     "37fbc014b7384906ab7514096822a994": {
      "model_module": "@jupyter-widgets/controls",
      "model_module_version": "1.5.0",
      "model_name": "HBoxModel",
      "state": {
       "children": [
        "IPY_MODEL_e7cf9969739643e0ae0ef6937f0e5fe1",
        "IPY_MODEL_bbacd72133f640d0861d3dd299450a73"
       ],
       "layout": "IPY_MODEL_70c82ff8337746c18b0d9bd6add1be7e"
      }
     },
     "381fbd1cc6664a0c9379d6a11e86976b": {
      "model_module": "@jupyter-widgets/controls",
      "model_module_version": "1.5.0",
      "model_name": "DescriptionStyleModel",
      "state": {
       "description_width": "initial"
      }
     },
     "390fa8dcda99414b8f8eb2b8c6df918f": {
      "model_module": "@jupyter-widgets/controls",
      "model_module_version": "1.5.0",
      "model_name": "DescriptionStyleModel",
      "state": {
       "description_width": ""
      }
     },
     "396f42cac55144ae9177065ef19fe19c": {
      "model_module": "@jupyter-widgets/controls",
      "model_module_version": "1.5.0",
      "model_name": "CheckboxModel",
      "state": {
       "disabled": false,
       "layout": "IPY_MODEL_8e81252ca82045e487ecc957640eadb6",
       "style": "IPY_MODEL_68f6d7287607492f89ba902b5a61b7c1",
       "value": false
      }
     },
     "399aeb3eafab43889ce6827e70dbfac2": {
      "model_module": "@jupyter-widgets/controls",
      "model_module_version": "1.5.0",
      "model_name": "HTMLModel",
      "state": {
       "layout": "IPY_MODEL_b38e3ae232f84224954751c72ad43cc1",
       "style": "IPY_MODEL_cea4520a85cd46dca7e0106c5004a9c0",
       "value": "<style>p{word-wrap: break-word}</style> <p>Solutions are hidden in an accordion style.  </p>"
      }
     },
     "3a38e19e4a9444c18531317afcb8edff": {
      "model_module": "@jupyter-widgets/controls",
      "model_module_version": "1.5.0",
      "model_name": "LabelModel",
      "state": {
       "layout": "IPY_MODEL_4cb0ea9014a94550969963a794697630",
       "style": "IPY_MODEL_521532253efc4da0aa15d5cfc1cd7c74"
      }
     },
     "3b16e5a92917434e831cae8caa8cea3d": {
      "model_module": "@jupyter-widgets/controls",
      "model_module_version": "1.5.0",
      "model_name": "HTMLModel",
      "state": {
       "layout": "IPY_MODEL_684e3201bdf2485685393c234d1f8abb",
       "style": "IPY_MODEL_159e04640bbb46638e9a50a05e3e19f9",
       "value": "<style>p{word-wrap: break-word}</style> <p>Dynamic programming is concerned with planning a process that has multiple stages. </p>"
      }
     },
     "3c333f69b6cf49e68de30b33e2d84157": {
      "model_module": "@jupyter-widgets/base",
      "model_module_version": "1.2.0",
      "model_name": "LayoutModel",
      "state": {
       "align_items": "stretch",
       "display": "flex",
       "flex_flow": "row wrap",
       "width": "auto"
      }
     },
     "3c642f63553d43edbe5bc7a44dec78e5": {
      "model_module": "@jupyter-widgets/controls",
      "model_module_version": "1.5.0",
      "model_name": "HBoxModel",
      "state": {
       "children": [
        "IPY_MODEL_b60c882b98d745f6ac2a63bcdc34aa28",
        "IPY_MODEL_6d4f84d11b634ea1919407c1b7aff889"
       ],
       "layout": "IPY_MODEL_27a29ab0493a41548b3f05694e507a73"
      }
     },
     "3c91934f133249ef996ca3b8002900bb": {
      "model_module": "@jupyter-widgets/base",
      "model_module_version": "1.2.0",
      "model_name": "LayoutModel",
      "state": {
       "display": "none"
      }
     },
     "3c9c1d0907c840408bdbd0bd069d06fe": {
      "model_module": "@jupyter-widgets/base",
      "model_module_version": "1.2.0",
      "model_name": "LayoutModel",
      "state": {
       "align_items": "stretch",
       "display": "flex",
       "flex_flow": "row wrap",
       "margin": "30px 0 0 0"
      }
     },
     "3cb20eb1f95d48d7b524e70798f6dcda": {
      "model_module": "@jupyter-widgets/base",
      "model_module_version": "1.2.0",
      "model_name": "LayoutModel",
      "state": {
       "width": "30px"
      }
     },
     "3cc0430b292c4a18a6445253138b6a2b": {
      "model_module": "@jupyter-widgets/controls",
      "model_module_version": "1.5.0",
      "model_name": "LabelModel",
      "state": {
       "layout": "IPY_MODEL_8c2e3799413b40c5b180ceaa466edca8",
       "style": "IPY_MODEL_20c27d9028c7469caffa8ae369757b06"
      }
     },
     "3d4cce7f249645f89619bb9b88cb3b67": {
      "model_module": "@jupyter-widgets/controls",
      "model_module_version": "1.5.0",
      "model_name": "DescriptionStyleModel",
      "state": {
       "description_width": ""
      }
     },
     "3e47ab75650242ae93ea2a99dd79eec6": {
      "model_module": "@jupyter-widgets/controls",
      "model_module_version": "1.5.0",
      "model_name": "DescriptionStyleModel",
      "state": {
       "description_width": "initial"
      }
     },
     "3eeb5c15271e4a71aea9345566481871": {
      "model_module": "@jupyter-widgets/controls",
      "model_module_version": "1.5.0",
      "model_name": "VBoxModel",
      "state": {
       "box_style": "info",
       "children": [
        "IPY_MODEL_94300c49d9874d3cab573a8b01baf1ca",
        "IPY_MODEL_0d9b0ca0541449e9a324d1a053158659",
        "IPY_MODEL_26b76da8cdb245828ef1719265003941"
       ],
       "layout": "IPY_MODEL_ae736ca0cfb246d29d17171566627948"
      }
     },
     "3fd6997376254b04b44f2e073ba26f55": {
      "model_module": "@jupyter-widgets/base",
      "model_module_version": "1.2.0",
      "model_name": "LayoutModel",
      "state": {
       "align_items": "stretch",
       "display": "flex",
       "flex_flow": "row wrap",
       "width": "auto"
      }
     },
     "44961874461f48148d65cae32d62e0c8": {
      "model_module": "@jupyter-widgets/controls",
      "model_module_version": "1.5.0",
      "model_name": "CheckboxModel",
      "state": {
       "disabled": false,
       "layout": "IPY_MODEL_a5640ba6c845463592acb0da96bf4ea1",
       "style": "IPY_MODEL_c7a2564919694965a7b8cee591e1e372",
       "value": false
      }
     },
     "44b7697fa1ef4d518873181c9db9ff70": {
      "model_module": "@jupyter-widgets/base",
      "model_module_version": "1.2.0",
      "model_name": "LayoutModel",
      "state": {
       "display": "flex",
       "flex_flow": "row",
       "justify_content": "space-between",
       "margin": "0 0 20px 0"
      }
     },
     "45f537f2c5554ccc8905351485a84b30": {
      "model_module": "@jupyter-widgets/controls",
      "model_module_version": "1.5.0",
      "model_name": "HBoxModel",
      "state": {
       "children": [
        "IPY_MODEL_f9d17158276849c9a6b5c0bffebdcb7a",
        "IPY_MODEL_f05bd9ea9dad4b24845833c7ffe0640e"
       ],
       "layout": "IPY_MODEL_8c3afa2ed4604af28c67653859442783"
      }
     },
     "4629601929954f68ba192b27646cb733": {
      "model_module": "@jupyter-widgets/controls",
      "model_module_version": "1.5.0",
      "model_name": "LabelModel",
      "state": {
       "layout": "IPY_MODEL_df614138e8cc4322ad5f324622a6e77e",
       "style": "IPY_MODEL_6a5ad7bd431e4e9daff5c4f9f73fb8e0"
      }
     },
     "48bc5b4fa3b7430eb0a4c3a921b3d236": {
      "model_module": "@jupyter-widgets/controls",
      "model_module_version": "1.5.0",
      "model_name": "DescriptionStyleModel",
      "state": {
       "description_width": ""
      }
     },
     "495176dc8d024d1a93fdd3d82dd5610c": {
      "model_module": "@jupyter-widgets/base",
      "model_module_version": "1.2.0",
      "model_name": "LayoutModel",
      "state": {
       "display": "none"
      }
     },
     "49614ac63a344f4197e2eb668dfb66b3": {
      "model_module": "@jupyter-widgets/controls",
      "model_module_version": "1.5.0",
      "model_name": "DescriptionStyleModel",
      "state": {
       "description_width": ""
      }
     },
     "49cb32ddf2be4d20addd09e5f397e33c": {
      "model_module": "@jupyter-widgets/controls",
      "model_module_version": "1.5.0",
      "model_name": "DescriptionStyleModel",
      "state": {
       "description_width": ""
      }
     },
     "4a4cbe89dc3744ffa74275814115c195": {
      "model_module": "@jupyter-widgets/base",
      "model_module_version": "1.2.0",
      "model_name": "LayoutModel",
      "state": {
       "align_items": "stretch",
       "display": "flex",
       "flex_flow": "row wrap",
       "width": "auto"
      }
     },
     "4bccc4e4cb9441a59166de84119df2df": {
      "model_module": "@jupyter-widgets/controls",
      "model_module_version": "1.5.0",
      "model_name": "DescriptionStyleModel",
      "state": {
       "description_width": ""
      }
     },
     "4cb0ea9014a94550969963a794697630": {
      "model_module": "@jupyter-widgets/base",
      "model_module_version": "1.2.0",
      "model_name": "LayoutModel",
      "state": {
       "height": "50%",
       "margin": "0 0 0 30px",
       "width": "50%"
      }
     },
     "4cf950be1718485a87356d9da9102312": {
      "model_module": "@jupyter-widgets/controls",
      "model_module_version": "1.5.0",
      "model_name": "DescriptionStyleModel",
      "state": {
       "description_width": "initial"
      }
     },
     "4d638704cb854fdbafb8c2fbb5518c30": {
      "model_module": "@jupyter-widgets/controls",
      "model_module_version": "1.5.0",
      "model_name": "DescriptionStyleModel",
      "state": {
       "description_width": "initial"
      }
     },
     "4dc257860ae14b7bb087011254deb44d": {
      "model_module": "@jupyter-widgets/controls",
      "model_module_version": "1.5.0",
      "model_name": "DescriptionStyleModel",
      "state": {
       "description_width": ""
      }
     },
     "4de4c25718954cfc8daafcd4ca888652": {
      "model_module": "@jupyter-widgets/controls",
      "model_module_version": "1.5.0",
      "model_name": "HTMLModel",
      "state": {
       "layout": "IPY_MODEL_a3468d6102364a308bb603dcb42b2fbe",
       "style": "IPY_MODEL_d1ccb85020904ec8adc2fbf682ff01fe",
       "value": "<style>p{word-wrap: break-word}</style> <p>p </p>"
      }
     },
     "4e285c8f8db54e41b09e37003a4fa0bb": {
      "model_module": "@jupyter-widgets/base",
      "model_module_version": "1.2.0",
      "model_name": "LayoutModel",
      "state": {
       "align_items": "stretch",
       "display": "flex",
       "flex_flow": "row wrap",
       "width": "auto"
      }
     },
     "4e727398f89448548bf87988527626f3": {
      "model_module": "@jupyter-widgets/base",
      "model_module_version": "1.2.0",
      "model_name": "LayoutModel",
      "state": {}
     },
     "4ea55a6e12424b998379843eff5564d1": {
      "model_module": "@jupyter-widgets/base",
      "model_module_version": "1.2.0",
      "model_name": "LayoutModel",
      "state": {}
     },
     "4f79860084f740a9bef6e21bedaaf8d2": {
      "model_module": "@jupyter-widgets/base",
      "model_module_version": "1.2.0",
      "model_name": "LayoutModel",
      "state": {
       "align_items": "stretch",
       "display": "flex",
       "flex_flow": "row wrap",
       "margin": "30px 0 0 0"
      }
     },
     "5045f9f0809a4567af36ef6d77bf68ac": {
      "model_module": "@jupyter-widgets/base",
      "model_module_version": "1.2.0",
      "model_name": "LayoutModel",
      "state": {
       "align_items": "stretch",
       "display": "flex",
       "flex_flow": "row wrap",
       "width": "auto"
      }
     },
     "515e7675a6594746aba89a59f9fc8b74": {
      "model_module": "@jupyter-widgets/base",
      "model_module_version": "1.2.0",
      "model_name": "LayoutModel",
      "state": {
       "width": "30px"
      }
     },
     "521532253efc4da0aa15d5cfc1cd7c74": {
      "model_module": "@jupyter-widgets/controls",
      "model_module_version": "1.5.0",
      "model_name": "DescriptionStyleModel",
      "state": {
       "description_width": ""
      }
     },
     "5298944dc9ca42c1a232f74add7902c7": {
      "model_module": "@jupyter-widgets/base",
      "model_module_version": "1.2.0",
      "model_name": "LayoutModel",
      "state": {
       "width": "30px"
      }
     },
     "529d4fdd7a2743908c44485b5fa83b08": {
      "model_module": "@jupyter-widgets/base",
      "model_module_version": "1.2.0",
      "model_name": "LayoutModel",
      "state": {
       "display": "flex",
       "flex_flow": "row",
       "justify_content": "space-between",
       "margin": "0 0 20px 0"
      }
     },
     "5330ec33196b46e696c76121262dde49": {
      "model_module": "@jupyter-widgets/base",
      "model_module_version": "1.2.0",
      "model_name": "LayoutModel",
      "state": {}
     },
     "53430d4636454c859147984afa406e3b": {
      "model_module": "@jupyter-widgets/controls",
      "model_module_version": "1.5.0",
      "model_name": "HTMLModel",
      "state": {
       "layout": "IPY_MODEL_d97187488b844517a79b2bd874f36ec1",
       "style": "IPY_MODEL_37678ef66a1a45d994f0ccf0d1817665",
       "value": "<style>p{word-wrap: break-word}</style> <p>Solutions are styled in a yellow warning colour, so don't peek! </p>"
      }
     },
     "53c324ab014b4f19b67d501c615cc973": {
      "model_module": "@jupyter-widgets/base",
      "model_module_version": "1.2.0",
      "model_name": "LayoutModel",
      "state": {
       "width": "30px"
      }
     },
     "5409e2ec703943a09cc4642fbd70e6f8": {
      "model_module": "@jupyter-widgets/controls",
      "model_module_version": "1.5.0",
      "model_name": "CheckboxModel",
      "state": {
       "disabled": false,
       "layout": "IPY_MODEL_caf5320e7c944428a48788dea841048e",
       "style": "IPY_MODEL_71e25ad0d69c442997a3b42b959c82df",
       "value": false
      }
     },
     "5497c05e2dc14666b90149d818e509f0": {
      "model_module": "@jupyter-widgets/controls",
      "model_module_version": "1.5.0",
      "model_name": "HBoxModel",
      "state": {
       "children": [
        "IPY_MODEL_c8ba7833b3f34055be435d17c34e207a",
        "IPY_MODEL_8b7544e8fd11417eb413a2cf306c99d0"
       ],
       "layout": "IPY_MODEL_bfc42b73eb20457d9fbc659335e5c64f"
      }
     },
     "55fc1920d77248a5ad8f68f543b943eb": {
      "model_module": "@jupyter-widgets/controls",
      "model_module_version": "1.5.0",
      "model_name": "ButtonStyleModel",
      "state": {
       "button_color": "#4DD0E1"
      }
     },
     "59e3bb1d5866410192d80981e55f6775": {
      "model_module": "@jupyter-widgets/base",
      "model_module_version": "1.2.0",
      "model_name": "LayoutModel",
      "state": {
       "width": "30px"
      }
     },
     "5a0ac0ea3bbd45cd9e087765f078318b": {
      "model_module": "@jupyter-widgets/controls",
      "model_module_version": "1.5.0",
      "model_name": "DescriptionStyleModel",
      "state": {
       "description_width": ""
      }
     },
     "5a6420f6722a4bbf919ea8e7d47efef9": {
      "model_module": "@jupyter-widgets/controls",
      "model_module_version": "1.5.0",
      "model_name": "LabelModel",
      "state": {
       "layout": "IPY_MODEL_9a5e1d0f5ef1421285988b20e3cc53ae",
       "style": "IPY_MODEL_f05acd2be986438e92ea95be081a1fb6"
      }
     },
     "5b253cac83d84c2cba82afcd92dd16ac": {
      "model_module": "@jupyter-widgets/controls",
      "model_module_version": "1.5.0",
      "model_name": "HBoxModel",
      "state": {
       "children": [
        "IPY_MODEL_396f42cac55144ae9177065ef19fe19c",
        "IPY_MODEL_d48c5a6d88594e1cb4b5ad4dcc776767"
       ],
       "layout": "IPY_MODEL_5045f9f0809a4567af36ef6d77bf68ac"
      }
     },
     "5ba00e0d32c24904aa516ae3d869b886": {
      "model_module": "@jupyter-widgets/base",
      "model_module_version": "1.2.0",
      "model_name": "LayoutModel",
      "state": {}
     },
     "5bda1f65313243bba8cfb82bdfbe56bd": {
      "model_module": "@jupyter-widgets/base",
      "model_module_version": "1.2.0",
      "model_name": "LayoutModel",
      "state": {}
     },
     "5c5af78ae21244459e97ba1882d9bfa2": {
      "model_module": "@jupyter-widgets/base",
      "model_module_version": "1.2.0",
      "model_name": "LayoutModel",
      "state": {}
     },
     "5db229d71ebf4542a45a3c45631703e6": {
      "model_module": "@jupyter-widgets/controls",
      "model_module_version": "1.5.0",
      "model_name": "ButtonStyleModel",
      "state": {
       "button_color": "#4DD0E1"
      }
     },
     "5e37b96ea5df4777b60989eebe29bcfa": {
      "model_module": "@jupyter-widgets/base",
      "model_module_version": "1.2.0",
      "model_name": "LayoutModel",
      "state": {
       "align_items": "stretch",
       "display": "flex",
       "flex_flow": "row wrap",
       "width": "auto"
      }
     },
     "5e87c9145e2f4274ab397ee85af383a5": {
      "model_module": "@jupyter-widgets/controls",
      "model_module_version": "1.5.0",
      "model_name": "DescriptionStyleModel",
      "state": {
       "description_width": ""
      }
     },
     "5ec7eda213044485997ad7198166bdc7": {
      "model_module": "@jupyter-widgets/base",
      "model_module_version": "1.2.0",
      "model_name": "LayoutModel",
      "state": {
       "align_items": "stretch",
       "display": "flex",
       "flex_flow": "row wrap",
       "width": "auto"
      }
     },
     "5f3f77053cbc4bb0b0b64ca95c8f6bb3": {
      "model_module": "@jupyter-widgets/controls",
      "model_module_version": "1.5.0",
      "model_name": "LabelModel",
      "state": {
       "layout": "IPY_MODEL_bee857423f9649069a488942d3df5187",
       "style": "IPY_MODEL_d661fdfd17a74bedb1099229ae8f1746"
      }
     },
     "5f884d4d62334ad8b14d962b30cc6f03": {
      "model_module": "@jupyter-widgets/base",
      "model_module_version": "1.2.0",
      "model_name": "LayoutModel",
      "state": {
       "display": "flex",
       "flex_flow": "row",
       "justify_content": "space-between",
       "margin": "0 0 20px 0"
      }
     },
     "5f95d4ed3b904f46bdd49d373a07a2af": {
      "model_module": "@jupyter-widgets/controls",
      "model_module_version": "1.5.0",
      "model_name": "DescriptionStyleModel",
      "state": {
       "description_width": "initial"
      }
     },
     "60589957c3ce4c3bb21b2f4fd5ed3498": {
      "model_module": "@jupyter-widgets/controls",
      "model_module_version": "1.5.0",
      "model_name": "DescriptionStyleModel",
      "state": {
       "description_width": ""
      }
     },
     "60928f92e33c4d3eb9f6f0842120c5f4": {
      "model_module": "@jupyter-widgets/base",
      "model_module_version": "1.2.0",
      "model_name": "LayoutModel",
      "state": {}
     },
     "609671a84e954aae8320f0c3daf85cb6": {
      "model_module": "@jupyter-widgets/controls",
      "model_module_version": "1.5.0",
      "model_name": "HBoxModel",
      "state": {
       "children": [
        "IPY_MODEL_da13205c6dbb44318d176f2db666cd29",
        "IPY_MODEL_e9503980ac794f889d11b63a7a2b3dee"
       ],
       "layout": "IPY_MODEL_68b2c222ed804f2682f8a416d4d0e983"
      }
     },
     "60ea300951cc4907ad325f4b3930efef": {
      "model_module": "@jupyter-widgets/controls",
      "model_module_version": "1.5.0",
      "model_name": "HTMLModel",
      "state": {
       "layout": "IPY_MODEL_01f3d14627fa42fcb419552534d5432e",
       "style": "IPY_MODEL_4dc257860ae14b7bb087011254deb44d",
       "value": "<style>p{word-wrap: break-word}</style> <p>Which of the following strings are palindromes? </p>"
      }
     },
     "6123556e67b84eb8beeb4aa700c13014": {
      "model_module": "@jupyter-widgets/base",
      "model_module_version": "1.2.0",
      "model_name": "LayoutModel",
      "state": {}
     },
     "6129c28f418449fa89c62028a71f5d3c": {
      "model_module": "@jupyter-widgets/controls",
      "model_module_version": "1.5.0",
      "model_name": "DescriptionStyleModel",
      "state": {
       "description_width": ""
      }
     },
     "62ac0ebdbe5b49c3b88c83cac82d6326": {
      "model_module": "@jupyter-widgets/controls",
      "model_module_version": "1.5.0",
      "model_name": "HTMLModel",
      "state": {
       "layout": "IPY_MODEL_4e727398f89448548bf87988527626f3",
       "style": "IPY_MODEL_74939db43a754b0492ba902f38406a25",
       "value": "<style>p{word-wrap: break-word}</style> <p>Check the statement below that best summarize Richard Bellman's own explanation of the term dynamic programming. </p>"
      }
     },
     "646a9bfc857642ca9893d41a97b3dbb6": {
      "model_module": "@jupyter-widgets/base",
      "model_module_version": "1.2.0",
      "model_name": "LayoutModel",
      "state": {}
     },
     "6653911fe36a4be48666475e654e6ec7": {
      "model_module": "@jupyter-widgets/controls",
      "model_module_version": "1.5.0",
      "model_name": "HBoxModel",
      "state": {
       "children": [
        "IPY_MODEL_5a6420f6722a4bbf919ea8e7d47efef9",
        "IPY_MODEL_90165b246e324df5b325f916a8434b43"
       ],
       "layout": "IPY_MODEL_3c333f69b6cf49e68de30b33e2d84157"
      }
     },
     "666f5d8f27ce4c06a6ceb2d974a45076": {
      "model_module": "@jupyter-widgets/controls",
      "model_module_version": "1.5.0",
      "model_name": "DescriptionStyleModel",
      "state": {
       "description_width": ""
      }
     },
     "66c67b8a7bfd43a8a133ffb37c6776a4": {
      "model_module": "@jupyter-widgets/controls",
      "model_module_version": "1.5.0",
      "model_name": "DescriptionStyleModel",
      "state": {
       "description_width": ""
      }
     },
     "67e0b7d558c144adb2f73b7322db1516": {
      "model_module": "@jupyter-widgets/base",
      "model_module_version": "1.2.0",
      "model_name": "LayoutModel",
      "state": {
       "align_items": "stretch",
       "display": "flex",
       "flex_flow": "row wrap",
       "width": "auto"
      }
     },
     "684e3201bdf2485685393c234d1f8abb": {
      "model_module": "@jupyter-widgets/base",
      "model_module_version": "1.2.0",
      "model_name": "LayoutModel",
      "state": {}
     },
     "684e3e7cc2e74dd496587af54929aa8d": {
      "model_module": "@jupyter-widgets/controls",
      "model_module_version": "1.5.0",
      "model_name": "HBoxModel",
      "state": {
       "children": [
        "IPY_MODEL_bc3710a356e44c82b830719aaf988d9f",
        "IPY_MODEL_399aeb3eafab43889ce6827e70dbfac2"
       ],
       "layout": "IPY_MODEL_8a267ccd45cc4e82bc18c7b2d81334ca"
      }
     },
     "68b2c222ed804f2682f8a416d4d0e983": {
      "model_module": "@jupyter-widgets/base",
      "model_module_version": "1.2.0",
      "model_name": "LayoutModel",
      "state": {
       "align_items": "stretch",
       "display": "flex",
       "flex_flow": "row wrap",
       "width": "auto"
      }
     },
     "68f6d7287607492f89ba902b5a61b7c1": {
      "model_module": "@jupyter-widgets/controls",
      "model_module_version": "1.5.0",
      "model_name": "DescriptionStyleModel",
      "state": {
       "description_width": "initial"
      }
     },
     "69e1232bff9f4c8e811e7eb78fb46313": {
      "model_module": "@jupyter-widgets/controls",
      "model_module_version": "1.5.0",
      "model_name": "VBoxModel",
      "state": {
       "box_style": "info",
       "children": [
        "IPY_MODEL_0073c08a403242e5a02bc3a5a2a061c5",
        "IPY_MODEL_6afe5b0b707a477382efa05cf3ff651b",
        "IPY_MODEL_b8af6e1bed0e4babba1877200a27b114"
       ],
       "layout": "IPY_MODEL_ab02c17eae19408bbb0892cd79d8f93b"
      }
     },
     "6a5ad7bd431e4e9daff5c4f9f73fb8e0": {
      "model_module": "@jupyter-widgets/controls",
      "model_module_version": "1.5.0",
      "model_name": "DescriptionStyleModel",
      "state": {
       "description_width": ""
      }
     },
     "6aac4feb93ca4b3aab81c3f7d9e84d48": {
      "model_module": "@jupyter-widgets/controls",
      "model_module_version": "1.5.0",
      "model_name": "HBoxModel",
      "state": {
       "children": [
        "IPY_MODEL_a3da9985719a458285d1fbe9f3b14a10",
        "IPY_MODEL_a30ffab42952427393c920d26d69763b"
       ],
       "layout": "IPY_MODEL_2e6a4cc9b5db466ba0a4db64e5c570e6"
      }
     },
     "6afe5b0b707a477382efa05cf3ff651b": {
      "model_module": "@jupyter-widgets/controls",
      "model_module_version": "1.5.0",
      "model_name": "VBoxModel",
      "state": {
       "children": [
        "IPY_MODEL_80f7e76ba9174229b09a1e6fa02e9654",
        "IPY_MODEL_cdee7d0b0a2546289db11ad20d611782",
        "IPY_MODEL_09fe1c6ce6284c158b206c93de34a417",
        "IPY_MODEL_5497c05e2dc14666b90149d818e509f0",
        "IPY_MODEL_cfe6ed0217314e55ad370e67b94fbe7a",
        "IPY_MODEL_7a65cb8b7a6841c6af7d44831d24d970",
        "IPY_MODEL_37fbc014b7384906ab7514096822a994"
       ],
       "layout": "IPY_MODEL_c9c69debd11547e5b8e5d33688fe28be"
      }
     },
     "6b3510e18d9840bb95e115b1873ab00d": {
      "model_module": "@jupyter-widgets/controls",
      "model_module_version": "1.5.0",
      "model_name": "HBoxModel",
      "state": {
       "children": [
        "IPY_MODEL_e6451abd10e144fda5aa83b3bed4e487",
        "IPY_MODEL_45f537f2c5554ccc8905351485a84b30"
       ],
       "layout": "IPY_MODEL_2524032bedda45cfa295fa1f59634b45"
      }
     },
     "6b82775c959f4ba1a70aeb549db2d8ef": {
      "model_module": "@jupyter-widgets/base",
      "model_module_version": "1.2.0",
      "model_name": "LayoutModel",
      "state": {
       "align_items": "stretch",
       "display": "flex",
       "flex_flow": "row wrap",
       "width": "auto"
      }
     },
     "6c981a32a57241c29a25967a60e7470e": {
      "model_module": "@jupyter-widgets/controls",
      "model_module_version": "1.5.0",
      "model_name": "LabelModel",
      "state": {
       "layout": "IPY_MODEL_646a9bfc857642ca9893d41a97b3dbb6",
       "style": "IPY_MODEL_d65aa7cf0ca146698cbaa6d9f38cdbd7"
      }
     },
     "6ca015940bfe4d8e8618cc87f2e2361f": {
      "model_module": "@jupyter-widgets/controls",
      "model_module_version": "1.5.0",
      "model_name": "CheckboxModel",
      "state": {
       "disabled": false,
       "layout": "IPY_MODEL_b118fd5afdff4d559f40693fd47ea7ee",
       "style": "IPY_MODEL_9cd117e3ccc8478db9f5762222b7cb5d",
       "value": false
      }
     },
     "6d4f84d11b634ea1919407c1b7aff889": {
      "model_module": "@jupyter-widgets/controls",
      "model_module_version": "1.5.0",
      "model_name": "HTMLModel",
      "state": {
       "layout": "IPY_MODEL_5bda1f65313243bba8cfb82bdfbe56bd",
       "style": "IPY_MODEL_ab5d9c024f2e4e9d905e243241ededc5",
       "value": "<style>p{word-wrap: break-word}</style> <p> </p>"
      }
     },
     "6de942ff9fe64ab9b8337111313de5ac": {
      "model_module": "@jupyter-widgets/controls",
      "model_module_version": "1.5.0",
      "model_name": "HBoxModel",
      "state": {
       "children": [
        "IPY_MODEL_60ea300951cc4907ad325f4b3930efef"
       ],
       "layout": "IPY_MODEL_d1e8d72054b244ddaaeadd9f41654273"
      }
     },
     "6df68ee3850c4fbc8c1804eb65e0c0e2": {
      "model_module": "@jupyter-widgets/controls",
      "model_module_version": "1.5.0",
      "model_name": "HBoxModel",
      "state": {
       "children": [
        "IPY_MODEL_9a87e09e5b3747e28c404707695a86f8",
        "IPY_MODEL_5b253cac83d84c2cba82afcd92dd16ac"
       ],
       "layout": "IPY_MODEL_0a89109497f1469b88b9c9ad93f8b51d"
      }
     },
     "6e61aca24eb148a792895cf9fe76f4b8": {
      "model_module": "@jupyter-widgets/base",
      "model_module_version": "1.2.0",
      "model_name": "LayoutModel",
      "state": {}
     },
     "6f2ca9f0ce164c81bc7261e1929c8612": {
      "model_module": "@jupyter-widgets/controls",
      "model_module_version": "1.5.0",
      "model_name": "HBoxModel",
      "state": {
       "children": [
        "IPY_MODEL_3cc0430b292c4a18a6445253138b6a2b",
        "IPY_MODEL_609671a84e954aae8320f0c3daf85cb6"
       ],
       "layout": "IPY_MODEL_16d51d8eefd04b6c9d2ffd1eeabfd819"
      }
     },
     "6f60c98ad3ae4e36a9ad65085411239a": {
      "model_module": "@jupyter-widgets/base",
      "model_module_version": "1.2.0",
      "model_name": "LayoutModel",
      "state": {}
     },
     "6f7832884b344532ba89b5af3e1a6828": {
      "model_module": "@jupyter-widgets/controls",
      "model_module_version": "1.5.0",
      "model_name": "CheckboxModel",
      "state": {
       "disabled": false,
       "layout": "IPY_MODEL_8c27d673a1864961b5bc152db4369088",
       "style": "IPY_MODEL_1f7a7ed7a9c342c8946a787d181495e4",
       "value": false
      }
     },
     "6f8807411fe14a928630e129ed665ece": {
      "model_module": "@jupyter-widgets/base",
      "model_module_version": "1.2.0",
      "model_name": "LayoutModel",
      "state": {
       "align_items": "stretch",
       "display": "flex",
       "flex_flow": "row wrap",
       "width": "auto"
      }
     },
     "70c82ff8337746c18b0d9bd6add1be7e": {
      "model_module": "@jupyter-widgets/base",
      "model_module_version": "1.2.0",
      "model_name": "LayoutModel",
      "state": {
       "align_items": "stretch",
       "display": "flex",
       "flex_flow": "row wrap",
       "width": "auto"
      }
     },
     "70f8407c1ccc4da09b9b92cf64481bf0": {
      "model_module": "@jupyter-widgets/controls",
      "model_module_version": "1.5.0",
      "model_name": "DescriptionStyleModel",
      "state": {
       "description_width": "initial"
      }
     },
     "71e25ad0d69c442997a3b42b959c82df": {
      "model_module": "@jupyter-widgets/controls",
      "model_module_version": "1.5.0",
      "model_name": "DescriptionStyleModel",
      "state": {
       "description_width": "initial"
      }
     },
     "74939db43a754b0492ba902f38406a25": {
      "model_module": "@jupyter-widgets/controls",
      "model_module_version": "1.5.0",
      "model_name": "DescriptionStyleModel",
      "state": {
       "description_width": ""
      }
     },
     "766354a1232449b18f8deaa4fc29daaa": {
      "model_module": "@jupyter-widgets/base",
      "model_module_version": "1.2.0",
      "model_name": "LayoutModel",
      "state": {
       "width": "30px"
      }
     },
     "791be69b1ed44ba09374bffb1bf05a32": {
      "model_module": "@jupyter-widgets/controls",
      "model_module_version": "1.5.0",
      "model_name": "HTMLModel",
      "state": {
       "layout": "IPY_MODEL_f6f99e2477814679a9d187b10cb5c77a",
       "style": "IPY_MODEL_4bccc4e4cb9441a59166de84119df2df",
       "value": "<style>p{word-wrap: break-word}</style> <p>inductive </p>"
      }
     },
     "79b57b12addf4dcc8b7ecaf37307cd25": {
      "model_module": "@jupyter-widgets/controls",
      "model_module_version": "1.5.0",
      "model_name": "HTMLModel",
      "state": {
       "layout": "IPY_MODEL_6f60c98ad3ae4e36a9ad65085411239a",
       "style": "IPY_MODEL_49614ac63a344f4197e2eb668dfb66b3",
       "value": "<style>p{word-wrap: break-word}</style> <p>Solutions are located at the end of each notebook. </p>"
      }
     },
     "7a511c43437a436e8e34d8efc0a47147": {
      "model_module": "@jupyter-widgets/controls",
      "model_module_version": "1.5.0",
      "model_name": "DescriptionStyleModel",
      "state": {
       "description_width": ""
      }
     },
     "7a65cb8b7a6841c6af7d44831d24d970": {
      "model_module": "@jupyter-widgets/controls",
      "model_module_version": "1.5.0",
      "model_name": "HBoxModel",
      "state": {
       "children": [
        "IPY_MODEL_a2d3f18e16fe4103b00d88345a9953eb",
        "IPY_MODEL_8574875101b449a08d36e807b3d98125"
       ],
       "layout": "IPY_MODEL_de1716ea34ee4ebbace9d78dace5b25c"
      }
     },
     "7aa4576f43cb42daa39ae50b936ab870": {
      "model_module": "@jupyter-widgets/controls",
      "model_module_version": "1.5.0",
      "model_name": "ButtonModel",
      "state": {
       "description": "Submit",
       "layout": "IPY_MODEL_36f58f740e7b408cab303d24baf730ad",
       "style": "IPY_MODEL_04df7ea2ead4431ea96a6bbaea6fd076"
      }
     },
     "7bae52464bd34cd0b51ae330bc66bf03": {
      "model_module": "@jupyter-widgets/base",
      "model_module_version": "1.2.0",
      "model_name": "LayoutModel",
      "state": {
       "align_items": "stretch",
       "display": "flex",
       "flex_flow": "row wrap",
       "width": "auto"
      }
     },
     "7c4c476363754ed7b3eeabfd0ecdbc8d": {
      "model_module": "@jupyter-widgets/controls",
      "model_module_version": "1.5.0",
      "model_name": "DescriptionStyleModel",
      "state": {
       "description_width": ""
      }
     },
     "7d3107df0c234d7c805aee8602a26575": {
      "model_module": "@jupyter-widgets/base",
      "model_module_version": "1.2.0",
      "model_name": "LayoutModel",
      "state": {}
     },
     "7d5807217461468a9d45768bb8be4cad": {
      "model_module": "@jupyter-widgets/base",
      "model_module_version": "1.2.0",
      "model_name": "LayoutModel",
      "state": {
       "width": "30px"
      }
     },
     "7d9be5b58f0b49d6a6783622aad62fbd": {
      "model_module": "@jupyter-widgets/controls",
      "model_module_version": "1.5.0",
      "model_name": "LabelModel",
      "state": {
       "layout": "IPY_MODEL_d5fa4373e6db42bc8498828ce5a9a319",
       "style": "IPY_MODEL_87bf5681bb684dfaaec24c23d5fd96b4"
      }
     },
     "7e093ecf92b141939cae6a5ebcc846cf": {
      "model_module": "@jupyter-widgets/base",
      "model_module_version": "1.2.0",
      "model_name": "LayoutModel",
      "state": {
       "align_items": "stretch",
       "display": "flex",
       "flex_flow": "row wrap",
       "width": "auto"
      }
     },
     "7eeb2aa5f1b34b37b17d9231252305e2": {
      "model_module": "@jupyter-widgets/controls",
      "model_module_version": "1.5.0",
      "model_name": "HBoxModel",
      "state": {
       "children": [
        "IPY_MODEL_9d9dbaea5de84abc8d13da35c33497d8",
        "IPY_MODEL_5f3f77053cbc4bb0b0b64ca95c8f6bb3",
        "IPY_MODEL_d484ab0986214163a37b2eb314ee3749"
       ],
       "layout": "IPY_MODEL_d861de546cbf411382420eb64d098640"
      }
     },
     "805dd3cb73344308ad16894d2aa13325": {
      "model_module": "@jupyter-widgets/controls",
      "model_module_version": "1.5.0",
      "model_name": "LabelModel",
      "state": {
       "layout": "IPY_MODEL_326e853e2681469b839a0b9aa533ca76",
       "style": "IPY_MODEL_390fa8dcda99414b8f8eb2b8c6df918f"
      }
     },
     "80f7e76ba9174229b09a1e6fa02e9654": {
      "model_module": "@jupyter-widgets/controls",
      "model_module_version": "1.5.0",
      "model_name": "HBoxModel",
      "state": {
       "children": [
        "IPY_MODEL_b83a313ee3664092abc10b0780fba7f9",
        "IPY_MODEL_0833df42cd344b38bdd4abfa4b81fa94"
       ],
       "layout": "IPY_MODEL_091ad443d1c44e08b2e2d8e03360d39f"
      }
     },
     "82844ed226e64ad9b6fe7a6640301205": {
      "model_module": "@jupyter-widgets/controls",
      "model_module_version": "1.5.0",
      "model_name": "HBoxModel",
      "state": {
       "children": [
        "IPY_MODEL_a54887c4210d419ea08444c5d713e543",
        "IPY_MODEL_ed3e26e4e061446b924a19c6d736fe99"
       ],
       "layout": "IPY_MODEL_3fd6997376254b04b44f2e073ba26f55"
      }
     },
     "82eb6ce317c64f30ade4713d45f54487": {
      "model_module": "@jupyter-widgets/base",
      "model_module_version": "1.2.0",
      "model_name": "LayoutModel",
      "state": {
       "align_items": "stretch",
       "display": "flex",
       "flex_flow": "row wrap",
       "width": "auto"
      }
     },
     "837631db0daa4a038cd53572807f8cd2": {
      "model_module": "@jupyter-widgets/base",
      "model_module_version": "1.2.0",
      "model_name": "LayoutModel",
      "state": {
       "width": "30px"
      }
     },
     "83e231b27d5f43bfad998ed3bc78c6ab": {
      "model_module": "@jupyter-widgets/base",
      "model_module_version": "1.2.0",
      "model_name": "LayoutModel",
      "state": {}
     },
     "843ea96ed06d43a5af3363c8917e3923": {
      "model_module": "@jupyter-widgets/controls",
      "model_module_version": "1.5.0",
      "model_name": "LabelModel",
      "state": {
       "layout": "IPY_MODEL_8be96a5807194d0db91860f959531761",
       "style": "IPY_MODEL_eb29d30728eb43dfb62e2d7faae3d9d1"
      }
     },
     "850f117d85d649968f3bda8ea2a91bbc": {
      "model_module": "@jupyter-widgets/base",
      "model_module_version": "1.2.0",
      "model_name": "LayoutModel",
      "state": {}
     },
     "8549fd5452914f36a038dafde2f56aa3": {
      "model_module": "@jupyter-widgets/controls",
      "model_module_version": "1.5.0",
      "model_name": "CheckboxModel",
      "state": {
       "disabled": false,
       "layout": "IPY_MODEL_515e7675a6594746aba89a59f9fc8b74",
       "style": "IPY_MODEL_5f95d4ed3b904f46bdd49d373a07a2af",
       "value": false
      }
     },
     "8574875101b449a08d36e807b3d98125": {
      "model_module": "@jupyter-widgets/controls",
      "model_module_version": "1.5.0",
      "model_name": "HBoxModel",
      "state": {
       "children": [
        "IPY_MODEL_fd03496247104655b24c23763b3b1f84",
        "IPY_MODEL_fff12c06494f4a3a86b0758daa872896"
       ],
       "layout": "IPY_MODEL_cace7b01d8854fc3a035b15b5ed3dded"
      }
     },
     "862a7bc168a94635840c75b9e85ef12a": {
      "model_module": "@jupyter-widgets/controls",
      "model_module_version": "1.5.0",
      "model_name": "VBoxModel",
      "state": {
       "children": [
        "IPY_MODEL_06f450280fd14065b511045bf1a40925",
        "IPY_MODEL_bbfd617f04f04fa9a1ef171e440a977b",
        "IPY_MODEL_fbd38bd12eb042e39995a71a8546d549",
        "IPY_MODEL_f4b7f08426f3468784660f2075d32e34",
        "IPY_MODEL_ce1f3b2593df43cca86eba1923c217a0"
       ],
       "layout": "IPY_MODEL_03754845c01a4d599a4e575cbab96fab"
      }
     },
     "86ee56899a3445dcbb4775c3a8804810": {
      "model_module": "@jupyter-widgets/base",
      "model_module_version": "1.2.0",
      "model_name": "LayoutModel",
      "state": {
       "align_items": "stretch",
       "display": "flex",
       "flex_flow": "row wrap",
       "width": "auto"
      }
     },
     "87bf5681bb684dfaaec24c23d5fd96b4": {
      "model_module": "@jupyter-widgets/controls",
      "model_module_version": "1.5.0",
      "model_name": "DescriptionStyleModel",
      "state": {
       "description_width": ""
      }
     },
     "8924f7ada172434da8f816dc3e208e61": {
      "model_module": "@jupyter-widgets/controls",
      "model_module_version": "1.5.0",
      "model_name": "ButtonModel",
      "state": {
       "description": "Submit",
       "layout": "IPY_MODEL_89eaec317f8243fea7c3d09006f96237",
       "style": "IPY_MODEL_5db229d71ebf4542a45a3c45631703e6"
      }
     },
     "89962747846547aab853798f57d4f3ce": {
      "model_module": "@jupyter-widgets/controls",
      "model_module_version": "1.5.0",
      "model_name": "DescriptionStyleModel",
      "state": {
       "description_width": ""
      }
     },
     "89de92a8cbfd4ce8873860e614d48098": {
      "model_module": "@jupyter-widgets/controls",
      "model_module_version": "1.5.0",
      "model_name": "HBoxModel",
      "state": {
       "children": [
        "IPY_MODEL_62ac0ebdbe5b49c3b88c83cac82d6326"
       ],
       "layout": "IPY_MODEL_529d4fdd7a2743908c44485b5fa83b08"
      }
     },
     "89eaec317f8243fea7c3d09006f96237": {
      "model_module": "@jupyter-widgets/base",
      "model_module_version": "1.2.0",
      "model_name": "LayoutModel",
      "state": {}
     },
     "89f87e12d14c4cbeab2e8b0f5512816d": {
      "model_module": "@jupyter-widgets/controls",
      "model_module_version": "1.5.0",
      "model_name": "VBoxModel",
      "state": {
       "children": [
        "IPY_MODEL_e6f81692635b4b96b95ce967daa0682a",
        "IPY_MODEL_6653911fe36a4be48666475e654e6ec7",
        "IPY_MODEL_0c6ee09482864205ac141aac0f683be1",
        "IPY_MODEL_6b3510e18d9840bb95e115b1873ab00d",
        "IPY_MODEL_6f2ca9f0ce164c81bc7261e1929c8612",
        "IPY_MODEL_cffcbe69f7b04940851759cabf79c297"
       ],
       "layout": "IPY_MODEL_301e28517d2349fca0162e38afbe0245"
      }
     },
     "8a1ae652e5ce47d1ad73e3e74b202ec8": {
      "model_module": "@jupyter-widgets/base",
      "model_module_version": "1.2.0",
      "model_name": "LayoutModel",
      "state": {
       "width": "30px"
      }
     },
     "8a2106989c4644dd84819be88994cce2": {
      "model_module": "@jupyter-widgets/base",
      "model_module_version": "1.2.0",
      "model_name": "LayoutModel",
      "state": {}
     },
     "8a267ccd45cc4e82bc18c7b2d81334ca": {
      "model_module": "@jupyter-widgets/base",
      "model_module_version": "1.2.0",
      "model_name": "LayoutModel",
      "state": {
       "align_items": "stretch",
       "display": "flex",
       "flex_flow": "row wrap",
       "width": "auto"
      }
     },
     "8b465d93e7fb494c99b614b572aed5c4": {
      "model_module": "@jupyter-widgets/controls",
      "model_module_version": "1.5.0",
      "model_name": "DescriptionStyleModel",
      "state": {
       "description_width": ""
      }
     },
     "8b7544e8fd11417eb413a2cf306c99d0": {
      "model_module": "@jupyter-widgets/controls",
      "model_module_version": "1.5.0",
      "model_name": "HBoxModel",
      "state": {
       "children": [
        "IPY_MODEL_ffcf1e2c6ce644c49216572569f02788",
        "IPY_MODEL_e5a657821beb4df08886f3d15c38c293"
       ],
       "layout": "IPY_MODEL_b4487c060e0343b6b10448ab6261cfd0"
      }
     },
     "8b80af40025d46aead82f2088dbfe7b6": {
      "model_module": "@jupyter-widgets/controls",
      "model_module_version": "1.5.0",
      "model_name": "DescriptionStyleModel",
      "state": {
       "description_width": "initial"
      }
     },
     "8be96a5807194d0db91860f959531761": {
      "model_module": "@jupyter-widgets/base",
      "model_module_version": "1.2.0",
      "model_name": "LayoutModel",
      "state": {}
     },
     "8c27d673a1864961b5bc152db4369088": {
      "model_module": "@jupyter-widgets/base",
      "model_module_version": "1.2.0",
      "model_name": "LayoutModel",
      "state": {
       "width": "30px"
      }
     },
     "8c2e3799413b40c5b180ceaa466edca8": {
      "model_module": "@jupyter-widgets/base",
      "model_module_version": "1.2.0",
      "model_name": "LayoutModel",
      "state": {}
     },
     "8c3afa2ed4604af28c67653859442783": {
      "model_module": "@jupyter-widgets/base",
      "model_module_version": "1.2.0",
      "model_name": "LayoutModel",
      "state": {
       "align_items": "stretch",
       "display": "flex",
       "flex_flow": "row wrap",
       "width": "auto"
      }
     },
     "8dd4694716ac46a586ff3b976eb86ede": {
      "model_module": "@jupyter-widgets/controls",
      "model_module_version": "1.5.0",
      "model_name": "HBoxModel",
      "state": {
       "children": [
        "IPY_MODEL_d7be9fbb7b424bafac234f5c462a9e66",
        "IPY_MODEL_20bf0403b304457ab466b89c0c16570a"
       ],
       "layout": "IPY_MODEL_b3e2feb459904b389dfff210f58a2fee"
      }
     },
     "8e5d2dabfd4d4bf9972bcb23e351f212": {
      "model_module": "@jupyter-widgets/base",
      "model_module_version": "1.2.0",
      "model_name": "LayoutModel",
      "state": {}
     },
     "8e81252ca82045e487ecc957640eadb6": {
      "model_module": "@jupyter-widgets/base",
      "model_module_version": "1.2.0",
      "model_name": "LayoutModel",
      "state": {
       "width": "30px"
      }
     },
     "90165b246e324df5b325f916a8434b43": {
      "model_module": "@jupyter-widgets/controls",
      "model_module_version": "1.5.0",
      "model_name": "HBoxModel",
      "state": {
       "children": [
        "IPY_MODEL_16f0970fd285437e9ba2bb0a786365f9",
        "IPY_MODEL_bcc6ffe796364eb8b07c12d57382014c"
       ],
       "layout": "IPY_MODEL_044736c0a926471a9e87713157b01047"
      }
     },
     "9069efc3a626432699740a4761d913fa": {
      "model_module": "@jupyter-widgets/controls",
      "model_module_version": "1.5.0",
      "model_name": "LabelModel",
      "state": {
       "layout": "IPY_MODEL_cb89cd414083414cae62e2821d1a9f7b",
       "style": "IPY_MODEL_9987b463c8a54f46bd402cd53f730a76"
      }
     },
     "94300c49d9874d3cab573a8b01baf1ca": {
      "model_module": "@jupyter-widgets/controls",
      "model_module_version": "1.5.0",
      "model_name": "HBoxModel",
      "state": {
       "children": [
        "IPY_MODEL_d9b99cde1071445e9b2cba6cc8fc9b73"
       ],
       "layout": "IPY_MODEL_44b7697fa1ef4d518873181c9db9ff70"
      }
     },
     "959fb97b84804ab3961cd616e0cee748": {
      "model_module": "@jupyter-widgets/controls",
      "model_module_version": "1.5.0",
      "model_name": "DescriptionStyleModel",
      "state": {
       "description_width": ""
      }
     },
     "96b684152ae24ee6a4b0b8384a5e7afa": {
      "model_module": "@jupyter-widgets/base",
      "model_module_version": "1.2.0",
      "model_name": "LayoutModel",
      "state": {
       "width": "30px"
      }
     },
     "9730c996d41d4d4788bb0d909f63dd9c": {
      "model_module": "@jupyter-widgets/base",
      "model_module_version": "1.2.0",
      "model_name": "LayoutModel",
      "state": {
       "width": "30px"
      }
     },
     "990d0eb94b324d6db1b90066e2125061": {
      "model_module": "@jupyter-widgets/base",
      "model_module_version": "1.2.0",
      "model_name": "LayoutModel",
      "state": {}
     },
     "9987b463c8a54f46bd402cd53f730a76": {
      "model_module": "@jupyter-widgets/controls",
      "model_module_version": "1.5.0",
      "model_name": "DescriptionStyleModel",
      "state": {
       "description_width": ""
      }
     },
     "9a5e1d0f5ef1421285988b20e3cc53ae": {
      "model_module": "@jupyter-widgets/base",
      "model_module_version": "1.2.0",
      "model_name": "LayoutModel",
      "state": {}
     },
     "9a87e09e5b3747e28c404707695a86f8": {
      "model_module": "@jupyter-widgets/controls",
      "model_module_version": "1.5.0",
      "model_name": "LabelModel",
      "state": {
       "layout": "IPY_MODEL_ac2762b59d714628b1b8b96a9f96c4eb",
       "style": "IPY_MODEL_11e11cc56bf749258c103b50b9545153"
      }
     },
     "9ad401f7658844d5a9a8d0d2f115d8ad": {
      "model_module": "@jupyter-widgets/controls",
      "model_module_version": "1.5.0",
      "model_name": "ButtonStyleModel",
      "state": {
       "button_color": "#4DD0E1"
      }
     },
     "9bfc928fc5b042beaf6dd9230791ea2b": {
      "model_module": "@jupyter-widgets/controls",
      "model_module_version": "1.5.0",
      "model_name": "LabelModel",
      "state": {
       "layout": "IPY_MODEL_123243f5cf22459992f6db28ba0693e0",
       "style": "IPY_MODEL_02ec0080b7e5408d9884139f4a537fa9"
      }
     },
     "9c2d51b238ba435d98e355374cbb5064": {
      "model_module": "@jupyter-widgets/controls",
      "model_module_version": "1.5.0",
      "model_name": "DescriptionStyleModel",
      "state": {
       "description_width": ""
      }
     },
     "9ca7b333603943508aba5e310132c0f0": {
      "model_module": "@jupyter-widgets/controls",
      "model_module_version": "1.5.0",
      "model_name": "DescriptionStyleModel",
      "state": {
       "description_width": ""
      }
     },
     "9cd117e3ccc8478db9f5762222b7cb5d": {
      "model_module": "@jupyter-widgets/controls",
      "model_module_version": "1.5.0",
      "model_name": "DescriptionStyleModel",
      "state": {
       "description_width": "initial"
      }
     },
     "9d9dbaea5de84abc8d13da35c33497d8": {
      "model_module": "@jupyter-widgets/controls",
      "model_module_version": "1.5.0",
      "model_name": "ButtonModel",
      "state": {
       "description": "Submit",
       "layout": "IPY_MODEL_b077be757bca48d3a761e90b26c80e1e",
       "style": "IPY_MODEL_e13aa1190734435da0b22923b198dccf"
      }
     },
     "9df8db89f91c42afaf1603455afb480b": {
      "model_module": "@jupyter-widgets/base",
      "model_module_version": "1.2.0",
      "model_name": "LayoutModel",
      "state": {}
     },
     "a1da04c52df249d7903c1f771fb81e65": {
      "model_module": "@jupyter-widgets/base",
      "model_module_version": "1.2.0",
      "model_name": "LayoutModel",
      "state": {
       "align_items": "stretch",
       "display": "flex",
       "flex_flow": "column",
       "width": "100%"
      }
     },
     "a21f6db6db5248ce83a1065f8c21eb2f": {
      "model_module": "@jupyter-widgets/controls",
      "model_module_version": "1.5.0",
      "model_name": "HTMLModel",
      "state": {
       "layout": "IPY_MODEL_990d0eb94b324d6db1b90066e2125061",
       "style": "IPY_MODEL_959fb97b84804ab3961cd616e0cee748",
       "value": "<style>p{word-wrap: break-word}</style> <p>Check all the correct statements about coding exercises and solutions </p>"
      }
     },
     "a2320afd8cfe41e2b852e2e46b762984": {
      "model_module": "@jupyter-widgets/controls",
      "model_module_version": "1.5.0",
      "model_name": "DescriptionStyleModel",
      "state": {
       "description_width": "initial"
      }
     },
     "a2d3f18e16fe4103b00d88345a9953eb": {
      "model_module": "@jupyter-widgets/controls",
      "model_module_version": "1.5.0",
      "model_name": "LabelModel",
      "state": {
       "layout": "IPY_MODEL_8e5d2dabfd4d4bf9972bcb23e351f212",
       "style": "IPY_MODEL_66c67b8a7bfd43a8a133ffb37c6776a4"
      }
     },
     "a30ffab42952427393c920d26d69763b": {
      "model_module": "@jupyter-widgets/controls",
      "model_module_version": "1.5.0",
      "model_name": "HBoxModel",
      "state": {
       "children": [
        "IPY_MODEL_bbf52098434347cf9aa0b7ad7ab9aa97",
        "IPY_MODEL_1e7b86330eb44e1a849adf2475d69b53"
       ],
       "layout": "IPY_MODEL_7bae52464bd34cd0b51ae330bc66bf03"
      }
     },
     "a3468d6102364a308bb603dcb42b2fbe": {
      "model_module": "@jupyter-widgets/base",
      "model_module_version": "1.2.0",
      "model_name": "LayoutModel",
      "state": {}
     },
     "a3da9985719a458285d1fbe9f3b14a10": {
      "model_module": "@jupyter-widgets/controls",
      "model_module_version": "1.5.0",
      "model_name": "LabelModel",
      "state": {
       "layout": "IPY_MODEL_d323fcac0bf145d3824923a3d33083bc",
       "style": "IPY_MODEL_21451bb993b14befa7a392d3dfbcb8c2"
      }
     },
     "a41e385bcc6648a6a586dd602bffb3cf": {
      "model_module": "@jupyter-widgets/controls",
      "model_module_version": "1.5.0",
      "model_name": "DescriptionStyleModel",
      "state": {
       "description_width": ""
      }
     },
     "a54887c4210d419ea08444c5d713e543": {
      "model_module": "@jupyter-widgets/controls",
      "model_module_version": "1.5.0",
      "model_name": "LabelModel",
      "state": {
       "layout": "IPY_MODEL_cb34ae6181e447c5b37b0ffdb5d22161",
       "style": "IPY_MODEL_48bc5b4fa3b7430eb0a4c3a921b3d236"
      }
     },
     "a5640ba6c845463592acb0da96bf4ea1": {
      "model_module": "@jupyter-widgets/base",
      "model_module_version": "1.2.0",
      "model_name": "LayoutModel",
      "state": {
       "width": "30px"
      }
     },
     "a624ffe7b75641748bc6731ccc707536": {
      "model_module": "@jupyter-widgets/base",
      "model_module_version": "1.2.0",
      "model_name": "LayoutModel",
      "state": {}
     },
     "a62d1b4b9b1e4cb59824cf9b671f0b90": {
      "model_module": "@jupyter-widgets/controls",
      "model_module_version": "1.5.0",
      "model_name": "LabelModel",
      "state": {
       "layout": "IPY_MODEL_f94dfff6c8ad42178d3bc8aa52ed0dee",
       "style": "IPY_MODEL_2a9ee8a98eb84f7ba076d465bca3538c"
      }
     },
     "a778b47781d44814815cae172111e8a1": {
      "model_module": "@jupyter-widgets/controls",
      "model_module_version": "1.5.0",
      "model_name": "HTMLModel",
      "state": {
       "layout": "IPY_MODEL_5ba00e0d32c24904aa516ae3d869b886",
       "style": "IPY_MODEL_a7bc6dcb9b76410f8059872ceb0b05da",
       "value": "<style>p{word-wrap: break-word}</style> <p>In dynamic programming, the outcomes of each operation in a process are independant. </p>"
      }
     },
     "a7809a3f509e448ab4bb4235cffe8da9": {
      "model_module": "@jupyter-widgets/controls",
      "model_module_version": "1.5.0",
      "model_name": "ButtonStyleModel",
      "state": {
       "button_color": "#4DD0E1"
      }
     },
     "a7bc6dcb9b76410f8059872ceb0b05da": {
      "model_module": "@jupyter-widgets/controls",
      "model_module_version": "1.5.0",
      "model_name": "DescriptionStyleModel",
      "state": {
       "description_width": ""
      }
     },
     "a80fa3e5e7ae4c32b3b5dde395f63aed": {
      "model_module": "@jupyter-widgets/controls",
      "model_module_version": "1.5.0",
      "model_name": "DescriptionStyleModel",
      "state": {
       "description_width": ""
      }
     },
     "ab02c17eae19408bbb0892cd79d8f93b": {
      "model_module": "@jupyter-widgets/base",
      "model_module_version": "1.2.0",
      "model_name": "LayoutModel",
      "state": {
       "align_items": "stretch",
       "display": "flex",
       "flex_flow": "column",
       "width": "100%"
      }
     },
     "ab5d9c024f2e4e9d905e243241ededc5": {
      "model_module": "@jupyter-widgets/controls",
      "model_module_version": "1.5.0",
      "model_name": "DescriptionStyleModel",
      "state": {
       "description_width": ""
      }
     },
     "ab8d4b3d249c4e9e9910804f8d91fd8c": {
      "model_module": "@jupyter-widgets/base",
      "model_module_version": "1.2.0",
      "model_name": "LayoutModel",
      "state": {
       "align_items": "stretch",
       "display": "flex",
       "flex_flow": "row wrap",
       "width": "auto"
      }
     },
     "abcda9b83e4243e9a31f68591d4da7c1": {
      "model_module": "@jupyter-widgets/controls",
      "model_module_version": "1.5.0",
      "model_name": "LabelModel",
      "state": {
       "layout": "IPY_MODEL_850f117d85d649968f3bda8ea2a91bbc",
       "style": "IPY_MODEL_cac874201f284b4d98f64957abef30b3"
      }
     },
     "ac2762b59d714628b1b8b96a9f96c4eb": {
      "model_module": "@jupyter-widgets/base",
      "model_module_version": "1.2.0",
      "model_name": "LayoutModel",
      "state": {}
     },
     "acc0f9b7b23141cdba83a09e1db0dc57": {
      "model_module": "@jupyter-widgets/controls",
      "model_module_version": "1.5.0",
      "model_name": "HTMLModel",
      "state": {
       "layout": "IPY_MODEL_6123556e67b84eb8beeb4aa700c13014",
       "style": "IPY_MODEL_a41e385bcc6648a6a586dd602bffb3cf",
       "value": "<style>p{word-wrap: break-word}</style> <p>The term 'programming' means 'planning' </p>"
      }
     },
     "ad5e7cadb5224db18a567f3ff196e3b9": {
      "model_module": "@jupyter-widgets/controls",
      "model_module_version": "1.5.0",
      "model_name": "VBoxModel",
      "state": {
       "box_style": "info",
       "children": [
        "IPY_MODEL_89de92a8cbfd4ce8873860e614d48098",
        "IPY_MODEL_862a7bc168a94635840c75b9e85ef12a",
        "IPY_MODEL_2ead7de3bda340589f7c987990f20dd4"
       ],
       "layout": "IPY_MODEL_0f4e840e08114fa1a25d565aaef6a356"
      }
     },
     "ae736ca0cfb246d29d17171566627948": {
      "model_module": "@jupyter-widgets/base",
      "model_module_version": "1.2.0",
      "model_name": "LayoutModel",
      "state": {
       "align_items": "stretch",
       "display": "flex",
       "flex_flow": "column",
       "width": "100%"
      }
     },
     "af4ba62af2a6437682ba0389fe694e5e": {
      "model_module": "@jupyter-widgets/controls",
      "model_module_version": "1.5.0",
      "model_name": "CheckboxModel",
      "state": {
       "disabled": false,
       "layout": "IPY_MODEL_cf79f82e77324b3090b46dcf5266ca4e",
       "style": "IPY_MODEL_a2320afd8cfe41e2b852e2e46b762984",
       "value": false
      }
     },
     "af7e509cd4aa4170897e84fc88a69cc7": {
      "model_module": "@jupyter-widgets/controls",
      "model_module_version": "1.5.0",
      "model_name": "DescriptionStyleModel",
      "state": {
       "description_width": ""
      }
     },
     "b01b39a6d7364c89a1cad1a83d67cc33": {
      "model_module": "@jupyter-widgets/base",
      "model_module_version": "1.2.0",
      "model_name": "LayoutModel",
      "state": {}
     },
     "b0325d4357eb48f38cb5d021fa4e10b0": {
      "model_module": "@jupyter-widgets/base",
      "model_module_version": "1.2.0",
      "model_name": "LayoutModel",
      "state": {
       "align_items": "stretch",
       "display": "flex",
       "flex_flow": "row wrap",
       "width": "auto"
      }
     },
     "b077be757bca48d3a761e90b26c80e1e": {
      "model_module": "@jupyter-widgets/base",
      "model_module_version": "1.2.0",
      "model_name": "LayoutModel",
      "state": {}
     },
     "b0d5167a69404ef0bcb46ca22228852e": {
      "model_module": "@jupyter-widgets/base",
      "model_module_version": "1.2.0",
      "model_name": "LayoutModel",
      "state": {
       "align_items": "stretch",
       "display": "flex",
       "flex_flow": "row wrap",
       "width": "auto"
      }
     },
     "b118fd5afdff4d559f40693fd47ea7ee": {
      "model_module": "@jupyter-widgets/base",
      "model_module_version": "1.2.0",
      "model_name": "LayoutModel",
      "state": {
       "width": "30px"
      }
     },
     "b1b7dbf1b2a643359ee809915cfe0c3b": {
      "model_module": "@jupyter-widgets/base",
      "model_module_version": "1.2.0",
      "model_name": "LayoutModel",
      "state": {}
     },
     "b228a12c3c704bc6894c42dfc07e22d9": {
      "model_module": "@jupyter-widgets/base",
      "model_module_version": "1.2.0",
      "model_name": "LayoutModel",
      "state": {
       "width": "30px"
      }
     },
     "b241112772fe4b56b27a8e8050d2ed9e": {
      "model_module": "@jupyter-widgets/base",
      "model_module_version": "1.2.0",
      "model_name": "LayoutModel",
      "state": {
       "align_items": "stretch",
       "display": "flex",
       "flex_flow": "row wrap",
       "width": "auto"
      }
     },
     "b38e3ae232f84224954751c72ad43cc1": {
      "model_module": "@jupyter-widgets/base",
      "model_module_version": "1.2.0",
      "model_name": "LayoutModel",
      "state": {}
     },
     "b3e2feb459904b389dfff210f58a2fee": {
      "model_module": "@jupyter-widgets/base",
      "model_module_version": "1.2.0",
      "model_name": "LayoutModel",
      "state": {
       "align_items": "stretch",
       "display": "flex",
       "flex_flow": "row wrap",
       "width": "auto"
      }
     },
     "b4487c060e0343b6b10448ab6261cfd0": {
      "model_module": "@jupyter-widgets/base",
      "model_module_version": "1.2.0",
      "model_name": "LayoutModel",
      "state": {
       "align_items": "stretch",
       "display": "flex",
       "flex_flow": "row wrap",
       "width": "auto"
      }
     },
     "b4ac000bea804e359fc227175adab6d9": {
      "model_module": "@jupyter-widgets/controls",
      "model_module_version": "1.5.0",
      "model_name": "DescriptionStyleModel",
      "state": {
       "description_width": "initial"
      }
     },
     "b554a8b9719a4d39a9df17589ff567c3": {
      "model_module": "@jupyter-widgets/base",
      "model_module_version": "1.2.0",
      "model_name": "LayoutModel",
      "state": {
       "align_items": "stretch",
       "display": "flex",
       "flex_flow": "row wrap",
       "width": "auto"
      }
     },
     "b5c4f156b15f4f8a941587fa22d91785": {
      "model_module": "@jupyter-widgets/controls",
      "model_module_version": "1.5.0",
      "model_name": "DescriptionStyleModel",
      "state": {
       "description_width": "initial"
      }
     },
     "b60c882b98d745f6ac2a63bcdc34aa28": {
      "model_module": "@jupyter-widgets/controls",
      "model_module_version": "1.5.0",
      "model_name": "CheckboxModel",
      "state": {
       "disabled": false,
       "layout": "IPY_MODEL_9730c996d41d4d4788bb0d909f63dd9c",
       "style": "IPY_MODEL_b4ac000bea804e359fc227175adab6d9",
       "value": false
      }
     },
     "b66b31ebeda1413f94f86dd9d35371a6": {
      "model_module": "@jupyter-widgets/base",
      "model_module_version": "1.2.0",
      "model_name": "LayoutModel",
      "state": {}
     },
     "b7c144ff357e4c09bc7199a407d04f90": {
      "model_module": "@jupyter-widgets/controls",
      "model_module_version": "1.5.0",
      "model_name": "CheckboxModel",
      "state": {
       "disabled": false,
       "layout": "IPY_MODEL_b228a12c3c704bc6894c42dfc07e22d9",
       "style": "IPY_MODEL_b5c4f156b15f4f8a941587fa22d91785",
       "value": false
      }
     },
     "b83a313ee3664092abc10b0780fba7f9": {
      "model_module": "@jupyter-widgets/controls",
      "model_module_version": "1.5.0",
      "model_name": "LabelModel",
      "state": {
       "layout": "IPY_MODEL_c7df15356e2046a78d1fae4d326539a1",
       "style": "IPY_MODEL_8b465d93e7fb494c99b614b572aed5c4"
      }
     },
     "b8af6e1bed0e4babba1877200a27b114": {
      "model_module": "@jupyter-widgets/controls",
      "model_module_version": "1.5.0",
      "model_name": "HBoxModel",
      "state": {
       "children": [
        "IPY_MODEL_7aa4576f43cb42daa39ae50b936ab870",
        "IPY_MODEL_3a38e19e4a9444c18531317afcb8edff",
        "IPY_MODEL_e1f547962d2b4e3384a5b9f7858a90a4"
       ],
       "layout": "IPY_MODEL_3c9c1d0907c840408bdbd0bd069d06fe"
      }
     },
     "b8c8cc82463b407eb17bfea19e84db26": {
      "model_module": "@jupyter-widgets/base",
      "model_module_version": "1.2.0",
      "model_name": "LayoutModel",
      "state": {}
     },
     "bbacd72133f640d0861d3dd299450a73": {
      "model_module": "@jupyter-widgets/controls",
      "model_module_version": "1.5.0",
      "model_name": "HBoxModel",
      "state": {
       "children": [
        "IPY_MODEL_5409e2ec703943a09cc4642fbd70e6f8",
        "IPY_MODEL_dda9f18c6ab6470292d72b0f144cd093"
       ],
       "layout": "IPY_MODEL_5e37b96ea5df4777b60989eebe29bcfa"
      }
     },
     "bbf52098434347cf9aa0b7ad7ab9aa97": {
      "model_module": "@jupyter-widgets/controls",
      "model_module_version": "1.5.0",
      "model_name": "CheckboxModel",
      "state": {
       "disabled": false,
       "layout": "IPY_MODEL_96b684152ae24ee6a4b0b8384a5e7afa",
       "style": "IPY_MODEL_e4c45c9c2b4449eba2754fcf142cc565",
       "value": false
      }
     },
     "bbfd617f04f04fa9a1ef171e440a977b": {
      "model_module": "@jupyter-widgets/controls",
      "model_module_version": "1.5.0",
      "model_name": "HBoxModel",
      "state": {
       "children": [
        "IPY_MODEL_a62d1b4b9b1e4cb59824cf9b671f0b90",
        "IPY_MODEL_0061fae222634b42a2e63eb44c91d7d9"
       ],
       "layout": "IPY_MODEL_fba7f4854a8b4598b602f7f4842427bc"
      }
     },
     "bc3710a356e44c82b830719aaf988d9f": {
      "model_module": "@jupyter-widgets/controls",
      "model_module_version": "1.5.0",
      "model_name": "CheckboxModel",
      "state": {
       "disabled": false,
       "layout": "IPY_MODEL_3cb20eb1f95d48d7b524e70798f6dcda",
       "style": "IPY_MODEL_381fbd1cc6664a0c9379d6a11e86976b",
       "value": false
      }
     },
     "bcc6ffe796364eb8b07c12d57382014c": {
      "model_module": "@jupyter-widgets/controls",
      "model_module_version": "1.5.0",
      "model_name": "HTMLModel",
      "state": {
       "layout": "IPY_MODEL_ebcaee1a2e084c9b8c49a623a4db2028",
       "style": "IPY_MODEL_5a0ac0ea3bbd45cd9e087765f078318b",
       "value": "<style>p{word-wrap: break-word}</style> <p>palindrome </p>"
      }
     },
     "bee857423f9649069a488942d3df5187": {
      "model_module": "@jupyter-widgets/base",
      "model_module_version": "1.2.0",
      "model_name": "LayoutModel",
      "state": {
       "height": "50%",
       "margin": "0 0 0 30px",
       "width": "50%"
      }
     },
     "bfc42b73eb20457d9fbc659335e5c64f": {
      "model_module": "@jupyter-widgets/base",
      "model_module_version": "1.2.0",
      "model_name": "LayoutModel",
      "state": {
       "align_items": "stretch",
       "display": "flex",
       "flex_flow": "row wrap",
       "width": "auto"
      }
     },
     "c12f1accd2fc40e896f86da642c4749e": {
      "model_module": "@jupyter-widgets/base",
      "model_module_version": "1.2.0",
      "model_name": "LayoutModel",
      "state": {
       "align_items": "stretch",
       "display": "flex",
       "flex_flow": "row wrap",
       "width": "auto"
      }
     },
     "c40c1ab89cd44c06af9eda6d28770239": {
      "model_module": "@jupyter-widgets/base",
      "model_module_version": "1.2.0",
      "model_name": "LayoutModel",
      "state": {
       "align_items": "stretch",
       "display": "flex",
       "flex_flow": "row wrap",
       "width": "auto"
      }
     },
     "c68b2b4fde4840ce9265641497c681d5": {
      "model_module": "@jupyter-widgets/controls",
      "model_module_version": "1.5.0",
      "model_name": "HBoxModel",
      "state": {
       "children": [
        "IPY_MODEL_6ca015940bfe4d8e8618cc87f2e2361f",
        "IPY_MODEL_3b16e5a92917434e831cae8caa8cea3d"
       ],
       "layout": "IPY_MODEL_4a4cbe89dc3744ffa74275814115c195"
      }
     },
     "c78cf2350c6441e9b5ec5b00fd477bfb": {
      "model_module": "@jupyter-widgets/controls",
      "model_module_version": "1.5.0",
      "model_name": "DescriptionStyleModel",
      "state": {
       "description_width": "initial"
      }
     },
     "c7a2564919694965a7b8cee591e1e372": {
      "model_module": "@jupyter-widgets/controls",
      "model_module_version": "1.5.0",
      "model_name": "DescriptionStyleModel",
      "state": {
       "description_width": "initial"
      }
     },
     "c7df15356e2046a78d1fae4d326539a1": {
      "model_module": "@jupyter-widgets/base",
      "model_module_version": "1.2.0",
      "model_name": "LayoutModel",
      "state": {}
     },
     "c7ee8b3341204485aaf352d501a6412a": {
      "model_module": "@jupyter-widgets/controls",
      "model_module_version": "1.5.0",
      "model_name": "HTMLModel",
      "state": {
       "layout": "IPY_MODEL_5330ec33196b46e696c76121262dde49",
       "style": "IPY_MODEL_e7f8237d37964c71a88cdda144f0a3fd",
       "value": "<style>p{word-wrap: break-word}</style> <p>The term 'dynamic' is used to indicate that time plays a role. </p>"
      }
     },
     "c8ba7833b3f34055be435d17c34e207a": {
      "model_module": "@jupyter-widgets/controls",
      "model_module_version": "1.5.0",
      "model_name": "LabelModel",
      "state": {
       "layout": "IPY_MODEL_efec71d0d95a4f57ad470987d184739b",
       "style": "IPY_MODEL_6129c28f418449fa89c62028a71f5d3c"
      }
     },
     "c91a084576ac4c87978a5e20a9bbbe4a": {
      "model_module": "@jupyter-widgets/controls",
      "model_module_version": "1.5.0",
      "model_name": "DescriptionStyleModel",
      "state": {
       "description_width": "initial"
      }
     },
     "c966ef5590d94dada93726309345d08b": {
      "model_module": "@jupyter-widgets/controls",
      "model_module_version": "1.5.0",
      "model_name": "CheckboxModel",
      "state": {
       "disabled": false,
       "layout": "IPY_MODEL_2bf4473079814b4189f3170573c0ae58",
       "style": "IPY_MODEL_8b80af40025d46aead82f2088dbfe7b6",
       "value": false
      }
     },
     "c9c69debd11547e5b8e5d33688fe28be": {
      "model_module": "@jupyter-widgets/base",
      "model_module_version": "1.2.0",
      "model_name": "LayoutModel",
      "state": {
       "align_items": "stretch",
       "display": "flex",
       "flex_flow": "column",
       "width": "100%"
      }
     },
     "c9e22ec555ce4bfdab8579e3b34adfa1": {
      "model_module": "@jupyter-widgets/controls",
      "model_module_version": "1.5.0",
      "model_name": "DescriptionStyleModel",
      "state": {
       "description_width": ""
      }
     },
     "cac874201f284b4d98f64957abef30b3": {
      "model_module": "@jupyter-widgets/controls",
      "model_module_version": "1.5.0",
      "model_name": "DescriptionStyleModel",
      "state": {
       "description_width": ""
      }
     },
     "cace7b01d8854fc3a035b15b5ed3dded": {
      "model_module": "@jupyter-widgets/base",
      "model_module_version": "1.2.0",
      "model_name": "LayoutModel",
      "state": {
       "align_items": "stretch",
       "display": "flex",
       "flex_flow": "row wrap",
       "width": "auto"
      }
     },
     "caf5320e7c944428a48788dea841048e": {
      "model_module": "@jupyter-widgets/base",
      "model_module_version": "1.2.0",
      "model_name": "LayoutModel",
      "state": {
       "width": "30px"
      }
     },
     "cb34ae6181e447c5b37b0ffdb5d22161": {
      "model_module": "@jupyter-widgets/base",
      "model_module_version": "1.2.0",
      "model_name": "LayoutModel",
      "state": {}
     },
     "cb89cd414083414cae62e2821d1a9f7b": {
      "model_module": "@jupyter-widgets/base",
      "model_module_version": "1.2.0",
      "model_name": "LayoutModel",
      "state": {}
     },
     "cdee7d0b0a2546289db11ad20d611782": {
      "model_module": "@jupyter-widgets/controls",
      "model_module_version": "1.5.0",
      "model_name": "HBoxModel",
      "state": {
       "children": [
        "IPY_MODEL_9bfc928fc5b042beaf6dd9230791ea2b",
        "IPY_MODEL_684e3e7cc2e74dd496587af54929aa8d"
       ],
       "layout": "IPY_MODEL_b0325d4357eb48f38cb5d021fa4e10b0"
      }
     },
     "ce1f3b2593df43cca86eba1923c217a0": {
      "model_module": "@jupyter-widgets/controls",
      "model_module_version": "1.5.0",
      "model_name": "HBoxModel",
      "state": {
       "children": [
        "IPY_MODEL_d50d02c82f004972b79476534f8fc759",
        "IPY_MODEL_2ad3cb35d96448f889f5039411cc0d01"
       ],
       "layout": "IPY_MODEL_ab8d4b3d249c4e9e9910804f8d91fd8c"
      }
     },
     "cea4520a85cd46dca7e0106c5004a9c0": {
      "model_module": "@jupyter-widgets/controls",
      "model_module_version": "1.5.0",
      "model_name": "DescriptionStyleModel",
      "state": {
       "description_width": ""
      }
     },
     "cf79f82e77324b3090b46dcf5266ca4e": {
      "model_module": "@jupyter-widgets/base",
      "model_module_version": "1.2.0",
      "model_name": "LayoutModel",
      "state": {
       "width": "30px"
      }
     },
     "cfe6ed0217314e55ad370e67b94fbe7a": {
      "model_module": "@jupyter-widgets/controls",
      "model_module_version": "1.5.0",
      "model_name": "HBoxModel",
      "state": {
       "children": [
        "IPY_MODEL_f09ce9f4c436490492a9c9ec34519f99",
        "IPY_MODEL_8dd4694716ac46a586ff3b976eb86ede"
       ],
       "layout": "IPY_MODEL_b554a8b9719a4d39a9df17589ff567c3"
      }
     },
     "cffcbe69f7b04940851759cabf79c297": {
      "model_module": "@jupyter-widgets/controls",
      "model_module_version": "1.5.0",
      "model_name": "HBoxModel",
      "state": {
       "children": [
        "IPY_MODEL_4629601929954f68ba192b27646cb733",
        "IPY_MODEL_1cf3f9427dcd4b529d396a7d7d54d667"
       ],
       "layout": "IPY_MODEL_14773bdbddaa486db0c0b6df527484b0"
      }
     },
     "d1ccb85020904ec8adc2fbf682ff01fe": {
      "model_module": "@jupyter-widgets/controls",
      "model_module_version": "1.5.0",
      "model_name": "DescriptionStyleModel",
      "state": {
       "description_width": ""
      }
     },
     "d1e8d72054b244ddaaeadd9f41654273": {
      "model_module": "@jupyter-widgets/base",
      "model_module_version": "1.2.0",
      "model_name": "LayoutModel",
      "state": {
       "display": "flex",
       "flex_flow": "row",
       "justify_content": "space-between",
       "margin": "0 0 20px 0"
      }
     },
     "d22c3d4a9cbb49c2a13e5476f2f74567": {
      "model_module": "@jupyter-widgets/controls",
      "model_module_version": "1.5.0",
      "model_name": "VBoxModel",
      "state": {
       "box_style": "info",
       "children": [
        "IPY_MODEL_6de942ff9fe64ab9b8337111313de5ac",
        "IPY_MODEL_89f87e12d14c4cbeab2e8b0f5512816d",
        "IPY_MODEL_7eeb2aa5f1b34b37b17d9231252305e2"
       ],
       "layout": "IPY_MODEL_a1da04c52df249d7903c1f771fb81e65"
      }
     },
     "d2e3a4cc3f0a45d3b8e2e4448bc27862": {
      "model_module": "@jupyter-widgets/base",
      "model_module_version": "1.2.0",
      "model_name": "LayoutModel",
      "state": {}
     },
     "d323fcac0bf145d3824923a3d33083bc": {
      "model_module": "@jupyter-widgets/base",
      "model_module_version": "1.2.0",
      "model_name": "LayoutModel",
      "state": {}
     },
     "d484ab0986214163a37b2eb314ee3749": {
      "model_module": "@jupyter-widgets/controls",
      "model_module_version": "1.5.0",
      "model_name": "ButtonModel",
      "state": {
       "description": "Show answer",
       "disabled": true,
       "layout": "IPY_MODEL_f4c141fe68db469399d4c8c87d20fee4",
       "style": "IPY_MODEL_3130201bc2694fcdb17385f761618db0"
      }
     },
     "d48c5a6d88594e1cb4b5ad4dcc776767": {
      "model_module": "@jupyter-widgets/controls",
      "model_module_version": "1.5.0",
      "model_name": "HTMLModel",
      "state": {
       "layout": "IPY_MODEL_d2e3a4cc3f0a45d3b8e2e4448bc27862",
       "style": "IPY_MODEL_ee33d70e5bb940e8904f531ebf65c3be",
       "value": "<style>p{word-wrap: break-word}</style> <p>top-down </p>"
      }
     },
     "d50d02c82f004972b79476534f8fc759": {
      "model_module": "@jupyter-widgets/controls",
      "model_module_version": "1.5.0",
      "model_name": "LabelModel",
      "state": {
       "layout": "IPY_MODEL_5c5af78ae21244459e97ba1882d9bfa2",
       "style": "IPY_MODEL_7a511c43437a436e8e34d8efc0a47147"
      }
     },
     "d5fa4373e6db42bc8498828ce5a9a319": {
      "model_module": "@jupyter-widgets/base",
      "model_module_version": "1.2.0",
      "model_name": "LayoutModel",
      "state": {}
     },
     "d622126b6ef74a77adbc5f90c626e4e7": {
      "model_module": "@jupyter-widgets/base",
      "model_module_version": "1.2.0",
      "model_name": "LayoutModel",
      "state": {
       "align_items": "stretch",
       "display": "flex",
       "flex_flow": "row wrap",
       "width": "auto"
      }
     },
     "d65aa7cf0ca146698cbaa6d9f38cdbd7": {
      "model_module": "@jupyter-widgets/controls",
      "model_module_version": "1.5.0",
      "model_name": "DescriptionStyleModel",
      "state": {
       "description_width": ""
      }
     },
     "d661fdfd17a74bedb1099229ae8f1746": {
      "model_module": "@jupyter-widgets/controls",
      "model_module_version": "1.5.0",
      "model_name": "DescriptionStyleModel",
      "state": {
       "description_width": ""
      }
     },
     "d708e459d559478082ad37c4fd0cd0fe": {
      "model_module": "@jupyter-widgets/base",
      "model_module_version": "1.2.0",
      "model_name": "LayoutModel",
      "state": {
       "align_items": "stretch",
       "display": "flex",
       "flex_flow": "row wrap",
       "margin": "30px 0 0 0"
      }
     },
     "d7be9fbb7b424bafac234f5c462a9e66": {
      "model_module": "@jupyter-widgets/controls",
      "model_module_version": "1.5.0",
      "model_name": "CheckboxModel",
      "state": {
       "disabled": false,
       "layout": "IPY_MODEL_8a1ae652e5ce47d1ad73e3e74b202ec8",
       "style": "IPY_MODEL_70f8407c1ccc4da09b9b92cf64481bf0",
       "value": false
      }
     },
     "d861de546cbf411382420eb64d098640": {
      "model_module": "@jupyter-widgets/base",
      "model_module_version": "1.2.0",
      "model_name": "LayoutModel",
      "state": {
       "align_items": "stretch",
       "display": "flex",
       "flex_flow": "row wrap",
       "margin": "30px 0 0 0"
      }
     },
     "d97187488b844517a79b2bd874f36ec1": {
      "model_module": "@jupyter-widgets/base",
      "model_module_version": "1.2.0",
      "model_name": "LayoutModel",
      "state": {}
     },
     "d9b99cde1071445e9b2cba6cc8fc9b73": {
      "model_module": "@jupyter-widgets/controls",
      "model_module_version": "1.5.0",
      "model_name": "HTMLModel",
      "state": {
       "layout": "IPY_MODEL_6e61aca24eb148a792895cf9fe76f4b8",
       "style": "IPY_MODEL_ec0dab992de644d7aa615435e3ca4254",
       "value": "<style>p{word-wrap: break-word}</style> <p>Which terms describe the algorithm above? </p>"
      }
     },
     "d9ee82d7db7843b585a2ad218dc28553": {
      "model_module": "@jupyter-widgets/controls",
      "model_module_version": "1.5.0",
      "model_name": "ButtonStyleModel",
      "state": {
       "button_color": "#4DD0E1"
      }
     },
     "da13205c6dbb44318d176f2db666cd29": {
      "model_module": "@jupyter-widgets/controls",
      "model_module_version": "1.5.0",
      "model_name": "CheckboxModel",
      "state": {
       "disabled": false,
       "layout": "IPY_MODEL_53c324ab014b4f19b67d501c615cc973",
       "style": "IPY_MODEL_c78cf2350c6441e9b5ec5b00fd477bfb",
       "value": false
      }
     },
     "db9bc57b000d4583aada95221cbddc5d": {
      "model_module": "@jupyter-widgets/base",
      "model_module_version": "1.2.0",
      "model_name": "LayoutModel",
      "state": {
       "width": "30px"
      }
     },
     "dc60bf9a5c114851aa66d9187abb50f3": {
      "model_module": "@jupyter-widgets/controls",
      "model_module_version": "1.5.0",
      "model_name": "DescriptionStyleModel",
      "state": {
       "description_width": ""
      }
     },
     "dd18c1b76e8a4f01a4cb7af2f4b59175": {
      "model_module": "@jupyter-widgets/controls",
      "model_module_version": "1.5.0",
      "model_name": "ButtonModel",
      "state": {
       "description": "Show answer",
       "disabled": true,
       "layout": "IPY_MODEL_12432da4b7384c1d901a7ad51e36c3aa",
       "style": "IPY_MODEL_a7809a3f509e448ab4bb4235cffe8da9"
      }
     },
     "dda9f18c6ab6470292d72b0f144cd093": {
      "model_module": "@jupyter-widgets/controls",
      "model_module_version": "1.5.0",
      "model_name": "HTMLModel",
      "state": {
       "layout": "IPY_MODEL_a624ffe7b75641748bc6731ccc707536",
       "style": "IPY_MODEL_066d8e0e247c485da95ec714abf59ab6",
       "value": "<style>p{word-wrap: break-word}</style> <p>Once a code cell is collapsed, there is no way to ever see it again! </p>"
      }
     },
     "ddc132615ed941b9be7417ebd68161de": {
      "model_module": "@jupyter-widgets/controls",
      "model_module_version": "1.5.0",
      "model_name": "CheckboxModel",
      "state": {
       "disabled": false,
       "layout": "IPY_MODEL_766354a1232449b18f8deaa4fc29daaa",
       "style": "IPY_MODEL_4d638704cb854fdbafb8c2fbb5518c30",
       "value": false
      }
     },
     "de1716ea34ee4ebbace9d78dace5b25c": {
      "model_module": "@jupyter-widgets/base",
      "model_module_version": "1.2.0",
      "model_name": "LayoutModel",
      "state": {
       "align_items": "stretch",
       "display": "flex",
       "flex_flow": "row wrap",
       "width": "auto"
      }
     },
     "def5af16ec8248e19e4e5274230ecc8d": {
      "model_module": "@jupyter-widgets/controls",
      "model_module_version": "1.5.0",
      "model_name": "ButtonModel",
      "state": {
       "description": "Show answer",
       "disabled": true,
       "layout": "IPY_MODEL_3c91934f133249ef996ca3b8002900bb",
       "style": "IPY_MODEL_d9ee82d7db7843b585a2ad218dc28553"
      }
     },
     "df614138e8cc4322ad5f324622a6e77e": {
      "model_module": "@jupyter-widgets/base",
      "model_module_version": "1.2.0",
      "model_name": "LayoutModel",
      "state": {}
     },
     "e12b8836ac554b408fed93f6f56d475f": {
      "model_module": "@jupyter-widgets/controls",
      "model_module_version": "1.5.0",
      "model_name": "DescriptionStyleModel",
      "state": {
       "description_width": "initial"
      }
     },
     "e13aa1190734435da0b22923b198dccf": {
      "model_module": "@jupyter-widgets/controls",
      "model_module_version": "1.5.0",
      "model_name": "ButtonStyleModel",
      "state": {
       "button_color": "#4DD0E1"
      }
     },
     "e1b25473eef5497b932b96ac7fd7db5e": {
      "model_module": "@jupyter-widgets/base",
      "model_module_version": "1.2.0",
      "model_name": "LayoutModel",
      "state": {
       "width": "30px"
      }
     },
     "e1f547962d2b4e3384a5b9f7858a90a4": {
      "model_module": "@jupyter-widgets/controls",
      "model_module_version": "1.5.0",
      "model_name": "ButtonModel",
      "state": {
       "description": "Show answer",
       "disabled": true,
       "layout": "IPY_MODEL_495176dc8d024d1a93fdd3d82dd5610c",
       "style": "IPY_MODEL_9ad401f7658844d5a9a8d0d2f115d8ad"
      }
     },
     "e30ece5a0384481fae7001acc25544e9": {
      "model_module": "@jupyter-widgets/base",
      "model_module_version": "1.2.0",
      "model_name": "LayoutModel",
      "state": {}
     },
     "e34c808fbdbb4d7cb81d832ff8c30f24": {
      "model_module": "@jupyter-widgets/controls",
      "model_module_version": "1.5.0",
      "model_name": "DescriptionStyleModel",
      "state": {
       "description_width": "initial"
      }
     },
     "e4c45c9c2b4449eba2754fcf142cc565": {
      "model_module": "@jupyter-widgets/controls",
      "model_module_version": "1.5.0",
      "model_name": "DescriptionStyleModel",
      "state": {
       "description_width": "initial"
      }
     },
     "e4fb81cd3bf44bd496674f366d7c91f9": {
      "model_module": "@jupyter-widgets/controls",
      "model_module_version": "1.5.0",
      "model_name": "HBoxModel",
      "state": {
       "children": [
        "IPY_MODEL_ddc132615ed941b9be7417ebd68161de",
        "IPY_MODEL_791be69b1ed44ba09374bffb1bf05a32"
       ],
       "layout": "IPY_MODEL_86ee56899a3445dcbb4775c3a8804810"
      }
     },
     "e5a657821beb4df08886f3d15c38c293": {
      "model_module": "@jupyter-widgets/controls",
      "model_module_version": "1.5.0",
      "model_name": "HTMLModel",
      "state": {
       "layout": "IPY_MODEL_8a2106989c4644dd84819be88994cce2",
       "style": "IPY_MODEL_dc60bf9a5c114851aa66d9187abb50f3",
       "value": "<style>p{word-wrap: break-word}</style> <p>Solutions can be run directly from the cell once the accordion is opened. </p>"
      }
     },
     "e5b2adfb494a43d69932e1446e70f4e9": {
      "model_module": "@jupyter-widgets/controls",
      "model_module_version": "1.5.0",
      "model_name": "HTMLModel",
      "state": {
       "layout": "IPY_MODEL_b1b7dbf1b2a643359ee809915cfe0c3b",
       "style": "IPY_MODEL_9ca7b333603943508aba5e310132c0f0",
       "value": "<style>p{word-wrap: break-word}</style> <p>bottom-up </p>"
      }
     },
     "e5c965eec2e14e9db394b42a9a8cd498": {
      "model_module": "@jupyter-widgets/base",
      "model_module_version": "1.2.0",
      "model_name": "LayoutModel",
      "state": {}
     },
     "e6451abd10e144fda5aa83b3bed4e487": {
      "model_module": "@jupyter-widgets/controls",
      "model_module_version": "1.5.0",
      "model_name": "LabelModel",
      "state": {
       "layout": "IPY_MODEL_2fe97f4f5ebb4413be9f43e5691ded0f",
       "style": "IPY_MODEL_7c4c476363754ed7b3eeabfd0ecdbc8d"
      }
     },
     "e6f81692635b4b96b95ce967daa0682a": {
      "model_module": "@jupyter-widgets/controls",
      "model_module_version": "1.5.0",
      "model_name": "HBoxModel",
      "state": {
       "children": [
        "IPY_MODEL_10f30005c0124ec9a2aca8f524502b52",
        "IPY_MODEL_fca0cdc4dba54f6399ae536834cf00cc"
       ],
       "layout": "IPY_MODEL_0765e9fa223940ec8b29b26f1d8b110a"
      }
     },
     "e7cf9969739643e0ae0ef6937f0e5fe1": {
      "model_module": "@jupyter-widgets/controls",
      "model_module_version": "1.5.0",
      "model_name": "LabelModel",
      "state": {
       "layout": "IPY_MODEL_27e6588dc52b44fcad2087aae1aeff71",
       "style": "IPY_MODEL_f38e3257781b4a55a43a4e40999af23a"
      }
     },
     "e7f8237d37964c71a88cdda144f0a3fd": {
      "model_module": "@jupyter-widgets/controls",
      "model_module_version": "1.5.0",
      "model_name": "DescriptionStyleModel",
      "state": {
       "description_width": ""
      }
     },
     "e8ea9d0f728445c795777f193307e291": {
      "model_module": "@jupyter-widgets/base",
      "model_module_version": "1.2.0",
      "model_name": "LayoutModel",
      "state": {}
     },
     "e9503980ac794f889d11b63a7a2b3dee": {
      "model_module": "@jupyter-widgets/controls",
      "model_module_version": "1.5.0",
      "model_name": "HTMLModel",
      "state": {
       "layout": "IPY_MODEL_e8ea9d0f728445c795777f193307e291",
       "style": "IPY_MODEL_af7e509cd4aa4170897e84fc88a69cc7",
       "value": "<style>p{word-wrap: break-word}</style> <p>02.02.2020 </p>"
      }
     },
     "eab049b71c064d24920878ea39952360": {
      "model_module": "@jupyter-widgets/base",
      "model_module_version": "1.2.0",
      "model_name": "LayoutModel",
      "state": {
       "align_items": "stretch",
       "display": "flex",
       "flex_flow": "row wrap",
       "width": "auto"
      }
     },
     "eb29d30728eb43dfb62e2d7faae3d9d1": {
      "model_module": "@jupyter-widgets/controls",
      "model_module_version": "1.5.0",
      "model_name": "DescriptionStyleModel",
      "state": {
       "description_width": ""
      }
     },
     "ebc0020211c645ee8c8313aca771f5a4": {
      "model_module": "@jupyter-widgets/controls",
      "model_module_version": "1.5.0",
      "model_name": "DescriptionStyleModel",
      "state": {
       "description_width": "initial"
      }
     },
     "ebcaee1a2e084c9b8c49a623a4db2028": {
      "model_module": "@jupyter-widgets/base",
      "model_module_version": "1.2.0",
      "model_name": "LayoutModel",
      "state": {}
     },
     "ec0dab992de644d7aa615435e3ca4254": {
      "model_module": "@jupyter-widgets/controls",
      "model_module_version": "1.5.0",
      "model_name": "DescriptionStyleModel",
      "state": {
       "description_width": ""
      }
     },
     "ed3e26e4e061446b924a19c6d736fe99": {
      "model_module": "@jupyter-widgets/controls",
      "model_module_version": "1.5.0",
      "model_name": "HBoxModel",
      "state": {
       "children": [
        "IPY_MODEL_6f7832884b344532ba89b5af3e1a6828",
        "IPY_MODEL_e5b2adfb494a43d69932e1446e70f4e9"
       ],
       "layout": "IPY_MODEL_0e9e9d2fb17348b8947c58a5b89f2438"
      }
     },
     "ed7708867d9f46d69588d40610477978": {
      "model_module": "@jupyter-widgets/controls",
      "model_module_version": "1.5.0",
      "model_name": "ButtonModel",
      "state": {
       "description": "Submit",
       "layout": "IPY_MODEL_60928f92e33c4d3eb9f6f0842120c5f4",
       "style": "IPY_MODEL_55fc1920d77248a5ad8f68f543b943eb"
      }
     },
     "ee33d70e5bb940e8904f531ebf65c3be": {
      "model_module": "@jupyter-widgets/controls",
      "model_module_version": "1.5.0",
      "model_name": "DescriptionStyleModel",
      "state": {
       "description_width": ""
      }
     },
     "efec71d0d95a4f57ad470987d184739b": {
      "model_module": "@jupyter-widgets/base",
      "model_module_version": "1.2.0",
      "model_name": "LayoutModel",
      "state": {}
     },
     "f05acd2be986438e92ea95be081a1fb6": {
      "model_module": "@jupyter-widgets/controls",
      "model_module_version": "1.5.0",
      "model_name": "DescriptionStyleModel",
      "state": {
       "description_width": ""
      }
     },
     "f05bd9ea9dad4b24845833c7ffe0640e": {
      "model_module": "@jupyter-widgets/controls",
      "model_module_version": "1.5.0",
      "model_name": "HTMLModel",
      "state": {
       "layout": "IPY_MODEL_4ea55a6e12424b998379843eff5564d1",
       "style": "IPY_MODEL_3d4cce7f249645f89619bb9b88cb3b67",
       "value": "<style>p{word-wrap: break-word}</style> <p>aviva </p>"
      }
     },
     "f07ae9b4b234419599d08924b6662d49": {
      "model_module": "@jupyter-widgets/controls",
      "model_module_version": "1.5.0",
      "model_name": "CheckboxModel",
      "state": {
       "disabled": false,
       "layout": "IPY_MODEL_59e3bb1d5866410192d80981e55f6775",
       "style": "IPY_MODEL_4cf950be1718485a87356d9da9102312",
       "value": false
      }
     },
     "f09ce9f4c436490492a9c9ec34519f99": {
      "model_module": "@jupyter-widgets/controls",
      "model_module_version": "1.5.0",
      "model_name": "LabelModel",
      "state": {
       "layout": "IPY_MODEL_b66b31ebeda1413f94f86dd9d35371a6",
       "style": "IPY_MODEL_5e87c9145e2f4274ab397ee85af383a5"
      }
     },
     "f203735bfefd46ce99b01f512556ad78": {
      "model_module": "@jupyter-widgets/controls",
      "model_module_version": "1.5.0",
      "model_name": "HBoxModel",
      "state": {
       "children": [
        "IPY_MODEL_2ebd401e5c814103b381963a65ce3e53",
        "IPY_MODEL_e4fb81cd3bf44bd496674f366d7c91f9"
       ],
       "layout": "IPY_MODEL_67e0b7d558c144adb2f73b7322db1516"
      }
     },
     "f268e0de380c497ba70f3ec4ec4f72cd": {
      "model_module": "@jupyter-widgets/base",
      "model_module_version": "1.2.0",
      "model_name": "LayoutModel",
      "state": {}
     },
     "f38e3257781b4a55a43a4e40999af23a": {
      "model_module": "@jupyter-widgets/controls",
      "model_module_version": "1.5.0",
      "model_name": "DescriptionStyleModel",
      "state": {
       "description_width": ""
      }
     },
     "f41565fd6d384168ac9d3e62d30cadb3": {
      "model_module": "@jupyter-widgets/base",
      "model_module_version": "1.2.0",
      "model_name": "LayoutModel",
      "state": {
       "align_items": "stretch",
       "display": "flex",
       "flex_flow": "row wrap",
       "width": "auto"
      }
     },
     "f4b7f08426f3468784660f2075d32e34": {
      "model_module": "@jupyter-widgets/controls",
      "model_module_version": "1.5.0",
      "model_name": "HBoxModel",
      "state": {
       "children": [
        "IPY_MODEL_9069efc3a626432699740a4761d913fa",
        "IPY_MODEL_c68b2b4fde4840ce9265641497c681d5"
       ],
       "layout": "IPY_MODEL_7e093ecf92b141939cae6a5ebcc846cf"
      }
     },
     "f4c141fe68db469399d4c8c87d20fee4": {
      "model_module": "@jupyter-widgets/base",
      "model_module_version": "1.2.0",
      "model_name": "LayoutModel",
      "state": {
       "display": "none"
      }
     },
     "f510cb50831c425ab76214ac2d883384": {
      "model_module": "@jupyter-widgets/controls",
      "model_module_version": "1.5.0",
      "model_name": "HTMLModel",
      "state": {
       "layout": "IPY_MODEL_7d3107df0c234d7c805aee8602a26575",
       "style": "IPY_MODEL_89962747846547aab853798f57d4f3ce",
       "value": "<style>p{word-wrap: break-word}</style> <p>live on time emit no evil </p>"
      }
     },
     "f6f99e2477814679a9d187b10cb5c77a": {
      "model_module": "@jupyter-widgets/base",
      "model_module_version": "1.2.0",
      "model_name": "LayoutModel",
      "state": {}
     },
     "f91a9ae1e4704e43ae7c2ade456c25e6": {
      "model_module": "@jupyter-widgets/base",
      "model_module_version": "1.2.0",
      "model_name": "LayoutModel",
      "state": {
       "width": "30px"
      }
     },
     "f94dfff6c8ad42178d3bc8aa52ed0dee": {
      "model_module": "@jupyter-widgets/base",
      "model_module_version": "1.2.0",
      "model_name": "LayoutModel",
      "state": {}
     },
     "f952ae08f05c41e8ad6bc71912c0c78c": {
      "model_module": "@jupyter-widgets/base",
      "model_module_version": "1.2.0",
      "model_name": "LayoutModel",
      "state": {
       "align_items": "stretch",
       "display": "flex",
       "flex_flow": "row wrap",
       "width": "auto"
      }
     },
     "f955937c0fa54a65a123ac89eee83d42": {
      "model_module": "@jupyter-widgets/controls",
      "model_module_version": "1.5.0",
      "model_name": "LabelModel",
      "state": {
       "layout": "IPY_MODEL_05c4e98d549e4a4bbec0ed9143aa0a82",
       "style": "IPY_MODEL_2c8b7ce42d8543d089ff0e433d19b57d"
      }
     },
     "f9d17158276849c9a6b5c0bffebdcb7a": {
      "model_module": "@jupyter-widgets/controls",
      "model_module_version": "1.5.0",
      "model_name": "CheckboxModel",
      "state": {
       "disabled": false,
       "layout": "IPY_MODEL_e1b25473eef5497b932b96ac7fd7db5e",
       "style": "IPY_MODEL_2d3938f588ac46df860e02b01fb26ae9",
       "value": false
      }
     },
     "fba7f4854a8b4598b602f7f4842427bc": {
      "model_module": "@jupyter-widgets/base",
      "model_module_version": "1.2.0",
      "model_name": "LayoutModel",
      "state": {
       "align_items": "stretch",
       "display": "flex",
       "flex_flow": "row wrap",
       "width": "auto"
      }
     },
     "fbd38bd12eb042e39995a71a8546d549": {
      "model_module": "@jupyter-widgets/controls",
      "model_module_version": "1.5.0",
      "model_name": "HBoxModel",
      "state": {
       "children": [
        "IPY_MODEL_7d9be5b58f0b49d6a6783622aad62fbd",
        "IPY_MODEL_100b2072f3ee419eb20219369b447186"
       ],
       "layout": "IPY_MODEL_b0d5167a69404ef0bcb46ca22228852e"
      }
     },
     "fca0cdc4dba54f6399ae536834cf00cc": {
      "model_module": "@jupyter-widgets/controls",
      "model_module_version": "1.5.0",
      "model_name": "HBoxModel",
      "state": {
       "children": [
        "IPY_MODEL_44961874461f48148d65cae32d62e0c8",
        "IPY_MODEL_4de4c25718954cfc8daafcd4ca888652"
       ],
       "layout": "IPY_MODEL_4e285c8f8db54e41b09e37003a4fa0bb"
      }
     },
     "fd03496247104655b24c23763b3b1f84": {
      "model_module": "@jupyter-widgets/controls",
      "model_module_version": "1.5.0",
      "model_name": "CheckboxModel",
      "state": {
       "disabled": false,
       "layout": "IPY_MODEL_5298944dc9ca42c1a232f74add7902c7",
       "style": "IPY_MODEL_ebc0020211c645ee8c8313aca771f5a4",
       "value": false
      }
     },
     "ffaa4eb64d894ff4a61f1ca0fffd1375": {
      "model_module": "@jupyter-widgets/controls",
      "model_module_version": "1.5.0",
      "model_name": "HTMLModel",
      "state": {
       "layout": "IPY_MODEL_e30ece5a0384481fae7001acc25544e9",
       "style": "IPY_MODEL_c9e22ec555ce4bfdab8579e3b34adfa1",
       "value": "<style>p{word-wrap: break-word}</style> <p>In dynamic programming, the order of performance of operations is not at all important. </p>"
      }
     },
     "ffb4fd76a1df40fcafef19106bd647c0": {
      "model_module": "@jupyter-widgets/controls",
      "model_module_version": "1.5.0",
      "model_name": "HBoxModel",
      "state": {
       "children": [
        "IPY_MODEL_f07ae9b4b234419599d08924b6662d49",
        "IPY_MODEL_3620b0c2f130412b8ce100d795ca5a69"
       ],
       "layout": "IPY_MODEL_6f8807411fe14a928630e129ed665ece"
      }
     },
     "ffcf1e2c6ce644c49216572569f02788": {
      "model_module": "@jupyter-widgets/controls",
      "model_module_version": "1.5.0",
      "model_name": "CheckboxModel",
      "state": {
       "disabled": false,
       "layout": "IPY_MODEL_7d5807217461468a9d45768bb8be4cad",
       "style": "IPY_MODEL_e34c808fbdbb4d7cb81d832ff8c30f24",
       "value": false
      }
     },
     "fff12c06494f4a3a86b0758daa872896": {
      "model_module": "@jupyter-widgets/controls",
      "model_module_version": "1.5.0",
      "model_name": "HTMLModel",
      "state": {
       "layout": "IPY_MODEL_b8c8cc82463b407eb17bfea19e84db26",
       "style": "IPY_MODEL_9c2d51b238ba435d98e355374cbb5064",
       "value": "<style>p{word-wrap: break-word}</style> <p>You can quickly collapse a code cell by clicking the selection bar to its left. </p>"
      }
     }
    },
    "version_major": 2,
    "version_minor": 0
   }
  }
 },
 "nbformat": 4,
 "nbformat_minor": 4
}
