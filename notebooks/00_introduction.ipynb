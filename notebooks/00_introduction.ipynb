{
 "cells": [
  {
   "cell_type": "markdown",
   "metadata": {},
   "source": [
    "# Lesson 1: Introduction to Dynamic Programming <a class=\"tocSkip\">"
   ]
  },
  {
   "cell_type": "markdown",
   "metadata": {},
   "source": [
    "Welcome to the first lesson of Magic of Dynamic Programming. By the end of this course you will know a step-by-step method to design dynamic programming algorithms to solve the type of problems you get in algorithm classes and job interviews."
   ]
  },
  {
   "cell_type": "markdown",
   "metadata": {},
   "source": [
    "## This Classroom\n",
    "\n",
    "The course consists of these notebooks. Most of the content is delivered through __text__, __diagrams__ and __quizzes__. Some of the notebooks contain a __video__ to motivate the topic."
   ]
  },
  {
   "cell_type": "markdown",
   "metadata": {},
   "source": [
    "<div class=\"exercise exercise-info\">\n",
    "    <input type=\"checkbox\" id=\"see_quiz\" >\n",
    "    <label for=\"see_quiz\"> Do you see the <b>multiple choice quizzes</b> below?\"</label><br>\n",
    "</div>"
   ]
  },
  {
   "cell_type": "markdown",
   "metadata": {},
   "source": [
    "Quizzes should appear in blue (or is that cyan?) boxes like the one above.\n",
    "\n",
    "If you don't see the quizzes click on __Run All Cells__ from the __Run__ menu and wait a few seconds for the quizzes to load.\n",
    "\n",
    "Now let's check that you know how to run the exercises.. please complete the exercise below 😉 "
   ]
  },
  {
   "cell_type": "markdown",
   "metadata": {},
   "source": [
    "<div class=\"exercise exercise-info\">\n",
    "\n",
    "In order to execute a cell, select the cell by clicking it. Then press <code>Ctrl-Enter</code>. <br><br> Using <code>Shift-Enter</code> instead of Ctrl-Enter will execute the code and move to the next cell at the same time.<br><br>\n",
    "<hr>    \n",
    "<b>Exercise</b>: uncomment one line of code in the next cell, and run the cell to see what the cow says.\n",
    "</div>"
   ]
  },
  {
   "cell_type": "code",
   "execution_count": 1,
   "metadata": {
    "pycharm": {
     "name": "#%%\n"
    }
   },
   "outputs": [
    {
     "name": "stdout",
     "output_type": "stream",
     "text": [
      "+-------------------------------------------------+\n",
      "|                                                 |\n",
      "|                                                 |\n",
      "+-------------------------------------------------+\n",
      "        \\   ^__^\n",
      "         \\  (oo)\\_______\n",
      "            (__)\\       )\\/\\\n",
      "                 ||----w |\n",
      "                 ||     ||\n"
     ]
    }
   ],
   "source": [
    "print('+-------------------------------------------------+'); print('|                                                 |')\n",
    "X = [68, 121, 110, 97, 109 ,105, 99, 32, 80 ,114, 111, 103, 114, 97, 109, 111, 111 ,45, 105 ,110, 103, 32, 105, 115, 32 ,109, 121, 32, 102, 97, 118 ,111, 117, 114, 105, 116, 101, 32 ,115 ,117, 98, 106, 101, 99, 116, 33]\n",
    "cowsay ='| '\n",
    "for x in X:\n",
    "    cowsay+= chr(x)\n",
    "cowsay += '  |'\n",
    "#print (cowsay)\n",
    "print('|                                                 |');print('+-------------------------------------------------+');print('        \\\\   ^__^');print('         \\\\  (oo)\\\\_______');print('            (__)\\\\       )\\\\/\\\\');print('                 ||----w |');print('                 ||     ||')                                                     "
   ]
  },
  {
   "cell_type": "markdown",
   "metadata": {},
   "source": [
    "<div class=\"exercise exercise-info\">\n",
    "    From the pane to the left, click on the Table of Contents icon to see the notebook structure and and navigate within the notebook. Click on the Folder icon to navigate to other notebooks.\n",
    "</div>"
   ]
  },
  {
   "cell_type": "markdown",
   "metadata": {},
   "source": [
    "One more important note: Some of the code in these notebooks is for rendering the quizzes and such. I have hidden that type of code and left exercise starter code visible. You can always show or hide code cells by __Collapse Selected Cells__ from the __View__ menu or clicking to the left of a cell to hide it and on the __ellipses ...__ to show it."
   ]
  },
  {
   "cell_type": "code",
   "execution_count": 2,
   "metadata": {
    "jupyter": {
     "source_hidden": true
    }
   },
   "outputs": [
    {
     "data": {
      "application/vnd.jupyter.widget-view+json": {
       "model_id": "2afc98523d7d4da78732d4a4d55875e9",
       "version_major": 2,
       "version_minor": 0
      },
      "text/plain": [
       "VBox(box_style='info', children=(HBox(children=(HTML(value='<style>p{word-wrap: break-word}</style> <p>Check a…"
      ]
     },
     "metadata": {},
     "output_type": "display_data"
    }
   ],
   "source": [
    "%run \"quizzes/quiz.py\" \"quizzes/00/where_are_the_solutions.json\""
   ]
  },
  {
   "cell_type": "markdown",
   "metadata": {},
   "source": [
    "## What is Dynamic Programming?"
   ]
  },
  {
   "cell_type": "markdown",
   "metadata": {},
   "source": [
    "<figure>\n",
    "    <img src=\"../images/bellman_front_page.png\" width=\"300px\" alt=\"An Introduction to the Theory of Dynamic Programming\"/>\n",
    "    <figcaption><b>Figure 1.</b> Front page of 'An Introduction to the Theory of Dynamic Programming' (Bellman, 1953)</figcaption>\n",
    "</figure>"
   ]
  },
  {
   "cell_type": "markdown",
   "metadata": {
    "pycharm": {
     "name": "#%% md\n"
    }
   },
   "source": [
    "#### The origin of the term 'dynamic programming\n",
    "Richard Bellman was a professor of mathematics who worked for the RAND corporation in the 1950's. It's interesting to read the professor's own explanation of the term dynamic programming.\n",
    "<figure>\n",
    "    <img src=\"../images/bellman_preface_highlighted.png\" width = \"700px\"/>\n",
    "    <figcaption><b>Figure 2.</b> Screenshot from preface of 'An Introduction to the Theory of Dynamic Programming' (Bellman, 1953)</figcaption>\n",
    "</figure>"
   ]
  },
  {
   "cell_type": "markdown",
   "metadata": {
    "pycharm": {
     "name": "#%% md\n"
    }
   },
   "source": [
    "%run \"quizzes/quiz.py\" \"quizzes/00/bellman.json\""
   ]
  },
  {
   "cell_type": "markdown",
   "metadata": {},
   "source": [
    "### Sum of n numbers\n",
    "When solving dynamic programming problems, you'll be turning top-down algorithms into **bottom-up** ones. So to limber up, let's start by practicing the other direction: In the following exercise you'll practice turning an algorithm that you _usually_ solve bottom-up into **top-down**!"
   ]
  },
  {
   "cell_type": "code",
   "execution_count": 3,
   "metadata": {
    "init_cell": true,
    "jupyter": {
     "source_hidden": true
    },
    "pycharm": {
     "name": "#%%\n"
    }
   },
   "outputs": [
    {
     "data": {
      "image/jpeg": "[encoded data removed]",
      "text/html": [
       "\n",
       "        <iframe\n",
       "            width=\"400\"\n",
       "            height=\"300\"\n",
       "            src=\"https://www.youtube.com/embed/roqumrTB9g0\"\n",
       "            frameborder=\"0\"\n",
       "            allowfullscreen\n",
       "        ></iframe>\n",
       "        "
      ],
      "text/plain": [
       "<IPython.lib.display.YouTubeVideo at 0x25a79f49ac8>"
      ]
     },
     "execution_count": 3,
     "metadata": {},
     "output_type": "execute_result"
    }
   ],
   "source": [
    "from IPython.display import YouTubeVideo\n",
    "YouTubeVideo('roqumrTB9g0')"
   ]
  },
  {
   "cell_type": "markdown",
   "metadata": {},
   "source": [
    "<div class=\"exercise exercise-info\">\n",
    "    Write a recursive function in Python to add a list of numbers. For example, if your list is {3, 1, 4}, the algorithm will output 8.\n",
    "<div    "
   ]
  },
  {
   "cell_type": "code",
   "execution_count": 4,
   "metadata": {
    "pycharm": {
     "name": "#%%\n"
    }
   },
   "outputs": [],
   "source": [
    "def sum(numbers):\n",
    "\n",
    "    #####################\n",
    "    # YOUR CODE HERE    #\n",
    "    #####################\n",
    "\n",
    "    return False\n",
    "\n"
   ]
  },
  {
   "cell_type": "code",
   "execution_count": 5,
   "metadata": {
    "pycharm": {
     "name": "#%%\n"
    }
   },
   "outputs": [
    {
     "name": "stdout",
     "output_type": "stream",
     "text": [
      "False\n"
     ]
    }
   ],
   "source": [
    "# unit tests\n",
    "v = [3, 1, 4, 5, 9, 2, 6]\n",
    "print (sum(v))"
   ]
  },
  {
   "cell_type": "markdown",
   "metadata": {
    "pycharm": {
     "name": "#%% md\n"
    }
   },
   "source": [
    "### Check if a given string is a palindrome\n",
    "\n",
    "A string [palindrome](https://en.wikipedia.org/wiki/Palindrome) is a string that is exactly the same read backward as forward."
   ]
  },
  {
   "cell_type": "code",
   "execution_count": 6,
   "metadata": {
    "hide_input": false,
    "init_cell": true,
    "jupyter": {
     "source_hidden": true
    },
    "pycharm": {
     "name": "#%%\n"
    }
   },
   "outputs": [
    {
     "data": {
      "application/vnd.jupyter.widget-view+json": {
       "model_id": "86e4767cec8148009f942fb1a6518e99",
       "version_major": 2,
       "version_minor": 0
      },
      "text/plain": [
       "VBox(box_style='info', children=(HBox(children=(HTML(value='<style>p{word-wrap: break-word}</style> <p>Which o…"
      ]
     },
     "metadata": {},
     "output_type": "display_data"
    }
   ],
   "source": [
    "%run \"quizzes/quiz.py\" \"quizzes/00/palindrome_strings.json\""
   ]
  },
  {
   "cell_type": "markdown",
   "metadata": {
    "pycharm": {
     "name": "#%% md\n"
    }
   },
   "source": [
    "**An algorithm for is_palindrome:** We could test for whether a string with n characters is a palindrome by running along the string simultaneously from each end, using a 'left' pointer and a 'right' pointer until the pointers cross. At each step check if the characters under the left and right pointers match - if they don't: return false. If we get to the middle of the string and all the characters matched: return true."
   ]
  },
  {
   "cell_type": "code",
   "execution_count": 7,
   "metadata": {
    "init_cell": true,
    "jupyter": {
     "source_hidden": true
    },
    "pycharm": {
     "name": "#%%\n"
    }
   },
   "outputs": [
    {
     "data": {
      "application/vnd.jupyter.widget-view+json": {
       "model_id": "3defba55f5a54729aa288c840e4d1ade",
       "version_major": 2,
       "version_minor": 0
      },
      "text/plain": [
       "VBox(box_style='info', children=(HBox(children=(HTML(value='<style>p{word-wrap: break-word}</style> <p>Which t…"
      ]
     },
     "metadata": {},
     "output_type": "display_data"
    }
   ],
   "source": [
    "%run \"quizzes/quiz.py\" \"quizzes/00/palindrome_iterative.json\""
   ]
  },
  {
   "cell_type": "markdown",
   "metadata": {
    "deletable": false
   },
   "source": [
    "<div class=\"exercise exercise-info\">\n",
    "Now, as an exercise, write a _recursive_ function to check if a given string is a palindrome. The difference is subtle but important, so give it a try!\n",
    "<div>    "
   ]
  },
  {
   "cell_type": "code",
   "execution_count": 8,
   "metadata": {
    "pycharm": {
     "name": "#%%\n"
    }
   },
   "outputs": [],
   "source": [
    "def is_palindrome(s):\n",
    "\n",
    "    #####################\n",
    "    # YOUR CODE HERE    #\n",
    "    #####################\n",
    "\n",
    "    return False"
   ]
  },
  {
   "cell_type": "code",
   "execution_count": 9,
   "metadata": {
    "pycharm": {
     "name": "#%%\n"
    }
   },
   "outputs": [],
   "source": [
    "# sample unit tests\n",
    "tests = ['', 'a', 'abba', 'imma']\n",
    "expected = [True, True, True, False]\n",
    "actual = [is_palindrome(s) for s in tests]\n",
    "# assert(actual == expected)"
   ]
  },
  {
   "cell_type": "markdown",
   "metadata": {},
   "source": [
    "### Solutions"
   ]
  },
  {
   "cell_type": "markdown",
   "metadata": {
    "deletable": false,
    "pycharm": {
     "name": "#%% md\n"
    }
   },
   "source": [
    "<div class=\"exercise exercise-warning\"><details><summary>Sum of n numbers</summary>\n",
    "    \n",
    "```python   \n",
    "    # %load solutions/00/sum_n_numbers.py\n",
    "    def sum(numbers):\n",
    "\n",
    "        n = len(numbers)\n",
    "        if n <= 0:\n",
    "            return 0\n",
    "        return sum(numbers[0: n - 1]) + numbers[n - 1]\n",
    "\n",
    "```\n",
    "</details></div>"
   ]
  },
  {
   "cell_type": "markdown",
   "metadata": {},
   "source": [
    "<div class=\"exercise exercise-warning\"><details><summary>Is the string a palindrome?</summary>\n",
    "\n",
    "```python\n",
    "    # %load solutions/00/is_palindrome.py\n",
    "    def is_palindrome(s):\n",
    "\n",
    "        n = len(s)\n",
    "\n",
    "        if n == 0 or n == 1:\n",
    "            return 1\n",
    "        return s[0] == s[n - 1] and is_palindrome(s[1:n - 1])\n",
    "\n",
    "```\n",
    "\n",
    "</details></div>"
   ]
  }
 ],
 "metadata": {
  "celltoolbar": "Edit Metadata",
  "kernelspec": {
   "display_name": "Python 3",
   "language": "python",
   "name": "python3"
  },
  "language_info": {
   "codemirror_mode": {
    "name": "ipython",
    "version": 3
   },
   "file_extension": ".py",
   "mimetype": "text/x-python",
   "name": "python",
   "nbconvert_exporter": "python",
   "pygments_lexer": "ipython3",
   "version": "3.7.6"
  },
  "latex_envs": {
   "LaTeX_envs_menu_present": true,
   "autoclose": false,
   "autocomplete": true,
   "bibliofile": "biblio.bib",
   "cite_by": "apalike",
   "current_citInitial": 1,
   "eqLabelWithNumbers": true,
   "eqNumInitial": 1,
   "hotkeys": {
    "equation": "Ctrl-E",
    "itemize": "Ctrl-I"
   },
   "labels_anchors": false,
   "latex_user_defs": false,
   "report_style_numbering": false,
   "user_envs_cfg": false
  },
  "toc": {
   "base_numbering": "",
   "nav_menu": {},
   "number_sections": false,
   "sideBar": true,
   "skip_h1_title": true,
   "title_cell": "Table of Contents",
   "title_sidebar": "Contents",
   "toc_cell": false,
   "toc_position": {
    "height": "calc(100% - 180px)",
    "left": "10px",
    "top": "150px",
    "width": "380.391px"
   },
   "toc_section_display": true,
   "toc_window_display": true
  },
  "toc-showmarkdowntxt": false,
  "widgets": {
   "application/vnd.jupyter.widget-state+json": {
    "state": {
     "0151440dc5424835bfa7acfee5d21237": {
      "model_module": "@jupyter-widgets/controls",
      "model_module_version": "1.5.0",
      "model_name": "ButtonStyleModel",
      "state": {
       "button_color": "#4DD0E1"
      }
     },
     "01e45fbadf3f4ba696d354bb781fe168": {
      "model_module": "@jupyter-widgets/base",
      "model_module_version": "1.2.0",
      "model_name": "LayoutModel",
      "state": {
       "display": "flex",
       "flex_flow": "row",
       "justify_content": "space-between",
       "margin": "0 0 20px 0"
      }
     },
     "02e42c08bd78438f9525287f53caefc6": {
      "model_module": "@jupyter-widgets/controls",
      "model_module_version": "1.5.0",
      "model_name": "VBoxModel",
      "state": {
       "children": [
        "IPY_MODEL_4ddca5a1aea642b0afe62f300073d141",
        "IPY_MODEL_e938f34805924c66b75c231b35d54fbd",
        "IPY_MODEL_b8b4278ed7bd44139263787e3041840b",
        "IPY_MODEL_ed260a8d42b2449d917415981e5a48eb",
        "IPY_MODEL_c65117bbe7f34daf8d500df24cafc677",
        "IPY_MODEL_09d8a3fd7de84c40a91e2b502a314ff3",
        "IPY_MODEL_5f9a6c09206748f69abdcfe8eb649cee"
       ],
       "layout": "IPY_MODEL_b1ed03a4abac4849a6d40961dd920574"
      }
     },
     "04de17a9695c42d3b54697c90e5a7ec0": {
      "model_module": "@jupyter-widgets/controls",
      "model_module_version": "1.5.0",
      "model_name": "LabelModel",
      "state": {
       "layout": "IPY_MODEL_3a0f6ba82fd84a8b86c9211ce63920f1",
       "style": "IPY_MODEL_b7a03ddb13c3444e96a02973533281b1"
      }
     },
     "04ec17e4c2de4353a03ec37bc09af000": {
      "model_module": "@jupyter-widgets/base",
      "model_module_version": "1.2.0",
      "model_name": "LayoutModel",
      "state": {}
     },
     "04fa236634a54a30930d0c88e8b03419": {
      "model_module": "@jupyter-widgets/controls",
      "model_module_version": "1.5.0",
      "model_name": "HBoxModel",
      "state": {
       "children": [
        "IPY_MODEL_4dd70ec92fb2426794d9c7cdf6346730"
       ],
       "layout": "IPY_MODEL_b048a99ce45049ae94492671d0ba2476"
      }
     },
     "091cd0711a5541388d88d33ca827ed8c": {
      "model_module": "@jupyter-widgets/base",
      "model_module_version": "1.2.0",
      "model_name": "LayoutModel",
      "state": {}
     },
     "099f9ac169ba49169d7a47bd32400ac3": {
      "model_module": "@jupyter-widgets/base",
      "model_module_version": "1.2.0",
      "model_name": "LayoutModel",
      "state": {
       "align_items": "stretch",
       "display": "flex",
       "flex_flow": "row wrap",
       "width": "auto"
      }
     },
     "09d8a3fd7de84c40a91e2b502a314ff3": {
      "model_module": "@jupyter-widgets/controls",
      "model_module_version": "1.5.0",
      "model_name": "HBoxModel",
      "state": {
       "children": [
        "IPY_MODEL_e7c38e3a434c4e9f82a4029622790fe3",
        "IPY_MODEL_e147024f20bb42dab49464f2aacece6e"
       ],
       "layout": "IPY_MODEL_ab67662e669d40d5b31d27e1fb73868e"
      }
     },
     "0a291234a3cc49bbb17548c54b330c1e": {
      "model_module": "@jupyter-widgets/controls",
      "model_module_version": "1.5.0",
      "model_name": "LabelModel",
      "state": {
       "layout": "IPY_MODEL_2ce9b35d739e40f1b36f3d33e2888b2a",
       "style": "IPY_MODEL_9d6b618d4eb3477eb9453126a58a0314"
      }
     },
     "0a65121466014443916c46c7c204c356": {
      "model_module": "@jupyter-widgets/controls",
      "model_module_version": "1.5.0",
      "model_name": "DescriptionStyleModel",
      "state": {
       "description_width": ""
      }
     },
     "0b56ca943308494b81f40ab7332e17ba": {
      "model_module": "@jupyter-widgets/base",
      "model_module_version": "1.2.0",
      "model_name": "LayoutModel",
      "state": {}
     },
     "0e1d8d577cf84a16b3ad9b0d6af84d2c": {
      "model_module": "@jupyter-widgets/base",
      "model_module_version": "1.2.0",
      "model_name": "LayoutModel",
      "state": {}
     },
     "0ee351909df446329237223156ee8933": {
      "model_module": "@jupyter-widgets/controls",
      "model_module_version": "1.5.0",
      "model_name": "DescriptionStyleModel",
      "state": {
       "description_width": ""
      }
     },
     "0f13bea2bac34502905e4abe06ccca51": {
      "model_module": "@jupyter-widgets/controls",
      "model_module_version": "1.5.0",
      "model_name": "DescriptionStyleModel",
      "state": {
       "description_width": "initial"
      }
     },
     "110fd9537b054ca680190e3666e06830": {
      "model_module": "@jupyter-widgets/base",
      "model_module_version": "1.2.0",
      "model_name": "LayoutModel",
      "state": {
       "width": "30px"
      }
     },
     "1220f43342af4c6796ce3859b968cfe6": {
      "model_module": "@jupyter-widgets/controls",
      "model_module_version": "1.5.0",
      "model_name": "DescriptionStyleModel",
      "state": {
       "description_width": ""
      }
     },
     "146b29256d4e432cb2c04309ab4a5af8": {
      "model_module": "@jupyter-widgets/controls",
      "model_module_version": "1.5.0",
      "model_name": "CheckboxModel",
      "state": {
       "disabled": false,
       "layout": "IPY_MODEL_8004843fc6704ead9012ed46830cc072",
       "style": "IPY_MODEL_f093fc2416f244dbaf8728a4cda8b14b",
       "value": false
      }
     },
     "149e0b48c1f248728a9cc65a7765e3e1": {
      "model_module": "@jupyter-widgets/base",
      "model_module_version": "1.2.0",
      "model_name": "LayoutModel",
      "state": {
       "align_items": "stretch",
       "display": "flex",
       "flex_flow": "row wrap",
       "width": "auto"
      }
     },
     "16f82110f1df449caa322e38b714fdf3": {
      "model_module": "@jupyter-widgets/base",
      "model_module_version": "1.2.0",
      "model_name": "LayoutModel",
      "state": {
       "height": "50%",
       "margin": "0 0 0 30px",
       "width": "50%"
      }
     },
     "178b298e47194bf5ab6d18b3299c5426": {
      "model_module": "@jupyter-widgets/base",
      "model_module_version": "1.2.0",
      "model_name": "LayoutModel",
      "state": {}
     },
     "1b742adaac90471aad78bd8bec570268": {
      "model_module": "@jupyter-widgets/controls",
      "model_module_version": "1.5.0",
      "model_name": "HTMLModel",
      "state": {
       "layout": "IPY_MODEL_6111a904f6404e6d90ca47c966b18f39",
       "style": "IPY_MODEL_680880ce8bbc4f47b47b5897dbe0ce0c",
       "value": "<style>p{word-wrap: break-word}</style> <p>Solutions are hidden in an accordion style.  </p>"
      }
     },
     "1ba2dc047e9042f9874d9d4d7c2ea712": {
      "model_module": "@jupyter-widgets/base",
      "model_module_version": "1.2.0",
      "model_name": "LayoutModel",
      "state": {}
     },
     "1c00e87c232144c2a774ccaa55484a50": {
      "model_module": "@jupyter-widgets/controls",
      "model_module_version": "1.5.0",
      "model_name": "HTMLModel",
      "state": {
       "layout": "IPY_MODEL_abfc01679d5d4a61b94daa5d563c776b",
       "style": "IPY_MODEL_acef03e313264efaacad66ebec95dfc4",
       "value": "<style>p{word-wrap: break-word}</style> <p>top-down </p>"
      }
     },
     "1d3c838a00bd47a2aa58c9b2264718c7": {
      "model_module": "@jupyter-widgets/base",
      "model_module_version": "1.2.0",
      "model_name": "LayoutModel",
      "state": {
       "align_items": "stretch",
       "display": "flex",
       "flex_flow": "row wrap",
       "width": "auto"
      }
     },
     "1d62238ae11c4083a2dc04ffd5f1998c": {
      "model_module": "@jupyter-widgets/base",
      "model_module_version": "1.2.0",
      "model_name": "LayoutModel",
      "state": {
       "align_items": "stretch",
       "display": "flex",
       "flex_flow": "row wrap",
       "width": "auto"
      }
     },
     "1d78c55ef2444738ba7fcffc6f2bacd3": {
      "model_module": "@jupyter-widgets/controls",
      "model_module_version": "1.5.0",
      "model_name": "CheckboxModel",
      "state": {
       "disabled": false,
       "layout": "IPY_MODEL_59fe14cfdb494ca2a4205767cb107b24",
       "style": "IPY_MODEL_6d3242670afa4dc7b52186e66b95821d",
       "value": false
      }
     },
     "1ebc5411aac143acba87a2aa0e992ba5": {
      "model_module": "@jupyter-widgets/controls",
      "model_module_version": "1.5.0",
      "model_name": "CheckboxModel",
      "state": {
       "disabled": false,
       "layout": "IPY_MODEL_a8235927d29e45f18102ef36d6a9dbfe",
       "style": "IPY_MODEL_3ed5ef5f5bfb44468cc56d24802f9867",
       "value": false
      }
     },
     "1f99f111c22846d79e6156fcd700b0f4": {
      "model_module": "@jupyter-widgets/controls",
      "model_module_version": "1.5.0",
      "model_name": "HTMLModel",
      "state": {
       "layout": "IPY_MODEL_3f8c0c199c264d7f946d48d4fbec3db6",
       "style": "IPY_MODEL_219586ec4e2646e1879ab46471c765c1",
       "value": "<style>p{word-wrap: break-word}</style> <p>If you don't see starter code for an exercise, probably the code cell is collapsed by mistake. </p>"
      }
     },
     "209249664a154c978b5228cbc9b81230": {
      "model_module": "@jupyter-widgets/base",
      "model_module_version": "1.2.0",
      "model_name": "LayoutModel",
      "state": {}
     },
     "219586ec4e2646e1879ab46471c765c1": {
      "model_module": "@jupyter-widgets/controls",
      "model_module_version": "1.5.0",
      "model_name": "DescriptionStyleModel",
      "state": {
       "description_width": ""
      }
     },
     "21eb853ab8ec452abb056fb921d5635c": {
      "model_module": "@jupyter-widgets/base",
      "model_module_version": "1.2.0",
      "model_name": "LayoutModel",
      "state": {
       "align_items": "stretch",
       "display": "flex",
       "flex_flow": "row wrap",
       "width": "auto"
      }
     },
     "231f7bcfc60b41c7a3d3d9af86ed91b7": {
      "model_module": "@jupyter-widgets/controls",
      "model_module_version": "1.5.0",
      "model_name": "HBoxModel",
      "state": {
       "children": [
        "IPY_MODEL_1d78c55ef2444738ba7fcffc6f2bacd3",
        "IPY_MODEL_d5155d5392e84649aaced970fecd180e"
       ],
       "layout": "IPY_MODEL_21eb853ab8ec452abb056fb921d5635c"
      }
     },
     "2558e7017d38448486c74743d030ad7d": {
      "model_module": "@jupyter-widgets/controls",
      "model_module_version": "1.5.0",
      "model_name": "LabelModel",
      "state": {
       "layout": "IPY_MODEL_bc72b1a2ccea434bad0e23c7512a2749",
       "style": "IPY_MODEL_a2e3a382a8f1478a9bb1f84a4c99c95e"
      }
     },
     "28a33f6a3ee64825903230de83f0d540": {
      "model_module": "@jupyter-widgets/controls",
      "model_module_version": "1.5.0",
      "model_name": "ButtonStyleModel",
      "state": {
       "button_color": "#4DD0E1"
      }
     },
     "2afc98523d7d4da78732d4a4d55875e9": {
      "model_module": "@jupyter-widgets/controls",
      "model_module_version": "1.5.0",
      "model_name": "VBoxModel",
      "state": {
       "box_style": "info",
       "children": [
        "IPY_MODEL_7ec0a52a692245a1b11b1c969f26d130",
        "IPY_MODEL_02e42c08bd78438f9525287f53caefc6",
        "IPY_MODEL_edcdfc2e2e1440b68ea2b32fb06d7002"
       ],
       "layout": "IPY_MODEL_e406354fb44243e184c1fa3ff603a4c1"
      }
     },
     "2b40356410ff4e79949abbee582c6e48": {
      "model_module": "@jupyter-widgets/controls",
      "model_module_version": "1.5.0",
      "model_name": "DescriptionStyleModel",
      "state": {
       "description_width": ""
      }
     },
     "2b68d6f8088a430eab67c8cce5ac9f42": {
      "model_module": "@jupyter-widgets/base",
      "model_module_version": "1.2.0",
      "model_name": "LayoutModel",
      "state": {}
     },
     "2b98d3e17298412686a675a919c1e4f1": {
      "model_module": "@jupyter-widgets/controls",
      "model_module_version": "1.5.0",
      "model_name": "HBoxModel",
      "state": {
       "children": [
        "IPY_MODEL_edb38de932564acdb3aab1e9e59a844e",
        "IPY_MODEL_1c00e87c232144c2a774ccaa55484a50"
       ],
       "layout": "IPY_MODEL_bcd085e5a3e544488f73d8b58f235787"
      }
     },
     "2cab71fcd51c4839a475ce091467d63c": {
      "model_module": "@jupyter-widgets/base",
      "model_module_version": "1.2.0",
      "model_name": "LayoutModel",
      "state": {
       "width": "30px"
      }
     },
     "2ce9b35d739e40f1b36f3d33e2888b2a": {
      "model_module": "@jupyter-widgets/base",
      "model_module_version": "1.2.0",
      "model_name": "LayoutModel",
      "state": {}
     },
     "2dc1a6b07e3b4e17afd8ad52f81eca75": {
      "model_module": "@jupyter-widgets/controls",
      "model_module_version": "1.5.0",
      "model_name": "HBoxModel",
      "state": {
       "children": [
        "IPY_MODEL_146b29256d4e432cb2c04309ab4a5af8",
        "IPY_MODEL_762abf5754884a71a4deb167bee7467e"
       ],
       "layout": "IPY_MODEL_abd24abb87ff4b50a4f479e814e7bfe7"
      }
     },
     "2e5004787e134319bd0b50cbc3f1e698": {
      "model_module": "@jupyter-widgets/base",
      "model_module_version": "1.2.0",
      "model_name": "LayoutModel",
      "state": {
       "align_items": "stretch",
       "display": "flex",
       "flex_flow": "row wrap",
       "width": "auto"
      }
     },
     "30e4a61acd044fdeb94a51fa253ce768": {
      "model_module": "@jupyter-widgets/controls",
      "model_module_version": "1.5.0",
      "model_name": "LabelModel",
      "state": {
       "layout": "IPY_MODEL_65278332a5934418b205873880bd2aee",
       "style": "IPY_MODEL_85ebd6e5b7dc4162a98c3d2aa96ef2cc"
      }
     },
     "31d6b1e86f9d4aecb1a65ca8537351a5": {
      "model_module": "@jupyter-widgets/controls",
      "model_module_version": "1.5.0",
      "model_name": "CheckboxModel",
      "state": {
       "disabled": false,
       "layout": "IPY_MODEL_9d535dce2d99446aaef8a246096f6245",
       "style": "IPY_MODEL_cd350222e3f6415ab6f2832bc1a5538d",
       "value": false
      }
     },
     "3201835188a84574a06d5c217536ad0d": {
      "model_module": "@jupyter-widgets/controls",
      "model_module_version": "1.5.0",
      "model_name": "LabelModel",
      "state": {
       "layout": "IPY_MODEL_33c76e00e52648ad9d7ca9ff0e111eed",
       "style": "IPY_MODEL_8446334d894a48bf8ff650764b56bef5"
      }
     },
     "32c0b0a269f34334b42067554860a49c": {
      "model_module": "@jupyter-widgets/controls",
      "model_module_version": "1.5.0",
      "model_name": "CheckboxModel",
      "state": {
       "disabled": false,
       "layout": "IPY_MODEL_4038e9ea5d3b4be6938244e121de12c5",
       "style": "IPY_MODEL_6f56e0130a794633b1177695db37b417",
       "value": false
      }
     },
     "33c76e00e52648ad9d7ca9ff0e111eed": {
      "model_module": "@jupyter-widgets/base",
      "model_module_version": "1.2.0",
      "model_name": "LayoutModel",
      "state": {}
     },
     "3484a4b68ecd4f8f857e5ac260c46a81": {
      "model_module": "@jupyter-widgets/controls",
      "model_module_version": "1.5.0",
      "model_name": "DescriptionStyleModel",
      "state": {
       "description_width": "initial"
      }
     },
     "360c0925187b4f0f8d9de4ded359b57c": {
      "model_module": "@jupyter-widgets/controls",
      "model_module_version": "1.5.0",
      "model_name": "VBoxModel",
      "state": {
       "children": [
        "IPY_MODEL_fb3f7e0951e14da5881242515fae8d93",
        "IPY_MODEL_5aabb32ec2a0452b9bcf78d4f8e6e3b4",
        "IPY_MODEL_399e833abc214f3bb99099f2c965948a",
        "IPY_MODEL_46937ef3718c42ee98d88e77431d62a9",
        "IPY_MODEL_831c524ee297470cbee9f8af0e4a5a3a",
        "IPY_MODEL_ee95389d14df414686b3409078386204"
       ],
       "layout": "IPY_MODEL_d7a6c628947242888dc0b9019cf383d2"
      }
     },
     "37bde903f70b416ba5cf0a08c5fc4ecd": {
      "model_module": "@jupyter-widgets/controls",
      "model_module_version": "1.5.0",
      "model_name": "HBoxModel",
      "state": {
       "children": [
        "IPY_MODEL_d2f119e8c0224582bdda0ddd37bad0f6"
       ],
       "layout": "IPY_MODEL_f2b539aea5bc48ea8a5686b84b7e76c0"
      }
     },
     "37c0d94d0a0346bebe269606a3319ba0": {
      "model_module": "@jupyter-widgets/controls",
      "model_module_version": "1.5.0",
      "model_name": "DescriptionStyleModel",
      "state": {
       "description_width": ""
      }
     },
     "399e833abc214f3bb99099f2c965948a": {
      "model_module": "@jupyter-widgets/controls",
      "model_module_version": "1.5.0",
      "model_name": "HBoxModel",
      "state": {
       "children": [
        "IPY_MODEL_c2439f4bed8749278f43b704e5de5391",
        "IPY_MODEL_473a97c758af4956a3db8c3972f262eb"
       ],
       "layout": "IPY_MODEL_1d62238ae11c4083a2dc04ffd5f1998c"
      }
     },
     "3a0f6ba82fd84a8b86c9211ce63920f1": {
      "model_module": "@jupyter-widgets/base",
      "model_module_version": "1.2.0",
      "model_name": "LayoutModel",
      "state": {}
     },
     "3a2c7abf83d84725b20e8169d9921dd4": {
      "model_module": "@jupyter-widgets/controls",
      "model_module_version": "1.5.0",
      "model_name": "DescriptionStyleModel",
      "state": {
       "description_width": ""
      }
     },
     "3c6ea149266c446484651379d777dbb8": {
      "model_module": "@jupyter-widgets/base",
      "model_module_version": "1.2.0",
      "model_name": "LayoutModel",
      "state": {}
     },
     "3cacd2c079d64c618b50713de02faebd": {
      "model_module": "@jupyter-widgets/controls",
      "model_module_version": "1.5.0",
      "model_name": "LabelModel",
      "state": {
       "layout": "IPY_MODEL_f55440c5e29e44b689fd3d69d4b7d4d3",
       "style": "IPY_MODEL_59147c08cbe7441d9c5104f002303b7f"
      }
     },
     "3d46fd6f69854552a4136d3dd94f42db": {
      "model_module": "@jupyter-widgets/base",
      "model_module_version": "1.2.0",
      "model_name": "LayoutModel",
      "state": {
       "align_items": "stretch",
       "display": "flex",
       "flex_flow": "row wrap",
       "width": "auto"
      }
     },
     "3d57d1663175463b9d995aeba8bf118f": {
      "model_module": "@jupyter-widgets/base",
      "model_module_version": "1.2.0",
      "model_name": "LayoutModel",
      "state": {
       "align_items": "stretch",
       "display": "flex",
       "flex_flow": "row wrap",
       "width": "auto"
      }
     },
     "3defba55f5a54729aa288c840e4d1ade": {
      "model_module": "@jupyter-widgets/controls",
      "model_module_version": "1.5.0",
      "model_name": "VBoxModel",
      "state": {
       "box_style": "info",
       "children": [
        "IPY_MODEL_37bde903f70b416ba5cf0a08c5fc4ecd",
        "IPY_MODEL_49441a1dd38940b4b522b1dfbc74ddb9",
        "IPY_MODEL_57edc1c790ed4aa399a8068fadfbe207"
       ],
       "layout": "IPY_MODEL_b1a1c51ba1ec4f3587637ddb365e480f"
      }
     },
     "3ed5ef5f5bfb44468cc56d24802f9867": {
      "model_module": "@jupyter-widgets/controls",
      "model_module_version": "1.5.0",
      "model_name": "DescriptionStyleModel",
      "state": {
       "description_width": "initial"
      }
     },
     "3f8c0c199c264d7f946d48d4fbec3db6": {
      "model_module": "@jupyter-widgets/base",
      "model_module_version": "1.2.0",
      "model_name": "LayoutModel",
      "state": {}
     },
     "3f97b8bb8a504909b5856d0f7f3602d4": {
      "model_module": "@jupyter-widgets/base",
      "model_module_version": "1.2.0",
      "model_name": "LayoutModel",
      "state": {
       "width": "30px"
      }
     },
     "4038e9ea5d3b4be6938244e121de12c5": {
      "model_module": "@jupyter-widgets/base",
      "model_module_version": "1.2.0",
      "model_name": "LayoutModel",
      "state": {
       "width": "30px"
      }
     },
     "438dab0de8d347f8b00bcbe8d8a296f4": {
      "model_module": "@jupyter-widgets/controls",
      "model_module_version": "1.5.0",
      "model_name": "LabelModel",
      "state": {
       "layout": "IPY_MODEL_d8738a9ae9db4f8780fab78b3b8f8b3b",
       "style": "IPY_MODEL_e83b09da4cab44ab9a60b36476e7ff1c"
      }
     },
     "44e87b7e7d754344a9715e4f6867d131": {
      "model_module": "@jupyter-widgets/base",
      "model_module_version": "1.2.0",
      "model_name": "LayoutModel",
      "state": {
       "align_items": "stretch",
       "display": "flex",
       "flex_flow": "row wrap",
       "margin": "30px 0 0 0"
      }
     },
     "44f415b9ed934eb8b7382db49b8aea72": {
      "model_module": "@jupyter-widgets/base",
      "model_module_version": "1.2.0",
      "model_name": "LayoutModel",
      "state": {
       "width": "30px"
      }
     },
     "45059b1ed0eb48aaa9e12f77ec560378": {
      "model_module": "@jupyter-widgets/controls",
      "model_module_version": "1.5.0",
      "model_name": "HBoxModel",
      "state": {
       "children": [
        "IPY_MODEL_c7497eb17e794c6c831215646375c2b7",
        "IPY_MODEL_734b1224144d440a9418b5c18c4763b8",
        "IPY_MODEL_e2ec5a446d4945f3884f279b4a0001d8"
       ],
       "layout": "IPY_MODEL_44e87b7e7d754344a9715e4f6867d131"
      }
     },
     "4598ba5d83e5402f896c5ee19a3ae054": {
      "model_module": "@jupyter-widgets/controls",
      "model_module_version": "1.5.0",
      "model_name": "HTMLModel",
      "state": {
       "layout": "IPY_MODEL_2b68d6f8088a430eab67c8cce5ac9f42",
       "style": "IPY_MODEL_2b40356410ff4e79949abbee582c6e48",
       "value": "<style>p{word-wrap: break-word}</style> <p>Check all the correct statements about coding exercises and solutions </p>"
      }
     },
     "4619eec6a1cd42e1a96345ac58ba1cab": {
      "model_module": "@jupyter-widgets/base",
      "model_module_version": "1.2.0",
      "model_name": "LayoutModel",
      "state": {
       "align_items": "stretch",
       "display": "flex",
       "flex_flow": "row wrap",
       "width": "auto"
      }
     },
     "46937ef3718c42ee98d88e77431d62a9": {
      "model_module": "@jupyter-widgets/controls",
      "model_module_version": "1.5.0",
      "model_name": "HBoxModel",
      "state": {
       "children": [
        "IPY_MODEL_5df19314f1384da39ad4fc6c8382355b",
        "IPY_MODEL_69ef5805a6ab40baa5e772a53ccac3e2"
       ],
       "layout": "IPY_MODEL_7c36c94cb66a4259b98e8629c7a207b8"
      }
     },
     "473a97c758af4956a3db8c3972f262eb": {
      "model_module": "@jupyter-widgets/controls",
      "model_module_version": "1.5.0",
      "model_name": "HBoxModel",
      "state": {
       "children": [
        "IPY_MODEL_fb70e57f671646a1a08ddc3d93cac9d4",
        "IPY_MODEL_8ab0d1b150fb401a8739d782b7baae4d"
       ],
       "layout": "IPY_MODEL_3d57d1663175463b9d995aeba8bf118f"
      }
     },
     "49441a1dd38940b4b522b1dfbc74ddb9": {
      "model_module": "@jupyter-widgets/controls",
      "model_module_version": "1.5.0",
      "model_name": "VBoxModel",
      "state": {
       "children": [
        "IPY_MODEL_f4b575b55c4b42ecb96460f9bcbeb1db",
        "IPY_MODEL_c671434149f24e4f9bc57ad5270274b6",
        "IPY_MODEL_8e5b9e6ec82f47c891da039fe5e9652e",
        "IPY_MODEL_f8ddc8f0962c466e9d086a5f6532f8fb",
        "IPY_MODEL_7aa7ab9c9c1641acb96dc95b19b5e37e"
       ],
       "layout": "IPY_MODEL_52b690d00d8645b597765e18ae731bc2"
      }
     },
     "4cb377d27d7e4c9b9c9cc838f0a499d9": {
      "model_module": "@jupyter-widgets/base",
      "model_module_version": "1.2.0",
      "model_name": "LayoutModel",
      "state": {
       "display": "none"
      }
     },
     "4d795dfaa30a40c59378cfe2bf575d4e": {
      "model_module": "@jupyter-widgets/controls",
      "model_module_version": "1.5.0",
      "model_name": "HTMLModel",
      "state": {
       "layout": "IPY_MODEL_50423d4d51cd48d79a0c8f279dcde05f",
       "style": "IPY_MODEL_abf15f48587445ed9566801b52b96f8f",
       "value": "<style>p{word-wrap: break-word}</style> <p>02.02.2020 </p>"
      }
     },
     "4dd70ec92fb2426794d9c7cdf6346730": {
      "model_module": "@jupyter-widgets/controls",
      "model_module_version": "1.5.0",
      "model_name": "HTMLModel",
      "state": {
       "layout": "IPY_MODEL_0b56ca943308494b81f40ab7332e17ba",
       "style": "IPY_MODEL_7a196534f0b14abda80dfa44f0747c31",
       "value": "<style>p{word-wrap: break-word}</style> <p>Which of the following strings are palindromes? </p>"
      }
     },
     "4ddca5a1aea642b0afe62f300073d141": {
      "model_module": "@jupyter-widgets/controls",
      "model_module_version": "1.5.0",
      "model_name": "HBoxModel",
      "state": {
       "children": [
        "IPY_MODEL_b4948090166644f18754b293d95117b7",
        "IPY_MODEL_67126da703c348afa087d605be699e75"
       ],
       "layout": "IPY_MODEL_2e5004787e134319bd0b50cbc3f1e698"
      }
     },
     "4ea80e317fd0493194a790aa5a0b26a0": {
      "model_module": "@jupyter-widgets/controls",
      "model_module_version": "1.5.0",
      "model_name": "HBoxModel",
      "state": {
       "children": [
        "IPY_MODEL_9d97867d36a24d2eaec41a189939334a",
        "IPY_MODEL_bd276ffbc73842ca8f1728459c1bee84"
       ],
       "layout": "IPY_MODEL_95ba1ae0a9004252947ec969eba66538"
      }
     },
     "50423d4d51cd48d79a0c8f279dcde05f": {
      "model_module": "@jupyter-widgets/base",
      "model_module_version": "1.2.0",
      "model_name": "LayoutModel",
      "state": {}
     },
     "51baf84b113e46be84084094387e074d": {
      "model_module": "@jupyter-widgets/base",
      "model_module_version": "1.2.0",
      "model_name": "LayoutModel",
      "state": {
       "align_items": "stretch",
       "display": "flex",
       "flex_flow": "row wrap",
       "width": "auto"
      }
     },
     "52b690d00d8645b597765e18ae731bc2": {
      "model_module": "@jupyter-widgets/base",
      "model_module_version": "1.2.0",
      "model_name": "LayoutModel",
      "state": {
       "align_items": "stretch",
       "display": "flex",
       "flex_flow": "column",
       "width": "100%"
      }
     },
     "5355aa71bafd4b299eb3d9c6f98ea5fa": {
      "model_module": "@jupyter-widgets/base",
      "model_module_version": "1.2.0",
      "model_name": "LayoutModel",
      "state": {
       "align_items": "stretch",
       "display": "flex",
       "flex_flow": "row wrap",
       "width": "auto"
      }
     },
     "55b23b85e5114c21b94bac4833fe457c": {
      "model_module": "@jupyter-widgets/controls",
      "model_module_version": "1.5.0",
      "model_name": "CheckboxModel",
      "state": {
       "disabled": false,
       "layout": "IPY_MODEL_8ffaabf8be06443883557dadec1168a2",
       "style": "IPY_MODEL_8454b3e7eff74b3ca49f15b6560aaa9e",
       "value": false
      }
     },
     "570ba17521cd45d2bd48bb3a2b4287bd": {
      "model_module": "@jupyter-widgets/base",
      "model_module_version": "1.2.0",
      "model_name": "LayoutModel",
      "state": {
       "align_items": "stretch",
       "display": "flex",
       "flex_flow": "row wrap",
       "width": "auto"
      }
     },
     "57edc1c790ed4aa399a8068fadfbe207": {
      "model_module": "@jupyter-widgets/controls",
      "model_module_version": "1.5.0",
      "model_name": "HBoxModel",
      "state": {
       "children": [
        "IPY_MODEL_6e195bd716ad485eabaa27378a6fc769",
        "IPY_MODEL_c225401b5a0448a1b518c4b6949dcc1c",
        "IPY_MODEL_87f11b25d52b49a69115787badd7f8c6"
       ],
       "layout": "IPY_MODEL_bf34cfabaace44538e7f47ee5afb3787"
      }
     },
     "5851c3a8a959479c898bd6b9f9a3a5e8": {
      "model_module": "@jupyter-widgets/base",
      "model_module_version": "1.2.0",
      "model_name": "LayoutModel",
      "state": {}
     },
     "59147c08cbe7441d9c5104f002303b7f": {
      "model_module": "@jupyter-widgets/controls",
      "model_module_version": "1.5.0",
      "model_name": "DescriptionStyleModel",
      "state": {
       "description_width": ""
      }
     },
     "59fe14cfdb494ca2a4205767cb107b24": {
      "model_module": "@jupyter-widgets/base",
      "model_module_version": "1.2.0",
      "model_name": "LayoutModel",
      "state": {
       "width": "30px"
      }
     },
     "5a2d42bdf2894200a01b166cf2c38d73": {
      "model_module": "@jupyter-widgets/controls",
      "model_module_version": "1.5.0",
      "model_name": "DescriptionStyleModel",
      "state": {
       "description_width": ""
      }
     },
     "5aabb32ec2a0452b9bcf78d4f8e6e3b4": {
      "model_module": "@jupyter-widgets/controls",
      "model_module_version": "1.5.0",
      "model_name": "HBoxModel",
      "state": {
       "children": [
        "IPY_MODEL_438dab0de8d347f8b00bcbe8d8a296f4",
        "IPY_MODEL_cc4b8444ffdc44caaf742d88ebac1255"
       ],
       "layout": "IPY_MODEL_149e0b48c1f248728a9cc65a7765e3e1"
      }
     },
     "5ac8c5ed62fc45feaf43947957f5ff70": {
      "model_module": "@jupyter-widgets/controls",
      "model_module_version": "1.5.0",
      "model_name": "ButtonStyleModel",
      "state": {
       "button_color": "#4DD0E1"
      }
     },
     "5cc0d393750a44f7b9b1640dbb6c36df": {
      "model_module": "@jupyter-widgets/base",
      "model_module_version": "1.2.0",
      "model_name": "LayoutModel",
      "state": {}
     },
     "5cdbd71cf60040c2a92a26664e89b432": {
      "model_module": "@jupyter-widgets/controls",
      "model_module_version": "1.5.0",
      "model_name": "LabelModel",
      "state": {
       "layout": "IPY_MODEL_1ba2dc047e9042f9874d9d4d7c2ea712",
       "style": "IPY_MODEL_fad79eab7a33412280f5cfc4688b3d52"
      }
     },
     "5df19314f1384da39ad4fc6c8382355b": {
      "model_module": "@jupyter-widgets/controls",
      "model_module_version": "1.5.0",
      "model_name": "LabelModel",
      "state": {
       "layout": "IPY_MODEL_8dae389060814c4eb1895b0b6d9c178f",
       "style": "IPY_MODEL_be0d28b3c1964ba2a833e0d0acddc1d2"
      }
     },
     "5e70512486a14455a1c9ca1c3ec6bb57": {
      "model_module": "@jupyter-widgets/base",
      "model_module_version": "1.2.0",
      "model_name": "LayoutModel",
      "state": {
       "display": "none"
      }
     },
     "5e92413806384037bdd47b9573929026": {
      "model_module": "@jupyter-widgets/controls",
      "model_module_version": "1.5.0",
      "model_name": "DescriptionStyleModel",
      "state": {
       "description_width": "initial"
      }
     },
     "5f9a6c09206748f69abdcfe8eb649cee": {
      "model_module": "@jupyter-widgets/controls",
      "model_module_version": "1.5.0",
      "model_name": "HBoxModel",
      "state": {
       "children": [
        "IPY_MODEL_baccfeb2f80749c0acd4b3ab671fb9f1",
        "IPY_MODEL_8a7dc5daad9a429680e3c640d359113f"
       ],
       "layout": "IPY_MODEL_3d46fd6f69854552a4136d3dd94f42db"
      }
     },
     "603305cf2ac4455fb538a109dbab3030": {
      "model_module": "@jupyter-widgets/base",
      "model_module_version": "1.2.0",
      "model_name": "LayoutModel",
      "state": {}
     },
     "6111a904f6404e6d90ca47c966b18f39": {
      "model_module": "@jupyter-widgets/base",
      "model_module_version": "1.2.0",
      "model_name": "LayoutModel",
      "state": {}
     },
     "65278332a5934418b205873880bd2aee": {
      "model_module": "@jupyter-widgets/base",
      "model_module_version": "1.2.0",
      "model_name": "LayoutModel",
      "state": {}
     },
     "6540987cc36f42eab2ef96a9172e160f": {
      "model_module": "@jupyter-widgets/base",
      "model_module_version": "1.2.0",
      "model_name": "LayoutModel",
      "state": {}
     },
     "65bf76a9bf22458dbbc08250acb34356": {
      "model_module": "@jupyter-widgets/controls",
      "model_module_version": "1.5.0",
      "model_name": "HTMLModel",
      "state": {
       "layout": "IPY_MODEL_bec3800c615f404187d3a7b498047e1a",
       "style": "IPY_MODEL_83cac54b5d7245ab80112ec1b93eface",
       "value": "<style>p{word-wrap: break-word}</style> <p>live on time emit no evil </p>"
      }
     },
     "65fed0b65f514ff8ba0f9e44d67f1c0c": {
      "model_module": "@jupyter-widgets/controls",
      "model_module_version": "1.5.0",
      "model_name": "CheckboxModel",
      "state": {
       "disabled": false,
       "layout": "IPY_MODEL_e37a62aae03d4407b9ce7329374ed009",
       "style": "IPY_MODEL_948b4fdaaf14478bb00d34211c9e5fd3",
       "value": false
      }
     },
     "660c3e59c3814ea6978ef02191d3c501": {
      "model_module": "@jupyter-widgets/base",
      "model_module_version": "1.2.0",
      "model_name": "LayoutModel",
      "state": {
       "align_items": "stretch",
       "display": "flex",
       "flex_flow": "row wrap",
       "width": "auto"
      }
     },
     "6657fff2ca2d43a8b92ff31b79da2094": {
      "model_module": "@jupyter-widgets/controls",
      "model_module_version": "1.5.0",
      "model_name": "DescriptionStyleModel",
      "state": {
       "description_width": "initial"
      }
     },
     "67126da703c348afa087d605be699e75": {
      "model_module": "@jupyter-widgets/controls",
      "model_module_version": "1.5.0",
      "model_name": "HBoxModel",
      "state": {
       "children": [
        "IPY_MODEL_f189ee5f6ea042c4b329caf7605280b9",
        "IPY_MODEL_bae7c5632029445d8722733fe3dcfcce"
       ],
       "layout": "IPY_MODEL_099f9ac169ba49169d7a47bd32400ac3"
      }
     },
     "680880ce8bbc4f47b47b5897dbe0ce0c": {
      "model_module": "@jupyter-widgets/controls",
      "model_module_version": "1.5.0",
      "model_name": "DescriptionStyleModel",
      "state": {
       "description_width": ""
      }
     },
     "69ef5805a6ab40baa5e772a53ccac3e2": {
      "model_module": "@jupyter-widgets/controls",
      "model_module_version": "1.5.0",
      "model_name": "HBoxModel",
      "state": {
       "children": [
        "IPY_MODEL_f05c39fa890f46228e8909f1323b5cbc",
        "IPY_MODEL_761d65dc530e446a940c4283f0caf45e"
       ],
       "layout": "IPY_MODEL_570ba17521cd45d2bd48bb3a2b4287bd"
      }
     },
     "6a056574d541437b90186848b80aebc2": {
      "model_module": "@jupyter-widgets/base",
      "model_module_version": "1.2.0",
      "model_name": "LayoutModel",
      "state": {
       "align_items": "stretch",
       "display": "flex",
       "flex_flow": "row wrap",
       "width": "auto"
      }
     },
     "6a51d29c798540408ae1418624485810": {
      "model_module": "@jupyter-widgets/controls",
      "model_module_version": "1.5.0",
      "model_name": "CheckboxModel",
      "state": {
       "disabled": false,
       "layout": "IPY_MODEL_d7e7dabb0679415f9d680b90f2bd027d",
       "style": "IPY_MODEL_5e92413806384037bdd47b9573929026",
       "value": false
      }
     },
     "6b28c5abdcdc41ada038affdbd7a1313": {
      "model_module": "@jupyter-widgets/controls",
      "model_module_version": "1.5.0",
      "model_name": "DescriptionStyleModel",
      "state": {
       "description_width": ""
      }
     },
     "6cbadc312dcd47c998e503b47c800ae5": {
      "model_module": "@jupyter-widgets/controls",
      "model_module_version": "1.5.0",
      "model_name": "DescriptionStyleModel",
      "state": {
       "description_width": ""
      }
     },
     "6d3242670afa4dc7b52186e66b95821d": {
      "model_module": "@jupyter-widgets/controls",
      "model_module_version": "1.5.0",
      "model_name": "DescriptionStyleModel",
      "state": {
       "description_width": "initial"
      }
     },
     "6da3966a82bf4e069be8c4a5937dc86b": {
      "model_module": "@jupyter-widgets/controls",
      "model_module_version": "1.5.0",
      "model_name": "CheckboxModel",
      "state": {
       "disabled": false,
       "layout": "IPY_MODEL_81645fd03824487cacb7f1e35c823e3b",
       "style": "IPY_MODEL_9b00df1a5b65448590ae85a157ae926d",
       "value": false
      }
     },
     "6dc517759c5c441bb416479f8f4267dc": {
      "model_module": "@jupyter-widgets/controls",
      "model_module_version": "1.5.0",
      "model_name": "HTMLModel",
      "state": {
       "layout": "IPY_MODEL_a051512a5c4945b59888741dfd23d08e",
       "style": "IPY_MODEL_5a2d42bdf2894200a01b166cf2c38d73",
       "value": "<style>p{word-wrap: break-word}</style> <p>Solutions can be run directly from the cell once the accordion is opened. </p>"
      }
     },
     "6e195bd716ad485eabaa27378a6fc769": {
      "model_module": "@jupyter-widgets/controls",
      "model_module_version": "1.5.0",
      "model_name": "ButtonModel",
      "state": {
       "description": "Submit",
       "layout": "IPY_MODEL_ef8f2a7805e8418e9a8501c6e2fff9d7",
       "style": "IPY_MODEL_a79bb00143fa425f9d5db2d3c81f0974"
      }
     },
     "6ed06f847e2346a5bcf9131e54bcbd7d": {
      "model_module": "@jupyter-widgets/base",
      "model_module_version": "1.2.0",
      "model_name": "LayoutModel",
      "state": {
       "height": "50%",
       "margin": "0 0 0 30px",
       "width": "50%"
      }
     },
     "6f56e0130a794633b1177695db37b417": {
      "model_module": "@jupyter-widgets/controls",
      "model_module_version": "1.5.0",
      "model_name": "DescriptionStyleModel",
      "state": {
       "description_width": "initial"
      }
     },
     "707df91958e3493fb3c23cf300a1f5e6": {
      "model_module": "@jupyter-widgets/controls",
      "model_module_version": "1.5.0",
      "model_name": "HBoxModel",
      "state": {
       "children": [
        "IPY_MODEL_a98e14131e3f4bf1b21da10a553e204a",
        "IPY_MODEL_6dc517759c5c441bb416479f8f4267dc"
       ],
       "layout": "IPY_MODEL_a4bf36a8e338445784da0c07c8c89a2c"
      }
     },
     "70df6cab67cd401fb37e7948eeb8aeac": {
      "model_module": "@jupyter-widgets/base",
      "model_module_version": "1.2.0",
      "model_name": "LayoutModel",
      "state": {
       "align_items": "stretch",
       "display": "flex",
       "flex_flow": "row wrap",
       "width": "auto"
      }
     },
     "715ea3ec9ef64393a201037770263c02": {
      "model_module": "@jupyter-widgets/controls",
      "model_module_version": "1.5.0",
      "model_name": "ButtonModel",
      "state": {
       "description": "Show answer",
       "disabled": true,
       "layout": "IPY_MODEL_4cb377d27d7e4c9b9c9cc838f0a499d9",
       "style": "IPY_MODEL_0151440dc5424835bfa7acfee5d21237"
      }
     },
     "7182afbf27494aaaa92ab631fdaa16a7": {
      "model_module": "@jupyter-widgets/controls",
      "model_module_version": "1.5.0",
      "model_name": "DescriptionStyleModel",
      "state": {
       "description_width": ""
      }
     },
     "71d120c8178244e99bf5a181f2e65abd": {
      "model_module": "@jupyter-widgets/base",
      "model_module_version": "1.2.0",
      "model_name": "LayoutModel",
      "state": {}
     },
     "7320421803a24625a8d917c959fd0cef": {
      "model_module": "@jupyter-widgets/base",
      "model_module_version": "1.2.0",
      "model_name": "LayoutModel",
      "state": {}
     },
     "734b1224144d440a9418b5c18c4763b8": {
      "model_module": "@jupyter-widgets/controls",
      "model_module_version": "1.5.0",
      "model_name": "LabelModel",
      "state": {
       "layout": "IPY_MODEL_74f12a5943344b778f2ae5f02f4dbe9c",
       "style": "IPY_MODEL_77ae752fdaeb409b838a30e00d2e89cd"
      }
     },
     "73f1a0ab24fc4b6d904750836c1322c9": {
      "model_module": "@jupyter-widgets/base",
      "model_module_version": "1.2.0",
      "model_name": "LayoutModel",
      "state": {
       "align_items": "stretch",
       "display": "flex",
       "flex_flow": "column",
       "width": "100%"
      }
     },
     "74f12a5943344b778f2ae5f02f4dbe9c": {
      "model_module": "@jupyter-widgets/base",
      "model_module_version": "1.2.0",
      "model_name": "LayoutModel",
      "state": {
       "height": "50%",
       "margin": "0 0 0 30px",
       "width": "50%"
      }
     },
     "75ac021048c94b29b092bbdd48719c8a": {
      "model_module": "@jupyter-widgets/base",
      "model_module_version": "1.2.0",
      "model_name": "LayoutModel",
      "state": {
       "display": "none"
      }
     },
     "761d65dc530e446a940c4283f0caf45e": {
      "model_module": "@jupyter-widgets/controls",
      "model_module_version": "1.5.0",
      "model_name": "HTMLModel",
      "state": {
       "layout": "IPY_MODEL_8b274a1af47f4947a98d6cb59ad74444",
       "style": "IPY_MODEL_e61fe059bab9483986359522f4adb482",
       "value": "<style>p{word-wrap: break-word}</style> <p>aviva </p>"
      }
     },
     "762abf5754884a71a4deb167bee7467e": {
      "model_module": "@jupyter-widgets/controls",
      "model_module_version": "1.5.0",
      "model_name": "HTMLModel",
      "state": {
       "layout": "IPY_MODEL_5851c3a8a959479c898bd6b9f9a3a5e8",
       "style": "IPY_MODEL_e93089773f41491c956fae51c86d9c24",
       "value": "<style>p{word-wrap: break-word}</style> <p>bottom-up </p>"
      }
     },
     "763539eb83ad4c9abf75d2888c630fd6": {
      "model_module": "@jupyter-widgets/base",
      "model_module_version": "1.2.0",
      "model_name": "LayoutModel",
      "state": {}
     },
     "77ae752fdaeb409b838a30e00d2e89cd": {
      "model_module": "@jupyter-widgets/controls",
      "model_module_version": "1.5.0",
      "model_name": "DescriptionStyleModel",
      "state": {
       "description_width": ""
      }
     },
     "78061a91778e4b30b968482627dbb3bb": {
      "model_module": "@jupyter-widgets/base",
      "model_module_version": "1.2.0",
      "model_name": "LayoutModel",
      "state": {}
     },
     "7952f5e3dc994497820e85f7418b8693": {
      "model_module": "@jupyter-widgets/base",
      "model_module_version": "1.2.0",
      "model_name": "LayoutModel",
      "state": {
       "width": "30px"
      }
     },
     "7a196534f0b14abda80dfa44f0747c31": {
      "model_module": "@jupyter-widgets/controls",
      "model_module_version": "1.5.0",
      "model_name": "DescriptionStyleModel",
      "state": {
       "description_width": ""
      }
     },
     "7aa7ab9c9c1641acb96dc95b19b5e37e": {
      "model_module": "@jupyter-widgets/controls",
      "model_module_version": "1.5.0",
      "model_name": "HBoxModel",
      "state": {
       "children": [
        "IPY_MODEL_2558e7017d38448486c74743d030ad7d",
        "IPY_MODEL_b40283ebd4134fa49af6594244cb85be"
       ],
       "layout": "IPY_MODEL_895959caa33a4d8c9af981c07ceed19d"
      }
     },
     "7c36c94cb66a4259b98e8629c7a207b8": {
      "model_module": "@jupyter-widgets/base",
      "model_module_version": "1.2.0",
      "model_name": "LayoutModel",
      "state": {
       "align_items": "stretch",
       "display": "flex",
       "flex_flow": "row wrap",
       "width": "auto"
      }
     },
     "7e471f21fcbe4483846f32ed58ac0cec": {
      "model_module": "@jupyter-widgets/controls",
      "model_module_version": "1.5.0",
      "model_name": "HTMLModel",
      "state": {
       "layout": "IPY_MODEL_04ec17e4c2de4353a03ec37bc09af000",
       "style": "IPY_MODEL_d8c0d6735327497b9b4884c305607b77",
       "value": "<style>p{word-wrap: break-word}</style> <p>Once a code cell is collapsed, there is no way to ever see it again! </p>"
      }
     },
     "7ec0a52a692245a1b11b1c969f26d130": {
      "model_module": "@jupyter-widgets/controls",
      "model_module_version": "1.5.0",
      "model_name": "HBoxModel",
      "state": {
       "children": [
        "IPY_MODEL_4598ba5d83e5402f896c5ee19a3ae054"
       ],
       "layout": "IPY_MODEL_01e45fbadf3f4ba696d354bb781fe168"
      }
     },
     "8004843fc6704ead9012ed46830cc072": {
      "model_module": "@jupyter-widgets/base",
      "model_module_version": "1.2.0",
      "model_name": "LayoutModel",
      "state": {
       "width": "30px"
      }
     },
     "806e3911f6b1418e8fbbe6b3d23ec6fa": {
      "model_module": "@jupyter-widgets/controls",
      "model_module_version": "1.5.0",
      "model_name": "DescriptionStyleModel",
      "state": {
       "description_width": ""
      }
     },
     "81645fd03824487cacb7f1e35c823e3b": {
      "model_module": "@jupyter-widgets/base",
      "model_module_version": "1.2.0",
      "model_name": "LayoutModel",
      "state": {
       "width": "30px"
      }
     },
     "831c524ee297470cbee9f8af0e4a5a3a": {
      "model_module": "@jupyter-widgets/controls",
      "model_module_version": "1.5.0",
      "model_name": "HBoxModel",
      "state": {
       "children": [
        "IPY_MODEL_0a291234a3cc49bbb17548c54b330c1e",
        "IPY_MODEL_831dfe1ecb924a328fef7c897ca9ce2b"
       ],
       "layout": "IPY_MODEL_dce721f9c9984352abc6c1554cd273b9"
      }
     },
     "831dfe1ecb924a328fef7c897ca9ce2b": {
      "model_module": "@jupyter-widgets/controls",
      "model_module_version": "1.5.0",
      "model_name": "HBoxModel",
      "state": {
       "children": [
        "IPY_MODEL_65fed0b65f514ff8ba0f9e44d67f1c0c",
        "IPY_MODEL_4d795dfaa30a40c59378cfe2bf575d4e"
       ],
       "layout": "IPY_MODEL_939a5e23b7ae49f4b19a3c9adaa2c324"
      }
     },
     "83cac54b5d7245ab80112ec1b93eface": {
      "model_module": "@jupyter-widgets/controls",
      "model_module_version": "1.5.0",
      "model_name": "DescriptionStyleModel",
      "state": {
       "description_width": ""
      }
     },
     "8446334d894a48bf8ff650764b56bef5": {
      "model_module": "@jupyter-widgets/controls",
      "model_module_version": "1.5.0",
      "model_name": "DescriptionStyleModel",
      "state": {
       "description_width": ""
      }
     },
     "8454b3e7eff74b3ca49f15b6560aaa9e": {
      "model_module": "@jupyter-widgets/controls",
      "model_module_version": "1.5.0",
      "model_name": "DescriptionStyleModel",
      "state": {
       "description_width": "initial"
      }
     },
     "8515622532134f7c83fde9e5e347f263": {
      "model_module": "@jupyter-widgets/controls",
      "model_module_version": "1.5.0",
      "model_name": "LabelModel",
      "state": {
       "layout": "IPY_MODEL_6ed06f847e2346a5bcf9131e54bcbd7d",
       "style": "IPY_MODEL_37c0d94d0a0346bebe269606a3319ba0"
      }
     },
     "85ebd6e5b7dc4162a98c3d2aa96ef2cc": {
      "model_module": "@jupyter-widgets/controls",
      "model_module_version": "1.5.0",
      "model_name": "DescriptionStyleModel",
      "state": {
       "description_width": ""
      }
     },
     "86e4767cec8148009f942fb1a6518e99": {
      "model_module": "@jupyter-widgets/controls",
      "model_module_version": "1.5.0",
      "model_name": "VBoxModel",
      "state": {
       "box_style": "info",
       "children": [
        "IPY_MODEL_04fa236634a54a30930d0c88e8b03419",
        "IPY_MODEL_360c0925187b4f0f8d9de4ded359b57c",
        "IPY_MODEL_45059b1ed0eb48aaa9e12f77ec560378"
       ],
       "layout": "IPY_MODEL_73f1a0ab24fc4b6d904750836c1322c9"
      }
     },
     "878b644f89f448008fe104fa245e90a0": {
      "model_module": "@jupyter-widgets/controls",
      "model_module_version": "1.5.0",
      "model_name": "ButtonStyleModel",
      "state": {
       "button_color": "#4DD0E1"
      }
     },
     "87f11b25d52b49a69115787badd7f8c6": {
      "model_module": "@jupyter-widgets/controls",
      "model_module_version": "1.5.0",
      "model_name": "ButtonModel",
      "state": {
       "description": "Show answer",
       "disabled": true,
       "layout": "IPY_MODEL_5e70512486a14455a1c9ca1c3ec6bb57",
       "style": "IPY_MODEL_28a33f6a3ee64825903230de83f0d540"
      }
     },
     "895959caa33a4d8c9af981c07ceed19d": {
      "model_module": "@jupyter-widgets/base",
      "model_module_version": "1.2.0",
      "model_name": "LayoutModel",
      "state": {
       "align_items": "stretch",
       "display": "flex",
       "flex_flow": "row wrap",
       "width": "auto"
      }
     },
     "8a7dc5daad9a429680e3c640d359113f": {
      "model_module": "@jupyter-widgets/controls",
      "model_module_version": "1.5.0",
      "model_name": "HBoxModel",
      "state": {
       "children": [
        "IPY_MODEL_32c0b0a269f34334b42067554860a49c",
        "IPY_MODEL_7e471f21fcbe4483846f32ed58ac0cec"
       ],
       "layout": "IPY_MODEL_9f022c55a5de4f1ab3fc1d13ec51df83"
      }
     },
     "8a9059a633234ee394258260d17f0e9e": {
      "model_module": "@jupyter-widgets/base",
      "model_module_version": "1.2.0",
      "model_name": "LayoutModel",
      "state": {
       "align_items": "stretch",
       "display": "flex",
       "flex_flow": "row wrap",
       "width": "auto"
      }
     },
     "8ab0d1b150fb401a8739d782b7baae4d": {
      "model_module": "@jupyter-widgets/controls",
      "model_module_version": "1.5.0",
      "model_name": "HTMLModel",
      "state": {
       "layout": "IPY_MODEL_763539eb83ad4c9abf75d2888c630fd6",
       "style": "IPY_MODEL_982ccd6fbb24407089fbba3d5f694c8d",
       "value": "<style>p{word-wrap: break-word}</style> <p> </p>"
      }
     },
     "8b274a1af47f4947a98d6cb59ad74444": {
      "model_module": "@jupyter-widgets/base",
      "model_module_version": "1.2.0",
      "model_name": "LayoutModel",
      "state": {}
     },
     "8b9434f255e64743a40d584aa7536c4b": {
      "model_module": "@jupyter-widgets/base",
      "model_module_version": "1.2.0",
      "model_name": "LayoutModel",
      "state": {
       "width": "30px"
      }
     },
     "8dae389060814c4eb1895b0b6d9c178f": {
      "model_module": "@jupyter-widgets/base",
      "model_module_version": "1.2.0",
      "model_name": "LayoutModel",
      "state": {}
     },
     "8e5b9e6ec82f47c891da039fe5e9652e": {
      "model_module": "@jupyter-widgets/controls",
      "model_module_version": "1.5.0",
      "model_name": "HBoxModel",
      "state": {
       "children": [
        "IPY_MODEL_f734a9fd6c2f4da48e727b65de774308",
        "IPY_MODEL_4ea80e317fd0493194a790aa5a0b26a0"
       ],
       "layout": "IPY_MODEL_8a9059a633234ee394258260d17f0e9e"
      }
     },
     "8ebc415f10c349b286ead5ec400d4d78": {
      "model_module": "@jupyter-widgets/controls",
      "model_module_version": "1.5.0",
      "model_name": "DescriptionStyleModel",
      "state": {
       "description_width": "initial"
      }
     },
     "8eccde17d1f5450d85cc3db15e96847e": {
      "model_module": "@jupyter-widgets/controls",
      "model_module_version": "1.5.0",
      "model_name": "DescriptionStyleModel",
      "state": {
       "description_width": "initial"
      }
     },
     "8ffaabf8be06443883557dadec1168a2": {
      "model_module": "@jupyter-widgets/base",
      "model_module_version": "1.2.0",
      "model_name": "LayoutModel",
      "state": {
       "width": "30px"
      }
     },
     "905726286a694091a4738fdf3b5595f3": {
      "model_module": "@jupyter-widgets/controls",
      "model_module_version": "1.5.0",
      "model_name": "DescriptionStyleModel",
      "state": {
       "description_width": ""
      }
     },
     "939a5e23b7ae49f4b19a3c9adaa2c324": {
      "model_module": "@jupyter-widgets/base",
      "model_module_version": "1.2.0",
      "model_name": "LayoutModel",
      "state": {
       "align_items": "stretch",
       "display": "flex",
       "flex_flow": "row wrap",
       "width": "auto"
      }
     },
     "948b4fdaaf14478bb00d34211c9e5fd3": {
      "model_module": "@jupyter-widgets/controls",
      "model_module_version": "1.5.0",
      "model_name": "DescriptionStyleModel",
      "state": {
       "description_width": "initial"
      }
     },
     "949f387fb05b46d4b647dbbe670f3ebe": {
      "model_module": "@jupyter-widgets/controls",
      "model_module_version": "1.5.0",
      "model_name": "LabelModel",
      "state": {
       "layout": "IPY_MODEL_e9db105445eb4531bba83454b6f03a67",
       "style": "IPY_MODEL_f8de2a62f61d44119c45d65e78ffbd9b"
      }
     },
     "954bcdbb41b14c7ca5142cf9da461ab2": {
      "model_module": "@jupyter-widgets/controls",
      "model_module_version": "1.5.0",
      "model_name": "CheckboxModel",
      "state": {
       "disabled": false,
       "layout": "IPY_MODEL_e7bc8b7bafc24921926fb3d2a9860b49",
       "style": "IPY_MODEL_b424dc5f135c4165ba6f27a588533f56",
       "value": false
      }
     },
     "95ba1ae0a9004252947ec969eba66538": {
      "model_module": "@jupyter-widgets/base",
      "model_module_version": "1.2.0",
      "model_name": "LayoutModel",
      "state": {
       "align_items": "stretch",
       "display": "flex",
       "flex_flow": "row wrap",
       "width": "auto"
      }
     },
     "9662aeaaf20c446eac2bd7dd6fe0c02c": {
      "model_module": "@jupyter-widgets/base",
      "model_module_version": "1.2.0",
      "model_name": "LayoutModel",
      "state": {
       "align_items": "stretch",
       "display": "flex",
       "flex_flow": "row wrap",
       "width": "auto"
      }
     },
     "97891348f71341558666d7c5068833bc": {
      "model_module": "@jupyter-widgets/controls",
      "model_module_version": "1.5.0",
      "model_name": "DescriptionStyleModel",
      "state": {
       "description_width": ""
      }
     },
     "982ccd6fbb24407089fbba3d5f694c8d": {
      "model_module": "@jupyter-widgets/controls",
      "model_module_version": "1.5.0",
      "model_name": "DescriptionStyleModel",
      "state": {
       "description_width": ""
      }
     },
     "99ee34a5335d4dbabad2725cd94e3f6a": {
      "model_module": "@jupyter-widgets/base",
      "model_module_version": "1.2.0",
      "model_name": "LayoutModel",
      "state": {
       "align_items": "stretch",
       "display": "flex",
       "flex_flow": "row wrap",
       "width": "auto"
      }
     },
     "9b00df1a5b65448590ae85a157ae926d": {
      "model_module": "@jupyter-widgets/controls",
      "model_module_version": "1.5.0",
      "model_name": "DescriptionStyleModel",
      "state": {
       "description_width": "initial"
      }
     },
     "9b510cb4c1164d4594cdbc25389864ca": {
      "model_module": "@jupyter-widgets/controls",
      "model_module_version": "1.5.0",
      "model_name": "DescriptionStyleModel",
      "state": {
       "description_width": ""
      }
     },
     "9c6409efb07a44bba082e5e2fe266316": {
      "model_module": "@jupyter-widgets/controls",
      "model_module_version": "1.5.0",
      "model_name": "LabelModel",
      "state": {
       "layout": "IPY_MODEL_6540987cc36f42eab2ef96a9172e160f",
       "style": "IPY_MODEL_9b510cb4c1164d4594cdbc25389864ca"
      }
     },
     "9d535dce2d99446aaef8a246096f6245": {
      "model_module": "@jupyter-widgets/base",
      "model_module_version": "1.2.0",
      "model_name": "LayoutModel",
      "state": {
       "width": "30px"
      }
     },
     "9d6b618d4eb3477eb9453126a58a0314": {
      "model_module": "@jupyter-widgets/controls",
      "model_module_version": "1.5.0",
      "model_name": "DescriptionStyleModel",
      "state": {
       "description_width": ""
      }
     },
     "9d97867d36a24d2eaec41a189939334a": {
      "model_module": "@jupyter-widgets/controls",
      "model_module_version": "1.5.0",
      "model_name": "CheckboxModel",
      "state": {
       "disabled": false,
       "layout": "IPY_MODEL_7952f5e3dc994497820e85f7418b8693",
       "style": "IPY_MODEL_3484a4b68ecd4f8f857e5ac260c46a81",
       "value": false
      }
     },
     "9f022c55a5de4f1ab3fc1d13ec51df83": {
      "model_module": "@jupyter-widgets/base",
      "model_module_version": "1.2.0",
      "model_name": "LayoutModel",
      "state": {
       "align_items": "stretch",
       "display": "flex",
       "flex_flow": "row wrap",
       "width": "auto"
      }
     },
     "9f29b031dfc94f92b42d91f0323f7adb": {
      "model_module": "@jupyter-widgets/controls",
      "model_module_version": "1.5.0",
      "model_name": "HTMLModel",
      "state": {
       "layout": "IPY_MODEL_3c6ea149266c446484651379d777dbb8",
       "style": "IPY_MODEL_ba03be94e5b647dc9a1f396f8acd16fc",
       "value": "<style>p{word-wrap: break-word}</style> <p>inductive </p>"
      }
     },
     "a051512a5c4945b59888741dfd23d08e": {
      "model_module": "@jupyter-widgets/base",
      "model_module_version": "1.2.0",
      "model_name": "LayoutModel",
      "state": {}
     },
     "a07169e62b734a898bd454de58c0b61a": {
      "model_module": "@jupyter-widgets/base",
      "model_module_version": "1.2.0",
      "model_name": "LayoutModel",
      "state": {}
     },
     "a2e3a382a8f1478a9bb1f84a4c99c95e": {
      "model_module": "@jupyter-widgets/controls",
      "model_module_version": "1.5.0",
      "model_name": "DescriptionStyleModel",
      "state": {
       "description_width": ""
      }
     },
     "a3b33d2aba8a4ad9b13f018d6f97f7a4": {
      "model_module": "@jupyter-widgets/controls",
      "model_module_version": "1.5.0",
      "model_name": "LabelModel",
      "state": {
       "layout": "IPY_MODEL_ae3d454e1c70457d8fdffdfcc97c78c8",
       "style": "IPY_MODEL_c88020535932411a8b91a03cad9349c2"
      }
     },
     "a4bf36a8e338445784da0c07c8c89a2c": {
      "model_module": "@jupyter-widgets/base",
      "model_module_version": "1.2.0",
      "model_name": "LayoutModel",
      "state": {
       "align_items": "stretch",
       "display": "flex",
       "flex_flow": "row wrap",
       "width": "auto"
      }
     },
     "a6362cddcdac4042b14535acc41da510": {
      "model_module": "@jupyter-widgets/controls",
      "model_module_version": "1.5.0",
      "model_name": "DescriptionStyleModel",
      "state": {
       "description_width": ""
      }
     },
     "a69de48b2ccb44e6981f38dee80c017d": {
      "model_module": "@jupyter-widgets/base",
      "model_module_version": "1.2.0",
      "model_name": "LayoutModel",
      "state": {
       "align_items": "stretch",
       "display": "flex",
       "flex_flow": "row wrap",
       "width": "auto"
      }
     },
     "a79bb00143fa425f9d5db2d3c81f0974": {
      "model_module": "@jupyter-widgets/controls",
      "model_module_version": "1.5.0",
      "model_name": "ButtonStyleModel",
      "state": {
       "button_color": "#4DD0E1"
      }
     },
     "a8235927d29e45f18102ef36d6a9dbfe": {
      "model_module": "@jupyter-widgets/base",
      "model_module_version": "1.2.0",
      "model_name": "LayoutModel",
      "state": {
       "width": "30px"
      }
     },
     "a98e14131e3f4bf1b21da10a553e204a": {
      "model_module": "@jupyter-widgets/controls",
      "model_module_version": "1.5.0",
      "model_name": "CheckboxModel",
      "state": {
       "disabled": false,
       "layout": "IPY_MODEL_110fd9537b054ca680190e3666e06830",
       "style": "IPY_MODEL_6657fff2ca2d43a8b92ff31b79da2094",
       "value": false
      }
     },
     "ab67662e669d40d5b31d27e1fb73868e": {
      "model_module": "@jupyter-widgets/base",
      "model_module_version": "1.2.0",
      "model_name": "LayoutModel",
      "state": {
       "align_items": "stretch",
       "display": "flex",
       "flex_flow": "row wrap",
       "width": "auto"
      }
     },
     "abae25bb4bdb46d7a48efe1201a5a52d": {
      "model_module": "@jupyter-widgets/controls",
      "model_module_version": "1.5.0",
      "model_name": "HBoxModel",
      "state": {
       "children": [
        "IPY_MODEL_6a51d29c798540408ae1418624485810",
        "IPY_MODEL_9f29b031dfc94f92b42d91f0323f7adb"
       ],
       "layout": "IPY_MODEL_f3f4c75d8d94439abd95a382386df2f4"
      }
     },
     "abd24abb87ff4b50a4f479e814e7bfe7": {
      "model_module": "@jupyter-widgets/base",
      "model_module_version": "1.2.0",
      "model_name": "LayoutModel",
      "state": {
       "align_items": "stretch",
       "display": "flex",
       "flex_flow": "row wrap",
       "width": "auto"
      }
     },
     "abf15f48587445ed9566801b52b96f8f": {
      "model_module": "@jupyter-widgets/controls",
      "model_module_version": "1.5.0",
      "model_name": "DescriptionStyleModel",
      "state": {
       "description_width": ""
      }
     },
     "abfc01679d5d4a61b94daa5d563c776b": {
      "model_module": "@jupyter-widgets/base",
      "model_module_version": "1.2.0",
      "model_name": "LayoutModel",
      "state": {}
     },
     "acef03e313264efaacad66ebec95dfc4": {
      "model_module": "@jupyter-widgets/controls",
      "model_module_version": "1.5.0",
      "model_name": "DescriptionStyleModel",
      "state": {
       "description_width": ""
      }
     },
     "ad6efae3201047f782a52e298cfd7f62": {
      "model_module": "@jupyter-widgets/controls",
      "model_module_version": "1.5.0",
      "model_name": "DescriptionStyleModel",
      "state": {
       "description_width": "initial"
      }
     },
     "ae3d454e1c70457d8fdffdfcc97c78c8": {
      "model_module": "@jupyter-widgets/base",
      "model_module_version": "1.2.0",
      "model_name": "LayoutModel",
      "state": {}
     },
     "ae9abbdce9e24a9ea1b647394a822b11": {
      "model_module": "@jupyter-widgets/controls",
      "model_module_version": "1.5.0",
      "model_name": "HBoxModel",
      "state": {
       "children": [
        "IPY_MODEL_954bcdbb41b14c7ca5142cf9da461ab2",
        "IPY_MODEL_1f99f111c22846d79e6156fcd700b0f4"
       ],
       "layout": "IPY_MODEL_e9c66f9f2076416995b8ac45039ef7dd"
      }
     },
     "aec22e2b925c4bc5a20fcc33b0ce4769": {
      "model_module": "@jupyter-widgets/controls",
      "model_module_version": "1.5.0",
      "model_name": "ButtonStyleModel",
      "state": {
       "button_color": "#4DD0E1"
      }
     },
     "b048a99ce45049ae94492671d0ba2476": {
      "model_module": "@jupyter-widgets/base",
      "model_module_version": "1.2.0",
      "model_name": "LayoutModel",
      "state": {
       "display": "flex",
       "flex_flow": "row",
       "justify_content": "space-between",
       "margin": "0 0 20px 0"
      }
     },
     "b1a1c51ba1ec4f3587637ddb365e480f": {
      "model_module": "@jupyter-widgets/base",
      "model_module_version": "1.2.0",
      "model_name": "LayoutModel",
      "state": {
       "align_items": "stretch",
       "display": "flex",
       "flex_flow": "column",
       "width": "100%"
      }
     },
     "b1ed03a4abac4849a6d40961dd920574": {
      "model_module": "@jupyter-widgets/base",
      "model_module_version": "1.2.0",
      "model_name": "LayoutModel",
      "state": {
       "align_items": "stretch",
       "display": "flex",
       "flex_flow": "column",
       "width": "100%"
      }
     },
     "b311111b3b124b9a93a163cc04fea8dc": {
      "model_module": "@jupyter-widgets/base",
      "model_module_version": "1.2.0",
      "model_name": "LayoutModel",
      "state": {
       "align_items": "stretch",
       "display": "flex",
       "flex_flow": "row wrap",
       "width": "auto"
      }
     },
     "b40283ebd4134fa49af6594244cb85be": {
      "model_module": "@jupyter-widgets/controls",
      "model_module_version": "1.5.0",
      "model_name": "HBoxModel",
      "state": {
       "children": [
        "IPY_MODEL_6da3966a82bf4e069be8c4a5937dc86b",
        "IPY_MODEL_d051e455f24646a4a6c7e669de1be9d2"
       ],
       "layout": "IPY_MODEL_99ee34a5335d4dbabad2725cd94e3f6a"
      }
     },
     "b424dc5f135c4165ba6f27a588533f56": {
      "model_module": "@jupyter-widgets/controls",
      "model_module_version": "1.5.0",
      "model_name": "DescriptionStyleModel",
      "state": {
       "description_width": "initial"
      }
     },
     "b4948090166644f18754b293d95117b7": {
      "model_module": "@jupyter-widgets/controls",
      "model_module_version": "1.5.0",
      "model_name": "LabelModel",
      "state": {
       "layout": "IPY_MODEL_091cd0711a5541388d88d33ca827ed8c",
       "style": "IPY_MODEL_0ee351909df446329237223156ee8933"
      }
     },
     "b5d7aecb44e049afaef96e459bc9dc76": {
      "model_module": "@jupyter-widgets/controls",
      "model_module_version": "1.5.0",
      "model_name": "HTMLModel",
      "state": {
       "layout": "IPY_MODEL_a07169e62b734a898bd454de58c0b61a",
       "style": "IPY_MODEL_806e3911f6b1418e8fbbe6b3d23ec6fa",
       "value": "<style>p{word-wrap: break-word}</style> <p>palindrome </p>"
      }
     },
     "b7a03ddb13c3444e96a02973533281b1": {
      "model_module": "@jupyter-widgets/controls",
      "model_module_version": "1.5.0",
      "model_name": "DescriptionStyleModel",
      "state": {
       "description_width": ""
      }
     },
     "b8b4278ed7bd44139263787e3041840b": {
      "model_module": "@jupyter-widgets/controls",
      "model_module_version": "1.5.0",
      "model_name": "HBoxModel",
      "state": {
       "children": [
        "IPY_MODEL_30e4a61acd044fdeb94a51fa253ce768",
        "IPY_MODEL_c445e0153f104ff48527575071091777"
       ],
       "layout": "IPY_MODEL_660c3e59c3814ea6978ef02191d3c501"
      }
     },
     "b8b49b39bf614f4b95252b61106ef3cc": {
      "model_module": "@jupyter-widgets/controls",
      "model_module_version": "1.5.0",
      "model_name": "DescriptionStyleModel",
      "state": {
       "description_width": "initial"
      }
     },
     "b8f30952d3da427cb3372ed675199822": {
      "model_module": "@jupyter-widgets/controls",
      "model_module_version": "1.5.0",
      "model_name": "HBoxModel",
      "state": {
       "children": [
        "IPY_MODEL_d1079b35ecb64740a6651beece7ac596",
        "IPY_MODEL_1b742adaac90471aad78bd8bec570268"
       ],
       "layout": "IPY_MODEL_b311111b3b124b9a93a163cc04fea8dc"
      }
     },
     "ba03be94e5b647dc9a1f396f8acd16fc": {
      "model_module": "@jupyter-widgets/controls",
      "model_module_version": "1.5.0",
      "model_name": "DescriptionStyleModel",
      "state": {
       "description_width": ""
      }
     },
     "ba55309962cf47dd9f33a094a7dce39b": {
      "model_module": "@jupyter-widgets/base",
      "model_module_version": "1.2.0",
      "model_name": "LayoutModel",
      "state": {
       "align_items": "stretch",
       "display": "flex",
       "flex_flow": "row wrap",
       "width": "auto"
      }
     },
     "ba73d7b8e569460d9de64fe4a118aabe": {
      "model_module": "@jupyter-widgets/base",
      "model_module_version": "1.2.0",
      "model_name": "LayoutModel",
      "state": {}
     },
     "baccfeb2f80749c0acd4b3ab671fb9f1": {
      "model_module": "@jupyter-widgets/controls",
      "model_module_version": "1.5.0",
      "model_name": "LabelModel",
      "state": {
       "layout": "IPY_MODEL_f813c152e4294a978fefd1b9d395b1ea",
       "style": "IPY_MODEL_dfa458b35d4d43b6843ad2d8b7ab28cc"
      }
     },
     "bae7c5632029445d8722733fe3dcfcce": {
      "model_module": "@jupyter-widgets/controls",
      "model_module_version": "1.5.0",
      "model_name": "HTMLModel",
      "state": {
       "layout": "IPY_MODEL_178b298e47194bf5ab6d18b3299c5426",
       "style": "IPY_MODEL_bec93b9132544b1788bdb9bf3b5ae855",
       "value": "<style>p{word-wrap: break-word}</style> <p>Solutions are located at the end of each notebook. </p>"
      }
     },
     "bc72b1a2ccea434bad0e23c7512a2749": {
      "model_module": "@jupyter-widgets/base",
      "model_module_version": "1.2.0",
      "model_name": "LayoutModel",
      "state": {}
     },
     "bcd085e5a3e544488f73d8b58f235787": {
      "model_module": "@jupyter-widgets/base",
      "model_module_version": "1.2.0",
      "model_name": "LayoutModel",
      "state": {
       "align_items": "stretch",
       "display": "flex",
       "flex_flow": "row wrap",
       "width": "auto"
      }
     },
     "bd0fb8c801544431854bbd1d501e92d1": {
      "model_module": "@jupyter-widgets/base",
      "model_module_version": "1.2.0",
      "model_name": "LayoutModel",
      "state": {
       "align_items": "stretch",
       "display": "flex",
       "flex_flow": "row wrap",
       "width": "auto"
      }
     },
     "bd276ffbc73842ca8f1728459c1bee84": {
      "model_module": "@jupyter-widgets/controls",
      "model_module_version": "1.5.0",
      "model_name": "HTMLModel",
      "state": {
       "layout": "IPY_MODEL_0e1d8d577cf84a16b3ad9b0d6af84d2c",
       "style": "IPY_MODEL_6b28c5abdcdc41ada038affdbd7a1313",
       "value": "<style>p{word-wrap: break-word}</style> <p>iterative </p>"
      }
     },
     "bd5de93c71f14ede94c36a3522d16c1d": {
      "model_module": "@jupyter-widgets/controls",
      "model_module_version": "1.5.0",
      "model_name": "LabelModel",
      "state": {
       "layout": "IPY_MODEL_71d120c8178244e99bf5a181f2e65abd",
       "style": "IPY_MODEL_97891348f71341558666d7c5068833bc"
      }
     },
     "be0d28b3c1964ba2a833e0d0acddc1d2": {
      "model_module": "@jupyter-widgets/controls",
      "model_module_version": "1.5.0",
      "model_name": "DescriptionStyleModel",
      "state": {
       "description_width": ""
      }
     },
     "bec3800c615f404187d3a7b498047e1a": {
      "model_module": "@jupyter-widgets/base",
      "model_module_version": "1.2.0",
      "model_name": "LayoutModel",
      "state": {}
     },
     "bec93b9132544b1788bdb9bf3b5ae855": {
      "model_module": "@jupyter-widgets/controls",
      "model_module_version": "1.5.0",
      "model_name": "DescriptionStyleModel",
      "state": {
       "description_width": ""
      }
     },
     "bf34cfabaace44538e7f47ee5afb3787": {
      "model_module": "@jupyter-widgets/base",
      "model_module_version": "1.2.0",
      "model_name": "LayoutModel",
      "state": {
       "align_items": "stretch",
       "display": "flex",
       "flex_flow": "row wrap",
       "margin": "30px 0 0 0"
      }
     },
     "c14f7dcb91fa4795bb49965763cdcadb": {
      "model_module": "@jupyter-widgets/base",
      "model_module_version": "1.2.0",
      "model_name": "LayoutModel",
      "state": {
       "width": "30px"
      }
     },
     "c225401b5a0448a1b518c4b6949dcc1c": {
      "model_module": "@jupyter-widgets/controls",
      "model_module_version": "1.5.0",
      "model_name": "LabelModel",
      "state": {
       "layout": "IPY_MODEL_16f82110f1df449caa322e38b714fdf3",
       "style": "IPY_MODEL_3a2c7abf83d84725b20e8169d9921dd4"
      }
     },
     "c2439f4bed8749278f43b704e5de5391": {
      "model_module": "@jupyter-widgets/controls",
      "model_module_version": "1.5.0",
      "model_name": "LabelModel",
      "state": {
       "layout": "IPY_MODEL_e7697b25268340219ab34d1c2dee88e2",
       "style": "IPY_MODEL_1220f43342af4c6796ce3859b968cfe6"
      }
     },
     "c35b76625d8f46eb8d109d67033f159c": {
      "model_module": "@jupyter-widgets/controls",
      "model_module_version": "1.5.0",
      "model_name": "DescriptionStyleModel",
      "state": {
       "description_width": ""
      }
     },
     "c3d66ca732e4406f83d0692b62f6ec92": {
      "model_module": "@jupyter-widgets/base",
      "model_module_version": "1.2.0",
      "model_name": "LayoutModel",
      "state": {
       "align_items": "stretch",
       "display": "flex",
       "flex_flow": "row wrap",
       "width": "auto"
      }
     },
     "c445e0153f104ff48527575071091777": {
      "model_module": "@jupyter-widgets/controls",
      "model_module_version": "1.5.0",
      "model_name": "HBoxModel",
      "state": {
       "children": [
        "IPY_MODEL_1ebc5411aac143acba87a2aa0e992ba5",
        "IPY_MODEL_ecf0f1ce7db74f24ba88d8cc7c623817"
       ],
       "layout": "IPY_MODEL_6a056574d541437b90186848b80aebc2"
      }
     },
     "c65117bbe7f34daf8d500df24cafc677": {
      "model_module": "@jupyter-widgets/controls",
      "model_module_version": "1.5.0",
      "model_name": "HBoxModel",
      "state": {
       "children": [
        "IPY_MODEL_a3b33d2aba8a4ad9b13f018d6f97f7a4",
        "IPY_MODEL_ae9abbdce9e24a9ea1b647394a822b11"
       ],
       "layout": "IPY_MODEL_a69de48b2ccb44e6981f38dee80c017d"
      }
     },
     "c671434149f24e4f9bc57ad5270274b6": {
      "model_module": "@jupyter-widgets/controls",
      "model_module_version": "1.5.0",
      "model_name": "HBoxModel",
      "state": {
       "children": [
        "IPY_MODEL_bd5de93c71f14ede94c36a3522d16c1d",
        "IPY_MODEL_2dc1a6b07e3b4e17afd8ad52f81eca75"
       ],
       "layout": "IPY_MODEL_c3d66ca732e4406f83d0692b62f6ec92"
      }
     },
     "c7497eb17e794c6c831215646375c2b7": {
      "model_module": "@jupyter-widgets/controls",
      "model_module_version": "1.5.0",
      "model_name": "ButtonModel",
      "state": {
       "description": "Submit",
       "layout": "IPY_MODEL_ba73d7b8e569460d9de64fe4a118aabe",
       "style": "IPY_MODEL_5ac8c5ed62fc45feaf43947957f5ff70"
      }
     },
     "c88020535932411a8b91a03cad9349c2": {
      "model_module": "@jupyter-widgets/controls",
      "model_module_version": "1.5.0",
      "model_name": "DescriptionStyleModel",
      "state": {
       "description_width": ""
      }
     },
     "cbc03bdc3ceb46a38d0dbbea69bcd277": {
      "model_module": "@jupyter-widgets/base",
      "model_module_version": "1.2.0",
      "model_name": "LayoutModel",
      "state": {
       "align_items": "stretch",
       "display": "flex",
       "flex_flow": "row wrap",
       "margin": "30px 0 0 0"
      }
     },
     "cbc353c01703423f8fbad5f0c3826dd5": {
      "model_module": "@jupyter-widgets/base",
      "model_module_version": "1.2.0",
      "model_name": "LayoutModel",
      "state": {}
     },
     "cc4b8444ffdc44caaf742d88ebac1255": {
      "model_module": "@jupyter-widgets/controls",
      "model_module_version": "1.5.0",
      "model_name": "HBoxModel",
      "state": {
       "children": [
        "IPY_MODEL_fde707822ebd4b34a10e26e60e930559",
        "IPY_MODEL_b5d7aecb44e049afaef96e459bc9dc76"
       ],
       "layout": "IPY_MODEL_70df6cab67cd401fb37e7948eeb8aeac"
      }
     },
     "cd350222e3f6415ab6f2832bc1a5538d": {
      "model_module": "@jupyter-widgets/controls",
      "model_module_version": "1.5.0",
      "model_name": "DescriptionStyleModel",
      "state": {
       "description_width": "initial"
      }
     },
     "ceb02f402ab44a339e646a97cb82c9f8": {
      "model_module": "@jupyter-widgets/base",
      "model_module_version": "1.2.0",
      "model_name": "LayoutModel",
      "state": {
       "width": "30px"
      }
     },
     "d051e455f24646a4a6c7e669de1be9d2": {
      "model_module": "@jupyter-widgets/controls",
      "model_module_version": "1.5.0",
      "model_name": "HTMLModel",
      "state": {
       "layout": "IPY_MODEL_78061a91778e4b30b968482627dbb3bb",
       "style": "IPY_MODEL_7182afbf27494aaaa92ab631fdaa16a7",
       "value": "<style>p{word-wrap: break-word}</style> <p>recursive </p>"
      }
     },
     "d1079b35ecb64740a6651beece7ac596": {
      "model_module": "@jupyter-widgets/controls",
      "model_module_version": "1.5.0",
      "model_name": "CheckboxModel",
      "state": {
       "disabled": false,
       "layout": "IPY_MODEL_2cab71fcd51c4839a475ce091467d63c",
       "style": "IPY_MODEL_0f13bea2bac34502905e4abe06ccca51",
       "value": false
      }
     },
     "d1faa3f5b89e4689949e1690ef1c0494": {
      "model_module": "@jupyter-widgets/base",
      "model_module_version": "1.2.0",
      "model_name": "LayoutModel",
      "state": {}
     },
     "d2f119e8c0224582bdda0ddd37bad0f6": {
      "model_module": "@jupyter-widgets/controls",
      "model_module_version": "1.5.0",
      "model_name": "HTMLModel",
      "state": {
       "layout": "IPY_MODEL_209249664a154c978b5228cbc9b81230",
       "style": "IPY_MODEL_c35b76625d8f46eb8d109d67033f159c",
       "value": "<style>p{word-wrap: break-word}</style> <p>Which terms describe the algorithm above? </p>"
      }
     },
     "d5155d5392e84649aaced970fecd180e": {
      "model_module": "@jupyter-widgets/controls",
      "model_module_version": "1.5.0",
      "model_name": "HTMLModel",
      "state": {
       "layout": "IPY_MODEL_d1faa3f5b89e4689949e1690ef1c0494",
       "style": "IPY_MODEL_905726286a694091a4738fdf3b5595f3",
       "value": "<style>p{word-wrap: break-word}</style> <p>p </p>"
      }
     },
     "d7a6c628947242888dc0b9019cf383d2": {
      "model_module": "@jupyter-widgets/base",
      "model_module_version": "1.2.0",
      "model_name": "LayoutModel",
      "state": {
       "align_items": "stretch",
       "display": "flex",
       "flex_flow": "column",
       "width": "100%"
      }
     },
     "d7e7dabb0679415f9d680b90f2bd027d": {
      "model_module": "@jupyter-widgets/base",
      "model_module_version": "1.2.0",
      "model_name": "LayoutModel",
      "state": {
       "width": "30px"
      }
     },
     "d7f256e1e076467fb70f05c7a8f37eef": {
      "model_module": "@jupyter-widgets/controls",
      "model_module_version": "1.5.0",
      "model_name": "HBoxModel",
      "state": {
       "children": [
        "IPY_MODEL_55b23b85e5114c21b94bac4833fe457c",
        "IPY_MODEL_65bf76a9bf22458dbbc08250acb34356"
       ],
       "layout": "IPY_MODEL_5355aa71bafd4b299eb3d9c6f98ea5fa"
      }
     },
     "d8738a9ae9db4f8780fab78b3b8f8b3b": {
      "model_module": "@jupyter-widgets/base",
      "model_module_version": "1.2.0",
      "model_name": "LayoutModel",
      "state": {}
     },
     "d8c0d6735327497b9b4884c305607b77": {
      "model_module": "@jupyter-widgets/controls",
      "model_module_version": "1.5.0",
      "model_name": "DescriptionStyleModel",
      "state": {
       "description_width": ""
      }
     },
     "d9c2b5514f5145d281984135c9bf453d": {
      "model_module": "@jupyter-widgets/base",
      "model_module_version": "1.2.0",
      "model_name": "LayoutModel",
      "state": {}
     },
     "da8c3826dec44a13bf859aa00504d144": {
      "model_module": "@jupyter-widgets/controls",
      "model_module_version": "1.5.0",
      "model_name": "ButtonModel",
      "state": {
       "description": "Submit",
       "layout": "IPY_MODEL_603305cf2ac4455fb538a109dbab3030",
       "style": "IPY_MODEL_878b644f89f448008fe104fa245e90a0"
      }
     },
     "db4e6f2a63eb453b9945b4c6449dfcd8": {
      "model_module": "@jupyter-widgets/controls",
      "model_module_version": "1.5.0",
      "model_name": "DescriptionStyleModel",
      "state": {
       "description_width": ""
      }
     },
     "dce721f9c9984352abc6c1554cd273b9": {
      "model_module": "@jupyter-widgets/base",
      "model_module_version": "1.2.0",
      "model_name": "LayoutModel",
      "state": {
       "align_items": "stretch",
       "display": "flex",
       "flex_flow": "row wrap",
       "width": "auto"
      }
     },
     "dfa458b35d4d43b6843ad2d8b7ab28cc": {
      "model_module": "@jupyter-widgets/controls",
      "model_module_version": "1.5.0",
      "model_name": "DescriptionStyleModel",
      "state": {
       "description_width": ""
      }
     },
     "e147024f20bb42dab49464f2aacece6e": {
      "model_module": "@jupyter-widgets/controls",
      "model_module_version": "1.5.0",
      "model_name": "HBoxModel",
      "state": {
       "children": [
        "IPY_MODEL_31d6b1e86f9d4aecb1a65ca8537351a5",
        "IPY_MODEL_f064853a235c41afbe0fa11da578dfa5"
       ],
       "layout": "IPY_MODEL_9662aeaaf20c446eac2bd7dd6fe0c02c"
      }
     },
     "e2ec5a446d4945f3884f279b4a0001d8": {
      "model_module": "@jupyter-widgets/controls",
      "model_module_version": "1.5.0",
      "model_name": "ButtonModel",
      "state": {
       "description": "Show answer",
       "disabled": true,
       "layout": "IPY_MODEL_75ac021048c94b29b092bbdd48719c8a",
       "style": "IPY_MODEL_aec22e2b925c4bc5a20fcc33b0ce4769"
      }
     },
     "e37a62aae03d4407b9ce7329374ed009": {
      "model_module": "@jupyter-widgets/base",
      "model_module_version": "1.2.0",
      "model_name": "LayoutModel",
      "state": {
       "width": "30px"
      }
     },
     "e406354fb44243e184c1fa3ff603a4c1": {
      "model_module": "@jupyter-widgets/base",
      "model_module_version": "1.2.0",
      "model_name": "LayoutModel",
      "state": {
       "align_items": "stretch",
       "display": "flex",
       "flex_flow": "column",
       "width": "100%"
      }
     },
     "e5c8c2425e3d4ce7a898f9d4904ac8e5": {
      "model_module": "@jupyter-widgets/base",
      "model_module_version": "1.2.0",
      "model_name": "LayoutModel",
      "state": {
       "align_items": "stretch",
       "display": "flex",
       "flex_flow": "row wrap",
       "width": "auto"
      }
     },
     "e61fe059bab9483986359522f4adb482": {
      "model_module": "@jupyter-widgets/controls",
      "model_module_version": "1.5.0",
      "model_name": "DescriptionStyleModel",
      "state": {
       "description_width": ""
      }
     },
     "e7697b25268340219ab34d1c2dee88e2": {
      "model_module": "@jupyter-widgets/base",
      "model_module_version": "1.2.0",
      "model_name": "LayoutModel",
      "state": {}
     },
     "e7bc8b7bafc24921926fb3d2a9860b49": {
      "model_module": "@jupyter-widgets/base",
      "model_module_version": "1.2.0",
      "model_name": "LayoutModel",
      "state": {
       "width": "30px"
      }
     },
     "e7c38e3a434c4e9f82a4029622790fe3": {
      "model_module": "@jupyter-widgets/controls",
      "model_module_version": "1.5.0",
      "model_name": "LabelModel",
      "state": {
       "layout": "IPY_MODEL_5cc0d393750a44f7b9b1640dbb6c36df",
       "style": "IPY_MODEL_db4e6f2a63eb453b9945b4c6449dfcd8"
      }
     },
     "e83b09da4cab44ab9a60b36476e7ff1c": {
      "model_module": "@jupyter-widgets/controls",
      "model_module_version": "1.5.0",
      "model_name": "DescriptionStyleModel",
      "state": {
       "description_width": ""
      }
     },
     "e93089773f41491c956fae51c86d9c24": {
      "model_module": "@jupyter-widgets/controls",
      "model_module_version": "1.5.0",
      "model_name": "DescriptionStyleModel",
      "state": {
       "description_width": ""
      }
     },
     "e938f34805924c66b75c231b35d54fbd": {
      "model_module": "@jupyter-widgets/controls",
      "model_module_version": "1.5.0",
      "model_name": "HBoxModel",
      "state": {
       "children": [
        "IPY_MODEL_949f387fb05b46d4b647dbbe670f3ebe",
        "IPY_MODEL_b8f30952d3da427cb3372ed675199822"
       ],
       "layout": "IPY_MODEL_1d3c838a00bd47a2aa58c9b2264718c7"
      }
     },
     "e9c66f9f2076416995b8ac45039ef7dd": {
      "model_module": "@jupyter-widgets/base",
      "model_module_version": "1.2.0",
      "model_name": "LayoutModel",
      "state": {
       "align_items": "stretch",
       "display": "flex",
       "flex_flow": "row wrap",
       "width": "auto"
      }
     },
     "e9db105445eb4531bba83454b6f03a67": {
      "model_module": "@jupyter-widgets/base",
      "model_module_version": "1.2.0",
      "model_name": "LayoutModel",
      "state": {}
     },
     "ecf0f1ce7db74f24ba88d8cc7c623817": {
      "model_module": "@jupyter-widgets/controls",
      "model_module_version": "1.5.0",
      "model_name": "HTMLModel",
      "state": {
       "layout": "IPY_MODEL_d9c2b5514f5145d281984135c9bf453d",
       "style": "IPY_MODEL_6cbadc312dcd47c998e503b47c800ae5",
       "value": "<style>p{word-wrap: break-word}</style> <p>Solutions are styled in a yellow warning colour, so don't peek! </p>"
      }
     },
     "ed260a8d42b2449d917415981e5a48eb": {
      "model_module": "@jupyter-widgets/controls",
      "model_module_version": "1.5.0",
      "model_name": "HBoxModel",
      "state": {
       "children": [
        "IPY_MODEL_3201835188a84574a06d5c217536ad0d",
        "IPY_MODEL_707df91958e3493fb3c23cf300a1f5e6"
       ],
       "layout": "IPY_MODEL_51baf84b113e46be84084094387e074d"
      }
     },
     "edb38de932564acdb3aab1e9e59a844e": {
      "model_module": "@jupyter-widgets/controls",
      "model_module_version": "1.5.0",
      "model_name": "CheckboxModel",
      "state": {
       "disabled": false,
       "layout": "IPY_MODEL_c14f7dcb91fa4795bb49965763cdcadb",
       "style": "IPY_MODEL_8eccde17d1f5450d85cc3db15e96847e",
       "value": false
      }
     },
     "edcdfc2e2e1440b68ea2b32fb06d7002": {
      "model_module": "@jupyter-widgets/controls",
      "model_module_version": "1.5.0",
      "model_name": "HBoxModel",
      "state": {
       "children": [
        "IPY_MODEL_da8c3826dec44a13bf859aa00504d144",
        "IPY_MODEL_8515622532134f7c83fde9e5e347f263",
        "IPY_MODEL_715ea3ec9ef64393a201037770263c02"
       ],
       "layout": "IPY_MODEL_cbc03bdc3ceb46a38d0dbbea69bcd277"
      }
     },
     "ee95389d14df414686b3409078386204": {
      "model_module": "@jupyter-widgets/controls",
      "model_module_version": "1.5.0",
      "model_name": "HBoxModel",
      "state": {
       "children": [
        "IPY_MODEL_5cdbd71cf60040c2a92a26664e89b432",
        "IPY_MODEL_d7f256e1e076467fb70f05c7a8f37eef"
       ],
       "layout": "IPY_MODEL_4619eec6a1cd42e1a96345ac58ba1cab"
      }
     },
     "ef8f2a7805e8418e9a8501c6e2fff9d7": {
      "model_module": "@jupyter-widgets/base",
      "model_module_version": "1.2.0",
      "model_name": "LayoutModel",
      "state": {}
     },
     "f05c39fa890f46228e8909f1323b5cbc": {
      "model_module": "@jupyter-widgets/controls",
      "model_module_version": "1.5.0",
      "model_name": "CheckboxModel",
      "state": {
       "disabled": false,
       "layout": "IPY_MODEL_8b9434f255e64743a40d584aa7536c4b",
       "style": "IPY_MODEL_8ebc415f10c349b286ead5ec400d4d78",
       "value": false
      }
     },
     "f064853a235c41afbe0fa11da578dfa5": {
      "model_module": "@jupyter-widgets/controls",
      "model_module_version": "1.5.0",
      "model_name": "HTMLModel",
      "state": {
       "layout": "IPY_MODEL_7320421803a24625a8d917c959fd0cef",
       "style": "IPY_MODEL_0a65121466014443916c46c7c204c356",
       "value": "<style>p{word-wrap: break-word}</style> <p>You can quickly collapse a code cell by clicking the selection bar to its left. </p>"
      }
     },
     "f093fc2416f244dbaf8728a4cda8b14b": {
      "model_module": "@jupyter-widgets/controls",
      "model_module_version": "1.5.0",
      "model_name": "DescriptionStyleModel",
      "state": {
       "description_width": "initial"
      }
     },
     "f189ee5f6ea042c4b329caf7605280b9": {
      "model_module": "@jupyter-widgets/controls",
      "model_module_version": "1.5.0",
      "model_name": "CheckboxModel",
      "state": {
       "disabled": false,
       "layout": "IPY_MODEL_ceb02f402ab44a339e646a97cb82c9f8",
       "style": "IPY_MODEL_b8b49b39bf614f4b95252b61106ef3cc",
       "value": false
      }
     },
     "f2b539aea5bc48ea8a5686b84b7e76c0": {
      "model_module": "@jupyter-widgets/base",
      "model_module_version": "1.2.0",
      "model_name": "LayoutModel",
      "state": {
       "display": "flex",
       "flex_flow": "row",
       "justify_content": "space-between",
       "margin": "0 0 20px 0"
      }
     },
     "f3f4c75d8d94439abd95a382386df2f4": {
      "model_module": "@jupyter-widgets/base",
      "model_module_version": "1.2.0",
      "model_name": "LayoutModel",
      "state": {
       "align_items": "stretch",
       "display": "flex",
       "flex_flow": "row wrap",
       "width": "auto"
      }
     },
     "f4b575b55c4b42ecb96460f9bcbeb1db": {
      "model_module": "@jupyter-widgets/controls",
      "model_module_version": "1.5.0",
      "model_name": "HBoxModel",
      "state": {
       "children": [
        "IPY_MODEL_3cacd2c079d64c618b50713de02faebd",
        "IPY_MODEL_2b98d3e17298412686a675a919c1e4f1"
       ],
       "layout": "IPY_MODEL_bd0fb8c801544431854bbd1d501e92d1"
      }
     },
     "f55440c5e29e44b689fd3d69d4b7d4d3": {
      "model_module": "@jupyter-widgets/base",
      "model_module_version": "1.2.0",
      "model_name": "LayoutModel",
      "state": {}
     },
     "f734a9fd6c2f4da48e727b65de774308": {
      "model_module": "@jupyter-widgets/controls",
      "model_module_version": "1.5.0",
      "model_name": "LabelModel",
      "state": {
       "layout": "IPY_MODEL_cbc353c01703423f8fbad5f0c3826dd5",
       "style": "IPY_MODEL_a6362cddcdac4042b14535acc41da510"
      }
     },
     "f813c152e4294a978fefd1b9d395b1ea": {
      "model_module": "@jupyter-widgets/base",
      "model_module_version": "1.2.0",
      "model_name": "LayoutModel",
      "state": {}
     },
     "f8ddc8f0962c466e9d086a5f6532f8fb": {
      "model_module": "@jupyter-widgets/controls",
      "model_module_version": "1.5.0",
      "model_name": "HBoxModel",
      "state": {
       "children": [
        "IPY_MODEL_04de17a9695c42d3b54697c90e5a7ec0",
        "IPY_MODEL_abae25bb4bdb46d7a48efe1201a5a52d"
       ],
       "layout": "IPY_MODEL_ba55309962cf47dd9f33a094a7dce39b"
      }
     },
     "f8de2a62f61d44119c45d65e78ffbd9b": {
      "model_module": "@jupyter-widgets/controls",
      "model_module_version": "1.5.0",
      "model_name": "DescriptionStyleModel",
      "state": {
       "description_width": ""
      }
     },
     "fad79eab7a33412280f5cfc4688b3d52": {
      "model_module": "@jupyter-widgets/controls",
      "model_module_version": "1.5.0",
      "model_name": "DescriptionStyleModel",
      "state": {
       "description_width": ""
      }
     },
     "fb3f7e0951e14da5881242515fae8d93": {
      "model_module": "@jupyter-widgets/controls",
      "model_module_version": "1.5.0",
      "model_name": "HBoxModel",
      "state": {
       "children": [
        "IPY_MODEL_9c6409efb07a44bba082e5e2fe266316",
        "IPY_MODEL_231f7bcfc60b41c7a3d3d9af86ed91b7"
       ],
       "layout": "IPY_MODEL_e5c8c2425e3d4ce7a898f9d4904ac8e5"
      }
     },
     "fb70e57f671646a1a08ddc3d93cac9d4": {
      "model_module": "@jupyter-widgets/controls",
      "model_module_version": "1.5.0",
      "model_name": "CheckboxModel",
      "state": {
       "disabled": false,
       "layout": "IPY_MODEL_44f415b9ed934eb8b7382db49b8aea72",
       "style": "IPY_MODEL_fd7624b33a314d30b244a389fcf16e5a",
       "value": false
      }
     },
     "fd7624b33a314d30b244a389fcf16e5a": {
      "model_module": "@jupyter-widgets/controls",
      "model_module_version": "1.5.0",
      "model_name": "DescriptionStyleModel",
      "state": {
       "description_width": "initial"
      }
     },
     "fde707822ebd4b34a10e26e60e930559": {
      "model_module": "@jupyter-widgets/controls",
      "model_module_version": "1.5.0",
      "model_name": "CheckboxModel",
      "state": {
       "disabled": false,
       "layout": "IPY_MODEL_3f97b8bb8a504909b5856d0f7f3602d4",
       "style": "IPY_MODEL_ad6efae3201047f782a52e298cfd7f62",
       "value": false
      }
     }
    },
    "version_major": 2,
    "version_minor": 0
   }
  }
 },
 "nbformat": 4,
 "nbformat_minor": 4
}