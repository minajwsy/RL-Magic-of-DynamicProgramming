{
 "cells": [
  {
   "cell_type": "markdown",
   "metadata": {
    "collapsed": true
   },
   "source": [
    "\n",
    "# Lesson 1: Memoization <a class=\"tocSkip\">"
   ]
  },
  {
   "cell_type": "markdown",
   "metadata": {},
   "source": [
    "## What is memoization?\n",
    "Memoization is storing the output of a function in order to reuse it again. It's going to come in handy to make our dynamic programming algorithms efficient."
   ]
  },
  {
   "cell_type": "markdown",
   "metadata": {},
   "source": [
    "## When can you apply memoization?"
   ]
  },
  {
   "cell_type": "markdown",
   "metadata": {},
   "source": [
    "Before you rush to apply memoization to an algorithm, it is important to understand when the technique can be applied and when it can't. In short, memoization can be applied to computer functions which are also [mathematical functions](https://en.wikipedia.org/wiki/Function_(mathematics)). Although we use the same word 'function' to describe both things - a computer procedure and a binary relation over 2 sets .. it is not always the same."
   ]
  },
  {
   "cell_type": "markdown",
   "metadata": {},
   "source": [
    "### Pure functions\n",
    "Any computer function that is also a function in a mathematical sense is called a **pure function**. \n",
    "\n",
    "To be pure, a function must:\n",
    "\n",
    "1. Depend _only_ on its input: i.e. for identical input, it _always_ returns the same output! (that's called: **deterministic**)\n",
    "2. Behaviour of the calling program will _not change_ if you replace the function with the value it returns (that's called: **referencially transparent**).\n",
    "\n",
    "Because of these properties, pure functions are the types of functions that can be memoized.\n",
    "\n",
    "In the following exercise, think about when two consecutive calls to the _same_ function, with the _same_ input could return _different_ output."
   ]
  },
  {
   "cell_type": "code",
   "execution_count": 47,
   "metadata": {},
   "outputs": [
    {
     "data": {
      "application/vnd.jupyter.widget-view+json": {
       "model_id": "7f81739f66fc414588f795027afd1577",
       "version_major": 2,
       "version_minor": 0
      },
      "text/plain": [
       "AppLayout(box_style='info', children=(HBox(children=(Label(value='Which functions below are likely to be pure?…"
      ]
     },
     "metadata": {},
     "output_type": "display_data"
    }
   ],
   "source": [
    "%run quizzes/quiz.py quizzes/01/pure_functions.json"
   ]
  },
  {
   "cell_type": "markdown",
   "metadata": {},
   "source": [
    "Examine the following functions. Are they pure? Why or why not?\n",
    "\n",
    "---\n",
    "**Program A**\n",
    "\n",
    "    import random\n",
    "    g = 0\n",
    "\n",
    "    def foo(x):\n",
    "        g = g + random.random())\n",
    "        return True\n",
    " \n",
    "    foo(5)\n",
    "---    \n",
    "    \n",
    "**Program B**\n",
    "\n",
    "    import random\n",
    "\n",
    "    def bar(x):\n",
    "        return x + random.random()\n",
    "\n",
    "    bar(5)\n",
    "---    "
   ]
  },
  {
   "cell_type": "code",
   "execution_count": 48,
   "metadata": {},
   "outputs": [
    {
     "data": {
      "application/vnd.jupyter.widget-view+json": {
       "model_id": "8f27710870464a0db6d8d1e999f00168",
       "version_major": 2,
       "version_minor": 0
      },
      "text/plain": [
       "AppLayout(box_style='info', children=(HBox(children=(Label(value='Which of the following statements are true c…"
      ]
     },
     "metadata": {},
     "output_type": "display_data"
    }
   ],
   "source": [
    "%run quizzes/quiz.py quizzes/01/pure_functions2.json"
   ]
  },
  {
   "cell_type": "markdown",
   "metadata": {},
   "source": [
    "So as we have seen, any function that depends on states or has side-effects is probably _not_ a good candidate for memoization."
   ]
  },
  {
   "cell_type": "markdown",
   "metadata": {},
   "source": [
    "## Memoization - A Best Practice Tip for Implementing the Algorithm\n",
    "Suppose you write and debug a function. The function works well, you are very proud of yourself. But it is called way too many times by the calling program and the program is inefficient because of this. You carefully determine that your function is pure, and it can be memoized.\n",
    "\n",
    "If the function, for example fib() is recursive, you have a problem: the calling function is fib() - and this means that in order to replace fib() with its return value, you'll have to make changes in fib() itself...\n",
    "\n",
    "The decorator design pattern comes to you rescue: you can keep your function as is, and sort of wrap it up in a memoization function. The nice thing about this, is that you can memoize the function without changing the structure of your recursive algorithm at all!!\n",
    "\n",
    "### Why use Python's function decorator?\n",
    "\n",
    "Why is this so good? Firstly, you don't have to debug your function again. But secondly, since we are aiming towards dynamic programming, it's important not to lose sight of the subproblems of your original problem. Your original recursive program is where you cleanly defined the sub-problems, and you don't want to mess that up.\n",
    "\n",
    "I'll show you how this is done in Python and we'll use it in the next section to memoize fibonacci."
   ]
  },
  {
   "cell_type": "code",
   "execution_count": 49,
   "metadata": {},
   "outputs": [],
   "source": [
    "def factorial(k):\n",
    "    if k < 2: return 1\n",
    "    return k * factorial(k - 1)"
   ]
  },
  {
   "cell_type": "code",
   "execution_count": 50,
   "metadata": {},
   "outputs": [
    {
     "name": "stdout",
     "output_type": "stream",
     "text": [
      "Wall time: 0 ns\n"
     ]
    }
   ],
   "source": [
    "%%time\n",
    "\n",
    "#factorial(1000)"
   ]
  },
  {
   "cell_type": "code",
   "execution_count": 51,
   "metadata": {},
   "outputs": [],
   "source": [
    "def fib(n):\n",
    "    if n < 2:\n",
    "        return 1\n",
    "    return fib(n-1) + fib(n-2)"
   ]
  },
  {
   "cell_type": "code",
   "execution_count": 52,
   "metadata": {},
   "outputs": [
    {
     "name": "stdout",
     "output_type": "stream",
     "text": [
      "Wall time: 4.5 s\n"
     ]
    },
    {
     "data": {
      "text/plain": [
       "24157817"
      ]
     },
     "execution_count": 52,
     "metadata": {},
     "output_type": "execute_result"
    }
   ],
   "source": [
    "%%time\n",
    "\n",
    "fib(36)"
   ]
  },
  {
   "cell_type": "markdown",
   "metadata": {},
   "source": [
    "Write a memoize function which we will use to 'decorate' factorial."
   ]
  },
  {
   "cell_type": "code",
   "execution_count": 53,
   "metadata": {},
   "outputs": [],
   "source": [
    "def memoize(f):\n",
    "    memo = {}\n",
    "    def helper(x):\n",
    "        if x not in memo:            \n",
    "            memo[x] = f(x)\n",
    "        return memo[x]\n",
    "    return helper\n",
    "\n",
    "def factorial(k):\n",
    "    if k < 2: return 1\n",
    "    return k * factorial(k - 1)\n"
   ]
  },
  {
   "cell_type": "markdown",
   "metadata": {},
   "source": [
    "The memoize function takes in the factorial function and returns a helper function. This helper function is a memoized version of factorial."
   ]
  },
  {
   "cell_type": "code",
   "execution_count": 54,
   "metadata": {},
   "outputs": [
    {
     "data": {
      "text/plain": [
       "2432902008176640000"
      ]
     },
     "execution_count": 54,
     "metadata": {},
     "output_type": "execute_result"
    }
   ],
   "source": [
    "helper = memoize(factorial)\n",
    "helper(20)"
   ]
  },
  {
   "cell_type": "code",
   "execution_count": 55,
   "metadata": {},
   "outputs": [
    {
     "data": {
      "text/plain": [
       "120"
      ]
     },
     "execution_count": 55,
     "metadata": {},
     "output_type": "execute_result"
    }
   ],
   "source": [
    "memoized_factorial = memoize(factorial)\n",
    "memoized_factorial(5)"
   ]
  },
  {
   "cell_type": "markdown",
   "metadata": {},
   "source": [
    "Now we'll decorate factorial with memoize using the Python decorator syntax '@memoize'."
   ]
  },
  {
   "cell_type": "code",
   "execution_count": 56,
   "metadata": {},
   "outputs": [],
   "source": [
    "def memoize(f):\n",
    "    memo = {}\n",
    "    def helper(x):\n",
    "        if x not in memo:            \n",
    "            memo[x] = f(x)\n",
    "        return memo[x]\n",
    "    return helper\n",
    "\n",
    "@memoize\n",
    "def factorial(k):\n",
    "    if k < 2: return 1\n",
    "    return k * factorial(k - 1)"
   ]
  },
  {
   "cell_type": "markdown",
   "metadata": {},
   "source": [
    "Now that we're done, profile factorial before and after memoization. You should see quite a difference when n is large."
   ]
  },
  {
   "cell_type": "code",
   "execution_count": 57,
   "metadata": {},
   "outputs": [
    {
     "name": "stdout",
     "output_type": "stream",
     "text": [
      "Wall time: 0 ns\n"
     ]
    }
   ],
   "source": [
    "%%time\n",
    "\n",
    "#factorial(1000)"
   ]
  },
  {
   "cell_type": "markdown",
   "metadata": {},
   "source": [
    "## References\n",
    "\n",
    "1. Andres, F. (n.d.). functional programming—What do you call a function where the same input will always return the same output, but also has side effects? Software Engineering Stack Exchange. Retrieved July 9, 2020, from https://softwareengineering.stackexchange.com/a/317249\n",
    "\n",
    "2. Forišek, M. (2015). Towards a better way to teach dynamic programming. Olympiads in Informatics, 9, 45–55.\n",
    "\n",
    "3. Klein, B. (n.d.). Python Tutorial: Memoization and Decorators. Python Course. Retrieved June 17, 2020, from https://www.python-course.eu/python3_memoization.php\n",
    " "
   ]
  }
 ],
 "metadata": {
  "kernelspec": {
   "display_name": "Python 3",
   "language": "python",
   "name": "python3"
  },
  "language_info": {
   "codemirror_mode": {
    "name": "ipython",
    "version": 3
   },
   "file_extension": ".py",
   "mimetype": "text/x-python",
   "name": "python",
   "nbconvert_exporter": "python",
   "pygments_lexer": "ipython3",
   "version": "3.7.6"
  },
  "latex_envs": {
   "LaTeX_envs_menu_present": true,
   "autoclose": true,
   "autocomplete": true,
   "bibliofile": "biblio.bib",
   "cite_by": "apalike",
   "current_citInitial": 1,
   "eqLabelWithNumbers": true,
   "eqNumInitial": 1,
   "hotkeys": {
    "equation": "Ctrl-E",
    "itemize": "Ctrl-I"
   },
   "labels_anchors": false,
   "latex_user_defs": false,
   "report_style_numbering": false,
   "user_envs_cfg": false
  },
  "toc": {
   "base_numbering": 1,
   "nav_menu": {},
   "number_sections": false,
   "sideBar": true,
   "skip_h1_title": false,
   "title_cell": "Table of Contents",
   "title_sidebar": "Contents",
   "toc_cell": false,
   "toc_position": {},
   "toc_section_display": true,
   "toc_window_display": true
  }
 },
 "nbformat": 4,
 "nbformat_minor": 1
}