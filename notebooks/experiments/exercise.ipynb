{
 "cells": [
  {
   "cell_type": "markdown",
   "metadata": {
    "toc": true
   },
   "source": [
    "<h1>Table of Contents<span class=\"tocSkip\"></span></h1>\n",
    "<div class=\"toc\"><ul class=\"toc-item\"><li><ul class=\"toc-item\"><li><span><a href=\"#Solution-is-in-the-notebook\" data-toc-modified-id=\"Solution-is-in-the-notebook-0.1\"><span class=\"toc-item-num\">0.1&nbsp;&nbsp;</span>Solution is in the notebook</a></span></li></ul></li><li><span><a href=\"#Solution-is-shown-using-HTML\" data-toc-modified-id=\"Solution-is-shown-using-HTML-1\"><span class=\"toc-item-num\">1&nbsp;&nbsp;</span>Solution is shown using HTML</a></span><ul class=\"toc-item\"><li><span><a href=\"#Solution-is-loaded-from-a-file\" data-toc-modified-id=\"Solution-is-loaded-from-a-file-1.1\"><span class=\"toc-item-num\">1.1&nbsp;&nbsp;</span>Solution is loaded from a file</a></span></li></ul></li></ul></div>"
   ]
  },
  {
   "cell_type": "markdown",
   "metadata": {
    "collapsed": true
   },
   "source": [
    "# Experiments in show/hide solutions"
   ]
  },
  {
   "cell_type": "markdown",
   "metadata": {
    "solution2": "hidden",
    "solution2_first": true
   },
   "source": [
    "#### Solution is in the notebook\n",
    "<hr>\n",
    "Now let's practice coding a recursive function\n",
    "<hr>\n",
    "<span style='background:#73FA7E'>\n",
    "    Implement a function in Python to determine if a given string is a palindrome\n",
    "</span>"
   ]
  },
  {
   "cell_type": "code",
   "execution_count": 15,
   "metadata": {
    "pycharm": {
     "name": "#%%\n"
    },
    "solution2": "hidden"
   },
   "outputs": [],
   "source": [
    "def is_palindrome(s):\n",
    "\n",
    "    n = len(s)\n",
    "\n",
    "    if n == 0 or n == 1:\n",
    "        return True\n",
    "    return (s[0] == s[n - 1] and is_palindrome(s[1:n - 1]))"
   ]
  },
  {
   "cell_type": "markdown",
   "metadata": {},
   "source": [
    "### Solution is shown using HTML"
   ]
  },
  {
   "cell_type": "markdown",
   "metadata": {
    "pycharm": {
     "name": "#%% md\n"
    },
    "solution2": "shown",
    "solution2_first": true
   },
   "source": [
    "#### Solution is loaded from a file\n",
    "<hr>\n",
    "Now let's practice coding a recursive function\n",
    "<hr>\n",
    "<span style='background:#73FA7E'>\n",
    "    Implement a function in Python to determine if a given string is a palindrome\n",
    "</span>"
   ]
  },
  {
   "cell_type": "code",
   "execution_count": null,
   "metadata": {
    "solution2": "shown"
   },
   "outputs": [],
   "source": [
    "# uncomment the following line and run the cell to see the solution\n",
    "%load ../lessons/solutions/00_solutions/is_palindrome.py\n",
    "def is_palindrome(s):\n",
    "\n",
    "    n = len(s)\n",
    "\n",
    "    if n == 0 or n == 1:\n",
    "        return 1\n",
    "    return s[0] == s[n - 1] and is_palindrome(s[1:n - 1])"
   ]
  },
  {
   "cell_type": "code",
   "execution_count": null,
   "metadata": {
    "pycharm": {
     "name": "#%%\n"
    }
   },
   "outputs": [],
   "source": [
    "%%HTML\n",
    "\n",
    "<details>\n",
    "<summary>Click here for the answer</summary>\n",
    "    <details>\n",
    "        <summary>Ha ha, click here for the answer</summary>\n",
    "            <hr>\n",
    "                The answer is 42\n",
    "        </details>\n",
    "</details>"
   ]
  },
  {
   "cell_type": "code",
   "execution_count": null,
   "metadata": {
    "pycharm": {
     "name": "#%%\n"
    }
   },
   "outputs": [],
   "source": []
  },
  {
   "cell_type": "code",
   "execution_count": 17,
   "metadata": {
    "hide_input": true
   },
   "outputs": [
    {
     "data": {
      "text/html": [
       "\n",
       "<details>\n",
       "<summary>Click here for the answer</summary>\n",
       "    <details>\n",
       "        <summary>Ha ha, click here for the answer</summary>\n",
       "            <hr>\n",
       "                The answer is 42\n",
       "        </details>\n",
       "</details>\n"
      ],
      "text/plain": [
       "<IPython.core.display.HTML object>"
      ]
     },
     "metadata": {},
     "output_type": "display_data"
    }
   ],
   "source": []
  },
  {
   "cell_type": "code",
   "execution_count": null,
   "metadata": {},
   "outputs": [],
   "source": []
  }
 ],
 "metadata": {
  "kernelspec": {
   "display_name": "Python 3",
   "language": "python",
   "name": "python3"
  },
  "language_info": {
   "codemirror_mode": {
    "name": "ipython",
    "version": 3
   },
   "file_extension": ".py",
   "mimetype": "text/x-python",
   "name": "python",
   "nbconvert_exporter": "python",
   "pygments_lexer": "ipython3",
   "version": "3.7.6"
  },
  "latex_envs": {
   "LaTeX_envs_menu_present": true,
   "autoclose": true,
   "autocomplete": true,
   "bibliofile": "biblio.bib",
   "cite_by": "apalike",
   "current_citInitial": 1,
   "eqLabelWithNumbers": true,
   "eqNumInitial": 1,
   "hotkeys": {
    "equation": "Ctrl-E",
    "itemize": "Ctrl-I"
   },
   "labels_anchors": false,
   "latex_user_defs": false,
   "report_style_numbering": false,
   "user_envs_cfg": false
  },
  "toc": {
   "base_numbering": 1,
   "nav_menu": {},
   "number_sections": true,
   "sideBar": true,
   "skip_h1_title": true,
   "title_cell": "Table of Contents",
   "title_sidebar": "Contents",
   "toc_cell": true,
   "toc_position": {},
   "toc_section_display": true,
   "toc_window_display": false
  }
 },
 "nbformat": 4,
 "nbformat_minor": 1
}
