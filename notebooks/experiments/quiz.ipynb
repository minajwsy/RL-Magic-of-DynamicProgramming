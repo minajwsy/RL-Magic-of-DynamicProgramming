{
 "cells": [
  {
   "cell_type": "markdown",
   "metadata": {
    "toc": true
   },
   "source": [
    "<h1>Table of Contents<span class=\"tocSkip\"></span></h1>\n",
    "<div class=\"toc\"><ul class=\"toc-item\"><li><ul class=\"toc-item\"><li><ul class=\"toc-item\"><li><span><a href=\"#Quiz:-What-is-my-name?\" data-toc-modified-id=\"Quiz:-What-is-my-name?-0.0.1\"><span class=\"toc-item-num\">0.0.1&nbsp;&nbsp;</span>Quiz: What is my name?</a></span></li></ul></li></ul></li><li><span><a href=\"#Is-this-a-question?\" data-toc-modified-id=\"Is-this-a-question?-1\"><span class=\"toc-item-num\">1&nbsp;&nbsp;</span>Is this a question?</a></span></li></ul></div>"
   ]
  },
  {
   "cell_type": "code",
   "execution_count": 293,
   "metadata": {},
   "outputs": [],
   "source": [
    "## Testing Quiz infrastructure ..."
   ]
  },
  {
   "cell_type": "markdown",
   "metadata": {
    "hide_input": false
   },
   "source": [
    "#### Quiz: What is my name?\n",
    "You can use LaTeX in the question: \\begin{equation*} F( n\\ -\\ k) \\end{equation*}\n",
    "\n",
    "And add code snippets - ask questions like 'what does the code return?'\n",
    "```\n",
    "if (isAwesome){\n",
    "  return true\n",
    "}\n",
    "```\n",
    "The question here is: What is my name?"
   ]
  },
  {
   "cell_type": "code",
   "execution_count": 297,
   "metadata": {
    "deletable": false,
    "hide_input": false,
    "init_cell": true
   },
   "outputs": [
    {
     "data": {
      "application/vnd.jupyter.widget-view+json": {
       "model_id": "0b4aa2e4b48a48c6a815924f480358ca",
       "version_major": 2,
       "version_minor": 0
      },
      "text/plain": [
       "VBox(box_style='info', children=(VBox(box_style='info', children=(HBox(children=(Label(value=''), Checkbox(val…"
      ]
     },
     "metadata": {},
     "output_type": "display_data"
    }
   ],
   "source": [
    "%run \"../quiz_code/quiz.py\" \"../quiz_code/00.00_whats_your_name.json\""
   ]
  },
  {
   "cell_type": "code",
   "execution_count": 295,
   "metadata": {
    "hide_input": true
   },
   "outputs": [
    {
     "data": {
      "application/vnd.jupyter.widget-view+json": {
       "model_id": "650e71179c7545abb2ce6b1eebc0a271",
       "version_major": 2,
       "version_minor": 0
      },
      "text/plain": [
       "VBox(box_style='info', children=(VBox(box_style='info', children=(HBox(children=(Label(value=''), Checkbox(val…"
      ]
     },
     "metadata": {},
     "output_type": "display_data"
    }
   ],
   "source": [
    "# Shift + Enter to reveal the quiz options\n",
    "%run \"../quiz_code/quiz.py\" \"../quiz_code/00.00_whats_your_name.json\""
   ]
  }
 ],
 "metadata": {
  "celltoolbar": "Edit Metadata",
  "kernelspec": {
   "display_name": "Python 3",
   "language": "python",
   "name": "python3"
  },
  "language_info": {
   "codemirror_mode": {
    "name": "ipython",
    "version": 3
   },
   "file_extension": ".py",
   "mimetype": "text/x-python",
   "name": "python",
   "nbconvert_exporter": "python",
   "pygments_lexer": "ipython3",
   "version": "3.7.6"
  },
  "latex_envs": {
   "LaTeX_envs_menu_present": true,
   "autoclose": true,
   "autocomplete": true,
   "bibliofile": "biblio.bib",
   "cite_by": "apalike",
   "current_citInitial": 1,
   "eqLabelWithNumbers": true,
   "eqNumInitial": 1,
   "hotkeys": {
    "equation": "Ctrl-E",
    "itemize": "Ctrl-I"
   },
   "labels_anchors": false,
   "latex_user_defs": false,
   "report_style_numbering": false,
   "user_envs_cfg": false
  },
  "toc": {
   "base_numbering": 1,
   "nav_menu": {},
   "number_sections": true,
   "sideBar": true,
   "skip_h1_title": true,
   "title_cell": "Table of Contents",
   "title_sidebar": "Contents",
   "toc_cell": true,
   "toc_position": {},
   "toc_section_display": true,
   "toc_window_display": false
  }
 },
 "nbformat": 4,
 "nbformat_minor": 1
}
